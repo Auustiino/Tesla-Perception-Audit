{
 "cells": [
  {
   "cell_type": "markdown",
   "id": "a50c4794",
   "metadata": {},
   "source": [
    "# Libraries"
   ]
  },
  {
   "cell_type": "code",
   "execution_count": 154,
   "id": "aa2ce17e",
   "metadata": {
    "scrolled": true
   },
   "outputs": [],
   "source": [
    "import pandas as pd\n",
    "import seaborn as sns\n",
    "import regex as re\n",
    "\n",
    "import spacy\n",
    "\n",
    "import tqdm\n",
    "\n",
    "import numpy as np\n",
    "\n",
    "from vaderSentiment.vaderSentiment import SentimentIntensityAnalyzer\n",
    "\n",
    "import pyLDAvis\n",
    "import pyLDAvis.gensim_models as gensim_models\n",
    "import pyLDAvis.gensim_models as gensimvis\n",
    "\n",
    "\n",
    "import gensim\n",
    "# from gensim.models import wrappers\n",
    "# from gensim.models.wrappers import LdaMallet\n",
    "import gensim.corpora as corpora\n",
    "from gensim.corpora import dictionary\n",
    "from gensim.utils import simple_preprocess\n",
    "from gensim.models.ldamulticore import LdaMulticore\n",
    "from gensim.models.coherencemodel import CoherenceModel\n",
    "\n",
    "from sklearn.feature_extraction.text import CountVectorizer, TfidfVectorizer\n",
    "from sklearn.model_selection import GridSearchCV\n",
    "from sklearn.decomposition import LatentDirichletAllocation, TruncatedSVD\n",
    "\n",
    "\n",
    "import nltk\n",
    "from nltk import pos_tag\n",
    "from nltk.corpus import stopwords\n",
    "from nltk.corpus import wordnet\n",
    "from nltk.tokenize import word_tokenize\n",
    "from nltk.stem.porter import PorterStemmer\n",
    "from nltk.stem.wordnet import WordNetLemmatizer\n",
    "\n",
    "\n",
    "from pprint import pprint\n",
    "\n",
    "import warnings\n",
    "warnings.filterwarnings(\"ignore\", category=DeprecationWarning) \n",
    "warnings.filterwarnings(\"ignore\", category=FutureWarning)"
   ]
  },
  {
   "cell_type": "markdown",
   "id": "c9cd69b8",
   "metadata": {},
   "source": [
    "# Importing -- Fixing columns"
   ]
  },
  {
   "cell_type": "code",
   "execution_count": 10,
   "id": "09b8b307",
   "metadata": {},
   "outputs": [],
   "source": [
    "full = pd.read_csv('Data/Data-Cleaned/238k-Uncleaned')"
   ]
  },
  {
   "cell_type": "code",
   "execution_count": 11,
   "id": "6bbd51c2",
   "metadata": {},
   "outputs": [
    {
     "data": {
      "text/html": [
       "<div>\n",
       "<style scoped>\n",
       "    .dataframe tbody tr th:only-of-type {\n",
       "        vertical-align: middle;\n",
       "    }\n",
       "\n",
       "    .dataframe tbody tr th {\n",
       "        vertical-align: top;\n",
       "    }\n",
       "\n",
       "    .dataframe thead th {\n",
       "        text-align: right;\n",
       "    }\n",
       "</style>\n",
       "<table border=\"1\" class=\"dataframe\">\n",
       "  <thead>\n",
       "    <tr style=\"text-align: right;\">\n",
       "      <th></th>\n",
       "      <th>tweets</th>\n",
       "    </tr>\n",
       "    <tr>\n",
       "      <th>Unnamed: 0</th>\n",
       "      <th></th>\n",
       "    </tr>\n",
       "  </thead>\n",
       "  <tbody>\n",
       "    <tr>\n",
       "      <th>1527025892458999814</th>\n",
       "      <td>@testcranker @ITGuy1959 My solar is 100% off g...</td>\n",
       "    </tr>\n",
       "    <tr>\n",
       "      <th>1527025892031086593</th>\n",
       "      <td>Boycott #Tesla #TeslaStock #ElonsProblems Vote...</td>\n",
       "    </tr>\n",
       "    <tr>\n",
       "      <th>1527025884690993153</th>\n",
       "      <td>@dinodlz @cmclymer Tesla never would have surv...</td>\n",
       "    </tr>\n",
       "    <tr>\n",
       "      <th>1527025878974271489</th>\n",
       "      <td>@MarketRebels @elwalvador It would be funny if...</td>\n",
       "    </tr>\n",
       "    <tr>\n",
       "      <th>1527025852008976384</th>\n",
       "      <td>@RiceAndrew Right - it's just his nonsense pos...</td>\n",
       "    </tr>\n",
       "    <tr>\n",
       "      <th>...</th>\n",
       "      <td>...</td>\n",
       "    </tr>\n",
       "    <tr>\n",
       "      <th>1525643350828777473</th>\n",
       "      <td>@ValueAnalyst1 Yes, beg - borrow and steal to ...</td>\n",
       "    </tr>\n",
       "    <tr>\n",
       "      <th>1525642529567571969</th>\n",
       "      <td>@iamDCinvestor Owh Have to rethink about my th...</td>\n",
       "    </tr>\n",
       "    <tr>\n",
       "      <th>1525639115051515909</th>\n",
       "      <td>@5050isaloss @cardano_whale Overused example, ...</td>\n",
       "    </tr>\n",
       "    <tr>\n",
       "      <th>1525633771009101828</th>\n",
       "      <td>@DomRobins0n @JoJoFromJerz Founded spaceX a ve...</td>\n",
       "    </tr>\n",
       "    <tr>\n",
       "      <th>1525630144647421952</th>\n",
       "      <td>@mmpadellan I want an EV, but Tesla is off the...</td>\n",
       "    </tr>\n",
       "  </tbody>\n",
       "</table>\n",
       "<p>237659 rows × 1 columns</p>\n",
       "</div>"
      ],
      "text/plain": [
       "                                                                tweets\n",
       "Unnamed: 0                                                            \n",
       "1527025892458999814  @testcranker @ITGuy1959 My solar is 100% off g...\n",
       "1527025892031086593  Boycott #Tesla #TeslaStock #ElonsProblems Vote...\n",
       "1527025884690993153  @dinodlz @cmclymer Tesla never would have surv...\n",
       "1527025878974271489  @MarketRebels @elwalvador It would be funny if...\n",
       "1527025852008976384  @RiceAndrew Right - it's just his nonsense pos...\n",
       "...                                                                ...\n",
       "1525643350828777473  @ValueAnalyst1 Yes, beg - borrow and steal to ...\n",
       "1525642529567571969  @iamDCinvestor Owh Have to rethink about my th...\n",
       "1525639115051515909  @5050isaloss @cardano_whale Overused example, ...\n",
       "1525633771009101828  @DomRobins0n @JoJoFromJerz Founded spaceX a ve...\n",
       "1525630144647421952  @mmpadellan I want an EV, but Tesla is off the...\n",
       "\n",
       "[237659 rows x 1 columns]"
      ]
     },
     "execution_count": 11,
     "metadata": {},
     "output_type": "execute_result"
    }
   ],
   "source": [
    "# Renaming tweets column, dropping unnamed column, making tweets strings\n",
    "\n",
    "full['tweets'] = full['0']\n",
    "full = full.drop(columns = '0')\n",
    "full.set_index('Unnamed: 0')\n",
    "# full['tweets'] = full['tweets'].astype('string')\n",
    "# full.dropna(inplace = True)"
   ]
  },
  {
   "cell_type": "markdown",
   "id": "afff9839",
   "metadata": {},
   "source": [
    "# Code for Sentiment ---- ---- NOT NEEDED FOR MODELING"
   ]
  },
  {
   "cell_type": "code",
   "execution_count": 8,
   "id": "4b0cf5e9",
   "metadata": {},
   "outputs": [],
   "source": [
    "# CODE WORKS --- JUST USE IT LATER \n",
    "\n",
    "# Adding Sentiment\n",
    "sia = SentimentIntensityAnalyzer()\n",
    "comp_dic = {}\n",
    "for i, tweet in full['tweets'].iteritems():\n",
    "    comp_dic[i] = sia.polarity_scores(tweet)['compound']\n",
    "\n",
    "comp_scores = pd.Series(comp_dic, name = 'sentiment')\n",
    "df_sent = full.merge(comp_scores, left_index = True, right_index = True)\n",
    "df = df_sent.set_index('Unnamed: 0')"
   ]
  },
  {
   "cell_type": "markdown",
   "id": "67a87f9a",
   "metadata": {},
   "source": [
    "# Preprocessing ---- will need to test different preprocessing later"
   ]
  },
  {
   "cell_type": "code",
   "execution_count": null,
   "id": "cb2a7a72",
   "metadata": {},
   "outputs": [],
   "source": [
    "\"\"\"\n",
    "The goal here is to get to a final model with the full data and an iteration of cleaned preprocessing\n",
    "Clean this notebook as much as possible\n",
    "make a copy of the notebook-- save the original and MUST get bi and trigrams to work\n",
    "\n",
    "\n",
    "\"\"\""
   ]
  },
  {
   "cell_type": "code",
   "execution_count": 12,
   "id": "22bb71f6",
   "metadata": {},
   "outputs": [],
   "source": [
    "def Series_Preprocessor(tweet):\n",
    "    stopWords = stopwords.words('english')\n",
    "    stopWords.extend(['tesla', 'c,', 'x', 't', 'p', 'amp'])\n",
    "    ps = PorterStemmer()\n",
    "    wnl = WordNetLemmatizer()\n",
    "\n",
    "        # helper function to change nltk's part of speech tagging to a wordnet format.\n",
    "    def pos_tagger(nltk_tag):\n",
    "        if nltk_tag.startswith('J'):\n",
    "            return wordnet.ADJ\n",
    "        elif nltk_tag.startswith('V'):\n",
    "            return wordnet.VERB\n",
    "        elif nltk_tag.startswith('N'):\n",
    "            return wordnet.NOUN\n",
    "        elif nltk_tag.startswith('R'):\n",
    "            return wordnet.ADV\n",
    "        else:         \n",
    "            return None \n",
    "    \n",
    "#   Lowercase all \n",
    "    tweet = tweet.lower()\n",
    "    \n",
    "#   Removing @ handles, links-- strip whitespace breaks and tabs\n",
    "    tweet = re.sub(r\"@\\w+|http\\S+\", \"\", tweet).strip().replace(\"\\r\", \"\").replace(\"\\n\", \"\").replace(\"\\t\", \"\")\n",
    "    \n",
    "#   Tokenize,make list of words, removing punctuation and stopwords\n",
    "    tweet = [x for x in word_tokenize(tweet) if ((x.isalpha()) & (x not in stopWords)) ]\n",
    "    \n",
    "#   Map part of speech tags to words and use words/tags to lemmatize accuratley\n",
    "    tweet = list(map(lambda x: (x[0], pos_tagger(x[1])), pos_tag(tweet))) \n",
    "    tweet = \" \".join([wnl.lemmatize(x[0], x[1]) for x in tweet if x[1] is not None])\n",
    "\n",
    "    return tweet "
   ]
  },
  {
   "cell_type": "code",
   "execution_count": 13,
   "id": "7bd4d94a",
   "metadata": {},
   "outputs": [],
   "source": [
    "df = full['tweets'].apply(Series_Preprocessor)"
   ]
  },
  {
   "cell_type": "markdown",
   "id": "c7cc0f21",
   "metadata": {},
   "source": [
    "## Need to make Bi and Tri Grams ---- Do this below"
   ]
  },
  {
   "cell_type": "code",
   "execution_count": 14,
   "id": "316f7d22",
   "metadata": {},
   "outputs": [],
   "source": [
    "# remove punctuation\n",
    "full['preprep'] = full['tweets'].map(lambda x: re.sub('[,\\.!?]', '', x))\n",
    "# Lowercase\n",
    "full['preprep'] = full['preprep'].map(lambda x: x.lower())\n",
    "# #   Removing @ handles, links-- strip whitespace breaks and tabs\n",
    "full['preprep'] = full['preprep'].map(lambda x: re.sub(r\"@\\w+|http\\S+\", \"\", x).strip().replace(\"\\r\", \"\").replace(\"\\n\", \"\").replace(\"\\t\", \"\"))"
   ]
  },
  {
   "cell_type": "code",
   "execution_count": 15,
   "id": "426e38af",
   "metadata": {},
   "outputs": [],
   "source": [
    "def sent_to_words(sentences):\n",
    "    for sentence in sentences:\n",
    "        yield(gensim.utils.simple_preprocess(str(sentence), deacc=True))  # deacc=True removes punctuations\n",
    "data = full.preprep.values.tolist()\n",
    "data_words = list(sent_to_words(data))"
   ]
  },
  {
   "cell_type": "code",
   "execution_count": 16,
   "id": "9f8c8f74",
   "metadata": {},
   "outputs": [],
   "source": [
    "# Build the bigram and trigram models\n",
    "bigram = gensim.models.Phrases(data_words, min_count=3, threshold=75) # higher threshold fewer phrases.\n",
    "trigram = gensim.models.Phrases(bigram[data_words], threshold=60)\n",
    "# Faster way to get a sentence clubbed as a trigram/bigram\n",
    "bigram_mod = gensim.models.phrases.Phraser(bigram)\n",
    "trigram_mod = gensim.models.phrases.Phraser(trigram)"
   ]
  },
  {
   "cell_type": "code",
   "execution_count": 17,
   "id": "94df17f8",
   "metadata": {},
   "outputs": [],
   "source": [
    "stop_words = stopwords.words('english')\n",
    "stop_words.extend(['tesla', 'c,', 'x', 't', 'p', 'amp', 'car', 'go'])\n",
    "wnl = WordNetLemmatizer()"
   ]
  },
  {
   "cell_type": "code",
   "execution_count": 18,
   "id": "4171506b",
   "metadata": {},
   "outputs": [],
   "source": [
    "# Functions to for preprocessing for bigrams and trigrams texts, all tested and edited all should be good \n",
    "\n",
    "def remove_stopwords(texts):\n",
    "    return [[word for word in simple_preprocess(str(doc)) if word not in stop_words]for doc in texts]\n",
    "\n",
    "def make_bigrams(texts):\n",
    "    return bigram_mod[texts]\n",
    "\n",
    "def make_trigrams(texts):\n",
    "    return trigram_mod[bigram_mod[texts]]\n",
    "\n",
    "def pos_tagger(nltk_tag):\n",
    "    if nltk_tag.startswith('J'):\n",
    "        return wordnet.ADJ\n",
    "    elif nltk_tag.startswith('V'):\n",
    "        return wordnet.VERB\n",
    "    elif nltk_tag.startswith('N'):\n",
    "        return wordnet.NOUN\n",
    "    elif nltk_tag.startswith('R'):\n",
    "        return wordnet.ADV\n",
    "    else:         \n",
    "        return None \n",
    "    \n",
    "def lemmatize_texts(tweet):\n",
    "     for i in tweet:\n",
    "        word = (map(lambda x: (x[0], pos_tagger(x[1])), pos_tag(tweet))) \n",
    "        word_lem = \" \".join([wnl.lemmatize(x[0], x[1]) for x in word if x[1] is not None])\n",
    "        return word_lem"
   ]
  },
  {
   "cell_type": "code",
   "execution_count": 19,
   "id": "3722a994",
   "metadata": {},
   "outputs": [],
   "source": [
    "# Remove Stop Words\n",
    "data_words_nostops = remove_stopwords(data_words)\n",
    "# Form Bigrams\n",
    "data_words_bigrams = make_bigrams(data_words_nostops)\n",
    "# lemmatize\n",
    "data_lemmatized = [lemmatize_texts(tweet) for tweet in data_words_bigrams]"
   ]
  },
  {
   "cell_type": "code",
   "execution_count": 344,
   "id": "24417099",
   "metadata": {},
   "outputs": [
    {
     "data": {
      "text/plain": [
       "659"
      ]
     },
     "execution_count": 344,
     "metadata": {},
     "output_type": "execute_result"
    }
   ],
   "source": [
    "a = [(i) for i,x  in enumerate(data_lemmatized) if x ==None]\n",
    "len(a)"
   ]
  },
  {
   "cell_type": "code",
   "execution_count": 325,
   "id": "560e67b3",
   "metadata": {},
   "outputs": [
    {
     "name": "stdout",
     "output_type": "stream",
     "text": [
      "237000\n"
     ]
    }
   ],
   "source": [
    "#proved that Nones are introduced during the lemmatization step -- there are no nones before this step\n",
    "# This will need to be fixed later\n",
    "lem_noNone = [x for x in data_lemmatized if x is not None]\n",
    "print(len(lem_noNone))"
   ]
  },
  {
   "cell_type": "markdown",
   "id": "08138098",
   "metadata": {},
   "source": [
    "## Find missing values after making min tweet length 4 words maybe ============================="
   ]
  },
  {
   "cell_type": "code",
   "execution_count": 300,
   "id": "2e123128",
   "metadata": {},
   "outputs": [],
   "source": [
    "# testing enumerate with above lemmatization function\n",
    "tester = [(i,x) for (i,x) in enumerate(data_lemmatized) if x is not None]\n",
    "\n",
    "def find_missing(lst):\n",
    "    return [x for x in range(lst[0], lst[-1]+1) \n",
    "                               if x not in lst] \n",
    "lst = [tup[0] for tup in tester]\n",
    "ind = (find_missing(lst))\n",
    "# ind"
   ]
  },
  {
   "cell_type": "code",
   "execution_count": 23,
   "id": "3e0f01d7",
   "metadata": {},
   "outputs": [],
   "source": [
    "lem_noNone = [i.split() for i in lem_noNone]"
   ]
  },
  {
   "cell_type": "code",
   "execution_count": 24,
   "id": "7ba69e76",
   "metadata": {
    "scrolled": true
   },
   "outputs": [
    {
     "name": "stdout",
     "output_type": "stream",
     "text": [
      "66590\n"
     ]
    }
   ],
   "source": [
    "id2word = corpora.Dictionary(lem_noNone)\n",
    "print(len(id2word)) "
   ]
  },
  {
   "cell_type": "code",
   "execution_count": 25,
   "id": "76b5e414",
   "metadata": {},
   "outputs": [
    {
     "name": "stdout",
     "output_type": "stream",
     "text": [
      "18507\n"
     ]
    }
   ],
   "source": [
    "# This can be Tuned --- and probably chould be\n",
    "\n",
    "id2word.filter_extremes(no_below=6, no_above=.90)\n",
    "print(len(id2word))"
   ]
  },
  {
   "cell_type": "code",
   "execution_count": 301,
   "id": "782a1f9e",
   "metadata": {},
   "outputs": [
    {
     "data": {
      "text/plain": [
       "32702"
      ]
     },
     "execution_count": 301,
     "metadata": {},
     "output_type": "execute_result"
    }
   ],
   "source": [
    "# Another potential preprocessing step \n",
    "# Could remove tweets that are fewer than n number of words \n",
    "\n",
    "counter = 0\n",
    "for i in lem_noNone:\n",
    "    if len(i) <= 3:\n",
    "        counter += 1\n",
    "counter"
   ]
  },
  {
   "cell_type": "code",
   "execution_count": 26,
   "id": "e8f0a969",
   "metadata": {},
   "outputs": [],
   "source": [
    "corpus = [id2word.doc2bow(d) for d in lem_noNone]"
   ]
  },
  {
   "cell_type": "code",
   "execution_count": 42,
   "id": "d3d12f3b",
   "metadata": {},
   "outputs": [
    {
     "name": "stdout",
     "output_type": "stream",
     "text": [
      "------ Topic 1 ------\n",
      "model first spot time think teslaradar day say know standard\n",
      "\n",
      "------ Topic 2 ------\n",
      "buy musk elon car people electric make want think say\n",
      "\n",
      "------ Topic 3 ------\n",
      "car electric make ev company battery year get vehicle market\n",
      "\n",
      "------ Topic 4 ------\n",
      "stock buy get go twitter price share market see back\n",
      "\n",
      "------ Topic 5 ------\n",
      "fire door car people driver crash drive use get autopilot\n",
      "\n"
     ]
    }
   ],
   "source": [
    "# Instantiating a Base LDA model\n",
    "base_model = LdaMulticore(corpus=corpus,\n",
    "                          num_topics=5,\n",
    "                          id2word=id2word,\n",
    "                          workers=7,\n",
    "                          passes=5,\n",
    "                          chunksize=2500,\n",
    "                          random_state = 42)\n",
    "words = [re.findall(r'\"([^\"]*)\"',t[1]) for t in base_model.print_topics()]\n",
    "topics = [' '.join(t[0:10]) for t in words]\n",
    "\n",
    "for id, t in enumerate(topics): \n",
    "    print(f\"------ Topic {id + 1} ------\")\n",
    "    print(t, end=\"\\n\\n\")"
   ]
  },
  {
   "cell_type": "code",
   "execution_count": 43,
   "id": "f7f9a360",
   "metadata": {},
   "outputs": [
    {
     "name": "stdout",
     "output_type": "stream",
     "text": [
      "\n",
      "Coherence Score:  0.33998669503645845 \n",
      "\n",
      "Perplexity:  -7.642658044311896\n"
     ]
    }
   ],
   "source": [
    "# a measure of how good the model is. lower the better\n",
    "base_perplexity = base_model.log_perplexity(corpus)\n",
    "\n",
    "# Compute Coherence Score\n",
    "coherence_model = CoherenceModel(model=base_model, texts=lem_noNone, \n",
    "                                   dictionary=id2word, coherence='c_v')\n",
    "\n",
    "coherence_lda_model_base = coherence_model.get_coherence()\n",
    "print('\\nCoherence Score: ', coherence_lda_model_base, '\\n\\nPerplexity: ', base_perplexity)"
   ]
  },
  {
   "cell_type": "code",
   "execution_count": 40,
   "id": "3a9bf07c",
   "metadata": {},
   "outputs": [
    {
     "data": {
      "text/plain": [
       "'\\nchunk size = 1000\\nCoherence Score:  0.36408864500672655 \\nPerplexity:  -7.648354363180408'"
      ]
     },
     "execution_count": 40,
     "metadata": {},
     "output_type": "execute_result"
    }
   ],
   "source": [
    "\"\"\"\n",
    "chunk size = 4000\n",
    "Coherence Score:  0.3277361656874404 \n",
    "Perplexity:  -7.656176410369252\n",
    "\n",
    "\n",
    "\n",
    "chunk size = 1000\n",
    "Coherence Score:  0.36408864500672655 \n",
    "Perplexity:  -7.648354363180408\"\"\""
   ]
  },
  {
   "cell_type": "code",
   "execution_count": 41,
   "id": "4837accf",
   "metadata": {},
   "outputs": [
    {
     "data": {
      "text/html": [
       "\n",
       "<link rel=\"stylesheet\" type=\"text/css\" href=\"https://cdn.jsdelivr.net/gh/bmabey/pyLDAvis@3.3.1/pyLDAvis/js/ldavis.v1.0.0.css\">\n",
       "\n",
       "\n",
       "<div id=\"ldavis_el875788335907524601408320\"></div>\n",
       "<script type=\"text/javascript\">\n",
       "\n",
       "var ldavis_el875788335907524601408320_data = {\"mdsDat\": {\"x\": [0.043024291362896275, 0.08813507482927702, 0.03273390329857701, 0.06906121013124611, -0.2329544796219965], \"y\": [0.03150200599744947, -0.11019983636711182, -0.10315758904467928, 0.17912282810356658, 0.0027325913107750887], \"topics\": [1, 2, 3, 4, 5], \"cluster\": [1, 1, 1, 1, 1], \"Freq\": [29.594909322317918, 23.999476008458746, 19.352818410173576, 17.26473477546427, 9.788061483585489]}, \"tinfo\": {\"Term\": [\"model\", \"elon\", \"stock\", \"musk\", \"buy\", \"fire\", \"door\", \"car\", \"electric\", \"spot\", \"first\", \"driver\", \"ev\", \"battery\", \"autopilot\", \"crash\", \"twitter\", \"tsla\", \"time\", \"manual\", \"open\", \"self_driving\", \"short\", \"teslaradar\", \"get\", \"people\", \"release\", \"standard\", \"day\", \"state\", \"aura_dims\", \"rivian_gm\", \"bake\", \"correction_getting\", \"recycle\", \"avatar\", \"rising_materials\", \"panasonic\", \"intuitive\", \"bitcoin_dogecoin\", \"issued_recalls\", \"disney_apple\", \"greig\", \"vancouver_several\", \"component\", \"socially_responsible\", \"exploiting_zero\", \"saw_awarded\", \"bugs_jonathan\", \"flammable\", \"highlight\", \"consume\", \"floki_rush\", \"live_gen\", \"nft_staking\", \"available_santa\", \"banking_ai\", \"aws_ceo\", \"apple_sap\", \"nyse_nasscom\", \"manufacturer\", \"quality\", \"produce\", \"blackberry\", \"price_craters\", \"diesel_generators\", \"linkedin\", \"whale_calls\", \"hybrid\", \"evs\", \"toyota\", \"scale\", \"manufacture\", \"volkswagen\", \"automaker\", \"battery\", \"production\", \"competitor\", \"hydrogen\", \"demand\", \"vw\", \"gm\", \"cobalt\", \"grid\", \"charge\", \"industry\", \"solar_panel\", \"ford\", \"electricity\", \"ev\", \"competition\", \"network\", \"luxury\", \"cost\", \"cheap\", \"build\", \"company\", \"electric\", \"vehicle\", \"china\", \"car\", \"product\", \"compare\", \"make\", \"less\", \"year\", \"recall\", \"well\", \"market\", \"problem\", \"power\", \"solar\", \"many\", \"also\", \"sell\", \"even\", \"world\", \"use\", \"much\", \"need\", \"get\", \"good\", \"still\", \"think\", \"price\", \"go\", \"time\", \"know\", \"say\", \"texas_heatwave\", \"asking_owners\", \"models_start\", \"lever\", \"sexually_harassed\", \"bluetooth_locks\", \"major_partnerships\", \"denies\", \"business_operations\", \"flight_attendant\", \"hackers_researchers\", \"starship\", \"shares_sink\", \"hacker_shows\", \"vinci_launching\", \"bsc_galaxyheroes\", \"says_expects\", \"ghc_ghcarmy\", \"plummeting\", \"rockets_iphone\", \"settle_sexual\", \"misconduct_claim\", \"vulnerable\", \"hacker_finds\", \"democrats\", \"blasts_biden\", \"musicians_artists\", \"limit_charging\", \"artists_coo\", \"firm_founded\", \"republicans\", \"customer_base\", \"dems\", \"fury\", \"dem\", \"vote_republican\", \"republican\", \"elon\", \"maga\", \"democrat\", \"liberal\", \"party\", \"vote\", \"king\", \"musk\", \"boycott\", \"politics\", \"hate\", \"richest_man\", \"gop\", \"tax\", \"political\", \"buying\", \"conservative\", \"biden\", \"piss\", \"trump\", \"free_speech\", \"libs\", \"support\", \"attack\", \"buy\", \"money\", \"spacex\", \"rich\", \"esg_index\", \"twitter\", \"ceo\", \"afford\", \"love\", \"pay\", \"care\", \"think\", \"car\", \"people\", \"stock\", \"electric\", \"say\", \"know\", \"want\", \"make\", \"price\", \"good\", \"world\", \"sell\", \"get\", \"right\", \"never\", \"go\", \"company\", \"need\", \"way\", \"harassment_claim\", \"brand_threatened\", \"coo\", \"photoshopped\", \"insiders_rip\", \"joins_nft\", \"marketplace_vinci\", \"shibaswap_uniswap\", \"roku\", \"hard_hitting\", \"building_hardcore\", \"sadistic_psychopath\", \"flagship_fund\", \"winner_gets\", \"service_manuals\", \"doc\", \"pm_pst\", \"june_vxl\", \"tuesday_th\", \"voxel_ama\", \"min_vxl\", \"entry_purchase\", \"web_tg\", \"rewards_busd\", \"misinformation\", \"burn_burned\", \"token_metatesla\", \"contract_slippage\", \"mtesla_new\", \"execute_lawsuits\", \"teach\", \"tortures_animals\", \"lessonmusk_also\", \"senior_director\", \"loses\", \"litigation_department\", \"wanted\", \"token\", \"bankrupt\", \"lawyer\", \"meta\", \"horse\", \"logo\", \"glad\", \"vinci\", \"account\", \"fake\", \"stock\", \"week\", \"boycotttesla\", \"lol\", \"cover\", \"cancel\", \"month\", \"story\", \"lose\", \"gonna\", \"sleep\", \"tank\", \"drop\", \"back\", \"get\", \"buy\", \"go\", \"trade\", \"hold\", \"value\", \"take\", \"try\", \"today\", \"worker\", \"never\", \"see\", \"wait\", \"twitter\", \"want\", \"last\", \"guy\", \"man\", \"look\", \"bad\", \"share\", \"really\", \"time\", \"come\", \"new\", \"good\", \"day\", \"say\", \"market\", \"think\", \"sell\", \"right\", \"musk\", \"price\", \"must_stand\", \"manslaughter_charges\", \"bluetooth_hack\", \"faces_vehicular\", \"nicola\", \"artistically_inspired\", \"electricity_neurons\", \"mysterical_occultism\", \"paganism_aleister\", \"spritual\", \"rear_doors\", \"beta_update\", \"artistontwitter\", \"crowleycheck\", \"nftcommunity_art\", \"reference_spritual\", \"deadly\", \"trial\", \"times_presents\", \"documentary_explores\", \"course_review\", \"investment_realized\", \"manually\", \"btcusd\", \"estimating\", \"tsla_winnings\", \"initial_btc\", \"btc_holdings\", \"judge_rules\", \"stand_trial\", \"autopilot\", \"fire\", \"door\", \"manual\", \"button\", \"fsd_beta\", \"accident\", \"governance\", \"hidden\", \"low_carbon\", \"release\", \"driver\", \"poor_working\", \"mechanism\", \"update\", \"emergency\", \"handle\", \"business_conduct\", \"investigation\", \"mechanical\", \"fatal\", \"device\", \"killed_three\", \"racial_discrimination\", \"open\", \"window\", \"feature\", \"crash\", \"die\", \"front\", \"catch\", \"self_driving\", \"lack\", \"kill\", \"lock\", \"seat\", \"full\", \"involve\", \"strategy\", \"video\", \"safety\", \"system\", \"work\", \"use\", \"people\", \"drive\", \"know\", \"car\", \"esg\", \"new\", \"get\", \"vehicle\", \"make\", \"say\", \"look\", \"need\", \"unitedstates\", \"dual_motor\", \"california_united\", \"teslaradar\", \"states_teslaradar\", \"florida_united\", \"first_player\", \"unitedstates_modely\", \"latch\", \"kowa_oa\", \"spacex_grand\", \"rickman\", \"oa\", \"spot\", \"nail\", \"phd\", \"stor_via\", \"information_including\", \"since_january\", \"indonesia_official\", \"photoshop\", \"sunra_miku\", \"doxed_team\", \"arabian_nfts\", \"dubai_lamborghini\", \"massive_potentials\", \"urus\", \"vip_eventscheck\", \"well_organized\", \"luxury_watches\", \"anyone_else\", \"construction_worker\", \"entered_monthly\", \"month_prize\", \"peugeot_worth\", \"st_may\", \"model\", \"plaid\", \"c\", \"t\", \"canada\", \"enter\", \"prize\", \"united_states\", \"nasdaq\", \"standard\", \"performance\", \"bill_gates\", \"short\", \"first\", \"state\", \"bot\", \"tsla\", \"time\", \"day\", \"find\", \"free\", \"texas\", \"plan\", \"year\", \"say\", \"think\", \"ev\", \"happen\", \"see\", \"market\", \"someone\", \"stock\", \"good\", \"new\"], \"Freq\": [11888.0, 17298.0, 24140.0, 19014.0, 26776.0, 7922.0, 5858.0, 41183.0, 20025.0, 3176.0, 5716.0, 4406.0, 11326.0, 8113.0, 3498.0, 5383.0, 7752.0, 6429.0, 10688.0, 2753.0, 4138.0, 4840.0, 2488.0, 1763.0, 22400.0, 14837.0, 2413.0, 1775.0, 5342.0, 2456.0, 360.02814119582774, 202.5621858517553, 178.44952342042043, 170.53507609735348, 252.1902783322988, 186.26594667534346, 132.71704876055188, 206.08236981366295, 147.14469627339486, 120.66978802187894, 128.0010403755522, 114.60633668562159, 104.69453887006632, 102.36234621412365, 151.27258122173217, 124.57940478681707, 100.30530883718144, 95.917389566868, 95.9169806089457, 85.70688469042832, 478.68730332189466, 93.97167263359458, 90.55804842569617, 90.55528009514525, 90.55449363760238, 90.55399030477494, 77.0914520302462, 77.0911217180782, 77.09120036383248, 77.09107453062563, 2342.8391519086886, 1849.128873686196, 1781.5863060168201, 198.31384706615128, 154.80807489047444, 120.19143308600077, 117.78559654574329, 160.07314598750702, 765.4087512529076, 2024.2412165718854, 1157.6212098229075, 618.7234720177584, 877.2746399290298, 285.41534118820863, 824.5710790118229, 7384.600600053626, 1597.942639483634, 543.7798984537068, 319.3020769901905, 1093.5335186810792, 785.7990157589107, 1669.1207801656078, 290.97693823720675, 853.5723615296677, 3776.5045265053222, 1505.7533732530096, 749.3844795809224, 3478.0966130980055, 937.8514168218559, 8919.291919777028, 1106.3269808225323, 708.9233991367311, 671.4907045376365, 2464.1195455668553, 1661.6098799369408, 3416.672559278989, 9639.547773634764, 12487.119689354051, 5547.1381424194415, 1937.5094204115826, 21967.76797380779, 2234.3615320492822, 1223.0936534618274, 9880.133482936224, 2032.8740456729158, 5856.742526795549, 1730.2612898251666, 4499.306573359467, 4660.330127072287, 2394.090849285145, 2555.3291583376727, 2100.0196515190505, 3315.5633964580843, 3713.183243482076, 4189.783057790968, 3904.2748936404987, 3925.545738928108, 3845.1946930212607, 3294.556633127272, 3716.4978579283766, 5968.097197096601, 4013.531672716782, 3142.459183776271, 4085.817648951951, 3081.9766978997854, 3115.7872416950136, 2892.898043495903, 2719.5076022128856, 2616.534262376753, 403.97042333767786, 416.65424055048425, 340.1744272295452, 549.6531792905593, 283.4149923201491, 278.1168228309964, 286.55381181925685, 257.6238485579153, 227.74451825019753, 643.0528215707328, 217.49556509270246, 279.9356408377805, 201.6426388406501, 221.31157095296902, 198.22134939648018, 161.34857073912764, 146.7457470406184, 137.6303641912834, 144.23360299070401, 133.5479430327208, 127.0667637670296, 122.89159471001453, 331.99230575869706, 133.81346546136092, 196.56032271670475, 121.8101084651185, 118.3128570720281, 470.09478540996764, 106.31365829732628, 100.59250668982551, 589.5303708014764, 326.52702508403155, 711.4323513024325, 183.5742563700766, 207.07235779244698, 461.49483495421447, 2025.13844927696, 15854.340285474724, 1538.2410134207016, 2478.760997034464, 1378.0390403831905, 1079.8730930368488, 1312.5634288993974, 329.5600267736278, 16002.366305559737, 658.9312073632607, 940.7016868405093, 1792.827302402015, 355.6098476304727, 631.2637447883992, 1919.1511135800843, 1180.120484345846, 1987.8826890618463, 726.3860302581296, 1102.2860602040146, 454.260379825636, 1324.58944777786, 700.694173601638, 530.7751936370885, 2099.840584623453, 924.6322099345658, 13806.756759737067, 4207.224132100419, 2804.493725272557, 1460.5823740553262, 1790.9380242240952, 4472.859419465046, 1908.3802143322791, 1899.0501516035704, 2465.9714300403098, 3237.8891868370024, 1767.7201478173663, 6049.925330737758, 12936.47408699287, 6113.891397256549, 7867.900740679308, 6426.066112356971, 4862.892640677449, 4558.4891909498065, 4072.743880083511, 5885.311323078788, 3366.051255069794, 3111.06428020097, 2933.8745860962895, 2912.595376314736, 3915.037452223834, 2556.518549350678, 2619.4486829840675, 2801.8161367271546, 2716.0486762379246, 2415.059151905671, 2281.7183716401732, 228.37329512532258, 243.91522688547755, 219.78373410269072, 173.58582259487764, 213.4992460487619, 152.44038254781384, 152.44038254781384, 146.27428938520882, 182.89960433116957, 206.60826017554618, 128.5819125261152, 303.3337458299158, 106.7870834258232, 105.04497933107382, 132.75259988625038, 300.6929623845864, 97.07739262892878, 97.07728977225266, 97.0772143440235, 97.68526872767566, 97.68509729988213, 97.6849738718708, 131.68925385431683, 130.89308832426792, 133.53565461865006, 130.8898380533026, 130.88934434125724, 130.88699920904173, 130.8861626414093, 100.62328053853975, 465.71753011409993, 298.9057796372503, 283.7702963184441, 224.18796097450817, 155.9403346658704, 226.84055236625596, 173.73278421371532, 200.6630894390196, 637.3552061206282, 521.9600543275835, 233.01587520126466, 897.2841203398327, 195.72173129028934, 697.6773826787706, 202.51808902147633, 1024.2575327363643, 1110.767512746249, 13890.404516103828, 1736.628060169739, 728.6074548969485, 2682.6107298129473, 829.3153864799336, 746.2672056183775, 2140.254443467145, 1355.7016790080238, 2196.1077580181973, 1313.2084318321895, 329.62605166459406, 1538.7465169658724, 1964.7698729169017, 3178.279410873049, 9308.070365637348, 10519.638847258688, 5364.882663448984, 748.7008220037814, 1374.328995624585, 1721.4497061883267, 3650.75810802088, 2494.1641335098398, 1858.3705385887088, 1312.9055120639098, 3035.04696368469, 3680.0872366466133, 1585.1600572094997, 2764.3336778309495, 3250.7372489338986, 1666.7187636870763, 1805.3169004762533, 1447.5197217883353, 2616.5140971721876, 1912.6966372127579, 2044.7448608667273, 1983.3777701930117, 2578.46733039072, 2074.292319930301, 2163.4371862694175, 2292.6148583778327, 1847.5044850391114, 2269.9477703784996, 2075.495002472816, 2251.79189390837, 2032.9400961482045, 1912.2823579498008, 2081.5397933287186, 1895.5273071230606, 352.75618322717804, 207.6913895655671, 257.8574700907592, 187.13507251979112, 261.35057217586484, 164.52755266543775, 164.52755266543775, 164.52755266543775, 164.52755266543775, 164.52755266543775, 181.97253356751736, 182.76235743239226, 127.14094143813989, 127.14094143813989, 127.14094143813989, 127.14094143813989, 406.1403583118061, 621.4212361961195, 113.69878940032667, 106.56393582016409, 103.28924437427261, 109.7731970566383, 269.0242339876536, 114.5865016544214, 106.51811754524493, 106.51281999837177, 106.49437034321072, 106.98136538544233, 91.45252431571312, 87.31690197855684, 3450.332946033827, 7717.45258216329, 5692.875317577526, 2675.4975418612944, 683.1735044101363, 881.2727861246691, 1137.9572105013428, 419.3256710851659, 290.3336591057724, 413.2576920602773, 2308.138970423964, 4161.052813299022, 328.4140165175873, 180.99642691120877, 861.3924752103707, 1282.488676995991, 1874.6433279801129, 255.43836305118202, 630.2823070476959, 597.1961048985119, 386.4334105365209, 337.1585168689154, 443.59856594626734, 435.1636968103343, 3310.4041057139693, 1159.3348308302493, 1641.3043240225986, 4092.8131667372254, 1131.266298689863, 1216.983592320371, 2103.7232510658355, 3336.991967386047, 635.3393722087606, 1685.4624236057336, 1695.0484141970992, 757.21945809723, 1840.771327122916, 684.7216115490338, 633.9144911486309, 1336.0511090273671, 2295.0631076605982, 1419.0973623960988, 2929.657642332088, 3428.952878801053, 4496.6493980221885, 3102.4781559436624, 2985.0083695859967, 5148.999841670203, 1350.9918061662415, 1940.9005909046061, 2645.030848178437, 1861.3552697133564, 2248.9029513330647, 1784.5428465136533, 1455.90897568357, 1401.9855763936584, 1238.9261234673884, 1387.4504099019746, 843.2517493460704, 1761.6183546809405, 855.7954555249061, 572.5012667319293, 595.7255513472886, 593.4028010445296, 478.1805357571185, 311.41892220339594, 226.17994015476717, 216.55082531745518, 186.5225952871767, 3162.4604668946436, 430.3278509560082, 165.54829988772534, 156.30815513891918, 570.5438617072076, 159.95302086252224, 141.7394988959191, 120.93869256265604, 140.2812390887347, 116.69170630260352, 114.39225480734997, 114.39225480734997, 114.39225480734997, 114.39225480734997, 114.39225480734997, 114.39225480734997, 126.05195886646312, 835.2475581286076, 463.4187331628838, 429.76917898467167, 430.3108155671325, 424.7706795963112, 576.7869155561483, 11361.760490194545, 372.87078592537534, 573.5445317034329, 440.34624107608926, 909.9277065068143, 1087.5233557216068, 210.4573860198371, 412.53374914190283, 413.6720405090078, 1510.052272474651, 1006.857515493174, 395.0775528670758, 1715.4990623153299, 3304.5458202531518, 1446.681735654449, 1256.5140804291382, 2256.107861477348, 2675.818558913721, 1604.306027181146, 1296.6472370255942, 1162.4913855248526, 780.6979123743121, 920.8956669595827, 1856.7103393039044, 1619.2804114521973, 1657.3826389514227, 1403.4314913228063, 961.8451349754203, 1347.1426821869425, 1233.3671486870448, 908.3713267439966, 1258.042049380541, 944.6974346108678, 913.1545531970372], \"Total\": [11888.0, 17298.0, 24140.0, 19014.0, 26776.0, 7922.0, 5858.0, 41183.0, 20025.0, 3176.0, 5716.0, 4406.0, 11326.0, 8113.0, 3498.0, 5383.0, 7752.0, 6429.0, 10688.0, 2753.0, 4138.0, 4840.0, 2488.0, 1763.0, 22400.0, 14837.0, 2413.0, 1775.0, 5342.0, 2456.0, 360.859691253373, 203.37163678949528, 179.27757346547463, 171.36575614890725, 253.47498939468184, 187.27850785365723, 133.52480428087136, 207.38871779897877, 148.17184708167184, 121.51320721440487, 128.90336373833884, 115.43271769663293, 105.50175096201069, 103.17028268060376, 152.47325625857792, 125.5789894845056, 101.1125833430756, 96.72457866687134, 96.72421176079268, 86.54187618944613, 483.3614210511078, 94.90670460574634, 91.50187605565152, 91.50174650919826, 91.50168294172632, 91.50165136504542, 77.90039891046301, 77.90007692349326, 77.90021815534993, 77.90014860114411, 2397.2805354883194, 1909.3568690839738, 1842.6468221681482, 200.91276497379897, 156.59475806477934, 121.49505871441501, 119.05620242236795, 162.4279803498711, 789.4248714534774, 2126.6341411868098, 1204.389250246151, 639.8207862664276, 918.5185362489818, 293.30640237174725, 866.2982959745964, 8113.742786893297, 1726.7233896078835, 568.7951356388174, 329.7084412313076, 1174.3184310336821, 835.5166518956166, 1857.6605522554871, 301.3503994375174, 925.8889524362885, 4375.769078760425, 1681.604148110765, 809.4906224082988, 4103.080808751857, 1031.3021616483134, 11326.091651024171, 1230.5190909917376, 772.7966850420315, 730.5428175832019, 3004.0510665019624, 1983.0380207162027, 4539.526849731612, 14822.098931152499, 20025.258405847144, 8123.451164723766, 2444.183041803391, 41183.98934007497, 2980.1003205516254, 1455.6912840005168, 19818.13641951645, 2836.3707795253645, 11544.174210536325, 2355.2741992906294, 8580.782069719558, 9215.511779860866, 3681.3968327366265, 4042.3320438085543, 3144.6351095355044, 6277.441040653315, 7631.196636920062, 9478.517545747558, 8879.67999954018, 9405.55835951894, 9247.380390260492, 6937.489617258668, 8847.23235860639, 22400.8538510688, 10847.15027726929, 7051.767433065115, 14387.46445430122, 8632.720852073895, 12438.730602142623, 10688.197354067972, 12083.121171842762, 13153.197931398552, 404.800535511723, 417.5484054829522, 341.1009867244793, 551.1511794072093, 284.22605321206487, 278.93853505910556, 287.44406633101966, 258.4721871945299, 228.53740117400386, 645.3385854723278, 218.2995450221006, 281.0070456253949, 202.433763204569, 222.2042948805024, 199.0380286451744, 162.1403850083725, 147.54020894917065, 138.42206179567978, 145.06433077677255, 134.33957413905236, 127.85785354653433, 123.68274754966973, 334.15565431983424, 134.69419717258128, 197.88168463768545, 122.65617530714272, 119.13663049708853, 473.46447753909354, 107.13823413771175, 101.3833008769191, 597.180145302454, 329.7903214665657, 726.5490977895408, 185.1802226415835, 209.22512201418186, 470.1439013869754, 2094.6166905127548, 17298.290881889698, 1614.368054826268, 2663.2432581836865, 1457.8510045119003, 1140.526164487859, 1402.2737046553016, 337.77746078879164, 19014.824278214415, 690.2404247876557, 1008.3898277648988, 1988.4859225268006, 366.93801640014544, 680.7402976265836, 2265.845113188146, 1370.3969779888178, 2526.303574836455, 816.2115356204994, 1305.935732972746, 482.76291363632924, 1610.8224452697266, 788.0207612671206, 577.1476100040537, 2888.847097618111, 1101.7018659577645, 26776.950492002106, 6634.451059608686, 4101.398911253296, 1901.4089911565652, 2461.7930284288414, 7752.653691084614, 2793.778180878998, 2824.8012575764665, 3996.176645339543, 5779.168394347386, 2653.9930339198154, 14387.46445430122, 41183.98934007497, 14837.915459149124, 24140.65429012087, 20025.258405847144, 13153.197931398552, 12083.121171842762, 10418.887553107761, 19818.13641951645, 8632.720852073895, 10847.15027726929, 9405.55835951894, 9478.517545747558, 22400.8538510688, 6891.645885656616, 7482.435969547353, 12438.730602142623, 14822.098931152499, 8847.23235860639, 7079.57795788056, 229.1818055839732, 244.7975272581392, 220.65005183462588, 174.400169275612, 214.5716072166142, 153.2455598264105, 153.2455598264105, 147.0903585582077, 183.92727088646205, 207.84929938562993, 129.50929373560672, 305.6051418757175, 107.59492916952644, 105.8506953786272, 133.79911345530212, 303.20302244950625, 97.89348662671888, 97.89345898819987, 97.89344779642977, 98.50676966563957, 98.50675584648933, 98.50675057335481, 132.80861444430607, 132.0098556687694, 134.67533001582208, 132.01002853469765, 132.00987284990143, 132.00991900405305, 132.0102984296378, 101.4934941311161, 470.9852826090576, 301.7048686270959, 286.6287348800774, 226.20892998817004, 157.5693079493448, 230.15400159228153, 176.05727561480768, 205.8097527587845, 680.2212390105029, 560.7976612951352, 241.24457922570707, 999.1956175168073, 201.39240482844104, 772.8934372288103, 211.0385744174713, 1231.0528021994912, 1365.3020601474468, 24140.65429012087, 2357.319175292791, 904.4570005377054, 3996.7424055096576, 1053.0618486119988, 938.3483946853133, 3241.775111048908, 1919.674293808529, 3419.763159889177, 1895.8909041760144, 369.66008282042696, 2327.3767831085484, 3200.726951927695, 5852.77740627788, 22400.8538510688, 26776.950492002106, 12438.730602142623, 1049.0224986736378, 2292.957773908474, 3120.8531569210963, 8622.437783721844, 5305.874567258504, 3615.585892754219, 2332.209043298489, 7482.435969547353, 10532.94404155336, 3075.433929852042, 7752.653691084614, 10418.887553107761, 3516.0526425994362, 4209.795631869431, 2871.198726753845, 8489.445697878964, 5030.3696765228015, 5843.54067764493, 5665.241047633171, 10688.197354067972, 6935.256094058847, 8170.111762470047, 10847.15027726929, 5342.855769980239, 13153.197931398552, 9215.511779860866, 14387.46445430122, 9478.517545747558, 6891.645885656616, 19014.824278214415, 8632.720852073895, 353.60870492364154, 208.51387164326314, 258.92391085079595, 187.95691036091534, 262.5188872579034, 165.34973000382942, 165.34973000382942, 165.34973000382942, 165.34973000382942, 165.34973000382942, 183.05254268714927, 183.88877982024397, 127.96117957779562, 127.96117957779562, 127.96117957779562, 127.96117957779562, 408.96214404128455, 625.7648380451732, 114.52389894904653, 107.38586049936795, 104.11083490191481, 110.74802836525791, 271.4570154232789, 115.62315631100007, 107.48319871705311, 107.48401013994003, 107.48670146762127, 107.9860652076817, 92.31700926267892, 88.15666448895477, 3498.730382669937, 7922.116529531863, 5858.075140152018, 2753.445406299045, 693.742408391609, 897.2915707088043, 1167.9451453448569, 426.0906686030707, 294.17578367896465, 420.56826973322455, 2413.7570663513725, 4406.811831468025, 335.778066627167, 183.3523058365608, 902.4450580704212, 1362.474717123326, 2068.858339941642, 260.7802814605991, 670.20012183677, 638.4375276894486, 404.5653988991724, 351.7940592023165, 471.0609949450634, 462.264476997761, 4138.314287107389, 1347.4855549828128, 1966.9414974628053, 5383.826092384432, 1319.6391831008384, 1439.2917980259092, 2742.556700547669, 4840.247181325253, 725.8586499245531, 2300.428614066491, 2341.2542744719244, 915.1004685422515, 2847.535630074428, 808.5651058832062, 734.5354925744248, 1999.2601509622893, 4158.249058637099, 2230.5789893661713, 7034.613217232518, 9247.380390260492, 14837.915459149124, 8644.19220973325, 12083.121171842762, 41183.98934007497, 2750.2197282446814, 8170.111762470047, 22400.8538510688, 8123.451164723766, 19818.13641951645, 13153.197931398552, 8489.445697878964, 8847.23235860639, 1239.829651915738, 1389.1099027416085, 844.3106624294095, 1763.9066003347152, 856.9501313935428, 573.379147337969, 596.9275418713495, 594.6074987384968, 479.17742483419255, 312.2888531832643, 227.01254840182577, 217.3675185284437, 187.34909741995352, 3176.52018055955, 432.44715728033185, 166.4055013873135, 157.12632045853775, 573.8482900210026, 160.93772316123471, 142.62462773548228, 121.7610845333939, 141.25266900862485, 117.52412832629511, 115.2208863239404, 115.2208863239404, 115.2208863239404, 115.2208863239404, 115.2208863239404, 115.2208863239404, 126.97418017409424, 841.6655570224906, 467.1609272483397, 432.99269048326, 433.5668536270587, 428.0114560468654, 582.9995910142239, 11888.497058653273, 377.7022514102537, 583.7638831268985, 450.52934513360765, 947.9851719883693, 1141.5863162282287, 214.05345951666393, 434.00157082947493, 439.90764266152644, 1775.420568896839, 1227.021445986223, 437.18041044110555, 2488.321298372648, 5716.121694786542, 2456.6994345949806, 2227.0434130133854, 6429.280878779565, 10688.197354067972, 5342.855769980239, 3577.583730200585, 3159.8943304689137, 1434.304663064163, 2247.187482454584, 11544.174210536325, 13153.197931398552, 14387.46445430122, 11326.091651024171, 3221.9173719663804, 10532.94404155336, 9215.511779860866, 3200.5363196013514, 24140.65429012087, 10847.15027726929, 8170.111762470047], \"Category\": [\"Default\", \"Default\", \"Default\", \"Default\", \"Default\", \"Default\", \"Default\", \"Default\", \"Default\", \"Default\", \"Default\", \"Default\", \"Default\", \"Default\", \"Default\", \"Default\", \"Default\", \"Default\", \"Default\", \"Default\", \"Default\", \"Default\", \"Default\", \"Default\", \"Default\", \"Default\", \"Default\", \"Default\", \"Default\", \"Default\", \"Topic1\", \"Topic1\", \"Topic1\", \"Topic1\", \"Topic1\", \"Topic1\", \"Topic1\", \"Topic1\", \"Topic1\", \"Topic1\", \"Topic1\", \"Topic1\", \"Topic1\", \"Topic1\", \"Topic1\", \"Topic1\", \"Topic1\", \"Topic1\", \"Topic1\", \"Topic1\", \"Topic1\", \"Topic1\", \"Topic1\", \"Topic1\", \"Topic1\", \"Topic1\", \"Topic1\", \"Topic1\", \"Topic1\", \"Topic1\", \"Topic1\", \"Topic1\", \"Topic1\", \"Topic1\", \"Topic1\", \"Topic1\", \"Topic1\", \"Topic1\", \"Topic1\", \"Topic1\", \"Topic1\", \"Topic1\", \"Topic1\", \"Topic1\", \"Topic1\", \"Topic1\", \"Topic1\", \"Topic1\", \"Topic1\", \"Topic1\", \"Topic1\", \"Topic1\", \"Topic1\", \"Topic1\", \"Topic1\", \"Topic1\", \"Topic1\", \"Topic1\", \"Topic1\", \"Topic1\", \"Topic1\", \"Topic1\", \"Topic1\", \"Topic1\", \"Topic1\", \"Topic1\", \"Topic1\", \"Topic1\", \"Topic1\", \"Topic1\", \"Topic1\", \"Topic1\", \"Topic1\", \"Topic1\", \"Topic1\", \"Topic1\", \"Topic1\", \"Topic1\", \"Topic1\", \"Topic1\", \"Topic1\", \"Topic1\", \"Topic1\", \"Topic1\", \"Topic1\", \"Topic1\", \"Topic1\", \"Topic1\", \"Topic1\", \"Topic1\", \"Topic1\", \"Topic1\", \"Topic1\", \"Topic1\", \"Topic1\", \"Topic1\", \"Topic1\", \"Topic1\", \"Topic1\", \"Topic2\", \"Topic2\", \"Topic2\", \"Topic2\", \"Topic2\", \"Topic2\", \"Topic2\", \"Topic2\", \"Topic2\", \"Topic2\", \"Topic2\", \"Topic2\", \"Topic2\", \"Topic2\", \"Topic2\", \"Topic2\", \"Topic2\", \"Topic2\", \"Topic2\", \"Topic2\", \"Topic2\", \"Topic2\", \"Topic2\", \"Topic2\", \"Topic2\", \"Topic2\", \"Topic2\", \"Topic2\", \"Topic2\", \"Topic2\", \"Topic2\", \"Topic2\", \"Topic2\", \"Topic2\", \"Topic2\", \"Topic2\", \"Topic2\", \"Topic2\", \"Topic2\", \"Topic2\", \"Topic2\", \"Topic2\", \"Topic2\", \"Topic2\", \"Topic2\", \"Topic2\", \"Topic2\", \"Topic2\", \"Topic2\", \"Topic2\", \"Topic2\", \"Topic2\", \"Topic2\", \"Topic2\", \"Topic2\", \"Topic2\", \"Topic2\", \"Topic2\", \"Topic2\", \"Topic2\", \"Topic2\", \"Topic2\", \"Topic2\", \"Topic2\", \"Topic2\", \"Topic2\", \"Topic2\", \"Topic2\", \"Topic2\", \"Topic2\", \"Topic2\", \"Topic2\", \"Topic2\", \"Topic2\", \"Topic2\", \"Topic2\", \"Topic2\", \"Topic2\", \"Topic2\", \"Topic2\", \"Topic2\", \"Topic2\", \"Topic2\", \"Topic2\", \"Topic2\", \"Topic2\", \"Topic2\", \"Topic2\", \"Topic2\", \"Topic2\", \"Topic2\", \"Topic2\", \"Topic3\", \"Topic3\", \"Topic3\", \"Topic3\", \"Topic3\", \"Topic3\", \"Topic3\", \"Topic3\", \"Topic3\", \"Topic3\", \"Topic3\", \"Topic3\", \"Topic3\", \"Topic3\", \"Topic3\", \"Topic3\", \"Topic3\", \"Topic3\", \"Topic3\", \"Topic3\", \"Topic3\", \"Topic3\", \"Topic3\", \"Topic3\", \"Topic3\", \"Topic3\", \"Topic3\", \"Topic3\", \"Topic3\", \"Topic3\", \"Topic3\", \"Topic3\", \"Topic3\", \"Topic3\", \"Topic3\", \"Topic3\", \"Topic3\", \"Topic3\", \"Topic3\", \"Topic3\", \"Topic3\", \"Topic3\", \"Topic3\", \"Topic3\", \"Topic3\", \"Topic3\", \"Topic3\", \"Topic3\", \"Topic3\", \"Topic3\", \"Topic3\", \"Topic3\", \"Topic3\", \"Topic3\", \"Topic3\", \"Topic3\", \"Topic3\", \"Topic3\", \"Topic3\", \"Topic3\", \"Topic3\", \"Topic3\", \"Topic3\", \"Topic3\", \"Topic3\", \"Topic3\", \"Topic3\", \"Topic3\", \"Topic3\", \"Topic3\", \"Topic3\", \"Topic3\", \"Topic3\", \"Topic3\", \"Topic3\", \"Topic3\", \"Topic3\", \"Topic3\", \"Topic3\", \"Topic3\", \"Topic3\", \"Topic3\", \"Topic3\", \"Topic3\", \"Topic3\", \"Topic3\", \"Topic3\", \"Topic3\", \"Topic3\", \"Topic3\", \"Topic3\", \"Topic3\", \"Topic3\", \"Topic3\", \"Topic3\", \"Topic4\", \"Topic4\", \"Topic4\", \"Topic4\", \"Topic4\", \"Topic4\", \"Topic4\", \"Topic4\", \"Topic4\", \"Topic4\", \"Topic4\", \"Topic4\", \"Topic4\", \"Topic4\", \"Topic4\", \"Topic4\", \"Topic4\", \"Topic4\", \"Topic4\", \"Topic4\", \"Topic4\", \"Topic4\", \"Topic4\", \"Topic4\", \"Topic4\", \"Topic4\", \"Topic4\", \"Topic4\", \"Topic4\", \"Topic4\", \"Topic4\", \"Topic4\", \"Topic4\", \"Topic4\", \"Topic4\", \"Topic4\", \"Topic4\", \"Topic4\", \"Topic4\", \"Topic4\", \"Topic4\", \"Topic4\", \"Topic4\", \"Topic4\", \"Topic4\", \"Topic4\", \"Topic4\", \"Topic4\", \"Topic4\", \"Topic4\", \"Topic4\", \"Topic4\", \"Topic4\", \"Topic4\", \"Topic4\", \"Topic4\", \"Topic4\", \"Topic4\", \"Topic4\", \"Topic4\", \"Topic4\", \"Topic4\", \"Topic4\", \"Topic4\", \"Topic4\", \"Topic4\", \"Topic4\", \"Topic4\", \"Topic4\", \"Topic4\", \"Topic4\", \"Topic4\", \"Topic4\", \"Topic4\", \"Topic4\", \"Topic4\", \"Topic4\", \"Topic4\", \"Topic4\", \"Topic4\", \"Topic4\", \"Topic4\", \"Topic4\", \"Topic4\", \"Topic4\", \"Topic4\", \"Topic5\", \"Topic5\", \"Topic5\", \"Topic5\", \"Topic5\", \"Topic5\", \"Topic5\", \"Topic5\", \"Topic5\", \"Topic5\", \"Topic5\", \"Topic5\", \"Topic5\", \"Topic5\", \"Topic5\", \"Topic5\", \"Topic5\", \"Topic5\", \"Topic5\", \"Topic5\", \"Topic5\", \"Topic5\", \"Topic5\", \"Topic5\", \"Topic5\", \"Topic5\", \"Topic5\", \"Topic5\", \"Topic5\", \"Topic5\", \"Topic5\", \"Topic5\", \"Topic5\", \"Topic5\", \"Topic5\", \"Topic5\", \"Topic5\", \"Topic5\", \"Topic5\", \"Topic5\", \"Topic5\", \"Topic5\", \"Topic5\", \"Topic5\", \"Topic5\", \"Topic5\", \"Topic5\", \"Topic5\", \"Topic5\", \"Topic5\", \"Topic5\", \"Topic5\", \"Topic5\", \"Topic5\", \"Topic5\", \"Topic5\", \"Topic5\", \"Topic5\", \"Topic5\", \"Topic5\", \"Topic5\", \"Topic5\", \"Topic5\", \"Topic5\", \"Topic5\", \"Topic5\", \"Topic5\", \"Topic5\", \"Topic5\", \"Topic5\"], \"logprob\": [30.0, 29.0, 28.0, 27.0, 26.0, 25.0, 24.0, 23.0, 22.0, 21.0, 20.0, 19.0, 18.0, 17.0, 16.0, 15.0, 14.0, 13.0, 12.0, 11.0, 10.0, 9.0, 8.0, 7.0, 6.0, 5.0, 4.0, 3.0, 2.0, 1.0, -7.6017, -8.1768, -8.3035, -8.3489, -7.9577, -8.2607, -8.5996, -8.1596, -8.4964, -8.6948, -8.6358, -8.7463, -8.8368, -8.8593, -8.4688, -8.6629, -8.8796, -8.9244, -8.9244, -9.0369, -7.3168, -8.9448, -8.9818, -8.9819, -8.9819, -8.9819, -9.1428, -9.1429, -9.1428, -9.1429, -5.7287, -5.9654, -6.0026, -8.198, -8.4457, -8.6988, -8.719, -8.4122, -6.8474, -5.8749, -6.4337, -7.0602, -6.711, -7.8339, -6.773, -4.5807, -6.1114, -7.1893, -7.7217, -6.4907, -6.8211, -6.0678, -7.8146, -6.7384, -5.2513, -6.1708, -6.8686, -5.3336, -6.6442, -4.3919, -6.479, -6.9241, -6.9783, -5.6782, -6.0723, -5.3514, -4.3142, -4.0554, -4.8668, -5.9187, -3.4905, -5.7761, -6.3787, -4.2896, -5.8706, -4.8125, -6.0318, -5.0762, -5.041, -5.7071, -5.6419, -5.8381, -5.3815, -5.2682, -5.1474, -5.218, -5.2126, -5.2333, -5.3878, -5.2673, -4.7937, -5.1904, -5.4351, -5.1726, -5.4545, -5.4436, -5.5178, -5.5796, -5.6182, -7.2769, -7.246, -7.4488, -6.969, -7.6314, -7.6502, -7.6203, -7.7268, -7.85, -6.812, -7.8961, -7.6437, -7.9718, -7.8787, -7.9889, -8.1947, -8.2896, -8.3537, -8.3068, -8.3838, -8.4336, -8.467, -7.4732, -8.3818, -7.9973, -8.4758, -8.5049, -7.1253, -8.6119, -8.6672, -6.8989, -7.4898, -6.711, -8.0656, -7.9452, -7.1438, -5.6649, -3.6071, -5.9399, -5.4628, -6.0499, -6.2937, -6.0985, -7.4805, -3.5978, -6.7876, -6.4316, -5.7867, -7.4044, -6.8305, -5.7186, -6.2049, -5.6834, -6.6902, -6.2731, -7.1596, -6.0894, -6.7262, -7.0039, -5.6287, -6.4489, -3.7454, -4.9337, -5.3393, -5.9917, -5.7878, -4.8725, -5.7243, -5.7292, -5.4679, -5.1956, -5.8008, -4.5705, -3.8105, -4.5599, -4.3077, -4.5102, -4.7889, -4.8535, -4.9662, -4.5981, -5.1568, -5.2355, -5.2942, -5.3015, -5.0057, -5.4319, -5.4075, -5.3402, -5.3713, -5.4888, -5.5456, -7.6321, -7.5663, -7.6704, -7.9064, -7.6994, -8.0363, -8.0363, -8.0776, -7.8541, -7.7322, -8.2065, -7.3482, -8.3922, -8.4087, -8.1746, -7.357, -8.4876, -8.4876, -8.4876, -8.4813, -8.4813, -8.4813, -8.1826, -8.1887, -8.1687, -8.1887, -8.1887, -8.1887, -8.1887, -8.4517, -6.9195, -7.3629, -7.4149, -7.6506, -8.0136, -7.6388, -7.9056, -7.7614, -6.6057, -6.8055, -7.612, -6.2637, -7.7864, -6.5153, -7.7522, -6.1314, -6.0503, -3.5241, -5.6034, -6.4719, -5.1685, -6.3425, -6.448, -5.3944, -5.851, -5.3686, -5.8828, -7.2651, -5.7244, -5.4799, -4.999, -3.9244, -3.8021, -4.4754, -6.4447, -5.8374, -5.6122, -4.8604, -5.2414, -5.5356, -5.8831, -5.0451, -4.8524, -5.6946, -5.1385, -4.9764, -5.6445, -5.5646, -5.7855, -5.1935, -5.5068, -5.44, -5.4705, -5.2081, -5.4257, -5.3836, -5.3256, -5.5415, -5.3356, -5.4251, -5.3436, -5.4458, -5.507, -5.4222, -5.5158, -7.0831, -7.6128, -7.3965, -7.7171, -7.383, -7.8458, -7.8458, -7.8458, -7.8458, -7.8458, -7.745, -7.7407, -8.1036, -8.1036, -8.1036, -8.1036, -6.9422, -6.5169, -8.2153, -8.2802, -8.3114, -8.2505, -7.3541, -8.2076, -8.2806, -8.2806, -8.2808, -8.2762, -8.4331, -8.4794, -4.8027, -3.9977, -4.3019, -5.057, -6.4222, -6.1675, -5.9119, -6.9103, -7.2779, -6.9248, -5.2047, -4.6154, -7.1546, -7.7504, -6.1904, -5.7923, -5.4127, -7.4059, -6.5027, -6.5567, -6.9919, -7.1283, -6.854, -6.8732, -4.8441, -5.8933, -5.5457, -4.6319, -5.9178, -5.8448, -5.2974, -4.8361, -6.4947, -5.5191, -5.5134, -6.3192, -5.431, -6.4199, -6.497, -5.7514, -5.2104, -5.6911, -4.9663, -4.8089, -4.5378, -4.9089, -4.9475, -4.4023, -5.7403, -5.378, -5.0685, -5.4198, -5.2307, -5.462, -5.6655, -5.7033, -5.2594, -5.1462, -5.6441, -4.9074, -5.6294, -6.0314, -5.9916, -5.9955, -6.2114, -6.6403, -6.9601, -7.0036, -7.1528, -4.3223, -6.3169, -7.2721, -7.3296, -6.0348, -7.3065, -7.4274, -7.5861, -7.4378, -7.6219, -7.6418, -7.6418, -7.6418, -7.6418, -7.6418, -7.6418, -7.5447, -5.6537, -6.2428, -6.3182, -6.3169, -6.3299, -6.0239, -3.0434, -6.4602, -6.0296, -6.2938, -5.568, -5.3897, -7.0321, -6.3591, -6.3563, -5.0615, -5.4668, -6.4023, -4.9339, -4.2783, -5.1044, -5.2453, -4.66, -4.4894, -5.001, -5.2139, -5.3231, -5.7212, -5.5561, -4.8548, -4.9917, -4.9684, -5.1347, -5.5125, -5.1757, -5.2639, -5.5697, -5.2441, -5.5305, -5.5645], \"loglift\": [30.0, 29.0, 28.0, 27.0, 26.0, 25.0, 24.0, 23.0, 22.0, 21.0, 20.0, 19.0, 18.0, 17.0, 16.0, 15.0, 14.0, 13.0, 12.0, 11.0, 10.0, 9.0, 8.0, 7.0, 6.0, 5.0, 4.0, 3.0, 2.0, 1.0, 1.2153, 1.2136, 1.2129, 1.2127, 1.2125, 1.2121, 1.2115, 1.2112, 1.2106, 1.2106, 1.2105, 1.2104, 1.2099, 1.2097, 1.2097, 1.2096, 1.2096, 1.2092, 1.2092, 1.2079, 1.2079, 1.2077, 1.2072, 1.2072, 1.2072, 1.2072, 1.2071, 1.2071, 1.2071, 1.2071, 1.1946, 1.1855, 1.1839, 1.2045, 1.2061, 1.2068, 1.2068, 1.203, 1.1867, 1.1682, 1.178, 1.184, 1.1716, 1.1903, 1.1682, 1.1234, 1.1401, 1.1726, 1.1855, 1.1463, 1.1562, 1.1105, 1.1825, 1.1362, 1.0703, 1.1071, 1.1404, 1.0523, 1.1226, 0.9787, 1.1112, 1.1313, 1.1333, 1.0194, 1.0407, 0.9334, 0.7873, 0.7453, 0.8361, 0.9853, 0.5891, 0.9296, 1.0435, 0.5215, 0.8845, 0.539, 0.9092, 0.572, 0.5358, 0.7873, 0.7589, 0.8138, 0.5792, 0.4972, 0.4012, 0.3959, 0.3438, 0.3401, 0.4729, 0.3502, -0.1051, 0.2233, 0.4093, -0.0413, 0.1876, -0.1668, -0.0893, -0.2738, -0.3972, 1.4251, 1.425, 1.4244, 1.4244, 1.4243, 1.4242, 1.424, 1.4239, 1.4237, 1.4236, 1.4234, 1.4233, 1.4232, 1.4231, 1.423, 1.4222, 1.4217, 1.4214, 1.4214, 1.4212, 1.4209, 1.4207, 1.4206, 1.4206, 1.4204, 1.4202, 1.4202, 1.42, 1.4194, 1.4193, 1.4142, 1.4172, 1.4061, 1.4184, 1.4168, 1.4086, 1.3934, 1.34, 1.3788, 1.3554, 1.3708, 1.3725, 1.361, 1.4025, 1.2547, 1.3807, 1.3577, 1.3236, 1.3958, 1.3517, 1.2611, 1.2777, 1.1875, 1.3105, 1.2576, 1.3663, 1.2315, 1.3097, 1.3434, 1.1081, 1.2519, 0.7648, 0.9717, 1.047, 1.1634, 1.109, 0.8771, 1.046, 1.0301, 0.9444, 0.8478, 1.0208, 0.5608, 0.2691, 0.5405, 0.306, 0.2905, 0.4321, 0.4523, 0.4878, 0.213, 0.4853, 0.1782, 0.2622, 0.2472, -0.3171, 0.4355, 0.3775, -0.0634, -0.2698, 0.1288, 0.2949, 1.6388, 1.6387, 1.6384, 1.6377, 1.6373, 1.6371, 1.6371, 1.6368, 1.6367, 1.6363, 1.6351, 1.6349, 1.6348, 1.6347, 1.6345, 1.634, 1.634, 1.634, 1.634, 1.634, 1.634, 1.634, 1.6339, 1.6338, 1.6338, 1.6338, 1.6338, 1.6338, 1.6338, 1.6337, 1.6311, 1.633, 1.6323, 1.6334, 1.6319, 1.6278, 1.629, 1.617, 1.5772, 1.5706, 1.6076, 1.5348, 1.6138, 1.5399, 1.6011, 1.4584, 1.436, 1.0896, 1.3368, 1.4261, 1.2436, 1.4035, 1.4133, 1.2271, 1.2945, 1.1994, 1.2751, 1.5277, 1.2286, 1.1543, 1.0318, 0.7641, 0.708, 0.8014, 1.3051, 1.1305, 1.0474, 0.7829, 0.8875, 0.9768, 1.0678, 0.74, 0.5908, 0.9796, 0.6111, 0.4776, 0.8959, 0.7957, 0.9575, 0.4654, 0.6754, 0.5923, 0.5928, 0.2204, 0.4353, 0.3135, 0.0881, 0.5804, -0.1146, 0.1516, -0.2123, 0.1028, 0.3603, -0.5698, 0.1263, 1.7541, 1.7526, 1.7524, 1.7521, 1.752, 1.7515, 1.7515, 1.7515, 1.7515, 1.7515, 1.7506, 1.7504, 1.7501, 1.7501, 1.7501, 1.7501, 1.7496, 1.7495, 1.7493, 1.7488, 1.7486, 1.7477, 1.7475, 1.7475, 1.7475, 1.7474, 1.7472, 1.7472, 1.7471, 1.7469, 1.7426, 1.7303, 1.7279, 1.7278, 1.7412, 1.7385, 1.7305, 1.7405, 1.7434, 1.739, 1.7118, 1.6991, 1.7343, 1.7436, 1.7099, 1.696, 1.6579, 1.7358, 1.6951, 1.6897, 1.7107, 1.714, 1.6964, 1.6961, 1.5333, 1.6061, 1.5755, 1.4823, 1.6025, 1.5887, 1.4913, 1.3846, 1.6233, 1.4454, 1.4335, 1.5671, 1.3202, 1.5903, 1.6092, 1.3534, 1.1622, 1.3043, 0.8805, 0.7644, 0.5627, 0.7318, 0.3583, -0.3227, 1.0457, 0.3192, -0.3799, 0.2831, -0.4197, -0.241, -0.0067, -0.0857, 2.3233, 2.3228, 2.3228, 2.3227, 2.3227, 2.3225, 2.322, 2.322, 2.3219, 2.3212, 2.3203, 2.3202, 2.3196, 2.3196, 2.3191, 2.3188, 2.3188, 2.3182, 2.3179, 2.3178, 2.3172, 2.3171, 2.3169, 2.3168, 2.3168, 2.3168, 2.3168, 2.3168, 2.3168, 2.3167, 2.3164, 2.316, 2.3165, 2.3165, 2.3164, 2.3133, 2.2787, 2.3111, 2.3063, 2.3011, 2.283, 2.2755, 2.3071, 2.2733, 2.2625, 2.1621, 2.1263, 2.2227, 1.9521, 1.776, 1.7945, 1.7517, 1.2768, 0.9391, 1.1209, 1.3091, 1.324, 1.7158, 1.4319, 0.4966, 0.2293, 0.1629, 0.2358, 1.1151, 0.2675, 0.3129, 1.0646, -0.6303, -0.1168, 0.1327]}, \"token.table\": {\"Topic\": [1, 2, 3, 4, 5, 1, 2, 3, 4, 5, 1, 2, 3, 4, 5, 1, 2, 3, 4, 5, 1, 2, 5, 1, 5, 4, 4, 2, 2, 1, 2, 3, 4, 5, 1, 1, 2, 3, 4, 5, 1, 2, 3, 4, 5, 1, 1, 1, 1, 2, 3, 4, 5, 1, 2, 3, 4, 5, 1, 1, 1, 2, 3, 1, 2, 3, 4, 5, 4, 1, 2, 3, 4, 5, 1, 2, 3, 4, 5, 1, 1, 3, 5, 2, 4, 2, 1, 2, 3, 4, 5, 1, 2, 3, 4, 5, 1, 2, 3, 4, 5, 3, 2, 4, 4, 1, 1, 2, 3, 4, 5, 3, 2, 3, 4, 5, 2, 1, 3, 4, 5, 1, 2, 3, 4, 5, 1, 2, 3, 4, 5, 3, 4, 5, 5, 1, 2, 3, 4, 5, 1, 2, 3, 4, 5, 1, 2, 3, 4, 5, 1, 2, 3, 4, 5, 1, 2, 3, 4, 5, 1, 2, 3, 4, 5, 1, 2, 3, 4, 5, 1, 2, 3, 4, 5, 1, 2, 3, 4, 5, 1, 2, 4, 5, 1, 2, 3, 4, 5, 1, 2, 3, 4, 5, 1, 2, 3, 4, 5, 1, 2, 3, 4, 5, 1, 2, 3, 4, 5, 1, 1, 2, 3, 4, 5, 1, 4, 5, 1, 2, 3, 3, 1, 1, 2, 3, 4, 5, 4, 1, 2, 3, 4, 5, 1, 2, 3, 4, 5, 4, 1, 2, 3, 4, 5, 1, 2, 3, 4, 5, 1, 4, 5, 1, 2, 5, 1, 2, 3, 4, 5, 1, 2, 3, 4, 5, 2, 3, 1, 2, 3, 4, 5, 2, 1, 4, 5, 1, 2, 3, 4, 5, 1, 2, 1, 2, 3, 4, 4, 1, 2, 3, 4, 5, 5, 1, 2, 3, 4, 5, 1, 2, 3, 4, 5, 1, 2, 3, 4, 5, 2, 5, 5, 1, 2, 3, 4, 5, 1, 2, 3, 4, 5, 4, 1, 2, 3, 4, 5, 1, 2, 3, 4, 5, 1, 2, 3, 4, 5, 3, 5, 3, 1, 2, 3, 4, 5, 1, 2, 3, 4, 5, 4, 1, 2, 3, 4, 5, 1, 2, 3, 4, 5, 1, 2, 3, 4, 5, 3, 1, 4, 1, 2, 3, 4, 5, 1, 4, 5, 1, 2, 3, 4, 5, 1, 2, 3, 4, 5, 1, 2, 3, 4, 5, 2, 1, 2, 3, 4, 5, 2, 5, 3, 1, 1, 2, 5, 1, 5, 1, 2, 3, 4, 5, 1, 2, 3, 4, 5, 1, 2, 3, 4, 5, 1, 2, 3, 4, 5, 1, 3, 4, 1, 2, 3, 4, 5, 2, 3, 5, 1, 2, 3, 4, 5, 2, 1, 2, 3, 4, 5, 1, 2, 3, 4, 5, 1, 2, 3, 4, 5, 1, 2, 3, 4, 5, 1, 2, 3, 4, 5, 1, 2, 3, 4, 5, 1, 2, 3, 4, 5, 1, 1, 2, 3, 4, 5, 1, 2, 3, 4, 5, 2, 2, 2, 1, 2, 3, 4, 5, 1, 2, 3, 4, 5, 3, 2, 3, 1, 2, 3, 4, 5, 1, 3, 4, 5, 1, 2, 5, 1, 2, 3, 4, 5, 1, 2, 3, 4, 5, 1, 2, 3, 4, 5, 1, 2, 4, 5, 1, 2, 3, 4, 5, 3, 5, 4, 3, 1, 1, 2, 3, 4, 5, 4, 1, 2, 3, 4, 5, 1, 3, 4, 3, 1, 2, 3, 4, 5, 1, 4, 5, 1, 2, 5, 1, 2, 3, 4, 5, 5, 1, 2, 3, 4, 5, 1, 2, 3, 4, 5, 5, 1, 2, 3, 5, 1, 2, 3, 4, 5, 2, 3, 2, 4, 1, 2, 3, 4, 5, 1, 2, 3, 4, 5, 1, 2, 1, 4, 2, 3, 5, 1, 1, 2, 3, 4, 5, 1, 3, 4, 5, 1, 2, 3, 4, 5, 1, 2, 3, 4, 5, 1, 2, 3, 4, 5, 2, 3, 1, 2, 3, 4, 5, 1, 4, 5, 1, 2, 3, 4, 5, 5, 1, 2, 3, 4, 5, 2, 1, 2, 3, 4, 5, 1, 2, 3, 4, 5, 4, 1, 2, 4, 5, 1, 4, 1, 2, 3, 4, 5, 1, 2, 3, 4, 5, 1, 2, 3, 4, 5, 1, 2, 3, 4, 5, 3, 5, 1, 4, 5, 2, 3, 4, 1, 2, 3, 4, 3, 2, 3, 1, 2, 3, 4, 5, 2, 1, 2, 3, 4, 5, 1, 2, 3, 4, 5, 3, 5, 2, 3, 1, 2, 3, 4, 5, 2, 1, 2, 3, 4, 5, 4, 4, 2, 5, 1, 2, 3, 4, 5, 1, 2, 3, 4, 5, 1, 2, 3, 4, 5, 1, 2, 3, 4, 5, 1, 2, 3, 4, 5, 1, 4, 4, 1, 5, 1, 2, 3, 4, 5, 4, 1, 4, 1, 2, 3, 4, 5, 1, 2, 3, 4, 5, 1, 2, 3, 4, 5, 1, 2, 3, 4, 5, 3, 5, 5, 5, 3, 1, 2, 3, 4, 5, 2, 3, 4, 5, 1, 2, 3, 4, 5, 2, 3, 1, 2, 3, 4, 5, 1, 2, 3, 4, 5, 1, 4, 5, 1, 2, 3, 4, 5, 1, 2, 3, 4, 5, 1, 2, 3, 4, 5, 1, 2, 3, 4, 5, 1, 2, 3, 4, 5, 1, 2, 3, 4, 5, 1, 2, 3, 4, 5, 1, 2, 3, 4, 5, 1, 2, 3, 4, 5, 1, 2, 3, 4, 5, 4, 1, 2, 3, 4, 5, 1, 2, 4, 1, 2, 3, 4, 5, 1, 2, 3, 4, 5, 1, 2, 3, 4, 2, 3, 1, 2, 3, 4, 5, 1, 2, 3, 4, 5, 5, 1, 2, 3, 4, 5, 1, 1, 2, 3, 2, 3, 1, 2, 3, 4, 5, 1, 1, 2, 3, 4, 5, 2, 1, 2, 4, 5, 1, 2, 3, 4, 5, 1, 2, 3, 4, 5, 1, 2, 3, 4, 5, 1, 2, 3, 4, 5, 1, 3, 3, 2, 2, 1, 2, 3, 4, 5, 2, 3, 1, 2, 3, 4, 5, 5, 1, 2, 3, 4, 5, 1, 1, 2, 3, 4, 5, 1, 2, 3, 4, 5, 1, 2, 3, 4, 5, 1, 2, 3, 4, 5, 5, 1, 2, 3, 4, 5, 4, 2, 3, 5, 4, 1, 2, 3, 4, 5, 2, 1, 2, 3, 4, 5, 5, 1, 2, 3, 4, 5, 1, 2, 3, 4, 5, 5, 1, 2, 3, 4, 5, 1, 2, 3, 4, 5, 5, 1, 2, 3, 4, 5, 1, 2, 3, 4, 5, 2, 3, 5, 1, 2, 3, 4, 5, 1, 2, 3, 4, 5, 1, 2, 3, 4, 5, 2, 3, 2, 5, 1, 2, 3, 4, 5, 2, 1, 2, 3, 4, 5, 1, 2, 3, 4, 5, 4, 1, 2, 3, 4, 5, 3, 4, 5, 2, 3, 2, 3, 1, 2, 3, 4, 5, 1, 2, 3, 4, 5, 1, 2, 3, 4, 5, 1, 2, 3, 4, 5, 1, 2, 3, 4, 5, 1, 2, 3, 4, 5, 4, 3, 1, 2, 3, 4, 5, 1, 2, 3, 4, 5, 5, 5, 1, 2, 3, 4, 5, 5, 1, 2, 3, 4, 5, 1, 2, 3, 4, 5, 1, 1, 2, 3, 4, 5, 1, 2, 3, 4, 5, 2, 3, 4, 2, 5, 1, 2, 3, 4, 5, 1, 2, 3, 4, 5, 1, 2, 3, 5, 3, 2, 4, 1, 2, 3, 4, 5, 1, 2, 3, 4, 5, 1, 2, 3, 4, 5, 3, 4, 5, 1, 2, 3, 4, 5, 2, 3, 1, 2, 3, 4, 5, 1, 2, 3, 4, 5, 5, 1, 2, 3, 1, 2, 3, 4, 5, 3, 1, 2, 3, 4, 5, 1, 2, 3, 4, 5, 1, 2, 3, 4, 5, 1, 2, 3, 4, 5], \"Freq\": [0.01113065973330581, 0.004281022974348388, 0.007705841353827099, 0.9743608289616932, 0.002568613784609033, 0.02599401093342739, 0.017058569675061724, 0.8318083498696764, 0.07148353006692532, 0.05280033470852438, 0.13098266612832113, 0.6722596837234645, 0.15540916332522428, 0.03256866292920418, 0.008850180143805482, 0.48655540889044113, 0.12357170767134015, 0.1516144918088447, 0.1761191676673183, 0.06211345645409887, 0.0023762407565723364, 0.004752481513144673, 0.9920805158689504, 0.988443958480903, 0.9894039495538343, 0.9978849073184376, 0.9924885064285356, 0.9893760229774863, 0.9986866062096013, 0.005446119486040717, 0.8396100874312773, 0.031769030335237515, 0.1052916433967872, 0.017246045039128938, 0.9976176578481597, 0.9523278573137036, 0.03578444069906038, 0.009234694373951064, 0.002308673593487766, 0.001154336796743883, 0.007717085069983549, 0.0005716359311098924, 0.004001451517769247, 0.9860719811645645, 0.0017149077933296774, 0.9945175703655437, 0.9931732270386505, 0.9884457505173295, 0.10900807526280777, 0.2104983522316288, 0.5429900676884061, 0.11259611535766509, 0.02477456255972904, 0.3228390962158025, 0.1807024251601998, 0.38029014227883634, 0.07037256161354316, 0.04572228579410996, 0.9928737686439031, 0.9884416649586364, 0.010290769529899841, 0.0514538476494992, 0.9364600272208855, 0.9101841399174636, 0.003943925860170458, 0.00024649536626065365, 0.07468809597697805, 0.010969043798599087, 0.9951667533978268, 0.1095000285155566, 0.8438393805884151, 0.023737768419456323, 0.006125875721150019, 0.01684615823316255, 0.009149540794758134, 0.054897244768548806, 0.03202339278165347, 0.0022873851986895334, 0.9035171534823657, 0.995776531406176, 0.985502339912654, 0.004977284545013404, 0.004977284545013404, 0.9946502872317713, 0.9964317283492279, 0.996635333806042, 0.00044902582237807035, 0.17377299326031323, 0.2604349769792808, 0.0008980516447561407, 0.5644254587292344, 0.026077869903863553, 0.9547397925914489, 0.00869262330128785, 0.0028975411004292834, 0.00869262330128785, 0.0011056357564875872, 0.190169350115865, 0.806008466479451, 0.0022112715129751744, 0.0011056357564875872, 0.9967420943051511, 0.9929666812601091, 0.9908685884073535, 0.9946104540744077, 0.9925126113967853, 0.7527216190387819, 0.08921634641811725, 0.001982585475958161, 0.10441616840046315, 0.05176750965001865, 0.9960675120609765, 0.007575182060786836, 0.9923488499630755, 0.9778346682186841, 0.01917322878860165, 0.997648519799196, 0.001441457215104417, 0.002882914430208834, 0.9845152779163169, 0.01009020050573092, 0.0781642405704544, 0.5156300380106373, 0.392875208218433, 0.010045953518132936, 0.003286408585857615, 0.010687551673890933, 0.7869204713961175, 0.1646674628273566, 0.011875057415434369, 0.025729291066774466, 0.013704170866392846, 0.0017130213582991058, 0.9832742596636866, 0.9984476538225419, 0.0010548688202606917, 0.034810671068602826, 0.004219475281042767, 0.0010548688202606917, 0.9599306264372294, 0.00532851127397816, 0.18756359684403123, 0.7950138820775414, 0.002131404509591264, 0.009591320293160687, 0.533411171477348, 0.3141026454038134, 0.02134324561765244, 0.12502431363514496, 0.00611888270267169, 0.11454438505100639, 0.666166028849274, 0.1797291831227962, 0.0357951203284395, 0.003767907402993631, 0.22242019640949895, 0.005104725819234403, 0.0032816094552221156, 0.7671673659763701, 0.002187739636814744, 0.06478681852367124, 0.6829461311777056, 0.2269328339447932, 0.011454023164405965, 0.013243714283844398, 0.8631625508606489, 0.017368375394601353, 0.04662037605919311, 0.05027687614226708, 0.022624594264020186, 0.8381079851407714, 0.06807736341396158, 0.07816289873454847, 0.00201710706411738, 0.014119749448821661, 0.7929029728354903, 0.10882981980094963, 0.05523317922228647, 0.014319713131703899, 0.028639426263407798, 0.965653274537426, 0.009955188397293053, 0.016591980662155087, 0.006636792264862035, 0.32587116745927386, 0.13424161809937343, 0.29905168199581145, 0.153274801331508, 0.08766799549346836, 0.650380222448727, 0.18323990499696496, 0.11314187064797875, 0.0396030280681953, 0.013628299267079133, 0.8401506648023358, 0.022669641813963273, 0.004808711899931603, 0.08174810229883725, 0.05083495437070552, 0.8988076723853334, 0.03656993242074141, 0.007313986484148283, 0.007313986484148283, 0.04957257505922725, 0.9564076165824276, 0.008790511181823783, 0.008790511181823783, 0.01054861341818854, 0.01582292012728281, 0.9903376087405162, 0.06615931978828035, 0.8894752993757692, 0.007351035532031151, 0.019602761418749736, 0.018377588830077875, 0.0042811799603625945, 0.0021405899801812973, 0.9910931608239407, 0.9904463587739887, 0.007575188346031009, 0.9923496733300621, 0.9970539239432715, 0.9978656403873979, 0.8202257369976005, 0.15811981537088485, 0.012316701407837345, 0.0036617220401678596, 0.0056590249711685105, 0.9893302661249297, 0.044631756493646535, 0.05792632225771146, 0.7872282156007017, 0.1063565261125194, 0.002848835520871055, 0.05126465737636093, 0.008915592587193205, 0.1264899698308036, 0.7602400095704539, 0.05312207249869284, 0.9924885064285356, 0.003032229677187117, 0.9915391044401873, 0.003032229677187117, 0.003032229677187117, 0.003032229677187117, 0.18173801461303368, 0.12521393591773383, 0.3458824418175966, 0.04697862169708698, 0.3002139808849702, 0.00244521409761352, 0.9927569236310891, 0.00244521409761352, 0.004779540766295823, 0.9893649386232355, 0.004779540766295823, 0.931604214912149, 0.013624924532536, 0.0093671356161185, 0.0042577889164175, 0.0417263313808915, 0.010513496998053345, 0.9308199663633658, 0.0548203772041353, 0.0007509640712895246, 0.0033793383208028612, 0.9955443848211633, 0.0050535247960465145, 0.008258216847635558, 0.9785986964448135, 0.008258216847635558, 0.001376369474605926, 0.002752738949211852, 0.9981731605258769, 0.0028425721635762496, 0.9579468191251961, 0.036953438126491246, 0.1091207368226474, 0.004546697367610308, 0.011366743419025771, 0.8570524537945432, 0.018186789470441233, 0.9876944895517992, 0.00823078741293166, 0.9962513427278897, 0.0065962403139733505, 0.9927341672529892, 0.0032981201569866753, 0.9964067848637277, 0.009730158565108614, 0.0011949317536098297, 0.0044383179419793676, 0.9718209247572515, 0.012973544753478151, 0.9955402491917241, 0.2649177556951463, 0.23067511129088286, 0.12193157838545161, 0.35885365858792306, 0.023483975723194193, 0.015430656583616234, 0.00839609255285001, 0.025869041919591922, 0.9442200300651052, 0.006126878349377035, 0.06873438543937685, 0.2671268161393964, 0.613923033583525, 0.03311747662079066, 0.017183596359844212, 0.0007198854446479404, 0.9984811117266933, 0.9894039495538343, 0.6235624902774758, 0.3208947355267926, 0.005942495102348011, 0.04788951935421633, 0.0016978557435280033, 0.9095297526583382, 0.004848239619713956, 0.0019392958478855827, 0.08145042561119446, 0.002908943771828374, 0.9978849073184376, 0.008093285108679254, 0.9165067293785777, 0.025725084809730483, 0.02636098578255528, 0.02329709927712671, 0.024954591503750047, 0.0014679171472794146, 0.0014679171472794146, 0.9409348914061048, 0.030092301519228, 0.006131818418363507, 0.0008759740597662153, 0.03328701427111618, 0.006131818418363507, 0.9530597770256423, 0.004619015618411051, 0.993088357958376, 0.994855676688092, 0.24434411298071146, 0.24798018609054348, 0.010544612018512846, 0.49123347713830534, 0.0058177169757312255, 0.006093119862953409, 0.727518511636637, 0.017060735616269546, 0.2465682504541813, 0.0028434559360449242, 0.9955044255956215, 0.7874737618950393, 0.03196159903643953, 0.026046054463396858, 0.030548931675712925, 0.12387326919371454, 0.4396554831032382, 0.21194457459023933, 0.15451007244304377, 0.15676240586058085, 0.037163501389361836, 0.9517386939299617, 0.02868382427358086, 0.002821359764614511, 0.0009404532548715036, 0.01551747870537981, 0.995137677194574, 0.988996588690642, 0.99490888438697, 0.012451457077684386, 0.041016564491195624, 0.813739341959256, 0.11645774560893044, 0.016113650335826853, 0.02224609426433678, 0.9541102651148885, 0.019774306012743804, 0.15658828714392115, 0.0005084035296880557, 0.006100842356256668, 0.8342901922180993, 0.002033614118752223, 0.15038082699739802, 0.07211571257496038, 0.17078566040039067, 0.24457848257011758, 0.3625351907353629, 0.01741958723853242, 0.0018934333954926544, 0.004670469042215215, 0.9741083675344543, 0.0018934333954926544, 0.9962192898277752, 0.18106682384736214, 0.044435722953845395, 0.0505587556443359, 0.14590312182483095, 0.5781892297734608, 0.0016752452012266526, 0.998446139931085, 0.9944706579193052, 0.9937385666534438, 0.0015495741654252596, 0.9963761883684419, 0.0015495741654252596, 0.9945151282434223, 0.9993387493428575, 0.8476557401895274, 0.015598035472147715, 0.03460814120382774, 0.018766386427427718, 0.08310828275003704, 0.13956162892781215, 0.04335588018845865, 0.39463344959859814, 0.054432199944634226, 0.3677338159050289, 0.01776602938416026, 0.8895704713068814, 0.06091210074569231, 0.027918046175108974, 0.005076008395474359, 0.08754305428045789, 0.013895722901659982, 0.019454012062323976, 0.8455547385660099, 0.033349734963983954, 0.01448804427052715, 0.002228929887773408, 0.9818436155641861, 0.23072582237814793, 0.04635587298921694, 0.06496845835609949, 0.6465239558571847, 0.011237787391325318, 0.993626626943484, 0.00540014471164937, 0.00540014471164937, 0.2664184159978014, 0.17477012376531376, 0.41551987535313933, 0.11807585628588887, 0.02522225285501974, 0.9969509065953462, 0.04140286158300837, 0.04399054043194639, 0.9030999182793701, 0.005175357697876046, 0.006469197122345058, 0.8984418590218627, 0.006459737752104466, 0.010766229586840776, 0.009689606628156698, 0.07482529562854338, 0.25050787734427304, 0.22526414387633284, 0.4313141084570042, 0.05322086482731347, 0.039714663481409146, 0.09335980230198274, 0.1666762572170991, 0.6925503978672505, 0.031119934100660912, 0.016351151815601497, 0.37005110995940793, 0.2868034387353558, 0.21139192703959203, 0.04471220436729269, 0.08711965593214761, 0.013220900880084084, 0.9269320505925619, 0.04994562554698432, 0.002937977973352019, 0.007344944933380047, 0.007040754987278733, 0.0046938366581858225, 0.0023469183290929113, 0.9833587798899297, 0.0023469183290929113, 0.9952441456427452, 0.9223568309707905, 0.03240129382801372, 0.0021600862552009145, 0.02376094880721006, 0.01944077629680823, 0.0736377789109775, 0.30238997597959466, 0.4287619062397238, 0.14870080515571585, 0.04655807956952126, 0.9948461241304121, 0.9945802358088981, 0.9940469641291784, 0.0667034553965124, 0.0004833583724384956, 0.0019334334897539824, 0.9062969483221793, 0.024651276994363275, 0.18529339243595894, 0.16139457967621212, 0.17194730219350293, 0.18281039890247874, 0.29857997240099243, 0.9948433708297137, 0.004811178112968597, 0.9959138693844996, 0.027659235288983404, 0.9016910704208589, 0.041237405339938894, 0.027659235288983404, 0.0015086855612172765, 0.0033993280734871925, 0.0033993280734871925, 0.9858051413112858, 0.006798656146974385, 0.9909768945944765, 0.0062065358742869085, 0.0020688452914289696, 0.06323709998062435, 0.29350736749627715, 0.5992260370577783, 0.02529483999224974, 0.018753071028736877, 0.0030024150901057545, 0.010008050300352515, 0.8977221119416207, 0.009007245270317264, 0.08106520743285538, 0.9690599164826075, 0.02153466481072461, 0.0025334899777323073, 0.003800234966598461, 0.0025334899777323073, 0.967521482946216, 0.009098948115481655, 0.02123087893612386, 0.9956204777155265, 0.8955734330769514, 0.07017109236592314, 0.025570821794361827, 0.002378681097149937, 0.006541373017162328, 0.0034852417176790764, 0.9950365103973763, 0.9861685078496049, 0.9926756049553768, 0.9920912973364912, 0.017905099699344205, 0.016413008057732187, 0.01044464149128412, 0.9400177342155708, 0.013428824774508154, 0.9932456732973084, 0.061837939377045396, 0.06554821573966813, 0.02473517575081816, 0.847179769465522, 0.002473517575081816, 0.9929919304497548, 0.9918721310567079, 0.9857338395903673, 0.9908731492641651, 0.05694590964439013, 0.1095448032853917, 0.09737315847590373, 0.7324721965709723, 0.0034776128027108476, 0.010614336686023252, 0.9425530977188648, 0.04670308141850231, 0.020723703658773785, 0.9769746010564784, 0.0029605290941105405, 0.22510740075489788, 0.3772204164120678, 0.07671858841904057, 0.24703882031373903, 0.07390474590960434, 0.9958728812439939, 0.0785276858048391, 0.005510714793322042, 0.002755357396661021, 0.8748259734398741, 0.03857500355325429, 0.27530873351325946, 0.1043784144621552, 0.4741112177340946, 0.04891849397136429, 0.09755257809405786, 0.9975428207315903, 0.001783174340796194, 0.03388031247512769, 0.9308170058956133, 0.032097138134331495, 0.7167610154058209, 0.15265987194821468, 0.08990361973855598, 0.032083252534151355, 0.008461517151864092, 0.006977667472302734, 0.9908287810669882, 0.9979113182549162, 0.0018143842150089384, 0.019892293458143497, 0.9452269098386806, 0.01920635230441441, 0.0048015880761036024, 0.010975058459665378, 0.025989884979155754, 0.9200419282621137, 0.04158381596664921, 0.0017326589986103838, 0.010395953991662302, 0.006336272608228128, 0.9926827086224067, 0.9911285392875129, 0.008399394400741635, 0.008689833703360959, 0.9862961253314689, 0.0043449168516804795, 0.9945165362592525, 0.006833943743085675, 0.005979700775199966, 0.2631068341087985, 0.7239709152831387, 0.0004271214839428547, 0.0049654305526162425, 0.9732243883127835, 0.014896291657848728, 0.0049654305526162425, 0.12159903008260702, 0.12585249409784224, 0.6712967031103594, 0.06780522047816152, 0.013511003342511891, 0.2891826024181257, 0.12827692628649243, 0.3082651203780998, 0.17150707499828555, 0.10283356900652697, 0.12807904510387033, 0.17077206013849375, 0.6421497329865279, 0.05234280610409312, 0.006433194046313121, 0.006346413606902931, 0.9900405226768573, 0.05305070791783955, 0.6170898383273223, 0.17091336560322837, 0.0878339550903853, 0.07106792947484167, 0.0023777352500565993, 0.9820046582733756, 0.014266411500339596, 0.9184951023402259, 0.06433572251861493, 0.004106535479911591, 0.009581916119793712, 0.0027376903199410607, 0.9923277301514486, 0.013627623474231566, 0.9526947683349157, 0.01858312291940668, 0.0012388748612937785, 0.014247060904878454, 0.9984551208981706, 0.4985332521109503, 0.29695022152560147, 0.058885455993267104, 0.1134819113357821, 0.03209181663386279, 0.04458068290686232, 0.26713581085596405, 0.5043189753838799, 0.17692958528660982, 0.006965731704197237, 0.9975355517634706, 0.01779588579744596, 0.0007263626856100393, 0.9715100920034275, 0.00980589625573553, 0.007367648969695734, 0.9909487864240764, 0.9547983686659891, 0.037016128317723634, 0.0010887096564036363, 0.0021774193128072726, 0.003266128969210909, 0.9773574537127493, 0.0033371146520281667, 0.0016685573260140833, 0.008342786630070417, 0.00959420462458098, 0.528240723971004, 0.23735786451049334, 0.11166970672607775, 0.10641278757920104, 0.01624865918125525, 0.505669149073602, 0.1272853888118745, 0.22516383783856744, 0.008029939277134452, 0.13379615038792947, 0.9918721310567079, 0.9894039495538343, 0.04229074706450127, 0.9350954073150837, 0.021928535514926586, 0.005453981041784085, 0.005453981041784085, 0.9871705685629194, 0.02487102516150812, 0.004145170860251354, 0.9658248104385654, 0.004145170860251354, 0.9948556234327822, 0.9944798481340694, 0.9949854957419243, 0.009504986159520539, 0.0026075625747357233, 0.0012617238264850273, 0.030954291209766005, 0.9557137411015254, 0.9967722558206241, 0.1908221175535616, 0.6341142563568987, 0.1305307691954063, 0.03994301828727791, 0.004521851126861649, 0.14714160719361621, 0.0740335130533918, 0.6601321580594103, 0.058918337471657645, 0.05953528341376924, 0.006919348134902652, 0.9917732326693801, 0.007575166573333712, 0.9923468211067162, 0.4749556657790014, 0.2830995227890618, 0.16158582741677102, 0.03906312152537462, 0.041369431283330316, 0.9904594372667246, 0.014462400281819688, 0.8415539247624678, 0.10949351776999487, 0.01277950279448067, 0.021719895695969205, 0.9982785918017121, 0.9978849073184376, 0.002312421259256318, 0.9943411414802168, 0.0022732044252511876, 0.05001049735552612, 0.006819613275753563, 0.0022732044252511876, 0.9411066320539917, 0.42001835708374474, 0.2729667202253077, 0.12840173671881971, 0.1584676363378391, 0.02011928621122351, 0.9174469996095264, 0.003882004229659491, 0.0452900493460274, 0.019410021148297457, 0.014234015508751467, 0.09034490943206752, 0.3500197008913977, 0.4056165682342085, 0.14527354519623875, 0.008687010522314185, 0.30391261125775854, 0.08188382478108758, 0.2647454603908706, 0.23757324947696712, 0.11174877731708963, 0.9945172271635068, 0.9924885064285356, 0.9942141791252863, 0.9884448410265178, 0.9981366474418022, 0.038179797144029706, 0.011840570000363643, 0.05050365571583676, 0.7998425857388501, 0.09955744571734328, 0.9978849073184376, 0.9933037929270344, 0.004821863072461332, 0.040332261926367824, 0.9469313669668967, 0.006137518119229886, 0.004383941513735633, 0.0017535766054942532, 0.15936548948821624, 0.5602882247153574, 0.2413842104626077, 0.025782256171274942, 0.013150681000113393, 0.16646543153586896, 0.41205248923494037, 0.11463874455162473, 0.3030749172537663, 0.0037741150469670693, 0.14343677575948102, 0.00488989008270958, 0.00244494504135479, 0.029339340496257478, 0.8206865522147578, 0.007009158184007843, 0.9929640760677778, 0.9975631731887896, 0.993749361412881, 0.9977054536284331, 0.008285640605386778, 0.9404202087113993, 0.008285640605386778, 0.004142820302693389, 0.0372853827242405, 0.0026475881365976214, 0.005295176273195243, 0.005295176273195243, 0.9875503749509128, 0.20603532353885712, 0.329745517801929, 0.0235850370357655, 0.030705048216373956, 0.4098456435837741, 0.9926630428646835, 0.990872869508409, 0.0744309872528282, 0.8610643623366401, 0.043782933678134246, 0.005837724490417899, 0.015324026787346985, 0.03867551905639875, 0.9331708572325956, 0.01090847973385606, 0.011900159709661155, 0.0059500798548305775, 0.0029781575969056832, 0.976835691785064, 0.0178689455814341, 0.6320608926506596, 0.06431930805838415, 0.009400514254686914, 0.2219016128014253, 0.0722355305886468, 0.3570137448912866, 0.3899118317015155, 0.2196294809584294, 0.008572036704073721, 0.024905241775349325, 0.98981601884707, 0.006385909799013355, 0.006385909799013355, 0.014015190442490614, 0.981063330974343, 0.6502966424894707, 0.05296902476417995, 0.01059380495283599, 0.07252681852326177, 0.21350591520330994, 0.9670871154262822, 0.016823625464766973, 0.0037988831694635104, 0.00868316153020231, 0.0037988831694635104, 0.7496391932156432, 0.18019527607735022, 0.04194489666604986, 0.022818023786331125, 0.005368946773254383, 0.9254522233366429, 0.012161762634586671, 0.019690472836949847, 0.015057420404726355, 0.027219183039313026, 0.9683889009638463, 0.004189892486593169, 0.016759569946372677, 0.007856048412362192, 0.002618682804120731, 0.030285692923940184, 0.008653055121125767, 0.010816318901407208, 0.9410197444224271, 0.008653055121125767, 0.2585944689170903, 0.2495922041288503, 0.35002923676627307, 0.09514158276198749, 0.046599958903830604, 0.9942500515333013, 0.7345216962513529, 0.06538516833682563, 0.004245790151741924, 0.16049086773584473, 0.03524005825945797, 0.9941809272851565, 0.003945162409861732, 0.9924885064285356, 0.0314861843635662, 0.0016571675980824314, 0.002900043296644255, 0.956185704093563, 0.007457254191370942, 0.0028644859115159733, 0.966763995136641, 0.028644859115159734, 0.0004774143185859956, 0.0009548286371719912, 0.008372682915416835, 0.9879765840191866, 0.001674536583083367, 0.001674536583083367, 0.007575191980431638, 0.9923501494365445, 0.08257034690074859, 0.768377559375756, 0.1404221823089164, 0.007888886646568337, 0.0010518515528757783, 0.0027252559160005413, 0.9701911060961926, 0.02180204732800433, 0.0054505118320010825, 0.0027252559160005413, 0.998309229773925, 0.2221530277965132, 0.37102893016047306, 0.27743735411295445, 0.07255160933916172, 0.05688046172190279, 0.9960696120567424, 0.9981726223215681, 0.9974722702433099, 0.9949584915711903, 0.006544392505062476, 0.991475464516965, 0.324415392386849, 0.0009619433428816873, 0.11495222947436164, 0.5519149929783681, 0.007695546743053498, 0.9925088464911607, 0.19896302128570947, 0.3697199742118476, 0.17258160424859018, 0.13570844210737157, 0.1230879371270782, 0.9963385645647502, 0.9674584091149586, 0.004688812968246972, 0.012503501248658592, 0.014066438904740916, 0.048082152192634856, 0.00655665711717748, 0.08305099015091474, 0.8272315729505587, 0.034968837958279896, 0.2166535767205556, 0.19272864186797892, 0.34938000102175487, 0.11335861989673242, 0.12788447320008256, 0.1795362855336799, 0.1101183431409107, 0.0185940917123489, 0.6894276004900919, 0.0022726112092870876, 0.44205224918107594, 0.30732653982445685, 0.21448501732341943, 0.0008440138409185221, 0.03534307958846311, 0.004420691968492564, 0.9902350009423343, 0.994027513077887, 0.9932905682150991, 0.9956863447308608, 0.2999893552048475, 0.3222361413866103, 0.3499590595515762, 0.005133873734252952, 0.022931302679663184, 0.9978572586029996, 0.9925871514020669, 0.02732766063790545, 0.011654443507342032, 0.26965971011815526, 0.002009386811610695, 0.6892196763824684, 0.9941733787280235, 0.054103758911171314, 0.008115563836675697, 0.8927120220343266, 0.04328300712893705, 0.0027051879455585654, 0.9953894398507082, 0.6678040303093201, 0.06900641646529641, 0.008586051818262686, 0.2464514873760586, 0.007950047979872858, 0.9252732264787276, 0.037060342849615256, 0.002470689523307684, 0.03335430856465373, 0.001235344761653842, 0.05936505042494434, 0.23964733513648584, 0.11310604344120974, 0.3040115477024781, 0.2837024515044709, 0.1928610254978314, 0.6836691725612127, 0.023650467096447088, 0.07850979799026765, 0.021212274612277288, 0.9955396809165215, 0.0006296197997544898, 0.0009444296996317348, 0.002833289098895204, 0.0003148098998772449, 0.9954289034118484, 0.9978849073184376, 0.00686106827800915, 0.003430534139004575, 0.9897090991028199, 0.9868794435944239, 0.049565720675794, 0.009011949213780727, 0.0005632468258612955, 0.09011949213780727, 0.8505027070505561, 0.9964162975944121, 0.23283271528667965, 0.11397405643403899, 0.013839706852704735, 0.05006717479066713, 0.5890016416430515, 0.9988912640785785, 0.4455620565799489, 0.1568401128508668, 0.23157315034852213, 0.1215298161963769, 0.044386035553635905, 0.04531774436816735, 0.3259232291487575, 0.5753779426634775, 0.0012427169387980077, 0.05211126363359646, 0.9928317518334876, 0.012502120842794279, 0.013543964246360469, 0.7063698276178768, 0.11929106970832876, 0.14794176330639897, 0.010891236816836897, 0.02042106903156918, 0.023143878235778407, 0.863130517734324, 0.08168427612627673, 0.9911317144134929, 0.187964257591795, 0.7269335928964448, 0.02492343747073525, 0.010384765612806353, 0.0498468749414705, 0.33533894274353737, 0.0165876214993461, 0.006276397324076903, 0.6361577002046518, 0.005828083229499981, 0.0022196112435327446, 0.019976501191794702, 0.9766289471544076, 0.28912936950458407, 0.1534368856215663, 0.4234301356041863, 0.10356699838250846, 0.030385838271239883, 0.006874692622236132, 0.2904557632894766, 0.661259496601338, 0.0012890048666692748, 0.04038881915563727, 0.08782595016832287, 0.8469246149397567, 0.05604972699184424, 0.0061787100620930655, 0.0030893550310465328, 0.008492834378691635, 0.9894152051175755, 0.000566923441303662, 0.9989191035770525, 0.2684227486073349, 0.16175085110883558, 0.00906362527765027, 0.01603564472199663, 0.5445147186034508, 0.998022395126748, 0.2839972264034658, 0.42050494854159765, 0.15652514778771537, 0.023840197909052563, 0.11516970243527724, 0.2706723972400184, 0.1246234473293137, 0.24120063604727532, 0.11311542629214735, 0.250369628418351, 0.9954254181541652, 0.16014002078068162, 0.13303514679707748, 0.5138862843013929, 0.05974135490263771, 0.13303514679707748, 0.9766301028288894, 0.009717712465959098, 0.009717712465959098, 0.007575190994517701, 0.9923500202818187, 0.006628994782553474, 0.9910347199917444, 0.961483174782015, 0.00581207445895864, 0.0016605927025596114, 0.014115037971756696, 0.01743622337687592, 0.13536411295233597, 0.03908400444398433, 0.7139980324035186, 0.0076261472085823075, 0.10485952411800673, 0.0015980444077425316, 0.0015980444077425316, 0.0031960888154850633, 0.9923855772081122, 0.0015980444077425316, 0.008070411508217589, 0.8225611729529466, 0.15582102219712424, 0.006828809737722576, 0.006828809737722576, 0.192616690621855, 0.2664970651069501, 0.47004503562711, 0.06332603527293863, 0.0075388137229688845, 0.10187764578179932, 0.29785601782006976, 0.18929022124648823, 0.06003781873553365, 0.35089460898280805, 0.9954969102910297, 0.9908732625467672, 0.0020638094564187303, 0.5769637311600613, 0.3565230835963356, 0.0025797618205234125, 0.061785295601535735, 0.03686622601254735, 0.009216556503136837, 0.002304139125784209, 0.002304139125784209, 0.9516094589488785, 0.9993308339460538, 0.997296538066023, 0.026594416785123764, 0.013297208392561882, 0.001108100699380157, 0.9540747021663151, 0.005540503496900785, 0.9894039495538343, 0.41579342881251247, 0.08586215409028217, 0.09700044360073438, 0.3708077158382589, 0.03060326147046581, 0.2899848068766027, 0.08907820586927685, 0.551451770866998, 0.0035246772106548394, 0.06600759139953609, 0.9886567851691679, 0.6828378588755415, 0.05231766540870834, 0.012802440476483922, 0.22908982429554403, 0.022896672390634705, 0.0350129521494776, 0.033012212026650306, 0.12554644270741253, 0.6682472010243153, 0.1380510684750831, 0.028430821315779686, 0.9619094545172127, 0.004738470219296614, 0.9947847722757298, 0.9894039495538343, 0.9716801191362355, 0.006818807853587618, 0.006818807853587618, 0.013637615707175236, 0.003409403926793809, 0.009270658044033979, 0.936336462447432, 0.05134518301311127, 0.0021393826255463027, 0.0021393826255463027, 0.002127008341594758, 0.9805508454751835, 0.004254016683189516, 0.01063504170797379, 0.9948554838681678, 0.9935489515381027, 0.002992617323909948, 0.9407352902144159, 0.00239372847382803, 0.00239372847382803, 0.010771778132226136, 0.04308711252890454, 0.2685799854070474, 0.05072454930205738, 0.5153744272035958, 0.07803776815701136, 0.08681701707467514, 0.20165300655090673, 0.39092465287093914, 0.3120294737253678, 0.0594113332008621, 0.036088305789215104, 0.9883147367376697, 0.005679969751365917, 0.005679969751365917, 0.3358957291165858, 0.3223355987569591, 0.15481148827240454, 0.13772007396495842, 0.04929672391155948, 0.007529632051235312, 0.9939114307630612, 0.08272108505450053, 0.07847897812862871, 0.7368539730239355, 0.05048107241787468, 0.051753704495636224, 0.5243111832284348, 0.1269115088988143, 0.17853850471348348, 0.12761074586244414, 0.042653454781419686, 0.9894039495538343, 0.9850519575220894, 0.0061565747345130595, 0.0061565747345130595, 0.010389721766018167, 0.0014842459665740239, 0.021521566515323345, 0.8601205376296468, 0.1061235866100427, 0.9919632518654293, 0.2698087217290805, 0.14258068909076277, 0.14911978350569305, 0.41651188338577755, 0.022033905093786867, 0.20967245685163696, 0.1444981962351772, 0.5629855538777082, 0.0664605947075741, 0.016722343184486385, 0.4174127521123372, 0.311943202928578, 0.058582380645414614, 0.13141165603944185, 0.08069696353878347, 0.5073554758602254, 0.12837644104914703, 0.15834826871649177, 0.04513098905978786, 0.16086035831866805], \"Term\": [\"accident\", \"accident\", \"accident\", \"accident\", \"accident\", \"account\", \"account\", \"account\", \"account\", \"account\", \"afford\", \"afford\", \"afford\", \"afford\", \"afford\", \"also\", \"also\", \"also\", \"also\", \"also\", \"anyone_else\", \"anyone_else\", \"anyone_else\", \"apple_sap\", \"arabian_nfts\", \"artistically_inspired\", \"artistontwitter\", \"artists_coo\", \"asking_owners\", \"attack\", \"attack\", \"attack\", \"attack\", \"attack\", \"aura_dims\", \"automaker\", \"automaker\", \"automaker\", \"automaker\", \"automaker\", \"autopilot\", \"autopilot\", \"autopilot\", \"autopilot\", \"autopilot\", \"available_santa\", \"avatar\", \"aws_ceo\", \"back\", \"back\", \"back\", \"back\", \"back\", \"bad\", \"bad\", \"bad\", \"bad\", \"bad\", \"bake\", \"banking_ai\", \"bankrupt\", \"bankrupt\", \"bankrupt\", \"battery\", \"battery\", \"battery\", \"battery\", \"battery\", \"beta_update\", \"biden\", \"biden\", \"biden\", \"biden\", \"biden\", \"bill_gates\", \"bill_gates\", \"bill_gates\", \"bill_gates\", \"bill_gates\", \"bitcoin_dogecoin\", \"blackberry\", \"blackberry\", \"blackberry\", \"blasts_biden\", \"bluetooth_hack\", \"bluetooth_locks\", \"bot\", \"bot\", \"bot\", \"bot\", \"bot\", \"boycott\", \"boycott\", \"boycott\", \"boycott\", \"boycott\", \"boycotttesla\", \"boycotttesla\", \"boycotttesla\", \"boycotttesla\", \"boycotttesla\", \"brand_threatened\", \"bsc_galaxyheroes\", \"btc_holdings\", \"btcusd\", \"bugs_jonathan\", \"build\", \"build\", \"build\", \"build\", \"build\", \"building_hardcore\", \"burn_burned\", \"burn_burned\", \"business_conduct\", \"business_conduct\", \"business_operations\", \"button\", \"button\", \"button\", \"button\", \"buy\", \"buy\", \"buy\", \"buy\", \"buy\", \"buying\", \"buying\", \"buying\", \"buying\", \"buying\", \"c\", \"c\", \"c\", \"california_united\", \"canada\", \"canada\", \"canada\", \"canada\", \"canada\", \"cancel\", \"cancel\", \"cancel\", \"cancel\", \"cancel\", \"car\", \"car\", \"car\", \"car\", \"car\", \"care\", \"care\", \"care\", \"care\", \"care\", \"catch\", \"catch\", \"catch\", \"catch\", \"catch\", \"ceo\", \"ceo\", \"ceo\", \"ceo\", \"ceo\", \"charge\", \"charge\", \"charge\", \"charge\", \"charge\", \"cheap\", \"cheap\", \"cheap\", \"cheap\", \"cheap\", \"china\", \"china\", \"china\", \"china\", \"china\", \"cobalt\", \"cobalt\", \"cobalt\", \"cobalt\", \"come\", \"come\", \"come\", \"come\", \"come\", \"company\", \"company\", \"company\", \"company\", \"company\", \"compare\", \"compare\", \"compare\", \"compare\", \"compare\", \"competition\", \"competition\", \"competition\", \"competition\", \"competition\", \"competitor\", \"competitor\", \"competitor\", \"competitor\", \"competitor\", \"component\", \"conservative\", \"conservative\", \"conservative\", \"conservative\", \"conservative\", \"construction_worker\", \"construction_worker\", \"construction_worker\", \"consume\", \"contract_slippage\", \"contract_slippage\", \"coo\", \"correction_getting\", \"cost\", \"cost\", \"cost\", \"cost\", \"cost\", \"course_review\", \"cover\", \"cover\", \"cover\", \"cover\", \"cover\", \"crash\", \"crash\", \"crash\", \"crash\", \"crash\", \"crowleycheck\", \"customer_base\", \"customer_base\", \"customer_base\", \"customer_base\", \"customer_base\", \"day\", \"day\", \"day\", \"day\", \"day\", \"deadly\", \"deadly\", \"deadly\", \"dem\", \"dem\", \"dem\", \"demand\", \"demand\", \"demand\", \"demand\", \"demand\", \"democrat\", \"democrat\", \"democrat\", \"democrat\", \"democrat\", \"democrats\", \"democrats\", \"dems\", \"dems\", \"dems\", \"dems\", \"dems\", \"denies\", \"device\", \"device\", \"device\", \"die\", \"die\", \"die\", \"die\", \"die\", \"diesel_generators\", \"diesel_generators\", \"disney_apple\", \"doc\", \"doc\", \"doc\", \"documentary_explores\", \"door\", \"door\", \"door\", \"door\", \"door\", \"doxed_team\", \"drive\", \"drive\", \"drive\", \"drive\", \"drive\", \"driver\", \"driver\", \"driver\", \"driver\", \"driver\", \"drop\", \"drop\", \"drop\", \"drop\", \"drop\", \"dual_motor\", \"dual_motor\", \"dubai_lamborghini\", \"electric\", \"electric\", \"electric\", \"electric\", \"electric\", \"electricity\", \"electricity\", \"electricity\", \"electricity\", \"electricity\", \"electricity_neurons\", \"elon\", \"elon\", \"elon\", \"elon\", \"elon\", \"emergency\", \"emergency\", \"emergency\", \"emergency\", \"emergency\", \"enter\", \"enter\", \"enter\", \"enter\", \"enter\", \"entered_monthly\", \"entered_monthly\", \"entry_purchase\", \"esg\", \"esg\", \"esg\", \"esg\", \"esg\", \"esg_index\", \"esg_index\", \"esg_index\", \"esg_index\", \"esg_index\", \"estimating\", \"ev\", \"ev\", \"ev\", \"ev\", \"ev\", \"even\", \"even\", \"even\", \"even\", \"even\", \"evs\", \"evs\", \"evs\", \"evs\", \"evs\", \"execute_lawsuits\", \"exploiting_zero\", \"faces_vehicular\", \"fake\", \"fake\", \"fake\", \"fake\", \"fake\", \"fatal\", \"fatal\", \"fatal\", \"feature\", \"feature\", \"feature\", \"feature\", \"feature\", \"find\", \"find\", \"find\", \"find\", \"find\", \"fire\", \"fire\", \"fire\", \"fire\", \"fire\", \"firm_founded\", \"first\", \"first\", \"first\", \"first\", \"first\", \"first_player\", \"first_player\", \"flagship_fund\", \"flammable\", \"flight_attendant\", \"flight_attendant\", \"flight_attendant\", \"floki_rush\", \"florida_united\", \"ford\", \"ford\", \"ford\", \"ford\", \"ford\", \"free\", \"free\", \"free\", \"free\", \"free\", \"free_speech\", \"free_speech\", \"free_speech\", \"free_speech\", \"free_speech\", \"front\", \"front\", \"front\", \"front\", \"front\", \"fsd_beta\", \"fsd_beta\", \"fsd_beta\", \"full\", \"full\", \"full\", \"full\", \"full\", \"fury\", \"fury\", \"fury\", \"get\", \"get\", \"get\", \"get\", \"get\", \"ghc_ghcarmy\", \"glad\", \"glad\", \"glad\", \"glad\", \"glad\", \"gm\", \"gm\", \"gm\", \"gm\", \"gm\", \"go\", \"go\", \"go\", \"go\", \"go\", \"gonna\", \"gonna\", \"gonna\", \"gonna\", \"gonna\", \"good\", \"good\", \"good\", \"good\", \"good\", \"gop\", \"gop\", \"gop\", \"gop\", \"gop\", \"governance\", \"governance\", \"governance\", \"governance\", \"governance\", \"greig\", \"grid\", \"grid\", \"grid\", \"grid\", \"grid\", \"guy\", \"guy\", \"guy\", \"guy\", \"guy\", \"hacker_finds\", \"hacker_shows\", \"hackers_researchers\", \"handle\", \"handle\", \"handle\", \"handle\", \"handle\", \"happen\", \"happen\", \"happen\", \"happen\", \"happen\", \"harassment_claim\", \"hard_hitting\", \"hard_hitting\", \"hate\", \"hate\", \"hate\", \"hate\", \"hate\", \"hidden\", \"hidden\", \"hidden\", \"hidden\", \"highlight\", \"highlight\", \"highlight\", \"hold\", \"hold\", \"hold\", \"hold\", \"hold\", \"horse\", \"horse\", \"horse\", \"horse\", \"horse\", \"hybrid\", \"hybrid\", \"hybrid\", \"hybrid\", \"hybrid\", \"hydrogen\", \"hydrogen\", \"hydrogen\", \"indonesia_official\", \"industry\", \"industry\", \"industry\", \"industry\", \"industry\", \"information_including\", \"information_including\", \"initial_btc\", \"insiders_rip\", \"intuitive\", \"investigation\", \"investigation\", \"investigation\", \"investigation\", \"investigation\", \"investment_realized\", \"involve\", \"involve\", \"involve\", \"involve\", \"involve\", \"issued_recalls\", \"joins_nft\", \"judge_rules\", \"june_vxl\", \"kill\", \"kill\", \"kill\", \"kill\", \"kill\", \"killed_three\", \"killed_three\", \"killed_three\", \"king\", \"king\", \"king\", \"know\", \"know\", \"know\", \"know\", \"know\", \"kowa_oa\", \"lack\", \"lack\", \"lack\", \"lack\", \"lack\", \"last\", \"last\", \"last\", \"last\", \"last\", \"latch\", \"lawyer\", \"lawyer\", \"lawyer\", \"lawyer\", \"less\", \"less\", \"less\", \"less\", \"less\", \"lessonmusk_also\", \"lessonmusk_also\", \"lever\", \"lever\", \"liberal\", \"liberal\", \"liberal\", \"liberal\", \"liberal\", \"libs\", \"libs\", \"libs\", \"libs\", \"libs\", \"limit_charging\", \"limit_charging\", \"linkedin\", \"linkedin\", \"litigation_department\", \"litigation_department\", \"litigation_department\", \"live_gen\", \"lock\", \"lock\", \"lock\", \"lock\", \"lock\", \"logo\", \"logo\", \"logo\", \"logo\", \"lol\", \"lol\", \"lol\", \"lol\", \"lol\", \"look\", \"look\", \"look\", \"look\", \"look\", \"lose\", \"lose\", \"lose\", \"lose\", \"lose\", \"loses\", \"loses\", \"love\", \"love\", \"love\", \"love\", \"love\", \"low_carbon\", \"low_carbon\", \"low_carbon\", \"luxury\", \"luxury\", \"luxury\", \"luxury\", \"luxury\", \"luxury_watches\", \"maga\", \"maga\", \"maga\", \"maga\", \"maga\", \"major_partnerships\", \"make\", \"make\", \"make\", \"make\", \"make\", \"man\", \"man\", \"man\", \"man\", \"man\", \"manslaughter_charges\", \"manual\", \"manual\", \"manual\", \"manual\", \"manually\", \"manually\", \"manufacture\", \"manufacture\", \"manufacture\", \"manufacture\", \"manufacture\", \"manufacturer\", \"manufacturer\", \"manufacturer\", \"manufacturer\", \"manufacturer\", \"many\", \"many\", \"many\", \"many\", \"many\", \"market\", \"market\", \"market\", \"market\", \"market\", \"marketplace_vinci\", \"massive_potentials\", \"mechanical\", \"mechanical\", \"mechanical\", \"mechanism\", \"mechanism\", \"mechanism\", \"meta\", \"meta\", \"meta\", \"meta\", \"min_vxl\", \"misconduct_claim\", \"misinformation\", \"model\", \"model\", \"model\", \"model\", \"model\", \"models_start\", \"money\", \"money\", \"money\", \"money\", \"money\", \"month\", \"month\", \"month\", \"month\", \"month\", \"month_prize\", \"month_prize\", \"mtesla_new\", \"mtesla_new\", \"much\", \"much\", \"much\", \"much\", \"much\", \"musicians_artists\", \"musk\", \"musk\", \"musk\", \"musk\", \"musk\", \"must_stand\", \"mysterical_occultism\", \"nail\", \"nail\", \"nasdaq\", \"nasdaq\", \"nasdaq\", \"nasdaq\", \"nasdaq\", \"need\", \"need\", \"need\", \"need\", \"need\", \"network\", \"network\", \"network\", \"network\", \"network\", \"never\", \"never\", \"never\", \"never\", \"never\", \"new\", \"new\", \"new\", \"new\", \"new\", \"nft_staking\", \"nftcommunity_art\", \"nicola\", \"nyse_nasscom\", \"oa\", \"open\", \"open\", \"open\", \"open\", \"open\", \"paganism_aleister\", \"panasonic\", \"panasonic\", \"party\", \"party\", \"party\", \"party\", \"party\", \"pay\", \"pay\", \"pay\", \"pay\", \"pay\", \"people\", \"people\", \"people\", \"people\", \"people\", \"performance\", \"performance\", \"performance\", \"performance\", \"performance\", \"peugeot_worth\", \"peugeot_worth\", \"phd\", \"photoshop\", \"photoshopped\", \"piss\", \"piss\", \"piss\", \"piss\", \"piss\", \"plaid\", \"plaid\", \"plaid\", \"plaid\", \"plan\", \"plan\", \"plan\", \"plan\", \"plan\", \"plummeting\", \"pm_pst\", \"political\", \"political\", \"political\", \"political\", \"political\", \"politics\", \"politics\", \"politics\", \"politics\", \"politics\", \"poor_working\", \"poor_working\", \"poor_working\", \"power\", \"power\", \"power\", \"power\", \"power\", \"price\", \"price\", \"price\", \"price\", \"price\", \"price_craters\", \"price_craters\", \"price_craters\", \"prize\", \"prize\", \"problem\", \"problem\", \"problem\", \"problem\", \"problem\", \"produce\", \"produce\", \"produce\", \"produce\", \"produce\", \"product\", \"product\", \"product\", \"product\", \"product\", \"production\", \"production\", \"production\", \"production\", \"production\", \"quality\", \"quality\", \"quality\", \"quality\", \"quality\", \"racial_discrimination\", \"racial_discrimination\", \"racial_discrimination\", \"racial_discrimination\", \"racial_discrimination\", \"really\", \"really\", \"really\", \"really\", \"really\", \"rear_doors\", \"recall\", \"recall\", \"recall\", \"recall\", \"recall\", \"recycle\", \"recycle\", \"reference_spritual\", \"release\", \"release\", \"release\", \"release\", \"release\", \"republican\", \"republican\", \"republican\", \"republican\", \"republican\", \"republicans\", \"republicans\", \"republicans\", \"republicans\", \"rewards_busd\", \"rewards_busd\", \"rich\", \"rich\", \"rich\", \"rich\", \"rich\", \"richest_man\", \"richest_man\", \"richest_man\", \"richest_man\", \"richest_man\", \"rickman\", \"right\", \"right\", \"right\", \"right\", \"right\", \"rising_materials\", \"rivian_gm\", \"rockets_iphone\", \"roku\", \"sadistic_psychopath\", \"sadistic_psychopath\", \"safety\", \"safety\", \"safety\", \"safety\", \"safety\", \"saw_awarded\", \"say\", \"say\", \"say\", \"say\", \"say\", \"says_expects\", \"scale\", \"scale\", \"scale\", \"scale\", \"seat\", \"seat\", \"seat\", \"seat\", \"seat\", \"see\", \"see\", \"see\", \"see\", \"see\", \"self_driving\", \"self_driving\", \"self_driving\", \"self_driving\", \"self_driving\", \"sell\", \"sell\", \"sell\", \"sell\", \"sell\", \"senior_director\", \"senior_director\", \"service_manuals\", \"settle_sexual\", \"sexually_harassed\", \"share\", \"share\", \"share\", \"share\", \"share\", \"shares_sink\", \"shibaswap_uniswap\", \"short\", \"short\", \"short\", \"short\", \"short\", \"since_january\", \"sleep\", \"sleep\", \"sleep\", \"sleep\", \"sleep\", \"socially_responsible\", \"solar\", \"solar\", \"solar\", \"solar\", \"solar\", \"solar_panel\", \"solar_panel\", \"solar_panel\", \"solar_panel\", \"solar_panel\", \"someone\", \"someone\", \"someone\", \"someone\", \"someone\", \"spacex\", \"spacex\", \"spacex\", \"spacex\", \"spacex\", \"spacex_grand\", \"spot\", \"spot\", \"spot\", \"spot\", \"spot\", \"spritual\", \"st_may\", \"st_may\", \"st_may\", \"stand_trial\", \"standard\", \"standard\", \"standard\", \"standard\", \"standard\", \"starship\", \"state\", \"state\", \"state\", \"state\", \"state\", \"states_teslaradar\", \"still\", \"still\", \"still\", \"still\", \"still\", \"stock\", \"stock\", \"stock\", \"stock\", \"stock\", \"stor_via\", \"story\", \"story\", \"story\", \"story\", \"story\", \"strategy\", \"strategy\", \"strategy\", \"strategy\", \"strategy\", \"sunra_miku\", \"support\", \"support\", \"support\", \"support\", \"support\", \"system\", \"system\", \"system\", \"system\", \"system\", \"t\", \"t\", \"t\", \"take\", \"take\", \"take\", \"take\", \"take\", \"tank\", \"tank\", \"tank\", \"tank\", \"tank\", \"tax\", \"tax\", \"tax\", \"tax\", \"tax\", \"teach\", \"teach\", \"teslaradar\", \"teslaradar\", \"texas\", \"texas\", \"texas\", \"texas\", \"texas\", \"texas_heatwave\", \"think\", \"think\", \"think\", \"think\", \"think\", \"time\", \"time\", \"time\", \"time\", \"time\", \"times_presents\", \"today\", \"today\", \"today\", \"today\", \"today\", \"token\", \"token\", \"token\", \"token_metatesla\", \"token_metatesla\", \"tortures_animals\", \"tortures_animals\", \"toyota\", \"toyota\", \"toyota\", \"toyota\", \"toyota\", \"trade\", \"trade\", \"trade\", \"trade\", \"trade\", \"trial\", \"trial\", \"trial\", \"trial\", \"trial\", \"trump\", \"trump\", \"trump\", \"trump\", \"trump\", \"try\", \"try\", \"try\", \"try\", \"try\", \"tsla\", \"tsla\", \"tsla\", \"tsla\", \"tsla\", \"tsla_winnings\", \"tuesday_th\", \"twitter\", \"twitter\", \"twitter\", \"twitter\", \"twitter\", \"united_states\", \"united_states\", \"united_states\", \"united_states\", \"united_states\", \"unitedstates\", \"unitedstates_modely\", \"update\", \"update\", \"update\", \"update\", \"update\", \"urus\", \"use\", \"use\", \"use\", \"use\", \"use\", \"value\", \"value\", \"value\", \"value\", \"value\", \"vancouver_several\", \"vehicle\", \"vehicle\", \"vehicle\", \"vehicle\", \"vehicle\", \"video\", \"video\", \"video\", \"video\", \"video\", \"vinci\", \"vinci\", \"vinci\", \"vinci_launching\", \"vip_eventscheck\", \"volkswagen\", \"volkswagen\", \"volkswagen\", \"volkswagen\", \"volkswagen\", \"vote\", \"vote\", \"vote\", \"vote\", \"vote\", \"vote_republican\", \"vote_republican\", \"vote_republican\", \"vote_republican\", \"voxel_ama\", \"vulnerable\", \"vulnerable\", \"vw\", \"vw\", \"vw\", \"vw\", \"vw\", \"wait\", \"wait\", \"wait\", \"wait\", \"wait\", \"want\", \"want\", \"want\", \"want\", \"want\", \"wanted\", \"wanted\", \"wanted\", \"way\", \"way\", \"way\", \"way\", \"way\", \"web_tg\", \"web_tg\", \"week\", \"week\", \"week\", \"week\", \"week\", \"well\", \"well\", \"well\", \"well\", \"well\", \"well_organized\", \"whale_calls\", \"whale_calls\", \"whale_calls\", \"window\", \"window\", \"window\", \"window\", \"window\", \"winner_gets\", \"work\", \"work\", \"work\", \"work\", \"work\", \"worker\", \"worker\", \"worker\", \"worker\", \"worker\", \"world\", \"world\", \"world\", \"world\", \"world\", \"year\", \"year\", \"year\", \"year\", \"year\"]}, \"R\": 30, \"lambda.step\": 0.01, \"plot.opts\": {\"xlab\": \"PC1\", \"ylab\": \"PC2\"}, \"topic.order\": [3, 2, 4, 5, 1]};\n",
       "\n",
       "function LDAvis_load_lib(url, callback){\n",
       "  var s = document.createElement('script');\n",
       "  s.src = url;\n",
       "  s.async = true;\n",
       "  s.onreadystatechange = s.onload = callback;\n",
       "  s.onerror = function(){console.warn(\"failed to load library \" + url);};\n",
       "  document.getElementsByTagName(\"head\")[0].appendChild(s);\n",
       "}\n",
       "\n",
       "if(typeof(LDAvis) !== \"undefined\"){\n",
       "   // already loaded: just create the visualization\n",
       "   !function(LDAvis){\n",
       "       new LDAvis(\"#\" + \"ldavis_el875788335907524601408320\", ldavis_el875788335907524601408320_data);\n",
       "   }(LDAvis);\n",
       "}else if(typeof define === \"function\" && define.amd){\n",
       "   // require.js is available: use it to load d3/LDAvis\n",
       "   require.config({paths: {d3: \"https://d3js.org/d3.v5\"}});\n",
       "   require([\"d3\"], function(d3){\n",
       "      window.d3 = d3;\n",
       "      LDAvis_load_lib(\"https://cdn.jsdelivr.net/gh/bmabey/pyLDAvis@3.3.1/pyLDAvis/js/ldavis.v3.0.0.js\", function(){\n",
       "        new LDAvis(\"#\" + \"ldavis_el875788335907524601408320\", ldavis_el875788335907524601408320_data);\n",
       "      });\n",
       "    });\n",
       "}else{\n",
       "    // require.js not available: dynamically load d3 & LDAvis\n",
       "    LDAvis_load_lib(\"https://d3js.org/d3.v5.js\", function(){\n",
       "         LDAvis_load_lib(\"https://cdn.jsdelivr.net/gh/bmabey/pyLDAvis@3.3.1/pyLDAvis/js/ldavis.v3.0.0.js\", function(){\n",
       "                 new LDAvis(\"#\" + \"ldavis_el875788335907524601408320\", ldavis_el875788335907524601408320_data);\n",
       "            })\n",
       "         });\n",
       "}\n",
       "</script>"
      ],
      "text/plain": [
       "PreparedData(topic_coordinates=              x         y  topics  cluster       Freq\n",
       "topic                                                \n",
       "2      0.043024  0.031502       1        1  29.594909\n",
       "1      0.088135 -0.110200       2        1  23.999476\n",
       "3      0.032734 -0.103158       3        1  19.352818\n",
       "4      0.069061  0.179123       4        1  17.264735\n",
       "0     -0.232954  0.002733       5        1   9.788061, topic_info=        Term          Freq         Total Category  logprob  loglift\n",
       "162    model  11888.000000  11888.000000  Default  30.0000  30.0000\n",
       "156     elon  17298.000000  17298.000000  Default  29.0000  29.0000\n",
       "151    stock  24140.000000  24140.000000  Default  28.0000  28.0000\n",
       "128     musk  19014.000000  19014.000000  Default  27.0000  27.0000\n",
       "144      buy  26776.000000  26776.000000  Default  26.0000  26.0000\n",
       "..       ...           ...           ...      ...      ...      ...\n",
       "127   market   1233.367149   9215.511780   Topic5  -5.2639   0.3129\n",
       "421  someone    908.371327   3200.536320   Topic5  -5.5697   1.0646\n",
       "151    stock   1258.042049  24140.654290   Topic5  -5.2441  -0.6303\n",
       "306     good    944.697435  10847.150277   Topic5  -5.5305  -0.1168\n",
       "94       new    913.154553   8170.111762   Topic5  -5.5645   0.1327\n",
       "\n",
       "[472 rows x 6 columns], token_table=      Topic      Freq      Term\n",
       "term                           \n",
       "1609      1  0.011131  accident\n",
       "1609      2  0.004281  accident\n",
       "1609      3  0.007706  accident\n",
       "1609      4  0.974361  accident\n",
       "1609      5  0.002569  accident\n",
       "...     ...       ...       ...\n",
       "355       1  0.507355      year\n",
       "355       2  0.128376      year\n",
       "355       3  0.158348      year\n",
       "355       4  0.045131      year\n",
       "355       5  0.160860      year\n",
       "\n",
       "[1289 rows x 3 columns], R=30, lambda_step=0.01, plot_opts={'xlab': 'PC1', 'ylab': 'PC2'}, topic_order=[3, 2, 4, 5, 1])"
      ]
     },
     "execution_count": 41,
     "metadata": {},
     "output_type": "execute_result"
    }
   ],
   "source": [
    "pyLDAvis.enable_notebook()\n",
    "gensimvis.prepare(base_model, corpus, id2word)"
   ]
  },
  {
   "cell_type": "code",
   "execution_count": null,
   "id": "cce424a9",
   "metadata": {},
   "outputs": [],
   "source": []
  },
  {
   "cell_type": "markdown",
   "id": "5eabebef",
   "metadata": {},
   "source": [
    "#### ============================================================================"
   ]
  },
  {
   "cell_type": "markdown",
   "id": "e61ba855",
   "metadata": {},
   "source": [
    "# Tuning topics and pther things ....."
   ]
  },
  {
   "cell_type": "markdown",
   "id": "d2fe4449",
   "metadata": {},
   "source": [
    "### Here\n",
    "## We \n",
    "# Go"
   ]
  },
  {
   "cell_type": "code",
   "execution_count": 63,
   "id": "83755606",
   "metadata": {},
   "outputs": [],
   "source": [
    "# supporting function\n",
    "def compute_coherence_values(corpus, dictionary, k, a, b):\n",
    "    \n",
    "    lda_model = gensim.models.LdaMulticore(corpus=corpus,\n",
    "                                           id2word=dictionary,\n",
    "                                           num_topics=k, \n",
    "                                           random_state=100,\n",
    "                                           chunksize=1500,\n",
    "                                           passes=8,\n",
    "                                           alpha=a,\n",
    "                                           eta=b, \n",
    "                                           workers = 7)\n",
    "    \n",
    "    coherence_model_lda = CoherenceModel(model=lda_model, texts=lem_noNone, dictionary=id2word, coherence='c_v')\n",
    "    \n",
    "    return coherence_model_lda.get_coherence()"
   ]
  },
  {
   "cell_type": "code",
   "execution_count": 76,
   "id": "eab11910",
   "metadata": {
    "scrolled": true
   },
   "outputs": [
    {
     "name": "stderr",
     "output_type": "stream",
     "text": [
      "\n",
      "  1%|█▍                                                                                                                                                          | 3/336 [31:03:59<3448:23:05, 37279.84s/it]\u001b[A\n",
      "\n",
      "  0%|▍                                                                                                                                                                    | 1/336 [00:58<5:27:23, 58.64s/it]\u001b[A\n",
      "  1%|▉                                                                                                                                                                    | 2/336 [01:53<5:14:19, 56.47s/it]\u001b[A\n",
      "  1%|█▍                                                                                                                                                                   | 3/336 [02:48<5:10:18, 55.91s/it]\u001b[A\n",
      "  1%|█▉                                                                                                                                                                   | 4/336 [03:42<5:03:33, 54.86s/it]\u001b[A\n",
      "  1%|██▍                                                                                                                                                                  | 5/336 [04:33<4:56:29, 53.75s/it]\u001b[A\n",
      "  2%|██▉                                                                                                                                                                  | 6/336 [05:34<5:08:04, 56.01s/it]\u001b[A\n",
      "  2%|███▍                                                                                                                                                                 | 7/336 [06:35<5:16:49, 57.78s/it]\u001b[A\n",
      "  2%|███▉                                                                                                                                                                 | 8/336 [07:38<5:25:26, 59.53s/it]\u001b[A\n",
      "  3%|████▍                                                                                                                                                                | 9/336 [08:45<5:36:02, 61.66s/it]\u001b[A\n",
      "  3%|████▉                                                                                                                                                               | 10/336 [10:00<5:58:05, 65.91s/it]\u001b[A\n",
      "  3%|█████▎                                                                                                                                                              | 11/336 [11:01<5:48:15, 64.30s/it]\u001b[A\n",
      "  4%|█████▊                                                                                                                                                              | 12/336 [11:59<5:37:31, 62.50s/it]\u001b[A\n",
      "  4%|██████▎                                                                                                                                                             | 13/336 [12:59<5:32:29, 61.76s/it]\u001b[A\n",
      "  4%|██████▊                                                                                                                                                             | 14/336 [14:02<5:32:28, 61.95s/it]\u001b[A\n",
      "  4%|███████▎                                                                                                                                                            | 15/336 [15:43<6:35:05, 73.85s/it]\u001b[A\n",
      "  5%|███████▊                                                                                                                                                            | 16/336 [16:37<6:01:45, 67.83s/it]\u001b[A\n",
      "  5%|████████▎                                                                                                                                                           | 17/336 [17:31<5:38:48, 63.73s/it]\u001b[A\n",
      "  5%|████████▊                                                                                                                                                           | 18/336 [18:26<5:23:31, 61.04s/it]\u001b[A\n",
      "  6%|█████████▎                                                                                                                                                          | 19/336 [19:22<5:14:28, 59.52s/it]\u001b[A\n",
      "  6%|█████████▊                                                                                                                                                          | 20/336 [20:13<5:00:41, 57.09s/it]\u001b[A\n",
      "  6%|██████████▎                                                                                                                                                         | 21/336 [21:16<5:07:58, 58.66s/it]\u001b[A\n",
      "  7%|██████████▋                                                                                                                                                         | 22/336 [22:19<5:14:16, 60.05s/it]\u001b[A\n",
      "  7%|███████████▏                                                                                                                                                        | 23/336 [23:26<5:23:55, 62.10s/it]\u001b[A\n",
      "  7%|███████████▋                                                                                                                                                        | 24/336 [24:32<5:29:35, 63.38s/it]\u001b[A\n",
      "  7%|████████████▏                                                                                                                                                       | 25/336 [25:36<5:29:28, 63.56s/it]\u001b[A\n",
      "  8%|████████████▋                                                                                                                                                       | 26/336 [26:33<5:17:50, 61.52s/it]\u001b[A\n",
      "  8%|█████████████▏                                                                                                                                                      | 27/336 [27:29<5:07:35, 59.73s/it]\u001b[A\n",
      "  8%|█████████████▋                                                                                                                                                      | 28/336 [28:25<5:00:51, 58.61s/it]\u001b[A\n",
      "  9%|██████████████▏                                                                                                                                                     | 29/336 [29:28<5:07:29, 60.09s/it]\u001b[A\n",
      "  9%|██████████████▋                                                                                                                                                     | 30/336 [30:28<5:05:33, 59.91s/it]\u001b[A\n",
      "  9%|███████████████▏                                                                                                                                                    | 31/336 [31:24<4:59:00, 58.82s/it]\u001b[A\n",
      " 10%|███████████████▌                                                                                                                                                    | 32/336 [32:18<4:51:30, 57.53s/it]\u001b[A\n",
      " 10%|████████████████                                                                                                                                                    | 33/336 [33:14<4:47:54, 57.01s/it]\u001b[A\n",
      " 10%|████████████████▌                                                                                                                                                   | 34/336 [34:16<4:54:07, 58.44s/it]\u001b[A\n",
      " 10%|█████████████████                                                                                                                                                   | 35/336 [35:10<4:46:37, 57.13s/it]\u001b[A\n",
      " 11%|█████████████████▌                                                                                                                                                  | 36/336 [36:16<4:59:12, 59.84s/it]\u001b[A\n",
      " 11%|██████████████████                                                                                                                                                  | 37/336 [37:22<5:06:44, 61.56s/it]\u001b[A\n",
      " 11%|██████████████████▌                                                                                                                                                 | 38/336 [38:27<5:11:38, 62.75s/it]\u001b[A\n",
      " 12%|███████████████████                                                                                                                                                 | 39/336 [39:41<5:26:13, 65.90s/it]\u001b[A\n",
      " 12%|███████████████████▌                                                                                                                                                | 40/336 [40:47<5:25:57, 66.07s/it]\u001b[A\n",
      " 12%|████████████████████                                                                                                                                                | 41/336 [41:50<5:20:51, 65.26s/it]\u001b[A\n",
      " 12%|████████████████████▌                                                                                                                                               | 42/336 [42:52<5:14:30, 64.19s/it]\u001b[A\n",
      " 13%|████████████████████▉                                                                                                                                               | 43/336 [43:52<5:07:14, 62.92s/it]\u001b[A\n",
      " 13%|█████████████████████▍                                                                                                                                              | 44/336 [44:53<5:02:50, 62.23s/it]\u001b[A\n",
      " 13%|█████████████████████▉                                                                                                                                              | 45/336 [45:51<4:55:42, 60.97s/it]\u001b[A\n",
      " 14%|██████████████████████▍                                                                                                                                             | 46/336 [46:41<4:39:38, 57.86s/it]\u001b[A\n",
      " 14%|██████████████████████▉                                                                                                                                             | 47/336 [47:36<4:33:34, 56.80s/it]\u001b[A\n",
      " 14%|███████████████████████▍                                                                                                                                            | 48/336 [48:30<4:29:20, 56.11s/it]\u001b[A\n",
      " 15%|███████████████████████▉                                                                                                                                            | 49/336 [49:24<4:25:18, 55.47s/it]\u001b[A\n",
      " 15%|████████████████████████▍                                                                                                                                           | 50/336 [50:17<4:20:25, 54.63s/it]\u001b[A\n",
      " 15%|████████████████████████▉                                                                                                                                           | 51/336 [51:17<4:27:18, 56.27s/it]\u001b[A\n",
      " 15%|█████████████████████████▍                                                                                                                                          | 52/336 [52:18<4:33:11, 57.72s/it]\u001b[A\n",
      " 16%|█████████████████████████▊                                                                                                                                          | 53/336 [53:20<4:38:25, 59.03s/it]\u001b[A\n",
      " 16%|██████████████████████████▎                                                                                                                                         | 54/336 [54:53<5:25:50, 69.33s/it]\u001b[A\n",
      " 16%|██████████████████████████▏                                                                                                                                     | 55/336 [1:01:12<12:39:17, 162.13s/it]\u001b[A\n",
      " 17%|██████████████████████████▋                                                                                                                                     | 56/336 [1:19:29<34:25:39, 442.64s/it]\u001b[A\n",
      " 17%|███████████████████████████▏                                                                                                                                    | 57/336 [1:22:00<27:30:53, 355.03s/it]\u001b[A\n",
      " 17%|███████████████████████████▌                                                                                                                                    | 58/336 [1:24:14<22:18:04, 288.79s/it]\u001b[A\n",
      " 18%|████████████████████████████                                                                                                                                    | 59/336 [1:26:59<19:21:39, 251.62s/it]\u001b[A\n",
      " 18%|████████████████████████████▌                                                                                                                                   | 60/336 [1:29:37<17:08:59, 223.70s/it]\u001b[A\n",
      " 18%|█████████████████████████████                                                                                                                                   | 61/336 [1:32:56<16:30:45, 216.16s/it]\u001b[A\n",
      " 18%|█████████████████████████████▌                                                                                                                                  | 62/336 [1:35:54<15:34:20, 204.60s/it]\u001b[A\n",
      " 19%|██████████████████████████████                                                                                                                                  | 63/336 [1:39:05<15:12:35, 200.57s/it]\u001b[A\n",
      " 19%|██████████████████████████████▍                                                                                                                                 | 64/336 [1:42:15<14:55:25, 197.52s/it]\u001b[A\n",
      " 19%|██████████████████████████████▉                                                                                                                                 | 65/336 [1:46:28<16:06:40, 214.02s/it]\u001b[A\n",
      " 20%|███████████████████████████████▍                                                                                                                                | 66/336 [1:52:21<19:11:24, 255.87s/it]\u001b[A\n",
      " 20%|███████████████████████████████▉                                                                                                                                | 67/336 [1:58:46<21:59:55, 294.41s/it]\u001b[A\n",
      " 20%|████████████████████████████████▍                                                                                                                               | 68/336 [2:03:05<21:08:31, 284.00s/it]\u001b[A\n",
      " 21%|████████████████████████████████▊                                                                                                                               | 69/336 [2:06:58<19:55:43, 268.70s/it]\u001b[A\n",
      " 21%|█████████████████████████████████▎                                                                                                                              | 70/336 [2:11:37<20:04:58, 271.80s/it]\u001b[A\n",
      " 21%|█████████████████████████████████▊                                                                                                                              | 71/336 [2:16:57<21:04:22, 286.28s/it]\u001b[A\n",
      " 21%|██████████████████████████████████▎                                                                                                                             | 72/336 [2:51:20<60:03:46, 819.04s/it]\u001b[A\n",
      " 22%|██████████████████████████████████▊                                                                                                                             | 73/336 [2:53:43<45:01:01, 616.20s/it]\u001b[A\n",
      " 22%|███████████████████████████████████▏                                                                                                                            | 74/336 [2:56:40<35:16:33, 484.71s/it]\u001b[A\n",
      " 22%|███████████████████████████████████▋                                                                                                                            | 75/336 [2:59:40<28:30:26, 393.21s/it]\u001b[A\n",
      " 23%|████████████████████████████████████▏                                                                                                                           | 76/336 [3:02:55<24:06:06, 333.72s/it]\u001b[A\n",
      " 23%|████████████████████████████████████▋                                                                                                                           | 77/336 [3:05:37<20:17:40, 282.09s/it]\u001b[A\n"
     ]
    },
    {
     "name": "stderr",
     "output_type": "stream",
     "text": [
      " 23%|█████████████████████████████████████▏                                                                                                                          | 78/336 [3:08:23<17:43:09, 247.25s/it]\u001b[A\n",
      " 24%|█████████████████████████████████████▌                                                                                                                          | 79/336 [3:11:57<16:57:11, 237.48s/it]\u001b[A\n",
      " 24%|██████████████████████████████████████                                                                                                                          | 80/336 [3:14:50<15:30:41, 218.13s/it]\u001b[A\n",
      " 24%|██████████████████████████████████████▌                                                                                                                         | 81/336 [3:17:14<13:52:48, 195.95s/it]\u001b[A\n",
      " 24%|███████████████████████████████████████                                                                                                                         | 82/336 [3:20:23<13:40:21, 193.79s/it]\u001b[A\n",
      " 25%|███████████████████████████████████████▌                                                                                                                        | 83/336 [3:23:58<14:03:18, 199.99s/it]\u001b[A\n",
      " 25%|████████████████████████████████████████                                                                                                                        | 84/336 [3:26:45<13:19:26, 190.34s/it]\u001b[A\n",
      " 25%|████████████████████████████████████████▍                                                                                                                       | 85/336 [3:29:46<13:03:30, 187.29s/it]\u001b[A\n",
      " 26%|████████████████████████████████████████▉                                                                                                                       | 86/336 [3:33:11<13:22:26, 192.59s/it]\u001b[A\n",
      " 26%|█████████████████████████████████████████▍                                                                                                                      | 87/336 [3:36:56<13:59:51, 202.38s/it]\u001b[A\n",
      " 26%|█████████████████████████████████████████▉                                                                                                                      | 88/336 [3:39:53<13:25:14, 194.82s/it]\u001b[A\n",
      " 26%|██████████████████████████████████████████▍                                                                                                                     | 89/336 [3:42:24<12:28:07, 181.73s/it]\u001b[A\n",
      " 27%|██████████████████████████████████████████▊                                                                                                                     | 90/336 [3:45:53<12:58:26, 189.86s/it]\u001b[A\n",
      " 27%|███████████████████████████████████████████▎                                                                                                                    | 91/336 [3:49:30<13:28:29, 198.00s/it]\u001b[A\n",
      " 27%|███████████████████████████████████████████▊                                                                                                                    | 92/336 [4:14:12<39:31:28, 583.15s/it]\u001b[A\n",
      " 28%|████████████████████████████████████████████▎                                                                                                                   | 93/336 [4:16:49<30:44:27, 455.42s/it]\u001b[A\n",
      " 28%|████████████████████████████████████████████▊                                                                                                                   | 94/336 [4:19:38<24:49:55, 369.40s/it]\u001b[A\n",
      " 28%|█████████████████████████████████████████████▏                                                                                                                  | 95/336 [4:22:49<21:09:05, 315.96s/it]\u001b[A\n",
      " 29%|█████████████████████████████████████████████▋                                                                                                                  | 96/336 [4:25:59<18:31:57, 277.99s/it]\u001b[A\n",
      " 29%|██████████████████████████████████████████████▏                                                                                                                 | 97/336 [4:29:22<16:57:49, 255.52s/it]\u001b[A\n",
      " 29%|██████████████████████████████████████████████▋                                                                                                                 | 98/336 [4:32:00<14:57:32, 226.27s/it]\u001b[A\n",
      " 29%|███████████████████████████████████████████████▏                                                                                                                | 99/336 [4:35:37<14:42:34, 223.43s/it]\u001b[A\n",
      " 30%|███████████████████████████████████████████████▎                                                                                                               | 100/336 [4:38:42<13:54:14, 212.10s/it]\u001b[A\n",
      " 30%|███████████████████████████████████████████████▊                                                                                                               | 101/336 [4:41:18<12:44:09, 195.11s/it]\u001b[A\n",
      " 30%|████████████████████████████████████████████████▎                                                                                                              | 102/336 [4:45:08<13:21:55, 205.62s/it]\u001b[A\n",
      " 31%|████████████████████████████████████████████████▋                                                                                                              | 103/336 [4:49:36<14:31:45, 224.49s/it]\u001b[A\n",
      " 31%|█████████████████████████████████████████████████▏                                                                                                             | 104/336 [4:53:21<14:27:43, 224.41s/it]\u001b[A\n",
      " 31%|█████████████████████████████████████████████████▋                                                                                                             | 105/336 [5:12:16<31:55:46, 497.60s/it]\u001b[A\n",
      " 32%|██████████████████████████████████████████████████▏                                                                                                            | 106/336 [5:13:55<24:09:17, 378.08s/it]\u001b[A\n",
      " 32%|██████████████████████████████████████████████████▋                                                                                                            | 107/336 [5:15:54<19:06:48, 300.47s/it]\u001b[A\n",
      " 32%|███████████████████████████████████████████████████                                                                                                            | 108/336 [5:19:03<16:54:47, 267.05s/it]\u001b[A\n",
      " 32%|███████████████████████████████████████████████████▌                                                                                                           | 109/336 [5:21:47<14:53:31, 236.17s/it]\u001b[A\n",
      " 33%|████████████████████████████████████████████████████                                                                                                           | 110/336 [5:23:38<12:28:08, 198.62s/it]\u001b[A\n",
      " 33%|████████████████████████████████████████████████████▌                                                                                                          | 111/336 [5:27:56<13:31:32, 216.41s/it]\u001b[A\n",
      " 33%|█████████████████████████████████████████████████████                                                                                                          | 112/336 [5:31:09<13:01:25, 209.31s/it]\u001b[A\n",
      " 34%|█████████████████████████████████████████████████████▍                                                                                                         | 113/336 [5:35:09<13:31:53, 218.44s/it]\u001b[A\n",
      " 34%|█████████████████████████████████████████████████████▉                                                                                                         | 114/336 [5:38:55<13:37:03, 220.82s/it]\u001b[A\n",
      " 34%|██████████████████████████████████████████████████████▍                                                                                                        | 115/336 [5:42:39<13:36:31, 221.68s/it]\u001b[A\n",
      " 35%|██████████████████████████████████████████████████████▉                                                                                                        | 116/336 [5:45:36<12:43:46, 208.30s/it]\u001b[A\n",
      " 35%|███████████████████████████████████████████████████████▎                                                                                                       | 117/336 [5:48:31<12:04:10, 198.41s/it]\u001b[A\n",
      " 35%|███████████████████████████████████████████████████████▊                                                                                                       | 118/336 [5:52:20<12:33:51, 207.48s/it]\u001b[A\n",
      " 35%|████████████████████████████████████████████████████████▎                                                                                                      | 119/336 [5:55:17<11:57:46, 198.46s/it]\u001b[A\n",
      " 36%|████████████████████████████████████████████████████████▊                                                                                                      | 120/336 [5:57:28<10:40:53, 178.02s/it]\u001b[A\n",
      " 36%|█████████████████████████████████████████████████████████▌                                                                                                      | 121/336 [5:59:34<9:42:17, 162.50s/it]\u001b[A\n",
      " 36%|██████████████████████████████████████████████████████████                                                                                                      | 122/336 [6:01:37<8:57:42, 150.76s/it]\u001b[A\n",
      " 37%|██████████████████████████████████████████████████████████▏                                                                                                    | 123/336 [6:05:12<10:03:40, 170.05s/it]\u001b[A\n",
      " 37%|██████████████████████████████████████████████████████████▋                                                                                                    | 124/336 [6:08:10<10:09:09, 172.40s/it]\u001b[A\n",
      " 37%|███████████████████████████████████████████████████████████▌                                                                                                    | 125/336 [6:10:56<9:59:29, 170.47s/it]\u001b[A\n",
      " 38%|███████████████████████████████████████████████████████████▋                                                                                                   | 126/336 [6:14:36<10:48:40, 185.34s/it]\u001b[A\n",
      " 38%|████████████████████████████████████████████████████████████                                                                                                   | 127/336 [6:19:05<12:13:09, 210.48s/it]\u001b[A\n",
      " 38%|████████████████████████████████████████████████████████████▌                                                                                                  | 128/336 [6:23:39<13:15:48, 229.56s/it]\u001b[A\n",
      " 38%|█████████████████████████████████████████████████████████████                                                                                                  | 129/336 [6:27:33<13:15:37, 230.62s/it]\u001b[A\n",
      " 39%|█████████████████████████████████████████████████████████████▌                                                                                                 | 130/336 [6:31:09<12:57:02, 226.32s/it]\u001b[A\n",
      " 39%|█████████████████████████████████████████████████████████████▉                                                                                                 | 131/336 [6:34:19<12:15:47, 215.35s/it]\u001b[A\n",
      " 39%|██████████████████████████████████████████████████████████████▍                                                                                                | 132/336 [6:37:48<12:06:28, 213.67s/it]\u001b[A\n",
      " 40%|██████████████████████████████████████████████████████████████▉                                                                                                | 133/336 [6:40:53<11:33:17, 204.91s/it]\u001b[A\n",
      " 40%|███████████████████████████████████████████████████████████████▍                                                                                               | 134/336 [6:43:31<10:42:30, 190.84s/it]\u001b[A\n",
      " 40%|███████████████████████████████████████████████████████████████▉                                                                                               | 135/336 [6:47:47<11:44:53, 210.42s/it]\u001b[A\n",
      " 40%|████████████████████████████████████████████████████████████████▎                                                                                              | 136/336 [6:51:33<11:56:51, 215.06s/it]\u001b[A\n",
      " 41%|████████████████████████████████████████████████████████████████▊                                                                                              | 137/336 [6:55:54<12:39:05, 228.87s/it]\u001b[A\n",
      " 41%|█████████████████████████████████████████████████████████████████▎                                                                                             | 138/336 [6:59:02<11:55:08, 216.71s/it]\u001b[A\n",
      " 41%|█████████████████████████████████████████████████████████████████▊                                                                                             | 139/336 [7:01:29<10:42:19, 195.63s/it]\u001b[A\n",
      " 42%|██████████████████████████████████████████████████████████████████▋                                                                                             | 140/336 [7:03:30<9:26:23, 173.38s/it]\u001b[A\n",
      " 42%|██████████████████████████████████████████████████████████████████▋                                                                                            | 141/336 [7:07:35<10:33:38, 194.97s/it]\u001b[A\n",
      " 42%|███████████████████████████████████████████████████████████████████▏                                                                                           | 142/336 [7:11:37<11:15:30, 208.92s/it]\u001b[A\n",
      " 43%|███████████████████████████████████████████████████████████████████▋                                                                                           | 143/336 [7:16:27<12:30:45, 233.40s/it]\u001b[A\n",
      " 43%|████████████████████████████████████████████████████████████████████▏                                                                                          | 144/336 [7:21:00<13:04:30, 245.16s/it]\u001b[A\n",
      " 43%|████████████████████████████████████████████████████████████████████▌                                                                                          | 145/336 [7:24:58<12:53:08, 242.87s/it]\u001b[A\n",
      " 43%|█████████████████████████████████████████████████████████████████████                                                                                          | 146/336 [7:44:20<27:22:37, 518.72s/it]\u001b[A\n",
      " 44%|█████████████████████████████████████████████████████████████████████▌                                                                                         | 147/336 [7:48:10<22:41:25, 432.20s/it]\u001b[A\n",
      " 44%|██████████████████████████████████████████████████████████████████████                                                                                         | 148/336 [7:50:28<17:57:35, 343.91s/it]\u001b[A\n",
      " 44%|██████████████████████████████████████████████████████████████████████▌                                                                                        | 149/336 [7:52:41<14:34:49, 280.69s/it]\u001b[A\n",
      " 45%|██████████████████████████████████████████████████████████████████████▉                                                                                        | 150/336 [8:12:13<28:18:48, 548.00s/it]\u001b[A\n",
      " 45%|███████████████████████████████████████████████████████████████████████▍                                                                                       | 151/336 [8:32:03<38:03:21, 740.55s/it]\u001b[A\n",
      " 45%|███████████████████████████████████████████████████████████████████████▉                                                                                       | 152/336 [8:34:44<28:58:14, 566.82s/it]\u001b[A\n",
      " 46%|████████████████████████████████████████████████████████████████████████▍                                                                                      | 153/336 [8:37:08<22:21:45, 439.92s/it]\u001b[A\n",
      " 46%|████████████████████████████████████████████████████████████████████████▉                                                                                      | 154/336 [8:38:30<16:48:24, 332.44s/it]\u001b[A\n",
      " 46%|█████████████████████████████████████████████████████████████████████████▎                                                                                     | 155/336 [8:39:49<12:53:32, 256.42s/it]\u001b[A\n"
     ]
    },
    {
     "name": "stderr",
     "output_type": "stream",
     "text": [
      " 46%|█████████████████████████████████████████████████████████████████████████▊                                                                                     | 156/336 [8:42:17<11:11:58, 223.99s/it]\u001b[A\n",
      " 47%|██████████████████████████████████████████████████████████████████████████▎                                                                                    | 157/336 [8:45:09<10:21:48, 208.43s/it]\u001b[A\n",
      " 47%|███████████████████████████████████████████████████████████████████████████▏                                                                                    | 158/336 [8:48:16<9:59:11, 201.98s/it]\u001b[A\n",
      " 47%|███████████████████████████████████████████████████████████████████████████▋                                                                                    | 159/336 [8:51:38<9:56:03, 202.05s/it]\u001b[A\n",
      " 48%|████████████████████████████████████████████████████████████████████████████▏                                                                                   | 160/336 [8:54:28<9:23:56, 192.26s/it]\u001b[A\n",
      " 48%|████████████████████████████████████████████████████████████████████████████▋                                                                                   | 161/336 [8:56:01<7:54:09, 162.57s/it]\u001b[A\n",
      " 48%|█████████████████████████████████████████████████████████████████████████████▏                                                                                  | 162/336 [8:58:05<7:17:22, 150.82s/it]\u001b[A\n",
      " 49%|█████████████████████████████████████████████████████████████████████████████▌                                                                                  | 163/336 [9:01:02<7:37:56, 158.82s/it]\u001b[A\n",
      " 49%|██████████████████████████████████████████████████████████████████████████████                                                                                  | 164/336 [9:05:10<8:52:18, 185.69s/it]\u001b[A\n",
      " 49%|██████████████████████████████████████████████████████████████████████████████▌                                                                                 | 165/336 [9:08:55<9:22:06, 197.23s/it]\u001b[A\n",
      " 49%|███████████████████████████████████████████████████████████████████████████████                                                                                 | 166/336 [9:12:27<9:31:44, 201.79s/it]\u001b[A\n",
      " 50%|███████████████████████████████████████████████████████████████████████████████▌                                                                                | 167/336 [9:15:13<8:58:04, 191.03s/it]\u001b[A\n",
      " 50%|████████████████████████████████████████████████████████████████████████████████                                                                                | 168/336 [9:16:54<7:38:55, 163.90s/it]\u001b[A\n",
      " 50%|████████████████████████████████████████████████████████████████████████████████▍                                                                               | 169/336 [9:20:45<8:32:15, 184.04s/it]\u001b[A\n",
      " 51%|████████████████████████████████████████████████████████████████████████████████▉                                                                               | 170/336 [9:24:09<8:46:25, 190.27s/it]\u001b[A\n",
      " 51%|█████████████████████████████████████████████████████████████████████████████████▍                                                                              | 171/336 [9:27:53<9:10:33, 200.20s/it]\u001b[A\n",
      " 51%|█████████████████████████████████████████████████████████████████████████████████▍                                                                             | 172/336 [9:47:50<22:44:47, 499.31s/it]\u001b[A\n",
      " 51%|█████████████████████████████████████████████████████████████████████████████████▊                                                                             | 173/336 [9:51:06<18:29:38, 408.46s/it]\u001b[A\n",
      " 52%|██████████████████████████████████████████████████████████████████████████████████▎                                                                            | 174/336 [9:54:30<15:36:32, 346.86s/it]\u001b[A\n",
      " 52%|██████████████████████████████████████████████████████████████████████████████████▊                                                                            | 175/336 [9:57:29<13:15:51, 296.59s/it]\u001b[A\n",
      " 52%|██████████████████████████████████████████████████████████████████████████████████▊                                                                           | 176/336 [10:00:39<11:45:56, 264.73s/it]\u001b[A\n",
      " 53%|███████████████████████████████████████████████████████████████████████████████████▏                                                                          | 177/336 [10:03:26<10:23:33, 235.30s/it]\u001b[A\n",
      " 53%|████████████████████████████████████████████████████████████████████████████████████▏                                                                          | 178/336 [10:06:06<9:20:05, 212.69s/it]\u001b[A\n",
      " 53%|████████████████████████████████████████████████████████████████████████████████████▋                                                                          | 179/336 [10:10:03<9:35:39, 220.00s/it]\u001b[A\n",
      " 54%|█████████████████████████████████████████████████████████████████████████████████████▏                                                                         | 180/336 [10:13:05<9:02:25, 208.62s/it]\u001b[A\n",
      " 54%|█████████████████████████████████████████████████████████████████████████████████████                                                                         | 181/336 [10:20:53<12:19:35, 286.30s/it]\u001b[A\n",
      " 54%|█████████████████████████████████████████████████████████████████████████████████████▌                                                                        | 182/336 [10:40:31<23:41:42, 553.92s/it]\u001b[A\n",
      " 54%|██████████████████████████████████████████████████████████████████████████████████████                                                                        | 183/336 [10:43:50<19:00:57, 447.43s/it]\u001b[A\n",
      " 55%|██████████████████████████████████████████████████████████████████████████████████████▌                                                                       | 184/336 [10:47:23<15:55:42, 377.25s/it]\u001b[A\n",
      " 55%|██████████████████████████████████████████████████████████████████████████████████████▉                                                                       | 185/336 [10:50:55<13:44:39, 327.68s/it]\u001b[A\n",
      " 55%|███████████████████████████████████████████████████████████████████████████████████████▍                                                                      | 186/336 [10:54:04<11:54:37, 285.85s/it]\u001b[A\n",
      " 56%|███████████████████████████████████████████████████████████████████████████████████████▉                                                                      | 187/336 [10:57:48<11:03:52, 267.33s/it]\u001b[A\n",
      " 56%|████████████████████████████████████████████████████████████████████████████████████████▍                                                                     | 188/336 [11:02:41<11:18:40, 275.14s/it]\u001b[A\n",
      " 56%|████████████████████████████████████████████████████████████████████████████████████████▉                                                                     | 189/336 [11:06:29<10:39:10, 260.89s/it]\u001b[A\n",
      " 57%|█████████████████████████████████████████████████████████████████████████████████████████▎                                                                    | 190/336 [11:11:14<10:52:18, 268.07s/it]\u001b[A\n",
      " 57%|█████████████████████████████████████████████████████████████████████████████████████████▊                                                                    | 191/336 [11:15:20<10:31:58, 261.50s/it]\u001b[A\n",
      " 57%|██████████████████████████████████████████████████████████████████████████████████████████▎                                                                   | 192/336 [11:19:51<10:34:17, 264.29s/it]\u001b[A\n",
      " 57%|██████████████████████████████████████████████████████████████████████████████████████████▊                                                                   | 193/336 [11:23:46<10:08:58, 255.52s/it]\u001b[A\n",
      " 58%|███████████████████████████████████████████████████████████████████████████████████████████▊                                                                   | 194/336 [11:27:35<9:45:54, 247.57s/it]\u001b[A\n",
      " 58%|████████████████████████████████████████████████████████████████████████████████████████████▎                                                                  | 195/336 [11:31:13<9:21:06, 238.77s/it]\u001b[A\n",
      " 58%|████████████████████████████████████████████████████████████████████████████████████████████▊                                                                  | 196/336 [11:34:06<8:31:08, 219.06s/it]\u001b[A\n",
      " 59%|█████████████████████████████████████████████████████████████████████████████████████████████▏                                                                 | 197/336 [11:38:01<8:38:48, 223.94s/it]\u001b[A\n",
      " 59%|█████████████████████████████████████████████████████████████████████████████████████████████                                                                 | 198/336 [11:57:24<19:22:52, 505.60s/it]\u001b[A\n",
      " 59%|█████████████████████████████████████████████████████████████████████████████████████████████▌                                                                | 199/336 [12:00:17<15:26:28, 405.76s/it]\u001b[A\n",
      " 60%|██████████████████████████████████████████████████████████████████████████████████████████████                                                                | 200/336 [12:03:01<12:35:07, 333.15s/it]\u001b[A\n",
      " 60%|██████████████████████████████████████████████████████████████████████████████████████████████▌                                                               | 201/336 [12:05:24<10:21:44, 276.33s/it]\u001b[A\n",
      " 60%|███████████████████████████████████████████████████████████████████████████████████████████████▌                                                               | 202/336 [12:07:23<8:31:31, 229.04s/it]\u001b[A\n",
      " 60%|████████████████████████████████████████████████████████████████████████████████████████████████                                                               | 203/336 [12:08:47<6:51:34, 185.67s/it]\u001b[A\n",
      " 61%|████████████████████████████████████████████████████████████████████████████████████████████████▌                                                              | 204/336 [12:10:08<5:38:58, 154.08s/it]\u001b[A\n",
      " 61%|█████████████████████████████████████████████████████████████████████████████████████████████████                                                              | 205/336 [12:11:25<4:45:50, 130.92s/it]\u001b[A\n",
      " 61%|█████████████████████████████████████████████████████████████████████████████████████████████████▍                                                             | 206/336 [12:12:38<4:06:28, 113.76s/it]\u001b[A\n",
      " 62%|█████████████████████████████████████████████████████████████████████████████████████████████████▉                                                             | 207/336 [12:13:47<3:35:09, 100.07s/it]\u001b[A\n",
      " 62%|███████████████████████████████████████████████████████████████████████████████████████████████████                                                             | 208/336 [12:14:57<3:14:41, 91.26s/it]\u001b[A\n",
      " 62%|███████████████████████████████████████████████████████████████████████████████████████████████████▌                                                            | 209/336 [12:16:08<2:59:48, 84.95s/it]\u001b[A\n",
      " 62%|████████████████████████████████████████████████████████████████████████████████████████████████████                                                            | 210/336 [12:17:18<2:49:10, 80.56s/it]\u001b[A\n",
      " 63%|████████████████████████████████████████████████████████████████████████████████████████████████████▍                                                           | 211/336 [12:18:23<2:38:26, 76.05s/it]\u001b[A\n",
      " 63%|████████████████████████████████████████████████████████████████████████████████████████████████████▉                                                           | 212/336 [12:19:33<2:33:10, 74.12s/it]\u001b[A\n",
      " 63%|█████████████████████████████████████████████████████████████████████████████████████████████████████▍                                                          | 213/336 [12:20:43<2:29:42, 73.03s/it]\u001b[A\n",
      " 64%|█████████████████████████████████████████████████████████████████████████████████████████████████████▉                                                          | 214/336 [12:21:56<2:27:59, 72.79s/it]\u001b[A\n",
      " 64%|██████████████████████████████████████████████████████████████████████████████████████████████████████▍                                                         | 215/336 [12:23:02<2:23:10, 71.00s/it]\u001b[A\n",
      " 64%|██████████████████████████████████████████████████████████████████████████████████████████████████████▊                                                         | 216/336 [12:24:22<2:26:51, 73.43s/it]\u001b[A\n",
      " 65%|███████████████████████████████████████████████████████████████████████████████████████████████████████▎                                                        | 217/336 [12:25:43<2:30:34, 75.92s/it]\u001b[A\n",
      " 65%|███████████████████████████████████████████████████████████████████████████████████████████████████████▊                                                        | 218/336 [12:27:12<2:37:04, 79.87s/it]\u001b[A\n",
      " 65%|████████████████████████████████████████████████████████████████████████████████████████████████████████▎                                                       | 219/336 [12:28:35<2:37:34, 80.81s/it]\u001b[A\n",
      " 65%|████████████████████████████████████████████████████████████████████████████████████████████████████████▊                                                       | 220/336 [12:29:55<2:35:37, 80.49s/it]\u001b[A\n",
      " 66%|█████████████████████████████████████████████████████████████████████████████████████████████████████████▏                                                      | 221/336 [12:31:02<2:26:12, 76.28s/it]\u001b[A\n",
      " 66%|█████████████████████████████████████████████████████████████████████████████████████████████████████████▋                                                      | 222/336 [12:32:13<2:22:18, 74.90s/it]\u001b[A\n",
      " 66%|██████████████████████████████████████████████████████████████████████████████████████████████████████████▏                                                     | 223/336 [12:33:23<2:18:05, 73.32s/it]\u001b[A\n",
      " 67%|██████████████████████████████████████████████████████████████████████████████████████████████████████████▋                                                     | 224/336 [12:34:38<2:17:45, 73.80s/it]\u001b[A\n",
      " 67%|███████████████████████████████████████████████████████████████████████████████████████████████████████████▏                                                    | 225/336 [12:35:51<2:15:54, 73.46s/it]\u001b[A\n",
      " 67%|███████████████████████████████████████████████████████████████████████████████████████████████████████████▌                                                    | 226/336 [12:36:55<2:09:41, 70.74s/it]\u001b[A\n",
      " 68%|████████████████████████████████████████████████████████████████████████████████████████████████████████████                                                    | 227/336 [12:37:57<2:03:48, 68.15s/it]\u001b[A\n",
      " 68%|████████████████████████████████████████████████████████████████████████████████████████████████████████████▌                                                   | 228/336 [12:39:03<2:01:17, 67.38s/it]\u001b[A\n",
      " 68%|█████████████████████████████████████████████████████████████████████████████████████████████████████████████                                                   | 229/336 [12:40:09<1:59:35, 67.06s/it]\u001b[A\n",
      " 68%|█████████████████████████████████████████████████████████████████████████████████████████████████████████████▌                                                  | 230/336 [12:41:10<1:55:22, 65.31s/it]\u001b[A\n",
      " 69%|██████████████████████████████████████████████████████████████████████████████████████████████████████████████                                                  | 231/336 [12:42:25<1:59:30, 68.29s/it]\u001b[A\n",
      " 69%|██████████████████████████████████████████████████████████████████████████████████████████████████████████████▍                                                 | 232/336 [12:43:43<2:03:11, 71.08s/it]\u001b[A\n",
      " 69%|██████████████████████████████████████████████████████████████████████████████████████████████████████████████▉                                                 | 233/336 [12:45:07<2:08:49, 75.04s/it]\u001b[A\n"
     ]
    },
    {
     "name": "stderr",
     "output_type": "stream",
     "text": [
      " 70%|███████████████████████████████████████████████████████████████████████████████████████████████████████████████▍                                                | 234/336 [12:46:26<2:09:36, 76.24s/it]\u001b[A\n",
      " 70%|███████████████████████████████████████████████████████████████████████████████████████████████████████████████▉                                                | 235/336 [12:47:42<2:08:09, 76.14s/it]\u001b[A\n",
      " 70%|████████████████████████████████████████████████████████████████████████████████████████████████████████████████▍                                               | 236/336 [12:48:54<2:04:57, 74.98s/it]\u001b[A\n",
      " 71%|████████████████████████████████████████████████████████████████████████████████████████████████████████████████▊                                               | 237/336 [12:50:09<2:03:33, 74.89s/it]\u001b[A\n",
      " 71%|█████████████████████████████████████████████████████████████████████████████████████████████████████████████████▎                                              | 238/336 [12:51:21<2:00:47, 73.96s/it]\u001b[A\n",
      " 71%|█████████████████████████████████████████████████████████████████████████████████████████████████████████████████▊                                              | 239/336 [12:52:32<1:58:23, 73.23s/it]\u001b[A\n",
      " 71%|██████████████████████████████████████████████████████████████████████████████████████████████████████████████████▎                                             | 240/336 [12:53:43<1:55:50, 72.41s/it]\u001b[A\n",
      " 72%|██████████████████████████████████████████████████████████████████████████████████████████████████████████████████                                             | 241/336 [12:59:16<3:58:29, 150.62s/it]\u001b[A\n",
      " 72%|██████████████████████████████████████████████████████████████████████████████████████████████████████████████████▌                                            | 242/336 [13:00:33<3:21:10, 128.41s/it]\u001b[A\n",
      " 72%|██████████████████████████████████████████████████████████████████████████████████████████████████████████████████▉                                            | 243/336 [13:01:44<2:52:18, 111.17s/it]\u001b[A\n",
      " 73%|████████████████████████████████████████████████████████████████████████████████████████████████████████████████████▏                                           | 244/336 [13:02:53<2:31:21, 98.71s/it]\u001b[A\n",
      " 73%|████████████████████████████████████████████████████████████████████████████████████████████████████████████████████▋                                           | 245/336 [13:04:02<2:16:11, 89.79s/it]\u001b[A\n",
      " 73%|█████████████████████████████████████████████████████████████████████████████████████████████████████████████████████▏                                          | 246/336 [13:05:30<2:13:41, 89.13s/it]\u001b[A\n",
      " 74%|█████████████████████████████████████████████████████████████████████████████████████████████████████████████████████▌                                          | 247/336 [13:06:55<2:10:22, 87.89s/it]\u001b[A\n",
      " 74%|██████████████████████████████████████████████████████████████████████████████████████████████████████████████████████                                          | 248/336 [13:08:28<2:11:23, 89.59s/it]\u001b[A\n",
      " 74%|██████████████████████████████████████████████████████████████████████████████████████████████████████████████████████▌                                         | 249/336 [13:10:05<2:13:06, 91.80s/it]\u001b[A\n",
      " 74%|███████████████████████████████████████████████████████████████████████████████████████████████████████████████████████                                         | 250/336 [13:11:35<2:10:31, 91.07s/it]\u001b[A\n",
      " 75%|███████████████████████████████████████████████████████████████████████████████████████████████████████████████████████▌                                        | 251/336 [13:12:48<2:01:39, 85.87s/it]\u001b[A\n",
      " 75%|████████████████████████████████████████████████████████████████████████████████████████████████████████████████████████                                        | 252/336 [13:14:05<1:56:22, 83.13s/it]\u001b[A\n",
      " 75%|████████████████████████████████████████████████████████████████████████████████████████████████████████████████████████▍                                       | 253/336 [13:15:19<1:51:17, 80.45s/it]\u001b[A\n",
      " 76%|████████████████████████████████████████████████████████████████████████████████████████████████████████████████████████▉                                       | 254/336 [13:16:35<1:48:07, 79.11s/it]\u001b[A\n",
      " 76%|█████████████████████████████████████████████████████████████████████████████████████████████████████████████████████████▍                                      | 255/336 [13:17:45<1:42:55, 76.24s/it]\u001b[A\n",
      " 76%|█████████████████████████████████████████████████████████████████████████████████████████████████████████████████████████▉                                      | 256/336 [13:18:49<1:36:38, 72.48s/it]\u001b[A\n",
      " 76%|██████████████████████████████████████████████████████████████████████████████████████████████████████████████████████████▍                                     | 257/336 [13:19:50<1:31:10, 69.25s/it]\u001b[A\n",
      " 77%|██████████████████████████████████████████████████████████████████████████████████████████████████████████████████████████▊                                     | 258/336 [13:20:56<1:28:45, 68.28s/it]\u001b[A\n",
      " 77%|███████████████████████████████████████████████████████████████████████████████████████████████████████████████████████████▎                                    | 259/336 [13:22:06<1:28:03, 68.61s/it]\u001b[A\n",
      " 77%|███████████████████████████████████████████████████████████████████████████████████████████████████████████████████████████▊                                    | 260/336 [13:23:16<1:27:41, 69.23s/it]\u001b[A\n",
      " 78%|████████████████████████████████████████████████████████████████████████████████████████████████████████████████████████████▎                                   | 261/336 [13:24:38<1:31:16, 73.02s/it]\u001b[A\n",
      " 78%|████████████████████████████████████████████████████████████████████████████████████████████████████████████████████████████▊                                   | 262/336 [13:25:56<1:31:49, 74.45s/it]\u001b[A\n",
      " 78%|█████████████████████████████████████████████████████████████████████████████████████████████████████████████████████████████▏                                  | 263/336 [13:27:15<1:32:11, 75.77s/it]\u001b[A\n",
      " 79%|█████████████████████████████████████████████████████████████████████████████████████████████████████████████████████████████▋                                  | 264/336 [13:28:35<1:32:27, 77.05s/it]\u001b[A\n",
      " 79%|██████████████████████████████████████████████████████████████████████████████████████████████████████████████████████████████▏                                 | 265/336 [13:29:50<1:30:27, 76.45s/it]\u001b[A\n",
      " 79%|██████████████████████████████████████████████████████████████████████████████████████████████████████████████████████████████▋                                 | 266/336 [13:31:10<1:30:17, 77.40s/it]\u001b[A\n",
      " 79%|███████████████████████████████████████████████████████████████████████████████████████████████████████████████████████████████▏                                | 267/336 [13:32:30<1:30:07, 78.37s/it]\u001b[A\n",
      " 80%|███████████████████████████████████████████████████████████████████████████████████████████████████████████████████████████████▌                                | 268/336 [13:33:50<1:29:27, 78.93s/it]\u001b[A\n",
      " 80%|████████████████████████████████████████████████████████████████████████████████████████████████████████████████████████████████                                | 269/336 [13:35:03<1:26:00, 77.02s/it]\u001b[A\n",
      " 80%|████████████████████████████████████████████████████████████████████████████████████████████████████████████████████████████████▌                               | 270/336 [13:36:16<1:23:21, 75.79s/it]\u001b[A\n",
      " 81%|█████████████████████████████████████████████████████████████████████████████████████████████████████████████████████████████████                               | 271/336 [13:37:26<1:20:22, 74.20s/it]\u001b[A\n",
      " 81%|█████████████████████████████████████████████████████████████████████████████████████████████████████████████████████████████████▌                              | 272/336 [13:38:40<1:18:47, 73.87s/it]\u001b[A\n",
      " 81%|██████████████████████████████████████████████████████████████████████████████████████████████████████████████████████████████████                              | 273/336 [13:39:55<1:17:54, 74.20s/it]\u001b[A\n",
      " 82%|██████████████████████████████████████████████████████████████████████████████████████████████████████████████████████████████████▍                             | 274/336 [13:41:14<1:18:25, 75.90s/it]\u001b[A\n",
      " 82%|██████████████████████████████████████████████████████████████████████████████████████████████████████████████████████████████████▉                             | 275/336 [13:42:27<1:16:19, 75.07s/it]\u001b[A\n",
      " 82%|███████████████████████████████████████████████████████████████████████████████████████████████████████████████████████████████████▍                            | 276/336 [13:43:56<1:18:59, 78.98s/it]\u001b[A\n",
      " 82%|███████████████████████████████████████████████████████████████████████████████████████████████████████████████████████████████████▉                            | 277/336 [13:45:26<1:21:05, 82.46s/it]\u001b[A\n",
      " 83%|████████████████████████████████████████████████████████████████████████████████████████████████████████████████████████████████████▍                           | 278/336 [13:46:51<1:20:32, 83.31s/it]\u001b[A\n",
      " 83%|████████████████████████████████████████████████████████████████████████████████████████████████████████████████████████████████████▊                           | 279/336 [13:48:19<1:20:28, 84.70s/it]\u001b[A\n",
      " 83%|█████████████████████████████████████████████████████████████████████████████████████████████████████████████████████████████████████▎                          | 280/336 [13:49:44<1:19:03, 84.70s/it]\u001b[A\n",
      " 84%|█████████████████████████████████████████████████████████████████████████████████████████████████████████████████████████████████████▊                          | 281/336 [13:50:51<1:12:38, 79.25s/it]\u001b[A\n",
      " 84%|██████████████████████████████████████████████████████████████████████████████████████████████████████████████████████████████████████▎                         | 282/336 [13:51:57<1:07:57, 75.51s/it]\u001b[A\n",
      " 84%|██████████████████████████████████████████████████████████████████████████████████████████████████████████████████████████████████████▊                         | 283/336 [13:53:07<1:05:01, 73.62s/it]\u001b[A\n",
      " 85%|███████████████████████████████████████████████████████████████████████████████████████████████████████████████████████████████████████▏                        | 284/336 [13:54:20<1:03:37, 73.41s/it]\u001b[A\n",
      " 85%|███████████████████████████████████████████████████████████████████████████████████████████████████████████████████████████████████████▋                        | 285/336 [13:55:25<1:00:27, 71.13s/it]\u001b[A\n",
      " 85%|█████████████████████████████████████████████████████████████████████████████████████████████████████████████████████████████████████████▉                        | 286/336 [13:56:26<56:34, 67.90s/it]\u001b[A\n",
      " 85%|██████████████████████████████████████████████████████████████████████████████████████████████████████████████████████████████████████████▍                       | 287/336 [13:57:29<54:21, 66.56s/it]\u001b[A\n",
      " 86%|██████████████████████████████████████████████████████████████████████████████████████████████████████████████████████████████████████████▊                       | 288/336 [13:58:35<53:03, 66.33s/it]\u001b[A\n",
      " 86%|███████████████████████████████████████████████████████████████████████████████████████████████████████████████████████████████████████████▎                      | 289/336 [13:59:36<50:40, 64.69s/it]\u001b[A\n",
      " 86%|███████████████████████████████████████████████████████████████████████████████████████████████████████████████████████████████████████████▊                      | 290/336 [14:00:34<48:12, 62.88s/it]\u001b[A\n",
      " 87%|████████████████████████████████████████████████████████████████████████████████████████████████████████████████████████████████████████████▎                     | 291/336 [14:01:48<49:34, 66.09s/it]\u001b[A\n",
      " 87%|████████████████████████████████████████████████████████████████████████████████████████████████████████████████████████████████████████████▊                     | 292/336 [14:03:02<50:16, 68.57s/it]\u001b[A\n",
      " 87%|█████████████████████████████████████████████████████████████████████████████████████████████████████████████████████████████████████████████▎                    | 293/336 [14:04:24<51:50, 72.34s/it]\u001b[A\n",
      " 88%|█████████████████████████████████████████████████████████████████████████████████████████████████████████████████████████████████████████████▊                    | 294/336 [14:05:40<51:33, 73.66s/it]\u001b[A\n",
      " 88%|██████████████████████████████████████████████████████████████████████████████████████████████████████████████████████████████████████████████▏                   | 295/336 [14:06:54<50:15, 73.54s/it]\u001b[A\n",
      " 88%|██████████████████████████████████████████████████████████████████████████████████████████████████████████████████████████████████████████████▋                   | 296/336 [14:08:07<48:58, 73.45s/it]\u001b[A\n",
      " 88%|███████████████████████████████████████████████████████████████████████████████████████████████████████████████████████████████████████████████▏                  | 297/336 [14:09:20<47:38, 73.29s/it]\u001b[A\n",
      " 89%|███████████████████████████████████████████████████████████████████████████████████████████████████████████████████████████████████████████████▋                  | 298/336 [14:10:37<47:06, 74.39s/it]\u001b[A\n",
      " 89%|████████████████████████████████████████████████████████████████████████████████████████████████████████████████████████████████████████████████▏                 | 299/336 [14:11:48<45:20, 73.53s/it]\u001b[A\n",
      " 89%|████████████████████████████████████████████████████████████████████████████████████████████████████████████████████████████████████████████████▋                 | 300/336 [14:12:58<43:28, 72.45s/it]\u001b[A\n",
      " 90%|█████████████████████████████████████████████████████████████████████████████████████████████████████████████████████████████████████████████████▏                | 301/336 [14:14:07<41:40, 71.44s/it]\u001b[A\n",
      " 90%|█████████████████████████████████████████████████████████████████████████████████████████████████████████████████████████████████████████████████▌                | 302/336 [14:15:19<40:36, 71.68s/it]\u001b[A\n",
      " 90%|██████████████████████████████████████████████████████████████████████████████████████████████████████████████████████████████████████████████████                | 303/336 [14:16:30<39:13, 71.32s/it]\u001b[A\n",
      " 90%|██████████████████████████████████████████████████████████████████████████████████████████████████████████████████████████████████████████████████▌               | 304/336 [14:18:36<46:44, 87.65s/it]\u001b[A\n",
      " 91%|███████████████████████████████████████████████████████████████████████████████████████████████████████████████████████████████████████████████████               | 305/336 [14:19:58<44:30, 86.13s/it]\u001b[A\n",
      " 91%|███████████████████████████████████████████████████████████████████████████████████████████████████████████████████████████████████████████████████▌              | 306/336 [14:21:21<42:29, 84.98s/it]\u001b[A\n",
      " 91%|████████████████████████████████████████████████████████████████████████████████████████████████████████████████████████████████████████████████████              | 307/336 [14:22:47<41:13, 85.31s/it]\u001b[A\n",
      " 92%|████████████████████████████████████████████████████████████████████████████████████████████████████████████████████████████████████████████████████▌             | 308/336 [14:24:16<40:25, 86.62s/it]\u001b[A\n",
      " 92%|████████████████████████████████████████████████████████████████████████████████████████████████████████████████████████████████████████████████████▉             | 309/336 [14:25:41<38:46, 86.18s/it]\u001b[A\n",
      " 92%|█████████████████████████████████████████████████████████████████████████████████████████████████████████████████████████████████████████████████████▍            | 310/336 [14:27:02<36:38, 84.56s/it]\u001b[A\n",
      " 93%|█████████████████████████████████████████████████████████████████████████████████████████████████████████████████████████████████████████████████████▉            | 311/336 [14:28:07<32:46, 78.68s/it]\u001b[A\n"
     ]
    },
    {
     "name": "stderr",
     "output_type": "stream",
     "text": [
      " 93%|██████████████████████████████████████████████████████████████████████████████████████████████████████████████████████████████████████████████████████▍           | 312/336 [14:29:19<30:41, 76.72s/it]\u001b[A\n",
      " 93%|██████████████████████████████████████████████████████████████████████████████████████████████████████████████████████████████████████████████████████▉           | 313/336 [14:30:27<28:21, 73.98s/it]\u001b[A\n",
      " 93%|███████████████████████████████████████████████████████████████████████████████████████████████████████████████████████████████████████████████████████▍          | 314/336 [14:31:38<26:51, 73.23s/it]\u001b[A\n",
      " 94%|███████████████████████████████████████████████████████████████████████████████████████████████████████████████████████████████████████████████████████▉          | 315/336 [14:32:42<24:39, 70.44s/it]\u001b[A\n",
      " 94%|████████████████████████████████████████████████████████████████████████████████████████████████████████████████████████████████████████████████████████▎         | 316/336 [14:33:40<22:14, 66.70s/it]\u001b[A\n",
      " 94%|████████████████████████████████████████████████████████████████████████████████████████████████████████████████████████████████████████████████████████▊         | 317/336 [14:34:43<20:42, 65.41s/it]\u001b[A\n",
      " 95%|█████████████████████████████████████████████████████████████████████████████████████████████████████████████████████████████████████████████████████████▎        | 318/336 [14:35:43<19:08, 63.79s/it]\u001b[A\n",
      " 95%|█████████████████████████████████████████████████████████████████████████████████████████████████████████████████████████████████████████████████████████▊        | 319/336 [14:36:45<17:56, 63.31s/it]\u001b[A\n",
      " 95%|██████████████████████████████████████████████████████████████████████████████████████████████████████████████████████████████████████████████████████████▎       | 320/336 [14:37:44<16:32, 62.03s/it]\u001b[A\n",
      " 96%|██████████████████████████████████████████████████████████████████████████████████████████████████████████████████████████████████████████████████████████▊       | 321/336 [14:38:54<16:05, 64.34s/it]\u001b[A\n",
      " 96%|███████████████████████████████████████████████████████████████████████████████████████████████████████████████████████████████████████████████████████████▎      | 322/336 [14:40:17<16:21, 70.12s/it]\u001b[A\n",
      " 96%|███████████████████████████████████████████████████████████████████████████████████████████████████████████████████████████████████████████████████████████▋      | 323/336 [14:41:33<15:31, 71.64s/it]\u001b[A\n",
      " 96%|████████████████████████████████████████████████████████████████████████████████████████████████████████████████████████████████████████████████████████████▏     | 324/336 [14:42:45<14:21, 71.80s/it]\u001b[A\n",
      " 97%|████████████████████████████████████████████████████████████████████████████████████████████████████████████████████████████████████████████████████████████▋     | 325/336 [14:43:54<13:00, 70.96s/it]\u001b[A\n",
      " 97%|█████████████████████████████████████████████████████████████████████████████████████████████████████████████████████████████████████████████████████████████▏    | 326/336 [14:45:07<11:57, 71.77s/it]\u001b[A\n",
      " 97%|█████████████████████████████████████████████████████████████████████████████████████████████████████████████████████████████████████████████████████████████▋    | 327/336 [14:46:21<10:52, 72.48s/it]\u001b[A\n",
      " 98%|██████████████████████████████████████████████████████████████████████████████████████████████████████████████████████████████████████████████████████████████▏   | 328/336 [14:47:37<09:47, 73.45s/it]\u001b[A\n",
      " 98%|██████████████████████████████████████████████████████████████████████████████████████████████████████████████████████████████████████████████████████████████▋   | 329/336 [14:48:52<08:36, 73.72s/it]\u001b[A\n",
      " 98%|███████████████████████████████████████████████████████████████████████████████████████████████████████████████████████████████████████████████████████████████   | 330/336 [14:50:06<07:24, 74.08s/it]\u001b[A\n",
      " 99%|███████████████████████████████████████████████████████████████████████████████████████████████████████████████████████████████████████████████████████████████▌  | 331/336 [14:51:22<06:12, 74.48s/it]\u001b[A\n",
      " 99%|████████████████████████████████████████████████████████████████████████████████████████████████████████████████████████████████████████████████████████████████  | 332/336 [14:52:36<04:57, 74.35s/it]\u001b[A\n",
      " 99%|████████████████████████████████████████████████████████████████████████████████████████████████████████████████████████████████████████████████████████████████▌ | 333/336 [14:53:52<03:45, 75.01s/it]\u001b[A\n",
      " 99%|█████████████████████████████████████████████████████████████████████████████████████████████████████████████████████████████████████████████████████████████████ | 334/336 [14:55:30<02:43, 81.70s/it]\u001b[A\n",
      "100%|█████████████████████████████████████████████████████████████████████████████████████████████████████████████████████████████████████████████████████████████████▌| 335/336 [14:56:46<01:19, 79.92s/it]\u001b[A\n",
      "100%|██████████████████████████████████████████████████████████████████████████████████████████████████████████████████████████████████████████████████████████████████| 336/336 [14:58:14<00:00, 82.49s/it]\u001b[A\n",
      "337it [14:59:40, 83.50s/it]                                                                                                                                                                                 \u001b[A\n",
      "338it [15:01:08, 84.74s/it]\u001b[A\n",
      "339it [15:02:33, 85.03s/it]\u001b[A\n",
      "340it [15:03:56, 84.44s/it]\u001b[A\n",
      "341it [15:05:04, 79.33s/it]\u001b[A\n",
      "342it [15:06:41, 84.86s/it]\u001b[A\n",
      "343it [15:08:26, 90.72s/it]\u001b[A\n",
      "344it [15:10:10, 94.72s/it]\u001b[A\n",
      "345it [15:11:36, 92.26s/it]\u001b[A\n",
      "346it [15:12:52, 87.39s/it]\u001b[A\n",
      "347it [15:14:05, 82.84s/it]\u001b[A\n",
      "348it [15:15:22, 81.12s/it]\u001b[A\n",
      "349it [15:16:46, 81.93s/it]\u001b[A\n",
      "350it [15:17:59, 79.41s/it]\u001b[A\n",
      "351it [15:19:21, 80.06s/it]\u001b[A\n",
      "352it [15:20:41, 80.09s/it]\u001b[A\n",
      "353it [15:22:04, 80.87s/it]\u001b[A\n",
      "354it [15:23:33, 83.39s/it]\u001b[A\n",
      "355it [15:24:53, 82.34s/it]\u001b[A\n",
      "356it [15:26:12, 81.51s/it]\u001b[A\n",
      "357it [15:27:36, 82.02s/it]\u001b[A\n",
      "358it [15:29:01, 82.97s/it]\u001b[A\n",
      "359it [15:30:20, 81.85s/it]\u001b[A\n",
      "360it [15:31:36, 80.02s/it]\u001b[A\n",
      "361it [15:33:07, 83.40s/it]\u001b[A\n",
      "362it [15:34:32, 83.79s/it]\u001b[A\n",
      "363it [15:35:55, 83.76s/it]\u001b[A\n",
      "364it [15:37:21, 84.29s/it]\u001b[A\n",
      "365it [15:38:50, 85.86s/it]\u001b[A\n",
      "366it [15:40:48, 95.26s/it]\u001b[A\n",
      "367it [15:42:42, 101.10s/it]\u001b[A\n",
      "368it [15:44:39, 105.65s/it]\u001b[A\n",
      "369it [15:46:31, 107.74s/it]\u001b[A\n",
      "370it [15:48:20, 108.11s/it]\u001b[A\n",
      "371it [15:49:55, 104.27s/it]\u001b[A\n",
      "372it [15:51:48, 106.60s/it]\u001b[A\n",
      "373it [15:53:32, 105.84s/it]\u001b[A\n",
      "374it [15:55:05, 102.00s/it]\u001b[A\n",
      "375it [15:56:31, 97.32s/it] \u001b[A\n",
      "376it [15:58:10, 97.88s/it]\u001b[A\n",
      "377it [15:59:46, 97.23s/it]\u001b[A\n",
      "378it [16:01:19, 95.98s/it]\u001b[A\n",
      "379it [16:02:49, 94.09s/it]\u001b[A\n",
      "380it [16:04:06, 89.20s/it]\u001b[A\n",
      "381it [16:05:51, 93.69s/it]\u001b[A\n",
      "382it [16:07:41, 98.62s/it]\u001b[A\n",
      "383it [16:09:26, 100.73s/it]\u001b[A\n",
      "384it [16:11:23, 105.34s/it]\u001b[A\n",
      "385it [16:13:23, 109.86s/it]\u001b[A\n",
      "386it [16:15:12, 109.67s/it]\u001b[A\n",
      "387it [16:16:56, 107.90s/it]\u001b[A\n",
      "388it [16:18:28, 103.15s/it]\u001b[A\n",
      "389it [16:20:01, 99.98s/it] \u001b[A\n",
      "390it [16:21:35, 98.35s/it]\u001b[A\n",
      "391it [16:23:05, 95.75s/it]\u001b[A\n",
      "392it [16:24:35, 94.21s/it]\u001b[A\n",
      "393it [16:26:10, 94.18s/it]\u001b[A\n",
      "394it [16:27:47, 95.22s/it]\u001b[A\n",
      "395it [16:29:21, 94.87s/it]\u001b[A\n",
      "396it [16:31:10, 98.97s/it]\u001b[A\n",
      "397it [16:34:22, 126.88s/it]\u001b[A\n",
      "398it [16:36:27, 126.33s/it]\u001b[A\n",
      "399it [16:38:13, 120.41s/it]\u001b[A\n",
      "400it [16:40:00, 116.37s/it]\u001b[A\n",
      "401it [16:41:30, 108.35s/it]\u001b[A\n",
      "402it [16:43:01, 103.27s/it]\u001b[A\n",
      "403it [16:44:33, 99.69s/it] \u001b[A\n",
      "404it [16:46:01, 96.20s/it]\u001b[A\n",
      "405it [16:47:27, 93.11s/it]\u001b[A\n",
      "406it [16:48:42, 87.84s/it]\u001b[A\n",
      "407it [16:50:06, 86.62s/it]\u001b[A\n",
      "408it [16:51:34, 86.95s/it]\u001b[A\n",
      "409it [16:53:18, 92.24s/it]\u001b[A\n",
      "410it [16:54:37, 88.20s/it]\u001b[A\n",
      "411it [16:56:22, 93.36s/it]\u001b[A\n",
      "412it [16:58:22, 101.17s/it]\u001b[A\n",
      "413it [17:00:16, 104.95s/it]\u001b[A\n",
      "414it [17:02:10, 107.92s/it]\u001b[A\n",
      "415it [17:04:05, 109.88s/it]\u001b[A\n",
      "416it [17:06:01, 111.58s/it]\u001b[A\n",
      "417it [17:07:53, 111.74s/it]\u001b[A\n",
      "418it [17:09:37, 109.40s/it]\u001b[A\n",
      "419it [17:11:19, 107.44s/it]\u001b[A\n",
      "420it [17:13:03, 106.33s/it]\u001b[A\n",
      "421it [17:14:43, 104.35s/it]\u001b[A\n",
      "422it [17:16:26, 103.89s/it]\u001b[A\n",
      "423it [17:18:20, 106.90s/it]\u001b[A\n",
      "424it [17:20:18, 110.23s/it]\u001b[A\n",
      "425it [17:21:56, 106.66s/it]\u001b[A\n",
      "426it [17:23:44, 107.10s/it]\u001b[A\n",
      "427it [17:25:32, 107.26s/it]\u001b[A\n",
      "428it [17:27:19, 107.35s/it]\u001b[A\n",
      "429it [17:29:25, 112.96s/it]\u001b[A\n",
      "430it [17:31:16, 112.25s/it]\u001b[A\n",
      "431it [17:32:43, 104.72s/it]\u001b[A\n",
      "432it [17:34:11, 99.76s/it] \u001b[A\n",
      "433it [17:36:00, 102.33s/it]\u001b[A\n",
      "434it [17:37:42, 102.48s/it]\u001b[A\n",
      "435it [17:39:24, 102.33s/it]\u001b[A\n",
      "436it [17:40:45, 95.94s/it] \u001b[A\n",
      "437it [17:42:05, 91.09s/it]\u001b[A\n",
      "438it [17:43:28, 88.72s/it]\u001b[A\n",
      "439it [17:44:53, 87.47s/it]\u001b[A\n",
      "440it [17:50:21, 159.65s/it]\u001b[A\n",
      "441it [18:18:10, 612.32s/it]\u001b[A\n",
      "442it [18:36:25, 757.37s/it]\u001b[A\n",
      "443it [19:00:03, 955.53s/it]\u001b[A\n",
      "444it [19:10:02, 848.54s/it]\u001b[A\n",
      "445it [19:12:16, 634.23s/it]\u001b[A\n",
      "446it [19:14:04, 476.18s/it]\u001b[A\n",
      "447it [19:15:41, 362.58s/it]\u001b[A\n",
      "448it [19:17:15, 281.78s/it]\u001b[A\n",
      "449it [19:18:47, 225.13s/it]\u001b[A\n",
      "450it [19:20:18, 184.83s/it]\u001b[A\n",
      "451it [19:21:50, 156.81s/it]\u001b[A\n",
      "452it [19:23:23, 137.69s/it]\u001b[A\n",
      "453it [19:24:54, 123.74s/it]\u001b[A\n",
      "454it [19:26:26, 114.28s/it]\u001b[A\n",
      "455it [19:27:56, 106.82s/it]\u001b[A\n",
      "456it [19:29:37, 105.33s/it]\u001b[A\n",
      "457it [19:31:20, 104.46s/it]\u001b[A\n",
      "458it [19:33:05, 104.56s/it]\u001b[A\n",
      "459it [19:34:50, 104.81s/it]\u001b[A\n",
      "460it [19:36:31, 103.74s/it]\u001b[A\n",
      "461it [19:37:51, 96.59s/it] \u001b[A\n",
      "462it [19:39:13, 92.20s/it]\u001b[A\n",
      "463it [19:40:37, 89.77s/it]\u001b[A\n",
      "464it [19:42:02, 88.26s/it]\u001b[A\n",
      "465it [19:43:23, 86.14s/it]\u001b[A\n",
      "466it [19:44:34, 81.67s/it]\u001b[A\n",
      "467it [19:45:48, 79.11s/it]\u001b[A\n",
      "468it [19:47:03, 78.05s/it]\u001b[A\n",
      "469it [19:48:20, 77.57s/it]\u001b[A\n",
      "470it [19:49:32, 75.91s/it]\u001b[A\n",
      "471it [19:51:03, 80.50s/it]\u001b[A\n",
      "472it [19:52:37, 84.51s/it]\u001b[A\n",
      "473it [19:54:15, 88.53s/it]\u001b[A\n",
      "474it [19:55:49, 90.23s/it]\u001b[A\n",
      "475it [19:57:23, 91.29s/it]\u001b[A\n",
      "476it [19:58:55, 91.75s/it]\u001b[A\n",
      "477it [20:00:28, 91.89s/it]\u001b[A\n",
      "478it [20:02:01, 92.45s/it]\u001b[A\n",
      "479it [20:03:35, 92.85s/it]\u001b[A\n",
      "480it [20:05:08, 92.81s/it]\u001b[A\n",
      "481it [20:06:36, 91.50s/it]\u001b[A\n",
      "482it [20:08:04, 90.42s/it]\u001b[A\n",
      "483it [20:09:33, 90.06s/it]\u001b[A\n",
      "484it [20:11:04, 90.19s/it]\u001b[A\n",
      "485it [20:12:32, 89.42s/it]\u001b[A\n",
      "486it [20:14:13, 93.09s/it]\u001b[A\n",
      "487it [20:15:55, 95.76s/it]\u001b[A\n",
      "488it [20:17:40, 98.36s/it]\u001b[A\n",
      "489it [20:19:24, 100.23s/it]\u001b[A\n",
      "490it [20:21:05, 100.51s/it]\u001b[A\n",
      "491it [20:22:26, 94.46s/it] \u001b[A\n",
      "492it [20:23:50, 91.54s/it]\u001b[A\n",
      "493it [20:25:14, 89.05s/it]\u001b[A\n",
      "494it [20:26:38, 87.66s/it]\u001b[A\n",
      "495it [20:27:59, 85.75s/it]\u001b[A\n",
      "496it [20:29:10, 81.33s/it]\u001b[A\n",
      "497it [20:30:23, 78.82s/it]\u001b[A\n",
      "498it [20:31:38, 77.57s/it]\u001b[A\n",
      "499it [20:32:54, 77.08s/it]\u001b[A\n",
      "500it [20:34:06, 75.62s/it]\u001b[A\n",
      "501it [20:35:39, 80.83s/it]\u001b[A\n",
      "502it [20:37:11, 84.15s/it]\u001b[A\n",
      "503it [20:38:49, 88.40s/it]\u001b[A\n",
      "504it [20:40:26, 90.76s/it]\u001b[A\n",
      "505it [20:41:59, 91.52s/it]\u001b[A\n",
      "506it [20:43:33, 92.36s/it]\u001b[A\n",
      "507it [20:45:06, 92.57s/it]\u001b[A\n",
      "508it [20:46:38, 92.33s/it]\u001b[A\n",
      "509it [20:48:13, 93.12s/it]\u001b[A\n",
      "510it [20:49:47, 93.47s/it]\u001b[A\n",
      "511it [20:51:15, 91.75s/it]\u001b[A\n",
      "512it [20:52:44, 90.78s/it]\u001b[A\n",
      "513it [20:54:14, 90.65s/it]\u001b[A\n",
      "514it [20:55:44, 90.40s/it]\u001b[A\n",
      "515it [20:57:11, 89.37s/it]\u001b[A\n",
      "516it [20:58:51, 92.66s/it]\u001b[A\n",
      "517it [21:00:32, 95.09s/it]\u001b[A\n",
      "518it [21:02:16, 97.76s/it]\u001b[A\n",
      "519it [21:04:02, 100.27s/it]\u001b[A\n",
      "520it [21:05:41, 100.01s/it]\u001b[A\n",
      "521it [21:06:57, 92.83s/it] \u001b[A\n",
      "522it [21:08:17, 88.96s/it]\u001b[A\n",
      "523it [21:09:38, 86.51s/it]\u001b[A\n",
      "524it [21:11:00, 85.17s/it]\u001b[A\n",
      "525it [21:12:17, 82.74s/it]\u001b[A\n",
      "526it [21:13:28, 79.18s/it]\u001b[A\n",
      "527it [21:14:39, 76.77s/it]\u001b[A\n",
      "528it [21:15:52, 75.54s/it]\u001b[A\n",
      "529it [21:17:06, 75.20s/it]\u001b[A\n",
      "530it [21:18:17, 73.80s/it]\u001b[A\n",
      "531it [21:19:50, 79.55s/it]\u001b[A\n",
      "532it [21:21:20, 82.71s/it]\u001b[A\n",
      "533it [21:22:51, 85.29s/it]\u001b[A\n",
      "534it [21:24:23, 87.26s/it]\u001b[A\n",
      "535it [21:25:51, 87.56s/it]\u001b[A\n",
      "536it [21:27:21, 88.22s/it]\u001b[A\n",
      "537it [21:28:53, 89.20s/it]\u001b[A\n",
      "538it [21:30:25, 90.07s/it]\u001b[A\n",
      "539it [21:31:56, 90.35s/it]\u001b[A\n",
      "540it [21:33:26, 143.72s/it][A\n"
     ]
    }
   ],
   "source": [
    "grid = {}\n",
    "grid['Validation_Set'] = {}\n",
    "# Topics range\n",
    "min_topics = 3\n",
    "max_topics = 9\n",
    "step_size = 1\n",
    "topics_range = range(min_topics, max_topics, step_size)\n",
    "# Alpha parameter\n",
    "alpha = list(np.arange(0.01, 1, 0.3))\n",
    "alpha.append('symmetric')\n",
    "alpha.append('asymmetric')\n",
    "# Beta parameter\n",
    "beta = list(np.arange(0.01, 1, 0.3))\n",
    "beta.append('symmetric')\n",
    "# Validation sets\n",
    "num_of_docs = len(corpus)\n",
    "corpus_sets = [#gensim.utils.ClippedCorpus(corpus, num_of_docs*0.25), \n",
    "               gensim.utils.ClippedCorpus(corpus, int(num_of_docs*0.5)), \n",
    "               gensim.utils.ClippedCorpus(corpus, int(num_of_docs*0.75)), \n",
    "               corpus]\n",
    "\n",
    "corpus_title = ['50% Corpus', '75% Corpus', '100% Corpus']\n",
    "\n",
    "model_results = {'Validation_Set': [],\n",
    "                 'Topics': [],\n",
    "                 'Alpha': [],\n",
    "                 'Beta': [],\n",
    "                 'Coherence': []\n",
    "                }\n",
    "# Can take a long time to run\n",
    "if 1 == 1:\n",
    "    pbar = tqdm.tqdm(total=540)\n",
    "    \n",
    "    # iterate through validation corpuses\n",
    "    for i in range(len(corpus_sets)):\n",
    "        # iterate through number of topics\n",
    "        for k in topics_range:\n",
    "            # iterate through alpha values\n",
    "            for a in alpha:\n",
    "                # iterare through beta values\n",
    "                for b in beta:\n",
    "                    # get the coherence score for the given parameters\n",
    "                    cv = compute_coherence_values(corpus=corpus_sets[i], dictionary=id2word, \n",
    "                                                  k=k, a=a, b=b)\n",
    "                    # Save the model results\n",
    "                    model_results['Validation_Set'].append(corpus_title[i])\n",
    "                    model_results['Topics'].append(k)\n",
    "                    model_results['Alpha'].append(a)\n",
    "                    model_results['Beta'].append(b)\n",
    "                    model_results['Coherence'].append(cv)\n",
    "                    \n",
    "                    pbar.update(1)\n",
    "    results_df = pd.DataFrame(model_results)\n",
    "    pbar.close()"
   ]
  },
  {
   "cell_type": "code",
   "execution_count": 5,
   "id": "71f9d81f",
   "metadata": {},
   "outputs": [],
   "source": [
    "results_df = pd.read_csv('Data/first-gs-results-24h')\n",
    "results_df.drop(columns = 'Unnamed: 0', inplace = True)"
   ]
  },
  {
   "cell_type": "code",
   "execution_count": null,
   "id": "413c4fa6",
   "metadata": {},
   "outputs": [],
   "source": [
    "results_df[(results_df['Coherence'] >= 0.38) & (results_df['Topics'] == 5 )]"
   ]
  },
  {
   "cell_type": "markdown",
   "id": "3511e4bf",
   "metadata": {},
   "source": [
    "# ============================================================================="
   ]
  },
  {
   "cell_type": "markdown",
   "id": "ab199244",
   "metadata": {},
   "source": [
    "# Below, will be trying to reduce size of corpus to increase model coherence"
   ]
  },
  {
   "cell_type": "code",
   "execution_count": 94,
   "id": "a242a21e",
   "metadata": {
    "scrolled": true
   },
   "outputs": [
    {
     "data": {
      "text/plain": [
       "237000"
      ]
     },
     "execution_count": 94,
     "metadata": {},
     "output_type": "execute_result"
    }
   ],
   "source": [
    "len(lem_noNone)"
   ]
  },
  {
   "cell_type": "code",
   "execution_count": 304,
   "id": "dc87e0b4",
   "metadata": {
    "scrolled": true
   },
   "outputs": [
    {
     "data": {
      "text/plain": [
       "81052"
      ]
     },
     "execution_count": 304,
     "metadata": {},
     "output_type": "execute_result"
    }
   ],
   "source": [
    "# Removing Tweets fewer than N number of words \n",
    "counter = []\n",
    "for i, text in enumerate(lem_noNone):\n",
    "    if len(text) <= 6:\n",
    "        counter.append(i)\n",
    "len(counter)"
   ]
  },
  {
   "cell_type": "code",
   "execution_count": 96,
   "id": "43a4478d",
   "metadata": {},
   "outputs": [],
   "source": [
    "longer_tweets = [(tweet) for (i, tweet) in enumerate(lem_noNone) if i not in counter]\n",
    "len(longer_tweets)"
   ]
  },
  {
   "cell_type": "code",
   "execution_count": 166,
   "id": "68892be1",
   "metadata": {},
   "outputs": [
    {
     "name": "stdout",
     "output_type": "stream",
     "text": [
      "62118\n"
     ]
    }
   ],
   "source": [
    "new_id2word = corpora.Dictionary(longer_tweets)\n",
    "print(len(new_id2word)) "
   ]
  },
  {
   "cell_type": "code",
   "execution_count": 167,
   "id": "ab73b605",
   "metadata": {},
   "outputs": [
    {
     "name": "stdout",
     "output_type": "stream",
     "text": [
      "12165\n"
     ]
    }
   ],
   "source": [
    "new_id2word.filter_extremes(no_below=9, no_above=.90)\n",
    "print(len(new_id2word))"
   ]
  },
  {
   "cell_type": "code",
   "execution_count": 168,
   "id": "53cc95bb",
   "metadata": {},
   "outputs": [],
   "source": [
    "new_corpus = [new_id2word.doc2bow(d) for d in longer_tweets]"
   ]
  },
  {
   "cell_type": "code",
   "execution_count": 170,
   "id": "58f532e4",
   "metadata": {},
   "outputs": [
    {
     "name": "stdout",
     "output_type": "stream",
     "text": [
      "------ Topic 1 ------\n",
      "model fire first time crash spot someone news autopilot show\n",
      "\n",
      "------ Topic 2 ------\n",
      "car get electric drive door use know people vehicle need\n",
      "\n",
      "------ Topic 3 ------\n",
      "buy stock musk elon twitter get want people price money\n",
      "\n",
      "------ Topic 4 ------\n",
      "make car electric battery world company day work build solar\n",
      "\n",
      "------ Topic 5 ------\n",
      "ev market company year make much see go good tsla\n",
      "\n"
     ]
    }
   ],
   "source": [
    "# Instantiating a Base LDA model\n",
    "newer_model = LdaMulticore(corpus=new_corpus,\n",
    "                          num_topics=5,\n",
    "                          id2word=new_id2word,\n",
    "                          workers=6,\n",
    "                          passes=8,\n",
    "                          alpha = 0.91 , \n",
    "                          eta = 0.61,\n",
    "                          chunksize=1500,\n",
    "                          random_state = 100)\n",
    "newer_words = [re.findall(r'\"([^\"]*)\"',t[1]) for t in newer_model.print_topics()]\n",
    "newer_topics = [' '.join(t[0:10]) for t in newer_words]\n",
    "\n",
    "for id, t in enumerate(newer_topics): \n",
    "    print(f\"------ Topic {id + 1} ------\")\n",
    "    print(t, end=\"\\n\\n\")"
   ]
  },
  {
   "cell_type": "code",
   "execution_count": 172,
   "id": "a3c35d6c",
   "metadata": {},
   "outputs": [
    {
     "name": "stdout",
     "output_type": "stream",
     "text": [
      "\n",
      "Coherence Score:  0.35341664092529373 \n",
      "Perplexity:  -7.507813170245735\n"
     ]
    }
   ],
   "source": [
    "newer_perplexity = newer_model.log_perplexity(new_corpus)\n",
    "\n",
    "# Compute Coherence Score\n",
    "newer_coherence_model = CoherenceModel(model= newer_model, texts=longer_tweets, \n",
    "                                   dictionary=new_id2word, coherence='c_v')\n",
    "\n",
    "new_coherence_lda_model_base = newer_coherence_model.get_coherence()\n",
    "print('\\nCoherence Score: ', new_coherence_lda_model_base, '\\nPerplexity: ', newer_perplexity)"
   ]
  },
  {
   "cell_type": "code",
   "execution_count": 173,
   "id": "da98ae39",
   "metadata": {},
   "outputs": [
    {
     "name": "stderr",
     "output_type": "stream",
     "text": [
      "/Users/austinboring/opt/anaconda3/envs/broke-the-other/lib/python3.10/site-packages/past/builtins/misc.py:45: DeprecationWarning: the imp module is deprecated in favour of importlib and slated for removal in Python 3.12; see the module's documentation for alternative uses\n",
      "  from imp import reload\n",
      "/Users/austinboring/opt/anaconda3/envs/broke-the-other/lib/python3.10/site-packages/past/builtins/misc.py:45: DeprecationWarning: the imp module is deprecated in favour of importlib and slated for removal in Python 3.12; see the module's documentation for alternative uses\n",
      "  from imp import reload\n",
      "/Users/austinboring/opt/anaconda3/envs/broke-the-other/lib/python3.10/site-packages/past/builtins/misc.py:45: DeprecationWarning: the imp module is deprecated in favour of importlib and slated for removal in Python 3.12; see the module's documentation for alternative uses\n",
      "  from imp import reload\n",
      "/Users/austinboring/opt/anaconda3/envs/broke-the-other/lib/python3.10/site-packages/past/builtins/misc.py:45: DeprecationWarning: the imp module is deprecated in favour of importlib and slated for removal in Python 3.12; see the module's documentation for alternative uses\n",
      "  from imp import reload\n",
      "/Users/austinboring/opt/anaconda3/envs/broke-the-other/lib/python3.10/site-packages/past/builtins/misc.py:45: DeprecationWarning: the imp module is deprecated in favour of importlib and slated for removal in Python 3.12; see the module's documentation for alternative uses\n",
      "  from imp import reload\n",
      "/Users/austinboring/opt/anaconda3/envs/broke-the-other/lib/python3.10/site-packages/past/builtins/misc.py:45: DeprecationWarning: the imp module is deprecated in favour of importlib and slated for removal in Python 3.12; see the module's documentation for alternative uses\n",
      "  from imp import reload\n",
      "/Users/austinboring/opt/anaconda3/envs/broke-the-other/lib/python3.10/site-packages/past/builtins/misc.py:45: DeprecationWarning: the imp module is deprecated in favour of importlib and slated for removal in Python 3.12; see the module's documentation for alternative uses\n",
      "  from imp import reload\n",
      "/Users/austinboring/opt/anaconda3/envs/broke-the-other/lib/python3.10/site-packages/past/builtins/misc.py:45: DeprecationWarning: the imp module is deprecated in favour of importlib and slated for removal in Python 3.12; see the module's documentation for alternative uses\n",
      "  from imp import reload\n"
     ]
    },
    {
     "data": {
      "text/html": [
       "\n",
       "<link rel=\"stylesheet\" type=\"text/css\" href=\"https://cdn.jsdelivr.net/gh/bmabey/pyLDAvis@3.3.1/pyLDAvis/js/ldavis.v1.0.0.css\">\n",
       "\n",
       "\n",
       "<div id=\"ldavis_el4784293929547683130759714\"></div>\n",
       "<script type=\"text/javascript\">\n",
       "\n",
       "var ldavis_el4784293929547683130759714_data = {\"mdsDat\": {\"x\": [-0.08391651580644138, -0.03615974877659016, -0.1217873257401172, -0.07001965677470044, 0.31188324709784926], \"y\": [0.23838157144763927, -0.08350581138443511, 0.0076181534992717246, -0.17960461936537309, 0.017110705802897034], \"topics\": [1, 2, 3, 4, 5], \"cluster\": [1, 1, 1, 1, 1], \"Freq\": [22.85104602761344, 21.75316216844716, 21.448634090530472, 18.90165485499118, 15.045502858417748]}, \"tinfo\": {\"Term\": [\"stock\", \"buy\", \"model\", \"car\", \"musk\", \"elon\", \"fire\", \"electric\", \"market\", \"twitter\", \"first\", \"drive\", \"ev\", \"make\", \"door\", \"battery\", \"get\", \"world\", \"crash\", \"time\", \"company\", \"spot\", \"year\", \"price\", \"much\", \"tsla\", \"someone\", \"open\", \"solar\", \"money\", \"tank\", \"twitter\", \"deal\", \"boycotttesla\", \"cancel\", \"bankrupt\", \"trump\", \"teach\", \"democrat\", \"collateral\", \"sadistic_psychopath\", \"board\", \"plummet\", \"tortures_animals\", \"republican\", \"lessonmusk_also\", \"libs\", \"vote_republican\", \"spacex_grand\", \"manipulate\", \"manipulation\", \"troll\", \"bill_gates\", \"rich\", \"piss\", \"bid\", \"buying\", \"gop\", \"net_worth\", \"free_speech\", \"musk\", \"elon\", \"maga\", \"vote\", \"liberal\", \"shareholder\", \"stock\", \"loan\", \"buy\", \"bot\", \"cover\", \"ceo\", \"drop\", \"care\", \"hate\", \"man\", \"billionaire\", \"money\", \"fall\", \"try\", \"lose\", \"tweet\", \"price\", \"want\", \"pay\", \"never\", \"employee\", \"people\", \"go\", \"get\", \"back\", \"think\", \"take\", \"say\", \"share\", \"sell\", \"know\", \"guy\", \"door\", \"manual\", \"emergency\", \"release\", \"charger\", \"button\", \"mechanical\", \"recall\", \"latch\", \"lever\", \"door_handles\", \"fix\", \"unlock\", \"electronic\", \"passenger\", \"park\", \"self_driving\", \"design\", \"trip\", \"cable\", \"mile\", \"manually\", \"speed\", \"drive\", \"supercharger\", \"lane\", \"plug\", \"open\", \"vision\", \"computer\", \"charge\", \"old\", \"normal\", \"station\", \"road\", \"seat\", \"owner\", \"situation\", \"feature\", \"easy\", \"range\", \"handle\", \"software\", \"issue\", \"gas\", \"car\", \"full\", \"pull\", \"tesla\", \"least\", \"use\", \"electric\", \"get\", \"safety\", \"lock\", \"vehicle\", \"driver\", \"truck\", \"need\", \"know\", \"thing\", \"even\", \"people\", \"way\", \"year\", \"think\", \"new\", \"work\", \"take\", \"also\", \"enter\", \"growth\", \"apple\", \"c\", \"information_including\", \"st_may\", \"gm\", \"cap\", \"revenue\", \"t\", \"month_prize\", \"entered_monthly\", \"peugeot_worth\", \"vw\", \"competition\", \"lucid\", \"earnings\", \"nasdaq\", \"market\", \"combine\", \"long_term\", \"prize\", \"short_term\", \"pe\", \"imo\", \"netflix\", \"chart\", \"fundamental\", \"amc\", \"profitable\", \"free\", \"valuation\", \"rest\", \"rivian\", \"ford\", \"margin\", \"trade\", \"google\", \"worth\", \"sale\", \"grow\", \"today\", \"tsla\", \"toyota\", \"far\", \"agree\", \"ev\", \"profit\", \"much\", \"tech\", \"evs\", \"big\", \"find\", \"auto\", \"others\", \"high\", \"best\", \"year\", \"right\", \"see\", \"many\", \"ever\", \"company\", \"next\", \"good\", \"come\", \"still\", \"sell\", \"go\", \"make\", \"well\", \"look\", \"lot\", \"think\", \"time\", \"know\", \"even\", \"car\", \"solar\", \"energy\", \"plant\", \"india\", \"green\", \"shanghai\", \"factory\", \"strategy\", \"fossil_fuel\", \"indonesia\", \"low_carbon\", \"emission\", \"major_partnerships\", \"solar_panel\", \"leader\", \"coal\", \"lack\", \"exxon\", \"subsidy\", \"storage\", \"govt\", \"nicola\", \"business_operations\", \"king\", \"mining\", \"hydrogen\", \"business_conduct\", \"artistically_inspired\", \"electricity_neurons\", \"mysterical_occultism\", \"china\", \"oil\", \"gt\", \"social\", \"grid\", \"government\", \"code\", \"production\", \"score\", \"mine\", \"earth\", \"space\", \"electricity\", \"lithium\", \"environment\", \"rocket\", \"world\", \"create\", \"battery\", \"help\", \"provide\", \"build\", \"country\", \"tax\", \"day\", \"produce\", \"make\", \"cost\", \"power\", \"esg\", \"electric\", \"work\", \"company\", \"life\", \"car\", \"live\", \"need\", \"well\", \"also\", \"people\", \"say\", \"spot\", \"model\", \"teslaradar\", \"dual_motor\", \"unitedstates\", \"california_united\", \"canada\", \"standard\", \"states_teslaradar\", \"anyone_else\", \"first_player\", \"performance\", \"unitedstates_modely\", \"florida_united\", \"involve\", \"nail\", \"crash\", \"kowa_oa\", \"united_states\", \"photo\", \"construction_worker\", \"investigation\", \"trial\", \"remove\", \"racial_discrimination\", \"department\", \"nhtsa\", \"flight_attendant\", \"must_stand\", \"incident\", \"first\", \"autopilot\", \"news\", \"fire\", \"video\", \"index\", \"someone\", \"esg_index\", \"article\", \"claim\", \"story\", \"post\", \"state\", \"show\", \"kill\", \"california\", \"catch\", \"report\", \"time\", \"read\", \"break\", \"new\", \"include\", \"say\", \"vehicle\", \"case\", \"look\"], \"Freq\": [19025.0, 20103.0, 11823.0, 33295.0, 15769.0, 14376.0, 8054.0, 16491.0, 7921.0, 7282.0, 5647.0, 6544.0, 9779.0, 18292.0, 5779.0, 7897.0, 18425.0, 6747.0, 3893.0, 9585.0, 13605.0, 3513.0, 10154.0, 7444.0, 6088.0, 5019.0, 3070.0, 3788.0, 3241.0, 5901.0, 2011.8368539421888, 7265.030498936305, 2800.917984744457, 779.585296447393, 791.3897510812059, 599.60092366678, 1441.908323813749, 463.7798730664996, 1945.0389319959686, 381.6835679696857, 308.4089651781925, 991.1558680924026, 428.4087311930357, 305.30634239560885, 1744.4054252491253, 290.5000853890198, 487.2934485598792, 288.29005744453474, 246.66629555367086, 345.89747491232123, 298.19908837396866, 378.11029211933, 296.8238088611817, 1670.9358658640817, 389.9652962127562, 239.7534132558002, 1759.8484383411912, 630.1951276813093, 221.47743020097246, 649.6798137652063, 15239.420478440332, 13888.718419277751, 1218.6943873830828, 1174.7650966678364, 1237.0063817058335, 1076.281158081322, 18181.752623497432, 919.9303148010057, 18855.58499691685, 1842.2375403905755, 995.380298965216, 2285.725690628706, 2383.5887760175888, 2173.185604454758, 1569.1139361846847, 2356.116829699708, 941.7070777043306, 4964.302508520724, 1564.8356972920515, 4115.254734810234, 2613.8902201520627, 2251.2415455540117, 5543.181885772241, 6261.009835148712, 3733.6045879708718, 3820.7330291075773, 1594.1700917990593, 5849.393857246774, 4771.223736879602, 6807.291578728494, 2999.223821168079, 4585.225788716224, 3533.236890613863, 4171.563546408383, 2583.9304048929457, 3035.8547168471805, 2379.201918451406, 2006.4112676455707, 5773.862115374392, 2554.561680071166, 1350.4133191016344, 2193.0421806359127, 834.3986936761, 748.657080557051, 646.4015757910945, 1752.1858801444525, 474.79013347371693, 440.7284025662234, 394.9721244276578, 1002.7740321463484, 629.913136467617, 345.2758531349333, 581.065673648453, 515.9819616104658, 2581.098484582193, 2089.5258844237064, 372.0294266005077, 235.2125565155553, 1190.6450549790268, 265.19215895023444, 473.90015056444076, 6458.691662106084, 665.9307723793743, 243.56020275406613, 380.89123628514557, 3731.9185011926734, 418.82429209921025, 229.33055108367176, 3673.649224547733, 1576.9047430451776, 699.0064908823164, 510.89807210797755, 1699.7909997472036, 803.1137052034942, 2932.0033046335748, 547.4858400645713, 1390.8672419616028, 1151.271265094628, 1017.5952382337997, 1762.6109397187695, 1045.093504262403, 2612.485865630932, 2945.9009095345527, 22790.190262491305, 1790.663005884675, 1251.9868512673834, 1772.365436622048, 1455.7268675020564, 5471.213627930508, 9459.644462501305, 9805.314163828483, 1992.5385333767379, 1793.8969356791777, 4051.354068554949, 2513.495416730006, 1715.4717520071626, 3936.1610947637455, 4452.779205382944, 3114.2480913720065, 3518.401505169025, 4285.7839661250255, 2652.2341228237974, 3308.2263992117623, 3101.337400312035, 2538.562137460244, 2395.1177209695984, 2270.7328526742713, 2223.975025608727, 1034.1156973743166, 901.244141266198, 1599.1634431770021, 536.9069625596803, 531.8847804388757, 540.3162032142011, 1702.749733426331, 604.0559378436125, 555.5954905434319, 413.55811353012876, 400.9393692282815, 400.40354327634606, 396.55974952629794, 778.6311020170596, 1103.941789508803, 400.13334290364736, 474.6275542866635, 333.095574313355, 7828.5363115406435, 365.8011648976818, 598.7407075244765, 169.27538358537413, 239.16403275274232, 173.96361885429792, 430.71983687306505, 196.40499369407488, 211.5311300090395, 225.34358170432137, 160.692940342452, 377.0644109676045, 2563.091247608188, 618.8828695953299, 887.7508533044956, 524.0016009120253, 3531.584957331126, 575.5044165727587, 817.4355458280315, 697.5736566584994, 1394.726536885211, 1798.9660575502046, 919.0363757148928, 2557.1748632864806, 4453.553801796778, 1057.4341777582872, 2266.2817848008945, 1463.4980737725355, 8084.454545034736, 1217.1854426145403, 5129.079829553348, 1968.271687055781, 1742.8052656115883, 3774.4369532977657, 2607.875495449088, 1256.0861400799508, 1193.8924765072486, 2562.0031264478544, 2133.483948221705, 6144.411686389843, 3754.5968844454596, 5066.674418397552, 3481.049958833517, 2309.4498496075717, 6400.626471066975, 1880.52557995579, 4457.512279083498, 3360.254079830802, 3365.579662254, 3816.896055826232, 4464.112529673567, 5420.079775214204, 3309.8763496615747, 3084.7469467163014, 2277.1374821275535, 3286.7261171102946, 2744.900964020618, 2524.627848114382, 2313.1061291090355, 2303.524890815833, 3236.52263202972, 2313.6666990352, 1086.4108470520239, 785.8427863657992, 1630.9862592123877, 620.5852234889692, 2486.462378563398, 745.3402569747545, 776.8607770722267, 407.03733513172483, 434.7332767479877, 524.7688616068596, 351.6826803520328, 760.7276795973396, 964.5263668687671, 414.8396447887215, 784.574807378197, 583.2257799481155, 773.5938881864366, 460.28236222590306, 467.7429810336244, 324.4180911806076, 283.59370614937785, 317.1159006341097, 372.75990526998424, 334.6642782893084, 279.0930949030671, 245.97343306459925, 245.97343306459925, 245.97343306459925, 2270.5174478068075, 1850.963658028387, 1257.3317422413577, 643.1105568949598, 960.9777765465599, 1731.6698727039563, 491.8473905974313, 1727.742823827819, 662.9621225455168, 1147.218548675491, 625.9855607411084, 1874.9566586826002, 1008.9476516687339, 922.1780802741127, 2207.3978961222238, 723.8346975125356, 6000.663746812231, 1520.8765673326786, 6479.8038869421935, 2583.891635519635, 790.7949999393985, 3428.229996998878, 1182.847560281847, 1884.3373073003272, 3516.9881575324857, 1552.9406781313037, 9652.54901888824, 2199.087104775286, 2716.394886826246, 1831.1759981502069, 6727.896508217013, 3441.171123241821, 5440.443722395968, 1525.373838154694, 7376.565807587927, 1414.596061415965, 2442.9196483904516, 2010.290746798741, 1872.2113367350244, 1898.9397071761548, 1745.8247939486942, 3511.0636869988352, 11813.892873957575, 2023.5611953486934, 1566.8666749226036, 1460.1082962631772, 1012.3633639388845, 1091.9105556229285, 1881.0093053863532, 972.3044730199689, 904.4790617853542, 705.0844657852821, 1237.4315828567885, 651.7956437353562, 601.1607370536332, 732.1632558937683, 493.2835498563849, 3872.731731523865, 414.72342999384927, 473.8045232829046, 446.6391067479339, 436.2279452556801, 530.43381730721, 464.28185112511846, 1160.9589324873275, 384.7155517492038, 422.1701852937607, 339.3538178982863, 366.09571115931857, 265.36678117343087, 286.68500560828124, 5584.191482011019, 2581.9035020219503, 2700.4225366651303, 7834.955823262592, 1792.5422323767407, 853.7021127032187, 2988.2672618098545, 1231.3017179445899, 1084.7445476958953, 2062.9311091092954, 1731.9439296731064, 1439.2727702670124, 2396.0831423568834, 2579.7607999301094, 1594.0361257111363, 1246.710512749369, 2174.8235522017053, 1417.5929850254315, 5319.255155692646, 1814.1329706396998, 1559.0871670538972, 2511.651743995058, 1277.6623329774425, 2395.888031184615, 1583.7232533056642, 1279.6611222422193, 1491.9373832658098], \"Total\": [19025.0, 20103.0, 11823.0, 33295.0, 15769.0, 14376.0, 8054.0, 16491.0, 7921.0, 7282.0, 5647.0, 6544.0, 9779.0, 18292.0, 5779.0, 7897.0, 18425.0, 6747.0, 3893.0, 9585.0, 13605.0, 3513.0, 10154.0, 7444.0, 6088.0, 5019.0, 3070.0, 3788.0, 3241.0, 5901.0, 2015.6136402943037, 7282.6597863120605, 2809.6154887008024, 782.4183083173888, 794.3938990193556, 602.3946306233582, 1448.6460881255398, 466.59299201464216, 1957.700495548383, 384.3700050650786, 310.8662563686933, 999.0753689773979, 431.8418298459488, 307.7631230316812, 1758.9074920422597, 292.9565170811469, 491.55047522472614, 291.0599204885753, 249.29953624619463, 349.62731039273694, 301.44315175869673, 382.52442000291154, 300.3195521100597, 1690.6152805730508, 394.6111336825093, 242.6712014318731, 1781.8843350144455, 638.1122395463149, 224.31506786632067, 658.0867746916122, 15769.721140663645, 14376.812237682312, 1235.4146532435411, 1192.2041076862342, 1257.3326418152344, 1093.2469448354577, 19025.37548898114, 935.6892636348161, 20103.190108609127, 1899.8601166074532, 1017.8308514608756, 2381.404808022576, 2519.742721484106, 2297.2156941200005, 1644.620063952299, 2533.2216073589584, 980.208501773388, 5901.303858860143, 1698.4167819698473, 4874.976035745215, 3060.7107152688413, 2628.9799691841304, 7444.636785912823, 8716.795646515879, 5310.438018883123, 5783.932973171631, 1848.6088347880298, 13434.561591070347, 10386.117179244313, 18425.12045725989, 5271.438871781461, 11877.229360412559, 7680.132901920266, 11599.333692438871, 4692.955840852241, 7996.769935669731, 10158.941260656617, 3529.352846613341, 5779.537585358326, 2559.062696263115, 1354.081362685639, 2201.6364719464054, 837.714741476645, 751.7082845469138, 649.2989041141994, 1761.2451937305475, 477.668909916444, 443.5599468686, 397.83217534136145, 1011.374260406589, 635.7290652477959, 348.6687974338536, 586.8477587000541, 521.166517485491, 2607.4747317644187, 2110.961059637183, 375.8967104245081, 238.07021266507246, 1205.354072778173, 268.5993087838577, 480.0548452115731, 6544.862799693422, 675.3639627408962, 247.01314021824388, 386.6617297378579, 3788.9848543912317, 425.45038136033935, 232.9634438402392, 3760.2522620373416, 1620.0948955166448, 712.8542139949169, 520.2982421807426, 1757.8900530060225, 822.8295999794477, 3198.6674741218008, 561.6600945843945, 1485.0470727313982, 1220.673141219661, 1074.6826328996792, 1944.9116316126433, 1116.4769288145103, 3014.3184896089474, 3475.0514630577986, 33295.68051241516, 2053.6528680508095, 1377.3970501444276, 2104.8722076752683, 1681.8568794147038, 8231.980555708798, 16491.619391828277, 18425.12045725989, 2552.255080975136, 2241.093181988127, 7119.373480097301, 3654.064373149293, 2165.142241510554, 7313.653223418367, 10158.941260656617, 5841.2934241727025, 7616.161128087585, 13434.561591070347, 5763.921201068918, 10154.480291791871, 11877.229360412559, 6721.535858846704, 6489.332185777275, 7680.132901920266, 6968.8240535715795, 1037.055819924715, 904.3599059706659, 1604.7347552861943, 539.4881276462067, 534.4603194432832, 542.9375844233883, 1711.2624302214642, 607.2761437124113, 558.9776949358928, 416.1542040292785, 403.5103274373988, 402.9744535822997, 399.1313044165607, 784.229018416369, 1113.125505876247, 403.68372372393804, 479.15524894969246, 336.6651965250689, 7921.030122569798, 370.4718232831129, 607.6195388170223, 171.97625884913677, 242.99533778052398, 176.83665445992511, 437.92337994734, 199.80665902277482, 215.3263491208826, 229.4220766500942, 163.7049782573728, 384.1685731977327, 2632.222542743844, 630.5603438869267, 908.7928431815436, 535.1804564459123, 3685.379131055981, 590.0464039117195, 843.9650647586149, 718.3789323510011, 1467.1154950138493, 1921.386517720448, 960.8655454832732, 2792.7241720147917, 5019.392682477409, 1112.329753991289, 2493.0524358768116, 1580.5611820893894, 9779.816932914067, 1306.4989276257122, 6088.368216397608, 2285.178713089949, 2018.810660587876, 4840.374589367536, 3331.999453598087, 1432.4874340464316, 1351.7349249222107, 3300.8804498676614, 2787.88191536585, 10154.480291791871, 5731.43989949761, 8594.17630950061, 5501.183324324656, 3336.8593618950654, 13605.186236770893, 2539.398401039007, 8863.279431315785, 5986.392085102945, 6046.340317149373, 7996.769935669731, 10386.117179244313, 18292.790906980175, 7319.052787194121, 7088.398108704938, 3881.442952765293, 11877.229360412559, 9585.227930095847, 10158.941260656617, 7616.161128087585, 33295.68051241516, 3241.8055507274275, 2320.121431347101, 1089.8001856084575, 788.6257563726618, 1636.9833757384285, 623.6126662886974, 2499.9839958297566, 749.66366126724, 781.8637791018981, 409.7109239201834, 437.6822271164035, 528.3973553260175, 354.16805315300655, 766.1785740230321, 971.4382628746525, 417.8209608252656, 790.3059139112645, 587.50251586827, 779.5909832135097, 463.92230091317134, 471.5781684347187, 327.1468273514885, 286.0871003010307, 319.9669065709598, 376.11426482148295, 337.7237064302982, 281.65513545976313, 248.44111102807585, 248.44111102807585, 248.44111102807585, 2302.1621724819106, 1874.910402711367, 1272.4398758682394, 651.5865509078187, 977.6108974175628, 1773.8458158041012, 497.6857678302472, 1778.6866248480967, 674.1887388147708, 1180.757982594913, 636.4283215642681, 1958.3002740596073, 1036.9837574757357, 949.0985357407803, 2343.8195993828012, 740.7864177890702, 6747.375593333527, 1644.022901327909, 7897.687116142048, 2950.6029892008837, 817.1446467314508, 4220.958490315989, 1292.065432408143, 2274.8291034844647, 4977.827247049879, 1856.9014529016627, 18292.790906980175, 2947.9333279916823, 4040.6707942784, 2415.68504659703, 16491.619391828277, 6489.332185777275, 13605.186236770893, 1976.5649331702239, 33295.68051241516, 1819.8672272769963, 7313.653223418367, 7319.052787194121, 6968.8240535715795, 13434.561591070347, 11599.333692438871, 3513.651149056947, 11823.300342412402, 2026.0533401839407, 1569.360792340351, 1462.599686236341, 1014.8533987166766, 1094.6896194121862, 1885.8034153923734, 974.7967793578474, 907.2716631752655, 707.5720687190322, 1241.9116706629052, 654.2900691651695, 603.6538600222041, 735.9345412737249, 495.9235016064223, 3893.5111087810756, 417.2175597136837, 476.8628372698653, 449.5467951825642, 439.1116987665789, 534.0500569919212, 467.5338217155659, 1169.1672421659289, 387.5394975683442, 425.38269235787243, 342.33098101096374, 369.42592477279123, 267.935602862619, 289.5273824085184, 5647.932472619989, 2621.710200302049, 2745.032512135874, 8054.333003356933, 1819.4443770999817, 862.3047520149058, 3070.272044191599, 1256.607920676785, 1104.350569872898, 2128.3401408379273, 1798.0510386457577, 1491.8745104534667, 2524.416315884348, 2917.9933072507342, 1771.416805677025, 1360.4893265994538, 2694.454342008062, 1665.4662515004145, 9585.227930095847, 2591.4528212079767, 2041.257801099781, 6721.535858846704, 1572.5180328307913, 11599.333692438871, 7119.373480097301, 1688.5169399023166, 7088.398108704938], \"Category\": [\"Default\", \"Default\", \"Default\", \"Default\", \"Default\", \"Default\", \"Default\", \"Default\", \"Default\", \"Default\", \"Default\", \"Default\", \"Default\", \"Default\", \"Default\", \"Default\", \"Default\", \"Default\", \"Default\", \"Default\", \"Default\", \"Default\", \"Default\", \"Default\", \"Default\", \"Default\", \"Default\", \"Default\", \"Default\", \"Default\", \"Topic1\", \"Topic1\", \"Topic1\", \"Topic1\", \"Topic1\", \"Topic1\", \"Topic1\", \"Topic1\", \"Topic1\", \"Topic1\", \"Topic1\", \"Topic1\", \"Topic1\", \"Topic1\", \"Topic1\", \"Topic1\", \"Topic1\", \"Topic1\", \"Topic1\", \"Topic1\", \"Topic1\", \"Topic1\", \"Topic1\", \"Topic1\", \"Topic1\", \"Topic1\", \"Topic1\", \"Topic1\", \"Topic1\", \"Topic1\", \"Topic1\", \"Topic1\", \"Topic1\", \"Topic1\", \"Topic1\", \"Topic1\", \"Topic1\", \"Topic1\", \"Topic1\", \"Topic1\", \"Topic1\", \"Topic1\", \"Topic1\", \"Topic1\", \"Topic1\", \"Topic1\", \"Topic1\", \"Topic1\", \"Topic1\", \"Topic1\", \"Topic1\", \"Topic1\", \"Topic1\", \"Topic1\", \"Topic1\", \"Topic1\", \"Topic1\", \"Topic1\", \"Topic1\", \"Topic1\", \"Topic1\", \"Topic1\", \"Topic1\", \"Topic1\", \"Topic1\", \"Topic1\", \"Topic1\", \"Topic1\", \"Topic2\", \"Topic2\", \"Topic2\", \"Topic2\", \"Topic2\", \"Topic2\", \"Topic2\", \"Topic2\", \"Topic2\", \"Topic2\", \"Topic2\", \"Topic2\", \"Topic2\", \"Topic2\", \"Topic2\", \"Topic2\", \"Topic2\", \"Topic2\", \"Topic2\", \"Topic2\", \"Topic2\", \"Topic2\", \"Topic2\", \"Topic2\", \"Topic2\", \"Topic2\", \"Topic2\", \"Topic2\", \"Topic2\", \"Topic2\", \"Topic2\", \"Topic2\", \"Topic2\", \"Topic2\", \"Topic2\", \"Topic2\", \"Topic2\", \"Topic2\", \"Topic2\", \"Topic2\", \"Topic2\", \"Topic2\", \"Topic2\", \"Topic2\", \"Topic2\", \"Topic2\", \"Topic2\", \"Topic2\", \"Topic2\", \"Topic2\", \"Topic2\", \"Topic2\", \"Topic2\", \"Topic2\", \"Topic2\", \"Topic2\", \"Topic2\", \"Topic2\", \"Topic2\", \"Topic2\", \"Topic2\", \"Topic2\", \"Topic2\", \"Topic2\", \"Topic2\", \"Topic2\", \"Topic2\", \"Topic2\", \"Topic2\", \"Topic2\", \"Topic3\", \"Topic3\", \"Topic3\", \"Topic3\", \"Topic3\", \"Topic3\", \"Topic3\", \"Topic3\", \"Topic3\", \"Topic3\", \"Topic3\", \"Topic3\", \"Topic3\", \"Topic3\", \"Topic3\", \"Topic3\", \"Topic3\", \"Topic3\", \"Topic3\", \"Topic3\", \"Topic3\", \"Topic3\", \"Topic3\", \"Topic3\", \"Topic3\", \"Topic3\", \"Topic3\", \"Topic3\", \"Topic3\", \"Topic3\", \"Topic3\", \"Topic3\", \"Topic3\", \"Topic3\", \"Topic3\", \"Topic3\", \"Topic3\", \"Topic3\", \"Topic3\", \"Topic3\", \"Topic3\", \"Topic3\", \"Topic3\", \"Topic3\", \"Topic3\", \"Topic3\", \"Topic3\", \"Topic3\", \"Topic3\", \"Topic3\", \"Topic3\", \"Topic3\", \"Topic3\", \"Topic3\", \"Topic3\", \"Topic3\", \"Topic3\", \"Topic3\", \"Topic3\", \"Topic3\", \"Topic3\", \"Topic3\", \"Topic3\", \"Topic3\", \"Topic3\", \"Topic3\", \"Topic3\", \"Topic3\", \"Topic3\", \"Topic3\", \"Topic3\", \"Topic3\", \"Topic3\", \"Topic3\", \"Topic3\", \"Topic3\", \"Topic3\", \"Topic3\", \"Topic4\", \"Topic4\", \"Topic4\", \"Topic4\", \"Topic4\", \"Topic4\", \"Topic4\", \"Topic4\", \"Topic4\", \"Topic4\", \"Topic4\", \"Topic4\", \"Topic4\", \"Topic4\", \"Topic4\", \"Topic4\", \"Topic4\", \"Topic4\", \"Topic4\", \"Topic4\", \"Topic4\", \"Topic4\", \"Topic4\", \"Topic4\", \"Topic4\", \"Topic4\", \"Topic4\", \"Topic4\", \"Topic4\", \"Topic4\", \"Topic4\", \"Topic4\", \"Topic4\", \"Topic4\", \"Topic4\", \"Topic4\", \"Topic4\", \"Topic4\", \"Topic4\", \"Topic4\", \"Topic4\", \"Topic4\", \"Topic4\", \"Topic4\", \"Topic4\", \"Topic4\", \"Topic4\", \"Topic4\", \"Topic4\", \"Topic4\", \"Topic4\", \"Topic4\", \"Topic4\", \"Topic4\", \"Topic4\", \"Topic4\", \"Topic4\", \"Topic4\", \"Topic4\", \"Topic4\", \"Topic4\", \"Topic4\", \"Topic4\", \"Topic4\", \"Topic4\", \"Topic4\", \"Topic4\", \"Topic4\", \"Topic4\", \"Topic4\", \"Topic4\", \"Topic5\", \"Topic5\", \"Topic5\", \"Topic5\", \"Topic5\", \"Topic5\", \"Topic5\", \"Topic5\", \"Topic5\", \"Topic5\", \"Topic5\", \"Topic5\", \"Topic5\", \"Topic5\", \"Topic5\", \"Topic5\", \"Topic5\", \"Topic5\", \"Topic5\", \"Topic5\", \"Topic5\", \"Topic5\", \"Topic5\", \"Topic5\", \"Topic5\", \"Topic5\", \"Topic5\", \"Topic5\", \"Topic5\", \"Topic5\", \"Topic5\", \"Topic5\", \"Topic5\", \"Topic5\", \"Topic5\", \"Topic5\", \"Topic5\", \"Topic5\", \"Topic5\", \"Topic5\", \"Topic5\", \"Topic5\", \"Topic5\", \"Topic5\", \"Topic5\", \"Topic5\", \"Topic5\", \"Topic5\", \"Topic5\", \"Topic5\", \"Topic5\", \"Topic5\", \"Topic5\", \"Topic5\", \"Topic5\", \"Topic5\", \"Topic5\"], \"logprob\": [30.0, 29.0, 28.0, 27.0, 26.0, 25.0, 24.0, 23.0, 22.0, 21.0, 20.0, 19.0, 18.0, 17.0, 16.0, 15.0, 14.0, 13.0, 12.0, 11.0, 10.0, 9.0, 8.0, 7.0, 6.0, 5.0, 4.0, 3.0, 2.0, 1.0, -5.4716, -4.1875, -5.1407, -6.4196, -6.4046, -6.6821, -5.8046, -6.939, -5.5053, -7.1338, -7.3469, -6.1795, -7.0183, -7.357, -5.6142, -7.4068, -6.8895, -7.4144, -7.5703, -7.2322, -7.3806, -7.1432, -7.3852, -5.6572, -7.1123, -7.5987, -5.6054, -6.6323, -7.678, -6.6019, -3.4467, -3.5395, -5.9728, -6.0095, -5.9579, -6.0971, -3.2702, -6.2541, -3.2338, -5.5596, -6.1752, -5.3439, -5.302, -5.3944, -5.7201, -5.3136, -6.2307, -4.5683, -5.7228, -4.7559, -5.2098, -5.3591, -4.458, -4.3363, -4.8532, -4.8302, -5.7043, -4.4043, -4.608, -4.2526, -5.0723, -4.6478, -4.9084, -4.7423, -5.2213, -5.0601, -5.3038, -5.4743, -4.368, -5.1835, -5.821, -5.3361, -6.3024, -6.4108, -6.5577, -5.5605, -6.8662, -6.9407, -7.0503, -6.1186, -6.5835, -7.1848, -6.6643, -6.7831, -5.1732, -5.3844, -7.1101, -7.5686, -5.9469, -7.4487, -6.8681, -4.2559, -6.5279, -7.5338, -7.0866, -4.8044, -6.9917, -7.594, -4.8202, -5.6659, -6.4795, -6.793, -5.5909, -6.3406, -5.0457, -6.7238, -5.7914, -5.9805, -6.1039, -5.5546, -6.0773, -5.1611, -5.041, -2.995, -5.5388, -5.8966, -5.5491, -5.7459, -4.4219, -3.8743, -3.8384, -5.432, -5.537, -4.7223, -5.1997, -5.5817, -4.7512, -4.6278, -4.9854, -4.8634, -4.6661, -5.146, -4.925, -4.9895, -5.1898, -5.2479, -5.3013, -5.3221, -6.0737, -6.2112, -5.6378, -6.7292, -6.7386, -6.7229, -5.575, -6.6114, -6.695, -6.9902, -7.0212, -7.0226, -7.0322, -6.3575, -6.0084, -7.0232, -6.8525, -7.2066, -4.0495, -7.1129, -6.6202, -7.8835, -7.5379, -7.8562, -6.9496, -7.7348, -7.6607, -7.5974, -7.9355, -7.0826, -5.1661, -6.5871, -6.2263, -6.7535, -4.8455, -6.6598, -6.3089, -6.4674, -5.7746, -5.5201, -6.1917, -5.1684, -4.6136, -6.0514, -5.2891, -5.7264, -4.0173, -5.9107, -4.4723, -5.4301, -5.5518, -4.779, -5.1487, -5.8793, -5.9301, -5.1665, -5.3495, -4.2917, -4.7843, -4.4846, -4.8599, -5.2703, -4.2509, -5.4757, -4.6127, -4.8953, -4.8937, -4.7678, -4.6112, -4.4172, -4.9104, -4.9808, -5.2843, -4.9174, -5.0975, -5.1812, -5.2687, -5.2728, -4.8064, -5.142, -5.898, -6.2219, -5.4917, -6.458, -5.07, -6.2748, -6.2334, -6.8797, -6.8139, -6.6257, -7.0259, -6.2543, -6.017, -6.8607, -6.2235, -6.52, -6.2376, -6.7568, -6.7407, -7.1066, -7.2411, -7.1293, -6.9677, -7.0755, -7.2571, -7.3834, -7.3834, -7.3834, -5.1608, -5.3652, -5.7519, -6.4223, -6.0207, -5.4318, -6.6904, -5.434, -6.3919, -5.8435, -6.4493, -5.3523, -5.9719, -6.0619, -5.189, -6.304, -4.189, -5.5616, -4.1122, -5.0316, -6.2156, -4.7488, -5.8129, -5.3473, -4.7233, -5.5407, -3.7136, -5.1928, -4.9816, -5.3759, -4.0746, -4.745, -4.287, -5.5586, -3.9825, -5.634, -5.0877, -5.2826, -5.3537, -5.3396, -5.4236, -4.4968, -3.2834, -5.0478, -5.3036, -5.3742, -5.7404, -5.6648, -5.1209, -5.7808, -5.8531, -6.1021, -5.5396, -6.1807, -6.2616, -6.0644, -6.4594, -4.3987, -6.6328, -6.4996, -6.5587, -6.5823, -6.3867, -6.52, -5.6034, -6.7079, -6.615, -6.8334, -6.7575, -7.0793, -7.0021, -4.0327, -4.8042, -4.7593, -3.6941, -5.1691, -5.9109, -4.658, -5.5446, -5.6713, -5.0286, -5.2034, -5.3885, -4.8789, -4.805, -5.2864, -5.5322, -4.9757, -5.4037, -4.0814, -5.1571, -5.3086, -4.8317, -5.5077, -4.8789, -5.2929, -5.5061, -5.3526], \"loglift\": [30.0, 29.0, 28.0, 27.0, 26.0, 25.0, 24.0, 23.0, 22.0, 21.0, 20.0, 19.0, 18.0, 17.0, 16.0, 15.0, 14.0, 13.0, 12.0, 11.0, 10.0, 9.0, 8.0, 7.0, 6.0, 5.0, 4.0, 3.0, 2.0, 1.0, 1.4743, 1.4737, 1.4731, 1.4725, 1.4724, 1.4715, 1.4715, 1.4701, 1.4697, 1.4692, 1.4682, 1.4682, 1.4682, 1.4682, 1.4679, 1.4678, 1.4675, 1.4666, 1.4656, 1.4654, 1.4654, 1.4646, 1.4645, 1.4645, 1.4643, 1.4641, 1.4637, 1.4637, 1.4634, 1.4633, 1.442, 1.4416, 1.4625, 1.4614, 1.4599, 1.4605, 1.4308, 1.4592, 1.4121, 1.4454, 1.4539, 1.4352, 1.4206, 1.4207, 1.4292, 1.4037, 1.4361, 1.3033, 1.3943, 1.3068, 1.3184, 1.3211, 1.1812, 1.1453, 1.1239, 1.0615, 1.3281, 0.6447, 0.6983, 0.4805, 0.9122, 0.5244, 0.6998, 0.4535, 0.8794, 0.5076, 0.0246, 0.9114, 1.5244, 1.5237, 1.5227, 1.5215, 1.5214, 1.5213, 1.5209, 1.5203, 1.5194, 1.519, 1.5182, 1.5169, 1.5162, 1.5156, 1.5155, 1.5154, 1.5152, 1.5152, 1.5151, 1.5133, 1.5131, 1.5126, 1.5125, 1.5122, 1.5113, 1.5113, 1.5104, 1.5102, 1.5097, 1.5097, 1.5021, 1.4984, 1.5058, 1.5072, 1.4918, 1.5012, 1.4384, 1.4999, 1.4599, 1.4669, 1.4708, 1.427, 1.4593, 1.3823, 1.3602, 1.1463, 1.3884, 1.4299, 1.3535, 1.381, 1.1169, 0.9696, 0.8946, 1.2778, 1.3028, 0.9616, 1.1512, 1.2926, 0.9059, 0.7006, 0.8964, 0.7531, 0.3829, 0.7492, 0.4039, 0.1826, 0.5517, 0.5287, 0.3069, 0.3833, 1.5367, 1.5361, 1.536, 1.5347, 1.5347, 1.5347, 1.5345, 1.5342, 1.5334, 1.5333, 1.5331, 1.5331, 1.533, 1.5323, 1.5312, 1.5307, 1.53, 1.5288, 1.5278, 1.5268, 1.5248, 1.5237, 1.5236, 1.5231, 1.5229, 1.5223, 1.5217, 1.5216, 1.5209, 1.5208, 1.5129, 1.5208, 1.5161, 1.5184, 1.4969, 1.5146, 1.5076, 1.5101, 1.4889, 1.4737, 1.495, 1.4514, 1.4199, 1.4889, 1.4441, 1.4626, 1.3491, 1.4687, 1.3681, 1.3902, 1.3925, 1.2908, 1.2945, 1.4081, 1.4153, 1.2861, 1.272, 1.0371, 1.1165, 1.0111, 1.0819, 1.1715, 0.7855, 1.2391, 0.8522, 0.962, 0.9537, 0.7999, 0.6951, 0.3231, 0.7459, 0.7075, 1.0062, 0.2548, 0.289, 0.1472, 0.3478, -1.1315, 1.6643, 1.6631, 1.6628, 1.6624, 1.6623, 1.6611, 1.6605, 1.6601, 1.6595, 1.6594, 1.6592, 1.659, 1.6589, 1.6588, 1.6588, 1.6588, 1.6586, 1.6586, 1.6582, 1.658, 1.6578, 1.6575, 1.6572, 1.657, 1.657, 1.6568, 1.6568, 1.6559, 1.6559, 1.6559, 1.6521, 1.6531, 1.654, 1.6528, 1.6488, 1.6419, 1.6541, 1.6369, 1.6491, 1.6371, 1.6494, 1.6224, 1.6385, 1.6371, 1.606, 1.6428, 1.5486, 1.5881, 1.468, 1.5332, 1.6331, 1.4579, 1.5776, 1.4776, 1.3185, 1.4872, 1.0266, 1.3729, 1.2688, 1.3889, 0.7693, 1.0316, 0.7493, 1.4068, 0.1588, 1.414, 0.5694, 0.3737, 0.3516, -0.2906, -0.2278, 1.8934, 1.8933, 1.8929, 1.8925, 1.8924, 1.8916, 1.8915, 1.8915, 1.8915, 1.891, 1.8906, 1.8905, 1.8903, 1.89, 1.889, 1.8888, 1.8887, 1.8881, 1.8877, 1.8876, 1.8875, 1.8873, 1.8871, 1.887, 1.8868, 1.8865, 1.8854, 1.885, 1.8845, 1.8842, 1.8827, 1.8788, 1.8777, 1.8665, 1.8792, 1.8841, 1.867, 1.8737, 1.8762, 1.8629, 1.8566, 1.8582, 1.8419, 1.7709, 1.7886, 1.8068, 1.6798, 1.7329, 1.3052, 1.5375, 1.6246, 0.9097, 1.6864, 0.3169, 0.391, 1.6168, 0.3357]}, \"token.table\": {\"Topic\": [1, 2, 3, 4, 5, 1, 2, 3, 4, 5, 1, 2, 3, 4, 5, 1, 2, 3, 4, 5, 1, 2, 3, 4, 5, 1, 2, 3, 4, 5, 1, 2, 3, 4, 5, 1, 2, 3, 4, 5, 1, 2, 3, 4, 5, 1, 2, 3, 4, 5, 1, 2, 3, 4, 5, 1, 2, 3, 4, 5, 1, 2, 3, 4, 5, 1, 2, 3, 4, 5, 1, 2, 3, 4, 5, 1, 2, 3, 4, 5, 1, 2, 3, 4, 5, 1, 2, 3, 4, 5, 1, 2, 3, 4, 5, 1, 2, 3, 4, 5, 1, 2, 3, 4, 5, 1, 2, 3, 4, 5, 1, 2, 3, 4, 5, 1, 2, 3, 4, 5, 1, 2, 3, 4, 5, 1, 2, 3, 4, 5, 1, 2, 3, 4, 5, 1, 2, 3, 4, 5, 1, 2, 3, 4, 5, 1, 2, 3, 4, 5, 1, 2, 3, 4, 5, 1, 2, 3, 4, 5, 1, 2, 3, 4, 5, 1, 2, 3, 4, 5, 1, 2, 3, 4, 5, 1, 2, 3, 4, 5, 1, 2, 3, 4, 5, 1, 2, 3, 4, 5, 1, 2, 3, 4, 5, 1, 2, 3, 4, 5, 1, 2, 3, 4, 5, 1, 2, 3, 4, 5, 1, 2, 3, 4, 5, 1, 2, 3, 4, 5, 1, 2, 3, 4, 5, 1, 2, 3, 4, 5, 1, 2, 3, 4, 5, 1, 2, 3, 4, 5, 1, 2, 3, 4, 5, 1, 2, 3, 4, 5, 1, 2, 3, 4, 5, 1, 2, 3, 4, 5, 1, 2, 3, 4, 5, 1, 2, 3, 4, 5, 1, 2, 3, 4, 5, 1, 2, 3, 4, 5, 1, 2, 3, 4, 5, 1, 2, 3, 4, 5, 1, 2, 3, 4, 5, 1, 2, 3, 4, 5, 1, 2, 3, 4, 5, 1, 2, 3, 4, 5, 1, 2, 3, 4, 5, 1, 2, 3, 4, 5, 1, 2, 3, 4, 5, 1, 2, 3, 4, 5, 1, 2, 3, 4, 5, 1, 2, 3, 4, 5, 1, 2, 3, 4, 5, 1, 2, 3, 4, 5, 1, 2, 3, 4, 5, 1, 2, 3, 4, 5, 1, 2, 3, 4, 5, 1, 2, 3, 4, 5, 1, 2, 3, 4, 5, 1, 2, 3, 4, 5, 1, 2, 3, 4, 5, 1, 2, 3, 4, 5, 1, 2, 3, 4, 5, 1, 2, 3, 4, 5, 1, 2, 3, 4, 5, 1, 2, 3, 4, 5, 1, 2, 3, 4, 5, 1, 2, 3, 4, 5, 1, 2, 3, 4, 5, 1, 2, 3, 4, 5, 1, 2, 3, 4, 5, 1, 2, 3, 4, 5, 1, 2, 3, 4, 5, 1, 2, 3, 4, 5, 1, 2, 3, 4, 5, 1, 2, 3, 4, 5, 1, 2, 3, 4, 5, 1, 2, 3, 4, 5, 1, 2, 3, 4, 5, 1, 2, 3, 4, 5, 1, 2, 3, 4, 5, 1, 2, 3, 4, 5, 1, 2, 3, 4, 5, 1, 2, 3, 4, 5, 1, 2, 3, 4, 5, 1, 2, 3, 4, 5, 1, 2, 3, 4, 5, 1, 2, 3, 4, 5, 1, 2, 3, 4, 5, 1, 2, 3, 4, 5, 1, 2, 3, 4, 5, 1, 2, 3, 4, 5, 1, 2, 3, 4, 5, 1, 2, 3, 4, 5, 1, 2, 3, 4, 5, 1, 2, 3, 4, 5, 1, 2, 3, 4, 5, 1, 2, 3, 4, 5, 1, 2, 3, 4, 5, 1, 2, 3, 4, 5, 1, 2, 3, 4, 5, 1, 2, 3, 4, 5, 1, 2, 3, 4, 5, 1, 2, 3, 4, 5, 1, 2, 3, 4, 5, 1, 2, 3, 4, 5, 1, 2, 3, 4, 5, 1, 2, 3, 4, 5, 1, 2, 3, 4, 5, 1, 2, 3, 4, 5, 1, 2, 3, 4, 5, 1, 2, 3, 4, 5, 1, 2, 3, 4, 5, 1, 2, 3, 4, 5, 1, 2, 3, 4, 5, 1, 2, 3, 4, 5, 1, 2, 3, 4, 5, 1, 2, 3, 4, 5, 1, 2, 3, 4, 5, 1, 2, 3, 4, 5, 1, 2, 3, 4, 5, 1, 2, 3, 4, 5, 1, 2, 3, 4, 5, 1, 2, 3, 4, 5, 1, 2, 3, 4, 5, 1, 2, 3, 4, 5, 1, 2, 3, 4, 5, 1, 2, 3, 4, 5, 1, 2, 3, 4, 5, 1, 2, 3, 4, 5, 1, 2, 3, 4, 5, 1, 2, 3, 4, 5, 1, 2, 3, 4, 5, 1, 2, 3, 4, 5, 1, 2, 3, 4, 5, 1, 2, 3, 4, 5, 1, 2, 3, 4, 5, 1, 2, 3, 4, 5, 1, 2, 3, 4, 5, 1, 2, 3, 4, 5, 1, 2, 3, 4, 5, 1, 2, 3, 4, 5, 1, 2, 3, 4, 5, 1, 2, 3, 4, 5, 1, 2, 3, 4, 5, 1, 2, 3, 4, 5, 1, 2, 3, 4, 5, 1, 2, 3, 4, 5, 1, 2, 3, 4, 5, 1, 2, 3, 4, 5, 1, 2, 3, 4, 5, 1, 2, 3, 4, 5, 1, 2, 3, 4, 5, 1, 2, 3, 4, 5, 1, 2, 3, 4, 5, 1, 2, 3, 4, 5, 1, 2, 3, 4, 5, 1, 2, 3, 4, 5, 1, 2, 3, 4, 5, 1, 2, 3, 4, 5, 1, 2, 3, 4, 5, 1, 2, 3, 4, 5, 1, 2, 3, 4, 5, 1, 2, 3, 4, 5, 1, 2, 3, 4, 5, 1, 2, 3, 4, 5, 1, 2, 3, 4, 5, 1, 2, 3, 4, 5, 1, 2, 3, 4, 5, 1, 2, 3, 4, 5, 1, 2, 3, 4, 5, 1, 2, 3, 4, 5, 1, 2, 3, 4, 5, 1, 2, 3, 4, 5, 1, 2, 3, 4, 5, 1, 2, 3, 4, 5, 1, 2, 3, 4, 5, 1, 2, 3, 4, 5, 1, 2, 3, 4, 5, 1, 2, 3, 4, 5, 1, 2, 3, 4, 5, 1, 2, 3, 4, 5, 1, 2, 3, 4, 5, 1, 2, 3, 4, 5, 1, 2, 3, 4, 5, 1, 2, 3, 4, 5, 1, 2, 3, 4, 5, 1, 2, 3, 4, 5, 1, 2, 3, 4, 5, 1, 2, 3, 4, 5, 1, 2, 3, 4, 5, 1, 2, 3, 4, 5, 1, 2, 3, 4, 5, 1, 2, 3, 4, 5, 1, 2, 3, 4, 5, 1, 2, 3, 4, 5, 1, 2, 3, 4, 5, 1, 2, 3, 4, 5, 1, 2, 3, 4, 5, 1, 2, 3, 4, 5, 1, 2, 3, 4, 5, 1, 2, 3, 4, 5, 1, 2, 3, 4, 5, 1, 2, 3, 4, 5, 1, 2, 3, 4, 5, 1, 2, 3, 4, 5, 1, 2, 3, 4, 5, 1, 2, 3, 4, 5, 1, 2, 3, 4, 5, 1, 2, 3, 4, 5, 1, 2, 3, 4, 5, 1, 2, 3, 4, 5, 1, 2, 3, 4, 5, 1, 2, 3, 4, 5, 1, 2, 3, 4, 5, 1, 2, 3, 4, 5, 1, 2, 3, 4, 5, 1, 2, 3, 4, 5, 1, 2, 3, 4, 5, 1, 2, 3, 4, 5, 1, 2, 3, 4, 5, 1, 2, 3, 4, 5, 1, 2, 3, 4, 5, 1, 2, 3, 4, 5, 1, 2, 3, 4, 5, 1, 2, 3, 4, 5, 1, 2, 3, 4, 5, 1, 2, 3, 4, 5, 1, 2, 3, 4, 5, 1, 2, 3, 4, 5, 1, 2, 3, 4, 5, 1, 2, 3, 4, 5, 1, 2, 3, 4, 5, 1, 2, 3, 4, 5, 1, 2, 3, 4, 5, 1, 2, 3, 4, 5, 1, 2, 3, 4, 5, 1, 2, 3, 4, 5, 1, 2, 3, 4, 5, 1, 2, 3, 4, 5, 1, 2, 3, 4, 5, 1, 2, 3, 4, 5, 1, 2, 3, 4, 5, 1, 2, 3, 4, 5, 1, 2, 3, 4, 5, 1, 2, 3, 4, 5, 1, 2, 3, 4, 5, 1, 2, 3, 4, 5, 1, 2, 3, 4, 5, 1, 2, 3, 4, 5, 1, 2, 3, 4, 5, 1, 2, 3, 4, 5, 1, 2, 3, 4, 5, 1, 2, 3, 4, 5, 1, 2, 3, 4, 5, 1, 2, 3, 4, 5, 1, 2, 3, 4, 5, 1, 2, 3, 4, 5, 1, 2, 3, 4, 5, 1, 2, 3, 4, 5, 1, 2, 3, 4, 5, 1, 2, 3, 4, 5, 1, 2, 3, 4, 5, 1, 2, 3, 4, 5, 1, 2, 3, 4, 5, 1, 2, 3, 4, 5, 1, 2, 3, 4, 5, 1, 2, 3, 4, 5, 1, 2, 3, 4, 5, 1, 2, 3, 4, 5, 1, 2, 3, 4, 5, 1, 2, 3, 4, 5, 1, 2, 3, 4, 5, 1, 2, 3, 4, 5, 1, 2, 3, 4, 5, 1, 2, 3, 4, 5, 1, 2, 3, 4, 5, 1, 2, 3, 4, 5, 1, 2, 3, 4, 5, 1, 2, 3, 4, 5, 1, 2, 3, 4, 5, 1, 2, 3, 4, 5, 1, 2, 3, 4, 5, 1, 2, 3, 4, 5, 1, 2, 3, 4, 5, 1, 2, 3, 4, 5, 1, 2, 3, 4, 5, 1, 2, 3, 4, 5, 1, 2, 3, 4, 5, 1, 2, 3, 4, 5, 1, 2, 3, 4, 5, 1, 2, 3, 4, 5, 1, 2, 3, 4, 5, 1, 2, 3, 4, 5, 1, 2, 3, 4, 5, 1, 2, 3, 4, 5, 1, 2, 3, 4, 5, 1, 2, 3, 4, 5, 1, 2, 3, 4, 5, 1, 2, 3, 4, 5, 1, 2, 3, 4, 5], \"Freq\": [0.044920753973055984, 0.008857613459475827, 0.925620606515224, 0.0183479135946285, 0.0018980600270305345, 0.07892292813995218, 0.31913562215137026, 0.2743647974610701, 0.2686249481418009, 0.058833455522509806, 0.006108549725517971, 0.006108549725517971, 0.9834765058083933, 0.006108549725517971, 0.006108549725517971, 0.0011022057015428039, 0.0011022057015428039, 0.0011022057015428039, 0.0011022057015428039, 0.9963939541946947, 0.0006231559431899114, 0.0006231559431899114, 0.9964263531606683, 0.0012463118863798228, 0.0006231559431899114, 0.0009055095612574294, 0.0009055095612574294, 0.006338566928802006, 0.009055095612574294, 0.982477873964311, 0.004025098728072392, 0.004025098728072392, 0.004025098728072392, 0.9901742871058083, 0.004025098728072392, 0.0027923456115080637, 0.0614316034531774, 0.876796522013532, 0.04188518417262095, 0.017452160071925397, 0.00038143041129595073, 0.014112925217950177, 0.00038143041129595073, 0.00038143041129595073, 0.9848533219661448, 0.5689148775022218, 0.22422720413725447, 0.14607017528399827, 0.05027090448085654, 0.010623285475199874, 0.9960248141307629, 0.0016600413568846049, 0.0016600413568846049, 0.0016600413568846049, 0.0016600413568846049, 0.0002532386976830481, 0.13763523219073664, 0.01063602530268802, 0.8204933804930759, 0.03102174046617339, 0.004304342997406063, 0.14993461440964453, 0.7650969677889278, 0.06958687845806469, 0.010760857493515158, 0.9889925074911577, 0.00412080211454649, 0.00412080211454649, 0.00412080211454649, 0.00412080211454649, 0.07623376934722217, 0.03987294711114873, 0.7796917222667114, 0.0987526876638813, 0.005164889522169524, 0.9889466000906821, 0.003329786532291859, 0.003329786532291859, 0.003329786532291859, 0.003329786532291859, 0.9610200261431509, 0.001020191110555362, 0.0030605733316660852, 0.012242293326664341, 0.023464395542773322, 0.9919171573755607, 0.001000925486756368, 0.003002776460269104, 0.002001850973512736, 0.002001850973512736, 0.969545064869948, 0.0015790636235666904, 0.004737190870700072, 0.006842609035455659, 0.016843345318044697, 0.9969091874618969, 0.0012780887018742268, 0.0012780887018742268, 0.0012780887018742268, 0.0012780887018742268, 0.048499508463194195, 0.13521075086708684, 0.01567660879618398, 0.036742051866056204, 0.7637447847890884, 0.0011845650724761547, 0.1511505032479573, 0.03458930011630371, 0.8121378136896515, 0.0007107390434856927, 0.003550441210197137, 0.003550441210197137, 0.003550441210197137, 0.9905730976450012, 0.003550441210197137, 0.0034954389727735557, 0.0034954389727735557, 0.0034954389727735557, 0.9927046682676898, 0.0034954389727735557, 0.00133030328460826, 0.9963971601715869, 0.00133030328460826, 0.00133030328460826, 0.00133030328460826, 0.937960587256496, 0.008108165874141328, 0.0480023317088735, 0.005372281683480143, 0.0005471768381322368, 0.9877184312222667, 0.002806018270517803, 0.005050832886932046, 0.003928425578724924, 0.0011224073082071212, 0.0018536089095473002, 0.0018536089095473002, 0.9953879844269002, 0.0018536089095473002, 0.0018536089095473002, 0.00420044149499225, 0.9871037513231788, 0.00420044149499225, 0.00420044149499225, 0.00420044149499225, 0.0029401186189369154, 0.0022050889642026865, 0.0014700593094684577, 0.07791314340182826, 0.9165819794535833, 0.0009853639956909448, 0.0009853639956909448, 0.0009853639956909448, 0.0009853639956909448, 0.9971883636392361, 0.0009135009433422494, 0.0009135009433422494, 0.0009135009433422494, 0.0009135009433422494, 0.9975430301297363, 0.9957276874563801, 0.0012588213495023767, 0.0012588213495023767, 0.0012588213495023767, 0.0012588213495023767, 0.0016466973227151362, 0.0016466973227151362, 0.9946051829199423, 0.0016466973227151362, 0.0016466973227151362, 0.02183466410091601, 0.6844731703712185, 0.06919816518364579, 0.22156027107628254, 0.0029433247343738224, 0.9459277183078866, 0.015671144896034935, 0.016977073637371182, 0.01958893112004367, 0.0017412383217816597, 0.008883535394597684, 0.17885517927790004, 0.04678661974488114, 0.007106828315678147, 0.758061687005669, 0.0007422653146571729, 0.1473396649594488, 0.03228854118758702, 0.012618510349171939, 0.8072135296896755, 0.9599375932637859, 0.0008398404140540559, 0.015956967867027064, 0.006718723312432447, 0.01679680828108112, 0.00026593960466316966, 0.9770621075324852, 0.0010637584186526786, 0.02127516837305357, 0.0005318792093263393, 0.0011937237707400179, 0.9955656247971749, 0.0011937237707400179, 0.0011937237707400179, 0.0011937237707400179, 0.0046441134774388776, 0.0046441134774388776, 0.9845520572170421, 0.0046441134774388776, 0.0046441134774388776, 0.0030406198501878143, 0.0004343742643125449, 0.009990608079188532, 0.9864639542537894, 0.0004343742643125449, 0.008927144508264408, 0.001409549132883854, 0.015035190750761108, 0.005638196531535416, 0.9692999537131303, 0.0023933696337896364, 0.0023933696337896364, 0.0023933696337896364, 0.9932483980226992, 0.0023933696337896364, 0.002009299973273667, 0.002009299973273667, 0.004018599946547334, 0.9885755868506441, 0.004018599946547334, 0.9938340530378343, 0.0026016598247063727, 0.0026016598247063727, 0.0026016598247063727, 0.0026016598247063727, 0.002699260610801714, 0.002699260610801714, 0.9879293835534274, 0.005398521221603428, 0.002699260610801714, 0.1029000425035486, 0.18174552961665727, 0.5612729591102651, 0.1236136874230941, 0.03056933080868408, 0.09106821313855598, 0.016390808337286508, 0.47048235052453335, 0.3998475217705767, 0.02219741756888128, 0.0008983712930131854, 0.0035934851720527414, 0.9918019074865566, 0.002695113879039556, 0.0008983712930131854, 0.004292518961411715, 0.9829868421632828, 0.004292518961411715, 0.004292518961411715, 0.004292518961411715, 0.002277324887514727, 0.002277324887514727, 0.002277324887514727, 0.002277324887514727, 0.9929136509564209, 0.013568827904005046, 0.09769556090883634, 0.14077658950405236, 0.7459463140226774, 0.002035324185600757, 0.041793549030527934, 0.021670729126940413, 0.01857491068023464, 0.9155883056132323, 0.00232186383502933, 0.9775691103997223, 0.003929926071958682, 0.0009824815179896706, 0.008842333661907035, 0.007859852143917365, 0.0038525638121772263, 0.0007705127624354453, 0.0005136751749569635, 0.00025683758747848176, 0.9947319763041599, 0.03284625777194658, 0.017031392918787115, 0.01946444905004242, 0.9251695939098287, 0.00547437629532443, 0.11531135403306382, 0.06107082164817317, 0.026919375331760545, 0.7065331570283718, 0.0901999964474663, 0.9969335701858668, 0.0007118411782833751, 0.0014236823565667502, 0.0007118411782833751, 0.00035592058914168755, 0.9935125441418323, 0.0005108033645973431, 0.0010216067291946862, 0.0025540168229867158, 0.0025540168229867158, 0.0023508243705381055, 0.0023508243705381055, 0.0023508243705381055, 0.0023508243705381055, 0.9920478843670805, 0.000473717880978758, 0.9900703712456043, 0.001421153642936274, 0.00473717880978758, 0.003789743047830064, 0.0001730242229989756, 0.999041863596085, 0.0001730242229989756, 0.0001730242229989756, 0.0005190726689969267, 0.0025136227333597294, 0.992880979677093, 0.0025136227333597294, 0.0025136227333597294, 0.0025136227333597294, 0.00336141500185925, 0.9868808862276771, 0.0019862906829168294, 0.0036669981838464544, 0.004125372956827261, 0.00027366786621171093, 0.6877273477900295, 0.0005473357324234219, 0.0010946714648468437, 0.31006569241786847, 0.9461283406727514, 0.0007937318294234492, 0.044448982447713156, 0.0011905977441351739, 0.007540452379522767, 0.0006372021047554803, 0.0006372021047554803, 0.0006372021047554803, 0.0006372021047554803, 0.9984956981518377, 0.004174012503012326, 0.002087006251506163, 0.9913279694654274, 0.002087006251506163, 0.002087006251506163, 0.009427613128926577, 0.0015712688548210963, 0.0031425377096421926, 0.9836143031180062, 0.0015712688548210963, 0.002457660366805882, 0.9429223607311901, 0.0360456853798196, 0.0090114213449549, 0.0090114213449549, 0.0038201221179781156, 0.5736246862868726, 0.011945461226058551, 0.40796478745645653, 0.0026073849376676028, 0.0009643352586681175, 0.02314404620803482, 0.0009643352586681175, 0.9730142759961306, 0.001928670517336235, 0.004025098728072392, 0.004025098728072392, 0.004025098728072392, 0.9901742871058083, 0.004025098728072392, 0.002868051306454261, 0.98947770072672, 0.002868051306454261, 0.002868051306454261, 0.002868051306454261, 0.9660695132121339, 0.0010433467274952846, 0.0014606854184933983, 0.016067539603427383, 0.01530241866993084, 0.0007385080598234022, 0.996985880761593, 0.0007385080598234022, 0.0007385080598234022, 0.0014770161196468044, 0.001892515149669905, 0.001892515149669905, 0.001892515149669905, 0.9935704535767, 0.001892515149669905, 0.862270032471621, 0.002163789291020379, 0.009196104486836611, 0.031374944719795496, 0.09466578148214158, 0.00043101192312136155, 0.0008620238462427231, 0.0008620238462427231, 0.9973615901028307, 0.00043101192312136155, 0.0009642682493914309, 0.0009642682493914309, 0.9970533698707396, 0.0009642682493914309, 0.0009642682493914309, 0.002481546884946069, 0.002481546884946069, 0.9926187539784275, 0.002481546884946069, 0.002481546884946069, 0.04991851763284583, 0.0017066159874477205, 0.0021332699843096504, 0.9416253710742798, 0.004266539968619301, 0.0016558449975234936, 0.0004139612493808734, 0.0004139612493808734, 0.7579630476163792, 0.23926960214214482, 0.0023873795084661392, 0.000795793169488713, 0.000795793169488713, 0.016711656559262975, 0.9796213916406058, 0.00040900561098827543, 0.048467164902110636, 0.8266003398073046, 0.12239492908824143, 0.0020450280549413774, 0.12407825728829992, 0.4619124964446975, 0.3036963059342198, 0.0817997399900644, 0.028492044266202207, 0.07252328424850475, 0.20288538610015586, 0.6919680302884192, 0.01977907752231948, 0.012886368688783902, 0.0004953411528492726, 0.046066727214982346, 0.863379629416282, 0.08916140751286905, 0.0009906823056985451, 0.0017021203705350945, 0.0017021203705350945, 0.0017021203705350945, 0.99233617602196, 0.003404240741070189, 0.0016000102427345263, 0.00040000256068363157, 0.0008000051213672631, 0.9944063658595081, 0.002800017924785421, 0.9214463826628534, 0.00117756726218895, 0.06771011757586463, 0.0017663508932834252, 0.00824297083532265, 0.020055735403100294, 0.049337109091626724, 0.9089259284685054, 0.01845127657085227, 0.002807802956434041, 0.000673379328077953, 0.9366706453564327, 0.000673379328077953, 0.000673379328077953, 0.06127751885509373, 0.006902762236399307, 0.18697482057725082, 0.7827132135882345, 0.00600240194469505, 0.017707085736850398, 0.00012415677369972337, 0.025824608929542463, 0.00024831354739944674, 0.000993254189597787, 0.9727683219373326, 0.0003541118824801088, 0.002655839118600816, 0.002301727236120707, 0.006196957943401904, 0.9886803758844638, 0.0014132835992386906, 0.0014132835992386906, 0.0014132835992386906, 0.0014132835992386906, 0.9963649374632768, 0.0009887536584112628, 0.9917199193864966, 0.0029662609752337883, 0.0029662609752337883, 0.0019775073168225256, 0.002706902610083556, 0.002706902610083556, 0.002706902610083556, 0.002706902610083556, 0.9907263552905815, 0.0016565784901354183, 0.0016565784901354183, 0.0016565784901354183, 0.0016565784901354183, 0.9956036725713864, 0.000542685007126237, 0.03554586796676852, 0.9583817225849345, 0.0051555075676992515, 0.000542685007126237, 0.0012789951737483835, 0.002557990347496767, 0.0012789951737483835, 0.9937792500024941, 0.0012789951737483835, 0.0011397212626531124, 0.0045588850506124495, 0.973701865393309, 0.017855633114898763, 0.0022794425253062247, 0.987711689396278, 0.001519556445225043, 0.001519556445225043, 0.004558669335675129, 0.006078225780900172, 0.03262479313925724, 0.872104544961339, 0.06719733512264923, 0.008277932587572732, 0.019964425652381296, 0.008717556868122695, 0.004358778434061347, 0.9807251476638031, 0.004358778434061347, 0.004358778434061347, 0.004604248360086482, 0.8477572293009236, 0.0014388276125270258, 0.145609354387735, 0.0008632965675162154, 0.3694412753387399, 0.5321539157773387, 0.04922627247425254, 0.028602255340607598, 0.02056974340434588, 0.0005843639072182425, 0.0017530917216547278, 0.9951717339926671, 0.00233745562887297, 0.0005843639072182425, 0.4593631977823627, 0.06354636565423588, 0.42980450951592264, 0.0352393482264399, 0.01203529652542346, 0.21786518353211123, 0.18807936869395622, 0.5029741005624816, 0.06182813080041272, 0.0293345146133345, 0.001392023004805211, 0.005568092019220844, 0.9716320573540372, 0.002784046009610422, 0.019488322067272953, 0.9872871274933035, 0.0015671224245925454, 0.0015671224245925454, 0.007835612122962726, 0.0015671224245925454, 0.01296617766610898, 0.0016912405651446495, 0.005073721695433949, 0.976409552943511, 0.003946227985337516, 0.004241078433801295, 0.0021205392169006475, 0.0021205392169006475, 0.992412353509503, 0.0021205392169006475, 0.0012217595057114235, 0.0012217595057114235, 0.0006108797528557117, 0.9963448769076659, 0.0006108797528557117, 0.0010229018545533605, 0.013297724109193686, 0.0010229018545533605, 0.9830086822257794, 0.002045803709106721, 0.00520364167859221, 0.00520364167859221, 0.9564293405252483, 0.03226257840727171, 0.001040728335718442, 0.001105754460583568, 0.001105754460583568, 0.9962847689857949, 0.001105754460583568, 0.001105754460583568, 0.0007858917493588118, 0.0015717834987176236, 0.005501242245511683, 0.9878659289440265, 0.003929458746794059, 0.5683761548310184, 0.19436991137292056, 0.011900198655484933, 0.008783479960000782, 0.21647028030453544, 0.0005141621777287845, 0.9064679193358469, 0.0005141621777287845, 0.0015424865331863532, 0.09100670545799484, 0.9540197364669313, 0.02128151101105328, 0.004864345373955035, 0.015809122465353865, 0.0036482590304662767, 0.07015515159362803, 0.031857894926575044, 0.015590033687472894, 0.8757531967049992, 0.006439361740477935, 0.040898179152599246, 0.030294947520443885, 0.7761565554737723, 0.1490511418005839, 0.0033324442272488273, 0.002961000311674558, 0.002961000311674558, 0.002961000311674558, 0.9919351044109771, 0.002961000311674558, 0.009134017919940693, 0.002283504479985173, 0.9841904308736097, 0.002283504479985173, 0.002283504479985173, 0.0034539047453170297, 0.0034539047453170297, 0.0034539047453170297, 0.0034539047453170297, 0.9912706619059874, 0.0025436910206996744, 0.017169914389722804, 0.03815536531049512, 0.1297282420556834, 0.812709281113546, 0.003479048437330358, 0.0011596828124434526, 0.0011596828124434526, 0.00463873124977381, 0.9903691218267086, 0.0012680285825301578, 0.0012680285825301578, 0.0012680285825301578, 0.9966704658687041, 0.0012680285825301578, 0.0024407452709140163, 0.0024407452709140163, 0.0024407452709140163, 0.9933833252620047, 0.0024407452709140163, 0.0018710462940291675, 0.0018710462940291675, 0.9953966284235171, 0.0018710462940291675, 0.0018710462940291675, 0.003744967300003967, 0.0018724836500019835, 0.0018724836500019835, 0.0018724836500019835, 0.9924163345010513, 0.0013588165032575336, 0.0013588165032575336, 0.0013588165032575336, 0.0013588165032575336, 0.9946536803845147, 0.005639749103687261, 0.8665308622841839, 0.035165494411226454, 0.009952498418271637, 0.08227398692437887, 0.035564752348570934, 0.02935503368453474, 0.00225807951419498, 0.03274215295582721, 0.8998446864066996, 0.0031253232114435174, 0.0031253232114435174, 0.0031253232114435174, 0.9907274580275951, 0.0031253232114435174, 0.23417794620127913, 0.43833307878700967, 0.24854952255495158, 0.02844784634391327, 0.05059582360128519, 0.0023968310458607057, 0.0023968310458607057, 0.0023968310458607057, 0.0023968310458607057, 0.9946848840321929, 0.0012653328064457328, 0.0012653328064457328, 0.0012653328064457328, 0.9932862530599003, 0.0037959984193371983, 0.004048367625772736, 0.9878017006885477, 0.004048367625772736, 0.004048367625772736, 0.004048367625772736, 0.002093500286997796, 0.9944126363239532, 0.002093500286997796, 0.002093500286997796, 0.002093500286997796, 0.0010294014948935904, 0.0010294014948935904, 0.004117605979574362, 0.9933724425723148, 0.0010294014948935904, 0.02972904568276957, 0.8657098102822498, 0.05291770131532983, 0.01724284649600635, 0.0344856929920127, 0.9933214761677244, 0.0034134758631193278, 0.0034134758631193278, 0.0034134758631193278, 0.0034134758631193278, 0.0022544866980431836, 0.9942286338370441, 0.0022544866980431836, 0.0022544866980431836, 0.0022544866980431836, 0.9838287489411873, 0.0007953344777212509, 0.006362675821770007, 0.0071580102994912576, 0.0007953344777212509, 0.9907426084317267, 0.0020343790727550856, 0.0020343790727550856, 0.0020343790727550856, 0.0020343790727550856, 0.009612636388082525, 0.182640091373568, 0.014671918697599646, 0.7715405522013606, 0.02175491393092361, 0.0010536313800331497, 0.003160894140099449, 0.0021072627600662993, 0.9714481323905639, 0.02212625898069614, 0.006044396995081292, 0.015935228441577954, 0.008242359538747216, 0.7775292498218208, 0.1923217225707684, 0.9832323996388833, 0.0010687308691726992, 0.0021374617383453985, 0.01389350129924509, 0.0010687308691726992, 0.19544033399425176, 0.8005021899216613, 0.00044621080820605427, 0.00044621080820605427, 0.003569686465648434, 0.0016457666946439959, 0.0016457666946439959, 0.9858142500917536, 0.009874600167863975, 0.0016457666946439959, 0.09875291839779174, 0.21062586738271866, 0.4352182189388393, 0.0450031156698508, 0.21048479178500754, 0.8540500044514648, 0.005227544021126028, 0.12676794251230616, 0.004900822519805651, 0.00914820203697055, 0.1125869954339182, 0.2285232607548866, 0.5866375025241001, 0.06492430857974231, 0.007213812064415811, 0.002284762638383408, 0.002284762638383408, 0.002284762638383408, 0.9938717476967824, 0.002284762638383408, 0.002477186820353097, 0.002477186820353097, 0.9908747281412387, 0.002477186820353097, 0.002477186820353097, 0.9867132438485775, 0.004047224133915412, 0.008094448267830824, 0.0008094448267830824, 0.0008094448267830824, 0.0028235183582975033, 0.0028235183582975033, 0.0028235183582975033, 0.9938784621207212, 0.0028235183582975033, 0.07959419682889496, 0.0886688099288926, 0.2962915843493205, 0.5276942183992603, 0.007817287188552183, 0.930041017002171, 0.017763941326442146, 0.005921313775480715, 0.028422306122307433, 0.017763941326442146, 0.9896252086581497, 0.0028601884643299127, 0.005720376928659825, 0.0028601884643299127, 0.0028601884643299127, 0.9885777741553972, 0.0033173750810583796, 0.0033173750810583796, 0.0033173750810583796, 0.0033173750810583796, 0.0003907680735842289, 0.9984124280077047, 0.0003907680735842289, 0.0003907680735842289, 0.0007815361471684578, 0.0037230177714444594, 0.9865997094327817, 0.0037230177714444594, 0.0037230177714444594, 0.0037230177714444594, 0.04689900059487165, 0.26121652656911065, 0.6327729498866209, 0.04053673307231154, 0.01835968627938774, 0.02033738350144304, 0.0016947819584535867, 0.9761944080692659, 0.0016947819584535867, 0.0016947819584535867, 0.008837234414820039, 0.00025249241185200107, 0.9883815461946582, 0.00227243170666801, 0.00025249241185200107, 0.0015401227287827346, 0.9949192827936466, 0.0015401227287827346, 0.0015401227287827346, 0.0015401227287827346, 0.0008296317427253051, 0.9880914055858384, 0.0008296317427253051, 0.0024888952281759153, 0.008296317427253052, 0.0008469136052778003, 0.0033876544211112014, 0.0008469136052778003, 0.9714099052536369, 0.022866667342500608, 0.0026587664801137898, 0.0026587664801137898, 0.0026587664801137898, 0.9917198970824436, 0.0026587664801137898, 8.457875305872184e-05, 0.0005074725183523311, 0.00016915750611744368, 8.457875305872184e-05, 0.9992133886357399, 0.841170039490021, 0.0037279896995931635, 0.05727547811193133, 0.09709718626667647, 0.0005083622317627041, 0.0024782513160215, 0.0024782513160215, 0.9937787777246215, 0.0024782513160215, 0.0024782513160215, 0.055351448536303804, 0.035641733923970104, 0.8424260520554961, 0.06077162005469557, 0.005584419140161214, 0.9663455595739653, 0.0003804759733213329, 0.0008243646088628879, 0.006721742195343547, 0.02568212819918997, 0.003732240095440914, 0.003732240095440914, 0.003732240095440914, 0.003732240095440914, 0.9890436252918422, 0.004025098728072392, 0.004025098728072392, 0.004025098728072392, 0.9901742871058083, 0.004025098728072392, 0.002016440029078569, 0.002016440029078569, 0.002016440029078569, 0.002016440029078569, 0.9941049343357345, 0.002970310000325613, 0.002970310000325613, 0.9891132301084292, 0.002970310000325613, 0.002970310000325613, 0.06535721415795881, 0.5381715375015186, 0.05838395490679584, 0.33403279118806145, 0.003965186633014237, 0.9852213767989216, 0.004458015279633129, 0.004458015279633129, 0.004458015279633129, 0.004458015279633129, 0.005004838201543702, 0.005004838201543702, 0.9809482875025656, 0.005004838201543702, 0.005004838201543702, 0.6606231465204458, 0.22441477209723598, 0.09716571796505903, 0.012275384298076852, 0.005705460307556847, 0.0074387760550576176, 0.3777410480758258, 0.1199130700075288, 0.12125204969743916, 0.3737241090060947, 0.006921593793880549, 0.0014571776408169577, 0.0029143552816339154, 0.004735827332655112, 0.9835949075514464, 0.02480902562363718, 0.15161071214444943, 0.7407266221914529, 0.07403328281339348, 0.00866346926539711, 0.0029211495759069884, 0.0029211495759069884, 0.0029211495759069884, 0.0029211495759069884, 0.990269706232469, 0.0030567314624316807, 0.0030567314624316807, 0.0030567314624316807, 0.9903809938278645, 0.0030567314624316807, 0.0014028113748474392, 0.98056515101836, 0.012625302373626952, 0.0014028113748474392, 0.0028056227496948785, 0.0042668705600176675, 0.004800229380019875, 0.002666794100011042, 0.9872471758240877, 0.0010667176400044169, 0.0024689911751894066, 0.9733997708184237, 0.0030862389689867583, 0.006789725731770869, 0.01419669925733909, 0.0005278458681834282, 0.984960390030277, 0.0005278458681834282, 0.0010556917363668565, 0.012932223770493991, 0.014056010279599313, 0.04956593098595548, 0.8833092775706095, 0.036249710721071915, 0.017015170338462327, 0.02876197689953963, 0.9166316985809803, 0.014068358266079165, 0.004064192387978426, 0.03657773149180583, 0.0019187725351673987, 0.9900866281463777, 0.0038375450703347974, 0.0019187725351673987, 0.0038375450703347974, 0.0017040194584965838, 0.9900353053865151, 0.0017040194584965838, 0.0017040194584965838, 0.006816077833986335, 0.7031435046831268, 0.01242835332326898, 0.0325773503776596, 0.24724890777957836, 0.004707709592147341, 0.005654936206829342, 0.005654936206829342, 0.9839588999883055, 0.005654936206829342, 0.005654936206829342, 0.4353696218779256, 0.31902790209758747, 0.0473405846323065, 0.14135183996344344, 0.05686824946396567, 0.0008052102445145893, 0.0008052102445145893, 0.0016104204890291787, 0.0008052102445145893, 0.996045072464547, 0.002505441164184736, 0.002505441164184736, 0.9946601421813401, 0.002505441164184736, 0.002505441164184736, 0.002224462526963167, 0.002224462526963167, 0.002224462526963167, 0.002224462526963167, 0.9943347495525356, 0.9883147400341237, 0.005068280718123711, 0.0025341403590618556, 0.0025341403590618556, 0.0025341403590618556, 0.0009175994032719675, 0.0009175994032719675, 0.0009175994032719675, 0.9965129519533568, 0.0009175994032719675, 0.002586239917454366, 0.9853574085501134, 0.002586239917454366, 0.007758719752363098, 0.002586239917454366, 0.9911036180832244, 0.002315662659072954, 0.002315662659072954, 0.002315662659072954, 0.002315662659072954, 0.026141608913303072, 0.001340595328887337, 0.005362381315549348, 0.0020108929933310054, 0.964558339134439, 0.0004949673214734556, 0.3222237262792196, 0.0004949673214734556, 0.6721656225609527, 0.0044547058932611, 0.7445628523461062, 0.008999767473784795, 0.22096444021456696, 0.02498442910632794, 0.0005372995506737191, 0.0058147560988475325, 0.0058147560988475325, 0.982693780705233, 0.0058147560988475325, 0.0058147560988475325, 0.000538531540506559, 0.013463288512663976, 0.14917323672031685, 0.8363394824066861, 0.000538531540506559, 0.0005622125820423269, 0.0011244251640846537, 0.025861778773947033, 0.9715033417691408, 0.0011244251640846537, 0.010715661302104598, 0.000765404378721757, 0.9314971289043783, 0.056639924025410016, 0.000765404378721757, 0.0026030239581447934, 0.0026030239581447934, 0.9813400322205871, 0.010412095832579174, 0.0026030239581447934, 0.002447547087287334, 0.007342641261862002, 0.018356603154655003, 0.9680048730221406, 0.003671320630931001, 0.08131279211630095, 0.90896085472865, 0.004356042434801837, 0.0007260070724669728, 0.004356042434801837, 0.002580382144980321, 0.002580382144980321, 0.002580382144980321, 0.002580382144980321, 0.9934471258174237, 0.0009305072673425711, 0.9472563981547374, 0.03815079796104542, 0.0027915218020277133, 0.011166087208110853, 0.00771767860727529, 0.23616096538262388, 0.050164910947289386, 0.005402375025092703, 0.6999934496798689, 0.0011355602315448984, 0.994750762833331, 0.0017033403473173476, 0.0011355602315448984, 0.0011355602315448984, 0.0004542075918264235, 0.9960772488753468, 0.0004542075918264235, 0.0004542075918264235, 0.0022710379591321175, 0.0017106192577675374, 0.0008553096288837687, 0.0008553096288837687, 0.0034212385155350748, 0.9930144791340555, 0.0012008649218789062, 0.0018012973828183594, 0.013809946601607422, 0.1320951414066797, 0.8514132296121445, 0.9915245730035803, 0.0011370694644536473, 0.0011370694644536473, 0.0051168125900414125, 0.0005685347322268237, 0.00440144311215812, 0.00550180389019765, 0.9771203708991028, 0.0110036077803953, 0.00220072155607906, 0.0017889801490463522, 0.0017889801490463522, 0.9946729628697719, 0.0017889801490463522, 0.0017889801490463522, 0.9883975492245628, 0.001183001255804384, 0.00295750313951096, 0.007098007534826304, 0.000591500627902192, 0.21861871047619846, 0.06891810904876168, 0.6551582265268358, 0.010643049751834083, 0.046934104643333904, 0.0018685286204973076, 0.016816757584475768, 0.9791089971405892, 0.0018685286204973076, 0.0018685286204973076, 0.000568863791162583, 0.9670684449763911, 0.001137727582325166, 0.001137727582325166, 0.0301497809316169, 0.006749583793562057, 0.006749583793562057, 0.0013499167587124115, 0.9773397333077859, 0.006749583793562057, 0.9907797764795229, 0.0032168174561023467, 0.0032168174561023467, 0.0032168174561023467, 0.0032168174561023467, 0.0015672414680713365, 0.7808780614665434, 0.002742672569124839, 0.001959051835089171, 0.21314483965770176, 0.02862516182597791, 0.0031227449264703178, 0.9363030204533502, 0.02862516182597791, 0.0031227449264703178, 0.3596758323040189, 0.09509166899121113, 0.18820046546492647, 0.1505258876325065, 0.20656358921390924, 0.001483264169849541, 0.001483264169849541, 0.001483264169849541, 0.9834041446102457, 0.01334937752864587, 0.0012153184572176031, 0.9759007211457353, 0.0012153184572176031, 0.0012153184572176031, 0.020660413772699254, 0.12008131586259806, 0.16580995649632, 0.5895852979416515, 0.019780836915350455, 0.10472207778714947, 0.00038351282481012685, 0.9898466008349374, 0.0011505384744303806, 0.0007670256496202537, 0.007670256496202537, 0.3796532880679572, 0.009378786760572065, 0.47731772086804763, 0.13205331758885466, 0.0016256563718324913, 0.001603559475389258, 0.001603559475389258, 0.001603559475389258, 0.9958104342167292, 0.001603559475389258, 0.5506124684801521, 0.0002130853206192539, 0.44769225862105244, 0.0004261706412385078, 0.0010654266030962695, 0.9842241088192077, 0.000914706420835695, 0.012805889891699729, 0.000914706420835695, 0.000914706420835695, 0.0041153052940596365, 0.0041153052940596365, 0.9835579652802532, 0.0041153052940596365, 0.0041153052940596365, 0.04318035949119921, 0.03975334683316752, 0.01199454430311089, 0.020904777213993267, 0.8841692657721743, 0.0035608725264341915, 0.9738986359797515, 0.01246305384251967, 0.007121745052868383, 0.0017804362632170957, 0.0030694310636300167, 0.0015347155318150083, 0.0015347155318150083, 0.9868220869570503, 0.007673577659075042, 0.0008956745761525166, 0.9359799320793799, 0.059114522026066096, 0.0017913491523050332, 0.0017913491523050332, 0.0003084700745779186, 0.0006169401491558372, 0.0003084700745779186, 0.9985176314087224, 0.0003084700745779186, 0.001305178758457345, 0.003915536275372035, 0.001305178758457345, 0.9932410351860396, 0.001305178758457345, 0.008794009003560166, 0.011725345338080222, 0.0055369686318712166, 0.0009771121115066852, 0.9732036630606584, 0.018383289057796567, 0.012766172956803172, 0.007149056855809776, 0.957462971760238, 0.004595822264449142, 0.990776010734638, 0.004011238909856834, 0.004011238909856834, 0.004011238909856834, 0.004011238909856834, 0.002083095317076267, 0.9873871802941504, 0.002083095317076267, 0.004166190634152534, 0.004166190634152534, 0.0002846042357586913, 0.0002846042357586913, 0.0002846042357586913, 0.0002846042357586913, 0.9992454717487652, 0.0018418323370669246, 0.0018418323370669246, 0.9945894620161393, 0.0018418323370669246, 0.0018418323370669246, 0.0005302779663234055, 0.001060555932646811, 0.0005302779663234055, 0.0005302779663234055, 0.9974528546543256, 0.003169049395561943, 0.0011883935233357285, 0.009111017012240586, 0.03723633039785283, 0.949130293970802, 0.0010258548460313497, 0.0010258548460313497, 0.0010258548460313497, 0.0010258548460313497, 0.9971309103424718, 0.0019219745886679689, 0.9821290148093321, 0.0019219745886679689, 0.013453822120675783, 0.0019219745886679689, 0.048624454559086115, 0.23187580031237665, 0.5567003879111696, 0.15000809620779287, 0.012900365495267744, 0.9556710200295603, 5.256138048782094e-05, 0.0439413140878183, 0.00015768414146346283, 0.00021024552195128375, 0.002155533368479223, 0.002155533368479223, 0.002155533368479223, 0.9915453495004426, 0.002155533368479223, 0.017240889904520364, 0.006673892866265948, 0.011123154777109913, 0.001668473216566487, 0.9632652036977185, 0.0013339315371237131, 0.0013339315371237131, 0.0013339315371237131, 0.9937789951571663, 0.0013339315371237131, 0.0025654478349094144, 0.0012827239174547072, 0.003848171752364121, 0.9928283121099433, 0.0012827239174547072, 0.001480683091146293, 0.986134938703431, 0.002961366182292586, 0.005922732364585172, 0.004442049273438878, 0.0024029554196925646, 0.0024029554196925646, 0.9948235437527216, 0.0024029554196925646, 0.0024029554196925646, 0.46001808108250875, 0.29569800796444307, 0.11197722890771512, 0.06666551302412807, 0.06562386438312608, 0.99820717610654, 0.0004961268270907256, 0.0004961268270907256, 0.0004961268270907256, 0.0004961268270907256, 0.16880388922922113, 0.0008791869230688601, 0.0017583738461377201, 0.8281940815308662, 0.00043959346153443004, 0.994442711187225, 0.00214319549824833, 0.00214319549824833, 0.00214319549824833, 0.00214319549824833, 0.003063217751811986, 0.02669375469436159, 0.8612017907951411, 0.06695318800389055, 0.042447445989394664, 0.046558646003614805, 0.8418563338612799, 0.059386028065835206, 0.01140211738864036, 0.040857587309294625, 0.000493570420959012, 0.000493570420959012, 0.000493570420959012, 0.000493570420959012, 0.9989865320210404, 0.1744476652693269, 0.5331011085855584, 0.22768929814347869, 0.03851886622728023, 0.026192829034550558, 0.3860327910549619, 0.26108782662190555, 0.27674804453602175, 0.06701899709482, 0.009093029756583618, 0.05299821806062365, 0.08575695914533984, 0.2863781664889999, 0.0198221681722805, 0.5549163816229473, 0.0390299912509307, 0.010026052798404217, 0.9155934644828422, 0.01432293256914888, 0.020768252225265876, 0.9910219164516447, 0.0032492521850873597, 0.0032492521850873597, 0.0032492521850873597, 0.0032492521850873597, 0.0008990139807119026, 0.04674872699701894, 0.9502577776124811, 0.0017980279614238052, 0.0008990139807119026, 0.02488254653764167, 0.0011848831684591271, 0.9680495486311069, 0.0023697663369182543, 0.0023697663369182543, 0.0021388826937281365, 0.0021388826937281365, 0.0021388826937281365, 0.0021388826937281365, 0.9924415698898553, 0.0026603052707502516, 0.9896335607190936, 0.0026603052707502516, 0.0026603052707502516, 0.0026603052707502516, 0.9881722060963399, 0.002614212185440053, 0.002614212185440053, 0.002614212185440053, 0.005228424370880106, 0.0046186341979191645, 0.7920957649431367, 0.1681182848042576, 0.029097395446890738, 0.005542361037502998, 0.9954122071774346, 0.0006902997275849061, 0.0013805994551698121, 0.0020708991827547182, 0.0006902997275849061, 0.8441067135155587, 0.13948786517389547, 0.006564134831712728, 0.005333359550766591, 0.004717971910293523, 0.0193250470995475, 0.0005976818690581701, 0.8873583482616966, 0.0035860912143490208, 0.08905459848966735, 0.8562256184472066, 0.0007607513269188863, 0.004944883624972761, 0.005705634951891647, 0.13199035522042676, 0.9975750911301318, 0.00013731246952926798, 0.0004119374085878039, 0.00013731246952926798, 0.0016477496343512157, 0.002097039068351812, 0.002097039068351812, 0.002097039068351812, 0.002097039068351812, 0.9939965183987589, 0.0006837140807634566, 0.0006837140807634566, 0.0006837140807634566, 0.0006837140807634566, 0.9982225579146466, 0.0015283741067259867, 0.0015283741067259867, 0.0015283741067259867, 0.0015283741067259867, 0.9964999175853434, 0.0015729971377196946, 0.9909881967634077, 0.0015729971377196946, 0.0015729971377196946, 0.0062919885508787785, 0.051384961023341294, 0.6646031247250596, 0.019193436977985638, 0.12718688934146177, 0.13751247252582113, 0.014273019366428627, 0.0015858910407142918, 0.9816665542021467, 0.0015858910407142918, 0.0015858910407142918, 0.000702308990247224, 0.5690107438983009, 0.021490655101565052, 0.18639280601161323, 0.22249148811032055, 0.0005496183409541232, 0.013190840182898957, 0.0005496183409541232, 0.0005496183409541232, 0.9854656853307429, 0.0023504503552273003, 0.9848386988402388, 0.0023504503552273003, 0.007051351065681901, 0.0023504503552273003, 0.9855694947070573, 0.0008387825486868573, 0.0025163476460605717, 0.010065390584242287, 0.0016775650973737146, 0.989486974079293, 0.0034357186599975453, 0.0034357186599975453, 0.0034357186599975453, 0.0034357186599975453, 0.001275137716810515, 0.003825413150431545, 0.9933322813953912, 0.001275137716810515, 0.001275137716810515, 0.7182685305353619, 0.08707328137299787, 0.10416671869128072, 0.08374637075400322, 0.006653821237989297, 0.21617228212088146, 0.46010344477092907, 0.23577699149460504, 0.04580215287312416, 0.0421587998036711, 0.052055916397627536, 0.19688340033853355, 0.4522443130607537, 0.27462570068039727, 0.024183457224094682, 0.0494657987617799, 0.36906725244380956, 0.021573868618844815, 0.530254870838893, 0.029587019820130032, 0.02074880789774344, 0.018822132878667262, 0.0582448678843798, 0.8893828299597026, 0.012893902050740565, 0.045667842939227855, 0.0006816095961078785, 0.9508453865704904, 0.0020448287883236354, 0.0006816095961078785, 0.012900709463771443, 0.3257675336347781, 0.6050531217207004, 0.04195192543180637, 0.014279411238525642], \"Term\": [\"agree\", \"agree\", \"agree\", \"agree\", \"agree\", \"also\", \"also\", \"also\", \"also\", \"also\", \"amc\", \"amc\", \"amc\", \"amc\", \"amc\", \"anyone_else\", \"anyone_else\", \"anyone_else\", \"anyone_else\", \"anyone_else\", \"apple\", \"apple\", \"apple\", \"apple\", \"apple\", \"article\", \"article\", \"article\", \"article\", \"article\", \"artistically_inspired\", \"artistically_inspired\", \"artistically_inspired\", \"artistically_inspired\", \"artistically_inspired\", \"auto\", \"auto\", \"auto\", \"auto\", \"auto\", \"autopilot\", \"autopilot\", \"autopilot\", \"autopilot\", \"autopilot\", \"back\", \"back\", \"back\", \"back\", \"back\", \"bankrupt\", \"bankrupt\", \"bankrupt\", \"bankrupt\", \"bankrupt\", \"battery\", \"battery\", \"battery\", \"battery\", \"battery\", \"best\", \"best\", \"best\", \"best\", \"best\", \"bid\", \"bid\", \"bid\", \"bid\", \"bid\", \"big\", \"big\", \"big\", \"big\", \"big\", \"bill_gates\", \"bill_gates\", \"bill_gates\", \"bill_gates\", \"bill_gates\", \"billionaire\", \"billionaire\", \"billionaire\", \"billionaire\", \"billionaire\", \"board\", \"board\", \"board\", \"board\", \"board\", \"bot\", \"bot\", \"bot\", \"bot\", \"bot\", \"boycotttesla\", \"boycotttesla\", \"boycotttesla\", \"boycotttesla\", \"boycotttesla\", \"break\", \"break\", \"break\", \"break\", \"break\", \"build\", \"build\", \"build\", \"build\", \"build\", \"business_conduct\", \"business_conduct\", \"business_conduct\", \"business_conduct\", \"business_conduct\", \"business_operations\", \"business_operations\", \"business_operations\", \"business_operations\", \"business_operations\", \"button\", \"button\", \"button\", \"button\", \"button\", \"buy\", \"buy\", \"buy\", \"buy\", \"buy\", \"buying\", \"buying\", \"buying\", \"buying\", \"buying\", \"c\", \"c\", \"c\", \"c\", \"c\", \"cable\", \"cable\", \"cable\", \"cable\", \"cable\", \"california\", \"california\", \"california\", \"california\", \"california\", \"california_united\", \"california_united\", \"california_united\", \"california_united\", \"california_united\", \"canada\", \"canada\", \"canada\", \"canada\", \"canada\", \"cancel\", \"cancel\", \"cancel\", \"cancel\", \"cancel\", \"cap\", \"cap\", \"cap\", \"cap\", \"cap\", \"car\", \"car\", \"car\", \"car\", \"car\", \"care\", \"care\", \"care\", \"care\", \"care\", \"case\", \"case\", \"case\", \"case\", \"case\", \"catch\", \"catch\", \"catch\", \"catch\", \"catch\", \"ceo\", \"ceo\", \"ceo\", \"ceo\", \"ceo\", \"charge\", \"charge\", \"charge\", \"charge\", \"charge\", \"charger\", \"charger\", \"charger\", \"charger\", \"charger\", \"chart\", \"chart\", \"chart\", \"chart\", \"chart\", \"china\", \"china\", \"china\", \"china\", \"china\", \"claim\", \"claim\", \"claim\", \"claim\", \"claim\", \"coal\", \"coal\", \"coal\", \"coal\", \"coal\", \"code\", \"code\", \"code\", \"code\", \"code\", \"collateral\", \"collateral\", \"collateral\", \"collateral\", \"collateral\", \"combine\", \"combine\", \"combine\", \"combine\", \"combine\", \"come\", \"come\", \"come\", \"come\", \"come\", \"company\", \"company\", \"company\", \"company\", \"company\", \"competition\", \"competition\", \"competition\", \"competition\", \"competition\", \"computer\", \"computer\", \"computer\", \"computer\", \"computer\", \"construction_worker\", \"construction_worker\", \"construction_worker\", \"construction_worker\", \"construction_worker\", \"cost\", \"cost\", \"cost\", \"cost\", \"cost\", \"country\", \"country\", \"country\", \"country\", \"country\", \"cover\", \"cover\", \"cover\", \"cover\", \"cover\", \"crash\", \"crash\", \"crash\", \"crash\", \"crash\", \"create\", \"create\", \"create\", \"create\", \"create\", \"day\", \"day\", \"day\", \"day\", \"day\", \"deal\", \"deal\", \"deal\", \"deal\", \"deal\", \"democrat\", \"democrat\", \"democrat\", \"democrat\", \"democrat\", \"department\", \"department\", \"department\", \"department\", \"department\", \"design\", \"design\", \"design\", \"design\", \"design\", \"door\", \"door\", \"door\", \"door\", \"door\", \"door_handles\", \"door_handles\", \"door_handles\", \"door_handles\", \"door_handles\", \"drive\", \"drive\", \"drive\", \"drive\", \"drive\", \"driver\", \"driver\", \"driver\", \"driver\", \"driver\", \"drop\", \"drop\", \"drop\", \"drop\", \"drop\", \"dual_motor\", \"dual_motor\", \"dual_motor\", \"dual_motor\", \"dual_motor\", \"earnings\", \"earnings\", \"earnings\", \"earnings\", \"earnings\", \"earth\", \"earth\", \"earth\", \"earth\", \"earth\", \"easy\", \"easy\", \"easy\", \"easy\", \"easy\", \"electric\", \"electric\", \"electric\", \"electric\", \"electric\", \"electricity\", \"electricity\", \"electricity\", \"electricity\", \"electricity\", \"electricity_neurons\", \"electricity_neurons\", \"electricity_neurons\", \"electricity_neurons\", \"electricity_neurons\", \"electronic\", \"electronic\", \"electronic\", \"electronic\", \"electronic\", \"elon\", \"elon\", \"elon\", \"elon\", \"elon\", \"emergency\", \"emergency\", \"emergency\", \"emergency\", \"emergency\", \"emission\", \"emission\", \"emission\", \"emission\", \"emission\", \"employee\", \"employee\", \"employee\", \"employee\", \"employee\", \"energy\", \"energy\", \"energy\", \"energy\", \"energy\", \"enter\", \"enter\", \"enter\", \"enter\", \"enter\", \"entered_monthly\", \"entered_monthly\", \"entered_monthly\", \"entered_monthly\", \"entered_monthly\", \"environment\", \"environment\", \"environment\", \"environment\", \"environment\", \"esg\", \"esg\", \"esg\", \"esg\", \"esg\", \"esg_index\", \"esg_index\", \"esg_index\", \"esg_index\", \"esg_index\", \"ev\", \"ev\", \"ev\", \"ev\", \"ev\", \"even\", \"even\", \"even\", \"even\", \"even\", \"ever\", \"ever\", \"ever\", \"ever\", \"ever\", \"evs\", \"evs\", \"evs\", \"evs\", \"evs\", \"exxon\", \"exxon\", \"exxon\", \"exxon\", \"exxon\", \"factory\", \"factory\", \"factory\", \"factory\", \"factory\", \"fall\", \"fall\", \"fall\", \"fall\", \"fall\", \"far\", \"far\", \"far\", \"far\", \"far\", \"feature\", \"feature\", \"feature\", \"feature\", \"feature\", \"find\", \"find\", \"find\", \"find\", \"find\", \"fire\", \"fire\", \"fire\", \"fire\", \"fire\", \"first\", \"first\", \"first\", \"first\", \"first\", \"first_player\", \"first_player\", \"first_player\", \"first_player\", \"first_player\", \"fix\", \"fix\", \"fix\", \"fix\", \"fix\", \"flight_attendant\", \"flight_attendant\", \"flight_attendant\", \"flight_attendant\", \"flight_attendant\", \"florida_united\", \"florida_united\", \"florida_united\", \"florida_united\", \"florida_united\", \"ford\", \"ford\", \"ford\", \"ford\", \"ford\", \"fossil_fuel\", \"fossil_fuel\", \"fossil_fuel\", \"fossil_fuel\", \"fossil_fuel\", \"free\", \"free\", \"free\", \"free\", \"free\", \"free_speech\", \"free_speech\", \"free_speech\", \"free_speech\", \"free_speech\", \"full\", \"full\", \"full\", \"full\", \"full\", \"fundamental\", \"fundamental\", \"fundamental\", \"fundamental\", \"fundamental\", \"gas\", \"gas\", \"gas\", \"gas\", \"gas\", \"get\", \"get\", \"get\", \"get\", \"get\", \"gm\", \"gm\", \"gm\", \"gm\", \"gm\", \"go\", \"go\", \"go\", \"go\", \"go\", \"good\", \"good\", \"good\", \"good\", \"good\", \"google\", \"google\", \"google\", \"google\", \"google\", \"gop\", \"gop\", \"gop\", \"gop\", \"gop\", \"government\", \"government\", \"government\", \"government\", \"government\", \"govt\", \"govt\", \"govt\", \"govt\", \"govt\", \"green\", \"green\", \"green\", \"green\", \"green\", \"grid\", \"grid\", \"grid\", \"grid\", \"grid\", \"grow\", \"grow\", \"grow\", \"grow\", \"grow\", \"growth\", \"growth\", \"growth\", \"growth\", \"growth\", \"gt\", \"gt\", \"gt\", \"gt\", \"gt\", \"guy\", \"guy\", \"guy\", \"guy\", \"guy\", \"handle\", \"handle\", \"handle\", \"handle\", \"handle\", \"hate\", \"hate\", \"hate\", \"hate\", \"hate\", \"help\", \"help\", \"help\", \"help\", \"help\", \"high\", \"high\", \"high\", \"high\", \"high\", \"hydrogen\", \"hydrogen\", \"hydrogen\", \"hydrogen\", \"hydrogen\", \"imo\", \"imo\", \"imo\", \"imo\", \"imo\", \"incident\", \"incident\", \"incident\", \"incident\", \"incident\", \"include\", \"include\", \"include\", \"include\", \"include\", \"index\", \"index\", \"index\", \"index\", \"index\", \"india\", \"india\", \"india\", \"india\", \"india\", \"indonesia\", \"indonesia\", \"indonesia\", \"indonesia\", \"indonesia\", \"information_including\", \"information_including\", \"information_including\", \"information_including\", \"information_including\", \"investigation\", \"investigation\", \"investigation\", \"investigation\", \"investigation\", \"involve\", \"involve\", \"involve\", \"involve\", \"involve\", \"issue\", \"issue\", \"issue\", \"issue\", \"issue\", \"kill\", \"kill\", \"kill\", \"kill\", \"kill\", \"king\", \"king\", \"king\", \"king\", \"king\", \"know\", \"know\", \"know\", \"know\", \"know\", \"kowa_oa\", \"kowa_oa\", \"kowa_oa\", \"kowa_oa\", \"kowa_oa\", \"lack\", \"lack\", \"lack\", \"lack\", \"lack\", \"lane\", \"lane\", \"lane\", \"lane\", \"lane\", \"latch\", \"latch\", \"latch\", \"latch\", \"latch\", \"leader\", \"leader\", \"leader\", \"leader\", \"leader\", \"least\", \"least\", \"least\", \"least\", \"least\", \"lessonmusk_also\", \"lessonmusk_also\", \"lessonmusk_also\", \"lessonmusk_also\", \"lessonmusk_also\", \"lever\", \"lever\", \"lever\", \"lever\", \"lever\", \"liberal\", \"liberal\", \"liberal\", \"liberal\", \"liberal\", \"libs\", \"libs\", \"libs\", \"libs\", \"libs\", \"life\", \"life\", \"life\", \"life\", \"life\", \"lithium\", \"lithium\", \"lithium\", \"lithium\", \"lithium\", \"live\", \"live\", \"live\", \"live\", \"live\", \"loan\", \"loan\", \"loan\", \"loan\", \"loan\", \"lock\", \"lock\", \"lock\", \"lock\", \"lock\", \"long_term\", \"long_term\", \"long_term\", \"long_term\", \"long_term\", \"look\", \"look\", \"look\", \"look\", \"look\", \"lose\", \"lose\", \"lose\", \"lose\", \"lose\", \"lot\", \"lot\", \"lot\", \"lot\", \"lot\", \"low_carbon\", \"low_carbon\", \"low_carbon\", \"low_carbon\", \"low_carbon\", \"lucid\", \"lucid\", \"lucid\", \"lucid\", \"lucid\", \"maga\", \"maga\", \"maga\", \"maga\", \"maga\", \"major_partnerships\", \"major_partnerships\", \"major_partnerships\", \"major_partnerships\", \"major_partnerships\", \"make\", \"make\", \"make\", \"make\", \"make\", \"man\", \"man\", \"man\", \"man\", \"man\", \"manipulate\", \"manipulate\", \"manipulate\", \"manipulate\", \"manipulate\", \"manipulation\", \"manipulation\", \"manipulation\", \"manipulation\", \"manipulation\", \"manual\", \"manual\", \"manual\", \"manual\", \"manual\", \"manually\", \"manually\", \"manually\", \"manually\", \"manually\", \"many\", \"many\", \"many\", \"many\", \"many\", \"margin\", \"margin\", \"margin\", \"margin\", \"margin\", \"market\", \"market\", \"market\", \"market\", \"market\", \"mechanical\", \"mechanical\", \"mechanical\", \"mechanical\", \"mechanical\", \"mile\", \"mile\", \"mile\", \"mile\", \"mile\", \"mine\", \"mine\", \"mine\", \"mine\", \"mine\", \"mining\", \"mining\", \"mining\", \"mining\", \"mining\", \"model\", \"model\", \"model\", \"model\", \"model\", \"money\", \"money\", \"money\", \"money\", \"money\", \"month_prize\", \"month_prize\", \"month_prize\", \"month_prize\", \"month_prize\", \"much\", \"much\", \"much\", \"much\", \"much\", \"musk\", \"musk\", \"musk\", \"musk\", \"musk\", \"must_stand\", \"must_stand\", \"must_stand\", \"must_stand\", \"must_stand\", \"mysterical_occultism\", \"mysterical_occultism\", \"mysterical_occultism\", \"mysterical_occultism\", \"mysterical_occultism\", \"nail\", \"nail\", \"nail\", \"nail\", \"nail\", \"nasdaq\", \"nasdaq\", \"nasdaq\", \"nasdaq\", \"nasdaq\", \"need\", \"need\", \"need\", \"need\", \"need\", \"net_worth\", \"net_worth\", \"net_worth\", \"net_worth\", \"net_worth\", \"netflix\", \"netflix\", \"netflix\", \"netflix\", \"netflix\", \"never\", \"never\", \"never\", \"never\", \"never\", \"new\", \"new\", \"new\", \"new\", \"new\", \"news\", \"news\", \"news\", \"news\", \"news\", \"next\", \"next\", \"next\", \"next\", \"next\", \"nhtsa\", \"nhtsa\", \"nhtsa\", \"nhtsa\", \"nhtsa\", \"nicola\", \"nicola\", \"nicola\", \"nicola\", \"nicola\", \"normal\", \"normal\", \"normal\", \"normal\", \"normal\", \"oil\", \"oil\", \"oil\", \"oil\", \"oil\", \"old\", \"old\", \"old\", \"old\", \"old\", \"open\", \"open\", \"open\", \"open\", \"open\", \"others\", \"others\", \"others\", \"others\", \"others\", \"owner\", \"owner\", \"owner\", \"owner\", \"owner\", \"park\", \"park\", \"park\", \"park\", \"park\", \"passenger\", \"passenger\", \"passenger\", \"passenger\", \"passenger\", \"pay\", \"pay\", \"pay\", \"pay\", \"pay\", \"pe\", \"pe\", \"pe\", \"pe\", \"pe\", \"people\", \"people\", \"people\", \"people\", \"people\", \"performance\", \"performance\", \"performance\", \"performance\", \"performance\", \"peugeot_worth\", \"peugeot_worth\", \"peugeot_worth\", \"peugeot_worth\", \"peugeot_worth\", \"photo\", \"photo\", \"photo\", \"photo\", \"photo\", \"piss\", \"piss\", \"piss\", \"piss\", \"piss\", \"plant\", \"plant\", \"plant\", \"plant\", \"plant\", \"plug\", \"plug\", \"plug\", \"plug\", \"plug\", \"plummet\", \"plummet\", \"plummet\", \"plummet\", \"plummet\", \"post\", \"post\", \"post\", \"post\", \"post\", \"power\", \"power\", \"power\", \"power\", \"power\", \"price\", \"price\", \"price\", \"price\", \"price\", \"prize\", \"prize\", \"prize\", \"prize\", \"prize\", \"produce\", \"produce\", \"produce\", \"produce\", \"produce\", \"production\", \"production\", \"production\", \"production\", \"production\", \"profit\", \"profit\", \"profit\", \"profit\", \"profit\", \"profitable\", \"profitable\", \"profitable\", \"profitable\", \"profitable\", \"provide\", \"provide\", \"provide\", \"provide\", \"provide\", \"pull\", \"pull\", \"pull\", \"pull\", \"pull\", \"racial_discrimination\", \"racial_discrimination\", \"racial_discrimination\", \"racial_discrimination\", \"racial_discrimination\", \"range\", \"range\", \"range\", \"range\", \"range\", \"read\", \"read\", \"read\", \"read\", \"read\", \"recall\", \"recall\", \"recall\", \"recall\", \"recall\", \"release\", \"release\", \"release\", \"release\", \"release\", \"remove\", \"remove\", \"remove\", \"remove\", \"remove\", \"report\", \"report\", \"report\", \"report\", \"report\", \"republican\", \"republican\", \"republican\", \"republican\", \"republican\", \"rest\", \"rest\", \"rest\", \"rest\", \"rest\", \"revenue\", \"revenue\", \"revenue\", \"revenue\", \"revenue\", \"rich\", \"rich\", \"rich\", \"rich\", \"rich\", \"right\", \"right\", \"right\", \"right\", \"right\", \"rivian\", \"rivian\", \"rivian\", \"rivian\", \"rivian\", \"road\", \"road\", \"road\", \"road\", \"road\", \"rocket\", \"rocket\", \"rocket\", \"rocket\", \"rocket\", \"sadistic_psychopath\", \"sadistic_psychopath\", \"sadistic_psychopath\", \"sadistic_psychopath\", \"sadistic_psychopath\", \"safety\", \"safety\", \"safety\", \"safety\", \"safety\", \"sale\", \"sale\", \"sale\", \"sale\", \"sale\", \"say\", \"say\", \"say\", \"say\", \"say\", \"score\", \"score\", \"score\", \"score\", \"score\", \"seat\", \"seat\", \"seat\", \"seat\", \"seat\", \"see\", \"see\", \"see\", \"see\", \"see\", \"self_driving\", \"self_driving\", \"self_driving\", \"self_driving\", \"self_driving\", \"sell\", \"sell\", \"sell\", \"sell\", \"sell\", \"shanghai\", \"shanghai\", \"shanghai\", \"shanghai\", \"shanghai\", \"share\", \"share\", \"share\", \"share\", \"share\", \"shareholder\", \"shareholder\", \"shareholder\", \"shareholder\", \"shareholder\", \"short_term\", \"short_term\", \"short_term\", \"short_term\", \"short_term\", \"show\", \"show\", \"show\", \"show\", \"show\", \"situation\", \"situation\", \"situation\", \"situation\", \"situation\", \"social\", \"social\", \"social\", \"social\", \"social\", \"software\", \"software\", \"software\", \"software\", \"software\", \"solar\", \"solar\", \"solar\", \"solar\", \"solar\", \"solar_panel\", \"solar_panel\", \"solar_panel\", \"solar_panel\", \"solar_panel\", \"someone\", \"someone\", \"someone\", \"someone\", \"someone\", \"space\", \"space\", \"space\", \"space\", \"space\", \"spacex_grand\", \"spacex_grand\", \"spacex_grand\", \"spacex_grand\", \"spacex_grand\", \"speed\", \"speed\", \"speed\", \"speed\", \"speed\", \"spot\", \"spot\", \"spot\", \"spot\", \"spot\", \"st_may\", \"st_may\", \"st_may\", \"st_may\", \"st_may\", \"standard\", \"standard\", \"standard\", \"standard\", \"standard\", \"state\", \"state\", \"state\", \"state\", \"state\", \"states_teslaradar\", \"states_teslaradar\", \"states_teslaradar\", \"states_teslaradar\", \"states_teslaradar\", \"station\", \"station\", \"station\", \"station\", \"station\", \"still\", \"still\", \"still\", \"still\", \"still\", \"stock\", \"stock\", \"stock\", \"stock\", \"stock\", \"storage\", \"storage\", \"storage\", \"storage\", \"storage\", \"story\", \"story\", \"story\", \"story\", \"story\", \"strategy\", \"strategy\", \"strategy\", \"strategy\", \"strategy\", \"subsidy\", \"subsidy\", \"subsidy\", \"subsidy\", \"subsidy\", \"supercharger\", \"supercharger\", \"supercharger\", \"supercharger\", \"supercharger\", \"t\", \"t\", \"t\", \"t\", \"t\", \"take\", \"take\", \"take\", \"take\", \"take\", \"tank\", \"tank\", \"tank\", \"tank\", \"tank\", \"tax\", \"tax\", \"tax\", \"tax\", \"tax\", \"teach\", \"teach\", \"teach\", \"teach\", \"teach\", \"tech\", \"tech\", \"tech\", \"tech\", \"tech\", \"tesla\", \"tesla\", \"tesla\", \"tesla\", \"tesla\", \"teslaradar\", \"teslaradar\", \"teslaradar\", \"teslaradar\", \"teslaradar\", \"thing\", \"thing\", \"thing\", \"thing\", \"thing\", \"think\", \"think\", \"think\", \"think\", \"think\", \"time\", \"time\", \"time\", \"time\", \"time\", \"today\", \"today\", \"today\", \"today\", \"today\", \"tortures_animals\", \"tortures_animals\", \"tortures_animals\", \"tortures_animals\", \"tortures_animals\", \"toyota\", \"toyota\", \"toyota\", \"toyota\", \"toyota\", \"trade\", \"trade\", \"trade\", \"trade\", \"trade\", \"trial\", \"trial\", \"trial\", \"trial\", \"trial\", \"trip\", \"trip\", \"trip\", \"trip\", \"trip\", \"troll\", \"troll\", \"troll\", \"troll\", \"troll\", \"truck\", \"truck\", \"truck\", \"truck\", \"truck\", \"trump\", \"trump\", \"trump\", \"trump\", \"trump\", \"try\", \"try\", \"try\", \"try\", \"try\", \"tsla\", \"tsla\", \"tsla\", \"tsla\", \"tsla\", \"tweet\", \"tweet\", \"tweet\", \"tweet\", \"tweet\", \"twitter\", \"twitter\", \"twitter\", \"twitter\", \"twitter\", \"united_states\", \"united_states\", \"united_states\", \"united_states\", \"united_states\", \"unitedstates\", \"unitedstates\", \"unitedstates\", \"unitedstates\", \"unitedstates\", \"unitedstates_modely\", \"unitedstates_modely\", \"unitedstates_modely\", \"unitedstates_modely\", \"unitedstates_modely\", \"unlock\", \"unlock\", \"unlock\", \"unlock\", \"unlock\", \"use\", \"use\", \"use\", \"use\", \"use\", \"valuation\", \"valuation\", \"valuation\", \"valuation\", \"valuation\", \"vehicle\", \"vehicle\", \"vehicle\", \"vehicle\", \"vehicle\", \"video\", \"video\", \"video\", \"video\", \"video\", \"vision\", \"vision\", \"vision\", \"vision\", \"vision\", \"vote\", \"vote\", \"vote\", \"vote\", \"vote\", \"vote_republican\", \"vote_republican\", \"vote_republican\", \"vote_republican\", \"vote_republican\", \"vw\", \"vw\", \"vw\", \"vw\", \"vw\", \"want\", \"want\", \"want\", \"want\", \"want\", \"way\", \"way\", \"way\", \"way\", \"way\", \"well\", \"well\", \"well\", \"well\", \"well\", \"work\", \"work\", \"work\", \"work\", \"work\", \"world\", \"world\", \"world\", \"world\", \"world\", \"worth\", \"worth\", \"worth\", \"worth\", \"worth\", \"year\", \"year\", \"year\", \"year\", \"year\"]}, \"R\": 30, \"lambda.step\": 0.01, \"plot.opts\": {\"xlab\": \"PC1\", \"ylab\": \"PC2\"}, \"topic.order\": [3, 2, 5, 4, 1]};\n",
       "\n",
       "function LDAvis_load_lib(url, callback){\n",
       "  var s = document.createElement('script');\n",
       "  s.src = url;\n",
       "  s.async = true;\n",
       "  s.onreadystatechange = s.onload = callback;\n",
       "  s.onerror = function(){console.warn(\"failed to load library \" + url);};\n",
       "  document.getElementsByTagName(\"head\")[0].appendChild(s);\n",
       "}\n",
       "\n",
       "if(typeof(LDAvis) !== \"undefined\"){\n",
       "   // already loaded: just create the visualization\n",
       "   !function(LDAvis){\n",
       "       new LDAvis(\"#\" + \"ldavis_el4784293929547683130759714\", ldavis_el4784293929547683130759714_data);\n",
       "   }(LDAvis);\n",
       "}else if(typeof define === \"function\" && define.amd){\n",
       "   // require.js is available: use it to load d3/LDAvis\n",
       "   require.config({paths: {d3: \"https://d3js.org/d3.v5\"}});\n",
       "   require([\"d3\"], function(d3){\n",
       "      window.d3 = d3;\n",
       "      LDAvis_load_lib(\"https://cdn.jsdelivr.net/gh/bmabey/pyLDAvis@3.3.1/pyLDAvis/js/ldavis.v3.0.0.js\", function(){\n",
       "        new LDAvis(\"#\" + \"ldavis_el4784293929547683130759714\", ldavis_el4784293929547683130759714_data);\n",
       "      });\n",
       "    });\n",
       "}else{\n",
       "    // require.js not available: dynamically load d3 & LDAvis\n",
       "    LDAvis_load_lib(\"https://d3js.org/d3.v5.js\", function(){\n",
       "         LDAvis_load_lib(\"https://cdn.jsdelivr.net/gh/bmabey/pyLDAvis@3.3.1/pyLDAvis/js/ldavis.v3.0.0.js\", function(){\n",
       "                 new LDAvis(\"#\" + \"ldavis_el4784293929547683130759714\", ldavis_el4784293929547683130759714_data);\n",
       "            })\n",
       "         });\n",
       "}\n",
       "</script>"
      ],
      "text/plain": [
       "PreparedData(topic_coordinates=              x         y  topics  cluster       Freq\n",
       "topic                                                \n",
       "2     -0.083917  0.238382       1        1  22.851046\n",
       "1     -0.036160 -0.083506       2        1  21.753162\n",
       "4     -0.121787  0.007618       3        1  21.448634\n",
       "3     -0.070020 -0.179605       4        1  18.901655\n",
       "0      0.311883  0.017111       5        1  15.045503, topic_info=         Term          Freq         Total Category  logprob  loglift\n",
       "129     stock  19025.000000  19025.000000  Default  30.0000  30.0000\n",
       "122       buy  20103.000000  20103.000000  Default  29.0000  29.0000\n",
       "140     model  11823.000000  11823.000000  Default  28.0000  28.0000\n",
       "97        car  33295.000000  33295.000000  Default  27.0000  27.0000\n",
       "108      musk  15769.000000  15769.000000  Default  26.0000  26.0000\n",
       "...       ...           ...           ...      ...      ...      ...\n",
       "1165  include   1277.662333   1572.518033   Topic5  -5.5077   1.6864\n",
       "220       say   2395.888031  11599.333692   Topic5  -4.8789   0.3169\n",
       "291   vehicle   1583.723253   7119.373480   Topic5  -5.2929   0.3910\n",
       "999      case   1279.661122   1688.516940   Topic5  -5.5061   1.6168\n",
       "151      look   1491.937383   7088.398109   Topic5  -5.3526   0.3357\n",
       "\n",
       "[374 rows x 6 columns], token_table=      Topic      Freq   Term\n",
       "term                        \n",
       "428       1  0.044921  agree\n",
       "428       2  0.008858  agree\n",
       "428       3  0.925621  agree\n",
       "428       4  0.018348  agree\n",
       "428       5  0.001898  agree\n",
       "...     ...       ...    ...\n",
       "295       1  0.012901   year\n",
       "295       2  0.325768   year\n",
       "295       3  0.605053   year\n",
       "295       4  0.041952   year\n",
       "295       5  0.014279   year\n",
       "\n",
       "[1585 rows x 3 columns], R=30, lambda_step=0.01, plot_opts={'xlab': 'PC1', 'ylab': 'PC2'}, topic_order=[3, 2, 5, 4, 1])"
      ]
     },
     "execution_count": 173,
     "metadata": {},
     "output_type": "execute_result"
    }
   ],
   "source": [
    "pyLDAvis.enable_notebook()\n",
    "gensimvis.prepare(newer_model, new_corpus, new_id2word)"
   ]
  },
  {
   "cell_type": "markdown",
   "id": "7d34eb10",
   "metadata": {},
   "source": [
    "# ============================================================================="
   ]
  },
  {
   "cell_type": "markdown",
   "id": "f7c905a0",
   "metadata": {},
   "source": [
    "# Below --- Need to link tweets to topics, and calculate sentiment by topic"
   ]
  },
  {
   "cell_type": "code",
   "execution_count": 178,
   "id": "41750c86",
   "metadata": {},
   "outputs": [
    {
     "data": {
      "text/html": [
       "<div>\n",
       "<style scoped>\n",
       "    .dataframe tbody tr th:only-of-type {\n",
       "        vertical-align: middle;\n",
       "    }\n",
       "\n",
       "    .dataframe tbody tr th {\n",
       "        vertical-align: top;\n",
       "    }\n",
       "\n",
       "    .dataframe thead th {\n",
       "        text-align: right;\n",
       "    }\n",
       "</style>\n",
       "<table border=\"1\" class=\"dataframe\">\n",
       "  <thead>\n",
       "    <tr style=\"text-align: right;\">\n",
       "      <th></th>\n",
       "      <th>Unnamed: 0</th>\n",
       "      <th>tweets</th>\n",
       "      <th>preprep</th>\n",
       "    </tr>\n",
       "  </thead>\n",
       "  <tbody>\n",
       "    <tr>\n",
       "      <th>0</th>\n",
       "      <td>1527025892458999814</td>\n",
       "      <td>@testcranker @ITGuy1959 My solar is 100% off g...</td>\n",
       "      <td>my solar is 100% off grid it runs the computer...</td>\n",
       "    </tr>\n",
       "    <tr>\n",
       "      <th>1</th>\n",
       "      <td>1527025892031086593</td>\n",
       "      <td>Boycott #Tesla #TeslaStock #ElonsProblems Vote...</td>\n",
       "      <td>boycott #tesla #teslastock #elonsproblems vote...</td>\n",
       "    </tr>\n",
       "    <tr>\n",
       "      <th>2</th>\n",
       "      <td>1527025884690993153</td>\n",
       "      <td>@dinodlz @cmclymer Tesla never would have surv...</td>\n",
       "      <td>tesla never would have survived without the ca...</td>\n",
       "    </tr>\n",
       "    <tr>\n",
       "      <th>3</th>\n",
       "      <td>1527025878974271489</td>\n",
       "      <td>@MarketRebels @elwalvador It would be funny if...</td>\n",
       "      <td>it would be funny if his fanbase just took pro...</td>\n",
       "    </tr>\n",
       "    <tr>\n",
       "      <th>4</th>\n",
       "      <td>1527025852008976384</td>\n",
       "      <td>@RiceAndrew Right - it's just his nonsense pos...</td>\n",
       "      <td>right - it's just his nonsense positions i do ...</td>\n",
       "    </tr>\n",
       "    <tr>\n",
       "      <th>...</th>\n",
       "      <td>...</td>\n",
       "      <td>...</td>\n",
       "      <td>...</td>\n",
       "    </tr>\n",
       "    <tr>\n",
       "      <th>237654</th>\n",
       "      <td>1525643350828777473</td>\n",
       "      <td>@ValueAnalyst1 Yes, beg - borrow and steal to ...</td>\n",
       "      <td>yes beg - borrow and steal to invest in $tsla#...</td>\n",
       "    </tr>\n",
       "    <tr>\n",
       "      <th>237655</th>\n",
       "      <td>1525642529567571969</td>\n",
       "      <td>@iamDCinvestor Owh Have to rethink about my th...</td>\n",
       "      <td>owh have to rethink about my thesis i always t...</td>\n",
       "    </tr>\n",
       "    <tr>\n",
       "      <th>237656</th>\n",
       "      <td>1525639115051515909</td>\n",
       "      <td>@5050isaloss @cardano_whale Overused example, ...</td>\n",
       "      <td>overused example but elon musk was alienated f...</td>\n",
       "    </tr>\n",
       "    <tr>\n",
       "      <th>237657</th>\n",
       "      <td>1525633771009101828</td>\n",
       "      <td>@DomRobins0n @JoJoFromJerz Founded spaceX a ve...</td>\n",
       "      <td>founded spacex a very successful and also argu...</td>\n",
       "    </tr>\n",
       "    <tr>\n",
       "      <th>237658</th>\n",
       "      <td>1525630144647421952</td>\n",
       "      <td>@mmpadellan I want an EV, but Tesla is off the...</td>\n",
       "      <td>i want an ev but tesla is off the table for me...</td>\n",
       "    </tr>\n",
       "  </tbody>\n",
       "</table>\n",
       "<p>237659 rows × 3 columns</p>\n",
       "</div>"
      ],
      "text/plain": [
       "                 Unnamed: 0  \\\n",
       "0       1527025892458999814   \n",
       "1       1527025892031086593   \n",
       "2       1527025884690993153   \n",
       "3       1527025878974271489   \n",
       "4       1527025852008976384   \n",
       "...                     ...   \n",
       "237654  1525643350828777473   \n",
       "237655  1525642529567571969   \n",
       "237656  1525639115051515909   \n",
       "237657  1525633771009101828   \n",
       "237658  1525630144647421952   \n",
       "\n",
       "                                                   tweets  \\\n",
       "0       @testcranker @ITGuy1959 My solar is 100% off g...   \n",
       "1       Boycott #Tesla #TeslaStock #ElonsProblems Vote...   \n",
       "2       @dinodlz @cmclymer Tesla never would have surv...   \n",
       "3       @MarketRebels @elwalvador It would be funny if...   \n",
       "4       @RiceAndrew Right - it's just his nonsense pos...   \n",
       "...                                                   ...   \n",
       "237654  @ValueAnalyst1 Yes, beg - borrow and steal to ...   \n",
       "237655  @iamDCinvestor Owh Have to rethink about my th...   \n",
       "237656  @5050isaloss @cardano_whale Overused example, ...   \n",
       "237657  @DomRobins0n @JoJoFromJerz Founded spaceX a ve...   \n",
       "237658  @mmpadellan I want an EV, but Tesla is off the...   \n",
       "\n",
       "                                                  preprep  \n",
       "0       my solar is 100% off grid it runs the computer...  \n",
       "1       boycott #tesla #teslastock #elonsproblems vote...  \n",
       "2       tesla never would have survived without the ca...  \n",
       "3       it would be funny if his fanbase just took pro...  \n",
       "4       right - it's just his nonsense positions i do ...  \n",
       "...                                                   ...  \n",
       "237654  yes beg - borrow and steal to invest in $tsla#...  \n",
       "237655  owh have to rethink about my thesis i always t...  \n",
       "237656  overused example but elon musk was alienated f...  \n",
       "237657  founded spacex a very successful and also argu...  \n",
       "237658  i want an ev but tesla is off the table for me...  \n",
       "\n",
       "[237659 rows x 3 columns]"
      ]
     },
     "execution_count": 178,
     "metadata": {},
     "output_type": "execute_result"
    }
   ],
   "source": [
    "full"
   ]
  },
  {
   "cell_type": "code",
   "execution_count": 175,
   "id": "17943d22",
   "metadata": {},
   "outputs": [
    {
     "data": {
      "text/plain": [
       "155948"
      ]
     },
     "execution_count": 175,
     "metadata": {},
     "output_type": "execute_result"
    }
   ],
   "source": [
    "len(new_corpus)"
   ]
  },
  {
   "cell_type": "code",
   "execution_count": 192,
   "id": "71bd1779",
   "metadata": {},
   "outputs": [
    {
     "data": {
      "text/plain": [
       "[1, 3, 7, 9, 10, 12, 15, 20, 24, 25]"
      ]
     },
     "execution_count": 192,
     "metadata": {},
     "output_type": "execute_result"
    }
   ],
   "source": [
    "# Counter contains perfect indices of all tweets that are short -- directly translates to original full dataframe\n",
    "counter[:10]"
   ]
  },
  {
   "cell_type": "code",
   "execution_count": 191,
   "id": "2b434d3a",
   "metadata": {},
   "outputs": [
    {
     "data": {
      "text/plain": [
       "['elon',\n",
       " 'mad',\n",
       " 'look',\n",
       " 'stock',\n",
       " 'past',\n",
       " 'month',\n",
       " 'actual',\n",
       " 'stock',\n",
       " 'chart',\n",
       " 'past',\n",
       " 'month',\n",
       " 'poorelon']"
      ]
     },
     "execution_count": 191,
     "metadata": {},
     "output_type": "execute_result"
    }
   ],
   "source": [
    "lem_noNone[19]"
   ]
  },
  {
   "cell_type": "code",
   "execution_count": 183,
   "id": "89ae218b",
   "metadata": {},
   "outputs": [
    {
     "name": "stdout",
     "output_type": "stream",
     "text": [
      "(0, 1)\n",
      "(1, 24)\n",
      "(2, 3)\n"
     ]
    }
   ],
   "source": [
    "fuck = [1, 24, 3]\n",
    "for i in enumerate(fuck):\n",
    "    print(i)"
   ]
  },
  {
   "cell_type": "code",
   "execution_count": null,
   "id": "781cbc82",
   "metadata": {},
   "outputs": [],
   "source": [
    "\"\"\"\n",
    "Note above, \n",
    "the original dataframe is indexed from 0, as in it is in the same form as an enumerated list\n",
    "we created a function earlier to find all of the missing index values somewhere around creating lem_noNone\n",
    "\n",
    "this function can be used to set proper indexs on the new lists past the funnkiness somehow... easier said than done \n",
    "\"\"\""
   ]
  },
  {
   "cell_type": "markdown",
   "id": "c98ecb57",
   "metadata": {},
   "source": [
    "## Attempting to get the top documents per topic "
   ]
  },
  {
   "cell_type": "code",
   "execution_count": 194,
   "id": "09aecac1",
   "metadata": {},
   "outputs": [],
   "source": [
    "def format_topics_sentences(ldamodel=None, corpus=corpus, texts=data):\n",
    "    # Init output\n",
    "    sent_topics_df = pd.DataFrame()\n",
    "\n",
    "    # Get main topic in each document\n",
    "    for i, row_list in enumerate(ldamodel[corpus]):\n",
    "        row = row_list[0] if ldamodel.per_word_topics else row_list            \n",
    "        # print(row)\n",
    "        row = sorted(row, key=lambda x: (x[1]), reverse=True)\n",
    "        # Get the Dominant topic, Perc Contribution and Keywords for each document\n",
    "        for j, (topic_num, prop_topic) in enumerate(row):\n",
    "            if j == 0:  # => dominant topic\n",
    "                wp = ldamodel.show_topic(topic_num)\n",
    "                topic_keywords = \", \".join([word for word, prop in wp])\n",
    "                sent_topics_df = sent_topics_df.append(pd.Series([int(topic_num), round(prop_topic,4), topic_keywords]), ignore_index=True)\n",
    "            else:\n",
    "                break\n",
    "    sent_topics_df.columns = ['Dominant_Topic', 'Perc_Contribution', 'Topic_Keywords']\n",
    "\n",
    "    # Add original text to the end of the output\n",
    "    contents = pd.Series(texts)\n",
    "    sent_topics_df = pd.concat([sent_topics_df, contents], axis=1)\n",
    "    return(sent_topics_df)\n"
   ]
  },
  {
   "cell_type": "code",
   "execution_count": 195,
   "id": "c281666e",
   "metadata": {},
   "outputs": [
    {
     "data": {
      "text/html": [
       "<div>\n",
       "<style scoped>\n",
       "    .dataframe tbody tr th:only-of-type {\n",
       "        vertical-align: middle;\n",
       "    }\n",
       "\n",
       "    .dataframe tbody tr th {\n",
       "        vertical-align: top;\n",
       "    }\n",
       "\n",
       "    .dataframe thead th {\n",
       "        text-align: right;\n",
       "    }\n",
       "</style>\n",
       "<table border=\"1\" class=\"dataframe\">\n",
       "  <thead>\n",
       "    <tr style=\"text-align: right;\">\n",
       "      <th></th>\n",
       "      <th>Dominant_Topic</th>\n",
       "      <th>Perc_Contribution</th>\n",
       "      <th>Topic_Keywords</th>\n",
       "      <th>0</th>\n",
       "    </tr>\n",
       "  </thead>\n",
       "  <tbody>\n",
       "    <tr>\n",
       "      <th>0</th>\n",
       "      <td>3</td>\n",
       "      <td>0.5235</td>\n",
       "      <td>make, car, electric, battery, world, company, ...</td>\n",
       "      <td>[solar, grid, run, computer, radio, fridge, en...</td>\n",
       "    </tr>\n",
       "    <tr>\n",
       "      <th>1</th>\n",
       "      <td>2</td>\n",
       "      <td>0.3959</td>\n",
       "      <td>buy, stock, musk, elon, twitter, get, want, pe...</td>\n",
       "      <td>[never, survive, carbon_offsets, implement, de...</td>\n",
       "    </tr>\n",
       "    <tr>\n",
       "      <th>2</th>\n",
       "      <td>2</td>\n",
       "      <td>0.5352</td>\n",
       "      <td>buy, stock, musk, elon, twitter, get, want, pe...</td>\n",
       "      <td>[right, nonsense, position, find, sort, hard, ...</td>\n",
       "    </tr>\n",
       "    <tr>\n",
       "      <th>3</th>\n",
       "      <td>4</td>\n",
       "      <td>0.6391</td>\n",
       "      <td>ev, market, company, year, make, much, see, go...</td>\n",
       "      <td>[ford, pe, ration, pe_ratio, tsla, still, long...</td>\n",
       "    </tr>\n",
       "    <tr>\n",
       "      <th>4</th>\n",
       "      <td>1</td>\n",
       "      <td>0.5407</td>\n",
       "      <td>car, get, electric, drive, door, use, know, pe...</td>\n",
       "      <td>[think, back, time, work, employee, brag, work...</td>\n",
       "    </tr>\n",
       "    <tr>\n",
       "      <th>...</th>\n",
       "      <td>...</td>\n",
       "      <td>...</td>\n",
       "      <td>...</td>\n",
       "      <td>...</td>\n",
       "    </tr>\n",
       "    <tr>\n",
       "      <th>155943</th>\n",
       "      <td>4</td>\n",
       "      <td>0.4560</td>\n",
       "      <td>ev, market, company, year, make, much, see, go...</td>\n",
       "      <td>[yes, beg, borrow, steal, invest, tsla, world,...</td>\n",
       "    </tr>\n",
       "    <tr>\n",
       "      <th>155944</th>\n",
       "      <td>3</td>\n",
       "      <td>0.3583</td>\n",
       "      <td>make, car, electric, battery, world, company, ...</td>\n",
       "      <td>[owh, rethink, thesis, always, think, regulati...</td>\n",
       "    </tr>\n",
       "    <tr>\n",
       "      <th>155945</th>\n",
       "      <td>2</td>\n",
       "      <td>0.3730</td>\n",
       "      <td>buy, stock, musk, elon, twitter, get, want, pe...</td>\n",
       "      <td>[overused, example, elon, musk, alienate, almo...</td>\n",
       "    </tr>\n",
       "    <tr>\n",
       "      <th>155946</th>\n",
       "      <td>3</td>\n",
       "      <td>0.3681</td>\n",
       "      <td>make, car, electric, battery, world, company, ...</td>\n",
       "      <td>[found, spacex, successful, also, arguably, in...</td>\n",
       "    </tr>\n",
       "    <tr>\n",
       "      <th>155947</th>\n",
       "      <td>2</td>\n",
       "      <td>0.2339</td>\n",
       "      <td>buy, stock, musk, elon, twitter, get, want, pe...</td>\n",
       "      <td>[want, ev, table, musk, show, world, year, old]</td>\n",
       "    </tr>\n",
       "  </tbody>\n",
       "</table>\n",
       "<p>155948 rows × 4 columns</p>\n",
       "</div>"
      ],
      "text/plain": [
       "        Dominant_Topic  Perc_Contribution  \\\n",
       "0                    3             0.5235   \n",
       "1                    2             0.3959   \n",
       "2                    2             0.5352   \n",
       "3                    4             0.6391   \n",
       "4                    1             0.5407   \n",
       "...                ...                ...   \n",
       "155943               4             0.4560   \n",
       "155944               3             0.3583   \n",
       "155945               2             0.3730   \n",
       "155946               3             0.3681   \n",
       "155947               2             0.2339   \n",
       "\n",
       "                                           Topic_Keywords  \\\n",
       "0       make, car, electric, battery, world, company, ...   \n",
       "1       buy, stock, musk, elon, twitter, get, want, pe...   \n",
       "2       buy, stock, musk, elon, twitter, get, want, pe...   \n",
       "3       ev, market, company, year, make, much, see, go...   \n",
       "4       car, get, electric, drive, door, use, know, pe...   \n",
       "...                                                   ...   \n",
       "155943  ev, market, company, year, make, much, see, go...   \n",
       "155944  make, car, electric, battery, world, company, ...   \n",
       "155945  buy, stock, musk, elon, twitter, get, want, pe...   \n",
       "155946  make, car, electric, battery, world, company, ...   \n",
       "155947  buy, stock, musk, elon, twitter, get, want, pe...   \n",
       "\n",
       "                                                        0  \n",
       "0       [solar, grid, run, computer, radio, fridge, en...  \n",
       "1       [never, survive, carbon_offsets, implement, de...  \n",
       "2       [right, nonsense, position, find, sort, hard, ...  \n",
       "3       [ford, pe, ration, pe_ratio, tsla, still, long...  \n",
       "4       [think, back, time, work, employee, brag, work...  \n",
       "...                                                   ...  \n",
       "155943  [yes, beg, borrow, steal, invest, tsla, world,...  \n",
       "155944  [owh, rethink, thesis, always, think, regulati...  \n",
       "155945  [overused, example, elon, musk, alienate, almo...  \n",
       "155946  [found, spacex, successful, also, arguably, in...  \n",
       "155947    [want, ev, table, musk, show, world, year, old]  \n",
       "\n",
       "[155948 rows x 4 columns]"
      ]
     },
     "execution_count": 195,
     "metadata": {},
     "output_type": "execute_result"
    }
   ],
   "source": [
    "df_topic_sents_keywords = format_topics_sentences(ldamodel=newer_model, corpus=new_corpus, texts=longer_tweets)\n",
    "df_topic_sents_keywords"
   ]
  },
  {
   "cell_type": "code",
   "execution_count": 196,
   "id": "f296d2a9",
   "metadata": {},
   "outputs": [
    {
     "data": {
      "text/html": [
       "<div>\n",
       "<style scoped>\n",
       "    .dataframe tbody tr th:only-of-type {\n",
       "        vertical-align: middle;\n",
       "    }\n",
       "\n",
       "    .dataframe tbody tr th {\n",
       "        vertical-align: top;\n",
       "    }\n",
       "\n",
       "    .dataframe thead th {\n",
       "        text-align: right;\n",
       "    }\n",
       "</style>\n",
       "<table border=\"1\" class=\"dataframe\">\n",
       "  <thead>\n",
       "    <tr style=\"text-align: right;\">\n",
       "      <th></th>\n",
       "      <th>Topic_Num</th>\n",
       "      <th>Topic_Perc_Contrib</th>\n",
       "      <th>Keywords</th>\n",
       "      <th>Representative Text</th>\n",
       "    </tr>\n",
       "  </thead>\n",
       "  <tbody>\n",
       "    <tr>\n",
       "      <th>0</th>\n",
       "      <td>0</td>\n",
       "      <td>0.8515</td>\n",
       "      <td>model, fire, first, time, crash, spot, someone...</td>\n",
       "      <td>[scottsdale_community, college, wal_mart, marr...</td>\n",
       "    </tr>\n",
       "    <tr>\n",
       "      <th>1</th>\n",
       "      <td>1</td>\n",
       "      <td>0.8622</td>\n",
       "      <td>car, get, electric, drive, door, use, know, pe...</td>\n",
       "      <td>[wow, wrong, drive, old, shitty, vehicle, ii, ...</td>\n",
       "    </tr>\n",
       "    <tr>\n",
       "      <th>2</th>\n",
       "      <td>2</td>\n",
       "      <td>0.8577</td>\n",
       "      <td>buy, stock, musk, elon, twitter, get, want, pe...</td>\n",
       "      <td>[ceo, elon, musk, bid, purchase, twitter, stri...</td>\n",
       "    </tr>\n",
       "    <tr>\n",
       "      <th>3</th>\n",
       "      <td>3</td>\n",
       "      <td>0.8408</td>\n",
       "      <td>make, car, electric, battery, world, company, ...</td>\n",
       "      <td>[blockstream, block, team, solar, power, btc, ...</td>\n",
       "    </tr>\n",
       "    <tr>\n",
       "      <th>4</th>\n",
       "      <td>4</td>\n",
       "      <td>0.8488</td>\n",
       "      <td>ev, market, company, year, make, much, see, go...</td>\n",
       "      <td>[ev, unit, sale, rise, increased, sale, volume...</td>\n",
       "    </tr>\n",
       "  </tbody>\n",
       "</table>\n",
       "</div>"
      ],
      "text/plain": [
       "   Topic_Num  Topic_Perc_Contrib  \\\n",
       "0          0              0.8515   \n",
       "1          1              0.8622   \n",
       "2          2              0.8577   \n",
       "3          3              0.8408   \n",
       "4          4              0.8488   \n",
       "\n",
       "                                            Keywords  \\\n",
       "0  model, fire, first, time, crash, spot, someone...   \n",
       "1  car, get, electric, drive, door, use, know, pe...   \n",
       "2  buy, stock, musk, elon, twitter, get, want, pe...   \n",
       "3  make, car, electric, battery, world, company, ...   \n",
       "4  ev, market, company, year, make, much, see, go...   \n",
       "\n",
       "                                 Representative Text  \n",
       "0  [scottsdale_community, college, wal_mart, marr...  \n",
       "1  [wow, wrong, drive, old, shitty, vehicle, ii, ...  \n",
       "2  [ceo, elon, musk, bid, purchase, twitter, stri...  \n",
       "3  [blockstream, block, team, solar, power, btc, ...  \n",
       "4  [ev, unit, sale, rise, increased, sale, volume...  "
      ]
     },
     "execution_count": 196,
     "metadata": {},
     "output_type": "execute_result"
    }
   ],
   "source": [
    "sent_topics_sorteddf_mallet = pd.DataFrame()\n",
    "sent_topics_outdf_grpd = df_topic_sents_keywords.groupby('Dominant_Topic')\n",
    "\n",
    "for i, grp in sent_topics_outdf_grpd:\n",
    "    sent_topics_sorteddf_mallet = pd.concat([sent_topics_sorteddf_mallet, \n",
    "                                             grp.sort_values(['Perc_Contribution'], ascending=False).head(1)], \n",
    "                                            axis=0)\n",
    "\n",
    "# Reset Index    \n",
    "sent_topics_sorteddf_mallet.reset_index(drop=True, inplace=True)\n",
    "\n",
    "# Format\n",
    "sent_topics_sorteddf_mallet.columns = ['Topic_Num', \"Topic_Perc_Contrib\", \"Keywords\", \"Representative Text\"]\n",
    "\n",
    "# Show\n",
    "sent_topics_sorteddf_mallet.head(10)"
   ]
  },
  {
   "cell_type": "code",
   "execution_count": 201,
   "id": "05dd932d",
   "metadata": {},
   "outputs": [
    {
     "data": {
      "text/plain": [
       "'buy, stock, musk, elon, twitter, get, want, people, price, money'"
      ]
     },
     "execution_count": 201,
     "metadata": {},
     "output_type": "execute_result"
    }
   ],
   "source": [
    "sent_topics_sorteddf_mallet.iloc[2]['Keywords']"
   ]
  },
  {
   "cell_type": "code",
   "execution_count": 203,
   "id": "06e93c70",
   "metadata": {},
   "outputs": [],
   "source": [
    "# sent_topics_sorteddf_mallet.iloc[2]['Representative Text']"
   ]
  },
  {
   "cell_type": "code",
   "execution_count": 273,
   "id": "6f76dca0",
   "metadata": {},
   "outputs": [],
   "source": [
    "# longer_tweets[:10]"
   ]
  },
  {
   "cell_type": "code",
   "execution_count": 258,
   "id": "cbd8b0bf",
   "metadata": {},
   "outputs": [
    {
     "data": {
      "text/html": [
       "<div>\n",
       "<style scoped>\n",
       "    .dataframe tbody tr th:only-of-type {\n",
       "        vertical-align: middle;\n",
       "    }\n",
       "\n",
       "    .dataframe tbody tr th {\n",
       "        vertical-align: top;\n",
       "    }\n",
       "\n",
       "    .dataframe thead th {\n",
       "        text-align: right;\n",
       "    }\n",
       "</style>\n",
       "<table border=\"1\" class=\"dataframe\">\n",
       "  <thead>\n",
       "    <tr style=\"text-align: right;\">\n",
       "      <th></th>\n",
       "      <th>Dominant_Topic</th>\n",
       "      <th>Perc_Contribution</th>\n",
       "      <th>Topic_Keywords</th>\n",
       "      <th>0</th>\n",
       "    </tr>\n",
       "  </thead>\n",
       "  <tbody>\n",
       "    <tr>\n",
       "      <th>0</th>\n",
       "      <td>3</td>\n",
       "      <td>0.5235</td>\n",
       "      <td>make, car, electric, battery, world, company, ...</td>\n",
       "      <td>[solar, grid, run, computer, radio, fridge, en...</td>\n",
       "    </tr>\n",
       "    <tr>\n",
       "      <th>1</th>\n",
       "      <td>2</td>\n",
       "      <td>0.3959</td>\n",
       "      <td>buy, stock, musk, elon, twitter, get, want, pe...</td>\n",
       "      <td>[never, survive, carbon_offsets, implement, de...</td>\n",
       "    </tr>\n",
       "    <tr>\n",
       "      <th>2</th>\n",
       "      <td>2</td>\n",
       "      <td>0.5352</td>\n",
       "      <td>buy, stock, musk, elon, twitter, get, want, pe...</td>\n",
       "      <td>[right, nonsense, position, find, sort, hard, ...</td>\n",
       "    </tr>\n",
       "    <tr>\n",
       "      <th>3</th>\n",
       "      <td>4</td>\n",
       "      <td>0.6391</td>\n",
       "      <td>ev, market, company, year, make, much, see, go...</td>\n",
       "      <td>[ford, pe, ration, pe_ratio, tsla, still, long...</td>\n",
       "    </tr>\n",
       "    <tr>\n",
       "      <th>4</th>\n",
       "      <td>1</td>\n",
       "      <td>0.5407</td>\n",
       "      <td>car, get, electric, drive, door, use, know, pe...</td>\n",
       "      <td>[think, back, time, work, employee, brag, work...</td>\n",
       "    </tr>\n",
       "    <tr>\n",
       "      <th>...</th>\n",
       "      <td>...</td>\n",
       "      <td>...</td>\n",
       "      <td>...</td>\n",
       "      <td>...</td>\n",
       "    </tr>\n",
       "    <tr>\n",
       "      <th>155943</th>\n",
       "      <td>4</td>\n",
       "      <td>0.4560</td>\n",
       "      <td>ev, market, company, year, make, much, see, go...</td>\n",
       "      <td>[yes, beg, borrow, steal, invest, tsla, world,...</td>\n",
       "    </tr>\n",
       "    <tr>\n",
       "      <th>155944</th>\n",
       "      <td>3</td>\n",
       "      <td>0.3583</td>\n",
       "      <td>make, car, electric, battery, world, company, ...</td>\n",
       "      <td>[owh, rethink, thesis, always, think, regulati...</td>\n",
       "    </tr>\n",
       "    <tr>\n",
       "      <th>155945</th>\n",
       "      <td>2</td>\n",
       "      <td>0.3730</td>\n",
       "      <td>buy, stock, musk, elon, twitter, get, want, pe...</td>\n",
       "      <td>[overused, example, elon, musk, alienate, almo...</td>\n",
       "    </tr>\n",
       "    <tr>\n",
       "      <th>155946</th>\n",
       "      <td>3</td>\n",
       "      <td>0.3681</td>\n",
       "      <td>make, car, electric, battery, world, company, ...</td>\n",
       "      <td>[found, spacex, successful, also, arguably, in...</td>\n",
       "    </tr>\n",
       "    <tr>\n",
       "      <th>155947</th>\n",
       "      <td>2</td>\n",
       "      <td>0.2339</td>\n",
       "      <td>buy, stock, musk, elon, twitter, get, want, pe...</td>\n",
       "      <td>[want, ev, table, musk, show, world, year, old]</td>\n",
       "    </tr>\n",
       "  </tbody>\n",
       "</table>\n",
       "<p>155948 rows × 4 columns</p>\n",
       "</div>"
      ],
      "text/plain": [
       "        Dominant_Topic  Perc_Contribution  \\\n",
       "0                    3             0.5235   \n",
       "1                    2             0.3959   \n",
       "2                    2             0.5352   \n",
       "3                    4             0.6391   \n",
       "4                    1             0.5407   \n",
       "...                ...                ...   \n",
       "155943               4             0.4560   \n",
       "155944               3             0.3583   \n",
       "155945               2             0.3730   \n",
       "155946               3             0.3681   \n",
       "155947               2             0.2339   \n",
       "\n",
       "                                           Topic_Keywords  \\\n",
       "0       make, car, electric, battery, world, company, ...   \n",
       "1       buy, stock, musk, elon, twitter, get, want, pe...   \n",
       "2       buy, stock, musk, elon, twitter, get, want, pe...   \n",
       "3       ev, market, company, year, make, much, see, go...   \n",
       "4       car, get, electric, drive, door, use, know, pe...   \n",
       "...                                                   ...   \n",
       "155943  ev, market, company, year, make, much, see, go...   \n",
       "155944  make, car, electric, battery, world, company, ...   \n",
       "155945  buy, stock, musk, elon, twitter, get, want, pe...   \n",
       "155946  make, car, electric, battery, world, company, ...   \n",
       "155947  buy, stock, musk, elon, twitter, get, want, pe...   \n",
       "\n",
       "                                                        0  \n",
       "0       [solar, grid, run, computer, radio, fridge, en...  \n",
       "1       [never, survive, carbon_offsets, implement, de...  \n",
       "2       [right, nonsense, position, find, sort, hard, ...  \n",
       "3       [ford, pe, ration, pe_ratio, tsla, still, long...  \n",
       "4       [think, back, time, work, employee, brag, work...  \n",
       "...                                                   ...  \n",
       "155943  [yes, beg, borrow, steal, invest, tsla, world,...  \n",
       "155944  [owh, rethink, thesis, always, think, regulati...  \n",
       "155945  [overused, example, elon, musk, alienate, almo...  \n",
       "155946  [found, spacex, successful, also, arguably, in...  \n",
       "155947    [want, ev, table, musk, show, world, year, old]  \n",
       "\n",
       "[155948 rows x 4 columns]"
      ]
     },
     "execution_count": 258,
     "metadata": {},
     "output_type": "execute_result"
    }
   ],
   "source": [
    "df_topic_sents_keywords"
   ]
  },
  {
   "cell_type": "code",
   "execution_count": 215,
   "id": "a477fc00",
   "metadata": {
    "scrolled": true
   },
   "outputs": [
    {
     "data": {
      "text/html": [
       "<div>\n",
       "<style scoped>\n",
       "    .dataframe tbody tr th:only-of-type {\n",
       "        vertical-align: middle;\n",
       "    }\n",
       "\n",
       "    .dataframe tbody tr th {\n",
       "        vertical-align: top;\n",
       "    }\n",
       "\n",
       "    .dataframe thead th {\n",
       "        text-align: right;\n",
       "    }\n",
       "</style>\n",
       "<table border=\"1\" class=\"dataframe\">\n",
       "  <thead>\n",
       "    <tr style=\"text-align: right;\">\n",
       "      <th></th>\n",
       "      <th>Dominant_Topic</th>\n",
       "      <th>Perc_Contribution</th>\n",
       "      <th>Topic_Keywords</th>\n",
       "      <th>0</th>\n",
       "    </tr>\n",
       "  </thead>\n",
       "  <tbody>\n",
       "    <tr>\n",
       "      <th>6991</th>\n",
       "      <td>4</td>\n",
       "      <td>0.8404</td>\n",
       "      <td>ev, market, company, year, make, much, see, go...</td>\n",
       "      <td>[ford, almost, percent, gross_margin, last, qu...</td>\n",
       "    </tr>\n",
       "    <tr>\n",
       "      <th>11628</th>\n",
       "      <td>4</td>\n",
       "      <td>0.8488</td>\n",
       "      <td>ev, market, company, year, make, much, see, go...</td>\n",
       "      <td>[ev, unit, sale, rise, increased, sale, volume...</td>\n",
       "    </tr>\n",
       "    <tr>\n",
       "      <th>32472</th>\n",
       "      <td>4</td>\n",
       "      <td>0.8404</td>\n",
       "      <td>ev, market, company, year, make, much, see, go...</td>\n",
       "      <td>[ford, almost, percent, gross_margin, last, qu...</td>\n",
       "    </tr>\n",
       "    <tr>\n",
       "      <th>78510</th>\n",
       "      <td>4</td>\n",
       "      <td>0.8400</td>\n",
       "      <td>ev, market, company, year, make, much, see, go...</td>\n",
       "      <td>[aapl, also, overvalue, apple, revenue, increa...</td>\n",
       "    </tr>\n",
       "    <tr>\n",
       "      <th>85674</th>\n",
       "      <td>4</td>\n",
       "      <td>0.8410</td>\n",
       "      <td>ev, market, company, year, make, much, see, go...</td>\n",
       "      <td>[probably, best, fundamental, market, fast, gr...</td>\n",
       "    </tr>\n",
       "    <tr>\n",
       "      <th>98426</th>\n",
       "      <td>4</td>\n",
       "      <td>0.8410</td>\n",
       "      <td>ev, market, company, year, make, much, see, go...</td>\n",
       "      <td>[probably, best, fundamental, market, fast, gr...</td>\n",
       "    </tr>\n",
       "    <tr>\n",
       "      <th>104646</th>\n",
       "      <td>4</td>\n",
       "      <td>0.8410</td>\n",
       "      <td>ev, market, company, year, make, much, see, go...</td>\n",
       "      <td>[probably, best, fundamental, market, fast, gr...</td>\n",
       "    </tr>\n",
       "    <tr>\n",
       "      <th>125447</th>\n",
       "      <td>4</td>\n",
       "      <td>0.8409</td>\n",
       "      <td>ev, market, company, year, make, much, see, go...</td>\n",
       "      <td>[probably, best, fundamental, market, fast, gr...</td>\n",
       "    </tr>\n",
       "    <tr>\n",
       "      <th>142320</th>\n",
       "      <td>4</td>\n",
       "      <td>0.8410</td>\n",
       "      <td>ev, market, company, year, make, much, see, go...</td>\n",
       "      <td>[probably, best, fundamental, market, fast, gr...</td>\n",
       "    </tr>\n",
       "  </tbody>\n",
       "</table>\n",
       "</div>"
      ],
      "text/plain": [
       "        Dominant_Topic  Perc_Contribution  \\\n",
       "6991                 4             0.8404   \n",
       "11628                4             0.8488   \n",
       "32472                4             0.8404   \n",
       "78510                4             0.8400   \n",
       "85674                4             0.8410   \n",
       "98426                4             0.8410   \n",
       "104646               4             0.8410   \n",
       "125447               4             0.8409   \n",
       "142320               4             0.8410   \n",
       "\n",
       "                                           Topic_Keywords  \\\n",
       "6991    ev, market, company, year, make, much, see, go...   \n",
       "11628   ev, market, company, year, make, much, see, go...   \n",
       "32472   ev, market, company, year, make, much, see, go...   \n",
       "78510   ev, market, company, year, make, much, see, go...   \n",
       "85674   ev, market, company, year, make, much, see, go...   \n",
       "98426   ev, market, company, year, make, much, see, go...   \n",
       "104646  ev, market, company, year, make, much, see, go...   \n",
       "125447  ev, market, company, year, make, much, see, go...   \n",
       "142320  ev, market, company, year, make, much, see, go...   \n",
       "\n",
       "                                                        0  \n",
       "6991    [ford, almost, percent, gross_margin, last, qu...  \n",
       "11628   [ev, unit, sale, rise, increased, sale, volume...  \n",
       "32472   [ford, almost, percent, gross_margin, last, qu...  \n",
       "78510   [aapl, also, overvalue, apple, revenue, increa...  \n",
       "85674   [probably, best, fundamental, market, fast, gr...  \n",
       "98426   [probably, best, fundamental, market, fast, gr...  \n",
       "104646  [probably, best, fundamental, market, fast, gr...  \n",
       "125447  [probably, best, fundamental, market, fast, gr...  \n",
       "142320  [probably, best, fundamental, market, fast, gr...  "
      ]
     },
     "execution_count": 215,
     "metadata": {},
     "output_type": "execute_result"
    }
   ],
   "source": [
    "df_topic_sents_keywords[(df_topic_sents_keywords['Dominant_Topic'] == 4) & (df_topic_sents_keywords['Perc_Contribution'] >= 0.84)]"
   ]
  },
  {
   "cell_type": "code",
   "execution_count": null,
   "id": "01cabd4d",
   "metadata": {},
   "outputs": [],
   "source": []
  },
  {
   "cell_type": "code",
   "execution_count": 302,
   "id": "1d8f50cb",
   "metadata": {},
   "outputs": [
    {
     "data": {
      "text/plain": [
       "659"
      ]
     },
     "execution_count": 302,
     "metadata": {},
     "output_type": "execute_result"
    }
   ],
   "source": [
    "len(ind)"
   ]
  },
  {
   "cell_type": "code",
   "execution_count": 305,
   "id": "f6a8341e",
   "metadata": {},
   "outputs": [
    {
     "data": {
      "text/plain": [
       "81052"
      ]
     },
     "execution_count": 305,
     "metadata": {},
     "output_type": "execute_result"
    }
   ],
   "source": [
    "len(counter)"
   ]
  },
  {
   "cell_type": "code",
   "execution_count": 306,
   "id": "aa8ad2e2",
   "metadata": {},
   "outputs": [
    {
     "data": {
      "text/plain": [
       "81711"
      ]
     },
     "execution_count": 306,
     "metadata": {},
     "output_type": "execute_result"
    }
   ],
   "source": [
    "sum_dropped = counter + ind\n",
    "len(sum_dropped)"
   ]
  },
  {
   "cell_type": "code",
   "execution_count": 307,
   "id": "574a7403",
   "metadata": {},
   "outputs": [],
   "source": [
    "# full_tester = full.drop(full.index[ind])\n",
    "full_tester = full.drop(full.index[sum_dropped])\n",
    "full_tester.reset_index(inplace = True)"
   ]
  },
  {
   "cell_type": "code",
   "execution_count": 311,
   "id": "590f8a19",
   "metadata": {},
   "outputs": [
    {
     "data": {
      "text/html": [
       "<div>\n",
       "<style scoped>\n",
       "    .dataframe tbody tr th:only-of-type {\n",
       "        vertical-align: middle;\n",
       "    }\n",
       "\n",
       "    .dataframe tbody tr th {\n",
       "        vertical-align: top;\n",
       "    }\n",
       "\n",
       "    .dataframe thead th {\n",
       "        text-align: right;\n",
       "    }\n",
       "</style>\n",
       "<table border=\"1\" class=\"dataframe\">\n",
       "  <thead>\n",
       "    <tr style=\"text-align: right;\">\n",
       "      <th></th>\n",
       "      <th>index</th>\n",
       "      <th>Unnamed: 0</th>\n",
       "      <th>tweets</th>\n",
       "      <th>preprep</th>\n",
       "    </tr>\n",
       "  </thead>\n",
       "  <tbody>\n",
       "    <tr>\n",
       "      <th>0</th>\n",
       "      <td>0</td>\n",
       "      <td>1527025892458999814</td>\n",
       "      <td>@testcranker @ITGuy1959 My solar is 100% off g...</td>\n",
       "      <td>my solar is 100% off grid it runs the computer...</td>\n",
       "    </tr>\n",
       "    <tr>\n",
       "      <th>1</th>\n",
       "      <td>2</td>\n",
       "      <td>1527025884690993153</td>\n",
       "      <td>@dinodlz @cmclymer Tesla never would have surv...</td>\n",
       "      <td>tesla never would have survived without the ca...</td>\n",
       "    </tr>\n",
       "    <tr>\n",
       "      <th>2</th>\n",
       "      <td>4</td>\n",
       "      <td>1527025852008976384</td>\n",
       "      <td>@RiceAndrew Right - it's just his nonsense pos...</td>\n",
       "      <td>right - it's just his nonsense positions i do ...</td>\n",
       "    </tr>\n",
       "    <tr>\n",
       "      <th>3</th>\n",
       "      <td>5</td>\n",
       "      <td>1527025846988382208</td>\n",
       "      <td>@H0NIS0IT @patricklarkin @SRuhle Ford PE ratio...</td>\n",
       "      <td>ford pe ration is 10 tesla pe ratio is 100 tsl...</td>\n",
       "    </tr>\n",
       "    <tr>\n",
       "      <th>4</th>\n",
       "      <td>6</td>\n",
       "      <td>1527025833809809408</td>\n",
       "      <td>Thinking back to that time I worked at Tesla a...</td>\n",
       "      <td>thinking back to that time i worked at tesla a...</td>\n",
       "    </tr>\n",
       "    <tr>\n",
       "      <th>...</th>\n",
       "      <td>...</td>\n",
       "      <td>...</td>\n",
       "      <td>...</td>\n",
       "      <td>...</td>\n",
       "    </tr>\n",
       "    <tr>\n",
       "      <th>156195</th>\n",
       "      <td>237654</td>\n",
       "      <td>1525643350828777473</td>\n",
       "      <td>@ValueAnalyst1 Yes, beg - borrow and steal to ...</td>\n",
       "      <td>yes beg - borrow and steal to invest in $tsla#...</td>\n",
       "    </tr>\n",
       "    <tr>\n",
       "      <th>156196</th>\n",
       "      <td>237655</td>\n",
       "      <td>1525642529567571969</td>\n",
       "      <td>@iamDCinvestor Owh Have to rethink about my th...</td>\n",
       "      <td>owh have to rethink about my thesis i always t...</td>\n",
       "    </tr>\n",
       "    <tr>\n",
       "      <th>156197</th>\n",
       "      <td>237656</td>\n",
       "      <td>1525639115051515909</td>\n",
       "      <td>@5050isaloss @cardano_whale Overused example, ...</td>\n",
       "      <td>overused example but elon musk was alienated f...</td>\n",
       "    </tr>\n",
       "    <tr>\n",
       "      <th>156198</th>\n",
       "      <td>237657</td>\n",
       "      <td>1525633771009101828</td>\n",
       "      <td>@DomRobins0n @JoJoFromJerz Founded spaceX a ve...</td>\n",
       "      <td>founded spacex a very successful and also argu...</td>\n",
       "    </tr>\n",
       "    <tr>\n",
       "      <th>156199</th>\n",
       "      <td>237658</td>\n",
       "      <td>1525630144647421952</td>\n",
       "      <td>@mmpadellan I want an EV, but Tesla is off the...</td>\n",
       "      <td>i want an ev but tesla is off the table for me...</td>\n",
       "    </tr>\n",
       "  </tbody>\n",
       "</table>\n",
       "<p>156200 rows × 4 columns</p>\n",
       "</div>"
      ],
      "text/plain": [
       "         index           Unnamed: 0  \\\n",
       "0            0  1527025892458999814   \n",
       "1            2  1527025884690993153   \n",
       "2            4  1527025852008976384   \n",
       "3            5  1527025846988382208   \n",
       "4            6  1527025833809809408   \n",
       "...        ...                  ...   \n",
       "156195  237654  1525643350828777473   \n",
       "156196  237655  1525642529567571969   \n",
       "156197  237656  1525639115051515909   \n",
       "156198  237657  1525633771009101828   \n",
       "156199  237658  1525630144647421952   \n",
       "\n",
       "                                                   tweets  \\\n",
       "0       @testcranker @ITGuy1959 My solar is 100% off g...   \n",
       "1       @dinodlz @cmclymer Tesla never would have surv...   \n",
       "2       @RiceAndrew Right - it's just his nonsense pos...   \n",
       "3       @H0NIS0IT @patricklarkin @SRuhle Ford PE ratio...   \n",
       "4       Thinking back to that time I worked at Tesla a...   \n",
       "...                                                   ...   \n",
       "156195  @ValueAnalyst1 Yes, beg - borrow and steal to ...   \n",
       "156196  @iamDCinvestor Owh Have to rethink about my th...   \n",
       "156197  @5050isaloss @cardano_whale Overused example, ...   \n",
       "156198  @DomRobins0n @JoJoFromJerz Founded spaceX a ve...   \n",
       "156199  @mmpadellan I want an EV, but Tesla is off the...   \n",
       "\n",
       "                                                  preprep  \n",
       "0       my solar is 100% off grid it runs the computer...  \n",
       "1       tesla never would have survived without the ca...  \n",
       "2       right - it's just his nonsense positions i do ...  \n",
       "3       ford pe ration is 10 tesla pe ratio is 100 tsl...  \n",
       "4       thinking back to that time i worked at tesla a...  \n",
       "...                                                   ...  \n",
       "156195  yes beg - borrow and steal to invest in $tsla#...  \n",
       "156196  owh have to rethink about my thesis i always t...  \n",
       "156197  overused example but elon musk was alienated f...  \n",
       "156198  founded spacex a very successful and also argu...  \n",
       "156199  i want an ev but tesla is off the table for me...  \n",
       "\n",
       "[156200 rows x 4 columns]"
      ]
     },
     "execution_count": 311,
     "metadata": {},
     "output_type": "execute_result"
    }
   ],
   "source": [
    "full_tester"
   ]
  },
  {
   "cell_type": "code",
   "execution_count": 277,
   "id": "aad78c85",
   "metadata": {},
   "outputs": [
    {
     "data": {
      "text/plain": [
       "'just extremely bad memories of the one single time I was in a Tesla'"
      ]
     },
     "execution_count": 277,
     "metadata": {},
     "output_type": "execute_result"
    }
   ],
   "source": [
    "full_tester.tweets.iloc[104646]"
   ]
  },
  {
   "cell_type": "code",
   "execution_count": 312,
   "id": "74fa10ff",
   "metadata": {},
   "outputs": [
    {
     "data": {
      "text/plain": [
       "155948"
      ]
     },
     "execution_count": 312,
     "metadata": {},
     "output_type": "execute_result"
    }
   ],
   "source": [
    "len(longer_tweets)"
   ]
  },
  {
   "cell_type": "code",
   "execution_count": 270,
   "id": "d45201fd",
   "metadata": {},
   "outputs": [
    {
     "data": {
      "text/plain": [
       "155948"
      ]
     },
     "execution_count": 270,
     "metadata": {},
     "output_type": "execute_result"
    }
   ],
   "source": [
    "len(new_corpus)"
   ]
  },
  {
   "cell_type": "code",
   "execution_count": 354,
   "id": "57d0fb66",
   "metadata": {},
   "outputs": [],
   "source": [
    "def find_common_strings(string_list, input_string):\n",
    "    common_strings = []\n",
    "    for s in string_list:\n",
    "        if set(s).intersection(set(input_string)) == set(s):\n",
    "            common_strings.append(s)\n",
    "    return common_strings"
   ]
  },
  {
   "cell_type": "code",
   "execution_count": 397,
   "id": "f5950982",
   "metadata": {},
   "outputs": [],
   "source": [
    "def find_common_strings(string_list, input_string):\n",
    "    common_strings = []\n",
    "    for i, s in enumerate(string_list):\n",
    "        if set(s).intersection(set(input_string)) == set(s):\n",
    "            common_strings.append((i, s))\n",
    "            \n",
    "    pos_dic = {}\n",
    "    for i, string in common_strings:\n",
    "        string_split = string.split(' ')\n",
    "        input_split = input_string.split(' ')\n",
    "        common = []\n",
    "        for word in input_split:\n",
    "            if word in string_split:\n",
    "                common.append(word)\n",
    "        pos_dic[i] = common\n",
    "        \n",
    "    \n",
    "    \n",
    "    \n",
    "    return common_strings, pos_dic"
   ]
  },
  {
   "cell_type": "code",
   "execution_count": 361,
   "id": "af4b2c8f",
   "metadata": {},
   "outputs": [
    {
     "data": {
      "text/plain": [
       "'solar grid run computer radio fridge entire yard big enough recharge'"
      ]
     },
     "execution_count": 361,
     "metadata": {},
     "output_type": "execute_result"
    }
   ],
   "source": [
    "test_string = (' ').join(df_topic_sents_keywords[0].iloc[0])\n",
    "test_string"
   ]
  },
  {
   "cell_type": "code",
   "execution_count": 398,
   "id": "f1137846",
   "metadata": {},
   "outputs": [],
   "source": [
    "big_list, ind_dict = find_common_strings(full['preprep'], test_string)"
   ]
  },
  {
   "cell_type": "code",
   "execution_count": 399,
   "id": "60f0a168",
   "metadata": {},
   "outputs": [
    {
     "name": "stdout",
     "output_type": "stream",
     "text": [
      "7460 7460\n"
     ]
    }
   ],
   "source": [
    "print(len(ind_dict), len(big_list))"
   ]
  },
  {
   "cell_type": "code",
   "execution_count": 400,
   "id": "0c84548c",
   "metadata": {},
   "outputs": [],
   "source": [
    "potentials = []\n",
    "for key, value in ind_dict.items():\n",
    "    if value != []:\n",
    "        potentials.append(key)"
   ]
  },
  {
   "cell_type": "code",
   "execution_count": 401,
   "id": "62ec48a1",
   "metadata": {},
   "outputs": [
    {
     "name": "stdout",
     "output_type": "stream",
     "text": [
      "i guess tesla had a good mediocre run\n",
      "oil is the big money for many months to come\n",
      "hey  any plan about solar panels in belgium europe\n",
      "this could be big for tesla\n",
      "one day imma post me my tesla my big ole house her left thigh and log out\n",
      "see if you can get some discounts on a solar array\n",
      "so yeah a tesla running off fossil fuels at the grid is still better than a petrol car\n",
      "other than it is correct tesla is a terrible company run by terrible people\n",
      "big time to the point that i am considering a ford mustang instead of a tesla\n",
      "elon big mad\n",
      "tesla the republican run car company\n",
      "though tesla has not fallen enough yet\n",
      "fair enough\n",
      "run ruby and tesla laughing\n",
      "cars need a solar cell on roof\n",
      "put solar panels on all tesla cars during day to help charge batteries in them\n",
      "and the irony that tesla cars run on dc rather than ac is not lost\n",
      "then you better run out and buy a tesla stat\n",
      "sigh i already did tesla solar roof tiles and a house battery\n",
      "first heat pumps and an electric thermal storage unit then the solar panels\n",
      "are those tesla solar panels\n",
      "tesla had a good run\n",
      "is it possible to get a tesla solar system in south africa\n",
      "electric cars are a big fail\n",
      "right electric cars or solar panels\n",
      "is it really safe to ship thousands of electric cars on big ships\n",
      "use hybrid and electric cars and solar panels\n",
      "because electric cars run off hope\n",
      "electric cars are good but not enough\n",
      "electric cars and solar charging stations in ghana soon\n",
      "is it safe to ship thousands of electric cars on big ships\n",
      "so true big push for electric cars stupid\n",
      "put solar panels on all tesla cars during day to help charge batteries in them\n",
      "put solar panels on all tesla cars during day to help charge batteries in them\n",
      "has the best solar cellscorrect\n",
      "hey  any plan about solar panels in belgium europe\n",
      "see if you can get some discounts on a solar array\n",
      "cars need a solar cell on roof\n",
      "omg dr on solar\n",
      "solar energy is deflationary is the solution\n",
      "put solar panels on all tesla cars during day to help charge batteries in them\n",
      "tesla solar panels are a great idea\n",
      "lol the tesla solar roof is the biggest failure and probably cost residential solar installers thousands of sales\n",
      "solar yes also biomass energy is helping bring energy to rural africa and restoring habitat for the cheetah and its prey\n",
      "cars need a solar cell on roof\n",
      "put solar panels on all tesla cars during day to help charge batteries in them\n",
      "and the irony that tesla cars run on dc rather than ac is not lost\n",
      "has the best solar cellscorrect\n",
      "hey  any plan about solar panels in belgium europe\n",
      "see if you can get some discounts on a solar array\n",
      "cars need a solar cell on roof\n",
      "omg dr on solar\n",
      "solar energy is deflationary is the solution\n",
      "put solar panels on all tesla cars during day to help charge batteries in them\n",
      "tesla solar panels are a great idea\n",
      "lol the tesla solar roof is the biggest failure and probably cost residential solar installers thousands of sales\n",
      "solar yes also biomass energy is helping bring energy to rural africa and restoring habitat for the cheetah and its prey\n",
      "there are other companies besides tesla that are creating solar products and electric cars\n",
      "cars need a solar cell on roof\n",
      "put solar panels on all tesla cars during day to help charge batteries in them\n",
      "and the irony that tesla cars run on dc rather than ac is not lost\n",
      "tesla using diesel motors to recharge batteries\n",
      "someone is shorting tesla big time\n",
      "solar panels are a yes but nothing from tesla\n",
      "let it run\n",
      "the bs is about to be called big time\n",
      "send me a source of this being a particularly big issue at tesla\n",
      "you run tesla and go to space\n",
      "tesla is neither the only nor the best model of electric caror solar panel\n",
      "time enough to get a boney time enough to offer pony\n",
      "my office processes building permits for solar installations tesla is getting their head handed to them by sun run at the moment\n",
      "this isnsome big brain energy right here\n",
      "could they not run out of gas in a regular car\n",
      "smear campaign by big oil haha\n",
      "time enough to get a boney time enough to offer pony\n",
      "this isnsome big brain energy right here\n",
      "smear campaign by big oil haha\n",
      "time enough to get a boney time enough to offer pony\n",
      "my office processes building permits for solar installations tesla is getting their head handed to them by sun run at the moment\n",
      "big presumption\n",
      "hey anyone here old enough to remember the ford pinto\n",
      "their solar panels cause fires\n",
      "you spin doctors should run tesla pr\n",
      "one of the crappyest solar panels out there\n",
      "tesla man got big big energy\n",
      "big one could become a class action too bye bye\n",
      "i need tesla boy to run me my account\n",
      "fair enough\n",
      "go big or go home\n",
      "this isnsome big brain energy right here\n",
      "smear campaign by big oil haha\n",
      "time enough to get a boney time enough to offer pony\n",
      "my office processes building permits for solar installations tesla is getting their head handed to them by sun run at the moment\n",
      "big presumption\n",
      "hey anyone here old enough to remember the ford pinto\n",
      "their solar panels cause fires\n",
      "there are other companies besides tesla that are creating solar products and electric cars\n",
      "cars need a solar cell on roof\n",
      "put solar panels on all tesla cars during day to help charge batteries in them\n",
      "go big or go home\n",
      "this isnsome big brain energy right here\n",
      "smear campaign by big oil haha\n",
      "time enough to get a boney time enough to offer pony\n",
      "my office processes building permits for solar installations tesla is getting their head handed to them by sun run at the moment\n",
      "big presumption\n",
      "hey anyone here old enough to remember the ford pinto\n",
      "their solar panels cause fires\n",
      "you spin doctors should run tesla pr\n",
      "someone is shorting tesla big time\n",
      "solar panels are a yes but nothing from tesla\n",
      "let it run\n",
      "the bs is about to be called big time\n"
     ]
    }
   ],
   "source": [
    "for i in potentials:\n",
    "    print(full['preprep'].iloc[i])"
   ]
  },
  {
   "cell_type": "code",
   "execution_count": null,
   "id": "68daf42b",
   "metadata": {},
   "outputs": [],
   "source": []
  },
  {
   "cell_type": "code",
   "execution_count": null,
   "id": "6c24c8a7",
   "metadata": {},
   "outputs": [],
   "source": []
  },
  {
   "cell_type": "code",
   "execution_count": 352,
   "id": "2f6d1dbf",
   "metadata": {},
   "outputs": [
    {
     "data": {
      "text/plain": [
       "8"
      ]
     },
     "execution_count": 352,
     "metadata": {},
     "output_type": "execute_result"
    }
   ],
   "source": [
    "test_string[::-1].find(' ')"
   ]
  },
  {
   "cell_type": "code",
   "execution_count": 347,
   "id": "4edd7ee0",
   "metadata": {},
   "outputs": [],
   "source": [
    "for s in full['preprep']:\n",
    "    "
   ]
  },
  {
   "cell_type": "code",
   "execution_count": 353,
   "id": "2c5e5e8c",
   "metadata": {},
   "outputs": [],
   "source": [
    "# string_test = find_common_strings(lem_noNone,test_string )\n",
    "# string_test"
   ]
  },
  {
   "cell_type": "markdown",
   "id": "d1aa9278",
   "metadata": {},
   "source": [
    "# ========================================================================================================================================================================================================================================================================================================================================================================"
   ]
  },
  {
   "cell_type": "markdown",
   "id": "ae55c78b",
   "metadata": {},
   "source": [
    "# SCRAP"
   ]
  },
  {
   "cell_type": "markdown",
   "id": "2635bea2",
   "metadata": {},
   "source": [
    "# ========================================================================================================================================================================================================================================================================================================================================================================"
   ]
  },
  {
   "cell_type": "code",
   "execution_count": null,
   "id": "5fa5e729",
   "metadata": {},
   "outputs": [],
   "source": [
    "for i in range(len(doc_set)):\n",
    "    print(ldamodel[corpus[i]])"
   ]
  },
  {
   "cell_type": "code",
   "execution_count": null,
   "id": "ec277e1a",
   "metadata": {},
   "outputs": [],
   "source": []
  },
  {
   "cell_type": "code",
   "execution_count": null,
   "id": "d5308d92",
   "metadata": {},
   "outputs": [],
   "source": [
    "vectorizer = CountVectorizer()\n",
    "data_vectorized = vectorizer.fit_transform(df.drop('tokens'))\n",
    "\n",
    "\n",
    "\n",
    "# CV Param\n",
    "search_params = {'n_components': [5, 10, 15, 20, 25, 30], 'learning_decay': [.5, .7, .9], 'batch_size':[128, 256]}\n",
    "\n",
    "# Init Model\n",
    "lda = LatentDirichletAllocation()\n",
    "\n",
    "# Init Grid Search Class\n",
    "model = GridSearchCV(lda, cv = 5, param_grid=search_params, n_jobs = -1)\n",
    "\n",
    "\n",
    "\n",
    "# Grid Search\n",
    "model.fit(data_vectorized)\n",
    "\n",
    "# Best Model\n",
    "best_lda_model = model.best_estimator_\n",
    "\n",
    "# Model Parameters\n",
    "print(\"Best Model's Params: \", model.best_params_)\n",
    "\n",
    "# Log Likelihood Score\n",
    "print(\"Best Log Likelihood Score: \", model.best_score_)\n",
    "\n",
    "# Perplexity\n",
    "print(\"Model Perplexity: \", best_lda_model.perplexity(data_vectorized))\n",
    "\n",
    "\n",
    "best_lda_model"
   ]
  },
  {
   "cell_type": "code",
   "execution_count": null,
   "id": "af47192f",
   "metadata": {},
   "outputs": [],
   "source": [
    "GridSearchCV(cv=None, error_score='raise',\n",
    "             estimator=LatentDirichletAllocation(batch_size=128, \n",
    "                                                 doc_topic_prior=None,\n",
    "                                                 evaluate_every=-1, \n",
    "                                                 learning_decay=0.7, \n",
    "                                                 learning_method=None,\n",
    "                                                 learning_offset=10.0, \n",
    "                                                 max_doc_update_iter=100, \n",
    "                                                 max_iter=10,\n",
    "                                                 mean_change_tol=0.001, \n",
    "                                                 n_components=10, \n",
    "                                                 n_jobs=1,\n",
    "                                                 perp_tol=0.1, \n",
    "                                                 random_state=None,\n",
    "                                                 topic_word_prior=None, \n",
    "                                                 total_samples=1000000.0, \n",
    "                                                 verbose=0),\n",
    "             n_jobs=-2,\n",
    "             param_grid={'n_topics': [10, 15, 20, 30], \n",
    "                         'learning_decay': [0.5, 0.7, 0.9]},\n",
    "             pre_dispatch='2*n_jobs', refit=True, return_train_score='warn',\n",
    "             scoring=None, verbose=0)"
   ]
  }
 ],
 "metadata": {
  "kernelspec": {
   "display_name": "broke-the-other",
   "language": "python",
   "name": "broke-the-other"
  },
  "language_info": {
   "codemirror_mode": {
    "name": "ipython",
    "version": 3
   },
   "file_extension": ".py",
   "mimetype": "text/x-python",
   "name": "python",
   "nbconvert_exporter": "python",
   "pygments_lexer": "ipython3",
   "version": "3.10.4"
  }
 },
 "nbformat": 4,
 "nbformat_minor": 5
}
