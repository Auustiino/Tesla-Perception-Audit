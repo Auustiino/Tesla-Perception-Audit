{
 "cells": [
  {
   "cell_type": "markdown",
   "id": "a50c4794",
   "metadata": {},
   "source": [
    "# Libraries"
   ]
  },
  {
   "cell_type": "code",
   "execution_count": null,
   "id": "aa2ce17e",
   "metadata": {
    "scrolled": true
   },
   "outputs": [],
   "source": [
    "import tqdm\n",
    "import spacy\n",
    "import numpy as np\n",
    "import regex as re\n",
    "import pandas as pd\n",
    "import seaborn as sns\n",
    "\n",
    "import pyLDAvis\n",
    "import pyLDAvis.gensim_models as gensim_models\n",
    "import pyLDAvis.gensim_models as gensimvis\n",
    "\n",
    "import gensim\n",
    "# from gensim.models import wrappers\n",
    "# from gensim.models.wrappers import LdaMallet\n",
    "import gensim.corpora as corpora\n",
    "from gensim.corpora import dictionary\n",
    "from gensim.utils import simple_preprocess\n",
    "from gensim.models.ldamulticore import LdaMulticore\n",
    "from gensim.models.coherencemodel import CoherenceModel\n",
    "\n",
    "import nltk\n",
    "from nltk import pos_tag\n",
    "from nltk.corpus import stopwords\n",
    "from nltk.corpus import wordnet\n",
    "from nltk.tokenize import word_tokenize\n",
    "from nltk.stem.porter import PorterStemmer\n",
    "from nltk.stem.wordnet import WordNetLemmatizer\n",
    "\n",
    "from vaderSentiment.vaderSentiment import SentimentIntensityAnalyzer\n",
    "\n",
    "import warnings\n",
    "warnings.filterwarnings(\"ignore\", category=DeprecationWarning) \n",
    "warnings.filterwarnings(\"ignore\", category=FutureWarning)\n",
    "\n",
    "\n",
    "# Think these can be removed\n",
    "from sklearn.feature_extraction.text import CountVectorizer, TfidfVectorizer\n",
    "from sklearn.model_selection import GridSearchCV\n",
    "from sklearn.decomposition import LatentDirichletAllocation, TruncatedSVD"
   ]
  },
  {
   "cell_type": "markdown",
   "id": "c9cd69b8",
   "metadata": {},
   "source": [
    "# Importing -- Fixing columns"
   ]
  },
  {
   "cell_type": "code",
   "execution_count": 3,
   "id": "09b8b307",
   "metadata": {},
   "outputs": [],
   "source": [
    "full = pd.read_csv('Data/Data-Cleaned/238k-Uncleaned')"
   ]
  },
  {
   "cell_type": "code",
   "execution_count": 4,
   "id": "6bbd51c2",
   "metadata": {},
   "outputs": [],
   "source": [
    "# Renaming tweets column, dropping unnamed column, making tweets strings\n",
    "\n",
    "full['tweets'] = full['0']\n",
    "full.reset_index(inplace = True)\n",
    "full = full.drop(columns = ['0', 'Unnamed: 0', 'index'])\n",
    "# eh\n",
    "full.drop_duplicates(inplace = True, ignore_index = True)"
   ]
  },
  {
   "cell_type": "markdown",
   "id": "67a87f9a",
   "metadata": {},
   "source": [
    "# Preprocessing ---- will need to test different preprocessing later"
   ]
  },
  {
   "cell_type": "code",
   "execution_count": 7,
   "id": "f2ffa9d6",
   "metadata": {},
   "outputs": [],
   "source": [
    "# Function for Gensim simple preprocessor --- \n",
    "def sent_to_words(sentences):\n",
    "    for sentence in sentences:\n",
    "        yield(gensim.utils.simple_preprocess(str(sentence), deacc=True))  # deacc=True removes punctuations\n",
    "        \n",
    "# STOPWORDS ==========================================\n",
    "def remove_stopwords(texts):\n",
    "    return [[word for word in simple_preprocess(str(doc)) if word not in stop_words]for doc in texts]\n",
    "# Stop Words list -- Can be Edited\n",
    "stop_words = stopwords.words('english')\n",
    "stop_words.extend(['tesla', 'c,', 'x', 't', 'p', 'amp', 'car'])\n",
    "wnl = WordNetLemmatizer()\n",
    "\n",
    "# BIGRAMS===============================================\n",
    "def make_bigrams(texts):\n",
    "    return bigram_mod[texts]\n",
    "\n",
    "# TRIGRAMS =============================================\n",
    "def make_trigrams(texts):\n",
    "    return trigram_mod[bigram_mod[texts]]\n",
    "\n",
    "# LEMMATIZING ==========================================\n",
    "def pos_tagger(nltk_tag):\n",
    "    if nltk_tag.startswith('J'):\n",
    "        return wordnet.ADJ\n",
    "    elif nltk_tag.startswith('V'):\n",
    "        return wordnet.VERB\n",
    "    elif nltk_tag.startswith('N'):\n",
    "        return wordnet.NOUN\n",
    "    elif nltk_tag.startswith('R'):\n",
    "        return wordnet.ADV\n",
    "    else:         \n",
    "        return None    \n",
    "def lemmatize_texts(tweet):\n",
    "     for i in tweet:\n",
    "        word = (map(lambda x: (x[0], pos_tagger(x[1])), pos_tag(tweet))) \n",
    "        word_lem = \" \".join([wnl.lemmatize(x[0], x[1]) for x in word if x[1] is not None])\n",
    "        return word_lem"
   ]
  },
  {
   "cell_type": "code",
   "execution_count": 8,
   "id": "316f7d22",
   "metadata": {},
   "outputs": [],
   "source": [
    "# remove punctuation and lowercase all\n",
    "full['preprep'] = full['tweets'].map(lambda x: re.sub('[,\\.!?]', '', x.lower()))\n",
    "\n",
    "#  Removing @ handles, links-- strip whitespace breaks and tabs\n",
    "full['preprep'] = full['preprep'].map(lambda x: re.sub(r\"@\\w+|http\\S+\", \"\", x).strip().replace(\"\\r\", \"\").replace(\"\\n\", \"\").replace(\"\\t\", \"\"))"
   ]
  },
  {
   "cell_type": "code",
   "execution_count": 9,
   "id": "1bd33825",
   "metadata": {
    "scrolled": true
   },
   "outputs": [],
   "source": [
    "# full"
   ]
  },
  {
   "cell_type": "code",
   "execution_count": 10,
   "id": "426e38af",
   "metadata": {},
   "outputs": [],
   "source": [
    "# Creates a list of all tweets in full.preprep\n",
    "data = full.preprep.values.tolist()\n",
    "\n",
    "# Uses gensims simple preprocessor on all tweets in list\n",
    "# Ouputs list of lists of tokenized tweets\n",
    "data_words = list(sent_to_words(data))"
   ]
  },
  {
   "cell_type": "code",
   "execution_count": 11,
   "id": "2ef9e330",
   "metadata": {},
   "outputs": [],
   "source": [
    "# Bi / TriGrams\n",
    "bigram = gensim.models.Phrases(data_words, min_count=3, threshold=75) # higher threshold fewer phrases.\n",
    "bigram_mod = gensim.models.phrases.Phraser(bigram)\n",
    "trigram = gensim.models.Phrases(bigram[data_words], threshold=60)\n",
    "trigram_mod = gensim.models.phrases.Phraser(trigram)"
   ]
  },
  {
   "cell_type": "code",
   "execution_count": 12,
   "id": "3722a994",
   "metadata": {},
   "outputs": [],
   "source": [
    "# Remove Stop Words\n",
    "data_words_nostops = remove_stopwords(data_words)\n",
    "# Form Bigrams\n",
    "data_words_bigrams = make_bigrams(data_words_nostops)\n",
    "# lemmatize\n",
    "data_lemmatized = [lemmatize_texts(tweet) for tweet in data_words_bigrams]"
   ]
  },
  {
   "cell_type": "code",
   "execution_count": 13,
   "id": "0eb4f397",
   "metadata": {},
   "outputs": [
    {
     "name": "stdout",
     "output_type": "stream",
     "text": [
      "126510 126510\n"
     ]
    }
   ],
   "source": [
    "print(len(data_words), len(data_lemmatized))"
   ]
  },
  {
   "cell_type": "code",
   "execution_count": 14,
   "id": "a3eefe0c",
   "metadata": {},
   "outputs": [
    {
     "data": {
      "text/plain": [
       "330"
      ]
     },
     "execution_count": 14,
     "metadata": {},
     "output_type": "execute_result"
    }
   ],
   "source": [
    "# Getting indices of all nones\n",
    "indices_of_nones = [(i) for i,x  in enumerate(data_lemmatized) if x == None]\n",
    "len(indices_of_nones)"
   ]
  },
  {
   "cell_type": "code",
   "execution_count": 15,
   "id": "9488058d",
   "metadata": {},
   "outputs": [
    {
     "data": {
      "text/plain": [
       "126180"
      ]
     },
     "execution_count": 15,
     "metadata": {},
     "output_type": "execute_result"
    }
   ],
   "source": [
    "# Dropping None values using indices aquired above\n",
    "lem_drop_None = [(i, x) for (i, x) in enumerate(data_lemmatized) if i not in indices_of_nones]\n",
    "len(lem_drop_None)"
   ]
  },
  {
   "cell_type": "code",
   "execution_count": 16,
   "id": "c54f8449",
   "metadata": {},
   "outputs": [
    {
     "data": {
      "text/plain": [
       "33324"
      ]
     },
     "execution_count": 16,
     "metadata": {},
     "output_type": "execute_result"
    }
   ],
   "source": [
    "# Getting indices of all short tweets\n",
    "indices_short_tweets = [i for (i,x) in lem_drop_None if (len(x.split(' ')) <= 5)]\n",
    "len(indices_short_tweets)"
   ]
  },
  {
   "cell_type": "code",
   "execution_count": 17,
   "id": "66054162",
   "metadata": {},
   "outputs": [
    {
     "data": {
      "text/plain": [
       "92856"
      ]
     },
     "execution_count": 17,
     "metadata": {},
     "output_type": "execute_result"
    }
   ],
   "source": [
    "lem_noShort_noNone = [(i, x) for (i, x) in lem_drop_None if i not in indices_short_tweets]\n",
    "len(lem_noShort_noNone)"
   ]
  },
  {
   "cell_type": "code",
   "execution_count": 18,
   "id": "1489ee44",
   "metadata": {},
   "outputs": [
    {
     "data": {
      "text/plain": [
       "(12588,\n",
       " 'stock price_target slash wedbush_ives china epic_disaster twitter circus_show teslainc danives wedbush circusshow fintwit')"
      ]
     },
     "execution_count": 18,
     "metadata": {},
     "output_type": "execute_result"
    }
   ],
   "source": [
    "lem_noShort_noNone[8654]"
   ]
  },
  {
   "cell_type": "code",
   "execution_count": 19,
   "id": "4917c141",
   "metadata": {},
   "outputs": [
    {
     "data": {
      "text/plain": [
       "\"tesla stock price target slashed by wedbush's ives on china's 'epic disaster' twitter 'circus show' #teslainc #danives #wedbush #circusshow #fintwit\""
      ]
     },
     "execution_count": 19,
     "metadata": {},
     "output_type": "execute_result"
    }
   ],
   "source": [
    "full.preprep.iloc[12588]"
   ]
  },
  {
   "cell_type": "markdown",
   "id": "08138098",
   "metadata": {},
   "source": [
    "## Find missing values after making min tweet length 4 words maybe ============================="
   ]
  },
  {
   "cell_type": "code",
   "execution_count": 20,
   "id": "3e0f01d7",
   "metadata": {},
   "outputs": [],
   "source": [
    "lem_noNone = [x.split() for (i, x) in lem_noShort_noNone]"
   ]
  },
  {
   "cell_type": "code",
   "execution_count": 21,
   "id": "62d8308c",
   "metadata": {},
   "outputs": [],
   "source": [
    "# lem_noNone"
   ]
  },
  {
   "cell_type": "code",
   "execution_count": 22,
   "id": "7ba69e76",
   "metadata": {
    "scrolled": true
   },
   "outputs": [
    {
     "name": "stdout",
     "output_type": "stream",
     "text": [
      "57412\n"
     ]
    }
   ],
   "source": [
    "id2word = corpora.Dictionary(lem_noNone)\n",
    "print(len(id2word)) "
   ]
  },
  {
   "cell_type": "code",
   "execution_count": 23,
   "id": "76b5e414",
   "metadata": {},
   "outputs": [
    {
     "name": "stdout",
     "output_type": "stream",
     "text": [
      "12387\n"
     ]
    }
   ],
   "source": [
    "# This can be Tuned --- and probably should be\n",
    "id2word.filter_extremes(no_below=6, no_above=.95)\n",
    "print(len(id2word))"
   ]
  },
  {
   "cell_type": "code",
   "execution_count": 24,
   "id": "e8f0a969",
   "metadata": {},
   "outputs": [],
   "source": [
    "corpus = [id2word.doc2bow(d) for d in lem_noNone]"
   ]
  },
  {
   "cell_type": "code",
   "execution_count": 25,
   "id": "d3d12f3b",
   "metadata": {},
   "outputs": [
    {
     "name": "stdout",
     "output_type": "stream",
     "text": [
      "------ Topic 1 ------\n",
      "musk elon twitter say car ev buy electric crash get\n",
      "\n",
      "------ Topic 2 ------\n",
      "get people know think say door company find see elon\n",
      "\n",
      "------ Topic 3 ------\n",
      "car make ev go year battery model get electric company\n",
      "\n",
      "------ Topic 4 ------\n",
      "stock musk elon twitter buy go price tsla share market\n",
      "\n",
      "------ Topic 5 ------\n",
      "car electric get buy drive people want make know think\n",
      "\n"
     ]
    }
   ],
   "source": [
    "# Instantiating a Base LDA model\n",
    "base_model = LdaMulticore(corpus=corpus,\n",
    "                          num_topics=5,\n",
    "                          id2word=id2word,\n",
    "                          workers=7,\n",
    "                          passes=5,\n",
    "                          chunksize=2500,\n",
    "                          random_state = 42)\n",
    "words = [re.findall(r'\"([^\"]*)\"',t[1]) for t in base_model.print_topics()]\n",
    "topics = [' '.join(t[0:10]) for t in words]\n",
    "\n",
    "for id, t in enumerate(topics): \n",
    "    print(f\"------ Topic {id + 1} ------\")\n",
    "    print(t, end=\"\\n\\n\")"
   ]
  },
  {
   "cell_type": "code",
   "execution_count": 26,
   "id": "f7f9a360",
   "metadata": {},
   "outputs": [
    {
     "name": "stdout",
     "output_type": "stream",
     "text": [
      "\n",
      "Coherence Score:  0.291523709329812 \n",
      "\n",
      "Perplexity:  -7.661196289201235\n"
     ]
    }
   ],
   "source": [
    "# a measure of how good the model is. lower the better\n",
    "base_perplexity = base_model.log_perplexity(corpus)\n",
    "\n",
    "# Compute Coherence Score\n",
    "coherence_model = CoherenceModel(model=base_model, texts=lem_noNone, \n",
    "                                   dictionary=id2word, coherence='c_v')\n",
    "\n",
    "coherence_lda_model_base = coherence_model.get_coherence()\n",
    "print('\\nCoherence Score: ', coherence_lda_model_base, '\\n\\nPerplexity: ', base_perplexity)"
   ]
  },
  {
   "cell_type": "code",
   "execution_count": 27,
   "id": "4837accf",
   "metadata": {},
   "outputs": [
    {
     "name": "stderr",
     "output_type": "stream",
     "text": [
      "/Users/austinboring/opt/anaconda3/envs/broke-the-other/lib/python3.10/site-packages/past/builtins/misc.py:45: DeprecationWarning: the imp module is deprecated in favour of importlib and slated for removal in Python 3.12; see the module's documentation for alternative uses\n",
      "  from imp import reload\n",
      "/Users/austinboring/opt/anaconda3/envs/broke-the-other/lib/python3.10/site-packages/past/builtins/misc.py:45: DeprecationWarning: the imp module is deprecated in favour of importlib and slated for removal in Python 3.12; see the module's documentation for alternative uses\n",
      "  from imp import reload\n",
      "/Users/austinboring/opt/anaconda3/envs/broke-the-other/lib/python3.10/site-packages/past/builtins/misc.py:45: DeprecationWarning: the imp module is deprecated in favour of importlib and slated for removal in Python 3.12; see the module's documentation for alternative uses\n",
      "  from imp import reload\n",
      "/Users/austinboring/opt/anaconda3/envs/broke-the-other/lib/python3.10/site-packages/past/builtins/misc.py:45: DeprecationWarning: the imp module is deprecated in favour of importlib and slated for removal in Python 3.12; see the module's documentation for alternative uses\n",
      "  from imp import reload\n",
      "/Users/austinboring/opt/anaconda3/envs/broke-the-other/lib/python3.10/site-packages/past/builtins/misc.py:45: DeprecationWarning: the imp module is deprecated in favour of importlib and slated for removal in Python 3.12; see the module's documentation for alternative uses\n",
      "  from imp import reload\n",
      "/Users/austinboring/opt/anaconda3/envs/broke-the-other/lib/python3.10/site-packages/past/builtins/misc.py:45: DeprecationWarning: the imp module is deprecated in favour of importlib and slated for removal in Python 3.12; see the module's documentation for alternative uses\n",
      "  from imp import reload\n",
      "/Users/austinboring/opt/anaconda3/envs/broke-the-other/lib/python3.10/site-packages/past/builtins/misc.py:45: DeprecationWarning: the imp module is deprecated in favour of importlib and slated for removal in Python 3.12; see the module's documentation for alternative uses\n",
      "  from imp import reload\n",
      "/Users/austinboring/opt/anaconda3/envs/broke-the-other/lib/python3.10/site-packages/past/builtins/misc.py:45: DeprecationWarning: the imp module is deprecated in favour of importlib and slated for removal in Python 3.12; see the module's documentation for alternative uses\n",
      "  from imp import reload\n"
     ]
    },
    {
     "data": {
      "text/html": [
       "\n",
       "<link rel=\"stylesheet\" type=\"text/css\" href=\"https://cdn.jsdelivr.net/gh/bmabey/pyLDAvis@3.3.1/pyLDAvis/js/ldavis.v1.0.0.css\">\n",
       "\n",
       "\n",
       "<div id=\"ldavis_el5733082490450887161033184\"></div>\n",
       "<script type=\"text/javascript\">\n",
       "\n",
       "var ldavis_el5733082490450887161033184_data = {\"mdsDat\": {\"x\": [-0.15092761023955606, 0.09868448911178841, 0.04277591079950233, 0.09102896339901971, -0.08156175307075428], \"y\": [0.039702503670867494, -0.026240975610007218, 0.1336751692721919, -0.052940407270288155, -0.09419629006276405], \"topics\": [1, 2, 3, 4, 5], \"cluster\": [1, 1, 1, 1, 1], \"Freq\": [24.279346949024802, 23.036273314253513, 19.897816497769462, 19.029320710296936, 13.757242528655283]}, \"tinfo\": {\"Term\": [\"stock\", \"electric\", \"car\", \"musk\", \"elon\", \"twitter\", \"ev\", \"drive\", \"battery\", \"spot\", \"door\", \"share\", \"say\", \"gas\", \"tsla\", \"price\", \"crash\", \"charge\", \"market\", \"vehicle\", \"deal\", \"model\", \"factory\", \"find\", \"sell\", \"year\", \"free\", \"buy\", \"enter\", \"value\", \"states_teslaradar\", \"unitedstates_modely\", \"pixelpixel\", \"virginia_united\", \"aura_dims\", \"florida_united\", \"california_united\", \"model_dual\", \"unitedstates_model\", \"kowa_oa\", \"blasts_biden\", \"teslaradar\", \"maryland_united\", \"rickman\", \"netherlands\", \"bitcoin_dogecoin\", \"streetfighters\", \"major_partnerships\", \"unitedstates\", \"administration_democrats\", \"microsoft_apple\", \"pixelpixel_nailed\", \"business_operations\", \"vinci_launching\", \"disney_apple\", \"hire_hardcore\", \"plunge\", \"yet_unrecognizable\", \"ceo_fintech\", \"ray_dalio\", \"first_player\", \"spot\", \"flight_attendant\", \"overvalue\", \"highlight\", \"bear_market\", \"stock\", \"model_standard\", \"buyback\", \"bill_gates\", \"stockmarket\", \"anyone_else\", \"nasdaq\", \"investor\", \"value\", \"dip\", \"trading\", \"drop\", \"fall\", \"tsla\", \"share\", \"motor\", \"cash\", \"loan\", \"price\", \"musk\", \"elon\", \"twitter\", \"short\", \"invest\", \"money\", \"lose\", \"market\", \"sell\", \"go\", \"tweet\", \"buy\", \"time\", \"first\", \"company\", \"back\", \"ceo\", \"deal\", \"make\", \"get\", \"year\", \"think\", \"know\", \"pay\", \"spacex\", \"say\", \"people\", \"hard_hitting\", \"company_insiders\", \"manslaughter_charges\", \"faces_vehicular\", \"defect\", \"canada_teslaradar\", \"british_columbia\", \"audi\", \"canada\", \"web_tg\", \"rewards_busd\", \"burn_burned\", \"mtesla_new\", \"token_metatesla\", \"contract_slippage\", \"battery_swap\", \"diesel_generators\", \"gets_worse\", \"ford_pinto\", \"kw\", \"spontaneously\", \"msrp\", \"flammable\", \"override\", \"ct\", \"cell\", \"bolsonaro\", \"bay\", \"compute\", \"doc\", \"door_handle\", \"volvo\", \"panasonic\", \"mach\", \"collision\", \"blackberry\", \"hyundai\", \"chevy\", \"vw\", \"approach\", \"scale\", \"toyota\", \"software\", \"burst\", \"battery\", \"honda\", \"mercedes\", \"manufacturer\", \"quality\", \"interior\", \"roof\", \"range\", \"indonesia\", \"supercharger\", \"production\", \"bmw\", \"ford\", \"model\", \"produce\", \"ev\", \"fsd\", \"ice\", \"supply\", \"year\", \"competition\", \"cybertruck\", \"safety\", \"problem\", \"evs\", \"make\", \"charger\", \"car\", \"truck\", \"many\", \"new\", \"well\", \"vehicle\", \"go\", \"build\", \"issue\", \"fire\", \"recall\", \"use\", \"look\", \"see\", \"drive\", \"world\", \"good\", \"need\", \"company\", \"come\", \"get\", \"electric\", \"much\", \"time\", \"sell\", \"still\", \"even\", \"market\", \"buy\", \"think\", \"entered_monthly\", \"month_prize\", \"peugeot_worth\", \"t\", \"information_including\", \"sunra_miku\", \"super_worth\", \"st_may\", \"luxury_watches\", \"bitcoinpizzaday_shillme\", \"cryptos_nftcommumity\", \"daily_nftrelease\", \"nftartists_airdrops\", \"nftcommunity_nftlaunch\", \"profit_playtoearn\", \"whitelist_crypto\", \"youtube_video\", \"c\", \"escape\", \"pwn\", \"spritual\", \"arabian_nfts\", \"dubai_lamborghini\", \"massive_potentials\", \"project_based\", \"urus\", \"vip_eventscheck\", \"well_organized\", \"artistically_inspired\", \"electricity_neurons\", \"prize\", \"enter\", \"microsoft_ubuntu\", \"construction_worker\", \"door\", \"window\", \"shibainu_doge\", \"pitbull_eth\", \"binance_babydoge\", \"coinbase_cryptocurrency\", \"kishu_nft\", \"manual_door\", \"defend\", \"video\", \"free\", \"edison\", \"find\", \"luna_crypto\", \"man\", \"neuralink\", \"information\", \"manual_release\", \"nikola\", \"button\", \"open\", \"trap\", \"link\", \"guy\", \"story\", \"read\", \"fire\", \"never\", \"post\", \"people\", \"tell\", \"know\", \"see\", \"work\", \"think\", \"world\", \"get\", \"say\", \"company\", \"even\", \"right\", \"use\", \"buy\", \"elon\", \"also\", \"go\", \"thing\", \"time\", \"want\", \"way\", \"good\", \"make\", \"harassment_claim\", \"shibaswap_uniswap\", \"asking_owners\", \"away_win\", \"entry_purchase\", \"min_vxl\", \"voxel_ama\", \"tuesday_th\", \"pm_pst\", \"june_vxl\", \"initial_btc\", \"tsla_winnings\", \"estimating\", \"btc_holdings\", \"btcusd\", \"h\", \"texas_heatwave\", \"investment_realized\", \"uniswap\", \"giveaway_shibaswap\", \"safely\", \"gear_jeremy\", \"powerwall\", \"enterprise_value\", \"orphan\", \"hs\", \"technological\", \"facing_lower\", \"billionaire_betting\", \"opensea\", \"electricity\", \"coal\", \"gas_prices\", \"power_grid\", \"catches_fire\", \"must_stand\", \"scooter\", \"gas\", \"green\", \"electric\", \"energy\", \"bike\", \"afford\", \"fossil_fuel\", \"grid\", \"car\", \"average\", \"drive\", \"power\", \"solar\", \"oil\", \"home\", \"charge\", \"american\", \"liberal\", \"america\", \"help\", \"get\", \"buy\", \"want\", \"biden\", \"people\", \"vehicle\", \"need\", \"know\", \"driver\", \"think\", \"make\", \"good\", \"new\", \"use\", \"also\", \"thing\", \"go\", \"even\", \"take\", \"price\", \"pay\", \"lever\", \"stor_via\", \"spacex_grand\", \"bot_problem\", \"tortures_animals\", \"sadistic_psychopath\", \"cancel_orders\", \"lessonmusk_also\", \"killed_three\", \"bake\", \"probe\", \"latch\", \"poor_working\", \"bot_numbers\", \"rising_materials\", \"denies_sexually\", \"harassed_flight\", \"agrees\", \"prices_rise\", \"cannot_progress\", \"business_conduct\", \"without_proof\", \"indonesia_official\", \"rivian_gm\", \"accept_doge\", \"begin_move\", \"cause_doge\", \"doge_moon\", \"rocket_past\", \"safety_agency\", \"boycotttesla\", \"teach\", \"low_carbon\", \"national_highway\", \"longer_support\", \"conditions_reported\", \"vote_republican\", \"black_workers\", \"investigation\", \"traffic_safety\", \"renewableenergy\", \"fatal_crash\", \"reuters\", \"fatal\", \"racial_discrimination\", \"deadly\", \"racism\", \"unionize\", \"artificial_intelligence\", \"shanghai\", \"worker\", \"strategy\", \"factory\", \"crash\", \"jack\", \"free_speech\", \"california\", \"musk\", \"twitter\", \"bankrupt\", \"say\", \"elon\", \"ev\", \"plan\", \"deal\", \"union\", \"autopilot\", \"tank\", \"democrat\", \"buy\", \"car\", \"electric\", \"bot\", \"pay\", \"take\", \"vehicle\", \"esg\", \"company\", \"people\", \"get\", \"market\", \"make\", \"stock\", \"want\", \"go\", \"sell\", \"look\", \"think\"], \"Freq\": [12936.0, 11030.0, 14324.0, 12244.0, 11679.0, 6333.0, 5246.0, 4282.0, 3354.0, 1970.0, 2012.0, 3126.0, 6770.0, 1951.0, 3136.0, 3983.0, 2098.0, 2105.0, 4230.0, 4107.0, 2099.0, 3730.0, 1257.0, 2175.0, 4285.0, 5148.0, 1730.0, 11055.0, 976.0, 1719.0, 584.8691038945866, 399.5434699640639, 185.31952046548128, 168.12901253839652, 158.62129444478606, 162.4064892710455, 619.5754638745723, 875.4167340147529, 802.7069196247539, 145.48116762644864, 98.22581753048328, 926.443654162271, 94.42317490867848, 79.59316340991585, 87.23175272272523, 77.42735473883747, 79.22855332337187, 74.94703102740209, 68.57150801233907, 66.88819151749563, 72.69073296880896, 65.03572740242056, 63.937733081544835, 63.53950314764811, 70.50588919066962, 63.03771482107909, 265.15967291552323, 64.27527045444094, 53.30168491249677, 57.28812726083095, 375.1382143714599, 1900.6108690034773, 240.14079721607018, 253.16262932793012, 233.31156836119686, 98.80612514738185, 11727.880555041022, 556.1624951380064, 301.75901766317287, 201.3396619294052, 125.27761403349466, 474.8159545870418, 197.3038150364452, 1035.131294528871, 1486.051381577426, 248.49524297053387, 293.1969667198214, 1470.484444918643, 965.1380143294788, 2473.674349816425, 2466.1218121554875, 1002.648147477798, 622.3409731515169, 617.9254009244241, 2730.884227733825, 7060.750727395506, 6444.969384342984, 3723.6519378485004, 772.1686965319453, 772.7791672780155, 1944.0312239532723, 1199.368202389539, 2287.057309551521, 2192.8901423070174, 3149.9875522623297, 1044.2300167587562, 3485.4831962495978, 2147.6738096381505, 1463.6511067374056, 2283.8444899949577, 1406.7124153702746, 980.0740683423837, 1109.4755429556337, 2250.827063150563, 2170.184429995944, 1478.879866046236, 1486.0932832331373, 1367.8245800339305, 1173.9608437751774, 1080.9394375601553, 1198.6626108430437, 1165.1164955838224, 119.7082598528939, 111.0307913000237, 64.1486456601736, 60.589530351838384, 76.37690833387683, 56.20110064932204, 62.55882346496431, 146.18810810745754, 267.05089976910443, 72.81644677485116, 71.96134988228349, 71.96114215220662, 71.95803419067197, 71.95665997631731, 71.95421515310495, 40.808090228597116, 43.37300938904723, 46.520124048390265, 35.9456684283805, 78.41832772657645, 63.697439953981956, 41.458964486749565, 38.881182040770376, 41.0986287047597, 62.808191437815545, 137.9765541481448, 30.3221895408748, 46.09305897401607, 32.65725537127167, 149.84206418031002, 197.60665517630912, 134.06841635739065, 96.01464718163624, 99.40210953472346, 92.4565505496395, 61.129013351080125, 182.59838083198758, 109.77009344275503, 341.8627297557742, 195.41540647086006, 260.3176808706702, 435.23513025584657, 467.79397550060713, 136.28235557892825, 2548.8342370966348, 170.70632928769348, 235.43387073438512, 770.1689114430678, 479.3046825614836, 155.31891559461644, 231.9838896177793, 472.947279330575, 216.41760434928315, 340.38512973978305, 674.5949875883597, 288.5304613641677, 1297.3893805380362, 2360.1626597373656, 570.0161246938375, 3069.5763401390113, 649.3771954261828, 378.8417834100025, 313.9417620825646, 2669.448583586349, 408.13952211573934, 291.1365789915934, 829.8228534923618, 916.6425844892706, 639.9172955595566, 3568.039807897564, 374.9952935143678, 4423.131459275592, 727.0196033779512, 1298.9443520180419, 1571.9678909779875, 1555.194422315871, 1623.7029068293275, 2724.4378668634126, 903.705794471466, 825.3657330461583, 1020.4348215204079, 643.4461501884251, 1539.9922878721225, 1356.8046567082467, 1556.1079233185114, 1400.1573484978528, 1300.5632404447758, 1391.7030539541026, 1328.5275438078672, 1668.3065811002994, 1141.955510314729, 1875.1267363135971, 1826.7389231285238, 1108.2400879189202, 1297.50046819145, 1181.2465358075394, 1088.2504463313298, 1043.8042634170963, 1047.311961536598, 1135.2683915141224, 1050.3510845196342, 462.4256288704007, 463.0299732687948, 462.04118158421636, 469.4846960720689, 617.174287952716, 154.28567711319883, 154.26295864428738, 619.0639235187721, 63.52838199454549, 58.979008595028326, 58.979008595028326, 58.979008595028326, 58.979008595028326, 58.979008595028326, 58.979008595028326, 58.979008595028326, 66.28827570264565, 623.2461645283681, 285.2619290786738, 101.8223902724496, 45.2850856995858, 50.64706188011401, 50.64706188011401, 50.64706188011401, 50.64706188011401, 50.64706188011401, 50.64706188011401, 50.64706188011401, 44.30286732656213, 44.30286732656213, 185.22202076754516, 932.1697516384961, 52.26198823209857, 174.74583912013625, 1728.1866977257482, 550.6709528191203, 69.67880705535873, 69.67831017511523, 69.67618463185134, 69.67553592708899, 69.66909718726687, 210.6586868533242, 260.9497719950954, 708.482381722411, 1303.6311278677085, 182.5714269107875, 1585.8862689661753, 70.14595039651448, 995.1377286306255, 109.80822194163176, 210.64869403953813, 159.92007823890134, 474.2027948198291, 297.9454874056323, 1229.278741154185, 236.33313774007922, 241.3979484799752, 1009.7695267879159, 594.77155883156, 767.3318840028609, 1035.5784803961424, 1282.4473564017064, 495.02207702276104, 2252.9875254577746, 824.7022290073072, 1842.512327104565, 1561.6355318015858, 1257.2483508968423, 1834.356866041141, 1268.0336334623994, 2298.2535364769014, 1733.4867536564866, 1695.877446354135, 1168.2367824037194, 963.0942529803722, 1056.6935719707087, 1433.3875388353745, 1457.262413700209, 964.2906301889045, 1130.8792277580778, 893.5707693089108, 958.1085566170257, 930.3235654892889, 869.1528043379234, 858.4768354259378, 873.0187534680696, 135.32979977691153, 104.23851436787498, 98.40981615172818, 80.17161054669411, 80.1710165560476, 80.17031036716789, 80.17013216997394, 79.45929696341574, 79.45771298835841, 79.45693420062189, 94.91420759668169, 94.91192403264073, 94.90806969333457, 95.47477636946847, 97.65096010134879, 68.42215876398569, 100.76025693960227, 95.97412450628971, 54.55710369544353, 52.52159344839373, 57.093661552553144, 69.27607311749271, 97.68811091633908, 33.64806864765936, 40.815430384022754, 35.26329751283266, 35.16485016307197, 32.26760138572158, 33.059555914902965, 48.871550625206254, 622.9753836769206, 231.12975962575246, 387.8604748048637, 125.65275496024445, 123.86962143904682, 155.52302659644712, 74.18950434624551, 1609.1653294551115, 780.3871289319281, 7589.06779820562, 932.1930808607307, 152.7514530401032, 935.4565974705027, 364.12994128689763, 311.6527684390177, 7841.026275443906, 381.03969341093875, 2384.838548616445, 1197.148812632716, 740.4591832727835, 744.49974524651, 541.2160823314144, 1165.4204194561437, 565.5776715122182, 480.23995931554384, 323.2587384811169, 837.4255955536296, 3389.3543466195088, 3367.921685717202, 1845.2525878156907, 459.1953195031126, 2148.8744179169885, 1412.9078630992915, 1363.0048345166522, 1686.3045979517537, 813.2121608398542, 1634.0660509462598, 1753.7794010336427, 1132.1473338036694, 1016.176916776742, 1106.4168205791582, 947.2416886920009, 848.7355470570993, 1162.9783523110996, 879.8379004918489, 833.4319720407685, 813.7251047625841, 772.1962883121712, 199.46133531546698, 170.39650831398023, 245.17967956729785, 261.6308324903776, 111.75473113893422, 110.65211943331154, 124.49034294127709, 96.99769953316638, 226.2517918758415, 88.54680834319875, 142.44769109014666, 224.71830428110061, 148.51642606721808, 67.61170528579422, 63.14312858027368, 73.49628357195041, 66.75800761923425, 61.021375921201376, 61.51755309728885, 59.455418995916446, 137.40099807357424, 63.43601577882117, 56.16045232643672, 55.07042755600511, 52.062488814256106, 51.103882525995644, 51.103882525995644, 51.103882525995644, 51.103882525995644, 62.05181553368529, 375.69797161680134, 201.44384917895718, 207.7823396404721, 107.29399383239735, 106.62488228213819, 74.0002381189103, 232.3227026081999, 122.1315379265708, 341.20392900804177, 112.72491759842619, 120.42374179642432, 73.7261072669269, 170.91763987636386, 81.47340881956538, 225.02636450993907, 208.41115200398988, 439.84385618636765, 120.15733582998844, 107.89772775339648, 255.64187520716314, 802.8187361365127, 323.0351508848786, 812.767663469944, 1216.9187122267017, 141.1228946900179, 320.1103059552419, 556.4582321866961, 3911.5743818275037, 2330.2719308456017, 237.18912284790017, 2245.1116474354844, 3191.6381805136293, 1659.463825858607, 617.9658417006119, 819.9780401487952, 324.56680626464095, 629.0891043218462, 595.2501167390574, 577.6807401118921, 1633.9317574481759, 1744.555859260774, 1514.173147860104, 441.1606080176063, 711.8543010435677, 823.4122217568912, 810.1758426982282, 518.6772340775947, 942.2125829111905, 952.5136008896629, 1043.274278408537, 721.1124833300921, 948.3271423482978, 1041.8418680067784, 746.9861834917289, 813.448560361341, 656.8358625875785, 588.8286994641911, 579.0748648548283], \"Total\": [12936.0, 11030.0, 14324.0, 12244.0, 11679.0, 6333.0, 5246.0, 4282.0, 3354.0, 1970.0, 2012.0, 3126.0, 6770.0, 1951.0, 3136.0, 3983.0, 2098.0, 2105.0, 4230.0, 4107.0, 2099.0, 3730.0, 1257.0, 2175.0, 4285.0, 5148.0, 1730.0, 11055.0, 976.0, 1719.0, 586.5866415919282, 400.97676451833604, 186.20594045833863, 168.94063429652783, 159.44709124068658, 163.2722221617184, 623.1128699394974, 880.6987862329252, 807.5553585663469, 146.7419323142333, 99.07856371447663, 934.5261775081603, 95.33286613868836, 80.400968882216, 88.12677136223664, 78.24977424445274, 80.10289704575321, 75.83461742031986, 69.39281350447587, 67.71705295137397, 73.60066997891388, 65.86249258271165, 64.76462324617056, 64.38129545303995, 71.46153628027415, 63.91640681673035, 268.91035015117876, 65.2151007480902, 54.11185624464016, 58.16089422865144, 380.9755822703441, 1970.325511217087, 243.92402772557165, 257.34201644253625, 238.62077985177564, 100.47563586139077, 12936.56104351133, 577.0734518167195, 313.10728551180154, 209.6202169394569, 128.8192464832328, 512.9807880027242, 206.22820663772737, 1160.3036222538722, 1719.8939226746252, 263.7256935715709, 314.2638700164312, 1718.5722058564866, 1130.0236599033879, 3136.2918490808156, 3126.288955341642, 1192.0945614281698, 726.0190701694145, 722.3226820663211, 3983.5529228684177, 12244.266313584265, 11679.231281632792, 6333.031548688536, 1012.6999874310283, 1018.7187745850556, 3344.3899748059007, 1830.940473666301, 4230.225579859671, 4285.099540654903, 8981.731559556261, 1729.0074610826648, 11055.992569764472, 5352.643650756628, 2981.387529439552, 7036.617996113967, 3042.925157907537, 1591.6604965488852, 2099.8811371636302, 9393.992167898137, 10776.193327814488, 5148.115181239309, 6583.942149595001, 5844.278862686519, 2955.6563182723903, 2162.8357313808165, 6770.755530815648, 7279.670860351578, 120.54750886004388, 111.87133313274389, 64.9751159087518, 61.51065687449019, 77.58176137660026, 57.16992619280547, 63.73962333634823, 149.14263290286596, 272.6501607386476, 74.46698207800209, 73.60890187948426, 73.60917347683254, 73.60930234402238, 73.6096770882171, 73.61012051080994, 41.77552158213441, 44.41544494150954, 47.66184411931831, 36.8290110544466, 80.3474683638041, 65.28632545280233, 42.54311510386751, 39.89910955664395, 42.197802557326604, 64.50136276077292, 141.70687343238023, 31.176571706560775, 47.39551533981213, 33.58301256824571, 154.0940875153596, 204.17612230839782, 138.81348371754635, 99.13910928187678, 103.17925953235881, 96.12581615720036, 63.09077627060767, 193.13397024887996, 115.00372139854483, 374.25453632689056, 211.23267567284995, 288.7458399612115, 498.2618600961153, 542.9336663952627, 146.3621230917316, 3354.488612510182, 186.04556534156617, 262.9621029433931, 941.3729342993904, 569.9004534053662, 168.37991592430248, 262.0273724022924, 574.9529445978335, 245.68862650298638, 404.8648984310259, 868.3598070917917, 341.1322950884443, 1858.6901074879931, 3730.2515068847833, 743.649243039797, 5246.961601966007, 914.9202696671316, 483.23683818329323, 385.85522280611735, 5148.115181239309, 538.6275728993292, 356.6943065216142, 1341.2853045339266, 1528.62259219557, 999.7493919800459, 9393.992167898137, 500.9877713138571, 14324.523683672249, 1246.4935797202238, 2851.4552837114793, 3775.4537520918807, 3772.5954828549743, 4107.321089464003, 8981.731559556261, 1790.7866096816922, 1594.726023932574, 2225.721217357248, 1099.8895396404123, 4606.085260000036, 3749.9144761544817, 4723.702897052114, 4282.932930825657, 3834.8283779457333, 4483.477429664635, 4219.499336956059, 7036.617996113967, 3260.4905903910103, 10776.193327814488, 11030.573801183233, 3318.4905555993014, 5352.643650756628, 4285.099540654903, 3332.4080342724546, 4103.062760013482, 4230.225579859671, 11055.992569764472, 6583.942149595001, 464.2513249525385, 464.862131432677, 463.869839435446, 471.35899908046963, 619.9532157887414, 156.06241380934762, 156.06415216517468, 627.1736924211966, 64.37750383690313, 59.81359055712554, 59.81359055712554, 59.81359055712554, 59.81359055712554, 59.81359055712554, 59.81359055712554, 59.81359055712554, 67.23567167861621, 632.2677513623685, 289.65492587260013, 103.42036158101072, 46.123202080005825, 51.5933812528927, 51.5933812528927, 51.5933812528927, 51.5933812528927, 51.5933812528927, 51.5933812528927, 51.5933812528927, 45.141040648468184, 45.141040648468184, 189.15570714119775, 976.0936979304871, 53.26560858763208, 182.0892846997775, 2012.6763283057232, 612.2153223945888, 71.814269244825, 71.8152851135304, 71.81401432159511, 71.81539914644382, 71.81411513323859, 229.74177322780665, 294.5803766429893, 891.1453186638093, 1730.3539391764652, 204.26259988153987, 2175.610099555093, 72.34727138003485, 1362.7791281271054, 119.06506761260201, 249.17271534260237, 183.9620476724122, 640.282074895323, 378.7877579898785, 1973.2531459986403, 293.0286773749178, 307.2275078549556, 1733.8470314622564, 910.9857341486028, 1417.1069441936886, 2225.721217357248, 3117.3134918725427, 819.7663234846867, 7279.670860351578, 1716.949011732331, 5844.278862686519, 4723.702897052114, 3486.390307161564, 6583.942149595001, 3834.8283779457333, 10776.193327814488, 6770.755530815648, 7036.617996113967, 4103.062760013482, 3111.2473180798693, 4606.085260000036, 11055.992569764472, 11679.231281632792, 3760.680683368649, 8981.731559556261, 3150.846961103285, 5352.643650756628, 5036.028294826142, 3316.3570792693044, 4483.477429664635, 9393.992167898137, 136.17124526913764, 105.03689361635557, 99.34482608807453, 80.96946623059858, 80.96938643811247, 80.96928159285035, 80.96932301808124, 80.25657214911377, 80.25634875901683, 80.25629587604354, 95.96078425239533, 95.96046955386673, 95.95978980968107, 96.5669718216448, 98.77616727566657, 69.22131939260538, 101.94141458511962, 97.09974806106395, 55.3733702520271, 53.320160030852065, 58.13356966017506, 70.76993033091343, 99.93480220098198, 34.44974872873891, 41.788303706316896, 36.10627983399187, 36.01302147132116, 33.11441658640765, 33.935326402167306, 50.18931060280324, 649.2336570043519, 241.2945135845672, 410.96928991521594, 130.3974487617468, 129.3015005847569, 165.13971829793994, 76.99559692306937, 1951.9034443849, 917.3415318114567, 11030.573801183233, 1161.4110666714885, 166.67733288801168, 1205.6947693787827, 439.06223542064976, 372.36643666687, 14324.523683672249, 495.50777462418364, 4282.932930825657, 2007.01647797212, 1148.289010919427, 1162.9649625896673, 806.7085250973744, 2105.2107078737467, 916.3772518124263, 758.9156547493477, 459.3061953249089, 1614.3511740892764, 10776.193327814488, 11055.992569764472, 5036.028294826142, 801.8536626026746, 7279.670860351578, 4107.321089464003, 4219.499336956059, 5844.278862686519, 2026.6115524663928, 6583.942149595001, 9393.992167898137, 4483.477429664635, 3775.4537520918807, 4606.085260000036, 3760.680683368649, 3150.846961103285, 8981.731559556261, 4103.062760013482, 4250.345736558254, 3983.5529228684177, 2955.6563182723903, 200.37780539174227, 171.41891374935068, 246.79141940509177, 263.5307358049042, 112.57634806890285, 111.46897818616694, 125.4295177056801, 97.81733919388137, 228.41809113116093, 89.54879560711233, 144.15406079095834, 227.44331289883456, 150.35949087107477, 68.4516588607684, 63.94662525085097, 74.4387879566473, 67.62288173091513, 61.81939655635656, 62.33042512932877, 60.27060212606711, 139.31421323102845, 64.31988623032396, 56.96249519719109, 55.86760924004714, 52.872603159872625, 51.90541136305742, 51.90541136305742, 51.90541136305742, 51.90541136305742, 63.059059806321194, 383.8773187900556, 204.74678137909413, 211.33580962669308, 109.08984675601866, 108.47691089038285, 75.3048216715221, 240.80647287758276, 125.50461570826657, 360.78693532387337, 116.06852819313008, 124.41582163415724, 75.09187072076678, 180.40223258862676, 83.39890692418376, 245.80197503224198, 227.12400178812106, 517.2349097078298, 127.56346977921496, 113.40038062369297, 297.3631991764609, 1139.8882201488984, 406.07936978168533, 1257.0823231476722, 2098.930283036315, 154.0961395906741, 441.79048884647773, 911.3916496037168, 12244.266313584265, 6333.031548688536, 306.0266906212915, 6770.755530815648, 11679.231281632792, 5246.961601966007, 1355.5430667165042, 2099.8811371636302, 504.0578066868436, 1523.045409310271, 1401.5647712892805, 1354.5373534799062, 11055.992569764472, 14324.523683672249, 11030.573801183233, 959.0040899124203, 2955.6563182723903, 4250.345736558254, 4107.321089464003, 1523.6817678417028, 7036.617996113967, 7279.670860351578, 10776.193327814488, 4230.225579859671, 9393.992167898137, 12936.56104351133, 5036.028294826142, 8981.731559556261, 4285.099540654903, 3749.9144761544817, 6583.942149595001], \"Category\": [\"Default\", \"Default\", \"Default\", \"Default\", \"Default\", \"Default\", \"Default\", \"Default\", \"Default\", \"Default\", \"Default\", \"Default\", \"Default\", \"Default\", \"Default\", \"Default\", \"Default\", \"Default\", \"Default\", \"Default\", \"Default\", \"Default\", \"Default\", \"Default\", \"Default\", \"Default\", \"Default\", \"Default\", \"Default\", \"Default\", \"Topic1\", \"Topic1\", \"Topic1\", \"Topic1\", \"Topic1\", \"Topic1\", \"Topic1\", \"Topic1\", \"Topic1\", \"Topic1\", \"Topic1\", \"Topic1\", \"Topic1\", \"Topic1\", \"Topic1\", \"Topic1\", \"Topic1\", \"Topic1\", \"Topic1\", \"Topic1\", \"Topic1\", \"Topic1\", \"Topic1\", \"Topic1\", \"Topic1\", \"Topic1\", \"Topic1\", \"Topic1\", \"Topic1\", \"Topic1\", \"Topic1\", \"Topic1\", \"Topic1\", \"Topic1\", \"Topic1\", \"Topic1\", \"Topic1\", \"Topic1\", \"Topic1\", \"Topic1\", \"Topic1\", \"Topic1\", \"Topic1\", \"Topic1\", \"Topic1\", \"Topic1\", \"Topic1\", \"Topic1\", \"Topic1\", \"Topic1\", \"Topic1\", \"Topic1\", \"Topic1\", \"Topic1\", \"Topic1\", \"Topic1\", \"Topic1\", \"Topic1\", \"Topic1\", \"Topic1\", \"Topic1\", \"Topic1\", \"Topic1\", \"Topic1\", \"Topic1\", \"Topic1\", \"Topic1\", \"Topic1\", \"Topic1\", \"Topic1\", \"Topic1\", \"Topic1\", \"Topic1\", \"Topic1\", \"Topic1\", \"Topic1\", \"Topic1\", \"Topic1\", \"Topic1\", \"Topic1\", \"Topic1\", \"Topic1\", \"Topic2\", \"Topic2\", \"Topic2\", \"Topic2\", \"Topic2\", \"Topic2\", \"Topic2\", \"Topic2\", \"Topic2\", \"Topic2\", \"Topic2\", \"Topic2\", \"Topic2\", \"Topic2\", \"Topic2\", \"Topic2\", \"Topic2\", \"Topic2\", \"Topic2\", \"Topic2\", \"Topic2\", \"Topic2\", \"Topic2\", \"Topic2\", \"Topic2\", \"Topic2\", \"Topic2\", \"Topic2\", \"Topic2\", \"Topic2\", \"Topic2\", \"Topic2\", \"Topic2\", \"Topic2\", \"Topic2\", \"Topic2\", \"Topic2\", \"Topic2\", \"Topic2\", \"Topic2\", \"Topic2\", \"Topic2\", \"Topic2\", \"Topic2\", \"Topic2\", \"Topic2\", \"Topic2\", \"Topic2\", \"Topic2\", \"Topic2\", \"Topic2\", \"Topic2\", \"Topic2\", \"Topic2\", \"Topic2\", \"Topic2\", \"Topic2\", \"Topic2\", \"Topic2\", \"Topic2\", \"Topic2\", \"Topic2\", \"Topic2\", \"Topic2\", \"Topic2\", \"Topic2\", \"Topic2\", \"Topic2\", \"Topic2\", \"Topic2\", \"Topic2\", \"Topic2\", \"Topic2\", \"Topic2\", \"Topic2\", \"Topic2\", \"Topic2\", \"Topic2\", \"Topic2\", \"Topic2\", \"Topic2\", \"Topic2\", \"Topic2\", \"Topic2\", \"Topic2\", \"Topic2\", \"Topic2\", \"Topic2\", \"Topic2\", \"Topic2\", \"Topic2\", \"Topic2\", \"Topic2\", \"Topic2\", \"Topic2\", \"Topic2\", \"Topic2\", \"Topic2\", \"Topic2\", \"Topic2\", \"Topic2\", \"Topic3\", \"Topic3\", \"Topic3\", \"Topic3\", \"Topic3\", \"Topic3\", \"Topic3\", \"Topic3\", \"Topic3\", \"Topic3\", \"Topic3\", \"Topic3\", \"Topic3\", \"Topic3\", \"Topic3\", \"Topic3\", \"Topic3\", \"Topic3\", \"Topic3\", \"Topic3\", \"Topic3\", \"Topic3\", \"Topic3\", \"Topic3\", \"Topic3\", \"Topic3\", \"Topic3\", \"Topic3\", \"Topic3\", \"Topic3\", \"Topic3\", \"Topic3\", \"Topic3\", \"Topic3\", \"Topic3\", \"Topic3\", \"Topic3\", \"Topic3\", \"Topic3\", \"Topic3\", \"Topic3\", \"Topic3\", \"Topic3\", \"Topic3\", \"Topic3\", \"Topic3\", \"Topic3\", \"Topic3\", \"Topic3\", \"Topic3\", \"Topic3\", \"Topic3\", \"Topic3\", \"Topic3\", \"Topic3\", \"Topic3\", \"Topic3\", \"Topic3\", \"Topic3\", \"Topic3\", \"Topic3\", \"Topic3\", \"Topic3\", \"Topic3\", \"Topic3\", \"Topic3\", \"Topic3\", \"Topic3\", \"Topic3\", \"Topic3\", \"Topic3\", \"Topic3\", \"Topic3\", \"Topic3\", \"Topic3\", \"Topic3\", \"Topic3\", \"Topic3\", \"Topic3\", \"Topic3\", \"Topic3\", \"Topic3\", \"Topic3\", \"Topic3\", \"Topic3\", \"Topic3\", \"Topic4\", \"Topic4\", \"Topic4\", \"Topic4\", \"Topic4\", \"Topic4\", \"Topic4\", \"Topic4\", \"Topic4\", \"Topic4\", \"Topic4\", \"Topic4\", \"Topic4\", \"Topic4\", \"Topic4\", \"Topic4\", \"Topic4\", \"Topic4\", \"Topic4\", \"Topic4\", \"Topic4\", \"Topic4\", \"Topic4\", \"Topic4\", \"Topic4\", \"Topic4\", \"Topic4\", \"Topic4\", \"Topic4\", \"Topic4\", \"Topic4\", \"Topic4\", \"Topic4\", \"Topic4\", \"Topic4\", \"Topic4\", \"Topic4\", \"Topic4\", \"Topic4\", \"Topic4\", \"Topic4\", \"Topic4\", \"Topic4\", \"Topic4\", \"Topic4\", \"Topic4\", \"Topic4\", \"Topic4\", \"Topic4\", \"Topic4\", \"Topic4\", \"Topic4\", \"Topic4\", \"Topic4\", \"Topic4\", \"Topic4\", \"Topic4\", \"Topic4\", \"Topic4\", \"Topic4\", \"Topic4\", \"Topic4\", \"Topic4\", \"Topic4\", \"Topic4\", \"Topic4\", \"Topic4\", \"Topic4\", \"Topic4\", \"Topic4\", \"Topic4\", \"Topic4\", \"Topic4\", \"Topic4\", \"Topic4\", \"Topic4\", \"Topic4\", \"Topic4\", \"Topic5\", \"Topic5\", \"Topic5\", \"Topic5\", \"Topic5\", \"Topic5\", \"Topic5\", \"Topic5\", \"Topic5\", \"Topic5\", \"Topic5\", \"Topic5\", \"Topic5\", \"Topic5\", \"Topic5\", \"Topic5\", \"Topic5\", \"Topic5\", \"Topic5\", \"Topic5\", \"Topic5\", \"Topic5\", \"Topic5\", \"Topic5\", \"Topic5\", \"Topic5\", \"Topic5\", \"Topic5\", \"Topic5\", \"Topic5\", \"Topic5\", \"Topic5\", \"Topic5\", \"Topic5\", \"Topic5\", \"Topic5\", \"Topic5\", \"Topic5\", \"Topic5\", \"Topic5\", \"Topic5\", \"Topic5\", \"Topic5\", \"Topic5\", \"Topic5\", \"Topic5\", \"Topic5\", \"Topic5\", \"Topic5\", \"Topic5\", \"Topic5\", \"Topic5\", \"Topic5\", \"Topic5\", \"Topic5\", \"Topic5\", \"Topic5\", \"Topic5\", \"Topic5\", \"Topic5\", \"Topic5\", \"Topic5\", \"Topic5\", \"Topic5\", \"Topic5\", \"Topic5\", \"Topic5\", \"Topic5\", \"Topic5\", \"Topic5\", \"Topic5\", \"Topic5\", \"Topic5\", \"Topic5\", \"Topic5\", \"Topic5\", \"Topic5\", \"Topic5\", \"Topic5\", \"Topic5\", \"Topic5\", \"Topic5\", \"Topic5\", \"Topic5\", \"Topic5\", \"Topic5\", \"Topic5\", \"Topic5\"], \"logprob\": [30.0, 29.0, 28.0, 27.0, 26.0, 25.0, 24.0, 23.0, 22.0, 21.0, 20.0, 19.0, 18.0, 17.0, 16.0, 15.0, 14.0, 13.0, 12.0, 11.0, 10.0, 9.0, 8.0, 7.0, 6.0, 5.0, 4.0, 3.0, 2.0, 1.0, -6.204, -6.585, -7.3533, -7.4506, -7.5088, -7.4852, -6.1463, -5.8006, -5.8874, -7.5953, -7.9881, -5.744, -8.0276, -8.1984, -8.1068, -8.226, -8.203, -8.2586, -8.3475, -8.3723, -8.2891, -8.4004, -8.4174, -8.4237, -8.3196, -8.4316, -6.995, -8.4122, -8.5994, -8.5272, -6.648, -5.0254, -7.0941, -7.0413, -7.123, -7.9822, -3.2056, -6.2543, -6.8657, -7.2703, -7.7448, -6.4124, -7.2906, -5.6331, -5.2715, -7.0599, -6.8945, -5.282, -5.7031, -4.7619, -4.7649, -5.6649, -6.1419, -6.149, -4.663, -3.713, -3.8043, -4.3529, -5.9261, -5.9253, -5.0028, -5.4858, -4.8403, -4.8824, -4.5202, -5.6243, -4.419, -4.9032, -5.2867, -4.8417, -5.3263, -5.6877, -5.5637, -4.8563, -4.8928, -5.2763, -5.2714, -5.3544, -5.5072, -5.5898, -5.4864, -5.5148, -7.7377, -7.813, -8.3616, -8.4187, -8.1871, -8.4938, -8.3867, -7.5379, -6.9353, -8.2348, -8.2467, -8.2467, -8.2467, -8.2467, -8.2468, -8.8139, -8.7529, -8.6829, -8.9408, -8.1607, -8.3686, -8.7981, -8.8623, -8.8068, -8.3827, -7.5957, -9.1109, -8.6921, -9.0367, -7.5132, -7.2365, -7.6244, -7.9583, -7.9236, -7.996, -8.4098, -7.3155, -7.8244, -6.6884, -7.2477, -6.9609, -6.4469, -6.3748, -7.6081, -4.6794, -7.3828, -7.0614, -5.8762, -6.3504, -7.4773, -7.0761, -6.3638, -7.1456, -6.6927, -6.0087, -6.858, -5.3547, -4.7563, -6.1771, -4.4935, -6.0468, -6.5857, -6.7736, -4.6332, -6.5112, -6.849, -5.8016, -5.7021, -6.0614, -4.343, -6.5959, -4.1282, -5.9338, -5.3535, -5.1627, -5.1734, -5.1303, -4.6128, -5.7163, -5.807, -5.5948, -6.0559, -5.1833, -5.3099, -5.1728, -5.2784, -5.3522, -5.2845, -5.331, -5.1032, -5.4823, -4.9864, -5.0125, -5.5123, -5.3546, -5.4485, -5.5305, -5.5722, -5.5688, -5.4882, -5.5659, -6.2398, -6.2385, -6.2407, -6.2247, -5.9512, -7.3375, -7.3377, -5.9481, -8.2248, -8.2991, -8.2991, -8.2991, -8.2991, -8.2991, -8.2991, -8.2991, -8.1823, -5.9414, -6.7229, -7.7531, -8.5633, -8.4514, -8.4514, -8.4514, -8.4514, -8.4514, -8.4514, -8.4514, -8.5853, -8.5853, -7.1548, -5.5388, -8.4201, -7.213, -4.9215, -6.0652, -8.1324, -8.1324, -8.1325, -8.1325, -8.1326, -7.0261, -6.812, -5.8132, -5.2034, -7.1692, -5.0074, -8.1257, -5.4734, -7.6776, -7.0261, -7.3016, -6.2147, -6.6794, -5.2621, -6.9111, -6.8899, -5.4588, -5.9881, -5.7334, -5.4336, -5.2198, -6.1717, -4.6563, -5.6613, -4.8574, -5.0228, -5.2396, -4.8619, -5.2311, -4.6364, -4.9184, -4.9404, -5.3131, -5.5062, -5.4134, -5.1085, -5.092, -5.5049, -5.3456, -5.5811, -5.5114, -5.5408, -5.6088, -5.6212, -5.6044, -7.424, -7.685, -7.7426, -7.9475, -7.9475, -7.9475, -7.9475, -7.9564, -7.9565, -7.9565, -7.7787, -7.7787, -7.7788, -7.7728, -7.7503, -8.106, -7.719, -7.7676, -8.3324, -8.3705, -8.287, -8.0936, -7.7499, -8.8157, -8.6226, -8.7689, -8.7716, -8.8576, -8.8334, -8.4425, -5.8972, -6.8887, -6.371, -7.4982, -7.5125, -7.2849, -8.0251, -4.9482, -5.6719, -3.3972, -5.4942, -7.3029, -5.4907, -6.4342, -6.5898, -3.3646, -6.3888, -4.5548, -5.244, -5.7244, -5.719, -6.0379, -5.2709, -5.9938, -6.1574, -6.5532, -5.6014, -4.2033, -4.2096, -4.8113, -6.2022, -4.659, -5.0783, -5.1142, -4.9014, -5.6307, -4.9329, -4.8622, -5.2998, -5.4079, -5.3228, -5.4781, -5.5879, -5.273, -5.552, -5.6061, -5.6301, -5.6825, -6.7117, -6.8692, -6.5053, -6.4403, -7.291, -7.3009, -7.1831, -7.4326, -6.5856, -7.5237, -7.0483, -6.5924, -7.0066, -7.7935, -7.8619, -7.71, -7.8062, -7.8961, -7.888, -7.9221, -7.0844, -7.8572, -7.9791, -7.9987, -8.0548, -8.0734, -8.0734, -8.0734, -8.0734, -7.8793, -6.0785, -6.7018, -6.6708, -7.3317, -7.338, -7.7032, -6.5592, -7.2022, -6.1748, -7.2823, -7.2163, -7.7069, -6.8661, -7.607, -6.5911, -6.6678, -5.9209, -7.2185, -7.3261, -6.4635, -5.3192, -6.2295, -5.3068, -4.9032, -7.0576, -6.2386, -5.6857, -3.7356, -4.2535, -6.5384, -4.2908, -3.939, -4.593, -5.5808, -5.298, -6.2248, -5.563, -5.6183, -5.6483, -4.6085, -4.543, -4.6847, -5.9179, -5.4394, -5.2938, -5.31, -5.756, -5.159, -5.1482, -5.0572, -5.4265, -5.1526, -5.0585, -5.3912, -5.306, -5.5198, -5.6291, -5.6458], \"loglift\": [30.0, 29.0, 28.0, 27.0, 26.0, 25.0, 24.0, 23.0, 22.0, 21.0, 20.0, 19.0, 18.0, 17.0, 16.0, 15.0, 14.0, 13.0, 12.0, 11.0, 10.0, 9.0, 8.0, 7.0, 6.0, 5.0, 4.0, 3.0, 2.0, 1.0, 1.4126, 1.412, 1.4108, 1.4107, 1.4104, 1.4102, 1.4099, 1.4095, 1.4095, 1.4069, 1.4069, 1.4069, 1.406, 1.4054, 1.4053, 1.405, 1.4046, 1.4038, 1.4036, 1.4032, 1.4031, 1.4029, 1.4027, 1.4024, 1.4021, 1.4017, 1.4015, 1.401, 1.4005, 1.4004, 1.4001, 1.3795, 1.3999, 1.3992, 1.393, 1.3988, 1.3175, 1.3786, 1.3786, 1.3752, 1.3877, 1.3382, 1.3713, 1.3014, 1.2694, 1.3561, 1.3462, 1.2596, 1.2578, 1.1782, 1.1783, 1.2425, 1.2615, 1.2594, 1.038, 0.865, 0.821, 0.8845, 1.1444, 1.1392, 0.873, 0.9925, 0.8006, 0.7456, 0.3677, 0.9113, 0.2612, 0.5023, 0.7041, 0.2903, 0.644, 0.9306, 0.7776, -0.0132, -0.187, 0.1682, -0.0729, -0.0367, 0.4922, 0.722, -0.3159, -0.4167, 1.4611, 1.4606, 1.4553, 1.453, 1.4524, 1.451, 1.4494, 1.4481, 1.4473, 1.4457, 1.4455, 1.4455, 1.4454, 1.4454, 1.4453, 1.4447, 1.4444, 1.4439, 1.4438, 1.4438, 1.4435, 1.4423, 1.4423, 1.4417, 1.4415, 1.4414, 1.4403, 1.4402, 1.4401, 1.4401, 1.4354, 1.4333, 1.4361, 1.4308, 1.4292, 1.4365, 1.412, 1.4215, 1.3776, 1.3903, 1.3645, 1.3329, 1.3191, 1.3967, 1.1934, 1.3821, 1.3575, 1.2674, 1.295, 1.3874, 1.3463, 1.2728, 1.3412, 1.2946, 1.2156, 1.3006, 1.1086, 1.0104, 1.2022, 0.932, 1.1253, 1.2247, 1.2618, 0.8113, 1.1907, 1.265, 0.9879, 0.9567, 1.0219, 0.5, 1.1784, 0.293, 0.929, 0.6818, 0.5919, 0.5819, 0.54, 0.2752, 0.7842, 0.8095, 0.6882, 0.932, 0.3725, 0.4515, 0.3577, 0.35, 0.3868, 0.2982, 0.3125, 0.0288, 0.419, -0.2806, -0.33, 0.3714, 0.0509, 0.1795, 0.349, 0.0992, 0.0721, -0.808, -0.3674, 1.6106, 1.6106, 1.6106, 1.6106, 1.6101, 1.6031, 1.603, 1.6015, 1.6013, 1.6005, 1.6005, 1.6005, 1.6005, 1.6005, 1.6005, 1.6005, 1.6004, 1.6002, 1.5993, 1.599, 1.5962, 1.596, 1.596, 1.596, 1.596, 1.596, 1.596, 1.596, 1.5958, 1.5958, 1.5935, 1.5685, 1.5955, 1.5734, 1.4622, 1.5086, 1.5844, 1.5844, 1.5843, 1.5843, 1.5842, 1.5278, 1.4933, 1.3852, 1.3314, 1.5023, 1.2984, 1.5837, 1.3002, 1.5336, 1.4466, 1.4745, 1.3143, 1.3745, 1.1413, 1.3995, 1.3734, 1.0739, 1.1882, 1.0011, 0.8494, 0.7264, 1.1101, 0.4417, 0.8813, 0.4602, 0.5077, 0.5946, 0.3366, 0.5079, 0.0694, 0.2521, 0.1916, 0.3583, 0.4419, 0.1423, -0.4284, -0.4667, 0.2536, -0.4576, 0.3544, -0.1058, -0.0743, 0.2755, -0.0384, -0.7613, 1.653, 1.6516, 1.6497, 1.6493, 1.6493, 1.6493, 1.6493, 1.6492, 1.6492, 1.6492, 1.6482, 1.6482, 1.6482, 1.6478, 1.6477, 1.6476, 1.6475, 1.6475, 1.6443, 1.6441, 1.6411, 1.6379, 1.6365, 1.6356, 1.6356, 1.6356, 1.6354, 1.6333, 1.633, 1.6326, 1.6179, 1.6162, 1.6013, 1.6221, 1.6163, 1.5992, 1.6221, 1.4661, 1.4975, 1.2852, 1.4393, 1.5719, 1.4054, 1.4721, 1.4812, 1.0566, 1.3965, 1.0737, 1.1425, 1.2204, 1.2132, 1.26, 1.0679, 1.1766, 1.2016, 1.3079, 1.0028, 0.5025, 0.4705, 0.6552, 1.1017, 0.439, 0.5921, 0.5292, 0.4163, 0.7461, 0.2656, -0.0191, 0.2829, 0.3467, 0.2329, 0.2804, 0.3475, -0.385, 0.1194, 0.03, 0.0709, 0.317, 1.979, 1.9776, 1.9771, 1.9764, 1.9763, 1.9762, 1.9761, 1.9752, 1.9741, 1.9724, 1.9717, 1.9716, 1.9713, 1.9713, 1.971, 1.9709, 1.9707, 1.9706, 1.9705, 1.97, 1.9698, 1.9698, 1.9694, 1.9692, 1.9682, 1.968, 1.968, 1.968, 1.968, 1.9675, 1.9621, 1.9673, 1.9666, 1.967, 1.9664, 1.9661, 1.9477, 1.9564, 1.9278, 1.9544, 1.951, 1.9652, 1.9296, 1.9602, 1.8953, 1.8976, 1.8215, 1.9238, 1.9339, 1.8324, 1.633, 1.7548, 1.5475, 1.4385, 1.8957, 1.6614, 1.4902, 0.8425, 0.9838, 1.7288, 0.8797, 0.6863, 0.8325, 1.1981, 1.0432, 1.5434, 1.0994, 1.1272, 1.1314, 0.0716, -0.1219, -0.0022, 1.2071, 0.56, 0.3423, 0.3603, 0.906, -0.027, -0.0501, -0.3514, 0.2144, -0.3095, -0.5355, 0.0753, -0.4181, 0.1081, 0.1323, -0.4474]}, \"token.table\": {\"Topic\": [5, 1, 1, 2, 3, 4, 5, 5, 1, 2, 3, 4, 5, 1, 2, 4, 5, 1, 2, 3, 4, 5, 1, 2, 3, 4, 5, 1, 2, 3, 4, 5, 3, 2, 3, 4, 5, 3, 4, 2, 3, 4, 5, 1, 1, 2, 3, 4, 5, 1, 2, 3, 4, 5, 4, 1, 2, 3, 4, 5, 5, 1, 2, 3, 4, 5, 1, 2, 3, 4, 5, 2, 2, 1, 5, 5, 1, 2, 3, 4, 5, 1, 2, 4, 5, 1, 2, 3, 4, 5, 4, 2, 3, 1, 3, 1, 3, 4, 5, 2, 3, 1, 1, 2, 3, 4, 5, 2, 1, 2, 3, 4, 5, 5, 1, 4, 5, 1, 2, 3, 4, 5, 2, 4, 4, 1, 2, 3, 4, 5, 2, 5, 1, 2, 3, 4, 5, 2, 3, 5, 1, 1, 2, 3, 4, 5, 1, 2, 3, 4, 5, 1, 2, 3, 4, 5, 1, 3, 5, 1, 2, 3, 4, 5, 1, 2, 1, 2, 3, 4, 5, 2, 5, 5, 1, 2, 3, 4, 5, 1, 2, 3, 4, 5, 1, 4, 5, 5, 1, 2, 3, 4, 5, 1, 2, 3, 4, 5, 1, 1, 2, 3, 4, 5, 1, 2, 3, 4, 5, 1, 2, 3, 4, 5, 1, 2, 3, 4, 5, 2, 3, 2, 3, 5, 1, 2, 3, 4, 5, 1, 2, 3, 4, 5, 2, 1, 2, 3, 4, 5, 2, 2, 5, 3, 4, 5, 2, 5, 1, 2, 3, 4, 5, 3, 2, 5, 1, 2, 3, 4, 5, 3, 2, 3, 4, 5, 1, 2, 3, 4, 5, 2, 5, 1, 2, 3, 4, 5, 1, 2, 3, 4, 5, 5, 2, 1, 3, 4, 5, 1, 1, 2, 3, 5, 1, 2, 3, 4, 5, 1, 2, 4, 1, 2, 3, 4, 5, 1, 2, 3, 4, 5, 1, 2, 3, 4, 5, 3, 1, 2, 3, 4, 5, 1, 2, 3, 4, 5, 1, 2, 3, 4, 5, 3, 1, 2, 3, 4, 5, 1, 2, 3, 4, 5, 1, 2, 3, 4, 5, 2, 3, 4, 4, 1, 3, 5, 1, 2, 3, 4, 5, 4, 1, 2, 3, 4, 5, 1, 2, 3, 4, 5, 1, 2, 3, 4, 5, 2, 4, 1, 2, 3, 4, 5, 1, 2, 3, 4, 5, 1, 2, 5, 5, 1, 2, 3, 4, 5, 1, 2, 3, 4, 5, 1, 2, 3, 4, 5, 1, 2, 2, 1, 3, 5, 1, 1, 2, 3, 4, 5, 2, 1, 2, 3, 4, 5, 1, 2, 3, 4, 5, 1, 2, 3, 4, 5, 1, 2, 3, 4, 5, 1, 2, 3, 4, 5, 1, 2, 3, 4, 5, 1, 4, 1, 2, 3, 4, 5, 1, 2, 4, 1, 2, 3, 4, 5, 1, 2, 3, 4, 5, 1, 2, 3, 4, 5, 1, 2, 3, 4, 5, 1, 2, 3, 4, 5, 4, 5, 4, 2, 1, 2, 3, 4, 5, 1, 2, 3, 4, 5, 1, 1, 2, 3, 4, 5, 1, 2, 3, 4, 5, 4, 1, 2, 3, 4, 5, 1, 2, 3, 4, 5, 2, 5, 5, 1, 2, 3, 4, 5, 1, 2, 3, 4, 2, 3, 4, 5, 1, 2, 3, 4, 5, 1, 2, 3, 4, 5, 4, 1, 2, 3, 4, 5, 1, 2, 3, 4, 5, 1, 2, 3, 4, 5, 4, 1, 3, 5, 2, 3, 1, 2, 3, 4, 5, 1, 2, 2, 3, 4, 1, 5, 5, 5, 1, 2, 3, 4, 5, 1, 2, 3, 4, 5, 1, 2, 3, 4, 5, 1, 2, 5, 1, 2, 3, 4, 5, 1, 2, 3, 4, 5, 2, 3, 4, 5, 2, 3, 3, 1, 2, 3, 4, 5, 1, 1, 2, 3, 4, 5, 1, 2, 3, 4, 5, 2, 2, 3, 4, 1, 2, 3, 4, 1, 2, 3, 4, 5, 1, 2, 3, 4, 5, 1, 2, 3, 4, 5, 1, 3, 2, 3, 4, 5, 1, 3, 4, 1, 2, 3, 4, 5, 1, 2, 1, 2, 3, 1, 2, 3, 4, 5, 2, 3, 1, 2, 3, 4, 5, 2, 2, 5, 1, 2, 3, 4, 5, 1, 2, 3, 4, 5, 2, 4, 5, 1, 2, 3, 4, 5, 3, 4, 5, 1, 2, 3, 4, 5, 1, 1, 2, 3, 4, 5, 1, 2, 3, 4, 5, 1, 2, 3, 4, 5, 3, 3, 1, 2, 3, 4, 5, 1, 2, 3, 4, 5, 1, 2, 3, 4, 5, 1, 4, 4, 2, 1, 2, 4, 5, 2, 3, 4, 1, 2, 3, 4, 5, 1, 2, 3, 4, 5, 2, 3, 2, 3, 1, 1, 1, 2, 3, 4, 5, 1, 3, 5, 4, 2, 3, 5, 1, 2, 3, 4, 5, 1, 2, 3, 4, 5, 2, 3, 4, 5, 2, 3, 4, 1, 2, 3, 4, 5, 5, 1, 3, 5, 4, 5, 1, 2, 3, 4, 5, 1, 2, 3, 4, 5, 1, 2, 3, 4, 5, 3, 3, 1, 3, 1, 2, 3, 4, 5, 1, 2, 3, 4, 5, 1, 2, 3, 4, 5, 1, 2, 3, 4, 5, 1, 1, 2, 3, 4, 5, 1, 2, 3, 4, 5, 2, 4, 5, 1, 2, 3, 4, 5, 2, 5, 1, 1, 2, 3, 4, 5, 5, 5, 5, 1, 2, 3, 4, 5, 4, 1, 2, 3, 4, 5, 5, 1, 2, 3, 4, 5, 1, 2, 3, 4, 5, 1, 2, 4, 5, 1, 2, 3, 4, 5, 1, 2, 3, 4, 5, 1, 2, 4, 5, 1, 2, 3, 4, 5, 2, 3, 4, 1, 2, 3, 4, 5, 1, 2, 3, 4, 5, 1, 2, 3, 4, 5, 1, 2, 3, 4, 5, 1, 4, 5, 2, 5, 1, 2, 3, 4, 5, 3, 1, 2, 3, 1, 2, 1, 2, 3, 4, 5, 1, 2, 3, 4, 5, 1, 4, 5, 5, 1, 2, 3, 4, 5, 1, 2, 3, 4, 5, 1, 1, 3, 1, 3, 1, 2, 3, 4, 5, 1, 2, 3, 4, 5, 2, 3, 1, 2, 3, 4, 5, 1, 2, 3, 4, 5, 2, 3, 5, 4, 1, 2, 3, 4, 5, 1, 2, 4, 4, 5, 1, 2, 3, 4, 5, 1, 2, 3, 4, 5, 1, 2, 3, 4, 5, 2, 5, 5, 1, 2, 3, 4, 5, 1, 2, 3, 4, 5, 3, 4, 5, 1, 2, 3, 4, 5, 1, 2, 3, 4, 5, 1, 2, 3, 4, 5, 4, 4, 1, 2, 3, 4, 5, 1, 2, 3, 4, 5, 1, 2, 3, 4, 5, 1, 2, 3, 4, 5, 4, 1, 1, 2, 1, 2, 3, 1, 2, 3, 4, 5, 1, 2, 3, 4, 5, 1, 2, 3, 4, 5, 1, 2, 3, 4, 5, 1, 3, 1, 2, 5, 1, 2, 3, 4, 5, 4, 1, 2, 3, 4, 5, 1, 2, 3, 4, 5, 1, 2, 3, 4, 5, 2, 5, 1, 2, 3, 4, 5, 3, 3, 1, 2, 3, 4, 5, 5, 1, 2, 3, 4, 5, 1, 2, 3, 4, 5, 1, 2, 3, 4, 5, 1, 2, 3, 4, 5, 1, 3], \"Freq\": [0.9834961188267182, 0.9894110431549809, 0.07049877146252784, 0.03981107094354513, 0.029858303207658848, 0.7754864860878061, 0.08376912844370954, 0.9867453161628718, 0.18241378563029498, 0.24596611036154936, 0.25633657339300925, 0.25181611514852675, 0.06355232473125437, 0.023949165310558684, 0.11103703916713573, 0.7032345813918596, 0.1589353697882531, 0.11021661635558992, 0.030555101563925918, 0.04910641322773808, 0.6176495530422168, 0.19315189202910313, 0.9259606034163553, 0.060431113065067404, 0.0038987814880688644, 0.0019493907440344322, 0.005848172232103297, 0.03313881234379365, 0.9231526295771088, 0.014202348147340135, 0.014202348147340135, 0.014202348147340135, 0.9884988880650378, 0.02645493765982302, 0.008818312553274341, 0.008818312553274341, 0.9523777557536288, 0.9747227659779947, 0.9864630485448506, 0.9789286749087185, 0.006704990924032318, 0.006704990924032318, 0.006704990924032318, 0.9971959899850936, 0.0032828962087639323, 0.18581192541603855, 0.28364223243720377, 0.11424478806498484, 0.41298834306250265, 0.084761535844427, 0.08274340403860732, 0.04036263611639381, 0.7689082180173021, 0.022199449864016597, 0.9880267676726734, 0.46238403082102797, 0.13933960843505036, 0.1902774369903164, 0.1367105592192947, 0.07131295997737247, 0.9938715467540165, 0.19606133006957258, 0.019606133006957255, 0.006535377668985752, 0.003267688834492876, 0.7744422537748117, 0.0011924321296195362, 0.7598773746000496, 0.012818645393410016, 0.18154779173457442, 0.04471620486073261, 0.9814359808623894, 0.9705559623140145, 0.9853134956674825, 0.009952661572398812, 0.9825565131017953, 0.15838301416218584, 0.004988441390934987, 0.036166200084278656, 0.5724236496097898, 0.22822119363527565, 0.005999616040603955, 0.0539965443654356, 0.9179412542124051, 0.02399846416241582, 0.9588769773005883, 0.004770532225376061, 0.023852661126880306, 0.004770532225376061, 0.004770532225376061, 0.9724379724219311, 0.013924858670646561, 0.9747401069452593, 0.9840283980813997, 0.9863978980437813, 0.01593566888925398, 0.00796783444462699, 0.00796783444462699, 0.9720758022444929, 0.9668608250809919, 0.01585017746034413, 0.9891140558154958, 0.005862828083988548, 0.8471786581363452, 0.008794242125982822, 0.1377764599737309, 0.005862828083988548, 0.9622610299286635, 0.2533878661791647, 0.008341987363923118, 0.2606871051225974, 0.016683974727846235, 0.45985205343626184, 0.9934017835610517, 0.0037946237919675337, 0.0037946237919675337, 0.9941914334954939, 0.010419995671032651, 0.007814996753274487, 0.0026049989177581627, 0.0026049989177581627, 0.9794795930770691, 0.9883961765439795, 0.9837732115641057, 0.9921421604312666, 0.0067009658968429356, 0.5048060975621678, 0.09660559167948565, 0.14239552530791239, 0.25016939348213624, 0.9781389546869589, 0.013585263259541095, 0.034161843886797674, 0.9292021537208968, 0.027329475109438138, 0.0068323687773595345, 0.0068323687773595345, 0.007178018500823556, 0.007178018500823556, 0.9833885346128272, 0.9881938131058955, 0.005280001683828022, 0.09240002946699039, 0.7867202508903753, 0.10560003367656044, 0.010560003367656045, 0.3152136705962205, 0.10265925857294413, 0.1296129669912149, 0.3046311743380404, 0.14779315287065262, 0.9645256242005175, 0.0031937934576176073, 0.006387586915235215, 0.0031937934576176073, 0.02555034766094086, 0.0015816084211874898, 0.9853420463998062, 0.011071258948312429, 0.009875008185463736, 0.07461117295683711, 0.037305586478418556, 0.26662522100752084, 0.6100560612353152, 0.9950043241125807, 0.004814537052157649, 0.011003111063175528, 0.9792768846226221, 0.0036677036877251763, 0.0036677036877251763, 0.0036677036877251763, 0.9795359856008927, 0.9886030199921962, 0.9789183767666795, 0.005794258980813947, 0.30877117436313356, 0.016196001006612476, 0.5473829478140019, 0.12181905929542573, 0.8567268072653492, 0.06611396583398194, 0.005509497152831827, 0.034434357205198926, 0.03581173149340688, 0.015467724589081654, 0.9589989245230625, 0.02320158688362248, 0.9825565131017953, 0.0070568207157374096, 0.9738412587717625, 0.0070568207157374096, 0.014113641431474819, 0.0070568207157374096, 0.6157091930878997, 0.02827236090709744, 0.12502666267805312, 0.00251309874729755, 0.22806371131725267, 0.9794526316078782, 0.0009500236686616471, 0.4189604378797864, 0.007600189349293177, 0.5533887869954095, 0.01900047337323294, 0.003992113409784301, 0.7485212643345566, 0.007984226819568603, 0.23353863447238166, 0.0059881701146764525, 0.008695370791824248, 0.9564907871006674, 0.008695370791824248, 0.008695370791824248, 0.017390741583648495, 0.008288626087219567, 0.008288626087219567, 0.008288626087219567, 0.95733631307386, 0.016577252174439134, 0.01392459015594733, 0.9747213109163132, 0.9570789999800556, 0.0312090978254366, 0.010403032608478866, 0.20457044162793026, 0.35025403948890005, 0.18586160063946885, 0.13801604007881352, 0.12114741295806963, 0.32458774957818637, 0.2370456945255757, 0.2410248788461489, 0.0633827216777019, 0.13387112964214168, 0.9922112921304872, 0.10025480075096849, 0.7574807167850953, 0.02599198537988072, 0.07240624498681057, 0.04270111883837547, 0.9826396584564611, 0.013279362168361236, 0.9826728004587315, 0.9610669858390292, 0.027459056738257975, 0.01098362269530319, 0.9781263704007456, 0.013585088477788134, 0.11720255884065674, 0.05574268042421479, 0.08671083621544523, 0.16103441011439829, 0.5798191630450376, 0.9863978980437813, 0.9767235497590759, 0.015503548408874222, 0.0504633790640818, 0.8158246282026557, 0.07849858965523834, 0.008410563177346966, 0.044856336945850485, 0.9863978980437813, 0.061640336951531385, 0.008805762421647342, 0.008805762421647342, 0.9157992918513235, 0.5281251306909486, 0.005238391738142863, 0.024763306398493532, 0.05095526508920785, 0.3904982932070134, 0.9796116851624184, 0.01288962743634761, 0.0577092072246306, 0.020367955491046093, 0.8860060638605051, 0.027157273988061458, 0.010183977745523046, 0.3196663413434787, 0.011812151181283278, 0.0450338263786425, 0.19711527283766472, 0.4267139614238584, 0.9806715289684023, 0.9681316951035044, 0.9403710220320145, 0.026542730460581053, 0.0037918186372258647, 0.026542730460581053, 0.9935414727376698, 0.019468624970448458, 0.9734312485224229, 0.006489541656816152, 0.9825565131017953, 0.003974807020627317, 0.05614414916636085, 0.8585583164555005, 0.06260321057488025, 0.018383482470401342, 0.024488661766471156, 0.9697510059522577, 0.004897732353294231, 0.004903182080871776, 0.3268788053914517, 0.09479485356352099, 0.5568613934704374, 0.01657742513056648, 0.001973737885354491, 0.40905717673971825, 0.14901721034426407, 0.40116222519830025, 0.03848788876441257, 0.8553612091424431, 0.027930161931181818, 0.03200331054614583, 0.02211137819551894, 0.0622609859715928, 0.9884988880650378, 0.0440609294370064, 0.02447829413167022, 0.8959055652191301, 0.029373952958004268, 0.009791317652668089, 0.003535627493450661, 0.16563054950088096, 0.005620741143434384, 0.6879968473794119, 0.13725487243805898, 0.004620832527140364, 0.004620832527140364, 0.013862497581421093, 0.959592888136149, 0.01540277509046788, 0.9747227659779947, 0.5518342641382276, 0.03733122407513843, 0.12475136118687316, 0.01275768896145786, 0.2733056588253254, 0.008610215871852506, 0.11021076315971208, 0.043051079359262535, 0.8024721192566536, 0.03530188507459528, 0.0061469508641651864, 0.029710262510131733, 0.9548263675669922, 0.0010244918106941977, 0.008195934485553582, 0.0021540056996115896, 0.9951506332205543, 0.9869447892848137, 0.9880277413383465, 0.00345238389089172, 0.9839294089041403, 0.01035715167267516, 0.5624534060113757, 0.005906745220656221, 0.036096776348454686, 0.05512962205945807, 0.34062230772450874, 0.98999800008332, 0.011244602967533254, 0.5851005272936795, 0.026491522245544446, 0.060987677112044766, 0.3161829885277571, 0.19107677504728782, 0.25444407289460264, 0.2846653995602451, 0.21447393117552713, 0.05532452542823257, 0.02000501341680154, 0.6401604293376493, 0.013003258720921002, 0.12003008050080924, 0.20705188886389594, 0.9916980747656108, 0.9663464828528768, 0.0063639428004749875, 0.31899263287380875, 0.01431887130106872, 0.013523378451009347, 0.6467356870982706, 0.8539644206055856, 0.012389121127956683, 0.04778661006497578, 0.030972802819891707, 0.054866107852379595, 0.011990564827295392, 0.011990564827295392, 0.9712357510109269, 0.9854595349631525, 0.05102017131778311, 0.09192823660861821, 0.7289909163063424, 0.08089684821558403, 0.04688340067039529, 0.026058968907555904, 0.4582784187190866, 0.46546709979703305, 0.01527594729063622, 0.03504482025498897, 0.491046529692571, 0.26330022254690455, 0.1807883056723332, 0.05802667324919043, 0.007043700220999994, 0.9843150518079561, 0.013124200690772749, 0.9774654229972851, 0.9839129102525873, 0.004099637126052447, 0.008199274252104894, 0.992207969335664, 0.1823865089905472, 0.6978032512116216, 0.03658490445828085, 0.02743867834371064, 0.055415369988278354, 0.9774902711011972, 0.011387907218232239, 0.09110325774585791, 0.009110325774585792, 0.829039645487307, 0.05921711753480764, 0.030629571673194512, 0.13234286628606687, 0.7536030464499178, 0.07512913806632616, 0.00866874669996071, 0.11091230172912914, 0.004527032723637924, 0.08601362174912056, 0.07243252357820679, 0.7243252357820679, 0.06776546771945165, 0.7093514282245825, 0.1759716177876083, 0.019673845466937574, 0.026231793955916766, 0.005635524662679414, 0.11527209537298802, 0.0030739225432796806, 0.8243235620228343, 0.05174436281187462, 0.007299815518134963, 0.029199262072539853, 0.004866543678756642, 0.9441094736787886, 0.014599631036269926, 0.01413029510307691, 0.9749903621123067, 0.20136980972668725, 0.1739946512615385, 0.2132478445861416, 0.31448953233352217, 0.09678742467508515, 0.02098114369004618, 0.9861137534321704, 0.9939955163175277, 0.35071188435246714, 0.30328227713527633, 0.12592226704845724, 0.12948505444505376, 0.09051706729477962, 0.18311679112465412, 0.31047329262547935, 0.1913693139889808, 0.25248259141669727, 0.06245152437868837, 0.02834276994813295, 0.026162556875199645, 0.013081278437599823, 0.8502830984439885, 0.0817579902349989, 0.0026855266789112616, 0.14233291398229686, 0.005371053357822523, 0.8378843238203135, 0.013427633394556307, 0.14188102845066647, 0.05998222341003786, 0.5825196696551753, 0.10785265170843346, 0.10785265170843346, 0.9823563115623617, 0.9907888910532725, 0.9913987327734081, 0.9954581486982071, 0.1220304498562006, 0.10034991307971826, 0.2137081482253259, 0.5184745509118777, 0.04521940527666317, 0.9764447176173546, 0.004190749861018689, 0.004190749861018689, 0.008381499722037378, 0.008381499722037378, 0.9856624165473195, 0.002479210195229545, 0.2541190450110284, 0.05206341409982045, 0.670626357809592, 0.01983368156183636, 0.005375027338942869, 0.9191296749592305, 0.016125082016828607, 0.053750273389428685, 0.010750054677885737, 0.9693604592032665, 0.005177753031801505, 0.9475288048196755, 0.005177753031801505, 0.015533259095404517, 0.025888765159007527, 0.006208135975887854, 0.7842945116204989, 0.01862440792766356, 0.13657899146953278, 0.0538038451243614, 0.8791615756677059, 0.11396538943840633, 0.9831030014773905, 0.012039841504617075, 0.06822576852616342, 0.8468021858247343, 0.05618592702154635, 0.0160531220061561, 0.00161302494209622, 0.00161302494209622, 0.9952363892733677, 0.989987740722624, 0.9205373405084867, 0.017816851751777163, 0.041572654087480045, 0.011877901167851443, 0.7587962637822772, 0.09816251795372279, 0.04809963379732417, 0.05889751077223367, 0.035338506463340205, 0.011086875960209746, 0.00831515697015731, 0.030488908890576802, 0.0027717189900524366, 0.9451561756078808, 0.9886740379555636, 0.8920079021985023, 0.004309216918833345, 0.04653954272340012, 0.019822397826633385, 0.03705926550196676, 0.06835029864954946, 0.5173302420722781, 0.1862388871460201, 0.09406004401314147, 0.13356526249866088, 0.006489455236557529, 0.012978910473115057, 0.05191564189246023, 0.012978910473115057, 0.9150131883546115, 0.9843464508007709, 0.004377936944695794, 0.004377936944695794, 0.9894137495012493, 0.013924839123126061, 0.9747387386188243, 0.23407507275776246, 0.13192388969023014, 0.3153511396875411, 0.28848726072338265, 0.030114921641349556, 0.9881292805215135, 0.006814684693251818, 0.9707835428843254, 0.012445942857491352, 0.012445942857491352, 0.008793399878454938, 0.9892574863261804, 0.9916442299431051, 0.993123962062322, 0.17129703305822042, 0.021082711761011744, 0.009223686395442637, 0.6324813528303522, 0.16470868563290425, 0.022784418129983178, 0.06835325438994953, 0.7844349670465637, 0.0943925893956446, 0.029294251881406944, 0.8555732989473774, 0.0027688456276614153, 0.0013844228138307076, 0.0539924897393976, 0.08583421445750387, 0.009218551595836936, 0.009218551595836936, 0.9863850207545521, 0.2216050540043746, 0.3618749197159282, 0.18987099693274936, 0.0696015873587747, 0.1570702488671199, 0.6548547138723224, 0.03495471366791379, 0.10158713659737445, 0.03823171807428071, 0.16985806173001858, 0.004731805753915609, 0.004731805753915609, 0.004731805753915609, 0.9842155968144466, 0.013822221362669977, 0.9675554953868984, 0.9941360908018504, 0.009691870289943132, 0.95949515870437, 0.009691870289943132, 0.009691870289943132, 0.019383740579886264, 0.9889942423564436, 0.23962123448349126, 0.379817221073788, 0.09293173598582313, 0.1867150800906458, 0.10091556210144367, 0.14602513047986704, 0.03889111515292941, 0.7301256523993351, 0.05503459691452275, 0.0293517850210788, 0.9849924714236569, 0.00435271298706493, 0.9184224402707002, 0.07834883376716874, 0.005435903832624954, 0.010871807665249908, 0.8697446132199926, 0.11958988431774899, 0.015934173857636597, 0.8179542580253453, 0.0074359478002304115, 0.06904808671642525, 0.08923137360276494, 0.11783456746432279, 0.4555568545718908, 0.19849513447859138, 0.1515015867398436, 0.07680288772228182, 0.5406331073426743, 0.24750453143322257, 0.006382638346415482, 0.034986313898870046, 0.17044008325057639, 0.9860188181403323, 0.9884988880650378, 0.893664894559303, 0.04183112272405248, 0.003802829338550226, 0.05323961073970316, 0.9918387974038012, 0.9762396671850672, 0.9880290207127645, 0.15012392568341015, 0.6326651153800857, 0.15307278850933428, 0.0069700394067297574, 0.05710070744743994, 0.9935292448201263, 0.005677309970400722, 0.9634822018750353, 0.03465763316097249, 0.0017328816580486246, 0.5812719254167793, 0.09059948220230665, 0.04036610593172078, 0.1462150059304553, 0.14143087485706615, 0.0021511754397331964, 0.99599422859647, 0.8413762065975471, 0.12247350564630297, 0.0008388596277144039, 0.03271552548086175, 0.0025165788831432116, 0.9637282060775275, 0.9781372422672735, 0.013585239475934353, 0.30013645761909596, 0.33388674200999835, 0.10697634784616372, 0.14615078508560397, 0.11270184251962038, 0.5766780809207206, 0.029401516659320125, 0.06607174160386106, 0.008412100599749926, 0.3194964810312787, 0.012110956834694741, 0.9446546331061899, 0.0423883489214316, 0.9552524516981414, 0.004848997216741835, 0.004848997216741835, 0.00969799443348367, 0.024244986083709175, 0.009166755933176049, 0.009166755933176049, 0.9808428848498373, 0.17561325191119864, 0.31496627771927527, 0.13911603086622618, 0.3230241057421913, 0.0473989883700941, 0.9872141989906206, 0.0335950760387141, 0.01679753801935705, 0.9238645910646378, 0.01679753801935705, 0.008398769009678526, 0.21332471108016166, 0.14788374707963087, 0.41125154827784544, 0.13986402109917365, 0.08725461866737438, 0.12289913490342973, 0.4163737932504128, 0.09853120298292212, 0.26910672642647543, 0.09323382647846394, 0.9863978980437813, 0.9863978980437813, 0.026550797947575304, 0.08902326370657603, 0.7402987192441585, 0.11088862672222627, 0.034359856167450395, 0.10490427822376766, 0.06964956177151788, 0.017197422659634042, 0.6397441229383863, 0.1685347420644136, 0.036994746542292, 0.2052448267072364, 0.622829363020231, 0.050170957639546675, 0.08463181743236661, 0.019924561385470527, 0.9763035078880559, 0.9811357811540522, 0.9716145750551971, 0.9831274484339567, 0.0038858792428219636, 0.0038858792428219636, 0.007771758485643927, 0.9683363174773789, 0.010086836640389363, 0.020173673280778726, 0.39720450335924523, 0.04466013155316897, 0.056163498771409456, 0.26119410272004884, 0.24089404292315383, 0.16003470793509686, 0.1044003244898486, 0.30949201457319586, 0.2952056543798482, 0.1309125121563496, 0.0021557771490749488, 0.9959690428726263, 0.013924612266304218, 0.9747228586412953, 0.9935236198406439, 0.9869046471080863, 0.13426353206235914, 0.18516564037171507, 0.056803802026382716, 0.16746055922063474, 0.4559058396403184, 0.9854585360921199, 0.007437422913902792, 0.007437422913902792, 0.984345802189566, 0.0066507274945314, 0.0066507274945314, 0.9909583966851786, 0.22201448728260642, 0.07197172939381197, 0.6038306110158801, 0.06465257047240737, 0.03659579460702304, 0.010463292270135371, 0.27503511110070117, 0.041853169080541486, 0.5964076593977161, 0.07623255796812914, 0.00766886169550089, 0.00766886169550089, 0.9662765736331121, 0.02300658508650267, 0.010006524033428004, 0.010006524033428004, 0.9806393552759445, 0.6855689011490531, 0.06074978911683298, 0.004769611542230688, 0.20434019975662002, 0.04468372918510855, 0.9946988147659321, 0.005286649898718292, 0.978030231262884, 0.010573299797436583, 0.006937022755468032, 0.9850572312764605, 0.11644470054857525, 0.5998864629384466, 0.09747337293111075, 0.13672439558793387, 0.04971796203197595, 0.013447199864176881, 0.7664903922580822, 0.01613663983701226, 0.09950927899490893, 0.10488815894057968, 0.010364367312372206, 0.7773275484279154, 0.004606385472165425, 0.13243358232475597, 0.0760053602907295, 0.9863978980437813, 0.9884988880650378, 0.009669275805197074, 0.9862661321301015, 0.029829770968629182, 0.8404976643513752, 0.08948931290588755, 0.026320386148790453, 0.014037539279354909, 0.06509304897937158, 0.004068315561210724, 0.012204946683632173, 0.004068315561210724, 0.915371001272413, 0.015466860124578511, 0.007733430062289256, 0.11986816596548346, 0.0058000725467169416, 0.8506773068518181, 0.013914182152064318, 0.8226760197408028, 0.013914182152064318, 0.1130527299855226, 0.0347854553801608, 0.9800399522041813, 0.1270193479310181, 0.07056630440612117, 0.5412435547949495, 0.2159328914827308, 0.04445677177585634, 0.010001004285936057, 0.5846041596233531, 0.020002008571872114, 0.145469153249979, 0.24002410286246537, 0.0080375629631775, 0.016075125926355, 0.9645075555812999, 0.005543168649582687, 0.005543168649582687, 0.033259011897496124, 0.005543168649582687, 0.9478818390786394, 0.9781425637605838, 0.013585313385563664, 0.9950128849466552, 0.25327462571709675, 0.2050624507709489, 0.3095221631542693, 0.14045813634311077, 0.09192454689732192, 0.9851966347381502, 0.9844702636850046, 0.9825565131017953, 0.003816395175938693, 0.8854036808177768, 0.057245927639080395, 0.0534295324631417, 0.9957927470602298, 0.9805006011706928, 0.005964428278575572, 0.6188094339022157, 0.250505987700174, 0.04473321208931679, 0.07977422822594828, 0.9832052712239292, 0.17708511177859065, 0.1395708345544355, 0.2559537103522082, 0.09570571512304149, 0.33157304081979655, 0.02077952015102973, 0.9004458732112883, 0.01385301343401982, 0.03463253358504955, 0.02770602686803964, 0.01298775566347198, 0.01298775566347198, 0.9610939190969265, 0.01298775566347198, 0.20301869548113957, 0.32940259663050386, 0.330672786591804, 0.08425593409957617, 0.052712883393955946, 0.5117734090407706, 0.27560619976158235, 0.003967235728998222, 0.05530793339838698, 0.15332199258540188, 0.006725781823503864, 0.12106407282306955, 0.010088672735255795, 0.8609000734084946, 0.7887946492554827, 0.02974773008141115, 0.045101397220203995, 0.01119538228870312, 0.12506841356808343, 0.013924809240777186, 0.974736646854403, 0.9901282913016944, 0.7623185638210334, 0.08492149804223947, 0.04147328974155881, 0.08887133516048316, 0.022711563429901254, 0.009209228142356411, 0.8619837541245601, 0.06630644262496616, 0.04972983196872462, 0.012892919399298975, 0.060089402009300935, 0.27432118308593906, 0.010450330784226249, 0.6444370650272854, 0.010450330784226249, 0.499806797305803, 0.05455800377621162, 0.36248707593686363, 0.006935339463077748, 0.07628873409385523, 0.004052004735053475, 0.004052004735053475, 0.9927411600881014, 0.9802971687580693, 0.015317143261844832, 0.964815198898651, 0.03146688181573717, 0.0005075303518667285, 0.001015060703733457, 0.002030121407466914, 0.975647786160694, 0.0015944546336749423, 0.011161182435724596, 0.9869674182447893, 0.9972951283247394, 0.0017047779971363067, 0.2766768026356937, 0.3264906304421201, 0.08672407371118816, 0.227163058129306, 0.0828229908106849, 0.9065778734049637, 0.0012368047386152302, 0.0034785133273553346, 0.0081938313933259, 0.08054690860231686, 0.9703518954853542, 0.015525630327765667, 0.007762815163882834, 0.991722536805796, 0.201979013614263, 0.049397041373053445, 0.6531386581548178, 0.03951763309844276, 0.057081025586639536, 0.1379040753291813, 0.017238009416147664, 0.03447601883229533, 0.012312863868676902, 0.7954110059165278, 0.9862314961577076, 0.006407692765931725, 0.9867846859534856, 0.006407621392397808, 0.9867736944292625, 0.004939919483636654, 0.8397863122182313, 0.03704939612727491, 0.10126834941455141, 0.014819758450909963, 0.018141519373750515, 0.8137767261939517, 0.01036658249928601, 0.07515772311982356, 0.08293265999428807, 0.0021215252110404316, 0.9949953239779625, 0.25080312663298787, 0.18704360757338215, 0.1722212839543594, 0.19598405674041172, 0.19363130695961447, 0.5479589782308292, 0.0021404647587141765, 0.0007134882529047256, 0.024258600598760668, 0.4245255104783117, 0.009768163321195006, 0.004884081660597503, 0.9817004137800981, 0.9718706892692168, 0.12522212280670691, 0.10541955454890209, 0.48050349449085206, 0.22074039322670658, 0.06814413194597538, 0.9908764701156957, 0.007490426879924266, 0.0010700609828463237, 0.9907651410474244, 0.009809555851954697, 0.16979561578346763, 0.2491393614766768, 0.28373323459891603, 0.26945136037413836, 0.02792899848400963, 0.22570064654827027, 0.15947892252737805, 0.278556518014487, 0.2481795803902245, 0.08794123442223989, 0.40129703005660905, 0.2424969948852321, 0.1789769808166813, 0.13040285241131896, 0.04707953983904352, 0.9781322626060702, 0.013585170313973199, 0.9948803804814303, 0.05820232757611804, 0.8730349136417705, 0.0160558145037567, 0.03612558263345258, 0.014048837690787113, 0.9323375289201414, 0.009546118043550936, 0.02863835413065281, 0.009546118043550936, 0.019092236087101873, 0.0086155999009143, 0.0172311998018286, 0.9735627888033158, 0.0034126352716002005, 0.0614274348888036, 0.8053819240976473, 0.0614274348888036, 0.0648400701604038, 0.00962700506062246, 0.5832360565893774, 0.016847258856089304, 0.3377474275435046, 0.05214627741170499, 0.7888296494872057, 0.0440010071258021, 0.03475441867182919, 0.020087416296561827, 0.11255330083629086, 0.9899909873478935, 0.9843430623129642, 0.6038146297797183, 0.025448126159298475, 0.2510110625712622, 0.04164238826067023, 0.07807947798875668, 0.5880280196569015, 0.010421549220557332, 0.017369248700928885, 0.016421835135423675, 0.3679122679378573, 0.0654686814929184, 0.0218228938309728, 0.1567280556951683, 0.11109836859404335, 0.6447673177332873, 0.007839234866618052, 0.007839234866618052, 0.03919617433309026, 0.007839234866618052, 0.9407081839941662, 0.9932572236378653, 0.9943392768697794, 0.9943590757983032, 0.004953220800987812, 0.9975640371094585, 0.002493910092773646, 0.9884988880650378, 0.14220318622586567, 0.33434031570661543, 0.2294790348713588, 0.2401171358256602, 0.05384181707483158, 0.8640067741440156, 0.05407310228492157, 0.01511721139148345, 0.023257248294589923, 0.04360734055235611, 0.03140733270912458, 0.39539153736138233, 0.03189426809996372, 0.344019853627853, 0.19720883328985203, 0.00448860574838415, 0.07069554053705036, 0.7944832174639946, 0.09089426640477904, 0.039275300298361314, 0.9940775430137457, 0.9884988880650378, 0.9944321607383289, 0.9653240910851234, 0.028815644510003683, 0.020763561461829217, 0.008305424584731687, 0.004152712292365844, 0.004152712292365844, 0.9634292518288756, 0.9880285152209464, 0.013359891503446675, 0.9138165788357525, 0.013359891503446675, 0.0053439566013786695, 0.056111544314476035, 0.17394660012136448, 0.1266871357048294, 0.1846693357452842, 0.3663601338172574, 0.14833117613088959, 0.26716061594766904, 0.2044411936935887, 0.2620345093211336, 0.19841048001531175, 0.06784552888061572, 0.9803002345863101, 0.013428770336798769, 0.1895246928141132, 0.41218307318314124, 0.1582464917622735, 0.11954634469813293, 0.12034155319945089, 0.9884988880650378, 0.9863978980437813, 0.0016334122381789617, 0.049002367145368854, 0.9000101432366079, 0.04410213043083197, 0.004900236714536885, 0.9794793444503685, 0.057939582835880986, 0.2552783600194756, 0.3605448298252594, 0.22085880585954634, 0.10526646980578377, 0.03421388107239638, 0.0149137430315574, 0.11580082824503392, 0.1307145712765913, 0.704455038490623, 0.15202766396349277, 0.33925898939366056, 0.33065364992402885, 0.09309412698965167, 0.08501032324545221, 0.2872896094846035, 0.5184421688400317, 0.02991386062246717, 0.052640624861614305, 0.11169136271375729, 0.9813678007984098, 0.9816217842736417], \"Term\": [\"accept_doge\", \"administration_democrats\", \"afford\", \"afford\", \"afford\", \"afford\", \"afford\", \"agrees\", \"also\", \"also\", \"also\", \"also\", \"also\", \"america\", \"america\", \"america\", \"america\", \"american\", \"american\", \"american\", \"american\", \"american\", \"anyone_else\", \"anyone_else\", \"anyone_else\", \"anyone_else\", \"anyone_else\", \"approach\", \"approach\", \"approach\", \"approach\", \"approach\", \"arabian_nfts\", \"artificial_intelligence\", \"artificial_intelligence\", \"artificial_intelligence\", \"artificial_intelligence\", \"artistically_inspired\", \"asking_owners\", \"audi\", \"audi\", \"audi\", \"audi\", \"aura_dims\", \"autopilot\", \"autopilot\", \"autopilot\", \"autopilot\", \"autopilot\", \"average\", \"average\", \"average\", \"average\", \"average\", \"away_win\", \"back\", \"back\", \"back\", \"back\", \"back\", \"bake\", \"bankrupt\", \"bankrupt\", \"bankrupt\", \"bankrupt\", \"bankrupt\", \"battery\", \"battery\", \"battery\", \"battery\", \"battery\", \"battery_swap\", \"bay\", \"bear_market\", \"bear_market\", \"begin_move\", \"biden\", \"biden\", \"biden\", \"biden\", \"biden\", \"bike\", \"bike\", \"bike\", \"bike\", \"bill_gates\", \"bill_gates\", \"bill_gates\", \"bill_gates\", \"bill_gates\", \"billionaire_betting\", \"binance_babydoge\", \"binance_babydoge\", \"bitcoin_dogecoin\", \"bitcoinpizzaday_shillme\", \"black_workers\", \"black_workers\", \"black_workers\", \"black_workers\", \"blackberry\", \"blackberry\", \"blasts_biden\", \"bmw\", \"bmw\", \"bmw\", \"bmw\", \"bmw\", \"bolsonaro\", \"bot\", \"bot\", \"bot\", \"bot\", \"bot\", \"bot_numbers\", \"bot_problem\", \"bot_problem\", \"bot_problem\", \"boycotttesla\", \"boycotttesla\", \"boycotttesla\", \"boycotttesla\", \"boycotttesla\", \"british_columbia\", \"btc_holdings\", \"btcusd\", \"build\", \"build\", \"build\", \"build\", \"build\", \"burn_burned\", \"burn_burned\", \"burst\", \"burst\", \"burst\", \"burst\", \"burst\", \"business_conduct\", \"business_conduct\", \"business_conduct\", \"business_operations\", \"button\", \"button\", \"button\", \"button\", \"button\", \"buy\", \"buy\", \"buy\", \"buy\", \"buy\", \"buyback\", \"buyback\", \"buyback\", \"buyback\", \"buyback\", \"c\", \"c\", \"c\", \"california\", \"california\", \"california\", \"california\", \"california\", \"california_united\", \"california_united\", \"canada\", \"canada\", \"canada\", \"canada\", \"canada\", \"canada_teslaradar\", \"cancel_orders\", \"cannot_progress\", \"car\", \"car\", \"car\", \"car\", \"car\", \"cash\", \"cash\", \"cash\", \"cash\", \"cash\", \"catches_fire\", \"catches_fire\", \"catches_fire\", \"cause_doge\", \"cell\", \"cell\", \"cell\", \"cell\", \"cell\", \"ceo\", \"ceo\", \"ceo\", \"ceo\", \"ceo\", \"ceo_fintech\", \"charge\", \"charge\", \"charge\", \"charge\", \"charge\", \"charger\", \"charger\", \"charger\", \"charger\", \"charger\", \"chevy\", \"chevy\", \"chevy\", \"chevy\", \"chevy\", \"coal\", \"coal\", \"coal\", \"coal\", \"coal\", \"coinbase_cryptocurrency\", \"coinbase_cryptocurrency\", \"collision\", \"collision\", \"collision\", \"come\", \"come\", \"come\", \"come\", \"come\", \"company\", \"company\", \"company\", \"company\", \"company\", \"company_insiders\", \"competition\", \"competition\", \"competition\", \"competition\", \"competition\", \"compute\", \"conditions_reported\", \"conditions_reported\", \"construction_worker\", \"construction_worker\", \"construction_worker\", \"contract_slippage\", \"contract_slippage\", \"crash\", \"crash\", \"crash\", \"crash\", \"crash\", \"cryptos_nftcommumity\", \"ct\", \"ct\", \"cybertruck\", \"cybertruck\", \"cybertruck\", \"cybertruck\", \"cybertruck\", \"daily_nftrelease\", \"deadly\", \"deadly\", \"deadly\", \"deadly\", \"deal\", \"deal\", \"deal\", \"deal\", \"deal\", \"defect\", \"defect\", \"defend\", \"defend\", \"defend\", \"defend\", \"defend\", \"democrat\", \"democrat\", \"democrat\", \"democrat\", \"democrat\", \"denies_sexually\", \"diesel_generators\", \"dip\", \"dip\", \"dip\", \"dip\", \"disney_apple\", \"doc\", \"doc\", \"doc\", \"doge_moon\", \"door\", \"door\", \"door\", \"door\", \"door\", \"door_handle\", \"door_handle\", \"door_handle\", \"drive\", \"drive\", \"drive\", \"drive\", \"drive\", \"driver\", \"driver\", \"driver\", \"driver\", \"driver\", \"drop\", \"drop\", \"drop\", \"drop\", \"drop\", \"dubai_lamborghini\", \"edison\", \"edison\", \"edison\", \"edison\", \"edison\", \"electric\", \"electric\", \"electric\", \"electric\", \"electric\", \"electricity\", \"electricity\", \"electricity\", \"electricity\", \"electricity\", \"electricity_neurons\", \"elon\", \"elon\", \"elon\", \"elon\", \"elon\", \"energy\", \"energy\", \"energy\", \"energy\", \"energy\", \"enter\", \"enter\", \"enter\", \"enter\", \"enter\", \"entered_monthly\", \"entered_monthly\", \"enterprise_value\", \"entry_purchase\", \"escape\", \"escape\", \"escape\", \"esg\", \"esg\", \"esg\", \"esg\", \"esg\", \"estimating\", \"ev\", \"ev\", \"ev\", \"ev\", \"ev\", \"even\", \"even\", \"even\", \"even\", \"even\", \"evs\", \"evs\", \"evs\", \"evs\", \"evs\", \"faces_vehicular\", \"facing_lower\", \"factory\", \"factory\", \"factory\", \"factory\", \"factory\", \"fall\", \"fall\", \"fall\", \"fall\", \"fall\", \"fatal\", \"fatal\", \"fatal\", \"fatal_crash\", \"find\", \"find\", \"find\", \"find\", \"find\", \"fire\", \"fire\", \"fire\", \"fire\", \"fire\", \"first\", \"first\", \"first\", \"first\", \"first\", \"first_player\", \"first_player\", \"flammable\", \"flight_attendant\", \"flight_attendant\", \"flight_attendant\", \"florida_united\", \"ford\", \"ford\", \"ford\", \"ford\", \"ford\", \"ford_pinto\", \"fossil_fuel\", \"fossil_fuel\", \"fossil_fuel\", \"fossil_fuel\", \"fossil_fuel\", \"free\", \"free\", \"free\", \"free\", \"free\", \"free_speech\", \"free_speech\", \"free_speech\", \"free_speech\", \"free_speech\", \"fsd\", \"fsd\", \"fsd\", \"fsd\", \"fsd\", \"gas\", \"gas\", \"gas\", \"gas\", \"gas\", \"gas_prices\", \"gas_prices\", \"gas_prices\", \"gas_prices\", \"gas_prices\", \"gear_jeremy\", \"gear_jeremy\", \"get\", \"get\", \"get\", \"get\", \"get\", \"gets_worse\", \"gets_worse\", \"giveaway_shibaswap\", \"go\", \"go\", \"go\", \"go\", \"go\", \"good\", \"good\", \"good\", \"good\", \"good\", \"green\", \"green\", \"green\", \"green\", \"green\", \"grid\", \"grid\", \"grid\", \"grid\", \"grid\", \"guy\", \"guy\", \"guy\", \"guy\", \"guy\", \"h\", \"harassed_flight\", \"harassment_claim\", \"hard_hitting\", \"help\", \"help\", \"help\", \"help\", \"help\", \"highlight\", \"highlight\", \"highlight\", \"highlight\", \"highlight\", \"hire_hardcore\", \"home\", \"home\", \"home\", \"home\", \"home\", \"honda\", \"honda\", \"honda\", \"honda\", \"honda\", \"hs\", \"hyundai\", \"hyundai\", \"hyundai\", \"hyundai\", \"hyundai\", \"ice\", \"ice\", \"ice\", \"ice\", \"ice\", \"indonesia\", \"indonesia\", \"indonesia_official\", \"information\", \"information\", \"information\", \"information\", \"information\", \"information_including\", \"information_including\", \"information_including\", \"initial_btc\", \"interior\", \"interior\", \"interior\", \"interior\", \"invest\", \"invest\", \"invest\", \"invest\", \"invest\", \"investigation\", \"investigation\", \"investigation\", \"investigation\", \"investigation\", \"investment_realized\", \"investor\", \"investor\", \"investor\", \"investor\", \"investor\", \"issue\", \"issue\", \"issue\", \"issue\", \"issue\", \"jack\", \"jack\", \"jack\", \"jack\", \"jack\", \"june_vxl\", \"killed_three\", \"killed_three\", \"killed_three\", \"kishu_nft\", \"kishu_nft\", \"know\", \"know\", \"know\", \"know\", \"know\", \"kowa_oa\", \"kowa_oa\", \"kw\", \"kw\", \"kw\", \"latch\", \"latch\", \"lessonmusk_also\", \"lever\", \"liberal\", \"liberal\", \"liberal\", \"liberal\", \"liberal\", \"link\", \"link\", \"link\", \"link\", \"link\", \"loan\", \"loan\", \"loan\", \"loan\", \"loan\", \"longer_support\", \"longer_support\", \"longer_support\", \"look\", \"look\", \"look\", \"look\", \"look\", \"lose\", \"lose\", \"lose\", \"lose\", \"lose\", \"low_carbon\", \"low_carbon\", \"low_carbon\", \"low_carbon\", \"luna_crypto\", \"luna_crypto\", \"luxury_watches\", \"mach\", \"mach\", \"mach\", \"mach\", \"mach\", \"major_partnerships\", \"make\", \"make\", \"make\", \"make\", \"make\", \"man\", \"man\", \"man\", \"man\", \"man\", \"manslaughter_charges\", \"manual_door\", \"manual_door\", \"manual_door\", \"manual_release\", \"manual_release\", \"manual_release\", \"manual_release\", \"manufacturer\", \"manufacturer\", \"manufacturer\", \"manufacturer\", \"manufacturer\", \"many\", \"many\", \"many\", \"many\", \"many\", \"market\", \"market\", \"market\", \"market\", \"market\", \"maryland_united\", \"massive_potentials\", \"mercedes\", \"mercedes\", \"mercedes\", \"mercedes\", \"microsoft_apple\", \"microsoft_ubuntu\", \"min_vxl\", \"model\", \"model\", \"model\", \"model\", \"model\", \"model_dual\", \"model_dual\", \"model_standard\", \"model_standard\", \"model_standard\", \"money\", \"money\", \"money\", \"money\", \"money\", \"month_prize\", \"month_prize\", \"motor\", \"motor\", \"motor\", \"motor\", \"motor\", \"msrp\", \"mtesla_new\", \"mtesla_new\", \"much\", \"much\", \"much\", \"much\", \"much\", \"musk\", \"musk\", \"musk\", \"musk\", \"musk\", \"must_stand\", \"must_stand\", \"must_stand\", \"nasdaq\", \"nasdaq\", \"nasdaq\", \"nasdaq\", \"nasdaq\", \"national_highway\", \"national_highway\", \"national_highway\", \"need\", \"need\", \"need\", \"need\", \"need\", \"netherlands\", \"neuralink\", \"neuralink\", \"neuralink\", \"neuralink\", \"neuralink\", \"never\", \"never\", \"never\", \"never\", \"never\", \"new\", \"new\", \"new\", \"new\", \"new\", \"nftartists_airdrops\", \"nftcommunity_nftlaunch\", \"nikola\", \"nikola\", \"nikola\", \"nikola\", \"nikola\", \"oil\", \"oil\", \"oil\", \"oil\", \"oil\", \"open\", \"open\", \"open\", \"open\", \"open\", \"opensea\", \"opensea\", \"orphan\", \"override\", \"overvalue\", \"overvalue\", \"overvalue\", \"overvalue\", \"panasonic\", \"panasonic\", \"panasonic\", \"pay\", \"pay\", \"pay\", \"pay\", \"pay\", \"people\", \"people\", \"people\", \"people\", \"people\", \"peugeot_worth\", \"peugeot_worth\", \"pitbull_eth\", \"pitbull_eth\", \"pixelpixel\", \"pixelpixel_nailed\", \"plan\", \"plan\", \"plan\", \"plan\", \"plan\", \"plunge\", \"plunge\", \"plunge\", \"pm_pst\", \"poor_working\", \"poor_working\", \"poor_working\", \"post\", \"post\", \"post\", \"post\", \"post\", \"power\", \"power\", \"power\", \"power\", \"power\", \"power_grid\", \"power_grid\", \"power_grid\", \"power_grid\", \"powerwall\", \"powerwall\", \"powerwall\", \"price\", \"price\", \"price\", \"price\", \"price\", \"prices_rise\", \"prize\", \"prize\", \"prize\", \"probe\", \"probe\", \"problem\", \"problem\", \"problem\", \"problem\", \"problem\", \"produce\", \"produce\", \"produce\", \"produce\", \"produce\", \"production\", \"production\", \"production\", \"production\", \"production\", \"profit_playtoearn\", \"project_based\", \"pwn\", \"pwn\", \"quality\", \"quality\", \"quality\", \"quality\", \"quality\", \"racial_discrimination\", \"racial_discrimination\", \"racial_discrimination\", \"racial_discrimination\", \"racial_discrimination\", \"racism\", \"racism\", \"racism\", \"racism\", \"racism\", \"range\", \"range\", \"range\", \"range\", \"range\", \"ray_dalio\", \"read\", \"read\", \"read\", \"read\", \"read\", \"recall\", \"recall\", \"recall\", \"recall\", \"recall\", \"renewableenergy\", \"renewableenergy\", \"renewableenergy\", \"reuters\", \"reuters\", \"reuters\", \"reuters\", \"reuters\", \"rewards_busd\", \"rewards_busd\", \"rickman\", \"right\", \"right\", \"right\", \"right\", \"right\", \"rising_materials\", \"rivian_gm\", \"rocket_past\", \"roof\", \"roof\", \"roof\", \"roof\", \"sadistic_psychopath\", \"safely\", \"safety\", \"safety\", \"safety\", \"safety\", \"safety\", \"safety_agency\", \"say\", \"say\", \"say\", \"say\", \"say\", \"scale\", \"scale\", \"scale\", \"scale\", \"scale\", \"scooter\", \"scooter\", \"scooter\", \"scooter\", \"see\", \"see\", \"see\", \"see\", \"see\", \"sell\", \"sell\", \"sell\", \"sell\", \"sell\", \"shanghai\", \"shanghai\", \"shanghai\", \"shanghai\", \"share\", \"share\", \"share\", \"share\", \"share\", \"shibainu_doge\", \"shibainu_doge\", \"shibaswap_uniswap\", \"short\", \"short\", \"short\", \"short\", \"short\", \"software\", \"software\", \"software\", \"software\", \"software\", \"solar\", \"solar\", \"solar\", \"solar\", \"solar\", \"spacex\", \"spacex\", \"spacex\", \"spacex\", \"spacex\", \"spacex_grand\", \"spacex_grand\", \"spacex_grand\", \"spontaneously\", \"spontaneously\", \"spot\", \"spot\", \"spot\", \"spot\", \"spot\", \"spritual\", \"st_may\", \"st_may\", \"st_may\", \"states_teslaradar\", \"states_teslaradar\", \"still\", \"still\", \"still\", \"still\", \"still\", \"stock\", \"stock\", \"stock\", \"stock\", \"stock\", \"stockmarket\", \"stockmarket\", \"stockmarket\", \"stor_via\", \"story\", \"story\", \"story\", \"story\", \"story\", \"strategy\", \"strategy\", \"strategy\", \"strategy\", \"strategy\", \"streetfighters\", \"sunra_miku\", \"sunra_miku\", \"super_worth\", \"super_worth\", \"supercharger\", \"supercharger\", \"supercharger\", \"supercharger\", \"supercharger\", \"supply\", \"supply\", \"supply\", \"supply\", \"supply\", \"t\", \"t\", \"take\", \"take\", \"take\", \"take\", \"take\", \"tank\", \"tank\", \"tank\", \"tank\", \"tank\", \"teach\", \"teach\", \"teach\", \"technological\", \"tell\", \"tell\", \"tell\", \"tell\", \"tell\", \"teslaradar\", \"teslaradar\", \"teslaradar\", \"texas_heatwave\", \"texas_heatwave\", \"thing\", \"thing\", \"thing\", \"thing\", \"thing\", \"think\", \"think\", \"think\", \"think\", \"think\", \"time\", \"time\", \"time\", \"time\", \"time\", \"token_metatesla\", \"token_metatesla\", \"tortures_animals\", \"toyota\", \"toyota\", \"toyota\", \"toyota\", \"toyota\", \"trading\", \"trading\", \"trading\", \"trading\", \"trading\", \"traffic_safety\", \"traffic_safety\", \"traffic_safety\", \"trap\", \"trap\", \"trap\", \"trap\", \"trap\", \"truck\", \"truck\", \"truck\", \"truck\", \"truck\", \"tsla\", \"tsla\", \"tsla\", \"tsla\", \"tsla\", \"tsla_winnings\", \"tuesday_th\", \"tweet\", \"tweet\", \"tweet\", \"tweet\", \"tweet\", \"twitter\", \"twitter\", \"twitter\", \"twitter\", \"twitter\", \"union\", \"union\", \"union\", \"union\", \"union\", \"unionize\", \"unionize\", \"unionize\", \"unionize\", \"unionize\", \"uniswap\", \"unitedstates\", \"unitedstates_model\", \"unitedstates_model\", \"unitedstates_modely\", \"unitedstates_modely\", \"urus\", \"use\", \"use\", \"use\", \"use\", \"use\", \"value\", \"value\", \"value\", \"value\", \"value\", \"vehicle\", \"vehicle\", \"vehicle\", \"vehicle\", \"vehicle\", \"video\", \"video\", \"video\", \"video\", \"video\", \"vinci_launching\", \"vip_eventscheck\", \"virginia_united\", \"volvo\", \"volvo\", \"vote_republican\", \"vote_republican\", \"vote_republican\", \"vote_republican\", \"vote_republican\", \"voxel_ama\", \"vw\", \"vw\", \"vw\", \"vw\", \"vw\", \"want\", \"want\", \"want\", \"want\", \"want\", \"way\", \"way\", \"way\", \"way\", \"way\", \"web_tg\", \"web_tg\", \"well\", \"well\", \"well\", \"well\", \"well\", \"well_organized\", \"whitelist_crypto\", \"window\", \"window\", \"window\", \"window\", \"window\", \"without_proof\", \"work\", \"work\", \"work\", \"work\", \"work\", \"worker\", \"worker\", \"worker\", \"worker\", \"worker\", \"world\", \"world\", \"world\", \"world\", \"world\", \"year\", \"year\", \"year\", \"year\", \"year\", \"yet_unrecognizable\", \"youtube_video\"]}, \"R\": 30, \"lambda.step\": 0.01, \"plot.opts\": {\"xlab\": \"PC1\", \"ylab\": \"PC2\"}, \"topic.order\": [4, 3, 2, 5, 1]};\n",
       "\n",
       "function LDAvis_load_lib(url, callback){\n",
       "  var s = document.createElement('script');\n",
       "  s.src = url;\n",
       "  s.async = true;\n",
       "  s.onreadystatechange = s.onload = callback;\n",
       "  s.onerror = function(){console.warn(\"failed to load library \" + url);};\n",
       "  document.getElementsByTagName(\"head\")[0].appendChild(s);\n",
       "}\n",
       "\n",
       "if(typeof(LDAvis) !== \"undefined\"){\n",
       "   // already loaded: just create the visualization\n",
       "   !function(LDAvis){\n",
       "       new LDAvis(\"#\" + \"ldavis_el5733082490450887161033184\", ldavis_el5733082490450887161033184_data);\n",
       "   }(LDAvis);\n",
       "}else if(typeof define === \"function\" && define.amd){\n",
       "   // require.js is available: use it to load d3/LDAvis\n",
       "   require.config({paths: {d3: \"https://d3js.org/d3.v5\"}});\n",
       "   require([\"d3\"], function(d3){\n",
       "      window.d3 = d3;\n",
       "      LDAvis_load_lib(\"https://cdn.jsdelivr.net/gh/bmabey/pyLDAvis@3.3.1/pyLDAvis/js/ldavis.v3.0.0.js\", function(){\n",
       "        new LDAvis(\"#\" + \"ldavis_el5733082490450887161033184\", ldavis_el5733082490450887161033184_data);\n",
       "      });\n",
       "    });\n",
       "}else{\n",
       "    // require.js not available: dynamically load d3 & LDAvis\n",
       "    LDAvis_load_lib(\"https://d3js.org/d3.v5.js\", function(){\n",
       "         LDAvis_load_lib(\"https://cdn.jsdelivr.net/gh/bmabey/pyLDAvis@3.3.1/pyLDAvis/js/ldavis.v3.0.0.js\", function(){\n",
       "                 new LDAvis(\"#\" + \"ldavis_el5733082490450887161033184\", ldavis_el5733082490450887161033184_data);\n",
       "            })\n",
       "         });\n",
       "}\n",
       "</script>"
      ],
      "text/plain": [
       "PreparedData(topic_coordinates=              x         y  topics  cluster       Freq\n",
       "topic                                                \n",
       "3     -0.150928  0.039703       1        1  24.279347\n",
       "2      0.098684 -0.026241       2        1  23.036273\n",
       "1      0.042776  0.133675       3        1  19.897816\n",
       "4      0.091029 -0.052940       4        1  19.029321\n",
       "0     -0.081562 -0.094196       5        1  13.757243, topic_info=         Term          Freq         Total Category  logprob  loglift\n",
       "128     stock  12936.000000  12936.000000  Default  30.0000  30.0000\n",
       "99   electric  11030.000000  11030.000000  Default  29.0000  29.0000\n",
       "97        car  14324.000000  14324.000000  Default  28.0000  28.0000\n",
       "108      musk  12244.000000  12244.000000  Default  27.0000  27.0000\n",
       "133      elon  11679.000000  11679.000000  Default  26.0000  26.0000\n",
       "..        ...           ...           ...      ...      ...      ...\n",
       "77       want    746.986183   5036.028295   Topic5  -5.3912   0.0753\n",
       "136        go    813.448560   8981.731560   Topic5  -5.3060  -0.4181\n",
       "268      sell    656.835863   4285.099541   Topic5  -5.5198   0.1081\n",
       "152      look    588.828699   3749.914476   Topic5  -5.6291   0.1323\n",
       "63      think    579.074865   6583.942150   Topic5  -5.6458  -0.4474\n",
       "\n",
       "[465 rows x 6 columns], token_table=       Topic      Freq                      Term\n",
       "term                                            \n",
       "12108      5  0.983496               accept_doge\n",
       "12011      1  0.989411  administration_democrats\n",
       "1111       1  0.070499                    afford\n",
       "1111       2  0.039811                    afford\n",
       "1111       3  0.029858                    afford\n",
       "...      ...       ...                       ...\n",
       "305        3  0.029914                      year\n",
       "305        4  0.052641                      year\n",
       "305        5  0.111691                      year\n",
       "6952       1  0.981368        yet_unrecognizable\n",
       "11687      3  0.981622             youtube_video\n",
       "\n",
       "[1194 rows x 3 columns], R=30, lambda_step=0.01, plot_opts={'xlab': 'PC1', 'ylab': 'PC2'}, topic_order=[4, 3, 2, 5, 1])"
      ]
     },
     "execution_count": 27,
     "metadata": {},
     "output_type": "execute_result"
    }
   ],
   "source": [
    "pyLDAvis.enable_notebook()\n",
    "gensimvis.prepare(base_model, corpus, id2word)"
   ]
  },
  {
   "cell_type": "code",
   "execution_count": 28,
   "id": "b0ee8c18",
   "metadata": {},
   "outputs": [],
   "source": [
    "def format_topics_sentences(ldamodel=None, corpus=corpus, texts=data):\n",
    "    # Init output\n",
    "    sent_topics_df = pd.DataFrame()\n",
    "\n",
    "    # Get main topic in each document\n",
    "    for i, row_list in enumerate(ldamodel[corpus]):\n",
    "        row = row_list[0] if ldamodel.per_word_topics else row_list            \n",
    "        # print(row)\n",
    "        row = sorted(row, key=lambda x: (x[1]), reverse=True)\n",
    "        # Get the Dominant topic, Perc Contribution and Keywords for each document\n",
    "        for j, (topic_num, prop_topic) in enumerate(row):\n",
    "            if j == 0:  # => dominant topic\n",
    "                wp = ldamodel.show_topic(topic_num)\n",
    "                topic_keywords = \", \".join([word for word, prop in wp])\n",
    "                sent_topics_df = sent_topics_df.append(pd.Series([int(topic_num), round(prop_topic,4), topic_keywords]), ignore_index=True)\n",
    "            else:\n",
    "                break\n",
    "    sent_topics_df.columns = ['Dominant_Topic', 'Perc_Contribution', 'Topic_Keywords']\n",
    "\n",
    "    # Add original text to the end of the output\n",
    "    contents = pd.Series(texts)\n",
    "    sent_topics_df = pd.concat([sent_topics_df, contents], axis=1)\n",
    "    return(sent_topics_df)\n",
    "\n"
   ]
  },
  {
   "cell_type": "code",
   "execution_count": null,
   "id": "7f82ae11",
   "metadata": {},
   "outputs": [],
   "source": [
    "df_topic_sents_keywords = format_topics_sentences(ldamodel = base_model, corpus = corpus, texts = lem_noNone)"
   ]
  },
  {
   "cell_type": "code",
   "execution_count": null,
   "id": "f61fabb7",
   "metadata": {},
   "outputs": [],
   "source": [
    "sent_topics_Sorteddf = pd.DataFrame()\n",
    "sent_topics_Outdf = df_topic_sents_keywords.groupby('Dominant_Topic')\n",
    "\n",
    "for i, group in sent_topics_Outdf:\n",
    "    sent_topics_Sorteddf = pd.concat([sent_topics_Sorteddf, \n",
    "                                             group.sort_values(['Perc_Contribution'], ascending=False).head(1)], \n",
    "                                            axis=0)\n",
    "# Reset Index    \n",
    "sent_topics_Sorteddf.reset_index(drop=True, inplace=True)\n",
    "# Format\n",
    "sent_topics_Sorteddf.columns = ['Topic_Num', \"Topic_Perc_Contrib\", \"Keywords\", \"Representative Text\"]\n",
    "\n",
    "sent_topics_Sorteddf.head()"
   ]
  },
  {
   "cell_type": "code",
   "execution_count": null,
   "id": "7761f789",
   "metadata": {},
   "outputs": [],
   "source": []
  },
  {
   "cell_type": "code",
   "execution_count": null,
   "id": "92a9ae62",
   "metadata": {},
   "outputs": [],
   "source": [
    "# General Code for a basic Radar Chart with only one layer\n",
    "\n",
    "categories = ['Topic 0', 'Topic 1', 'Topic 2', 'Topic 3', 'Topic 4']\n",
    "dist = \n",
    "\n",
    "fig = go.Figure(\n",
    "    data=[go.Scatterpolar(r=dist, theta=categories, name='Topic Tweet Distribution')],\n",
    "    layout=go.Layout(\n",
    "        title=go.layout.Title(text='Restaurant comparison'),\n",
    "        polar={'radialaxis': {'visible': True}},\n",
    "        showlegend=False\n",
    "    )\n",
    ")"
   ]
  },
  {
   "cell_type": "markdown",
   "id": "5eabebef",
   "metadata": {},
   "source": [
    "#### ============================================================================"
   ]
  },
  {
   "cell_type": "markdown",
   "id": "e61ba855",
   "metadata": {},
   "source": [
    "# Below is the grid search the chunky one"
   ]
  },
  {
   "cell_type": "markdown",
   "id": "d2fe4449",
   "metadata": {},
   "source": [
    "### Here\n",
    "## We \n",
    "# Go"
   ]
  },
  {
   "cell_type": "code",
   "execution_count": null,
   "id": "83755606",
   "metadata": {},
   "outputs": [],
   "source": [
    "# supporting function\n",
    "def compute_coherence_values(corpus, dictionary, k, a, b):\n",
    "    \n",
    "    lda_model = gensim.models.LdaMulticore(corpus=corpus,\n",
    "                                           id2word=dictionary,\n",
    "                                           num_topics=k, \n",
    "                                           random_state=100,\n",
    "                                           chunksize=1500,\n",
    "                                           passes=8,\n",
    "                                           alpha=a,\n",
    "                                           eta=b, \n",
    "                                           workers = 7)\n",
    "    \n",
    "    coherence_model_lda = CoherenceModel(model=lda_model, texts=lem_noNone, dictionary=id2word, coherence='c_v')\n",
    "    \n",
    "    return coherence_model_lda.get_coherence()"
   ]
  },
  {
   "cell_type": "code",
   "execution_count": null,
   "id": "eab11910",
   "metadata": {
    "scrolled": true
   },
   "outputs": [],
   "source": [
    "grid = {}\n",
    "grid['Validation_Set'] = {}\n",
    "# Topics range\n",
    "min_topics = 3\n",
    "max_topics = 9\n",
    "step_size = 1\n",
    "topics_range = range(min_topics, max_topics, step_size)\n",
    "# Alpha parameter\n",
    "alpha = list(np.arange(0.01, 1, 0.3))\n",
    "alpha.append('symmetric')\n",
    "alpha.append('asymmetric')\n",
    "# Beta parameter\n",
    "beta = list(np.arange(0.01, 1, 0.3))\n",
    "beta.append('symmetric')\n",
    "# Validation sets\n",
    "num_of_docs = len(corpus)\n",
    "corpus_sets = [#gensim.utils.ClippedCorpus(corpus, num_of_docs*0.25), \n",
    "               gensim.utils.ClippedCorpus(corpus, int(num_of_docs*0.5)), \n",
    "               gensim.utils.ClippedCorpus(corpus, int(num_of_docs*0.75)), \n",
    "               corpus]\n",
    "\n",
    "corpus_title = ['50% Corpus', '75% Corpus', '100% Corpus']\n",
    "\n",
    "model_results = {'Validation_Set': [],\n",
    "                 'Topics': [],\n",
    "                 'Alpha': [],\n",
    "                 'Beta': [],\n",
    "                 'Coherence': []\n",
    "                }\n",
    "# Can take a long time to run\n",
    "if 1 == 1:\n",
    "    pbar = tqdm.tqdm(total=540)\n",
    "    \n",
    "    # iterate through validation corpuses\n",
    "    for i in range(len(corpus_sets)):\n",
    "        # iterate through number of topics\n",
    "        for k in topics_range:\n",
    "            # iterate through alpha values\n",
    "            for a in alpha:\n",
    "                # iterare through beta values\n",
    "                for b in beta:\n",
    "                    # get the coherence score for the given parameters\n",
    "                    cv = compute_coherence_values(corpus=corpus_sets[i], dictionary=id2word, \n",
    "                                                  k=k, a=a, b=b)\n",
    "                    # Save the model results\n",
    "                    model_results['Validation_Set'].append(corpus_title[i])\n",
    "                    model_results['Topics'].append(k)\n",
    "                    model_results['Alpha'].append(a)\n",
    "                    model_results['Beta'].append(b)\n",
    "                    model_results['Coherence'].append(cv)\n",
    "                    \n",
    "                    pbar.update(1)\n",
    "    results_df = pd.DataFrame(model_results)\n",
    "    pbar.close()"
   ]
  },
  {
   "cell_type": "code",
   "execution_count": null,
   "id": "71f9d81f",
   "metadata": {},
   "outputs": [],
   "source": [
    "results_df = pd.read_csv('Data/first-gs-results-24h')\n",
    "results_df.drop(columns = 'Unnamed: 0', inplace = True)"
   ]
  },
  {
   "cell_type": "code",
   "execution_count": null,
   "id": "6c4a3e92",
   "metadata": {},
   "outputs": [],
   "source": [
    "results_df[(results_df['Coherence'] >= 0.38) & (results_df['Topics'] == 5 )]"
   ]
  },
  {
   "cell_type": "markdown",
   "id": "041c9c37",
   "metadata": {},
   "source": [
    "# ============================================================================="
   ]
  },
  {
   "cell_type": "markdown",
   "id": "280f0768",
   "metadata": {},
   "source": [
    "# Below, will be trying to reduce size of corpus to increase model coherence"
   ]
  },
  {
   "cell_type": "code",
   "execution_count": null,
   "id": "affaeff8",
   "metadata": {
    "scrolled": true
   },
   "outputs": [],
   "source": [
    "len(lem_noNone)"
   ]
  },
  {
   "cell_type": "code",
   "execution_count": null,
   "id": "041d792f",
   "metadata": {},
   "outputs": [],
   "source": [
    "longer_tweets = [(tweet) for (i, tweet) in enumerate(lem_noNone) if i not in counter]\n",
    "len(longer_tweets)"
   ]
  },
  {
   "cell_type": "code",
   "execution_count": null,
   "id": "b32f4c89",
   "metadata": {},
   "outputs": [],
   "source": [
    "new_id2word = corpora.Dictionary(longer_tweets)\n",
    "print(len(new_id2word)) "
   ]
  },
  {
   "cell_type": "code",
   "execution_count": null,
   "id": "2701a596",
   "metadata": {},
   "outputs": [],
   "source": [
    "new_id2word.filter_extremes(no_below=9, no_above=.90)\n",
    "print(len(new_id2word))"
   ]
  },
  {
   "cell_type": "code",
   "execution_count": null,
   "id": "91ff4989",
   "metadata": {},
   "outputs": [],
   "source": [
    "new_corpus = [new_id2word.doc2bow(d) for d in longer_tweets]"
   ]
  },
  {
   "cell_type": "code",
   "execution_count": null,
   "id": "58f532e4",
   "metadata": {},
   "outputs": [],
   "source": [
    "# Instantiating a Base LDA model\n",
    "newer_model = LdaMulticore(corpus=new_corpus,\n",
    "                          num_topics=5,\n",
    "                          id2word=new_id2word,\n",
    "                          workers=6,\n",
    "                          passes=8,\n",
    "                          alpha = 0.91 , \n",
    "                          eta = 0.61,\n",
    "                          chunksize=1500,\n",
    "                          random_state = 100)\n",
    "newer_words = [re.findall(r'\"([^\"]*)\"',t[1]) for t in newer_model.print_topics()]\n",
    "newer_topics = [' '.join(t[0:10]) for t in newer_words]\n",
    "\n",
    "for id, t in enumerate(newer_topics): \n",
    "    print(f\"------ Topic {id + 1} ------\")\n",
    "    print(t, end=\"\\n\\n\")"
   ]
  },
  {
   "cell_type": "code",
   "execution_count": null,
   "id": "a3c35d6c",
   "metadata": {},
   "outputs": [],
   "source": [
    "newer_perplexity = newer_model.log_perplexity(new_corpus)\n",
    "\n",
    "# Compute Coherence Score\n",
    "newer_coherence_model = CoherenceModel(model= newer_model, texts=longer_tweets, \n",
    "                                   dictionary=new_id2word, coherence='c_v')\n",
    "\n",
    "new_coherence_lda_model_base = newer_coherence_model.get_coherence()\n",
    "print('\\nCoherence Score: ', new_coherence_lda_model_base, '\\nPerplexity: ', newer_perplexity)"
   ]
  },
  {
   "cell_type": "code",
   "execution_count": null,
   "id": "da98ae39",
   "metadata": {},
   "outputs": [],
   "source": [
    "pyLDAvis.enable_notebook()\n",
    "gensimvis.prepare(newer_model, new_corpus, new_id2word)"
   ]
  },
  {
   "cell_type": "markdown",
   "id": "41c5331c",
   "metadata": {},
   "source": [
    "# ============================================================================="
   ]
  },
  {
   "cell_type": "markdown",
   "id": "c7c945ae",
   "metadata": {},
   "source": [
    "# Below --- Need to link tweets to topics, and calculate sentiment by topic"
   ]
  },
  {
   "cell_type": "code",
   "execution_count": null,
   "id": "1c8ea84e",
   "metadata": {},
   "outputs": [],
   "source": [
    "full"
   ]
  },
  {
   "cell_type": "code",
   "execution_count": null,
   "id": "17943d22",
   "metadata": {},
   "outputs": [],
   "source": [
    "len(new_corpus)"
   ]
  },
  {
   "cell_type": "code",
   "execution_count": null,
   "id": "6b7c0316",
   "metadata": {},
   "outputs": [],
   "source": [
    "# Counter contains perfect indices of all tweets that are short -- directly translates to original full dataframe\n",
    "counter[:10]"
   ]
  },
  {
   "cell_type": "code",
   "execution_count": null,
   "id": "dda9073c",
   "metadata": {},
   "outputs": [],
   "source": [
    "lem_noNone[19]"
   ]
  },
  {
   "cell_type": "code",
   "execution_count": null,
   "id": "89ae218b",
   "metadata": {},
   "outputs": [],
   "source": [
    "fuck = [1, 24, 3]\n",
    "for i in enumerate(fuck):\n",
    "    print(i)"
   ]
  },
  {
   "cell_type": "code",
   "execution_count": null,
   "id": "781cbc82",
   "metadata": {},
   "outputs": [],
   "source": [
    "\"\"\"\n",
    "Note above, \n",
    "the original dataframe is indexed from 0, as in it is in the same form as an enumerated list\n",
    "we created a function earlier to find all of the missing index values somewhere around creating lem_noNone\n",
    "\n",
    "this function can be used to set proper indexs on the new lists past the funnkiness somehow... easier said than done \n",
    "\"\"\""
   ]
  },
  {
   "cell_type": "markdown",
   "id": "721a9adf",
   "metadata": {},
   "source": [
    "## Attempting to get the top documents per topic "
   ]
  },
  {
   "cell_type": "code",
   "execution_count": null,
   "id": "c2d4eedb",
   "metadata": {},
   "outputs": [],
   "source": [
    "def format_topics_sentences(ldamodel=None, corpus=corpus, texts=data):\n",
    "    # Init output\n",
    "    sent_topics_df = pd.DataFrame()\n",
    "\n",
    "    # Get main topic in each document\n",
    "    for i, row_list in enumerate(ldamodel[corpus]):\n",
    "        row = row_list[0] if ldamodel.per_word_topics else row_list            \n",
    "        # print(row)\n",
    "        row = sorted(row, key=lambda x: (x[1]), reverse=True)\n",
    "        # Get the Dominant topic, Perc Contribution and Keywords for each document\n",
    "        for j, (topic_num, prop_topic) in enumerate(row):\n",
    "            if j == 0:  # => dominant topic\n",
    "                wp = ldamodel.show_topic(topic_num)\n",
    "                topic_keywords = \", \".join([word for word, prop in wp])\n",
    "                sent_topics_df = sent_topics_df.append(pd.Series([int(topic_num), round(prop_topic,4), topic_keywords]), ignore_index=True)\n",
    "            else:\n",
    "                break\n",
    "    sent_topics_df.columns = ['Dominant_Topic', 'Perc_Contribution', 'Topic_Keywords']\n",
    "\n",
    "    # Add original text to the end of the output\n",
    "    contents = pd.Series(texts)\n",
    "    sent_topics_df = pd.concat([sent_topics_df, contents], axis=1)\n",
    "    return(sent_topics_df)\n"
   ]
  },
  {
   "cell_type": "code",
   "execution_count": null,
   "id": "c281666e",
   "metadata": {},
   "outputs": [],
   "source": [
    "df_topic_sents_keywords = format_topics_sentences(ldamodel=newer_model, corpus=new_corpus, texts=longer_tweets)\n",
    "df_topic_sents_keywords"
   ]
  },
  {
   "cell_type": "code",
   "execution_count": null,
   "id": "8d1302e2",
   "metadata": {},
   "outputs": [],
   "source": [
    "df_topic_sents_keywords.Dominant_Topic.value_counts()"
   ]
  },
  {
   "cell_type": "code",
   "execution_count": null,
   "id": "3b138b46",
   "metadata": {},
   "outputs": [],
   "source": []
  },
  {
   "cell_type": "code",
   "execution_count": null,
   "id": "eb273517",
   "metadata": {},
   "outputs": [],
   "source": [
    "df_topic_sents_keywords.Topic_Keywords.value_counts()"
   ]
  },
  {
   "cell_type": "code",
   "execution_count": null,
   "id": "f296d2a9",
   "metadata": {},
   "outputs": [],
   "source": [
    "sent_topics_sorteddf_mallet = pd.DataFrame()\n",
    "sent_topics_outdf_grpd = df_topic_sents_keywords.groupby('Dominant_Topic')\n",
    "\n",
    "for i, grp in sent_topics_outdf_grpd:\n",
    "    sent_topics_sorteddf_mallet = pd.concat([sent_topics_sorteddf_mallet, \n",
    "                                             grp.sort_values(['Perc_Contribution'], ascending=False).head(1)], \n",
    "                                            axis=0)\n",
    "# Reset Index    \n",
    "sent_topics_sorteddf_mallet.reset_index(drop=True, inplace=True)\n",
    "# Format\n",
    "sent_topics_sorteddf_mallet.columns = ['Topic_Num', \"Topic_Perc_Contrib\", \"Keywords\", \"Representative Text\"]\n",
    "\n",
    "sent_topics_sorteddf_mallet.head(10)"
   ]
  },
  {
   "cell_type": "code",
   "execution_count": null,
   "id": "05dd932d",
   "metadata": {},
   "outputs": [],
   "source": [
    "sent_topics_sorteddf_mallet.iloc[2]['Keywords']"
   ]
  },
  {
   "cell_type": "code",
   "execution_count": null,
   "id": "bb9710e8",
   "metadata": {},
   "outputs": [],
   "source": [
    "# sent_topics_sorteddf_mallet.iloc[2]['Representative Text']"
   ]
  },
  {
   "cell_type": "code",
   "execution_count": null,
   "id": "d5de8ff4",
   "metadata": {},
   "outputs": [],
   "source": [
    "# longer_tweets[:10]"
   ]
  },
  {
   "cell_type": "code",
   "execution_count": null,
   "id": "d067060f",
   "metadata": {},
   "outputs": [],
   "source": [
    "df_topic_sents_keywords"
   ]
  },
  {
   "cell_type": "code",
   "execution_count": null,
   "id": "f633401c",
   "metadata": {
    "scrolled": true
   },
   "outputs": [],
   "source": [
    "df_topic_sents_keywords[(df_topic_sents_keywords['Dominant_Topic'] == 4) & (df_topic_sents_keywords['Perc_Contribution'] >= 0.84)]"
   ]
  },
  {
   "cell_type": "code",
   "execution_count": null,
   "id": "9a95deb5",
   "metadata": {},
   "outputs": [],
   "source": []
  },
  {
   "cell_type": "code",
   "execution_count": null,
   "id": "692339c1",
   "metadata": {},
   "outputs": [],
   "source": [
    "len(ind)"
   ]
  },
  {
   "cell_type": "code",
   "execution_count": null,
   "id": "7199d366",
   "metadata": {},
   "outputs": [],
   "source": [
    "len(counter)"
   ]
  },
  {
   "cell_type": "code",
   "execution_count": null,
   "id": "aa8ad2e2",
   "metadata": {},
   "outputs": [],
   "source": [
    "sum_dropped = counter + ind\n",
    "len(sum_dropped)"
   ]
  },
  {
   "cell_type": "code",
   "execution_count": null,
   "id": "574a7403",
   "metadata": {},
   "outputs": [],
   "source": [
    "# full_tester = full.drop(full.index[ind])\n",
    "full_tester = full.drop(full.index[sum_dropped])\n",
    "full_tester.reset_index(inplace = True)"
   ]
  },
  {
   "cell_type": "code",
   "execution_count": null,
   "id": "5b21f6e2",
   "metadata": {},
   "outputs": [],
   "source": [
    "full_tester"
   ]
  },
  {
   "cell_type": "code",
   "execution_count": null,
   "id": "aad78c85",
   "metadata": {},
   "outputs": [],
   "source": [
    "full_tester.tweets.iloc[104646]"
   ]
  },
  {
   "cell_type": "code",
   "execution_count": null,
   "id": "1d8e8c4c",
   "metadata": {},
   "outputs": [],
   "source": [
    "len(longer_tweets)"
   ]
  },
  {
   "cell_type": "code",
   "execution_count": null,
   "id": "d45201fd",
   "metadata": {},
   "outputs": [],
   "source": [
    "len(new_corpus)"
   ]
  },
  {
   "cell_type": "code",
   "execution_count": null,
   "id": "57d0fb66",
   "metadata": {},
   "outputs": [],
   "source": [
    "def find_common_strings(string_list, input_string):\n",
    "    common_strings = []\n",
    "    for s in string_list:\n",
    "        if set(s).intersection(set(input_string)) == set(s):\n",
    "            common_strings.append(s)\n",
    "    return common_strings"
   ]
  },
  {
   "cell_type": "code",
   "execution_count": null,
   "id": "aa62a598",
   "metadata": {},
   "outputs": [],
   "source": [
    "def find_common_strings(string_list, input_string):\n",
    "    common_strings = []\n",
    "    for i, s in enumerate(string_list):\n",
    "        if set(s).intersection(set(input_string)) == set(s):\n",
    "            common_strings.append((i, s))\n",
    "            \n",
    "    pos_dic = {}\n",
    "    for i, string in common_strings:\n",
    "        string_split = string.split(' ')\n",
    "        input_split = input_string.split(' ')\n",
    "        common = []\n",
    "        for word in input_split:\n",
    "            if word in string_split:\n",
    "                common.append(word)\n",
    "        pos_dic[i] = common\n",
    "        \n",
    "    \n",
    "    \n",
    "    \n",
    "    return common_strings, pos_dic"
   ]
  },
  {
   "cell_type": "code",
   "execution_count": null,
   "id": "cb63c692",
   "metadata": {},
   "outputs": [],
   "source": [
    "test_string = (' ').join(df_topic_sents_keywords[0].iloc[0])\n",
    "test_string"
   ]
  },
  {
   "cell_type": "code",
   "execution_count": null,
   "id": "09e201b6",
   "metadata": {},
   "outputs": [],
   "source": [
    "big_list, ind_dict = find_common_strings(full['preprep'], test_string)"
   ]
  },
  {
   "cell_type": "code",
   "execution_count": null,
   "id": "87382fb6",
   "metadata": {},
   "outputs": [],
   "source": [
    "print(len(ind_dict), len(big_list))"
   ]
  },
  {
   "cell_type": "code",
   "execution_count": null,
   "id": "3e82d628",
   "metadata": {},
   "outputs": [],
   "source": [
    "potentials = []\n",
    "for key, value in ind_dict.items():\n",
    "    if value != []:\n",
    "        potentials.append(key)"
   ]
  },
  {
   "cell_type": "code",
   "execution_count": null,
   "id": "09690c8a",
   "metadata": {},
   "outputs": [],
   "source": [
    "for i in potentials:\n",
    "    print(full['preprep'].iloc[i])"
   ]
  },
  {
   "cell_type": "code",
   "execution_count": null,
   "id": "f6b6a091",
   "metadata": {},
   "outputs": [],
   "source": []
  },
  {
   "cell_type": "code",
   "execution_count": null,
   "id": "ea3749c1",
   "metadata": {},
   "outputs": [],
   "source": []
  },
  {
   "cell_type": "code",
   "execution_count": null,
   "id": "e79cfdc2",
   "metadata": {},
   "outputs": [],
   "source": [
    "test_string[::-1].find(' ')"
   ]
  },
  {
   "cell_type": "code",
   "execution_count": null,
   "id": "f8d7ffc1",
   "metadata": {},
   "outputs": [],
   "source": [
    "for s in full['preprep']:\n",
    "    "
   ]
  },
  {
   "cell_type": "code",
   "execution_count": null,
   "id": "215ea96a",
   "metadata": {},
   "outputs": [],
   "source": [
    "# string_test = find_common_strings(lem_noNone,test_string )\n",
    "# string_test"
   ]
  },
  {
   "cell_type": "markdown",
   "id": "08ad9207",
   "metadata": {},
   "source": [
    "# ========================================================================================================================================================================================================================================================================================================================================================================"
   ]
  },
  {
   "cell_type": "markdown",
   "id": "6192e3bd",
   "metadata": {},
   "source": [
    "# SCRAP"
   ]
  },
  {
   "cell_type": "markdown",
   "id": "956e5d87",
   "metadata": {},
   "source": [
    "# ========================================================================================================================================================================================================================================================================================================================================================================"
   ]
  },
  {
   "cell_type": "code",
   "execution_count": null,
   "id": "5fa5e729",
   "metadata": {},
   "outputs": [],
   "source": [
    "for i in range(len(doc_set)):\n",
    "    print(ldamodel[corpus[i]])"
   ]
  },
  {
   "cell_type": "code",
   "execution_count": null,
   "id": "ec277e1a",
   "metadata": {},
   "outputs": [],
   "source": [
    "# CODE WORKS --- JUST USE IT LATER \n",
    "\n",
    "# Adding Sentiment\n",
    "sia = SentimentIntensityAnalyzer()\n",
    "comp_dic = {}\n",
    "for i, tweet in full['tweets'].iteritems():\n",
    "    comp_dic[i] = sia.polarity_scores(tweet)['compound']\n",
    "\n",
    "comp_scores = pd.Series(comp_dic, name = 'sentiment')\n",
    "df_sent = full.merge(comp_scores, left_index = True, right_index = True)\n",
    "df = df_sent.set_index('Unnamed: 0')"
   ]
  },
  {
   "cell_type": "code",
   "execution_count": null,
   "id": "d5308d92",
   "metadata": {},
   "outputs": [],
   "source": [
    "vectorizer = CountVectorizer()\n",
    "data_vectorized = vectorizer.fit_transform(df.drop('tokens'))\n",
    "\n",
    "\n",
    "\n",
    "# CV Param\n",
    "search_params = {'n_components': [5, 10, 15, 20, 25, 30], 'learning_decay': [.5, .7, .9], 'batch_size':[128, 256]}\n",
    "\n",
    "# Init Model\n",
    "lda = LatentDirichletAllocation()\n",
    "\n",
    "# Init Grid Search Class\n",
    "model = GridSearchCV(lda, cv = 5, param_grid=search_params, n_jobs = -1)\n",
    "\n",
    "\n",
    "\n",
    "# Grid Search\n",
    "model.fit(data_vectorized)\n",
    "\n",
    "# Best Model\n",
    "best_lda_model = model.best_estimator_\n",
    "\n",
    "# Model Parameters\n",
    "print(\"Best Model's Params: \", model.best_params_)\n",
    "\n",
    "# Log Likelihood Score\n",
    "print(\"Best Log Likelihood Score: \", model.best_score_)\n",
    "\n",
    "# Perplexity\n",
    "print(\"Model Perplexity: \", best_lda_model.perplexity(data_vectorized))\n",
    "\n",
    "\n",
    "best_lda_model"
   ]
  },
  {
   "cell_type": "code",
   "execution_count": null,
   "id": "af47192f",
   "metadata": {},
   "outputs": [],
   "source": [
    "GridSearchCV(cv=None, error_score='raise',\n",
    "             estimator=LatentDirichletAllocation(batch_size=128, \n",
    "                                                 doc_topic_prior=None,\n",
    "                                                 evaluate_every=-1, \n",
    "                                                 learning_decay=0.7, \n",
    "                                                 learning_method=None,\n",
    "                                                 learning_offset=10.0, \n",
    "                                                 max_doc_update_iter=100, \n",
    "                                                 max_iter=10,\n",
    "                                                 mean_change_tol=0.001, \n",
    "                                                 n_components=10, \n",
    "                                                 n_jobs=1,\n",
    "                                                 perp_tol=0.1, \n",
    "                                                 random_state=None,\n",
    "                                                 topic_word_prior=None, \n",
    "                                                 total_samples=1000000.0, \n",
    "                                                 verbose=0),\n",
    "             n_jobs=-2,\n",
    "             param_grid={'n_topics': [10, 15, 20, 30], \n",
    "                         'learning_decay': [0.5, 0.7, 0.9]},\n",
    "             pre_dispatch='2*n_jobs', refit=True, return_train_score='warn',\n",
    "             scoring=None, verbose=0)"
   ]
  }
 ],
 "metadata": {
  "kernelspec": {
   "display_name": "broke-the-other",
   "language": "python",
   "name": "broke-the-other"
  },
  "language_info": {
   "codemirror_mode": {
    "name": "ipython",
    "version": 3
   },
   "file_extension": ".py",
   "mimetype": "text/x-python",
   "name": "python",
   "nbconvert_exporter": "python",
   "pygments_lexer": "ipython3",
   "version": "3.10.4"
  }
 },
 "nbformat": 4,
 "nbformat_minor": 5
}
