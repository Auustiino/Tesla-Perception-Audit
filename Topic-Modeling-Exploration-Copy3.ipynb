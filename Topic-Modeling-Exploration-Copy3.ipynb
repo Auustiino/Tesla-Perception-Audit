{
 "cells": [
  {
   "cell_type": "markdown",
   "id": "a50c4794",
   "metadata": {},
   "source": [
    "# Libraries"
   ]
  },
  {
   "cell_type": "code",
   "execution_count": 1,
   "id": "aa2ce17e",
   "metadata": {
    "scrolled": true
   },
   "outputs": [
    {
     "name": "stderr",
     "output_type": "stream",
     "text": [
      "/Users/austinboring/opt/anaconda3/envs/broke-the-other/lib/python3.10/site-packages/gensim/matutils.py:22: DeprecationWarning:\n",
      "\n",
      "Please use `triu` from the `scipy.linalg` namespace, the `scipy.linalg.special_matrices` namespace is deprecated.\n",
      "\n"
     ]
    }
   ],
   "source": [
    "import tqdm\n",
    "import spacy\n",
    "import numpy as np\n",
    "import regex as re\n",
    "import pandas as pd\n",
    "import seaborn as sns\n",
    "\n",
    "import plotly.graph_objects as go\n",
    "import plotly.offline as pyo\n",
    "\n",
    "\n",
    "\n",
    "import pyLDAvis\n",
    "import pyLDAvis.gensim_models as gensim_models\n",
    "import pyLDAvis.gensim_models as gensimvis\n",
    "\n",
    "import gensim\n",
    "# from gensim.models import wrappers\n",
    "# from gensim.models.wrappers import LdaMallet\n",
    "import gensim.corpora as corpora\n",
    "from gensim.corpora import dictionary\n",
    "from gensim.utils import simple_preprocess\n",
    "from gensim.models.ldamulticore import LdaMulticore\n",
    "from gensim.models.coherencemodel import CoherenceModel\n",
    "\n",
    "import nltk\n",
    "from nltk import pos_tag\n",
    "from nltk.corpus import stopwords\n",
    "from nltk.corpus import wordnet\n",
    "from nltk.tokenize import word_tokenize\n",
    "from nltk.stem.porter import PorterStemmer\n",
    "from nltk.stem.wordnet import WordNetLemmatizer\n",
    "\n",
    "from vaderSentiment.vaderSentiment import SentimentIntensityAnalyzer\n",
    "\n",
    "import warnings\n",
    "warnings.filterwarnings(\"ignore\", category=DeprecationWarning) \n",
    "warnings.filterwarnings(\"ignore\", category=FutureWarning)\n",
    "\n",
    "\n",
    "# Think these can be removed\n",
    "from sklearn.feature_extraction.text import CountVectorizer, TfidfVectorizer\n",
    "from sklearn.model_selection import GridSearchCV\n",
    "from sklearn.decomposition import LatentDirichletAllocation, TruncatedSVD"
   ]
  },
  {
   "cell_type": "markdown",
   "id": "c9cd69b8",
   "metadata": {},
   "source": [
    "# Importing -- Fixing columns"
   ]
  },
  {
   "cell_type": "code",
   "execution_count": 2,
   "id": "09b8b307",
   "metadata": {},
   "outputs": [],
   "source": [
    "full = pd.read_csv('Data/Data-Cleaned/238k-Uncleaned')"
   ]
  },
  {
   "cell_type": "code",
   "execution_count": 3,
   "id": "6bbd51c2",
   "metadata": {},
   "outputs": [],
   "source": [
    "# Renaming tweets column, dropping unnamed column, making tweets strings\n",
    "\n",
    "full['tweets'] = full['0']\n",
    "full.reset_index(inplace = True)\n",
    "full = full.drop(columns = ['0', 'Unnamed: 0', 'index'])\n",
    "# eh\n",
    "full.drop_duplicates(inplace = True, ignore_index = True)"
   ]
  },
  {
   "cell_type": "markdown",
   "id": "67a87f9a",
   "metadata": {},
   "source": [
    "# Preprocessing ---- will need to test different preprocessing later"
   ]
  },
  {
   "cell_type": "code",
   "execution_count": 150,
   "id": "5f1680b2",
   "metadata": {},
   "outputs": [],
   "source": [
    "# Function for Gensim simple preprocessor --- \n",
    "def sent_to_words(sentences):\n",
    "    for sentence in sentences:\n",
    "        yield(gensim.utils.simple_preprocess(str(sentence), deacc=True))  # deacc=True removes punctuations\n",
    "        \n",
    "# STOPWORDS ==========================================\n",
    "def remove_stopwords(texts):\n",
    "    return [[word for word in simple_preprocess(str(doc)) if word not in stop_words]for doc in texts]\n",
    "# Stop Words list -- Can be Edited\n",
    "stop_words = stopwords.words('english')\n",
    "stop_words.extend(['tesla', 'c,', 'x', 't', 'p', 'amp', 'car', 'get', 'go', 'use'])\n",
    "wnl = WordNetLemmatizer()\n",
    "\n",
    "# BIGRAMS===============================================\n",
    "def make_bigrams(texts):\n",
    "    return bigram_mod[texts]\n",
    "\n",
    "# TRIGRAMS =============================================\n",
    "def make_trigrams(texts):\n",
    "    return trigram_mod[bigram_mod[texts]]\n",
    "\n",
    "# LEMMATIZING ==========================================\n",
    "def pos_tagger(nltk_tag):\n",
    "    if nltk_tag.startswith('J'):\n",
    "        return wordnet.ADJ\n",
    "    elif nltk_tag.startswith('V'):\n",
    "        return wordnet.VERB\n",
    "    elif nltk_tag.startswith('N'):\n",
    "        return wordnet.NOUN\n",
    "    elif nltk_tag.startswith('R'):\n",
    "        return wordnet.ADV\n",
    "    else:         \n",
    "        return None    \n",
    "def lemmatize_texts(tweet):\n",
    "     for i in tweet:\n",
    "        word = (map(lambda x: (x[0], pos_tagger(x[1])), pos_tag(tweet))) \n",
    "        word_lem = \" \".join([wnl.lemmatize(x[0], x[1]) for x in word if x[1] is not None])\n",
    "        return word_lem"
   ]
  },
  {
   "cell_type": "code",
   "execution_count": 179,
   "id": "316f7d22",
   "metadata": {},
   "outputs": [],
   "source": [
    "# remove punctuation and lowercase all\n",
    "full['preprep'] = full['tweets'].map(lambda x: re.sub('[,\\.!?]', '', x.lower()))\n",
    "#  Removing @ handles, links-- strip whitespace breaks and tabs\n",
    "full['preprep'] = full['preprep'].map(lambda x: re.sub(r\"@\\w+|http\\S+\", \"\", x).strip()\\\n",
    "                                      .replace(\"\\r\", \"\").replace(\"\\n\", \"\").replace(\"\\t\", \"\"))"
   ]
  },
  {
   "cell_type": "code",
   "execution_count": 153,
   "id": "426e38af",
   "metadata": {},
   "outputs": [],
   "source": [
    "# Creates a list of all tweets in full.preprep\n",
    "data = full.preprep.values.tolist()\n",
    "\n",
    "# Uses gensims simple preprocessor on all tweets in list\n",
    "# Ouputs list of lists of tokenized tweets\n",
    "data_words = list(sent_to_words(data))"
   ]
  },
  {
   "cell_type": "code",
   "execution_count": 154,
   "id": "1905bbc5",
   "metadata": {},
   "outputs": [],
   "source": [
    "# Bigram ---\n",
    "# higher hyperparameter values =  fewer phrases.\n",
    "bigram = gensim.models.Phrases(data_words, min_count=2, threshold=20) # orig -- 3/ 75\n",
    "bigram_mod = gensim.models.phrases.Phraser(bigram)\n",
    "\n",
    "# TriGrams --\n",
    "trigram = gensim.models.Phrases(bigram[data_words], threshold=60)\n",
    "trigram_mod = gensim.models.phrases.Phraser(trigram)"
   ]
  },
  {
   "cell_type": "code",
   "execution_count": 155,
   "id": "3722a994",
   "metadata": {},
   "outputs": [],
   "source": [
    "# Remove Stop Words\n",
    "data_words_nostops = remove_stopwords(data_words)\n",
    "# Form Bigrams\n",
    "data_words_bigrams = make_bigrams(data_words_nostops)\n",
    "# lemmatize\n",
    "data_lemmatized = [lemmatize_texts(tweet) for tweet in data_words_bigrams]"
   ]
  },
  {
   "cell_type": "code",
   "execution_count": 156,
   "id": "94e49697",
   "metadata": {},
   "outputs": [
    {
     "name": "stdout",
     "output_type": "stream",
     "text": [
      "126510 126510\n"
     ]
    }
   ],
   "source": [
    "print(len(data_words), len(data_lemmatized))"
   ]
  },
  {
   "cell_type": "code",
   "execution_count": 157,
   "id": "bae12fd0",
   "metadata": {},
   "outputs": [
    {
     "data": {
      "text/plain": [
       "370"
      ]
     },
     "execution_count": 157,
     "metadata": {},
     "output_type": "execute_result"
    }
   ],
   "source": [
    "# Getting indices of all nones\n",
    "indices_of_nones = [(i) for i,x  in enumerate(data_lemmatized) if x == None]\n",
    "len(indices_of_nones)"
   ]
  },
  {
   "cell_type": "code",
   "execution_count": 158,
   "id": "289f44e0",
   "metadata": {},
   "outputs": [
    {
     "data": {
      "text/plain": [
       "126140"
      ]
     },
     "execution_count": 158,
     "metadata": {},
     "output_type": "execute_result"
    }
   ],
   "source": [
    "# Dropping None values using indices aquired above\n",
    "lem_drop_None = [(i, x) for (i, x) in enumerate(data_lemmatized) if i not in indices_of_nones]\n",
    "len(lem_drop_None)"
   ]
  },
  {
   "cell_type": "code",
   "execution_count": 159,
   "id": "2cba14a6",
   "metadata": {},
   "outputs": [
    {
     "data": {
      "text/plain": [
       "37227"
      ]
     },
     "execution_count": 159,
     "metadata": {},
     "output_type": "execute_result"
    }
   ],
   "source": [
    "# Getting indices of all short tweets\n",
    "indices_short_tweets = [i for (i,x) in lem_drop_None if (len(x.split(' ')) <= 5)]\n",
    "len(indices_short_tweets)"
   ]
  },
  {
   "cell_type": "code",
   "execution_count": 160,
   "id": "a7c1d170",
   "metadata": {},
   "outputs": [
    {
     "data": {
      "text/plain": [
       "88913"
      ]
     },
     "execution_count": 160,
     "metadata": {},
     "output_type": "execute_result"
    }
   ],
   "source": [
    "lem_noShort_noNone = [(i, x) for (i, x) in lem_drop_None if i not in indices_short_tweets]\n",
    "len(lem_noShort_noNone)"
   ]
  },
  {
   "cell_type": "markdown",
   "id": "b5ecc387",
   "metadata": {},
   "source": [
    "### The Rosetta Stone"
   ]
  },
  {
   "cell_type": "code",
   "execution_count": 180,
   "id": "fde8b8d0",
   "metadata": {},
   "outputs": [
    {
     "name": "stdout",
     "output_type": "stream",
     "text": [
      "(13142, 'wonder elon antic go affect bottom_line conservative prefer fossil_fuel vehicle lot liberal buyer doubt looking_elsewhere electric vehicle') \n",
      " i’ve been wondering how elon’s antics are going to affect tesla’s bottom line conservatives prefer fossil fuel vehicles and lots of liberal buyers are no doubt looking elsewhere for an electric vehicle\n"
     ]
    }
   ],
   "source": [
    "# The Same! \n",
    "print((lem_noShort_noNone[8654]), '\\n', (full.preprep.iloc[13142]))"
   ]
  },
  {
   "cell_type": "code",
   "execution_count": 162,
   "id": "3e0f01d7",
   "metadata": {},
   "outputs": [],
   "source": [
    "lem_noNone = [x.split() for (i, x) in lem_noShort_noNone]"
   ]
  },
  {
   "cell_type": "code",
   "execution_count": 163,
   "id": "7ba69e76",
   "metadata": {
    "scrolled": false
   },
   "outputs": [
    {
     "name": "stdout",
     "output_type": "stream",
     "text": [
      "62603\n"
     ]
    }
   ],
   "source": [
    "id2word = corpora.Dictionary(lem_noNone)\n",
    "print(len(id2word)) "
   ]
  },
  {
   "cell_type": "code",
   "execution_count": 164,
   "id": "76b5e414",
   "metadata": {},
   "outputs": [
    {
     "name": "stdout",
     "output_type": "stream",
     "text": [
      "13660\n"
     ]
    }
   ],
   "source": [
    "# This can be Tuned --- and probably should be\n",
    "id2word.filter_extremes(no_below=6, no_above=.95)\n",
    "print(len(id2word))"
   ]
  },
  {
   "cell_type": "code",
   "execution_count": 165,
   "id": "e8f0a969",
   "metadata": {},
   "outputs": [],
   "source": [
    "corpus = [id2word.doc2bow(d) for d in lem_noNone]"
   ]
  },
  {
   "cell_type": "code",
   "execution_count": 184,
   "id": "05e0234f",
   "metadata": {},
   "outputs": [
    {
     "name": "stdout",
     "output_type": "stream",
     "text": [
      "(['wonder', 'elon', 'antic', 'go', 'affect', 'bottom_line', 'conservative', 'prefer', 'fossil_fuel', 'vehicle', 'lot', 'liberal', 'buyer', 'doubt', 'looking_elsewhere', 'electric', 'vehicle'], '\\n\\n\\n', (13142, 'wonder elon antic go affect bottom_line conservative prefer fossil_fuel vehicle lot liberal buyer doubt looking_elsewhere electric vehicle')) \n",
      "\n",
      " i’ve been wondering how elon’s antics are going to affect tesla’s bottom line conservatives prefer fossil fuel vehicles and lots of liberal buyers are no doubt looking elsewhere for an electric vehicle\n"
     ]
    }
   ],
   "source": [
    "print((lem_noNone[8654], '\\n\\n\\n', \n",
    "       lem_noShort_noNone[8654]), '\\n\\n',\n",
    "      (full.preprep.iloc[13142]))"
   ]
  },
  {
   "cell_type": "markdown",
   "id": "2d8eef85",
   "metadata": {},
   "source": [
    "# Modeling"
   ]
  },
  {
   "cell_type": "code",
   "execution_count": 118,
   "id": "d3d12f3b",
   "metadata": {},
   "outputs": [
    {
     "name": "stdout",
     "output_type": "stream",
     "text": [
      "------ Topic 1 ------\n",
      "ev car make company year good spot get market many\n",
      "\n",
      "------ Topic 2 ------\n",
      "buy go people think make get stock company electric_car elon\n",
      "\n",
      "------ Topic 3 ------\n",
      "use get say go model know driver see time musk\n",
      "\n",
      "------ Topic 4 ------\n",
      "stock twitter musk price elon_musk elon buy tsla share make\n",
      "\n",
      "------ Topic 5 ------\n",
      "get electric fire car drive vehicle new buy think truck\n",
      "\n"
     ]
    }
   ],
   "source": [
    "# Instantiating a Base LDA model\n",
    "base_model = LdaMulticore(corpus=corpus,\n",
    "                          num_topics=5,\n",
    "                          id2word=id2word,\n",
    "                          workers=7,\n",
    "                          passes=5,\n",
    "                          chunksize=2000,\n",
    "                          random_state = 42)\n",
    "words = [re.findall(r'\"([^\"]*)\"',t[1]) for t in base_model.print_topics()]\n",
    "topics = [' '.join(t[0:10]) for t in words]\n",
    "\n",
    "for id, t in enumerate(topics): \n",
    "    print(f\"------ Topic {id + 1} ------\")\n",
    "    print(t, end=\"\\n\\n\")"
   ]
  },
  {
   "cell_type": "code",
   "execution_count": 119,
   "id": "f7f9a360",
   "metadata": {},
   "outputs": [
    {
     "name": "stdout",
     "output_type": "stream",
     "text": [
      "\n",
      "Coherence Score:  0.2828890631617448 \n",
      "\n",
      "Perplexity:  -7.868100484595867\n"
     ]
    }
   ],
   "source": [
    "# a measure of how good the model is. lower the better\n",
    "base_perplexity = base_model.log_perplexity(corpus)\n",
    "\n",
    "# Compute Coherence Score\n",
    "coherence_model = CoherenceModel(model=base_model, texts=lem_noNone, \n",
    "                                   dictionary=id2word, coherence='c_v')\n",
    "\n",
    "coherence_lda_model_base = coherence_model.get_coherence()\n",
    "print('\\nCoherence Score: ', coherence_lda_model_base, '\\n\\nPerplexity: ', base_perplexity)"
   ]
  },
  {
   "cell_type": "code",
   "execution_count": 120,
   "id": "4837accf",
   "metadata": {},
   "outputs": [
    {
     "name": "stderr",
     "output_type": "stream",
     "text": [
      "/Users/austinboring/opt/anaconda3/envs/broke-the-other/lib/python3.10/site-packages/past/builtins/misc.py:45: DeprecationWarning: the imp module is deprecated in favour of importlib and slated for removal in Python 3.12; see the module's documentation for alternative uses\n",
      "  from imp import reload\n",
      "/Users/austinboring/opt/anaconda3/envs/broke-the-other/lib/python3.10/site-packages/past/builtins/misc.py:45: DeprecationWarning: the imp module is deprecated in favour of importlib and slated for removal in Python 3.12; see the module's documentation for alternative uses\n",
      "  from imp import reload\n",
      "/Users/austinboring/opt/anaconda3/envs/broke-the-other/lib/python3.10/site-packages/past/builtins/misc.py:45: DeprecationWarning: the imp module is deprecated in favour of importlib and slated for removal in Python 3.12; see the module's documentation for alternative uses\n",
      "  from imp import reload\n",
      "/Users/austinboring/opt/anaconda3/envs/broke-the-other/lib/python3.10/site-packages/past/builtins/misc.py:45: DeprecationWarning: the imp module is deprecated in favour of importlib and slated for removal in Python 3.12; see the module's documentation for alternative uses\n",
      "  from imp import reload\n",
      "/Users/austinboring/opt/anaconda3/envs/broke-the-other/lib/python3.10/site-packages/past/builtins/misc.py:45: DeprecationWarning: the imp module is deprecated in favour of importlib and slated for removal in Python 3.12; see the module's documentation for alternative uses\n",
      "  from imp import reload\n",
      "/Users/austinboring/opt/anaconda3/envs/broke-the-other/lib/python3.10/site-packages/past/builtins/misc.py:45: DeprecationWarning: the imp module is deprecated in favour of importlib and slated for removal in Python 3.12; see the module's documentation for alternative uses\n",
      "  from imp import reload\n",
      "/Users/austinboring/opt/anaconda3/envs/broke-the-other/lib/python3.10/site-packages/past/builtins/misc.py:45: DeprecationWarning: the imp module is deprecated in favour of importlib and slated for removal in Python 3.12; see the module's documentation for alternative uses\n",
      "  from imp import reload\n",
      "/Users/austinboring/opt/anaconda3/envs/broke-the-other/lib/python3.10/site-packages/past/builtins/misc.py:45: DeprecationWarning: the imp module is deprecated in favour of importlib and slated for removal in Python 3.12; see the module's documentation for alternative uses\n",
      "  from imp import reload\n"
     ]
    },
    {
     "data": {
      "text/html": [
       "\n",
       "<link rel=\"stylesheet\" type=\"text/css\" href=\"https://cdn.jsdelivr.net/gh/bmabey/pyLDAvis@3.3.1/pyLDAvis/js/ldavis.v1.0.0.css\">\n",
       "\n",
       "\n",
       "<div id=\"ldavis_el6107186828287688159638951\"></div>\n",
       "<script type=\"text/javascript\">\n",
       "\n",
       "var ldavis_el6107186828287688159638951_data = {\"mdsDat\": {\"x\": [0.02449655022207206, -0.03237569119205527, 0.1584443876777361, -0.008614983451650567, -0.14195026325610227], \"y\": [-0.006576245881945638, -0.13509257965824867, 0.04497608171560411, 0.017900231753735795, 0.07879251207085437], \"topics\": [1, 2, 3, 4, 5], \"cluster\": [1, 1, 1, 1, 1], \"Freq\": [32.52573814264939, 19.39139581409152, 19.14546027033421, 15.905939583672199, 13.031466189252686]}, \"tinfo\": {\"Term\": [\"stock\", \"twitter\", \"ev\", \"electric\", \"fire\", \"car\", \"spot\", \"model\", \"share\", \"vehicle\", \"enter\", \"drive\", \"truck\", \"value\", \"musk\", \"price\", \"think\", \"tsla\", \"driver\", \"new\", \"buy\", \"motor\", \"get\", \"drop\", \"open\", \"ford\", \"st_may\", \"teslaradar\", \"door\", \"market\", \"powerwall\", \"accept_doge\", \"begin_move\", \"cause_doge\", \"doge_moon\", \"rocket_past\", \"limit_charging\", \"landing_doge\", \"ruin\", \"nicola\", \"solar_roof\", \"manually\", \"spritual\", \"artistically_inspired\", \"electricity_neurons\", \"mysterical_occultism\", \"paganism_aleister\", \"einstein\", \"good_sign\", \"texas_heatwave\", \"asking_owners\", \"artistontwitter\", \"crowleycheck\", \"nftcommunity_art\", \"reference_spritual\", \"awhile\", \"bot_numbers\", \"closet\", \"shanghai_factory\", \"catl\", \"volatility\", \"longer_support\", \"smh\", \"vote\", \"care\", \"rich\", \"fossil_fuel\", \"electricity\", \"climate_change\", \"energy\", \"planet\", \"democrat\", \"solar\", \"money\", \"afford\", \"republican\", \"electric_car\", \"party\", \"oil\", \"think\", \"idiot\", \"hate\", \"wealthy\", \"genius\", \"liberal\", \"people\", \"buy\", \"green\", \"save\", \"grid\", \"go\", \"never\", \"buying\", \"gonna\", \"everyone\", \"environment\", \"everything\", \"company\", \"world\", \"elon\", \"want\", \"make\", \"know\", \"work\", \"get\", \"even\", \"lot\", \"battery\", \"say\", \"much\", \"stock\", \"sell\", \"good\", \"way\", \"time\", \"really\", \"use\", \"take\", \"elon_musk\", \"need\", \"musk\", \"back\", \"california_united\", \"unitedstates_model\", \"door_handle\", \"cancel_orders\", \"tortures_animals\", \"unitedstates_modely\", \"lessonmusk_also\", \"sadistic_psychopath\", \"kowa_oa\", \"door_handles\", \"oa\", \"virginia_united\", \"states_teslaradar\", \"teach\", \"pixelpixel\", \"paid_flight\", \"h\", \"santa_monica\", \"consumer_reports\", \"settle_sexual\", \"deadly_crash\", \"someone_nailed\", \"work_hour\", \"blvd\", \"christ\", \"files_plans\", \"slump\", \"quite_bit\", \"florida_united\", \"first_player\", \"model_standard\", \"teslaradar\", \"anyone_else\", \"model_dual\", \"texas_united\", \"nail\", \"motor\", \"prize\", \"bankrupt\", \"spot\", \"lock\", \"ev\", \"model_performance\", \"evs\", \"maker\", \"competition\", \"boycotttesla\", \"state\", \"manufacturer\", \"production\", \"performance\", \"first_time\", \"vw\", \"car\", \"many\", \"year\", \"good\", \"brand\", \"make\", \"company\", \"market\", \"ford\", \"first\", \"well\", \"electric\", \"take\", \"also\", \"see\", \"vehicle\", \"sell\", \"get\", \"battery\", \"want\", \"open\", \"buy\", \"model\", \"musk\", \"even\", \"go\", \"people\", \"new\", \"need\", \"st_may\", \"shibaswap_uniswap\", \"give_away\", \"investment_realized\", \"tsla_winnings\", \"estimating\", \"initial_btc\", \"btc_holdings\", \"btcusd\", \"must_hold\", \"voxel_ama\", \"min_vxl\", \"entry_purchase\", \"june_vxl\", \"pm_pst\", \"tuesday_th\", \"microsoft_ubuntu\", \"uniswap\", \"agrees\", \"giveaway_shibaswap\", \"indonesia_official\", \"information_including\", \"peugeot_worth\", \"entered_monthly\", \"month_prize\", \"t\", \"lunarcrush_track\", \"enter\", \"claim_today\", \"pwars_petwars\", \"sunra_miku\", \"super_worth\", \"margin_loan\", \"bid\", \"net_worth\", \"collateral\", \"price_target\", \"troll\", \"sec\", \"twitter\", \"stock\", \"value\", \"fall\", \"dump\", \"bot\", \"drop\", \"twitter_deal\", \"bn\", \"share\", \"shareholder\", \"token\", \"percent\", \"price\", \"fsd\", \"loan\", \"tsla\", \"deal\", \"news\", \"free\", \"musk\", \"ai\", \"cash\", \"elon_musk\", \"tweet\", \"hold\", \"crash\", \"find\", \"investor\", \"elon\", \"market\", \"ceo\", \"sell\", \"buy\", \"make\", \"say\", \"get\", \"time\", \"go\", \"car\", \"take\", \"also\", \"harassment_claim\", \"hard_hitting\", \"company_insiders\", \"stance\", \"problem_spacex\", \"vehicular_manslaughter\", \"grand_plan\", \"business_conduct\", \"inc_tsla\", \"strategy_codes\", \"autopilot_faces\", \"poor_working\", \"conditions_reported\", \"brand_threatened\", \"cabin\", \"stories_giga\", \"fremont_california\", \"twitter_bot\", \"rivian_gm\", \"doc\", \"canada_teslaradar\", \"safety_score\", \"bad_design\", \"yet_unrecognizable\", \"pixelpixel_nailed\", \"top_hackers\", \"stocks_fall\", \"british_columbia\", \"low_carbon\", \"overheat\", \"score\", \"safety_administration\", \"earlier\", \"lack\", \"latch\", \"c\", \"rip\", \"safety\", \"driver\", \"esg\", \"app\", \"esg_index\", \"location\", \"supercharger\", \"racism\", \"remove\", \"hour\", \"model\", \"open\", \"autopilot\", \"use\", \"system\", \"data\", \"index\", \"analysis\", \"pay\", \"door\", \"due\", \"kick\", \"say\", \"know\", \"see\", \"back\", \"charge\", \"worker\", \"time\", \"month\", \"get\", \"let\", \"go\", \"factory\", \"drive\", \"musk\", \"need\", \"work\", \"find\", \"elon_musk\", \"company\", \"come\", \"car\", \"also\", \"people\", \"construction_worker\", \"meta\", \"twitter_web\", \"mtesla_new\", \"token_metatesla\", \"rewards_busd\", \"burn_burned\", \"contract_slippage\", \"bake\", \"tg\", \"bitcoinpizzaday_shillme\", \"cryptos_nftcommumity\", \"daily_nftrelease\", \"nftartists_airdrops\", \"nftcommunity_nftlaunch\", \"profit_playtoearn\", \"whitelist_crypto\", \"coo_cfo\", \"rising_materials\", \"youtube_video\", \"year_return\", \"ai_ml\", \"major_partnerships\", \"luna_crypto\", \"binance_babydoge\", \"shibainu_doge\", \"terraluna_ust\", \"kishu_nft\", \"coinbase_cryptocurrency\", \"pitbull_eth\", \"microsoft_apple\", \"cathie_wood\", \"black_workers\", \"class_action\", \"escape\", \"fire\", \"emergency\", \"truck\", \"catches_fire\", \"jack\", \"nft\", \"situation\", \"suv\", \"amc\", \"electric\", \"manual_door\", \"vehicle\", \"mint\", \"california\", \"drive\", \"front\", \"new\", \"handle\", \"cool\", \"get\", \"ford\", \"road\", \"car\", \"model\", \"maybe\", \"test\", \"power\", \"look\", \"think\", \"owner\", \"see\", \"try\", \"buy\", \"love\", \"ever\", \"still\", \"people\", \"know\", \"really\", \"go\", \"need\", \"well\", \"way\", \"say\", \"make\", \"even\", \"right\"], \"Freq\": [12792.0, 5222.0, 4529.0, 3928.0, 2058.0, 7907.0, 1690.0, 3002.0, 2547.0, 2834.0, 1114.0, 3667.0, 1170.0, 1766.0, 6191.0, 3474.0, 6572.0, 2840.0, 1592.0, 3232.0, 10829.0, 1013.0, 9988.0, 1714.0, 1698.0, 1320.0, 716.0, 770.0, 1611.0, 3766.0, 97.73744409933056, 55.555031364594186, 54.519682717970746, 54.519682717970746, 54.519682717970746, 54.519682717970746, 54.09973993387733, 50.88373128944504, 167.77364651364195, 116.25831281744549, 102.6910110978676, 61.92989484938338, 60.4458066540376, 59.24684359576584, 59.24684359576584, 59.24684359576584, 59.24684359576584, 61.776441230344545, 44.118470364966306, 39.162555548044224, 37.86688174115635, 36.50901037765355, 36.50901037765355, 36.50901037765355, 36.50901037765355, 41.135194125597735, 35.26496763594204, 49.96761621998089, 32.61719124115964, 31.40588185142499, 51.430791295040805, 94.71930655219133, 68.5439374245009, 579.9598668417295, 1056.9057758480003, 749.0184950350543, 378.3109439309068, 512.2738908313096, 433.8695925586092, 760.8634350934411, 408.4331658956081, 989.4384479497458, 736.757616832629, 2347.8994619829587, 846.6772702053095, 774.653049301705, 2860.6567154862873, 447.03220053524336, 565.3253521042691, 4270.147292524822, 375.3788564141203, 700.1386856290022, 160.0935216425397, 375.2031338554829, 531.6014039877451, 4471.61580247506, 6557.308562016334, 540.4682319602457, 712.5834527148825, 294.76801717572795, 4745.095383452018, 1870.2813597477345, 696.6312700591748, 592.0912983261501, 870.5220173434941, 710.7913841426208, 624.8879707292926, 3166.8541952408405, 2033.4557530634474, 2833.941191085331, 2411.7435381347436, 3792.7896751119815, 2617.8748101628385, 1711.2464136641358, 3613.624026417203, 1815.805858940956, 1183.8106310265098, 1432.7934989947237, 2495.35715594783, 1473.6881084798563, 3468.451730800749, 1746.2004615697101, 1633.4162289654012, 1394.967501225891, 1609.7074197264865, 1242.1578073685657, 1593.569756800949, 1484.9846065392167, 1513.5752866326293, 1396.4029317358656, 1503.7716765070882, 1268.0299807481115, 525.7952809079627, 669.3856530021468, 148.79759307031443, 106.68338307650934, 100.06455943475817, 333.92979668357907, 85.60284614073966, 97.7666003005677, 82.79272998792217, 84.41497667084431, 75.02737046689316, 124.22646499200513, 563.4174122005136, 174.5260991370684, 115.8950936924808, 55.503453308012304, 46.20312389820332, 40.86628759800654, 77.47971574278304, 38.11521318992645, 42.1981536352155, 40.95201641110473, 42.45070861509627, 38.85998556970462, 38.059242439840794, 36.04166761409773, 38.60396635805206, 36.383687159717084, 150.85685727264075, 315.681247374732, 476.93900176549874, 745.1199764248448, 426.9178918548865, 717.1625898779873, 131.2061617146309, 183.6492377731452, 939.6471641194556, 171.1522370005901, 187.10187217081238, 1508.7024730867106, 583.7139903654002, 3853.253589631288, 187.28966474213806, 768.185293458918, 286.7126546946218, 432.8912011594448, 267.1995796449078, 933.1023002655671, 612.3643730712305, 576.193748649196, 337.78531811537465, 477.5354238812771, 262.38396042174656, 3532.577431874093, 1329.4194032340984, 1737.9207149345589, 1590.3686598698866, 565.6459556202284, 2559.3563565664194, 2006.7293210049245, 1356.3868309359034, 666.6508199113102, 847.181662355104, 1162.6317362381249, 1214.253208873836, 1159.0049664567296, 1122.91983053622, 1138.68446948797, 931.5515228687475, 1057.0983782401013, 1437.770186601885, 874.2431673564842, 1049.4257852282474, 730.3547839439003, 1155.614887970444, 835.4779769001452, 960.0688291396691, 833.7386454251961, 947.6735956370368, 855.9718976807013, 806.0501082312649, 807.5429611761167, 716.1624857355208, 113.24501148344018, 106.5940827788602, 93.69958569369363, 92.44185969192604, 92.44183504114473, 92.44121260891642, 93.11692750104481, 95.20452205591977, 88.12810237768619, 86.90220669729689, 86.90213890764826, 86.90213890764826, 86.11142812066629, 86.11135416832234, 86.11135416832234, 69.91891532820854, 58.966172612937804, 58.512770792135676, 56.904905092511655, 57.17211339931532, 693.8721153308536, 519.6731292050757, 519.9082483572972, 520.6624143609737, 527.8209519544765, 38.452399424676194, 1091.2952163588889, 39.30679242384839, 36.25466209751987, 172.36315616321022, 172.36315616321022, 92.275146457865, 192.76380999734616, 183.89885904320093, 311.2164099629613, 115.41965410984818, 234.99890571026194, 331.1891385587884, 3868.6131600686813, 8383.375755373512, 1362.717672832183, 793.343539728421, 315.93757690275714, 711.1022226478995, 1234.2703396283966, 523.8946248075335, 142.159749375816, 1680.632488904545, 479.64775418038505, 151.71887865729764, 193.94210501900827, 2074.0487040322864, 674.0820736753824, 521.4271308990546, 1716.0327857350217, 988.9990096284037, 906.0001247363837, 1081.3417238778643, 2733.737531606387, 446.3357729401369, 504.3201788854791, 2029.8048901020215, 842.3230152578974, 676.3654755489703, 842.1877317700182, 1057.9944758749223, 684.5549581188003, 1852.9471693062912, 1383.4282732652348, 809.9032936982753, 1247.0377680985587, 1782.9010867599527, 1620.7052562803196, 1378.8392838148718, 1390.9971477645752, 1024.8410484601186, 1059.6687569421151, 859.8712162570848, 762.406759871393, 753.6722978281604, 131.7964769366068, 103.19603360300573, 95.96603390665392, 145.70886885497166, 96.45471096072976, 69.86651364212136, 98.22194773755902, 126.93262321262492, 79.03532416512259, 100.32330105352959, 62.69562868359366, 141.2463461407837, 71.21362413784612, 128.86688241949906, 56.98069374068202, 48.253610492972015, 64.55406169376114, 116.77640815445413, 47.23954647054711, 136.26012603589103, 57.37950574380612, 42.0692212816385, 41.12516721287779, 54.34467101918283, 46.25869032873257, 36.489813505500884, 35.93979454306973, 63.66122742728628, 182.25152518128345, 55.53407224163582, 206.45373167009888, 38.35124935593632, 108.19055823801712, 340.61295494405783, 143.63025827808085, 529.6328667295207, 165.1752199261973, 678.4734752669191, 1095.6235602309232, 737.6191374818485, 170.12359349185596, 581.5398048835348, 130.53927757122406, 272.77389351572856, 310.59483308845194, 407.3024072634253, 298.4094762388447, 1224.2327359802648, 785.1760173536028, 543.8589876167848, 1552.3544488420318, 490.0350239478694, 331.5711955399814, 264.2676790255964, 184.9910166137377, 854.0540154352551, 616.371728005391, 416.3721829368049, 281.3657132731757, 1345.9431921299263, 1179.1806908058225, 993.5271959176574, 778.106496813873, 611.9577729685803, 404.91377454858844, 961.0904180644674, 412.08757786850185, 1446.8048745398698, 541.2637553955667, 1280.407240068035, 433.56389146493416, 731.620215256511, 867.1412995510233, 735.0554850027834, 647.8534951347932, 556.2990713359768, 667.123568483065, 702.963585786336, 554.1698348689417, 635.5314565736883, 534.4945496022262, 551.5523207025468, 130.46617642676011, 133.39674315668336, 79.36120175910942, 79.3611346443326, 79.3611346443326, 79.36050544329989, 79.36032087766363, 79.35932254535841, 75.43962662398278, 102.97398395464059, 67.63631316844679, 67.63631316844679, 67.63631316844679, 67.63631316844679, 67.63631316844679, 67.63631316844679, 67.63631316844679, 59.30264196777084, 54.729843763795316, 58.42392916821096, 54.2268646529251, 61.39272615288133, 57.359526559879406, 71.34907325951309, 70.79152564041321, 70.78920179126575, 70.78334602698806, 70.7807033826507, 75.7912073823637, 75.78365696997125, 63.48018866702221, 133.28954407940478, 114.15002887382241, 91.94033142383329, 248.68474501825466, 1645.5145947048338, 329.4191906152617, 896.7426138774483, 107.79884009231742, 123.34579357744774, 133.05349301997543, 234.8671883235739, 156.26429125973254, 93.70925042848377, 1775.063966501514, 180.69828147510796, 1180.4114732322732, 108.20425529105653, 400.3812549035791, 1339.2365791377235, 271.66514661852966, 1169.6941829807097, 423.12729170319244, 327.8864904569826, 2099.6424367237278, 530.2732476359346, 375.41821568121173, 1637.351021711339, 810.8924115319776, 545.7689757676557, 215.61652265822758, 473.57475129166716, 696.7716530901965, 1023.732899233914, 477.40002511140165, 776.379174469589, 587.6380594844887, 1129.1947105144786, 455.0147637945938, 426.29913605579, 585.4340773284381, 801.5472828925353, 716.112252556484, 521.0115762214702, 784.2040191844641, 581.8361883725759, 557.7941316751454, 483.82425154878297, 531.9387343801557, 547.2246952769202, 473.9322381504084, 456.2669577431463], \"Total\": [12792.0, 5222.0, 4529.0, 3928.0, 2058.0, 7907.0, 1690.0, 3002.0, 2547.0, 2834.0, 1114.0, 3667.0, 1170.0, 1766.0, 6191.0, 3474.0, 6572.0, 2840.0, 1592.0, 3232.0, 10829.0, 1013.0, 9988.0, 1714.0, 1698.0, 1320.0, 716.0, 770.0, 1611.0, 3766.0, 99.02572948469927, 56.35812110315459, 55.31770287319379, 55.31770287319379, 55.31770287319379, 55.31770287319379, 54.89241627485098, 51.6761304808035, 170.5653802816556, 118.36687497743776, 104.55647825416618, 63.13022206068298, 61.62197006026295, 60.40950748051855, 60.40950748051855, 60.40950748051855, 60.40950748051855, 62.991702963821425, 45.024850148779194, 39.968932313452456, 38.67387669780012, 37.29580740866584, 37.29580740866584, 37.29580740866584, 37.29580740866584, 42.0964825358465, 36.09423087321622, 51.20548235627598, 33.43441087881651, 32.19972145042006, 52.85833188663728, 98.14096437718328, 71.09481470551687, 639.5412677731707, 1205.1645625104438, 844.1929468149327, 415.7212807546638, 570.3348721998311, 483.3695393367797, 898.8245235685114, 471.3683540353416, 1231.475695467052, 897.8224771047559, 3211.3131964484746, 1067.6567175983123, 973.0914845828071, 4191.980586042762, 545.9535463191779, 710.4167623591984, 6572.731266825819, 455.1634717622475, 903.1608013223808, 179.09175751264124, 457.4201689558131, 672.7785827217328, 7054.276624305043, 10829.842444345708, 689.3878111924902, 952.3710563293004, 354.1979987782127, 8817.048995283669, 2992.2894172650103, 968.1857589999177, 802.4331581723263, 1276.4358495139454, 1007.7789805544352, 858.9868992833158, 6615.28436883003, 3861.6337242218424, 5913.1266232150765, 4873.17355282128, 9031.904387944673, 5639.954610192137, 3374.1690051960436, 9988.83867204726, 3817.1520063180656, 2106.844827915827, 2833.778674430269, 6530.986824032489, 3130.403455845014, 12792.716009016955, 4204.042038012195, 4223.2915417783115, 3286.257327868684, 4441.251494310721, 2603.701084796293, 4565.584514585886, 3930.9015165125634, 5046.174787764194, 4119.637189147021, 6191.042006307546, 2893.041657993961, 527.4537927018401, 673.1888041638091, 149.67892628574572, 107.51707430507861, 100.88082527632321, 336.79004730667526, 86.41943014137233, 98.74066481046016, 83.62837332024085, 85.39549524667501, 75.97487831545779, 125.86762336963679, 570.9721230962855, 177.02223432973673, 117.78118659565655, 56.43310688163397, 47.02258469897047, 41.6805970808109, 79.04781119342339, 38.92415043641922, 43.09866095470539, 41.82658552082826, 43.36568667166801, 39.706539842920186, 38.897514270454856, 36.85153244509209, 39.47524642004167, 37.214526371910075, 154.30518096682817, 322.92191672243206, 491.05033531052925, 770.8040518863701, 440.4520961607737, 746.0508736775233, 135.25447871378805, 191.38108537393995, 1013.44533176972, 179.80319886370148, 196.96405061332575, 1690.0554985828317, 637.9618782452264, 4529.185236688082, 199.1449277286989, 907.4345278270724, 319.0953578401532, 514.9163400902892, 304.37888918554916, 1251.001833500565, 798.7359317200531, 744.9281955417083, 405.93239410675204, 628.7429089230881, 313.29039860145866, 7907.093432392069, 2660.2369949837484, 3808.753980732716, 4223.2915417783115, 965.1813249022409, 9031.904387944673, 6615.28436883003, 3766.8228464773565, 1320.2612464074882, 1990.787002263789, 3629.6589354404923, 3928.313412502046, 3930.9015165125634, 3713.9851648187805, 4430.349995423225, 2834.688589796103, 4204.042038012195, 9988.83867204726, 2833.778674430269, 4873.17355282128, 1698.6780870029847, 10829.842444345708, 3002.942747940072, 6191.042006307546, 3817.1520063180656, 8817.048995283669, 7054.276624305043, 3232.8625812068185, 4119.637189147021, 716.9518648403533, 114.02177293451273, 107.45325163285732, 94.47780712427394, 93.21910767667659, 93.21911461628784, 93.21872463858688, 93.90520669328114, 96.03406180840867, 88.90491273242998, 87.67975575102429, 87.67972796238186, 87.67973080262252, 86.88816216753983, 86.88810445171184, 86.88810956856759, 70.71306259699593, 59.75228703862787, 59.30136362233665, 57.6815841065002, 57.95955965251495, 705.7491832735586, 529.1833957774779, 529.6338310226389, 530.4213412208534, 538.220387411342, 39.230210691884466, 1114.436827915804, 40.14451897325337, 37.032575713357424, 176.09730423008298, 176.09730423008298, 94.32154464510678, 198.6216352962452, 189.91379410252566, 325.6093210074152, 118.33792010735446, 252.28295129439582, 368.7477507424765, 5222.161362373377, 12792.716009016955, 1766.9582556673374, 1002.7051088846132, 363.0158913867908, 898.6312827106111, 1714.7513234000728, 660.8691593901655, 151.26608088971108, 2547.6969224256027, 606.0363183534248, 164.01623918112358, 218.21792619498288, 3474.828146502437, 933.5512365010118, 697.4974074906853, 2840.698704120106, 1485.8615398203087, 1391.6854262903012, 1791.2683058663035, 6191.042006307546, 608.0440944788295, 726.5094670253154, 5046.174787764194, 1567.908083108685, 1131.4534083373744, 1579.7880843218268, 2306.784201266505, 1157.2164006320081, 5913.1266232150765, 3766.8228464773565, 1539.6379746142227, 4204.042038012195, 10829.842444345708, 9031.904387944673, 6530.986824032489, 9988.83867204726, 4441.251494310721, 8817.048995283669, 7907.093432392069, 3930.9015165125634, 3713.9851648187805, 132.6047483377081, 103.99843060335884, 96.76880768464386, 147.25968233030574, 97.54487870362088, 70.66921213554636, 99.41001543867804, 128.47370030091577, 80.0377798240461, 101.60016405876594, 63.497275112483365, 143.19944504122103, 72.2636920465127, 130.9993615302401, 57.932431927530125, 49.070604263047805, 65.66211162098037, 118.78313903368233, 48.07253058610057, 138.80422078337133, 58.460426717047376, 42.881228642746876, 41.93620079397129, 55.473375999918076, 47.22626982793791, 37.29712598595421, 36.740679574930645, 65.13056196780796, 186.4646556255678, 56.821101992611155, 212.94804055181865, 39.255039835978984, 114.6234278239642, 381.32384410517153, 160.4217613822356, 663.2042825975434, 187.06407338475643, 908.6463314854218, 1592.7811708886816, 1058.273078633389, 204.58433299748066, 855.0871350840723, 152.49037146444428, 368.3647171160385, 443.0895537720628, 646.4926115064887, 442.9638446994319, 3002.942747940072, 1698.6780870029847, 1062.1622544579957, 4565.584514585886, 949.0580109969617, 586.6689472488099, 423.3803311314815, 250.71148774368305, 2623.1915886946495, 1611.0969669009844, 907.7955832078414, 477.89268857931694, 6530.986824032489, 5639.954610192137, 4430.349995423225, 2893.041657993961, 1915.011086061702, 921.4613894363267, 4441.251494310721, 956.3616326968227, 9988.83867204726, 1609.1575125177146, 8817.048995283669, 1077.3792541153985, 3667.945626365049, 6191.042006307546, 4119.637189147021, 3374.1690051960436, 2306.784201266505, 5046.174787764194, 6615.28436883003, 3165.204074195534, 7907.093432392069, 3713.9851648187805, 7054.276624305043, 131.2733089522176, 134.56919951468456, 80.19918414981542, 80.19927409924657, 80.19943193007515, 80.19912396064746, 80.19927160736526, 80.19905763663411, 76.24617128240735, 104.08297333076858, 68.44332655347063, 68.44332655347063, 68.44332655347063, 68.44332655347063, 68.44332655347063, 68.44332655347063, 68.44332655347063, 60.139365004527505, 55.5336079505059, 59.32469549835943, 55.08098258941891, 62.368035006483275, 58.27751433610066, 72.52486776031269, 71.99264769855849, 71.99289497428283, 71.99294780500028, 71.99350060422604, 77.09195695764743, 77.09242744999776, 64.57959444608801, 136.87023915568074, 116.8805359827248, 94.50002563665412, 269.6384376679115, 2058.7765462405223, 378.538172212345, 1170.4699637968388, 114.30149097809415, 132.7608844874403, 145.77579394348496, 289.57086290977134, 184.9498962021409, 100.64348833473309, 3928.313412502046, 232.17546056246488, 2834.688589796103, 125.1277293574363, 715.9471776590105, 3667.945626365049, 437.4878693472182, 3232.8625812068185, 806.9916736717482, 573.592479856189, 9988.83867204726, 1320.2612464074882, 842.7939070002328, 7907.093432392069, 3002.942747940072, 1629.5527417064636, 397.4097805510943, 1513.5974752816605, 3176.576248364007, 6572.731266825819, 1703.268020988216, 4430.349995423225, 2635.1872083619355, 10829.842444345708, 1720.5918060880304, 1538.6602668208184, 3234.114990184966, 7054.276624305043, 5639.954610192137, 2603.701084796293, 8817.048995283669, 4119.637189147021, 3629.6589354404923, 3286.257327868684, 6530.986824032489, 9031.904387944673, 3817.1520063180656, 3024.6035152918403], \"Category\": [\"Default\", \"Default\", \"Default\", \"Default\", \"Default\", \"Default\", \"Default\", \"Default\", \"Default\", \"Default\", \"Default\", \"Default\", \"Default\", \"Default\", \"Default\", \"Default\", \"Default\", \"Default\", \"Default\", \"Default\", \"Default\", \"Default\", \"Default\", \"Default\", \"Default\", \"Default\", \"Default\", \"Default\", \"Default\", \"Default\", \"Topic1\", \"Topic1\", \"Topic1\", \"Topic1\", \"Topic1\", \"Topic1\", \"Topic1\", \"Topic1\", \"Topic1\", \"Topic1\", \"Topic1\", \"Topic1\", \"Topic1\", \"Topic1\", \"Topic1\", \"Topic1\", \"Topic1\", \"Topic1\", \"Topic1\", \"Topic1\", \"Topic1\", \"Topic1\", \"Topic1\", \"Topic1\", \"Topic1\", \"Topic1\", \"Topic1\", \"Topic1\", \"Topic1\", \"Topic1\", \"Topic1\", \"Topic1\", \"Topic1\", \"Topic1\", \"Topic1\", \"Topic1\", \"Topic1\", \"Topic1\", \"Topic1\", \"Topic1\", \"Topic1\", \"Topic1\", \"Topic1\", \"Topic1\", \"Topic1\", \"Topic1\", \"Topic1\", \"Topic1\", \"Topic1\", \"Topic1\", \"Topic1\", \"Topic1\", \"Topic1\", \"Topic1\", \"Topic1\", \"Topic1\", \"Topic1\", \"Topic1\", \"Topic1\", \"Topic1\", \"Topic1\", \"Topic1\", \"Topic1\", \"Topic1\", \"Topic1\", \"Topic1\", \"Topic1\", \"Topic1\", \"Topic1\", \"Topic1\", \"Topic1\", \"Topic1\", \"Topic1\", \"Topic1\", \"Topic1\", \"Topic1\", \"Topic1\", \"Topic1\", \"Topic1\", \"Topic1\", \"Topic1\", \"Topic1\", \"Topic1\", \"Topic1\", \"Topic1\", \"Topic1\", \"Topic1\", \"Topic1\", \"Topic1\", \"Topic1\", \"Topic1\", \"Topic1\", \"Topic2\", \"Topic2\", \"Topic2\", \"Topic2\", \"Topic2\", \"Topic2\", \"Topic2\", \"Topic2\", \"Topic2\", \"Topic2\", \"Topic2\", \"Topic2\", \"Topic2\", \"Topic2\", \"Topic2\", \"Topic2\", \"Topic2\", \"Topic2\", \"Topic2\", \"Topic2\", \"Topic2\", \"Topic2\", \"Topic2\", \"Topic2\", \"Topic2\", \"Topic2\", \"Topic2\", \"Topic2\", \"Topic2\", \"Topic2\", \"Topic2\", \"Topic2\", \"Topic2\", \"Topic2\", \"Topic2\", \"Topic2\", \"Topic2\", \"Topic2\", \"Topic2\", \"Topic2\", \"Topic2\", \"Topic2\", \"Topic2\", \"Topic2\", \"Topic2\", \"Topic2\", \"Topic2\", \"Topic2\", \"Topic2\", \"Topic2\", \"Topic2\", \"Topic2\", \"Topic2\", \"Topic2\", \"Topic2\", \"Topic2\", \"Topic2\", \"Topic2\", \"Topic2\", \"Topic2\", \"Topic2\", \"Topic2\", \"Topic2\", \"Topic2\", \"Topic2\", \"Topic2\", \"Topic2\", \"Topic2\", \"Topic2\", \"Topic2\", \"Topic2\", \"Topic2\", \"Topic2\", \"Topic2\", \"Topic2\", \"Topic2\", \"Topic2\", \"Topic2\", \"Topic2\", \"Topic2\", \"Topic2\", \"Topic2\", \"Topic3\", \"Topic3\", \"Topic3\", \"Topic3\", \"Topic3\", \"Topic3\", \"Topic3\", \"Topic3\", \"Topic3\", \"Topic3\", \"Topic3\", \"Topic3\", \"Topic3\", \"Topic3\", \"Topic3\", \"Topic3\", \"Topic3\", \"Topic3\", \"Topic3\", \"Topic3\", \"Topic3\", \"Topic3\", \"Topic3\", \"Topic3\", \"Topic3\", \"Topic3\", \"Topic3\", \"Topic3\", \"Topic3\", \"Topic3\", \"Topic3\", \"Topic3\", \"Topic3\", \"Topic3\", \"Topic3\", \"Topic3\", \"Topic3\", \"Topic3\", \"Topic3\", \"Topic3\", \"Topic3\", \"Topic3\", \"Topic3\", \"Topic3\", \"Topic3\", \"Topic3\", \"Topic3\", \"Topic3\", \"Topic3\", \"Topic3\", \"Topic3\", \"Topic3\", \"Topic3\", \"Topic3\", \"Topic3\", \"Topic3\", \"Topic3\", \"Topic3\", \"Topic3\", \"Topic3\", \"Topic3\", \"Topic3\", \"Topic3\", \"Topic3\", \"Topic3\", \"Topic3\", \"Topic3\", \"Topic3\", \"Topic3\", \"Topic3\", \"Topic3\", \"Topic3\", \"Topic3\", \"Topic3\", \"Topic3\", \"Topic3\", \"Topic3\", \"Topic3\", \"Topic3\", \"Topic3\", \"Topic3\", \"Topic4\", \"Topic4\", \"Topic4\", \"Topic4\", \"Topic4\", \"Topic4\", \"Topic4\", \"Topic4\", \"Topic4\", \"Topic4\", \"Topic4\", \"Topic4\", \"Topic4\", \"Topic4\", \"Topic4\", \"Topic4\", \"Topic4\", \"Topic4\", \"Topic4\", \"Topic4\", \"Topic4\", \"Topic4\", \"Topic4\", \"Topic4\", \"Topic4\", \"Topic4\", \"Topic4\", \"Topic4\", \"Topic4\", \"Topic4\", \"Topic4\", \"Topic4\", \"Topic4\", \"Topic4\", \"Topic4\", \"Topic4\", \"Topic4\", \"Topic4\", \"Topic4\", \"Topic4\", \"Topic4\", \"Topic4\", \"Topic4\", \"Topic4\", \"Topic4\", \"Topic4\", \"Topic4\", \"Topic4\", \"Topic4\", \"Topic4\", \"Topic4\", \"Topic4\", \"Topic4\", \"Topic4\", \"Topic4\", \"Topic4\", \"Topic4\", \"Topic4\", \"Topic4\", \"Topic4\", \"Topic4\", \"Topic4\", \"Topic4\", \"Topic4\", \"Topic4\", \"Topic4\", \"Topic4\", \"Topic4\", \"Topic4\", \"Topic4\", \"Topic4\", \"Topic4\", \"Topic4\", \"Topic4\", \"Topic4\", \"Topic4\", \"Topic4\", \"Topic4\", \"Topic4\", \"Topic4\", \"Topic4\", \"Topic4\", \"Topic5\", \"Topic5\", \"Topic5\", \"Topic5\", \"Topic5\", \"Topic5\", \"Topic5\", \"Topic5\", \"Topic5\", \"Topic5\", \"Topic5\", \"Topic5\", \"Topic5\", \"Topic5\", \"Topic5\", \"Topic5\", \"Topic5\", \"Topic5\", \"Topic5\", \"Topic5\", \"Topic5\", \"Topic5\", \"Topic5\", \"Topic5\", \"Topic5\", \"Topic5\", \"Topic5\", \"Topic5\", \"Topic5\", \"Topic5\", \"Topic5\", \"Topic5\", \"Topic5\", \"Topic5\", \"Topic5\", \"Topic5\", \"Topic5\", \"Topic5\", \"Topic5\", \"Topic5\", \"Topic5\", \"Topic5\", \"Topic5\", \"Topic5\", \"Topic5\", \"Topic5\", \"Topic5\", \"Topic5\", \"Topic5\", \"Topic5\", \"Topic5\", \"Topic5\", \"Topic5\", \"Topic5\", \"Topic5\", \"Topic5\", \"Topic5\", \"Topic5\", \"Topic5\", \"Topic5\", \"Topic5\", \"Topic5\", \"Topic5\", \"Topic5\", \"Topic5\", \"Topic5\", \"Topic5\", \"Topic5\", \"Topic5\", \"Topic5\", \"Topic5\", \"Topic5\", \"Topic5\", \"Topic5\", \"Topic5\", \"Topic5\", \"Topic5\", \"Topic5\", \"Topic5\", \"Topic5\", \"Topic5\", \"Topic5\"], \"logprob\": [30.0, 29.0, 28.0, 27.0, 26.0, 25.0, 24.0, 23.0, 22.0, 21.0, 20.0, 19.0, 18.0, 17.0, 16.0, 15.0, 14.0, 13.0, 12.0, 11.0, 10.0, 9.0, 8.0, 7.0, 6.0, 5.0, 4.0, 3.0, 2.0, 1.0, -8.2108, -8.7757, -8.7946, -8.7946, -8.7946, -8.7946, -8.8023, -8.8636, -7.6705, -8.0373, -8.1614, -8.6671, -8.6914, -8.7114, -8.7114, -8.7114, -8.7114, -8.6696, -9.0062, -9.1254, -9.159, -9.1956, -9.1956, -9.1956, -9.1956, -9.0763, -9.2302, -8.8817, -9.3083, -9.3461, -8.8529, -8.2422, -8.5656, -6.4302, -5.83, -6.1744, -6.8574, -6.5543, -6.7204, -6.1587, -6.7808, -5.896, -6.1909, -5.0318, -6.0518, -6.1407, -4.8343, -6.6905, -6.4557, -4.4337, -6.8652, -6.2418, -7.7174, -6.8657, -6.5172, -4.3876, -4.0048, -6.5007, -6.2242, -7.1069, -4.3283, -5.2593, -6.2469, -6.4095, -6.024, -6.2267, -6.3555, -4.7326, -5.1756, -4.8437, -5.005, -4.5523, -4.923, -5.3481, -4.6007, -5.2888, -5.7166, -5.5257, -4.9709, -5.4976, -4.6417, -5.3279, -5.3947, -5.5525, -5.4093, -5.6685, -5.4194, -5.49, -5.4709, -5.5515, -5.4774, -5.6479, -6.011, -5.7696, -7.2733, -7.6061, -7.6701, -6.465, -7.8262, -7.6933, -7.8596, -7.8402, -7.9581, -7.4538, -5.9419, -7.1138, -7.5232, -8.2595, -8.4429, -8.5656, -7.9259, -8.6353, -8.5335, -8.5635, -8.5276, -8.616, -8.6368, -8.6912, -8.6226, -8.6818, -7.2596, -6.5212, -6.1085, -5.6624, -6.2193, -5.7006, -7.3991, -7.0629, -5.4304, -7.1334, -7.0443, -4.9569, -5.9065, -4.0192, -7.0433, -5.6319, -6.6174, -6.2054, -6.6879, -5.4374, -5.8586, -5.9195, -6.4535, -6.1073, -6.7061, -4.1061, -5.0834, -4.8155, -4.9042, -5.938, -4.4284, -4.6717, -5.0633, -5.7737, -5.534, -5.2175, -5.174, -5.2206, -5.2522, -5.2383, -5.4391, -5.3126, -5.0051, -5.5026, -5.3199, -5.6824, -5.2235, -5.5479, -5.4089, -5.55, -5.4219, -5.5237, -5.5838, -5.5819, -5.6892, -7.5336, -7.5941, -7.7231, -7.7366, -7.7366, -7.7366, -7.7293, -7.7071, -7.7844, -7.7984, -7.7984, -7.7984, -7.8075, -7.8075, -7.8075, -8.0158, -8.1862, -8.1939, -8.2218, -8.2171, -5.7209, -6.01, -6.0095, -6.0081, -5.9944, -8.6137, -5.268, -8.5918, -8.6726, -7.1136, -7.1136, -7.7384, -7.0017, -7.0488, -6.5227, -7.5146, -6.8036, -6.4605, -4.0025, -3.2291, -5.0459, -5.5869, -6.5076, -5.6963, -5.1449, -6.0019, -7.3062, -4.8362, -6.0901, -7.2411, -6.9956, -4.6259, -5.7498, -6.0066, -4.8154, -5.3665, -5.4541, -5.2772, -4.3497, -6.1621, -6.0399, -4.6475, -5.527, -5.7464, -5.5272, -5.299, -5.7344, -4.7386, -5.0308, -5.5662, -5.1346, -4.7772, -4.8725, -5.0342, -5.0254, -5.3309, -5.2974, -5.5064, -5.6267, -5.6382, -7.1965, -7.4412, -7.5138, -7.0962, -7.5087, -7.8312, -7.4906, -7.2341, -7.7079, -7.4694, -7.9395, -7.1273, -7.8121, -7.219, -8.0351, -8.2013, -7.9103, -7.3175, -8.2226, -7.1632, -8.0281, -8.3385, -8.3612, -8.0824, -8.2435, -8.4807, -8.4959, -7.9242, -6.8724, -8.0608, -6.7477, -8.431, -7.3939, -6.247, -7.1105, -5.8056, -6.9708, -5.5579, -5.0787, -5.4744, -6.9413, -5.7121, -7.2061, -6.4691, -6.3393, -6.0682, -6.3793, -4.9677, -5.4119, -5.7791, -4.7303, -5.8833, -6.2739, -6.5008, -6.8575, -5.3278, -5.6539, -6.0462, -6.4381, -4.8729, -5.0052, -5.1765, -5.4209, -5.6611, -6.0741, -5.2097, -6.0565, -4.8007, -5.7839, -4.9228, -6.0057, -5.4825, -5.3126, -5.4778, -5.6041, -5.7565, -5.5748, -5.5225, -5.7603, -5.6233, -5.7965, -5.765, -7.0073, -6.9851, -7.5044, -7.5044, -7.5044, -7.5045, -7.5045, -7.5045, -7.5551, -7.244, -7.6643, -7.6643, -7.6643, -7.6643, -7.6643, -7.6643, -7.6643, -7.7958, -7.876, -7.8107, -7.8853, -7.7612, -7.8291, -7.6109, -7.6187, -7.6187, -7.6188, -7.6189, -7.5505, -7.5506, -7.7277, -6.9859, -7.1409, -7.3573, -6.3623, -4.4726, -6.0811, -5.0797, -7.1982, -7.0635, -6.9877, -6.4194, -6.8269, -7.3383, -4.3969, -6.6816, -4.8048, -7.1944, -5.886, -4.6786, -6.2739, -4.814, -5.8308, -6.0858, -4.2289, -5.6051, -5.9504, -4.4776, -5.1803, -5.5763, -6.505, -5.7181, -5.332, -4.9472, -5.7101, -5.2238, -5.5023, -4.8492, -5.7581, -5.8233, -5.5061, -5.1919, -5.3046, -5.6227, -5.2138, -5.5123, -5.5545, -5.6967, -5.6019, -5.5736, -5.7174, -5.7554], \"loglift\": [30.0, 29.0, 28.0, 27.0, 26.0, 25.0, 24.0, 23.0, 22.0, 21.0, 20.0, 19.0, 18.0, 17.0, 16.0, 15.0, 14.0, 13.0, 12.0, 11.0, 10.0, 9.0, 8.0, 7.0, 6.0, 5.0, 4.0, 3.0, 2.0, 1.0, 1.11, 1.1088, 1.1086, 1.1086, 1.1086, 1.1086, 1.1086, 1.1077, 1.1066, 1.1052, 1.1051, 1.1039, 1.1039, 1.1037, 1.1037, 1.1037, 1.1037, 1.1037, 1.1028, 1.1028, 1.1021, 1.1018, 1.1018, 1.1018, 1.1018, 1.1, 1.0999, 1.0987, 1.0984, 1.0982, 1.0958, 1.0877, 1.0866, 1.0253, 0.9919, 1.0035, 1.0288, 1.0158, 1.0151, 0.9565, 0.9798, 0.9043, 0.9254, 0.81, 0.8912, 0.8951, 0.741, 0.9232, 0.8947, 0.6919, 0.9304, 0.8685, 1.011, 0.925, 0.8876, 0.6673, 0.6214, 0.8798, 0.8331, 0.9395, 0.5036, 0.6532, 0.794, 0.8192, 0.7404, 0.774, 0.805, 0.3865, 0.4818, 0.3876, 0.4197, 0.2555, 0.3556, 0.4442, 0.1064, 0.3802, 0.5467, 0.4412, 0.161, 0.3697, -0.182, 0.2445, 0.1732, 0.2663, 0.1083, 0.3831, 0.0706, 0.1497, -0.081, 0.0413, -0.292, 0.2983, 1.6372, 1.6347, 1.6344, 1.6326, 1.6322, 1.6318, 1.6308, 1.6304, 1.6303, 1.6288, 1.6278, 1.6272, 1.627, 1.6261, 1.6242, 1.6237, 1.6228, 1.6206, 1.6203, 1.6193, 1.6192, 1.6192, 1.619, 1.6188, 1.6186, 1.6181, 1.618, 1.6178, 1.6177, 1.6177, 1.6112, 1.6065, 1.6091, 1.6008, 1.61, 1.5991, 1.5647, 1.591, 1.589, 1.5268, 1.5515, 1.4787, 1.579, 1.4738, 1.5333, 1.4668, 1.5101, 1.3472, 1.3746, 1.3835, 1.4566, 1.3653, 1.463, 0.8346, 0.9467, 0.8557, 0.6637, 1.106, 0.3793, 0.4475, 0.6189, 0.957, 0.786, 0.5019, 0.4663, 0.419, 0.4442, 0.2817, 0.5275, 0.2598, -0.298, 0.4643, 0.1048, 0.7963, -0.5973, 0.361, -0.2235, 0.119, -0.5901, -0.4688, 0.2514, 0.0108, 1.652, 1.6463, 1.6451, 1.6448, 1.6447, 1.6447, 1.6447, 1.6447, 1.6444, 1.6443, 1.6442, 1.6442, 1.6442, 1.6441, 1.6441, 1.6441, 1.6418, 1.6399, 1.6397, 1.6395, 1.6394, 1.6361, 1.635, 1.6346, 1.6345, 1.6336, 1.6331, 1.6321, 1.632, 1.6319, 1.6317, 1.6317, 1.6312, 1.6232, 1.6209, 1.6079, 1.6281, 1.5821, 1.5457, 1.3531, 1.2305, 1.3933, 1.4189, 1.5142, 1.419, 1.3243, 1.4208, 1.591, 1.2371, 1.4192, 1.5752, 1.5352, 1.1371, 1.3275, 1.3622, 1.1491, 1.246, 1.2239, 1.1484, 0.8357, 1.3439, 1.2881, 0.7424, 1.0318, 1.1386, 1.0241, 0.8736, 1.1281, 0.4927, 0.6514, 1.0107, 0.4378, -0.151, -0.0648, 0.0978, -0.3183, 0.1867, -0.4656, -0.5656, 0.013, 0.0582, 1.8324, 1.8307, 1.8301, 1.8279, 1.8272, 1.8271, 1.8265, 1.8264, 1.8259, 1.8258, 1.8258, 1.8247, 1.8238, 1.8221, 1.8219, 1.8217, 1.8215, 1.8214, 1.821, 1.82, 1.8198, 1.8194, 1.8189, 1.8179, 1.8178, 1.8166, 1.8164, 1.8157, 1.8156, 1.8156, 1.8075, 1.8152, 1.7807, 1.7256, 1.7279, 1.6136, 1.714, 1.5464, 1.4643, 1.4775, 1.654, 1.453, 1.6831, 1.538, 1.4832, 1.3765, 1.4435, 0.9412, 1.0668, 1.1691, 0.7597, 1.1775, 1.2679, 1.3672, 1.5345, 0.7163, 0.8777, 1.059, 1.3087, 0.259, 0.2734, 0.3435, 0.5253, 0.6977, 1.0162, 0.3079, 0.9966, -0.0936, 0.7489, -0.091, 0.9282, 0.2264, -0.1272, 0.1149, 0.1882, 0.4162, -0.1849, -0.4034, 0.096, -0.6826, -0.1001, -0.7102, 2.0316, 2.0291, 2.0273, 2.0273, 2.0273, 2.0273, 2.0273, 2.0273, 2.0272, 2.0271, 2.0259, 2.0259, 2.0259, 2.0259, 2.0259, 2.0259, 2.0259, 2.0238, 2.0232, 2.0225, 2.0222, 2.022, 2.0219, 2.0215, 2.021, 2.0209, 2.0209, 2.0208, 2.0208, 2.0207, 2.0206, 2.0113, 2.0142, 2.0103, 1.9569, 1.8137, 1.8988, 1.7714, 1.9792, 1.9642, 1.9465, 1.8284, 1.8693, 1.9664, 1.2434, 1.7871, 1.1617, 1.8925, 1.4566, 1.0303, 1.5613, 1.0212, 1.3922, 1.4786, 0.4781, 1.1256, 1.2291, 0.4631, 0.7286, 0.9439, 1.4263, 0.8759, 0.5207, 0.1783, 0.7659, 0.2962, 0.5372, -0.223, 0.7077, 0.7543, 0.3286, -0.137, -0.026, 0.4289, -0.382, 0.0805, 0.1649, 0.122, -0.47, -0.7659, -0.0484, 0.1463]}, \"token.table\": {\"Topic\": [1, 1, 2, 3, 4, 5, 3, 1, 2, 3, 4, 5, 5, 1, 2, 3, 4, 5, 1, 2, 3, 5, 1, 2, 3, 4, 1, 2, 4, 5, 1, 2, 3, 4, 5, 1, 5, 1, 1, 1, 2, 3, 4, 5, 4, 1, 1, 2, 3, 4, 5, 4, 5, 1, 2, 3, 4, 1, 2, 3, 4, 5, 1, 1, 2, 3, 4, 5, 1, 5, 5, 4, 5, 2, 1, 2, 3, 4, 5, 1, 2, 3, 4, 5, 1, 1, 2, 3, 4, 5, 1, 2, 3, 4, 5, 3, 4, 2, 4, 3, 3, 5, 2, 4, 1, 2, 3, 4, 5, 1, 2, 3, 4, 5, 3, 4, 4, 1, 2, 3, 4, 5, 2, 4, 4, 2, 1, 2, 3, 4, 5, 1, 2, 3, 4, 5, 1, 2, 3, 4, 5, 3, 5, 2, 3, 4, 5, 1, 1, 1, 2, 3, 4, 5, 1, 2, 3, 4, 5, 2, 3, 3, 4, 5, 1, 2, 3, 4, 5, 1, 4, 1, 5, 1, 3, 4, 1, 2, 3, 4, 5, 1, 2, 3, 4, 5, 4, 1, 2, 3, 4, 5, 4, 5, 1, 2, 5, 5, 1, 2, 3, 4, 5, 1, 2, 3, 4, 5, 1, 5, 5, 1, 2, 3, 4, 5, 2, 1, 2, 3, 4, 5, 1, 2, 3, 4, 5, 3, 4, 1, 1, 2, 3, 4, 5, 2, 2, 1, 2, 3, 4, 5, 1, 2, 3, 4, 5, 1, 2, 3, 4, 5, 1, 2, 3, 4, 5, 1, 2, 3, 4, 5, 1, 2, 3, 4, 1, 1, 2, 3, 4, 5, 1, 2, 3, 4, 5, 1, 2, 3, 4, 5, 1, 5, 1, 2, 3, 4, 5, 1, 2, 3, 4, 5, 2, 3, 4, 5, 1, 2, 3, 4, 5, 2, 3, 4, 5, 3, 4, 3, 1, 2, 3, 4, 5, 1, 2, 3, 4, 5, 1, 2, 3, 4, 5, 1, 2, 3, 4, 5, 3, 1, 2, 3, 4, 5, 1, 2, 3, 4, 5, 1, 2, 3, 4, 5, 1, 2, 3, 4, 5, 1, 2, 3, 4, 5, 1, 2, 3, 4, 5, 1, 2, 3, 4, 5, 1, 2, 3, 4, 5, 2, 1, 2, 3, 4, 5, 1, 2, 3, 4, 5, 1, 2, 3, 4, 5, 2, 4, 1, 2, 3, 4, 5, 2, 4, 1, 2, 3, 4, 5, 1, 2, 3, 4, 5, 1, 2, 3, 4, 5, 4, 1, 2, 3, 4, 5, 1, 2, 3, 4, 5, 1, 2, 3, 4, 1, 2, 3, 4, 5, 3, 3, 1, 2, 3, 4, 5, 1, 2, 3, 4, 5, 1, 2, 3, 4, 5, 1, 4, 1, 2, 3, 4, 5, 1, 2, 3, 4, 5, 2, 1, 2, 3, 4, 5, 4, 4, 1, 2, 3, 4, 5, 1, 2, 3, 4, 5, 1, 2, 3, 4, 5, 1, 2, 3, 4, 5, 4, 1, 2, 3, 4, 5, 3, 3, 4, 3, 3, 1, 2, 3, 4, 5, 1, 3, 4, 5, 3, 1, 2, 3, 4, 5, 1, 5, 1, 2, 3, 4, 5, 2, 1, 2, 3, 4, 5, 1, 1, 4, 2, 1, 2, 3, 4, 5, 1, 2, 3, 4, 5, 1, 1, 2, 3, 4, 5, 2, 3, 4, 5, 1, 2, 3, 4, 5, 1, 3, 4, 1, 2, 3, 4, 5, 1, 2, 3, 4, 5, 1, 2, 3, 4, 5, 1, 2, 3, 4, 5, 1, 5, 3, 5, 1, 2, 3, 4, 5, 1, 2, 3, 4, 5, 1, 2, 3, 4, 5, 1, 4, 1, 2, 3, 4, 5, 1, 2, 3, 4, 5, 1, 3, 1, 2, 3, 4, 5, 1, 2, 3, 4, 5, 5, 5, 3, 3, 2, 3, 5, 1, 2, 3, 4, 5, 1, 2, 4, 5, 2, 3, 4, 2, 4, 1, 2, 3, 4, 5, 1, 2, 3, 4, 5, 3, 4, 1, 2, 3, 4, 5, 5, 1, 2, 3, 4, 5, 1, 2, 3, 4, 5, 3, 1, 5, 2, 4, 1, 2, 3, 4, 5, 1, 2, 3, 1, 2, 3, 4, 5, 1, 2, 3, 4, 5, 1, 2, 3, 4, 5, 1, 2, 3, 4, 5, 5, 1, 5, 1, 5, 2, 1, 2, 3, 4, 5, 1, 2, 3, 4, 5, 4, 1, 2, 3, 4, 5, 1, 5, 2, 1, 2, 3, 4, 5, 1, 2, 3, 4, 5, 1, 2, 3, 4, 5, 1, 2, 3, 5, 1, 2, 3, 4, 5, 3, 4, 1, 5, 2, 4, 4, 1, 2, 3, 4, 5, 3, 2, 4, 5, 1, 2, 3, 4, 5, 1, 4, 1, 2, 3, 4, 5, 1, 2, 3, 2, 3, 4, 4, 1, 2, 3, 4, 5, 5, 3, 2, 1, 2, 3, 4, 5, 1, 2, 3, 4, 5, 1, 1, 2, 3, 4, 5, 1, 2, 3, 4, 5, 5, 1, 2, 3, 4, 5, 1, 2, 3, 4, 5, 1, 2, 3, 4, 5, 5, 4, 1, 2, 3, 4, 5, 1, 1, 2, 3, 5, 2, 1, 2, 3, 4, 5, 4, 4, 2, 1, 2, 3, 4, 5, 1, 2, 3, 4, 5, 1, 2, 3, 4, 5, 1, 2, 3, 4, 5, 1, 2, 3, 4, 5, 1, 2, 3, 4, 5, 2, 1, 1, 2, 3, 4, 5, 1, 2, 3, 4, 5, 1, 5, 3, 1, 2, 3, 4, 5, 2, 1, 2, 3, 4, 5, 1, 2, 3, 4, 5, 1, 2, 2, 1, 2, 3, 4, 5, 1, 5, 3, 4, 1, 2, 3, 4, 5, 2, 4, 1, 2, 3, 4, 5, 1, 2, 3, 4, 5, 4, 4, 4, 2, 3, 4, 2, 3, 4, 1, 2, 3, 4, 5, 1, 2, 3, 4, 5, 1, 2, 3, 4, 5, 3, 4, 1, 2, 3, 4, 5, 1, 2, 3, 1, 5, 1, 2, 4, 1, 2, 3, 4, 5, 1, 2, 4, 5, 1, 2, 3, 4, 5, 1, 2, 3, 4, 5, 1, 3, 4, 5, 5, 4, 2, 1, 2, 3, 4, 5, 1, 2, 3, 4, 5, 1, 2, 3, 4, 5, 1, 2, 3, 4, 5, 3, 3, 1, 2, 3, 4, 5, 1, 2, 3, 4, 5, 3, 4, 1, 2, 3, 4, 5, 5, 3, 2, 4, 2, 4, 1, 2, 3, 4, 5, 1, 2, 3, 4, 5, 1, 2, 3, 4, 5, 4, 2, 4, 1, 1, 2, 3, 4, 5, 3, 1, 2, 3, 4, 5, 1, 2, 3, 4, 5, 1, 2, 3, 4, 5, 1, 2, 3, 4, 5, 1, 2, 3, 4, 5, 5, 1, 2, 3, 4, 5, 2, 1, 2, 3, 4, 5, 1, 2, 3, 4, 5, 1, 2, 3, 4, 5, 5, 4, 5], \"Freq\": [0.9936456167071449, 0.7933261562811328, 0.042148379023200684, 0.012176198384480197, 0.03465533386352056, 0.1180154612649619, 0.994918099619835, 0.0575616148858405, 0.13979249329418408, 0.7334994354024247, 0.00986770540900123, 0.05920623245400737, 0.9780651257276093, 0.2668292833766219, 0.3023706208193202, 0.20301642751359522, 0.14378086510909796, 0.08373754503544843, 0.00993606259626128, 0.00993606259626128, 0.05961637557756768, 0.9339898840485604, 0.11168215805342765, 0.043875133520989436, 0.10769350955151952, 0.7378999728530041, 0.00681118338668308, 0.969458435371225, 0.02270394462227693, 0.002270394462227693, 0.048879598224772884, 0.03910367857981831, 0.06843143751468203, 0.830953169821139, 0.009775919644954577, 0.9766674561785974, 0.016553685697942327, 0.9920686149672387, 0.9825754034676734, 0.0037659029806525516, 0.027302796609731, 0.2815012478037782, 0.512162805368747, 0.1760559643455068, 0.9921685598066616, 0.9739531079606756, 0.4382930320053645, 0.04873763210785205, 0.18250687768046725, 0.26892111900644605, 0.061872596789400824, 0.9776755934909136, 0.9836559493880465, 0.0304624117005952, 0.9494118313352171, 0.0152312058502976, 0.005077068616765867, 0.5056852226781983, 0.3084221106913784, 0.012350999856062065, 0.012703885566235267, 0.16056299812880684, 0.9942567594695306, 0.005034698251821837, 0.005034698251821837, 0.9716967626016144, 0.01510409475546551, 0.005034698251821837, 0.013890307301755524, 0.9862118184246422, 0.993522720536906, 0.017111488950526412, 0.9753548701800054, 0.9822059578670095, 0.026443469523854603, 0.026443469523854603, 0.9387431680968384, 0.006610867380963651, 0.006610867380963651, 0.17804855348166782, 0.0011128034592604238, 0.7912032595341614, 0.02003046226668763, 0.00890242767408339, 0.9696840506988558, 0.02299765275683362, 0.8771961837249396, 0.08541985309681059, 0.009856136895785838, 0.006570757930523892, 0.23208074402256798, 0.5864183085570245, 0.08806635375856374, 0.06734485875654875, 0.025901868752518747, 0.0076336249911352315, 0.9847376238564448, 0.015353775090936099, 0.9826416058199103, 0.9903604206288817, 0.9892323433067773, 0.9850463528741684, 0.007783694232031643, 0.9885291674680187, 0.6054566383302675, 0.10674208844132824, 0.1646376675526715, 0.018929176583453538, 0.10424897737911729, 0.719903173043944, 0.11671313996264802, 0.130140315356581, 0.013427175393932959, 0.019624333268055863, 0.2005415276859864, 0.7991504486734796, 0.9839048371265245, 0.09777257622396748, 0.12012059364658863, 0.04748953702306992, 0.17599063720314148, 0.5587004355655285, 0.9972437534397218, 0.0018959006719386346, 0.9750185416176322, 0.9951907703179179, 0.157074152546629, 0.4468139943214494, 0.10876310079718271, 0.08043410710117233, 0.20702929768021872, 0.8770586464957064, 0.06389168947981967, 0.024063103830061956, 0.024063103830061956, 0.011616670814512668, 0.2326191297850096, 0.008258667329645312, 0.6937280556902061, 0.06331644952728072, 0.0013764445549408852, 0.0524927535822774, 0.9448695644809932, 0.014612380400133107, 0.007306190200066553, 0.007306190200066553, 0.9717232966088516, 0.9627412475518664, 0.9942567594695306, 0.35787633786966094, 0.07664139359096186, 0.526097701768467, 0.014289073381365772, 0.02468112674963179, 0.26266166481283404, 0.26213947462433934, 0.007832852827420498, 0.3195803953587563, 0.14725763315550536, 0.9769261792870766, 0.9714900314532124, 0.010582007711245804, 0.010582007711245804, 0.9735447094346139, 0.8978637764296887, 0.06827074797737265, 0.012412863268613208, 0.012412863268613208, 0.008275242179075472, 0.9764579435481437, 0.019529158870962876, 0.012971521796357788, 0.9858356565231918, 0.036853981829736135, 0.9551323624206615, 0.0030711651524780114, 0.2960314652817914, 0.20883329621266183, 0.23000096768958822, 0.17502820892861523, 0.09004158762573165, 0.47873981274672117, 0.30338831833996505, 0.08465244557567536, 0.10626905221374959, 0.027058549567939086, 0.9920552117666955, 0.0971031527009468, 0.8409133023901992, 0.00971031527009468, 0.040783324134397655, 0.013594441378132552, 0.9825127666366766, 0.9903003210448433, 0.01265057165913277, 0.9740940177532232, 0.9850489809734823, 0.9810545887133705, 0.21966815191090144, 0.1499322306693454, 0.020920776372466802, 0.040098154713894704, 0.5718345541807592, 0.05317168855344267, 0.010760936969149112, 0.5329828781190324, 0.1721749915063858, 0.23041065039825157, 0.9920686149672387, 0.993522720536906, 0.993522720536906, 0.061363397822268205, 0.09715871321859132, 0.26761259605822524, 0.5659068910275845, 0.008522694141981695, 0.97450823458622, 0.24026464810656142, 0.05855188903437211, 0.6656071063792416, 0.018171275907218933, 0.01682525546964716, 0.8031015176673136, 0.016240677809248, 0.0414137284135824, 0.1242411852407472, 0.0146166100283232, 0.014408783743841302, 0.9797972945812086, 0.9942567594695306, 0.009931121669713463, 0.38172748917961125, 0.0018620853130712743, 0.38234818428396833, 0.22345023756855292, 0.9954641157403173, 0.9836584442464563, 0.24755001641063915, 0.06597698675261528, 0.12159395079200998, 0.19956675331782803, 0.3650544845526936, 0.03766995811893193, 0.1481685019344656, 0.09480272793264537, 0.6881045683058233, 0.03139163176577661, 0.0892257658076192, 0.029741921935873068, 0.7196378758601445, 0.1154686381039778, 0.0460708202536073, 0.15642288046634925, 0.1663370066930897, 0.1916731070503153, 0.45825294559155844, 0.027539239518723464, 0.10192391263823976, 0.016528202049444284, 0.870485307937399, 0.005509400683148095, 0.0027547003415740474, 0.017448439973995106, 0.02617265996099266, 0.008724219986997553, 0.9422157585957358, 0.9842566097253951, 0.22146909083964209, 0.3090384784819833, 0.006873178681230272, 0.010946173455292654, 0.4518478577475456, 0.6824936187743154, 0.16173739025829634, 0.031250144725423035, 0.048664347511345796, 0.07585912994415668, 0.8977182089974115, 0.007013423507792277, 0.005260067630844209, 0.03506711753896139, 0.05435403218539015, 0.9766674561785974, 0.016553685697942327, 0.47927267257792994, 0.08049886808295507, 0.3133705936086465, 0.05733007621874321, 0.06950637559263557, 0.3000292426792468, 0.12960312068178825, 0.4022849158777219, 0.13217932950268008, 0.036066923492485414, 0.010566966011967105, 0.010566966011967105, 0.10831140162266281, 0.8691329544842943, 0.8466613672028876, 0.08566744451330138, 0.02113872007471073, 0.03671461907712916, 0.010013077930126136, 0.011665084708580855, 0.9789698013124395, 0.008075827875171361, 0.0008973142083523735, 0.9818103934107881, 0.016992872193648256, 0.9922475719713069, 0.7055118371379798, 0.10022038755405902, 0.01984562129783347, 0.06846739347752547, 0.10617407394340905, 0.0037086700570176374, 0.0037086700570176374, 0.0037086700570176374, 0.06675606102631748, 0.9234588441973918, 0.05386133423483425, 0.13701567480791169, 0.07937459781975574, 0.697362537987854, 0.032127813403234465, 0.016372600435186666, 0.19881014814155235, 0.04210097254762285, 0.6806323895199028, 0.06315145882143428, 0.986922053258004, 0.02980668551739723, 0.8507048836928262, 0.027157202360295254, 0.009052400786765084, 0.08301713892252859, 0.4757473626919224, 0.21848750026710534, 0.0513471823169696, 0.13020178373231578, 0.12417634907267137, 0.3925492930599849, 0.10398656769800925, 0.11828472075648552, 0.1078860639866846, 0.2768642364959496, 0.6823688008540879, 0.13475021096085318, 0.06580824256227714, 0.07677628298932333, 0.040738435871885845, 0.727601317926339, 0.07916302339038568, 0.06402891597751784, 0.09080464447720711, 0.0384173495865107, 0.051794370347076624, 0.8463420516288266, 0.051794370347076624, 0.012122086676975381, 0.03746826791065118, 0.12251953014296806, 0.2905197949602197, 0.12251953014296806, 0.4028293642579404, 0.062187943330142874, 0.10471672984373208, 0.06781654885117887, 0.7908606358674242, 0.011967626267855094, 0.02393525253571019, 0.9768928891529585, 0.1786036161396448, 0.053320982488292014, 0.4586471501838451, 0.24102818100398668, 0.06849361978170844, 0.05634414293859358, 0.11851699031911063, 0.01700038795561013, 0.008743056662885211, 0.7995039592838364, 0.10649054859155091, 0.42545988045775296, 0.09945815387324095, 0.17430292623239702, 0.1943954825704255, 0.9785647354236975, 0.01858034307766514, 0.004771425581782553, 0.7602471426973534, 0.0015904751939275175, 0.22425700234378, 0.009542851163565106, 0.9785802333653417, 0.019441991391364405, 0.014391091196306917, 0.5052030435756165, 0.07801486280103223, 0.0015148517048744123, 0.4014357017917192, 0.9092630507483574, 0.014432746837275514, 0.02886549367455103, 0.04570369831803913, 0.002405457806212586, 0.16077993400364207, 0.07927343968235129, 0.6034830161733926, 0.144032024211596, 0.012281800514167102, 0.9899163824519952, 0.00685733299182979, 0.048001330942808534, 0.05943021926252485, 0.2674359866813618, 0.6217315245925676, 0.01392532031634871, 0.08355192189809227, 0.7219742994783871, 0.17781562865491432, 0.0021423569717459556, 0.8198151840484872, 0.02404791206542229, 0.12461190797537004, 0.030606433537810188, 0.3618038211101965, 0.14396067923532446, 0.139255427549608, 0.14486168487727016, 0.21023464978733056, 0.995781871409476, 0.9881836791229284, 0.5381619181812588, 0.10751896700439059, 0.1202216297728418, 0.14517328878229954, 0.08891863937915846, 0.7377561532332207, 0.04361734014047757, 0.08474226084435643, 0.0672953247881654, 0.06604911506986604, 0.38666523109896145, 0.3764835991716771, 0.11981176174897397, 0.04404147763895091, 0.0729288984558972, 0.9772381219394912, 0.9858161631656941, 0.7833036662860605, 0.10298992649316721, 0.024659559864561163, 0.05802249379896744, 0.02901124689948372, 0.8328674950665642, 0.03952591502010813, 0.002823279644293438, 0.002823279644293438, 0.12422430434891128, 0.9782533285756864, 0.071871869180638, 0.1933105446927505, 0.004956680633147448, 0.20446307611733225, 0.5241689769553427, 0.9954394669475337, 0.9903995608629252, 0.7750557807370305, 0.08857780351280349, 0.014393893070830567, 0.029895008685571177, 0.09189947114453362, 0.24570167710971846, 0.030049845401908012, 0.597461632108524, 0.10429063992426899, 0.02209547456022648, 0.12416363244571264, 0.06772561769766144, 0.06546809710773939, 0.6727411357967703, 0.07224065887750554, 0.8238798217882464, 0.0461372700201418, 0.05053129573634578, 0.07250142431736568, 0.006591038574305971, 0.9870338754232372, 0.03779108008451902, 0.002361942505282439, 0.06141050513734341, 0.6235528213945639, 0.2739853306127629, 0.9834443246589899, 0.9833521829680892, 0.015586273793442337, 0.9869261820164144, 0.9949426522607003, 0.19356794448960754, 0.07345212179293144, 0.5919376873900946, 0.13048553400861937, 0.010369711311943261, 0.05272637363802911, 0.01506467818229403, 0.007532339091147015, 0.9264777082110829, 0.9897780992786192, 0.00837007992713015, 0.20715947819647118, 0.07114567938060626, 0.5879981148808929, 0.12555119890695224, 0.013890142743542321, 0.9862001347915047, 0.46418813287414246, 0.10461077096858061, 0.09521353222055558, 0.20904423554568907, 0.1269513762940741, 0.9924861228875683, 0.03409175744177833, 0.0472039718424623, 0.01835710016095756, 0.8942530221266469, 0.005244885760273588, 0.9869160002013954, 0.09973709216343121, 0.8976338294708809, 0.9951465759414729, 0.28648531695241675, 0.13050307279828094, 0.12304575435266489, 0.33620077325652375, 0.12366719755646623, 0.7907504989944661, 0.06391404409165798, 0.03567295484185562, 0.05499580538119408, 0.05648217849960473, 0.9837424486766518, 0.17921213564033112, 0.001433697085122649, 0.7469561813489001, 0.04157721546855682, 0.03010763878757563, 0.11148244860800172, 0.01967337328376501, 0.859070633391072, 0.013115582189176671, 0.00313498355967787, 0.9154151994259381, 0.009404950679033611, 0.007837458899194676, 0.06583465475323527, 0.9679953789213679, 0.010189425041277556, 0.020378850082555112, 0.29434206104183447, 0.19266025813647347, 0.12812536774762207, 0.16527228026413165, 0.21941862732209477, 0.5619777898741878, 0.16422661764904475, 0.1001497581617007, 0.07024722373427347, 0.10347226198697039, 0.5306313773955567, 0.06916224962767933, 0.06741866350261179, 0.06799985887763431, 0.2644438956352445, 0.0053629466487636135, 0.010725893297527227, 0.0053629466487636135, 0.9760562900749776, 0.0053629466487636135, 0.013788373986491066, 0.9789745530408657, 0.9686412417831098, 0.9780787778845041, 0.4199557299413736, 0.283328951468488, 0.17947488484971436, 0.05668793401792335, 0.06056308575742983, 0.021937016092558017, 0.8994176597948786, 0.03133859441794003, 0.0031338594417940025, 0.043874032185116034, 0.07322048574304989, 0.09906301012294984, 0.0043070873966499935, 0.04307087396649993, 0.7795828187936488, 0.9820969731486676, 0.015840273760462383, 0.03755934697390654, 0.7662106782676934, 0.012519782324635513, 0.1001582585970841, 0.08263056334259439, 0.3033564308449631, 0.49957954968148205, 0.04961963924601627, 0.02969660227602489, 0.11765869003032646, 0.010602031632991053, 0.9753869102351769, 0.17521397392426255, 0.35998507369893945, 0.36715291808675016, 0.06716535667096732, 0.03026423185964535, 0.4835682698890791, 0.037433584344205365, 0.10861876112990736, 0.03497892307573288, 0.33506126314649387, 0.9883390885853243, 0.9755403473862525, 0.9899161120900707, 0.9922476041135359, 0.1278693386523051, 0.007991833665769069, 0.8631180359030594, 0.00832516704394356, 0.2780605792677149, 0.03596472162983618, 0.4076001784714767, 0.2700684189055291, 0.0013403911653781467, 0.9610604655761312, 0.036190561465209964, 0.0013403911653781467, 0.939014626848823, 0.005021468592774454, 0.055236154520519, 0.9713871790727031, 0.026473864419172204, 0.7311650581440488, 0.06913059749062131, 0.15445394754661337, 0.016192752565370755, 0.029271514252785596, 0.1474337689628946, 0.08574162450324366, 0.2582705030768437, 0.43079938165044374, 0.07842221753345456, 0.9822380049807788, 0.016967643080282167, 0.013814262655443508, 0.9275290640083499, 0.0009867330468173935, 0.05525705062177403, 0.0029601991404521804, 0.9850463222676746, 0.47086582314103403, 0.18240460312993922, 0.13768193336077725, 0.16483498286348272, 0.04440322212795368, 0.24293164195424574, 0.1550627501835611, 0.4416057906269334, 0.14004104625952862, 0.020351985961592396, 0.9898215666084346, 0.9766674561785974, 0.016553685697942327, 0.9614325242250663, 0.03657623733464926, 0.33886479219036386, 0.19613377656863468, 0.14540115366907447, 0.1784137695271615, 0.1412745766868136, 0.021062187814754444, 0.005265546953688611, 0.9688606394787044, 0.624939549366586, 0.14169752349274464, 0.053136571309779244, 0.042776610865734234, 0.13735302395169352, 0.12589461809046892, 0.2493146490931645, 0.12744123502032725, 0.13548364305559063, 0.3619083615868517, 0.025867914774362604, 0.09772323359203651, 0.6510091884881255, 0.1142499569201015, 0.11137574416739454, 0.0137196989012824, 0.0068598494506412, 0.041159096703847195, 0.0274393978025648, 0.9123599769352796, 0.993522720536906, 0.9920686149672387, 0.993522720536906, 0.9800039075299664, 0.008448309547672124, 0.9871684122821499, 0.7953078107612651, 0.11120233106219458, 0.004222873331475744, 0.039413484427106946, 0.05067447997770893, 0.02590249461428573, 0.4297459333733769, 0.028845959911363656, 0.46212405164123405, 0.05298237534740263, 0.9855493476223336, 0.20783575787127934, 0.20196469126474603, 0.0857175724553864, 0.22486185103022596, 0.2800498771316391, 0.9766674561785974, 0.016553685697942327, 0.9923253050280859, 0.818750978015761, 0.031138180371964065, 0.0439597840545375, 0.0732663067575625, 0.03296983804090313, 0.2862924703009253, 0.1437180576610504, 0.2199610590727482, 0.3255576160279497, 0.02477897545880179, 0.6339416836294767, 0.12134483031905904, 0.05301748427491598, 0.07825040459827172, 0.1136898994344455, 0.02291287469908582, 0.08248634891670895, 0.8890195383245298, 0.004582574939817164, 0.01231732197919908, 0.8326509657938578, 0.03448850154175742, 0.10100204022943246, 0.01970771516671853, 0.9826460999140276, 0.017007336344665863, 0.012971442631620353, 0.9858296400031468, 0.9848771552814172, 0.008490320304150147, 0.9740341586916424, 0.8655651074306306, 0.12092453706751458, 0.004242966212895248, 0.004242966212895248, 0.002121483106447624, 0.9897787567433307, 0.006983267286490828, 0.9846406873952067, 0.006983267286490828, 0.5206139762180586, 0.09976232285396809, 0.013213552695889813, 0.053514888418353744, 0.3131611988925886, 0.9896417881490309, 0.010098385593357458, 0.16547580938031772, 0.10648008603603053, 0.5968640498343982, 0.06762924383369506, 0.06388805162161831, 0.008450376676325005, 0.01690075335265001, 0.9717933177773755, 0.95103980952878, 0.011123272626067602, 0.033369817878202805, 0.9841623801869207, 0.13155630379748864, 0.7732288876260557, 0.04832680547662848, 0.03221787031775232, 0.01476652389563648, 0.993522720536906, 0.9721170970836636, 0.9673641857006996, 0.006770640324197941, 0.01805504086452784, 0.00902752043226392, 0.7018897136085198, 0.2640549726437197, 0.4770132820746476, 0.13941692543727624, 0.11061177555354147, 0.07297304637212805, 0.20009977452567745, 0.9920686149672387, 0.0974489095137442, 0.2273807888654031, 0.015468080875197491, 0.6295508916205379, 0.030936161750394982, 0.7964307696436839, 0.014387136483885902, 0.012331831271902202, 0.06371446157149471, 0.11406943926509537, 0.9850481663461081, 0.8872379268577314, 0.018953013123796665, 0.03198320964640687, 0.036721462927356036, 0.026060393045220415, 0.4076567370784892, 0.10844396574350727, 0.15869848645391307, 0.1742377132525254, 0.15076356213121742, 0.07484066687249226, 0.02138304767785493, 0.005345761919463733, 0.8820507167115158, 0.016037285758391195, 0.9903912608922965, 0.9776893254208948, 0.0035595890941807332, 0.27646141964803694, 0.03440936124374709, 0.23967899900816939, 0.44494863677259167, 0.9942567594695306, 0.9849595487817084, 0.005862854457033979, 0.005862854457033979, 0.005862854457033979, 0.9924988877492175, 0.020910225839947536, 0.1826893415490153, 0.04842368089251008, 0.7461649010254963, 0.002201076404205004, 0.9680285680202346, 0.979449547724283, 0.9836711292908941, 0.7486577791938552, 0.10500109105103159, 0.04830050188347453, 0.024150250941737266, 0.07455077464623243, 0.3820249630299344, 0.119277533547222, 0.21114726413558296, 0.2060944289532231, 0.08145782778834673, 0.01878392489376601, 0.004695981223441502, 0.004695981223441502, 0.9673721320289494, 0.004695981223441502, 0.013559404741947471, 0.002711880948389494, 0.8976325939169225, 0.08406830940007431, 0.002711880948389494, 0.2078842531518818, 0.2570902978718712, 0.1356551966821726, 0.2243615066590342, 0.1751554619390448, 0.41531459110374747, 0.25142469805077955, 0.2966192984572584, 0.007849588491651585, 0.028781824469389143, 0.9762576594207554, 0.9870070724323202, 0.2453196039523226, 0.08124985282900925, 0.6598116067901668, 0.008635250059121755, 0.0051026477622083104, 0.09240370305223562, 0.021450859637126125, 0.792031740447734, 0.0792031740447734, 0.01650066125932779, 0.013890259592383639, 0.9862084310592384, 0.9910387910289769, 0.00690677224877832, 0.11050835598045312, 0.04834740574144824, 0.02417370287072412, 0.8115457392314526, 0.9879609004847051, 0.970534915743239, 0.014065723416568681, 0.014065723416568681, 0.014065723416568681, 0.014065723416568681, 0.8208749711598149, 0.03007276013746947, 0.020048506758312983, 0.008910447448139102, 0.12029104054987788, 0.9851135168269293, 0.009564208901232323, 0.980237795877059, 0.0011833930907458761, 0.8928700869677636, 0.0005916965453729381, 0.07100358544475258, 0.034318399631630414, 0.9736787048730062, 0.016227978414550103, 0.9986723448434501, 0.9914458437613614, 0.10311735486352645, 0.7458022642455053, 0.045563482381558204, 0.08792952740300705, 0.01758590548060141, 0.9860376316569467, 0.012259792933567722, 0.388668926063173, 0.17624605239141497, 0.1796472919989686, 0.074518067765493, 0.18088410640171537, 0.271091767968239, 0.031424132273134966, 0.6552947782231104, 0.028219183459208264, 0.01391416802143787, 0.9798403409109494, 0.9781823705021294, 0.9842503791840297, 0.01135735727894429, 0.9767327259892089, 0.01135735727894429, 0.01135735727894429, 0.9767327259892089, 0.01135735727894429, 0.002714700821047935, 0.1873143566523075, 0.008144102463143805, 0.7411133241460862, 0.06243811888410251, 0.005406869755185212, 0.14598548339000073, 0.005406869755185212, 0.005406869755185212, 0.8434716818088931, 0.10115293152539159, 0.08640146234460531, 0.08534778597454915, 0.5163014213275195, 0.21073527401123246, 0.9810107761608611, 0.018579749548501157, 0.37777593607012305, 0.2948433063335169, 0.19384866214507326, 0.08802052113148996, 0.04528223341446593, 0.005649007898845716, 0.9885763822980003, 0.005649007898845716, 0.013890249399268865, 0.9862077073480895, 0.0012973465792670967, 0.9665232015539871, 0.031136317902410324, 0.007548883159946023, 0.04780959334632481, 0.0780051259861089, 0.3220856814910303, 0.5435195875161136, 0.9757578634862273, 0.9685446370852462, 0.02218041153630335, 0.9895950961419312, 0.6496538237538683, 0.051728875896092555, 0.11197780193977683, 0.030885181785019967, 0.15579520269881994, 0.3625104324901265, 0.1443286877181187, 0.2307908032934035, 0.2163804506975227, 0.04593299889937007, 0.012193914517155796, 0.9267375033038404, 0.006096957258577898, 0.060969572585778974, 0.9850443837168208, 0.9652218246938733, 0.9912686551293516, 0.007927606640633222, 0.03963803320316611, 0.9314937802744035, 0.003963803320316611, 0.015855213281266444, 0.09312498686119158, 0.1179013595123343, 0.011961007486758553, 0.011106649809132941, 0.7663588368301729, 0.4143918111528784, 0.16621210007780288, 0.1639352219945453, 0.03225577284614896, 0.2231340521592422, 0.09786324737529997, 0.11088821195402696, 0.6040767355971753, 0.15418741852655177, 0.03309045055136042, 0.986922126728514, 0.9897786984550891, 0.28891999784951594, 0.05293677664792456, 0.537021276356054, 0.11033810072398734, 0.010204679835744494, 0.23476869344435677, 0.013404411534343373, 0.7408809746624929, 0.00785115532725826, 0.0030638654935641993, 0.008418703261549927, 0.9849882816013416, 0.16342115298535018, 0.03631581177452226, 0.792895223743736, 0.00605263529575371, 0.0015131588239384276, 0.9850474270713865, 0.9874099038562065, 0.9937776681104907, 0.004456402099150183, 0.9917157667544294, 0.005938417764996583, 0.3491338282989996, 0.09900156235329223, 0.15507324368613032, 0.33993456808033085, 0.057166831358870074, 0.1397882486514737, 0.04074799150974132, 0.7713821170524642, 0.0452755461219348, 0.002829721632620925, 0.03845219555769274, 0.3287839106400884, 0.07231834944336708, 0.14428392645042504, 0.4162714748447471, 0.990530358053762, 0.9851620033838875, 0.007944854865999093, 0.9648431605707355, 0.9069000379279848, 0.015636207550482496, 0.04847224340649574, 0.017199828305530747, 0.010945345285337747, 0.9922472896371367, 0.0031919267378254855, 0.8362848053102772, 0.04787890106738228, 0.019151560426952912, 0.09575780213476456, 0.49495466842209923, 0.21526013564460286, 0.12845838409296606, 0.09665159569934027, 0.064639602219304, 0.4244950595225399, 0.14058546057305624, 0.15367025452249652, 0.13389091483148213, 0.14728000631463034, 0.8933967828681695, 0.022334919571704238, 0.016751189678778176, 0.03350237935755635, 0.027918649464630296, 0.3286810196824233, 0.3204157802939298, 0.09890736468230509, 0.09835634872307218, 0.15373345262597837, 0.993522720536906, 0.5070878184717925, 0.1801925152722676, 0.05097551418886517, 0.19204728601386414, 0.06964677810687973, 0.9685076663951399, 0.22464316180043675, 0.1834043205037382, 0.019534187982646674, 0.43951922960955014, 0.13131315255001375, 0.5264611159904011, 0.16547400546869961, 0.10202935548461291, 0.10228831323965, 0.10332414425979836, 0.24522455499221296, 0.4563172126086361, 0.16120757683642264, 0.11552334496421167, 0.021791903709158112, 0.9803746676511438, 0.9734399435159624, 0.9776704206025623], \"Term\": [\"accept_doge\", \"afford\", \"afford\", \"afford\", \"afford\", \"afford\", \"agrees\", \"ai\", \"ai\", \"ai\", \"ai\", \"ai\", \"ai_ml\", \"also\", \"also\", \"also\", \"also\", \"also\", \"amc\", \"amc\", \"amc\", \"amc\", \"analysis\", \"analysis\", \"analysis\", \"analysis\", \"anyone_else\", \"anyone_else\", \"anyone_else\", \"anyone_else\", \"app\", \"app\", \"app\", \"app\", \"app\", \"artistically_inspired\", \"artistically_inspired\", \"artistontwitter\", \"asking_owners\", \"autopilot\", \"autopilot\", \"autopilot\", \"autopilot\", \"autopilot\", \"autopilot_faces\", \"awhile\", \"back\", \"back\", \"back\", \"back\", \"back\", \"bad_design\", \"bake\", \"bankrupt\", \"bankrupt\", \"bankrupt\", \"bankrupt\", \"battery\", \"battery\", \"battery\", \"battery\", \"battery\", \"begin_move\", \"bid\", \"bid\", \"bid\", \"bid\", \"bid\", \"binance_babydoge\", \"binance_babydoge\", \"bitcoinpizzaday_shillme\", \"black_workers\", \"black_workers\", \"blvd\", \"bn\", \"bn\", \"bn\", \"bn\", \"bn\", \"bot\", \"bot\", \"bot\", \"bot\", \"bot\", \"bot_numbers\", \"boycotttesla\", \"boycotttesla\", \"boycotttesla\", \"boycotttesla\", \"boycotttesla\", \"brand\", \"brand\", \"brand\", \"brand\", \"brand\", \"brand_threatened\", \"brand_threatened\", \"british_columbia\", \"british_columbia\", \"btc_holdings\", \"btcusd\", \"burn_burned\", \"business_conduct\", \"business_conduct\", \"buy\", \"buy\", \"buy\", \"buy\", \"buy\", \"buying\", \"buying\", \"buying\", \"buying\", \"buying\", \"c\", \"c\", \"cabin\", \"california\", \"california\", \"california\", \"california\", \"california\", \"california_united\", \"california_united\", \"canada_teslaradar\", \"cancel_orders\", \"car\", \"car\", \"car\", \"car\", \"car\", \"care\", \"care\", \"care\", \"care\", \"care\", \"cash\", \"cash\", \"cash\", \"cash\", \"cash\", \"catches_fire\", \"catches_fire\", \"cathie_wood\", \"cathie_wood\", \"cathie_wood\", \"cathie_wood\", \"catl\", \"cause_doge\", \"ceo\", \"ceo\", \"ceo\", \"ceo\", \"ceo\", \"charge\", \"charge\", \"charge\", \"charge\", \"charge\", \"christ\", \"claim_today\", \"class_action\", \"class_action\", \"class_action\", \"climate_change\", \"climate_change\", \"climate_change\", \"climate_change\", \"climate_change\", \"closet\", \"closet\", \"coinbase_cryptocurrency\", \"coinbase_cryptocurrency\", \"collateral\", \"collateral\", \"collateral\", \"come\", \"come\", \"come\", \"come\", \"come\", \"company\", \"company\", \"company\", \"company\", \"company\", \"company_insiders\", \"competition\", \"competition\", \"competition\", \"competition\", \"competition\", \"conditions_reported\", \"construction_worker\", \"consumer_reports\", \"consumer_reports\", \"contract_slippage\", \"coo_cfo\", \"cool\", \"cool\", \"cool\", \"cool\", \"cool\", \"crash\", \"crash\", \"crash\", \"crash\", \"crash\", \"crowleycheck\", \"cryptos_nftcommumity\", \"daily_nftrelease\", \"data\", \"data\", \"data\", \"data\", \"data\", \"deadly_crash\", \"deal\", \"deal\", \"deal\", \"deal\", \"deal\", \"democrat\", \"democrat\", \"democrat\", \"democrat\", \"democrat\", \"doc\", \"doc\", \"doge_moon\", \"door\", \"door\", \"door\", \"door\", \"door\", \"door_handle\", \"door_handles\", \"drive\", \"drive\", \"drive\", \"drive\", \"drive\", \"driver\", \"driver\", \"driver\", \"driver\", \"driver\", \"drop\", \"drop\", \"drop\", \"drop\", \"drop\", \"due\", \"due\", \"due\", \"due\", \"due\", \"dump\", \"dump\", \"dump\", \"dump\", \"dump\", \"earlier\", \"earlier\", \"earlier\", \"earlier\", \"einstein\", \"electric\", \"electric\", \"electric\", \"electric\", \"electric\", \"electric_car\", \"electric_car\", \"electric_car\", \"electric_car\", \"electric_car\", \"electricity\", \"electricity\", \"electricity\", \"electricity\", \"electricity\", \"electricity_neurons\", \"electricity_neurons\", \"elon\", \"elon\", \"elon\", \"elon\", \"elon\", \"elon_musk\", \"elon_musk\", \"elon_musk\", \"elon_musk\", \"elon_musk\", \"emergency\", \"emergency\", \"emergency\", \"emergency\", \"energy\", \"energy\", \"energy\", \"energy\", \"energy\", \"enter\", \"enter\", \"enter\", \"enter\", \"entered_monthly\", \"entered_monthly\", \"entry_purchase\", \"environment\", \"environment\", \"environment\", \"environment\", \"environment\", \"escape\", \"escape\", \"escape\", \"escape\", \"escape\", \"esg\", \"esg\", \"esg\", \"esg\", \"esg\", \"esg_index\", \"esg_index\", \"esg_index\", \"esg_index\", \"esg_index\", \"estimating\", \"ev\", \"ev\", \"ev\", \"ev\", \"ev\", \"even\", \"even\", \"even\", \"even\", \"even\", \"ever\", \"ever\", \"ever\", \"ever\", \"ever\", \"everyone\", \"everyone\", \"everyone\", \"everyone\", \"everyone\", \"everything\", \"everything\", \"everything\", \"everything\", \"everything\", \"evs\", \"evs\", \"evs\", \"evs\", \"evs\", \"factory\", \"factory\", \"factory\", \"factory\", \"factory\", \"fall\", \"fall\", \"fall\", \"fall\", \"fall\", \"files_plans\", \"find\", \"find\", \"find\", \"find\", \"find\", \"fire\", \"fire\", \"fire\", \"fire\", \"fire\", \"first\", \"first\", \"first\", \"first\", \"first\", \"first_player\", \"first_player\", \"first_time\", \"first_time\", \"first_time\", \"first_time\", \"first_time\", \"florida_united\", \"florida_united\", \"ford\", \"ford\", \"ford\", \"ford\", \"ford\", \"fossil_fuel\", \"fossil_fuel\", \"fossil_fuel\", \"fossil_fuel\", \"fossil_fuel\", \"free\", \"free\", \"free\", \"free\", \"free\", \"fremont_california\", \"front\", \"front\", \"front\", \"front\", \"front\", \"fsd\", \"fsd\", \"fsd\", \"fsd\", \"fsd\", \"genius\", \"genius\", \"genius\", \"genius\", \"get\", \"get\", \"get\", \"get\", \"get\", \"give_away\", \"giveaway_shibaswap\", \"go\", \"go\", \"go\", \"go\", \"go\", \"gonna\", \"gonna\", \"gonna\", \"gonna\", \"gonna\", \"good\", \"good\", \"good\", \"good\", \"good\", \"good_sign\", \"grand_plan\", \"green\", \"green\", \"green\", \"green\", \"green\", \"grid\", \"grid\", \"grid\", \"grid\", \"grid\", \"h\", \"handle\", \"handle\", \"handle\", \"handle\", \"handle\", \"harassment_claim\", \"hard_hitting\", \"hate\", \"hate\", \"hate\", \"hate\", \"hate\", \"hold\", \"hold\", \"hold\", \"hold\", \"hold\", \"hour\", \"hour\", \"hour\", \"hour\", \"hour\", \"idiot\", \"idiot\", \"idiot\", \"idiot\", \"idiot\", \"inc_tsla\", \"index\", \"index\", \"index\", \"index\", \"index\", \"indonesia_official\", \"information_including\", \"information_including\", \"initial_btc\", \"investment_realized\", \"investor\", \"investor\", \"investor\", \"investor\", \"investor\", \"jack\", \"jack\", \"jack\", \"jack\", \"june_vxl\", \"kick\", \"kick\", \"kick\", \"kick\", \"kick\", \"kishu_nft\", \"kishu_nft\", \"know\", \"know\", \"know\", \"know\", \"know\", \"kowa_oa\", \"lack\", \"lack\", \"lack\", \"lack\", \"lack\", \"landing_doge\", \"latch\", \"latch\", \"lessonmusk_also\", \"let\", \"let\", \"let\", \"let\", \"let\", \"liberal\", \"liberal\", \"liberal\", \"liberal\", \"liberal\", \"limit_charging\", \"loan\", \"loan\", \"loan\", \"loan\", \"loan\", \"location\", \"location\", \"location\", \"location\", \"lock\", \"lock\", \"lock\", \"lock\", \"lock\", \"longer_support\", \"longer_support\", \"longer_support\", \"look\", \"look\", \"look\", \"look\", \"look\", \"lot\", \"lot\", \"lot\", \"lot\", \"lot\", \"love\", \"love\", \"love\", \"love\", \"love\", \"low_carbon\", \"low_carbon\", \"low_carbon\", \"low_carbon\", \"low_carbon\", \"luna_crypto\", \"luna_crypto\", \"lunarcrush_track\", \"major_partnerships\", \"make\", \"make\", \"make\", \"make\", \"make\", \"maker\", \"maker\", \"maker\", \"maker\", \"maker\", \"manual_door\", \"manual_door\", \"manual_door\", \"manual_door\", \"manual_door\", \"manually\", \"manually\", \"manufacturer\", \"manufacturer\", \"manufacturer\", \"manufacturer\", \"manufacturer\", \"many\", \"many\", \"many\", \"many\", \"many\", \"margin_loan\", \"margin_loan\", \"market\", \"market\", \"market\", \"market\", \"market\", \"maybe\", \"maybe\", \"maybe\", \"maybe\", \"maybe\", \"meta\", \"microsoft_apple\", \"microsoft_ubuntu\", \"min_vxl\", \"mint\", \"mint\", \"mint\", \"model\", \"model\", \"model\", \"model\", \"model\", \"model_dual\", \"model_dual\", \"model_dual\", \"model_dual\", \"model_performance\", \"model_performance\", \"model_performance\", \"model_standard\", \"model_standard\", \"money\", \"money\", \"money\", \"money\", \"money\", \"month\", \"month\", \"month\", \"month\", \"month\", \"month_prize\", \"month_prize\", \"motor\", \"motor\", \"motor\", \"motor\", \"motor\", \"mtesla_new\", \"much\", \"much\", \"much\", \"much\", \"much\", \"musk\", \"musk\", \"musk\", \"musk\", \"musk\", \"must_hold\", \"mysterical_occultism\", \"mysterical_occultism\", \"nail\", \"nail\", \"need\", \"need\", \"need\", \"need\", \"need\", \"net_worth\", \"net_worth\", \"net_worth\", \"never\", \"never\", \"never\", \"never\", \"never\", \"new\", \"new\", \"new\", \"new\", \"new\", \"news\", \"news\", \"news\", \"news\", \"news\", \"nft\", \"nft\", \"nft\", \"nft\", \"nft\", \"nftartists_airdrops\", \"nftcommunity_art\", \"nftcommunity_nftlaunch\", \"nicola\", \"nicola\", \"oa\", \"oil\", \"oil\", \"oil\", \"oil\", \"oil\", \"open\", \"open\", \"open\", \"open\", \"open\", \"overheat\", \"owner\", \"owner\", \"owner\", \"owner\", \"owner\", \"paganism_aleister\", \"paganism_aleister\", \"paid_flight\", \"party\", \"party\", \"party\", \"party\", \"party\", \"pay\", \"pay\", \"pay\", \"pay\", \"pay\", \"people\", \"people\", \"people\", \"people\", \"people\", \"percent\", \"percent\", \"percent\", \"percent\", \"performance\", \"performance\", \"performance\", \"performance\", \"performance\", \"peugeot_worth\", \"peugeot_worth\", \"pitbull_eth\", \"pitbull_eth\", \"pixelpixel\", \"pixelpixel\", \"pixelpixel_nailed\", \"planet\", \"planet\", \"planet\", \"planet\", \"planet\", \"pm_pst\", \"poor_working\", \"poor_working\", \"poor_working\", \"power\", \"power\", \"power\", \"power\", \"power\", \"powerwall\", \"powerwall\", \"price\", \"price\", \"price\", \"price\", \"price\", \"price_target\", \"price_target\", \"price_target\", \"prize\", \"prize\", \"prize\", \"problem_spacex\", \"production\", \"production\", \"production\", \"production\", \"production\", \"profit_playtoearn\", \"pwars_petwars\", \"quite_bit\", \"racism\", \"racism\", \"racism\", \"racism\", \"racism\", \"really\", \"really\", \"really\", \"really\", \"really\", \"reference_spritual\", \"remove\", \"remove\", \"remove\", \"remove\", \"remove\", \"republican\", \"republican\", \"republican\", \"republican\", \"republican\", \"rewards_busd\", \"rich\", \"rich\", \"rich\", \"rich\", \"rich\", \"right\", \"right\", \"right\", \"right\", \"right\", \"rip\", \"rip\", \"rip\", \"rip\", \"rip\", \"rising_materials\", \"rivian_gm\", \"road\", \"road\", \"road\", \"road\", \"road\", \"rocket_past\", \"ruin\", \"ruin\", \"ruin\", \"ruin\", \"sadistic_psychopath\", \"safety\", \"safety\", \"safety\", \"safety\", \"safety\", \"safety_administration\", \"safety_score\", \"santa_monica\", \"save\", \"save\", \"save\", \"save\", \"save\", \"say\", \"say\", \"say\", \"say\", \"say\", \"score\", \"score\", \"score\", \"score\", \"score\", \"sec\", \"sec\", \"sec\", \"sec\", \"sec\", \"see\", \"see\", \"see\", \"see\", \"see\", \"sell\", \"sell\", \"sell\", \"sell\", \"sell\", \"settle_sexual\", \"shanghai_factory\", \"share\", \"share\", \"share\", \"share\", \"share\", \"shareholder\", \"shareholder\", \"shareholder\", \"shareholder\", \"shareholder\", \"shibainu_doge\", \"shibainu_doge\", \"shibaswap_uniswap\", \"situation\", \"situation\", \"situation\", \"situation\", \"situation\", \"slump\", \"smh\", \"smh\", \"smh\", \"smh\", \"smh\", \"solar\", \"solar\", \"solar\", \"solar\", \"solar\", \"solar_roof\", \"solar_roof\", \"someone_nailed\", \"spot\", \"spot\", \"spot\", \"spot\", \"spot\", \"spritual\", \"spritual\", \"st_may\", \"stance\", \"state\", \"state\", \"state\", \"state\", \"state\", \"states_teslaradar\", \"states_teslaradar\", \"still\", \"still\", \"still\", \"still\", \"still\", \"stock\", \"stock\", \"stock\", \"stock\", \"stock\", \"stocks_fall\", \"stories_giga\", \"strategy_codes\", \"sunra_miku\", \"sunra_miku\", \"sunra_miku\", \"super_worth\", \"super_worth\", \"super_worth\", \"supercharger\", \"supercharger\", \"supercharger\", \"supercharger\", \"supercharger\", \"suv\", \"suv\", \"suv\", \"suv\", \"suv\", \"system\", \"system\", \"system\", \"system\", \"system\", \"t\", \"t\", \"take\", \"take\", \"take\", \"take\", \"take\", \"teach\", \"teach\", \"teach\", \"terraluna_ust\", \"terraluna_ust\", \"teslaradar\", \"teslaradar\", \"teslaradar\", \"test\", \"test\", \"test\", \"test\", \"test\", \"texas_heatwave\", \"texas_united\", \"texas_united\", \"tg\", \"think\", \"think\", \"think\", \"think\", \"think\", \"time\", \"time\", \"time\", \"time\", \"time\", \"token\", \"token\", \"token\", \"token\", \"token_metatesla\", \"top_hackers\", \"tortures_animals\", \"troll\", \"troll\", \"troll\", \"troll\", \"troll\", \"truck\", \"truck\", \"truck\", \"truck\", \"truck\", \"try\", \"try\", \"try\", \"try\", \"try\", \"tsla\", \"tsla\", \"tsla\", \"tsla\", \"tsla\", \"tsla_winnings\", \"tuesday_th\", \"tweet\", \"tweet\", \"tweet\", \"tweet\", \"tweet\", \"twitter\", \"twitter\", \"twitter\", \"twitter\", \"twitter\", \"twitter_bot\", \"twitter_bot\", \"twitter_deal\", \"twitter_deal\", \"twitter_deal\", \"twitter_deal\", \"twitter_deal\", \"twitter_web\", \"uniswap\", \"unitedstates_model\", \"unitedstates_model\", \"unitedstates_modely\", \"unitedstates_modely\", \"use\", \"use\", \"use\", \"use\", \"use\", \"value\", \"value\", \"value\", \"value\", \"value\", \"vehicle\", \"vehicle\", \"vehicle\", \"vehicle\", \"vehicle\", \"vehicular_manslaughter\", \"virginia_united\", \"virginia_united\", \"volatility\", \"vote\", \"vote\", \"vote\", \"vote\", \"vote\", \"voxel_ama\", \"vw\", \"vw\", \"vw\", \"vw\", \"vw\", \"want\", \"want\", \"want\", \"want\", \"want\", \"way\", \"way\", \"way\", \"way\", \"way\", \"wealthy\", \"wealthy\", \"wealthy\", \"wealthy\", \"wealthy\", \"well\", \"well\", \"well\", \"well\", \"well\", \"whitelist_crypto\", \"work\", \"work\", \"work\", \"work\", \"work\", \"work_hour\", \"worker\", \"worker\", \"worker\", \"worker\", \"worker\", \"world\", \"world\", \"world\", \"world\", \"world\", \"year\", \"year\", \"year\", \"year\", \"year\", \"year_return\", \"yet_unrecognizable\", \"youtube_video\"]}, \"R\": 30, \"lambda.step\": 0.01, \"plot.opts\": {\"xlab\": \"PC1\", \"ylab\": \"PC2\"}, \"topic.order\": [2, 1, 4, 3, 5]};\n",
       "\n",
       "function LDAvis_load_lib(url, callback){\n",
       "  var s = document.createElement('script');\n",
       "  s.src = url;\n",
       "  s.async = true;\n",
       "  s.onreadystatechange = s.onload = callback;\n",
       "  s.onerror = function(){console.warn(\"failed to load library \" + url);};\n",
       "  document.getElementsByTagName(\"head\")[0].appendChild(s);\n",
       "}\n",
       "\n",
       "if(typeof(LDAvis) !== \"undefined\"){\n",
       "   // already loaded: just create the visualization\n",
       "   !function(LDAvis){\n",
       "       new LDAvis(\"#\" + \"ldavis_el6107186828287688159638951\", ldavis_el6107186828287688159638951_data);\n",
       "   }(LDAvis);\n",
       "}else if(typeof define === \"function\" && define.amd){\n",
       "   // require.js is available: use it to load d3/LDAvis\n",
       "   require.config({paths: {d3: \"https://d3js.org/d3.v5\"}});\n",
       "   require([\"d3\"], function(d3){\n",
       "      window.d3 = d3;\n",
       "      LDAvis_load_lib(\"https://cdn.jsdelivr.net/gh/bmabey/pyLDAvis@3.3.1/pyLDAvis/js/ldavis.v3.0.0.js\", function(){\n",
       "        new LDAvis(\"#\" + \"ldavis_el6107186828287688159638951\", ldavis_el6107186828287688159638951_data);\n",
       "      });\n",
       "    });\n",
       "}else{\n",
       "    // require.js not available: dynamically load d3 & LDAvis\n",
       "    LDAvis_load_lib(\"https://d3js.org/d3.v5.js\", function(){\n",
       "         LDAvis_load_lib(\"https://cdn.jsdelivr.net/gh/bmabey/pyLDAvis@3.3.1/pyLDAvis/js/ldavis.v3.0.0.js\", function(){\n",
       "                 new LDAvis(\"#\" + \"ldavis_el6107186828287688159638951\", ldavis_el6107186828287688159638951_data);\n",
       "            })\n",
       "         });\n",
       "}\n",
       "</script>"
      ],
      "text/plain": [
       "PreparedData(topic_coordinates=              x         y  topics  cluster       Freq\n",
       "topic                                                \n",
       "1      0.024497 -0.006576       1        1  32.525738\n",
       "0     -0.032376 -0.135093       2        1  19.391396\n",
       "3      0.158444  0.044976       3        1  19.145460\n",
       "2     -0.008615  0.017900       4        1  15.905940\n",
       "4     -0.141950  0.078793       5        1  13.031466, topic_info=          Term          Freq         Total Category  logprob  loglift\n",
       "118      stock  12792.000000  12792.000000  Default  30.0000  30.0000\n",
       "121    twitter   5222.000000   5222.000000  Default  29.0000  29.0000\n",
       "125         ev   4529.000000   4529.000000  Default  28.0000  28.0000\n",
       "319   electric   3928.000000   3928.000000  Default  27.0000  27.0000\n",
       "1467      fire   2058.000000   2058.000000  Default  26.0000  26.0000\n",
       "...        ...           ...           ...      ...      ...      ...\n",
       "50         way    483.824252   3286.257328   Topic5  -5.6967   0.1220\n",
       "210        say    531.938734   6530.986824   Topic5  -5.6019  -0.4700\n",
       "157       make    547.224695   9031.904388   Topic5  -5.5736  -0.7659\n",
       "229       even    473.932238   3817.152006   Topic5  -5.7174  -0.0484\n",
       "36       right    456.266958   3024.603515   Topic5  -5.7554   0.1463\n",
       "\n",
       "[449 rows x 6 columns], token_table=       Topic      Freq                Term\n",
       "term                                      \n",
       "13359      1  0.993646         accept_doge\n",
       "1101       1  0.793326              afford\n",
       "1101       2  0.042148              afford\n",
       "1101       3  0.012176              afford\n",
       "1101       4  0.034655              afford\n",
       "...      ...       ...                 ...\n",
       "295        4  0.115523                year\n",
       "295        5  0.021792                year\n",
       "11263      5  0.980375         year_return\n",
       "7401       4  0.973440  yet_unrecognizable\n",
       "12833      5  0.977670       youtube_video\n",
       "\n",
       "[1129 rows x 3 columns], R=30, lambda_step=0.01, plot_opts={'xlab': 'PC1', 'ylab': 'PC2'}, topic_order=[2, 1, 4, 3, 5])"
      ]
     },
     "execution_count": 120,
     "metadata": {},
     "output_type": "execute_result"
    }
   ],
   "source": [
    "pyLDAvis.enable_notebook()\n",
    "gensimvis.prepare(base_model, corpus, id2word)"
   ]
  },
  {
   "cell_type": "code",
   "execution_count": 121,
   "id": "57090de3",
   "metadata": {},
   "outputs": [],
   "source": [
    "def format_topics_sentences(ldamodel=None, corpus=corpus, texts=data):\n",
    "    # Init output\n",
    "    sent_topics_df = pd.DataFrame()\n",
    "\n",
    "    # Get main topic in each document\n",
    "    for i, row_list in enumerate(ldamodel[corpus]):\n",
    "        row = row_list[0] if ldamodel.per_word_topics else row_list            \n",
    "        # print(row)\n",
    "        row = sorted(row, key=lambda x: (x[1]), reverse=True)\n",
    "        # Get the Dominant topic, Perc Contribution and Keywords for each document\n",
    "        for j, (topic_num, prop_topic) in enumerate(row):\n",
    "            if j == 0:  # => dominant topic\n",
    "                wp = ldamodel.show_topic(topic_num)\n",
    "                topic_keywords = \", \".join([word for word, prop in wp])\n",
    "                sent_topics_df = sent_topics_df.append(pd.Series([int(topic_num), round(prop_topic,4), topic_keywords]), ignore_index=True)\n",
    "            else:\n",
    "                break\n",
    "    sent_topics_df.columns = ['Dominant_Topic', 'Perc_Contribution', 'Topic_Keywords']\n",
    "\n",
    "    # Add original text to the end of the output\n",
    "    contents = pd.Series(texts)\n",
    "    sent_topics_df = pd.concat([sent_topics_df, contents], axis=1)\n",
    "    return(sent_topics_df)\n",
    "\n"
   ]
  },
  {
   "cell_type": "code",
   "execution_count": 122,
   "id": "b011e0a8",
   "metadata": {},
   "outputs": [],
   "source": [
    "# Every Tweet Classified by Dominant Topic\n",
    "df_topic_sents_keywords = format_topics_sentences(ldamodel = base_model, corpus = corpus, texts = lem_noNone)"
   ]
  },
  {
   "cell_type": "code",
   "execution_count": 123,
   "id": "9ea9b691",
   "metadata": {},
   "outputs": [],
   "source": [
    "sent_topics_Sorteddf = pd.DataFrame()\n",
    "sent_topics_Outdf = df_topic_sents_keywords.groupby('Dominant_Topic')\n",
    "\n",
    "for i, group in sent_topics_Outdf:\n",
    "    sent_topics_Sorteddf = pd.concat([sent_topics_Sorteddf, \n",
    "                                             group.sort_values(['Perc_Contribution'], ascending=False).head(1)], \n",
    "                                            axis=0)\n",
    "# Reset Index    \n",
    "sent_topics_Sorteddf.reset_index(drop=True, inplace=True)\n",
    "# Format\n",
    "sent_topics_Sorteddf.columns = ['Topic_Num', \"Topic_Perc_Contrib\", \"Keywords\", \"Representative Text\"]\n",
    "\n"
   ]
  },
  {
   "cell_type": "code",
   "execution_count": 36,
   "id": "047b092b",
   "metadata": {},
   "outputs": [
    {
     "data": {
      "text/html": [
       "<div>\n",
       "<style scoped>\n",
       "    .dataframe tbody tr th:only-of-type {\n",
       "        vertical-align: middle;\n",
       "    }\n",
       "\n",
       "    .dataframe tbody tr th {\n",
       "        vertical-align: top;\n",
       "    }\n",
       "\n",
       "    .dataframe thead th {\n",
       "        text-align: right;\n",
       "    }\n",
       "</style>\n",
       "<table border=\"1\" class=\"dataframe\">\n",
       "  <thead>\n",
       "    <tr style=\"text-align: right;\">\n",
       "      <th></th>\n",
       "      <th>Topic_Num</th>\n",
       "      <th>Topic_Perc_Contrib</th>\n",
       "      <th>Keywords</th>\n",
       "      <th>Representative Text</th>\n",
       "    </tr>\n",
       "  </thead>\n",
       "  <tbody>\n",
       "    <tr>\n",
       "      <th>0</th>\n",
       "      <td>0</td>\n",
       "      <td>0.9744</td>\n",
       "      <td>musk, elon, twitter, say, buy, stock, ev, car,...</td>\n",
       "      <td>[follow, money, build, obama, ev, tax, benefit...</td>\n",
       "    </tr>\n",
       "    <tr>\n",
       "      <th>1</th>\n",
       "      <td>1</td>\n",
       "      <td>0.9720</td>\n",
       "      <td>get, people, elon, buy, think, company, know, ...</td>\n",
       "      <td>[know, billionaire, help, many, ppl, world, tr...</td>\n",
       "    </tr>\n",
       "    <tr>\n",
       "      <th>2</th>\n",
       "      <td>2</td>\n",
       "      <td>0.9744</td>\n",
       "      <td>car, ev, make, battery, year, go, model, elect...</td>\n",
       "      <td>[price, power, matter, ability, sell, evs, pro...</td>\n",
       "    </tr>\n",
       "    <tr>\n",
       "      <th>3</th>\n",
       "      <td>3</td>\n",
       "      <td>0.9730</td>\n",
       "      <td>stock, musk, elon, twitter, buy, price, go, ts...</td>\n",
       "      <td>[high, volume, option, alert, day, come, follo...</td>\n",
       "    </tr>\n",
       "    <tr>\n",
       "      <th>4</th>\n",
       "      <td>4</td>\n",
       "      <td>0.9741</td>\n",
       "      <td>car, electric, get, buy, drive, people, make, ...</td>\n",
       "      <td>[government, also, fine, company, price, gouge...</td>\n",
       "    </tr>\n",
       "  </tbody>\n",
       "</table>\n",
       "</div>"
      ],
      "text/plain": [
       "   Topic_Num  Topic_Perc_Contrib  \\\n",
       "0          0              0.9744   \n",
       "1          1              0.9720   \n",
       "2          2              0.9744   \n",
       "3          3              0.9730   \n",
       "4          4              0.9741   \n",
       "\n",
       "                                            Keywords  \\\n",
       "0  musk, elon, twitter, say, buy, stock, ev, car,...   \n",
       "1  get, people, elon, buy, think, company, know, ...   \n",
       "2  car, ev, make, battery, year, go, model, elect...   \n",
       "3  stock, musk, elon, twitter, buy, price, go, ts...   \n",
       "4  car, electric, get, buy, drive, people, make, ...   \n",
       "\n",
       "                                 Representative Text  \n",
       "0  [follow, money, build, obama, ev, tax, benefit...  \n",
       "1  [know, billionaire, help, many, ppl, world, tr...  \n",
       "2  [price, power, matter, ability, sell, evs, pro...  \n",
       "3  [high, volume, option, alert, day, come, follo...  \n",
       "4  [government, also, fine, company, price, gouge...  "
      ]
     },
     "execution_count": 36,
     "metadata": {},
     "output_type": "execute_result"
    }
   ],
   "source": [
    "sent_topics_Sorteddf"
   ]
  },
  {
   "cell_type": "code",
   "execution_count": null,
   "id": "52c335ef",
   "metadata": {},
   "outputs": [],
   "source": [
    "# Topic Distributions VISUALIZATION\n",
    "topic_dist = pd.Series(df_topic_sents_keywords.Dominant_Topic, dtype = 'category')\n",
    "sns.countplot(topic_dist)"
   ]
  },
  {
   "cell_type": "code",
   "execution_count": null,
   "id": "3b6c6f79",
   "metadata": {},
   "outputs": [],
   "source": [
    "def original_tweet_sentiment(cleaned_to_index, original, cleaned_to_topic):\n",
    "    comp_dic = {}\n",
    "    sia = SentimentIntensityAnalyzer()\n",
    "    \n",
    "    for i in range(len(cleaned_to_index)):\n",
    "        ind = cleaned_to_index[i][0]\n",
    "        tweet = original.iloc[ind]\n",
    "        comp_dic[i] = tweet, sia.polarity_scores(tweet)['compound']\n",
    "        \n",
    "    comp_scores = pd.DataFrame(comp_dic).T\n",
    "    comp_scores.columns = ['Original_tweet', 'Sentiment']\n",
    "    \n",
    "    df_sent = cleaned_to_topic.merge(comp_scores, left_index = True, right_index = True)\n",
    "    \n",
    "    return df_sent"
   ]
  },
  {
   "cell_type": "code",
   "execution_count": null,
   "id": "7eb79106",
   "metadata": {},
   "outputs": [],
   "source": [
    "df_sent = original_tweet_sentiment(lem_noShort_noNone, full['tweets'],df_topic_sents_keywords )\n",
    "df_sent"
   ]
  },
  {
   "cell_type": "code",
   "execution_count": null,
   "id": "38845e62",
   "metadata": {},
   "outputs": [],
   "source": [
    "grp_sent = df_sent.Sentiment.groupby(by = df_sent['Dominant_Topic']).mean()\n",
    "grp_sent"
   ]
  },
  {
   "cell_type": "markdown",
   "id": "5eabebef",
   "metadata": {},
   "source": [
    "#### ============================================================================"
   ]
  },
  {
   "cell_type": "code",
   "execution_count": 166,
   "id": "92fa5374",
   "metadata": {},
   "outputs": [],
   "source": [
    "lem_tokens = pd.Series(lem_noNone)"
   ]
  },
  {
   "cell_type": "code",
   "execution_count": 167,
   "id": "b58e3b14",
   "metadata": {},
   "outputs": [
    {
     "data": {
      "text/plain": [
       "0        [solar, grid, run, computer, radio, fridge, en...\n",
       "1        [never, survive, carbon_offsets, implement, de...\n",
       "2        [right, nonsense, position, find, sort, hard, ...\n",
       "3        [ford, pe, ration, pe_ratio, tsla, still, long...\n",
       "4        [think, back, time, work, employee, brag, work...\n",
       "                               ...                        \n",
       "88908    [yes, beg, borrow, steal, invest, tsla, world,...\n",
       "88909    [owh, rethink, thesis, always_thought, regulat...\n",
       "88910    [overused, example, elon_musk, alienate, almos...\n",
       "88911    [found, spacex, successful, also, arguably, in...\n",
       "88912    [want, ev, table, musk, show, world, ten, year...\n",
       "Length: 88913, dtype: object"
      ]
     },
     "execution_count": 167,
     "metadata": {},
     "output_type": "execute_result"
    }
   ],
   "source": [
    "lem_tokens"
   ]
  },
  {
   "cell_type": "code",
   "execution_count": 168,
   "id": "21fbd575",
   "metadata": {},
   "outputs": [],
   "source": [
    "from gsdmm import MovieGroupProcess"
   ]
  },
  {
   "cell_type": "code",
   "execution_count": null,
   "id": "96f7bb5e",
   "metadata": {},
   "outputs": [],
   "source": []
  },
  {
   "cell_type": "code",
   "execution_count": 185,
   "id": "63cd6792",
   "metadata": {},
   "outputs": [
    {
     "name": "stdout",
     "output_type": "stream",
     "text": [
      "In stage 0: transferred 62187 clusters with 5 clusters populated\n",
      "In stage 1: transferred 37740 clusters with 5 clusters populated\n",
      "In stage 2: transferred 28365 clusters with 5 clusters populated\n",
      "In stage 3: transferred 21427 clusters with 5 clusters populated\n",
      "In stage 4: transferred 16268 clusters with 5 clusters populated\n",
      "In stage 5: transferred 12192 clusters with 5 clusters populated\n",
      "In stage 6: transferred 9160 clusters with 5 clusters populated\n",
      "In stage 7: transferred 7594 clusters with 5 clusters populated\n",
      "In stage 8: transferred 6777 clusters with 5 clusters populated\n",
      "In stage 9: transferred 6315 clusters with 5 clusters populated\n",
      "In stage 10: transferred 5920 clusters with 5 clusters populated\n",
      "In stage 11: transferred 5741 clusters with 5 clusters populated\n",
      "In stage 12: transferred 5580 clusters with 5 clusters populated\n",
      "In stage 13: transferred 5521 clusters with 5 clusters populated\n",
      "In stage 14: transferred 5530 clusters with 5 clusters populated\n"
     ]
    }
   ],
   "source": [
    "gsdmm = MovieGroupProcess(K=5, alpha=0.01, beta=0.01, n_iters=15)\n",
    "docs = lem_tokens.to_numpy()\n",
    "vocab_length = len(id2word)\n",
    "# fit GSDMM model\n",
    "y = gsdmm.fit(docs, vocab_length)"
   ]
  },
  {
   "cell_type": "code",
   "execution_count": null,
   "id": "4043ae18",
   "metadata": {},
   "outputs": [],
   "source": []
  },
  {
   "cell_type": "code",
   "execution_count": null,
   "id": "3748c127",
   "metadata": {},
   "outputs": [],
   "source": []
  },
  {
   "cell_type": "code",
   "execution_count": null,
   "id": "d816aa9d",
   "metadata": {},
   "outputs": [],
   "source": []
  },
  {
   "cell_type": "code",
   "execution_count": null,
   "id": "d2d700f8",
   "metadata": {},
   "outputs": [],
   "source": []
  },
  {
   "cell_type": "code",
   "execution_count": 174,
   "id": "45e35156",
   "metadata": {},
   "outputs": [
    {
     "name": "stdout",
     "output_type": "stream",
     "text": [
      "Number of documents per topic : [25366 16880  6978 17173 11327 11189]\n",
      "Most important clusters (by number of docs inside): [0 3 1 4 5 2]\n",
      "\n",
      "Cluster 0 : [('buy', 5430), ('elon', 3648), ('people', 3435), ('make', 3080), ('musk', 2979), ('think', 2699), ('electric_car', 2486)]\n",
      "\n",
      "Cluster 3 : [('stock', 10970), ('twitter', 4269), ('buy', 3251), ('musk', 2530), ('sell', 2020), ('price', 2016), ('elon', 1877)]\n",
      "\n",
      "Cluster 1 : [('car', 3582), ('make', 2571), ('ev', 2566), ('company', 2289), ('year', 1700), ('buy', 1686), ('market', 1497)]\n",
      "\n",
      "Cluster 4 : [('find', 1362), ('car', 1280), ('enter', 1202), ('free', 1121), ('fire', 1099), ('door', 1002), ('c', 896)]\n",
      "\n",
      "Cluster 5 : [('car', 2112), ('electric_car', 1963), ('electric', 1942), ('battery', 1528), ('charge', 1519), ('spot', 1199), ('ev', 1106)]\n",
      "\n",
      "Cluster 2 : [('elon_musk', 1803), ('esg_index', 1045), ('esg', 777), ('musk', 699), ('elonmusk', 538), ('say', 525), ('crash', 493)]\n"
     ]
    }
   ],
   "source": [
    "# V2 BETTER THAN V1\n",
    "# K=6, alpha=0.3, beta=0.6, n_iters=15\n",
    "\n",
    "doc_count = np.array(gsdmm.cluster_doc_count)\n",
    "print('Number of documents per topic :', doc_count)\n",
    "\n",
    "# Topics sorted by the number of document they are allocated to\n",
    "top_index = doc_count.argsort()[-15:][::-1]\n",
    "print('Most important clusters (by number of docs inside):', top_index)\n",
    "\n",
    "# define function to get top words per topic\n",
    "def top_words(cluster_word_distribution, top_cluster, values):\n",
    "    for cluster in top_cluster:\n",
    "        sort_dicts = sorted(cluster_word_distribution[cluster].items(), key=lambda k: k[1], reverse=True)[:values]\n",
    "        print(\"\\nCluster %s : %s\"%(cluster, sort_dicts))\n",
    "\n",
    "# get top words in topics\n",
    "top_words(gsdmm.cluster_word_distribution, top_index, 7)"
   ]
  },
  {
   "cell_type": "code",
   "execution_count": 178,
   "id": "33d87094",
   "metadata": {},
   "outputs": [
    {
     "name": "stdout",
     "output_type": "stream",
     "text": [
      "Number of documents per topic : [18530 23719 32164  9585  4915]\n",
      "Most important clusters (by number of docs inside): [2 1 0 3 4]\n",
      "\n",
      "Cluster 2 : [('buy', 6341), ('car', 5764), ('make', 4906), ('electric_car', 4767), ('people', 3802), ('ev', 3540), ('company', 3323)]\n",
      "\n",
      "Cluster 1 : [('stock', 11746), ('twitter', 4886), ('buy', 4327), ('elon', 3135), ('musk', 3080), ('go', 2519), ('price', 2345)]\n",
      "\n",
      "Cluster 0 : [('car', 2643), ('drive', 1531), ('model', 1499), ('make', 1399), ('know', 1323), ('fire', 1269), ('people', 1258)]\n",
      "\n",
      "Cluster 3 : [('elon_musk', 2239), ('musk', 1425), ('esg_index', 1174), ('say', 1163), ('esg', 1136), ('company', 899), ('elon', 746)]\n",
      "\n",
      "Cluster 4 : [('enter', 1190), ('find', 1013), ('free', 1001), ('st_may', 895), ('c', 894), ('information_including', 892), ('t', 671)]\n"
     ]
    }
   ],
   "source": [
    "# K=5, alpha=0.3, beta=0.6, n_iters=15\n",
    "\n",
    "doc_count = np.array(gsdmm.cluster_doc_count)\n",
    "print('Number of documents per topic :', doc_count)\n",
    "\n",
    "# Topics sorted by the number of document they are allocated to\n",
    "top_index = doc_count.argsort()[-15:][::-1]\n",
    "print('Most important clusters (by number of docs inside):', top_index)\n",
    "\n",
    "# define function to get top words per topic\n",
    "def top_words(cluster_word_distribution, top_cluster, values):\n",
    "    for cluster in top_cluster:\n",
    "        sort_dicts = sorted(cluster_word_distribution[cluster].items(), key=lambda k: k[1], reverse=True)[:values]\n",
    "        print(\"\\nCluster %s : %s\"%(cluster, sort_dicts))\n",
    "\n",
    "# get top words in topics\n",
    "top_words(gsdmm.cluster_word_distribution, top_index, 7)"
   ]
  },
  {
   "cell_type": "code",
   "execution_count": null,
   "id": "d0b5916e",
   "metadata": {},
   "outputs": [],
   "source": []
  },
  {
   "cell_type": "code",
   "execution_count": null,
   "id": "9e11abd1",
   "metadata": {},
   "outputs": [],
   "source": []
  },
  {
   "cell_type": "markdown",
   "id": "e61ba855",
   "metadata": {},
   "source": [
    "# Below is the grid search the chunky one"
   ]
  },
  {
   "cell_type": "markdown",
   "id": "d2fe4449",
   "metadata": {},
   "source": [
    "### Here\n",
    "## We \n",
    "# Go"
   ]
  },
  {
   "cell_type": "code",
   "execution_count": null,
   "id": "83755606",
   "metadata": {},
   "outputs": [],
   "source": [
    "# supporting function\n",
    "def compute_coherence_values(corpus, dictionary, k, a, b):\n",
    "    \n",
    "    lda_model = gensim.models.LdaMulticore(corpus=corpus,\n",
    "                                           id2word=dictionary,\n",
    "                                           num_topics=k, \n",
    "                                           random_state=100,\n",
    "                                           chunksize=1500,\n",
    "                                           passes=8,\n",
    "                                           alpha=a,\n",
    "                                           eta=b, \n",
    "                                           workers = 7)\n",
    "    \n",
    "    coherence_model_lda = CoherenceModel(model=lda_model, texts=lem_noNone, dictionary=id2word, coherence='c_v')\n",
    "    \n",
    "    return coherence_model_lda.get_coherence()"
   ]
  },
  {
   "cell_type": "code",
   "execution_count": null,
   "id": "eab11910",
   "metadata": {
    "scrolled": true
   },
   "outputs": [],
   "source": [
    "grid = {}\n",
    "grid['Validation_Set'] = {}\n",
    "# Topics range\n",
    "min_topics = 3\n",
    "max_topics = 9\n",
    "step_size = 1\n",
    "topics_range = range(min_topics, max_topics, step_size)\n",
    "# Alpha parameter\n",
    "alpha = list(np.arange(0.01, 1, 0.3))\n",
    "alpha.append('symmetric')\n",
    "alpha.append('asymmetric')\n",
    "# Beta parameter\n",
    "beta = list(np.arange(0.01, 1, 0.3))\n",
    "beta.append('symmetric')\n",
    "# Validation sets\n",
    "num_of_docs = len(corpus)\n",
    "corpus_sets = [#gensim.utils.ClippedCorpus(corpus, num_of_docs*0.25), \n",
    "               gensim.utils.ClippedCorpus(corpus, int(num_of_docs*0.5)), \n",
    "               gensim.utils.ClippedCorpus(corpus, int(num_of_docs*0.75)), \n",
    "               corpus]\n",
    "\n",
    "corpus_title = ['50% Corpus', '75% Corpus', '100% Corpus']\n",
    "\n",
    "model_results = {'Validation_Set': [],\n",
    "                 'Topics': [],\n",
    "                 'Alpha': [],\n",
    "                 'Beta': [],\n",
    "                 'Coherence': []\n",
    "                }\n",
    "# Can take a long time to run\n",
    "if 1 == 1:\n",
    "    pbar = tqdm.tqdm(total=540)\n",
    "    \n",
    "    # iterate through validation corpuses\n",
    "    for i in range(len(corpus_sets)):\n",
    "        # iterate through number of topics\n",
    "        for k in topics_range:\n",
    "            # iterate through alpha values\n",
    "            for a in alpha:\n",
    "                # iterare through beta values\n",
    "                for b in beta:\n",
    "                    # get the coherence score for the given parameters\n",
    "                    cv = compute_coherence_values(corpus=corpus_sets[i], dictionary=id2word, \n",
    "                                                  k=k, a=a, b=b)\n",
    "                    # Save the model results\n",
    "                    model_results['Validation_Set'].append(corpus_title[i])\n",
    "                    model_results['Topics'].append(k)\n",
    "                    model_results['Alpha'].append(a)\n",
    "                    model_results['Beta'].append(b)\n",
    "                    model_results['Coherence'].append(cv)\n",
    "                    \n",
    "                    pbar.update(1)\n",
    "    results_df = pd.DataFrame(model_results)\n",
    "    pbar.close()"
   ]
  },
  {
   "cell_type": "code",
   "execution_count": 33,
   "id": "71f9d81f",
   "metadata": {},
   "outputs": [],
   "source": [
    "results_df = pd.read_csv('Data/first-gs-results-24h')\n",
    "results_df.drop(columns = 'Unnamed: 0', inplace = True)"
   ]
  },
  {
   "cell_type": "code",
   "execution_count": 34,
   "id": "efd10fee",
   "metadata": {},
   "outputs": [
    {
     "data": {
      "text/html": [
       "<div>\n",
       "<style scoped>\n",
       "    .dataframe tbody tr th:only-of-type {\n",
       "        vertical-align: middle;\n",
       "    }\n",
       "\n",
       "    .dataframe tbody tr th {\n",
       "        vertical-align: top;\n",
       "    }\n",
       "\n",
       "    .dataframe thead th {\n",
       "        text-align: right;\n",
       "    }\n",
       "</style>\n",
       "<table border=\"1\" class=\"dataframe\">\n",
       "  <thead>\n",
       "    <tr style=\"text-align: right;\">\n",
       "      <th></th>\n",
       "      <th>Validation_Set</th>\n",
       "      <th>Topics</th>\n",
       "      <th>Alpha</th>\n",
       "      <th>Beta</th>\n",
       "      <th>Coherence</th>\n",
       "    </tr>\n",
       "  </thead>\n",
       "  <tbody>\n",
       "    <tr>\n",
       "      <th>240</th>\n",
       "      <td>75% Corpus</td>\n",
       "      <td>5</td>\n",
       "      <td>0.01</td>\n",
       "      <td>0.01</td>\n",
       "      <td>0.384454</td>\n",
       "    </tr>\n",
       "    <tr>\n",
       "      <th>245</th>\n",
       "      <td>75% Corpus</td>\n",
       "      <td>5</td>\n",
       "      <td>0.31</td>\n",
       "      <td>0.01</td>\n",
       "      <td>0.381647</td>\n",
       "    </tr>\n",
       "    <tr>\n",
       "      <th>260</th>\n",
       "      <td>75% Corpus</td>\n",
       "      <td>5</td>\n",
       "      <td>symmetric</td>\n",
       "      <td>0.01</td>\n",
       "      <td>0.380380</td>\n",
       "    </tr>\n",
       "    <tr>\n",
       "      <th>420</th>\n",
       "      <td>100% Corpus</td>\n",
       "      <td>5</td>\n",
       "      <td>0.01</td>\n",
       "      <td>0.01</td>\n",
       "      <td>0.381210</td>\n",
       "    </tr>\n",
       "    <tr>\n",
       "      <th>430</th>\n",
       "      <td>100% Corpus</td>\n",
       "      <td>5</td>\n",
       "      <td>0.61</td>\n",
       "      <td>0.01</td>\n",
       "      <td>0.384243</td>\n",
       "    </tr>\n",
       "    <tr>\n",
       "      <th>440</th>\n",
       "      <td>100% Corpus</td>\n",
       "      <td>5</td>\n",
       "      <td>symmetric</td>\n",
       "      <td>0.01</td>\n",
       "      <td>0.389232</td>\n",
       "    </tr>\n",
       "  </tbody>\n",
       "</table>\n",
       "</div>"
      ],
      "text/plain": [
       "    Validation_Set  Topics      Alpha  Beta  Coherence\n",
       "240     75% Corpus       5       0.01  0.01   0.384454\n",
       "245     75% Corpus       5       0.31  0.01   0.381647\n",
       "260     75% Corpus       5  symmetric  0.01   0.380380\n",
       "420    100% Corpus       5       0.01  0.01   0.381210\n",
       "430    100% Corpus       5       0.61  0.01   0.384243\n",
       "440    100% Corpus       5  symmetric  0.01   0.389232"
      ]
     },
     "execution_count": 34,
     "metadata": {},
     "output_type": "execute_result"
    }
   ],
   "source": [
    "results_df[(results_df['Coherence'] >= 0.38) & (results_df['Topics'] == 5 )]"
   ]
  },
  {
   "cell_type": "markdown",
   "id": "b048bbdf",
   "metadata": {},
   "source": [
    "# ============================================================================="
   ]
  },
  {
   "cell_type": "markdown",
   "id": "8fd48ef6",
   "metadata": {},
   "source": [
    "# Below, will be trying random grid search results which had a high coherence to try and get coherent topics"
   ]
  },
  {
   "cell_type": "code",
   "execution_count": 176,
   "id": "d064284d",
   "metadata": {},
   "outputs": [
    {
     "name": "stdout",
     "output_type": "stream",
     "text": [
      "------ Topic 1 ------\n",
      "say elon_musk battery new day spacex musk leave ceo elonmusk\n",
      "\n",
      "------ Topic 2 ------\n",
      "stock buy twitter musk go sell elon price market back\n",
      "\n",
      "------ Topic 3 ------\n",
      "company world driver also issue crash news make self_driving autopilot\n",
      "\n",
      "------ Topic 4 ------\n",
      "car ev see model electric year look vehicle find first\n",
      "\n",
      "------ Topic 5 ------\n",
      "people know make think drive electric_car work need get want\n",
      "\n"
     ]
    }
   ],
   "source": [
    "newer_model = LdaMulticore(corpus=corpus,\n",
    "                          num_topics=5,\n",
    "                          id2word=id2word,\n",
    "                          workers=4,\n",
    "                          passes=10,\n",
    "                          alpha = 0.61 , \n",
    "                          eta = 0.01,\n",
    "                          chunksize=1200,\n",
    "                          random_state = 100)\n",
    "newer_words = [re.findall(r'\"([^\"]*)\"',t[1]) for t in newer_model.print_topics()]\n",
    "newer_topics = [' '.join(t[0:10]) for t in newer_words]\n",
    "\n",
    "for id, t in enumerate(newer_topics): \n",
    "    print(f\"------ Topic {id + 1} ------\")\n",
    "    print(t, end=\"\\n\\n\")"
   ]
  },
  {
   "cell_type": "code",
   "execution_count": 177,
   "id": "c730a4c0",
   "metadata": {},
   "outputs": [
    {
     "name": "stderr",
     "output_type": "stream",
     "text": [
      "/Users/austinboring/opt/anaconda3/envs/broke-the-other/lib/python3.10/site-packages/past/builtins/misc.py:45: DeprecationWarning: the imp module is deprecated in favour of importlib and slated for removal in Python 3.12; see the module's documentation for alternative uses\n",
      "  from imp import reload\n",
      "/Users/austinboring/opt/anaconda3/envs/broke-the-other/lib/python3.10/site-packages/past/builtins/misc.py:45: DeprecationWarning: the imp module is deprecated in favour of importlib and slated for removal in Python 3.12; see the module's documentation for alternative uses\n",
      "  from imp import reload\n",
      "/Users/austinboring/opt/anaconda3/envs/broke-the-other/lib/python3.10/site-packages/past/builtins/misc.py:45: DeprecationWarning: the imp module is deprecated in favour of importlib and slated for removal in Python 3.12; see the module's documentation for alternative uses\n",
      "  from imp import reload\n",
      "/Users/austinboring/opt/anaconda3/envs/broke-the-other/lib/python3.10/site-packages/past/builtins/misc.py:45: DeprecationWarning: the imp module is deprecated in favour of importlib and slated for removal in Python 3.12; see the module's documentation for alternative uses\n",
      "  from imp import reload\n",
      "/Users/austinboring/opt/anaconda3/envs/broke-the-other/lib/python3.10/site-packages/past/builtins/misc.py:45: DeprecationWarning: the imp module is deprecated in favour of importlib and slated for removal in Python 3.12; see the module's documentation for alternative uses\n",
      "  from imp import reload\n",
      "/Users/austinboring/opt/anaconda3/envs/broke-the-other/lib/python3.10/site-packages/past/builtins/misc.py:45: DeprecationWarning: the imp module is deprecated in favour of importlib and slated for removal in Python 3.12; see the module's documentation for alternative uses\n",
      "  from imp import reload\n",
      "/Users/austinboring/opt/anaconda3/envs/broke-the-other/lib/python3.10/site-packages/past/builtins/misc.py:45: DeprecationWarning: the imp module is deprecated in favour of importlib and slated for removal in Python 3.12; see the module's documentation for alternative uses\n",
      "  from imp import reload\n",
      "/Users/austinboring/opt/anaconda3/envs/broke-the-other/lib/python3.10/site-packages/past/builtins/misc.py:45: DeprecationWarning: the imp module is deprecated in favour of importlib and slated for removal in Python 3.12; see the module's documentation for alternative uses\n",
      "  from imp import reload\n"
     ]
    },
    {
     "data": {
      "text/html": [
       "\n",
       "<link rel=\"stylesheet\" type=\"text/css\" href=\"https://cdn.jsdelivr.net/gh/bmabey/pyLDAvis@3.3.1/pyLDAvis/js/ldavis.v1.0.0.css\">\n",
       "\n",
       "\n",
       "<div id=\"ldavis_el6107181660946885768667006\"></div>\n",
       "<script type=\"text/javascript\">\n",
       "\n",
       "var ldavis_el6107181660946885768667006_data = {\"mdsDat\": {\"x\": [0.1489102638231262, 0.14076568619467272, 0.12381910254029727, -0.07862354736591565, -0.33487150519218073], \"y\": [-0.12968429174752466, -0.1667062145281851, 0.17326017627157791, 0.24412977461698362, -0.12099944461285186], \"topics\": [1, 2, 3, 4, 5], \"cluster\": [1, 1, 1, 1, 1], \"Freq\": [24.959696141651126, 23.052264128588213, 18.858590805640052, 17.688321881170324, 15.441127042950287]}, \"tinfo\": {\"Term\": [\"stock\", \"buy\", \"say\", \"company\", \"car\", \"ev\", \"people\", \"elon_musk\", \"twitter\", \"world\", \"battery\", \"sell\", \"musk\", \"model\", \"price\", \"drive\", \"see\", \"new\", \"day\", \"know\", \"electric\", \"think\", \"go\", \"electric_car\", \"share\", \"spacex\", \"elon\", \"year\", \"market\", \"find\", \"gas\", \"electricity\", \"party\", \"emergency\", \"family\", \"horse\", \"escape\", \"fossil_fuel\", \"fill\", \"answer\", \"god\", \"sort\", \"subsidy\", \"okay\", \"heard\", \"hat\", \"hot\", \"rid\", \"sometimes\", \"press\", \"hide\", \"trip\", \"ur\", \"wife\", \"fuel\", \"person\", \"cuz\", \"diesel\", \"men\", \"secret\", \"drive\", \"hate\", \"woman\", \"fuck\", \"defend\", \"kid\", \"situation\", \"obvious\", \"truth\", \"save\", \"child\", \"hour\", \"electric_car\", \"people\", \"nikola\", \"green\", \"charge\", \"climate_change\", \"guy\", \"away\", \"work\", \"literally\", \"lol\", \"problem\", \"love\", \"stop\", \"push\", \"power\", \"man\", \"care\", \"know\", \"really\", \"tell\", \"run\", \"need\", \"life\", \"everyone\", \"give\", \"help\", \"get\", \"think\", \"believe\", \"want\", \"make\", \"thing\", \"even\", \"pay\", \"much\", \"right\", \"take\", \"way\", \"stock\", \"value\", \"tank\", \"fall\", \"buying\", \"cash\", \"loan\", \"shareholder\", \"price\", \"valuation\", \"conservative\", \"collateral\", \"finance\", \"political_views\", \"excuse\", \"libs\", \"debt\", \"manipulate\", \"share_price\", \"overvalue\", \"troll\", \"dip\", \"board\", \"earnings\", \"plummet\", \"bank\", \"collapse\", \"asset\", \"recession\", \"net_worth\", \"buy\", \"twitter\", \"share\", \"drop\", \"deal\", \"purchase\", \"short\", \"wealth\", \"loss\", \"rise\", \"sell\", \"lose\", \"worth\", \"twitter_deal\", \"bet\", \"trump\", \"genius\", \"maga\", \"back\", \"investor\", \"go\", \"money\", \"hold\", \"musk\", \"market\", \"elon\", \"tsla\", \"never\", \"think\", \"try\", \"tweet\", \"want\", \"time\", \"much\", \"make\", \"way\", \"high\", \"right\", \"take\", \"door\", \"spot\", \"open\", \"ford\", \"ev\", \"china\", \"motor\", \"enter\", \"teslaradar\", \"model_dual\", \"lock\", \"unitedstates_model\", \"first_time\", \"manual\", \"c\", \"st_may\", \"window\", \"states_teslaradar\", \"model_standard\", \"range\", \"california_united\", \"gt\", \"anyone_else\", \"quality\", \"vw\", \"wow\", \"unitedstates_modely\", \"first_player\", \"trap\", \"toyota\", \"model\", \"free\", \"evs\", \"saw\", \"competition\", \"gm\", \"next\", \"read\", \"state\", \"find\", \"manufacturer\", \"car\", \"design\", \"first\", \"electric\", \"see\", \"year\", \"tesla\", \"vehicle\", \"look\", \"build\", \"best\", \"good\", \"well\", \"make\", \"new\", \"market\", \"time\", \"many\", \"news\", \"self_driving\", \"autopilot\", \"esg\", \"recall\", \"esg_index\", \"data\", \"remove\", \"accident\", \"focus\", \"involve\", \"scam\", \"kick\", \"index\", \"meet\", \"source\", \"investigate\", \"exxon\", \"dangerous\", \"investigation\", \"success\", \"fsd_beta\", \"friday\", \"sexual_harassment\", \"goal\", \"track\", \"allegation\", \"emission\", \"improve\", \"environmental\", \"issue\", \"company\", \"include\", \"list\", \"report\", \"software\", \"important\", \"fail\", \"vision\", \"system\", \"kill\", \"technology\", \"cut\", \"team\", \"safe\", \"world\", \"fsd\", \"crash\", \"driver\", \"safety\", \"case\", \"electric_vehicles\", \"ai\", \"lead\", \"change\", \"top\", \"also\", \"business\", \"big\", \"claim\", \"tsla\", \"story\", \"elon_musk\", \"real\", \"make\", \"well\", \"order\", \"supply\", \"cybertruck\", \"btc\", \"please\", \"join\", \"delivery\", \"roof\", \"criticism\", \"analysis\", \"link\", \"lawyer\", \"target\", \"rip\", \"ship\", \"rocket\", \"mar\", \"vote_republican\", \"full_self\", \"president\", \"date\", \"youtube\", \"business_insider\", \"stance\", \"token\", \"doc\", \"accuse\", \"record\", \"panel\", \"semi\", \"elonmusk\", \"democrat\", \"post\", \"check\", \"texas\", \"video\", \"vote\", \"solar\", \"lithium\", \"yesterday\", \"mr\", \"paypal\", \"event\", \"say\", \"day\", \"battery\", \"demand\", \"leave\", \"water\", \"spacex\", \"watch\", \"bitcoin\", \"truck\", \"win\", \"elon_musk\", \"ceo\", \"average\", \"new\", \"mine\", \"billionaire\", \"live\", \"fire\", \"show\", \"musk\", \"end\", \"come\", \"elon\", \"put\", \"need\"], \"Freq\": [12724.0, 11396.0, 7443.0, 7219.0, 7823.0, 4936.0, 7061.0, 5531.0, 4970.0, 4368.0, 3335.0, 4273.0, 6855.0, 3328.0, 3592.0, 3713.0, 4738.0, 3649.0, 2494.0, 5709.0, 3958.0, 6557.0, 6262.0, 3485.0, 2638.0, 2399.0, 6031.0, 4069.0, 4009.0, 2269.0, 1494.8326760597872, 514.2885592935278, 484.3791710891844, 423.3065206288333, 506.37857440655466, 374.5371937121253, 304.2965241049264, 367.7951475835561, 253.08733034480994, 252.93929362288318, 243.98381030387935, 233.6824361142081, 282.22814390028276, 215.6868521114951, 249.71749817982217, 212.3005061429244, 189.12374802337652, 207.07358561443326, 205.2558763210123, 183.15060999548098, 180.51019571048343, 180.3834681466416, 180.0511119708775, 182.81136248245244, 324.7450272073413, 835.3446568389554, 153.61981661693395, 169.60559133031586, 147.44771901317847, 144.9180901201023, 3693.1127353904353, 868.1055660769841, 505.91056686155105, 1110.2374962169517, 322.23302362385846, 452.2054545977878, 308.1036227344018, 333.69214247395263, 274.0030311807066, 906.8330395787898, 249.43874835107349, 439.1037204082238, 3358.307054437959, 6661.805048842634, 642.2953712813677, 617.0511643465214, 1856.0667942078949, 417.9663376378833, 1691.5664452552471, 619.6446571992232, 3169.7448233723744, 899.0696464559298, 1523.781500769951, 1388.116920487553, 1584.4411473541556, 1116.939432857203, 666.917769996687, 1374.454161578573, 1226.6985554005162, 1063.3257181448084, 4597.2376382108805, 2229.0497214297193, 1437.885713608804, 1316.4880433880053, 3032.0542534488654, 873.9330333028894, 1079.0082422612413, 1759.4535485214158, 1241.7738796621297, 2847.190860327344, 3835.8433181674595, 1176.4309183818016, 2716.5732795076697, 4128.532956637539, 1928.4720741343579, 1981.324756560095, 1601.0379010427919, 1578.4106873734386, 1438.7336339081592, 1542.5918663142522, 1360.0047104727528, 12724.060108923259, 1854.562699760282, 1345.5364489771143, 1012.9304742295734, 997.0948710913914, 749.334778213986, 681.739515554887, 629.5409558491967, 3592.354016760192, 374.3126671854048, 350.8907253883243, 318.18917130449597, 312.70376957658516, 295.9899554431828, 288.12967079886727, 283.7155914546122, 290.36549826378786, 271.69030126777193, 270.4925061765018, 262.96042876739153, 255.27512932104156, 250.85005107480237, 659.3796570637955, 241.706297225362, 236.0816054027247, 327.2281862766425, 213.7132410940989, 200.64270325390657, 201.9831907669169, 197.43400091068924, 11386.76069364642, 4965.071656250117, 2637.360009423369, 1713.0095882831376, 1452.7611367801594, 1084.2011299756762, 1014.7527136494869, 426.4444415582476, 407.13421195727824, 344.0400812853377, 4130.784937420463, 1665.8593192753078, 844.128477664207, 620.3487481702158, 606.072701342162, 827.9908886731498, 468.2284489444583, 537.4577378127192, 2664.6328281223086, 1110.1224035988107, 4700.254700819027, 2628.45435980408, 1037.4725148743084, 4853.0055744281335, 2970.3375417451352, 4121.216185998358, 1879.8959574181445, 1894.1648476273074, 2620.560022559222, 1473.2436146893904, 1104.9485201054947, 1783.4882057647649, 1701.8763530428153, 1346.4513229789484, 1646.9740579165984, 1268.5829685450879, 1111.6401934118046, 1211.4361934843898, 1179.5209582360053, 1917.731856430523, 1834.9464172197336, 1921.7617993452827, 1419.6687084775515, 4936.022810194759, 1192.7951500303725, 1108.8727501696771, 957.231319332217, 841.1130463455521, 798.7375554608469, 753.2293281576948, 667.9742196101629, 667.1443419924515, 651.9916491370976, 603.8350886233385, 598.3752108577752, 621.9892193854839, 575.2735352651665, 525.2123305156271, 526.6509994048523, 512.1071458102343, 514.3864898921428, 473.48801128511786, 560.8203813003106, 358.6600005183453, 393.3926799027701, 352.0229471347595, 349.4408150560344, 345.69743978102287, 479.4119928175747, 3300.4145995893396, 1700.0354688817097, 981.5942956491829, 609.1173102887013, 577.6610950429022, 499.9420219764862, 1112.0391750220358, 1515.935183981192, 1280.9379140391056, 2208.2282778132144, 898.6205467308874, 6851.899595255927, 1048.4251421033894, 2024.0755886821676, 3199.0972584600627, 3632.346067071315, 3162.6394625197195, 998.1987584513943, 2375.201977175113, 2458.0014292387546, 1288.1479107452992, 1041.1606296408943, 1918.6169696428674, 1515.612888365593, 1911.4786688344855, 1156.9069861563128, 1023.4571176742331, 1017.1382808223678, 998.4459029451903, 1508.623361499565, 1247.407124729003, 1181.5107399488177, 968.0402801180819, 1014.4156444405289, 694.2151309885527, 630.9923696419772, 628.2704491335971, 576.202376575002, 516.7887375485444, 437.88320034522087, 402.4053755207625, 466.8246710132942, 395.0418045515879, 392.9144376877903, 382.8547376583654, 268.5636712054352, 264.7393575873351, 305.87120347574705, 234.03380588069135, 274.0436337529529, 229.23772180989133, 230.2485845360654, 213.42729403883968, 215.6289294705501, 203.59391059090925, 204.47912440355074, 198.1628977813341, 259.28095543013876, 186.94463059809507, 1567.562806972712, 7087.825549957613, 843.1020042522828, 710.9064739975576, 839.5211790088036, 529.1874023434386, 450.8764637959509, 649.1653480752171, 280.8607681073019, 1068.0235069625978, 1062.9168002329088, 1170.4584067507972, 514.7178147963606, 499.2447913798998, 556.0360747902339, 4101.336456685172, 955.4121929652168, 1564.433984734676, 1706.7404828363126, 1059.5255623882472, 818.5550272532406, 693.0123402783904, 582.9676579655718, 617.3148901301299, 996.9471371323825, 746.8206829225707, 1571.0328145106143, 911.8819899626319, 1109.3393363487937, 796.8508709888899, 1019.26209610375, 718.7529707031789, 1176.0096446178848, 802.1585979757298, 1277.3156621738085, 848.9847950110345, 1122.6520474468825, 415.72906052557073, 400.0159699083529, 379.0059288092977, 738.687715303533, 360.469293682712, 350.3486750304436, 330.1519958115136, 320.3491776851607, 346.9131837616038, 350.3635670184903, 296.55360790374357, 304.9365398030335, 256.00292091670383, 249.71125243118013, 320.19699649860394, 243.6967753168324, 238.72882382157908, 237.94015749419106, 239.20008255149602, 229.0550237499794, 213.17110749151303, 208.12952120575946, 204.65006124397962, 202.58500615746186, 200.54635586241483, 197.77628891434412, 395.2547380677535, 187.79946242634227, 187.0339395843356, 1375.867239281935, 1337.9771493783269, 955.8880289435326, 768.2011994558077, 627.3047606538605, 980.303502285423, 657.7039448128937, 941.6849230457027, 354.15359762280684, 355.7716376644336, 287.3373533593477, 296.2262199237821, 331.65840488205646, 7097.089910470916, 2426.6533029143816, 3190.113427758793, 602.9458297151344, 1481.135755820978, 388.81255834156224, 2221.483829559611, 1097.1370817315785, 697.3513285988612, 1191.7977090543225, 543.3517084937865, 4298.083939633816, 1452.5458106846675, 449.3539121640781, 2476.536511972546, 466.3204838121111, 553.1661180092523, 700.7636763823195, 1077.877379681415, 808.5668957311746, 1696.2821538958615, 672.9189593338572, 985.143123350701, 1186.2846872208518, 638.6686049045425, 670.9198179939051], \"Total\": [12724.0, 11396.0, 7443.0, 7219.0, 7823.0, 4936.0, 7061.0, 5531.0, 4970.0, 4368.0, 3335.0, 4273.0, 6855.0, 3328.0, 3592.0, 3713.0, 4738.0, 3649.0, 2494.0, 5709.0, 3958.0, 6557.0, 6262.0, 3485.0, 2638.0, 2399.0, 6031.0, 4069.0, 4009.0, 2269.0, 1494.8852908124836, 514.3322723172204, 484.4230942353794, 423.35016418364137, 506.432313420425, 374.58085485770584, 304.34016483719154, 367.8543921179137, 253.1318704219343, 252.98389427307924, 244.02747477931467, 233.72621907898568, 282.2842378854658, 215.7305335858761, 249.77210584101522, 212.3490027788572, 189.16741284867715, 207.12143225117396, 205.3043765338605, 183.19424981906892, 180.55386762082313, 180.42735510863312, 180.0956567864536, 182.8566874481227, 324.82755653010383, 835.5666781860469, 153.66346496405092, 169.65501562910677, 147.49135878933413, 144.96173029892668, 3713.0758964846823, 871.0839508449034, 506.1115539804286, 1122.2208318824548, 322.4785559041862, 454.13245892065476, 308.30301886409444, 334.1800028370866, 274.2920021053087, 918.8986872934436, 249.54749455572528, 442.1446381156763, 3485.918669083587, 7061.835678968955, 650.3546124769788, 625.0292392250103, 1922.9871847826298, 421.01772617556793, 1768.376226315094, 635.5379564974238, 3443.8990529698544, 939.249030496749, 1629.6435163726906, 1483.3999242608966, 1708.3420857422766, 1184.15778124278, 691.5614744958277, 1487.635069677124, 1347.268340377356, 1157.6183164219794, 5709.46854170374, 2595.0118603421415, 1641.8456740762438, 1489.0276845830185, 4168.758895182141, 963.7991208747883, 1244.1545957267645, 2249.3055667225763, 1479.58289657007, 4161.410315176914, 6557.704798399118, 1464.631215263823, 4918.045936616417, 9206.957567772526, 3132.822355985626, 3983.45414168935, 2680.45865384834, 3272.3340443303655, 3117.1903761887625, 4111.467105319263, 3388.596773141495, 12724.107485885026, 1854.6115066043992, 1345.5808686997734, 1012.9768480824598, 997.1496011816771, 749.3785986524016, 681.7824548165078, 629.5847605039944, 3592.7463168317613, 374.35543595000064, 350.9364205295759, 318.2319324053152, 312.7475866336887, 296.0327289449258, 288.172489857341, 283.7583762622736, 290.41093513132995, 271.7330623008782, 270.5352700021033, 263.003190589897, 255.31793411404624, 250.89281196752478, 659.4965026665583, 241.749934349734, 236.12436586075097, 327.2945340327368, 213.7574382041606, 200.68559627044368, 202.02689701649535, 197.4767620083048, 11396.75556955637, 4970.792561201738, 2638.0285160694893, 1715.4346080869257, 1453.1785038600087, 1084.4679692406764, 1018.2153778898172, 426.92868842663364, 407.761152811978, 344.11666421982454, 4273.861615095913, 1709.8477479797148, 856.5026468975789, 628.1334043827665, 616.8909711312697, 856.7137500484467, 475.2927547470693, 550.0422682604675, 3017.3879259188366, 1210.1543135804236, 6262.679074898074, 3301.107725122373, 1162.9201415587852, 6855.640288577288, 4009.819206456708, 6031.224918870328, 2930.91500421224, 3146.3779102300646, 6557.704798399118, 2658.449338231733, 1605.0231979371558, 4918.045936616417, 4692.584961086842, 3272.3340443303655, 9206.957567772526, 3388.596773141495, 1742.5320783260172, 3117.1903761887625, 4111.467105319263, 1917.7755857157015, 1834.989646154855, 1921.810001952723, 1419.7179560438062, 4936.198078165863, 1192.839799250272, 1108.916015385277, 957.2745442592162, 841.1562661517704, 798.7807726386727, 753.2725513811444, 668.0174354441019, 667.1875580303409, 652.0357240551672, 603.8783052136329, 598.4184867175209, 622.0352811077499, 575.3167510003575, 525.2555465688162, 526.6947043556585, 512.1503615993274, 514.4299410033335, 473.5312294720923, 560.8737541633501, 358.7032896051207, 393.44039357458314, 352.0661629156591, 349.4840377723204, 345.7406555163312, 479.47490455411673, 3328.938784140838, 1704.9514747624462, 984.3381416190971, 609.7504665546963, 578.1970690338815, 500.0530715133947, 1122.0122329287826, 1542.2537616193124, 1301.5719269039828, 2269.873060916221, 909.4456043154867, 7823.427240875824, 1087.4762214837945, 2190.6367533581765, 3958.4505927966916, 4738.603199945821, 4069.8248213883035, 1097.3373631751606, 3086.928806174707, 3411.76346237562, 1668.1950727530489, 1441.2043712116308, 4407.147531886007, 3901.2264087420936, 9206.957567772526, 3649.0989263977162, 4009.819206456708, 4692.584961086842, 2833.897418907985, 1508.667145782495, 1247.452157561693, 1181.5536512659226, 968.0831486539173, 1014.4705168268986, 694.2580788828858, 631.0352252849052, 628.3135943904358, 576.2452393669298, 516.8319287059869, 437.92605518773075, 402.44862841179054, 466.8750840047423, 395.0846600004893, 392.9592838686672, 382.91383208937447, 268.6065230815495, 264.7822101824031, 305.9259564892205, 234.0766587954127, 274.09483755107635, 229.28068910569638, 230.292122168276, 213.4702298924914, 215.67365331740416, 203.6368024471546, 204.5225091841609, 198.2067565563969, 259.33999601595156, 186.9875745743396, 1570.681084393654, 7219.415271045222, 844.2720230276798, 711.0741103473928, 841.3435630706158, 530.4453297946901, 451.9103646410134, 654.5057293647479, 281.1150343731321, 1084.260796236955, 1079.5381373391187, 1193.9324940721372, 518.5302291123286, 502.95998768760137, 562.2781595903549, 4368.997524709278, 980.2156846474122, 1674.3965490782762, 1883.306320209485, 1165.9383336159788, 895.3325702734675, 758.7419839875286, 627.2686928576803, 694.7830470071384, 1510.9873809802468, 948.5057431013681, 3967.2759679583805, 1573.307041871699, 2496.2196192019246, 1264.984556578824, 2930.91500421224, 983.6572574373431, 5531.974458446009, 1445.3815598025492, 9206.957567772526, 3901.2264087420936, 1122.7092266523598, 415.77099317185775, 400.05792051923174, 379.0478628566393, 738.7698319854987, 360.51158954608644, 350.3908672014415, 330.1939333383414, 320.39124187742055, 346.95884944509606, 350.40974190227644, 296.5972407711297, 304.9865052567621, 256.0449196076162, 249.7531875965657, 320.2507838671318, 243.7387185284797, 238.77076481582284, 237.98209519927647, 239.2424385697267, 229.09719678389925, 213.21304205205732, 208.17146100969512, 204.69199516308515, 202.62693850047242, 200.5882881735284, 197.8183633415192, 395.3396812450287, 187.84146471131024, 187.0758729189263, 1376.6828200428424, 1342.2956360521232, 958.2349762642433, 769.2048563732882, 627.8450399054233, 985.9310408358946, 659.9562862588247, 951.0358516177166, 354.33482406190416, 356.58921311395227, 287.4063682724512, 296.6214135528008, 332.50900524527196, 7443.128818130785, 2494.36058390327, 3335.861547363483, 613.3763386007174, 1551.131964212144, 391.80818375617497, 2399.5493452743676, 1157.4801113545896, 729.0100948736558, 1316.5230476244756, 566.0601012382933, 5531.974458446009, 1702.8777873441288, 466.4913186277529, 3649.0989263977162, 493.871082144483, 627.0846703152048, 1086.3657225647817, 2576.7628617024793, 1585.4509391455804, 6855.640288577288, 1146.345496581597, 3450.9605980569045, 6031.224918870328, 2060.6939751731406, 4168.758895182141], \"Category\": [\"Default\", \"Default\", \"Default\", \"Default\", \"Default\", \"Default\", \"Default\", \"Default\", \"Default\", \"Default\", \"Default\", \"Default\", \"Default\", \"Default\", \"Default\", \"Default\", \"Default\", \"Default\", \"Default\", \"Default\", \"Default\", \"Default\", \"Default\", \"Default\", \"Default\", \"Default\", \"Default\", \"Default\", \"Default\", \"Default\", \"Topic1\", \"Topic1\", \"Topic1\", \"Topic1\", \"Topic1\", \"Topic1\", \"Topic1\", \"Topic1\", \"Topic1\", \"Topic1\", \"Topic1\", \"Topic1\", \"Topic1\", \"Topic1\", \"Topic1\", \"Topic1\", \"Topic1\", \"Topic1\", \"Topic1\", \"Topic1\", \"Topic1\", \"Topic1\", \"Topic1\", \"Topic1\", \"Topic1\", \"Topic1\", \"Topic1\", \"Topic1\", \"Topic1\", \"Topic1\", \"Topic1\", \"Topic1\", \"Topic1\", \"Topic1\", \"Topic1\", \"Topic1\", \"Topic1\", \"Topic1\", \"Topic1\", \"Topic1\", \"Topic1\", \"Topic1\", \"Topic1\", \"Topic1\", \"Topic1\", \"Topic1\", \"Topic1\", \"Topic1\", \"Topic1\", \"Topic1\", \"Topic1\", \"Topic1\", \"Topic1\", \"Topic1\", \"Topic1\", \"Topic1\", \"Topic1\", \"Topic1\", \"Topic1\", \"Topic1\", \"Topic1\", \"Topic1\", \"Topic1\", \"Topic1\", \"Topic1\", \"Topic1\", \"Topic1\", \"Topic1\", \"Topic1\", \"Topic1\", \"Topic1\", \"Topic1\", \"Topic1\", \"Topic1\", \"Topic1\", \"Topic1\", \"Topic1\", \"Topic1\", \"Topic1\", \"Topic1\", \"Topic1\", \"Topic2\", \"Topic2\", \"Topic2\", \"Topic2\", \"Topic2\", \"Topic2\", \"Topic2\", \"Topic2\", \"Topic2\", \"Topic2\", \"Topic2\", \"Topic2\", \"Topic2\", \"Topic2\", \"Topic2\", \"Topic2\", \"Topic2\", \"Topic2\", \"Topic2\", \"Topic2\", \"Topic2\", \"Topic2\", \"Topic2\", \"Topic2\", \"Topic2\", \"Topic2\", \"Topic2\", \"Topic2\", \"Topic2\", \"Topic2\", \"Topic2\", \"Topic2\", \"Topic2\", \"Topic2\", \"Topic2\", \"Topic2\", \"Topic2\", \"Topic2\", \"Topic2\", \"Topic2\", \"Topic2\", \"Topic2\", \"Topic2\", \"Topic2\", \"Topic2\", \"Topic2\", \"Topic2\", \"Topic2\", \"Topic2\", \"Topic2\", \"Topic2\", \"Topic2\", \"Topic2\", \"Topic2\", \"Topic2\", \"Topic2\", \"Topic2\", \"Topic2\", \"Topic2\", \"Topic2\", \"Topic2\", \"Topic2\", \"Topic2\", \"Topic2\", \"Topic2\", \"Topic2\", \"Topic2\", \"Topic2\", \"Topic2\", \"Topic3\", \"Topic3\", \"Topic3\", \"Topic3\", \"Topic3\", \"Topic3\", \"Topic3\", \"Topic3\", \"Topic3\", \"Topic3\", \"Topic3\", \"Topic3\", \"Topic3\", \"Topic3\", \"Topic3\", \"Topic3\", \"Topic3\", \"Topic3\", \"Topic3\", \"Topic3\", \"Topic3\", \"Topic3\", \"Topic3\", \"Topic3\", \"Topic3\", \"Topic3\", \"Topic3\", \"Topic3\", \"Topic3\", \"Topic3\", \"Topic3\", \"Topic3\", \"Topic3\", \"Topic3\", \"Topic3\", \"Topic3\", \"Topic3\", \"Topic3\", \"Topic3\", \"Topic3\", \"Topic3\", \"Topic3\", \"Topic3\", \"Topic3\", \"Topic3\", \"Topic3\", \"Topic3\", \"Topic3\", \"Topic3\", \"Topic3\", \"Topic3\", \"Topic3\", \"Topic3\", \"Topic3\", \"Topic3\", \"Topic3\", \"Topic3\", \"Topic3\", \"Topic3\", \"Topic4\", \"Topic4\", \"Topic4\", \"Topic4\", \"Topic4\", \"Topic4\", \"Topic4\", \"Topic4\", \"Topic4\", \"Topic4\", \"Topic4\", \"Topic4\", \"Topic4\", \"Topic4\", \"Topic4\", \"Topic4\", \"Topic4\", \"Topic4\", \"Topic4\", \"Topic4\", \"Topic4\", \"Topic4\", \"Topic4\", \"Topic4\", \"Topic4\", \"Topic4\", \"Topic4\", \"Topic4\", \"Topic4\", \"Topic4\", \"Topic4\", \"Topic4\", \"Topic4\", \"Topic4\", \"Topic4\", \"Topic4\", \"Topic4\", \"Topic4\", \"Topic4\", \"Topic4\", \"Topic4\", \"Topic4\", \"Topic4\", \"Topic4\", \"Topic4\", \"Topic4\", \"Topic4\", \"Topic4\", \"Topic4\", \"Topic4\", \"Topic4\", \"Topic4\", \"Topic4\", \"Topic4\", \"Topic4\", \"Topic4\", \"Topic4\", \"Topic4\", \"Topic4\", \"Topic4\", \"Topic4\", \"Topic4\", \"Topic4\", \"Topic4\", \"Topic4\", \"Topic4\", \"Topic5\", \"Topic5\", \"Topic5\", \"Topic5\", \"Topic5\", \"Topic5\", \"Topic5\", \"Topic5\", \"Topic5\", \"Topic5\", \"Topic5\", \"Topic5\", \"Topic5\", \"Topic5\", \"Topic5\", \"Topic5\", \"Topic5\", \"Topic5\", \"Topic5\", \"Topic5\", \"Topic5\", \"Topic5\", \"Topic5\", \"Topic5\", \"Topic5\", \"Topic5\", \"Topic5\", \"Topic5\", \"Topic5\", \"Topic5\", \"Topic5\", \"Topic5\", \"Topic5\", \"Topic5\", \"Topic5\", \"Topic5\", \"Topic5\", \"Topic5\", \"Topic5\", \"Topic5\", \"Topic5\", \"Topic5\", \"Topic5\", \"Topic5\", \"Topic5\", \"Topic5\", \"Topic5\", \"Topic5\", \"Topic5\", \"Topic5\", \"Topic5\", \"Topic5\", \"Topic5\", \"Topic5\", \"Topic5\", \"Topic5\", \"Topic5\", \"Topic5\", \"Topic5\", \"Topic5\", \"Topic5\", \"Topic5\", \"Topic5\", \"Topic5\", \"Topic5\", \"Topic5\", \"Topic5\", \"Topic5\", \"Topic5\"], \"logprob\": [30.0, 29.0, 28.0, 27.0, 26.0, 25.0, 24.0, 23.0, 22.0, 21.0, 20.0, 19.0, 18.0, 17.0, 16.0, 15.0, 14.0, 13.0, 12.0, 11.0, 10.0, 9.0, 8.0, 7.0, 6.0, 5.0, 4.0, 3.0, 2.0, 1.0, -5.2067, -6.2737, -6.3336, -6.4684, -6.2892, -6.5908, -6.7985, -6.6089, -6.9827, -6.9833, -7.0194, -7.0625, -6.8738, -7.1426, -6.9961, -7.1585, -7.2741, -7.1834, -7.1922, -7.3062, -7.3207, -7.3214, -7.3232, -7.308, -6.7334, -5.7886, -7.482, -7.383, -7.523, -7.5403, -4.3022, -5.7502, -6.2901, -5.5041, -6.7412, -6.4023, -6.786, -6.7063, -6.9033, -5.7065, -6.9973, -6.4317, -4.3973, -3.7123, -6.0514, -6.0915, -4.9903, -6.4811, -5.0831, -6.0873, -4.4551, -5.7151, -5.1875, -5.2808, -5.1485, -5.4981, -6.0138, -5.2907, -5.4044, -5.5473, -4.0833, -4.8071, -5.2455, -5.3337, -4.4995, -5.7435, -5.5327, -5.0437, -5.3922, -4.5624, -4.2643, -5.4462, -4.6093, -4.1908, -4.952, -4.9249, -5.1381, -5.1523, -5.245, -5.1753, -5.3012, -2.9857, -4.9116, -5.2324, -5.5164, -5.5321, -5.8178, -5.9123, -5.992, -4.2504, -6.5119, -6.5765, -6.6743, -6.6917, -6.7466, -6.7736, -6.789, -6.7658, -6.8323, -6.8367, -6.865, -6.8946, -6.9121, -5.9457, -6.9492, -6.9728, -6.6463, -7.0723, -7.1354, -7.1288, -7.1516, -3.0968, -3.9268, -4.5594, -4.991, -5.1557, -5.4484, -5.5146, -6.3815, -6.4278, -6.5962, -4.1107, -5.0189, -5.6987, -6.0067, -6.03, -5.718, -6.288, -6.1501, -4.5491, -5.4247, -3.9816, -4.5628, -5.4924, -3.9496, -4.4405, -4.1131, -4.898, -4.8904, -4.5658, -5.1417, -5.4294, -4.9506, -4.9975, -5.2317, -5.0303, -5.2913, -5.4234, -5.3374, -5.3641, -4.6773, -4.7214, -4.6752, -4.978, -3.7319, -5.1521, -5.2251, -5.3721, -5.5014, -5.5531, -5.6118, -5.7319, -5.7332, -5.7561, -5.8329, -5.842, -5.8033, -5.8813, -5.9724, -5.9696, -5.9976, -5.9932, -6.076, -5.9068, -6.3538, -6.2614, -6.3725, -6.3798, -6.3906, -6.0636, -4.1344, -4.7978, -5.347, -5.8242, -5.8772, -6.0217, -5.2222, -4.9124, -5.0808, -4.5362, -5.4353, -3.4039, -5.2811, -4.6233, -4.1656, -4.0385, -4.177, -5.3302, -4.4633, -4.4291, -5.0752, -5.2881, -4.6768, -4.9126, -4.6805, -5.1827, -5.3052, -5.3114, -5.33, -4.8532, -5.0433, -5.0976, -5.2968, -5.25, -5.6293, -5.7248, -5.7291, -5.8157, -5.9245, -6.0902, -6.1747, -6.0262, -6.1931, -6.1985, -6.2245, -6.579, -6.5934, -6.4489, -6.7166, -6.5588, -6.7374, -6.733, -6.8088, -6.7986, -6.856, -6.8516, -6.883, -6.6142, -6.9413, -4.8148, -3.306, -5.435, -5.6056, -5.4393, -5.9008, -6.0609, -5.6964, -6.5343, -5.1985, -5.2033, -5.107, -5.9285, -5.959, -5.8513, -3.853, -5.31, -4.8168, -4.7298, -5.2065, -5.4646, -5.6311, -5.804, -5.7467, -5.2674, -5.5563, -4.8126, -5.3566, -5.1606, -5.4914, -5.2453, -5.5946, -5.1022, -5.4848, -5.0196, -5.4281, -5.0128, -6.0062, -6.0447, -6.0987, -5.4314, -6.1488, -6.1773, -6.2367, -6.2668, -6.1872, -6.1773, -6.344, -6.3161, -6.4911, -6.5159, -6.2673, -6.5403, -6.5609, -6.5642, -6.5589, -6.6023, -6.6741, -6.6981, -6.7149, -6.7251, -6.7352, -6.7491, -6.0567, -6.8009, -6.805, -4.8094, -4.8373, -5.1736, -5.3922, -5.5948, -5.1484, -5.5475, -5.1886, -6.1665, -6.162, -6.3756, -6.3451, -6.2321, -3.1688, -4.242, -3.9684, -5.6344, -4.7357, -6.0731, -4.3303, -5.0358, -5.489, -4.953, -5.7385, -3.6703, -4.7552, -5.9284, -4.2216, -5.8914, -5.7206, -5.4841, -5.0535, -5.341, -4.6, -5.5246, -5.1435, -4.9577, -5.5769, -5.5276], \"loglift\": [30.0, 29.0, 28.0, 27.0, 26.0, 25.0, 24.0, 23.0, 22.0, 21.0, 20.0, 19.0, 18.0, 17.0, 16.0, 15.0, 14.0, 13.0, 12.0, 11.0, 10.0, 9.0, 8.0, 7.0, 6.0, 5.0, 4.0, 3.0, 2.0, 1.0, 1.3879, 1.3878, 1.3878, 1.3878, 1.3878, 1.3878, 1.3878, 1.3877, 1.3877, 1.3877, 1.3877, 1.3877, 1.3877, 1.3877, 1.3877, 1.3877, 1.3877, 1.3877, 1.3877, 1.3877, 1.3877, 1.3877, 1.3877, 1.3877, 1.3877, 1.3876, 1.3876, 1.3876, 1.3876, 1.3876, 1.3825, 1.3845, 1.3875, 1.3772, 1.3871, 1.3837, 1.3873, 1.3864, 1.3869, 1.3747, 1.3875, 1.381, 1.3506, 1.3296, 1.3754, 1.3751, 1.3525, 1.3806, 1.3435, 1.3626, 1.305, 1.3442, 1.3207, 1.3215, 1.3126, 1.3295, 1.3516, 1.3088, 1.2942, 1.3029, 1.1712, 1.2359, 1.2553, 1.2648, 1.0695, 1.29, 1.2455, 1.1423, 1.2127, 1.0084, 0.8517, 1.1688, 0.7944, 0.5859, 0.9027, 0.6895, 0.8726, 0.6588, 0.6147, 0.4076, 0.475, 1.4674, 1.4674, 1.4674, 1.4674, 1.4674, 1.4673, 1.4673, 1.4673, 1.4673, 1.4673, 1.4673, 1.4673, 1.4673, 1.4673, 1.4673, 1.4673, 1.4672, 1.4672, 1.4672, 1.4672, 1.4672, 1.4672, 1.4672, 1.4672, 1.4672, 1.4672, 1.4672, 1.4672, 1.4672, 1.4672, 1.4665, 1.4663, 1.4672, 1.466, 1.4671, 1.4672, 1.464, 1.4663, 1.4659, 1.4672, 1.4334, 1.4413, 1.4529, 1.4549, 1.4497, 1.4333, 1.4524, 1.4443, 1.3431, 1.3811, 1.1804, 1.2395, 1.3533, 1.1219, 1.1673, 1.0866, 1.0233, 0.9599, 0.5502, 0.8771, 1.0941, 0.4531, 0.4532, 0.5794, -0.2536, 0.4849, 1.0179, 0.5223, 0.2187, 1.6682, 1.6682, 1.6682, 1.6682, 1.6682, 1.6682, 1.6682, 1.6682, 1.6682, 1.6681, 1.6681, 1.6681, 1.6681, 1.6681, 1.6681, 1.6681, 1.6681, 1.6681, 1.6681, 1.6681, 1.6681, 1.6681, 1.6681, 1.6681, 1.6681, 1.6681, 1.6681, 1.6681, 1.6681, 1.6681, 1.6596, 1.6653, 1.6654, 1.6672, 1.6673, 1.668, 1.6593, 1.651, 1.6522, 1.6407, 1.6562, 1.5356, 1.6316, 1.5891, 1.4552, 1.4023, 1.416, 1.5735, 1.4061, 1.3403, 1.4097, 1.3431, 0.8366, 0.7227, 0.0961, 0.5195, 0.3026, 0.1392, 0.625, 1.7322, 1.7322, 1.7322, 1.7322, 1.7322, 1.7322, 1.7322, 1.7322, 1.7322, 1.7322, 1.7322, 1.7322, 1.7322, 1.7322, 1.7322, 1.7321, 1.7321, 1.7321, 1.7321, 1.7321, 1.7321, 1.7321, 1.7321, 1.7321, 1.7321, 1.7321, 1.7321, 1.732, 1.732, 1.732, 1.7303, 1.7139, 1.7309, 1.732, 1.7301, 1.7299, 1.73, 1.7241, 1.7314, 1.7172, 1.7167, 1.7124, 1.7249, 1.7249, 1.7211, 1.669, 1.7066, 1.6643, 1.6338, 1.6366, 1.6426, 1.6417, 1.659, 1.614, 1.3164, 1.4932, 0.8059, 1.1868, 0.9213, 1.2701, 0.676, 1.4185, 0.1838, 1.1434, -0.2429, 0.2073, 1.8681, 1.868, 1.868, 1.868, 1.868, 1.868, 1.868, 1.868, 1.868, 1.868, 1.868, 1.868, 1.868, 1.868, 1.868, 1.868, 1.868, 1.868, 1.868, 1.868, 1.868, 1.8679, 1.8679, 1.8679, 1.8679, 1.8679, 1.8679, 1.8679, 1.8679, 1.8679, 1.8675, 1.8649, 1.8657, 1.8668, 1.8673, 1.8624, 1.8647, 1.8583, 1.8676, 1.8658, 1.8679, 1.8668, 1.8656, 1.8205, 1.8406, 1.8235, 1.851, 1.822, 1.8605, 1.791, 1.8146, 1.8237, 1.7686, 1.8272, 1.6158, 1.7091, 1.8307, 1.4805, 1.8107, 1.7427, 1.4297, 0.9966, 1.1948, 0.4715, 1.3354, 0.6145, 0.242, 0.6967, 0.0414]}, \"token.table\": {\"Topic\": [4, 5, 4, 5, 4, 1, 2, 3, 4, 5, 5, 1, 3, 2, 4, 1, 2, 3, 5, 1, 2, 3, 1, 2, 3, 5, 2, 1, 3, 5, 1, 2, 4, 1, 2, 3, 4, 5, 1, 2, 3, 4, 5, 1, 2, 3, 4, 5, 2, 5, 2, 5, 2, 5, 1, 3, 4, 5, 1, 2, 3, 4, 5, 5, 1, 2, 3, 5, 2, 3, 3, 1, 2, 3, 4, 5, 1, 2, 1, 2, 3, 4, 5, 2, 2, 4, 5, 1, 2, 3, 4, 5, 1, 3, 3, 5, 1, 3, 4, 5, 1, 4, 2, 2, 1, 2, 3, 4, 5, 1, 2, 3, 4, 2, 3, 2, 2, 4, 5, 1, 4, 1, 5, 4, 4, 5, 1, 2, 3, 4, 5, 2, 2, 1, 5, 3, 5, 1, 2, 5, 1, 3, 4, 5, 1, 2, 5, 3, 1, 3, 4, 5, 1, 3, 4, 5, 2, 4, 2, 1, 2, 3, 4, 5, 1, 2, 3, 4, 5, 1, 3, 4, 1, 1, 2, 4, 5, 2, 4, 5, 4, 5, 1, 4, 1, 2, 3, 4, 5, 3, 4, 1, 4, 4, 3, 1, 2, 3, 4, 5, 3, 5, 1, 2, 5, 3, 4, 2, 4, 2, 4, 5, 2, 1, 1, 2, 1, 3, 1, 3, 4, 5, 3, 5, 3, 3, 4, 3, 1, 1, 3, 4, 4, 5, 4, 1, 2, 3, 1, 5, 1, 1, 2, 1, 2, 3, 4, 5, 1, 2, 3, 4, 5, 3, 1, 2, 3, 4, 5, 4, 1, 1, 2, 3, 4, 5, 1, 5, 3, 1, 2, 3, 5, 1, 1, 2, 1, 1, 2, 3, 4, 5, 1, 1, 2, 3, 4, 5, 2, 4, 5, 1, 1, 1, 5, 4, 5, 4, 3, 4, 4, 4, 4, 2, 4, 4, 1, 3, 4, 5, 4, 1, 2, 3, 1, 4, 1, 2, 3, 4, 5, 5, 1, 2, 3, 4, 5, 1, 2, 4, 5, 2, 1, 3, 4, 5, 5, 4, 1, 2, 3, 4, 5, 1, 3, 5, 2, 3, 1, 2, 1, 2, 3, 4, 5, 2, 3, 4, 2, 1, 2, 3, 5, 2, 5, 1, 2, 3, 4, 5, 1, 2, 5, 2, 3, 3, 4, 1, 2, 3, 4, 5, 5, 2, 3, 4, 5, 4, 1, 1, 5, 3, 4, 5, 3, 3, 1, 2, 3, 3, 5, 1, 2, 3, 4, 5, 1, 2, 4, 5, 1, 2, 3, 4, 5, 2, 1, 2, 3, 4, 5, 1, 3, 4, 5, 4, 1, 2, 3, 1, 3, 1, 1, 3, 5, 2, 5, 1, 1, 2, 5, 5, 1, 2, 3, 4, 1, 5, 2, 2, 1, 3, 5, 1, 3, 5, 5, 1, 2, 1, 3, 4, 2, 1, 2, 3, 4, 5, 1, 2, 3, 4, 5, 3, 3, 1, 2, 3, 4, 5, 1, 2, 3, 4, 5, 1, 2, 3, 4, 2, 5, 4, 4, 5, 1, 1, 2, 3, 4, 5, 5, 2, 5, 5, 1, 2, 3, 4, 5, 1, 3, 4, 4, 5, 1, 2, 1, 3, 1, 2, 3, 4, 5, 4, 1, 1, 2, 3, 4, 5, 4, 2, 3, 5, 4, 2, 5, 2, 2, 5, 2, 3, 1, 2, 3, 4, 5, 1, 3, 4, 1, 5, 1, 1, 4, 1, 2, 4, 5, 3, 3, 5, 1, 3, 5, 3, 2, 1, 2, 4, 5, 1, 2, 3, 4, 5, 1, 4, 5, 1, 4, 5, 1, 2, 3, 4, 5, 2, 5, 1, 4, 5, 3, 4, 5, 1, 2, 3, 4, 5, 1, 2, 3, 4, 3, 1, 5, 1, 2, 3, 4, 5, 1, 2, 3, 4, 5, 1, 2, 3, 4, 5, 5, 2, 3, 4, 5, 3, 4, 3, 1, 2, 3, 5, 1, 2, 5, 1, 1, 2, 3, 4, 5, 2, 3, 4, 5, 1, 2, 4, 5, 2, 5, 2, 5, 3, 3, 1, 2, 2, 1, 3, 4, 5, 1, 3, 4, 5, 4, 1, 5, 5, 3, 1, 2, 3, 4, 5, 1, 2, 4, 5, 1, 5, 1, 2, 3, 4, 5, 2, 1, 2, 3, 4, 5, 1, 3, 5, 3, 1, 1, 2, 3, 4, 5, 1, 3, 4, 5, 2, 3, 3, 1, 2, 3, 4, 5, 2, 5, 5], \"Freq\": [0.9995744184069977, 1.0009181991773293, 0.9294262676238421, 0.07014537868859186, 0.9974452240672913, 0.24450025857393945, 0.1703939946350341, 0.15400995668935774, 0.39598959404088546, 0.03528869711376446, 1.0001186035605367, 1.0000636630524131, 0.9988781532472852, 1.0015666482069427, 1.0003777642543774, 0.015005638305534696, 0.008574650460305542, 0.010718313075381927, 0.9625045141692969, 0.9755514893507595, 0.015734701441141283, 0.009440820864684769, 0.09246408047286152, 0.8832142453769747, 0.0026512997985049898, 0.021873223337666163, 0.99910009486224, 0.0005995452663737532, 0.043167259178910226, 0.9562746998661363, 0.8029324977811346, 0.18434674693954622, 0.01228978312930308, 0.05689685768234384, 0.057590721800421206, 0.7223125469185359, 0.1595887471577937, 0.0034693205903868194, 0.001621031992357054, 0.9823453873683747, 0.003242063984714108, 0.00810515996178527, 0.004863095977071162, 0.1009526557925892, 0.28443010163785054, 0.12979627173332897, 0.44427180664278343, 0.04046118347242662, 0.11800639292107686, 0.8818585849372366, 0.043895139758724326, 0.9560910128697142, 0.9992471489013955, 0.9998737287257641, 0.05814667695901976, 0.7720919579713139, 0.023978011117121553, 0.1456664175365134, 0.02669536135173864, 0.3622941897735958, 0.026059757510030576, 0.5796707036377533, 0.005084830733664503, 0.9991763471858078, 0.0005264656211481384, 0.9991440046689753, 0.0001754885403827128, 0.0001754885403827128, 0.9998499711763412, 1.0002015220373317, 0.9997064112209979, 0.06365496663636759, 0.001917318272179747, 0.8758309867317083, 0.05215105700328911, 0.006518882125411139, 0.9182646688638876, 0.0812012030792149, 0.05361136363590463, 0.017870454545301544, 0.013402840908976157, 0.9147438920376227, 0.0011169034090813465, 0.9994947832069365, 0.09102238642841406, 0.055787914262576364, 0.8532614676160364, 0.2667130149945762, 0.03242912589264078, 0.0317673069968726, 0.6598334390808747, 0.009927283436522688, 0.9651650383774129, 0.03484162584659842, 0.0013000437942044258, 0.9984336339489991, 0.9978060506810538, 1.0001343019824025, 0.6300472174581344, 0.3699649909289924, 0.9928323061288172, 0.007125590713843186, 1.0011347525395011, 0.9992711843731011, 0.12083592036223066, 0.27151860282832163, 0.27412657233254245, 0.04810254863340597, 0.28542777351749926, 0.00013851537312317827, 0.017729967759766818, 0.0004155461193695348, 0.9817969646970875, 0.0017295141285840754, 0.9996591663215956, 1.0001811709093291, 0.06569530978820574, 0.934067859170489, 0.9987788621339087, 0.0077141114932635585, 0.9931918547576831, 1.0021900784030076, 0.9998552196663009, 1.0002420308221938, 0.9999441785759435, 0.9995757399686085, 0.00040090434657011863, 0.014833460823094391, 0.01162622605053344, 0.00040090434657011863, 0.972994849125678, 0.999877163156808, 0.9985849874036454, 0.9985160070478349, 0.998884482336645, 0.016303204689657236, 0.9830832427863312, 0.0014899847293568472, 0.0014899847293568472, 0.9967997839397309, 0.0027586810090492685, 0.9636992324945445, 0.005517362018098537, 0.027586810090492686, 1.0020334463417657, 1.000427226398535, 1.0020525217609686, 1.0001170180108507, 0.994593189839268, 0.0024238664252784763, 0.0008079554750928254, 0.0021545479335808677, 0.04991222032831289, 0.03982358004918582, 0.9063846819194692, 0.003716867471257343, 0.9985807631049016, 0.0011658853042672522, 1.0010343980069267, 0.1364170114899637, 0.0002526240953517847, 0.8081444810303592, 0.052798435928523, 0.002273616858166062, 0.963304172808709, 0.012335342296240167, 0.0068848422118549775, 0.008319184339324765, 0.008892921190312679, 0.009225797633092435, 0.07776029433606482, 0.9133539656761511, 0.9993539734232049, 0.09152369666614783, 0.6832774528282523, 0.02851825330901708, 0.19664330479357126, 0.010484502492857284, 0.21258232640689942, 0.7769377881775966, 0.0007263837286564526, 0.9995040106312788, 0.9991728733959119, 0.9989568642361691, 0.014829735058666004, 0.3785944126741792, 0.016574409771450242, 0.002617012069176354, 0.5870830408518953, 0.9997132021729161, 1.0000664505419075, 0.9988822873991229, 0.9999141100079751, 0.9996282666478997, 0.9999598723222354, 0.49730709317513927, 0.213131611360774, 0.19606099937899232, 0.0692866015731138, 0.024350725915188547, 0.003007437345230274, 0.998469198616451, 0.8672555675202963, 0.13101265755867314, 0.001607517270658566, 0.9976246560808351, 0.0030477331652164004, 0.9994014353784207, 1.0008225243585922, 0.0030557410122920787, 0.9915879584887795, 0.0045836115184381175, 1.0000228553274282, 0.9991463549837388, 0.9994790445718491, 1.0008070833384461, 0.027314302754434232, 0.9727416206740449, 0.3341401775059476, 0.24643323195850958, 0.0007761676597118412, 0.4183543685846824, 0.9239322753520283, 0.07577705420377306, 0.9986149931899444, 0.9997188826019259, 1.0003251952611247, 1.0001986619630985, 1.000395830212188, 0.0029326347840466596, 0.9970958265758643, 0.9987315147147651, 0.974275371183759, 0.02550459086868479, 0.9987757839232287, 0.9891101363160804, 0.008910902128973696, 0.0017821804257947395, 1.0005308769728105, 1.000075235915158, 1.0000767344412453, 0.014727765003960778, 0.9846562888362349, 0.6841430631381913, 0.263852856805667, 0.03220062186881546, 0.01465849204475928, 0.0050463661137695875, 0.7820191378279511, 0.15960481550894512, 0.015560358057975149, 0.0177832663519716, 0.02489657289276024, 0.999893868238357, 0.1695759893328534, 0.7504775422452081, 0.045188328607530616, 0.006706395058361434, 0.027943312743172643, 1.0015131504362083, 0.9998874111231142, 0.20262539285083728, 0.24936764472908193, 0.43542903570073543, 0.10482971052305355, 0.0077147406012636815, 0.9871538182198228, 0.0127994012086849, 0.9991642379864303, 0.9568099677101828, 0.03619139357769013, 0.0005654905246514082, 0.006785886295816899, 0.9983564661275068, 0.9964596399211441, 0.0034439849306030328, 1.000912408366088, 0.8394257617326961, 0.045958898387941496, 0.0006758661527638455, 0.10813858444221529, 0.00608279537487461, 1.0024709101225888, 0.08608162906481422, 0.6381518101338227, 0.18191917609030736, 0.09009877175450555, 0.00401714268969133, 0.8917207320960139, 0.019777798301068773, 0.08771023594387022, 1.001118971076227, 0.9991150016477147, 0.9928877615047464, 0.0067851099875039615, 0.9979855194475644, 0.0022128282027662183, 0.9986889950598647, 0.0011844523716584348, 0.9984933493080606, 0.9997857168119633, 1.0014648822148338, 0.9996725055979216, 0.9172383947596716, 0.08263408961798843, 1.0001688522785828, 0.0012733329635608876, 0.0006366664817804438, 0.9982930434317359, 0.9985809345360281, 1.0002675576391573, 0.9953043239284789, 0.002202000716655927, 0.002202000716655927, 0.01574747515812842, 0.9846803584170889, 0.8051537487985225, 0.1630624625041167, 0.0210177180456434, 0.009808268421300254, 0.0008757382519018084, 1.00135793316156, 0.00575719286362913, 0.004317894647721848, 0.09787227868169522, 0.8880469992147934, 0.004317894647721848, 0.025142928454710174, 0.019340714195930902, 0.0006446904731976967, 0.9547865908057889, 1.00085151226515, 0.9068279697191646, 0.020751212121720014, 0.02905169697040802, 0.04357754545561203, 0.998830677765829, 0.9998957769010088, 0.9571476475461869, 0.002129360728690071, 0.03194041093035106, 0.008517442914760283, 0.999055063067, 0.34242612066381456, 0.011966504216746207, 0.6452707273799301, 1.0003190829889437, 0.9996381769378897, 0.9351738491815468, 0.06504490027115745, 0.014655177755255305, 0.22979318720240316, 0.7204485384483508, 0.00674138176741744, 0.028137941290090184, 0.974355758849568, 0.0005848473942674478, 0.025148437953500257, 0.998133336619418, 0.9272147617388646, 0.035121771277987296, 0.02575596560385735, 0.011707257092662432, 0.9762886072342872, 0.02181650518959301, 0.4484651927204379, 0.17888645493111194, 0.2075604222060443, 0.13869945534124464, 0.026393083514426353, 0.9107317104002681, 0.04453455796578328, 0.04453455796578328, 1.0009823526694233, 0.9999452115062883, 0.9885143165617379, 0.012095280847807694, 0.4177991737104736, 0.09598089125781151, 0.35216518189447016, 0.099862471418973, 0.03422847960296954, 1.0010719735998357, 0.7406817731875877, 0.25512372187572463, 0.0034914292338808846, 0.0004987756048401264, 1.0001036141223894, 0.9966685587998687, 0.05669495747436482, 0.9435660779662145, 0.9913069040864605, 0.002403168252330813, 0.006007920630827033, 1.0002744524766203, 0.9995134814463446, 0.2035680310841988, 0.7960964072757061, 0.00030292861768481963, 1.0000757357758008, 0.9985860846616107, 0.48222460745840945, 0.41132720002472695, 0.08067636018315595, 0.02414178960026258, 0.0015279613671052264, 0.0007293264800270934, 0.7078842815142968, 0.043905454097631025, 0.2473875420251901, 0.727314789901642, 0.06092940522263096, 0.03166410035191845, 0.019190363849647545, 0.1609591767889188, 0.9975857310832109, 0.29875622916869093, 0.601962019197341, 0.09789033891910298, 0.0006356515514227466, 0.0009534773271341199, 0.0002740402549149773, 0.3170645749366287, 0.004110603823724659, 0.6787977114243987, 1.0002206280016341, 0.0035650235198940936, 0.00534753527984114, 0.991076538530558, 0.9871537584008839, 0.012300981413095127, 0.9994613596398395, 1.0012490879693516, 1.0000988641161634, 1.0002589925697032, 0.9999878686266512, 1.0008439845213803, 0.9991266018478182, 0.5972858405039903, 0.4021699788028117, 0.0007461409625284075, 0.9979050280107638, 0.9433807727699305, 0.04234026584482276, 0.0004248187208510645, 0.01387741154780144, 0.999321803752063, 1.000311555784408, 0.9994733035690848, 0.9998894414646569, 0.001043585367650199, 0.001043585367650199, 0.9976676114735902, 0.9236136119715251, 0.043021303614394185, 0.032938185579770546, 0.9989866406178767, 0.9989396511120804, 0.9997922712137328, 0.9356883314468082, 0.0060671433595254134, 0.05797492543546506, 0.9995684803480143, 0.964484033015671, 0.0014460030479995067, 0.005784012191998027, 0.024582051815991615, 0.00433800914399852, 0.130053274881576, 0.5338007551109463, 0.003396913896160567, 0.022807850445649522, 0.31008971137808605, 1.0002250877950924, 1.0005796444160475, 0.0006484017253749701, 0.0025936069014998804, 0.9829770156684546, 0.011671231056749462, 0.0019452051761249102, 0.31410391043180325, 0.10239510736543367, 0.02144762384005705, 0.5548707845072824, 0.006918588335502274, 0.8589556117505049, 0.1341034333284772, 0.006551029789034806, 0.999536194675849, 0.9998668641804999, 0.9991407863638707, 0.9995008951051902, 0.9984030744043346, 0.0023771501771531777, 0.9994137146993717, 0.4616336592696002, 0.3884908696146531, 0.1270374767691186, 0.0003208017090129258, 0.02277692133991773, 0.9998245635660922, 0.9996609748031556, 0.9992169141192926, 0.9994126683783051, 0.8837982084722135, 0.029549484173843007, 0.03962317196038039, 0.006044212671922433, 0.04096633033191871, 0.007113916718576053, 0.0035569583592880267, 0.9888344238820714, 0.9091389908354525, 0.09091389908354525, 0.9870511434416231, 0.013059111048841762, 0.0016400151452943532, 0.9987692234842611, 0.025392547222830967, 0.00752371769565362, 0.00013435210170810037, 0.013569562272518137, 0.9534968658223882, 0.9988852529736255, 1.0002639986498119, 0.1019287709098585, 0.11585692594101929, 0.766470592017818, 0.0078082081235295335, 0.008019240775516818, 0.9996375351479797, 0.9665731771493712, 0.033459202210689924, 0.9995944270218149, 0.9977972109144764, 0.9996101194269796, 0.0003790709592062873, 0.9980214409673861, 1.000659545024046, 1.0009882252387223, 0.996842143656796, 0.002946331459084126, 0.01450691373168254, 0.015768384490959284, 0.01450691373168254, 0.44529917802469016, 0.5102649221274425, 0.999017139484359, 0.0018852084160813555, 0.997275252107037, 0.009463365639361499, 0.9904989369198368, 0.998517437674738, 1.001171374448674, 1.0002250321179451, 0.0008334898400563283, 0.002917214440197149, 0.07042989148475974, 0.9255904673825526, 1.0000056424542594, 0.999300678827928, 1.001504723409772, 0.001536603516608837, 0.98419455238796, 0.013829431649479532, 0.9994494319871502, 0.9999915525796096, 0.9432864586910897, 0.04391306701158162, 0.0025334461737450934, 0.010133784694980373, 0.04168118487410399, 0.13520969727453244, 0.016265828243552778, 0.730945656694653, 0.07624606989165364, 0.9989930791474757, 0.9996539973101147, 1.0005508003971013, 0.01106744801771613, 0.9850028735767355, 0.0036891493392387097, 0.375291826609466, 0.2870021745944069, 0.13596119965955378, 0.05861654582817972, 0.1432578651153438, 1.0003114872617294, 1.0000442470175084, 0.0019882297289642854, 0.9921266347531784, 0.005964689186892857, 0.011725956090071975, 0.979954901813158, 0.007538114629331984, 0.8758435842693107, 0.059079852346399966, 0.01279048349767422, 0.004263494499224739, 0.04811658077696492, 0.015492045172699004, 0.06652466456511925, 0.909474181314918, 0.008201670973781825, 0.9998142245881549, 0.001592749701663068, 0.9986540629427437, 0.6154195102433206, 0.17077253007270568, 0.1254459893805109, 0.058094580323798946, 0.03032409412505989, 0.5849607626339711, 0.39968252316570346, 0.0060996951265273325, 0.006404679882853699, 0.0030498475632636662, 0.249968835881945, 0.362699879514979, 0.2167248986291032, 0.10314144634856043, 0.06755338531506953, 1.0018411248883707, 0.00210857974719322, 0.20558652535133895, 0.7875545355766677, 0.0052714493679830495, 0.9990095319909217, 1.0017835555679562, 1.0007501127782659, 0.9976314284029946, 0.9987547521283632, 0.09494706547336872, 0.9054152163540441, 0.005836255108217012, 0.9664838459207372, 0.02801402451944166, 0.9989354333955512, 0.4307022080629893, 0.5540824039098544, 0.014294047079819733, 0.0003761591336794666, 0.0003761591336794666, 0.6414379118118777, 0.005800236436596766, 0.34767299581718264, 0.005117855679350088, 0.03177524166974494, 0.6884635695111404, 0.1862901423383086, 0.09345659314630865, 0.9988346805604099, 0.0012070509734869003, 0.9870514697578315, 0.012736147996875247, 0.9999738997170181, 0.9998120724948084, 0.9994688556728105, 0.9990505388305672, 1.000209474272222, 0.01392970252957832, 0.7693731048313607, 0.21639630906414692, 0.00032394657045530976, 0.0010142697192616812, 0.0020285394385233624, 0.0030428091577850438, 0.9939843248764476, 0.9995907925259543, 0.0030305037494795994, 0.9970357335787883, 1.0009600638685978, 1.0008271750036246, 0.552455189523764, 0.36254236397529305, 0.06384649595526753, 0.0008133311586658285, 0.02033327896664571, 0.0017278914604065346, 0.04060544931955356, 0.00950340303223594, 0.9477484660329842, 0.007656807908501782, 0.9928327588023977, 0.4013460706743144, 0.3744912968277242, 0.1555216023862968, 0.03600310339872526, 0.032756921944741835, 0.9978247223674377, 0.2468454529688546, 0.14585157086114048, 0.3885957494296818, 0.2176238728666226, 0.0010253186000783161, 1.0007837424700037, 0.04063172788487654, 0.9592620974559983, 0.999943281179024, 0.9997795861810479, 0.9204683271033578, 0.0005807371148917083, 0.03223090987648981, 0.030488698531814688, 0.016260639216967833, 0.05676359361556343, 0.0016021982068909033, 0.938659263779942, 0.002746625497527263, 0.985402675703495, 0.014010464583462015, 0.9988806599887166, 0.006142770536121496, 0.0973014852921645, 0.7771833282300916, 0.040296574716957016, 0.07936459532668973, 0.0028043473083983568, 0.9983476417898149, 0.9990008019678022], \"Term\": [\"accident\", \"accuse\", \"ai\", \"ai\", \"allegation\", \"also\", \"also\", \"also\", \"also\", \"also\", \"analysis\", \"answer\", \"anyone_else\", \"asset\", \"autopilot\", \"average\", \"average\", \"average\", \"average\", \"away\", \"away\", \"away\", \"back\", \"back\", \"back\", \"back\", \"bank\", \"battery\", \"battery\", \"battery\", \"believe\", \"believe\", \"believe\", \"best\", \"best\", \"best\", \"best\", \"best\", \"bet\", \"bet\", \"bet\", \"bet\", \"bet\", \"big\", \"big\", \"big\", \"big\", \"big\", \"billionaire\", \"billionaire\", \"bitcoin\", \"bitcoin\", \"board\", \"btc\", \"build\", \"build\", \"build\", \"build\", \"business\", \"business\", \"business\", \"business\", \"business\", \"business_insider\", \"buy\", \"buy\", \"buy\", \"buy\", \"buying\", \"c\", \"california_united\", \"car\", \"car\", \"car\", \"car\", \"car\", \"care\", \"care\", \"case\", \"case\", \"case\", \"case\", \"case\", \"cash\", \"ceo\", \"ceo\", \"ceo\", \"change\", \"change\", \"change\", \"change\", \"change\", \"charge\", \"charge\", \"check\", \"check\", \"child\", \"china\", \"claim\", \"claim\", \"climate_change\", \"climate_change\", \"collapse\", \"collateral\", \"come\", \"come\", \"come\", \"come\", \"come\", \"company\", \"company\", \"company\", \"company\", \"competition\", \"competition\", \"conservative\", \"crash\", \"crash\", \"criticism\", \"cut\", \"cut\", \"cuz\", \"cybertruck\", \"dangerous\", \"data\", \"date\", \"day\", \"day\", \"day\", \"day\", \"day\", \"deal\", \"debt\", \"defend\", \"delivery\", \"demand\", \"demand\", \"democrat\", \"democrat\", \"democrat\", \"design\", \"design\", \"design\", \"design\", \"diesel\", \"dip\", \"doc\", \"door\", \"drive\", \"drive\", \"drive\", \"drive\", \"driver\", \"driver\", \"driver\", \"driver\", \"drop\", \"drop\", \"earnings\", \"electric\", \"electric\", \"electric\", \"electric\", \"electric\", \"electric_car\", \"electric_car\", \"electric_car\", \"electric_car\", \"electric_car\", \"electric_vehicles\", \"electric_vehicles\", \"electric_vehicles\", \"electricity\", \"elon\", \"elon\", \"elon\", \"elon\", \"elon_musk\", \"elon_musk\", \"elon_musk\", \"elonmusk\", \"elonmusk\", \"emergency\", \"emission\", \"end\", \"end\", \"end\", \"end\", \"end\", \"enter\", \"environmental\", \"escape\", \"esg\", \"esg_index\", \"ev\", \"even\", \"even\", \"even\", \"even\", \"even\", \"event\", \"event\", \"everyone\", \"everyone\", \"everyone\", \"evs\", \"evs\", \"excuse\", \"exxon\", \"fail\", \"fail\", \"fail\", \"fall\", \"family\", \"fill\", \"finance\", \"find\", \"find\", \"fire\", \"fire\", \"fire\", \"fire\", \"first\", \"first\", \"first_player\", \"first_time\", \"focus\", \"ford\", \"fossil_fuel\", \"free\", \"free\", \"friday\", \"fsd\", \"fsd\", \"fsd_beta\", \"fuck\", \"fuck\", \"fuck\", \"fuel\", \"full_self\", \"gas\", \"genius\", \"genius\", \"get\", \"get\", \"get\", \"get\", \"get\", \"give\", \"give\", \"give\", \"give\", \"give\", \"gm\", \"go\", \"go\", \"go\", \"go\", \"go\", \"goal\", \"god\", \"good\", \"good\", \"good\", \"good\", \"good\", \"green\", \"green\", \"gt\", \"guy\", \"guy\", \"guy\", \"guy\", \"hat\", \"hate\", \"hate\", \"heard\", \"help\", \"help\", \"help\", \"help\", \"help\", \"hide\", \"high\", \"high\", \"high\", \"high\", \"high\", \"hold\", \"hold\", \"hold\", \"horse\", \"hot\", \"hour\", \"hour\", \"important\", \"important\", \"improve\", \"include\", \"include\", \"index\", \"investigate\", \"investigation\", \"investor\", \"investor\", \"involve\", \"issue\", \"issue\", \"issue\", \"join\", \"kick\", \"kid\", \"kid\", \"kid\", \"kill\", \"kill\", \"know\", \"know\", \"know\", \"know\", \"know\", \"lawyer\", \"lead\", \"lead\", \"lead\", \"lead\", \"lead\", \"leave\", \"leave\", \"leave\", \"leave\", \"libs\", \"life\", \"life\", \"life\", \"life\", \"link\", \"list\", \"literally\", \"literally\", \"literally\", \"literally\", \"lithium\", \"live\", \"live\", \"live\", \"loan\", \"lock\", \"lol\", \"lol\", \"look\", \"look\", \"look\", \"look\", \"look\", \"lose\", \"lose\", \"lose\", \"loss\", \"love\", \"love\", \"love\", \"love\", \"maga\", \"maga\", \"make\", \"make\", \"make\", \"make\", \"make\", \"man\", \"man\", \"man\", \"manipulate\", \"manual\", \"manufacturer\", \"manufacturer\", \"many\", \"many\", \"many\", \"many\", \"many\", \"mar\", \"market\", \"market\", \"market\", \"market\", \"meet\", \"men\", \"mine\", \"mine\", \"model\", \"model\", \"model\", \"model_dual\", \"model_standard\", \"money\", \"money\", \"money\", \"motor\", \"mr\", \"much\", \"much\", \"much\", \"much\", \"much\", \"musk\", \"musk\", \"musk\", \"musk\", \"need\", \"need\", \"need\", \"need\", \"need\", \"net_worth\", \"never\", \"never\", \"never\", \"never\", \"never\", \"new\", \"new\", \"new\", \"new\", \"news\", \"next\", \"next\", \"next\", \"nikola\", \"nikola\", \"obvious\", \"okay\", \"open\", \"order\", \"overvalue\", \"panel\", \"party\", \"pay\", \"pay\", \"pay\", \"paypal\", \"people\", \"people\", \"people\", \"people\", \"person\", \"please\", \"plummet\", \"political_views\", \"post\", \"post\", \"post\", \"power\", \"power\", \"power\", \"president\", \"press\", \"price\", \"problem\", \"problem\", \"problem\", \"purchase\", \"push\", \"push\", \"push\", \"push\", \"push\", \"put\", \"put\", \"put\", \"put\", \"put\", \"quality\", \"range\", \"read\", \"read\", \"read\", \"read\", \"read\", \"real\", \"real\", \"real\", \"real\", \"real\", \"really\", \"really\", \"really\", \"recall\", \"recession\", \"record\", \"remove\", \"report\", \"report\", \"rid\", \"right\", \"right\", \"right\", \"right\", \"right\", \"rip\", \"rise\", \"rocket\", \"roof\", \"run\", \"run\", \"run\", \"run\", \"run\", \"safe\", \"safe\", \"safe\", \"safety\", \"safety\", \"save\", \"save\", \"saw\", \"saw\", \"say\", \"say\", \"say\", \"say\", \"say\", \"scam\", \"secret\", \"see\", \"see\", \"see\", \"see\", \"see\", \"self_driving\", \"sell\", \"sell\", \"semi\", \"sexual_harassment\", \"share\", \"share\", \"share_price\", \"shareholder\", \"ship\", \"short\", \"short\", \"show\", \"show\", \"show\", \"show\", \"show\", \"situation\", \"software\", \"software\", \"solar\", \"solar\", \"sometimes\", \"sort\", \"source\", \"spacex\", \"spacex\", \"spacex\", \"spacex\", \"spot\", \"st_may\", \"stance\", \"state\", \"state\", \"state\", \"states_teslaradar\", \"stock\", \"stop\", \"stop\", \"stop\", \"stop\", \"story\", \"story\", \"story\", \"story\", \"story\", \"subsidy\", \"success\", \"supply\", \"system\", \"system\", \"system\", \"take\", \"take\", \"take\", \"take\", \"take\", \"tank\", \"target\", \"team\", \"team\", \"team\", \"technology\", \"technology\", \"technology\", \"tell\", \"tell\", \"tell\", \"tell\", \"tell\", \"tesla\", \"tesla\", \"tesla\", \"tesla\", \"teslaradar\", \"texas\", \"texas\", \"thing\", \"thing\", \"thing\", \"thing\", \"thing\", \"think\", \"think\", \"think\", \"think\", \"think\", \"time\", \"time\", \"time\", \"time\", \"time\", \"token\", \"top\", \"top\", \"top\", \"top\", \"toyota\", \"track\", \"trap\", \"trip\", \"troll\", \"truck\", \"truck\", \"trump\", \"trump\", \"trump\", \"truth\", \"try\", \"try\", \"try\", \"try\", \"try\", \"tsla\", \"tsla\", \"tsla\", \"tsla\", \"tweet\", \"tweet\", \"tweet\", \"tweet\", \"twitter\", \"twitter\", \"twitter_deal\", \"twitter_deal\", \"unitedstates_model\", \"unitedstates_modely\", \"ur\", \"valuation\", \"value\", \"vehicle\", \"vehicle\", \"vehicle\", \"vehicle\", \"video\", \"video\", \"video\", \"video\", \"vision\", \"vote\", \"vote\", \"vote_republican\", \"vw\", \"want\", \"want\", \"want\", \"want\", \"want\", \"watch\", \"watch\", \"watch\", \"watch\", \"water\", \"water\", \"way\", \"way\", \"way\", \"way\", \"way\", \"wealth\", \"well\", \"well\", \"well\", \"well\", \"well\", \"wife\", \"win\", \"win\", \"window\", \"woman\", \"work\", \"work\", \"work\", \"work\", \"work\", \"world\", \"world\", \"world\", \"world\", \"worth\", \"worth\", \"wow\", \"year\", \"year\", \"year\", \"year\", \"year\", \"yesterday\", \"yesterday\", \"youtube\"]}, \"R\": 30, \"lambda.step\": 0.01, \"plot.opts\": {\"xlab\": \"PC1\", \"ylab\": \"PC2\"}, \"topic.order\": [5, 2, 4, 3, 1]};\n",
       "\n",
       "function LDAvis_load_lib(url, callback){\n",
       "  var s = document.createElement('script');\n",
       "  s.src = url;\n",
       "  s.async = true;\n",
       "  s.onreadystatechange = s.onload = callback;\n",
       "  s.onerror = function(){console.warn(\"failed to load library \" + url);};\n",
       "  document.getElementsByTagName(\"head\")[0].appendChild(s);\n",
       "}\n",
       "\n",
       "if(typeof(LDAvis) !== \"undefined\"){\n",
       "   // already loaded: just create the visualization\n",
       "   !function(LDAvis){\n",
       "       new LDAvis(\"#\" + \"ldavis_el6107181660946885768667006\", ldavis_el6107181660946885768667006_data);\n",
       "   }(LDAvis);\n",
       "}else if(typeof define === \"function\" && define.amd){\n",
       "   // require.js is available: use it to load d3/LDAvis\n",
       "   require.config({paths: {d3: \"https://d3js.org/d3.v5\"}});\n",
       "   require([\"d3\"], function(d3){\n",
       "      window.d3 = d3;\n",
       "      LDAvis_load_lib(\"https://cdn.jsdelivr.net/gh/bmabey/pyLDAvis@3.3.1/pyLDAvis/js/ldavis.v3.0.0.js\", function(){\n",
       "        new LDAvis(\"#\" + \"ldavis_el6107181660946885768667006\", ldavis_el6107181660946885768667006_data);\n",
       "      });\n",
       "    });\n",
       "}else{\n",
       "    // require.js not available: dynamically load d3 & LDAvis\n",
       "    LDAvis_load_lib(\"https://d3js.org/d3.v5.js\", function(){\n",
       "         LDAvis_load_lib(\"https://cdn.jsdelivr.net/gh/bmabey/pyLDAvis@3.3.1/pyLDAvis/js/ldavis.v3.0.0.js\", function(){\n",
       "                 new LDAvis(\"#\" + \"ldavis_el6107181660946885768667006\", ldavis_el6107181660946885768667006_data);\n",
       "            })\n",
       "         });\n",
       "}\n",
       "</script>"
      ],
      "text/plain": [
       "PreparedData(topic_coordinates=              x         y  topics  cluster       Freq\n",
       "topic                                                \n",
       "4      0.148910 -0.129684       1        1  24.959696\n",
       "1      0.140766 -0.166706       2        1  23.052264\n",
       "3      0.123819  0.173260       3        1  18.858591\n",
       "2     -0.078624  0.244130       4        1  17.688322\n",
       "0     -0.334872 -0.120999       5        1  15.441127, topic_info=         Term          Freq         Total Category  logprob  loglift\n",
       "117     stock  12724.000000  12724.000000  Default  30.0000  30.0000\n",
       "110       buy  11396.000000  11396.000000  Default  29.0000  29.0000\n",
       "209       say   7443.000000   7443.000000  Default  28.0000  28.0000\n",
       "237   company   7219.000000   7219.000000  Default  27.0000  27.0000\n",
       "122       car   7823.000000   7823.000000  Default  26.0000  26.0000\n",
       "...       ...           ...           ...      ...      ...      ...\n",
       "1632      end    672.918959   1146.345497   Topic5  -5.5246   1.3354\n",
       "148      come    985.143123   3450.960598   Topic5  -5.1435   0.6145\n",
       "123      elon   1186.284687   6031.224919   Topic5  -4.9577   0.2420\n",
       "840       put    638.668605   2060.693975   Topic5  -5.5769   0.6967\n",
       "139      need    670.919818   4168.758895   Topic5  -5.5276   0.0414\n",
       "\n",
       "[374 rows x 6 columns], token_table=      Topic      Freq        Term\n",
       "term                             \n",
       "1483      4  0.999574    accident\n",
       "3802      5  1.000918      accuse\n",
       "1772      4  0.929426          ai\n",
       "1772      5  0.070145          ai\n",
       "219       4  0.997445  allegation\n",
       "...     ...       ...         ...\n",
       "295       4  0.040297        year\n",
       "295       5  0.079365        year\n",
       "1056      2  0.002804   yesterday\n",
       "1056      5  0.998348   yesterday\n",
       "3501      5  0.999001     youtube\n",
       "\n",
       "[720 rows x 3 columns], R=30, lambda_step=0.01, plot_opts={'xlab': 'PC1', 'ylab': 'PC2'}, topic_order=[5, 2, 4, 3, 1])"
      ]
     },
     "execution_count": 177,
     "metadata": {},
     "output_type": "execute_result"
    }
   ],
   "source": [
    "pyLDAvis.enable_notebook()\n",
    "gensimvis.prepare(newer_model, corpus, id2word)"
   ]
  },
  {
   "cell_type": "code",
   "execution_count": null,
   "id": "1d79105c",
   "metadata": {},
   "outputs": [],
   "source": []
  },
  {
   "cell_type": "code",
   "execution_count": null,
   "id": "72255048",
   "metadata": {},
   "outputs": [],
   "source": []
  },
  {
   "cell_type": "code",
   "execution_count": null,
   "id": "8c792bf4",
   "metadata": {},
   "outputs": [],
   "source": []
  },
  {
   "cell_type": "markdown",
   "id": "e894cb15",
   "metadata": {},
   "source": [
    "# ============================================================================="
   ]
  },
  {
   "cell_type": "markdown",
   "id": "a310a5b3",
   "metadata": {},
   "source": [
    "# Below, will be trying to reduce size of corpus to increase model coherence"
   ]
  },
  {
   "cell_type": "code",
   "execution_count": null,
   "id": "ff2bb17e",
   "metadata": {
    "scrolled": true
   },
   "outputs": [],
   "source": [
    "len(lem_noNone)"
   ]
  },
  {
   "cell_type": "code",
   "execution_count": null,
   "id": "c415d4a8",
   "metadata": {},
   "outputs": [],
   "source": [
    "longer_tweets = [(tweet) for (i, tweet) in enumerate(lem_noNone) if i not in counter]\n",
    "len(longer_tweets)"
   ]
  },
  {
   "cell_type": "code",
   "execution_count": null,
   "id": "56239668",
   "metadata": {},
   "outputs": [],
   "source": [
    "new_id2word = corpora.Dictionary(longer_tweets)\n",
    "print(len(new_id2word)) "
   ]
  },
  {
   "cell_type": "code",
   "execution_count": null,
   "id": "a2bdc8ef",
   "metadata": {},
   "outputs": [],
   "source": [
    "new_id2word.filter_extremes(no_below=9, no_above=.90)\n",
    "print(len(new_id2word))"
   ]
  },
  {
   "cell_type": "code",
   "execution_count": null,
   "id": "30e3a135",
   "metadata": {},
   "outputs": [],
   "source": [
    "new_corpus = [new_id2word.doc2bow(d) for d in longer_tweets]"
   ]
  },
  {
   "cell_type": "code",
   "execution_count": null,
   "id": "58f532e4",
   "metadata": {},
   "outputs": [],
   "source": [
    "# Instantiating a Base LDA model\n",
    "newer_model = LdaMulticore(corpus=new_corpus,\n",
    "                          num_topics=5,\n",
    "                          id2word=new_id2word,\n",
    "                          workers=6,\n",
    "                          passes=8,\n",
    "                          alpha = 0.91 , \n",
    "                          eta = 0.61,\n",
    "                          chunksize=1500,\n",
    "                          random_state = 100)\n",
    "newer_words = [re.findall(r'\"([^\"]*)\"',t[1]) for t in newer_model.print_topics()]\n",
    "newer_topics = [' '.join(t[0:10]) for t in newer_words]\n",
    "\n",
    "for id, t in enumerate(newer_topics): \n",
    "    print(f\"------ Topic {id + 1} ------\")\n",
    "    print(t, end=\"\\n\\n\")"
   ]
  },
  {
   "cell_type": "code",
   "execution_count": null,
   "id": "a3c35d6c",
   "metadata": {},
   "outputs": [],
   "source": [
    "newer_perplexity = newer_model.log_perplexity(new_corpus)\n",
    "\n",
    "# Compute Coherence Score\n",
    "newer_coherence_model = CoherenceModel(model= newer_model, texts=longer_tweets, \n",
    "                                   dictionary=new_id2word, coherence='c_v')\n",
    "\n",
    "new_coherence_lda_model_base = newer_coherence_model.get_coherence()\n",
    "print('\\nCoherence Score: ', new_coherence_lda_model_base, '\\nPerplexity: ', newer_perplexity)"
   ]
  },
  {
   "cell_type": "code",
   "execution_count": null,
   "id": "da98ae39",
   "metadata": {},
   "outputs": [],
   "source": [
    "pyLDAvis.enable_notebook()\n",
    "gensimvis.prepare(newer_model, new_corpus, new_id2word)"
   ]
  },
  {
   "cell_type": "markdown",
   "id": "d3c34ce6",
   "metadata": {},
   "source": [
    "# ============================================================================="
   ]
  },
  {
   "cell_type": "markdown",
   "id": "f49c2924",
   "metadata": {},
   "source": [
    "# Below --- SENTIMENT Need to link tweets to topics, and calculate sentiment by topic"
   ]
  },
  {
   "cell_type": "code",
   "execution_count": 60,
   "id": "12942cd8",
   "metadata": {},
   "outputs": [
    {
     "name": "stdout",
     "output_type": "stream",
     "text": [
      "['want', 'ev', 'table', 'musk', 'show', 'world', 'year', 'old'] \n",
      " (126509, 'want ev table musk show world year old') \n",
      " i want an ev but tesla is off the table for me  musk is showing the world that he's a ten year old inside\n"
     ]
    }
   ],
   "source": [
    "# first two indexed 0 - 92855\n",
    "print(df_topic_sents_keywords[0].iloc[92855],\n",
    "      '\\n', lem_noShort_noNone[92855],\n",
    "      '\\n', full['preprep'][126509] )\n",
    "# These are all the same tweet"
   ]
  },
  {
   "cell_type": "code",
   "execution_count": 65,
   "id": "4d34f0fb",
   "metadata": {},
   "outputs": [
    {
     "data": {
      "text/plain": [
       "67647"
      ]
     },
     "execution_count": 65,
     "metadata": {},
     "output_type": "execute_result"
    }
   ],
   "source": [
    "lem_noShort_noNone[52244][0]\n"
   ]
  },
  {
   "cell_type": "code",
   "execution_count": 58,
   "id": "3b5f6d43",
   "metadata": {},
   "outputs": [
    {
     "data": {
      "text/plain": [
       "\"i want an ev but tesla is off the table for me  musk is showing the world that he's a ten year old inside\""
      ]
     },
     "execution_count": 58,
     "metadata": {},
     "output_type": "execute_result"
    }
   ],
   "source": [
    "full['preprep'][126509]"
   ]
  },
  {
   "cell_type": "code",
   "execution_count": null,
   "id": "a71cc1f7",
   "metadata": {},
   "outputs": [],
   "source": [
    "\"\"\"\n",
    "cleaned to index = lem_noSHort_noNone\n",
    "original = full['preprep']\n",
    "\"\"\""
   ]
  },
  {
   "cell_type": "code",
   "execution_count": null,
   "id": "c897f5dd",
   "metadata": {},
   "outputs": [],
   "source": []
  },
  {
   "cell_type": "code",
   "execution_count": null,
   "id": "200f867b",
   "metadata": {},
   "outputs": [],
   "source": []
  },
  {
   "cell_type": "code",
   "execution_count": null,
   "id": "751393dd",
   "metadata": {},
   "outputs": [],
   "source": []
  },
  {
   "cell_type": "code",
   "execution_count": 102,
   "id": "228860e7",
   "metadata": {},
   "outputs": [
    {
     "data": {
      "text/plain": [
       "\"@testcranker @ITGuy1959 My solar is 100% off grid. It runs the computers, radios and fridge. My entire yard isn't big enough to recharge a Tesla.\""
      ]
     },
     "execution_count": 102,
     "metadata": {},
     "output_type": "execute_result"
    }
   ],
   "source": [
    "df_sent.Original_tweet.iloc[0]"
   ]
  },
  {
   "cell_type": "code",
   "execution_count": 100,
   "id": "89ae218b",
   "metadata": {},
   "outputs": [],
   "source": []
  },
  {
   "cell_type": "code",
   "execution_count": null,
   "id": "382a1bad",
   "metadata": {},
   "outputs": [],
   "source": []
  },
  {
   "cell_type": "code",
   "execution_count": null,
   "id": "781cbc82",
   "metadata": {},
   "outputs": [],
   "source": [
    "\"\"\"\n",
    "Note above, \n",
    "the original dataframe is indexed from 0, as in it is in the same form as an enumerated list\n",
    "we created a function earlier to find all of the missing index values somewhere around creating lem_noNone\n",
    "\n",
    "this function can be used to set proper indexs on the new lists past the funnkiness somehow... easier said than done \n",
    "\"\"\""
   ]
  },
  {
   "cell_type": "markdown",
   "id": "0749ef14",
   "metadata": {},
   "source": [
    "# Below - Create count vectorizer word cloud for 'EDA' -- Code is in FSM"
   ]
  },
  {
   "cell_type": "code",
   "execution_count": 61,
   "id": "ca55d3ed",
   "metadata": {},
   "outputs": [
    {
     "ename": "NameError",
     "evalue": "name 'df_grouped' is not defined",
     "output_type": "error",
     "traceback": [
      "\u001b[0;31m---------------------------------------------------------------------------\u001b[0m",
      "\u001b[0;31mNameError\u001b[0m                                 Traceback (most recent call last)",
      "Input \u001b[0;32mIn [61]\u001b[0m, in \u001b[0;36m<cell line: 4>\u001b[0;34m()\u001b[0m\n\u001b[1;32m      2\u001b[0m data\u001b[38;5;241m=\u001b[39mcv\u001b[38;5;241m.\u001b[39mfit_transform(full[\u001b[38;5;124m'\u001b[39m\u001b[38;5;124mpreprep\u001b[39m\u001b[38;5;124m'\u001b[39m])\n\u001b[1;32m      3\u001b[0m df_dtm \u001b[38;5;241m=\u001b[39m pd\u001b[38;5;241m.\u001b[39mDataFrame(data\u001b[38;5;241m.\u001b[39mtoarray(), columns\u001b[38;5;241m=\u001b[39mcv\u001b[38;5;241m.\u001b[39mget_feature_names())\n\u001b[0;32m----> 4\u001b[0m df_dtm\u001b[38;5;241m.\u001b[39mindex\u001b[38;5;241m=\u001b[39m\u001b[43mdf_grouped\u001b[49m\u001b[38;5;241m.\u001b[39mindex\n\u001b[1;32m      5\u001b[0m df_dtm\u001b[38;5;241m.\u001b[39mhead(\u001b[38;5;241m3\u001b[39m)\n",
      "\u001b[0;31mNameError\u001b[0m: name 'df_grouped' is not defined"
     ]
    }
   ],
   "source": [
    "cv=CountVectorizer(analyzer='word')\n",
    "data=cv.fit_transform(full['preprep'])\n",
    "df_dtm = pd.DataFrame(data.toarray(), columns=cv.get_feature_names())\n",
    "df_dtm.index=df_grouped.index\n",
    "df_dtm.head(3)"
   ]
  },
  {
   "cell_type": "code",
   "execution_count": null,
   "id": "45b06914",
   "metadata": {},
   "outputs": [],
   "source": []
  },
  {
   "cell_type": "code",
   "execution_count": null,
   "id": "514e0892",
   "metadata": {},
   "outputs": [],
   "source": []
  },
  {
   "cell_type": "code",
   "execution_count": null,
   "id": "9c387738",
   "metadata": {},
   "outputs": [],
   "source": []
  },
  {
   "cell_type": "code",
   "execution_count": null,
   "id": "86f3a6eb",
   "metadata": {},
   "outputs": [],
   "source": []
  },
  {
   "cell_type": "code",
   "execution_count": null,
   "id": "b878d17b",
   "metadata": {},
   "outputs": [],
   "source": []
  },
  {
   "cell_type": "code",
   "execution_count": null,
   "id": "51e32fba",
   "metadata": {},
   "outputs": [],
   "source": []
  },
  {
   "cell_type": "markdown",
   "id": "680435b0",
   "metadata": {},
   "source": [
    "# ========================================================================================================================================================================================================================================================================================================================================================================"
   ]
  },
  {
   "cell_type": "markdown",
   "id": "2dfa4e9f",
   "metadata": {},
   "source": [
    "# SCRAP"
   ]
  },
  {
   "cell_type": "markdown",
   "id": "1ec46126",
   "metadata": {},
   "source": [
    "# ========================================================================================================================================================================================================================================================================================================================================================================"
   ]
  },
  {
   "cell_type": "markdown",
   "id": "3a04b1fb",
   "metadata": {},
   "source": [
    "## Attempting to get the top documents per topic "
   ]
  },
  {
   "cell_type": "code",
   "execution_count": null,
   "id": "899f616c",
   "metadata": {},
   "outputs": [],
   "source": [
    "def format_topics_sentences(ldamodel=None, corpus=corpus, texts=data):\n",
    "    # Init output\n",
    "    sent_topics_df = pd.DataFrame()\n",
    "\n",
    "    # Get main topic in each document\n",
    "    for i, row_list in enumerate(ldamodel[corpus]):\n",
    "        row = row_list[0] if ldamodel.per_word_topics else row_list            \n",
    "        # print(row)\n",
    "        row = sorted(row, key=lambda x: (x[1]), reverse=True)\n",
    "        # Get the Dominant topic, Perc Contribution and Keywords for each document\n",
    "        for j, (topic_num, prop_topic) in enumerate(row):\n",
    "            if j == 0:  # => dominant topic\n",
    "                wp = ldamodel.show_topic(topic_num)\n",
    "                topic_keywords = \", \".join([word for word, prop in wp])\n",
    "                sent_topics_df = sent_topics_df.append(pd.Series([int(topic_num), round(prop_topic,4), topic_keywords]), ignore_index=True)\n",
    "            else:\n",
    "                break\n",
    "    sent_topics_df.columns = ['Dominant_Topic', 'Perc_Contribution', 'Topic_Keywords']\n",
    "\n",
    "    # Add original text to the end of the output\n",
    "    contents = pd.Series(texts)\n",
    "    sent_topics_df = pd.concat([sent_topics_df, contents], axis=1)\n",
    "    return(sent_topics_df)\n"
   ]
  },
  {
   "cell_type": "code",
   "execution_count": null,
   "id": "c281666e",
   "metadata": {},
   "outputs": [],
   "source": [
    "df_topic_sents_keywords = format_topics_sentences(ldamodel=newer_model, corpus=new_corpus, texts=longer_tweets)\n",
    "df_topic_sents_keywords"
   ]
  },
  {
   "cell_type": "code",
   "execution_count": null,
   "id": "8804dd48",
   "metadata": {},
   "outputs": [],
   "source": [
    "df_topic_sents_keywords.Dominant_Topic.value_counts()"
   ]
  },
  {
   "cell_type": "code",
   "execution_count": null,
   "id": "d6a3956d",
   "metadata": {},
   "outputs": [],
   "source": []
  },
  {
   "cell_type": "code",
   "execution_count": null,
   "id": "f8cfa60f",
   "metadata": {},
   "outputs": [],
   "source": [
    "df_topic_sents_keywords.Topic_Keywords.value_counts()"
   ]
  },
  {
   "cell_type": "code",
   "execution_count": null,
   "id": "f296d2a9",
   "metadata": {},
   "outputs": [],
   "source": [
    "sent_topics_sorteddf_mallet = pd.DataFrame()\n",
    "sent_topics_outdf_grpd = df_topic_sents_keywords.groupby('Dominant_Topic')\n",
    "\n",
    "for i, grp in sent_topics_outdf_grpd:\n",
    "    sent_topics_sorteddf_mallet = pd.concat([sent_topics_sorteddf_mallet, \n",
    "                                             grp.sort_values(['Perc_Contribution'], ascending=False).head(1)], \n",
    "                                            axis=0)\n",
    "# Reset Index    \n",
    "sent_topics_sorteddf_mallet.reset_index(drop=True, inplace=True)\n",
    "# Format\n",
    "sent_topics_sorteddf_mallet.columns = ['Topic_Num', \"Topic_Perc_Contrib\", \"Keywords\", \"Representative Text\"]\n",
    "\n",
    "sent_topics_sorteddf_mallet.head(10)"
   ]
  },
  {
   "cell_type": "code",
   "execution_count": null,
   "id": "05dd932d",
   "metadata": {},
   "outputs": [],
   "source": [
    "sent_topics_sorteddf_mallet.iloc[2]['Keywords']"
   ]
  },
  {
   "cell_type": "code",
   "execution_count": null,
   "id": "53bc89a4",
   "metadata": {},
   "outputs": [],
   "source": [
    "# sent_topics_sorteddf_mallet.iloc[2]['Representative Text']"
   ]
  },
  {
   "cell_type": "code",
   "execution_count": null,
   "id": "bfd5962c",
   "metadata": {},
   "outputs": [],
   "source": [
    "# longer_tweets[:10]"
   ]
  },
  {
   "cell_type": "code",
   "execution_count": null,
   "id": "4aa3ed41",
   "metadata": {},
   "outputs": [],
   "source": [
    "df_topic_sents_keywords"
   ]
  },
  {
   "cell_type": "code",
   "execution_count": null,
   "id": "5b21d4c1",
   "metadata": {
    "scrolled": true
   },
   "outputs": [],
   "source": [
    "df_topic_sents_keywords[(df_topic_sents_keywords['Dominant_Topic'] == 4) & (df_topic_sents_keywords['Perc_Contribution'] >= 0.84)]"
   ]
  },
  {
   "cell_type": "code",
   "execution_count": null,
   "id": "a040efdb",
   "metadata": {},
   "outputs": [],
   "source": []
  },
  {
   "cell_type": "code",
   "execution_count": null,
   "id": "34df05eb",
   "metadata": {},
   "outputs": [],
   "source": [
    "len(ind)"
   ]
  },
  {
   "cell_type": "code",
   "execution_count": null,
   "id": "63ad36f2",
   "metadata": {},
   "outputs": [],
   "source": [
    "len(counter)"
   ]
  },
  {
   "cell_type": "code",
   "execution_count": null,
   "id": "aa8ad2e2",
   "metadata": {},
   "outputs": [],
   "source": [
    "sum_dropped = counter + ind\n",
    "len(sum_dropped)"
   ]
  },
  {
   "cell_type": "code",
   "execution_count": null,
   "id": "574a7403",
   "metadata": {},
   "outputs": [],
   "source": [
    "# full_tester = full.drop(full.index[ind])\n",
    "full_tester = full.drop(full.index[sum_dropped])\n",
    "full_tester.reset_index(inplace = True)"
   ]
  },
  {
   "cell_type": "code",
   "execution_count": null,
   "id": "0dc7785c",
   "metadata": {},
   "outputs": [],
   "source": [
    "full_tester"
   ]
  },
  {
   "cell_type": "code",
   "execution_count": null,
   "id": "aad78c85",
   "metadata": {},
   "outputs": [],
   "source": [
    "full_tester.tweets.iloc[104646]"
   ]
  },
  {
   "cell_type": "code",
   "execution_count": null,
   "id": "3fe74b21",
   "metadata": {},
   "outputs": [],
   "source": [
    "len(longer_tweets)"
   ]
  },
  {
   "cell_type": "code",
   "execution_count": null,
   "id": "d45201fd",
   "metadata": {},
   "outputs": [],
   "source": [
    "len(new_corpus)"
   ]
  },
  {
   "cell_type": "code",
   "execution_count": null,
   "id": "57d0fb66",
   "metadata": {},
   "outputs": [],
   "source": [
    "def find_common_strings(string_list, input_string):\n",
    "    common_strings = []\n",
    "    for s in string_list:\n",
    "        if set(s).intersection(set(input_string)) == set(s):\n",
    "            common_strings.append(s)\n",
    "    return common_strings"
   ]
  },
  {
   "cell_type": "code",
   "execution_count": null,
   "id": "450121f9",
   "metadata": {},
   "outputs": [],
   "source": [
    "def find_common_strings(string_list, input_string):\n",
    "    common_strings = []\n",
    "    for i, s in enumerate(string_list):\n",
    "        if set(s).intersection(set(input_string)) == set(s):\n",
    "            common_strings.append((i, s))\n",
    "            \n",
    "    pos_dic = {}\n",
    "    for i, string in common_strings:\n",
    "        string_split = string.split(' ')\n",
    "        input_split = input_string.split(' ')\n",
    "        common = []\n",
    "        for word in input_split:\n",
    "            if word in string_split:\n",
    "                common.append(word)\n",
    "        pos_dic[i] = common\n",
    "        \n",
    "    \n",
    "    \n",
    "    \n",
    "    return common_strings, pos_dic"
   ]
  },
  {
   "cell_type": "code",
   "execution_count": null,
   "id": "786087a0",
   "metadata": {},
   "outputs": [],
   "source": [
    "test_string = (' ').join(df_topic_sents_keywords[0].iloc[0])\n",
    "test_string"
   ]
  },
  {
   "cell_type": "code",
   "execution_count": null,
   "id": "ac85b1f6",
   "metadata": {},
   "outputs": [],
   "source": [
    "big_list, ind_dict = find_common_strings(full['preprep'], test_string)"
   ]
  },
  {
   "cell_type": "code",
   "execution_count": null,
   "id": "dd87501e",
   "metadata": {},
   "outputs": [],
   "source": [
    "print(len(ind_dict), len(big_list))"
   ]
  },
  {
   "cell_type": "code",
   "execution_count": null,
   "id": "e23ab52c",
   "metadata": {},
   "outputs": [],
   "source": [
    "potentials = []\n",
    "for key, value in ind_dict.items():\n",
    "    if value != []:\n",
    "        potentials.append(key)"
   ]
  },
  {
   "cell_type": "code",
   "execution_count": null,
   "id": "82864cb0",
   "metadata": {},
   "outputs": [],
   "source": [
    "for i in potentials:\n",
    "    print(full['preprep'].iloc[i])"
   ]
  },
  {
   "cell_type": "code",
   "execution_count": null,
   "id": "0311cc29",
   "metadata": {},
   "outputs": [],
   "source": []
  },
  {
   "cell_type": "code",
   "execution_count": null,
   "id": "8cad010f",
   "metadata": {},
   "outputs": [],
   "source": []
  },
  {
   "cell_type": "code",
   "execution_count": null,
   "id": "e9b58f30",
   "metadata": {},
   "outputs": [],
   "source": [
    "test_string[::-1].find(' ')"
   ]
  },
  {
   "cell_type": "code",
   "execution_count": null,
   "id": "1b2e895f",
   "metadata": {},
   "outputs": [],
   "source": [
    "for s in full['preprep']:\n",
    "    "
   ]
  },
  {
   "cell_type": "code",
   "execution_count": null,
   "id": "3fe2fedb",
   "metadata": {},
   "outputs": [],
   "source": [
    "# string_test = find_common_strings(lem_noNone,test_string )\n",
    "# string_test"
   ]
  },
  {
   "cell_type": "markdown",
   "id": "8d4f12c6",
   "metadata": {},
   "source": [
    "# ========================================================================================================================================================================================================================================================================================================================================================================"
   ]
  },
  {
   "cell_type": "markdown",
   "id": "b1e05d40",
   "metadata": {},
   "source": [
    "# SCRAP"
   ]
  },
  {
   "cell_type": "markdown",
   "id": "004b57fe",
   "metadata": {},
   "source": [
    "# ========================================================================================================================================================================================================================================================================================================================================================================"
   ]
  },
  {
   "cell_type": "code",
   "execution_count": null,
   "id": "f692ec43",
   "metadata": {},
   "outputs": [],
   "source": [
    "# Adding Sentiment\n",
    "sia = SentimentIntensityAnalyzer()\n",
    "comp_dic = {}\n",
    "for i, tweet in df_topic_sents_keywords[0].iteritems():\n",
    "    comp_dic[i] = sia.polarity_scores(tweet)['compound']\n",
    "\n",
    "comp_scores = pd.Series(comp_dic, name = 'sentiments')\n",
    "df_sent = df_topic_sents_keywords.merge(comp_scores, left_index = True, right_index = True)\n",
    "# df_sent = df_sent.set_index('Unnamed: 0')\n",
    "\n"
   ]
  },
  {
   "cell_type": "code",
   "execution_count": null,
   "id": "5fa5e729",
   "metadata": {},
   "outputs": [],
   "source": [
    "for i in range(len(doc_set)):\n",
    "    print(ldamodel[corpus[i]])"
   ]
  },
  {
   "cell_type": "code",
   "execution_count": null,
   "id": "ec277e1a",
   "metadata": {},
   "outputs": [],
   "source": [
    "# CODE WORKS --- JUST USE IT LATER \n",
    "\n",
    "# Adding Sentiment\n",
    "sia = SentimentIntensityAnalyzer()\n",
    "comp_dic = {}\n",
    "for i, tweet in full['tweets'].iteritems():\n",
    "    comp_dic[i] = sia.polarity_scores(tweet)['compound']\n",
    "\n",
    "comp_scores = pd.Series(comp_dic, name = 'sentiment')\n",
    "df_sent = full.merge(comp_scores, left_index = True, right_index = True)\n",
    "df = df_sent.set_index('Unnamed: 0')"
   ]
  },
  {
   "cell_type": "code",
   "execution_count": null,
   "id": "d5308d92",
   "metadata": {},
   "outputs": [],
   "source": [
    "vectorizer = CountVectorizer()\n",
    "data_vectorized = vectorizer.fit_transform(df.drop('tokens'))\n",
    "\n",
    "\n",
    "\n",
    "# CV Param\n",
    "search_params = {'n_components': [5, 10, 15, 20, 25, 30], 'learning_decay': [.5, .7, .9], 'batch_size':[128, 256]}\n",
    "\n",
    "# Init Model\n",
    "lda = LatentDirichletAllocation()\n",
    "\n",
    "# Init Grid Search Class\n",
    "model = GridSearchCV(lda, cv = 5, param_grid=search_params, n_jobs = -1)\n",
    "\n",
    "\n",
    "\n",
    "# Grid Search\n",
    "model.fit(data_vectorized)\n",
    "\n",
    "# Best Model\n",
    "best_lda_model = model.best_estimator_\n",
    "\n",
    "# Model Parameters\n",
    "print(\"Best Model's Params: \", model.best_params_)\n",
    "\n",
    "# Log Likelihood Score\n",
    "print(\"Best Log Likelihood Score: \", model.best_score_)\n",
    "\n",
    "# Perplexity\n",
    "print(\"Model Perplexity: \", best_lda_model.perplexity(data_vectorized))\n",
    "\n",
    "\n",
    "best_lda_model"
   ]
  },
  {
   "cell_type": "code",
   "execution_count": null,
   "id": "af47192f",
   "metadata": {},
   "outputs": [],
   "source": [
    "GridSearchCV(cv=None, error_score='raise',\n",
    "             estimator=LatentDirichletAllocation(batch_size=128, \n",
    "                                                 doc_topic_prior=None,\n",
    "                                                 evaluate_every=-1, \n",
    "                                                 learning_decay=0.7, \n",
    "                                                 learning_method=None,\n",
    "                                                 learning_offset=10.0, \n",
    "                                                 max_doc_update_iter=100, \n",
    "                                                 max_iter=10,\n",
    "                                                 mean_change_tol=0.001, \n",
    "                                                 n_components=10, \n",
    "                                                 n_jobs=1,\n",
    "                                                 perp_tol=0.1, \n",
    "                                                 random_state=None,\n",
    "                                                 topic_word_prior=None, \n",
    "                                                 total_samples=1000000.0, \n",
    "                                                 verbose=0),\n",
    "             n_jobs=-2,\n",
    "             param_grid={'n_topics': [10, 15, 20, 30], \n",
    "                         'learning_decay': [0.5, 0.7, 0.9]},\n",
    "             pre_dispatch='2*n_jobs', refit=True, return_train_score='warn',\n",
    "             scoring=None, verbose=0)"
   ]
  }
 ],
 "metadata": {
  "kernelspec": {
   "display_name": "broke-the-other",
   "language": "python",
   "name": "broke-the-other"
  },
  "language_info": {
   "codemirror_mode": {
    "name": "ipython",
    "version": 3
   },
   "file_extension": ".py",
   "mimetype": "text/x-python",
   "name": "python",
   "nbconvert_exporter": "python",
   "pygments_lexer": "ipython3",
   "version": "3.10.4"
  }
 },
 "nbformat": 4,
 "nbformat_minor": 5
}
