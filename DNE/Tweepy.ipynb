{
 "cells": [
  {
   "cell_type": "code",
   "execution_count": 132,
   "id": "65259fbd",
   "metadata": {},
   "outputs": [],
   "source": [
    "import tweepy\n",
    "import config\n",
    "import pandas as pd\n",
    "import json"
   ]
  },
  {
   "cell_type": "code",
   "execution_count": 133,
   "id": "a5b6204d",
   "metadata": {},
   "outputs": [],
   "source": [
    "api_key =  \"DzRAgwa8gKgqkYAwzKF53aSuK\"\n",
    "api_secret_key = \"IBUgXZK37PwrPl1DjN7ex04rv1d5c6D6eZvV0kpBhwcjbLqVNM\"\n",
    "bearer_token = \"AAAAAAAAAAAAAAAAAAAAAEEIbgEAAAAAyTV7SJs8LhZOf9SxOL%2FNUG709dA%3Dre300eF3AHwFNT3LrDI2HtVm9X08riGY1Y9yvRyM4iyvzuAvdX\"\n",
    "access_token = \"2849870992-AhGlOo7SGaVPhZ9r5807CZrYo3f8HAvrjrfse3Q\"\n",
    "access_token_secret = \"0o6Ju4lElIU1McOeL7jxfJNDx5JWVVgDPCaAAO9YOhe4N\""
   ]
  },
  {
   "cell_type": "code",
   "execution_count": 134,
   "id": "7aea4caf",
   "metadata": {},
   "outputs": [],
   "source": [
    "client = tweepy.Client(bearer_token = bearer_token)"
   ]
  },
  {
   "cell_type": "code",
   "execution_count": null,
   "id": "b04dbfc3",
   "metadata": {},
   "outputs": [],
   "source": [
    "\"\"\"\n",
    "Will want to create a function to automatically return a data frame from the tweepy reponses \n",
    "will be making a lot of queries and making a data frame is so much work\n",
    "\n",
    "\n",
    "\n",
    "\n",
    "\n",
    "\"\"\""
   ]
  },
  {
   "cell_type": "code",
   "execution_count": null,
   "id": "ca8949b4",
   "metadata": {},
   "outputs": [],
   "source": [
    "\"\"\"\n",
    "clients methods for accessing hidden data\n",
    "\n",
    ".include\n",
    ".data\n",
    ".meta\n",
    ".errors\n",
    "\n",
    "\n",
    "\n",
    "\n",
    "\"\"\""
   ]
  },
  {
   "cell_type": "code",
   "execution_count": null,
   "id": "836ead94",
   "metadata": {},
   "outputs": [],
   "source": [
    "\"\"\"\n",
    "TO DO \n",
    "\n",
    "expansions \n",
    "sns scrape \n",
    "\n",
    "\n",
    "\n",
    "def to_df function with places option \n",
    "\n",
    "\n",
    "\"\"\""
   ]
  },
  {
   "cell_type": "markdown",
   "id": "7b61bacd",
   "metadata": {},
   "source": [
    "# Below Code Works ======================="
   ]
  },
  {
   "cell_type": "code",
   "execution_count": null,
   "id": "185a0abd",
   "metadata": {},
   "outputs": [],
   "source": [
    "def to_series(response, df_name = None):\n",
    "    data = {}\n",
    "    for tweet in response.data:\n",
    "        data[tweet.id] = tweet.text\n",
    "    out_series = pd.Series(data, name = df_name)\n",
    "    return out_series"
   ]
  },
  {
   "cell_type": "code",
   "execution_count": 349,
   "id": "cc48141e",
   "metadata": {},
   "outputs": [],
   "source": [
    "query = \"Tesla batteries lang:en -is:retweet -@elonmusk\""
   ]
  },
  {
   "cell_type": "code",
   "execution_count": 350,
   "id": "6be63a02",
   "metadata": {},
   "outputs": [],
   "source": [
    "response = client.search_recent_tweets(query = query,\n",
    "                                      max_results = 10,\n",
    "                                      tweet_fields = ['created_at,lang'], \n",
    "                                      expansions = ['geo.place_id'])"
   ]
  },
  {
   "cell_type": "code",
   "execution_count": 351,
   "id": "b0673818",
   "metadata": {},
   "outputs": [
    {
     "name": "stdout",
     "output_type": "stream",
     "text": [
      "{}\n"
     ]
    }
   ],
   "source": [
    "print(response.includes)"
   ]
  },
  {
   "cell_type": "code",
   "execution_count": 352,
   "id": "f35675b2",
   "metadata": {},
   "outputs": [
    {
     "name": "stdout",
     "output_type": "stream",
     "text": [
      "testing\n"
     ]
    }
   ],
   "source": [
    "testing = to_series(response, 'testing')\n",
    "print(testing.name)"
   ]
  },
  {
   "cell_type": "code",
   "execution_count": 357,
   "id": "265025e2",
   "metadata": {},
   "outputs": [
    {
     "data": {
      "text/plain": [
       "'@APompliano I don’t know what is so great about Tesla . The batteries used to make the car are bad for the environment and cannot be recycled . They just sit in a landfill. Lithium mining is horrible for the environment.'"
      ]
     },
     "execution_count": 357,
     "metadata": {},
     "output_type": "execute_result"
    }
   ],
   "source": [
    "testing.iloc[1]"
   ]
  },
  {
   "cell_type": "markdown",
   "id": "7ca8bb2a",
   "metadata": {},
   "source": [
    "# Above Code Works ===================="
   ]
  },
  {
   "cell_type": "code",
   "execution_count": 365,
   "id": "16e377ec",
   "metadata": {},
   "outputs": [],
   "source": [
    "def in_dict_to_full_dict(response, in_data = {}, series_name = None):\n",
    "    data = {}\n",
    "    for tweet in response.data:\n",
    "        data[tweet.id] = tweet.text\n",
    "    full_data = in_data.update(data)\n",
    "    return full_data"
   ]
  },
  {
   "cell_type": "code",
   "execution_count": 358,
   "id": "266dc4ee",
   "metadata": {},
   "outputs": [],
   "source": [
    "query = \"Tesla batteries lang:en -is:retweet -@elonmusk\""
   ]
  },
  {
   "cell_type": "code",
   "execution_count": null,
   "id": "d5a825f5",
   "metadata": {},
   "outputs": [],
   "source": [
    "for t in range(5):\n",
    "    try:\n",
    "        response = client.search_recent_tweets(query = query,\n",
    "                                      max_results = 10,\n",
    "                                      tweet_fields = ['created_at,lang'], \n",
    "                                      expansions = ['geo.place_id'])\n",
    "        \n",
    "        first = in_dict_to_full_dict(response)\n",
    "        \n",
    "        full_series = in_dict_to_full_dict(response, first)\n",
    "        \n",
    "        \n",
    "    except:\n",
    "        time.sleep(10)"
   ]
  },
  {
   "cell_type": "code",
   "execution_count": 371,
   "id": "c05a2512",
   "metadata": {},
   "outputs": [],
   "source": [
    "def response_to_dict(response):\n",
    "    data = {}\n",
    "    for tweet in response.data:\n",
    "        data[tweet.id] = tweet.text\n",
    "    return data"
   ]
  },
  {
   "cell_type": "code",
   "execution_count": 432,
   "id": "735ab813",
   "metadata": {},
   "outputs": [],
   "source": [
    "query = \"Tesla lang:en -is:retweet -@elonmusk\""
   ]
  },
  {
   "cell_type": "code",
   "execution_count": 435,
   "id": "d06ed048",
   "metadata": {},
   "outputs": [],
   "source": [
    "dict_for_series = {}"
   ]
  },
  {
   "cell_type": "code",
   "execution_count": 437,
   "id": "b62cd7a8",
   "metadata": {},
   "outputs": [],
   "source": [
    "for t in range(5):\n",
    "    try:\n",
    "        response = client.search_recent_tweets(query = query,\n",
    "                                      max_results = 10,\n",
    "                                      tweet_fields = ['created_at,lang'], \n",
    "                                      expansions = ['geo.place_id'])\n",
    "        \n",
    "        tweet_list = [[tweet.id, tweet.text] for tweet in response.data]\n",
    "        \n",
    "        \n",
    "    except:\n",
    "        time.sleep(30)"
   ]
  },
  {
   "cell_type": "code",
   "execution_count": 450,
   "id": "79d2e1b7",
   "metadata": {},
   "outputs": [],
   "source": [
    "tweets = {}\n",
    "for tweet in tweepy.Paginator(client.search_recent_tweets, query = query, max_results = 100).flatten(limit = 10000):\n",
    "    tweets[tweet.id] = tweet.text"
   ]
  },
  {
   "cell_type": "code",
   "execution_count": 472,
   "id": "d0b12974",
   "metadata": {},
   "outputs": [],
   "source": [
    "len(tweets)"
   ]
  },
  {
   "cell_type": "code",
   "execution_count": 452,
   "id": "a8a93c95",
   "metadata": {},
   "outputs": [],
   "source": [
    "unique = []\n",
    "duplicates = []\n",
    "for each in tweets.keys():\n",
    "    if each not in unique:\n",
    "        unique.append(each)\n",
    "    elif each in unique:\n",
    "        duplicates.append(each)\n",
    "    "
   ]
  },
  {
   "cell_type": "code",
   "execution_count": 471,
   "id": "6043f6a4",
   "metadata": {},
   "outputs": [
    {
     "data": {
      "text/plain": [
       "0"
      ]
     },
     "execution_count": 471,
     "metadata": {},
     "output_type": "execute_result"
    }
   ],
   "source": [
    "len(duplicates)"
   ]
  },
  {
   "cell_type": "code",
   "execution_count": 456,
   "id": "9428cebb",
   "metadata": {},
   "outputs": [],
   "source": [
    "tweet_series = pd.Series(tweets, name = 'Tesla-general')"
   ]
  },
  {
   "cell_type": "code",
   "execution_count": 470,
   "id": "3c423f4e",
   "metadata": {},
   "outputs": [],
   "source": [
    "tweet_series.to_csv('Data/Tesla-general-10K')"
   ]
  },
  {
   "cell_type": "code",
   "execution_count": null,
   "id": "0064216f",
   "metadata": {},
   "outputs": [],
   "source": []
  }
 ],
 "metadata": {
  "kernelspec": {
   "display_name": "Python (learn-env)",
   "language": "python",
   "name": "learn-env"
  },
  "language_info": {
   "codemirror_mode": {
    "name": "ipython",
    "version": 3
   },
   "file_extension": ".py",
   "mimetype": "text/x-python",
   "name": "python",
   "nbconvert_exporter": "python",
   "pygments_lexer": "ipython3",
   "version": "3.8.13"
  }
 },
 "nbformat": 4,
 "nbformat_minor": 5
}
