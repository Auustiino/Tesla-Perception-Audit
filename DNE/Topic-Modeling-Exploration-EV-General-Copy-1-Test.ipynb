{
 "cells": [
  {
   "cell_type": "markdown",
   "id": "a50c4794",
   "metadata": {},
   "source": [
    "# Libraries"
   ]
  },
  {
   "cell_type": "code",
   "execution_count": 1,
   "id": "aa2ce17e",
   "metadata": {
    "scrolled": true
   },
   "outputs": [
    {
     "name": "stderr",
     "output_type": "stream",
     "text": [
      "/Users/austinboring/opt/anaconda3/envs/broke-the-other/lib/python3.10/site-packages/gensim/matutils.py:22: DeprecationWarning:\n",
      "\n",
      "Please use `triu` from the `scipy.linalg` namespace, the `scipy.linalg.special_matrices` namespace is deprecated.\n",
      "\n"
     ]
    }
   ],
   "source": [
    "import tqdm\n",
    "import spacy\n",
    "import numpy as np\n",
    "import regex as re\n",
    "import pandas as pd\n",
    "import seaborn as sns\n",
    "\n",
    "import plotly.graph_objects as go\n",
    "import plotly.offline as pyo\n",
    "\n",
    "import matplotlib.pyplot as plt\n",
    "\n",
    "import pyLDAvis\n",
    "import pyLDAvis.gensim_models as gensim_models\n",
    "import pyLDAvis.gensim_models as gensimvis\n",
    "\n",
    "import gensim\n",
    "# from gensim.models import wrappers\n",
    "# from gensim.models.wrappers import LdaMallet\n",
    "import gensim.corpora as corpora\n",
    "from gensim.corpora import dictionary\n",
    "from gensim.utils import simple_preprocess\n",
    "from gensim.models.ldamulticore import LdaMulticore\n",
    "from gensim.models.coherencemodel import CoherenceModel\n",
    "\n",
    "import nltk\n",
    "from nltk import pos_tag\n",
    "from nltk.corpus import stopwords\n",
    "from nltk.corpus import wordnet\n",
    "from nltk.tokenize import word_tokenize\n",
    "from nltk.stem.porter import PorterStemmer\n",
    "from nltk.stem.wordnet import WordNetLemmatizer\n",
    "\n",
    "from vaderSentiment.vaderSentiment import SentimentIntensityAnalyzer\n",
    "\n",
    "import warnings\n",
    "warnings.filterwarnings(\"ignore\", category=FutureWarning)\n",
    "warnings.filterwarnings(\"ignore\", category=DeprecationWarning) \n",
    "\n",
    "\n",
    "# Think these can be removed\n",
    "from sklearn.feature_extraction.text import CountVectorizer, TfidfVectorizer\n",
    "from sklearn.model_selection import GridSearchCV\n",
    "from sklearn.decomposition import LatentDirichletAllocation, TruncatedSVD"
   ]
  },
  {
   "cell_type": "markdown",
   "id": "c9cd69b8",
   "metadata": {},
   "source": [
    "# Importing -- Fixing columns"
   ]
  },
  {
   "cell_type": "code",
   "execution_count": 2,
   "id": "09b8b307",
   "metadata": {},
   "outputs": [],
   "source": [
    "full = pd.read_csv('../Data/Data-Cleaned/238k-Uncleaned')"
   ]
  },
  {
   "cell_type": "code",
   "execution_count": 3,
   "id": "6bbd51c2",
   "metadata": {},
   "outputs": [],
   "source": [
    "# Renaming tweets column, dropping unnamed column, making tweets strings\n",
    "\n",
    "full['tweets'] = full['0']\n",
    "full.reset_index(inplace = True)\n",
    "full = full.drop(columns = ['0', 'Unnamed: 0', 'index'])\n",
    "# eh\n",
    "full.drop_duplicates(inplace = True, ignore_index = True)"
   ]
  },
  {
   "cell_type": "markdown",
   "id": "67a87f9a",
   "metadata": {},
   "source": [
    "# Preprocessing ---- "
   ]
  },
  {
   "cell_type": "code",
   "execution_count": 4,
   "id": "5f1680b2",
   "metadata": {},
   "outputs": [],
   "source": [
    "# Function for Gensim simple preprocessor --- \n",
    "def sent_to_words(sentences):\n",
    "    for sentence in sentences:\n",
    "        yield(gensim.utils.simple_preprocess(str(sentence), deacc=True))  # deacc=True removes punctuations\n",
    "        \n",
    "# STOPWORDS ==========================================\n",
    "def remove_stopwords(texts):\n",
    "    return [[word for word in simple_preprocess(str(doc)) if word not in stop_words]for doc in texts]\n",
    "# Stop Words list -- Can be Edited\n",
    "stop_words = stopwords.words('english')\n",
    "# stop_words.extend(['tesla', 'c,', 'x', 't', 'p', 'amp', 'car', 'get', 'go', 'use'])\n",
    "stop_words.extend(['tesla', 'c,', 'x', 't', 'p', 'amp', 'car',\n",
    "                   'get', 'go', 'use', 'elon', 'musk', 'elon_musk', 'electric', 'vehicle', 'rt'])\n",
    "wnl = WordNetLemmatizer()\n",
    "\n",
    "# BIGRAMS===============================================\n",
    "def make_bigrams(texts):\n",
    "    return bigram_mod[texts]\n",
    "\n",
    "# TRIGRAMS =============================================\n",
    "def make_trigrams(texts):\n",
    "    return trigram_mod[bigram_mod[texts]]\n",
    "\n",
    "# LEMMATIZING ==========================================\n",
    "def pos_tagger(nltk_tag):\n",
    "    if nltk_tag.startswith('J'):\n",
    "        return wordnet.ADJ\n",
    "    elif nltk_tag.startswith('V'):\n",
    "        return wordnet.VERB\n",
    "    elif nltk_tag.startswith('N'):\n",
    "        return wordnet.NOUN\n",
    "    elif nltk_tag.startswith('R'):\n",
    "        return wordnet.ADV\n",
    "    else:         \n",
    "        return None    \n",
    "def lemmatize_texts(tweet):\n",
    "     for i in tweet:\n",
    "        word = (map(lambda x: (x[0], pos_tagger(x[1])), pos_tag(tweet))) \n",
    "        word_lem = \" \".join([wnl.lemmatize(x[0], x[1]) for x in word if x[1] is not None])\n",
    "        return word_lem"
   ]
  },
  {
   "cell_type": "code",
   "execution_count": 5,
   "id": "316f7d22",
   "metadata": {},
   "outputs": [],
   "source": [
    "# remove punctuation and lowercase all\n",
    "full['preprep'] = full['tweets'].map(lambda x: re.sub('[,\\.!?]', '', x.lower()))\n",
    "#  Removing @ handles, links-- strip whitespace breaks and tabs\n",
    "full['preprep'] = full['preprep'].map(lambda x: re.sub(r\"@\\w+|http\\S+\", \"\", x).strip()\\\n",
    "                                      .replace(\"\\r\", \"\").replace(\"\\n\", \"\").replace(\"\\t\", \"\"))"
   ]
  },
  {
   "cell_type": "code",
   "execution_count": 6,
   "id": "426e38af",
   "metadata": {},
   "outputs": [],
   "source": [
    "# Creates a list of all tweets in full.preprep\n",
    "data = full.preprep.values.tolist()\n",
    "\n",
    "# Uses gensims simple preprocessor on all tweets in list\n",
    "# Ouputs list of lists of tokenized tweets\n",
    "data_words = list(sent_to_words(data))"
   ]
  },
  {
   "cell_type": "code",
   "execution_count": 7,
   "id": "1905bbc5",
   "metadata": {},
   "outputs": [],
   "source": [
    "# Bigram ---\n",
    "# higher hyperparameter values =  fewer phrases.\n",
    "bigram = gensim.models.Phrases(data_words, min_count=2, threshold=20) # orig -- 3/ 75\n",
    "bigram_mod = gensim.models.phrases.Phraser(bigram)\n",
    "\n",
    "# TriGrams --\n",
    "trigram = gensim.models.Phrases(bigram[data_words], threshold=60)\n",
    "trigram_mod = gensim.models.phrases.Phraser(trigram)"
   ]
  },
  {
   "cell_type": "code",
   "execution_count": 8,
   "id": "3722a994",
   "metadata": {},
   "outputs": [],
   "source": [
    "# Remove Stop Words\n",
    "data_words_nostops = remove_stopwords(data_words)\n",
    "# Form Bigrams\n",
    "data_words_bigrams = make_bigrams(data_words_nostops)\n",
    "# lemmatize\n",
    "data_lemmatized = [lemmatize_texts(tweet) for tweet in data_words_bigrams]"
   ]
  },
  {
   "cell_type": "code",
   "execution_count": 9,
   "id": "94e49697",
   "metadata": {},
   "outputs": [
    {
     "name": "stdout",
     "output_type": "stream",
     "text": [
      "126510 126510\n"
     ]
    }
   ],
   "source": [
    "print(len(data_words), len(data_lemmatized))"
   ]
  },
  {
   "cell_type": "code",
   "execution_count": 10,
   "id": "bae12fd0",
   "metadata": {},
   "outputs": [
    {
     "data": {
      "text/plain": [
       "386"
      ]
     },
     "execution_count": 10,
     "metadata": {},
     "output_type": "execute_result"
    }
   ],
   "source": [
    "# Getting indices of all nones\n",
    "indices_of_nones = [(i) for i,x  in enumerate(data_lemmatized) if x == None]\n",
    "len(indices_of_nones)"
   ]
  },
  {
   "cell_type": "code",
   "execution_count": 11,
   "id": "289f44e0",
   "metadata": {},
   "outputs": [
    {
     "data": {
      "text/plain": [
       "126124"
      ]
     },
     "execution_count": 11,
     "metadata": {},
     "output_type": "execute_result"
    }
   ],
   "source": [
    "# Dropping None values using indices aquired above\n",
    "lem_drop_None = [(i, x) for (i, x) in enumerate(data_lemmatized) if i not in indices_of_nones]\n",
    "len(lem_drop_None)"
   ]
  },
  {
   "cell_type": "code",
   "execution_count": 12,
   "id": "2cba14a6",
   "metadata": {},
   "outputs": [
    {
     "data": {
      "text/plain": [
       "38763"
      ]
     },
     "execution_count": 12,
     "metadata": {},
     "output_type": "execute_result"
    }
   ],
   "source": [
    "# Getting indices of all short tweets\n",
    "indices_short_tweets = [i for (i,x) in lem_drop_None if (len(x.split(' ')) <= 5)]\n",
    "len(indices_short_tweets)"
   ]
  },
  {
   "cell_type": "code",
   "execution_count": 13,
   "id": "a7c1d170",
   "metadata": {},
   "outputs": [
    {
     "data": {
      "text/plain": [
       "87361"
      ]
     },
     "execution_count": 13,
     "metadata": {},
     "output_type": "execute_result"
    }
   ],
   "source": [
    "lem_noShort_noNone = [(i, x) for (i, x) in lem_drop_None if i not in indices_short_tweets]\n",
    "len(lem_noShort_noNone)"
   ]
  },
  {
   "cell_type": "code",
   "execution_count": 14,
   "id": "3e0f01d7",
   "metadata": {},
   "outputs": [],
   "source": [
    "lem_noNone = [x.split() for (i, x) in lem_noShort_noNone]"
   ]
  },
  {
   "cell_type": "code",
   "execution_count": 15,
   "id": "7ba69e76",
   "metadata": {
    "scrolled": false
   },
   "outputs": [
    {
     "name": "stdout",
     "output_type": "stream",
     "text": [
      "62470\n"
     ]
    }
   ],
   "source": [
    "id2word = corpora.Dictionary(lem_noNone)\n",
    "print(len(id2word)) "
   ]
  },
  {
   "cell_type": "code",
   "execution_count": 16,
   "id": "76b5e414",
   "metadata": {},
   "outputs": [
    {
     "name": "stdout",
     "output_type": "stream",
     "text": [
      "13580\n"
     ]
    }
   ],
   "source": [
    "# This can be Tuned --- and probably should be\n",
    "id2word.filter_extremes(no_below=6, no_above=.95)\n",
    "print(len(id2word))"
   ]
  },
  {
   "cell_type": "code",
   "execution_count": 17,
   "id": "e8f0a969",
   "metadata": {},
   "outputs": [],
   "source": [
    "corpus = [id2word.doc2bow(d) for d in lem_noNone]"
   ]
  },
  {
   "cell_type": "markdown",
   "id": "9fca9d9f",
   "metadata": {},
   "source": [
    "## The Rosetta Stone"
   ]
  },
  {
   "cell_type": "code",
   "execution_count": 18,
   "id": "7b885b68",
   "metadata": {},
   "outputs": [
    {
     "name": "stdout",
     "output_type": "stream",
     "text": [
      "['take', 'forest', 'rather', 'fly', 'hate', 'fucking', 'shuttle', 'bud', 'schedule', 'time'] \n",
      "\n",
      " (13394, 'take forest rather fly hate fucking shuttle bud schedule time') \n",
      "\n",
      " so i can take the tesla to electric forest i’d rather fly but i hate fucking with shuttles and bud schedule times \n",
      "\n",
      " So I can take the Tesla to Electric Forest. I’d rather fly but I hate fucking with shuttles and bud schedule times https://t.co/QRWyFylQmw\n"
     ]
    }
   ],
   "source": [
    "print(       (lem_noNone[8654]), \n",
    "      '\\n\\n',(lem_noShort_noNone[8654]), \n",
    "      '\\n\\n',(full.preprep.iloc[13394]), \n",
    "      '\\n\\n',(full.tweets.iloc[13394]))"
   ]
  },
  {
   "cell_type": "markdown",
   "id": "5ad248af",
   "metadata": {},
   "source": [
    "# Modeling"
   ]
  },
  {
   "cell_type": "code",
   "execution_count": 19,
   "id": "d3d12f3b",
   "metadata": {},
   "outputs": [
    {
     "name": "stdout",
     "output_type": "stream",
     "text": [
      "------ Topic 1 ------\n",
      "car make company world good esg say thing people fire\n",
      "\n",
      "------ Topic 2 ------\n",
      "car know find door drive people free open model driver\n",
      "\n",
      "------ Topic 3 ------\n",
      "people ev make say company want think work drive car\n",
      "\n",
      "------ Topic 4 ------\n",
      "stock buy twitter market sell go price think share make\n",
      "\n",
      "------ Topic 5 ------\n",
      "car charge spot buy need battery motor world ev state\n",
      "\n"
     ]
    }
   ],
   "source": [
    "# Instantiating a Base LDA model\n",
    "base_model = LdaMulticore(corpus=corpus,\n",
    "                          num_topics=5,\n",
    "                          id2word=id2word,\n",
    "                          workers=7,\n",
    "                          passes=5,\n",
    "                          chunksize=2000,\n",
    "                          random_state = 42)\n",
    "words = [re.findall(r'\"([^\"]*)\"',t[1]) for t in base_model.print_topics()]\n",
    "topics = [' '.join(t[0:10]) for t in words]\n",
    "\n",
    "for id, t in enumerate(topics): \n",
    "    print(f\"------ Topic {id + 1} ------\")\n",
    "    print(t, end=\"\\n\\n\")"
   ]
  },
  {
   "cell_type": "code",
   "execution_count": 20,
   "id": "d0c6a50c",
   "metadata": {},
   "outputs": [
    {
     "name": "stdout",
     "output_type": "stream",
     "text": [
      "\n",
      "Coherence Score:  0.2752541810515012 \n",
      "\n",
      "Perplexity:  -7.904977907983739\n"
     ]
    }
   ],
   "source": [
    "# a measure of how good the model is. lower the better\n",
    "base_perplexity = base_model.log_perplexity(corpus)\n",
    "\n",
    "# Compute Coherence Score\n",
    "coherence_model = CoherenceModel(model=base_model, texts=lem_noNone, \n",
    "                                   dictionary=id2word, coherence='c_v')\n",
    "\n",
    "coherence_lda_model_base = coherence_model.get_coherence()\n",
    "print('\\nCoherence Score: ', coherence_lda_model_base, '\\n\\nPerplexity: ', base_perplexity)"
   ]
  },
  {
   "cell_type": "code",
   "execution_count": 42,
   "id": "b7b7162a",
   "metadata": {},
   "outputs": [
    {
     "name": "stdout",
     "output_type": "stream",
     "text": [
      "------ Topic 1 ------\n",
      "make company good world find big free thing help people\n",
      "\n",
      "------ Topic 2 ------\n",
      "know people see drive think even really fire get open\n",
      "\n",
      "------ Topic 3 ------\n",
      "say work want start spacex also day look ford leave\n",
      "\n",
      "------ Topic 4 ------\n",
      "stock buy twitter go sell market price back tsla money\n",
      "\n",
      "------ Topic 5 ------\n",
      "car ev need new battery year charge vehicle spot first\n",
      "\n"
     ]
    }
   ],
   "source": [
    "newer_model = LdaMulticore(corpus=corpus,\n",
    "                          num_topics=5,\n",
    "                          id2word=id2word,\n",
    "                          workers=4,\n",
    "                          passes=20,\n",
    "                          alpha = 0.909 , \n",
    "                          eta = 0.01,\n",
    "                          chunksize=1500,\n",
    "                          random_state = 42)\n",
    "newer_words = [re.findall(r'\"([^\"]*)\"',t[1]) for t in newer_model.print_topics()]\n",
    "newer_topics = [' '.join(t[0:20]) for t in newer_words]\n",
    "\n",
    "for id, t in enumerate(newer_topics): \n",
    "    print(f\"------ Topic {id + 1} ------\")\n",
    "    print(t, end=\"\\n\\n\")"
   ]
  },
  {
   "cell_type": "code",
   "execution_count": 43,
   "id": "f7f9a360",
   "metadata": {},
   "outputs": [
    {
     "name": "stdout",
     "output_type": "stream",
     "text": [
      "\n",
      "Coherence Score:  0.33764029361934444 \n",
      "\n",
      "Perplexity:  -11.316539469020194\n"
     ]
    }
   ],
   "source": [
    "# a measure of how good the model is. lower the better\n",
    "new_perplexity = newer_model.log_perplexity(corpus)\n",
    "\n",
    "# Compute Coherence Score\n",
    "coherence_model = CoherenceModel(model=newer_model, texts=lem_noNone, \n",
    "                                   dictionary=id2word, coherence='c_v')\n",
    "\n",
    "coherence_lda_model_new = coherence_model.get_coherence()\n",
    "print('\\nCoherence Score: ', coherence_lda_model_new, '\\n\\nPerplexity: ', new_perplexity)"
   ]
  },
  {
   "cell_type": "code",
   "execution_count": 44,
   "id": "4837accf",
   "metadata": {},
   "outputs": [
    {
     "name": "stderr",
     "output_type": "stream",
     "text": [
      "/Users/austinboring/opt/anaconda3/envs/broke-the-other/lib/python3.10/site-packages/past/builtins/misc.py:45: DeprecationWarning: the imp module is deprecated in favour of importlib and slated for removal in Python 3.12; see the module's documentation for alternative uses\n",
      "  from imp import reload\n",
      "/Users/austinboring/opt/anaconda3/envs/broke-the-other/lib/python3.10/site-packages/past/builtins/misc.py:45: DeprecationWarning: the imp module is deprecated in favour of importlib and slated for removal in Python 3.12; see the module's documentation for alternative uses\n",
      "  from imp import reload\n",
      "/Users/austinboring/opt/anaconda3/envs/broke-the-other/lib/python3.10/site-packages/past/builtins/misc.py:45: DeprecationWarning: the imp module is deprecated in favour of importlib and slated for removal in Python 3.12; see the module's documentation for alternative uses\n",
      "  from imp import reload\n",
      "/Users/austinboring/opt/anaconda3/envs/broke-the-other/lib/python3.10/site-packages/past/builtins/misc.py:45: DeprecationWarning: the imp module is deprecated in favour of importlib and slated for removal in Python 3.12; see the module's documentation for alternative uses\n",
      "  from imp import reload\n",
      "/Users/austinboring/opt/anaconda3/envs/broke-the-other/lib/python3.10/site-packages/past/builtins/misc.py:45: DeprecationWarning: the imp module is deprecated in favour of importlib and slated for removal in Python 3.12; see the module's documentation for alternative uses\n",
      "  from imp import reload\n",
      "/Users/austinboring/opt/anaconda3/envs/broke-the-other/lib/python3.10/site-packages/past/builtins/misc.py:45: DeprecationWarning: the imp module is deprecated in favour of importlib and slated for removal in Python 3.12; see the module's documentation for alternative uses\n",
      "  from imp import reload\n",
      "/Users/austinboring/opt/anaconda3/envs/broke-the-other/lib/python3.10/site-packages/past/builtins/misc.py:45: DeprecationWarning: the imp module is deprecated in favour of importlib and slated for removal in Python 3.12; see the module's documentation for alternative uses\n",
      "  from imp import reload\n",
      "/Users/austinboring/opt/anaconda3/envs/broke-the-other/lib/python3.10/site-packages/past/builtins/misc.py:45: DeprecationWarning: the imp module is deprecated in favour of importlib and slated for removal in Python 3.12; see the module's documentation for alternative uses\n",
      "  from imp import reload\n"
     ]
    },
    {
     "data": {
      "text/html": [
       "\n",
       "<link rel=\"stylesheet\" type=\"text/css\" href=\"https://cdn.jsdelivr.net/gh/bmabey/pyLDAvis@3.3.1/pyLDAvis/js/ldavis.v1.0.0.css\">\n",
       "\n",
       "\n",
       "<div id=\"ldavis_el5835683141030408005495381\"></div>\n",
       "<script type=\"text/javascript\">\n",
       "\n",
       "var ldavis_el5835683141030408005495381_data = {\"mdsDat\": {\"x\": [-0.07499241609284348, 0.005595014575908523, -0.2097956338922024, 0.3599730896372674, -0.08078005422812988], \"y\": [-0.013582790012301716, 0.17329500509498955, -0.2740176062291384, -0.11399191751692975, 0.22829730866338022], \"topics\": [1, 2, 3, 4, 5], \"cluster\": [1, 1, 1, 1, 1], \"Freq\": [21.25889102371193, 20.916415836463532, 20.012554154018066, 19.356432903002048, 18.45570608280443]}, \"tinfo\": {\"Term\": [\"car\", \"stock\", \"buy\", \"make\", \"company\", \"say\", \"ev\", \"know\", \"twitter\", \"need\", \"sell\", \"market\", \"world\", \"go\", \"good\", \"work\", \"price\", \"new\", \"drive\", \"battery\", \"tsla\", \"back\", \"share\", \"want\", \"find\", \"see\", \"money\", \"year\", \"people\", \"charge\", \"drive\", \"fire\", \"open\", \"door\", \"driver\", \"read\", \"shit\", \"safety\", \"recall\", \"burn\", \"video\", \"die\", \"fuck\", \"manual\", \"window\", \"saw\", \"fix\", \"safe\", \"accident\", \"ok\", \"front\", \"kid\", \"test\", \"emergency\", \"wish\", \"sorry\", \"dont\", \"teslas\", \"ride\", \"button\", \"know\", \"literally\", \"dude\", \"cool\", \"really\", \"truck\", \"story\", \"happen\", \"ever\", \"fail\", \"owner\", \"live\", \"design\", \"talk\", \"lol\", \"see\", \"something\", \"tesla\", \"even\", \"stop\", \"show\", \"people\", \"tell\", \"think\", \"maybe\", \"someone\", \"never\", \"get\", \"problem\", \"thing\", \"time\", \"try\", \"look\", \"go\", \"guy\", \"stock\", \"twitter\", \"price\", \"tsla\", \"share\", \"market\", \"value\", \"drop\", \"lose\", \"deal\", \"tank\", \"investor\", \"hold\", \"short\", \"buying\", \"fall\", \"bot\", \"worth\", \"cash\", \"loan\", \"crypto\", \"board\", \"twitter_deal\", \"shareholder\", \"cover\", \"trade\", \"billion\", \"wealth\", \"announce\", \"growth\", \"buy\", \"sell\", \"purchase\", \"back\", \"bitcoin\", \"tweet\", \"low\", \"go\", \"today\", \"money\", \"time\", \"try\", \"take\", \"much\", \"think\", \"pay\", \"want\", \"put\", \"get\", \"find\", \"free\", \"product\", \"real\", \"enter\", \"environment\", \"esg\", \"create\", \"push\", \"biden\", \"esg_index\", \"list\", \"c\", \"name\", \"st_may\", \"nikola\", \"remove\", \"political\", \"planet\", \"politics\", \"climate_change\", \"important\", \"destroy\", \"scam\", \"index\", \"choice\", \"fight\", \"difference\", \"wake\", \"decision\", \"world\", \"company\", \"space\", \"american\", \"save\", \"credit\", \"america\", \"make\", \"change\", \"do\", \"help\", \"quality\", \"good\", \"man\", \"idea\", \"fact\", \"everything\", \"future\", \"nothing\", \"care\", \"feel\", \"big\", \"true\", \"great\", \"thing\", \"become\", \"many\", \"people\", \"well\", \"think\", \"best\", \"business\", \"battery\", \"charge\", \"spot\", \"cost\", \"state\", \"china\", \"motor\", \"evs\", \"gas\", \"solar\", \"teslaradar\", \"home\", \"model_dual\", \"first_time\", \"unitedstates_model\", \"mile\", \"house\", \"electricity\", \"states_teslaradar\", \"expensive\", \"range\", \"non\", \"model_standard\", \"california_united\", \"toyota\", \"produce\", \"mine\", \"anyone_else\", \"replace\", \"performance\", \"ev\", \"car\", \"need\", \"vehicle\", \"part\", \"energy\", \"new\", \"build\", \"cheap\", \"manufacturer\", \"demand\", \"enough\", \"technology\", \"first\", \"year\", \"wait\", \"power\", \"model\", \"use\", \"long\", \"self_driving\", \"still\", \"also\", \"ford\", \"support\", \"factory\", \"worker\", \"fsd\", \"employee\", \"report\", \"california\", \"customer\", \"face\", \"woman\", \"experience\", \"comment\", \"racism\", \"lawsuit\", \"word\", \"union\", \"benefit\", \"sue\", \"update\", \"condition\", \"cybertruck\", \"lack\", \"record\", \"black\", \"delivery\", \"economy\", \"accord\", \"promise\", \"white\", \"anyone\", \"republican\", \"autopilot\", \"say\", \"lie\", \"work\", \"gt\", \"job\", \"vote\", \"texas\", \"spacex\", \"claim\", \"leave\", \"party\", \"article\", \"start\", \"data\", \"news\", \"move\", \"democrat\", \"want\", \"next\", \"call\", \"crash\", \"day\", \"ask\", \"also\", \"pay\", \"look\", \"give\", \"people\", \"well\", \"take\"], \"Freq\": [13637.0, 12958.0, 11415.0, 9597.0, 7149.0, 6776.0, 5204.0, 5232.0, 5090.0, 4431.0, 4367.0, 4075.0, 3956.0, 6145.0, 4525.0, 3643.0, 3646.0, 3554.0, 3456.0, 3124.0, 2935.0, 3051.0, 2624.0, 5090.0, 2425.0, 4361.0, 3375.0, 4186.0, 6954.0, 2135.0, 3456.868202641026, 2161.416002928187, 1678.148145677644, 1630.0283226472327, 1594.3027642636769, 1333.1999713895163, 1050.5608901667608, 888.089929998803, 846.6247495770124, 820.3760475973252, 786.538591100352, 609.6922727979418, 1038.1679891869253, 540.0907080997335, 537.1603450200572, 537.7560052641173, 490.9185012710422, 479.3611610333149, 470.37449047438645, 445.7939728499494, 444.41677405726375, 421.951985814278, 394.01283499280333, 368.3459730164164, 338.69180112242947, 329.2291583248072, 321.6351851587334, 307.50373985029154, 306.908236952426, 302.6142330771663, 5229.947923014972, 869.3666769174371, 546.375901843411, 545.6020732583214, 2371.615203896905, 1080.2929222027137, 824.570897145615, 1402.8981466512148, 1427.8216789799005, 562.1555747647534, 1519.3841569572235, 891.9011695246348, 918.4497733512478, 1157.6784031482553, 1382.7020282908406, 3536.496706039458, 1191.2614308485447, 910.2489945856624, 2726.1413557433034, 1004.2878918712131, 1151.698933060704, 4121.421324138841, 1208.7241311161622, 2763.3715633371785, 1171.788580496059, 1067.8550202112199, 1590.6717385794043, 1751.1545771297392, 1080.7238409810177, 1461.8849272661384, 1500.3479947435108, 1157.2464353953205, 1176.4680563237462, 1228.106979445331, 1095.580258881123, 12958.15164088836, 5090.298357881147, 3646.379142896533, 2935.1661291615246, 2624.4221049363014, 4075.4391124595413, 1844.9546077610194, 1702.1984853176996, 1680.2440630730503, 1499.738215626961, 1365.0546814316738, 1226.8674558925072, 1142.469860108015, 1022.7914713440913, 1014.9027990255624, 1014.7119681873737, 908.706521253223, 856.4052997911066, 759.1309571477485, 697.3221490740642, 651.7830890603682, 646.817616982748, 626.85350155208, 620.1992952452204, 533.7796563121101, 515.2408893350962, 509.6098830984385, 422.53005099919295, 437.777863281985, 416.22422192018945, 11387.85555477586, 4365.997795779972, 1095.121312982072, 3015.81130330466, 687.7544956437695, 1572.6831745151337, 1209.6625438385609, 4839.704131286955, 1535.739087977968, 2711.8354265682115, 2095.8768280835857, 1435.4008731453773, 1796.0509286340873, 1525.9019595241411, 1964.231828613618, 1397.3146913916637, 1448.428767523187, 1157.3371201960467, 1118.0961486919307, 2424.9797507099624, 1835.8240370975918, 1421.9563170957151, 1474.1452557683015, 1082.7807494894735, 1072.9122026290243, 1018.7862294725672, 866.524911034908, 745.497779911263, 718.6344117674322, 713.7476359711158, 712.1214591827603, 694.6594132531494, 690.8064762888519, 689.8604735178751, 682.4321299429157, 628.3999670821192, 542.2292362833011, 491.42666565905796, 491.21430877398643, 478.97102833965056, 445.1734006359524, 489.792342187132, 401.32222229399457, 397.6213567563467, 385.4824773063131, 376.4183043573132, 340.8151740790285, 340.40791396126224, 335.58692880650773, 3954.7098778537616, 7014.366047537771, 1013.7998666413312, 759.8012331859838, 989.4772269208663, 429.8563518035395, 427.30816793036047, 9269.751200854716, 1513.767268486523, 1140.2910031226438, 1530.2386776939588, 574.4545046840491, 4197.393360315735, 1368.9123222651028, 906.2165408672778, 1188.7128165645422, 862.5456757883475, 1157.7495928834671, 1212.5295719221976, 1115.198723987044, 842.6653979319673, 1837.9139329895493, 878.1928381138058, 1387.6246125666696, 1585.577469851787, 875.4165471006522, 1272.5829732968853, 1516.8849302282015, 1249.0724344938017, 1401.9849938787042, 960.1239854086855, 921.3697672991635, 3124.1581576379926, 2135.810122997793, 1814.5959850051934, 1473.3487758304032, 1336.752395359265, 1263.1872002253745, 1114.9471725784783, 1055.4840568925467, 1690.9502131399913, 903.5242894137494, 831.2146712282022, 827.2105020526099, 791.9465642503939, 669.8396525549548, 654.9156124180079, 609.2894398945789, 594.0371312370588, 574.2936947038758, 564.2466913623986, 559.4189378246, 542.2885645600705, 538.0980550051827, 518.7102984168977, 514.3372688902859, 499.9000919432203, 802.8962821459, 477.3478917635383, 476.36681109920085, 469.34671667654993, 456.2804452313893, 5199.942991975721, 13484.26452979291, 4397.773542370282, 2116.8754189923825, 1410.674130029757, 919.1530992374318, 3491.8746786305237, 1694.1077799977597, 928.9359213953461, 924.6092143105377, 585.749139051647, 1262.3341987248684, 1065.9318209882645, 1811.8894172612295, 2989.540557268465, 1058.3539470601881, 1202.1458741716942, 1791.1633241455859, 1441.9729145687036, 994.1615488416107, 881.3751899879456, 1130.1884020540415, 1108.2468462695545, 1453.0533129713458, 1350.825457561843, 1169.8734512444382, 1048.7900690856852, 1005.3281227295638, 967.4769190496273, 843.0174565293505, 773.643845244379, 740.7837273793002, 562.3505540335881, 538.3689820355048, 515.366685525449, 490.96625663359316, 476.8468771462892, 469.6537760863253, 463.9275165127057, 440.4741713680472, 400.3191409401808, 440.8288269116492, 392.14303069664743, 378.07660594001607, 365.6779137030289, 378.0226494861493, 339.76554301465563, 327.2218285788788, 323.65211967721285, 314.00532041961213, 324.99695583179687, 305.1601046152584, 303.6198641385062, 1101.8817626386704, 968.5270892200773, 1174.0986286116224, 6620.553965537062, 672.8085216733635, 3576.0101048201445, 522.6687012163407, 805.694980564436, 626.0281851051269, 578.7250400952884, 2139.6273781801156, 1194.993754849909, 1398.3910995814215, 534.6846896602897, 615.2711350518634, 2154.0549241482386, 611.9261081093583, 1284.0678919312695, 1125.8868751318164, 1019.0372510359904, 3219.8709181019294, 971.557484013874, 1308.3415573061927, 1243.8205663709236, 1595.8610660416525, 842.1711825617828, 1658.9590636467576, 1368.7961895334229, 1457.6853720868453, 1172.7017711502513, 1114.355493049474, 974.712821009705, 958.2589711513044], \"Total\": [13637.0, 12958.0, 11415.0, 9597.0, 7149.0, 6776.0, 5204.0, 5232.0, 5090.0, 4431.0, 4367.0, 4075.0, 3956.0, 6145.0, 4525.0, 3643.0, 3646.0, 3554.0, 3456.0, 3124.0, 2935.0, 3051.0, 2624.0, 5090.0, 2425.0, 4361.0, 3375.0, 4186.0, 6954.0, 2135.0, 3456.913487741249, 2161.459298050819, 1678.1914430972424, 1630.0716170710593, 1594.346088357765, 1333.243266040489, 1050.6075561121033, 888.133249028934, 846.6680440066931, 820.4193420219051, 786.5834561915083, 609.7355672217683, 1038.2496306935689, 540.1340025235601, 537.2036394438837, 537.8000537809223, 490.96179598415665, 479.4044554586482, 470.4177849475422, 445.83726750199867, 444.4600685328981, 421.99533121625484, 394.0561294173247, 368.389267440243, 338.7355395056608, 329.2724531074634, 321.678480528936, 307.5470352777511, 306.9515314622374, 302.6575275009929, 5232.718361331511, 871.5796225896527, 547.0422205160614, 547.2458722639358, 2426.5926542638654, 1095.0808046887228, 835.0661159208435, 1437.8263400002763, 1474.9944708842147, 565.6180622567814, 1597.3001538732528, 917.9422506798122, 948.8022826394422, 1214.1893038854944, 1516.1504190592, 4361.577706678137, 1305.216755885627, 1002.5677612319811, 3706.1016155124144, 1130.658929949348, 1333.7155553410516, 6954.144035576907, 1560.8440304776175, 6466.4451374775645, 1567.4761897296742, 1330.0653421916222, 2956.5960205883885, 4081.9246027250474, 1416.0381872836542, 3059.1300843016584, 4546.403674804863, 2620.2160302774055, 3307.063800941669, 6145.9227450155395, 1722.849462713272, 12958.1934797917, 5090.340196784488, 3646.424185839108, 2935.207978023366, 2624.463943839643, 4075.507356847278, 1844.9964466643607, 1702.240324221041, 1680.2859047455854, 1499.7800545303023, 1365.0965203350152, 1226.909294798862, 1142.5116993869249, 1022.8333102511253, 1014.9446379384973, 1014.7538070907149, 908.7484068498138, 856.4471387336627, 759.1727960510897, 697.3639879774054, 651.8251944842029, 646.859477312719, 626.8953404554212, 620.2411341485615, 533.8215221612815, 515.2827282443385, 509.6517220536892, 422.57200996498244, 437.82151126367665, 416.26606082353067, 11415.360611459555, 4367.268198780465, 1096.263466690636, 3051.9576120054385, 688.4966271420592, 1599.1929484140664, 1240.937319712598, 6145.9227450155395, 1728.2602016880605, 3375.187930250853, 4546.403674804863, 2620.2160302774055, 4124.8422084384965, 3286.0737493335464, 6466.4451374775645, 2822.9530376729817, 5090.450387940268, 1922.1796382826592, 4081.9246027250474, 2425.021671667389, 1835.8659538864893, 1421.9982339604621, 1474.2015807669247, 1082.8226662776422, 1072.954284943266, 1018.8281462607358, 866.5668294023369, 745.5397141063271, 718.6763357250477, 713.7895532785537, 712.1633759709289, 694.701330041318, 690.8483931843052, 689.9023903060437, 682.4740467310843, 628.4420415846117, 542.2711532522969, 491.46858887046756, 491.25622813987513, 479.01294512781925, 445.21531770920075, 489.83985501923814, 401.36413908216326, 397.66327356953633, 385.5243941453927, 376.4602211454819, 340.8570967970493, 340.4498311449278, 335.62941691072774, 3956.8834759897795, 7149.472244498505, 1016.1660765483555, 760.1135619082628, 997.0350659651145, 430.07794567207736, 427.60034487836054, 9597.662373488838, 1540.0938451385753, 1154.380003410544, 1574.7555705292018, 577.2648772594117, 4525.978336320065, 1421.091176105256, 935.5629670354615, 1264.9346046112332, 895.3779959978409, 1251.2454709653366, 1340.5509233604023, 1233.4241977847958, 878.4060017093486, 2495.2990020268408, 968.6174643048133, 2034.970658159217, 3059.1300843016584, 1083.638167595376, 2909.258716742466, 6954.144035576907, 3918.557667571971, 6466.4451374775645, 1438.9491940923515, 1560.7809497536184, 3124.1999468862314, 2135.8519121986064, 1814.6377742060067, 1473.3905683821913, 1336.7941845718894, 1263.2290023916898, 1114.9889617792917, 1055.5260880734102, 1691.0205336013355, 903.5660786145628, 831.2564604290155, 827.2522913134461, 791.9883534512072, 669.8814417557682, 654.9574016188212, 609.331687955368, 594.0789208352012, 574.3359403791582, 564.2884805632119, 559.4607270736209, 542.3303761899356, 538.1398443619244, 518.752087617711, 514.3790580910993, 499.941885245293, 802.9635976828666, 477.38968097339233, 476.40860030001426, 469.3885071922161, 456.3222344322027, 5204.06689805625, 13637.413718450714, 4431.971942380702, 2120.609489010181, 1414.8630685951807, 919.3536766594157, 3554.0271502615474, 1717.9463046258606, 940.350572227378, 937.0346612522413, 587.6512838137634, 1356.255191461467, 1155.5520423485148, 2168.7047127030955, 4186.255627533642, 1282.408006268277, 1558.1460253495204, 3273.8253480667045, 2616.507080661564, 1687.7508976264355, 1073.1941685726722, 3365.2670084313445, 4004.971736170858, 1453.0953563387893, 1350.8679175971592, 1169.9153775980833, 1048.8319954386016, 1005.3700490880823, 967.5188454025438, 843.0599370271968, 773.6857716060397, 740.825655543966, 562.3925461659245, 538.4109085179928, 515.4086128027167, 491.00844826497337, 476.8888034992056, 469.6957024731004, 463.97032696245304, 440.5160977209636, 400.36106732246685, 440.8751233760122, 392.18502104643005, 378.11853229293246, 365.71984005667395, 378.06849266059544, 339.8074729945504, 327.2637549317952, 323.694278345082, 314.0474993178398, 325.0415191662478, 305.2020309711883, 303.6617905225876, 1102.391163957027, 969.2325540220436, 1178.0528098621737, 6776.897833609757, 673.1973253306687, 3643.1578692012126, 523.0890765716662, 810.0872900645747, 628.0592652350996, 580.5671659361884, 2175.9156341722883, 1214.6324217426816, 1433.841158204272, 538.3363020938051, 627.5211995370286, 2430.688608729366, 627.162852806235, 1437.783202767334, 1241.8933325165278, 1134.951211244144, 5090.450387940268, 1154.1720830201693, 1707.849996968534, 1609.727790772813, 2293.8878044745925, 987.0606380961888, 4004.971736170858, 2822.9530376729817, 3307.063800941669, 2370.132427292968, 6954.144035576907, 3918.557667571971, 4124.8422084384965], \"Category\": [\"Default\", \"Default\", \"Default\", \"Default\", \"Default\", \"Default\", \"Default\", \"Default\", \"Default\", \"Default\", \"Default\", \"Default\", \"Default\", \"Default\", \"Default\", \"Default\", \"Default\", \"Default\", \"Default\", \"Default\", \"Default\", \"Default\", \"Default\", \"Default\", \"Default\", \"Default\", \"Default\", \"Default\", \"Default\", \"Default\", \"Topic1\", \"Topic1\", \"Topic1\", \"Topic1\", \"Topic1\", \"Topic1\", \"Topic1\", \"Topic1\", \"Topic1\", \"Topic1\", \"Topic1\", \"Topic1\", \"Topic1\", \"Topic1\", \"Topic1\", \"Topic1\", \"Topic1\", \"Topic1\", \"Topic1\", \"Topic1\", \"Topic1\", \"Topic1\", \"Topic1\", \"Topic1\", \"Topic1\", \"Topic1\", \"Topic1\", \"Topic1\", \"Topic1\", \"Topic1\", \"Topic1\", \"Topic1\", \"Topic1\", \"Topic1\", \"Topic1\", \"Topic1\", \"Topic1\", \"Topic1\", \"Topic1\", \"Topic1\", \"Topic1\", \"Topic1\", \"Topic1\", \"Topic1\", \"Topic1\", \"Topic1\", \"Topic1\", \"Topic1\", \"Topic1\", \"Topic1\", \"Topic1\", \"Topic1\", \"Topic1\", \"Topic1\", \"Topic1\", \"Topic1\", \"Topic1\", \"Topic1\", \"Topic1\", \"Topic1\", \"Topic1\", \"Topic1\", \"Topic1\", \"Topic1\", \"Topic1\", \"Topic2\", \"Topic2\", \"Topic2\", \"Topic2\", \"Topic2\", \"Topic2\", \"Topic2\", \"Topic2\", \"Topic2\", \"Topic2\", \"Topic2\", \"Topic2\", \"Topic2\", \"Topic2\", \"Topic2\", \"Topic2\", \"Topic2\", \"Topic2\", \"Topic2\", \"Topic2\", \"Topic2\", \"Topic2\", \"Topic2\", \"Topic2\", \"Topic2\", \"Topic2\", \"Topic2\", \"Topic2\", \"Topic2\", \"Topic2\", \"Topic2\", \"Topic2\", \"Topic2\", \"Topic2\", \"Topic2\", \"Topic2\", \"Topic2\", \"Topic2\", \"Topic2\", \"Topic2\", \"Topic2\", \"Topic2\", \"Topic2\", \"Topic2\", \"Topic2\", \"Topic2\", \"Topic2\", \"Topic2\", \"Topic2\", \"Topic3\", \"Topic3\", \"Topic3\", \"Topic3\", \"Topic3\", \"Topic3\", \"Topic3\", \"Topic3\", \"Topic3\", \"Topic3\", \"Topic3\", \"Topic3\", \"Topic3\", \"Topic3\", \"Topic3\", \"Topic3\", \"Topic3\", \"Topic3\", \"Topic3\", \"Topic3\", \"Topic3\", \"Topic3\", \"Topic3\", \"Topic3\", \"Topic3\", \"Topic3\", \"Topic3\", \"Topic3\", \"Topic3\", \"Topic3\", \"Topic3\", \"Topic3\", \"Topic3\", \"Topic3\", \"Topic3\", \"Topic3\", \"Topic3\", \"Topic3\", \"Topic3\", \"Topic3\", \"Topic3\", \"Topic3\", \"Topic3\", \"Topic3\", \"Topic3\", \"Topic3\", \"Topic3\", \"Topic3\", \"Topic3\", \"Topic3\", \"Topic3\", \"Topic3\", \"Topic3\", \"Topic3\", \"Topic3\", \"Topic3\", \"Topic3\", \"Topic3\", \"Topic3\", \"Topic3\", \"Topic3\", \"Topic3\", \"Topic4\", \"Topic4\", \"Topic4\", \"Topic4\", \"Topic4\", \"Topic4\", \"Topic4\", \"Topic4\", \"Topic4\", \"Topic4\", \"Topic4\", \"Topic4\", \"Topic4\", \"Topic4\", \"Topic4\", \"Topic4\", \"Topic4\", \"Topic4\", \"Topic4\", \"Topic4\", \"Topic4\", \"Topic4\", \"Topic4\", \"Topic4\", \"Topic4\", \"Topic4\", \"Topic4\", \"Topic4\", \"Topic4\", \"Topic4\", \"Topic4\", \"Topic4\", \"Topic4\", \"Topic4\", \"Topic4\", \"Topic4\", \"Topic4\", \"Topic4\", \"Topic4\", \"Topic4\", \"Topic4\", \"Topic4\", \"Topic4\", \"Topic4\", \"Topic4\", \"Topic4\", \"Topic4\", \"Topic4\", \"Topic4\", \"Topic4\", \"Topic4\", \"Topic4\", \"Topic4\", \"Topic5\", \"Topic5\", \"Topic5\", \"Topic5\", \"Topic5\", \"Topic5\", \"Topic5\", \"Topic5\", \"Topic5\", \"Topic5\", \"Topic5\", \"Topic5\", \"Topic5\", \"Topic5\", \"Topic5\", \"Topic5\", \"Topic5\", \"Topic5\", \"Topic5\", \"Topic5\", \"Topic5\", \"Topic5\", \"Topic5\", \"Topic5\", \"Topic5\", \"Topic5\", \"Topic5\", \"Topic5\", \"Topic5\", \"Topic5\", \"Topic5\", \"Topic5\", \"Topic5\", \"Topic5\", \"Topic5\", \"Topic5\", \"Topic5\", \"Topic5\", \"Topic5\", \"Topic5\", \"Topic5\", \"Topic5\", \"Topic5\", \"Topic5\", \"Topic5\", \"Topic5\", \"Topic5\", \"Topic5\", \"Topic5\", \"Topic5\", \"Topic5\", \"Topic5\", \"Topic5\", \"Topic5\", \"Topic5\", \"Topic5\", \"Topic5\", \"Topic5\", \"Topic5\", \"Topic5\", \"Topic5\", \"Topic5\", \"Topic5\"], \"logprob\": [30.0, 29.0, 28.0, 27.0, 26.0, 25.0, 24.0, 23.0, 22.0, 21.0, 20.0, 19.0, 18.0, 17.0, 16.0, 15.0, 14.0, 13.0, 12.0, 11.0, 10.0, 9.0, 8.0, 7.0, 6.0, 5.0, 4.0, 3.0, 2.0, 1.0, -4.1769, -4.6465, -4.8996, -4.9287, -4.9508, -5.1297, -5.368, -5.536, -5.5838, -5.6153, -5.6574, -5.9121, -5.3798, -6.0333, -6.0387, -6.0376, -6.1288, -6.1526, -6.1715, -6.2252, -6.2283, -6.2801, -6.3487, -6.416, -6.4999, -6.5283, -6.5516, -6.5965, -6.5985, -6.6126, -3.7629, -5.5573, -6.0217, -6.0231, -4.5537, -5.34, -5.6102, -5.0787, -5.0611, -5.9933, -4.999, -5.5317, -5.5023, -5.2709, -5.0932, -4.1541, -5.2423, -5.5113, -4.4144, -5.413, -5.276, -4.0011, -5.2277, -4.4008, -5.2587, -5.3516, -4.9531, -4.857, -5.3396, -5.0376, -5.0116, -5.2712, -5.2548, -5.2118, -5.326, -2.8393, -3.7737, -4.1073, -4.3243, -4.4362, -3.9961, -4.7886, -4.8691, -4.8821, -4.9957, -5.0898, -5.1966, -5.2678, -5.3785, -5.3862, -5.3864, -5.4968, -5.5561, -5.6766, -5.7615, -5.8291, -5.8367, -5.8681, -5.8788, -6.0288, -6.0642, -6.0751, -6.2625, -6.2271, -6.2776, -2.9685, -3.9272, -5.3102, -4.2972, -5.7754, -4.9483, -5.2107, -3.8242, -4.972, -4.4034, -4.6611, -5.0396, -4.8154, -4.9785, -4.7259, -5.0665, -5.0306, -5.2549, -5.2894, -4.471, -4.7494, -5.0048, -4.9688, -5.2773, -5.2865, -5.3383, -5.5001, -5.6506, -5.6873, -5.6941, -5.6964, -5.7212, -5.7268, -5.7281, -5.739, -5.8214, -5.9689, -6.0673, -6.0677, -6.093, -6.1662, -6.0706, -6.2699, -6.2791, -6.3101, -6.3339, -6.4333, -6.4345, -6.4487, -3.982, -3.4089, -5.3432, -5.6316, -5.3674, -6.2012, -6.2071, -3.1301, -4.9423, -5.2256, -4.9314, -5.9112, -3.9224, -5.0428, -5.4553, -5.184, -5.5047, -5.2104, -5.1642, -5.2478, -5.528, -4.7482, -5.4868, -5.0293, -4.8959, -5.4899, -5.1158, -4.9402, -5.1345, -5.019, -5.3976, -5.4388, -4.1844, -4.5647, -4.7277, -4.936, -5.0333, -5.0899, -5.2147, -5.2695, -4.7982, -5.425, -5.5084, -5.5132, -5.5568, -5.7242, -5.7468, -5.819, -5.8443, -5.8781, -5.8958, -5.9044, -5.9355, -5.9432, -5.9799, -5.9884, -6.0169, -5.5431, -6.063, -6.0651, -6.0799, -6.1082, -3.6749, -2.722, -3.8424, -4.5736, -4.9795, -5.4078, -4.0731, -4.7964, -5.3972, -5.4019, -5.8584, -5.0906, -5.2597, -4.7292, -4.2284, -5.2668, -5.1394, -4.7407, -4.9575, -5.3294, -5.4498, -5.2011, -5.2208, -4.9022, -4.9752, -5.119, -5.2282, -5.2706, -5.3089, -5.4466, -5.5325, -5.5759, -5.8515, -5.8951, -5.9388, -5.9873, -6.0164, -6.0316, -6.0439, -6.0958, -6.1914, -6.095, -6.212, -6.2485, -6.2819, -6.2487, -6.3554, -6.393, -6.404, -6.4342, -6.3998, -6.4628, -6.4679, -5.1789, -5.3079, -5.1154, -3.3857, -5.6722, -4.0016, -5.9247, -5.4919, -5.7442, -5.8228, -4.5152, -5.0977, -4.9406, -5.902, -5.7616, -4.5085, -5.767, -5.0258, -5.1573, -5.257, -4.1065, -5.3047, -5.0071, -5.0577, -4.8085, -5.4477, -4.7697, -4.9619, -4.899, -5.1166, -5.1676, -5.3015, -5.3185], \"loglift\": [30.0, 29.0, 28.0, 27.0, 26.0, 25.0, 24.0, 23.0, 22.0, 21.0, 20.0, 19.0, 18.0, 17.0, 16.0, 15.0, 14.0, 13.0, 12.0, 11.0, 10.0, 9.0, 8.0, 7.0, 6.0, 5.0, 4.0, 3.0, 2.0, 1.0, 1.5484, 1.5484, 1.5484, 1.5484, 1.5484, 1.5484, 1.5484, 1.5483, 1.5483, 1.5483, 1.5483, 1.5483, 1.5483, 1.5483, 1.5483, 1.5483, 1.5483, 1.5483, 1.5483, 1.5483, 1.5483, 1.5483, 1.5483, 1.5483, 1.5483, 1.5483, 1.5483, 1.5483, 1.5483, 1.5483, 1.5479, 1.5459, 1.5472, 1.5454, 1.5255, 1.5348, 1.5357, 1.5238, 1.5159, 1.5423, 1.4984, 1.5196, 1.5159, 1.5007, 1.4563, 1.3387, 1.457, 1.4518, 1.2413, 1.4299, 1.4017, 1.0253, 1.2927, 0.6982, 1.2575, 1.3288, 0.9285, 0.7021, 1.2782, 0.81, 0.4398, 0.7312, 0.5149, -0.0619, 1.0957, 1.5646, 1.5646, 1.5646, 1.5646, 1.5646, 1.5646, 1.5646, 1.5646, 1.5646, 1.5646, 1.5646, 1.5646, 1.5646, 1.5646, 1.5646, 1.5646, 1.5646, 1.5646, 1.5646, 1.5646, 1.5646, 1.5646, 1.5646, 1.5646, 1.5646, 1.5646, 1.5646, 1.5645, 1.5645, 1.5645, 1.5622, 1.5643, 1.5636, 1.5527, 1.5636, 1.5479, 1.5391, 1.3257, 1.4465, 1.3458, 0.7903, 0.9628, 0.7332, 0.7975, 0.3731, 0.8614, 0.3077, 1.0573, 0.2697, 1.6088, 1.6088, 1.6088, 1.6088, 1.6088, 1.6088, 1.6088, 1.6088, 1.6088, 1.6088, 1.6088, 1.6088, 1.6088, 1.6087, 1.6087, 1.6087, 1.6087, 1.6087, 1.6087, 1.6087, 1.6087, 1.6087, 1.6087, 1.6087, 1.6087, 1.6087, 1.6087, 1.6087, 1.6087, 1.6087, 1.6083, 1.5897, 1.6065, 1.6084, 1.6012, 1.6083, 1.6081, 1.574, 1.5916, 1.5965, 1.5801, 1.6039, 1.5334, 1.5714, 1.5769, 1.5467, 1.5715, 1.5311, 1.5084, 1.508, 1.5673, 1.303, 1.5108, 1.2259, 0.9516, 1.3954, 0.782, 0.0861, 0.4655, 0.0801, 1.2042, 1.0817, 1.6421, 1.6421, 1.6421, 1.6421, 1.6421, 1.6421, 1.6421, 1.6421, 1.6421, 1.6421, 1.6421, 1.6421, 1.6421, 1.6421, 1.6421, 1.6421, 1.6421, 1.6421, 1.6421, 1.6421, 1.6421, 1.6421, 1.6421, 1.6421, 1.6421, 1.6421, 1.6421, 1.6421, 1.6421, 1.6421, 1.6414, 1.6309, 1.6344, 1.6404, 1.6392, 1.6419, 1.6245, 1.6282, 1.6299, 1.6288, 1.6389, 1.5704, 1.5614, 1.4624, 1.3055, 1.4501, 1.3828, 1.0391, 1.0463, 1.1129, 1.4452, 0.551, 0.3574, 1.6898, 1.6898, 1.6898, 1.6898, 1.6898, 1.6898, 1.6897, 1.6897, 1.6897, 1.6897, 1.6897, 1.6897, 1.6897, 1.6897, 1.6897, 1.6897, 1.6897, 1.6897, 1.6897, 1.6897, 1.6897, 1.6897, 1.6897, 1.6897, 1.6897, 1.6897, 1.6897, 1.6897, 1.6897, 1.6897, 1.6893, 1.6891, 1.6864, 1.6665, 1.6892, 1.6712, 1.689, 1.6844, 1.6866, 1.6866, 1.673, 1.6735, 1.6648, 1.683, 1.6701, 1.569, 1.6652, 1.5767, 1.5917, 1.5821, 1.2318, 1.5176, 1.4233, 1.4319, 1.327, 1.531, 0.8085, 0.9659, 0.8706, 0.9862, -0.1413, 0.2985, 0.2301]}, \"token.table\": {\"Topic\": [1, 5, 1, 2, 3, 4, 5, 3, 3, 2, 5, 4, 1, 5, 1, 2, 4, 5, 1, 5, 1, 2, 4, 2, 3, 4, 5, 5, 1, 2, 3, 4, 5, 3, 1, 2, 3, 4, 5, 2, 2, 3, 5, 2, 2, 3, 4, 5, 1, 2, 3, 5, 1, 1, 2, 3, 4, 2, 3, 5, 4, 2, 3, 5, 1, 3, 4, 1, 2, 3, 5, 2, 3, 4, 5, 4, 2, 4, 4, 3, 3, 5, 3, 5, 2, 3, 5, 5, 1, 4, 4, 2, 1, 2, 5, 3, 3, 2, 5, 5, 1, 4, 5, 1, 2, 4, 5, 2, 3, 5, 2, 4, 2, 3, 5, 1, 3, 4, 3, 1, 3, 3, 4, 5, 1, 1, 1, 1, 2, 1, 3, 5, 4, 1, 5, 4, 2, 4, 3, 3, 3, 3, 4, 5, 1, 2, 3, 4, 5, 1, 2, 3, 1, 2, 3, 4, 4, 5, 5, 1, 2, 3, 5, 5, 1, 2, 5, 2, 1, 3, 3, 3, 1, 1, 4, 5, 4, 1, 5, 3, 1, 5, 1, 3, 4, 4, 1, 2, 3, 4, 5, 1, 2, 3, 4, 5, 1, 2, 3, 4, 5, 1, 2, 3, 4, 5, 1, 3, 4, 5, 2, 5, 1, 3, 1, 2, 1, 3, 4, 5, 2, 4, 4, 1, 3, 4, 3, 3, 2, 4, 5, 1, 1, 2, 5, 5, 3, 5, 5, 3, 1, 3, 1, 3, 4, 5, 2, 1, 2, 3, 2, 4, 1, 2, 3, 4, 5, 2, 2, 4, 1, 2, 3, 4, 5, 1, 3, 5, 1, 3, 4, 1, 2, 3, 4, 5, 2, 1, 2, 3, 4, 5, 4, 4, 1, 4, 5, 4, 4, 2, 3, 4, 1, 2, 3, 4, 5, 1, 2, 3, 4, 5, 3, 1, 2, 3, 4, 1, 2, 3, 5, 1, 3, 4, 5, 2, 3, 5, 1, 2, 4, 5, 3, 4, 1, 2, 3, 5, 1, 1, 1, 4, 5, 3, 4, 5, 3, 5, 2, 4, 5, 1, 2, 3, 4, 5, 4, 3, 3, 3, 1, 4, 2, 1, 3, 4, 5, 4, 3, 5, 2, 4, 3, 1, 2, 3, 4, 3, 4, 5, 4, 1, 3, 1, 2, 3, 5, 1, 5, 3, 4, 5, 3, 5, 1, 1, 1, 1, 3, 4, 1, 1, 2, 3, 5, 3, 1, 2, 3, 4, 5, 1, 4, 5, 2, 4, 2, 2, 1, 2, 1, 2, 3, 5, 4, 1, 4, 1, 2, 3, 5, 1, 3, 4, 5, 3, 5, 4, 3, 1, 2, 3, 5, 4, 4, 1, 2, 3, 4, 5, 2, 1, 2, 3, 4, 5, 1, 5, 5, 5, 1, 2, 3, 4, 5, 1, 3, 4, 5, 2, 3, 4, 5, 1, 5, 1, 4, 4, 1, 1, 4, 5, 1, 2, 3, 5, 1, 2, 3, 4, 5, 1, 2, 3, 4, 5, 1, 2, 3, 4, 5, 4, 2, 1, 4, 5, 1, 3, 4, 5, 1, 2, 3, 5, 2, 1, 2, 3, 5, 2, 2, 5, 4, 5, 1, 2, 3, 4, 5, 2, 1, 3, 4, 1, 3, 5, 1, 2, 4, 5, 3, 1, 2, 3, 4, 5, 2, 1, 2, 3, 4, 5, 5, 1, 1, 5, 5, 1, 4, 5, 5, 3, 4, 2, 1, 2, 3, 4, 5], \"Freq\": [0.9991118853051255, 0.9998722650375427, 0.09088703341213072, 0.11860258480978599, 0.09962617124022022, 0.27665613467209027, 0.414235133051442, 0.998596014045472, 0.9998505987605619, 1.0004076746613206, 0.999645167731912, 0.9991423322338074, 0.019122859927048423, 0.9800465712612316, 0.04558990427051632, 0.0010131089837892516, 0.10029778939513591, 0.8530377643505498, 0.003395433520903006, 0.9965597383850323, 0.0117957077314532, 0.9882181810573015, 0.9999360006114747, 0.024916065904095803, 0.8074650987438454, 0.08582200478077442, 0.08120791850223817, 0.999098145769064, 0.15775400614000495, 0.011814176671277904, 0.6671535061427523, 0.11883671828167774, 0.044476900409516816, 1.0004503616702862, 0.0024045214602043353, 0.19677000616005477, 0.7365850739759281, 0.052899472124495375, 0.011621853724320954, 1.0006833646022177, 0.9992786789034528, 0.0014524399402666465, 0.9991940600576127, 1.0002172383527017, 1.000276856771676, 0.00931344591907052, 0.9860610866815912, 0.004074632589593352, 0.9994888686791907, 0.12557816010692605, 0.5900892115228515, 0.2838322700375931, 1.0011315512349381, 0.00017520252474479493, 0.9976031758968623, 0.00017520252474479493, 0.002102430296937539, 1.0000545468781579, 1.0004299257044236, 1.000406144723727, 0.9992630763536409, 0.11300758283372582, 0.12120502407555049, 0.7658752245933336, 0.007919390159285231, 0.0032997458997021797, 0.9887505269240932, 0.022701030229735575, 0.01459351943340144, 0.903987453791256, 0.05837407773360576, 0.9997723890371356, 0.9830569771959401, 0.009090355139196276, 0.008441044057825113, 1.0000693343019467, 0.011697764987737131, 0.9879294248734359, 0.9998187166449977, 0.9986397899760528, 0.016465886832911312, 0.9838367382664509, 0.99997297541131, 0.9999827940537414, 0.0120288599016769, 0.9810514343065322, 0.006853652734676373, 0.9996865208054901, 0.9977233775034581, 0.0036546643864595533, 0.9997349186355793, 1.0003343399082074, 0.05404640492553852, 0.17332122958879595, 0.7728014681306887, 1.0004998698114973, 0.9998187638476659, 1.000268178519757, 1.0002353380376736, 1.0007660507105183, 0.015944821915480297, 0.007972410957740149, 0.9758231012273941, 0.018745467810640813, 0.283361722718989, 0.002179705559376839, 0.695762014553087, 1.0001466518167337, 1.0011041436495145, 1.0009444765489246, 0.0034033789342215303, 0.9971900277269083, 0.0008810951432033725, 0.10132594146838783, 0.8978359509242365, 0.9675356149505097, 0.0021079207297396724, 0.030564850581225253, 1.0003269333418277, 1.0004336843583466, 1.0004192466705066, 0.9875430938096127, 0.005197595230576909, 0.006930126974102545, 1.0009995056882117, 0.9999560650769517, 1.0000250258674561, 0.9997829277091766, 0.9998588188649855, 0.9980948079015213, 0.001828012468684105, 0.9998487511668044, 0.9994150803466411, 0.9989433257843048, 0.9994637361277156, 0.9996152985859579, 0.06930849046093453, 0.9305033506563762, 1.0001637698654458, 1.0000426067143544, 1.0001686778480698, 1.000294830206578, 0.9992185154157476, 0.0007686296272428827, 0.7355437823371976, 0.07069422999719215, 0.01753864484663164, 0.0728528324398545, 0.10334309194246027, 0.9681392223415977, 0.0033898432154817848, 0.02847468301004699, 0.033505402337441786, 0.0022336934891627855, 0.963838740573742, 0.9995015868585774, 0.999176480043504, 0.9992072061029507, 0.9993020068125001, 0.02608830518170721, 0.007114992322283785, 0.9399695412439356, 0.02687885988418319, 1.0000723320707952, 0.9936033473854325, 0.0017679774864509477, 0.0035359549729018953, 1.0002426134374316, 0.04098332653686929, 0.9596928964050225, 0.9987775039177272, 0.9999910633098078, 0.999787505574945, 0.15723671277265505, 0.835521769923903, 0.006916570943078668, 1.0001769839210968, 1.0000778146408862, 0.999934377094818, 1.0000730151965762, 0.9989648821897168, 0.9996319274794212, 0.9997595658248373, 0.9254778753417603, 0.07432594335646261, 0.9999878572726189, 0.4289643171828926, 0.27389040925783775, 0.06418540896740026, 0.03160273952975051, 0.20137559607329394, 0.0329095535345623, 0.09366565236760038, 0.3206571882854788, 0.05780267736198762, 0.49490905507745603, 0.19980726262723225, 0.7875139667066808, 0.0009762569835206787, 0.0045558659230965, 0.007159217879151644, 0.0004418934098624385, 0.027618338116402408, 0.9273133205963272, 0.0424217673467941, 0.001988520344380973, 0.0088453363825316, 0.6820737166085479, 0.11597218812652543, 0.1931231776852733, 0.9993608395000921, 0.9998297105107796, 0.6361554063312864, 0.3639319705928071, 0.9757784796178726, 0.024342299919191405, 0.024765748240467518, 0.9715793540491102, 0.0006350191856530133, 0.003175095928265066, 0.9995521276611876, 0.9996950249445118, 0.9998671542914025, 0.02458412828468467, 0.9684008793880134, 0.006413250856874261, 0.999516373986617, 1.0008467627081603, 1.000073929834522, 0.004937739486915227, 0.9949545066134182, 1.000011063590992, 0.9994805068524997, 0.00038221051887284884, 0.9998188353117885, 1.000647860998722, 0.02440995629099784, 0.9750033969947137, 0.9997068833709762, 0.9997705920067763, 0.9970402903844997, 0.002294684212622554, 0.9717386898134389, 0.004357572600060264, 0.020698469850286255, 0.004357572600060264, 0.9994780516578422, 0.9121786219985861, 0.08574347133753883, 0.0026382606565396563, 0.411198122291628, 0.5889494719854154, 0.3556024530476673, 0.16963688448957598, 0.011188172417316063, 0.022678727872937968, 0.4408744698499141, 0.9998298475605979, 0.9750693937387883, 0.024981116699092924, 0.0016670726034493598, 0.009168899318971479, 0.9658601896234729, 0.022609672184281945, 0.0007293442640090949, 0.03377686161668545, 0.9633442406925495, 0.003518423085071401, 0.9997519087431378, 0.012806356580196672, 0.9871566530568268, 0.1337110370285556, 0.0058434129292684964, 0.43756850935051744, 0.268109534401731, 0.1550223077117701, 0.9998755107517041, 0.7476987578370312, 0.24115198844914487, 0.003189841117052181, 0.003827809340462617, 0.004465777563873053, 0.9994556528703095, 0.9991837256042113, 0.24375154907736413, 0.5470664466134827, 0.2092353522781885, 1.000014705454622, 1.000477901464315, 0.8035108136329573, 0.19643350643018095, 1.0000098998475202, 0.0024156664034268613, 0.0394558845893054, 0.0024156664034268613, 0.049118550203012847, 0.9066801234195486, 0.236452392511758, 0.46438397808615534, 0.09281593271053563, 0.2060209391640414, 0.000304314533477166, 1.000219450196585, 0.006994629118375662, 0.00022563319736695686, 0.0004512663947339137, 0.9923348020198762, 0.5381188329149469, 0.3761081974867511, 0.05513096779706873, 0.0307786384633942, 0.0042205642685920735, 0.0002813709512394716, 0.9825473617282348, 0.01266169280577622, 0.09528557555569782, 0.01182375755070703, 0.8930414526534015, 0.001732843853549566, 0.007797797340973048, 0.1481581494784879, 0.8421621128250891, 0.9993053996216341, 0.9997401337897769, 0.03655213624945341, 0.041027908035100764, 0.9048518626650405, 0.017903087142589424, 1.0003650042512442, 0.9998859229690212, 0.9509796867649547, 0.014399297429620777, 0.03443310254909316, 0.00212034653146944, 0.9972696519677934, 0.00141356435431296, 0.007430299581214198, 0.9938025689873989, 0.49487185275727286, 0.020191621766044776, 0.4849531613634263, 0.5925962963834595, 0.019988081824144837, 0.2181433102678253, 0.009059346438281473, 0.16019225289278666, 0.99929384455131, 0.9990465537756045, 0.9994999674043683, 0.9994784226128891, 0.22847666021555504, 0.7714296224131943, 0.9998836707367302, 0.7633974914713646, 0.002824782577137334, 0.23304456261383008, 0.0007061956442843335, 1.000045334953214, 1.0000012419421458, 0.9993380418519974, 0.9988474789783426, 0.0009121894785190343, 0.9992760759807758, 0.36156870365193167, 0.6019208491011294, 0.022890680518971213, 0.013526311215755716, 0.9943442301999875, 0.005196921063763001, 1.0002331707097722, 0.9993908211591307, 0.9998175381442491, 0.9998632610563205, 0.9775023409190915, 0.007417808657902043, 0.014011416353814971, 0.0012363014429836738, 1.0003920733700258, 1.000566576725794, 0.9992966072360514, 0.9991723120905962, 0.9999289053784145, 0.0010317441318394437, 0.9997600637524209, 1.0001579029025582, 0.9991563377143392, 0.9998499673004252, 0.003008921253031403, 0.9919410397493525, 0.005014868755052338, 1.0003717854203844, 0.0011804811281534032, 0.01992061903758868, 0.00191828183324928, 0.9769956936879604, 0.9990927463450123, 0.8107158092325006, 0.054108860570947444, 0.013527215142736861, 0.010317367481748453, 0.11119829396995555, 0.1705190033257323, 0.8209138903277058, 0.008386180491429458, 0.9997096128007849, 0.0002289760908842842, 0.9998232233897776, 0.9996112251585949, 1.00037353994421, 1.00016296863546, 0.8637523911201709, 0.0007497850617362594, 0.03823903814854923, 0.09672227296397748, 1.0004802320446806, 0.8029680694034155, 0.19698280354278544, 0.912492116446875, 0.04213859479813445, 0.03754165718379251, 0.007661562690569899, 0.9991725602767795, 0.997868383329905, 0.0019681822156408383, 0.0009840911078204191, 0.016544759104915523, 0.9834940134588672, 1.0001996132777253, 1.0001414833392779, 0.040317792928329536, 0.07199605880058846, 0.0016456242011563078, 0.8861686323226717, 1.000153961941551, 0.9994887711283349, 0.2751639016101838, 0.3268685656276481, 0.03714415518496001, 0.3357831628720385, 0.02496087228429313, 0.9999850689224542, 0.887977774203736, 0.005306640084882885, 0.0857906813722733, 0.016804360268795802, 0.0035377600565885898, 0.9879457258186756, 0.011975099706893038, 1.0002832471540501, 1.0000977759565686, 0.16800642666579543, 0.4354105949376171, 0.008485173063929062, 0.1558847508601825, 0.23225130843554406, 0.9537227813606293, 0.008235948025566747, 0.0032943792102266985, 0.034590981707380335, 0.9999292941315304, 0.07528869043680923, 0.9225028046625131, 0.0017307744928002121, 0.7745809167300635, 0.22551900966830632, 0.9076693219037569, 0.09176437100565456, 0.9996914785734319, 1.0014728307227538, 0.9998575598420263, 0.0034449071827458893, 0.9973006294049349, 0.4779136420194916, 0.0016344515800940207, 0.5184480412058233, 0.002288232212131629, 0.4272826786987623, 0.30372174482966674, 0.2168115510443955, 0.01639231413031806, 0.035722873246259175, 0.32993110759448385, 0.46102373434535876, 0.013857106518968322, 0.14297014662427635, 0.05212911499992845, 0.01620126412252697, 0.8887550604357652, 0.004628932606436277, 0.006364782333849881, 0.08447802006746205, 1.0001162430202832, 0.9994513143390197, 0.9862285918772821, 0.0073053969768687565, 0.006392222354760162, 0.013421191005811807, 0.9064465925463667, 0.007226795156975588, 0.07330035087789526, 0.44156664436462784, 0.5476647663467943, 0.0049614229703890764, 0.005724718811987396, 0.9999291436842216, 0.001250630827245341, 0.9836211456284608, 0.001250630827245341, 0.013756939099698752, 0.9999331681633571, 1.0001669489910434, 0.9988284248325233, 1.000065039926373, 0.9995282302064051, 0.16816312222199273, 0.2212873812875768, 0.006497211540395174, 0.5511164141911671, 0.05274207015144318, 1.000001925930885, 0.0004715625414214107, 0.0009431250828428214, 0.9982979001891265, 1.0005295608561469, 0.003184412858317353, 0.9967212246533315, 0.05692416114308675, 0.0725198217302338, 0.8250104450600791, 0.04522741570272646, 0.9986787153237379, 0.06522016220539889, 0.2844542014259566, 0.017287271909864767, 0.0003928925434060174, 0.632556994883688, 1.0010128215426597, 0.15515913036868254, 0.059715849516894265, 0.3187397266948758, 0.21768213520474705, 0.24881603965372612, 1.0011137702798576, 0.9996209269094034, 1.0007807285138286, 0.999236812420603, 1.0000639546018841, 0.006862178609207902, 0.011528460063469274, 0.9815660282610983, 1.0001601825288788, 0.999524000137682, 0.000505448293369245, 0.9994779143820554, 0.0016721386897541402, 0.2001788888591385, 0.0031054004238291175, 0.714242097480697, 0.08097928797523622], \"Term\": [\"accident\", \"accord\", \"also\", \"also\", \"also\", \"also\", \"also\", \"america\", \"american\", \"announce\", \"anyone\", \"anyone_else\", \"article\", \"article\", \"ask\", \"ask\", \"ask\", \"ask\", \"autopilot\", \"autopilot\", \"back\", \"back\", \"battery\", \"become\", \"become\", \"become\", \"become\", \"benefit\", \"best\", \"best\", \"best\", \"best\", \"best\", \"biden\", \"big\", \"big\", \"big\", \"big\", \"big\", \"billion\", \"bitcoin\", \"bitcoin\", \"black\", \"board\", \"bot\", \"build\", \"build\", \"build\", \"burn\", \"business\", \"business\", \"business\", \"button\", \"buy\", \"buy\", \"buy\", \"buy\", \"buying\", \"c\", \"california\", \"california_united\", \"call\", \"call\", \"call\", \"car\", \"car\", \"car\", \"care\", \"care\", \"care\", \"care\", \"cash\", \"change\", \"change\", \"change\", \"charge\", \"cheap\", \"cheap\", \"china\", \"choice\", \"claim\", \"claim\", \"climate_change\", \"comment\", \"company\", \"company\", \"company\", \"condition\", \"cool\", \"cool\", \"cost\", \"cover\", \"crash\", \"crash\", \"crash\", \"create\", \"credit\", \"crypto\", \"customer\", \"cybertruck\", \"data\", \"data\", \"data\", \"day\", \"day\", \"day\", \"day\", \"deal\", \"decision\", \"delivery\", \"demand\", \"demand\", \"democrat\", \"democrat\", \"democrat\", \"design\", \"design\", \"design\", \"destroy\", \"die\", \"difference\", \"do\", \"do\", \"do\", \"dont\", \"door\", \"drive\", \"driver\", \"drop\", \"dude\", \"dude\", \"economy\", \"electricity\", \"emergency\", \"employee\", \"energy\", \"enough\", \"enough\", \"enter\", \"environment\", \"esg\", \"esg_index\", \"ev\", \"ev\", \"even\", \"even\", \"even\", \"even\", \"even\", \"ever\", \"ever\", \"ever\", \"everything\", \"everything\", \"everything\", \"evs\", \"expensive\", \"experience\", \"face\", \"fact\", \"fact\", \"fact\", \"fact\", \"factory\", \"fail\", \"fail\", \"fail\", \"fall\", \"feel\", \"feel\", \"fight\", \"find\", \"fire\", \"first\", \"first\", \"first\", \"first_time\", \"fix\", \"ford\", \"free\", \"front\", \"fsd\", \"fuck\", \"future\", \"future\", \"gas\", \"get\", \"get\", \"get\", \"get\", \"get\", \"give\", \"give\", \"give\", \"give\", \"give\", \"go\", \"go\", \"go\", \"go\", \"go\", \"good\", \"good\", \"good\", \"good\", \"good\", \"great\", \"great\", \"great\", \"great\", \"growth\", \"gt\", \"guy\", \"guy\", \"happen\", \"happen\", \"help\", \"help\", \"help\", \"help\", \"hold\", \"home\", \"house\", \"idea\", \"idea\", \"idea\", \"important\", \"index\", \"investor\", \"job\", \"job\", \"kid\", \"know\", \"know\", \"lack\", \"lawsuit\", \"leave\", \"leave\", \"lie\", \"list\", \"literally\", \"literally\", \"live\", \"live\", \"live\", \"live\", \"loan\", \"lol\", \"lol\", \"lol\", \"long\", \"long\", \"look\", \"look\", \"look\", \"look\", \"look\", \"lose\", \"low\", \"low\", \"make\", \"make\", \"make\", \"make\", \"make\", \"man\", \"man\", \"man\", \"manual\", \"manufacturer\", \"manufacturer\", \"many\", \"many\", \"many\", \"many\", \"many\", \"market\", \"maybe\", \"maybe\", \"maybe\", \"maybe\", \"maybe\", \"mile\", \"mine\", \"model\", \"model\", \"model\", \"model_dual\", \"model_standard\", \"money\", \"money\", \"motor\", \"move\", \"move\", \"move\", \"move\", \"move\", \"much\", \"much\", \"much\", \"much\", \"much\", \"name\", \"need\", \"need\", \"need\", \"need\", \"never\", \"never\", \"never\", \"never\", \"new\", \"new\", \"new\", \"new\", \"news\", \"news\", \"news\", \"next\", \"next\", \"next\", \"next\", \"nikola\", \"non\", \"nothing\", \"nothing\", \"nothing\", \"nothing\", \"ok\", \"open\", \"owner\", \"owner\", \"owner\", \"part\", \"part\", \"part\", \"party\", \"party\", \"pay\", \"pay\", \"pay\", \"people\", \"people\", \"people\", \"people\", \"people\", \"performance\", \"planet\", \"political\", \"politics\", \"power\", \"power\", \"price\", \"problem\", \"problem\", \"problem\", \"problem\", \"produce\", \"product\", \"promise\", \"purchase\", \"purchase\", \"push\", \"put\", \"put\", \"put\", \"put\", \"quality\", \"quality\", \"racism\", \"range\", \"read\", \"real\", \"really\", \"really\", \"really\", \"really\", \"recall\", \"record\", \"remove\", \"replace\", \"report\", \"republican\", \"republican\", \"ride\", \"safe\", \"safety\", \"save\", \"save\", \"save\", \"saw\", \"say\", \"say\", \"say\", \"say\", \"scam\", \"see\", \"see\", \"see\", \"see\", \"see\", \"self_driving\", \"self_driving\", \"self_driving\", \"sell\", \"sell\", \"share\", \"shareholder\", \"shit\", \"short\", \"show\", \"show\", \"show\", \"show\", \"solar\", \"someone\", \"someone\", \"something\", \"something\", \"something\", \"something\", \"sorry\", \"space\", \"space\", \"space\", \"spacex\", \"spacex\", \"spot\", \"st_may\", \"start\", \"start\", \"start\", \"start\", \"state\", \"states_teslaradar\", \"still\", \"still\", \"still\", \"still\", \"still\", \"stock\", \"stop\", \"stop\", \"stop\", \"stop\", \"stop\", \"story\", \"story\", \"sue\", \"support\", \"take\", \"take\", \"take\", \"take\", \"take\", \"talk\", \"talk\", \"talk\", \"talk\", \"tank\", \"technology\", \"technology\", \"technology\", \"tell\", \"tell\", \"tesla\", \"tesla\", \"teslaradar\", \"teslas\", \"test\", \"texas\", \"texas\", \"thing\", \"thing\", \"thing\", \"thing\", \"think\", \"think\", \"think\", \"think\", \"think\", \"time\", \"time\", \"time\", \"time\", \"time\", \"today\", \"today\", \"today\", \"today\", \"today\", \"toyota\", \"trade\", \"truck\", \"truck\", \"truck\", \"true\", \"true\", \"true\", \"true\", \"try\", \"try\", \"try\", \"try\", \"tsla\", \"tweet\", \"tweet\", \"tweet\", \"tweet\", \"twitter\", \"twitter_deal\", \"union\", \"unitedstates_model\", \"update\", \"use\", \"use\", \"use\", \"use\", \"use\", \"value\", \"vehicle\", \"vehicle\", \"vehicle\", \"video\", \"vote\", \"vote\", \"wait\", \"wait\", \"wait\", \"wait\", \"wake\", \"want\", \"want\", \"want\", \"want\", \"want\", \"wealth\", \"well\", \"well\", \"well\", \"well\", \"well\", \"white\", \"window\", \"wish\", \"woman\", \"word\", \"work\", \"work\", \"work\", \"worker\", \"world\", \"world\", \"worth\", \"year\", \"year\", \"year\", \"year\", \"year\"]}, \"R\": 30, \"lambda.step\": 0.01, \"plot.opts\": {\"xlab\": \"PC1\", \"ylab\": \"PC2\"}, \"topic.order\": [2, 4, 1, 5, 3]};\n",
       "\n",
       "function LDAvis_load_lib(url, callback){\n",
       "  var s = document.createElement('script');\n",
       "  s.src = url;\n",
       "  s.async = true;\n",
       "  s.onreadystatechange = s.onload = callback;\n",
       "  s.onerror = function(){console.warn(\"failed to load library \" + url);};\n",
       "  document.getElementsByTagName(\"head\")[0].appendChild(s);\n",
       "}\n",
       "\n",
       "if(typeof(LDAvis) !== \"undefined\"){\n",
       "   // already loaded: just create the visualization\n",
       "   !function(LDAvis){\n",
       "       new LDAvis(\"#\" + \"ldavis_el5835683141030408005495381\", ldavis_el5835683141030408005495381_data);\n",
       "   }(LDAvis);\n",
       "}else if(typeof define === \"function\" && define.amd){\n",
       "   // require.js is available: use it to load d3/LDAvis\n",
       "   require.config({paths: {d3: \"https://d3js.org/d3.v5\"}});\n",
       "   require([\"d3\"], function(d3){\n",
       "      window.d3 = d3;\n",
       "      LDAvis_load_lib(\"https://cdn.jsdelivr.net/gh/bmabey/pyLDAvis@3.3.1/pyLDAvis/js/ldavis.v3.0.0.js\", function(){\n",
       "        new LDAvis(\"#\" + \"ldavis_el5835683141030408005495381\", ldavis_el5835683141030408005495381_data);\n",
       "      });\n",
       "    });\n",
       "}else{\n",
       "    // require.js not available: dynamically load d3 & LDAvis\n",
       "    LDAvis_load_lib(\"https://d3js.org/d3.v5.js\", function(){\n",
       "         LDAvis_load_lib(\"https://cdn.jsdelivr.net/gh/bmabey/pyLDAvis@3.3.1/pyLDAvis/js/ldavis.v3.0.0.js\", function(){\n",
       "                 new LDAvis(\"#\" + \"ldavis_el5835683141030408005495381\", ldavis_el5835683141030408005495381_data);\n",
       "            })\n",
       "         });\n",
       "}\n",
       "</script>"
      ],
      "text/plain": [
       "PreparedData(topic_coordinates=              x         y  topics  cluster       Freq\n",
       "topic                                                \n",
       "1     -0.074992 -0.013583       1        1  21.258891\n",
       "3      0.005595  0.173295       2        1  20.916416\n",
       "0     -0.209796 -0.274018       3        1  20.012554\n",
       "4      0.359973 -0.113992       4        1  19.356433\n",
       "2     -0.080780  0.228297       5        1  18.455706, topic_info=        Term          Freq         Total Category  logprob  loglift\n",
       "88       car  13637.000000  13637.000000  Default  30.0000  30.0000\n",
       "116    stock  12958.000000  12958.000000  Default  29.0000  29.0000\n",
       "109      buy  11415.000000  11415.000000  Default  28.0000  28.0000\n",
       "153     make   9597.000000   9597.000000  Default  27.0000  27.0000\n",
       "233  company   7149.000000   7149.000000  Default  26.0000  26.0000\n",
       "..       ...           ...           ...      ...      ...      ...\n",
       "140     look   1457.685372   3307.063801   Topic5  -4.8990   0.8706\n",
       "320     give   1172.701771   2370.132427   Topic5  -5.1166   0.9862\n",
       "128   people   1114.355493   6954.144036   Topic5  -5.1676  -0.1413\n",
       "41      well    974.712821   3918.557668   Topic5  -5.3015   0.2985\n",
       "324     take    958.258971   4124.842208   Topic5  -5.3185   0.2301\n",
       "\n",
       "[322 rows x 6 columns], token_table=      Topic      Freq      Term\n",
       "term                           \n",
       "1472      1  0.999112  accident\n",
       "11        5  0.999872    accord\n",
       "230       1  0.090887      also\n",
       "230       2  0.118603      also\n",
       "230       3  0.099626      also\n",
       "...     ...       ...       ...\n",
       "290       1  0.001672      year\n",
       "290       2  0.200179      year\n",
       "290       3  0.003105      year\n",
       "290       4  0.714242      year\n",
       "290       5  0.080979      year\n",
       "\n",
       "[559 rows x 3 columns], R=30, lambda_step=0.01, plot_opts={'xlab': 'PC1', 'ylab': 'PC2'}, topic_order=[2, 4, 1, 5, 3])"
      ]
     },
     "execution_count": 44,
     "metadata": {},
     "output_type": "execute_result"
    }
   ],
   "source": [
    "pyLDAvis.enable_notebook()\n",
    "gensimvis.prepare(newer_model, corpus, id2word)"
   ]
  },
  {
   "cell_type": "code",
   "execution_count": 45,
   "id": "57090de3",
   "metadata": {},
   "outputs": [],
   "source": [
    "def format_topics_sentences(ldamodel=None, corpus=corpus, texts=data):\n",
    "    # Init output\n",
    "    sent_topics_df = pd.DataFrame()\n",
    "\n",
    "    # Get main topic in each document\n",
    "    for i, row_list in enumerate(ldamodel[corpus]):\n",
    "        row = row_list[0] if ldamodel.per_word_topics else row_list            \n",
    "        # print(row)\n",
    "        row = sorted(row, key=lambda x: (x[1]), reverse=True)\n",
    "        # Get the Dominant topic, Perc Contribution and Keywords for each document\n",
    "        for j, (topic_num, prop_topic) in enumerate(row):\n",
    "            if j == 0:  # => dominant topic\n",
    "                wp = ldamodel.show_topic(topic_num)\n",
    "                topic_keywords = \", \".join([word for word, prop in wp])\n",
    "                sent_topics_df = sent_topics_df.append(pd.Series([int(topic_num), round(prop_topic,4), topic_keywords]), ignore_index=True)\n",
    "            else:\n",
    "                break\n",
    "    sent_topics_df.columns = ['Dominant_Topic', 'Perc_Contribution', 'Topic_Keywords']\n",
    "\n",
    "    # Add original text to the end of the output\n",
    "    contents = pd.Series(texts)\n",
    "    sent_topics_df = pd.concat([sent_topics_df, contents], axis=1)\n",
    "    return(sent_topics_df)\n",
    "\n"
   ]
  },
  {
   "cell_type": "code",
   "execution_count": 46,
   "id": "b011e0a8",
   "metadata": {},
   "outputs": [],
   "source": [
    "# Every Tweet Classified by Dominant Topic\n",
    "df_topic_sents_keywords = format_topics_sentences(ldamodel = newer_model,\n",
    "                                                  corpus = corpus,\n",
    "                                                  texts = lem_noNone)"
   ]
  },
  {
   "cell_type": "code",
   "execution_count": null,
   "id": "9ea9b691",
   "metadata": {},
   "outputs": [],
   "source": [
    "sent_topics_Sorteddf = pd.DataFrame()\n",
    "sent_topics_Outdf = df_topic_sents_keywords.groupby('Dominant_Topic')\n",
    "\n",
    "for i, group in sent_topics_Outdf:\n",
    "    sent_topics_Sorteddf = pd.concat([sent_topics_Sorteddf, \n",
    "                                             group.sort_values(['Perc_Contribution'], ascending=False).head(1)], \n",
    "                                            axis=0)\n",
    "# Reset Index    \n",
    "sent_topics_Sorteddf.reset_index(drop=True, inplace=True)\n",
    "# Format\n",
    "sent_topics_Sorteddf.columns = ['Topic_Num', \"Topic_Perc_Contrib\", \"Keywords\", \"Representative Text\"]\n",
    "\n"
   ]
  },
  {
   "cell_type": "code",
   "execution_count": null,
   "id": "e3545251",
   "metadata": {},
   "outputs": [
    {
     "data": {
      "text/html": [
       "<div>\n",
       "<style scoped>\n",
       "    .dataframe tbody tr th:only-of-type {\n",
       "        vertical-align: middle;\n",
       "    }\n",
       "\n",
       "    .dataframe tbody tr th {\n",
       "        vertical-align: top;\n",
       "    }\n",
       "\n",
       "    .dataframe thead th {\n",
       "        text-align: right;\n",
       "    }\n",
       "</style>\n",
       "<table border=\"1\" class=\"dataframe\">\n",
       "  <thead>\n",
       "    <tr style=\"text-align: right;\">\n",
       "      <th></th>\n",
       "      <th>Topic_Num</th>\n",
       "      <th>Topic_Perc_Contrib</th>\n",
       "      <th>Keywords</th>\n",
       "      <th>Representative Text</th>\n",
       "    </tr>\n",
       "  </thead>\n",
       "  <tbody>\n",
       "    <tr>\n",
       "      <th>0</th>\n",
       "      <td>0</td>\n",
       "      <td>0.8408</td>\n",
       "      <td>stock, twitter, sell, market, price, buy, mone...</td>\n",
       "      <td>[tsla, almost, wednesday, company, remove, esg...</td>\n",
       "    </tr>\n",
       "    <tr>\n",
       "      <th>1</th>\n",
       "      <td>1</td>\n",
       "      <td>0.8011</td>\n",
       "      <td>make, people, good, say, think, company, see, ...</td>\n",
       "      <td>[bullshit, hahahaha, know, battery, make, envi...</td>\n",
       "    </tr>\n",
       "    <tr>\n",
       "      <th>2</th>\n",
       "      <td>2</td>\n",
       "      <td>0.7705</td>\n",
       "      <td>get, find, first, spacex, free, spot, start, c...</td>\n",
       "      <td>[dead, smash, construction_equipment, smash, c...</td>\n",
       "    </tr>\n",
       "    <tr>\n",
       "      <th>3</th>\n",
       "      <td>3</td>\n",
       "      <td>0.8496</td>\n",
       "      <td>car, buy, ev, want, model, new, year, right, m...</td>\n",
       "      <td>[shift, ev, car, decrease, demand, gas, increa...</td>\n",
       "    </tr>\n",
       "    <tr>\n",
       "      <th>4</th>\n",
       "      <td>4</td>\n",
       "      <td>0.8110</td>\n",
       "      <td>car, need, drive, world, time, know, charge, v...</td>\n",
       "      <td>[recall, software, issue, fixable, software_up...</td>\n",
       "    </tr>\n",
       "  </tbody>\n",
       "</table>\n",
       "</div>"
      ],
      "text/plain": [
       "   Topic_Num  Topic_Perc_Contrib  \\\n",
       "0          0              0.8408   \n",
       "1          1              0.8011   \n",
       "2          2              0.7705   \n",
       "3          3              0.8496   \n",
       "4          4              0.8110   \n",
       "\n",
       "                                            Keywords  \\\n",
       "0  stock, twitter, sell, market, price, buy, mone...   \n",
       "1  make, people, good, say, think, company, see, ...   \n",
       "2  get, find, first, spacex, free, spot, start, c...   \n",
       "3  car, buy, ev, want, model, new, year, right, m...   \n",
       "4  car, need, drive, world, time, know, charge, v...   \n",
       "\n",
       "                                 Representative Text  \n",
       "0  [tsla, almost, wednesday, company, remove, esg...  \n",
       "1  [bullshit, hahahaha, know, battery, make, envi...  \n",
       "2  [dead, smash, construction_equipment, smash, c...  \n",
       "3  [shift, ev, car, decrease, demand, gas, increa...  \n",
       "4  [recall, software, issue, fixable, software_up...  "
      ]
     },
     "execution_count": 27,
     "metadata": {},
     "output_type": "execute_result"
    }
   ],
   "source": [
    "sent_topics_Sorteddf"
   ]
  },
  {
   "cell_type": "code",
   "execution_count": null,
   "id": "c9531dd9",
   "metadata": {},
   "outputs": [],
   "source": [
    "def original_tweet_sentiment(cleaned_to_index, original, cleaned_to_topic):\n",
    "    comp_dic = {}\n",
    "    sia = SentimentIntensityAnalyzer()\n",
    "    \n",
    "    for i in range(len(cleaned_to_index)):\n",
    "        ind = cleaned_to_index[i][0]\n",
    "        tweet = original.iloc[ind]\n",
    "        comp_dic[i] = tweet, sia.polarity_scores(tweet)['compound']\n",
    "        \n",
    "    comp_scores = pd.DataFrame(comp_dic).T\n",
    "    comp_scores.columns = ['Original_tweet', 'Sentiment']\n",
    "    \n",
    "    df_sent = cleaned_to_topic.merge(comp_scores, left_index = True, right_index = True)\n",
    "    \n",
    "    return df_sent"
   ]
  },
  {
   "cell_type": "code",
   "execution_count": null,
   "id": "6e692658",
   "metadata": {},
   "outputs": [
    {
     "data": {
      "text/html": [
       "<div>\n",
       "<style scoped>\n",
       "    .dataframe tbody tr th:only-of-type {\n",
       "        vertical-align: middle;\n",
       "    }\n",
       "\n",
       "    .dataframe tbody tr th {\n",
       "        vertical-align: top;\n",
       "    }\n",
       "\n",
       "    .dataframe thead th {\n",
       "        text-align: right;\n",
       "    }\n",
       "</style>\n",
       "<table border=\"1\" class=\"dataframe\">\n",
       "  <thead>\n",
       "    <tr style=\"text-align: right;\">\n",
       "      <th></th>\n",
       "      <th>Dominant_Topic</th>\n",
       "      <th>Perc_Contribution</th>\n",
       "      <th>Topic_Keywords</th>\n",
       "      <th>0</th>\n",
       "      <th>Original_tweet</th>\n",
       "      <th>Sentiment</th>\n",
       "    </tr>\n",
       "  </thead>\n",
       "  <tbody>\n",
       "    <tr>\n",
       "      <th>0</th>\n",
       "      <td>4</td>\n",
       "      <td>0.4425</td>\n",
       "      <td>car, need, drive, world, time, know, charge, v...</td>\n",
       "      <td>[solar, grid, run, computer, radio, fridge, en...</td>\n",
       "      <td>@testcranker @ITGuy1959 My solar is 100% off g...</td>\n",
       "      <td>0.0</td>\n",
       "    </tr>\n",
       "    <tr>\n",
       "      <th>1</th>\n",
       "      <td>1</td>\n",
       "      <td>0.3488</td>\n",
       "      <td>make, people, good, say, think, company, see, ...</td>\n",
       "      <td>[never, survive, carbon_offsets, implement, de...</td>\n",
       "      <td>@dinodlz @cmclymer Tesla never would have surv...</td>\n",
       "      <td>-0.0777</td>\n",
       "    </tr>\n",
       "    <tr>\n",
       "      <th>2</th>\n",
       "      <td>1</td>\n",
       "      <td>0.3629</td>\n",
       "      <td>make, people, good, say, think, company, see, ...</td>\n",
       "      <td>[right, nonsense, position, find, sort, hard, ...</td>\n",
       "      <td>@RiceAndrew Right - it's just his nonsense pos...</td>\n",
       "      <td>0.3832</td>\n",
       "    </tr>\n",
       "    <tr>\n",
       "      <th>3</th>\n",
       "      <td>0</td>\n",
       "      <td>0.4051</td>\n",
       "      <td>stock, twitter, sell, market, price, buy, mone...</td>\n",
       "      <td>[ford, pe, ration, pe_ratio, tsla, still, long...</td>\n",
       "      <td>@H0NIS0IT @patricklarkin @SRuhle Ford PE ratio...</td>\n",
       "      <td>0.0</td>\n",
       "    </tr>\n",
       "    <tr>\n",
       "      <th>4</th>\n",
       "      <td>2</td>\n",
       "      <td>0.2714</td>\n",
       "      <td>get, find, first, spacex, free, spot, start, c...</td>\n",
       "      <td>[think, back, time, work, employee, brag, work...</td>\n",
       "      <td>Thinking back to that time I worked at Tesla a...</td>\n",
       "      <td>0.5859</td>\n",
       "    </tr>\n",
       "  </tbody>\n",
       "</table>\n",
       "</div>"
      ],
      "text/plain": [
       "   Dominant_Topic  Perc_Contribution  \\\n",
       "0               4             0.4425   \n",
       "1               1             0.3488   \n",
       "2               1             0.3629   \n",
       "3               0             0.4051   \n",
       "4               2             0.2714   \n",
       "\n",
       "                                      Topic_Keywords  \\\n",
       "0  car, need, drive, world, time, know, charge, v...   \n",
       "1  make, people, good, say, think, company, see, ...   \n",
       "2  make, people, good, say, think, company, see, ...   \n",
       "3  stock, twitter, sell, market, price, buy, mone...   \n",
       "4  get, find, first, spacex, free, spot, start, c...   \n",
       "\n",
       "                                                   0  \\\n",
       "0  [solar, grid, run, computer, radio, fridge, en...   \n",
       "1  [never, survive, carbon_offsets, implement, de...   \n",
       "2  [right, nonsense, position, find, sort, hard, ...   \n",
       "3  [ford, pe, ration, pe_ratio, tsla, still, long...   \n",
       "4  [think, back, time, work, employee, brag, work...   \n",
       "\n",
       "                                      Original_tweet Sentiment  \n",
       "0  @testcranker @ITGuy1959 My solar is 100% off g...       0.0  \n",
       "1  @dinodlz @cmclymer Tesla never would have surv...   -0.0777  \n",
       "2  @RiceAndrew Right - it's just his nonsense pos...    0.3832  \n",
       "3  @H0NIS0IT @patricklarkin @SRuhle Ford PE ratio...       0.0  \n",
       "4  Thinking back to that time I worked at Tesla a...    0.5859  "
      ]
     },
     "execution_count": 29,
     "metadata": {},
     "output_type": "execute_result"
    }
   ],
   "source": [
    "df_sent = original_tweet_sentiment(lem_noShort_noNone, full['tweets'],df_topic_sents_keywords )\n",
    "df_sent.head()"
   ]
  },
  {
   "cell_type": "code",
   "execution_count": null,
   "id": "da01effb",
   "metadata": {},
   "outputs": [
    {
     "data": {
      "text/plain": [
       "0    stock, twitter, sell, market, price, buy, money, back, tsla, company\n",
       "1      make, people, good, say, think, company, see, thing, know, battery\n",
       "2       get, find, first, spacex, free, spot, start, call, someone, crash\n",
       "3                 car, buy, ev, want, model, new, year, right, make, many\n",
       "4        car, need, drive, world, time, know, charge, vehicle, also, open\n",
       "Name: Keywords, dtype: object"
      ]
     },
     "execution_count": 37,
     "metadata": {},
     "output_type": "execute_result"
    }
   ],
   "source": [
    "# Test Cell\n",
    "\n",
    "# Most representative words in each category -- mostly nonsense -- find a coherent set quickly and stick to it \n",
    "\n",
    "pd.options.display.max_colwidth = 100\n",
    "sent_topics_Sorteddf['Keywords']\n"
   ]
  },
  {
   "cell_type": "code",
   "execution_count": null,
   "id": "579578bb",
   "metadata": {},
   "outputs": [
    {
     "data": {
      "image/png": "[encoded data removed]",
      "text/plain": [
       "<Figure size 720x432 with 1 Axes>"
      ]
     },
     "metadata": {
      "needs_background": "light"
     },
     "output_type": "display_data"
    }
   ],
   "source": [
    "# Test Cell\n",
    "\n",
    "df_sent_no_0 = df_sent[df_sent.Sentiment != 0.0]\n",
    "# df_sent_no_0.Sentiment.value_counts()\n",
    "# df_sent_no_0\n",
    "\n",
    "\n",
    "# Graphing without 0 Valiiiiues\n",
    "\n",
    "grp_sent_no_0 = df_sent_no_0.Sentiment.groupby(by = df_sent_no_0['Dominant_Topic']).mean()\n",
    "\n",
    "fix, ax = plt.subplots(figsize = (10, 6))\n",
    "ax = sns.barplot(x = grp_sent_no_0.index, y = grp_sent_no_0)\n",
    "ax.bar_label(ax.containers[0], padding = 3)\n",
    "ax.set_title('Sentiments by Topic')\n",
    "ax.hlines(y = 0.05, xmin = -1, xmax = 5, colors = 'red'); # Remeber to change the xmax of hline to the number of topics chosen\n",
    "# ax.bar(grp_sent.index, height = grp_sent)"
   ]
  },
  {
   "cell_type": "code",
   "execution_count": null,
   "id": "df77c553",
   "metadata": {},
   "outputs": [],
   "source": [
    "grp_sent = df_sent.Sentiment.groupby(by = df_sent['Dominant_Topic']).mean()\n",
    "\n",
    "fix, ax = plt.subplots(figsize = (16, 10))\n",
    "ax = sns.barplot(x = grp_sent.index, y = grp_sent)\n",
    "ax.bar_label(ax.containers[0], padding = 3)\n",
    "ax.set_title('Sentiments by Topic')\n",
    "ax.hlines(y = 0.05, xmin = -1, xmax = 9, colors = 'red')\n",
    "# ax.bar(grp_sent.index, height = grp_sent)"
   ]
  },
  {
   "cell_type": "code",
   "execution_count": null,
   "id": "3b00d232",
   "metadata": {},
   "outputs": [],
   "source": [
    "# Delete this cell \n",
    "df_sent['Dominant_Topic'].value_counts(normalize = True)"
   ]
  },
  {
   "cell_type": "code",
   "execution_count": null,
   "id": "e04fb4a5",
   "metadata": {},
   "outputs": [],
   "source": [
    "# Topic Distributions VISUALIZATION\n",
    "topic_dist = pd.Series(df_topic_sents_keywords.Dominant_Topic, dtype = 'category')\n",
    "# sns.countplot(topic_dist)\n",
    "fix, ax = plt.subplots(figsize = (16, 10))\n",
    "plt.hist(topic_dist, bins = 6)"
   ]
  },
  {
   "cell_type": "code",
   "execution_count": null,
   "id": "6ff3559f",
   "metadata": {},
   "outputs": [],
   "source": [
    "topic_dist"
   ]
  },
  {
   "cell_type": "markdown",
   "id": "5eabebef",
   "metadata": {},
   "source": [
    "#### ============================================================================"
   ]
  },
  {
   "cell_type": "markdown",
   "id": "e61ba855",
   "metadata": {},
   "source": [
    "# Below is the grid search the chunky one"
   ]
  },
  {
   "cell_type": "code",
   "execution_count": null,
   "id": "83755606",
   "metadata": {},
   "outputs": [],
   "source": [
    "# supporting function\n",
    "def compute_coherence_values(corpus, dictionary, k, a, b):\n",
    "    \n",
    "    lda_model = gensim.models.LdaMulticore(corpus=corpus,\n",
    "                                           id2word=dictionary,\n",
    "                                           num_topics=k, \n",
    "                                           random_state=100,\n",
    "                                           chunksize=1500,\n",
    "                                           passes=8,\n",
    "                                           alpha=a,\n",
    "                                           eta=b, \n",
    "                                           workers = 7)\n",
    "    \n",
    "    coherence_model_lda = CoherenceModel(model=lda_model, texts=lem_noNone, dictionary=id2word, coherence='c_v')\n",
    "    \n",
    "    return coherence_model_lda.get_coherence()"
   ]
  },
  {
   "cell_type": "code",
   "execution_count": null,
   "id": "eab11910",
   "metadata": {
    "scrolled": true
   },
   "outputs": [],
   "source": [
    "grid = {}\n",
    "grid['Validation_Set'] = {}\n",
    "# Topics range\n",
    "min_topics = 3\n",
    "max_topics = 9\n",
    "step_size = 1\n",
    "topics_range = range(min_topics, max_topics, step_size)\n",
    "# Alpha parameter\n",
    "alpha = list(np.arange(0.01, 1, 0.3))\n",
    "alpha.append('symmetric')\n",
    "alpha.append('asymmetric')\n",
    "# Beta parameter\n",
    "beta = list(np.arange(0.01, 1, 0.3))\n",
    "beta.append('symmetric')\n",
    "# Validation sets\n",
    "num_of_docs = len(corpus)\n",
    "corpus_sets = [#gensim.utils.ClippedCorpus(corpus, num_of_docs*0.25), \n",
    "               gensim.utils.ClippedCorpus(corpus, int(num_of_docs*0.5)), \n",
    "               gensim.utils.ClippedCorpus(corpus, int(num_of_docs*0.75)), \n",
    "               corpus]\n",
    "\n",
    "corpus_title = ['50% Corpus', '75% Corpus', '100% Corpus']\n",
    "\n",
    "model_results = {'Validation_Set': [],\n",
    "                 'Topics': [],\n",
    "                 'Alpha': [],\n",
    "                 'Beta': [],\n",
    "                 'Coherence': []\n",
    "                }\n",
    "# Can take a long time to run\n",
    "if 1 == 1:\n",
    "    pbar = tqdm.tqdm(total=540)\n",
    "    \n",
    "    # iterate through validation corpuses\n",
    "    for i in range(len(corpus_sets)):\n",
    "        # iterate through number of topics\n",
    "        for k in topics_range:\n",
    "            # iterate through alpha values\n",
    "            for a in alpha:\n",
    "                # iterare through beta values\n",
    "                for b in beta:\n",
    "                    # get the coherence score for the given parameters\n",
    "                    cv = compute_coherence_values(corpus=corpus_sets[i], dictionary=id2word, \n",
    "                                                  k=k, a=a, b=b)\n",
    "                    # Save the model results\n",
    "                    model_results['Validation_Set'].append(corpus_title[i])\n",
    "                    model_results['Topics'].append(k)\n",
    "                    model_results['Alpha'].append(a)\n",
    "                    model_results['Beta'].append(b)\n",
    "                    model_results['Coherence'].append(cv)\n",
    "                    \n",
    "                    pbar.update(1)\n",
    "    results_df = pd.DataFrame(model_results)\n",
    "    pbar.close()"
   ]
  },
  {
   "cell_type": "code",
   "execution_count": null,
   "id": "71f9d81f",
   "metadata": {},
   "outputs": [],
   "source": [
    "results_df = pd.read_csv('Data/first-gs-results-24h')\n",
    "results_df.drop(columns = 'Unnamed: 0', inplace = True)"
   ]
  },
  {
   "cell_type": "code",
   "execution_count": null,
   "id": "efd10fee",
   "metadata": {},
   "outputs": [],
   "source": [
    "results_df[(results_df['Coherence'] >= 0.38) & (results_df['Topics'] == 5 )]"
   ]
  },
  {
   "cell_type": "markdown",
   "id": "18f59da0",
   "metadata": {},
   "source": [
    "# ============================================================================="
   ]
  },
  {
   "cell_type": "code",
   "execution_count": null,
   "id": "55048203",
   "metadata": {},
   "outputs": [],
   "source": [
    "results_df.Validation_Set.value_counts()"
   ]
  },
  {
   "cell_type": "code",
   "execution_count": null,
   "id": "06408704",
   "metadata": {},
   "outputs": [],
   "source": [
    "# sns.lineplot(x= range(len(results_df['Coherence'])), y = results_df['Coherence'])\n",
    "\n",
    "fig, ax = plt.subplots(figsize = (15, 10))\n",
    "ax.plot(np.linspace(1, 540, 540),'Coherence', data = results_df )\n",
    "ax.set_title('GridSearch CV');"
   ]
  },
  {
   "cell_type": "code",
   "execution_count": null,
   "id": "521fddeb",
   "metadata": {},
   "outputs": [],
   "source": [
    "import matplotlib.pyplot as plt"
   ]
  },
  {
   "cell_type": "code",
   "execution_count": null,
   "id": "fb400f0c",
   "metadata": {},
   "outputs": [],
   "source": [
    "\n",
    "ax1_df = results_df.Coherence.groupby(by=results_df['Validation_Set']).mean()\n",
    "ax2_df = results_df.Coherence.groupby(by=results_df['Alpha']).mean()\n",
    "ax3_df = results_df.Coherence.groupby(by=results_df['Beta']).mean()\n",
    "ax4_df = results_df.Coherence.groupby(by=results_df['Topics']).mean()\n",
    "\n",
    "\n",
    "fig, (ax1, ax2, ax3, ax4) = plt.subplots(4,1 , figsize = (15, 15))\n",
    "\n",
    "\n",
    "\n",
    "\n",
    "ax1.plot(ax1_df)\n",
    "ax1.set_title('Corpus Size')\n",
    "\n",
    "ax2.plot(ax2_df)\n",
    "ax2.set_title('Alpha')\n",
    "\n",
    "ax3.plot(ax3_df)\n",
    "ax3.set_title('Beta')\n",
    "\n",
    "ax4.plot(ax4_df)\n",
    "ax4.set_title('Topics')"
   ]
  }
 ],
 "metadata": {
  "kernelspec": {
   "display_name": "broke-the-other",
   "language": "python",
   "name": "broke-the-other"
  },
  "language_info": {
   "codemirror_mode": {
    "name": "ipython",
    "version": 3
   },
   "file_extension": ".py",
   "mimetype": "text/x-python",
   "name": "python",
   "nbconvert_exporter": "python",
   "pygments_lexer": "ipython3",
   "version": "3.10.4"
  }
 },
 "nbformat": 4,
 "nbformat_minor": 5
}
