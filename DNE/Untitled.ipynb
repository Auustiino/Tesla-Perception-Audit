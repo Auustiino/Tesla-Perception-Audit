{
 "cells": [
  {
   "cell_type": "code",
   "execution_count": 1,
   "id": "3dde6768",
   "metadata": {},
   "outputs": [],
   "source": [
    "import tweepy\n",
    "import config\n",
    "import pandas as pd\n",
    "import json"
   ]
  },
  {
   "cell_type": "code",
   "execution_count": 2,
   "id": "e20f5573",
   "metadata": {},
   "outputs": [],
   "source": [
    "api_key =  \"DzRAgwa8gKgqkYAwzKF53aSuK\"\n",
    "api_secret_key = \"IBUgXZK37PwrPl1DjN7ex04rv1d5c6D6eZvV0kpBhwcjbLqVNM\"\n",
    "bearer_token = \"AAAAAAAAAAAAAAAAAAAAAEEIbgEAAAAAyTV7SJs8LhZOf9SxOL%2FNUG709dA%3Dre300eF3AHwFNT3LrDI2HtVm9X08riGY1Y9yvRyM4iyvzuAvdX\"\n",
    "access_token = \"2849870992-AhGlOo7SGaVPhZ9r5807CZrYo3f8HAvrjrfse3Q\"\n",
    "access_token_secret = \"0o6Ju4lElIU1McOeL7jxfJNDx5JWVVgDPCaAAO9YOhe4N\""
   ]
  },
  {
   "cell_type": "code",
   "execution_count": 3,
   "id": "25153e0a",
   "metadata": {},
   "outputs": [],
   "source": [
    "client = tweepy.Client(bearer_token = bearer_token)"
   ]
  },
  {
   "cell_type": "code",
   "execution_count": 39,
   "id": "f6f1d747",
   "metadata": {},
   "outputs": [],
   "source": [
    "query = \"Tesla Cars lang:en -is:retweet -@elonmusk\"\n",
    "\n",
    "tweets = {}\n",
    "for tweet in tweepy.Paginator(client.search_recent_tweets, query = query, max_results = 100).flatten(limit = 20000):\n",
    "    tweets[tweet.id] = tweet.text"
   ]
  },
  {
   "cell_type": "code",
   "execution_count": 40,
   "id": "6512c172",
   "metadata": {},
   "outputs": [
    {
     "data": {
      "text/plain": [
       "5898"
      ]
     },
     "execution_count": 40,
     "metadata": {},
     "output_type": "execute_result"
    }
   ],
   "source": [
    "len(tweets)"
   ]
  },
  {
   "cell_type": "code",
   "execution_count": 41,
   "id": "3ec6867c",
   "metadata": {},
   "outputs": [
    {
     "data": {
      "text/plain": [
       "0"
      ]
     },
     "execution_count": 41,
     "metadata": {},
     "output_type": "execute_result"
    }
   ],
   "source": [
    "unique = []\n",
    "duplicates = []\n",
    "for each in tweets.keys():\n",
    "    if each not in unique:\n",
    "        unique.append(each)\n",
    "    elif each in unique:\n",
    "        duplicates.append(each)\n",
    "        \n",
    "len(duplicates)"
   ]
  },
  {
   "cell_type": "code",
   "execution_count": 42,
   "id": "709e017a",
   "metadata": {},
   "outputs": [],
   "source": [
    "tweet_series = pd.Series(tweets, name = 'Tesla-Cars-2')"
   ]
  },
  {
   "cell_type": "code",
   "execution_count": 43,
   "id": "384be8cb",
   "metadata": {},
   "outputs": [
    {
     "data": {
      "text/plain": [
       "1527124830637764608    @Chaos2Cured_Fin @duty2warn But ultimately, ho...\n",
       "1527124765122625543    @YourAnonNews @ABC7NY Very sad for everyone in...\n",
       "1527124535996305408    @GreetingsOut Lol I promise Tesla will have no...\n",
       "1527124170445824000    @OtterBrownie And there we still see people ma...\n",
       "1527123981509197825    @Tiktalk_random @Gig4Nathan @NoLieWithBTC And?...\n",
       "                                             ...                        \n",
       "1524591090581610496    @fibercut @TSLAFanMtl Does that mean that you ...\n",
       "1524590567128113152    Electric cars and trucks are not clean energy ...\n",
       "1524590277398302722    33% Of New Cars Sold In Netherlands Now Plugin...\n",
       "1524589065651335168    Not a fan of electric cars. But, I’ll invest i...\n",
       "1524588679460700160    @m3u8 @MirageWL8 @levie It's an energy company...\n",
       "Name: Tesla-Cars-2, Length: 5898, dtype: object"
      ]
     },
     "execution_count": 43,
     "metadata": {},
     "output_type": "execute_result"
    }
   ],
   "source": [
    "tweet_series"
   ]
  },
  {
   "cell_type": "code",
   "execution_count": 44,
   "id": "9565b02f",
   "metadata": {},
   "outputs": [],
   "source": [
    "tweet_series.to_csv('Data/Tesla-General-6K')"
   ]
  },
  {
   "cell_type": "code",
   "execution_count": null,
   "id": "ff44d4e2",
   "metadata": {},
   "outputs": [],
   "source": []
  },
  {
   "cell_type": "code",
   "execution_count": null,
   "id": "1c30acf5",
   "metadata": {},
   "outputs": [],
   "source": []
  },
  {
   "cell_type": "code",
   "execution_count": null,
   "id": "e18c5075",
   "metadata": {},
   "outputs": [],
   "source": []
  },
  {
   "cell_type": "code",
   "execution_count": null,
   "id": "df8c4004",
   "metadata": {},
   "outputs": [],
   "source": []
  },
  {
   "cell_type": "code",
   "execution_count": null,
   "id": "6fdb6c36",
   "metadata": {},
   "outputs": [],
   "source": []
  },
  {
   "cell_type": "code",
   "execution_count": null,
   "id": "57b6cbe1",
   "metadata": {},
   "outputs": [],
   "source": [
    "query = \"Tesla lang:en -is:retweet -@elonmusk\"\n",
    "\n",
    "tweets = {}\n",
    "for tweet in tweepy.Paginator(client.search_recent_tweets, query = query, max_results = 100).flatten(limit = 10000):\n",
    "    tweets[tweet.id] = tweet.text"
   ]
  }
 ],
 "metadata": {
  "kernelspec": {
   "display_name": "Python (learn-env)",
   "language": "python",
   "name": "learn-env"
  },
  "language_info": {
   "codemirror_mode": {
    "name": "ipython",
    "version": 3
   },
   "file_extension": ".py",
   "mimetype": "text/x-python",
   "name": "python",
   "nbconvert_exporter": "python",
   "pygments_lexer": "ipython3",
   "version": "3.8.13"
  }
 },
 "nbformat": 4,
 "nbformat_minor": 5
}
