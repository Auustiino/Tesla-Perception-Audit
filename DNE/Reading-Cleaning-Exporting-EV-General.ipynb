{
 "cells": [
  {
   "cell_type": "code",
   "execution_count": 1,
   "id": "279828db",
   "metadata": {},
   "outputs": [],
   "source": [
    "import pandas as pd\n",
    "import re\n",
    "import nltk\n",
    "from nltk import pos_tag\n",
    "from nltk.corpus import stopwords\n",
    "from nltk.corpus import wordnet\n",
    "from nltk.tokenize import word_tokenize\n",
    "from nltk.stem.porter import PorterStemmer\n",
    "from nltk.stem.wordnet import WordNetLemmatizer\n",
    "\n"
   ]
  },
  {
   "cell_type": "code",
   "execution_count": 2,
   "id": "705e35a7",
   "metadata": {},
   "outputs": [],
   "source": [
    "ev_1 = pd.read_csv('EV-Ford-1k')\n",
    "ev_2 = pd.read_csv('EV-General-13k')"
   ]
  },
  {
   "cell_type": "markdown",
   "id": "dac92c24",
   "metadata": {},
   "source": [
    "### Function to turn all DataFrames from files into Series with User ID as index"
   ]
  },
  {
   "cell_type": "code",
   "execution_count": 4,
   "id": "c81b4915",
   "metadata": {},
   "outputs": [],
   "source": [
    "# Creating a function to turn 2 column df from csv files to 1 column series with user ID as index\n",
    "\n",
    "def df_to_series(df):\n",
    "    step1 = df.set_index('Unnamed: 0')\n",
    "    step2 = step1.squeeze()\n",
    "    return step2"
   ]
  },
  {
   "cell_type": "markdown",
   "id": "b50a52e7",
   "metadata": {},
   "source": [
    "### Preprocessing Function"
   ]
  },
  {
   "cell_type": "markdown",
   "id": "11f4535f",
   "metadata": {},
   "source": [
    "### Applying Function to set all User IDs as index"
   ]
  },
  {
   "cell_type": "code",
   "execution_count": 5,
   "id": "45063dc9",
   "metadata": {},
   "outputs": [],
   "source": [
    "ev_1 = df_to_series(ev_1)\n",
    "ev_2 = df_to_series(ev_2)\n"
   ]
  },
  {
   "cell_type": "markdown",
   "id": "e677fd2a",
   "metadata": {},
   "source": [
    "Creating full Series"
   ]
  },
  {
   "cell_type": "code",
   "execution_count": 13,
   "id": "d685c3b5",
   "metadata": {},
   "outputs": [],
   "source": [
    "EV_full = pd.concat([ev_1, ev_2],axis = 0, join = 'outer')"
   ]
  },
  {
   "cell_type": "markdown",
   "id": "1ea8f606",
   "metadata": {},
   "source": [
    "Dropping Duplicates from Queries"
   ]
  },
  {
   "cell_type": "code",
   "execution_count": 14,
   "id": "cc164099",
   "metadata": {},
   "outputs": [
    {
     "data": {
      "text/plain": [
       "28717"
      ]
     },
     "execution_count": 14,
     "metadata": {},
     "output_type": "execute_result"
    }
   ],
   "source": [
    "EV = EV_full.drop_duplicates()\n",
    "len(EV)"
   ]
  },
  {
   "cell_type": "code",
   "execution_count": 15,
   "id": "e23a81a3",
   "metadata": {},
   "outputs": [
    {
     "data": {
      "text/plain": [
       "Unnamed: 0\n",
       "1532729624630902787    #OOTT #EnergyTransition #TransiciónEnergética ...\n",
       "1532729554820792320    RT @Tweetleman: This is exactly why electric c...\n",
       "1532729511288180738    RT @dumbfinder_: @unusual_whales I mean, I'm n...\n",
       "1532729446981160961    RT @rewiringamerica: \"General Motors announced...\n",
       "1532729259168477190    RT @LysolLucha: @spedsays @FavGhostwriter Pay ...\n",
       "                                             ...                        \n",
       "1530192770815639553    Octopus electric vehicles secures green future...\n",
       "1530192760036368385    Octopus electric vehicles secures green future...\n",
       "1530192747449176064    Octopus electric vehicles secures green future...\n",
       "1530192720597221378    @NathanWroberts1 @GovWhitmer @Rivian You just ...\n",
       "1530192349027917828    The electric vehicles (EV) division of Tata Mo...\n",
       "Length: 28717, dtype: object"
      ]
     },
     "execution_count": 15,
     "metadata": {},
     "output_type": "execute_result"
    }
   ],
   "source": [
    "EV.value"
   ]
  },
  {
   "cell_type": "markdown",
   "id": "24749363",
   "metadata": {},
   "source": [
    "### Preprocessing "
   ]
  },
  {
   "cell_type": "code",
   "execution_count": 12,
   "id": "34611bc5",
   "metadata": {},
   "outputs": [],
   "source": [
    "Tesla = Tesla_General.apply(Series_Preprocessor)"
   ]
  },
  {
   "cell_type": "code",
   "execution_count": 13,
   "id": "93de98b3",
   "metadata": {},
   "outputs": [
    {
     "data": {
      "text/plain": [
       "Unnamed: 0\n",
       "1527025892458999814    solar grid run computer radio fridge entire ya...\n",
       "1527025892031086593     boycott tesla teslastock elonsproblems vote blue\n",
       "1527025884690993153    tesla never survive carbon offset implement de...\n",
       "1527025878974271489                 funny fanbase take profit sell tesla\n",
       "1527025852008976384    right nonsense position find sort hard believe...\n",
       "                                             ...                        \n",
       "1527731732459438082    need look competition get good plentiful redes...\n",
       "1527731707058835456    tesla lose crown jewel status cathie wood main...\n",
       "1527731706907721730    ya clearly go bank much cash stock downturn ca...\n",
       "1527731695281119233       strategic vision apple tesla prefer stay china\n",
       "1527731676310388737                       wait tesla stockholder lawsuit\n",
       "Length: 113671, dtype: object"
      ]
     },
     "execution_count": 13,
     "metadata": {},
     "output_type": "execute_result"
    }
   ],
   "source": [
    "Tesla"
   ]
  },
  {
   "cell_type": "markdown",
   "id": "36b6bad7",
   "metadata": {},
   "source": [
    "### Exporting Cleaned File"
   ]
  },
  {
   "cell_type": "code",
   "execution_count": 14,
   "id": "cc3cccb8",
   "metadata": {},
   "outputs": [],
   "source": [
    "Tesla.to_csv('Data/Data-Cleaned/Tesla-Cleaned-113k')"
   ]
  }
 ],
 "metadata": {
  "kernelspec": {
   "display_name": "broke-the-other",
   "language": "python",
   "name": "broke-the-other"
  },
  "language_info": {
   "codemirror_mode": {
    "name": "ipython",
    "version": 3
   },
   "file_extension": ".py",
   "mimetype": "text/x-python",
   "name": "python",
   "nbconvert_exporter": "python",
   "pygments_lexer": "ipython3",
   "version": "3.10.4"
  }
 },
 "nbformat": 4,
 "nbformat_minor": 5
}
