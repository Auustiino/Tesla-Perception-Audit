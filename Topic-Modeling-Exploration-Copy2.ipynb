{
 "cells": [
  {
   "cell_type": "markdown",
   "id": "a50c4794",
   "metadata": {},
   "source": [
    "# Libraries"
   ]
  },
  {
   "cell_type": "code",
   "execution_count": 1,
   "id": "aa2ce17e",
   "metadata": {
    "scrolled": true
   },
   "outputs": [
    {
     "name": "stderr",
     "output_type": "stream",
     "text": [
      "/Users/austinboring/opt/anaconda3/envs/broke-the-other/lib/python3.10/site-packages/gensim/matutils.py:22: DeprecationWarning: Please use `triu` from the `scipy.linalg` namespace, the `scipy.linalg.special_matrices` namespace is deprecated.\n",
      "  from scipy.linalg.special_matrices import triu\n"
     ]
    }
   ],
   "source": [
    "import pandas as pd\n",
    "import seaborn as sns\n",
    "import regex as re\n",
    "\n",
    "import spacy\n",
    "\n",
    "from vaderSentiment.vaderSentiment import SentimentIntensityAnalyzer\n",
    "\n",
    "import pyLDAvis\n",
    "import pyLDAvis.gensim_models as gensim_models\n",
    "import pyLDAvis.gensim_models as gensimvis\n",
    "\n",
    "\n",
    "import gensim\n",
    "# from gensim.models import wrappers\n",
    "# from gensim.models.wrappers import LdaMallet\n",
    "import gensim.corpora as corpora\n",
    "from gensim.corpora import Dictionary\n",
    "from gensim.utils import simple_preprocess\n",
    "from gensim.models.ldamulticore import LdaMulticore\n",
    "from gensim.models.coherencemodel import CoherenceModel\n",
    "\n",
    "from sklearn.feature_extraction.text import CountVectorizer, TfidfVectorizer\n",
    "from sklearn.model_selection import GridSearchCV\n",
    "from sklearn.decomposition import LatentDirichletAllocation, TruncatedSVD\n",
    "\n",
    "\n",
    "import nltk\n",
    "from nltk import pos_tag\n",
    "from nltk.corpus import stopwords\n",
    "from nltk.corpus import wordnet\n",
    "from nltk.tokenize import word_tokenize\n",
    "from nltk.stem.porter import PorterStemmer\n",
    "from nltk.stem.wordnet import WordNetLemmatizer\n",
    "\n",
    "\n",
    "from pprint import pprint\n",
    "\n",
    "import warnings\n",
    "warnings.filterwarnings(\"ignore\", category=DeprecationWarning) \n",
    "warnings.filterwarnings(\"ignore\", category=FutureWarning)"
   ]
  },
  {
   "cell_type": "markdown",
   "id": "c9cd69b8",
   "metadata": {},
   "source": [
    "# Importing -- Fixing columns"
   ]
  },
  {
   "cell_type": "code",
   "execution_count": 2,
   "id": "09b8b307",
   "metadata": {},
   "outputs": [],
   "source": [
    "full = pd.read_csv('Data/Data-Cleaned/238k-Uncleaned')"
   ]
  },
  {
   "cell_type": "code",
   "execution_count": 3,
   "id": "6bbd51c2",
   "metadata": {},
   "outputs": [
    {
     "data": {
      "text/html": [
       "<div>\n",
       "<style scoped>\n",
       "    .dataframe tbody tr th:only-of-type {\n",
       "        vertical-align: middle;\n",
       "    }\n",
       "\n",
       "    .dataframe tbody tr th {\n",
       "        vertical-align: top;\n",
       "    }\n",
       "\n",
       "    .dataframe thead th {\n",
       "        text-align: right;\n",
       "    }\n",
       "</style>\n",
       "<table border=\"1\" class=\"dataframe\">\n",
       "  <thead>\n",
       "    <tr style=\"text-align: right;\">\n",
       "      <th></th>\n",
       "      <th>tweets</th>\n",
       "    </tr>\n",
       "    <tr>\n",
       "      <th>Unnamed: 0</th>\n",
       "      <th></th>\n",
       "    </tr>\n",
       "  </thead>\n",
       "  <tbody>\n",
       "    <tr>\n",
       "      <th>1527025892458999814</th>\n",
       "      <td>@testcranker @ITGuy1959 My solar is 100% off g...</td>\n",
       "    </tr>\n",
       "    <tr>\n",
       "      <th>1527025892031086593</th>\n",
       "      <td>Boycott #Tesla #TeslaStock #ElonsProblems Vote...</td>\n",
       "    </tr>\n",
       "    <tr>\n",
       "      <th>1527025884690993153</th>\n",
       "      <td>@dinodlz @cmclymer Tesla never would have surv...</td>\n",
       "    </tr>\n",
       "    <tr>\n",
       "      <th>1527025878974271489</th>\n",
       "      <td>@MarketRebels @elwalvador It would be funny if...</td>\n",
       "    </tr>\n",
       "    <tr>\n",
       "      <th>1527025852008976384</th>\n",
       "      <td>@RiceAndrew Right - it's just his nonsense pos...</td>\n",
       "    </tr>\n",
       "    <tr>\n",
       "      <th>...</th>\n",
       "      <td>...</td>\n",
       "    </tr>\n",
       "    <tr>\n",
       "      <th>1525643350828777473</th>\n",
       "      <td>@ValueAnalyst1 Yes, beg - borrow and steal to ...</td>\n",
       "    </tr>\n",
       "    <tr>\n",
       "      <th>1525642529567571969</th>\n",
       "      <td>@iamDCinvestor Owh Have to rethink about my th...</td>\n",
       "    </tr>\n",
       "    <tr>\n",
       "      <th>1525639115051515909</th>\n",
       "      <td>@5050isaloss @cardano_whale Overused example, ...</td>\n",
       "    </tr>\n",
       "    <tr>\n",
       "      <th>1525633771009101828</th>\n",
       "      <td>@DomRobins0n @JoJoFromJerz Founded spaceX a ve...</td>\n",
       "    </tr>\n",
       "    <tr>\n",
       "      <th>1525630144647421952</th>\n",
       "      <td>@mmpadellan I want an EV, but Tesla is off the...</td>\n",
       "    </tr>\n",
       "  </tbody>\n",
       "</table>\n",
       "<p>237659 rows × 1 columns</p>\n",
       "</div>"
      ],
      "text/plain": [
       "                                                                tweets\n",
       "Unnamed: 0                                                            \n",
       "1527025892458999814  @testcranker @ITGuy1959 My solar is 100% off g...\n",
       "1527025892031086593  Boycott #Tesla #TeslaStock #ElonsProblems Vote...\n",
       "1527025884690993153  @dinodlz @cmclymer Tesla never would have surv...\n",
       "1527025878974271489  @MarketRebels @elwalvador It would be funny if...\n",
       "1527025852008976384  @RiceAndrew Right - it's just his nonsense pos...\n",
       "...                                                                ...\n",
       "1525643350828777473  @ValueAnalyst1 Yes, beg - borrow and steal to ...\n",
       "1525642529567571969  @iamDCinvestor Owh Have to rethink about my th...\n",
       "1525639115051515909  @5050isaloss @cardano_whale Overused example, ...\n",
       "1525633771009101828  @DomRobins0n @JoJoFromJerz Founded spaceX a ve...\n",
       "1525630144647421952  @mmpadellan I want an EV, but Tesla is off the...\n",
       "\n",
       "[237659 rows x 1 columns]"
      ]
     },
     "execution_count": 3,
     "metadata": {},
     "output_type": "execute_result"
    }
   ],
   "source": [
    "# Renaming tweets column, dropping unnamed column, making tweets strings\n",
    "\n",
    "full['tweets'] = full['0']\n",
    "full = full.drop(columns = '0')\n",
    "full.set_index('Unnamed: 0')\n",
    "# full['tweets'] = full['tweets'].astype('string')\n",
    "# full.dropna(inplace = True)"
   ]
  },
  {
   "cell_type": "markdown",
   "id": "afff9839",
   "metadata": {},
   "source": [
    "# Code for Sentiment ---- ---- NOT NEEDED FOR MODELING"
   ]
  },
  {
   "cell_type": "code",
   "execution_count": 99,
   "id": "4b0cf5e9",
   "metadata": {},
   "outputs": [],
   "source": [
    "# CODE WORKS --- JUST USE IT LATER \n",
    "\n",
    "# Adding Sentiment\n",
    "sia = SentimentIntensityAnalyzer()\n",
    "comp_dic = {}\n",
    "for i, tweet in full['tweets'].iteritems():\n",
    "    comp_dic[i] = sia.polarity_scores(tweet)['compound']\n",
    "\n",
    "comp_scores = pd.Series(comp_dic, name = 'sentiment')\n",
    "df_sent = full.merge(comp_scores, left_index = True, right_index = True)\n",
    "df = df_sent.set_index('Unnamed: 0')"
   ]
  },
  {
   "cell_type": "markdown",
   "id": "67a87f9a",
   "metadata": {},
   "source": [
    "# Preprocessing ---- will need to test different preprocessing later"
   ]
  },
  {
   "cell_type": "code",
   "execution_count": 100,
   "id": "cb2a7a72",
   "metadata": {},
   "outputs": [
    {
     "data": {
      "text/plain": [
       "'\\nThe goal here is to get to a final model with the full data and an iteration of cleaned preprocessing\\nClean this notebook as much as possible\\nmake a copy of the notebook-- save the original and MUST get bi and trigrams to work\\n\\n\\n'"
      ]
     },
     "execution_count": 100,
     "metadata": {},
     "output_type": "execute_result"
    }
   ],
   "source": [
    "\"\"\"\n",
    "The goal here is to get to a final model with the full data and an iteration of cleaned preprocessing\n",
    "Clean this notebook as much as possible\n",
    "make a copy of the notebook-- save the original and MUST get bi and trigrams to work\n",
    "\n",
    "\n",
    "\"\"\""
   ]
  },
  {
   "cell_type": "code",
   "execution_count": 4,
   "id": "22bb71f6",
   "metadata": {},
   "outputs": [],
   "source": [
    "def Series_Preprocessor(tweet):\n",
    "    stopWords = stopwords.words('english')\n",
    "    stopWords.extend(['tesla', 'c,', 'x', 't', 'p', 'amp'])\n",
    "    ps = PorterStemmer()\n",
    "    wnl = WordNetLemmatizer()\n",
    "\n",
    "        # helper function to change nltk's part of speech tagging to a wordnet format.\n",
    "    def pos_tagger(nltk_tag):\n",
    "        if nltk_tag.startswith('J'):\n",
    "            return wordnet.ADJ\n",
    "        elif nltk_tag.startswith('V'):\n",
    "            return wordnet.VERB\n",
    "        elif nltk_tag.startswith('N'):\n",
    "            return wordnet.NOUN\n",
    "        elif nltk_tag.startswith('R'):\n",
    "            return wordnet.ADV\n",
    "        else:         \n",
    "            return None \n",
    "    \n",
    "#   Lowercase all \n",
    "    tweet = tweet.lower()\n",
    "    \n",
    "#   Removing @ handles, links-- strip whitespace breaks and tabs\n",
    "    tweet = re.sub(r\"@\\w+|http\\S+\", \"\", tweet).strip().replace(\"\\r\", \"\").replace(\"\\n\", \"\").replace(\"\\t\", \"\")\n",
    "    \n",
    "#   Tokenize,make list of words, removing punctuation and stopwords\n",
    "    tweet = [x for x in word_tokenize(tweet) if ((x.isalpha()) & (x not in stopWords)) ]\n",
    "    \n",
    "#   Map part of speech tags to words and use words/tags to lemmatize accuratley\n",
    "    tweet = list(map(lambda x: (x[0], pos_tagger(x[1])), pos_tag(tweet))) \n",
    "    tweet = \" \".join([wnl.lemmatize(x[0], x[1]) for x in tweet if x[1] is not None])\n",
    "\n",
    "    return tweet "
   ]
  },
  {
   "cell_type": "code",
   "execution_count": null,
   "id": "7bd4d94a",
   "metadata": {},
   "outputs": [],
   "source": [
    "df = full['tweets'].apply(Series_Preprocessor)"
   ]
  },
  {
   "cell_type": "markdown",
   "id": "c7cc0f21",
   "metadata": {},
   "source": [
    "## Need to make Bi and Tri Grams ---- Do this below"
   ]
  },
  {
   "cell_type": "markdown",
   "id": "81d09249",
   "metadata": {},
   "source": [
    "#### ============================================================================"
   ]
  },
  {
   "cell_type": "markdown",
   "id": "ce95732e",
   "metadata": {},
   "source": [
    "#### ============================================================================"
   ]
  },
  {
   "cell_type": "markdown",
   "id": "fa955741",
   "metadata": {},
   "source": [
    "## Will need to change entire preprocessing step to make bigrams and trigrams -- \n",
    "## Therefore the following code will be using the traw imported data"
   ]
  },
  {
   "cell_type": "code",
   "execution_count": null,
   "id": "328288eb",
   "metadata": {},
   "outputs": [],
   "source": [
    "# remove punctuation\n",
    "full['preprep'] = full['tweets'].map(lambda x: re.sub('[,\\.!?]', '', x))\n",
    "# Lowercase\n",
    "full['preprep'] = full['preprep'].map(lambda x: x.lower())\n",
    "# #   Removing @ handles, links-- strip whitespace breaks and tabs\n",
    "full['preprep'] = full['preprep'].map(lambda x: re.sub(r\"@\\w+|http\\S+\", \"\", x).strip().replace(\"\\r\", \"\").replace(\"\\n\", \"\").replace(\"\\t\", \"\"))"
   ]
  },
  {
   "cell_type": "code",
   "execution_count": null,
   "id": "c57facd4",
   "metadata": {},
   "outputs": [],
   "source": [
    "def sent_to_words(sentences):\n",
    "    for sentence in sentences:\n",
    "        yield(gensim.utils.simple_preprocess(str(sentence), deacc=True))  # deacc=True removes punctuations\n",
    "data = full.preprep.values.tolist()\n",
    "data_words = list(sent_to_words(data))"
   ]
  },
  {
   "cell_type": "code",
   "execution_count": null,
   "id": "7b2168eb",
   "metadata": {},
   "outputs": [],
   "source": [
    "# Build the bigram and trigram models\n",
    "bigram = gensim.models.Phrases(data_words, min_count=3, threshold=75) # higher threshold fewer phrases.\n",
    "trigram = gensim.models.Phrases(bigram[data_words], threshold=60)\n",
    "# Faster way to get a sentence clubbed as a trigram/bigram\n",
    "bigram_mod = gensim.models.phrases.Phraser(bigram)\n",
    "trigram_mod = gensim.models.phrases.Phraser(trigram)"
   ]
  },
  {
   "cell_type": "code",
   "execution_count": null,
   "id": "3e9ae4ea",
   "metadata": {},
   "outputs": [],
   "source": [
    "stop_words = stopwords.words('english')\n",
    "stop_words.extend(['tesla', 'c,', 'x', 't', 'p', 'amp', 'car', 'go'])\n",
    "wnl = WordNetLemmatizer()"
   ]
  },
  {
   "cell_type": "code",
   "execution_count": null,
   "id": "ba3988ae",
   "metadata": {},
   "outputs": [],
   "source": [
    "# Functions to for preprocessing for bigrams and trigrams texts, all tested and edited all should be good \n",
    "\n",
    "def remove_stopwords(texts):\n",
    "    return [[word for word in simple_preprocess(str(doc)) if word not in stop_words]for doc in texts]\n",
    "\n",
    "def make_bigrams(texts):\n",
    "    return bigram_mod[texts]\n",
    "\n",
    "def make_trigrams(texts):\n",
    "    return trigram_mod[bigram_mod[texts]]\n",
    "\n",
    "def pos_tagger(nltk_tag):\n",
    "    if nltk_tag.startswith('J'):\n",
    "        return wordnet.ADJ\n",
    "    elif nltk_tag.startswith('V'):\n",
    "        return wordnet.VERB\n",
    "    elif nltk_tag.startswith('N'):\n",
    "        return wordnet.NOUN\n",
    "    elif nltk_tag.startswith('R'):\n",
    "        return wordnet.ADV\n",
    "    else:         \n",
    "        return None \n",
    "    \n",
    "def lemmatize_texts(tweet):\n",
    "     for i in tweet:\n",
    "        word = (map(lambda x: (x[0], pos_tagger(x[1])), pos_tag(tweet))) \n",
    "        word_lem = \" \".join([wnl.lemmatize(x[0], x[1]) for x in word if x[1] is not None])\n",
    "        return word_lem"
   ]
  },
  {
   "cell_type": "code",
   "execution_count": null,
   "id": "60c41c9a",
   "metadata": {},
   "outputs": [],
   "source": [
    "# Remove Stop Words\n",
    "data_words_nostops = remove_stopwords(data_words)\n",
    "# Form Bigrams\n",
    "data_words_bigrams = make_bigrams(data_words_nostops)\n",
    "# lemmatize\n",
    "data_lemmatized = [lemmatize_texts(tweet) for tweet in data_words_bigrams]"
   ]
  },
  {
   "cell_type": "code",
   "execution_count": null,
   "id": "293073dc",
   "metadata": {},
   "outputs": [],
   "source": [
    "#proved that Nones are introduced during the lemmatization step -- there are no nones before this step\n",
    "# This will need to be fixed later\n",
    "lem_noNone = [x for x in data_lemmatized if x is not None]"
   ]
  },
  {
   "cell_type": "markdown",
   "id": "8732f9d5",
   "metadata": {},
   "source": [
    "## Find missing values after making min tweet length 4 words maybe ============================="
   ]
  },
  {
   "cell_type": "code",
   "execution_count": null,
   "id": "f1218770",
   "metadata": {},
   "outputs": [],
   "source": [
    "# testing enumerate with above lemmatization function\n",
    "tester = [(i,x) for (i,x) in enumerate(data_lemmatized) if x is not None]\n",
    "\n",
    "def find_missing(lst):\n",
    "    return [x for x in range(lst[0], lst[-1]+1) \n",
    "                               if x not in lst] \n",
    "\n",
    "lst = [tup[0] for tup in tester]\n",
    "ind = (find_missing(lst))\n",
    "\n",
    "# ind\n"
   ]
  },
  {
   "cell_type": "code",
   "execution_count": 380,
   "id": "39f41d0e",
   "metadata": {},
   "outputs": [
    {
     "data": {
      "text/plain": [
       "'for what'"
      ]
     },
     "execution_count": 380,
     "metadata": {},
     "output_type": "execute_result"
    }
   ],
   "source": [
    "full['preprep'][1711]"
   ]
  },
  {
   "cell_type": "code",
   "execution_count": 381,
   "id": "74ffdf76",
   "metadata": {
    "scrolled": true
   },
   "outputs": [
    {
     "data": {
      "text/plain": [
       "659"
      ]
     },
     "execution_count": 381,
     "metadata": {},
     "output_type": "execute_result"
    }
   ],
   "source": [
    "len(ind)"
   ]
  },
  {
   "cell_type": "code",
   "execution_count": 382,
   "id": "85ff3550",
   "metadata": {},
   "outputs": [
    {
     "name": "stdout",
     "output_type": "stream",
     "text": [
      "237659 237000 237000\n"
     ]
    }
   ],
   "source": [
    "print(len(data_lemmatized), len(lem_noNone), len(tester))"
   ]
  },
  {
   "cell_type": "code",
   "execution_count": null,
   "id": "c051ed68",
   "metadata": {},
   "outputs": [],
   "source": []
  },
  {
   "cell_type": "code",
   "execution_count": 383,
   "id": "ae04ba77",
   "metadata": {},
   "outputs": [],
   "source": [
    "lem_noNone = [i.split() for i in lem_noNone]"
   ]
  },
  {
   "cell_type": "code",
   "execution_count": null,
   "id": "520efbb8",
   "metadata": {
    "scrolled": true
   },
   "outputs": [],
   "source": [
    "id2word = corpora.Dictionary(lem_noNone)\n",
    "print(len(id2word)) "
   ]
  },
  {
   "cell_type": "code",
   "execution_count": null,
   "id": "057020e7",
   "metadata": {},
   "outputs": [],
   "source": [
    "# This can be Tuned --- and probably chould be\n",
    "\n",
    "id2word.filter_extremes(no_below=6, no_above=.90)\n",
    "print(len(id2word))"
   ]
  },
  {
   "cell_type": "code",
   "execution_count": null,
   "id": "d36b5cc5",
   "metadata": {},
   "outputs": [],
   "source": [
    "# Another potential preprocessing step \n",
    "# Could remove tweets that are fewer than n number of words \n",
    "\n",
    "counter = 0\n",
    "for i in lem_noNone:\n",
    "    if len(i) <= 3:\n",
    "        counter += 1\n",
    "counter"
   ]
  },
  {
   "cell_type": "code",
   "execution_count": null,
   "id": "56bbfb8b",
   "metadata": {},
   "outputs": [],
   "source": [
    "corpus = [id2word.doc2bow(d) for d in lem_noNone]"
   ]
  },
  {
   "cell_type": "code",
   "execution_count": null,
   "id": "21db267b",
   "metadata": {},
   "outputs": [],
   "source": [
    "# Instantiating a Base LDA model\n",
    "base_model = LdaMulticore(corpus=corpus, num_topics=5, id2word=id2word, workers=12, passes=5)\n",
    "words = [re.findall(r'\"([^\"]*)\"',t[1]) for t in base_model.print_topics()]\n",
    "topics = [' '.join(t[0:10]) for t in words]\n",
    "\n",
    "for id, t in enumerate(topics): \n",
    "    print(f\"------ Topic {id + 1} ------\")\n",
    "    print(t, end=\"\\n\\n\")"
   ]
  },
  {
   "cell_type": "code",
   "execution_count": 389,
   "id": "cd7e9547",
   "metadata": {},
   "outputs": [
    {
     "name": "stdout",
     "output_type": "stream",
     "text": [
      "\n",
      "Coherence Score:  0.28988486308685213 \n",
      "\n",
      "Perplexity:  -7.690942110728512\n"
     ]
    }
   ],
   "source": [
    "# a measure of how good the model is. lower the better\n",
    "base_perplexity = base_model.log_perplexity(corpus)\n",
    "\n",
    "# Compute Coherence Score\n",
    "coherence_model = CoherenceModel(model=base_model, texts=lem_noNone, \n",
    "                                   dictionary=id2word, coherence='c_v')\n",
    "\n",
    "coherence_lda_model_base = coherence_model.get_coherence()\n",
    "print('\\nCoherence Score: ', coherence_lda_model_base, '\\n\\nPerplexity: ', base_perplexity)"
   ]
  },
  {
   "cell_type": "code",
   "execution_count": 390,
   "id": "f892129d",
   "metadata": {
    "scrolled": true
   },
   "outputs": [
    {
     "name": "stderr",
     "output_type": "stream",
     "text": [
      "/Users/austinboring/opt/anaconda3/envs/broke-the-other/lib/python3.10/site-packages/past/builtins/misc.py:45: DeprecationWarning: the imp module is deprecated in favour of importlib and slated for removal in Python 3.12; see the module's documentation for alternative uses\n",
      "  from imp import reload\n",
      "/Users/austinboring/opt/anaconda3/envs/broke-the-other/lib/python3.10/site-packages/past/builtins/misc.py:45: DeprecationWarning: the imp module is deprecated in favour of importlib and slated for removal in Python 3.12; see the module's documentation for alternative uses\n",
      "  from imp import reload\n",
      "/Users/austinboring/opt/anaconda3/envs/broke-the-other/lib/python3.10/site-packages/past/builtins/misc.py:45: DeprecationWarning: the imp module is deprecated in favour of importlib and slated for removal in Python 3.12; see the module's documentation for alternative uses\n",
      "  from imp import reload\n",
      "/Users/austinboring/opt/anaconda3/envs/broke-the-other/lib/python3.10/site-packages/past/builtins/misc.py:45: DeprecationWarning: the imp module is deprecated in favour of importlib and slated for removal in Python 3.12; see the module's documentation for alternative uses\n",
      "  from imp import reload\n",
      "/Users/austinboring/opt/anaconda3/envs/broke-the-other/lib/python3.10/site-packages/past/builtins/misc.py:45: DeprecationWarning: the imp module is deprecated in favour of importlib and slated for removal in Python 3.12; see the module's documentation for alternative uses\n",
      "  from imp import reload\n",
      "/Users/austinboring/opt/anaconda3/envs/broke-the-other/lib/python3.10/site-packages/past/builtins/misc.py:45: DeprecationWarning: the imp module is deprecated in favour of importlib and slated for removal in Python 3.12; see the module's documentation for alternative uses\n",
      "  from imp import reload\n",
      "/Users/austinboring/opt/anaconda3/envs/broke-the-other/lib/python3.10/site-packages/past/builtins/misc.py:45: DeprecationWarning: the imp module is deprecated in favour of importlib and slated for removal in Python 3.12; see the module's documentation for alternative uses\n",
      "  from imp import reload\n",
      "/Users/austinboring/opt/anaconda3/envs/broke-the-other/lib/python3.10/site-packages/past/builtins/misc.py:45: DeprecationWarning: the imp module is deprecated in favour of importlib and slated for removal in Python 3.12; see the module's documentation for alternative uses\n",
      "  from imp import reload\n"
     ]
    },
    {
     "data": {
      "text/html": [
       "\n",
       "<link rel=\"stylesheet\" type=\"text/css\" href=\"https://cdn.jsdelivr.net/gh/bmabey/pyLDAvis@3.3.1/pyLDAvis/js/ldavis.v1.0.0.css\">\n",
       "\n",
       "\n",
       "<div id=\"ldavis_el217782432590727773554893\"></div>\n",
       "<script type=\"text/javascript\">\n",
       "\n",
       "var ldavis_el217782432590727773554893_data = {\"mdsDat\": {\"x\": [0.05802454284759221, -0.0632489796763743, 0.03812448837112524, 0.1037797378754464, -0.1366797894177896], \"y\": [0.028286140291967476, -0.12817167934594537, -0.06597888228659031, 0.06420085402138649, 0.10166356731918165], \"topics\": [1, 2, 3, 4, 5], \"cluster\": [1, 1, 1, 1, 1], \"Freq\": [28.791051134835666, 23.596942600490557, 17.32541590461791, 16.33580532225433, 13.950785037801536]}, \"tinfo\": {\"Term\": [\"stock\", \"model\", \"musk\", \"fire\", \"car\", \"elon\", \"door\", \"crash\", \"autopilot\", \"vehicle\", \"twitter\", \"spot\", \"buy\", \"electric\", \"free\", \"battery\", \"year\", \"esg_index\", \"share\", \"ev\", \"first\", \"manual\", \"solar\", \"remove\", \"driver\", \"teslaradar\", \"drop\", \"worker\", \"tsla\", \"market\", \"door\", \"investment_realized\", \"manual\", \"initial_btc\", \"estimating\", \"tsla_winnings\", \"door_opener\", \"btcusd\", \"door_openers\", \"btc_holdings\", \"bugs_found\", \"diesel_generators\", \"trapped_inside\", \"fire\", \"mechanical\", \"issued_recalls\", \"bsc_galaxyheroes\", \"electrical_system\", \"rockets_iphone\", \"youtube_video\", \"fireman\", \"door_latch\", \"child_locks\", \"surprisingly_easy\", \"easily_accessible\", \"ghc_ghcarmy\", \"prone\", \"altcoins_shib\", \"burn_address\", \"burnluna_lunatics\", \"window\", \"bluetooth_hack\", \"button\", \"natural_environment\", \"catch\", \"rear_doors\", \"flame\", \"internal_combustion\", \"electronic\", \"conditions_reported\", \"trap\", \"engine\", \"burning\", \"mobile\", \"picture\", \"front\", \"door_handles\", \"gallon\", \"manually\", \"starship\", \"design\", \"seat\", \"passenger\", \"handle\", \"gas\", \"emergency\", \"gasoline\", \"open\", \"normal\", \"photo\", \"car\", \"fuck\", \"burn\", \"recall\", \"lock\", \"ever\", \"electric\", \"release\", \"maga\", \"people\", \"buy\", \"video\", \"never\", \"make\", \"see\", \"even\", \"know\", \"get\", \"say\", \"battery\", \"vehicle\", \"think\", \"drive\", \"use\", \"work\", \"need\", \"look\", \"thing\", \"many\", \"new\", \"go\", \"take\", \"time\", \"limit_charging\", \"asking_owners\", \"texas_heatwave\", \"aura_dims\", \"major_partnerships\", \"vinci_launching\", \"photoshopped\", \"litigation_department\", \"shibaswap_uniswap\", \"avatar\", \"coo_cfo\", \"august\", \"musicians_artists\", \"greig\", \"vancouver_several\", \"exploiting_zero\", \"ozworld\", \"joins_nft\", \"marketplace_vinci\", \"building_hardcore\", \"coo\", \"saw_awarded\", \"bugs_jonathan\", \"pm_pst\", \"tuesday_th\", \"june_vxl\", \"voxel_ama\", \"min_vxl\", \"entry_purchase\", \"early_june\", \"highlight\", \"plunge\", \"correction_getting\", \"artificial_intelligence\", \"loses\", \"senior_director\", \"streetfighters\", \"blasts_biden\", \"margin_call\", \"stock\", \"drop\", \"plummet\", \"collateral\", \"board\", \"loan\", \"tweet\", \"token\", \"twitter\", \"value\", \"manipulation\", \"bid\", \"tank\", \"musk\", \"elon\", \"shareholder\", \"lose\", \"ceo\", \"day\", \"share\", \"short\", \"deal\", \"sign\", \"market\", \"manipulate\", \"price\", \"hold\", \"buy\", \"sell\", \"go\", \"company\", \"get\", \"fall\", \"investor\", \"buying\", \"tsla\", \"back\", \"today\", \"make\", \"want\", \"money\", \"say\", \"time\", \"really\", \"know\", \"good\", \"year\", \"st_may\", \"information_including\", \"c\", \"month_prize\", \"entered_monthly\", \"peugeot_worth\", \"t\", \"models_start\", \"artistically_inspired\", \"electricity_neurons\", \"mysterical_occultism\", \"paganism_aleister\", \"spritual\", \"sunra_miku\", \"prize\", \"artistontwitter\", \"crowleycheck\", \"nftcommunity_art\", \"reference_spritual\", \"shares_sink\", \"hacker_shows\", \"photoshop\", \"battery_swap\", \"hacker_finds\", \"live_gen\", \"available_santa\", \"floki_rush\", \"nft_staking\", \"heat_rises\", \"love_song\", \"enter\", \"nicola\", \"santafloki_hohoho\", \"doge_shib\", \"floki_spacex\", \"free\", \"destruction\", \"correction\", \"bitcoin\", \"apple\", \"supercharger\", \"tax\", \"patent\", \"find\", \"nikola\", \"space\", \"pay\", \"invest\", \"nasdaq\", \"way\", \"google\", \"important\", \"money\", \"good\", \"world\", \"great\", \"help\", \"much\", \"thing\", \"think\", \"come\", \"future\", \"look\", \"give\", \"go\", \"ev\", \"market\", \"company\", \"car\", \"know\", \"charge\", \"still\", \"well\", \"electric\", \"stock\", \"drive\", \"time\", \"use\", \"get\", \"see\", \"price\", \"teslaradar\", \"latch\", \"first_player\", \"florida_united\", \"dual_motor\", \"unitedstates\", \"rickman\", \"unitedstates_modely\", \"california_united\", \"bluetooth_locks\", \"kowa_oa\", \"canada\", \"states_teslaradar\", \"hackers_researchers\", \"sexually_harassed\", \"web_tg\", \"burn_burned\", \"token_metatesla\", \"rewards_busd\", \"mtesla_new\", \"contract_slippage\", \"nail\", \"service_manuals\", \"oa\", \"road_map\", \"luxury_watches\", \"patent_royalty\", \"relinquish\", \"knowledge_helps\", \"canada_modely\", \"spot\", \"anyone_else\", \"vulnerable\", \"linkedin\", \"norway\", \"united_states\", \"warranty\", \"standard\", \"worker\", \"model\", \"union\", \"india\", \"germany\", \"brazil\", \"performance\", \"first\", \"black\", \"former\", \"state\", \"year\", \"employee\", \"vote\", \"china\", \"esg\", \"car\", \"still\", \"factory\", \"also\", \"time\", \"make\", \"well\", \"right\", \"electric\", \"company\", \"ev\", \"love\", \"say\", \"work\", \"think\", \"elon\", \"world\", \"want\", \"people\", \"many\", \"musk\", \"new\", \"lever\", \"harassment_claim\", \"brand_threatened\", \"rivian_gm\", \"faces_vehicular\", \"manslaughter_charges\", \"tortures_animals\", \"lessonmusk_also\", \"insiders_rip\", \"indonesia_official\", \"hard_hitting\", \"prompt\", \"socially_responsible\", \"course_explores\", \"sadistic_psychopath\", \"times_presents\", \"exxon_remains\", \"bake\", \"settle_sexual\", \"rising_materials\", \"seat_belt\", \"documentary_explores\", \"investor_calls\", \"theranos\", \"misconduct_claim\", \"latest_challenger\", \"course_review\", \"nhtsa_probes\", \"daily_thanks\", \"ikea\", \"must_stand\", \"renewableenergy\", \"spacex_grand\", \"deadly\", \"teach\", \"prices_rise\", \"stor_via\", \"national_highway\", \"climatechange_renewables\", \"remove\", \"autopilot\", \"indonesia\", \"whale_calls\", \"price_craters\", \"carmaker\", \"killed_three\", \"trial\", \"gt\", \"traffic_safety\", \"esg_index\", \"cancel\", \"bankrupt\", \"crash\", \"boycotttesla\", \"criticism\", \"fsd_beta\", \"racial_discrimination\", \"kick\", \"investigation\", \"solar\", \"nhtsa\", \"fatal\", \"death\", \"vehicle\", \"cover\", \"order\", \"system\", \"self_driving\", \"driver\", \"ev\", \"feature\", \"full\", \"kill\", \"battery\", \"musk\", \"fsd\", \"tsla\", \"elon\", \"use\", \"get\", \"take\", \"new\", \"drive\", \"electric\", \"share\", \"buy\", \"car\", \"people\", \"need\", \"stock\", \"sell\", \"want\", \"twitter\"], \"Freq\": [25612.0, 12276.0, 19576.0, 8491.0, 41816.0, 17819.0, 6263.0, 5383.0, 3728.0, 8146.0, 8961.0, 3241.0, 25461.0, 20487.0, 3307.0, 8183.0, 11366.0, 2691.0, 5877.0, 11305.0, 5837.0, 2954.0, 3470.0, 1858.0, 4566.0, 1801.0, 3357.0, 2315.0, 6529.0, 9400.0, 6220.545907091503, 118.27507057848808, 2933.942335885673, 114.46563843921906, 114.46569964687902, 114.46543441368587, 114.38041697400243, 121.63222911704132, 109.27496364147895, 115.02996286276696, 109.04263976682684, 104.85485247751953, 94.57634195204754, 8415.231266332878, 672.4265362105192, 130.4105296956347, 156.50521176862793, 175.6578026592529, 129.01090433662247, 103.98515283715811, 80.70471225824097, 89.88944700087895, 84.84900130387055, 76.94340464161493, 77.72511827078489, 133.42494574096926, 106.08613636909038, 72.66298465959758, 72.66298465959758, 72.66298465959758, 1411.8041327500443, 260.2776781887042, 729.6967482097256, 104.03439439959536, 2721.6460972335212, 181.98677671180906, 685.3312327954808, 143.41872843358735, 355.2986733878026, 170.47526848028735, 673.8712002059848, 648.9405042024372, 217.31655212967175, 270.356498723559, 813.9332597622986, 1372.6749734504226, 430.18289932923744, 336.75063055459543, 276.9430958168838, 256.01372816785425, 2074.899357174238, 846.8575129361016, 571.7642962261672, 1898.6808719472049, 3490.756742776999, 1275.705391591414, 454.87064172785335, 3379.16195781668, 691.0051012634927, 499.46670599461146, 24540.018772236952, 2043.5718078232394, 1664.590789059312, 1775.8326914574125, 1879.3064440943342, 2828.900851051661, 11385.805162550982, 1839.7218998046153, 1188.322561486294, 7825.563525543088, 12266.120822676157, 1536.4585104801286, 4150.388592970057, 8916.329727736897, 5138.828318905221, 4500.49542861458, 5515.750964869824, 8505.897601759067, 5467.009101768491, 3846.9892410302473, 3766.9652038564986, 5099.435395396282, 3754.1422807052427, 3759.3682723227794, 3182.050768328933, 3385.6333212888553, 3350.1518120819533, 2709.180626816428, 2516.5872155153816, 2716.9156428310152, 2903.4782225911667, 2681.9992027408575, 2684.2469112349886, 491.8363384909525, 432.70859455688395, 419.75455912365226, 320.4586702888183, 305.94847173599226, 209.53839578776476, 194.01328497880118, 219.19104843638482, 166.19871279327828, 221.34757394323503, 170.60072372398287, 323.642264792344, 126.64809519608542, 124.37730970560935, 121.41897442049785, 119.07791561212515, 116.3337864429579, 114.87873998090564, 114.87873998090564, 116.74872091298451, 173.42762574825738, 113.78206653789, 113.7817488239007, 111.10056882908725, 111.09673953942674, 111.09265942293256, 111.82142842723253, 111.82105218698204, 111.81819276107834, 105.50498168863032, 430.0383924164903, 492.40300647355355, 200.12944649072716, 195.9111912983607, 156.110674926794, 181.46186005716902, 126.27086836005212, 133.65261846567375, 147.42076255291045, 21378.65033865659, 2981.4256676593873, 598.6544906236235, 427.3010690154096, 1147.25290812789, 904.06184527047, 2713.6201984127806, 225.24650985456546, 6807.987134873015, 2622.7184135060024, 319.75043564130056, 273.7104011210147, 1940.2184653472339, 12421.05396260108, 11364.387800876892, 1094.4220882438706, 2634.2671497991905, 2005.6493538368263, 3609.9080840187316, 3693.08627528919, 1803.5585083940462, 2193.1335160047665, 934.8536149189956, 5164.899340646302, 388.93590083855855, 4563.22369097663, 1488.2133945976545, 9105.350637966454, 4267.992347527726, 4923.341461468199, 5384.961293292727, 7258.263440197866, 1388.3815055410817, 1252.8626434631506, 1433.0012581984604, 2688.48935629488, 2528.2801709061077, 1810.5429989605198, 4666.698120755168, 3206.928221545751, 2325.8328169237548, 3118.997296543979, 2654.800971484112, 1967.0988079081128, 2353.1744133099423, 2269.7257303820675, 2243.699135475806, 713.4876274894751, 689.3622014010547, 694.7621987067236, 519.7787033415918, 519.0227027365964, 515.6030203845348, 534.476565175125, 346.292721712209, 184.47659702468107, 184.47659702468107, 184.47659702468107, 184.47659702468107, 184.47659702468107, 169.69868575720338, 252.27493164979361, 142.50648236722776, 142.50648236722776, 142.50648236722776, 142.50648236722776, 140.41139715157854, 225.45441791675617, 139.04524060812588, 132.51832652431776, 135.93508682649002, 80.46693103063093, 80.46699855699393, 80.46691261435012, 80.46690033682958, 100.80586542446763, 78.32450983452571, 1325.3506815133107, 282.70579762893544, 114.46383968423514, 115.13798605976596, 114.45344062433468, 2872.8724281794325, 126.4239372117416, 155.00567354428497, 1300.4165105916395, 1446.2204157613553, 780.2894694371836, 1564.2402919408098, 224.35128269590996, 2233.626328986291, 936.8216684982623, 1319.955742546106, 2788.7767163443614, 1246.8750292621326, 353.3689934527424, 3278.892193401282, 621.5438789724972, 603.4692569987229, 2628.889807569938, 3775.793308732427, 2772.858960069612, 1828.6836460866944, 1438.0678474598842, 2545.7859229544642, 2367.032295690873, 3684.340513706948, 2259.9622980935533, 1281.4535363414095, 2366.3406292935265, 1675.8550347627286, 2781.5202106022475, 2535.6126712118385, 2306.9445386276607, 2873.8463793291185, 4748.752434758516, 2549.8052885199595, 1537.5878574640149, 1809.8619124327986, 1930.9261226062542, 2540.5221079066655, 2376.5622053570123, 1760.5695336331994, 1836.2075071161667, 1778.7966424121257, 2062.308164604258, 1781.3409375494257, 1692.9541831742692, 1796.952808047346, 507.5762504788515, 621.6900159824191, 505.68024746541164, 1399.7057721442195, 1273.664774280914, 192.64764253275013, 574.4718265409377, 911.7526851743444, 266.4718417790731, 367.11648911371435, 1029.419615705834, 861.2646244683423, 206.61045264053604, 198.6276853982299, 147.08890720141744, 146.19590441445558, 146.19151701921493, 146.18951432956683, 146.19106554582606, 146.18528900169656, 448.8789681091778, 116.14813932257853, 220.3875682706038, 101.76384986567224, 100.847266276322, 101.91008093870607, 101.90881912846535, 101.90775411431723, 100.53183686862523, 3209.188795778994, 841.9812930825435, 315.9886095819855, 122.68802076650896, 186.9657225950601, 420.64465585802014, 199.190313850699, 1670.0259036326524, 2010.5333383902105, 9133.772484949013, 909.9679066819392, 778.4802412452716, 394.5212479534087, 260.55881377124, 991.060676998084, 3470.273217184815, 663.7028793174964, 322.0603941553336, 1531.0155339131873, 5159.501974177639, 1280.1644167120303, 900.4631647645183, 1318.4183357637826, 1453.4332354491135, 8387.611348262588, 2329.575644517129, 1269.3773051503413, 2363.5021795602356, 2824.4958688241845, 3856.0565334074527, 2327.2789183542163, 2038.0953488841237, 3551.366172720812, 2965.5491208996045, 2557.2067676013144, 1471.2455507715372, 2327.001644236, 1804.5216320732538, 2244.734024399585, 2441.4484350331904, 1770.5143411747417, 1877.5612284509089, 1835.5989301353861, 1552.117724244131, 1657.339825539894, 1506.8319335169776, 532.8458864254484, 243.01212915479272, 260.1536833097622, 213.6020845324598, 220.47807507048583, 235.82177993962134, 342.00009583710516, 325.8959312483843, 120.78368617186732, 112.81669366724805, 117.70563445515904, 162.09931187483085, 123.60870278128783, 98.0674606508739, 345.02916185517654, 77.08533380468323, 73.23062891241231, 185.51816334406237, 72.21165223490463, 138.93759825051254, 69.91582451942637, 67.85332888451876, 105.200678008846, 193.21843835856575, 67.94750895678196, 66.83158903793559, 66.16634248960584, 117.9118489229424, 127.21591867665147, 72.37482255902201, 350.38071349717717, 238.4522575827903, 266.3195146801028, 353.6528197605137, 500.95770918840145, 215.36260384895922, 183.90646959916327, 198.27658988671263, 121.65703543589963, 1773.5360869929789, 3498.60775040816, 456.46762237758804, 193.93292764451616, 186.739434644851, 414.2165823821275, 415.6038415497402, 598.4960155467347, 1171.0772816612998, 208.7353677305298, 2209.0271928945026, 853.0329818443978, 638.9174520557514, 4069.7097769433835, 814.6001175471692, 372.13578128283797, 819.3218050455669, 468.9115122930272, 1141.3158054314706, 582.6520534985027, 2345.8682625600454, 376.8720606866217, 355.93659135904187, 916.961424307963, 3617.7466638951405, 785.9964239891386, 1375.2088636980623, 1257.239121687084, 1653.2892959415094, 1941.1883010091317, 3443.391980427233, 1058.8769971354661, 1252.544245331916, 1189.0457302270434, 2617.811552938186, 4404.699431081724, 1318.6549883121104, 2017.906924215957, 3017.8211556985375, 2169.3206015715677, 3216.105298576927, 1960.7234219531563, 1863.7406361554292, 1884.122641234273, 2594.2326156126423, 1601.9741914003737, 2679.2582642412644, 3141.834161029059, 2036.7761164697333, 1509.0736591983534, 1728.6513860253967, 1504.819466294737, 1508.0271546342958, 1388.0176303370715], \"Total\": [25612.0, 12276.0, 19576.0, 8491.0, 41816.0, 17819.0, 6263.0, 5383.0, 3728.0, 8146.0, 8961.0, 3241.0, 25461.0, 20487.0, 3307.0, 8183.0, 11366.0, 2691.0, 5877.0, 11305.0, 5837.0, 2954.0, 3470.0, 1858.0, 4566.0, 1801.0, 3357.0, 2315.0, 6529.0, 9400.0, 6263.127534567084, 119.10623691664483, 2954.6284843005055, 115.2961755007547, 115.29641606356098, 115.29625268816723, 115.24865214030632, 122.57582260742302, 110.12328779446615, 115.93378210462537, 109.90085646680929, 105.78071683764814, 95.42036351248649, 8491.991450426234, 678.5726290029864, 131.61901942275065, 157.9943573152502, 177.45031588388855, 130.34099985508917, 105.06561412688701, 81.55645417922682, 90.84584272051534, 85.7561742602795, 77.76854384094726, 78.55958777574799, 134.88875143073906, 107.26698325133268, 73.48963439742249, 73.48963439742249, 73.48963439742249, 1442.6713711010987, 263.57707582684947, 752.2514288824362, 105.22922869051625, 2846.374413653394, 185.40259758377047, 716.3192512223076, 145.76572767189847, 368.1573381161232, 174.04932139758787, 707.6285754123554, 686.1460681765618, 223.08178999429677, 279.66837646510925, 874.2549911205411, 1516.2687372594469, 453.6764962529539, 351.5548977292942, 289.07078057461774, 266.6418822235204, 2370.1180480152034, 936.1114022694079, 619.9261914451904, 2198.140209653692, 4211.173530466607, 1459.97860140253, 497.4633241406343, 4347.273714681552, 785.5107110134708, 555.8428015849692, 41816.053283573514, 2655.8883118067897, 2120.3925209199224, 2292.5616190521764, 2476.819024987209, 4032.5264948472764, 20487.270547081796, 2491.9615346067376, 1505.5934584828, 14392.659948023012, 25461.93959487148, 2092.196127085601, 7242.894973778383, 19554.90128419054, 10217.601931018427, 8704.546481321519, 11928.750598107528, 22433.54253077142, 12840.67095854429, 8183.532144689083, 8146.139385797325, 13884.023008417827, 8531.063583713476, 9478.598013812058, 6990.859477757141, 8656.427469691787, 8544.208923249438, 6615.69034091315, 6141.600842074232, 8171.899065416308, 12347.294963339851, 8618.269379615898, 10763.331510596683, 492.64388155663426, 433.53108058303883, 420.57208277204097, 321.269633502363, 306.8205271157823, 210.3893996775596, 194.84000759716645, 220.14874995541055, 167.021813591437, 222.46315322177438, 171.52254499912814, 325.7049292491927, 127.45997374877768, 125.19758438131466, 122.24237606376563, 119.89922029327447, 117.13739197248385, 115.68663059430745, 115.68663059430745, 117.57470220584061, 174.66472998818028, 114.60272477094324, 114.60246552552024, 111.92087452316972, 111.91981442846273, 111.91851832563857, 112.66297675881, 112.66289895322944, 112.66199661071258, 106.31301374156794, 433.41236978506356, 500.32574673372284, 202.10514556783906, 197.8147555974842, 157.5121761091729, 183.56318359009487, 127.33188778080492, 134.9500697920959, 149.59698411906385, 25612.02438795099, 3357.145417907913, 634.6408258681425, 450.46276778090277, 1277.7895823234296, 1018.4594677028432, 3312.0617104464595, 235.21248497751162, 8961.175685641436, 3248.412469961923, 343.1990820638181, 290.57141948755014, 2498.2504861574353, 19576.47940822227, 17819.271403798313, 1335.726539749315, 3549.8080630805393, 2773.5846757836384, 5588.394164976659, 5877.921661653074, 2571.042661326098, 3233.5994343757134, 1210.501995318455, 9400.30649392751, 434.33250708737444, 8754.72575059746, 2294.1569442935565, 25461.93959487148, 9576.793167552965, 12347.294963339851, 14538.19422294907, 22433.54253077142, 2226.442574361822, 1941.885717615238, 2408.0019414763615, 6529.680235894666, 5951.198960832429, 3524.5672647493348, 19554.90128419054, 10253.883316640316, 6436.845346878819, 12840.67095854429, 10763.331510596683, 5628.455887630433, 11928.750598107528, 10789.804569584074, 11366.084826136193, 714.3010045833547, 690.1815202651828, 695.6379109334223, 520.5971630953504, 519.8403128499564, 516.421479366584, 535.40925109062, 347.62302353168593, 185.3559206541621, 185.3559206541621, 185.3559206541621, 185.3559206541621, 185.3559206541621, 170.51251420154676, 253.72770444473775, 143.34395399899296, 143.34395399899296, 143.34395399899296, 143.34395399899296, 141.2785887050152, 226.97713417451803, 140.0935648133626, 133.71548376259418, 137.25548557825522, 81.28008753271926, 81.28015582563845, 81.2800864352552, 81.28007651100603, 101.89023951947377, 79.23960385234668, 1350.1610254624609, 286.84981602767493, 116.32434088454208, 117.0308809831921, 116.32345526034024, 3307.7104757943225, 129.0693477113841, 161.452459519353, 1676.791233345585, 1890.4680281257984, 959.8845276519214, 2253.634298758727, 244.40334452366974, 3804.8276473672895, 1356.2929580679097, 2086.3004679818305, 5594.261857327662, 2071.668843707282, 439.2395966260315, 7031.401484245554, 886.7071052561339, 883.0702315370465, 6436.845346878819, 10789.804569584074, 7393.647629550162, 4180.585793540027, 3067.63012746164, 6889.659859044549, 6615.69034091315, 13884.023008417827, 7048.739405917884, 3034.419427685745, 8544.208923249438, 4886.568083277879, 12347.294963339851, 11305.029549772336, 9400.30649392751, 14538.19422294907, 41816.053283573514, 11928.750598107528, 4452.2273310191185, 6982.634456377377, 8404.038281685642, 20487.270547081796, 25612.02438795099, 8531.063583713476, 10763.331510596683, 9478.598013812058, 22433.54253077142, 10217.601931018427, 8754.72575059746, 1801.4681406712962, 508.89484399937913, 623.5576438973235, 507.2367994765657, 1404.2290242683382, 1278.9102018111928, 193.4724683105204, 577.1486938058501, 916.0738678483463, 267.75777769068685, 369.01097922590696, 1034.9515978745253, 865.9212092914331, 207.8509983661329, 199.87786908154038, 148.17603373107377, 147.2781646741778, 147.27741473681826, 147.27557707010146, 147.27728277611325, 147.27670059402925, 452.3731008406178, 117.09033272413551, 222.17623249946698, 102.59021906234815, 101.66769791935309, 102.78671877160234, 102.78662572156348, 102.78644432617882, 101.41869011095132, 3241.558382274063, 851.1109554358823, 319.6953108993524, 123.83167100162692, 189.5400388970434, 435.01747393411017, 202.92081916633256, 1828.3732503988253, 2315.940120003209, 12276.569628567237, 1041.0590729890714, 880.4263768454068, 425.06503890567734, 273.88394542614566, 1201.9079732089515, 5837.135491541689, 866.9077707918655, 361.2976664099546, 2486.5754652943424, 11366.084826136193, 2016.3629782998275, 1313.6018432818541, 2493.478690794339, 2896.4241530159134, 41816.053283573514, 6982.634456377377, 2648.1715609839166, 7603.062430943559, 10763.331510596683, 19554.90128419054, 8404.038281685642, 6655.266305271706, 20487.270547081796, 14538.19422294907, 11305.029549772336, 3802.135795132849, 12840.67095854429, 6990.859477757141, 13884.023008417827, 17819.271403798313, 7393.647629550162, 10253.883316640316, 14392.659948023012, 6141.600842074232, 19576.47940822227, 8171.899065416308, 533.7626237476245, 243.83356165551285, 261.09937158335066, 214.41874016808083, 221.40186629332314, 237.07322113094145, 344.1491232366156, 328.09707755373404, 121.65003654002554, 113.6409810955583, 118.60759892407329, 163.49138395695599, 124.69993335647553, 98.94130955760464, 348.3485542159055, 77.93861787703962, 74.0449060286345, 187.6178205100146, 73.03320612748418, 140.59135156998892, 70.74903804202421, 68.66751124311305, 106.46599015140166, 195.54247514262656, 68.7667108882783, 67.65062970196213, 66.98034078899427, 119.38445485595409, 128.87515923944616, 73.32884946719341, 355.74666559572177, 241.63441711223226, 270.2237168692728, 360.48773446702484, 513.5726256451761, 218.9539432579218, 187.01184347839373, 202.04251276638155, 123.38492535573286, 1858.5010455816139, 3728.068368919274, 472.10862489270204, 197.65788471542461, 190.28138586052344, 429.3261808506709, 433.3688899998978, 639.1674655855221, 1303.719524455263, 215.17884356671678, 2691.638990782002, 972.5178388528316, 719.3665496194449, 5383.639734409744, 942.6908963670646, 403.3146837722873, 962.8042240799218, 521.5959309430871, 1423.5357366597277, 673.1268246768931, 3470.8428658180505, 413.76731714487624, 391.69759876667297, 1315.4986921590466, 8146.139385797325, 1116.631139152286, 2458.6679002405153, 2248.9902655493142, 3479.7011572043084, 4566.581189983565, 11305.029549772336, 1907.8839840156224, 2568.672463106379, 2382.006482578376, 8183.532144689083, 19576.47940822227, 2981.1772732531863, 6529.680235894666, 17819.271403798313, 9478.598013812058, 22433.54253077142, 8618.269379615898, 8171.899065416308, 8531.063583713476, 20487.270547081796, 5877.921661653074, 25461.93959487148, 41816.053283573514, 14392.659948023012, 8656.427469691787, 25612.02438795099, 9576.793167552965, 10253.883316640316, 8961.175685641436], \"Category\": [\"Default\", \"Default\", \"Default\", \"Default\", \"Default\", \"Default\", \"Default\", \"Default\", \"Default\", \"Default\", \"Default\", \"Default\", \"Default\", \"Default\", \"Default\", \"Default\", \"Default\", \"Default\", \"Default\", \"Default\", \"Default\", \"Default\", \"Default\", \"Default\", \"Default\", \"Default\", \"Default\", \"Default\", \"Default\", \"Default\", \"Topic1\", \"Topic1\", \"Topic1\", \"Topic1\", \"Topic1\", \"Topic1\", \"Topic1\", \"Topic1\", \"Topic1\", \"Topic1\", \"Topic1\", \"Topic1\", \"Topic1\", \"Topic1\", \"Topic1\", \"Topic1\", \"Topic1\", \"Topic1\", \"Topic1\", \"Topic1\", \"Topic1\", \"Topic1\", \"Topic1\", \"Topic1\", \"Topic1\", \"Topic1\", \"Topic1\", \"Topic1\", \"Topic1\", \"Topic1\", \"Topic1\", \"Topic1\", \"Topic1\", \"Topic1\", \"Topic1\", \"Topic1\", \"Topic1\", \"Topic1\", \"Topic1\", \"Topic1\", \"Topic1\", \"Topic1\", \"Topic1\", \"Topic1\", \"Topic1\", \"Topic1\", \"Topic1\", \"Topic1\", \"Topic1\", \"Topic1\", \"Topic1\", \"Topic1\", \"Topic1\", \"Topic1\", \"Topic1\", \"Topic1\", \"Topic1\", \"Topic1\", \"Topic1\", \"Topic1\", \"Topic1\", \"Topic1\", \"Topic1\", \"Topic1\", \"Topic1\", \"Topic1\", \"Topic1\", \"Topic1\", \"Topic1\", \"Topic1\", \"Topic1\", \"Topic1\", \"Topic1\", \"Topic1\", \"Topic1\", \"Topic1\", \"Topic1\", \"Topic1\", \"Topic1\", \"Topic1\", \"Topic1\", \"Topic1\", \"Topic1\", \"Topic1\", \"Topic1\", \"Topic1\", \"Topic1\", \"Topic1\", \"Topic1\", \"Topic1\", \"Topic1\", \"Topic1\", \"Topic1\", \"Topic2\", \"Topic2\", \"Topic2\", \"Topic2\", \"Topic2\", \"Topic2\", \"Topic2\", \"Topic2\", \"Topic2\", \"Topic2\", \"Topic2\", \"Topic2\", \"Topic2\", \"Topic2\", \"Topic2\", \"Topic2\", \"Topic2\", \"Topic2\", \"Topic2\", \"Topic2\", \"Topic2\", \"Topic2\", \"Topic2\", \"Topic2\", \"Topic2\", \"Topic2\", \"Topic2\", \"Topic2\", \"Topic2\", \"Topic2\", \"Topic2\", \"Topic2\", \"Topic2\", \"Topic2\", \"Topic2\", \"Topic2\", \"Topic2\", \"Topic2\", \"Topic2\", \"Topic2\", \"Topic2\", \"Topic2\", \"Topic2\", \"Topic2\", \"Topic2\", \"Topic2\", \"Topic2\", \"Topic2\", \"Topic2\", \"Topic2\", \"Topic2\", \"Topic2\", \"Topic2\", \"Topic2\", \"Topic2\", \"Topic2\", \"Topic2\", \"Topic2\", \"Topic2\", \"Topic2\", \"Topic2\", \"Topic2\", \"Topic2\", \"Topic2\", \"Topic2\", \"Topic2\", \"Topic2\", \"Topic2\", \"Topic2\", \"Topic2\", \"Topic2\", \"Topic2\", \"Topic2\", \"Topic2\", \"Topic2\", \"Topic2\", \"Topic2\", \"Topic2\", \"Topic2\", \"Topic2\", \"Topic2\", \"Topic2\", \"Topic2\", \"Topic2\", \"Topic2\", \"Topic2\", \"Topic3\", \"Topic3\", \"Topic3\", \"Topic3\", \"Topic3\", \"Topic3\", \"Topic3\", \"Topic3\", \"Topic3\", \"Topic3\", \"Topic3\", \"Topic3\", \"Topic3\", \"Topic3\", \"Topic3\", \"Topic3\", \"Topic3\", \"Topic3\", \"Topic3\", \"Topic3\", \"Topic3\", \"Topic3\", \"Topic3\", \"Topic3\", \"Topic3\", \"Topic3\", \"Topic3\", \"Topic3\", \"Topic3\", \"Topic3\", \"Topic3\", \"Topic3\", \"Topic3\", \"Topic3\", \"Topic3\", \"Topic3\", \"Topic3\", \"Topic3\", \"Topic3\", \"Topic3\", \"Topic3\", \"Topic3\", \"Topic3\", \"Topic3\", \"Topic3\", \"Topic3\", \"Topic3\", \"Topic3\", \"Topic3\", \"Topic3\", \"Topic3\", \"Topic3\", \"Topic3\", \"Topic3\", \"Topic3\", \"Topic3\", \"Topic3\", \"Topic3\", \"Topic3\", \"Topic3\", \"Topic3\", \"Topic3\", \"Topic3\", \"Topic3\", \"Topic3\", \"Topic3\", \"Topic3\", \"Topic3\", \"Topic3\", \"Topic3\", \"Topic3\", \"Topic3\", \"Topic3\", \"Topic3\", \"Topic3\", \"Topic3\", \"Topic3\", \"Topic3\", \"Topic3\", \"Topic3\", \"Topic3\", \"Topic4\", \"Topic4\", \"Topic4\", \"Topic4\", \"Topic4\", \"Topic4\", \"Topic4\", \"Topic4\", \"Topic4\", \"Topic4\", \"Topic4\", \"Topic4\", \"Topic4\", \"Topic4\", \"Topic4\", \"Topic4\", \"Topic4\", \"Topic4\", \"Topic4\", \"Topic4\", \"Topic4\", \"Topic4\", \"Topic4\", \"Topic4\", \"Topic4\", \"Topic4\", \"Topic4\", \"Topic4\", \"Topic4\", \"Topic4\", \"Topic4\", \"Topic4\", \"Topic4\", \"Topic4\", \"Topic4\", \"Topic4\", \"Topic4\", \"Topic4\", \"Topic4\", \"Topic4\", \"Topic4\", \"Topic4\", \"Topic4\", \"Topic4\", \"Topic4\", \"Topic4\", \"Topic4\", \"Topic4\", \"Topic4\", \"Topic4\", \"Topic4\", \"Topic4\", \"Topic4\", \"Topic4\", \"Topic4\", \"Topic4\", \"Topic4\", \"Topic4\", \"Topic4\", \"Topic4\", \"Topic4\", \"Topic4\", \"Topic4\", \"Topic4\", \"Topic4\", \"Topic4\", \"Topic4\", \"Topic4\", \"Topic4\", \"Topic4\", \"Topic4\", \"Topic4\", \"Topic4\", \"Topic4\", \"Topic4\", \"Topic4\", \"Topic5\", \"Topic5\", \"Topic5\", \"Topic5\", \"Topic5\", \"Topic5\", \"Topic5\", \"Topic5\", \"Topic5\", \"Topic5\", \"Topic5\", \"Topic5\", \"Topic5\", \"Topic5\", \"Topic5\", \"Topic5\", \"Topic5\", \"Topic5\", \"Topic5\", \"Topic5\", \"Topic5\", \"Topic5\", \"Topic5\", \"Topic5\", \"Topic5\", \"Topic5\", \"Topic5\", \"Topic5\", \"Topic5\", \"Topic5\", \"Topic5\", \"Topic5\", \"Topic5\", \"Topic5\", \"Topic5\", \"Topic5\", \"Topic5\", \"Topic5\", \"Topic5\", \"Topic5\", \"Topic5\", \"Topic5\", \"Topic5\", \"Topic5\", \"Topic5\", \"Topic5\", \"Topic5\", \"Topic5\", \"Topic5\", \"Topic5\", \"Topic5\", \"Topic5\", \"Topic5\", \"Topic5\", \"Topic5\", \"Topic5\", \"Topic5\", \"Topic5\", \"Topic5\", \"Topic5\", \"Topic5\", \"Topic5\", \"Topic5\", \"Topic5\", \"Topic5\", \"Topic5\", \"Topic5\", \"Topic5\", \"Topic5\", \"Topic5\", \"Topic5\", \"Topic5\", \"Topic5\", \"Topic5\", \"Topic5\", \"Topic5\", \"Topic5\", \"Topic5\", \"Topic5\", \"Topic5\", \"Topic5\", \"Topic5\", \"Topic5\", \"Topic5\", \"Topic5\", \"Topic5\", \"Topic5\", \"Topic5\", \"Topic5\", \"Topic5\", \"Topic5\", \"Topic5\", \"Topic5\"], \"logprob\": [30.0, 29.0, 28.0, 27.0, 26.0, 25.0, 24.0, 23.0, 22.0, 21.0, 20.0, 19.0, 18.0, 17.0, 16.0, 15.0, 14.0, 13.0, 12.0, 11.0, 10.0, 9.0, 8.0, 7.0, 6.0, 5.0, 4.0, 3.0, 2.0, 1.0, -4.7247, -8.6873, -5.4762, -8.72, -8.72, -8.72, -8.7208, -8.6593, -8.7664, -8.7151, -8.7686, -8.8077, -8.9109, -4.4225, -6.9494, -8.5896, -8.4072, -8.2918, -8.6004, -8.8161, -9.0695, -8.9617, -9.0194, -9.1172, -9.1071, -8.5668, -8.796, -9.1745, -9.1745, -9.1745, -6.2077, -7.8986, -6.8677, -8.8156, -5.5513, -8.2564, -6.9304, -8.4945, -7.5873, -8.3217, -6.9473, -6.985, -8.0789, -7.8606, -6.7584, -6.2358, -7.3961, -7.641, -7.8365, -7.9151, -5.8226, -6.7188, -7.1116, -5.9114, -5.3024, -6.309, -7.3403, -5.3349, -6.9222, -7.2468, -3.3522, -5.8378, -6.043, -5.9783, -5.9216, -5.5127, -4.1202, -5.9429, -6.38, -4.4951, -4.0457, -6.1231, -5.1293, -4.3647, -4.9157, -5.0484, -4.8449, -4.4118, -4.8538, -5.2053, -5.2263, -4.9234, -5.2297, -5.2283, -5.395, -5.333, -5.3435, -5.5559, -5.6296, -5.553, -5.4866, -5.566, -5.5651, -7.0632, -7.1913, -7.2217, -7.4916, -7.5379, -7.9164, -7.9934, -7.8714, -8.1482, -7.8616, -8.122, -7.4817, -8.4199, -8.438, -8.4621, -8.4816, -8.5049, -8.5175, -8.5175, -8.5013, -8.1056, -8.5271, -8.5271, -8.5509, -8.551, -8.551, -8.5445, -8.5445, -8.5445, -8.6026, -7.1975, -7.0621, -7.9624, -7.9837, -8.2108, -8.0603, -8.4229, -8.3661, -8.2681, -3.2912, -5.2612, -6.8667, -7.2039, -6.2162, -6.4545, -5.3553, -7.8442, -4.4355, -5.3894, -7.4938, -7.6493, -5.6908, -3.8342, -3.9231, -6.2634, -5.385, -5.6576, -5.0699, -5.0471, -5.7638, -5.5683, -6.421, -4.7117, -7.2979, -4.8356, -5.956, -4.1447, -4.9025, -4.7596, -4.67, -4.3715, -6.0255, -6.1282, -5.9938, -5.3646, -5.4261, -5.76, -4.8131, -5.1883, -5.5095, -5.2161, -5.3772, -5.677, -5.4978, -5.5339, -5.5455, -6.3822, -6.4166, -6.4088, -6.699, -6.7005, -6.7071, -6.6711, -7.1051, -7.7349, -7.7349, -7.7349, -7.7349, -7.7349, -7.8184, -7.4219, -7.993, -7.993, -7.993, -7.993, -8.0078, -7.5343, -8.0176, -8.0657, -8.0402, -8.5646, -8.5646, -8.5646, -8.5646, -8.3392, -8.5916, -5.763, -7.308, -8.2122, -8.2063, -8.2122, -4.9893, -8.1128, -7.9089, -5.782, -5.6757, -6.2927, -5.5973, -7.5392, -5.241, -6.1099, -5.7671, -5.0191, -5.824, -7.0849, -4.8571, -6.5202, -6.5497, -5.0781, -4.716, -5.0248, -5.4411, -5.6814, -5.1102, -5.183, -4.7406, -5.2293, -5.7967, -5.1833, -5.5283, -5.0217, -5.1142, -5.2087, -4.989, -4.4868, -5.1086, -5.6144, -5.4514, -5.3867, -5.1123, -5.179, -5.479, -5.437, -5.4687, -5.3208, -5.4673, -5.5182, -5.3997, -6.6639, -6.4612, -6.6677, -5.6496, -5.7439, -7.6327, -6.5401, -6.0782, -7.3083, -6.9879, -5.9568, -6.1352, -7.5628, -7.6022, -7.9026, -7.9086, -7.9087, -7.9087, -7.9087, -7.9087, -6.7868, -8.1387, -7.4982, -8.2709, -8.28, -8.2695, -8.2695, -8.2695, -8.2831, -4.8198, -6.1578, -7.1379, -8.084, -7.6627, -6.8518, -7.5993, -5.473, -5.2874, -3.7739, -6.0802, -6.2363, -6.9159, -7.3308, -5.9948, -4.7416, -6.3958, -7.1189, -5.5599, -4.345, -5.7389, -6.0907, -5.7094, -5.6119, -3.8591, -5.1402, -5.7473, -5.1257, -4.9475, -4.6362, -5.1411, -5.2738, -4.7185, -4.8988, -5.0469, -5.5997, -5.1413, -5.3955, -5.1773, -5.0932, -5.4146, -5.3559, -5.3785, -5.5462, -5.4806, -5.5758, -6.4575, -7.2427, -7.1745, -7.3717, -7.34, -7.2727, -6.901, -6.9492, -7.9418, -8.01, -7.9676, -7.6476, -7.9187, -8.1501, -6.8921, -8.3909, -8.4422, -7.5126, -8.4562, -7.8017, -8.4885, -8.5184, -8.0799, -7.472, -8.517, -8.5336, -8.5436, -7.9658, -7.8899, -8.4539, -6.8768, -7.2616, -7.1511, -6.8675, -6.5193, -7.3634, -7.5213, -7.4461, -7.9346, -5.255, -4.5757, -6.6123, -7.4683, -7.5061, -6.7094, -6.706, -6.3414, -5.6701, -7.3947, -5.0355, -5.987, -6.276, -4.4244, -6.0331, -6.8165, -6.0273, -6.5854, -5.6958, -6.3682, -4.9754, -6.8039, -6.861, -5.9147, -4.5422, -6.0688, -5.5094, -5.5991, -5.3252, -5.1647, -4.5916, -5.7708, -5.6028, -5.6549, -4.8657, -4.3453, -5.5514, -5.126, -4.7235, -5.0536, -4.6598, -5.1547, -5.2054, -5.1946, -4.8747, -5.3568, -4.8425, -4.6832, -5.1166, -5.4165, -5.2807, -5.4193, -5.4172, -5.5001], \"loglift\": [30.0, 29.0, 28.0, 27.0, 26.0, 25.0, 24.0, 23.0, 22.0, 21.0, 20.0, 19.0, 18.0, 17.0, 16.0, 15.0, 14.0, 13.0, 12.0, 11.0, 10.0, 9.0, 8.0, 7.0, 6.0, 5.0, 4.0, 3.0, 2.0, 1.0, 1.2383, 1.2381, 1.2381, 1.2379, 1.2379, 1.2379, 1.2375, 1.2374, 1.2374, 1.2373, 1.2373, 1.2363, 1.2362, 1.236, 1.236, 1.2359, 1.2356, 1.235, 1.2348, 1.2348, 1.2346, 1.2345, 1.2345, 1.2344, 1.2344, 1.2342, 1.234, 1.2338, 1.2338, 1.2338, 1.2235, 1.2325, 1.2147, 1.2337, 1.2003, 1.2265, 1.2009, 1.2289, 1.2096, 1.2244, 1.1962, 1.1894, 1.2189, 1.2112, 1.1736, 1.1456, 1.1919, 1.2021, 1.2022, 1.2044, 1.1121, 1.1449, 1.1642, 1.0987, 1.0575, 1.1102, 1.1556, 0.9932, 1.1169, 1.1382, 0.7121, 0.983, 1.0031, 0.9897, 0.969, 0.8906, 0.6577, 0.9416, 1.0085, 0.6358, 0.5148, 0.9364, 0.6883, 0.4598, 0.5578, 0.5854, 0.4738, 0.2753, 0.3912, 0.4903, 0.4738, 0.2435, 0.4243, 0.3203, 0.458, 0.3063, 0.3089, 0.3523, 0.3529, 0.1439, -0.2024, 0.0778, -0.1436, 1.4424, 1.4422, 1.4421, 1.4415, 1.4412, 1.44, 1.4398, 1.4397, 1.4391, 1.439, 1.4387, 1.4377, 1.4377, 1.4375, 1.4373, 1.4372, 1.4372, 1.437, 1.437, 1.437, 1.4369, 1.4369, 1.4369, 1.4367, 1.4367, 1.4366, 1.4366, 1.4366, 1.4365, 1.4364, 1.4362, 1.4281, 1.4342, 1.4344, 1.4351, 1.4325, 1.4357, 1.4344, 1.4294, 1.2634, 1.3254, 1.3857, 1.3913, 1.3363, 1.3249, 1.2448, 1.4008, 1.1692, 1.2301, 1.3733, 1.3843, 1.1913, 0.9891, 0.9943, 1.2448, 1.1458, 1.1199, 1.007, 0.9793, 1.0895, 1.0558, 1.1857, 0.8452, 1.3337, 0.7925, 1.0113, 0.4157, 0.6359, 0.5246, 0.4509, 0.3156, 0.9718, 1.0058, 0.925, 0.5567, 0.588, 0.7779, 0.0113, 0.2817, 0.4261, 0.0289, 0.0443, 0.3928, -0.1791, -0.1149, -0.1785, 1.7519, 1.7518, 1.7517, 1.7514, 1.7514, 1.7514, 1.7513, 1.7492, 1.7482, 1.7482, 1.7482, 1.7482, 1.7482, 1.7482, 1.7473, 1.7471, 1.7471, 1.7471, 1.7471, 1.7468, 1.7463, 1.7455, 1.744, 1.7433, 1.7429, 1.7429, 1.7429, 1.7429, 1.7423, 1.7414, 1.7344, 1.7384, 1.7369, 1.7367, 1.7368, 1.6121, 1.7323, 1.7122, 1.4988, 1.4851, 1.5458, 1.3879, 1.6674, 1.2204, 1.383, 1.2952, 1.0569, 1.2453, 1.5355, 0.9901, 1.3977, 1.3723, 0.8575, 0.703, 0.7723, 0.9261, 0.9954, 0.7574, 0.7252, 0.4263, 0.6155, 0.891, 0.4691, 0.6828, 0.2626, 0.2582, 0.3482, 0.1319, -0.4224, 0.2101, 0.6898, 0.4028, 0.2823, -0.3344, -0.6244, 0.1749, -0.0154, 0.0799, -0.6337, 0.0063, 0.1099, 1.8093, 1.8092, 1.8088, 1.8087, 1.8086, 1.8077, 1.8075, 1.8072, 1.8071, 1.807, 1.8067, 1.8065, 1.8064, 1.8058, 1.8055, 1.8044, 1.8044, 1.8044, 1.8044, 1.8044, 1.8044, 1.8041, 1.8037, 1.8037, 1.8037, 1.8037, 1.8032, 1.8032, 1.8032, 1.803, 1.8018, 1.801, 1.8001, 1.8025, 1.7981, 1.7782, 1.7933, 1.7212, 1.6704, 1.5161, 1.6772, 1.6887, 1.7372, 1.7619, 1.6189, 1.2918, 1.5447, 1.6968, 1.3268, 1.022, 1.3575, 1.4342, 1.1746, 1.1223, 0.2053, 0.7141, 1.0765, 0.6434, 0.474, 0.1882, 0.5278, 0.6284, 0.0593, 0.2221, 0.3255, 0.8624, 0.1038, 0.4575, -0.0103, -0.1759, 0.3825, 0.1141, -0.2475, 0.4363, -0.6573, 0.1211, 1.9679, 1.9663, 1.966, 1.9658, 1.9655, 1.9643, 1.9634, 1.9629, 1.9625, 1.9624, 1.962, 1.9611, 1.9608, 1.9608, 1.9601, 1.9586, 1.9586, 1.9584, 1.9583, 1.9578, 1.9578, 1.9577, 1.9577, 1.9577, 1.9577, 1.9575, 1.9574, 1.9572, 1.9567, 1.9565, 1.9544, 1.9564, 1.9551, 1.9505, 1.9448, 1.9531, 1.9529, 1.9508, 1.9555, 1.9228, 1.9061, 1.9359, 1.9506, 1.9508, 1.9338, 1.9278, 1.9039, 1.8623, 1.9392, 1.772, 1.8385, 1.851, 1.6898, 1.8236, 1.8892, 1.8083, 1.8632, 1.7487, 1.8253, 1.5779, 1.8762, 1.8739, 1.6087, 1.1579, 1.6185, 1.3886, 1.3881, 1.2255, 1.1142, 0.7808, 1.3808, 1.2514, 1.2748, 0.8298, 0.478, 1.1539, 0.7953, 0.1939, 0.495, 0.0272, 0.4891, 0.4915, 0.4594, -0.0969, 0.6697, -0.282, -0.6188, 0.0143, 0.2228, -0.7261, 0.119, 0.0528, 0.1046]}, \"token.table\": {\"Topic\": [1, 2, 3, 4, 5, 1, 1, 2, 3, 4, 5, 1, 2, 3, 4, 5, 2, 3, 3, 3, 2, 2, 3, 2, 1, 2, 3, 4, 5, 3, 2, 1, 2, 3, 4, 5, 1, 5, 1, 2, 3, 4, 5, 1, 2, 3, 4, 5, 3, 5, 1, 2, 3, 4, 5, 1, 2, 3, 4, 5, 1, 2, 3, 4, 5, 2, 5, 1, 3, 4, 1, 4, 1, 2, 3, 4, 5, 1, 2, 3, 4, 5, 5, 1, 3, 4, 5, 1, 5, 1, 1, 1, 2, 2, 1, 2, 3, 4, 5, 1, 4, 1, 2, 4, 1, 1, 2, 3, 4, 5, 1, 2, 3, 4, 5, 1, 2, 3, 4, 5, 3, 1, 2, 3, 4, 5, 1, 2, 3, 4, 5, 4, 1, 2, 3, 4, 5, 1, 2, 3, 4, 5, 1, 2, 3, 4, 5, 1, 2, 3, 4, 5, 1, 2, 3, 4, 5, 1, 2, 3, 4, 5, 1, 1, 2, 3, 4, 5, 2, 3, 5, 1, 2, 3, 4, 5, 1, 2, 3, 4, 5, 1, 2, 3, 4, 5, 1, 3, 4, 5, 4, 1, 2, 2, 1, 2, 3, 4, 5, 2, 4, 5, 5, 1, 2, 3, 4, 5, 1, 2, 3, 4, 5, 1, 2, 4, 5, 3, 3, 5, 1, 2, 3, 4, 5, 1, 2, 5, 1, 2, 3, 4, 5, 1, 2, 3, 4, 5, 1, 2, 3, 4, 5, 1, 2, 3, 1, 5, 3, 4, 5, 1, 2, 3, 4, 5, 1, 5, 1, 1, 1, 1, 2, 3, 4, 5, 1, 2, 3, 4, 5, 1, 2, 3, 4, 5, 1, 2, 3, 4, 5, 2, 1, 1, 2, 3, 4, 5, 1, 3, 3, 1, 2, 3, 4, 5, 1, 2, 3, 4, 5, 1, 2, 3, 4, 5, 1, 2, 3, 4, 5, 1, 2, 3, 4, 5, 1, 2, 3, 4, 5, 3, 2, 1, 2, 3, 4, 5, 1, 2, 3, 4, 5, 1, 1, 2, 3, 4, 5, 1, 2, 3, 4, 5, 1, 2, 3, 4, 5, 2, 5, 5, 1, 2, 3, 4, 5, 1, 2, 3, 4, 5, 1, 2, 3, 4, 5, 1, 2, 3, 4, 5, 1, 2, 3, 4, 5, 1, 2, 3, 4, 5, 1, 1, 2, 3, 4, 5, 3, 4, 5, 1, 2, 3, 4, 5, 3, 3, 4, 5, 1, 4, 1, 2, 3, 4, 5, 1, 2, 3, 4, 5, 1, 2, 3, 4, 5, 1, 2, 3, 4, 5, 1, 2, 3, 4, 5, 1, 2, 3, 4, 5, 1, 2, 3, 4, 5, 1, 2, 3, 4, 5, 1, 2, 3, 4, 5, 1, 2, 3, 4, 5, 1, 2, 3, 4, 5, 1, 2, 3, 4, 5, 1, 2, 3, 4, 5, 1, 5, 1, 2, 3, 4, 5, 1, 2, 3, 4, 5, 1, 2, 3, 4, 5, 1, 2, 3, 4, 5, 1, 2, 3, 4, 5, 2, 1, 2, 3, 4, 5, 1, 3, 1, 3, 1, 4, 1, 2, 3, 4, 5, 5, 5, 3, 1, 2, 3, 4, 5, 1, 2, 3, 4, 1, 2, 3, 4, 5, 5, 1, 2, 3, 4, 5, 1, 2, 3, 4, 5, 1, 2, 3, 4, 5, 5, 3, 1, 5, 1, 4, 5, 1, 2, 3, 4, 5, 1, 2, 3, 4, 5, 1, 1, 2, 3, 4, 5, 3, 5, 1, 2, 2, 1, 2, 3, 4, 5, 1, 2, 3, 4, 5, 1, 2, 3, 5, 1, 2, 3, 4, 5, 4, 2, 3, 4, 2, 4, 5, 1, 5, 5, 2, 4, 2, 3, 1, 2, 3, 4, 5, 1, 2, 3, 4, 5, 1, 2, 3, 4, 5, 1, 2, 3, 4, 5, 2, 5, 1, 2, 3, 4, 5, 3, 4, 1, 2, 3, 4, 5, 2, 1, 2, 3, 4, 5, 1, 2, 3, 4, 5, 1, 2, 3, 4, 5, 3, 5, 1, 4, 5, 1, 5, 1, 2, 3, 4, 5, 1, 2, 5, 1, 2, 3, 4, 5, 2, 1, 3, 5, 2, 5, 1, 2, 3, 4, 5, 1, 2, 3, 4, 5, 1, 3, 1, 2, 3, 4, 5, 3, 4, 1, 2, 3, 4, 5, 2, 1, 2, 3, 4, 5, 3, 5, 3, 1, 3, 4, 5, 2, 3, 4, 5, 1, 2, 3, 5, 1, 3, 1, 2, 3, 4, 5, 1, 2, 3, 4, 5, 1, 2, 3, 4, 5, 3, 3, 1, 2, 3, 4, 5, 3, 5, 1, 3, 5, 1, 2, 3, 4, 5, 1, 2, 3, 4, 5, 1, 3, 4, 5, 2, 4, 1, 2, 3, 4, 5, 1, 2, 3, 4, 5, 2, 3, 1, 2, 3, 4, 5, 1, 2, 3, 4, 5, 4, 1, 2, 3, 4, 5, 1, 2, 3, 4, 5, 1, 2, 3, 4, 5, 3, 1, 2, 3, 4, 5, 3, 2, 1, 2, 3, 4, 5, 1, 2, 3, 4, 5, 2, 3, 5, 2, 1, 2, 3, 4, 5, 3, 5, 1, 5, 3, 5, 1, 5, 1, 2, 3, 4, 5, 1, 2, 3, 4, 5, 1, 5, 1, 2, 3, 4, 5, 3, 1, 2, 3, 4, 5, 4, 1, 2, 3, 4, 5, 2, 3, 4, 5, 4, 4, 1, 2, 3, 4, 5, 1, 5, 5, 4, 1, 5, 1, 5, 3, 4, 5, 2, 1, 2, 3, 4, 5, 1, 2, 3, 4, 5, 5, 1, 2, 3, 4, 5, 1, 2, 3, 4, 5, 1, 2, 3, 4, 5, 1, 2, 4, 4, 5, 3, 4, 1, 2, 3, 4, 5, 1, 2, 3, 4, 5, 3, 2, 1, 2, 3, 4, 5, 1, 2, 3, 4, 5, 5, 1, 2, 3, 4, 5, 1, 2, 3, 4, 5, 1, 4, 5, 1, 2, 3, 4, 5, 3, 3, 1, 2, 3, 4, 5, 1, 3, 4, 5, 1, 2, 3, 4, 5, 1, 2, 3, 4, 5, 1, 2, 3, 4, 5, 1, 2, 3, 4, 5, 1, 5, 2, 3, 1, 2, 3, 4, 5, 1, 1, 2, 3, 4, 5, 3, 1, 2, 3, 4, 5, 1, 2, 3, 4, 5, 1, 2, 3, 4, 5, 1, 2, 3, 4, 5, 1, 2, 3, 4, 5, 2, 2, 3, 5, 1, 2, 3, 4, 5, 1, 2, 3, 4, 5, 1, 2, 3, 4, 5, 5, 1, 2, 3, 4, 5, 1, 2, 3, 4, 1, 5, 1, 2, 3, 5, 1, 2, 3, 1, 1, 2, 3, 4, 5, 1, 2, 3, 4, 5, 1, 2, 1, 2, 3, 4, 5, 1, 2, 3, 4, 5, 1, 2, 3, 4, 5, 1, 2, 3, 4, 5, 1, 2, 3, 4, 5, 1, 2, 3, 4, 1, 2, 3, 4, 5, 1, 2, 3, 4, 5, 2, 1, 2, 3, 4, 5, 1, 2, 3, 4, 5, 2, 1, 2, 3, 4, 5, 2, 1, 3, 4, 1, 2, 3, 4, 5, 1, 4, 5, 1, 2, 3, 4, 5, 4, 1, 2, 3, 4, 5, 3, 5, 1, 2, 3, 4, 5, 1, 2, 3, 4, 5, 1, 2, 3, 4, 5, 1, 2, 3, 4, 5, 1, 2, 3, 4, 5, 1], \"Freq\": [0.21701781551663926, 0.08509728887228218, 0.21372966679669017, 0.310927342958385, 0.17335120051571548, 0.9933373678963402, 0.0035248048222615114, 0.0023498698815076742, 0.0035248048222615114, 0.9892952201147308, 0.0011749349407538371, 0.04337550214022632, 0.14229280580147416, 0.7648899523752105, 0.03861477629556734, 0.010579390765908858, 0.9908259846844949, 0.0050552346157372195, 0.9926847728986656, 0.9976004987347051, 0.998774988445293, 0.9947654177260294, 0.003070263634956881, 0.9960480749813734, 0.01126588781207769, 0.0010729416963883515, 0.048014140913378724, 0.0010729416963883515, 0.9385557489157104, 0.9842500815526901, 0.9934229412800072, 0.28431245722682574, 0.4247883521686853, 0.1177913903758894, 0.01344266937242675, 0.15963169879756767, 0.005329984098960484, 0.99137704240665, 0.034752797462191364, 0.04448358075160494, 0.0055604475939506175, 0.02780223796975309, 0.8882815031336112, 0.4700904123040088, 0.01441920162512946, 0.020529032822218213, 0.17510776210856369, 0.31991076147956715, 0.9946492078369586, 0.007478565472458336, 0.006882989399050969, 0.9429695476699829, 0.0034414946995254846, 0.017207473497627423, 0.030973452295729363, 0.19859359553996966, 0.004771017310269542, 0.7752903129188005, 0.014313051930808625, 0.0071565259654043124, 0.14649770630616626, 0.004614100986020985, 0.07959324200886198, 0.7659407636794834, 0.003460575739515738, 0.9929598421582178, 0.007410148075807595, 0.9864287293740244, 0.0075879133028771105, 0.0037939566514385552, 0.0037347187768909467, 0.9934351946529918, 0.025825848368551774, 0.8976438811736026, 0.050869095271389865, 0.004695608794282141, 0.021130239574269634, 0.056222034395633835, 0.05834362059924266, 0.004243172407217648, 0.018033482730675003, 0.8645463779705957, 0.9957894514387994, 0.007302363038797801, 0.021907089116393403, 0.952958376563113, 0.0182559075969945, 0.9937063745050962, 0.006329339965000613, 0.9919455564402905, 0.9953023149657562, 0.9918030077674477, 0.9947429968215991, 0.9951120249929746, 0.7852319717094869, 0.10092470987737549, 0.054235241289243834, 0.050462354938687747, 0.009432215876390232, 0.9933373678963402, 0.9913214244826756, 0.9727373982679077, 0.017930643286044382, 0.0044826608215110956, 0.9933373678963402, 0.9704202238399288, 0.005317371089533856, 0.003988028317150392, 0.001329342772383464, 0.01994014158575196, 0.4817386340226259, 0.35759255362595865, 0.03573961820973338, 0.01971570147394083, 0.10521586503722606, 0.222591182659668, 0.5950991879688513, 0.13538195064748465, 0.002491692343205239, 0.044850462177694304, 0.9990829842316007, 0.001091615027016083, 0.002183230054032166, 0.001091615027016083, 0.9955529046386675, 0.001091615027016083, 0.0019324575217888349, 0.0019324575217888349, 0.0009662287608944174, 0.9942493949603556, 0.0009662287608944174, 0.9958716671405116, 0.05141293866545348, 0.0236499517861086, 0.0010282587733090696, 0.0472999035722172, 0.8771047336326363, 0.5868559577725615, 0.023866432186512486, 0.1135688241019517, 0.20059281881810292, 0.07513860714431085, 0.004658462700870423, 0.0023292313504352114, 0.004658462700870423, 0.023292313504352114, 0.9643017790801776, 0.9563042679639056, 0.0017566206244744775, 0.003513241248948955, 0.023890040492852895, 0.015106937370480506, 0.013340137160062061, 0.7232517606239053, 0.010816327427077348, 0.19072790696413056, 0.06201361058191012, 0.48851952928067144, 0.012577974087226483, 0.3454450740384702, 0.05637627671239013, 0.0972546924958762, 0.9911822761824189, 0.08662596588350616, 0.17084565493691492, 0.04531821363350091, 0.5285788103447274, 0.16843937810681753, 0.008104717793659845, 0.008104717793659845, 0.9887755708265011, 0.0022199392969284924, 0.9479140797884662, 0.022199392969284925, 0.0022199392969284924, 0.024419332266213414, 0.17166190013836016, 0.2624582770710465, 0.32062470604354876, 0.10001788396491233, 0.1452742030922982, 0.14933078804058053, 0.37040363592746484, 0.19768617449499237, 0.2040143331775043, 0.07862049319686022, 0.9767346326600271, 0.0057454978391766305, 0.011490995678353261, 0.0057454978391766305, 0.9913312792255681, 0.005725254320478272, 0.9904689974427411, 0.9969534908712391, 0.02477509486017169, 0.006193773715042922, 0.960034925831653, 0.006193773715042922, 0.006193773715042922, 0.9895839090987792, 0.004947919545493896, 0.9904861825478811, 0.9853637533424531, 0.12179491976486277, 0.15493030234795044, 0.008955508806239909, 0.010746610567487892, 0.7039029921704569, 0.0059439341372474735, 0.18463345413824964, 0.05275241546807133, 0.0007429917671559342, 0.7559941230811631, 0.004958906978772947, 0.01983562791509179, 0.05454797676650242, 0.9223566980517682, 0.9976004987347051, 0.007759447250358233, 0.9854498007954956, 0.19343660595288645, 0.6459816350508049, 0.052430088385009926, 0.05260903066618743, 0.055651049446205074, 0.0027740194863453077, 0.016644116918071848, 0.982002898166239, 0.05288224576678703, 0.678191607991602, 0.031543795720539634, 0.04607868198392554, 0.19111829171856365, 0.2706198053422001, 0.006081343940274159, 0.01596352784321967, 0.00988218390294551, 0.6970740491539255, 0.8754838189336844, 0.009704157992999876, 0.08480590246056413, 0.015611036771347626, 0.014767196945869377, 0.007747772943240795, 0.007747772943240795, 0.9762193908483402, 0.9926194786631444, 0.9902790820428926, 0.9826466231294646, 0.00854475324460404, 0.00854475324460404, 0.9932737223799809, 0.0027142988716379484, 0.0011176524765568023, 0.0006386585580324584, 0.002394969592621719, 0.9478119398987936, 0.05069691771551687, 0.9906892523071469, 0.9891655814005861, 0.9897997252264875, 0.4400389193167783, 0.07056564449352705, 0.20642209294535072, 0.062125899637158366, 0.2208399904083139, 0.371831777287663, 0.003722697416896508, 0.19598906988955145, 0.003503715215902596, 0.4250444521291836, 0.014297861434287339, 0.8879567694918866, 0.03485103724607539, 0.0017872326792859174, 0.06106378320893551, 0.0007121345469419005, 0.0007121345469419005, 0.0007121345469419005, 0.9969883657186607, 0.0007121345469419005, 0.9970557344717098, 0.9928769003047043, 0.5557597325536281, 0.020256480678882454, 0.12402823471094053, 0.1733271394956906, 0.1266152069422195, 0.9918269185565297, 0.0056353802190711915, 0.9926847728986656, 0.9642616437215408, 0.0027162299823141993, 0.010864919929256797, 0.005432459964628399, 0.016297379893885196, 0.02732996142009444, 0.6377365124803968, 0.028564579800468316, 0.13698652120421054, 0.16936719418037993, 0.873985412371256, 0.0006849415457454985, 0.029452486467056435, 0.0020548246372364956, 0.0938369917671333, 0.049594245220827636, 0.2722724062623437, 0.025293065062622095, 0.6348063388265938, 0.017853928279497947, 0.9458627398750855, 0.014574156238445077, 0.011659324990756063, 0.014574156238445077, 0.014574156238445077, 0.0007406523971149865, 0.012591090750954772, 0.9813644261773571, 0.002962609588459946, 0.0022219571913449595, 0.9983835173433367, 0.9941240468780257, 0.01104810563283001, 0.08734908515956226, 0.0932183912770032, 0.5016530463906876, 0.30658493131103276, 0.005201291870100521, 0.16049700627738753, 0.006687375261557813, 0.006687375261557813, 0.8206895529322894, 0.9887557991148113, 0.11163172943899244, 0.13330349941724376, 0.22432493332589923, 0.22618251360974934, 0.3045547103474255, 0.5169712183921629, 0.14015664143076417, 0.16198431509621106, 0.0678955533488374, 0.11281460810246755, 0.7015452976229342, 0.1406066397144587, 0.0858022880797226, 0.02008666281635124, 0.05182854973601741, 0.992500198991495, 0.9858882118341751, 0.9936682272972989, 0.14538333001996098, 0.0317199992770824, 0.017370475794592742, 0.47919856050735193, 0.32626284970713326, 0.004940616985440549, 0.623416034162862, 0.13564239360027688, 0.04760958185969983, 0.18819259244541725, 0.0025529898655204204, 0.06382474663801051, 0.025529898655204202, 0.0025529898655204204, 0.9088643921252697, 0.40044363619635276, 0.010482817701475203, 0.025682903368614247, 0.008386254161180162, 0.555065197293112, 0.22655428310831682, 0.023391335494942225, 0.5871488033224824, 0.14323907690723048, 0.019711799574389517, 0.9909336401389841, 0.0012953380916849466, 0.001530854108354937, 0.004710320333399806, 0.001530854108354937, 0.9931770675316025, 0.12728846213637587, 0.08737162273156351, 0.12985821574612774, 0.5944696683892655, 0.06098881900477767, 0.0016037009726155526, 0.9975020049668737, 0.0016037009726155526, 0.9562775240664476, 0.0013960255825787558, 0.0013960255825787558, 0.04048474189478392, 0.0013960255825787558, 0.9842509218260382, 0.9800259091759251, 0.008596718501543203, 0.008596718501543203, 0.001971465794737158, 0.997561692137002, 0.00276780088268084, 0.09133742912846772, 0.00276780088268084, 0.8912318842232304, 0.00830340264804252, 0.02448823758692134, 0.07769724765233067, 0.8685766245336421, 0.018441759170397552, 0.010581337228916628, 0.9055123054779884, 0.0019785410899009217, 0.042868390281186636, 0.021104438292276494, 0.028359088955246543, 0.17409229724659928, 0.04830306513200442, 0.3156471131195567, 0.019455401233724003, 0.4424426590910683, 0.08828378384113134, 0.0041545310042885334, 0.022849920523586933, 0.0342748807853804, 0.8506402231280773, 0.7696106763651802, 0.11333307905377653, 0.07906959003751851, 0.020332180295361903, 0.0180730491514328, 0.1483256450451625, 0.0922655587288806, 0.09109764026395806, 0.1806380559080194, 0.48780061218264725, 0.17598094552382457, 0.2580394763017877, 0.42215653785771395, 0.0781039027886637, 0.06558091415588219, 0.958598506738763, 0.00853351786414329, 0.0028445059547144306, 0.005689011909428861, 0.025600553592429874, 0.8289850738146118, 0.0382316232839165, 0.053666750696677826, 0.039893867774521564, 0.03918147727854797, 0.9146402918969162, 0.012061190662376917, 0.014071389106106403, 0.012061190662376917, 0.048244762649507666, 0.021173230391213414, 0.03058355500953049, 0.004705162309158537, 0.929269556058811, 0.01646806808205488, 0.3791643690840434, 0.3235333871163869, 0.09191593334720168, 0.06200536531811714, 0.1433567612243456, 0.9859977098853282, 0.007413516615679159, 0.12524127149569445, 0.3284513737754731, 0.3429809984097776, 0.13506411631888615, 0.06835062856137572, 0.23511222568337836, 0.39871081193223273, 0.2253125083882737, 0.05321003523044422, 0.08754954046287702, 0.2390219381053549, 0.21038379197330578, 0.34995999933533156, 0.11158682182196483, 0.08906556127151845, 0.1206711882263445, 0.03044973908515235, 0.7014717670727689, 0.06879385497015901, 0.07894376799854314, 0.18801192914508583, 0.16457023823386646, 0.4374984967002061, 0.1597862196805564, 0.050232194809755756, 0.9904344449836414, 0.0015340722927622535, 0.022244048245052675, 0.07516954234535042, 0.003068144585524507, 0.8981993274122995, 0.007285683306477811, 0.9908529296809823, 0.004405730135050171, 0.9912892803862884, 0.00481113878624958, 0.995905728753663, 0.8639121342942813, 0.0022746501692845742, 0.0031845102369984037, 0.0022746501692845742, 0.12829026954764997, 0.9965814318182724, 0.9948772344302979, 0.9912627595766558, 0.19493875570156327, 0.1835292967558196, 0.4687657703994113, 0.12191821844880378, 0.030968531424161387, 0.0023072714802669725, 0.9921267365147981, 0.0023072714802669725, 0.0023072714802669725, 0.025281618218957566, 0.6486042743070494, 0.1521255992830378, 0.12292097134044887, 0.05143501637649988, 0.9818782174158082, 0.13135988040055857, 0.05209098705539392, 0.6828448955304898, 0.09738749753834515, 0.036237208386360985, 0.009086506504569106, 0.011358133130711382, 0.003407439939213415, 0.8836627575693455, 0.0920008783587622, 0.002118156600564698, 0.004236313201129396, 0.004236313201129396, 0.02329972260621168, 0.9658794098575024, 0.994359595549256, 0.9982881021434349, 0.9887578621309411, 0.9946565035365882, 0.9810262143504418, 0.006860323177275817, 0.006860323177275817, 0.020756213103562855, 0.21914699416319852, 0.6019301800033229, 0.01834269995198578, 0.13950106016115502, 0.010399229006153577, 0.1114203107802169, 0.011884833149889803, 0.0014856041437362254, 0.8661072157982194, 0.9907121831292595, 0.004119706905216091, 0.6452490940294703, 0.21834446597645282, 0.09166347864105802, 0.040682105689008895, 0.00939267082922851, 0.9862304370689934, 0.9876991985668083, 0.99406473686043, 0.9917929727860938, 0.06743771689586124, 0.09132190829647877, 0.019669334094626196, 0.019669334094626196, 0.8015253643560175, 0.2858934284943084, 0.1826191503598005, 0.030646432129345834, 0.0020990706937908106, 0.4991590109834547, 0.0023075029681992997, 0.03230504155479019, 0.006922508904597899, 0.9599212347709086, 0.4624122161523858, 0.19725452222744086, 0.2137692442328832, 0.11317195282917347, 0.0134129721871613, 0.9923487544361088, 0.0027099464685244614, 0.0027099464685244614, 0.9945503539484774, 0.001965042506897987, 0.9982415935041774, 0.9903825033879432, 0.0030478784128646352, 0.9936083625938711, 0.9985712305176597, 0.9986930081124732, 0.9932838586857478, 0.9947819374143927, 0.9842509085364363, 0.016691876838598064, 0.8876150977701558, 0.011782501297833927, 0.0019637502163056546, 0.08149563397668466, 0.7586343535978385, 0.0008074873375176567, 0.0008074873375176567, 0.0016149746750353134, 0.23820876456770873, 0.3920784276335281, 0.1560121026971621, 0.27691270441221716, 0.07057411697403507, 0.1043981962534648, 0.04112898427339211, 0.7420119491514713, 0.08225796854678422, 0.06310200326876597, 0.07155316442083284, 0.9903996240384311, 0.006348715538707891, 0.303776630355635, 0.21619427718816622, 0.05444308440139953, 0.3868878123403802, 0.038662480227080825, 0.9843562588392475, 0.9934325460985383, 0.7890576259524654, 0.0929865889169572, 0.025239216991745524, 0.06708318200437627, 0.025239216991745524, 0.9973257098425079, 0.45594707282967867, 0.2386613939991151, 0.08003108669565355, 0.19718841552615982, 0.02817707908581796, 0.011511917524962396, 0.8956271834420745, 0.05986197112980446, 0.011511917524962396, 0.020721451544932313, 0.002913760707011592, 0.9324034262437095, 0.046620171312185474, 0.002913760707011592, 0.014568803535057961, 0.004218106099160289, 0.9954730394018282, 0.9930182476713687, 0.0006769040543090448, 0.006092136488781403, 0.9582428201472895, 0.04151232433851074, 0.40982800164361083, 0.11674480618930035, 0.15712515756300535, 0.2527028440806055, 0.06366418301257522, 0.006684626738224232, 0.9826401305189622, 0.006684626738224232, 0.054785447722655006, 0.5494501698786662, 0.24541752989546622, 0.08095480721736012, 0.06935944061198265, 0.99406473686043, 0.9903140375516716, 0.0029473632069990222, 0.004421044810498534, 0.9941160847147681, 0.9888505516931887, 0.9654291393710169, 0.0035756634791519145, 0.0035756634791519145, 0.0035756634791519145, 0.021453980874911488, 0.1472724103476621, 0.0053760946255230644, 0.02476261766907593, 0.7440189137807223, 0.07860501990348116, 0.002876679426582485, 0.9953310815975398, 0.18487316936657838, 0.3613571360896314, 0.4084298842560795, 0.03076040969292649, 0.014603426823914595, 0.9988529267201538, 0.9913273605267763, 0.22744228772671368, 0.24021505181091968, 0.36953928816350545, 0.11234226592244824, 0.05051047615117828, 0.9963912298484834, 0.029065491712519858, 0.6344858920232147, 0.0267668148635508, 0.08464238974981618, 0.22501492266019327, 0.0140549455091228, 0.9838461856385959, 0.9926847728986656, 0.0022105646824308518, 0.0022105646824308518, 0.9925435424114525, 0.0022105646824308518, 0.06829985327015495, 0.8036616068121566, 0.0022766617756718316, 0.1229397358862789, 0.004949453391308213, 0.004949453391308213, 0.009898906782616426, 0.979991771479026, 0.9883185621921504, 0.009503063098001446, 0.39115443545910733, 0.11944881460859923, 0.1779024898425946, 0.1371235424955583, 0.17432133582628262, 0.5729753109805318, 0.24203029401177645, 0.11114340369622364, 0.02443774217916967, 0.04928968337832527, 0.3324808564386723, 0.1649555371657454, 0.09006474432788474, 0.1844124588344053, 0.22809875465649068, 0.9842510420024925, 0.9976004987347051, 0.0048336345504536825, 0.014500903651361046, 0.06767088370635155, 0.0024168172752268412, 0.9111401127605191, 0.00837629992285488, 0.9884033908968757, 0.0034861448190837297, 0.9865789838006955, 0.006972289638167459, 0.007373038354667399, 0.12312974052294556, 0.6908536938323353, 0.17252909749921713, 0.005898430683733919, 0.8796824668481829, 0.050922284622181346, 0.04073782769774508, 0.007638342693327202, 0.02036891384887254, 0.005275930119140642, 0.005275930119140642, 0.9865989322793001, 0.005275930119140642, 0.004500931484660039, 0.9902049266252086, 0.7772687485925923, 0.05543704303368297, 0.047846078634879906, 0.0538268384642399, 0.06578835812295987, 0.17895869546145604, 0.046366571096831795, 0.02928415016642008, 0.18627973300306108, 0.5592459233170501, 0.9902901033279703, 0.9926847728986656, 0.9226904878249079, 0.0016130952584351536, 0.0016130952584351536, 0.011291666809046075, 0.06452381033740615, 0.0204579851791503, 0.04909916442996072, 0.9165177360259333, 0.01227479110749018, 0.00409159703583006, 0.9923461048177784, 0.07364689220979895, 0.12923957055263263, 0.4985465591580807, 0.11547546691148088, 0.18304470296804398, 0.543749385329915, 0.09470104934892336, 0.09254717368508138, 0.1275650231875446, 0.14153047507245553, 0.030784386845537262, 0.013312167284556654, 0.09651321281303575, 0.8245223611872278, 0.03494443912196122, 0.9991838461732828, 0.8977358321041784, 0.012593488626711922, 0.052173024310663674, 0.008995349019079944, 0.02878511686105582, 0.9921940396418673, 0.9956887314493276, 0.93107847054632, 0.01944512776325238, 0.014869803583663587, 0.030883438212224373, 0.003431493134691597, 0.004727083222066935, 0.9438409500060314, 0.017332638480912096, 0.001575694407355645, 0.0315138881471129, 0.983359347808751, 0.0019986978613999004, 0.011992187168399402, 0.9917720932123428, 0.12039212078437415, 0.5212042192970581, 0.1933812718101949, 0.014734899033381656, 0.1503188149451958, 0.01576612439746999, 0.9827550874422961, 0.013701511630078668, 0.9819416668223044, 0.9931907142402179, 0.990877904872659, 0.9881885067247201, 0.00932253308230868, 0.011503157222011914, 0.007668771481341276, 0.005751578611005957, 0.07668771481341277, 0.8991634561872647, 0.2904881965217518, 0.34947417893473137, 0.1567037243621927, 0.13058643696849392, 0.07284413490759525, 0.9816475193545598, 0.016181003066283953, 0.774679286803318, 0.028788757279853035, 0.008723865842379707, 0.0833129187947262, 0.1042501968164375, 0.9976004987347051, 0.738374158046695, 0.003611612729576226, 0.007223225459152452, 0.00441419333614872, 0.24639224621775585, 0.9923470031627037, 0.013989768831076098, 0.00914715654339591, 0.00807102047946698, 0.014527836863040563, 0.9545326887049614, 0.004138483300313666, 0.004138483300313666, 0.004138483300313666, 0.9849590254746526, 0.991338841812894, 0.9975579558443318, 0.32200063854732713, 0.1721944618643196, 0.14379589878198418, 0.3062236590571408, 0.05559507058446619, 0.007112813048832395, 0.9886810137877029, 0.9980470915566775, 0.9942468291057118, 0.9897116037426438, 0.007672182974749177, 0.0057413759172957705, 0.9903873457335205, 0.980018447842751, 0.008596653051252203, 0.008596653051252203, 0.9947407465909043, 0.4257565681458579, 0.24290007975981903, 0.048907101663727595, 0.18122105982721992, 0.10116293799551297, 0.9048068402399803, 0.0074777424813221504, 0.02456972529577278, 0.0074777424813221504, 0.05661719307286771, 0.9894127459149439, 0.5029555892561354, 0.13241854685027266, 0.17430704504089845, 0.12556762424900209, 0.06469228342056928, 0.20835122536283712, 0.04195762607306789, 0.04540619807907347, 0.2290426573988706, 0.47504079382726866, 0.2310794397750849, 0.445660663786743, 0.05784817425910395, 0.10828259333337688, 0.15715072610099537, 0.005447715497422656, 0.9860365050335007, 0.005447715497422656, 0.9906881063639615, 0.985852926603268, 0.005003055138595904, 0.995607972580585, 0.009867433310380052, 0.6282832968143711, 0.08574459290399217, 0.0034025632104758797, 0.27254531315911795, 0.009732531033215676, 0.8190299192567654, 0.12053365356520952, 0.03144356179961988, 0.018716405833107068, 0.9909498762924023, 0.9938821548547154, 0.04200630414444213, 0.7016608581164223, 0.06923261238621019, 0.18086047617745918, 0.006612103430143669, 0.08343645891589731, 0.7724068226372672, 0.046261799002873756, 0.023957003055059625, 0.07434931982604712, 0.9943870590975005, 0.10487366154912578, 0.06972369806288033, 0.09939948690782525, 0.050131915136120565, 0.6759165109732117, 0.09634278623080408, 0.1538608675626274, 0.6326988946500566, 0.07189760166477917, 0.045535147721026806, 0.007401274851709438, 0.003700637425854719, 0.9843695552773553, 0.0018509615723134984, 0.005244391121554912, 0.0015424679769279151, 0.989955947592336, 0.0015424679769279151, 0.9926847728986656, 0.9981786325722535, 0.039379267873392125, 0.007657079864270691, 0.017501896832618723, 0.9133802409522895, 0.0218773710407734, 0.9600892322887238, 0.0037503485636278273, 0.0037503485636278273, 0.033753137072650444, 0.1701134777141897, 0.07480167105162952, 0.0687692782248852, 0.6157062278497032, 0.07037791631201702, 0.0011548394810866002, 0.0023096789621732004, 0.0011548394810866002, 0.9943167932155629, 0.0011548394810866002, 0.1956281699312507, 0.1850304506231156, 0.25921448578006134, 0.33368494578317287, 0.026637510693420668, 0.0035530186377149614, 0.8347251148978919, 0.09280797034998312, 0.0014446339515983909, 0.06750735411658426, 0.010694509838522973, 0.9838949051441135, 0.9895400295714009, 0.9969942722154634, 0.02500300745414558, 0.006250751863536395, 0.8125977422597314, 0.07813439829420493, 0.07709260631694886, 0.9901175487801457, 0.23521666949980868, 0.01823040349620445, 0.17696830710949688, 0.01067145570509529, 0.5589174925543658, 0.9973678992513682, 0.31119936983444957, 0.1665067470963591, 0.1839116335524245, 0.11081111043694979, 0.2275398822689618, 0.055638936435792, 0.7765434293916293, 0.028019608277017553, 0.004403081300674187, 0.13489439984792737, 0.022186385798059323, 0.03816058357266204, 0.6939901477632957, 0.05102868733553644, 0.19479646730696087, 0.01557715423393136, 0.00194714427924142, 0.0058414328377242595, 0.00194714427924142, 0.9755192838999514, 0.0011102055900110025, 0.0005551027950055012, 0.0005551027950055012, 0.9975197226248858, 0.0005551027950055012, 0.9986397509595256, 0.005113978429855768, 0.005113978429855768, 0.9869978369621634, 0.40948107610884377, 0.1177503721996269, 0.35778579075291, 0.08600765312142196, 0.028870758780653066, 0.36725666594678624, 0.1343990858318696, 0.26534096045263, 0.16169664935291922, 0.07123295599556219, 0.2493651707519699, 0.2466708376849777, 0.17057915555164557, 0.26237229590296685, 0.07098174010972616, 0.9879569602001355, 0.13193108971153952, 0.5138219429410712, 0.12370312927791664, 0.10809837673139046, 0.12228451541005063, 0.012754425005487385, 0.9565818754115538, 0.02550885001097477, 0.9913264722965095, 0.002905717122261741, 0.9937552558135155, 0.004647297027088759, 0.018589188108355036, 0.004647297027088759, 0.9712850786615506, 0.9524770810834496, 0.011305365947578036, 0.035329268586181364, 0.9955946142205644, 0.0015645352021851269, 0.012516281617481015, 0.04537152086336868, 0.004693605606555381, 0.9355920509067059, 0.022665734714913146, 0.4116587494168009, 0.20904545868821922, 0.04747552541637213, 0.30905035577496437, 0.9887572001869558, 0.9917814871909866, 0.03472157527659659, 0.8194291765276795, 0.03713698920888157, 0.0549506669594833, 0.05404488673487643, 0.012944730029773631, 0.7597217417474041, 0.02220690755107718, 0.05021662511550115, 0.1548903903562569, 0.005763361710851719, 0.040343531975962035, 0.07492370224107235, 0.8741098594791775, 0.004802801425709767, 0.018390065869426934, 0.011493791168391833, 0.0022987582336783667, 0.9677772163785924, 0.0022987582336783667, 0.0007819157268303904, 0.0007819157268303904, 0.0007819157268303904, 0.9961606359819173, 0.0007819157268303904, 0.0017326557449273113, 0.0017326557449273113, 0.0017326557449273113, 0.9945443975882767, 0.39657763674780244, 0.11299139371026774, 0.1876859845103327, 0.07385058412435799, 0.22883130995104642, 0.03755680694127801, 0.8074713492374773, 0.12313707193861644, 0.021241144909411334, 0.010466651114782398, 0.9898367807975397, 0.46242763861464353, 0.012398511149476772, 0.013012298830143938, 0.06813043255405553, 0.444136765730762, 0.7341567934836137, 0.06739329940181611, 0.05783396615333155, 0.05162039954181659, 0.08842383254848213, 0.9981491478270464, 0.0829779590805677, 0.17128477791860305, 0.012180250874211773, 0.6851391116744122, 0.04795973781720886, 0.9941153981735339, 0.006255956630623359, 0.0031279783153116796, 0.9884411476384908, 0.217868677750077, 0.31275955664480615, 0.13926431147140106, 0.1831501239098678, 0.14706623368268404, 0.009856061138609026, 0.9806780832915981, 0.004928030569304513, 0.2941092191412378, 0.16184540202259604, 0.4663366197118562, 0.06399862118643955, 0.013653039186440438, 0.9920632662282743, 0.2533305928222135, 0.14421638257422392, 0.22977049071850364, 0.27689069492592333, 0.09566829339082182, 0.015177740085194229, 0.9814938588425601, 0.9787398767900349, 0.0006931585529674468, 0.013170012506381489, 0.0013863171059348936, 0.006238426976707021, 0.4551657789895775, 0.1330308530673498, 0.10284858425314464, 0.25819429009308215, 0.05078059445043998, 0.006045061303217374, 0.07038178517317371, 0.040156478657086846, 0.8683298771978671, 0.01554444335113039, 0.08561403406217136, 0.18854022667087972, 0.3750516847620871, 0.23952994363997704, 0.11144702064333206, 0.18256066462116832, 0.19742946092043456, 0.10909649355674637, 0.4539821828651704, 0.05701171598771908, 0.9898576319593956], \"Term\": [\"also\", \"also\", \"also\", \"also\", \"also\", \"altcoins_shib\", \"anyone_else\", \"anyone_else\", \"anyone_else\", \"anyone_else\", \"anyone_else\", \"apple\", \"apple\", \"apple\", \"apple\", \"apple\", \"artificial_intelligence\", \"artificial_intelligence\", \"artistically_inspired\", \"artistontwitter\", \"asking_owners\", \"august\", \"august\", \"aura_dims\", \"autopilot\", \"autopilot\", \"autopilot\", \"autopilot\", \"autopilot\", \"available_santa\", \"avatar\", \"back\", \"back\", \"back\", \"back\", \"back\", \"bake\", \"bake\", \"bankrupt\", \"bankrupt\", \"bankrupt\", \"bankrupt\", \"bankrupt\", \"battery\", \"battery\", \"battery\", \"battery\", \"battery\", \"battery_swap\", \"battery_swap\", \"bid\", \"bid\", \"bid\", \"bid\", \"bid\", \"bitcoin\", \"bitcoin\", \"bitcoin\", \"bitcoin\", \"bitcoin\", \"black\", \"black\", \"black\", \"black\", \"black\", \"blasts_biden\", \"blasts_biden\", \"bluetooth_hack\", \"bluetooth_hack\", \"bluetooth_hack\", \"bluetooth_locks\", \"bluetooth_locks\", \"board\", \"board\", \"board\", \"board\", \"board\", \"boycotttesla\", \"boycotttesla\", \"boycotttesla\", \"boycotttesla\", \"boycotttesla\", \"brand_threatened\", \"brazil\", \"brazil\", \"brazil\", \"brazil\", \"bsc_galaxyheroes\", \"bsc_galaxyheroes\", \"btc_holdings\", \"btcusd\", \"bugs_found\", \"bugs_jonathan\", \"building_hardcore\", \"burn\", \"burn\", \"burn\", \"burn\", \"burn\", \"burn_address\", \"burn_burned\", \"burning\", \"burning\", \"burning\", \"burnluna_lunatics\", \"button\", \"button\", \"button\", \"button\", \"button\", \"buy\", \"buy\", \"buy\", \"buy\", \"buy\", \"buying\", \"buying\", \"buying\", \"buying\", \"buying\", \"c\", \"california_united\", \"california_united\", \"california_united\", \"california_united\", \"california_united\", \"canada\", \"canada\", \"canada\", \"canada\", \"canada\", \"canada_modely\", \"cancel\", \"cancel\", \"cancel\", \"cancel\", \"cancel\", \"car\", \"car\", \"car\", \"car\", \"car\", \"carmaker\", \"carmaker\", \"carmaker\", \"carmaker\", \"carmaker\", \"catch\", \"catch\", \"catch\", \"catch\", \"catch\", \"ceo\", \"ceo\", \"ceo\", \"ceo\", \"ceo\", \"charge\", \"charge\", \"charge\", \"charge\", \"charge\", \"child_locks\", \"china\", \"china\", \"china\", \"china\", \"china\", \"climatechange_renewables\", \"climatechange_renewables\", \"climatechange_renewables\", \"collateral\", \"collateral\", \"collateral\", \"collateral\", \"collateral\", \"come\", \"come\", \"come\", \"come\", \"come\", \"company\", \"company\", \"company\", \"company\", \"company\", \"conditions_reported\", \"conditions_reported\", \"conditions_reported\", \"conditions_reported\", \"contract_slippage\", \"coo\", \"coo\", \"coo_cfo\", \"correction\", \"correction\", \"correction\", \"correction\", \"correction\", \"correction_getting\", \"correction_getting\", \"course_explores\", \"course_review\", \"cover\", \"cover\", \"cover\", \"cover\", \"cover\", \"crash\", \"crash\", \"crash\", \"crash\", \"crash\", \"criticism\", \"criticism\", \"criticism\", \"criticism\", \"crowleycheck\", \"daily_thanks\", \"daily_thanks\", \"day\", \"day\", \"day\", \"day\", \"day\", \"deadly\", \"deadly\", \"deadly\", \"deal\", \"deal\", \"deal\", \"deal\", \"deal\", \"death\", \"death\", \"death\", \"death\", \"death\", \"design\", \"design\", \"design\", \"design\", \"design\", \"destruction\", \"destruction\", \"destruction\", \"diesel_generators\", \"documentary_explores\", \"doge_shib\", \"doge_shib\", \"doge_shib\", \"door\", \"door\", \"door\", \"door\", \"door\", \"door_handles\", \"door_handles\", \"door_latch\", \"door_opener\", \"door_openers\", \"drive\", \"drive\", \"drive\", \"drive\", \"drive\", \"driver\", \"driver\", \"driver\", \"driver\", \"driver\", \"drop\", \"drop\", \"drop\", \"drop\", \"drop\", \"dual_motor\", \"dual_motor\", \"dual_motor\", \"dual_motor\", \"dual_motor\", \"early_june\", \"easily_accessible\", \"electric\", \"electric\", \"electric\", \"electric\", \"electric\", \"electrical_system\", \"electrical_system\", \"electricity_neurons\", \"electronic\", \"electronic\", \"electronic\", \"electronic\", \"electronic\", \"elon\", \"elon\", \"elon\", \"elon\", \"elon\", \"emergency\", \"emergency\", \"emergency\", \"emergency\", \"emergency\", \"employee\", \"employee\", \"employee\", \"employee\", \"employee\", \"engine\", \"engine\", \"engine\", \"engine\", \"engine\", \"enter\", \"enter\", \"enter\", \"enter\", \"enter\", \"entered_monthly\", \"entry_purchase\", \"esg\", \"esg\", \"esg\", \"esg\", \"esg\", \"esg_index\", \"esg_index\", \"esg_index\", \"esg_index\", \"esg_index\", \"estimating\", \"ev\", \"ev\", \"ev\", \"ev\", \"ev\", \"even\", \"even\", \"even\", \"even\", \"even\", \"ever\", \"ever\", \"ever\", \"ever\", \"ever\", \"exploiting_zero\", \"exxon_remains\", \"faces_vehicular\", \"factory\", \"factory\", \"factory\", \"factory\", \"factory\", \"fall\", \"fall\", \"fall\", \"fall\", \"fall\", \"fatal\", \"fatal\", \"fatal\", \"fatal\", \"fatal\", \"feature\", \"feature\", \"feature\", \"feature\", \"feature\", \"find\", \"find\", \"find\", \"find\", \"find\", \"fire\", \"fire\", \"fire\", \"fire\", \"fire\", \"fireman\", \"first\", \"first\", \"first\", \"first\", \"first\", \"first_player\", \"first_player\", \"first_player\", \"flame\", \"flame\", \"flame\", \"flame\", \"flame\", \"floki_rush\", \"floki_spacex\", \"floki_spacex\", \"floki_spacex\", \"florida_united\", \"florida_united\", \"former\", \"former\", \"former\", \"former\", \"former\", \"free\", \"free\", \"free\", \"free\", \"free\", \"front\", \"front\", \"front\", \"front\", \"front\", \"fsd\", \"fsd\", \"fsd\", \"fsd\", \"fsd\", \"fsd_beta\", \"fsd_beta\", \"fsd_beta\", \"fsd_beta\", \"fsd_beta\", \"fuck\", \"fuck\", \"fuck\", \"fuck\", \"fuck\", \"full\", \"full\", \"full\", \"full\", \"full\", \"future\", \"future\", \"future\", \"future\", \"future\", \"gallon\", \"gallon\", \"gallon\", \"gallon\", \"gallon\", \"gas\", \"gas\", \"gas\", \"gas\", \"gas\", \"gasoline\", \"gasoline\", \"gasoline\", \"gasoline\", \"gasoline\", \"germany\", \"germany\", \"germany\", \"germany\", \"germany\", \"get\", \"get\", \"get\", \"get\", \"get\", \"ghc_ghcarmy\", \"ghc_ghcarmy\", \"give\", \"give\", \"give\", \"give\", \"give\", \"go\", \"go\", \"go\", \"go\", \"go\", \"good\", \"good\", \"good\", \"good\", \"good\", \"google\", \"google\", \"google\", \"google\", \"google\", \"great\", \"great\", \"great\", \"great\", \"great\", \"greig\", \"gt\", \"gt\", \"gt\", \"gt\", \"gt\", \"hacker_finds\", \"hacker_finds\", \"hacker_shows\", \"hacker_shows\", \"hackers_researchers\", \"hackers_researchers\", \"handle\", \"handle\", \"handle\", \"handle\", \"handle\", \"harassment_claim\", \"hard_hitting\", \"heat_rises\", \"help\", \"help\", \"help\", \"help\", \"help\", \"highlight\", \"highlight\", \"highlight\", \"highlight\", \"hold\", \"hold\", \"hold\", \"hold\", \"hold\", \"ikea\", \"important\", \"important\", \"important\", \"important\", \"important\", \"india\", \"india\", \"india\", \"india\", \"india\", \"indonesia\", \"indonesia\", \"indonesia\", \"indonesia\", \"indonesia\", \"indonesia_official\", \"information_including\", \"initial_btc\", \"insiders_rip\", \"internal_combustion\", \"internal_combustion\", \"internal_combustion\", \"invest\", \"invest\", \"invest\", \"invest\", \"invest\", \"investigation\", \"investigation\", \"investigation\", \"investigation\", \"investigation\", \"investment_realized\", \"investor\", \"investor\", \"investor\", \"investor\", \"investor\", \"investor_calls\", \"investor_calls\", \"issued_recalls\", \"joins_nft\", \"june_vxl\", \"kick\", \"kick\", \"kick\", \"kick\", \"kick\", \"kill\", \"kill\", \"kill\", \"kill\", \"kill\", \"killed_three\", \"killed_three\", \"killed_three\", \"killed_three\", \"know\", \"know\", \"know\", \"know\", \"know\", \"knowledge_helps\", \"kowa_oa\", \"kowa_oa\", \"kowa_oa\", \"latch\", \"latch\", \"latest_challenger\", \"lessonmusk_also\", \"lessonmusk_also\", \"lever\", \"limit_charging\", \"linkedin\", \"litigation_department\", \"live_gen\", \"loan\", \"loan\", \"loan\", \"loan\", \"loan\", \"lock\", \"lock\", \"lock\", \"lock\", \"lock\", \"look\", \"look\", \"look\", \"look\", \"look\", \"lose\", \"lose\", \"lose\", \"lose\", \"lose\", \"loses\", \"loses\", \"love\", \"love\", \"love\", \"love\", \"love\", \"love_song\", \"luxury_watches\", \"maga\", \"maga\", \"maga\", \"maga\", \"maga\", \"major_partnerships\", \"make\", \"make\", \"make\", \"make\", \"make\", \"manipulate\", \"manipulate\", \"manipulate\", \"manipulate\", \"manipulate\", \"manipulation\", \"manipulation\", \"manipulation\", \"manipulation\", \"manipulation\", \"manslaughter_charges\", \"manslaughter_charges\", \"manual\", \"manual\", \"manual\", \"manually\", \"manually\", \"many\", \"many\", \"many\", \"many\", \"many\", \"margin_call\", \"margin_call\", \"margin_call\", \"market\", \"market\", \"market\", \"market\", \"market\", \"marketplace_vinci\", \"mechanical\", \"mechanical\", \"mechanical\", \"min_vxl\", \"misconduct_claim\", \"mobile\", \"mobile\", \"mobile\", \"mobile\", \"mobile\", \"model\", \"model\", \"model\", \"model\", \"model\", \"models_start\", \"models_start\", \"money\", \"money\", \"money\", \"money\", \"money\", \"month_prize\", \"mtesla_new\", \"much\", \"much\", \"much\", \"much\", \"much\", \"musicians_artists\", \"musk\", \"musk\", \"musk\", \"musk\", \"musk\", \"must_stand\", \"must_stand\", \"mysterical_occultism\", \"nail\", \"nail\", \"nail\", \"nail\", \"nasdaq\", \"nasdaq\", \"nasdaq\", \"nasdaq\", \"national_highway\", \"national_highway\", \"national_highway\", \"national_highway\", \"natural_environment\", \"natural_environment\", \"need\", \"need\", \"need\", \"need\", \"need\", \"never\", \"never\", \"never\", \"never\", \"never\", \"new\", \"new\", \"new\", \"new\", \"new\", \"nft_staking\", \"nftcommunity_art\", \"nhtsa\", \"nhtsa\", \"nhtsa\", \"nhtsa\", \"nhtsa\", \"nhtsa_probes\", \"nhtsa_probes\", \"nicola\", \"nicola\", \"nicola\", \"nikola\", \"nikola\", \"nikola\", \"nikola\", \"nikola\", \"normal\", \"normal\", \"normal\", \"normal\", \"normal\", \"norway\", \"norway\", \"norway\", \"norway\", \"oa\", \"oa\", \"open\", \"open\", \"open\", \"open\", \"open\", \"order\", \"order\", \"order\", \"order\", \"order\", \"ozworld\", \"paganism_aleister\", \"passenger\", \"passenger\", \"passenger\", \"passenger\", \"passenger\", \"patent\", \"patent\", \"patent\", \"patent\", \"patent\", \"patent_royalty\", \"pay\", \"pay\", \"pay\", \"pay\", \"pay\", \"people\", \"people\", \"people\", \"people\", \"people\", \"performance\", \"performance\", \"performance\", \"performance\", \"performance\", \"peugeot_worth\", \"photo\", \"photo\", \"photo\", \"photo\", \"photo\", \"photoshop\", \"photoshopped\", \"picture\", \"picture\", \"picture\", \"picture\", \"picture\", \"plummet\", \"plummet\", \"plummet\", \"plummet\", \"plummet\", \"plunge\", \"plunge\", \"plunge\", \"pm_pst\", \"price\", \"price\", \"price\", \"price\", \"price\", \"price_craters\", \"price_craters\", \"prices_rise\", \"prices_rise\", \"prize\", \"prompt\", \"prone\", \"prone\", \"racial_discrimination\", \"racial_discrimination\", \"racial_discrimination\", \"racial_discrimination\", \"racial_discrimination\", \"really\", \"really\", \"really\", \"really\", \"really\", \"rear_doors\", \"rear_doors\", \"recall\", \"recall\", \"recall\", \"recall\", \"recall\", \"reference_spritual\", \"release\", \"release\", \"release\", \"release\", \"release\", \"relinquish\", \"remove\", \"remove\", \"remove\", \"remove\", \"remove\", \"renewableenergy\", \"renewableenergy\", \"renewableenergy\", \"renewableenergy\", \"rewards_busd\", \"rickman\", \"right\", \"right\", \"right\", \"right\", \"right\", \"rising_materials\", \"rising_materials\", \"rivian_gm\", \"road_map\", \"rockets_iphone\", \"rockets_iphone\", \"sadistic_psychopath\", \"sadistic_psychopath\", \"santafloki_hohoho\", \"santafloki_hohoho\", \"santafloki_hohoho\", \"saw_awarded\", \"say\", \"say\", \"say\", \"say\", \"say\", \"seat\", \"seat\", \"seat\", \"seat\", \"seat\", \"seat_belt\", \"see\", \"see\", \"see\", \"see\", \"see\", \"self_driving\", \"self_driving\", \"self_driving\", \"self_driving\", \"self_driving\", \"sell\", \"sell\", \"sell\", \"sell\", \"sell\", \"senior_director\", \"senior_director\", \"senior_director\", \"service_manuals\", \"settle_sexual\", \"sexually_harassed\", \"sexually_harassed\", \"share\", \"share\", \"share\", \"share\", \"share\", \"shareholder\", \"shareholder\", \"shareholder\", \"shareholder\", \"shareholder\", \"shares_sink\", \"shibaswap_uniswap\", \"short\", \"short\", \"short\", \"short\", \"short\", \"sign\", \"sign\", \"sign\", \"sign\", \"sign\", \"socially_responsible\", \"solar\", \"solar\", \"solar\", \"solar\", \"solar\", \"space\", \"space\", \"space\", \"space\", \"space\", \"spacex_grand\", \"spacex_grand\", \"spacex_grand\", \"spot\", \"spot\", \"spot\", \"spot\", \"spot\", \"spritual\", \"st_may\", \"standard\", \"standard\", \"standard\", \"standard\", \"standard\", \"starship\", \"starship\", \"starship\", \"starship\", \"state\", \"state\", \"state\", \"state\", \"state\", \"states_teslaradar\", \"states_teslaradar\", \"states_teslaradar\", \"states_teslaradar\", \"states_teslaradar\", \"still\", \"still\", \"still\", \"still\", \"still\", \"stock\", \"stock\", \"stock\", \"stock\", \"stock\", \"stor_via\", \"stor_via\", \"streetfighters\", \"sunra_miku\", \"supercharger\", \"supercharger\", \"supercharger\", \"supercharger\", \"supercharger\", \"surprisingly_easy\", \"system\", \"system\", \"system\", \"system\", \"system\", \"t\", \"take\", \"take\", \"take\", \"take\", \"take\", \"tank\", \"tank\", \"tank\", \"tank\", \"tank\", \"tax\", \"tax\", \"tax\", \"tax\", \"tax\", \"teach\", \"teach\", \"teach\", \"teach\", \"teach\", \"teslaradar\", \"teslaradar\", \"teslaradar\", \"teslaradar\", \"teslaradar\", \"texas_heatwave\", \"theranos\", \"theranos\", \"theranos\", \"thing\", \"thing\", \"thing\", \"thing\", \"thing\", \"think\", \"think\", \"think\", \"think\", \"think\", \"time\", \"time\", \"time\", \"time\", \"time\", \"times_presents\", \"today\", \"today\", \"today\", \"today\", \"today\", \"token\", \"token\", \"token\", \"token_metatesla\", \"tortures_animals\", \"tortures_animals\", \"traffic_safety\", \"traffic_safety\", \"traffic_safety\", \"traffic_safety\", \"trap\", \"trap\", \"trap\", \"trapped_inside\", \"trial\", \"trial\", \"trial\", \"trial\", \"trial\", \"tsla\", \"tsla\", \"tsla\", \"tsla\", \"tsla\", \"tsla_winnings\", \"tuesday_th\", \"tweet\", \"tweet\", \"tweet\", \"tweet\", \"tweet\", \"twitter\", \"twitter\", \"twitter\", \"twitter\", \"twitter\", \"union\", \"union\", \"union\", \"union\", \"union\", \"united_states\", \"united_states\", \"united_states\", \"united_states\", \"united_states\", \"unitedstates\", \"unitedstates\", \"unitedstates\", \"unitedstates\", \"unitedstates\", \"unitedstates_modely\", \"unitedstates_modely\", \"unitedstates_modely\", \"unitedstates_modely\", \"use\", \"use\", \"use\", \"use\", \"use\", \"value\", \"value\", \"value\", \"value\", \"value\", \"vancouver_several\", \"vehicle\", \"vehicle\", \"vehicle\", \"vehicle\", \"vehicle\", \"video\", \"video\", \"video\", \"video\", \"video\", \"vinci_launching\", \"vote\", \"vote\", \"vote\", \"vote\", \"vote\", \"voxel_ama\", \"vulnerable\", \"vulnerable\", \"vulnerable\", \"want\", \"want\", \"want\", \"want\", \"want\", \"warranty\", \"warranty\", \"warranty\", \"way\", \"way\", \"way\", \"way\", \"way\", \"web_tg\", \"well\", \"well\", \"well\", \"well\", \"well\", \"whale_calls\", \"whale_calls\", \"window\", \"window\", \"window\", \"window\", \"window\", \"work\", \"work\", \"work\", \"work\", \"work\", \"worker\", \"worker\", \"worker\", \"worker\", \"worker\", \"world\", \"world\", \"world\", \"world\", \"world\", \"year\", \"year\", \"year\", \"year\", \"year\", \"youtube_video\"]}, \"R\": 30, \"lambda.step\": 0.01, \"plot.opts\": {\"xlab\": \"PC1\", \"ylab\": \"PC2\"}, \"topic.order\": [2, 5, 4, 1, 3]};\n",
       "\n",
       "function LDAvis_load_lib(url, callback){\n",
       "  var s = document.createElement('script');\n",
       "  s.src = url;\n",
       "  s.async = true;\n",
       "  s.onreadystatechange = s.onload = callback;\n",
       "  s.onerror = function(){console.warn(\"failed to load library \" + url);};\n",
       "  document.getElementsByTagName(\"head\")[0].appendChild(s);\n",
       "}\n",
       "\n",
       "if(typeof(LDAvis) !== \"undefined\"){\n",
       "   // already loaded: just create the visualization\n",
       "   !function(LDAvis){\n",
       "       new LDAvis(\"#\" + \"ldavis_el217782432590727773554893\", ldavis_el217782432590727773554893_data);\n",
       "   }(LDAvis);\n",
       "}else if(typeof define === \"function\" && define.amd){\n",
       "   // require.js is available: use it to load d3/LDAvis\n",
       "   require.config({paths: {d3: \"https://d3js.org/d3.v5\"}});\n",
       "   require([\"d3\"], function(d3){\n",
       "      window.d3 = d3;\n",
       "      LDAvis_load_lib(\"https://cdn.jsdelivr.net/gh/bmabey/pyLDAvis@3.3.1/pyLDAvis/js/ldavis.v3.0.0.js\", function(){\n",
       "        new LDAvis(\"#\" + \"ldavis_el217782432590727773554893\", ldavis_el217782432590727773554893_data);\n",
       "      });\n",
       "    });\n",
       "}else{\n",
       "    // require.js not available: dynamically load d3 & LDAvis\n",
       "    LDAvis_load_lib(\"https://d3js.org/d3.v5.js\", function(){\n",
       "         LDAvis_load_lib(\"https://cdn.jsdelivr.net/gh/bmabey/pyLDAvis@3.3.1/pyLDAvis/js/ldavis.v3.0.0.js\", function(){\n",
       "                 new LDAvis(\"#\" + \"ldavis_el217782432590727773554893\", ldavis_el217782432590727773554893_data);\n",
       "            })\n",
       "         });\n",
       "}\n",
       "</script>"
      ],
      "text/plain": [
       "PreparedData(topic_coordinates=              x         y  topics  cluster       Freq\n",
       "topic                                                \n",
       "1      0.058025  0.028286       1        1  28.791051\n",
       "4     -0.063249 -0.128172       2        1  23.596943\n",
       "3      0.038124 -0.065979       3        1  17.325416\n",
       "0      0.103780  0.064201       4        1  16.335805\n",
       "2     -0.136680  0.101664       5        1  13.950785, topic_info=         Term          Freq         Total Category  logprob  loglift\n",
       "151     stock  25612.000000  25612.000000  Default  30.0000  30.0000\n",
       "162     model  12276.000000  12276.000000  Default  29.0000  29.0000\n",
       "128      musk  19576.000000  19576.000000  Default  28.0000  28.0000\n",
       "1577     fire   8491.000000   8491.000000  Default  27.0000  27.0000\n",
       "117       car  41816.000000  41816.000000  Default  26.0000  26.0000\n",
       "...       ...           ...           ...      ...      ...      ...\n",
       "169      need   1509.073659   8656.427470   Topic5  -5.4165   0.2228\n",
       "151     stock   1728.651386  25612.024388   Topic5  -5.2807  -0.7261\n",
       "30       sell   1504.819466   9576.793168   Topic5  -5.4193   0.1190\n",
       "90       want   1508.027155  10253.883317   Topic5  -5.4172   0.0528\n",
       "154   twitter   1388.017630   8961.175686   Topic5  -5.5001   0.1046\n",
       "\n",
       "[459 rows x 6 columns], token_table=       Topic      Freq           Term\n",
       "term                                 \n",
       "289        1  0.217018           also\n",
       "289        2  0.085097           also\n",
       "289        3  0.213730           also\n",
       "289        4  0.310927           also\n",
       "289        5  0.173351           also\n",
       "...      ...       ...            ...\n",
       "355        2  0.197429           year\n",
       "355        3  0.109096           year\n",
       "355        4  0.453982           year\n",
       "355        5  0.057012           year\n",
       "15694      1  0.989858  youtube_video\n",
       "\n",
       "[1200 rows x 3 columns], R=30, lambda_step=0.01, plot_opts={'xlab': 'PC1', 'ylab': 'PC2'}, topic_order=[2, 5, 4, 1, 3])"
      ]
     },
     "execution_count": 390,
     "metadata": {},
     "output_type": "execute_result"
    }
   ],
   "source": [
    "pyLDAvis.enable_notebook()\n",
    "gensimvis.prepare(base_model, corpus, id2word)"
   ]
  },
  {
   "cell_type": "code",
   "execution_count": null,
   "id": "37d204c4",
   "metadata": {},
   "outputs": [],
   "source": []
  },
  {
   "cell_type": "markdown",
   "id": "5eabebef",
   "metadata": {},
   "source": [
    "#### ============================================================================"
   ]
  },
  {
   "cell_type": "markdown",
   "id": "e61ba855",
   "metadata": {},
   "source": [
    "# Creating Baseline Below"
   ]
  },
  {
   "cell_type": "markdown",
   "id": "d2fe4449",
   "metadata": {},
   "source": [
    "### Create Gensim Dictionary object\n",
    "#### Is a value count of all unique tokens"
   ]
  },
  {
   "cell_type": "code",
   "execution_count": 104,
   "id": "81addc41",
   "metadata": {},
   "outputs": [],
   "source": [
    "df['tokens'] = [i.split() for i in df]"
   ]
  },
  {
   "cell_type": "code",
   "execution_count": 105,
   "id": "32898975",
   "metadata": {},
   "outputs": [
    {
     "name": "stdout",
     "output_type": "stream",
     "text": [
      "44577\n"
     ]
    }
   ],
   "source": [
    "# Dictionary is a gensim tool\n",
    "id2word = Dictionary(df['tokens'])\n",
    "print(len(id2word)) "
   ]
  },
  {
   "cell_type": "markdown",
   "id": "a2d9c48d",
   "metadata": {},
   "source": [
    "###  Filtering Extremes using Gensim \n",
    "\n",
    "    **CAN BE CHANGED/ IMPROVED**\n",
    "    \n",
    "\n"
   ]
  },
  {
   "cell_type": "code",
   "execution_count": 106,
   "id": "76a818ee",
   "metadata": {},
   "outputs": [
    {
     "name": "stdout",
     "output_type": "stream",
     "text": [
      "14944\n"
     ]
    }
   ],
   "source": [
    "# id2word.filter_extremes(no_below=4, no_above=.95) #Original -- 12656\n",
    "id2word.filter_extremes(no_below=6, no_above=.90)\n",
    "print(len(id2word))"
   ]
  },
  {
   "cell_type": "code",
   "execution_count": 107,
   "id": "e4d5f082",
   "metadata": {},
   "outputs": [],
   "source": [
    "corpus = [id2word.doc2bow(d) for d in df['tokens']]"
   ]
  },
  {
   "cell_type": "markdown",
   "id": "e027d39d",
   "metadata": {},
   "source": [
    "## LdaMulticore -------------------------"
   ]
  },
  {
   "cell_type": "code",
   "execution_count": 108,
   "id": "ebf4c467",
   "metadata": {},
   "outputs": [],
   "source": [
    "# Instantiating a Base LDA model\n",
    "base_model = LdaMulticore(corpus=corpus, num_topics=5, id2word=id2word, workers=12, passes=5)\n",
    "words = [re.findall(r'\"([^\"]*)\"',t[1]) for t in base_model.print_topics()]\n",
    "topics = [' '.join(t[0:10]) for t in words]\n",
    "\n",
    "for id, t in enumerate(topics): \n",
    "    print(f\"------ Topic {id + 1} ------\")\n",
    "    print(t, end=\"\\n\\n\")"
   ]
  },
  {
   "cell_type": "code",
   "execution_count": 111,
   "id": "44c83047",
   "metadata": {},
   "outputs": [
    {
     "name": "stdout",
     "output_type": "stream",
     "text": [
      "------ Topic 1 ------\n",
      "buy musk elon stock get think go twitter never say\n",
      "\n",
      "------ Topic 2 ------\n",
      "car fire electric year make battery drive see ev company\n",
      "\n",
      "------ Topic 3 ------\n",
      "model get car first state spot time teslaradar work go\n",
      "\n",
      "------ Topic 4 ------\n",
      "stock car company price make market go sell musk electric\n",
      "\n",
      "------ Topic 5 ------\n",
      "car door electric people make get crash driver open autopilot\n",
      "\n"
     ]
    }
   ],
   "source": [
    "# Getting the topics\n",
    "for id, t in enumerate(topics): \n",
    "    print(f\"------ Topic {id + 1} ------\")\n",
    "    print(t, end=\"\\n\\n\")"
   ]
  },
  {
   "cell_type": "code",
   "execution_count": 112,
   "id": "7c331348",
   "metadata": {},
   "outputs": [
    {
     "name": "stdout",
     "output_type": "stream",
     "text": [
      "\n",
      "Coherence Score:  0.292141780223799 \n",
      " \n",
      " \n",
      " \n",
      "Perplexity:  -7.595869898279568\n"
     ]
    }
   ],
   "source": [
    "# a measure of how good the model is. lower the better\n",
    "base_perplexity = base_model.log_perplexity(corpus)\n",
    "\n",
    "# Compute Coherence Score\n",
    "coherence_model = CoherenceModel(model=base_model, texts=df['tokens'], \n",
    "                                   dictionary=id2word, coherence='c_v')\n",
    "\n",
    "coherence_lda_model_base = coherence_model.get_coherence()\n",
    "print('\\nCoherence Score: ', coherence_lda_model_base, '\\n\\nPerplexity: ', base_perplexity)"
   ]
  },
  {
   "cell_type": "code",
   "execution_count": 113,
   "id": "f987770e",
   "metadata": {},
   "outputs": [
    {
     "data": {
      "text/plain": [
       "\"\\nWith 'Tesla' and single letters\\n\\n\\n\\nCoherence Score:  0.35428295570283674 \\nPerplexity:  -7.273198516919201\""
      ]
     },
     "execution_count": 113,
     "metadata": {},
     "output_type": "execute_result"
    }
   ],
   "source": [
    "\"\"\"\n",
    "\n",
    "\n",
    "\n",
    "BASE PREPROCESSIG ON BASE LDA MODEL\n",
    "\n",
    "without tesla and single letters \n",
    "Coherence Score:  0.292141780223799 \n",
    "Perplexity:  -7.595869898279568\n",
    "\n",
    "\n",
    "With 'Tesla' and single letters\n",
    "Coherence Score:  0.35428295570283674 \n",
    "Perplexity:  -7.273198516919201\"\"\""
   ]
  },
  {
   "cell_type": "code",
   "execution_count": 115,
   "id": "bb6b2960",
   "metadata": {},
   "outputs": [
    {
     "name": "stderr",
     "output_type": "stream",
     "text": [
      "/Users/austinboring/opt/anaconda3/envs/broke-the-other/lib/python3.10/site-packages/pyLDAvis/_prepare.py:247: FutureWarning: In a future version of pandas all arguments of DataFrame.drop except for the argument 'labels' will be keyword-only.\n",
      "  by='saliency', ascending=False).head(R).drop('saliency', 1)\n",
      "/Users/austinboring/opt/anaconda3/envs/broke-the-other/lib/python3.10/site-packages/past/builtins/misc.py:45: DeprecationWarning: the imp module is deprecated in favour of importlib and slated for removal in Python 3.12; see the module's documentation for alternative uses\n",
      "  from imp import reload\n",
      "/Users/austinboring/opt/anaconda3/envs/broke-the-other/lib/python3.10/site-packages/past/builtins/misc.py:45: DeprecationWarning: the imp module is deprecated in favour of importlib and slated for removal in Python 3.12; see the module's documentation for alternative uses\n",
      "  from imp import reload\n",
      "/Users/austinboring/opt/anaconda3/envs/broke-the-other/lib/python3.10/site-packages/past/builtins/misc.py:45: DeprecationWarning: the imp module is deprecated in favour of importlib and slated for removal in Python 3.12; see the module's documentation for alternative uses\n",
      "  from imp import reload\n",
      "/Users/austinboring/opt/anaconda3/envs/broke-the-other/lib/python3.10/site-packages/past/builtins/misc.py:45: DeprecationWarning: the imp module is deprecated in favour of importlib and slated for removal in Python 3.12; see the module's documentation for alternative uses\n",
      "  from imp import reload\n",
      "/Users/austinboring/opt/anaconda3/envs/broke-the-other/lib/python3.10/site-packages/past/builtins/misc.py:45: DeprecationWarning: the imp module is deprecated in favour of importlib and slated for removal in Python 3.12; see the module's documentation for alternative uses\n",
      "  from imp import reload\n",
      "/Users/austinboring/opt/anaconda3/envs/broke-the-other/lib/python3.10/site-packages/past/builtins/misc.py:45: DeprecationWarning: the imp module is deprecated in favour of importlib and slated for removal in Python 3.12; see the module's documentation for alternative uses\n",
      "  from imp import reload\n",
      "/Users/austinboring/opt/anaconda3/envs/broke-the-other/lib/python3.10/site-packages/past/builtins/misc.py:45: DeprecationWarning: the imp module is deprecated in favour of importlib and slated for removal in Python 3.12; see the module's documentation for alternative uses\n",
      "  from imp import reload\n",
      "/Users/austinboring/opt/anaconda3/envs/broke-the-other/lib/python3.10/site-packages/past/builtins/misc.py:45: DeprecationWarning: the imp module is deprecated in favour of importlib and slated for removal in Python 3.12; see the module's documentation for alternative uses\n",
      "  from imp import reload\n"
     ]
    },
    {
     "data": {
      "text/html": [
       "\n",
       "<link rel=\"stylesheet\" type=\"text/css\" href=\"https://cdn.jsdelivr.net/gh/bmabey/pyLDAvis@3.3.1/pyLDAvis/js/ldavis.v1.0.0.css\">\n",
       "\n",
       "\n",
       "<div id=\"ldavis_el15175567491683837456641\"></div>\n",
       "<script type=\"text/javascript\">\n",
       "\n",
       "var ldavis_el15175567491683837456641_data = {\"mdsDat\": {\"x\": [0.10927464657847208, -0.027694952998124762, 0.10660232185524883, -0.12165042584569921, -0.06653158958989698], \"y\": [0.030928834383444296, -0.04761836883371999, -0.05055507875750611, -0.0937003428046921, 0.16094495601247388], \"topics\": [1, 2, 3, 4, 5], \"cluster\": [1, 1, 1, 1, 1], \"Freq\": [25.297912271889484, 23.130873643847995, 22.726118548361313, 16.06634181331522, 12.778753722585993]}, \"tinfo\": {\"Term\": [\"car\", \"stock\", \"model\", \"door\", \"buy\", \"fire\", \"first\", \"elon\", \"get\", \"musk\", \"crash\", \"spot\", \"state\", \"battery\", \"autopilot\", \"driver\", \"price\", \"open\", \"manual\", \"teslaradar\", \"twitter\", \"electric\", \"people\", \"kill\", \"release\", \"fsd\", \"safety\", \"motor\", \"catch\", \"handle\", \"photoshopped\", \"photoshop\", \"stor\", \"estimating\", \"jeremy\", \"btcusd\", \"richard\", \"winning\", \"tobias\", \"altcoins\", \"genpact\", \"nasscom\", \"cathie\", \"accenture\", \"fakefrivolouscases\", \"explores\", \"larry\", \"srinivas\", \"graph\", \"infosys\", \"tc\", \"ellison\", \"wipro\", \"nonfungible\", \"digitalasset\", \"rarible\", \"roast\", \"sap\", \"blast\", \"supercar\", \"elongate\", \"wood\", \"trump\", \"murder\", \"democrats\", \"donald\", \"nyse\", \"democrat\", \"republican\", \"maga\", \"harassment\", \"cloud\", \"vote\", \"lunatic\", \"james\", \"aws\", \"supporter\", \"threaten\", \"rally\", \"board\", \"bot\", \"political\", \"ceo\", \"buy\", \"tweet\", \"elon\", \"cult\", \"musk\", \"politics\", \"criticism\", \"twitter\", \"never\", \"liberal\", \"view\", \"buying\", \"dip\", \"troll\", \"care\", \"shareholder\", \"think\", \"fake\", \"call\", \"rich\", \"spacex\", \"support\", \"go\", \"stock\", \"right\", \"get\", \"see\", \"say\", \"tsla\", \"back\", \"people\", \"know\", \"share\", \"esg\", \"want\", \"index\", \"good\", \"time\", \"make\", \"car\", \"hohoho\", \"mtesla\", \"floki\", \"cabin\", \"santafloki\", \"cryptoforacause\", \"westinghouse\", \"relinquish\", \"busd\", \"ebitda\", \"vulnerable\", \"fireman\", \"windshield\", \"fighter\", \"kate\", \"corolla\", \"papa\", \"mullen\", \"chevrolet\", \"pizza\", \"extinguish\", \"civilian\", \"tg\", \"initiate\", \"glove\", \"unethical\", \"compartment\", \"asleep\", \"aspiration\", \"tutorial\", \"catch\", \"pinto\", \"safest\", \"notorious\", \"reassign\", \"artificialintelligence\", \"fire\", \"mercedes\", \"import\", \"artificial\", \"taxi\", \"host\", \"bmw\", \"swap\", \"unionize\", \"volvo\", \"overheat\", \"ferrari\", \"recall\", \"settlement\", \"burn\", \"mile\", \"mass\", \"intelligence\", \"ford\", \"flame\", \"photo\", \"combustion\", \"hacker\", \"thank\", \"park\", \"self\", \"engine\", \"vw\", \"worker\", \"year\", \"later\", \"battery\", \"second\", \"fix\", \"union\", \"car\", \"drive\", \"fossil\", \"fuel\", \"change\", \"climate\", \"ai\", \"electric\", \"see\", \"love\", \"ev\", \"vehicle\", \"make\", \"look\", \"many\", \"start\", \"also\", \"company\", \"say\", \"well\", \"come\", \"go\", \"way\", \"people\", \"even\", \"know\", \"think\", \"get\", \"want\", \"heatwave\", \"harassed\", \"galaxyheroescoin\", \"vip\", \"ghc\", \"agrees\", \"galaxyheroes\", \"streetfighters\", \"ghcarmy\", \"doxed\", \"plummeting\", \"ozworld\", \"arabian\", \"ikea\", \"unsecured\", \"dubai\", \"disconnect\", \"powerwalls\", \"eps\", \"surprisingly\", \"sweden\", \"lfp\", \"purifier\", \"tarpenning\", \"surge\", \"ganfeng\", \"fortunately\", \"spain\", \"technological\", \"inexpensive\", \"rise\", \"gate\", \"valuation\", \"mining\", \"sustainability\", \"supercharger\", \"cobalt\", \"renewable\", \"bake\", \"net\", \"cash\", \"fury\", \"tumble\", \"collateral\", \"overvalue\", \"revenue\", \"energy\", \"bill\", \"earnings\", \"device\", \"value\", \"aim\", \"sustainable\", \"margin\", \"price\", \"shanghai\", \"growth\", \"solar\", \"indonesia\", \"stock\", \"governance\", \"panel\", \"plummet\", \"drop\", \"deal\", \"market\", \"fall\", \"sell\", \"company\", \"profit\", \"sale\", \"charge\", \"high\", \"short\", \"share\", \"china\", \"world\", \"ev\", \"make\", \"go\", \"esg\", \"battery\", \"power\", \"use\", \"car\", \"musk\", \"electric\", \"tsla\", \"new\", \"elon\", \"twitter\", \"money\", \"good\", \"vehicle\", \"think\", \"electriccargiveaway\", \"t\", \"torture\", \"prize\", \"vehicular\", \"psychopath\", \"teach\", \"latch\", \"electricbikegiveaway\", \"miku\", \"sunra\", \"manslaughter\", \"avatar\", \"animal\", \"c\", \"lesson\", \"release\", \"enter\", \"tester\", \"shibaswap\", \"deadly\", \"metaphor\", \"beta\", \"manual\", \"uniswap\", \"pst\", \"probe\", \"prone\", \"vxl\", \"voxel\", \"door\", \"information\", \"lever\", \"fatal\", \"opener\", \"autopilot\", \"mechanical\", \"nhtsa\", \"button\", \"kill\", \"trial\", \"handle\", \"emergency\", \"agency\", \"driver\", \"open\", \"safety\", \"fsd\", \"crash\", \"accident\", \"feature\", \"include\", \"design\", \"investigation\", \"lock\", \"tax\", \"car\", \"people\", \"death\", \"pay\", \"find\", \"electric\", \"free\", \"order\", \"make\", \"want\", \"get\", \"good\", \"use\", \"even\", \"buy\", \"know\", \"new\", \"also\", \"take\", \"vehicle\", \"unitedstates\", \"teslaradar\", \"dual\", \"rickman\", \"modely\", \"aura\", \"united\", \"spritual\", \"neuron\", \"aleister\", \"mysterical\", \"occultism\", \"paganism\", \"artistically\", \"unite\", \"artistontwitter\", \"columbia\", \"crowleycheck\", \"dim\", \"jonathan\", \"nail\", \"inspired\", \"spot\", \"ubuntu\", \"florida\", \"british\", \"bolsonaro\", \"intuitive\", \"vancouver\", \"unitedkingdom\", \"canada\", \"plaid\", \"highlight\", \"cod\", \"snow\", \"conduct\", \"motor\", \"working\", \"attendant\", \"norway\", \"standard\", \"state\", \"bug\", \"fremont\", \"flight\", \"first\", \"performance\", \"model\", \"player\", \"california\", \"else\", \"repair\", \"condition\", \"get\", \"afford\", \"anyone\", \"work\", \"time\", \"someone\", \"car\", \"owner\", \"need\", \"truck\", \"know\", \"say\", \"drive\", \"go\", \"electric\", \"buy\", \"gas\", \"even\", \"use\"], \"Freq\": [63006.0, 25303.0, 9919.0, 6628.0, 26310.0, 8573.0, 6021.0, 18058.0, 22711.0, 20157.0, 5366.0, 3149.0, 3616.0, 8788.0, 3443.0, 4467.0, 9160.0, 4406.0, 2990.0, 2514.0, 8688.0, 20059.0, 14549.0, 2833.0, 2429.0, 3482.0, 3569.0, 2140.0, 3029.0, 2492.0, 201.73913547605028, 164.727552478882, 212.15855037614816, 124.04073372292541, 182.0702248037375, 132.58351516509072, 196.76957124428003, 127.78814325253884, 118.6887562278277, 177.8804335325057, 94.4109674351139, 94.3906156628503, 442.52905151627493, 94.37891050838678, 91.95096138981054, 89.09475943011465, 82.98508237587023, 94.33908220548338, 82.05571042393852, 94.30715993131376, 101.45936517599712, 69.98480114206427, 95.00737246644367, 60.494267673867185, 60.49427729190701, 60.49431095504639, 68.65083672697531, 103.37347051707665, 193.9794548362019, 59.89930534851074, 689.1801817880191, 508.52554008530115, 1792.795543965656, 225.0028077679597, 200.9345672088504, 133.62463912171563, 126.43304800396069, 2594.414997100404, 2625.564827255823, 1716.5795803083543, 820.2719101225797, 203.46626612298783, 1862.9675313987384, 158.9938061291249, 238.8959893466919, 130.1185750653586, 349.7865639212633, 478.1197999626809, 202.64934829265633, 1305.1059867407632, 2347.801992738515, 1793.8359850414536, 2430.3612460193003, 18718.07571826862, 2736.956809482401, 12924.873954936902, 765.85958107611, 13152.07636994002, 846.3952757226405, 421.5135575606265, 5857.959948509727, 5072.603138772129, 1250.4542839192006, 1318.1201948962316, 1832.2438188795988, 503.86748492728964, 429.3669948526609, 1925.9247578561342, 1085.272683016396, 7408.440905526476, 1181.3004237095286, 2470.875045856897, 1411.969949707725, 2564.394709541695, 1882.9796714401434, 7286.217009907909, 8875.666263179319, 3374.76396280774, 7435.328943764554, 4382.416602241442, 4893.310257619586, 3043.021918813232, 2800.066539579216, 4675.200814408617, 3930.5814046983996, 2660.610809926704, 2621.7225357633642, 3122.265025851988, 2202.1362410222937, 2956.197026399177, 2797.0887944502883, 3118.2115991493542, 3715.241341401652, 150.53659058963564, 125.44752817904389, 225.42766956582483, 156.71515011490337, 120.50711477986287, 116.76347981984664, 112.31491449929158, 97.44678388791613, 124.27386956320346, 76.14231079915935, 331.3534837676128, 89.79951318219966, 102.66211124561464, 90.06159647421651, 80.83780708933193, 78.80203145563071, 57.74098926434117, 59.464528562123384, 88.36742964121304, 79.46547101113178, 97.67578358337678, 49.10747649462029, 75.39137823405237, 163.7003443585441, 49.80848466375454, 58.76478235367649, 48.712157415887745, 47.8193488105785, 94.5321823492045, 45.89073430548848, 2943.2194653232928, 209.225413462915, 110.68840107094167, 93.84827000986962, 83.48781020880313, 104.99559527756585, 7854.499600636326, 797.7649375419466, 292.7355344331384, 216.8321783085204, 172.7197488769847, 211.77694847216833, 913.7301019103904, 266.7448252953504, 249.674111591614, 391.5379806887096, 252.36126999961522, 131.4184138253445, 2261.4329889063006, 148.56219813083132, 2076.8671139244198, 1255.5634700514336, 556.6579472760872, 321.5755837140922, 3492.3017790487797, 731.399137320429, 529.8811641452712, 346.39415562418554, 848.3512165054389, 983.3597282061971, 646.7066779071985, 1482.8604771466476, 739.9575348482614, 770.2281990469628, 2107.246895950359, 6570.3289680142, 665.7424974461445, 5277.355179049952, 991.2565241561148, 964.1720160889103, 874.6429846130579, 26015.511317400415, 5259.007062129479, 722.2210687272764, 1141.3695180740551, 2367.957596858623, 1294.9547946247021, 1375.9964853138636, 6980.2506643471625, 4270.634808484824, 2031.8089790685194, 3925.9192804285926, 3131.0552167554415, 5295.152289637139, 3162.0058447196197, 2452.6214928689787, 2232.126515437642, 2755.1653375302503, 3754.899353023789, 3558.1324024090472, 2708.3922728505254, 2458.5770327215555, 3686.7360986642298, 2241.738170858175, 3018.882090354841, 2256.5476620698064, 2488.4687041831, 2219.838905357649, 2189.7246363426675, 2143.2667540394905, 413.8435533372778, 163.19056932910271, 192.76685947421294, 143.20334239562874, 186.24717330458193, 130.44361229350858, 161.10263156022287, 165.00359108681687, 145.93512693061697, 108.19095058891143, 120.65855326826735, 101.52025847525053, 99.91734208693475, 107.59767530477406, 92.85260196254961, 149.8132415916153, 133.3259621189165, 86.53831221687459, 163.5743527027893, 108.40382084370714, 113.58239935135126, 104.82164396316128, 66.14083677230124, 83.0237799856284, 77.3867229972348, 69.1320928414309, 62.98487129589105, 145.49290079184382, 114.00324082962923, 50.63997336644304, 1131.2305338780836, 692.9113164156681, 714.5263609865677, 426.68430322180734, 382.0090776049456, 1480.9670396594863, 301.62604830259755, 360.925927862362, 189.27591517151293, 630.6801744797631, 1511.6162090219725, 234.01001556680455, 168.1640279013306, 399.63003785296166, 615.4597568558653, 603.8326534165046, 2721.684063021013, 923.152032842394, 550.4762406290287, 439.83357975561415, 2747.065710968729, 280.85256572451766, 468.2232502103147, 858.4960864130089, 6686.0364672727355, 799.6248332119693, 917.0789620671044, 3282.4622666405853, 625.8766699568039, 14786.840461380365, 493.4831740784121, 1209.5692069176278, 531.2235832637638, 2309.321036691884, 2285.5363865496797, 5541.284330481024, 1702.6296991409192, 5096.0963082259605, 7217.769273304558, 1140.3123529427746, 1626.0973948536018, 3101.243106553228, 2208.3913836583088, 1828.2772893825752, 3090.6920273883825, 1638.3560672398532, 3546.363112627517, 4226.75247044497, 5547.713794984033, 5320.241143572868, 2578.387518066693, 3286.456420085604, 2072.3496214981074, 3374.582165332569, 10312.750467409856, 4751.069577352547, 4651.863277387143, 2642.424752266285, 2819.658606541895, 3514.3769829311395, 2518.39614066905, 2249.200815634724, 2554.8293120385324, 2254.5799001752775, 2378.6897994031947, 477.31624424397455, 485.4092257323042, 328.49495666722913, 728.2146985072321, 232.3317527567509, 359.5649883910874, 482.13680058162964, 622.3865107657087, 156.65773354855568, 155.62752336842505, 155.62752336842505, 326.62010583389434, 176.12180237569348, 371.77915266358383, 790.822802752553, 447.8391051782395, 2411.905023518895, 1719.0558942457114, 165.177451649464, 198.80624159680843, 373.69422040821826, 94.3786029046727, 1514.267765806397, 2962.843870214579, 167.9831553908759, 100.0130508172387, 487.8812219557751, 98.21098624074577, 148.50408462963242, 97.26281025240652, 6501.880461841762, 1122.8575317414416, 520.3460914878203, 424.47474116511523, 249.64718545312468, 3273.1731949980135, 736.0077390459173, 675.4095519071177, 735.1546323175216, 2655.123025048613, 663.229838330206, 2304.580893729235, 1403.5857438212706, 423.59490460624454, 3686.36633511693, 3483.815009712647, 2842.9484128417425, 2766.257939298533, 4034.2767264910403, 990.8161762262248, 1575.1081828714573, 1951.3231680055487, 1793.160171174554, 760.8734203930147, 1838.3215635835174, 1737.9870645650112, 16981.052583575965, 5470.2513039828955, 1230.0083818622459, 2606.092013232604, 2070.590205597931, 5649.797969728947, 1875.41142678126, 1456.8189586388642, 4434.405967379271, 2980.4535020779995, 4124.879417102314, 2797.853087582326, 2487.4455768230964, 2189.931715332258, 2693.4056153071115, 2279.129208493552, 2036.5054203798784, 1913.5546505379036, 1912.4139171510512, 1904.3101362248149, 1705.8489554311996, 2510.4955603313406, 1315.8972339277573, 436.1947932868787, 820.5640169959181, 316.26250575558856, 1691.1802604587356, 284.8876718265598, 158.36641731238734, 156.61712312201664, 156.61712312201664, 156.61712312201664, 156.61712312201664, 143.9262308106417, 342.6286151264231, 124.48765835736272, 376.0402711684754, 120.60061432146217, 286.66035419948014, 104.03039306224005, 596.1699230592139, 158.32700623286047, 3122.638552947754, 236.1460969555831, 606.5938037915911, 411.17936846257095, 80.84786522126387, 127.77308099287224, 168.46536069011503, 96.51868600140156, 988.6071077910433, 366.5651324984759, 402.3934961479261, 243.82196826410564, 259.9186541313991, 333.93135944030024, 2008.742768268047, 398.7382156891644, 502.79081149221287, 290.2622897798882, 1555.198976798396, 3126.0059848315886, 496.800094202474, 436.40137108538494, 583.2545158554456, 4802.847763859932, 1003.748191580637, 7156.9394834153145, 719.9009683668925, 1844.7968750660234, 1602.0863458849065, 453.5496215110012, 836.9928403189284, 6839.362361635685, 1405.3518337264477, 1455.852273772345, 2406.319561986381, 2745.817639242496, 1326.8180673848194, 5982.37675484947, 1441.9853260863506, 1924.5711187391898, 1071.4844881401718, 1929.6499398278838, 2010.5340679063454, 1693.0867617141125, 2127.3191242155954, 1985.0107687465568, 2085.594995216529, 1222.8102074323976, 1334.8782938860847, 1278.8287427492498], \"Total\": [63006.0, 25303.0, 9919.0, 6628.0, 26310.0, 8573.0, 6021.0, 18058.0, 22711.0, 20157.0, 5366.0, 3149.0, 3616.0, 8788.0, 3443.0, 4467.0, 9160.0, 4406.0, 2990.0, 2514.0, 8688.0, 20059.0, 14549.0, 2833.0, 2429.0, 3482.0, 3569.0, 2140.0, 3029.0, 2492.0, 202.55087196332977, 165.52113522531496, 213.495752080654, 124.85436454413585, 183.33754865300526, 133.50952638620362, 198.14576021204732, 128.76880365209723, 119.88952088632999, 179.79636026624883, 95.51086642516289, 95.50766298776804, 447.76950928785806, 95.50828456546087, 93.06454794743084, 90.1752557044291, 84.00253274547153, 95.50188375670815, 83.07383292591257, 95.50090206116533, 102.74628418532804, 70.87371440652622, 96.21558612367447, 61.28224371465708, 61.28225354046413, 61.28228944396699, 69.55269309191745, 104.73611334582151, 196.5723326365037, 60.75262592898266, 703.5569694700846, 519.0362816945255, 1855.6534852805805, 228.96102165147659, 204.49696691359648, 135.70121496707864, 128.511227476569, 2720.674005521181, 2781.5459846407607, 1818.013144788751, 856.3799992583331, 208.27708882142915, 1995.3684477817342, 162.18611888926617, 245.9327362436437, 132.4163848610097, 363.8041416479999, 502.44930878978835, 208.5209401233851, 1426.299793591889, 2640.1331217223064, 2116.823270784776, 2930.2570813958605, 26310.688415624936, 3373.743836645519, 18058.598496357525, 865.23852913739, 20157.425232396185, 991.0397793477252, 462.17993708629626, 8688.89340156188, 7549.033623942414, 1569.062818728622, 1694.1293007774668, 2498.8034461370303, 575.4996780296583, 480.0921598350728, 2710.262841904072, 1411.2158787426413, 14444.093768691931, 1587.772345999435, 3889.2417747828094, 1997.0959881015988, 4326.284947501899, 2930.1833733013164, 18945.587618135934, 25303.652571291717, 7181.338753269771, 22711.92746266816, 10639.432965166512, 13294.931633999417, 6696.031836211604, 5910.721497107253, 14549.840316601574, 11875.724476033076, 5959.572424185866, 5896.129555273533, 10144.532529580818, 4072.041399786095, 10676.044182991103, 10521.857338413542, 19594.78013580885, 63006.932464637364, 151.45292242721732, 126.26992588592505, 226.97989672079288, 157.82739434565028, 121.42759242821965, 117.6659377898484, 113.19381705991701, 98.2429728530744, 125.58803656917917, 77.01980405679822, 335.3150561793519, 90.90029562305429, 104.03281235726601, 91.27303607741801, 81.93594984775977, 79.9339766197976, 58.60113372721837, 60.357206253847735, 89.79338883945866, 80.74978941843257, 99.25886495124303, 49.90419079517545, 76.64166626158487, 166.41779861687607, 50.65243269070025, 59.76282385407444, 49.5621451699381, 48.65862950501309, 96.20142543100097, 46.709731926803705, 3029.031450348039, 213.42691915349081, 112.78982975930747, 95.64529837083138, 85.00958360582973, 107.26390808361205, 8573.050135768153, 835.2333273507544, 303.9274173798453, 223.779824595375, 177.74788568928062, 219.0098566580906, 985.3691034908769, 277.99405957015176, 259.90055360330797, 413.48471777862096, 263.61491587840106, 135.06127245608917, 2549.9943321516394, 153.60615235792753, 2417.569489319883, 1425.827591841452, 608.738158630511, 343.81407785241896, 4233.381875979403, 818.9458753385364, 586.1594191664635, 372.9382684478055, 976.3473010770031, 1169.0251269386542, 747.3592893866767, 1867.0301064725923, 874.5496894989864, 915.7398323169584, 2810.5458073512873, 11163.052754657368, 809.2072702668136, 8788.432472497412, 1281.414896186017, 1255.540499908555, 1123.3760864395229, 63006.932464637364, 9943.157598990414, 922.7391452496744, 1646.3440647688712, 4165.320941966391, 1941.0605379067117, 2180.2053676045853, 20059.99454288248, 10639.432965166512, 4023.1190049702027, 10999.778649394668, 8068.963464882252, 19594.78013580885, 8660.51750650848, 6160.891433210188, 5428.307407607806, 8015.175905515435, 14624.776621972584, 13294.931633999417, 8502.55134040169, 7116.4033398683605, 18945.587618135934, 7093.068991675505, 14549.840316601574, 8664.170511737022, 11875.724476033076, 14444.093768691931, 22711.92746266816, 10144.532529580818, 414.64260298312877, 163.99479888958854, 193.81206241995127, 144.04651830046683, 187.39129184254202, 131.28543822675312, 162.14763569004523, 166.08112958506126, 146.97506756552804, 109.0138907443536, 121.57787083470633, 102.32607077861803, 100.74214726765858, 108.55187180114488, 93.7389055939411, 151.29739177336072, 134.66757916822039, 87.42386729434062, 165.2672282443592, 109.62305904609386, 114.92728829962354, 106.15517156001768, 67.01454510906692, 84.15569281219196, 78.45461543977923, 70.16801134643565, 63.940326449486825, 147.73993363579032, 115.80249093698379, 51.44418435291197, 1158.0837810084938, 708.473428058586, 734.4068487152515, 436.7550908251469, 391.66736231289013, 1539.7304429315582, 309.2425614408639, 371.8675484019993, 193.2378158611097, 660.6511690554813, 1612.3155432386363, 240.67166859739703, 171.883845947829, 424.05069465707356, 664.9471359021095, 652.8505256728279, 3177.3488074154634, 1018.2045079038588, 597.938099973388, 472.6655238016712, 3258.7980042589634, 295.3304389279397, 514.375974405067, 987.6788383479185, 9160.183603031297, 926.0064165641256, 1079.989001814285, 4407.647014545635, 722.8179790183978, 25303.652571291717, 555.2438184588641, 1520.5332578517712, 606.7957088891865, 3330.597194897885, 3297.778526648049, 9261.083140253375, 2392.511436843759, 9392.058075774234, 14624.776621972584, 1531.7715854140142, 2399.793489844934, 5701.006854113957, 3710.855268059323, 2940.364802770789, 5959.572424185866, 2667.8441968728443, 8417.944885562167, 10999.778649394668, 19594.78013580885, 18945.587618135934, 5896.129555273533, 8788.432472497412, 4158.516784311666, 9395.651238084163, 63006.932464637364, 20157.425232396185, 20059.99454288248, 6696.031836211604, 8646.129934906843, 18058.598496357525, 8688.89340156188, 6453.096110249108, 10676.044182991103, 8068.963464882252, 14444.093768691931, 478.4736298057022, 486.64103740280524, 329.33671315417337, 730.6118864785655, 233.1962269757973, 361.0286042950259, 484.17335997642164, 625.2329856808853, 157.47237169615147, 156.44216004462209, 156.44216004462209, 328.3813027617719, 177.20931315980118, 374.1520513275118, 795.9511688065771, 450.8218431500633, 2429.3133977940247, 1732.2393624020165, 166.53562566111353, 200.459582417404, 376.84255021749294, 95.20159759112757, 1527.5906881953272, 2990.6687270963757, 169.59791854903796, 100.99075536376226, 493.12218310626196, 99.27314162875942, 150.12974136240658, 98.3746816703883, 6628.173648750298, 1144.935357055642, 528.5107967863423, 430.82941757889995, 252.8424707024285, 3443.669707148683, 757.560054287648, 696.4649039981648, 759.4209409265341, 2833.7827387742223, 688.2535236080903, 2492.0524507651508, 1515.8160439916232, 440.3435180227514, 4467.095023245499, 4406.489087283153, 3569.693268105526, 3482.4266761192384, 5366.888704365594, 1123.127308032468, 1929.370362208711, 2565.268183077788, 2397.8738655904126, 864.2315258952699, 2941.5706212566306, 2741.510677961883, 63006.932464637364, 14549.840316601574, 1738.4920141768084, 5601.6958493028815, 3953.2055411305414, 20059.99454288248, 3810.3628919815615, 2469.6874577056333, 19594.78013580885, 10144.532529580818, 22711.92746266816, 10676.044182991103, 9395.651238084163, 8664.170511737022, 26310.688415624936, 11875.724476033076, 8646.129934906843, 8015.175905515435, 8791.85094391893, 8068.963464882252, 1707.4648048713593, 2514.5950328738923, 1318.18527574999, 437.0138103082752, 822.5777736043091, 317.09255757443395, 1695.6324515351212, 285.76807514350844, 159.2171830828545, 157.46757812904656, 157.46757812904656, 157.46757812904656, 157.46757812904656, 144.77149348356588, 344.7358683917273, 125.33019440339696, 378.60259221494374, 121.44233330937465, 288.79780954969556, 104.84950032084897, 601.0888210401387, 159.63499928106853, 3149.7004796070337, 238.24250019873878, 612.4904583694541, 415.30075871044147, 81.67914602059655, 129.09302522712855, 170.3254399624586, 97.61293945951941, 1002.0491011102354, 370.7844133244014, 408.32492599882636, 246.6158400568447, 263.22693655275566, 341.56807848794597, 2140.855235741307, 410.6170860782747, 529.9290604975339, 299.43453542505006, 1721.693595985357, 3616.2084660590745, 524.9494910138427, 460.65220236509646, 626.3426930038971, 6021.368188487481, 1134.3705243467823, 9919.118192024243, 823.7531749804948, 2688.650999441579, 2309.5042516544636, 503.1176599184455, 1115.3053006723335, 22711.92746266816, 2562.6802648605676, 2811.4232479563607, 7219.337399312336, 10521.857338413542, 3145.9020279410347, 63006.932464637364, 4386.352947609981, 8648.858562927438, 2998.975996059886, 11875.724476033076, 13294.931633999417, 9943.157598990414, 18945.587618135934, 20059.99454288248, 26310.688415624936, 4332.774556985513, 8664.170511737022, 9395.651238084163], \"Category\": [\"Default\", \"Default\", \"Default\", \"Default\", \"Default\", \"Default\", \"Default\", \"Default\", \"Default\", \"Default\", \"Default\", \"Default\", \"Default\", \"Default\", \"Default\", \"Default\", \"Default\", \"Default\", \"Default\", \"Default\", \"Default\", \"Default\", \"Default\", \"Default\", \"Default\", \"Default\", \"Default\", \"Default\", \"Default\", \"Default\", \"Topic1\", \"Topic1\", \"Topic1\", \"Topic1\", \"Topic1\", \"Topic1\", \"Topic1\", \"Topic1\", \"Topic1\", \"Topic1\", \"Topic1\", \"Topic1\", \"Topic1\", \"Topic1\", \"Topic1\", \"Topic1\", \"Topic1\", \"Topic1\", \"Topic1\", \"Topic1\", \"Topic1\", \"Topic1\", \"Topic1\", \"Topic1\", \"Topic1\", \"Topic1\", \"Topic1\", \"Topic1\", \"Topic1\", \"Topic1\", \"Topic1\", \"Topic1\", \"Topic1\", \"Topic1\", \"Topic1\", \"Topic1\", \"Topic1\", \"Topic1\", \"Topic1\", \"Topic1\", \"Topic1\", \"Topic1\", \"Topic1\", \"Topic1\", \"Topic1\", \"Topic1\", \"Topic1\", \"Topic1\", \"Topic1\", \"Topic1\", \"Topic1\", \"Topic1\", \"Topic1\", \"Topic1\", \"Topic1\", \"Topic1\", \"Topic1\", \"Topic1\", \"Topic1\", \"Topic1\", \"Topic1\", \"Topic1\", \"Topic1\", \"Topic1\", \"Topic1\", \"Topic1\", \"Topic1\", \"Topic1\", \"Topic1\", \"Topic1\", \"Topic1\", \"Topic1\", \"Topic1\", \"Topic1\", \"Topic1\", \"Topic1\", \"Topic1\", \"Topic1\", \"Topic1\", \"Topic1\", \"Topic1\", \"Topic1\", \"Topic1\", \"Topic1\", \"Topic1\", \"Topic1\", \"Topic1\", \"Topic1\", \"Topic1\", \"Topic1\", \"Topic1\", \"Topic1\", \"Topic1\", \"Topic2\", \"Topic2\", \"Topic2\", \"Topic2\", \"Topic2\", \"Topic2\", \"Topic2\", \"Topic2\", \"Topic2\", \"Topic2\", \"Topic2\", \"Topic2\", \"Topic2\", \"Topic2\", \"Topic2\", \"Topic2\", \"Topic2\", \"Topic2\", \"Topic2\", \"Topic2\", \"Topic2\", \"Topic2\", \"Topic2\", \"Topic2\", \"Topic2\", \"Topic2\", \"Topic2\", \"Topic2\", \"Topic2\", \"Topic2\", \"Topic2\", \"Topic2\", \"Topic2\", \"Topic2\", \"Topic2\", \"Topic2\", \"Topic2\", \"Topic2\", \"Topic2\", \"Topic2\", \"Topic2\", \"Topic2\", \"Topic2\", \"Topic2\", \"Topic2\", \"Topic2\", \"Topic2\", \"Topic2\", \"Topic2\", \"Topic2\", \"Topic2\", \"Topic2\", \"Topic2\", \"Topic2\", \"Topic2\", \"Topic2\", \"Topic2\", \"Topic2\", \"Topic2\", \"Topic2\", \"Topic2\", \"Topic2\", \"Topic2\", \"Topic2\", \"Topic2\", \"Topic2\", \"Topic2\", \"Topic2\", \"Topic2\", \"Topic2\", \"Topic2\", \"Topic2\", \"Topic2\", \"Topic2\", \"Topic2\", \"Topic2\", \"Topic2\", \"Topic2\", \"Topic2\", \"Topic2\", \"Topic2\", \"Topic2\", \"Topic2\", \"Topic2\", \"Topic2\", \"Topic2\", \"Topic2\", \"Topic2\", \"Topic2\", \"Topic2\", \"Topic2\", \"Topic2\", \"Topic2\", \"Topic2\", \"Topic2\", \"Topic2\", \"Topic2\", \"Topic2\", \"Topic2\", \"Topic2\", \"Topic3\", \"Topic3\", \"Topic3\", \"Topic3\", \"Topic3\", \"Topic3\", \"Topic3\", \"Topic3\", \"Topic3\", \"Topic3\", \"Topic3\", \"Topic3\", \"Topic3\", \"Topic3\", \"Topic3\", \"Topic3\", \"Topic3\", \"Topic3\", \"Topic3\", \"Topic3\", \"Topic3\", \"Topic3\", \"Topic3\", \"Topic3\", \"Topic3\", \"Topic3\", \"Topic3\", \"Topic3\", \"Topic3\", \"Topic3\", \"Topic3\", \"Topic3\", \"Topic3\", \"Topic3\", \"Topic3\", \"Topic3\", \"Topic3\", \"Topic3\", \"Topic3\", \"Topic3\", \"Topic3\", \"Topic3\", \"Topic3\", \"Topic3\", \"Topic3\", \"Topic3\", \"Topic3\", \"Topic3\", \"Topic3\", \"Topic3\", \"Topic3\", \"Topic3\", \"Topic3\", \"Topic3\", \"Topic3\", \"Topic3\", \"Topic3\", \"Topic3\", \"Topic3\", \"Topic3\", \"Topic3\", \"Topic3\", \"Topic3\", \"Topic3\", \"Topic3\", \"Topic3\", \"Topic3\", \"Topic3\", \"Topic3\", \"Topic3\", \"Topic3\", \"Topic3\", \"Topic3\", \"Topic3\", \"Topic3\", \"Topic3\", \"Topic3\", \"Topic3\", \"Topic3\", \"Topic3\", \"Topic3\", \"Topic3\", \"Topic3\", \"Topic3\", \"Topic3\", \"Topic3\", \"Topic3\", \"Topic3\", \"Topic3\", \"Topic3\", \"Topic3\", \"Topic3\", \"Topic3\", \"Topic3\", \"Topic3\", \"Topic4\", \"Topic4\", \"Topic4\", \"Topic4\", \"Topic4\", \"Topic4\", \"Topic4\", \"Topic4\", \"Topic4\", \"Topic4\", \"Topic4\", \"Topic4\", \"Topic4\", \"Topic4\", \"Topic4\", \"Topic4\", \"Topic4\", \"Topic4\", \"Topic4\", \"Topic4\", \"Topic4\", \"Topic4\", \"Topic4\", \"Topic4\", \"Topic4\", \"Topic4\", \"Topic4\", \"Topic4\", \"Topic4\", \"Topic4\", \"Topic4\", \"Topic4\", \"Topic4\", \"Topic4\", \"Topic4\", \"Topic4\", \"Topic4\", \"Topic4\", \"Topic4\", \"Topic4\", \"Topic4\", \"Topic4\", \"Topic4\", \"Topic4\", \"Topic4\", \"Topic4\", \"Topic4\", \"Topic4\", \"Topic4\", \"Topic4\", \"Topic4\", \"Topic4\", \"Topic4\", \"Topic4\", \"Topic4\", \"Topic4\", \"Topic4\", \"Topic4\", \"Topic4\", \"Topic4\", \"Topic4\", \"Topic4\", \"Topic4\", \"Topic4\", \"Topic4\", \"Topic4\", \"Topic4\", \"Topic4\", \"Topic4\", \"Topic4\", \"Topic4\", \"Topic4\", \"Topic4\", \"Topic4\", \"Topic4\", \"Topic4\", \"Topic5\", \"Topic5\", \"Topic5\", \"Topic5\", \"Topic5\", \"Topic5\", \"Topic5\", \"Topic5\", \"Topic5\", \"Topic5\", \"Topic5\", \"Topic5\", \"Topic5\", \"Topic5\", \"Topic5\", \"Topic5\", \"Topic5\", \"Topic5\", \"Topic5\", \"Topic5\", \"Topic5\", \"Topic5\", \"Topic5\", \"Topic5\", \"Topic5\", \"Topic5\", \"Topic5\", \"Topic5\", \"Topic5\", \"Topic5\", \"Topic5\", \"Topic5\", \"Topic5\", \"Topic5\", \"Topic5\", \"Topic5\", \"Topic5\", \"Topic5\", \"Topic5\", \"Topic5\", \"Topic5\", \"Topic5\", \"Topic5\", \"Topic5\", \"Topic5\", \"Topic5\", \"Topic5\", \"Topic5\", \"Topic5\", \"Topic5\", \"Topic5\", \"Topic5\", \"Topic5\", \"Topic5\", \"Topic5\", \"Topic5\", \"Topic5\", \"Topic5\", \"Topic5\", \"Topic5\", \"Topic5\", \"Topic5\", \"Topic5\", \"Topic5\", \"Topic5\", \"Topic5\", \"Topic5\", \"Topic5\", \"Topic5\", \"Topic5\", \"Topic5\", \"Topic5\"], \"logprob\": [30.0, 29.0, 28.0, 27.0, 26.0, 25.0, 24.0, 23.0, 22.0, 21.0, 20.0, 19.0, 18.0, 17.0, 16.0, 15.0, 14.0, 13.0, 12.0, 11.0, 10.0, 9.0, 8.0, 7.0, 6.0, 5.0, 4.0, 3.0, 2.0, 1.0, -8.0945, -8.2971, -8.0441, -8.5808, -8.197, -8.5142, -8.1194, -8.5511, -8.6249, -8.2203, -8.8538, -8.854, -7.3089, -8.8541, -8.8802, -8.9117, -8.9828, -8.8545, -8.994, -8.8549, -8.7818, -9.1532, -8.8475, -9.2989, -9.2989, -9.2989, -9.1724, -8.7631, -8.1337, -9.3088, -6.8659, -7.1699, -5.9099, -7.9853, -8.0984, -8.5064, -8.5617, -5.5403, -5.5284, -5.9533, -6.6918, -8.0859, -5.8715, -8.3326, -7.9254, -8.533, -7.5441, -7.2316, -8.09, -6.2274, -5.6402, -5.9093, -5.6056, -3.5642, -5.4868, -3.9345, -6.7604, -3.9171, -6.6604, -7.3576, -4.7259, -4.8698, -6.2702, -6.2175, -5.8881, -7.1791, -7.3391, -5.8383, -6.4118, -4.4911, -6.3271, -5.5891, -6.1487, -5.552, -5.8608, -4.5077, -4.3104, -5.2773, -4.4874, -5.0161, -4.9058, -5.3808, -5.464, -4.9514, -5.1249, -5.5151, -5.5298, -5.3551, -5.7042, -5.4098, -5.4651, -5.3564, -5.1812, -8.2977, -8.48, -7.8939, -8.2574, -8.5202, -8.5517, -8.5906, -8.7326, -8.4894, -8.9793, -7.5087, -8.8143, -8.6804, -8.8114, -8.9194, -8.9449, -9.2559, -9.2265, -8.8304, -8.9366, -8.7302, -9.4179, -8.9892, -8.2138, -9.4037, -9.2383, -9.4259, -9.4444, -8.7629, -9.4856, -5.3246, -7.9685, -8.6052, -8.7702, -8.8872, -8.658, -4.343, -6.6301, -7.6326, -7.9328, -8.1602, -7.9563, -6.4943, -7.7256, -7.7917, -7.3418, -7.781, -8.4335, -5.5881, -8.3109, -5.6733, -6.1765, -6.9899, -7.5386, -5.1536, -6.7169, -7.0392, -7.4643, -6.5686, -6.4209, -6.84, -6.0101, -6.7053, -6.6652, -5.6587, -4.5216, -6.811, -4.7407, -6.4129, -6.4406, -6.5381, -3.1454, -4.7442, -6.7295, -6.2719, -5.5421, -6.1456, -6.0849, -4.461, -4.9524, -5.6952, -5.0365, -5.2627, -4.7373, -5.2529, -5.507, -5.6012, -5.3906, -5.0811, -5.1349, -5.4078, -5.5045, -5.0994, -5.5969, -5.2992, -5.5903, -5.4925, -5.6067, -5.6203, -5.6418, -7.2687, -8.1993, -8.0327, -8.33, -8.0671, -8.4233, -8.2122, -8.1883, -8.3111, -8.6103, -8.5013, -8.674, -8.6899, -8.6158, -8.7632, -8.2848, -8.4014, -8.8336, -8.197, -8.6084, -8.5617, -8.642, -9.1024, -8.8751, -8.9454, -9.0582, -9.1513, -8.3141, -8.558, -9.3695, -6.2632, -6.7533, -6.7226, -7.2382, -7.3488, -5.9938, -7.585, -7.4055, -8.051, -6.8474, -5.9733, -7.8389, -8.1693, -7.3037, -6.8719, -6.8909, -5.3852, -6.4664, -6.9834, -7.2078, -5.3759, -7.6564, -7.1453, -6.539, -4.4864, -6.6101, -6.473, -5.1979, -6.8551, -3.6927, -7.0927, -6.1962, -7.019, -5.5495, -5.5599, -4.6742, -5.8543, -4.758, -4.4099, -6.2552, -5.9003, -5.2547, -5.5942, -5.7831, -5.2581, -5.8928, -5.1205, -4.945, -4.6731, -4.7149, -5.4393, -5.1967, -5.6578, -5.1702, -4.0531, -4.8281, -4.8492, -5.4148, -5.3499, -5.1296, -5.4628, -5.5759, -5.4485, -5.5735, -5.5199, -6.7793, -6.7624, -7.1529, -6.3568, -7.4993, -7.0625, -6.7692, -6.5139, -7.8934, -7.9, -7.9, -7.1586, -7.7763, -7.0291, -6.2744, -6.843, -5.1593, -5.4979, -7.8404, -7.6551, -7.024, -8.4001, -5.6247, -4.9535, -7.8236, -8.3421, -6.7574, -8.3603, -7.9468, -8.37, -4.1676, -5.9238, -6.6929, -6.8966, -7.4274, -4.8539, -6.3462, -6.4321, -6.3474, -5.0632, -6.4503, -5.2048, -5.7006, -6.8987, -4.735, -4.7915, -4.9948, -5.0222, -4.6449, -6.0489, -5.5854, -5.3712, -5.4557, -6.313, -5.4308, -5.487, -3.2076, -4.3404, -5.8327, -5.0818, -5.3118, -4.3081, -5.4108, -5.6634, -4.5503, -4.9476, -4.6226, -5.0108, -5.1284, -5.2558, -5.0489, -5.2159, -5.3284, -5.3907, -5.3913, -5.3956, -5.2767, -4.8903, -5.5362, -6.6404, -6.0085, -6.9619, -5.2853, -7.0664, -7.6536, -7.6647, -7.6647, -7.6647, -7.6647, -7.7492, -6.8818, -7.8943, -6.7888, -7.926, -7.0602, -8.0738, -6.328, -7.6538, -4.6721, -7.254, -6.3106, -6.6995, -8.3259, -7.8682, -7.5918, -8.1488, -5.8222, -6.8143, -6.7211, -7.2221, -7.1581, -6.9076, -5.1132, -6.7302, -6.4983, -7.0477, -5.3691, -4.671, -6.5103, -6.6399, -6.3499, -4.2415, -5.807, -3.8427, -6.1394, -5.1984, -5.3394, -6.6014, -5.9887, -3.888, -5.4704, -5.4351, -4.9326, -4.8007, -5.528, -4.0219, -5.4447, -5.156, -5.7417, -5.1534, -5.1123, -5.2842, -5.0559, -5.1251, -5.0757, -5.6096, -5.5219, -5.5648], \"loglift\": [30.0, 29.0, 28.0, 27.0, 26.0, 25.0, 24.0, 23.0, 22.0, 21.0, 20.0, 19.0, 18.0, 17.0, 16.0, 15.0, 14.0, 13.0, 12.0, 11.0, 10.0, 9.0, 8.0, 7.0, 6.0, 5.0, 4.0, 3.0, 2.0, 1.0, 1.3704, 1.3696, 1.3682, 1.3679, 1.3675, 1.3675, 1.3675, 1.3668, 1.3644, 1.3637, 1.3629, 1.3627, 1.3627, 1.3626, 1.3624, 1.3624, 1.3623, 1.3622, 1.3621, 1.3619, 1.3618, 1.3618, 1.3618, 1.3615, 1.3615, 1.3615, 1.3614, 1.3614, 1.3612, 1.3603, 1.3538, 1.354, 1.34, 1.357, 1.3569, 1.359, 1.3581, 1.3269, 1.3167, 1.317, 1.3314, 1.3511, 1.3058, 1.3546, 1.3454, 1.3569, 1.3352, 1.3248, 1.3459, 1.2856, 1.2571, 1.2089, 1.1874, 1.034, 1.1653, 1.04, 1.2524, 0.9475, 1.2167, 1.2823, 0.9802, 0.9769, 1.1475, 1.1235, 1.0642, 1.2415, 1.2628, 1.0328, 1.1118, 0.7068, 1.0787, 0.9208, 1.0277, 0.8515, 0.9322, 0.4189, 0.3268, 0.6193, 0.2578, 0.4875, 0.3749, 0.5858, 0.6273, 0.2391, 0.2687, 0.568, 0.564, 0.1961, 0.7597, 0.0903, 0.0496, -0.4636, -1.4564, 1.4579, 1.4575, 1.4571, 1.4569, 1.4564, 1.4563, 1.4562, 1.4559, 1.4535, 1.4525, 1.4521, 1.4518, 1.4507, 1.4506, 1.4505, 1.4497, 1.4492, 1.4491, 1.448, 1.448, 1.4479, 1.4479, 1.4476, 1.4475, 1.4472, 1.4472, 1.4467, 1.4466, 1.4465, 1.4463, 1.4353, 1.4441, 1.4452, 1.445, 1.4459, 1.4426, 1.3765, 1.4181, 1.4265, 1.4325, 1.4353, 1.4304, 1.3885, 1.4227, 1.4239, 1.4095, 1.4204, 1.4367, 1.3439, 1.4306, 1.3121, 1.3368, 1.3746, 1.3971, 1.2716, 1.3509, 1.3631, 1.3902, 1.3235, 1.2911, 1.3193, 1.2336, 1.2969, 1.291, 1.176, 0.934, 1.2688, 0.954, 1.2073, 1.2, 1.2137, 0.5795, 0.8271, 1.219, 1.0977, 0.8992, 1.0592, 1.0038, 0.4084, 0.5512, 0.7809, 0.4337, 0.5173, 0.1555, 0.4564, 0.5429, 0.5753, 0.3961, 0.1043, 0.1459, 0.32, 0.4012, -0.1728, 0.3121, -0.1087, 0.1186, -0.0988, -0.4088, -0.8751, -0.0906, 1.4797, 1.4767, 1.4762, 1.4758, 1.4755, 1.4752, 1.4752, 1.4751, 1.4746, 1.4741, 1.4741, 1.4737, 1.4734, 1.4728, 1.4722, 1.4718, 1.4716, 1.4715, 1.4714, 1.4705, 1.4699, 1.469, 1.4685, 1.4681, 1.468, 1.4668, 1.4666, 1.4663, 1.466, 1.4659, 1.4582, 1.4594, 1.4542, 1.4583, 1.4567, 1.4427, 1.4567, 1.4518, 1.4609, 1.4352, 1.4172, 1.4536, 1.4598, 1.4223, 1.4043, 1.4036, 1.3269, 1.3837, 1.399, 1.4097, 1.3108, 1.4314, 1.3876, 1.3415, 1.1668, 1.3349, 1.3181, 1.1869, 1.3377, 0.9444, 1.3637, 1.2529, 1.3486, 1.1155, 1.115, 0.9681, 1.1415, 0.8703, 0.7755, 1.1865, 1.0925, 0.8728, 0.9627, 1.0065, 0.8251, 0.9941, 0.6172, 0.5252, 0.2198, 0.2116, 0.6545, 0.498, 0.7852, 0.4577, -0.3282, 0.0365, 0.0202, 0.5518, 0.3612, -0.1551, 0.2432, 0.4277, 0.0516, 0.2066, -0.3221, 1.826, 1.8259, 1.8259, 1.8252, 1.8247, 1.8244, 1.8242, 1.8239, 1.8233, 1.8232, 1.8232, 1.8231, 1.8223, 1.8221, 1.822, 1.8218, 1.8213, 1.8208, 1.8203, 1.8202, 1.8201, 1.8198, 1.8197, 1.8191, 1.8189, 1.8187, 1.8178, 1.8177, 1.8176, 1.8171, 1.8092, 1.809, 1.8129, 1.8136, 1.8157, 1.7777, 1.7996, 1.7977, 1.796, 1.7633, 1.7914, 1.7502, 1.7515, 1.7897, 1.6363, 1.5935, 1.6008, 1.5982, 1.543, 1.7031, 1.6256, 1.5549, 1.5378, 1.7011, 1.3584, 1.3727, 0.5173, 0.8502, 1.4824, 1.0632, 1.1818, 0.5613, 1.1195, 1.3006, 0.3426, 0.6036, 0.1226, 0.4893, 0.4995, 0.4531, -0.4507, 0.1777, 0.3826, 0.3961, 0.303, 0.3845, 2.0564, 2.0558, 2.0556, 2.0555, 2.0549, 2.0548, 2.0548, 2.0543, 2.052, 2.052, 2.052, 2.052, 2.052, 2.0515, 2.0513, 2.0506, 2.0506, 2.0504, 2.05, 2.0495, 2.0492, 2.0492, 2.0488, 2.0485, 2.0477, 2.0474, 2.0472, 2.0471, 2.0464, 2.0461, 2.0439, 2.0459, 2.0428, 2.046, 2.0447, 2.0348, 1.9937, 2.028, 2.0048, 2.0263, 1.9557, 1.9117, 2.0023, 2.0033, 1.9861, 1.8313, 1.935, 1.731, 1.9226, 1.6807, 1.6917, 1.9537, 1.7703, 0.8572, 1.4566, 1.3993, 0.9587, 0.714, 1.1941, -0.297, 0.9449, 0.5547, 1.0282, 0.2402, 0.1684, 0.2871, -0.1293, -0.2557, -0.4775, 0.7923, 0.187, 0.0631]}, \"token.table\": {\"Topic\": [1, 1, 2, 3, 4, 5, 1, 2, 3, 4, 5, 1, 2, 3, 4, 5, 3, 1, 2, 3, 4, 5, 1, 2, 3, 4, 5, 5, 1, 2, 3, 4, 5, 1, 3, 2, 4, 1, 2, 3, 4, 5, 3, 1, 2, 3, 4, 1, 2, 5, 5, 5, 2, 1, 2, 1, 2, 3, 5, 5, 1, 2, 3, 4, 5, 4, 1, 3, 1, 2, 3, 4, 5, 2, 3, 1, 2, 3, 4, 5, 1, 2, 3, 4, 5, 1, 2, 3, 4, 5, 1, 4, 5, 1, 2, 3, 4, 5, 1, 2, 3, 4, 5, 5, 1, 2, 3, 4, 5, 1, 2, 3, 4, 5, 1, 1, 2, 3, 4, 5, 1, 2, 3, 4, 5, 2, 1, 2, 3, 4, 5, 1, 2, 3, 4, 5, 1, 2, 3, 4, 5, 1, 2, 4, 5, 2, 1, 2, 3, 4, 5, 1, 2, 3, 4, 5, 1, 2, 3, 4, 5, 1, 2, 3, 4, 5, 1, 2, 3, 4, 5, 1, 2, 3, 4, 5, 1, 2, 3, 4, 5, 1, 2, 3, 4, 5, 1, 2, 3, 4, 5, 1, 2, 3, 4, 5, 1, 2, 3, 4, 5, 2, 5, 1, 2, 3, 4, 5, 2, 1, 2, 3, 4, 5, 1, 3, 5, 1, 2, 3, 4, 1, 2, 3, 4, 5, 1, 2, 3, 4, 5, 1, 5, 1, 2, 3, 4, 5, 1, 2, 3, 4, 5, 1, 2, 3, 4, 5, 2, 1, 2, 3, 4, 5, 1, 3, 4, 5, 2, 1, 2, 3, 4, 5, 1, 2, 3, 4, 5, 5, 2, 1, 2, 3, 4, 5, 1, 2, 4, 1, 2, 3, 4, 5, 1, 2, 3, 4, 5, 1, 2, 3, 4, 5, 1, 3, 4, 5, 1, 2, 3, 4, 5, 2, 3, 4, 5, 1, 3, 5, 1, 2, 3, 4, 5, 3, 4, 1, 2, 5, 1, 2, 3, 4, 5, 3, 1, 2, 3, 4, 5, 1, 2, 3, 4, 5, 1, 2, 3, 4, 5, 1, 3, 5, 1, 3, 1, 2, 3, 4, 5, 2, 1, 2, 3, 4, 5, 4, 1, 4, 1, 1, 2, 3, 4, 5, 1, 3, 4, 5, 1, 2, 3, 4, 5, 2, 3, 4, 5, 1, 2, 3, 4, 5, 1, 2, 3, 4, 5, 1, 2, 3, 4, 5, 2, 3, 4, 1, 2, 3, 4, 5, 1, 1, 2, 3, 4, 5, 1, 2, 3, 4, 5, 1, 2, 4, 1, 2, 3, 4, 5, 1, 1, 2, 3, 4, 5, 1, 2, 3, 4, 5, 1, 2, 3, 4, 5, 2, 3, 4, 5, 2, 4, 1, 2, 3, 4, 5, 1, 2, 3, 4, 5, 2, 1, 2, 3, 4, 5, 1, 2, 3, 4, 5, 1, 2, 3, 4, 5, 1, 2, 3, 4, 5, 2, 5, 1, 2, 3, 5, 1, 2, 3, 4, 5, 3, 1, 2, 3, 4, 5, 1, 2, 3, 4, 5, 1, 2, 3, 4, 5, 1, 2, 3, 4, 5, 1, 2, 3, 4, 5, 1, 3, 4, 5, 3, 3, 3, 1, 2, 3, 4, 5, 1, 2, 3, 4, 5, 1, 1, 2, 3, 4, 5, 3, 3, 2, 1, 2, 3, 4, 5, 1, 2, 3, 4, 5, 1, 2, 3, 4, 5, 1, 1, 2, 3, 4, 5, 1, 2, 3, 4, 5, 1, 2, 3, 4, 5, 3, 1, 2, 3, 4, 5, 3, 1, 2, 3, 4, 5, 1, 2, 3, 4, 5, 2, 1, 2, 3, 4, 5, 3, 1, 2, 3, 4, 5, 1, 2, 3, 4, 5, 1, 2, 3, 4, 5, 1, 3, 4, 3, 1, 2, 3, 4, 5, 1, 2, 4, 5, 3, 5, 1, 2, 3, 4, 5, 3, 5, 1, 2, 3, 4, 5, 1, 2, 4, 5, 1, 5, 5, 2, 1, 2, 3, 4, 5, 1, 2, 3, 4, 5, 1, 3, 4, 1, 2, 3, 4, 5, 1, 3, 4, 5, 4, 5, 2, 3, 1, 2, 3, 4, 5, 1, 2, 3, 4, 5, 1, 2, 3, 4, 5, 1, 2, 3, 4, 5, 1, 2, 3, 5, 1, 2, 3, 4, 5, 1, 2, 3, 4, 5, 1, 4, 1, 2, 3, 4, 5, 1, 2, 3, 4, 5, 1, 2, 3, 4, 5, 1, 2, 3, 4, 5, 1, 2, 3, 4, 5, 1, 2, 3, 4, 5, 1, 2, 3, 4, 5, 4, 4, 1, 2, 3, 4, 5, 1, 2, 3, 4, 5, 1, 2, 3, 4, 5, 1, 5, 1, 2, 3, 4, 5, 1, 2, 3, 4, 5, 2, 2, 1, 2, 3, 4, 5, 1, 2, 3, 4, 5, 5, 1, 2, 4, 5, 1, 1, 2, 3, 4, 5, 1, 2, 3, 4, 5, 5, 1, 2, 3, 4, 5, 1, 2, 3, 4, 5, 1, 2, 3, 4, 5, 1, 3, 4, 5, 1, 2, 1, 3, 5, 1, 2, 3, 4, 5, 4, 5, 1, 2, 3, 4, 5, 1, 2, 4, 5, 1, 2, 3, 4, 5, 1, 2, 3, 4, 5, 3, 5, 1, 2, 3, 4, 5, 2, 1, 2, 3, 4, 5, 1, 2, 3, 4, 5, 1, 2, 3, 4, 5, 1, 2, 3, 4, 5, 1, 2, 4, 5, 1, 1, 1, 2, 2, 5, 1, 2, 3, 4, 5, 1, 2, 3, 4, 5, 1, 3, 4, 5, 3, 1, 2, 3, 4, 5, 1, 2, 3, 4, 5, 1, 2, 3, 4, 5, 3, 1, 2, 3, 4, 5, 1, 3, 4, 1, 2, 3, 4, 5, 1, 2, 3, 4, 5, 4, 4, 3, 4, 3, 1, 2, 3, 5, 1, 1, 2, 3, 1, 2, 3, 4, 5, 1, 2, 3, 4, 5, 2, 1, 3, 4, 5, 1, 2, 3, 4, 5, 1, 2, 3, 4, 5, 1, 2, 3, 4, 5, 1, 2, 3, 4, 5, 1, 5, 5, 1, 2, 3, 4, 5, 1, 2, 3, 4, 5, 1, 1, 2, 3, 5, 1, 2, 3, 4, 5, 1, 2, 3, 4, 5, 2, 1, 3, 1, 2, 3, 4, 5, 1, 2, 3, 4, 5, 1, 2, 3, 4, 5, 1, 2, 3, 4, 5, 1, 2, 3, 4, 5, 1, 2, 3, 1, 2, 3, 4, 5, 1, 2, 3, 4, 5, 1, 2, 3, 4, 5, 3, 4, 1, 2, 3, 4, 5, 1, 4, 5, 1, 2, 3, 4, 5, 1, 2, 3, 4, 5, 1, 2, 3, 4, 5, 1, 3, 5, 1, 2, 3, 4, 5, 5, 1, 1, 2, 3, 4, 5, 1, 2, 3, 4, 5, 1, 2, 3, 4, 5, 1, 2, 3, 4, 5, 1, 3, 3, 4, 1, 1, 2, 3, 4, 5, 1, 2, 3, 4, 5, 1, 2, 3, 5, 3, 3, 1, 2, 3, 4, 5, 1, 2, 3, 4, 5, 1, 2, 3, 5, 3, 1, 4, 1, 2, 3, 4, 5, 3, 1, 2, 3, 4, 5, 2, 3, 4, 5, 1, 3, 3, 4, 5, 3, 4, 1, 2, 3, 4, 5, 3, 4, 2, 1, 2, 3, 4, 5, 1, 2, 3, 4, 5, 1, 2, 3, 5, 1, 2, 3, 4, 5, 1, 4, 1, 2, 3, 4, 5, 1, 2, 3, 4, 5, 1, 2, 3, 4, 5, 1, 2, 3, 4, 5, 1, 2, 3, 4, 5, 1, 3, 4, 2, 1, 2, 3, 4, 5, 1, 2, 3, 4, 5, 2, 3, 5, 2, 1, 2, 3, 4, 5, 1, 2, 3, 4, 5, 3, 4, 3, 5, 1, 2, 3, 4, 5, 5, 2, 5, 3, 1, 2, 3, 4, 5, 1, 2, 3, 4, 5, 1, 2, 3, 4, 5, 1, 3, 5, 1, 2, 3, 4, 5, 4, 1, 2, 3, 4, 5, 3, 1, 2, 3, 4, 5, 1, 2, 3, 4, 5, 3, 4, 1, 2, 3, 4, 5, 1, 2, 3, 4, 5, 3, 4, 1, 2, 3, 4, 5, 1, 2, 3, 4, 5, 1, 2, 3, 4, 5, 2, 2, 5, 1, 1, 1, 2, 3, 4, 5, 1, 2, 3, 4, 5, 1, 2, 3, 4, 5, 1, 2, 3, 4, 5, 1, 2, 3, 4, 5, 1, 2, 3, 4, 5], \"Freq\": [0.9842078143029875, 0.02760150143113058, 0.05075114779272397, 0.005342226083444628, 0.8823576747822711, 0.034724469542390085, 0.2887601743170495, 0.009365194842715118, 0.040192294533319045, 0.11355298746792081, 0.5482541147506141, 0.022709542869853997, 0.0022709542869854, 0.006812862860956199, 0.9628846176818096, 0.0045419085739708, 0.9902088286095146, 0.22291478005761142, 0.6311332044429492, 0.07613961623366974, 0.06329678939907485, 0.006421413417297448, 0.0033860376994326643, 0.010158113098297993, 0.9514765935405787, 0.033860376994326646, 0.0033860376994326643, 0.9970306387219382, 0.1695533592799678, 0.3437229616014064, 0.20261564052293432, 0.23879700490202974, 0.04528908713659185, 0.9900089175131871, 0.00556184785119768, 0.0026727101894856533, 0.9942481904886631, 0.31194164757565274, 0.07611803030922427, 0.03663624823294439, 0.057622060327543606, 0.5178871594870585, 0.9926331998295927, 0.004468678093783204, 0.9697031463509551, 0.004468678093783204, 0.02234339046891602, 0.00932280035163833, 0.9788940369220247, 0.00932280035163833, 0.9946709572098635, 0.9893864809694981, 0.9864642816348694, 0.010394856370576702, 0.9875113552047867, 0.009435225151279033, 0.003774090060511613, 0.03585385557486032, 0.9491836502186707, 0.9965544521675584, 0.027006074306993536, 0.0011615515830964963, 0.0026134910619671162, 0.950439582868708, 0.01858482532954394, 0.9931757922976053, 0.9817516173429289, 0.00755193551802253, 0.47371543412599276, 0.111999863354074, 0.18204207397127437, 0.14735933682990704, 0.08493040997544585, 0.015524911553317594, 0.9780694278590084, 0.002617076489120941, 0.6004483753517916, 0.3739005801413658, 0.01740924794936974, 0.0054617248468610945, 0.001963876857317162, 0.0006546256191057207, 0.003927753714634324, 0.9911031873260612, 0.001963876857317162, 0.01866029844938972, 0.020624540391430742, 0.9064976562519322, 0.02357090330449228, 0.03142787107265637, 0.9869140656673165, 0.005087185905501632, 0.005087185905501632, 0.006089088828484413, 0.9275711982057923, 0.0314602922805028, 0.028415747866260593, 0.007103936966565148, 0.9149549105055842, 0.0196312164706179, 0.046273581680742186, 0.0014022297479012783, 0.01822898672271662, 0.9916851968503039, 0.8893490940594194, 0.01212060094118459, 0.09090450705888443, 0.005302762911768259, 0.0026513814558841295, 0.004815787012309438, 0.002407893506154719, 0.002407893506154719, 0.002407893506154719, 0.9896442310295896, 0.9961835952834578, 0.026669232449319253, 0.005714835524854126, 0.0038098903499027507, 0.017144506574562377, 0.9467577519508336, 0.023577398809758884, 0.8591273215415649, 0.0033091086048784397, 0.10878694538537871, 0.00579094005853727, 0.9873551923211698, 0.0026335855284157603, 0.007900756585247281, 0.0026335855284157603, 0.9678426816927919, 0.0197518914631182, 0.7114219021682487, 0.0652206423827714, 0.04173208935680827, 0.10235384028951244, 0.07928336830446453, 0.7331509018174838, 0.03281570630405768, 0.09324462888835902, 0.04842317637549975, 0.09204405426747886, 0.005025433917004567, 0.0012563584792511418, 0.9937795570876531, 0.0012563584792511418, 0.9947575999142567, 0.005950939710406122, 0.019712487790720278, 0.0022316023914022956, 0.2860170398313942, 0.6862177353562059, 0.6353423477094042, 0.031882821171981435, 0.1848689388923762, 0.11776074271586691, 0.030082984492917964, 0.005987730534713528, 0.0009979550891189215, 0.003991820356475686, 0.001995910178237843, 0.9869775831386133, 0.05896176586735187, 0.41290694503500036, 0.16368040145087479, 0.2695100258932711, 0.09494193362543712, 0.7106321830567935, 0.14020780351068615, 0.026934656990210762, 0.04981066703669113, 0.07231770917919601, 0.015505649688015065, 0.016125875675535667, 0.9377816931311511, 0.0068224858627266285, 0.0241888135133035, 0.009243878929280438, 0.9715977031740116, 0.004291800931451631, 0.013205541327543481, 0.0016506926659429352, 0.989348293733882, 0.002233291859444429, 0.006699875578333287, 0.002233291859444429, 0.002233291859444429, 0.8292787740120203, 0.031396562637492124, 0.1040864304829902, 0.016039548303936196, 0.01876968418545725, 0.22783358430766926, 0.5685036118446373, 0.13372318910365835, 0.026648606805217374, 0.04321395698143358, 0.0021048913476293344, 0.27819647311167706, 0.5439390057498805, 0.09822826288936894, 0.07753016463768049, 0.98002760712523, 0.011136677353695796, 0.013494041384499878, 0.32460666219380263, 0.6139788829947445, 0.027737751734805305, 0.01986622759384704, 0.981881465649116, 0.21173991844851614, 0.6671610569119912, 0.10715791493258238, 0.0046366405499675065, 0.009273281099935013, 0.9746631333705957, 0.014403888670501415, 0.009602592447000943, 0.003233707531526927, 0.003233707531526927, 0.9765796745211319, 0.016168537657634634, 0.004054889579556208, 0.004054889579556208, 0.004054889579556208, 0.004054889579556208, 0.9893930574117148, 0.04008954640139846, 0.002358208611846968, 0.9432834447387872, 0.007074625835540904, 0.009432834447387873, 0.0052825840105831644, 0.993125793989635, 0.002681408921004723, 0.9277674866676342, 0.03753972489406612, 0.008044226763014169, 0.021451271368037785, 0.24577021796973542, 0.3455397175457858, 0.27317170024766474, 0.06323418987214462, 0.07222749687618296, 0.14509623325199106, 0.25675605837004073, 0.49354599981756436, 0.08478761980794954, 0.01982936269702046, 0.9886577716115672, 0.06634954568528544, 0.010759385786803044, 0.0062763083756351085, 0.16677047969544717, 0.7504671586295123, 0.0029276740508855552, 0.008783022152656665, 0.008783022152656665, 0.9778431329957754, 0.9883156492483788, 0.22377956133561505, 0.0039128815887159996, 0.008571073956235048, 0.7516459204228735, 0.012111300155549523, 0.9130642984210844, 0.04976416792342403, 0.019472935274383315, 0.015145616324520356, 0.004327318949862959, 0.9963576678961874, 0.9943404369832349, 0.8853050045791107, 0.012713257245914123, 0.08552554874524046, 0.009246005269755725, 0.00809025461103626, 0.002653628151658709, 0.005307256303317418, 0.9924569287203572, 0.2198449635539684, 0.002122641027417626, 0.693193912668099, 0.047911040333140704, 0.03699460076356434, 0.018981968125764324, 0.24446474101363147, 0.001725633465978575, 0.7075097210512158, 0.02703492430033101, 0.9534402117768921, 0.009188899496693255, 0.004043115778545032, 0.004410671758412762, 0.028669366429682954, 0.9828996636655545, 0.0048900480779380815, 0.0048900480779380815, 0.0048900480779380815, 0.025439202985341504, 0.06630874220769344, 0.040869539222351925, 0.7477457533232348, 0.12010640097997301, 0.05077586325096627, 0.9308908262677149, 0.01692528775032209, 0.0021156609687902612, 0.9790762665146204, 0.003462630140994621, 0.9937748504654562, 0.8757606984691074, 0.0034752408669409024, 0.11815818947599069, 0.0017376204334704512, 0.0017376204334704512, 0.9876170702813531, 0.007425692257754535, 0.9874635244239238, 0.007369130779283014, 0.007369130779283014, 0.0010560978590716022, 0.004827875927184468, 0.0015087112272451461, 0.9809640399547941, 0.011767947572512141, 0.9906994352973673, 0.13999576956733922, 0.5289064311455726, 0.03218293553272166, 0.12873174213088664, 0.17026784330280553, 0.012088392953138287, 0.10140818532910452, 0.026415377193894776, 0.825144748616069, 0.03469816495808212, 0.2792292029263279, 0.0027022180928354313, 0.6932690640396679, 0.012009858190379695, 0.012910597554658171, 0.0007586186998114081, 0.0007586186998114081, 0.9983422089518131, 0.006609499266834502, 0.9914248900251752, 0.06856897060385474, 0.0033448278343343775, 0.9198276544419538, 0.005017241751501566, 0.0016724139171671887, 0.986759196945682, 0.03953141653676898, 0.3479562262631116, 0.2319043502257873, 0.2816551115167021, 0.09895316749746082, 0.9970002884247979, 0.002089979337849984, 0.9969201441544425, 0.9876722362607573, 0.7157255311151091, 0.0410330846078372, 0.19458874401071516, 0.011961061100260238, 0.03660306197811119, 0.9793094658971984, 0.0014213490071076898, 0.012792141063969208, 0.004264047021323069, 0.13292896074128197, 0.06278403683220159, 0.04589729589112668, 0.06494900361951889, 0.6936553586564617, 0.002638842632557665, 0.0013194213162788324, 0.9262337640277403, 0.06992932976277812, 0.008497650600080791, 0.0651486546006194, 0.856689071608145, 0.06420447120061043, 0.005979828200056853, 0.02286891212717443, 0.8461497487054539, 0.02401235773353315, 0.027442694552609313, 0.0800411924451105, 0.005195586819779984, 0.0005772874244199982, 0.0011545748488399963, 0.992357082577977, 0.0005772874244199982, 0.0060508063856521506, 0.9923322472469527, 0.0060508063856521506, 0.44469850525161336, 0.002035233433645828, 0.4372359826615787, 0.0405350658867794, 0.07547323983103278, 0.9931571111089686, 0.02327319559417571, 0.356916273057554, 0.3842804600647684, 0.1289116849708639, 0.10663850949987541, 0.17993644029605396, 0.26049810503412046, 0.15281324371518631, 0.2527651085621284, 0.1540828401508865, 0.9869669822918907, 0.9873173549600693, 0.010074666887347646, 0.7438094025101634, 0.15052535749358936, 0.03589935304240416, 0.04408692478891738, 0.025822341662080184, 0.9885611871447313, 0.22988395855928245, 0.008777387508627148, 0.7118043298662873, 0.025078250024648994, 0.024242308357160694, 0.006963312804540779, 0.0023211042681802593, 0.0023211042681802593, 0.98414820970843, 0.004642208536360519, 0.0057013418550741, 0.14357015398686596, 0.009847772295127991, 0.8163284928856097, 0.024878582640323346, 0.9699301481302898, 0.007404046932292289, 0.007404046932292289, 0.014808093864584577, 0.9860524407631381, 0.010956138230701535, 0.17858924679087074, 0.1651824053179017, 0.05640991789569997, 0.5238786545380926, 0.0761407411955412, 0.004432494782861218, 0.9161266848576844, 0.0012830905950387739, 0.0748858329104448, 0.003149404187822445, 0.9900957899324372, 0.025409507475813792, 0.04102057742827455, 0.09017884025729993, 0.04567068337156074, 0.7976592444858408, 0.01274351564219978, 0.7677968174425367, 0.019115273463299668, 0.01035410645928732, 0.1895597951777217, 0.0012210819177599732, 0.8926108818825403, 0.0012210819177599732, 0.0012210819177599732, 0.10379196300959773, 0.012772560595594309, 0.020755410967840754, 0.031931401488985774, 0.0015965700744492886, 0.9308003534039353, 0.9912772155182168, 0.004405676513414297, 0.0016326784953714336, 0.006530713981485734, 0.0016326784953714336, 0.9910358466904602, 0.035668882331827384, 0.8248724311439817, 0.02503908296141525, 0.05834578765537327, 0.056219827781290845, 0.9852936870719656, 0.017339678372126206, 0.782452986542195, 0.11704282901185188, 0.021674597965157756, 0.06068887430244172, 0.19158280213577425, 0.06403589550839578, 0.16796300461218563, 0.4920791150747626, 0.08424394450079936, 0.006512505496765882, 0.019537516490297644, 0.00868334066235451, 0.019537516490297644, 0.9464841321966415, 0.0028715608195213583, 0.11026793546962016, 0.06374865019337415, 0.7942737226796077, 0.028428452113261445, 0.018829599877320944, 0.6930507567749418, 0.18039971495368773, 0.03279994817339777, 0.07410358661397275, 0.02077519148447902, 0.9722789614736183, 0.004155038296895805, 0.004155038296895805, 0.992922279223121, 0.9958100522237274, 0.9833540765368295, 0.05677655201408682, 0.21348906753264354, 0.26264925281313334, 0.18486999253367295, 0.28226716712694383, 0.007057427705794681, 0.0028229710823178726, 0.9781594800231428, 0.005645942164635745, 0.005645942164635745, 0.9841812090947084, 0.3273610314325365, 0.09642510542532008, 0.09347511361550435, 0.18162263008193852, 0.30111931324372787, 0.9925754722705521, 0.9933657620868702, 0.9871194204099888, 0.38457503387360614, 0.19460995743782403, 0.28080416966889715, 0.027710937796272744, 0.11226888512889929, 0.2768815817294434, 0.14865056502186288, 0.239320852949502, 0.2620820925842296, 0.07306076919789102, 0.08464749797747105, 0.0018010105952653414, 0.8878982234658134, 0.005403031785796025, 0.0216121271431841, 0.9870737524911094, 0.11481598404399589, 0.02870399601099897, 0.8490827207124535, 0.003703741420774061, 0.0027778060655805456, 0.011266482723786877, 0.868543395433752, 0.11471327864219366, 0.00307267710648733, 0.0020484514043248867, 0.004012756632361263, 0.0016051026529445055, 0.0016051026529445055, 0.9249404037592712, 0.06821686275014148, 0.9939339607333627, 0.9575188592799458, 0.028024942222827684, 0.008173941481658075, 0.002335411851902307, 0.0035031177778534605, 0.9984502244137347, 0.06440563771299831, 0.13905150234270766, 0.5950110797920514, 0.07356794600689766, 0.12773335680318496, 0.0024490300158723946, 0.0024490300158723946, 0.004898060031744789, 0.007347090047617183, 0.9845100663807026, 0.99700948373951, 0.01826401816355069, 0.9679929626681867, 0.004566004540887673, 0.004566004540887673, 0.009132009081775345, 0.9949160544909271, 0.0032902592619678353, 0.9640459637565758, 0.009870777785903506, 0.02303181483377485, 0.0032902592619678353, 0.02494865855437123, 0.034304405512260445, 0.1645052173428853, 0.7605442631184105, 0.01598273438639407, 0.5407607103689249, 0.00098230828404891, 0.33644058728675164, 0.06385003846317915, 0.05820176582989791, 0.001383474165042244, 0.8660548273164447, 0.13143004567901317, 0.9913657032665768, 0.011354352819910532, 0.0017468235107554663, 0.004367058776888665, 0.9808414012891944, 0.0017468235107554663, 0.9842838964996995, 0.9854715142432434, 0.006008972647824655, 0.006008972647824655, 0.006264290440715354, 0.9897578896330259, 0.023268389851779057, 0.936552691534107, 0.011634194925889529, 0.023268389851779057, 0.002908548731472382, 0.007746351890356449, 0.9915330419656254, 0.061326159034868044, 0.0011570973402805292, 0.004628389361122117, 0.8805510759534826, 0.053226477652904336, 0.971810437481672, 0.016264609832329236, 0.004066152458082309, 0.008132304916164618, 0.9927044478186148, 0.005454420042959421, 0.9918979077797279, 0.9885770550106662, 0.05187412499505384, 0.006704818876911721, 0.0031759668364318675, 0.9369102167474009, 0.001411540816191941, 0.3310113844366569, 0.209503008007734, 0.10508832556014952, 0.19190408169197176, 0.16251640090632097, 0.9880654462108992, 0.003198807557828989, 0.9948291504848156, 0.04943109320657872, 0.8230277018895357, 0.08279708112101936, 0.017300882622302553, 0.028422878593782765, 0.002218171136102502, 0.002218171136102502, 0.9937406689739211, 0.002218171136102502, 0.9838966453701741, 0.015136871467233448, 0.009420172237530822, 0.9891180849407363, 0.7966538911506731, 0.10961957542233262, 0.010197169806728617, 0.019119693387616155, 0.06373231129205385, 0.0010198633268639352, 0.3447138044800101, 0.02753630982532625, 0.6248362649253043, 0.001699772211439892, 0.24686746472058604, 0.36510520273456176, 0.1307081244451372, 0.12320279927823446, 0.13405665413498616, 0.38825597703430825, 0.5050807588564112, 0.009693971257578758, 0.009942534623157702, 0.08699717795262989, 0.9803551690422933, 0.006165755780140209, 0.006165755780140209, 0.006165755780140209, 0.9444376158234606, 0.022552092165848508, 0.0093508674834006, 0.004400408227482636, 0.01980183702367186, 0.15912401049613983, 0.2702250274461387, 0.2831366293241128, 0.22628475386141245, 0.06118976542170355, 0.003045240370233447, 0.9957936010663372, 0.0006687467528179857, 0.00033437337640899285, 0.00033437337640899285, 0.9907483142998459, 0.00802496103381583, 0.1861743568174428, 0.3981566671954552, 0.11199677960247212, 0.2502884552855247, 0.05356367720118232, 0.10732233584887295, 0.0060748491989928086, 0.8687034354559716, 0.014174648130983219, 0.0030374245994964043, 0.218980865335857, 0.10970639012881199, 0.598310145377704, 0.049346279811877045, 0.02353936323630021, 0.0607814697919374, 0.9150075317326792, 0.011499196987663832, 0.011499196987663832, 0.001642742426809119, 0.0013200273619763706, 0.02508051987755104, 0.0013200273619763706, 0.9715401384146087, 0.0013200273619763706, 0.009578161859722364, 0.9554216455073058, 0.002394540464930591, 0.027537215346701796, 0.004789080929861182, 0.9873783883723444, 0.9971736516262881, 0.0070134706729058525, 0.8808919165169752, 0.03576870043181985, 0.03717139456640102, 0.039275435768272776, 0.004579225387439598, 0.009158450774879196, 0.9776646202183541, 0.006868838081159396, 0.002289612693719799, 0.0041334319448847025, 0.12329725045351198, 0.03437805593184594, 0.11674424858967038, 0.7215359129156053, 0.0012156905183789196, 0.9980819155890929, 0.3573478467704058, 0.11792788872171674, 0.3485148774443377, 0.10553073879039304, 0.07066375460854511, 0.0028026182713481794, 0.02382225530645952, 0.03363141925617815, 0.001868412180898786, 0.9384100178564153, 0.9899427684223691, 0.9775137661584326, 0.9827000175710867, 0.004367555633649274, 0.004367555633649274, 0.004367555633649274, 0.004367555633649274, 0.6524642829314652, 0.0387450277501121, 0.23569478468730165, 0.061168526524824865, 0.01195589204580924, 0.9970306387219382, 0.003327295284811904, 0.001663647642405952, 0.001663647642405952, 0.9915339948739474, 0.98421421966988, 0.13493110004159872, 0.2347130532000389, 0.19956390631688037, 0.20823557084397543, 0.22257272286210586, 0.028759504092248696, 0.0015136581101183523, 0.9551182674846804, 0.0030273162202367047, 0.012109264880946819, 0.9923552027533292, 0.6720065445079674, 0.09709852101800513, 0.04358173726456165, 0.1515425757770776, 0.03576616735997461, 0.15775844340404263, 0.21211802434238577, 0.3261574856300588, 0.2355967369604361, 0.06846994024574284, 0.014358225292607638, 0.0014358225292607637, 0.0014358225292607637, 0.9691802072510155, 0.012922402763346873, 0.979076423496707, 0.01669814069009259, 0.013358512552074073, 0.9684921600253703, 0.010455296988283186, 0.9827979168986194, 0.9804590810789131, 0.0077814212784040725, 0.9970306387219382, 0.004311822774015892, 0.019062795421964995, 0.17451535332727477, 0.7906521339300719, 0.011573840077621604, 0.9887579381164416, 0.007910063504931533, 0.09312919304116016, 0.04049095349615659, 0.06761989233858151, 0.5899531924390016, 0.208933320040168, 0.0037934120558689283, 0.95593983807897, 0.0037934120558689283, 0.034140708502820354, 0.05413964217044129, 0.007519394745894623, 0.9248855537450387, 0.009023273695073547, 0.0030077578983578493, 0.1310884023396484, 0.07477738429113857, 0.27380377601724826, 0.19150305733096465, 0.3287469150848227, 0.9968134144491536, 0.9970306387219382, 0.013153280203983342, 0.041432832642547525, 0.7957734523409922, 0.0861539853360909, 0.0637934089893192, 0.9897419437307036, 0.014718489695936199, 0.8657148030246109, 0.05619786974812003, 0.00802826710687429, 0.05619786974812003, 0.1397790992342868, 0.13281692187778976, 0.21118604648041034, 0.4652162613084948, 0.05087744991286301, 0.32130936823174333, 0.20749368613724772, 0.044674029807622063, 0.3759491431502965, 0.05051601832092649, 0.008815461778468208, 0.00969700795631503, 0.061708232449277464, 0.034380300936026016, 0.8850723625582082, 0.06994684152359651, 0.9041908782318573, 0.0017060205249657685, 0.023884287349520757, 0.9968515487487107, 0.9972803278604029, 0.014056333717877836, 0.9792579156788226, 0.9783307246862845, 0.012383933223877019, 0.0026969849973847047, 0.0026969849973847047, 0.0026969849973847047, 0.005393969994769409, 0.9897934940401867, 0.0825489989784988, 0.015781426275301238, 0.025493073213948156, 0.002427911734661729, 0.8740482244782225, 0.11865607970729519, 0.8750885878413021, 0.0016480011070457666, 0.0032960022140915333, 0.9952469077576462, 0.8474963520855971, 0.007558495893739997, 0.03826488546205874, 0.04346135138900498, 0.06330240311007247, 0.8536488823453824, 0.008072329856693924, 0.10191316444076078, 0.008072329856693924, 0.02825315449842873, 0.05867476618598952, 0.19045251975124466, 0.49825457187446837, 0.16039372559858608, 0.09185967493052458, 0.9951515838013258, 0.18187408377367956, 0.022379464089798507, 0.7298980336799649, 0.027292029377803055, 0.038536345481457915, 0.0013687157552552873, 0.0013687157552552873, 0.9964250698258492, 0.00811157992285666, 0.002027894980714165, 0.002027894980714165, 0.9896127505885125, 0.002027894980714165, 0.05679697993384911, 0.08878608357475262, 0.7442362887883676, 0.03786465328923274, 0.07246511232939369, 0.9871753667923552, 0.9901896430005537, 0.0027698636288187805, 0.997150906374761, 0.9848608222675281, 0.9735233299825031, 0.004795681428485237, 0.01918272571394095, 0.004795681428485237, 0.9790756929024422, 0.011763379581257267, 0.9763605052443531, 0.011763379581257267, 0.017647098047480683, 0.8866686374523072, 0.036078511563738286, 0.04980403226733437, 0.00941178562532303, 0.0008232778865897379, 0.001234916829884607, 0.0037047504896538207, 0.992873131227224, 0.0016465557731794758, 0.9873479719009184, 0.0026891295147888836, 0.970775754838787, 0.0161347770887333, 0.00806738854436665, 0.015900853095271564, 0.009938033184544727, 0.023851279642907345, 0.04770255928581469, 0.9023734131566612, 0.9440793049981341, 0.00431414762375385, 0.002157073811876925, 0.00431414762375385, 0.044939037747435934, 0.010722209333883586, 0.016849186096102777, 0.9251734910950979, 0.04288883733553434, 0.0030634883811095958, 0.7070266068393739, 0.08011632938689789, 0.07260542350687621, 0.052075614101483626, 0.08862868938425579, 0.9942175890575646, 0.005046789792170379, 0.99768014125787, 0.4699680819907447, 0.21722969123127756, 0.12616032067662658, 0.1008168566996442, 0.0859171278780117, 0.009498449231730776, 0.010361944616433574, 0.9766132800988643, 0.0017269907694055955, 0.0017269907694055955, 0.992053606160339, 0.008866047604947995, 0.9841312841492273, 0.008866047604947995, 0.008866047604947995, 0.022691025227214428, 0.06639225899814591, 0.06779293956772706, 0.7964269718638347, 0.046502594910093766, 0.08250709939745443, 0.18793283751642398, 0.6775583011124288, 0.02750236646581814, 0.024585448810352583, 0.9964786222005314, 0.9834239280954684, 0.00954780512714047, 0.3680349876705665, 0.2676207819603261, 0.14185857076368044, 0.0712301519158035, 0.15126064995003255, 0.07335641272766542, 0.77336388311826, 0.08584261063875741, 0.025752783191627222, 0.04136053058049221, 0.411864054630229, 0.40143116780595806, 0.07350015762684599, 0.07960950576718484, 0.033648409757558645, 0.06266637029279075, 0.7943096337111852, 0.02999416014013916, 0.08516199039789511, 0.02785172013012922, 0.1631165382113238, 0.16215828178580036, 0.5425860827186071, 0.08507187599924786, 0.04695456485064869, 0.01302031181237892, 0.9700132300222296, 0.01302031181237892, 0.0032397183716407338, 0.02159812247760489, 0.8639248991041957, 0.0064794367432814675, 0.10475089401638372, 0.4465085429956022, 0.004194931820702764, 0.5186613703116897, 0.026344171834013358, 0.004362729093530874, 0.7688405553987306, 0.007794696875010172, 0.20833098920481732, 0.004251652840914639, 0.009920523295467491, 0.004988536781034318, 0.9927188194258292, 0.2652732066663918, 0.03843060558115677, 0.6216915663925183, 0.015304223461522605, 0.05917633071788741, 0.0037990032976719353, 0.0037990032976719353, 0.9877408573947032, 0.014293340594674275, 0.20464433676819357, 0.7446149814558884, 0.010209528996195911, 0.026317896967971682, 0.36555493139519823, 0.08391869729420204, 0.018436683496453478, 0.11030222712533373, 0.42181860344472005, 0.5926562931275516, 0.1913882257057772, 0.1742834808963237, 0.00970809840536551, 0.031898037617629535, 0.0067686506646551505, 0.9814543463749968, 0.0067686506646551505, 0.005079848100983941, 0.0012699620252459853, 0.0015874525315574817, 0.000952471518934489, 0.9915228512108031, 0.9973122430029221, 0.9842737787190228, 0.004065764092009514, 0.008131528184019028, 0.06156728482185835, 0.022652114226910148, 0.9031804518678278, 0.2835137888180544, 0.4111778925548391, 0.19471999660863126, 0.05102879759753156, 0.05968711343537987, 0.004424523682794404, 0.07106891165488512, 0.0528177514633582, 0.007189850984540907, 0.8644413145259567, 0.35077939736140207, 0.0019364793229730397, 0.5843820356898436, 0.02896814987222935, 0.033908148145119756, 0.9929939960581092, 0.004683933943670326, 0.9934903526501634, 0.9971736516262881, 0.9876116313085388, 0.0025978573187032854, 0.025978573187032856, 0.9618566722498915, 0.005845178967082393, 0.0038967859780549285, 0.6426218977136922, 0.18838411446519282, 0.08463634128146344, 0.03207990355023211, 0.05221516216154801, 0.9620561173782453, 0.019241122347564907, 0.002748731763937844, 0.016492390583627062, 0.9814591476661335, 0.9851941821345143, 0.005106373909200701, 0.005106373909200701, 0.9753174166573338, 0.010212747818401402, 0.0025531869546003504, 0.02527334215995594, 0.011664619458441204, 0.909840317758414, 0.04277027134761775, 0.00972051621536767, 0.0035971991687385324, 0.9604521780531882, 0.021583195012431194, 0.01438879667495413, 0.9919315219793055, 0.0020549027376256276, 0.9966278277484295, 0.24556831249434663, 0.23988122790670544, 0.20746484575715066, 0.21747411463139915, 0.08962845310122516, 0.9862672057757151, 0.04814863610092978, 0.17107356311618233, 0.12256016462054853, 0.6339570419955755, 0.024439080445168904, 0.9732886516716134, 0.011251891926839461, 0.0056259459634197305, 0.011251891926839461, 0.983003918835856, 0.009732712067681743, 0.002065375922476813, 0.995511194633824, 0.002065375922476813, 0.9844347826855931, 0.008635392830575378, 0.0007953566971434882, 0.0003976783485717441, 0.0003976783485717441, 0.0003976783485717441, 0.9981726549150777, 0.00600472118821542, 0.9907789960555443, 0.9785799769020976, 0.12745662737822308, 0.8408715752536463, 0.016252858524739858, 0.00598789524595679, 0.008554136065652557, 0.5128739897865447, 0.15369603905590298, 0.16470399860990684, 0.09789468433560668, 0.07089402882578588, 0.9513397503746646, 0.007961002095185478, 0.037814759952131016, 0.0019902505237963694, 0.2658275920344045, 0.186564019722394, 0.18751442226810155, 0.0991269855172985, 0.2609805390512959, 0.9925804951112169, 0.9959411960440997, 0.0014529529681992974, 0.0014529529681992974, 0.03196496530038454, 0.9633078179161342, 0.0014529529681992974, 0.8935784332478485, 0.08331733643336584, 0.016663467286673166, 0.0020829334108341457, 0.004165866821668291, 0.10970411248114248, 0.40380449913271593, 0.023007853377504044, 0.10603619382675777, 0.3571218980769106, 0.9662364305741559, 0.010777874295305698, 0.007005618291948704, 0.006466724577183419, 0.009161193151009843, 0.45444825748045276, 0.03390067513902819, 0.3945620428075439, 0.07571648588320393, 0.04121844201925894, 0.01163576477458533, 0.9774042410651677, 0.005817882387292665, 0.9848054806241259, 0.811264912964279, 0.030233475017302325, 0.12567640595427634, 0.018377210304634746, 0.014523924273017784, 0.674194023251222, 0.004488488717445828, 0.2897952459109896, 0.012659839972283106, 0.018874670504131174, 0.004197403902182915, 0.004197403902182915, 0.9905873209151679, 0.9872358130877975, 0.05163008248095055, 0.7789021063936505, 0.03293643192750294, 0.0400578226145306, 0.0970289481107519, 0.007695251019174991, 0.9619063773968739, 0.0038476255095874954, 0.011542876528762486, 0.019238127547937477, 0.005896298778636588, 0.9905781948109468, 0.00290077155204427, 0.9949646423511845, 0.0005897504492171411, 0.0011795008984342823, 0.0005897504492171411, 0.0005897504492171411, 0.9972680096261857, 0.9937207150720668, 0.000585663609081149, 0.99914211709244, 0.9921174075026874, 0.02990745323336393, 0.2100971981589338, 0.35920873545410414, 0.26469692594795763, 0.13612680670986643, 0.008169858451750842, 0.006808215376459035, 0.9735747988336421, 0.008169858451750842, 0.0054465723011672285, 0.10678784003954664, 0.01933228138646965, 0.8429488407719385, 0.02055972782370582, 0.01043329471650743, 0.005871113558963416, 0.005871113558963416, 0.986347077905854, 0.01363248209993044, 0.3880300132262019, 0.279465883048574, 0.2359658719842505, 0.08291027749866786, 0.9948702987552134, 0.7779807594350359, 0.14343651331010146, 0.010624926911859367, 0.05135381340732027, 0.017117937802440093, 0.9927348587608075, 0.002418469067907362, 0.9480398746196859, 0.004836938135814724, 0.026603159746980982, 0.019347752543258896, 0.9336621525067768, 0.029568473965593037, 0.005512766332568194, 0.011526693240824405, 0.020046423027520705, 0.010165217137378646, 0.9860260623257285, 0.0029822699028018715, 0.9871313378274195, 0.0029822699028018715, 0.0029822699028018715, 0.0029822699028018715, 0.0021840264335119086, 0.8408501769020849, 0.10155722915830376, 0.021840264335119087, 0.03276039650267863, 0.00666090536708542, 0.9924748996957277, 0.3077519827450348, 0.21124679661198256, 0.08447900359144613, 0.29375429486873916, 0.10271542793732423, 0.29888331869999474, 0.31608320779499444, 0.19540201873499655, 0.1075697981924981, 0.08205192994499855, 0.2029978921501529, 0.3184926372784554, 0.2220509967436203, 0.15724691877448113, 0.09914671094008047, 0.9894533368436097, 0.9900722441904275, 0.009612351885343956, 0.9940295814646662, 0.9873660165400648, 0.9806636220848386, 0.001926647587593003, 0.013486533113151022, 0.001926647587593003, 0.003853295175186006, 0.14017906963267793, 0.23395498874465714, 0.1597099479115392, 0.1329761925369277, 0.333271582545675, 0.0096066749488226, 0.749676448784045, 0.03131064427764403, 0.07649759681469848, 0.13307023817998712, 0.007306076882120095, 0.002435358960706698, 0.002435358960706698, 0.019482871685653585, 0.9717082253219727, 0.20551334363891682, 0.21679875846301921, 0.42124295753965263, 0.08268051281658156, 0.07365218095729967, 0.14619656789842803, 0.5885486832675687, 0.18247696618204529, 0.0716649842639353, 0.011108072560909973], \"Term\": [\"accenture\", \"accident\", \"accident\", \"accident\", \"accident\", \"accident\", \"afford\", \"afford\", \"afford\", \"afford\", \"afford\", \"agency\", \"agency\", \"agency\", \"agency\", \"agency\", \"agrees\", \"ai\", \"ai\", \"ai\", \"ai\", \"ai\", \"aim\", \"aim\", \"aim\", \"aim\", \"aim\", \"aleister\", \"also\", \"also\", \"also\", \"also\", \"also\", \"altcoins\", \"altcoins\", \"animal\", \"animal\", \"anyone\", \"anyone\", \"anyone\", \"anyone\", \"anyone\", \"arabian\", \"artificial\", \"artificial\", \"artificial\", \"artificial\", \"artificialintelligence\", \"artificialintelligence\", \"artificialintelligence\", \"artistically\", \"artistontwitter\", \"asleep\", \"aspiration\", \"aspiration\", \"attendant\", \"attendant\", \"attendant\", \"attendant\", \"aura\", \"autopilot\", \"autopilot\", \"autopilot\", \"autopilot\", \"autopilot\", \"avatar\", \"aws\", \"aws\", \"back\", \"back\", \"back\", \"back\", \"back\", \"bake\", \"bake\", \"battery\", \"battery\", \"battery\", \"battery\", \"battery\", \"beta\", \"beta\", \"beta\", \"beta\", \"beta\", \"bill\", \"bill\", \"bill\", \"bill\", \"bill\", \"blast\", \"blast\", \"blast\", \"bmw\", \"bmw\", \"bmw\", \"bmw\", \"bmw\", \"board\", \"board\", \"board\", \"board\", \"board\", \"bolsonaro\", \"bot\", \"bot\", \"bot\", \"bot\", \"bot\", \"british\", \"british\", \"british\", \"british\", \"british\", \"btcusd\", \"bug\", \"bug\", \"bug\", \"bug\", \"bug\", \"burn\", \"burn\", \"burn\", \"burn\", \"burn\", \"busd\", \"button\", \"button\", \"button\", \"button\", \"button\", \"buy\", \"buy\", \"buy\", \"buy\", \"buy\", \"buying\", \"buying\", \"buying\", \"buying\", \"buying\", \"c\", \"c\", \"c\", \"c\", \"cabin\", \"california\", \"california\", \"california\", \"california\", \"california\", \"call\", \"call\", \"call\", \"call\", \"call\", \"canada\", \"canada\", \"canada\", \"canada\", \"canada\", \"car\", \"car\", \"car\", \"car\", \"car\", \"care\", \"care\", \"care\", \"care\", \"care\", \"cash\", \"cash\", \"cash\", \"cash\", \"cash\", \"catch\", \"catch\", \"catch\", \"catch\", \"catch\", \"cathie\", \"cathie\", \"cathie\", \"cathie\", \"cathie\", \"ceo\", \"ceo\", \"ceo\", \"ceo\", \"ceo\", \"change\", \"change\", \"change\", \"change\", \"change\", \"charge\", \"charge\", \"charge\", \"charge\", \"charge\", \"chevrolet\", \"chevrolet\", \"china\", \"china\", \"china\", \"china\", \"china\", \"civilian\", \"climate\", \"climate\", \"climate\", \"climate\", \"climate\", \"cloud\", \"cloud\", \"cloud\", \"cobalt\", \"cobalt\", \"cobalt\", \"cobalt\", \"cod\", \"cod\", \"cod\", \"cod\", \"cod\", \"collateral\", \"collateral\", \"collateral\", \"collateral\", \"collateral\", \"columbia\", \"columbia\", \"combustion\", \"combustion\", \"combustion\", \"combustion\", \"combustion\", \"come\", \"come\", \"come\", \"come\", \"come\", \"company\", \"company\", \"company\", \"company\", \"company\", \"compartment\", \"condition\", \"condition\", \"condition\", \"condition\", \"condition\", \"conduct\", \"conduct\", \"conduct\", \"conduct\", \"corolla\", \"crash\", \"crash\", \"crash\", \"crash\", \"crash\", \"criticism\", \"criticism\", \"criticism\", \"criticism\", \"criticism\", \"crowleycheck\", \"cryptoforacause\", \"cult\", \"cult\", \"cult\", \"cult\", \"cult\", \"deadly\", \"deadly\", \"deadly\", \"deal\", \"deal\", \"deal\", \"deal\", \"deal\", \"death\", \"death\", \"death\", \"death\", \"death\", \"democrat\", \"democrat\", \"democrat\", \"democrat\", \"democrat\", \"democrats\", \"democrats\", \"democrats\", \"democrats\", \"design\", \"design\", \"design\", \"design\", \"design\", \"device\", \"device\", \"device\", \"device\", \"digitalasset\", \"dim\", \"dim\", \"dip\", \"dip\", \"dip\", \"dip\", \"dip\", \"disconnect\", \"disconnect\", \"donald\", \"donald\", \"donald\", \"door\", \"door\", \"door\", \"door\", \"door\", \"doxed\", \"drive\", \"drive\", \"drive\", \"drive\", \"drive\", \"driver\", \"driver\", \"driver\", \"driver\", \"driver\", \"drop\", \"drop\", \"drop\", \"drop\", \"drop\", \"dual\", \"dual\", \"dual\", \"dubai\", \"dubai\", \"earnings\", \"earnings\", \"earnings\", \"earnings\", \"earnings\", \"ebitda\", \"electric\", \"electric\", \"electric\", \"electric\", \"electric\", \"electricbikegiveaway\", \"electriccargiveaway\", \"electriccargiveaway\", \"ellison\", \"elon\", \"elon\", \"elon\", \"elon\", \"elon\", \"elongate\", \"elongate\", \"elongate\", \"elongate\", \"else\", \"else\", \"else\", \"else\", \"else\", \"emergency\", \"emergency\", \"emergency\", \"emergency\", \"energy\", \"energy\", \"energy\", \"energy\", \"energy\", \"engine\", \"engine\", \"engine\", \"engine\", \"engine\", \"enter\", \"enter\", \"enter\", \"enter\", \"enter\", \"eps\", \"eps\", \"eps\", \"esg\", \"esg\", \"esg\", \"esg\", \"esg\", \"estimating\", \"ev\", \"ev\", \"ev\", \"ev\", \"ev\", \"even\", \"even\", \"even\", \"even\", \"even\", \"explores\", \"extinguish\", \"extinguish\", \"fake\", \"fake\", \"fake\", \"fake\", \"fake\", \"fakefrivolouscases\", \"fall\", \"fall\", \"fall\", \"fall\", \"fall\", \"fatal\", \"fatal\", \"fatal\", \"fatal\", \"fatal\", \"feature\", \"feature\", \"feature\", \"feature\", \"feature\", \"ferrari\", \"ferrari\", \"ferrari\", \"ferrari\", \"fighter\", \"fighter\", \"find\", \"find\", \"find\", \"find\", \"find\", \"fire\", \"fire\", \"fire\", \"fire\", \"fire\", \"fireman\", \"first\", \"first\", \"first\", \"first\", \"first\", \"fix\", \"fix\", \"fix\", \"fix\", \"fix\", \"flame\", \"flame\", \"flame\", \"flame\", \"flame\", \"flight\", \"flight\", \"flight\", \"flight\", \"flight\", \"floki\", \"floki\", \"florida\", \"florida\", \"florida\", \"florida\", \"ford\", \"ford\", \"ford\", \"ford\", \"ford\", \"fortunately\", \"fossil\", \"fossil\", \"fossil\", \"fossil\", \"fossil\", \"free\", \"free\", \"free\", \"free\", \"free\", \"fremont\", \"fremont\", \"fremont\", \"fremont\", \"fremont\", \"fsd\", \"fsd\", \"fsd\", \"fsd\", \"fsd\", \"fuel\", \"fuel\", \"fuel\", \"fuel\", \"fuel\", \"fury\", \"fury\", \"fury\", \"fury\", \"galaxyheroes\", \"galaxyheroescoin\", \"ganfeng\", \"gas\", \"gas\", \"gas\", \"gas\", \"gas\", \"gate\", \"gate\", \"gate\", \"gate\", \"gate\", \"genpact\", \"get\", \"get\", \"get\", \"get\", \"get\", \"ghc\", \"ghcarmy\", \"glove\", \"go\", \"go\", \"go\", \"go\", \"go\", \"good\", \"good\", \"good\", \"good\", \"good\", \"governance\", \"governance\", \"governance\", \"governance\", \"governance\", \"graph\", \"growth\", \"growth\", \"growth\", \"growth\", \"growth\", \"hacker\", \"hacker\", \"hacker\", \"hacker\", \"hacker\", \"handle\", \"handle\", \"handle\", \"handle\", \"handle\", \"harassed\", \"harassment\", \"harassment\", \"harassment\", \"harassment\", \"harassment\", \"heatwave\", \"high\", \"high\", \"high\", \"high\", \"high\", \"highlight\", \"highlight\", \"highlight\", \"highlight\", \"highlight\", \"hohoho\", \"host\", \"host\", \"host\", \"host\", \"host\", \"ikea\", \"import\", \"import\", \"import\", \"import\", \"import\", \"include\", \"include\", \"include\", \"include\", \"include\", \"index\", \"index\", \"index\", \"index\", \"index\", \"indonesia\", \"indonesia\", \"indonesia\", \"inexpensive\", \"information\", \"information\", \"information\", \"information\", \"information\", \"infosys\", \"initiate\", \"initiate\", \"initiate\", \"inspired\", \"inspired\", \"intelligence\", \"intelligence\", \"intelligence\", \"intelligence\", \"intelligence\", \"intuitive\", \"intuitive\", \"investigation\", \"investigation\", \"investigation\", \"investigation\", \"investigation\", \"james\", \"james\", \"james\", \"james\", \"jeremy\", \"jeremy\", \"jonathan\", \"kate\", \"kill\", \"kill\", \"kill\", \"kill\", \"kill\", \"know\", \"know\", \"know\", \"know\", \"know\", \"larry\", \"latch\", \"latch\", \"later\", \"later\", \"later\", \"later\", \"later\", \"lesson\", \"lesson\", \"lesson\", \"lesson\", \"lever\", \"lever\", \"lfp\", \"lfp\", \"liberal\", \"liberal\", \"liberal\", \"liberal\", \"liberal\", \"lock\", \"lock\", \"lock\", \"lock\", \"lock\", \"look\", \"look\", \"look\", \"look\", \"look\", \"love\", \"love\", \"love\", \"love\", \"love\", \"lunatic\", \"lunatic\", \"lunatic\", \"lunatic\", \"maga\", \"maga\", \"maga\", \"maga\", \"maga\", \"make\", \"make\", \"make\", \"make\", \"make\", \"manslaughter\", \"manslaughter\", \"manual\", \"manual\", \"manual\", \"manual\", \"manual\", \"many\", \"many\", \"many\", \"many\", \"many\", \"margin\", \"margin\", \"margin\", \"margin\", \"margin\", \"market\", \"market\", \"market\", \"market\", \"market\", \"mass\", \"mass\", \"mass\", \"mass\", \"mass\", \"mechanical\", \"mechanical\", \"mechanical\", \"mechanical\", \"mechanical\", \"mercedes\", \"mercedes\", \"mercedes\", \"mercedes\", \"mercedes\", \"metaphor\", \"miku\", \"mile\", \"mile\", \"mile\", \"mile\", \"mile\", \"mining\", \"mining\", \"mining\", \"mining\", \"mining\", \"model\", \"model\", \"model\", \"model\", \"model\", \"modely\", \"modely\", \"money\", \"money\", \"money\", \"money\", \"money\", \"motor\", \"motor\", \"motor\", \"motor\", \"motor\", \"mtesla\", \"mullen\", \"murder\", \"murder\", \"murder\", \"murder\", \"murder\", \"musk\", \"musk\", \"musk\", \"musk\", \"musk\", \"mysterical\", \"nail\", \"nail\", \"nail\", \"nail\", \"nasscom\", \"need\", \"need\", \"need\", \"need\", \"need\", \"net\", \"net\", \"net\", \"net\", \"net\", \"neuron\", \"never\", \"never\", \"never\", \"never\", \"never\", \"new\", \"new\", \"new\", \"new\", \"new\", \"nhtsa\", \"nhtsa\", \"nhtsa\", \"nhtsa\", \"nhtsa\", \"nonfungible\", \"norway\", \"norway\", \"norway\", \"notorious\", \"notorious\", \"nyse\", \"nyse\", \"occultism\", \"open\", \"open\", \"open\", \"open\", \"open\", \"opener\", \"opener\", \"order\", \"order\", \"order\", \"order\", \"order\", \"overheat\", \"overheat\", \"overheat\", \"overheat\", \"overvalue\", \"overvalue\", \"overvalue\", \"overvalue\", \"overvalue\", \"owner\", \"owner\", \"owner\", \"owner\", \"owner\", \"ozworld\", \"paganism\", \"panel\", \"panel\", \"panel\", \"panel\", \"panel\", \"papa\", \"park\", \"park\", \"park\", \"park\", \"park\", \"pay\", \"pay\", \"pay\", \"pay\", \"pay\", \"people\", \"people\", \"people\", \"people\", \"people\", \"performance\", \"performance\", \"performance\", \"performance\", \"performance\", \"photo\", \"photo\", \"photo\", \"photo\", \"photoshop\", \"photoshopped\", \"pinto\", \"pinto\", \"pizza\", \"pizza\", \"plaid\", \"plaid\", \"plaid\", \"plaid\", \"plaid\", \"player\", \"player\", \"player\", \"player\", \"player\", \"plummet\", \"plummet\", \"plummet\", \"plummet\", \"plummeting\", \"political\", \"political\", \"political\", \"political\", \"political\", \"politics\", \"politics\", \"politics\", \"politics\", \"politics\", \"power\", \"power\", \"power\", \"power\", \"power\", \"powerwalls\", \"price\", \"price\", \"price\", \"price\", \"price\", \"prize\", \"prize\", \"prize\", \"probe\", \"probe\", \"probe\", \"probe\", \"probe\", \"profit\", \"profit\", \"profit\", \"profit\", \"profit\", \"prone\", \"pst\", \"psychopath\", \"psychopath\", \"purifier\", \"rally\", \"rally\", \"rally\", \"rally\", \"rarible\", \"reassign\", \"reassign\", \"reassign\", \"recall\", \"recall\", \"recall\", \"recall\", \"recall\", \"release\", \"release\", \"release\", \"release\", \"release\", \"relinquish\", \"renewable\", \"renewable\", \"renewable\", \"renewable\", \"repair\", \"repair\", \"repair\", \"repair\", \"repair\", \"republican\", \"republican\", \"republican\", \"republican\", \"republican\", \"revenue\", \"revenue\", \"revenue\", \"revenue\", \"revenue\", \"rich\", \"rich\", \"rich\", \"rich\", \"rich\", \"richard\", \"richard\", \"rickman\", \"right\", \"right\", \"right\", \"right\", \"right\", \"rise\", \"rise\", \"rise\", \"rise\", \"rise\", \"roast\", \"safest\", \"safest\", \"safest\", \"safest\", \"safety\", \"safety\", \"safety\", \"safety\", \"safety\", \"sale\", \"sale\", \"sale\", \"sale\", \"sale\", \"santafloki\", \"sap\", \"sap\", \"say\", \"say\", \"say\", \"say\", \"say\", \"second\", \"second\", \"second\", \"second\", \"second\", \"see\", \"see\", \"see\", \"see\", \"see\", \"self\", \"self\", \"self\", \"self\", \"self\", \"sell\", \"sell\", \"sell\", \"sell\", \"sell\", \"settlement\", \"settlement\", \"settlement\", \"shanghai\", \"shanghai\", \"shanghai\", \"shanghai\", \"shanghai\", \"share\", \"share\", \"share\", \"share\", \"share\", \"shareholder\", \"shareholder\", \"shareholder\", \"shareholder\", \"shareholder\", \"shibaswap\", \"shibaswap\", \"short\", \"short\", \"short\", \"short\", \"short\", \"snow\", \"snow\", \"snow\", \"solar\", \"solar\", \"solar\", \"solar\", \"solar\", \"someone\", \"someone\", \"someone\", \"someone\", \"someone\", \"spacex\", \"spacex\", \"spacex\", \"spacex\", \"spacex\", \"spain\", \"spain\", \"spain\", \"spot\", \"spot\", \"spot\", \"spot\", \"spot\", \"spritual\", \"srinivas\", \"standard\", \"standard\", \"standard\", \"standard\", \"standard\", \"start\", \"start\", \"start\", \"start\", \"start\", \"state\", \"state\", \"state\", \"state\", \"state\", \"stock\", \"stock\", \"stock\", \"stock\", \"stock\", \"stor\", \"stor\", \"streetfighters\", \"sunra\", \"supercar\", \"supercharger\", \"supercharger\", \"supercharger\", \"supercharger\", \"supercharger\", \"support\", \"support\", \"support\", \"support\", \"support\", \"supporter\", \"supporter\", \"supporter\", \"supporter\", \"surge\", \"surprisingly\", \"sustainability\", \"sustainability\", \"sustainability\", \"sustainability\", \"sustainability\", \"sustainable\", \"sustainable\", \"sustainable\", \"sustainable\", \"sustainable\", \"swap\", \"swap\", \"swap\", \"swap\", \"sweden\", \"t\", \"t\", \"take\", \"take\", \"take\", \"take\", \"take\", \"tarpenning\", \"tax\", \"tax\", \"tax\", \"tax\", \"tax\", \"taxi\", \"taxi\", \"taxi\", \"taxi\", \"tc\", \"tc\", \"teach\", \"teach\", \"teach\", \"technological\", \"technological\", \"teslaradar\", \"teslaradar\", \"teslaradar\", \"teslaradar\", \"teslaradar\", \"tester\", \"tester\", \"tg\", \"thank\", \"thank\", \"thank\", \"thank\", \"thank\", \"think\", \"think\", \"think\", \"think\", \"think\", \"threaten\", \"threaten\", \"threaten\", \"threaten\", \"time\", \"time\", \"time\", \"time\", \"time\", \"tobias\", \"torture\", \"trial\", \"trial\", \"trial\", \"trial\", \"trial\", \"troll\", \"troll\", \"troll\", \"troll\", \"troll\", \"truck\", \"truck\", \"truck\", \"truck\", \"truck\", \"trump\", \"trump\", \"trump\", \"trump\", \"trump\", \"tsla\", \"tsla\", \"tsla\", \"tsla\", \"tsla\", \"tumble\", \"tumble\", \"tumble\", \"tutorial\", \"tweet\", \"tweet\", \"tweet\", \"tweet\", \"tweet\", \"twitter\", \"twitter\", \"twitter\", \"twitter\", \"twitter\", \"ubuntu\", \"ubuntu\", \"ubuntu\", \"unethical\", \"union\", \"union\", \"union\", \"union\", \"union\", \"unionize\", \"unionize\", \"unionize\", \"unionize\", \"unionize\", \"uniswap\", \"uniswap\", \"unite\", \"unite\", \"united\", \"united\", \"united\", \"united\", \"united\", \"unitedkingdom\", \"unitedstates\", \"unitedstates\", \"unsecured\", \"use\", \"use\", \"use\", \"use\", \"use\", \"valuation\", \"valuation\", \"valuation\", \"valuation\", \"valuation\", \"value\", \"value\", \"value\", \"value\", \"value\", \"vancouver\", \"vancouver\", \"vancouver\", \"vehicle\", \"vehicle\", \"vehicle\", \"vehicle\", \"vehicle\", \"vehicular\", \"view\", \"view\", \"view\", \"view\", \"view\", \"vip\", \"volvo\", \"volvo\", \"volvo\", \"volvo\", \"volvo\", \"vote\", \"vote\", \"vote\", \"vote\", \"vote\", \"voxel\", \"voxel\", \"vulnerable\", \"vulnerable\", \"vulnerable\", \"vulnerable\", \"vulnerable\", \"vw\", \"vw\", \"vw\", \"vw\", \"vw\", \"vxl\", \"vxl\", \"want\", \"want\", \"want\", \"want\", \"want\", \"way\", \"way\", \"way\", \"way\", \"way\", \"well\", \"well\", \"well\", \"well\", \"well\", \"westinghouse\", \"windshield\", \"windshield\", \"winning\", \"wipro\", \"wood\", \"wood\", \"wood\", \"wood\", \"wood\", \"work\", \"work\", \"work\", \"work\", \"work\", \"worker\", \"worker\", \"worker\", \"worker\", \"worker\", \"working\", \"working\", \"working\", \"working\", \"working\", \"world\", \"world\", \"world\", \"world\", \"world\", \"year\", \"year\", \"year\", \"year\", \"year\"]}, \"R\": 30, \"lambda.step\": 0.01, \"plot.opts\": {\"xlab\": \"PC1\", \"ylab\": \"PC2\"}, \"topic.order\": [1, 2, 4, 5, 3]};\n",
       "\n",
       "function LDAvis_load_lib(url, callback){\n",
       "  var s = document.createElement('script');\n",
       "  s.src = url;\n",
       "  s.async = true;\n",
       "  s.onreadystatechange = s.onload = callback;\n",
       "  s.onerror = function(){console.warn(\"failed to load library \" + url);};\n",
       "  document.getElementsByTagName(\"head\")[0].appendChild(s);\n",
       "}\n",
       "\n",
       "if(typeof(LDAvis) !== \"undefined\"){\n",
       "   // already loaded: just create the visualization\n",
       "   !function(LDAvis){\n",
       "       new LDAvis(\"#\" + \"ldavis_el15175567491683837456641\", ldavis_el15175567491683837456641_data);\n",
       "   }(LDAvis);\n",
       "}else if(typeof define === \"function\" && define.amd){\n",
       "   // require.js is available: use it to load d3/LDAvis\n",
       "   require.config({paths: {d3: \"https://d3js.org/d3.v5\"}});\n",
       "   require([\"d3\"], function(d3){\n",
       "      window.d3 = d3;\n",
       "      LDAvis_load_lib(\"https://cdn.jsdelivr.net/gh/bmabey/pyLDAvis@3.3.1/pyLDAvis/js/ldavis.v3.0.0.js\", function(){\n",
       "        new LDAvis(\"#\" + \"ldavis_el15175567491683837456641\", ldavis_el15175567491683837456641_data);\n",
       "      });\n",
       "    });\n",
       "}else{\n",
       "    // require.js not available: dynamically load d3 & LDAvis\n",
       "    LDAvis_load_lib(\"https://d3js.org/d3.v5.js\", function(){\n",
       "         LDAvis_load_lib(\"https://cdn.jsdelivr.net/gh/bmabey/pyLDAvis@3.3.1/pyLDAvis/js/ldavis.v3.0.0.js\", function(){\n",
       "                 new LDAvis(\"#\" + \"ldavis_el15175567491683837456641\", ldavis_el15175567491683837456641_data);\n",
       "            })\n",
       "         });\n",
       "}\n",
       "</script>"
      ],
      "text/plain": [
       "PreparedData(topic_coordinates=              x         y  topics  cluster       Freq\n",
       "topic                                                \n",
       "0      0.109275  0.030929       1        1  25.297912\n",
       "1     -0.027695 -0.047618       2        1  23.130874\n",
       "3      0.106602 -0.050555       3        1  22.726119\n",
       "4     -0.121650 -0.093700       4        1  16.066342\n",
       "2     -0.066532  0.160945       5        1  12.778754, topic_info=          Term          Freq         Total Category  logprob  loglift\n",
       "79         car  63006.000000  63006.000000  Default  30.0000  30.0000\n",
       "151      stock  25303.000000  25303.000000  Default  29.0000  29.0000\n",
       "163      model   9919.000000   9919.000000  Default  28.0000  28.0000\n",
       "1443      door   6628.000000   6628.000000  Default  27.0000  27.0000\n",
       "144        buy  26310.000000  26310.000000  Default  26.0000  26.0000\n",
       "...        ...           ...           ...      ...      ...      ...\n",
       "116   electric   1985.010769  20059.994543   Topic5  -5.1251  -0.2557\n",
       "144        buy   2085.594995  26310.688416   Topic5  -5.0757  -0.4775\n",
       "119        gas   1222.810207   4332.774557   Topic5  -5.6096   0.7923\n",
       "19        even   1334.878294   8664.170512   Topic5  -5.5219   0.1870\n",
       "77         use   1278.828743   9395.651238   Topic5  -5.5648   0.0631\n",
       "\n",
       "[466 rows x 6 columns], token_table=      Topic      Freq       Term\n",
       "term                            \n",
       "1467      1  0.984208  accenture\n",
       "1605      1  0.027602   accident\n",
       "1605      2  0.050751   accident\n",
       "1605      3  0.005342   accident\n",
       "1605      4  0.882358   accident\n",
       "...     ...       ...        ...\n",
       "352       1  0.146197       year\n",
       "352       2  0.588549       year\n",
       "352       3  0.182477       year\n",
       "352       4  0.071665       year\n",
       "352       5  0.011108       year\n",
       "\n",
       "[1370 rows x 3 columns], R=30, lambda_step=0.01, plot_opts={'xlab': 'PC1', 'ylab': 'PC2'}, topic_order=[1, 2, 4, 5, 3])"
      ]
     },
     "execution_count": 115,
     "metadata": {},
     "output_type": "execute_result"
    }
   ],
   "source": [
    "#Creating Topic Distance Visualization \n",
    "pyLDAvis.enable_notebook()\n",
    "gensimvis.prepare(base_model, corpus, id2word)"
   ]
  },
  {
   "cell_type": "code",
   "execution_count": null,
   "id": "83755606",
   "metadata": {},
   "outputs": [],
   "source": []
  },
  {
   "cell_type": "code",
   "execution_count": null,
   "id": "eab11910",
   "metadata": {},
   "outputs": [],
   "source": []
  },
  {
   "cell_type": "code",
   "execution_count": null,
   "id": "71f9d81f",
   "metadata": {},
   "outputs": [],
   "source": []
  },
  {
   "cell_type": "code",
   "execution_count": null,
   "id": "cec6b599",
   "metadata": {},
   "outputs": [],
   "source": []
  },
  {
   "cell_type": "code",
   "execution_count": null,
   "id": "69f967f6",
   "metadata": {},
   "outputs": [],
   "source": []
  },
  {
   "cell_type": "markdown",
   "id": "d9371986",
   "metadata": {},
   "source": [
    "# Grid Search is below =================================="
   ]
  },
  {
   "cell_type": "markdown",
   "id": "43c0b589",
   "metadata": {},
   "source": [
    "# ===================================================================="
   ]
  },
  {
   "cell_type": "markdown",
   "id": "015cd772",
   "metadata": {},
   "source": [
    "#### Attempting a GridSearch on the LDA model"
   ]
  },
  {
   "cell_type": "code",
   "execution_count": 92,
   "id": "f927fdbd",
   "metadata": {},
   "outputs": [],
   "source": [
    "df2 = df.drop('tokens')"
   ]
  },
  {
   "cell_type": "code",
   "execution_count": 94,
   "id": "1d1f5ecc",
   "metadata": {},
   "outputs": [
    {
     "data": {
      "text/plain": [
       "0         solar grid run computer radio fridge entire ya...\n",
       "1                boycott teslastock elonsproblems vote blue\n",
       "2         never survive carbon offset implement democrat...\n",
       "3                            funny fanbase take profit sell\n",
       "4         right nonsense position find sort hard believe...\n",
       "                                ...                        \n",
       "237654    yes beg borrow steal invest world valuable com...\n",
       "237655    owh rethink thesis always think regulation bui...\n",
       "237656    overused example elon musk alienate almost yea...\n",
       "237657    found spacex successful also arguably innovati...\n",
       "237658               want ev table musk show world year old\n",
       "Name: tweets, Length: 237659, dtype: object"
      ]
     },
     "execution_count": 94,
     "metadata": {},
     "output_type": "execute_result"
    }
   ],
   "source": [
    "df2"
   ]
  },
  {
   "cell_type": "code",
   "execution_count": 91,
   "id": "d5f3ce22",
   "metadata": {},
   "outputs": [],
   "source": [
    "vectorizer = CountVectorizer()\n",
    "data_vectorized = vectorizer.fit_transform(df.drop('tokens'))"
   ]
  },
  {
   "cell_type": "code",
   "execution_count": null,
   "id": "5e8f60ef",
   "metadata": {},
   "outputs": [],
   "source": [
    "# CV Param\n",
    "search_params = {'n_components': [5, 10, 15, 20, 25, 30], 'learning_decay': [.5, .7, .9], 'batch_size':[128, 256]}\n",
    "\n",
    "# Init Model\n",
    "lda = LatentDirichletAllocation()\n",
    "\n",
    "# Init Grid Search Class\n",
    "model = GridSearchCV(lda, cv = 5, param_grid=search_params, n_jobs = -1)\n",
    "\n",
    "# Grid Search\n",
    "model.fit(data_vectorized)"
   ]
  },
  {
   "cell_type": "code",
   "execution_count": null,
   "id": "17943d22",
   "metadata": {},
   "outputs": [],
   "source": [
    "# Best Model\n",
    "best_lda_model = model.best_estimator_\n",
    "\n",
    "# Model Parameters\n",
    "print(\"Best Model's Params: \", model.best_params_)\n",
    "\n",
    "# Log Likelihood Score\n",
    "print(\"Best Log Likelihood Score: \", model.best_score_)\n",
    "\n",
    "# Perplexity\n",
    "print(\"Model Perplexity: \", best_lda_model.perplexity(data_vectorized))"
   ]
  },
  {
   "cell_type": "code",
   "execution_count": null,
   "id": "89ae218b",
   "metadata": {},
   "outputs": [],
   "source": [
    "best_lda_model"
   ]
  },
  {
   "cell_type": "code",
   "execution_count": null,
   "id": "781cbc82",
   "metadata": {},
   "outputs": [],
   "source": []
  },
  {
   "cell_type": "code",
   "execution_count": null,
   "id": "c281666e",
   "metadata": {},
   "outputs": [],
   "source": []
  },
  {
   "cell_type": "code",
   "execution_count": null,
   "id": "f296d2a9",
   "metadata": {},
   "outputs": [],
   "source": []
  },
  {
   "cell_type": "code",
   "execution_count": 397,
   "id": "608e2df3",
   "metadata": {},
   "outputs": [
    {
     "data": {
      "text/plain": [
       "18507"
      ]
     },
     "execution_count": 397,
     "metadata": {},
     "output_type": "execute_result"
    }
   ],
   "source": [
    "id2word.keys()"
   ]
  },
  {
   "cell_type": "code",
   "execution_count": null,
   "id": "05dd932d",
   "metadata": {},
   "outputs": [],
   "source": []
  },
  {
   "cell_type": "code",
   "execution_count": null,
   "id": "aa8ad2e2",
   "metadata": {},
   "outputs": [],
   "source": []
  },
  {
   "cell_type": "code",
   "execution_count": null,
   "id": "d3370ac4",
   "metadata": {},
   "outputs": [],
   "source": []
  },
  {
   "cell_type": "code",
   "execution_count": null,
   "id": "b6b997f1",
   "metadata": {},
   "outputs": [],
   "source": []
  },
  {
   "cell_type": "code",
   "execution_count": null,
   "id": "4d366e92",
   "metadata": {},
   "outputs": [],
   "source": []
  },
  {
   "cell_type": "code",
   "execution_count": null,
   "id": "574a7403",
   "metadata": {},
   "outputs": [],
   "source": []
  },
  {
   "cell_type": "code",
   "execution_count": null,
   "id": "526be163",
   "metadata": {},
   "outputs": [],
   "source": []
  },
  {
   "cell_type": "code",
   "execution_count": null,
   "id": "aad78c85",
   "metadata": {},
   "outputs": [],
   "source": [
    "GridSearchCV(cv=None, error_score='raise',\n",
    "             estimator=LatentDirichletAllocation(batch_size=128, \n",
    "                                                 doc_topic_prior=None,\n",
    "                                                 evaluate_every=-1, \n",
    "                                                 learning_decay=0.7, \n",
    "                                                 learning_method=None,\n",
    "                                                 learning_offset=10.0, \n",
    "                                                 max_doc_update_iter=100, \n",
    "                                                 max_iter=10,\n",
    "                                                 mean_change_tol=0.001, \n",
    "                                                 n_components=10, \n",
    "                                                 n_jobs=1,\n",
    "                                                 perp_tol=0.1, \n",
    "                                                 random_state=None,\n",
    "                                                 topic_word_prior=None, \n",
    "                                                 total_samples=1000000.0, \n",
    "                                                 verbose=0),\n",
    "             n_jobs=-2,\n",
    "             param_grid={'n_topics': [10, 15, 20, 30], \n",
    "                         'learning_decay': [0.5, 0.7, 0.9]},\n",
    "             pre_dispatch='2*n_jobs', refit=True, return_train_score='warn',\n",
    "             scoring=None, verbose=0)"
   ]
  },
  {
   "cell_type": "code",
   "execution_count": null,
   "id": "b34e5370",
   "metadata": {},
   "outputs": [],
   "source": []
  },
  {
   "cell_type": "code",
   "execution_count": null,
   "id": "d45201fd",
   "metadata": {},
   "outputs": [],
   "source": []
  },
  {
   "cell_type": "code",
   "execution_count": null,
   "id": "57d0fb66",
   "metadata": {},
   "outputs": [],
   "source": []
  },
  {
   "cell_type": "code",
   "execution_count": null,
   "id": "843739e5",
   "metadata": {},
   "outputs": [],
   "source": []
  },
  {
   "cell_type": "code",
   "execution_count": null,
   "id": "51d69f71",
   "metadata": {},
   "outputs": [],
   "source": []
  },
  {
   "cell_type": "code",
   "execution_count": null,
   "id": "5fa5e729",
   "metadata": {},
   "outputs": [],
   "source": []
  },
  {
   "cell_type": "code",
   "execution_count": null,
   "id": "ec277e1a",
   "metadata": {},
   "outputs": [],
   "source": []
  },
  {
   "cell_type": "code",
   "execution_count": null,
   "id": "d5308d92",
   "metadata": {},
   "outputs": [],
   "source": []
  },
  {
   "cell_type": "code",
   "execution_count": null,
   "id": "af47192f",
   "metadata": {},
   "outputs": [],
   "source": []
  },
  {
   "cell_type": "code",
   "execution_count": null,
   "id": "98d7e43d",
   "metadata": {},
   "outputs": [],
   "source": []
  },
  {
   "cell_type": "code",
   "execution_count": null,
   "id": "41b96b84",
   "metadata": {},
   "outputs": [],
   "source": []
  },
  {
   "cell_type": "code",
   "execution_count": null,
   "id": "509154d1",
   "metadata": {},
   "outputs": [],
   "source": []
  }
 ],
 "metadata": {
  "kernelspec": {
   "display_name": "broke-the-other",
   "language": "python",
   "name": "broke-the-other"
  },
  "language_info": {
   "codemirror_mode": {
    "name": "ipython",
    "version": 3
   },
   "file_extension": ".py",
   "mimetype": "text/x-python",
   "name": "python",
   "nbconvert_exporter": "python",
   "pygments_lexer": "ipython3",
   "version": "3.10.4"
  }
 },
 "nbformat": 4,
 "nbformat_minor": 5
}
