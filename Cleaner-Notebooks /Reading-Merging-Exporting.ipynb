{
 "cells": [
  {
   "cell_type": "code",
   "execution_count": 253,
   "id": "279828db",
   "metadata": {},
   "outputs": [],
   "source": [
    "import pandas as pd\n",
    "import regex as re\n",
    "import nltk\n",
    "from nltk import pos_tag\n",
    "from nltk.corpus import stopwords\n",
    "from nltk.corpus import wordnet\n",
    "from nltk.tokenize import word_tokenize\n",
    "from nltk.stem.porter import PorterStemmer\n",
    "from nltk.stem.wordnet import WordNetLemmatizer\n",
    "\n",
    "\n",
    "import gensim \n",
    "import gensim.corpora as corpora\n",
    "from gensim.corpora import Dictionary\n",
    "from gensim.parsing import preprocess_string, preprocess_documents, preprocessing\n",
    "from gensim.models.ldamulticore import LdaMulticore\n",
    "from gensim.models.coherencemodel import CoherenceModel\n",
    "\n",
    "import pyLDAvis\n",
    "import pyLDAvis.gensim_models as gensimvis\n",
    "\n",
    "\n",
    "import spacy\n",
    "from spacy.lang.en.examples import sentences \n",
    "\n",
    "import tqdm\n",
    "\n",
    "import warnings\n",
    "warnings.filterwarnings(\"ignore\", category=DeprecationWarning) "
   ]
  },
  {
   "cell_type": "code",
   "execution_count": 44,
   "id": "705e35a7",
   "metadata": {},
   "outputs": [],
   "source": [
    "tesla_1 = pd.read_csv('../Data/Raw-Queried/Tesla-general-10K')\n",
    "tesla_2 = pd.read_csv('../Data/Raw-Queried/Tesla-General-20K')\n",
    "tesla_3 = pd.read_csv('../Data/Raw-Queried/Tesla-General-6K')\n",
    "tesla_4 = pd.read_csv('../Data/Raw-Queried/Tesla-General-15K')\n",
    "tesla_5 = pd.read_csv('../Data/Raw-Queried/ElectricCars-General-10k')\n",
    "tesla_6 = pd.read_csv('../Data/Raw-Queried/Tesla-AI-1K')\n",
    "tesla_7 = pd.read_csv('../Data/Raw-Queried/Tesla-AutoPilot-1k')\n",
    "tesla_8 = pd.read_csv('../Data/Raw-Queried/Tesla-Batteries-1k')\n",
    "tesla_9 = pd.read_csv('../Data/Raw-Queried/Tesla-Batterys-1K')\n",
    "tesla_10 = pd.read_csv('../Data/Raw-Queried/Tesla-bot-1.5k')\n",
    "tesla_11 = pd.read_csv('../Data/Raw-Queried/Tesla-Cars-1K')\n",
    "tesla_12 = pd.read_csv('../Data/Raw-Queried/Tesla-cars-6K')\n",
    "tesla_13 = pd.read_csv('../Data/Raw-Queried/Tesla-Production-1K')\n",
    "tesla_14 = pd.read_csv('../Data/Raw-Queried/Tesla-solar-1K')\n",
    "tesla_15 = pd.read_csv('../Data/Raw-Queried/Tesla-stock-10k')\n",
    "tesla_16 = pd.read_csv('../Data/Raw-Queried/Tesla-truck-.5k')\n",
    "tesla_17 = pd.read_csv('../Data/Raw-Queried/Tesla-workers-1K')\n",
    "tesla_18 = pd.read_csv('../Data/Raw-Queried/Tesla-working_conds-.2K')\n",
    "tesla_19 = pd.read_csv('../Data/Raw-Queried/Tesla-Cars-7k')\n",
    "tesla_20 = pd.read_csv('../Data/Raw-Queried/Tesla-Environment-1k')\n",
    "tesla_21 = pd.read_csv('../Data/Raw-Queried/Tesla-FSD-1k')\n",
    "tesla_22 = pd.read_csv('../Data/Raw-Queried/Tesla-General-15k-2')\n",
    "tesla_23 = pd.read_csv('../Data/Raw-Queried/Tesla-General-15k-3')\n",
    "tesla_24 = pd.read_csv('../Data/Raw-Queried/Tesla-General-15k-4')\n",
    "tesla_25 = pd.read_csv('../Data/Raw-Queried/Tesla-General-25k-x')\n",
    "\n",
    "tesla_26 = pd.read_csv('../Data/Raw-Queried/Tesla-30k-yup')\n",
    "tesla_27 = pd.read_csv('../Data/Raw-Queried/Tesla-Cars-6k-2')\n",
    "tesla_28 = pd.read_csv('../Data/Raw-Queried/Tesla-FSD-1k-eh')\n",
    "tesla_29 = pd.read_csv('../Data/Raw-Queried/Tesla-General-30k')\n",
    "tesla_30 = pd.read_csv('../Data/Raw-Queried/Tesla-safety-1k')\n",
    "tesla_31 = pd.read_csv('../Data/Raw-Queried/Tesla-self-driving-1k')\n",
    "tesla_32 = pd.read_csv('../Data/Raw-Queried/Tesla-World-2k')\n",
    "\n",
    "\n",
    "\n"
   ]
  },
  {
   "cell_type": "markdown",
   "id": "dac92c24",
   "metadata": {},
   "source": [
    "### Function to turn all DataFrames from files into Series with User ID as index"
   ]
  },
  {
   "cell_type": "code",
   "execution_count": 45,
   "id": "c81b4915",
   "metadata": {},
   "outputs": [],
   "source": [
    "# Creating a function to turn 2 column df from csv files to 1 column series with user ID as index\n",
    "\n",
    "def df_to_series(df):\n",
    "    step1 = df.set_index('Unnamed: 0')\n",
    "    step2 = step1.squeeze()\n",
    "    return step2"
   ]
  },
  {
   "cell_type": "markdown",
   "id": "11f4535f",
   "metadata": {},
   "source": [
    "### Applying Function to set all User IDs as index"
   ]
  },
  {
   "cell_type": "code",
   "execution_count": 46,
   "id": "45063dc9",
   "metadata": {},
   "outputs": [],
   "source": [
    "tesla_1 = df_to_series(tesla_1)\n",
    "tesla_2 = df_to_series(tesla_2)\n",
    "tesla_3 = df_to_series(tesla_3)\n",
    "tesla_4 = df_to_series(tesla_4)\n",
    "tesla_5 = df_to_series(tesla_5)\n",
    "tesla_6 = df_to_series(tesla_6)\n",
    "tesla_7 = df_to_series(tesla_7)\n",
    "tesla_8 = df_to_series(tesla_8)\n",
    "tesla_9 = df_to_series(tesla_9)\n",
    "tesla_10 = df_to_series(tesla_10)\n",
    "tesla_11 = df_to_series(tesla_11)\n",
    "tesla_12 = df_to_series(tesla_12)\n",
    "tesla_13 = df_to_series(tesla_13)\n",
    "tesla_14 = df_to_series(tesla_14)\n",
    "tesla_15 = df_to_series(tesla_15)\n",
    "tesla_16 = df_to_series(tesla_16)\n",
    "tesla_17 = df_to_series(tesla_17)\n",
    "tesla_18 = df_to_series(tesla_18)\n",
    "\n",
    "tesla_19 = df_to_series(tesla_19)\n",
    "tesla_20 = df_to_series(tesla_20)\n",
    "tesla_21 = df_to_series(tesla_21)\n",
    "tesla_22 = df_to_series(tesla_22)\n",
    "tesla_23 = df_to_series(tesla_23)\n",
    "tesla_24 = df_to_series(tesla_24)\n",
    "tesla_25 = df_to_series(tesla_25)\n",
    "\n",
    "tesla_26 = df_to_series(tesla_26)\n",
    "tesla_27 = df_to_series(tesla_27)\n",
    "tesla_28 = df_to_series(tesla_28)\n",
    "tesla_29 = df_to_series(tesla_29)\n",
    "tesla_30 = df_to_series(tesla_30)\n",
    "tesla_31 = df_to_series(tesla_31)\n",
    "tesla_32 = df_to_series(tesla_32)\n",
    "\n"
   ]
  },
  {
   "cell_type": "markdown",
   "id": "e677fd2a",
   "metadata": {},
   "source": [
    "Creating full Series"
   ]
  },
  {
   "cell_type": "code",
   "execution_count": 47,
   "id": "d685c3b5",
   "metadata": {},
   "outputs": [],
   "source": [
    "tesla_full = pd.concat([tesla_1, tesla_2, tesla_3, tesla_4, tesla_5, tesla_6,\n",
    "                     tesla_7, tesla_8, tesla_9, tesla_10, tesla_11, tesla_12,\n",
    "                     tesla_13, tesla_14, tesla_15, tesla_16, tesla_17, tesla_18, \n",
    "                     tesla_19, tesla_20, tesla_21, tesla_22, tesla_23, tesla_24, \n",
    "                     tesla_25, tesla_26, tesla_27, tesla_28, tesla_29, tesla_30, \n",
    "                     tesla_31, tesla_32],axis = 0, join = 'outer')"
   ]
  },
  {
   "cell_type": "markdown",
   "id": "1ea8f606",
   "metadata": {},
   "source": [
    "Dropping Duplicates from Queries"
   ]
  },
  {
   "cell_type": "code",
   "execution_count": 264,
   "id": "e37ef2ab",
   "metadata": {},
   "outputs": [],
   "source": [
    "tesla_full.to_csv('../Data/Data-Cleaned/238k-Uncleaned')"
   ]
  }
 ],
 "metadata": {
  "kernelspec": {
   "display_name": "broke-the-other",
   "language": "python",
   "name": "broke-the-other"
  },
  "language_info": {
   "codemirror_mode": {
    "name": "ipython",
    "version": 3
   },
   "file_extension": ".py",
   "mimetype": "text/x-python",
   "name": "python",
   "nbconvert_exporter": "python",
   "pygments_lexer": "ipython3",
   "version": "3.10.4"
  }
 },
 "nbformat": 4,
 "nbformat_minor": 5
}
