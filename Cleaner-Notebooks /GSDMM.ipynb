{
 "cells": [
  {
   "cell_type": "markdown",
   "id": "a50c4794",
   "metadata": {},
   "source": [
    "# Libraries"
   ]
  },
  {
   "cell_type": "code",
   "execution_count": 1,
   "id": "aa2ce17e",
   "metadata": {
    "scrolled": true
   },
   "outputs": [],
   "source": [
    "import tqdm\n",
    "import spacy\n",
    "import numpy as np\n",
    "import regex as re\n",
    "import pandas as pd\n",
    "import seaborn as sns\n",
    "\n",
    "from gsdmm import MovieGroupProcess\n",
    "\n",
    "import gensim\n",
    "# from gensim.models import wrappers\n",
    "# from gensim.models.wrappers import LdaMallet\n",
    "import gensim.corpora as corpora\n",
    "from gensim.corpora import dictionary\n",
    "from gensim.utils import simple_preprocess\n",
    "from gensim.models.ldamulticore import LdaMulticore\n",
    "from gensim.models.coherencemodel import CoherenceModel\n",
    "\n",
    "import nltk\n",
    "from nltk import pos_tag\n",
    "from nltk.corpus import stopwords\n",
    "from nltk.corpus import wordnet\n",
    "from nltk.tokenize import word_tokenize\n",
    "from nltk.stem.porter import PorterStemmer\n",
    "from nltk.stem.wordnet import WordNetLemmatizer\n",
    "\n",
    "from vaderSentiment.vaderSentiment import SentimentIntensityAnalyzer\n",
    "\n",
    "import warnings\n",
    "warnings.filterwarnings(\"ignore\", category=DeprecationWarning) \n",
    "warnings.filterwarnings(\"ignore\", category=FutureWarning)\n",
    "\n",
    "\n",
    "# Think these can be removed\n",
    "from sklearn.feature_extraction.text import CountVectorizer, TfidfVectorizer"
   ]
  },
  {
   "cell_type": "markdown",
   "id": "c9cd69b8",
   "metadata": {},
   "source": [
    "# Importing -- Fixing columns"
   ]
  },
  {
   "cell_type": "code",
   "execution_count": 2,
   "id": "09b8b307",
   "metadata": {},
   "outputs": [],
   "source": [
    "full = pd.read_csv('Data/Data-Cleaned/238k-Uncleaned')"
   ]
  },
  {
   "cell_type": "code",
   "execution_count": 3,
   "id": "6bbd51c2",
   "metadata": {},
   "outputs": [],
   "source": [
    "# Renaming tweets column, dropping unnamed column, making tweets strings\n",
    "\n",
    "full['tweets'] = full['0']\n",
    "full.reset_index(inplace = True)\n",
    "full = full.drop(columns = ['0', 'Unnamed: 0', 'index'])\n",
    "# eh\n",
    "full.drop_duplicates(inplace = True, ignore_index = True)"
   ]
  },
  {
   "cell_type": "markdown",
   "id": "67a87f9a",
   "metadata": {},
   "source": [
    "# Preprocessing ---- will need to test different preprocessing later"
   ]
  },
  {
   "cell_type": "code",
   "execution_count": 24,
   "id": "5f1680b2",
   "metadata": {},
   "outputs": [],
   "source": [
    "# Function for Gensim simple preprocessor --- \n",
    "def sent_to_words(sentences):\n",
    "    for sentence in sentences:\n",
    "        yield(gensim.utils.simple_preprocess(str(sentence), deacc=True))  # deacc=True removes punctuations\n",
    "        \n",
    "# STOPWORDS ==========================================\n",
    "def remove_stopwords(texts):\n",
    "    return [[word for word in simple_preprocess(str(doc)) if word not in stop_words]for doc in texts]\n",
    "# Stop Words list -- Can be Edited\n",
    "stop_words = stopwords.words('english')\n",
    "stop_words.extend(['tesla', 'c,', 'x', 't', 'p', 'amp', 'car',\n",
    "                   'get', 'go', 'use', 'elon', 'musk', 'elon_musk'])\n",
    "wnl = WordNetLemmatizer()\n",
    "\n",
    "# BIGRAMS===============================================\n",
    "def make_bigrams(texts):\n",
    "    return bigram_mod[texts]\n",
    "\n",
    "# TRIGRAMS =============================================\n",
    "def make_trigrams(texts):\n",
    "    return trigram_mod[bigram_mod[texts]]\n",
    "\n",
    "# LEMMATIZING ==========================================\n",
    "def pos_tagger(nltk_tag):\n",
    "    if nltk_tag.startswith('J'):\n",
    "        return wordnet.ADJ\n",
    "    elif nltk_tag.startswith('V'):\n",
    "        return wordnet.VERB\n",
    "    elif nltk_tag.startswith('N'):\n",
    "        return wordnet.NOUN\n",
    "    elif nltk_tag.startswith('R'):\n",
    "        return wordnet.ADV\n",
    "    else:         \n",
    "        return None    \n",
    "def lemmatize_texts(tweet):\n",
    "     for i in tweet:\n",
    "        word = (map(lambda x: (x[0], pos_tagger(x[1])), pos_tag(tweet))) \n",
    "        word_lem = \" \".join([wnl.lemmatize(x[0], x[1]) for x in word if x[1] is not None])\n",
    "        return word_lem"
   ]
  },
  {
   "cell_type": "code",
   "execution_count": 25,
   "id": "316f7d22",
   "metadata": {},
   "outputs": [],
   "source": [
    "# remove punctuation and lowercase all\n",
    "full['preprep'] = full['tweets'].map(lambda x: re.sub('[,\\.!?]', '', x.lower()))\n",
    "#  Removing @ handles, links-- strip whitespace breaks and tabs\n",
    "full['preprep'] = full['preprep'].map(lambda x: re.sub(r\"@\\w+|http\\S+\", \"\", x).strip()\\\n",
    "                                      .replace(\"\\r\", \"\").replace(\"\\n\", \"\").replace(\"\\t\", \"\"))"
   ]
  },
  {
   "cell_type": "code",
   "execution_count": 26,
   "id": "426e38af",
   "metadata": {},
   "outputs": [],
   "source": [
    "# Creates a list of all tweets in full.preprep\n",
    "data = full.preprep.values.tolist()\n",
    "\n",
    "# Uses gensims simple preprocessor on all tweets in list\n",
    "# Ouputs list of lists of tokenized tweets\n",
    "data_words = list(sent_to_words(data))"
   ]
  },
  {
   "cell_type": "code",
   "execution_count": 27,
   "id": "1905bbc5",
   "metadata": {},
   "outputs": [],
   "source": [
    "# Bigram ---\n",
    "# higher hyperparameter values =  fewer phrases.\n",
    "bigram = gensim.models.Phrases(data_words, min_count=2, threshold=20) # orig -- 3/ 75\n",
    "bigram_mod = gensim.models.phrases.Phraser(bigram)\n",
    "\n",
    "# TriGrams --\n",
    "trigram = gensim.models.Phrases(bigram[data_words], threshold=60)\n",
    "trigram_mod = gensim.models.phrases.Phraser(trigram)"
   ]
  },
  {
   "cell_type": "code",
   "execution_count": 28,
   "id": "3722a994",
   "metadata": {},
   "outputs": [],
   "source": [
    "# Remove Stop Words\n",
    "data_words_nostops = remove_stopwords(data_words)\n",
    "# Form Bigrams\n",
    "data_words_bigrams = make_bigrams(data_words_nostops)\n",
    "# lemmatize\n",
    "data_lemmatized = [lemmatize_texts(tweet) for tweet in data_words_bigrams]"
   ]
  },
  {
   "cell_type": "code",
   "execution_count": 29,
   "id": "94e49697",
   "metadata": {},
   "outputs": [
    {
     "name": "stdout",
     "output_type": "stream",
     "text": [
      "126510 126510\n"
     ]
    }
   ],
   "source": [
    "print(len(data_words), len(data_lemmatized))"
   ]
  },
  {
   "cell_type": "code",
   "execution_count": 30,
   "id": "bae12fd0",
   "metadata": {},
   "outputs": [
    {
     "data": {
      "text/plain": [
       "384"
      ]
     },
     "execution_count": 30,
     "metadata": {},
     "output_type": "execute_result"
    }
   ],
   "source": [
    "# Getting indices of all nones\n",
    "indices_of_nones = [(i) for i,x  in enumerate(data_lemmatized) if x == None]\n",
    "len(indices_of_nones)"
   ]
  },
  {
   "cell_type": "code",
   "execution_count": 31,
   "id": "289f44e0",
   "metadata": {},
   "outputs": [
    {
     "data": {
      "text/plain": [
       "126126"
      ]
     },
     "execution_count": 31,
     "metadata": {},
     "output_type": "execute_result"
    }
   ],
   "source": [
    "# Dropping None values using indices aquired above\n",
    "lem_drop_None = [(i, x) for (i, x) in enumerate(data_lemmatized) if i not in indices_of_nones]\n",
    "len(lem_drop_None)"
   ]
  },
  {
   "cell_type": "code",
   "execution_count": 32,
   "id": "2cba14a6",
   "metadata": {},
   "outputs": [
    {
     "data": {
      "text/plain": [
       "38518"
      ]
     },
     "execution_count": 32,
     "metadata": {},
     "output_type": "execute_result"
    }
   ],
   "source": [
    "# Getting indices of all short tweets\n",
    "indices_short_tweets = [i for (i,x) in lem_drop_None if (len(x.split(' ')) <= 5)]\n",
    "len(indices_short_tweets)"
   ]
  },
  {
   "cell_type": "code",
   "execution_count": 33,
   "id": "a7c1d170",
   "metadata": {},
   "outputs": [
    {
     "data": {
      "text/plain": [
       "87608"
      ]
     },
     "execution_count": 33,
     "metadata": {},
     "output_type": "execute_result"
    }
   ],
   "source": [
    "lem_noShort_noNone = [(i, x) for (i, x) in lem_drop_None if i not in indices_short_tweets]\n",
    "len(lem_noShort_noNone)"
   ]
  },
  {
   "cell_type": "markdown",
   "id": "760d6b0e",
   "metadata": {},
   "source": [
    "### The Rosetta Stone"
   ]
  },
  {
   "cell_type": "code",
   "execution_count": 52,
   "id": "fde8b8d0",
   "metadata": {},
   "outputs": [
    {
     "name": "stdout",
     "output_type": "stream",
     "text": [
      "['count', 'stack', 'racial', 'lawsuit', 'fill', 'twitter', 'mostly', 'emotion', 'speculator'] \n",
      " (13374, 'count stack racial lawsuit fill twitter mostly emotion speculator') \n",
      " all you have to do is count the the stack of racial lawsuits filled against tesla  twitter is mostly emotion and speculators\n"
     ]
    }
   ],
   "source": [
    "print((lem_noNone[8654]), \n",
    "       '\\n', (lem_noShort_noNone[8654]), \n",
    "      '\\n',(full.preprep.iloc[13374]))"
   ]
  },
  {
   "cell_type": "code",
   "execution_count": 35,
   "id": "3e0f01d7",
   "metadata": {},
   "outputs": [],
   "source": [
    "lem_noNone = [x.split() for (i, x) in lem_noShort_noNone]"
   ]
  },
  {
   "cell_type": "code",
   "execution_count": 36,
   "id": "7ba69e76",
   "metadata": {
    "scrolled": false
   },
   "outputs": [
    {
     "name": "stdout",
     "output_type": "stream",
     "text": [
      "62499\n"
     ]
    }
   ],
   "source": [
    "id2word = corpora.Dictionary(lem_noNone)\n",
    "print(len(id2word)) "
   ]
  },
  {
   "cell_type": "code",
   "execution_count": 37,
   "id": "76b5e414",
   "metadata": {},
   "outputs": [
    {
     "name": "stdout",
     "output_type": "stream",
     "text": [
      "13597\n"
     ]
    }
   ],
   "source": [
    "# This can be Tuned --- and probably should be\n",
    "id2word.filter_extremes(no_below=6, no_above=.95)\n",
    "print(len(id2word))"
   ]
  },
  {
   "cell_type": "code",
   "execution_count": 38,
   "id": "e8f0a969",
   "metadata": {},
   "outputs": [],
   "source": [
    "corpus = [id2word.doc2bow(d) for d in lem_noNone]"
   ]
  },
  {
   "cell_type": "markdown",
   "id": "84fd103c",
   "metadata": {},
   "source": [
    "# Modeling"
   ]
  },
  {
   "cell_type": "markdown",
   "id": "5eabebef",
   "metadata": {},
   "source": [
    "#### ============================================================================"
   ]
  },
  {
   "cell_type": "code",
   "execution_count": 41,
   "id": "169aa4b6",
   "metadata": {},
   "outputs": [],
   "source": [
    "lem_tokens = pd.Series(lem_noNone)"
   ]
  },
  {
   "cell_type": "code",
   "execution_count": 43,
   "id": "d235145e",
   "metadata": {},
   "outputs": [
    {
     "name": "stdout",
     "output_type": "stream",
     "text": [
      "In stage 0: transferred 61023 clusters with 5 clusters populated\n",
      "In stage 1: transferred 37813 clusters with 5 clusters populated\n",
      "In stage 2: transferred 28601 clusters with 5 clusters populated\n",
      "In stage 3: transferred 21685 clusters with 5 clusters populated\n",
      "In stage 4: transferred 16948 clusters with 5 clusters populated\n",
      "In stage 5: transferred 14216 clusters with 5 clusters populated\n",
      "In stage 6: transferred 12400 clusters with 5 clusters populated\n",
      "In stage 7: transferred 11050 clusters with 5 clusters populated\n",
      "In stage 8: transferred 10385 clusters with 5 clusters populated\n",
      "In stage 9: transferred 9841 clusters with 5 clusters populated\n",
      "In stage 10: transferred 9313 clusters with 5 clusters populated\n",
      "In stage 11: transferred 9068 clusters with 5 clusters populated\n",
      "In stage 12: transferred 8562 clusters with 5 clusters populated\n",
      "In stage 13: transferred 8363 clusters with 5 clusters populated\n",
      "In stage 14: transferred 7968 clusters with 5 clusters populated\n"
     ]
    }
   ],
   "source": [
    "gsdmm = MovieGroupProcess(K=5, alpha=0.01, beta=0.01, n_iters=15)\n",
    "docs = lem_tokens.to_numpy()\n",
    "vocab_length = len(id2word)\n",
    "# fit GSDMM model\n",
    "y = gsdmm.fit(docs, vocab_length)"
   ]
  },
  {
   "cell_type": "code",
   "execution_count": 44,
   "id": "569eb2e8",
   "metadata": {},
   "outputs": [
    {
     "name": "stdout",
     "output_type": "stream",
     "text": [
      "Number of documents per topic : [ 3381 32089  5774 27287 19077]\n",
      "Most important clusters (by number of docs inside): [1 3 4 2 0]\n",
      "\n",
      "Cluster 1 : [('stock', 11182), ('buy', 6305), ('twitter', 4953), ('make', 3362), ('company', 3346), ('think', 2970), ('go', 2929)]\n",
      "\n",
      "Cluster 3 : [('car', 5450), ('make', 3848), ('electric_car', 3794), ('buy', 3651), ('ev', 3522), ('electric', 3362), ('battery', 2463)]\n",
      "\n",
      "Cluster 4 : [('car', 2319), ('people', 1842), ('know', 1622), ('make', 1555), ('say', 1546), ('think', 1401), ('drive', 1344)]\n",
      "\n",
      "Cluster 2 : [('stock', 858), ('tsla', 782), ('esg_index', 584), ('say', 462), ('twitter', 388), ('elonmusk', 381), ('news', 369)]\n",
      "\n",
      "Cluster 0 : [('spot', 1203), ('enter', 1165), ('free', 900), ('find', 896), ('information_including', 892), ('c', 892), ('st_may', 891)]\n"
     ]
    }
   ],
   "source": [
    "doc_count = np.array(gsdmm.cluster_doc_count)\n",
    "print('Number of documents per topic :', doc_count)\n",
    "\n",
    "# Topics sorted by the number of document they are allocated to\n",
    "top_index = doc_count.argsort()[-15:][::-1]\n",
    "print('Most important clusters (by number of docs inside):', top_index)\n",
    "\n",
    "# define function to get top words per topic\n",
    "def top_words(cluster_word_distribution, top_cluster, values):\n",
    "    for cluster in top_cluster:\n",
    "        sort_dicts = sorted(cluster_word_distribution[cluster].items(), key=lambda k: k[1], reverse=True)[:values]\n",
    "        print(\"\\nCluster %s : %s\"%(cluster, sort_dicts))\n",
    "\n",
    "# get top words in topics\n",
    "top_words(gsdmm.cluster_word_distribution, top_index, 7)"
   ]
  },
  {
   "cell_type": "code",
   "execution_count": 23,
   "id": "6feff1d1",
   "metadata": {},
   "outputs": [
    {
     "name": "stdout",
     "output_type": "stream",
     "text": [
      "Number of documents per topic : [30002 16964  3551  4927 33469]\n",
      "Most important clusters (by number of docs inside): [4 0 1 3 2]\n",
      "\n",
      "Cluster 4 : [('buy', 6128), ('elon', 4229), ('make', 4058), ('people', 3930), ('company', 3542), ('musk', 3526), ('think', 3298)]\n",
      "\n",
      "Cluster 0 : [('car', 6101), ('make', 3421), ('electric', 2929), ('ev', 2915), ('battery', 2528), ('electric_car', 2446), ('buy', 2367)]\n",
      "\n",
      "Cluster 1 : [('stock', 9662), ('twitter', 3946), ('buy', 2873), ('musk', 2353), ('price', 1935), ('elon', 1919), ('sell', 1842)]\n",
      "\n",
      "Cluster 3 : [('spot', 1243), ('elon_musk', 918), ('esg_index', 780), ('teslaradar', 619), ('motor', 595), ('model_dual', 592), ('unitedstates_model', 473)]\n",
      "\n",
      "Cluster 2 : [('enter', 1193), ('free', 947), ('find', 935), ('c', 896), ('st_may', 893), ('information_including', 892), ('month_prize', 670)]\n"
     ]
    }
   ],
   "source": [
    "# V1\n",
    "# With elon-musk-elon_musk\n",
    "\n",
    "doc_count = np.array(gsdmm.cluster_doc_count)\n",
    "print('Number of documents per topic :', doc_count)\n",
    "\n",
    "# Topics sorted by the number of document they are allocated to\n",
    "top_index = doc_count.argsort()[-15:][::-1]\n",
    "print('Most important clusters (by number of docs inside):', top_index)\n",
    "\n",
    "# define function to get top words per topic\n",
    "def top_words(cluster_word_distribution, top_cluster, values):\n",
    "    for cluster in top_cluster:\n",
    "        sort_dicts = sorted(cluster_word_distribution[cluster].items(), key=lambda k: k[1], reverse=True)[:values]\n",
    "        print(\"\\nCluster %s : %s\"%(cluster, sort_dicts))\n",
    "\n",
    "# get top words in topics\n",
    "top_words(gsdmm.cluster_word_distribution, top_index, 7)"
   ]
  },
  {
   "cell_type": "markdown",
   "id": "d3c34ce6",
   "metadata": {},
   "source": [
    "# ============================================================================="
   ]
  }
 ],
 "metadata": {
  "kernelspec": {
   "display_name": "broke-the-other",
   "language": "python",
   "name": "broke-the-other"
  },
  "language_info": {
   "codemirror_mode": {
    "name": "ipython",
    "version": 3
   },
   "file_extension": ".py",
   "mimetype": "text/x-python",
   "name": "python",
   "nbconvert_exporter": "python",
   "pygments_lexer": "ipython3",
   "version": "3.10.4"
  }
 },
 "nbformat": 4,
 "nbformat_minor": 5
}
