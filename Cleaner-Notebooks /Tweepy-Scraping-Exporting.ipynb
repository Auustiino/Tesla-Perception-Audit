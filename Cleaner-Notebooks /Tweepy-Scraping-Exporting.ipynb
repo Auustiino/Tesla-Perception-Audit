{
 "cells": [
  {
   "cell_type": "code",
   "execution_count": 1,
   "id": "3dde6768",
   "metadata": {},
   "outputs": [],
   "source": [
    "import tweepy\n",
    "import pandas as pd\n",
    "import json"
   ]
  },
  {
   "cell_type": "code",
   "execution_count": 31,
   "id": "e20f5573",
   "metadata": {},
   "outputs": [],
   "source": [
    "api_key =  \"DzRAgwa8gKgqkYAwzKF53aSuK\"\n",
    "api_secret_key = \"IBUgXZK37PwrPl1DjN7ex04rv1d5c6D6eZvV0kpBhwcjbLqVNM\"\n",
    "bearer_token = \"AAAAAAAAAAAAAAAAAAAAAEEIbgEAAAAAyTV7SJs8LhZOf9SxOL%2FNUG709dA%3Dre300eF3AHwFNT3LrDI2HtVm9X08riGY1Y9yvRyM4iyvzuAvdX\"\n",
    "access_token = \"2849870992-AhGlOo7SGaVPhZ9r5807CZrYo3f8HAvrjrfse3Q\"\n",
    "access_token_secret = \"0o6Ju4lElIU1McOeL7jxfJNDx5JWVVgDPCaAAO9YOhe4N\""
   ]
  },
  {
   "cell_type": "code",
   "execution_count": 32,
   "id": "0ea0e0c2",
   "metadata": {},
   "outputs": [],
   "source": [
    "client = tweepy.Client(bearer_token = bearer_token)"
   ]
  },
  {
   "cell_type": "code",
   "execution_count": 43,
   "id": "65b767e2",
   "metadata": {},
   "outputs": [],
   "source": [
    "# query = \"Tesla lang:en -is:retweet -elon -elonmusk -twitter -amp -@elonmusk\"\n",
    "query = \"Tesla lang:en -is:retweet -@elonmusk -elon -musk -twitter -elonmusk\"\n",
    "\n",
    "tweets = {}\n",
    "for tweet in tweepy.Paginator(client.search_recent_tweets, query = query, max_results = 100).flatten(limit = 30000):\n",
    "    tweets[tweet.id] = tweet.text"
   ]
  },
  {
   "cell_type": "code",
   "execution_count": 44,
   "id": "967ea3e7",
   "metadata": {},
   "outputs": [
    {
     "data": {
      "text/plain": [
       "30000"
      ]
     },
     "execution_count": 44,
     "metadata": {},
     "output_type": "execute_result"
    }
   ],
   "source": [
    "len(tweets)"
   ]
  },
  {
   "cell_type": "code",
   "execution_count": 45,
   "id": "170fddc3",
   "metadata": {},
   "outputs": [
    {
     "data": {
      "text/plain": [
       "0"
      ]
     },
     "execution_count": 45,
     "metadata": {},
     "output_type": "execute_result"
    }
   ],
   "source": [
    "unique = []\n",
    "duplicates = []\n",
    "for each in tweets.keys():\n",
    "    if each not in unique:\n",
    "        unique.append(each)\n",
    "    elif each in unique:\n",
    "        duplicates.append(each)\n",
    "        \n",
    "len(duplicates)"
   ]
  },
  {
   "cell_type": "code",
   "execution_count": 46,
   "id": "88743e7b",
   "metadata": {},
   "outputs": [],
   "source": [
    "tweet_series = pd.Series(tweets, name = 'Tesla-again-woah')"
   ]
  },
  {
   "cell_type": "code",
   "execution_count": 48,
   "id": "95ede61b",
   "metadata": {},
   "outputs": [
    {
     "data": {
      "text/plain": [
       "'@richsignorelli @Tesla Aren’t the roofs glass?  If there is any flaw in glass it can act as a magnifying glass and burn materials.  I learned this the hard way with a glass ornament I kept outside that burned a hole in my patio furniture due to a tiny little bubble in the glass.'"
      ]
     },
     "execution_count": 48,
     "metadata": {},
     "output_type": "execute_result"
    }
   ],
   "source": [
    "tweet_series.iloc[401]"
   ]
  },
  {
   "cell_type": "code",
   "execution_count": 49,
   "id": "37467e4c",
   "metadata": {},
   "outputs": [],
   "source": [
    "tweet_series.to_csv('Data/Tesla-30k-yup')"
   ]
  },
  {
   "cell_type": "code",
   "execution_count": null,
   "id": "492ebb9d",
   "metadata": {},
   "outputs": [],
   "source": []
  }
 ],
 "metadata": {
  "kernelspec": {
   "display_name": "broke-the-other",
   "language": "python",
   "name": "broke-the-other"
  },
  "language_info": {
   "codemirror_mode": {
    "name": "ipython",
    "version": 3
   },
   "file_extension": ".py",
   "mimetype": "text/x-python",
   "name": "python",
   "nbconvert_exporter": "python",
   "pygments_lexer": "ipython3",
   "version": "3.10.4"
  }
 },
 "nbformat": 4,
 "nbformat_minor": 5
}
