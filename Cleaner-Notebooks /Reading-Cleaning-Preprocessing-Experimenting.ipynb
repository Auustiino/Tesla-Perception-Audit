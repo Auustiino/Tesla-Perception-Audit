{
 "cells": [
  {
   "cell_type": "code",
   "execution_count": 253,
   "id": "279828db",
   "metadata": {},
   "outputs": [],
   "source": [
    "import pandas as pd\n",
    "import regex as re\n",
    "import nltk\n",
    "from nltk import pos_tag\n",
    "from nltk.corpus import stopwords\n",
    "from nltk.corpus import wordnet\n",
    "from nltk.tokenize import word_tokenize\n",
    "from nltk.stem.porter import PorterStemmer\n",
    "from nltk.stem.wordnet import WordNetLemmatizer\n",
    "\n",
    "\n",
    "import gensim \n",
    "import gensim.corpora as corpora\n",
    "from gensim.corpora import Dictionary\n",
    "from gensim.parsing import preprocess_string, preprocess_documents, preprocessing\n",
    "from gensim.models.ldamulticore import LdaMulticore\n",
    "from gensim.models.coherencemodel import CoherenceModel\n",
    "\n",
    "import pyLDAvis\n",
    "import pyLDAvis.gensim_models as gensimvis\n",
    "\n",
    "\n",
    "import spacy\n",
    "from spacy.lang.en.examples import sentences \n",
    "\n",
    "import tqdm\n",
    "\n",
    "import warnings\n",
    "warnings.filterwarnings(\"ignore\", category=DeprecationWarning) "
   ]
  },
  {
   "cell_type": "code",
   "execution_count": 44,
   "id": "705e35a7",
   "metadata": {},
   "outputs": [],
   "source": [
    "tesla_1 = pd.read_csv('../Data/Raw-Queried/Tesla-general-10K')\n",
    "tesla_2 = pd.read_csv('../Data/Raw-Queried/Tesla-General-20K')\n",
    "tesla_3 = pd.read_csv('../Data/Raw-Queried/Tesla-General-6K')\n",
    "tesla_4 = pd.read_csv('../Data/Raw-Queried/Tesla-General-15K')\n",
    "tesla_5 = pd.read_csv('../Data/Raw-Queried/ElectricCars-General-10k')\n",
    "tesla_6 = pd.read_csv('../Data/Raw-Queried/Tesla-AI-1K')\n",
    "tesla_7 = pd.read_csv('../Data/Raw-Queried/Tesla-AutoPilot-1k')\n",
    "tesla_8 = pd.read_csv('../Data/Raw-Queried/Tesla-Batteries-1k')\n",
    "tesla_9 = pd.read_csv('../Data/Raw-Queried/Tesla-Batterys-1K')\n",
    "tesla_10 = pd.read_csv('../Data/Raw-Queried/Tesla-bot-1.5k')\n",
    "tesla_11 = pd.read_csv('../Data/Raw-Queried/Tesla-Cars-1K')\n",
    "tesla_12 = pd.read_csv('../Data/Raw-Queried/Tesla-cars-6K')\n",
    "tesla_13 = pd.read_csv('../Data/Raw-Queried/Tesla-Production-1K')\n",
    "tesla_14 = pd.read_csv('../Data/Raw-Queried/Tesla-solar-1K')\n",
    "tesla_15 = pd.read_csv('../Data/Raw-Queried/Tesla-stock-10k')\n",
    "tesla_16 = pd.read_csv('../Data/Raw-Queried/Tesla-truck-.5k')\n",
    "tesla_17 = pd.read_csv('../Data/Raw-Queried/Tesla-workers-1K')\n",
    "tesla_18 = pd.read_csv('../Data/Raw-Queried/Tesla-working_conds-.2K')\n",
    "tesla_19 = pd.read_csv('../Data/Raw-Queried/Tesla-Cars-7k')\n",
    "tesla_20 = pd.read_csv('../Data/Raw-Queried/Tesla-Environment-1k')\n",
    "tesla_21 = pd.read_csv('../Data/Raw-Queried/Tesla-FSD-1k')\n",
    "tesla_22 = pd.read_csv('../Data/Raw-Queried/Tesla-General-15k-2')\n",
    "tesla_23 = pd.read_csv('../Data/Raw-Queried/Tesla-General-15k-3')\n",
    "tesla_24 = pd.read_csv('../Data/Raw-Queried/Tesla-General-15k-4')\n",
    "tesla_25 = pd.read_csv('../Data/Raw-Queried/Tesla-General-25k-x')\n",
    "\n",
    "tesla_26 = pd.read_csv('../Data/Raw-Queried/Tesla-30k-yup')\n",
    "tesla_27 = pd.read_csv('../Data/Raw-Queried/Tesla-Cars-6k-2')\n",
    "tesla_28 = pd.read_csv('../Data/Raw-Queried/Tesla-FSD-1k-eh')\n",
    "tesla_29 = pd.read_csv('../Data/Raw-Queried/Tesla-General-30k')\n",
    "tesla_30 = pd.read_csv('../Data/Raw-Queried/Tesla-safety-1k')\n",
    "tesla_31 = pd.read_csv('../Data/Raw-Queried/Tesla-self-driving-1k')\n",
    "tesla_32 = pd.read_csv('../Data/Raw-Queried/Tesla-World-2k')\n",
    "\n",
    "\n",
    "\n"
   ]
  },
  {
   "cell_type": "markdown",
   "id": "dac92c24",
   "metadata": {},
   "source": [
    "### Function to turn all DataFrames from files into Series with User ID as index"
   ]
  },
  {
   "cell_type": "code",
   "execution_count": 45,
   "id": "c81b4915",
   "metadata": {},
   "outputs": [],
   "source": [
    "# Creating a function to turn 2 column df from csv files to 1 column series with user ID as index\n",
    "\n",
    "def df_to_series(df):\n",
    "    step1 = df.set_index('Unnamed: 0')\n",
    "    step2 = step1.squeeze()\n",
    "    return step2"
   ]
  },
  {
   "cell_type": "markdown",
   "id": "11f4535f",
   "metadata": {},
   "source": [
    "### Applying Function to set all User IDs as index"
   ]
  },
  {
   "cell_type": "code",
   "execution_count": 46,
   "id": "45063dc9",
   "metadata": {},
   "outputs": [],
   "source": [
    "tesla_1 = df_to_series(tesla_1)\n",
    "tesla_2 = df_to_series(tesla_2)\n",
    "tesla_3 = df_to_series(tesla_3)\n",
    "tesla_4 = df_to_series(tesla_4)\n",
    "tesla_5 = df_to_series(tesla_5)\n",
    "tesla_6 = df_to_series(tesla_6)\n",
    "tesla_7 = df_to_series(tesla_7)\n",
    "tesla_8 = df_to_series(tesla_8)\n",
    "tesla_9 = df_to_series(tesla_9)\n",
    "tesla_10 = df_to_series(tesla_10)\n",
    "tesla_11 = df_to_series(tesla_11)\n",
    "tesla_12 = df_to_series(tesla_12)\n",
    "tesla_13 = df_to_series(tesla_13)\n",
    "tesla_14 = df_to_series(tesla_14)\n",
    "tesla_15 = df_to_series(tesla_15)\n",
    "tesla_16 = df_to_series(tesla_16)\n",
    "tesla_17 = df_to_series(tesla_17)\n",
    "tesla_18 = df_to_series(tesla_18)\n",
    "\n",
    "tesla_19 = df_to_series(tesla_19)\n",
    "tesla_20 = df_to_series(tesla_20)\n",
    "tesla_21 = df_to_series(tesla_21)\n",
    "tesla_22 = df_to_series(tesla_22)\n",
    "tesla_23 = df_to_series(tesla_23)\n",
    "tesla_24 = df_to_series(tesla_24)\n",
    "tesla_25 = df_to_series(tesla_25)\n",
    "\n",
    "tesla_26 = df_to_series(tesla_26)\n",
    "tesla_27 = df_to_series(tesla_27)\n",
    "tesla_28 = df_to_series(tesla_28)\n",
    "tesla_29 = df_to_series(tesla_29)\n",
    "tesla_30 = df_to_series(tesla_30)\n",
    "tesla_31 = df_to_series(tesla_31)\n",
    "tesla_32 = df_to_series(tesla_32)\n",
    "\n"
   ]
  },
  {
   "cell_type": "markdown",
   "id": "e677fd2a",
   "metadata": {},
   "source": [
    "Creating full Series"
   ]
  },
  {
   "cell_type": "code",
   "execution_count": 47,
   "id": "d685c3b5",
   "metadata": {},
   "outputs": [],
   "source": [
    "tesla_full = pd.concat([tesla_1, tesla_2, tesla_3, tesla_4, tesla_5, tesla_6,\n",
    "                     tesla_7, tesla_8, tesla_9, tesla_10, tesla_11, tesla_12,\n",
    "                     tesla_13, tesla_14, tesla_15, tesla_16, tesla_17, tesla_18, \n",
    "                     tesla_19, tesla_20, tesla_21, tesla_22, tesla_23, tesla_24, \n",
    "                     tesla_25, tesla_26, tesla_27, tesla_28, tesla_29, tesla_30, \n",
    "                     tesla_31, tesla_32],axis = 0, join = 'outer')"
   ]
  },
  {
   "cell_type": "markdown",
   "id": "1ea8f606",
   "metadata": {},
   "source": [
    "Dropping Duplicates from Queries"
   ]
  },
  {
   "cell_type": "code",
   "execution_count": 264,
   "id": "e37ef2ab",
   "metadata": {},
   "outputs": [],
   "source": [
    "tesla_full.to_csv('../Data/Data-Cleaned/238k-Uncleaned')"
   ]
  },
  {
   "cell_type": "code",
   "execution_count": 48,
   "id": "076b8b46",
   "metadata": {},
   "outputs": [
    {
     "data": {
      "text/plain": [
       "237659"
      ]
     },
     "execution_count": 48,
     "metadata": {},
     "output_type": "execute_result"
    }
   ],
   "source": [
    "len(tesla_full)"
   ]
  },
  {
   "cell_type": "code",
   "execution_count": 49,
   "id": "f9940c0b",
   "metadata": {},
   "outputs": [
    {
     "data": {
      "text/plain": [
       "Unnamed: 0\n",
       "1527025892458999814    @testcranker @ITGuy1959 My solar is 100% off g...\n",
       "1527025892031086593    Boycott #Tesla #TeslaStock #ElonsProblems Vote...\n",
       "1527025884690993153    @dinodlz @cmclymer Tesla never would have surv...\n",
       "1527025878974271489    @MarketRebels @elwalvador It would be funny if...\n",
       "1527025852008976384    @RiceAndrew Right - it's just his nonsense pos...\n",
       "                                             ...                        \n",
       "1525643350828777473    @ValueAnalyst1 Yes, beg - borrow and steal to ...\n",
       "1525642529567571969    @iamDCinvestor Owh Have to rethink about my th...\n",
       "1525639115051515909    @5050isaloss @cardano_whale Overused example, ...\n",
       "1525633771009101828    @DomRobins0n @JoJoFromJerz Founded spaceX a ve...\n",
       "1525630144647421952    @mmpadellan I want an EV, but Tesla is off the...\n",
       "Length: 237659, dtype: object"
      ]
     },
     "execution_count": 49,
     "metadata": {},
     "output_type": "execute_result"
    }
   ],
   "source": [
    "tesla_full"
   ]
  },
  {
   "cell_type": "markdown",
   "id": "25a955ed",
   "metadata": {},
   "source": [
    "### Tesla with no Duplicates"
   ]
  },
  {
   "cell_type": "code",
   "execution_count": 38,
   "id": "cc164099",
   "metadata": {},
   "outputs": [
    {
     "data": {
      "text/plain": [
       "126510"
      ]
     },
     "execution_count": 38,
     "metadata": {},
     "output_type": "execute_result"
    }
   ],
   "source": [
    "Tesla_no_dup = tesla_full.drop_duplicates()\n",
    "len(Tesla_no_dup)"
   ]
  },
  {
   "cell_type": "code",
   "execution_count": 39,
   "id": "e23a81a3",
   "metadata": {},
   "outputs": [
    {
     "data": {
      "text/plain": [
       "Unnamed: 0\n",
       "1527025892458999814    @testcranker @ITGuy1959 My solar is 100% off g...\n",
       "1527025892031086593    Boycott #Tesla #TeslaStock #ElonsProblems Vote...\n",
       "1527025884690993153    @dinodlz @cmclymer Tesla never would have surv...\n",
       "1527025878974271489    @MarketRebels @elwalvador It would be funny if...\n",
       "1527025852008976384    @RiceAndrew Right - it's just his nonsense pos...\n",
       "                                             ...                        \n",
       "1525643350828777473    @ValueAnalyst1 Yes, beg - borrow and steal to ...\n",
       "1525642529567571969    @iamDCinvestor Owh Have to rethink about my th...\n",
       "1525639115051515909    @5050isaloss @cardano_whale Overused example, ...\n",
       "1525633771009101828    @DomRobins0n @JoJoFromJerz Founded spaceX a ve...\n",
       "1525630144647421952    @mmpadellan I want an EV, but Tesla is off the...\n",
       "Length: 126510, dtype: object"
      ]
     },
     "execution_count": 39,
     "metadata": {},
     "output_type": "execute_result"
    }
   ],
   "source": [
    "Tesla_no_dup"
   ]
  },
  {
   "cell_type": "markdown",
   "id": "625227e4",
   "metadata": {},
   "source": [
    "# Above was used in base models -- Below is preprocessing experimenting"
   ]
  },
  {
   "cell_type": "markdown",
   "id": "a3bd45a3",
   "metadata": {},
   "source": [
    "# ==========================================="
   ]
  },
  {
   "cell_type": "markdown",
   "id": "24749363",
   "metadata": {},
   "source": [
    "# Preprocessing "
   ]
  },
  {
   "cell_type": "markdown",
   "id": "56bfad25",
   "metadata": {},
   "source": [
    "#### Below I will be making many different variations of preprocessed text, Implementing different preprocssing methods on both the duplicate and non duplicate sets of tweets"
   ]
  },
  {
   "cell_type": "markdown",
   "id": "55c90d98",
   "metadata": {},
   "source": [
    "### Base prepreprocessor"
   ]
  },
  {
   "cell_type": "code",
   "execution_count": null,
   "id": "a36fb2ea",
   "metadata": {},
   "outputs": [],
   "source": [
    "def Series_Preprocessor(tweet):\n",
    "    stopWords = stopwords.words('english')\n",
    "    ps = PorterStemmer()\n",
    "    wnl = WordNetLemmatizer()\n",
    "\n",
    "        # helper function to change nltk's part of speech tagging to a wordnet format.\n",
    "    def pos_tagger(nltk_tag):\n",
    "        if nltk_tag.startswith('J'):\n",
    "            return wordnet.ADJ\n",
    "        elif nltk_tag.startswith('V'):\n",
    "            return wordnet.VERB\n",
    "        elif nltk_tag.startswith('N'):\n",
    "            return wordnet.NOUN\n",
    "        elif nltk_tag.startswith('R'):\n",
    "            return wordnet.ADV\n",
    "        else:         \n",
    "            return None \n",
    "    \n",
    "#   Lowercase all \n",
    "    tweet = tweet.lower()\n",
    "    \n",
    "#   Removing @ handles, links-- strip whitespace breaks and tabs\n",
    "    tweet = re.sub(r\"@\\w+|http\\S+\", \"\", tweet).strip().replace(\"\\r\", \"\").replace(\"\\n\", \"\").replace(\"\\t\", \"\")\n",
    "    \n",
    "#   Tokenize,make list of words, removing punctuation and stopwords\n",
    "    tweet = [x for x in word_tokenize(tweet) if ((x.isalpha()) & (x not in stopWords)) ]\n",
    "    \n",
    "#   Map part of speech tags to words and use words/tags to lemmatize accuratley\n",
    "    tweet = list(map(lambda x: (x[0], pos_tagger(x[1])), pos_tag(tweet))) \n",
    "    tweet = \" \".join([wnl.lemmatize(x[0], x[1]) for x in tweet if x[1] is not None])\n",
    "\n",
    "    return tweet "
   ]
  },
  {
   "cell_type": "markdown",
   "id": "8d363fbc",
   "metadata": {},
   "source": [
    "### Variables cleaned"
   ]
  },
  {
   "cell_type": "code",
   "execution_count": 31,
   "id": "34611bc5",
   "metadata": {},
   "outputs": [],
   "source": [
    "# Base Preproccesor without duplicates \n",
    "base_pre_no_dup = Tesla_General.apply(Series_Preprocessor)"
   ]
  },
  {
   "cell_type": "code",
   "execution_count": 27,
   "id": "ae7f2d26",
   "metadata": {},
   "outputs": [],
   "source": [
    "# base_pre_no_dup"
   ]
  },
  {
   "cell_type": "code",
   "execution_count": 32,
   "id": "c0299bdf",
   "metadata": {},
   "outputs": [],
   "source": [
    "# Base Preproccesor with duplicates \n",
    "base_pre_with_duplicates = tesla_a.apply(Series_Preprocessor)"
   ]
  },
  {
   "cell_type": "code",
   "execution_count": 30,
   "id": "196ec379",
   "metadata": {},
   "outputs": [],
   "source": [
    "# base_pre_with_duplicates"
   ]
  },
  {
   "cell_type": "markdown",
   "id": "8445e492",
   "metadata": {},
   "source": [
    "## Base preprocessed bi-tri grams"
   ]
  },
  {
   "cell_type": "code",
   "execution_count": null,
   "id": "c4a2710d",
   "metadata": {},
   "outputs": [],
   "source": []
  },
  {
   "cell_type": "code",
   "execution_count": null,
   "id": "4d805f21",
   "metadata": {},
   "outputs": [],
   "source": []
  },
  {
   "cell_type": "code",
   "execution_count": null,
   "id": "5cbbad71",
   "metadata": {},
   "outputs": [],
   "source": []
  },
  {
   "cell_type": "code",
   "execution_count": null,
   "id": "ac6c2dc2",
   "metadata": {},
   "outputs": [],
   "source": []
  },
  {
   "cell_type": "code",
   "execution_count": null,
   "id": "53d65490",
   "metadata": {},
   "outputs": [],
   "source": []
  },
  {
   "cell_type": "code",
   "execution_count": null,
   "id": "23ba8b05",
   "metadata": {},
   "outputs": [],
   "source": []
  },
  {
   "cell_type": "code",
   "execution_count": null,
   "id": "2abbe83e",
   "metadata": {},
   "outputs": [],
   "source": []
  },
  {
   "cell_type": "markdown",
   "id": "d6ab3f34",
   "metadata": {},
   "source": [
    "# Second Variation - ==========="
   ]
  },
  {
   "cell_type": "code",
   "execution_count": null,
   "id": "413eaf65",
   "metadata": {},
   "outputs": [],
   "source": [
    "\"\"\"\n",
    "List Changes \n",
    "\n",
    "- Add 'Tesla' to stop words\n",
    "- From Basemodel visualization found many single letters still in text, need to find a way to remove these\n",
    "    For now, just added most frequent to stop words\n",
    "\n",
    "\n",
    "\"\"\""
   ]
  },
  {
   "cell_type": "code",
   "execution_count": null,
   "id": "7ef09582",
   "metadata": {},
   "outputs": [],
   "source": [
    "def Series_Preprocessor_updated(tweet):\n",
    "    stopWords = stopwords.words('english')\n",
    "    stopWords.extend(['tesla', 'c,', 'x', 't', 'p'])\n",
    "    ps = PorterStemmer()\n",
    "    wnl = WordNetLemmatizer()\n",
    "\n",
    "        # helper function to change nltk's part of speech tagging to a wordnet format.\n",
    "    def pos_tagger(nltk_tag):\n",
    "        if nltk_tag.startswith('J'):\n",
    "            return wordnet.ADJ\n",
    "        elif nltk_tag.startswith('V'):\n",
    "            return wordnet.VERB\n",
    "        elif nltk_tag.startswith('N'):\n",
    "            return wordnet.NOUN\n",
    "        elif nltk_tag.startswith('R'):\n",
    "            return wordnet.ADV\n",
    "        else:         \n",
    "            return None \n",
    "    \n",
    "#   Lowercase all \n",
    "    tweet = tweet.lower()\n",
    "    \n",
    "#   Removing @ handles, links-- strip whitespace breaks and tabs\n",
    "    tweet = re.sub(r\"@\\w+|http\\S+\", \"\", tweet).strip().replace(\"\\r\", \"\").replace(\"\\n\", \"\").replace(\"\\t\", \"\")\n",
    "    \n",
    "    \n",
    "#   Tokenize,make list of words, removing punctuation and stopwords\n",
    "    tweet = [x for x in word_tokenize(tweet) if ((x.isalpha()) & (x not in stopWords)) ]\n",
    "    \n",
    "    \n",
    "#   Map part of speech tags to words and use words/tags to lemmatize accuratley\n",
    "    tweet = list(map(lambda x: (x[0], pos_tagger(x[1])), pos_tag(tweet))) \n",
    "    tweet = \" \".join([wnl.lemmatize(x[0], x[1]) for x in tweet if x[1] is not None])\n",
    "\n",
    "\n",
    "    return tweet "
   ]
  },
  {
   "cell_type": "code",
   "execution_count": null,
   "id": "1b8298c3",
   "metadata": {},
   "outputs": [],
   "source": []
  },
  {
   "cell_type": "markdown",
   "id": "47d85c6e",
   "metadata": {},
   "source": [
    "### Variables cleaned"
   ]
  },
  {
   "cell_type": "code",
   "execution_count": null,
   "id": "2b43d95b",
   "metadata": {},
   "outputs": [],
   "source": []
  },
  {
   "cell_type": "markdown",
   "id": "7968e4ad",
   "metadata": {},
   "source": [
    "# Using gensims built in preprocessors"
   ]
  },
  {
   "cell_type": "code",
   "execution_count": null,
   "id": "c2b7bd41",
   "metadata": {},
   "outputs": [],
   "source": [
    "\"\"\"\n",
    "use genism simple preprocessor \n",
    "add additional stop words\n",
    "remove single characters\n",
    "\n",
    "\n",
    "\"\"\""
   ]
  },
  {
   "cell_type": "markdown",
   "id": "f38689b8",
   "metadata": {},
   "source": [
    "### Double Processed "
   ]
  },
  {
   "cell_type": "code",
   "execution_count": 206,
   "id": "9c7db185",
   "metadata": {},
   "outputs": [],
   "source": [
    "def Gensim_preprocessing_pipe(tweet):\n",
    "    stopWords = stopwords.words('english')\n",
    "    ps = PorterStemmer()\n",
    "    wnl = WordNetLemmatizer()\n",
    "\n",
    "        # helper function to change nltk's part of speech tagging to a wordnet format.\n",
    "    def pos_tagger(nltk_tag):\n",
    "        if nltk_tag.startswith('J'):\n",
    "            return wordnet.ADJ\n",
    "        elif nltk_tag.startswith('V'):\n",
    "            return wordnet.VERB\n",
    "        elif nltk_tag.startswith('N'):\n",
    "            return wordnet.NOUN\n",
    "        elif nltk_tag.startswith('R'):\n",
    "            return wordnet.ADV\n",
    "        else:         \n",
    "            return None \n",
    "    \n",
    "#   Lowercase all \n",
    "    tweet = tweet.lower()\n",
    "    \n",
    "#   Removing @ handles, links-- strip whitespace breaks and tabs\n",
    "    tweet = re.sub(r\"@\\w+|http\\S+\", \"\", tweet).strip().replace(\"\\r\", \"\").replace(\"\\n\", \"\").replace(\"\\t\", \"\")\n",
    "    \n",
    "    \n",
    "#   Tokenize,make list of words, removing punctuation and stopwords\n",
    "    tweet = [x for x in word_tokenize(tweet) if ((x.isalpha()) & (x not in stopWords)) ]\n",
    "    \n",
    "    \n",
    "#   Map part of speech tags to words and use words/tags to lemmatize accuratley\n",
    "    tweet = list(map(lambda x: (x[0], pos_tagger(x[1])), pos_tag(tweet))) \n",
    "    tweet = \" \".join([wnl.lemmatize(x[0], x[1]) for x in tweet if x[1] is not None])\n",
    "    \n",
    "    \n",
    "    def sent_to_words(sentences):\n",
    "        for sentence in sentences:\n",
    "            yield(preprocess_string(sentence))  # deacc=True removes punctuations\n",
    "    \n",
    "    \n",
    "    tweet = sent_to_words(tweet)\n",
    "    \n",
    "    return tweet"
   ]
  },
  {
   "cell_type": "markdown",
   "id": "0291e575",
   "metadata": {},
   "source": [
    "### Variables cleaned"
   ]
  },
  {
   "cell_type": "code",
   "execution_count": 51,
   "id": "b0475771",
   "metadata": {},
   "outputs": [],
   "source": [
    "double_processed_full = tesla_full.apply(Gensim_preprocessing_pipe)"
   ]
  },
  {
   "cell_type": "code",
   "execution_count": 207,
   "id": "06603839",
   "metadata": {},
   "outputs": [],
   "source": [
    "double_processed_no_dup = Tesla_no_dup.apply(Gensim_preprocessing_pipe)"
   ]
  },
  {
   "cell_type": "code",
   "execution_count": 208,
   "id": "ef342f0b",
   "metadata": {
    "scrolled": true
   },
   "outputs": [
    {
     "data": {
      "text/plain": [
       "Unnamed: 0\n",
       "1527025892458999814    <generator object Gensim_preprocessing_pipe.<l...\n",
       "1527025892031086593    <generator object Gensim_preprocessing_pipe.<l...\n",
       "1527025884690993153    <generator object Gensim_preprocessing_pipe.<l...\n",
       "1527025878974271489    <generator object Gensim_preprocessing_pipe.<l...\n",
       "1527025852008976384    <generator object Gensim_preprocessing_pipe.<l...\n",
       "                                             ...                        \n",
       "1525643350828777473    <generator object Gensim_preprocessing_pipe.<l...\n",
       "1525642529567571969    <generator object Gensim_preprocessing_pipe.<l...\n",
       "1525639115051515909    <generator object Gensim_preprocessing_pipe.<l...\n",
       "1525633771009101828    <generator object Gensim_preprocessing_pipe.<l...\n",
       "1525630144647421952    <generator object Gensim_preprocessing_pipe.<l...\n",
       "Length: 126510, dtype: object"
      ]
     },
     "execution_count": 208,
     "metadata": {},
     "output_type": "execute_result"
    }
   ],
   "source": [
    "double_processed_no_dup"
   ]
  },
  {
   "cell_type": "markdown",
   "id": "e38ea833",
   "metadata": {},
   "source": [
    "## Double Processed Bi / trigrams"
   ]
  },
  {
   "cell_type": "code",
   "execution_count": null,
   "id": "fce026b4",
   "metadata": {},
   "outputs": [],
   "source": []
  },
  {
   "cell_type": "code",
   "execution_count": null,
   "id": "b0fb9409",
   "metadata": {},
   "outputs": [],
   "source": []
  },
  {
   "cell_type": "code",
   "execution_count": null,
   "id": "71cbf0cf",
   "metadata": {},
   "outputs": [],
   "source": []
  },
  {
   "cell_type": "code",
   "execution_count": null,
   "id": "7cf9b6ad",
   "metadata": {},
   "outputs": [],
   "source": []
  },
  {
   "cell_type": "code",
   "execution_count": null,
   "id": "0ae3f136",
   "metadata": {},
   "outputs": [],
   "source": []
  },
  {
   "cell_type": "code",
   "execution_count": 53,
   "id": "a99fbb9a",
   "metadata": {},
   "outputs": [],
   "source": [
    "# Outputs an unreadable object\n",
    "# double_processed_full"
   ]
  },
  {
   "cell_type": "markdown",
   "id": "be20f195",
   "metadata": {},
   "source": [
    "## Combination of  prep for gensim and gensim ** Not Doubles"
   ]
  },
  {
   "cell_type": "code",
   "execution_count": 192,
   "id": "491e3d70",
   "metadata": {},
   "outputs": [],
   "source": [
    "def Gensim_preprocessing_pipe_bigram(tweets):\n",
    "    \n",
    "    stop_words = stopwords.words('english')\n",
    "    stop_words.extend(['tesla'])\n",
    "    \n",
    "#   for twitter handles, links\n",
    "    tweets = re.sub(r\"@\\w+|http\\S+\", \"\", tweet).strip().replace(\"\\r\", \"\").replace(\"\\n\", \"\").replace(\"\\t\", \"\")\n",
    "    \n",
    "    def sent_to_words(tweets):\n",
    "        for sentence in tweets:\n",
    "\n",
    "            # Note -- this is where gensim is processing\n",
    "            # Note -- this is where stop words are removed\n",
    "            # Note -- Chosen gensim preprocessor is the string preprocessor, Can also use simple\n",
    "\n",
    "            return[[word for word in preprocess_string(str(sentence)) if word not in stop_words]for doc in tweets]  # deacc=True removes punctuations\n",
    "\n",
    "    cleaned_tweets = list(sent_to_words(tweets))\n",
    "    \n",
    "    def make_bigram(cleaned_tweets): \n",
    "        bigram = gensim.models.Phrases(cleaned_tweets, min_count=3, threshold=75) # higher threshold fewer phrases.\n",
    "        bigram_mod = gensim.models.phrases.Phraser(bigram)\n",
    "        \n",
    "        bigrams = bigram_mod[cleaned_tweets]\n",
    "        \n",
    "        return bigrams\n",
    "\n",
    "\n",
    "    def make_trigram(cleaned_tweets):                                               \n",
    "        trigram = gensim.models.Phrases(bigram[cleaned_tweets], threshold=75)                        \n",
    "        trigram_mod = gensim.models.phrases.Phraser(trigram)\n",
    "        \n",
    "        trigrams = trigram_mod[cleaned_tweets]\n",
    "    \n",
    "        return trigrams\n",
    "    \n",
    "    \n",
    "    return bigrams, trigrams\n",
    "\n",
    "\n",
    "\n",
    "\n",
    "\n",
    "\n",
    "                                                       \n",
    "\n",
    "def Gensim_preprocessing_pipe_trigram(tweets):\n",
    "    \n",
    "    stop_words = stopwords.words('english')\n",
    "    stop_words.extend(['tesla'])\n",
    "    \n",
    "#   for twitter handles, links\n",
    "    tweets = re.sub(r\"@\\w+|http\\S+\", \"\", tweet).strip().replace(\"\\r\", \"\").replace(\"\\n\", \"\").replace(\"\\t\", \"\")\n",
    "    \n",
    "    def sent_to_words(tweets):\n",
    "        for sentence in tweets:\n",
    "\n",
    "            # Note -- this is where gensim is processing\n",
    "            # Note -- this is where stop words are removed\n",
    "            # Note -- Chosen gensim preprocessor is the string preprocessor, Can also use simple\n",
    "\n",
    "            return[[word for word in preprocess_string(str(sentence)) if word not in stop_words]for doc in tweets]  # deacc=True removes punctuations\n",
    "\n",
    "    cleaned_tweets = list(sent_to_words(tweets))\n",
    "    \n",
    "    def make_trigram(cleaned_tweets):                                               \n",
    "        trigram = gensim.models.Phrases(bigram[cleaned_tweets], threshold=75)                        \n",
    "        trigram_mod = gensim.models.phrases.Phraser(trigram)\n",
    "        \n",
    "        trigrams = trigram_mod[cleaned_tweets]\n",
    "    \n",
    "        return trigrams\n",
    "\n",
    "    \n",
    "                                                       \n",
    "                                                       \n",
    "                   \n",
    "         "
   ]
  },
  {
   "cell_type": "code",
   "execution_count": 190,
   "id": "41934d30",
   "metadata": {},
   "outputs": [],
   "source": [
    "# Bigram no duplicates\n",
    "bi_gensim_no_dup = Tesla_no_dup.apply(Gensim_preprocessing_pipe_bigram)"
   ]
  },
  {
   "cell_type": "code",
   "execution_count": 245,
   "id": "da43ff2b",
   "metadata": {},
   "outputs": [],
   "source": [
    "# Trigram_no_duplicates\n",
    "tri_gensim_no_dup = Tesla_no_dup.apply(Gensim_preprocessing_pipe_trigram)"
   ]
  },
  {
   "cell_type": "code",
   "execution_count": null,
   "id": "7c330ef7",
   "metadata": {},
   "outputs": [],
   "source": [
    "# bigram_with_duplicates\n",
    "bi_gensim_full = tesla_full.apply(Gensim_preprocessing_pipe_bigram)"
   ]
  },
  {
   "cell_type": "code",
   "execution_count": null,
   "id": "b37147cd",
   "metadata": {},
   "outputs": [],
   "source": [
    "# Trigram with duplicates\n",
    "tri_gensim_full = tesla_full.apply(Gensim_preprocessing_pipe_trigram)"
   ]
  },
  {
   "cell_type": "code",
   "execution_count": null,
   "id": "77a0405d",
   "metadata": {},
   "outputs": [],
   "source": []
  },
  {
   "cell_type": "code",
   "execution_count": null,
   "id": "0a95ee62",
   "metadata": {},
   "outputs": [],
   "source": []
  },
  {
   "cell_type": "code",
   "execution_count": 200,
   "id": "7fe0bc08",
   "metadata": {},
   "outputs": [
    {
     "data": {
      "text/plain": [
       "<gensim.interfaces.TransformedCorpus at 0x346a87fd0>"
      ]
     },
     "execution_count": 200,
     "metadata": {},
     "output_type": "execute_result"
    }
   ],
   "source": [
    "bi_gensim_no_dup.iloc[5]"
   ]
  },
  {
   "cell_type": "code",
   "execution_count": null,
   "id": "ead6a78f",
   "metadata": {},
   "outputs": [],
   "source": []
  },
  {
   "cell_type": "code",
   "execution_count": null,
   "id": "87fec8c8",
   "metadata": {},
   "outputs": [],
   "source": []
  },
  {
   "cell_type": "code",
   "execution_count": null,
   "id": "afa1263d",
   "metadata": {},
   "outputs": [],
   "source": []
  },
  {
   "cell_type": "code",
   "execution_count": null,
   "id": "f7a44ecd",
   "metadata": {},
   "outputs": [],
   "source": []
  },
  {
   "cell_type": "code",
   "execution_count": null,
   "id": "4517b877",
   "metadata": {},
   "outputs": [],
   "source": []
  },
  {
   "cell_type": "code",
   "execution_count": 223,
   "id": "5791765f",
   "metadata": {},
   "outputs": [
    {
     "name": "stdout",
     "output_type": "stream",
     "text": [
      "[['testcrank', 'itgui', 'solar', 'grid', 'run', 'comput', 'radio', 'fridg', 'entir', 'yard', 'isn', 'big', 'recharg', 'tesla']]\n"
     ]
    }
   ],
   "source": [
    "def sent_to_words(sentences):\n",
    "    for sentence in sentences:\n",
    "        yield(preprocess_string(str(sentence)))  # deacc=True removes punctuations\n",
    "\n",
    "data_words = list(sent_to_words(Tesla_no_dup))\n",
    "\n",
    "print(data_words[:1])"
   ]
  },
  {
   "cell_type": "code",
   "execution_count": 224,
   "id": "72e44cce",
   "metadata": {},
   "outputs": [],
   "source": [
    "stop_words = stopwords.words('english')\n",
    "stop_words.extend(['tesla'])"
   ]
  },
  {
   "cell_type": "code",
   "execution_count": 225,
   "id": "4c8b59db",
   "metadata": {},
   "outputs": [],
   "source": [
    "def remove_stopwords(texts):\n",
    "    return [[word for word in preprocess_string(str(doc)) if word not in stop_words] for doc in texts]\n",
    "\n",
    "def make_bigrams(texts):\n",
    "    return [bigram_mod[doc] for doc in texts]\n",
    "\n",
    "def make_trigrams(texts):\n",
    "    return [trigram_mod[bigram_mod[doc]] for doc in texts]\n",
    "\n",
    "def lemmatization(texts, allowed_postags=['NOUN', 'ADJ', 'VERB', 'ADV']):\n",
    "    \"\"\"https://spacy.io/api/annotation\"\"\"\n",
    "    texts_out = []\n",
    "    for sent in texts:\n",
    "        doc = nlp(\" \".join(sent)) \n",
    "        texts_out.append([token.lemma_ for token in doc if token.pos_ in allowed_postags])\n",
    "    return texts_out"
   ]
  },
  {
   "cell_type": "code",
   "execution_count": 263,
   "id": "343f61b7",
   "metadata": {},
   "outputs": [
    {
     "data": {
      "text/plain": [
       "'@H0NIS0IT @patricklarkin @SRuhle Ford PE ration is 10. Tesla PE ratio is 100. TSLA still has a long way to fall.'"
      ]
     },
     "execution_count": 263,
     "metadata": {},
     "output_type": "execute_result"
    }
   ],
   "source": [
    "tweets.iloc[5]"
   ]
  },
  {
   "cell_type": "code",
   "execution_count": 258,
   "id": "f310bfa2",
   "metadata": {},
   "outputs": [
    {
     "ename": "TypeError",
     "evalue": "expected string or buffer",
     "output_type": "error",
     "traceback": [
      "\u001b[0;31m---------------------------------------------------------------------------\u001b[0m",
      "\u001b[0;31mTypeError\u001b[0m                                 Traceback (most recent call last)",
      "Input \u001b[0;32mIn [258]\u001b[0m, in \u001b[0;36m<cell line: 17>\u001b[0;34m()\u001b[0m\n\u001b[1;32m     16\u001b[0m wnl \u001b[38;5;241m=\u001b[39m WordNetLemmatizer()\n\u001b[1;32m     17\u001b[0m \u001b[38;5;28;01mfor\u001b[39;00m rtwet \u001b[38;5;129;01min\u001b[39;00m tweets:\n\u001b[0;32m---> 18\u001b[0m     tweet \u001b[38;5;241m=\u001b[39m \u001b[43mre\u001b[49m\u001b[38;5;241;43m.\u001b[39;49m\u001b[43msub\u001b[49m\u001b[43m(\u001b[49m\u001b[38;5;124;43mr\u001b[39;49m\u001b[38;5;124;43m\"\u001b[39;49m\u001b[38;5;124;43m@\u001b[39;49m\u001b[38;5;124;43m\\\u001b[39;49m\u001b[38;5;124;43mw+|http\u001b[39;49m\u001b[38;5;124;43m\\\u001b[39;49m\u001b[38;5;124;43mS+\u001b[39;49m\u001b[38;5;124;43m\"\u001b[39;49m\u001b[43m,\u001b[49m\u001b[43m \u001b[49m\u001b[38;5;124;43m\"\u001b[39;49m\u001b[38;5;124;43m\"\u001b[39;49m\u001b[43m,\u001b[49m\u001b[43m \u001b[49m\u001b[43mtweet\u001b[49m\u001b[43m)\u001b[49m\u001b[38;5;241m.\u001b[39mstrip()\u001b[38;5;241m.\u001b[39mreplace(\u001b[38;5;124m\"\u001b[39m\u001b[38;5;130;01m\\r\u001b[39;00m\u001b[38;5;124m\"\u001b[39m, \u001b[38;5;124m\"\u001b[39m\u001b[38;5;124m\"\u001b[39m)\u001b[38;5;241m.\u001b[39mreplace(\u001b[38;5;124m\"\u001b[39m\u001b[38;5;130;01m\\n\u001b[39;00m\u001b[38;5;124m\"\u001b[39m, \u001b[38;5;124m\"\u001b[39m\u001b[38;5;124m\"\u001b[39m)\u001b[38;5;241m.\u001b[39mreplace(\u001b[38;5;124m\"\u001b[39m\u001b[38;5;130;01m\\t\u001b[39;00m\u001b[38;5;124m\"\u001b[39m, \u001b[38;5;124m\"\u001b[39m\u001b[38;5;124m\"\u001b[39m)\n\u001b[1;32m     21\u001b[0m \u001b[38;5;66;03m#   Tokenize,make list of words, removing punctuation and stopwords\u001b[39;00m\n\u001b[1;32m     22\u001b[0m data_words_nostops \u001b[38;5;241m=\u001b[39m [x \u001b[38;5;28;01mfor\u001b[39;00m x \u001b[38;5;129;01min\u001b[39;00m word_tokenize(tweet) \u001b[38;5;28;01mif\u001b[39;00m ((x\u001b[38;5;241m.\u001b[39misalpha()) \u001b[38;5;241m&\u001b[39m (x \u001b[38;5;129;01mnot\u001b[39;00m \u001b[38;5;129;01min\u001b[39;00m stopWords)) ]\n",
      "File \u001b[0;32m~/opt/anaconda3/envs/broke-the-other/lib/python3.10/site-packages/regex/regex.py:278\u001b[0m, in \u001b[0;36msub\u001b[0;34m(pattern, repl, string, count, flags, pos, endpos, concurrent, timeout, ignore_unused, **kwargs)\u001b[0m\n\u001b[1;32m    272\u001b[0m \u001b[38;5;124;03m\"\"\"Return the string obtained by replacing the leftmost (or rightmost with a\u001b[39;00m\n\u001b[1;32m    273\u001b[0m \u001b[38;5;124;03mreverse pattern) non-overlapping occurrences of the pattern in string by the\u001b[39;00m\n\u001b[1;32m    274\u001b[0m \u001b[38;5;124;03mreplacement repl. repl can be either a string or a callable; if a string,\u001b[39;00m\n\u001b[1;32m    275\u001b[0m \u001b[38;5;124;03mbackslash escapes in it are processed; if a callable, it's passed the match\u001b[39;00m\n\u001b[1;32m    276\u001b[0m \u001b[38;5;124;03mobject and must return a replacement string to be used.\"\"\"\u001b[39;00m\n\u001b[1;32m    277\u001b[0m pat \u001b[38;5;241m=\u001b[39m _compile(pattern, flags, ignore_unused, kwargs, \u001b[38;5;28;01mTrue\u001b[39;00m)\n\u001b[0;32m--> 278\u001b[0m \u001b[38;5;28;01mreturn\u001b[39;00m \u001b[43mpat\u001b[49m\u001b[38;5;241;43m.\u001b[39;49m\u001b[43msub\u001b[49m\u001b[43m(\u001b[49m\u001b[43mrepl\u001b[49m\u001b[43m,\u001b[49m\u001b[43m \u001b[49m\u001b[43mstring\u001b[49m\u001b[43m,\u001b[49m\u001b[43m \u001b[49m\u001b[43mcount\u001b[49m\u001b[43m,\u001b[49m\u001b[43m \u001b[49m\u001b[43mpos\u001b[49m\u001b[43m,\u001b[49m\u001b[43m \u001b[49m\u001b[43mendpos\u001b[49m\u001b[43m,\u001b[49m\u001b[43m \u001b[49m\u001b[43mconcurrent\u001b[49m\u001b[43m,\u001b[49m\u001b[43m \u001b[49m\u001b[43mtimeout\u001b[49m\u001b[43m)\u001b[49m\n",
      "\u001b[0;31mTypeError\u001b[0m: expected string or buffer"
     ]
    }
   ],
   "source": [
    "def pos_tagger(nltk_tag):\n",
    "        if nltk_tag.startswith('J'):\n",
    "            return wordnet.ADJ\n",
    "        elif nltk_tag.startswith('V'):\n",
    "            return wordnet.VERB\n",
    "        elif nltk_tag.startswith('N'):\n",
    "            return wordnet.NOUN\n",
    "        elif nltk_tag.startswith('R'):\n",
    "            return wordnet.ADV\n",
    "        else:         \n",
    "            return None \n",
    "\n",
    "tweets = Tesla_no_dup.copy()\n",
    "        \n",
    "        \n",
    "wnl = WordNetLemmatizer()\n",
    "for rtwet in tweets:\n",
    "    tweet = re.sub(r\"@\\w+|http\\S+\", \"\", tweet).strip().replace(\"\\r\", \"\").replace(\"\\n\", \"\").replace(\"\\t\", \"\")\n",
    "\n",
    "    \n",
    "#   Tokenize,make list of words, removing punctuation and stopwords\n",
    "data_words_nostops = [x for x in word_tokenize(tweet) if ((x.isalpha()) & (x not in stopWords)) ]\n",
    "    \n",
    "\n",
    "data_words_nostops = remove_stopwords(data_words)\n",
    "\n",
    "# Form Bigrams\n",
    "tweet = make_bigrams(data_words_nostops)\n",
    "\n",
    "\n",
    "\n",
    "tweet = list(map(lambda x: (x[0], pos_tagger(x[1])), pos_tag(tweet))) \n",
    "data_lemmatized = \" \".join([wnl.lemmatize(x[0], x[1]) for x in tweet if x[1] is not None])\n",
    "\n",
    "\n",
    "\n",
    "\n",
    "\n",
    "\n",
    "\n",
    "\n",
    "\n",
    "# # Initialize spacy 'en' model, keeping only tagger component (for efficiency)\n",
    "# # python3 -m spacy download en\n",
    "# nlp = spacy.load('en_core_web_sm', disable=['parser', 'ner'])\n",
    "\n",
    "# # Do lemmatization keeping only noun, adj, vb, adv\n",
    "# data_lemmatized = lemmatization(data_words_bigrams, allowed_postags=['NOUN', 'ADJ', 'VERB', 'ADV'])\n",
    "\n",
    "print(data_lemmatized[:1])"
   ]
  },
  {
   "cell_type": "code",
   "execution_count": null,
   "id": "9dd13a67",
   "metadata": {},
   "outputs": [],
   "source": [
    "print(data_lemmatized[42])"
   ]
  },
  {
   "cell_type": "code",
   "execution_count": 231,
   "id": "aae34988",
   "metadata": {},
   "outputs": [
    {
     "name": "stdout",
     "output_type": "stream",
     "text": [
      "['samiershahirr', 'squawksquar', 'talk', 'beta', 'stock', 'trader', 'know', 'understand', 'long']\n"
     ]
    }
   ],
   "source": [
    "print(data_lemmatized[42])"
   ]
  },
  {
   "cell_type": "code",
   "execution_count": null,
   "id": "fd084698",
   "metadata": {},
   "outputs": [],
   "source": []
  },
  {
   "cell_type": "code",
   "execution_count": null,
   "id": "3ad02d18",
   "metadata": {},
   "outputs": [],
   "source": []
  },
  {
   "cell_type": "code",
   "execution_count": null,
   "id": "def4396d",
   "metadata": {},
   "outputs": [],
   "source": []
  },
  {
   "cell_type": "markdown",
   "id": "1576a553",
   "metadata": {},
   "source": [
    "# Testing bi and tri gram functions with basic models"
   ]
  },
  {
   "cell_type": "code",
   "execution_count": 232,
   "id": "26f70232",
   "metadata": {},
   "outputs": [
    {
     "data": {
      "text/plain": [
       "list"
      ]
     },
     "execution_count": 232,
     "metadata": {},
     "output_type": "execute_result"
    }
   ],
   "source": [
    "type(data_lemmatized)"
   ]
  },
  {
   "cell_type": "code",
   "execution_count": 234,
   "id": "c4669e53",
   "metadata": {},
   "outputs": [],
   "source": [
    "id2word = corpora.Dictionary(data_lemmatized)"
   ]
  },
  {
   "cell_type": "code",
   "execution_count": 236,
   "id": "a9adcd53",
   "metadata": {},
   "outputs": [],
   "source": [
    "texts = data_lemmatized"
   ]
  },
  {
   "cell_type": "code",
   "execution_count": 237,
   "id": "9075369b",
   "metadata": {},
   "outputs": [],
   "source": [
    "corpus = [id2word.doc2bow(text) for text in texts]"
   ]
  },
  {
   "cell_type": "code",
   "execution_count": 239,
   "id": "fc74d99d",
   "metadata": {},
   "outputs": [
    {
     "name": "stdout",
     "output_type": "stream",
     "text": [
      "[[(0, 1), (1, 1), (2, 1), (3, 1), (4, 1), (5, 1), (6, 1), (7, 1)], [(8, 1), (9, 1)], [(10, 1), (11, 1), (12, 1), (13, 1), (14, 1)], [(15, 1), (16, 1), (17, 1), (18, 1)], [(19, 1), (20, 1), (21, 1), (22, 1), (23, 1), (24, 1), (25, 1), (26, 1), (27, 1)], [(28, 1), (29, 1), (30, 1), (31, 1)], [(32, 1), (33, 1), (34, 1), (35, 1), (36, 1), (37, 1), (38, 1), (39, 1), (40, 1), (41, 1), (42, 1), (43, 1), (44, 1), (45, 1), (46, 1), (47, 2)], [(48, 1), (49, 1), (50, 1), (51, 1)], [(52, 1), (53, 1), (54, 1)], [(24, 1), (55, 1), (56, 1), (57, 1), (58, 1), (59, 1)]]\n"
     ]
    }
   ],
   "source": [
    "print(corpus[:10])"
   ]
  },
  {
   "cell_type": "code",
   "execution_count": 242,
   "id": "79572550",
   "metadata": {},
   "outputs": [
    {
     "data": {
      "text/plain": [
       "[[('big', 1),\n",
       "  ('comput', 1),\n",
       "  ('grid', 1),\n",
       "  ('radio', 1),\n",
       "  ('recharg', 1),\n",
       "  ('run', 1),\n",
       "  ('solar', 1),\n",
       "  ('yard', 1)],\n",
       " [('blue', 1), ('vote', 1)],\n",
       " [('accord', 1), ('implement', 1), ('iron', 1), ('support', 1), ('trump', 1)],\n",
       " [('marketrebel', 1), ('profit', 1), ('sell', 1), ('take', 1)],\n",
       " [('hard', 1),\n",
       "  ('monei', 1),\n",
       "  ('nonsen', 1),\n",
       "  ('posit', 1),\n",
       "  ('riceandrew', 1),\n",
       "  ('right', 1),\n",
       "  ('share', 1),\n",
       "  ('sort', 1),\n",
       "  ('tax', 1)],\n",
       " [('fall', 1), ('ratio', 1), ('ration', 1), ('sruhl', 1)],\n",
       " [('brag', 1),\n",
       "  ('employ', 1),\n",
       "  ('get', 1),\n",
       "  ('great', 1),\n",
       "  ('hour', 1),\n",
       "  ('know', 1),\n",
       "  ('muskrat', 1),\n",
       "  ('nearli', 1),\n",
       "  ('power', 1),\n",
       "  ('shout', 1),\n",
       "  ('straight', 1),\n",
       "  ('think', 1),\n",
       "  ('time', 1),\n",
       "  ('tool', 1),\n",
       "  ('train', 1),\n",
       "  ('work', 2)],\n",
       " [('car', 1), ('hate', 1), ('heart', 1), ('mom', 1)],\n",
       " [('custom', 1), ('fokjhzauwx', 1), ('want', 1)],\n",
       " [('right', 1), ('melissalm', 1), ('pretti', 1), ('🇸', 1), ('💔', 1), ('😊', 1)],\n",
       " [('new', 1), ('tessa', 1)],\n",
       " [('know', 1),\n",
       "  ('custom', 1),\n",
       "  ('dutywarn', 1),\n",
       "  ('futur', 1),\n",
       "  ('leader', 1),\n",
       "  ('narciss', 1),\n",
       "  ('self', 1),\n",
       "  ('tesla', 1),\n",
       "  ('troubl', 1)],\n",
       " [('sure', 1)],\n",
       " [('car', 1),\n",
       "  ('announc', 1),\n",
       "  ('appeal', 1),\n",
       "  ('burn', 1),\n",
       "  ('busi', 1),\n",
       "  ('engin', 1),\n",
       "  ('geniu', 1),\n",
       "  ('hail', 1),\n",
       "  ('maga', 1),\n",
       "  ('market', 1),\n",
       "  ('maxboot', 1),\n",
       "  ('segment', 1),\n",
       "  ('soon', 1)],\n",
       " [('think', 1),\n",
       "  ('cbarber', 1),\n",
       "  ('driver', 1),\n",
       "  ('error', 1),\n",
       "  ('incid', 1),\n",
       "  ('inform', 1),\n",
       "  ('miss', 2),\n",
       "  ('request', 1),\n",
       "  ('sawyermerritt', 1)],\n",
       " [('drive', 1), ('pay', 1)],\n",
       " [('grime', 1),\n",
       "  ('leave', 1),\n",
       "  ('lol', 1),\n",
       "  ('republican', 1),\n",
       "  ('stock', 1),\n",
       "  ('tank', 1),\n",
       "  ('twitter', 1)],\n",
       " [('know', 1),\n",
       "  ('think', 1),\n",
       "  ('want', 1),\n",
       "  ('good', 1),\n",
       "  ('love', 1),\n",
       "  ('model', 1),\n",
       "  ('optim', 1),\n",
       "  ('product', 1)],\n",
       " [('time', 1), ('car', 1), ('new', 1), ('choic', 1), ('need', 1)],\n",
       " [('stock', 2),\n",
       "  ('actual', 1),\n",
       "  ('chart', 1),\n",
       "  ('look', 1),\n",
       "  ('month', 2),\n",
       "  ('past', 1)],\n",
       " [('ryangrim', 1), ('try', 1)],\n",
       " [('get', 1),\n",
       "  ('futur', 1),\n",
       "  ('engin', 2),\n",
       "  ('colleg', 1),\n",
       "  ('come', 1),\n",
       "  ('educ', 2),\n",
       "  ('gift', 1),\n",
       "  ('higher', 1),\n",
       "  ('sad', 1),\n",
       "  ('spacex', 1)],\n",
       " [('get', 1),\n",
       "  ('think', 1),\n",
       "  ('look', 1),\n",
       "  ('anim', 1),\n",
       "  ('lion', 1),\n",
       "  ('symbol', 1)],\n",
       " [('incredul', 1),\n",
       "  ('index', 1),\n",
       "  ('mirmakoffici', 1),\n",
       "  ('reason', 1),\n",
       "  ('reduct', 1)],\n",
       " [('freesoul', 1), ('xvnft', 1)],\n",
       " [('gov', 1),\n",
       "  ('grift', 1),\n",
       "  ('handout', 1),\n",
       "  ('http', 1),\n",
       "  ('kairyssd', 1),\n",
       "  ('socksthec', 1),\n",
       "  ('vfurnbtjr', 1)],\n",
       " [('amp', 1)],\n",
       " [('car', 1), ('stroke', 1)],\n",
       " [('big', 1),\n",
       "  ('come', 1),\n",
       "  ('bed', 1),\n",
       "  ('develop', 1),\n",
       "  ('diesel', 1),\n",
       "  ('follow', 1),\n",
       "  ('hell', 1),\n",
       "  ('honkin', 1),\n",
       "  ('lead', 1),\n",
       "  ('speaker', 1),\n",
       "  ('truck', 1),\n",
       "  ('watt', 1),\n",
       "  ('yea', 1)],\n",
       " [('tesla', 1), ('http', 1), ('ehucjmp', 1), ('vote_republican', 1)],\n",
       " [('tesla', 1), ('http', 1), ('vote_republican', 1), ('aiyxkcmnn', 1)],\n",
       " [('http', 1), ('bankrupt', 1), ('gdpczx', 1), ('smart', 1)],\n",
       " [('car', 1),\n",
       "  ('concern', 1),\n",
       "  ('industri', 1),\n",
       "  ('investor', 1),\n",
       "  ('issu', 1),\n",
       "  ('lack', 1),\n",
       "  ('obyysgd', 1),\n",
       "  ('peer', 1)],\n",
       " [('need', 1), ('connector', 1), ('instal', 1), ('supercharg', 1)],\n",
       " [('lol', 1), ('belong', 1), ('list', 1)],\n",
       " [('vote', 1), ('offic', 2)],\n",
       " [('http', 1), ('counti', 1)],\n",
       " [('sure', 1),\n",
       "  ('index', 1),\n",
       "  ('reason', 1),\n",
       "  ('kick', 1),\n",
       "  ('read', 1),\n",
       "  ('tsla', 1)],\n",
       " [('engin', 1),\n",
       "  ('maga', 1),\n",
       "  ('model', 1),\n",
       "  ('coal', 1),\n",
       "  ('steam', 1),\n",
       "  ('version', 1)],\n",
       " [('http', 1), ('counti', 1)],\n",
       " [('http', 1), ('counti', 1)],\n",
       " [('liber', 1), ('order', 1)],\n",
       " [('know', 1),\n",
       "  ('stock', 1),\n",
       "  ('beta', 1),\n",
       "  ('long', 1),\n",
       "  ('samiershahirr', 1),\n",
       "  ('squawksquar', 1),\n",
       "  ('talk', 1),\n",
       "  ('trader', 1),\n",
       "  ('understand', 1)],\n",
       " [('good', 1),\n",
       "  ('kick', 1),\n",
       "  ('allow', 1),\n",
       "  ('compani', 1),\n",
       "  ('crawl', 1),\n",
       "  ('elon', 1),\n",
       "  ('exist', 1),\n",
       "  ('feel', 1),\n",
       "  ('fuck', 1),\n",
       "  ('hope', 2),\n",
       "  ('hurt', 1),\n",
       "  ('odiou', 1),\n",
       "  ('racism', 1),\n",
       "  ('whine', 1)],\n",
       " [('right', 1),\n",
       "  ('know', 1),\n",
       "  ('time', 1),\n",
       "  ('good', 1),\n",
       "  ('smart', 1),\n",
       "  ('long', 1),\n",
       "  ('ago', 1),\n",
       "  ('bitcoin', 1),\n",
       "  ('contract', 1),\n",
       "  ('hear', 1),\n",
       "  ('mairenibrun_dario', 1),\n",
       "  ('thing', 1),\n",
       "  ('trade', 1)],\n",
       " [('sell', 1), ('hope', 1), ('dollar', 1)],\n",
       " [],\n",
       " [('http', 1), ('elon', 1), ('cool', 1), ('potenti', 1), ('sale', 1)],\n",
       " [('car', 1), ('help', 1), ('ton', 1)],\n",
       " [('poor', 1)]]"
      ]
     },
     "execution_count": 242,
     "metadata": {},
     "output_type": "execute_result"
    }
   ],
   "source": [
    "[[(id2word[id], freq) for id, freq in cp] for cp in corpus[:50]]"
   ]
  },
  {
   "cell_type": "code",
   "execution_count": 243,
   "id": "c2f46ffa",
   "metadata": {},
   "outputs": [],
   "source": [
    "# Build LDA model\n",
    "lda_model = gensim.models.ldamodel.LdaModel(corpus=corpus,\n",
    "                                           id2word=id2word,\n",
    "                                           num_topics=20, \n",
    "                                           random_state=100,\n",
    "                                           update_every=1,\n",
    "                                           chunksize=100,\n",
    "                                           passes=10,\n",
    "                                           alpha='auto',\n",
    "                                           per_word_topics=True)"
   ]
  },
  {
   "cell_type": "code",
   "execution_count": 246,
   "id": "886add24",
   "metadata": {},
   "outputs": [
    {
     "name": "stdout",
     "output_type": "stream",
     "text": [
      "[(0, '0.311*\"market\" + 0.146*\"real\" + 0.084*\"lead\" + 0.074*\"care\" + 0.047*\"poor\" + 0.047*\"elon\" + 0.040*\"grow\" + 0.035*\"date\" + 0.028*\"blame\" + 0.017*\"target\"'), (1, '0.404*\"want\" + 0.280*\"well\" + 0.045*\"possibl\" + 0.040*\"kick\" + 0.028*\"liber\" + 0.016*\"corrupt\" + 0.000*\"world\" + 0.000*\"door\" + 0.000*\"garyblack\" + 0.000*\"peopl\"'), (2, '0.252*\"driver\" + 0.141*\"reason\" + 0.138*\"tsla\" + 0.102*\"free\" + 0.053*\"index\" + 0.036*\"sawyermerritt\" + 0.023*\"inform\" + 0.021*\"miss\" + 0.017*\"offici\" + 0.003*\"request\"'), (3, '0.548*\"drive\" + 0.108*\"read\" + 0.071*\"thank\" + 0.054*\"list\" + 0.049*\"place\" + 0.022*\"smart\" + 0.012*\"corpor\" + 0.009*\"bankrupt\" + 0.000*\"world\" + 0.000*\"door\"'), (4, '0.259*\"know\" + 0.233*\"model\" + 0.110*\"product\" + 0.066*\"love\" + 0.054*\"old\" + 0.045*\"take\" + 0.043*\"cheap\" + 0.038*\"wonder\" + 0.026*\"custom\" + 0.024*\"give\"'), (5, '0.232*\"right\" + 0.180*\"high\" + 0.134*\"hard\" + 0.081*\"tax\" + 0.070*\"monei\" + 0.036*\"posit\" + 0.032*\"avail\" + 0.022*\"trend\" + 0.018*\"sort\" + 0.000*\"world\"'), (6, '0.395*\"think\" + 0.195*\"look\" + 0.164*\"get\" + 0.122*\"share\" + 0.002*\"plummet\" + 0.000*\"world\" + 0.000*\"build\" + 0.000*\"garyblack\" + 0.000*\"door\" + 0.000*\"mjarchi\"'), (7, '0.285*\"good\" + 0.271*\"http\" + 0.186*\"tesla\" + 0.089*\"owner\" + 0.032*\"vote\" + 0.020*\"huge\" + 0.002*\"blue\" + 0.000*\"world\" + 0.000*\"garyblack\" + 0.000*\"door\"'), (8, '0.280*\"energi\" + 0.210*\"rich\" + 0.134*\"instead\" + 0.074*\"answer\" + 0.000*\"world\" + 0.000*\"technolog\" + 0.000*\"countri\" + 0.000*\"bring\" + 0.000*\"wireless\" + 0.000*\"transmiss\"'), (9, '0.208*\"’m\" + 0.104*\"option\" + 0.091*\"true\" + 0.079*\"issu\" + 0.079*\"industri\" + 0.062*\"plan\" + 0.057*\"ceo\" + 0.036*\"concern\" + 0.025*\"dutywarn\" + 0.021*\"lack\"'), (10, '0.150*\"sell\" + 0.093*\"tell\" + 0.084*\"lot\" + 0.075*\"start\" + 0.068*\"run\" + 0.064*\"lose\" + 0.048*\"perform\" + 0.038*\"demand\" + 0.029*\"question\" + 0.029*\"dollar\"'), (11, '0.184*\"sure\" + 0.124*\"todai\" + 0.113*\"profit\" + 0.100*\"man\" + 0.084*\"gui\" + 0.078*\"shit\" + 0.041*\"goe\" + 0.040*\"legal\" + 0.005*\"coincid\" + 0.000*\"world\"'), (12, '0.580*\"car\" + 0.165*\"year\" + 0.047*\"help\" + 0.039*\"sale\" + 0.030*\"pay\" + 0.022*\"fall\" + 0.018*\"cool\" + 0.010*\"ton\" + 0.006*\"potenti\" + 0.004*\"deci\"'), (13, '0.184*\"actual\" + 0.134*\"let\" + 0.120*\"spacex\" + 0.105*\"lol\" + 0.087*\"futur\" + 0.072*\"hope\" + 0.036*\"worker\" + 0.025*\"anti\" + 0.018*\"sad\" + 0.015*\"pretti\"'), (14, '0.141*\"new\" + 0.137*\"time\" + 0.084*\"come\" + 0.048*\"buy\" + 0.042*\"bui\" + 0.041*\"handl\" + 0.041*\"engin\" + 0.041*\"burn\" + 0.039*\"far\" + 0.038*\"differ\"'), (15, '0.263*\"self\" + 0.162*\"work\" + 0.125*\"price\" + 0.076*\"person\" + 0.054*\"month\" + 0.037*\"investor\" + 0.028*\"valu\" + 0.027*\"report\" + 0.018*\"head\" + 0.015*\"past\"'), (16, '0.205*\"compani\" + 0.130*\"electr\" + 0.124*\"big\" + 0.088*\"order\" + 0.072*\"bad\" + 0.066*\"point\" + 0.040*\"hate\" + 0.040*\"obviou\" + 0.038*\"low\" + 0.032*\"leave\"'), (17, '0.294*\"need\" + 0.222*\"stock\" + 0.151*\"try\" + 0.036*\"supercharg\" + 0.032*\"tank\" + 0.030*\"correct\" + 0.030*\"version\" + 0.020*\"maga\" + 0.015*\"instal\" + 0.008*\"coal\"'), (18, '0.000*\"warning\" + 0.000*\"delivery\" + 0.000*\"aufopxhv\" + 0.000*\"improve\" + 0.000*\"aussiepetec\" + 0.000*\"www_vice\" + 0.000*\"tah\" + 0.000*\"qczugynu\" + 0.000*\"bjdrew\" + 0.000*\"senduckworth\"'), (19, '0.079*\"open\" + 0.069*\"thing\" + 0.059*\"crash\" + 0.051*\"power\" + 0.050*\"great\" + 0.050*\"long\" + 0.048*\"charg\" + 0.039*\"talk\" + 0.034*\"stop\" + 0.033*\"hit\"')]\n"
     ]
    }
   ],
   "source": [
    "print(lda_model.print_topics())\n",
    "doc_lda = lda_model[corpus]"
   ]
  },
  {
   "cell_type": "code",
   "execution_count": 247,
   "id": "00330339",
   "metadata": {},
   "outputs": [
    {
     "name": "stdout",
     "output_type": "stream",
     "text": [
      "\n",
      "Perplexity:  -20.095947524647272\n",
      "\n",
      "Coherence Score:  0.21996771574358148\n"
     ]
    }
   ],
   "source": [
    "print('\\nPerplexity: ', lda_model.log_perplexity(corpus))  # a measure of how good the model is. lower the better.\n",
    "\n",
    "# Compute Coherence Score\n",
    "coherence_model_lda = CoherenceModel(model=lda_model, texts=data_lemmatized, dictionary=id2word, coherence='c_v')\n",
    "coherence_lda = coherence_model_lda.get_coherence()\n",
    "print('\\nCoherence Score: ', coherence_lda)"
   ]
  },
  {
   "cell_type": "code",
   "execution_count": 254,
   "id": "bba4cead",
   "metadata": {},
   "outputs": [
    {
     "name": "stderr",
     "output_type": "stream",
     "text": [
      "/Users/austinboring/opt/anaconda3/envs/broke-the-other/lib/python3.10/site-packages/pyLDAvis/_prepare.py:247: FutureWarning: In a future version of pandas all arguments of DataFrame.drop except for the argument 'labels' will be keyword-only.\n",
      "  by='saliency', ascending=False).head(R).drop('saliency', 1)\n",
      "/Users/austinboring/opt/anaconda3/envs/broke-the-other/lib/python3.10/site-packages/joblib/backports.py:36: DeprecationWarning: distutils Version classes are deprecated. Use packaging.version instead.\n",
      "  if LooseVersion(np.__version__) < '1.13':\n",
      "/Users/austinboring/opt/anaconda3/envs/broke-the-other/lib/python3.10/site-packages/setuptools/_distutils/version.py:351: DeprecationWarning: distutils Version classes are deprecated. Use packaging.version instead.\n",
      "  other = LooseVersion(other)\n",
      "/Users/austinboring/opt/anaconda3/envs/broke-the-other/lib/python3.10/site-packages/joblib/backports.py:36: DeprecationWarning: distutils Version classes are deprecated. Use packaging.version instead.\n",
      "  if LooseVersion(np.__version__) < '1.13':\n",
      "/Users/austinboring/opt/anaconda3/envs/broke-the-other/lib/python3.10/site-packages/setuptools/_distutils/version.py:351: DeprecationWarning: distutils Version classes are deprecated. Use packaging.version instead.\n",
      "  other = LooseVersion(other)\n",
      "/Users/austinboring/opt/anaconda3/envs/broke-the-other/lib/python3.10/site-packages/joblib/backports.py:36: DeprecationWarning: distutils Version classes are deprecated. Use packaging.version instead.\n",
      "  if LooseVersion(np.__version__) < '1.13':\n",
      "/Users/austinboring/opt/anaconda3/envs/broke-the-other/lib/python3.10/site-packages/setuptools/_distutils/version.py:351: DeprecationWarning: distutils Version classes are deprecated. Use packaging.version instead.\n",
      "  other = LooseVersion(other)\n",
      "/Users/austinboring/opt/anaconda3/envs/broke-the-other/lib/python3.10/site-packages/joblib/backports.py:36: DeprecationWarning: distutils Version classes are deprecated. Use packaging.version instead.\n",
      "  if LooseVersion(np.__version__) < '1.13':\n",
      "/Users/austinboring/opt/anaconda3/envs/broke-the-other/lib/python3.10/site-packages/setuptools/_distutils/version.py:351: DeprecationWarning: distutils Version classes are deprecated. Use packaging.version instead.\n",
      "  other = LooseVersion(other)\n",
      "/Users/austinboring/opt/anaconda3/envs/broke-the-other/lib/python3.10/site-packages/joblib/backports.py:36: DeprecationWarning: distutils Version classes are deprecated. Use packaging.version instead.\n",
      "  if LooseVersion(np.__version__) < '1.13':\n",
      "/Users/austinboring/opt/anaconda3/envs/broke-the-other/lib/python3.10/site-packages/setuptools/_distutils/version.py:351: DeprecationWarning: distutils Version classes are deprecated. Use packaging.version instead.\n",
      "  other = LooseVersion(other)\n",
      "/Users/austinboring/opt/anaconda3/envs/broke-the-other/lib/python3.10/site-packages/joblib/backports.py:36: DeprecationWarning: distutils Version classes are deprecated. Use packaging.version instead.\n",
      "  if LooseVersion(np.__version__) < '1.13':\n",
      "/Users/austinboring/opt/anaconda3/envs/broke-the-other/lib/python3.10/site-packages/setuptools/_distutils/version.py:351: DeprecationWarning: distutils Version classes are deprecated. Use packaging.version instead.\n",
      "  other = LooseVersion(other)\n",
      "/Users/austinboring/opt/anaconda3/envs/broke-the-other/lib/python3.10/site-packages/joblib/backports.py:36: DeprecationWarning: distutils Version classes are deprecated. Use packaging.version instead.\n",
      "  if LooseVersion(np.__version__) < '1.13':\n",
      "/Users/austinboring/opt/anaconda3/envs/broke-the-other/lib/python3.10/site-packages/setuptools/_distutils/version.py:351: DeprecationWarning: distutils Version classes are deprecated. Use packaging.version instead.\n",
      "  other = LooseVersion(other)\n",
      "/Users/austinboring/opt/anaconda3/envs/broke-the-other/lib/python3.10/site-packages/joblib/backports.py:36: DeprecationWarning: distutils Version classes are deprecated. Use packaging.version instead.\n",
      "  if LooseVersion(np.__version__) < '1.13':\n",
      "/Users/austinboring/opt/anaconda3/envs/broke-the-other/lib/python3.10/site-packages/setuptools/_distutils/version.py:351: DeprecationWarning: distutils Version classes are deprecated. Use packaging.version instead.\n",
      "  other = LooseVersion(other)\n",
      "/Users/austinboring/opt/anaconda3/envs/broke-the-other/lib/python3.10/site-packages/joblib/backports.py:36: DeprecationWarning: distutils Version classes are deprecated. Use packaging.version instead.\n",
      "  if LooseVersion(np.__version__) < '1.13':\n",
      "/Users/austinboring/opt/anaconda3/envs/broke-the-other/lib/python3.10/site-packages/setuptools/_distutils/version.py:351: DeprecationWarning: distutils Version classes are deprecated. Use packaging.version instead.\n",
      "  other = LooseVersion(other)\n",
      "/Users/austinboring/opt/anaconda3/envs/broke-the-other/lib/python3.10/site-packages/joblib/backports.py:36: DeprecationWarning: distutils Version classes are deprecated. Use packaging.version instead.\n",
      "  if LooseVersion(np.__version__) < '1.13':\n",
      "/Users/austinboring/opt/anaconda3/envs/broke-the-other/lib/python3.10/site-packages/setuptools/_distutils/version.py:351: DeprecationWarning: distutils Version classes are deprecated. Use packaging.version instead.\n",
      "  other = LooseVersion(other)\n",
      "/Users/austinboring/opt/anaconda3/envs/broke-the-other/lib/python3.10/site-packages/joblib/backports.py:36: DeprecationWarning: distutils Version classes are deprecated. Use packaging.version instead.\n",
      "  if LooseVersion(np.__version__) < '1.13':\n",
      "/Users/austinboring/opt/anaconda3/envs/broke-the-other/lib/python3.10/site-packages/joblib/backports.py:36: DeprecationWarning: distutils Version classes are deprecated. Use packaging.version instead.\n",
      "  if LooseVersion(np.__version__) < '1.13':\n",
      "/Users/austinboring/opt/anaconda3/envs/broke-the-other/lib/python3.10/site-packages/setuptools/_distutils/version.py:351: DeprecationWarning: distutils Version classes are deprecated. Use packaging.version instead.\n",
      "  other = LooseVersion(other)\n",
      "/Users/austinboring/opt/anaconda3/envs/broke-the-other/lib/python3.10/site-packages/setuptools/_distutils/version.py:351: DeprecationWarning: distutils Version classes are deprecated. Use packaging.version instead.\n",
      "  other = LooseVersion(other)\n",
      "/Users/austinboring/opt/anaconda3/envs/broke-the-other/lib/python3.10/site-packages/joblib/backports.py:36: DeprecationWarning: distutils Version classes are deprecated. Use packaging.version instead.\n",
      "  if LooseVersion(np.__version__) < '1.13':\n",
      "/Users/austinboring/opt/anaconda3/envs/broke-the-other/lib/python3.10/site-packages/joblib/backports.py:36: DeprecationWarning: distutils Version classes are deprecated. Use packaging.version instead.\n",
      "  if LooseVersion(np.__version__) < '1.13':\n",
      "/Users/austinboring/opt/anaconda3/envs/broke-the-other/lib/python3.10/site-packages/setuptools/_distutils/version.py:351: DeprecationWarning: distutils Version classes are deprecated. Use packaging.version instead.\n",
      "  other = LooseVersion(other)\n",
      "/Users/austinboring/opt/anaconda3/envs/broke-the-other/lib/python3.10/site-packages/setuptools/_distutils/version.py:351: DeprecationWarning: distutils Version classes are deprecated. Use packaging.version instead.\n",
      "  other = LooseVersion(other)\n",
      "/Users/austinboring/opt/anaconda3/envs/broke-the-other/lib/python3.10/site-packages/joblib/backports.py:36: DeprecationWarning: distutils Version classes are deprecated. Use packaging.version instead.\n",
      "  if LooseVersion(np.__version__) < '1.13':\n",
      "/Users/austinboring/opt/anaconda3/envs/broke-the-other/lib/python3.10/site-packages/setuptools/_distutils/version.py:351: DeprecationWarning: distutils Version classes are deprecated. Use packaging.version instead.\n",
      "  other = LooseVersion(other)\n",
      "/Users/austinboring/opt/anaconda3/envs/broke-the-other/lib/python3.10/site-packages/joblib/backports.py:36: DeprecationWarning: distutils Version classes are deprecated. Use packaging.version instead.\n",
      "  if LooseVersion(np.__version__) < '1.13':\n",
      "/Users/austinboring/opt/anaconda3/envs/broke-the-other/lib/python3.10/site-packages/setuptools/_distutils/version.py:351: DeprecationWarning: distutils Version classes are deprecated. Use packaging.version instead.\n",
      "  other = LooseVersion(other)\n",
      "/Users/austinboring/opt/anaconda3/envs/broke-the-other/lib/python3.10/site-packages/joblib/backports.py:36: DeprecationWarning: distutils Version classes are deprecated. Use packaging.version instead.\n",
      "  if LooseVersion(np.__version__) < '1.13':\n",
      "/Users/austinboring/opt/anaconda3/envs/broke-the-other/lib/python3.10/site-packages/setuptools/_distutils/version.py:351: DeprecationWarning: distutils Version classes are deprecated. Use packaging.version instead.\n",
      "  other = LooseVersion(other)\n"
     ]
    },
    {
     "name": "stderr",
     "output_type": "stream",
     "text": [
      "/Users/austinboring/opt/anaconda3/envs/broke-the-other/lib/python3.10/site-packages/joblib/backports.py:36: DeprecationWarning: distutils Version classes are deprecated. Use packaging.version instead.\n",
      "  if LooseVersion(np.__version__) < '1.13':\n",
      "/Users/austinboring/opt/anaconda3/envs/broke-the-other/lib/python3.10/site-packages/setuptools/_distutils/version.py:351: DeprecationWarning: distutils Version classes are deprecated. Use packaging.version instead.\n",
      "  other = LooseVersion(other)\n",
      "/Users/austinboring/opt/anaconda3/envs/broke-the-other/lib/python3.10/site-packages/joblib/backports.py:36: DeprecationWarning: distutils Version classes are deprecated. Use packaging.version instead.\n",
      "  if LooseVersion(np.__version__) < '1.13':\n",
      "/Users/austinboring/opt/anaconda3/envs/broke-the-other/lib/python3.10/site-packages/setuptools/_distutils/version.py:351: DeprecationWarning: distutils Version classes are deprecated. Use packaging.version instead.\n",
      "  other = LooseVersion(other)\n",
      "/Users/austinboring/opt/anaconda3/envs/broke-the-other/lib/python3.10/site-packages/joblib/backports.py:36: DeprecationWarning: distutils Version classes are deprecated. Use packaging.version instead.\n",
      "  if LooseVersion(np.__version__) < '1.13':\n",
      "/Users/austinboring/opt/anaconda3/envs/broke-the-other/lib/python3.10/site-packages/setuptools/_distutils/version.py:351: DeprecationWarning: distutils Version classes are deprecated. Use packaging.version instead.\n",
      "  other = LooseVersion(other)\n",
      "/Users/austinboring/opt/anaconda3/envs/broke-the-other/lib/python3.10/site-packages/joblib/backports.py:36: DeprecationWarning: distutils Version classes are deprecated. Use packaging.version instead.\n",
      "  if LooseVersion(np.__version__) < '1.13':\n",
      "/Users/austinboring/opt/anaconda3/envs/broke-the-other/lib/python3.10/site-packages/setuptools/_distutils/version.py:351: DeprecationWarning: distutils Version classes are deprecated. Use packaging.version instead.\n",
      "  other = LooseVersion(other)\n",
      "/Users/austinboring/opt/anaconda3/envs/broke-the-other/lib/python3.10/site-packages/joblib/backports.py:36: DeprecationWarning: distutils Version classes are deprecated. Use packaging.version instead.\n",
      "  if LooseVersion(np.__version__) < '1.13':\n",
      "/Users/austinboring/opt/anaconda3/envs/broke-the-other/lib/python3.10/site-packages/setuptools/_distutils/version.py:351: DeprecationWarning: distutils Version classes are deprecated. Use packaging.version instead.\n",
      "  other = LooseVersion(other)\n"
     ]
    },
    {
     "data": {
      "text/html": [
       "\n",
       "<link rel=\"stylesheet\" type=\"text/css\" href=\"https://cdn.jsdelivr.net/gh/bmabey/pyLDAvis@3.3.1/pyLDAvis/js/ldavis.v1.0.0.css\">\n",
       "\n",
       "\n",
       "<div id=\"ldavis_el91640120798718409766028465\"></div>\n",
       "<script type=\"text/javascript\">\n",
       "\n",
       "var ldavis_el91640120798718409766028465_data = {\"mdsDat\": {\"x\": [-0.29152462389783934, -0.1800090936149491, -0.1872008675104956, -0.06451794447036432, -0.06906633873574337, -0.046774244962383624, 0.03752078103383222, -0.03234382095192089, -0.05353981540486674, -0.017218652010392556, 0.0580836925794601, 0.07553926151313281, -0.0038443455767839625, 0.07713183509493322, 0.08442936285665419, 0.1007461466257381, 0.09809338953299787, 0.10893844546004827, 0.1362617427247068, 0.1692950897142362], \"y\": [0.3410588653011935, -0.19001593297535474, -0.2333168557220767, -0.021196278463851973, -0.023487228616044905, -0.013207665478966648, 0.009735334866594995, -0.007899147427551843, -0.0160651211875113, -0.003053661240304613, 0.013103274868117479, 0.015506066026711686, 0.000704776620110612, 0.015669877340563347, 0.01655676066045647, 0.018278046230811678, 0.01801360962055616, 0.019002452280142128, 0.020765296898801452, 0.019847530397602172], \"topics\": [1, 2, 3, 4, 5, 6, 7, 8, 9, 10, 11, 12, 13, 14, 15, 16, 17, 18, 19, 20], \"cluster\": [1, 1, 1, 1, 1, 1, 1, 1, 1, 1, 1, 1, 1, 1, 1, 1, 1, 1, 1, 1], \"Freq\": [11.473678636256132, 10.1070842972292, 9.94260845121906, 7.319843698532652, 6.8838837254742655, 6.483853282713087, 6.375517435914757, 5.996032513544581, 5.571311059922648, 5.071814359623079, 3.429230785985445, 3.1562977036134963, 3.0468764790650864, 3.0463926267527226, 2.9226453933041583, 2.821601341499134, 2.816469961279769, 2.4584050573284033, 1.0481723034104382, 0.028280887331882155]}, \"tinfo\": {\"Term\": [\"car\", \"think\", \"drive\", \"need\", \"know\", \"good\", \"http\", \"model\", \"want\", \"self\", \"stock\", \"year\", \"compani\", \"market\", \"new\", \"time\", \"tesla\", \"well\", \"look\", \"sell\", \"try\", \"work\", \"driver\", \"get\", \"right\", \"electr\", \"big\", \"product\", \"\\u2019m\", \"price\", \"open\", \"thing\", \"crash\", \"power\", \"great\", \"long\", \"charg\", \"talk\", \"stop\", \"hit\", \"hear\", \"feel\", \"understand\", \"fuck\", \"nearli\", \"bitcoin\", \"level\", \"ago\", \"emerg\", \"beta\", \"allow\", \"exist\", \"imagin\", \"employ\", \"requir\", \"perfect\", \"result\", \"prove\", \"brain\", \"wish\", \"car\", \"year\", \"help\", \"sale\", \"pay\", \"fall\", \"cool\", \"ton\", \"potenti\", \"deci\", \"leftist\", \"sleep\", \"world\", \"door\", \"build\", \"garyblack\", \"peopl\", \"mjarchi\", \"say\", \"vehicl\", \"scottpolhamu\", \"see\", \"safe\", \"amp\", \"kill\", \"catch\", \"pull\", \"manual\", \"alex_avoigt\", \"invest\", \"happen\", \"problem\", \"go\", \"new\", \"time\", \"come\", \"buy\", \"bui\", \"handl\", \"engin\", \"burn\", \"far\", \"differ\", \"support\", \"soon\", \"busi\", \"truck\", \"competit\", \"develop\", \"follow\", \"join\", \"water\", \"ahead\", \"non\", \"geniu\", \"trump\", \"diesel\", \"accord\", \"blow\", \"announc\", \"hybrid\", \"hell\", \"commit\", \"know\", \"model\", \"product\", \"love\", \"old\", \"take\", \"cheap\", \"wonder\", \"custom\", \"give\", \"twitter\", \"world\", \"unitedst\", \"spot\", \"garyblack\", \"door\", \"standard\", \"peopl\", \"mjarchi\", \"build\", \"dual_motor\", \"state\", \"say\", \"teslaradar\", \"scottpolhamu\", \"technolog\", \"manual\", \"amp\", \"insid\", \"meet\", \"see\", \"kill\", \"vehicl\", \"invest\", \"happen\", \"go\", \"compani\", \"electr\", \"big\", \"order\", \"bad\", \"point\", \"hate\", \"obviou\", \"low\", \"leave\", \"republican\", \"suck\", \"altern\", \"especi\", \"incent\", \"asset\", \"govt\", \"page\", \"rail\", \"world\", \"garyblack\", \"door\", \"peopl\", \"mjarchi\", \"build\", \"say\", \"vehicl\", \"scottpolhamu\", \"problem\", \"go\", \"see\", \"kill\", \"sell\", \"tell\", \"lot\", \"start\", \"run\", \"lose\", \"perform\", \"demand\", \"question\", \"dollar\", \"solar\", \"wake\", \"tweet\", \"comment\", \"situat\", \"dead\", \"joke\", \"similar\", \"effect\", \"respon\", \"grid\", \"kid\", \"world\", \"peopl\", \"garyblack\", \"build\", \"countri\", \"short\", \"door\", \"mjarchi\", \"vehicl\", \"say\", \"scottpolhamu\", \"need\", \"stock\", \"try\", \"supercharg\", \"tank\", \"correct\", \"version\", \"maga\", \"instal\", \"coal\", \"excu\", \"world\", \"garyblack\", \"door\", \"build\", \"mjarchi\", \"peopl\", \"vehicl\", \"scottpolhamu\", \"say\", \"amp\", \"see\", \"safe\", \"invest\", \"kill\", \"musk\", \"mean\", \"happen\", \"go\", \"alex_avoigt\", \"technolog\", \"manual\", \"problem\", \"good\", \"http\", \"tesla\", \"owner\", \"vote\", \"huge\", \"blue\", \"world\", \"garyblack\", \"mjarchi\", \"kill\", \"ask\", \"build\", \"scottpolhamu\", \"rip\", \"say\", \"door\", \"team\", \"peopl\", \"success\", \"roadster\", \"world\\u2019_quickest\", \"limit\", \"pre\", \"video\", \"sign\", \"arguabl\", \"vehicl\", \"invest\", \"impact\", \"see\", \"amp\", \"manual\", \"happen\", \"alex_avoigt\", \"technolog\", \"musk\", \"go\", \"mean\", \"problem\", \"wait\", \"self\", \"work\", \"price\", \"person\", \"month\", \"investor\", \"valu\", \"report\", \"head\", \"past\", \"explain\", \"benefit\", \"leader\", \"condit\", \"recess\", \"troubl\", \"economi\", \"early\", \"financ\", \"busi_conduct\", \"cite\", \"garyblack\", \"door\", \"scottpolhamu\", \"mjarchi\", \"cost\", \"say\", \"tech\", \"rise\", \"vehicl\", \"technolog\", \"go\", \"peopl\", \"world\", \"see\", \"build\", \"think\", \"look\", \"get\", \"share\", \"plummet\", \"speed\", \"build\", \"rethink\", \"necess\", \"pull\", \"confid\", \"refer\", \"case\", \"control\", \"loan\", \"proof\", \"speedingticket\", \"softwar\", \"world\", \"see\", \"probabl\", \"auto\", \"garyblack\", \"attend\", \"forward\", \"scottpolhamu\", \"fake\", \"entir\", \"cash\", \"\\ud83d\\ude05\", \"drop\", \"problem\", \"close\", \"wait\", \"mjarchi\", \"door\", \"musk\", \"go\", \"peopl\", \"say\", \"happen\", \"kill\", \"alex_avoigt\", \"vehicl\", \"invest\", \"manual\", \"mean\", \"safe\", \"market\", \"real\", \"lead\", \"care\", \"poor\", \"elon\", \"grow\", \"date\", \"blame\", \"target\", \"boycott\", \"arguabl\", \"success\", \"innov\", \"commerci\", \"team\", \"large\", \"necess\", \"build\", \"rethink\", \"cap\", \"confid\", \"loan\", \"conniv\", \"refer\", \"neg\", \"killer\", \"indian\", \"entri\", \"lucid\", \"case\", \"world\", \"mean\", \"problem\", \"garyblack\", \"mjarchi\", \"door\", \"peopl\", \"say\", \"vehicl\", \"scottpolhamu\", \"see\", \"kill\", \"musk\", \"happen\", \"go\", \"invest\", \"actual\", \"let\", \"spacex\", \"lol\", \"futur\", \"hope\", \"worker\", \"anti\", \"sad\", \"pretti\", \"pro\", \"\\ud83c\\uddf8\", \"gift\", \"belong\", \"speed\", \"arguabl\", \"success\", \"speedingticket\", \"proof\", \"commerci\", \"auto\", \"war\", \"probabl\", \"convinc\", \"harsh\", \"toriesout\", \"reali\", \"innov\", \"cold\", \"defeat\", \"control\", \"face\", \"softwar\", \"pull\", \"total\", \"build\", \"team\", \"see\", \"world\", \"garyblack\", \"peopl\", \"door\", \"scottpolhamu\", \"mjarchi\", \"say\", \"happen\", \"vehicl\", \"kill\", \"manual\", \"drive\", \"read\", \"thank\", \"list\", \"place\", \"smart\", \"corpor\", \"bankrupt\", \"\\ud83d\\udc47\", \"manual\", \"probably\", \"pin\", \"uwckhjt\", \"cent\", \"waymo\", \"menu\", \"coordin\", \"teslaownerssv\", \"identif\", \"merc\", \"touch\", \"rel\", \"screen\", \"mile\", \"digit\", \"mode\", \"someth\", \"autom\", \"order_magnitud\", \"purpl\", \"dyemasterdisc_bitswift\", \"rollout\", \"wear\", \"mark\", \"motortrend\", \"scratchmesilli_techau\", \"later\", \"file\", \"safe\", \"approach\", \"tech\", \"accid\", \"test\", \"expand\", \"watch\", \"featur\", \"technolog\", \"idea\", \"mjarchi\", \"set\", \"kill\", \"video\", \"amp\", \"door\", \"mention\", \"oper\", \"go\", \"say\", \"vehicl\", \"fine\", \"peopl\", \"garyblack\", \"happen\", \"scottpolhamu\", \"see\", \"world\", \"build\", \"problem\", \"wait\", \"mean\", \"want\", \"well\", \"possibl\", \"kick\", \"liber\", \"corrupt\", \"tabl\", \"conniv\", \"neg\", \"killer\", \"lucid\", \"contact\", \"insid\", \"earth\", \"elimin\", \"strife\", \"egoism\", \"outsold\", \"prone\", \"camera\", \"remain\", \"ev\", \"psychic\", \"conserv\", \"univ\", \"hulu\", \"fetch\", \"jaywalk\", \"ringo\", \"aoc\", \"rent\", \"realiz\", \"mark\", \"social\", \"leav\", \"live\", \"fact\", \"light\", \"human\", \"batteri\", \"fast\", \"world\", \"peopl\", \"say\", \"mean\", \"mjarchi\", \"wait\", \"window\", \"happen\", \"garyblack\", \"door\", \"scottpolhamu\", \"thomaskain\", \"kill\", \"see\", \"problem\", \"amp\", \"technolog\", \"build\", \"invest\", \"go\", \"manual\", \"vehicl\", \"alex_avoigt\", \"right\", \"high\", \"hard\", \"tax\", \"monei\", \"posit\", \"avail\", \"trend\", \"sort\", \"rip\", \"credit\", \"crypto_nftcommum\", \"nekoguild\", \"nftrelea\", \"\\ud83d\\ude80\", \"incom\", \"nio\", \"margin\", \"cryptoparadym\", \"inflat\", \"indoctrin\", \"daili\", \"rest\", \"servic\", \"chine\", \"secular\", \"vijaynakra_tatamotor\", \"prakashadvani\", \"bentleyspjclub\", \"appli\", \"feder\", \"crypto\", \"compar\", \"qualiti\", \"pai\", \"fact\", \"current\", \"happen\", \"govern\", \"world\", \"peopl\", \"vehicl\", \"door\", \"garyblack\", \"mjarchi\", \"scottpolhamu\", \"say\", \"short\", \"build\", \"see\", \"design\", \"invest\", \"problem\", \"kill\", \"go\", \"manual\", \"alex_avoigt\", \"safe\", \"amp\", \"\\u2019m\", \"option\", \"true\", \"issu\", \"industri\", \"plan\", \"ceo\", \"concern\", \"dutywarn\", \"lack\", \"plenti\", \"lean\", \"speed\", \"speedingticket\", \"proof\", \"probabl\", \"auto\", \"convinc\", \"control\", \"chase\", \"constant\", \"noisi\", \"evolut\", \"multipli\", \"teslauniv\", \"captn_hype\", \"cold_fusion\", \"beauti\", \"imit\", \"shrink\", \"gain\", \"softwar\", \"tune\", \"waymo\", \"pull\", \"repair\", \"process\", \"glad\", \"see\", \"say\", \"build\", \"continu\", \"dogecoin\", \"world\", \"go\", \"happen\", \"scottpolhamu\", \"garyblack\", \"invest\", \"peopl\", \"mjarchi\", \"door\", \"vehicl\", \"kill\", \"manual\", \"driver\", \"reason\", \"tsla\", \"free\", \"index\", \"sawyermerritt\", \"inform\", \"miss\", \"offici\", \"request\", \"borrow\", \"motortrend\", \"steal\", \"deadli\", \"mention\", \"socialfi\", \"invest\", \"earn\", \"alsodawn\", \"pilot\", \"world\\u2019_famou\", \"auto_pilot\", \"construct_worker\", \"sustain\", \"manslaught\", \"eject\", \"relat\", \"cashback\", \"sophist_\\u201cfull\", \"drove\", \"safe\", \"human\", \"idea\", \"amp\", \"autopilot\", \"remain\", \"social\", \"test\", \"vehicl\", \"maker\", \"kill\", \"say\", \"world\", \"door\", \"mjarchi\", \"garyblack\", \"peopl\", \"scottpolhamu\", \"build\", \"see\", \"problem\", \"technolog\", \"manual\", \"wait\", \"mean\", \"sure\", \"todai\", \"profit\", \"man\", \"gui\", \"shit\", \"goe\", \"legal\", \"coincid\", \"black\", \"temp\", \"discrimin\", \"suit\", \"wealthy\", \"text\", \"divin\", \"shipman\", \"wazihansonchita\", \"hitler\", \"amber_heard\", \"file\", \"bind\", \"director\", \"world\\u2019_richest\", \"arbitr\", \"matthewheywoo\", \"shadow\", \"sponsor_raid\", \"effemin\", \"sexi\", \"affair\", \"subsidi\", \"accomplish\", \"ai\", \"kind\", \"planet\", \"damn\", \"protect\", \"margin\", \"live\", \"woman\", \"socialistdogmom\", \"continu\", \"rest\", \"musk\", \"say\", \"go\", \"see\", \"turn\", \"mean\", \"world\", \"thomaskain\", \"mjarchi\", \"kill\", \"peopl\", \"garyblack\", \"problem\", \"door\", \"wait\", \"build\", \"scottpolhamu\", \"invest\", \"technolog\", \"vehicl\", \"manual\", \"happen\", \"energi\", \"rich\", \"instead\", \"answer\", \"wireless\", \"transmiss\", \"microwav\", \"billgat\", \"heat\", \"countri\", \"bring\", \"mission\", \"suppress\", \"petrofascist\", \"crematorium\", \"obsolet\", \"revolutioni\", \"default\", \"accel\", \"februari\", \"ancient\", \"sustain\", \"perpetu\", \"abroad\", \"currenc\", \"violat_neglect\", \"catturd\", \"reassess\", \"unlock\", \"electromagnet\", \"freedom\", \"technolog\", \"shib\", \"clean\", \"air\", \"green\", \"lithium\", \"world\", \"current\", \"state\", \"amp\", \"creat\", \"oil\", \"statement\", \"dogecoin\", \"peopl\", \"say\", \"build\", \"door\", \"mean\", \"go\", \"live\", \"garyblack\", \"riceandrew\", \"fokjhzauwx\", \"melissalm\", \"cbarber\", \"ryangrim\", \"lion\", \"incredul\", \"mirmakoffici\", \"reduct\", \"freesoul\", \"xvnft\", \"kairyssd\", \"socksthec\", \"vfurnbtjr\", \"honkin\", \"ehucjmp\", \"aiyxkcmnn\", \"gdpczx\", \"obyysgd\", \"samiershahirr\", \"odiou\", \"mairenibrun_dario\", \"protip\", \"misstep\", \"realjoserodr_lakotaman\", \"jaguar\", \"nearest\", \"saw\", \"nelfzfwh\", \"incest\", \"big\", \"comput\", \"grid\", \"radio\", \"recharg\", \"run\", \"solar\", \"yard\", \"blue\", \"vote\", \"accord\", \"implement\", \"iron\", \"support\", \"trump\", \"marketrebel\", \"profit\", \"sell\", \"take\", \"hard\", \"monei\", \"nonsen\", \"posit\", \"right\", \"share\", \"sort\", \"tax\", \"fall\", \"ratio\"], \"Freq\": [50800.0, 17358.0, 14473.0, 16245.0, 16405.0, 14824.0, 14104.0, 14778.0, 10661.0, 12720.0, 12282.0, 14436.0, 12260.0, 9239.0, 12188.0, 11823.0, 9646.0, 7401.0, 8560.0, 8434.0, 8325.0, 7833.0, 6153.0, 7215.0, 5878.0, 7752.0, 7416.0, 6956.0, 5090.0, 6038.0, 7830.201942300378, 6886.628018906, 5828.271109745812, 5086.961178383961, 5017.7287778794125, 4994.351420894595, 4743.301511620606, 3853.5515118322824, 3410.1717649666343, 3243.3856789507718, 3106.2440861270525, 3082.0087272496035, 3055.3593699541857, 2769.669370455086, 1868.7334927654383, 1858.2257937829177, 1666.7559952133572, 1647.8045797851987, 1575.6220454257789, 1562.1358779694417, 1379.2585062965838, 1336.9998296566193, 1177.6872308795098, 1120.78538984295, 1026.9338167500791, 1008.0382371886653, 1003.4848824435476, 987.6254591585739, 865.2993533649689, 849.6756815173618, 50798.40100671801, 14434.5659509229, 4115.093822738445, 3382.6002621063167, 2656.099167089034, 1905.7716059392535, 1561.0781581734248, 866.1019054725775, 538.4684198603679, 372.5795878956002, 336.41716317689895, 218.39276898088843, 0.1292536399931929, 0.12830899795471945, 0.12826863221114945, 0.12828705269107163, 0.12823621216648645, 0.12822427370409364, 0.1281871240767479, 0.12816300818357412, 0.12817205911127644, 0.12815185632545908, 0.12811763406086854, 0.1281199640026533, 0.1281329081236797, 0.12809221379857597, 0.12809561909810752, 0.12811590154005426, 0.12810295741902786, 0.12811420884730465, 0.12810972819002628, 0.12810830433671339, 0.1281074082052577, 12186.879046627482, 11821.346997185774, 7217.009316810794, 4124.669302534255, 3632.2651531511437, 3567.3220261825277, 3515.100869390966, 3493.6073291412845, 3360.0097917780295, 3236.94879443981, 2705.9403004547976, 2670.338394736294, 2597.647566425399, 2488.720932476741, 1944.1978526941114, 1551.3049174462549, 1454.014920724284, 991.9227421132098, 985.5555785064821, 957.2898206257157, 782.3778961449808, 726.3843929098573, 725.8580152553837, 630.1962988007001, 575.8380567560255, 551.4673731576195, 516.4112632936477, 387.9295791205518, 365.81505767148434, 217.08713164046966, 16403.258055672108, 14776.943426655465, 6954.875052478138, 4164.883146582526, 3434.1569718176024, 2827.828689398488, 2732.142565295411, 2410.0456183216525, 1638.1397905692916, 1492.4512198960736, 53.29206838767476, 0.1320905244332945, 0.13099936054527192, 0.1309933175931838, 0.13115468893188012, 0.13115947714212653, 0.13097301096659658, 0.1311061866696551, 0.13108988944803326, 0.1311100662737403, 0.13093431588198473, 0.13096680936898827, 0.13106020831343348, 0.130928546953977, 0.13104480527565282, 0.1310006152871136, 0.131000182617513, 0.13099683663926853, 0.13094516146663926, 0.13097266483091613, 0.1310208353797807, 0.13100872063096447, 0.13102513323114645, 0.13099664914910827, 0.13099324548158373, 0.13099343297174396, 12258.082451602151, 7750.943943225881, 7414.658263386731, 5245.374651035095, 4290.808635064715, 3943.842972450925, 2397.4574665604596, 2375.9210568513154, 2267.3361208729402, 1908.648254943247, 951.7959093270733, 687.780446259224, 537.7840215163931, 419.7057952938484, 372.3648160928546, 278.292328930095, 180.99483307994694, 169.7896844856612, 162.4254463631759, 0.12194207762956671, 0.12109893934099662, 0.12108726129993588, 0.12103898935088225, 0.12103311642198643, 0.12105205085325332, 0.12100613892643496, 0.12098342032158392, 0.12099020199467378, 0.1209397599102314, 0.12093886472938353, 0.1209549372946065, 0.12094232338265937, 8432.484466465985, 5234.186750003713, 4743.600341503156, 4191.288916996081, 3846.1349348153385, 3571.120580690941, 2705.523199052484, 2118.798769944935, 1631.2879375216914, 1627.4311182356823, 1613.9106396532575, 1583.1719375061118, 1575.9655575854729, 1094.1278171725405, 975.2401827057975, 928.7922651421131, 885.3123391924418, 800.886896775347, 763.1489775919043, 667.8246953063069, 554.7483486512255, 524.1336616684875, 0.12345904872410614, 0.1226101134960327, 0.12263419468102213, 0.12260759678863592, 0.12246961223740463, 0.12249172604706868, 0.12263627703282759, 0.12258544465347852, 0.12253591534090341, 0.12255537191636173, 0.12254342713760039, 16244.083660536173, 12280.829582157654, 8323.856857156967, 2011.8195208579375, 1773.6267726849135, 1682.510823055253, 1667.9010166477983, 1121.7950704459872, 817.4578394860021, 459.48861459746723, 441.6371297261889, 0.17038641699516002, 0.16893047713744525, 0.168925000231947, 0.16886070940089185, 0.16882900364520934, 0.1688308502165585, 0.16875889674248976, 0.1687628034342557, 0.16877121977986081, 0.16868316219375365, 0.16871186570078, 0.16866970860249533, 0.1686807252220411, 0.16869468128169376, 0.1686659400895378, 0.16866840218467005, 0.16867475840985838, 0.1686741805712049, 0.16865889297030726, 0.16867253498721346, 0.16867392933700773, 0.1686686911039968, 14822.918987014165, 14102.832831600077, 9644.718999836923, 4619.885691276956, 1646.5601108778587, 1039.7442396796416, 85.42951371383745, 0.1210082602557432, 0.12020174148538051, 0.12015641113262547, 0.12008794895013511, 0.12003492767748339, 0.12016753992915799, 0.1201104428233813, 0.12001376878726075, 0.12012202055225801, 0.12019449949782804, 0.1200420751529634, 0.12014900374894619, 0.12003454962919355, 0.12001224478009229, 0.12000542809686589, 0.12001036635265208, 0.12000690484799813, 0.12004492232914635, 0.1199988358798116, 0.12001081528499628, 0.12009211929533255, 0.12006347032336721, 0.12002700047740557, 0.12008315246245763, 0.12005914639605203, 0.12006163915196323, 0.12005848481154478, 0.1200504040293492, 0.12005862657965348, 0.12004996691101406, 0.12005594479959734, 0.12005091203173869, 0.12005268413309737, 0.12004960067673327, 12718.906487195114, 7831.382373973929, 6036.553264392302, 3672.5806223997165, 2604.7332852658997, 1764.5946903129825, 1364.1277940128284, 1314.9136145895263, 871.7265660207863, 723.4186273696438, 700.0828979647582, 641.140492128501, 598.5716387505738, 529.2747235153334, 509.08146982130336, 293.91767628343524, 292.61218942154045, 282.6029697196786, 148.19045157795054, 123.31240646070292, 114.43379188664464, 0.10309581651457864, 0.10309328078634002, 0.10301864694956753, 0.10304705588758299, 0.10295499029131724, 0.10302547475460834, 0.10295292658175507, 0.1029267460109796, 0.10300581462787506, 0.1029791949699587, 0.10297818506953467, 0.1030400414705073, 0.10357528869525014, 0.10299315794103896, 0.10303486024224483, 17356.306640166604, 8558.071065956434, 7213.579959649604, 5370.473651266383, 86.290588461571, 0.10740677610003888, 0.10752522334229005, 0.10735912939025623, 0.10735978892944366, 0.1074072057998125, 0.10736346636006447, 0.10736569480307653, 0.10739904150411358, 0.10739046749467702, 0.10737488837962855, 0.1073631965485787, 0.10735667110783037, 0.10738491137667386, 0.10813274887107267, 0.10743887367382701, 0.10737590766746367, 0.10738547098568137, 0.10751657938172755, 0.10733638528130798, 0.10734394999592742, 0.1074409622145872, 0.10735475244837603, 0.10736028858034323, 0.10734825698668167, 0.10732878059461658, 0.10736086817538673, 0.10740065038001019, 0.1073740289800813, 0.10739515422011496, 0.10746545510168394, 0.10750528727139735, 0.1073948744156112, 0.1074012199820357, 0.10746530520641406, 0.10743785438599189, 0.10739804220231446, 0.10740491739869248, 0.1073925660284552, 0.10741226226691611, 0.10739768245366677, 0.10739711285164126, 0.1073918865032318, 0.10739083723634271, 9237.530213207674, 4326.517294599159, 2510.0408957356394, 2190.5186699762894, 1395.6027925496576, 1385.4931709824377, 1196.6779108066762, 1027.7262127385106, 833.2720854151096, 490.8226584514006, 118.09422356862324, 0.1001800563198947, 0.10019300201990872, 0.10016119181340245, 0.10014420564960534, 0.10017015785928898, 0.10015530003343782, 0.10013075320246133, 0.10026872355438532, 0.10012923971769978, 0.10012410468011593, 0.10013343558393606, 0.10014505022815531, 0.100128381625893, 0.10013452340110843, 0.10012923296107137, 0.10013072617594773, 0.10011680076481574, 0.10012063177311843, 0.10013453015773682, 0.1001628134042184, 0.10079975400683945, 0.10017740096493358, 0.10017984686441431, 0.10024636587101037, 0.10021610293240765, 0.10024498076218841, 0.10021827856675239, 0.10020221806104605, 0.10018935344057282, 0.10019266418848873, 0.1001800090234959, 0.10017483344614166, 0.10016488768913714, 0.10016593496653911, 0.10016592820991072, 0.1001661241521343, 5028.0682291785015, 3652.3513516094067, 3269.6980532030766, 2868.497325195884, 2389.38850806409, 1969.896297933744, 986.3663547559796, 683.3116520731434, 505.7195602347405, 410.11673277284353, 251.69456699830752, 144.6347148053289, 128.57167984715122, 5.682019517677512, 0.10123184516684093, 0.10122081911537481, 0.10123157153668609, 0.10119847472568627, 0.10120257917800869, 0.10120005431794368, 0.10122667106936782, 0.10118560167067507, 0.10121377313888799, 0.10118221860694265, 0.10117955071293308, 0.10117955071293308, 0.10118024722605447, 0.10121298334275929, 0.10118104324105033, 0.10117817012442464, 0.1012208750851792, 0.10119653443913386, 0.10121592486692368, 0.10123014119724041, 0.10120338763073886, 0.10130737952730764, 0.10122195094919705, 0.10125558258277222, 0.10171500761272768, 0.10130527133134204, 0.10128164585501954, 0.10129794550583325, 0.10125427662066963, 0.10126938224898954, 0.10125728033350558, 0.10123185760457523, 0.10124182022975782, 0.10123418967975842, 0.10122712504667015, 14471.803634324802, 2854.3570608613004, 1874.215094549925, 1414.2019116691229, 1287.969419052412, 578.3255247455917, 308.2303502314438, 227.26580657157112, 0.06776574377421084, 0.06779794533615276, 0.06774869447594183, 0.06774889258398509, 0.0677492227640572, 0.06774942687537451, 0.06775113180520141, 0.06774533864575437, 0.0677453746653986, 0.06774523659009571, 0.0677450324787784, 0.06774706158540338, 0.06774982909473508, 0.06774572285529282, 0.06774804011907164, 0.0677637506872301, 0.06774546471450917, 0.06775586238514365, 0.0677444681710188, 0.06774447417429284, 0.0677445161972111, 0.06774453420703322, 0.06774634719579281, 0.06774580089785533, 0.06774973304235046, 0.06774895261672548, 0.06775269265645138, 0.06775272267282158, 0.0677641889262349, 0.0677505674974418, 0.0677818145388116, 0.06775142596562929, 0.06776944779429253, 0.06776239394729743, 0.06775980653618688, 0.06775188821773025, 0.06776613999029737, 0.06775931426771573, 0.06778092005097988, 0.06776836120169158, 0.06780792878087859, 0.0677586058813792, 0.06778187457155199, 0.06777024622973964, 0.06777667573623475, 0.0678174379669554, 0.06775889403853304, 0.06775849782244651, 0.06777612343502322, 0.06779245834368167, 0.06778568064729233, 0.06776156549548012, 0.06779845561444602, 0.06780957968123914, 0.06777426242007131, 0.06778476214636445, 0.06778000755332605, 0.06795474485076138, 0.06779141977727303, 0.06777141686817711, 0.06777018619699925, 0.06776967591870599, 10659.547495306384, 7399.51102679611, 1187.5012604885487, 1060.9433384120443, 737.0335800673846, 412.1508257532717, 0.09888122885821149, 0.0988803705263511, 0.09888105479091114, 0.09888236929914489, 0.098885610552324, 0.09886780766912168, 0.09889634870405999, 0.09887448224974238, 0.09886529269674751, 0.09886331193091584, 0.09886331193091584, 0.09886136717900837, 0.09886504660159873, 0.09887423615459359, 0.09887404408033112, 0.09886243559209333, 0.09886269969420423, 0.09886579088936578, 0.09886477649716714, 0.09886261566171439, 0.09885977656402233, 0.0988594224271009, 0.0988594224271009, 0.09886178734145751, 0.09886368407479937, 0.0988705147157583, 0.0988661210170044, 0.0988780296212773, 0.09887842577444363, 0.09890868947542343, 0.09889926583192118, 0.09888085671432796, 0.09889373769455459, 0.0988882575757536, 0.0988926032559419, 0.09940741630023706, 0.09896229620161354, 0.0989447094019565, 0.0989106402296516, 0.0989578184703698, 0.09890916365875889, 0.09889038239728214, 0.09891189471467833, 0.09897611954619039, 0.09897801627953225, 0.09893231460970674, 0.09889835948149518, 0.09891776498432495, 0.09892214067611675, 0.09890998597669508, 0.09890983591867752, 0.09890936173534205, 0.09894772856926964, 0.09890952980032172, 0.098908617447575, 0.09890847339187815, 0.09891660053410875, 0.09889984805702928, 5876.33090458822, 4569.555785822137, 3383.272333348044, 2040.3693766675547, 1784.1302775735553, 912.8402211871411, 812.9273949527484, 558.4142378286626, 443.4998166570436, 0.09896610471670801, 0.0989559582379683, 0.09893716249074558, 0.09893716249074558, 0.09893716249074558, 0.0989384293609628, 0.09893493970936447, 0.09893784199386209, 0.09895525570084784, 0.09892760337910658, 0.0989461687862898, 0.09892724635204536, 0.09894204569958286, 0.09895348208254373, 0.09893233686691819, 0.09894004174123926, 0.09892693539299205, 0.09892683173997427, 0.09892683173997427, 0.0989257721757926, 0.09892797192316977, 0.09893315457405838, 0.0989461227182819, 0.09894184991054929, 0.09894271368569739, 0.09894184991054929, 0.09896522942455793, 0.09896061110676607, 0.09897531831828778, 0.09895206549130085, 0.09938426402440552, 0.09901529383214197, 0.09898956484973048, 0.09903414716437456, 0.09903118729486705, 0.09900996146022768, 0.09899103902598325, 0.09899569189478102, 0.09896490694850264, 0.09901319773778257, 0.09898137626132647, 0.09895889507347184, 0.09897196687071314, 0.09896919127323724, 0.09897415510108833, 0.0989690645862155, 0.0989674291719351, 0.09896448081942957, 0.09896399710534665, 0.09896416986037626, 5088.316304944896, 2550.7469081351196, 2220.8611668569306, 1942.9081478207065, 1938.6389737177783, 1511.050901404058, 1390.0574794113397, 871.2733083252022, 606.3404505340392, 520.9467669073191, 322.82839662101105, 175.83738259050773, 0.10631300809988649, 0.10627682743714985, 0.10627995182750909, 0.10629393931175087, 0.10630311234394439, 0.10625880381874292, 0.10630033263721908, 0.10625639103330535, 0.10625639103330535, 0.10625511236821171, 0.10625633543917085, 0.10625363356423384, 0.10625363356423384, 0.10625363356423384, 0.10625333335590752, 0.1062540783173099, 0.10625335559356132, 0.10625442300094383, 0.10625622425090184, 0.10629403938119297, 0.10625922633416518, 0.10626059394987403, 0.10630380171121226, 0.10626454113342397, 0.10626488581705791, 0.10626981145737516, 0.1063265508310522, 0.10634361823034562, 0.10637002544423607, 0.10626977810089445, 0.10626600881857494, 0.1067667229504187, 0.10630603659541941, 0.10630491359390239, 0.10632691775233995, 0.10636961404764073, 0.10630544729759364, 0.10634614220405221, 0.10634114985077354, 0.106363165128038, 0.10631707759053236, 0.10630424646428831, 0.10630221171896538, 6151.530585790019, 3441.9476222987487, 3369.5343804875683, 2488.410957508075, 1304.676225426299, 876.2861269248384, 569.4034974077065, 510.9575342693365, 418.2013550277971, 67.24191216179945, 0.10422369177294785, 0.10421329237899513, 0.10422977380911232, 0.1042111503480102, 0.10422638873423976, 0.10420362549304761, 0.1042741793322765, 0.1042264553258766, 0.10419365894473433, 0.10419275995763704, 0.10419735478057879, 0.10420035140423646, 0.10419699962518232, 0.10420835349926305, 0.10419268226739405, 0.10419243809805899, 0.10419514615795702, 0.10419242699945284, 0.10419077330713805, 0.10419079550435034, 0.10425864128368119, 0.10423361392683658, 0.10423897455360197, 0.10426289204983262, 0.10421807587824126, 0.10420428031080985, 0.10421035124836817, 0.10421780951169392, 0.10427662102562721, 0.10422263740536461, 0.10425844150877067, 0.10428136013044878, 0.1047066365205027, 0.1043161986551207, 0.10428528903702217, 0.10430498906291981, 0.10428167089142068, 0.10426147142824677, 0.10428203714542329, 0.10425045051235023, 0.10424091680967638, 0.10424101669713164, 0.10424075033058429, 0.10423828644002132, 0.10423838632747658, 3910.643035553499, 2641.6203205621437, 2413.3059340522827, 2135.313674259845, 1782.763574947286, 1666.1617478759406, 865.1343532030296, 858.8661102035584, 103.99313255423284, 0.09856660318756545, 0.09854255853346391, 0.09854257790868881, 0.09854502887463873, 0.09854375979740775, 0.09854557138093593, 0.09853918724433122, 0.09853918724433122, 0.09853918724433122, 0.09853924537000593, 0.09853941005941758, 0.09854879735588187, 0.0985400300666144, 0.09853917755671877, 0.09853836379727295, 0.09853811191934923, 0.09853902255491956, 0.09853796660516248, 0.09853796660516248, 0.09853803441844963, 0.09853888692834525, 0.09853869317609626, 0.09855034737387391, 0.09854372104695794, 0.09854426355325516, 0.09854927204889194, 0.0985495917401028, 0.09854933017456664, 0.098544001987719, 0.09855767120888631, 0.09857882895447768, 0.09855573368639627, 0.09854682108294202, 0.09855207176889007, 0.09855505555352474, 0.09857807332070656, 0.09860469487971989, 0.09858064053800589, 0.09859040565135575, 0.0985661478697803, 0.09857657174077677, 0.09891311939729883, 0.09856763976209763, 0.09860765928912966, 0.09858234555779713, 0.09860831804677628, 0.09862353728593563, 0.0985754964157948, 0.09862228758392956, 0.09857315201358183, 0.09860974212580646, 0.09859013439820714, 0.09857524453787109, 0.09857421765095137, 0.09858325619336746, 0.09857424671378871, 0.09857332639060594, 2546.100515963815, 1902.9734720987417, 1213.3837164925826, 672.7721834507083, 0.05499856043467163, 0.054997726086410216, 0.05499552456352244, 0.054994310215062764, 0.05499439695423845, 0.05500053478352783, 0.05500042326173051, 0.05497637172744248, 0.05496849911463928, 0.05496679324418403, 0.05496659911364796, 0.0549668015050579, 0.0549668015050579, 0.05496664867889121, 0.05497650390142448, 0.05496706585302191, 0.05496562433053066, 0.05497437672640158, 0.05496564085227842, 0.054965731721891044, 0.054969341723774566, 0.0549655293304811, 0.0549655954174721, 0.054965475634800906, 0.054967305418364296, 0.05496560367834598, 0.05496683867899034, 0.05500270739335704, 0.05496797041871126, 0.054970601507040556, 0.054971183898648766, 0.05497094433330638, 0.05496655367884164, 0.05513125485173113, 0.05497599585768115, 0.05497390585659069, 0.054977792597749035, 0.054969259115035814, 0.054971539116225404, 0.05496787954909863, 0.0549683917232789, 0.05497967607699261, 0.054977383684492204, 0.05497907716363665, 0.05498003955544312, 0.054971539116225404, 0.05497105172466676, 0.05497029172427023, 0.05497136150743708, 0.004901746784927296, 0.004901746784927296, 0.004901746784927296, 0.004901746784927296, 0.004901746784927296, 0.004901746784927296, 0.004901746784927296, 0.004901746784927296, 0.004901746784927296, 0.004901746784927296, 0.004901746784927296, 0.004901746784927296, 0.004901746784927296, 0.004901746784927296, 0.004901746784927296, 0.004901746784927296, 0.004901746784927296, 0.004901746784927296, 0.004901746784927296, 0.004901746784927296, 0.004901746784927296, 0.004901746784927296, 0.004901746784927296, 0.004901746784927296, 0.004901746784927296, 0.004901746784927296, 0.004901746784927296, 0.004901746784927296, 0.004901746784927296, 0.004901746784927296, 0.004901746784927296, 0.004901746784927296, 0.004901746784927296, 0.004901746784927296, 0.004901746784927296, 0.004901746784927296, 0.004901746784927296, 0.004901746784927296, 0.004901746784927296, 0.004901746784927296, 0.004901746784927296, 0.004901746784927296, 0.004901746784927296, 0.004901746784927296, 0.004901746784927296, 0.004901746784927296, 0.004901746784927296, 0.004901746784927296, 0.004901746784927296, 0.004901746784927296, 0.004901746784927296, 0.004901746784927296, 0.004901746784927296, 0.004901746784927296, 0.004901746784927296, 0.004901746784927296, 0.004901746784927296, 0.004901746784927296, 0.004901746784927296], \"Total\": [50800.0, 17358.0, 14473.0, 16245.0, 16405.0, 14824.0, 14104.0, 14778.0, 10661.0, 12720.0, 12282.0, 14436.0, 12260.0, 9239.0, 12188.0, 11823.0, 9646.0, 7401.0, 8560.0, 8434.0, 8325.0, 7833.0, 6153.0, 7215.0, 5878.0, 7752.0, 7416.0, 6956.0, 5090.0, 6038.0, 7832.160386710521, 6888.586463316144, 5830.229554155956, 5088.919622794105, 5019.687222289556, 4996.309865304739, 4745.25995603075, 3855.509956242426, 3412.130209376778, 3245.3441233609155, 3108.2025305371963, 3083.9671716597472, 3057.3178143643295, 2771.62781486523, 1870.6919372108764, 1860.184238193062, 1668.7144396235014, 1649.763024195343, 1577.5804898359231, 1564.0943224778848, 1381.216950706728, 1338.9582740667636, 1179.645675289654, 1122.7438342530943, 1028.8922611602234, 1009.99668159881, 1005.4433269004282, 989.5839035687186, 867.2577977751135, 851.6341259275065, 50800.33715644755, 14436.502100652437, 4117.0299724679835, 3384.5364118358557, 2658.035316818573, 1907.7077556687925, 1563.0143079029638, 868.038055202117, 540.4045696024691, 374.5157376251394, 338.3533129744324, 220.32891871042764, 2.079372052500049, 2.067819769881396, 2.067300226318054, 2.0677248969001787, 2.0670408428294818, 2.0669715728372213, 2.0665703783334983, 2.066202356010773, 2.0663612979952495, 2.066054186441561, 2.0655386112525362, 2.0656528799773013, 2.0658908211907674, 2.0652802568708966, 2.065360418030102, 2.065699902887318, 2.0655035491996743, 2.0657119425946426, 2.0656548148536444, 2.0656422807237425, 2.065674237597672, 12188.821101081396, 11823.289051639687, 7218.951371264709, 4126.61135698817, 3634.2072076050595, 3569.2640806364434, 3517.042923844882, 3495.5493835952, 3361.951846231945, 3238.890848893726, 2707.8823549087133, 2672.2804491902098, 2599.5896208793147, 2490.6629869306566, 1946.1399071480273, 1553.2469719127325, 1455.9569751781999, 993.8647965671262, 987.4976329603985, 959.2318750796321, 784.3199505988972, 728.3264473637737, 727.8000697093001, 632.1383532546165, 577.7801112099419, 553.4094276115359, 518.3533177475641, 389.871633574468, 367.7571121254005, 219.02918609438584, 16405.191311561648, 14778.876682544995, 6956.808308367669, 4166.816402472057, 3436.090227707134, 2829.76194528802, 2734.0758211849425, 2411.978874211184, 1640.0730464588232, 1494.3844757856052, 55.22532427720667, 2.079372052500049, 2.064906414520745, 2.0651358649076745, 2.0677248969001787, 2.067819769881396, 2.064929285977677, 2.0670408428294818, 2.0669715728372213, 2.067300226318054, 2.064544200822944, 2.0650935388202227, 2.0665703783334983, 2.064517400809459, 2.0663612979952495, 2.0656738919217035, 2.065699902887318, 2.0656528799773013, 2.064854353817883, 2.065291157536309, 2.066054186441561, 2.0658908211907674, 2.066202356010773, 2.0657119425946426, 2.0656548148536444, 2.065674237597672, 12260.025767077896, 7752.887258701628, 7416.601578862477, 5247.317966510841, 4292.751950540462, 3945.786287926671, 2399.4007820362053, 2377.864372327061, 2269.279436348686, 1910.591570418993, 953.7392248028199, 689.7237617349706, 539.7273369921396, 421.6491107695946, 374.3081315686008, 280.2356444471374, 182.9381485556932, 171.73299996140747, 164.36876183892215, 2.079372052500049, 2.0677248969001787, 2.067819769881396, 2.0670408428294818, 2.0669715728372213, 2.067300226318054, 2.0665703783334983, 2.066202356010773, 2.0663612979952495, 2.0656422807237425, 2.065674237597672, 2.066054186441561, 2.0658908211907674, 8434.426205383561, 5236.128488921291, 4745.542080420734, 4193.230655913659, 3848.076673732916, 3573.0623196085185, 2707.4649379700613, 2120.740508866643, 1633.2296764392688, 1629.3728571532597, 1615.8523785708348, 1585.1136764822395, 1577.9072965030502, 1096.0695560901179, 977.1819216233755, 930.7340040596912, 887.2540781100198, 802.8286356929251, 765.0907165094824, 669.766434223885, 556.6900875688035, 526.0754005860656, 2.079372052500049, 2.0670408428294818, 2.0677248969001787, 2.067300226318054, 2.064981088372251, 2.0653783607079355, 2.067819769881396, 2.0669715728372213, 2.066202356010773, 2.0665703783334983, 2.0663612979952495, 16245.979306344028, 12282.72522796551, 8325.752502964822, 2013.7151666657935, 1775.5224184927695, 1684.406468863109, 1669.7966624556543, 1123.6907162538432, 819.3534852938586, 461.3842604053236, 443.53277553404524, 2.079372052500049, 2.0677248969001787, 2.067819769881396, 2.067300226318054, 2.0669715728372213, 2.0670408428294818, 2.066202356010773, 2.0663612979952495, 2.0665703783334983, 2.0656528799773013, 2.066054186441561, 2.0655386112525362, 2.0657119425946426, 2.0658908211907674, 2.0655392967302797, 2.0655712494052882, 2.0656548148536444, 2.065674237597672, 2.0655035491996743, 2.0656738919217035, 2.065699902887318, 2.0656422807237425, 14824.86316652618, 14104.777011112092, 9646.663179348938, 4621.829870788972, 1648.5042903898736, 1041.6884191916565, 87.3736932258528, 2.079372052500049, 2.0677248969001787, 2.0669715728372213, 2.0658908211907674, 2.0650093549877817, 2.067300226318054, 2.0663612979952495, 2.0647046791079737, 2.0665703783334983, 2.067819769881396, 2.0652000521877474, 2.0670408428294818, 2.0651004117033978, 2.064731556935572, 2.0646183058929304, 2.0647089697219974, 2.0646529305286148, 2.065312082148559, 2.0645568902724016, 2.0647915348975316, 2.066202356010773, 2.0657119425946426, 2.065085662735115, 2.066054186441561, 2.0656528799773013, 2.065699902887318, 2.0656548148536444, 2.0655035491996743, 2.0656738919217035, 2.0655392967302797, 2.065674237597672, 2.0655712494052882, 2.0656422807237425, 2.0655428320903653, 12720.867731395403, 7833.343618086897, 6038.514508505269, 3674.541866512684, 2606.694529378867, 1766.55593442595, 1366.089038125796, 1316.8748587024938, 873.6878101337543, 725.3798714826117, 702.0441420777262, 643.101736241469, 600.5328828635418, 531.2359676283014, 511.04271393427103, 295.8789203964029, 294.5734335345081, 284.56421383264626, 150.15169569091827, 125.27365084565425, 116.39503599961239, 2.0677248969001787, 2.067819769881396, 2.0663612979952495, 2.0669715728372213, 2.065127694494441, 2.0665703783334983, 2.0651280838755572, 2.0646055890073294, 2.066202356010773, 2.0656738919217035, 2.065674237597672, 2.0670408428294818, 2.079372052500049, 2.066054186441561, 2.067300226318054, 17358.263455275654, 8560.02788106548, 7215.53677475865, 5372.430466375429, 88.24740357061756, 2.0650133298314004, 2.067300226318054, 2.0644260598858866, 2.064441481221652, 2.065360418030102, 2.0645197401098736, 2.064563152901644, 2.0652186825260475, 2.0650568878720463, 2.0647699079626523, 2.0645518183256604, 2.0644376414059984, 2.0649849486694603, 2.079372052500049, 2.066054186441561, 2.0648571481806046, 2.0650689757788796, 2.0677248969001787, 2.064325206538434, 2.0644816888057864, 2.0663612979952495, 2.06471740300472, 2.0648262836603792, 2.064604137895948, 2.0642332467236177, 2.0648545834334944, 2.0656422807237425, 2.065117931148184, 2.0655428320903653, 2.0669715728372213, 2.067819769881396, 2.0655392967302797, 2.065674237597672, 2.0670408428294818, 2.0665703783334983, 2.0656548148536444, 2.0658908211907674, 2.0655035491996743, 2.066202356010773, 2.0657119425946426, 2.065699902887318, 2.0655712494052882, 2.0655386112525362, 9239.494245010499, 4328.481326401984, 2512.004927538465, 2192.482701779115, 1397.5668243524833, 1387.4572028886575, 1198.641942609502, 1029.6902445979017, 835.2361172179357, 492.78669025422647, 120.05825537144912, 2.0647915348975316, 2.0651004117033978, 2.064862008843378, 2.0645143934039885, 2.0652000521877474, 2.064937710687945, 2.064441481221652, 2.067300226318054, 2.0644260598858866, 2.0643218558495886, 2.0645197401098736, 2.0647699079626523, 2.0644327492578687, 2.064563152901644, 2.0644562570440863, 2.064496564278901, 2.064224031020603, 2.0643053343123015, 2.064603134773097, 2.0652186825260475, 2.079372052500049, 2.0655712494052882, 2.0656422807237425, 2.0677248969001787, 2.0669715728372213, 2.067819769881396, 2.0670408428294818, 2.0665703783334983, 2.066202356010773, 2.0663612979952495, 2.066054186441561, 2.0658908211907674, 2.0655392967302797, 2.0656548148536444, 2.065674237597672, 2.0657119425946426, 5030.031190531825, 3654.3143129627315, 3271.6610145564014, 2870.460286549209, 2391.3514694174146, 1971.8592592870687, 988.3293161093045, 685.2746134264682, 507.6825215880652, 412.0796941261682, 253.6575283516322, 146.5976761939475, 130.5346412004759, 7.644980871002202, 2.0650133298314004, 2.0647915348975316, 2.0651004117033978, 2.0644376414059984, 2.0645518183256604, 2.0645143934039885, 2.0650689757788796, 2.064268923787566, 2.0648571481806046, 2.06422133717827, 2.0641675247149625, 2.0641675247149625, 2.064189811324869, 2.064862008843378, 2.06421550927536, 2.064163592303306, 2.0650568878720463, 2.0645462138087276, 2.0649849486694603, 2.065360418030102, 2.0647383551363614, 2.067300226318054, 2.0652000521877474, 2.066054186441561, 2.079372052500049, 2.0677248969001787, 2.0670408428294818, 2.067819769881396, 2.0663612979952495, 2.0669715728372213, 2.0665703783334983, 2.0656548148536444, 2.066202356010773, 2.0658908211907674, 2.065699902887318, 14473.800026758783, 2856.353453284304, 1876.2114869729285, 1416.1983041146452, 1289.9658114754154, 580.3219171685956, 310.22674265444755, 229.26219899457485, 2.064648881479451, 2.065699902887318, 2.0642221985195746, 2.0642348064243317, 2.0642496250144955, 2.0642618985245167, 2.0643263568478734, 2.0641586638128415, 2.0641606730227555, 2.064162252503493, 2.0641565586512867, 2.064225842828962, 2.064311099387783, 2.064189641831298, 2.0642610350570445, 2.0647404709659405, 2.064183899522729, 2.0645029482652277, 2.064157221712925, 2.0641576614745794, 2.064160170662572, 2.0641609390286657, 2.06421675655103, 2.0642004574242754, 2.0643274383275165, 2.0643036875184237, 2.064430401004562, 2.064435477977083, 2.06486093813843, 2.064368568479311, 2.0655386112525362, 2.0644005927423117, 2.0651280838755572, 2.0648477184962273, 2.0647495065021526, 2.064424496718887, 2.065021398242129, 2.0647376306178, 2.0656738919217035, 2.0651524287994296, 2.0669715728372213, 2.0647311696844834, 2.0658908211907674, 2.065312082148559, 2.0656528799773013, 2.067819769881396, 2.0647531705894537, 2.0647335535369638, 2.065674237597672, 2.0665703783334983, 2.066202356010773, 2.0648992486779876, 2.0670408428294818, 2.0677248969001787, 2.0656548148536444, 2.0663612979952495, 2.066054186441561, 2.079372052500049, 2.067300226318054, 2.0656422807237425, 2.0655428320903653, 2.0655712494052882, 10661.51277465352, 7401.476306143246, 1189.4665398356851, 1062.9086177591807, 738.9988594145213, 414.1161051004082, 2.064423110789968, 2.0644327492578687, 2.0644562570440863, 2.064496564278901, 2.064603134773097, 2.064245531938539, 2.064854353817883, 2.064410063463533, 2.064226183019637, 2.0641865711943583, 2.0641865711943583, 2.0641590527506843, 2.0642406920444762, 2.064434117226685, 2.0644403241073737, 2.064200486973717, 2.064208942429947, 2.064283286074793, 2.0642662747215086, 2.0642213850977207, 2.0641634831858924, 2.0641594280480255, 2.0641594280480255, 2.0642089195424447, 2.0642501884884346, 2.0643970169651142, 2.0643036875184237, 2.0645726134797093, 2.064584250912575, 2.065377410231638, 2.065180092055125, 2.0646931853181125, 2.065041232306616, 2.064894747232425, 2.0650158760630464, 2.079372052500049, 2.0670408428294818, 2.0665703783334983, 2.0655712494052882, 2.0669715728372213, 2.0655428320903653, 2.064985507882031, 2.0656548148536444, 2.0677248969001787, 2.067819769881396, 2.0663612979952495, 2.0652379905571197, 2.0658908211907674, 2.066054186441561, 2.0656422807237425, 2.0656528799773013, 2.0656738919217035, 2.067300226318054, 2.0657119425946426, 2.065674237597672, 2.065699902887318, 2.066202356010773, 2.0655035491996743, 5878.29611772818, 4571.520998962098, 3385.237546488004, 2042.3345898075154, 1786.095490713516, 914.8054343271018, 814.8926080927091, 560.3794509686234, 445.46502979700426, 2.0647046791079737, 2.0646495257301427, 2.0643032064229523, 2.0643032064229523, 2.0643032064229523, 2.0643445793612254, 2.064273994647393, 2.064357830574893, 2.064727598280501, 2.064163147518854, 2.0645575307448354, 2.0641632732098, 2.064474927361726, 2.0647209530930275, 2.064279759322171, 2.064449742804213, 2.0641866510029576, 2.064186558927394, 2.064186558927394, 2.0641687707799954, 2.0642161912858046, 2.064327782914613, 2.06461535792836, 2.064534948404965, 2.0645813356240557, 2.0645618265102477, 2.065180092055125, 2.0651181348523227, 2.0656548148536444, 2.0649316359935916, 2.079372052500049, 2.0670408428294818, 2.066202356010773, 2.067819769881396, 2.0677248969001787, 2.0669715728372213, 2.0663612979952495, 2.0665703783334983, 2.0653783607079355, 2.067300226318054, 2.066054186441561, 2.0651643729361386, 2.0657119425946426, 2.0656422807237425, 2.0658908211907674, 2.065674237597672, 2.065699902887318, 2.0655035491996743, 2.0655386112525362, 2.0656528799773013, 5090.274191080819, 2552.7047942710433, 2222.8190529928543, 1944.8660339566302, 1940.596859853702, 1513.0087875399818, 1392.0153655472634, 873.2311944611258, 608.2983366699629, 522.9046530432428, 324.78628275693467, 177.79526872643135, 2.0650133298314004, 2.0644376414059984, 2.0645518183256604, 2.0648571481806046, 2.0650689757788796, 2.06422133717827, 2.0650568878720463, 2.064207260444846, 2.0642102708376004, 2.064186570686071, 2.0642129793708217, 2.064162522344697, 2.064162522344697, 2.064162522344697, 2.064166472969498, 2.0641812273490276, 2.0641673034694104, 2.0641895487535997, 2.064225472547975, 2.0649849486694603, 2.064290365787683, 2.0643263568478734, 2.065360418030102, 2.0644252378453047, 2.064438808561826, 2.064561800264908, 2.066054186441561, 2.0665703783334983, 2.067300226318054, 2.064588774851037, 2.06448997485747, 2.079372052500049, 2.065674237597672, 2.0656548148536444, 2.0663612979952495, 2.0677248969001787, 2.0657119425946426, 2.0670408428294818, 2.0669715728372213, 2.067819769881396, 2.066202356010773, 2.0658908211907674, 2.065699902887318, 6153.4905337338305, 3443.907570242561, 3371.494328431381, 2490.3709054518877, 1306.6361733701115, 878.2460748686509, 571.363445351519, 512.917482213149, 420.1613029716095, 69.20186010561183, 2.0645163898528023, 2.064430401004562, 2.0647791936883846, 2.0644252430844277, 2.0647531705894537, 2.0643029204059906, 2.0657119425946426, 2.0647913342598, 2.0641666808927366, 2.064160782746931, 2.064266975856335, 2.064327860327385, 2.064266857512382, 2.0644976958441354, 2.064191917917092, 2.064190523567448, 2.0642446313016403, 2.064190774590505, 2.0641581608709068, 2.064159179232077, 2.0655386112525362, 2.065041232306616, 2.0651524287994296, 2.0656528799773013, 2.064729403638001, 2.0644403241073737, 2.0645726134797093, 2.0647495065021526, 2.066202356010773, 2.0648998962610103, 2.0658908211907674, 2.0665703783334983, 2.079372052500049, 2.067819769881396, 2.0669715728372213, 2.0677248969001787, 2.0670408428294818, 2.0663612979952495, 2.067300226318054, 2.066054186441561, 2.0656422807237425, 2.0656738919217035, 2.065699902887318, 2.0655428320903653, 2.0655712494052882, 3912.6086354045074, 2643.585920413152, 2415.271533903291, 2137.2792741108533, 1784.7291747982947, 1668.1273477269492, 867.0999530540381, 860.8317100545669, 105.95873241633996, 2.0646768978221206, 2.064191239707407, 2.064193335130497, 2.0642548907940133, 2.0642402649167875, 2.0642945360115155, 2.064161715679966, 2.064161715679966, 2.064161715679966, 2.0641646504591136, 2.064171104416321, 2.064368568479311, 2.064192749902504, 2.0641776543850323, 2.0641609571796615, 2.0641559486590304, 2.064176487894137, 2.0641550885347013, 2.064155098329684, 2.0641565713876844, 2.064174812574931, 2.064171333588307, 2.064453943178087, 2.0642970022814704, 2.0643143436208646, 2.0644505274153078, 2.064474407594865, 2.064472256374979, 2.0643206794147484, 2.064727598280501, 2.065377410231638, 2.0646832780735602, 2.0644129679809087, 2.064588774851037, 2.0647209530930275, 2.0655392967302797, 2.0665703783334983, 2.065674237597672, 2.066054186441561, 2.065156603758224, 2.0655712494052882, 2.079372052500049, 2.0652379905571197, 2.0669715728372213, 2.0658908211907674, 2.0670408428294818, 2.0677248969001787, 2.0656422807237425, 2.067819769881396, 2.0655428320903653, 2.067300226318054, 2.0663612979952495, 2.0657119425946426, 2.0656738919217035, 2.066202356010773, 2.065699902887318, 2.0656548148536444, 2548.1096880835453, 1904.982644218472, 1215.3928886123128, 674.7813555704387, 2.0645076766861092, 2.064492426782155, 2.064455662790291, 2.0644885500835506, 2.0645357537857456, 2.064981088372251, 2.065230684920092, 2.064475492649323, 2.064211589067315, 2.0641646724719087, 2.0641580245999487, 2.064168951037275, 2.064169603269758, 2.06417987005364, 2.0645602934578062, 2.064210949566877, 2.064167424469881, 2.0644976958441354, 2.064177106676481, 2.0641836292181837, 2.0643254885230586, 2.064183810464453, 2.06418709905003, 2.0641827474419228, 2.064253964457587, 2.0641906467752094, 2.0642380724910185, 2.0656738919217035, 2.0642896419959227, 2.0644815509031704, 2.064525902194377, 2.064527767049839, 2.0642439710227354, 2.079372052500049, 2.0651181348523227, 2.0650935388202227, 2.0656528799773013, 2.0645616798488757, 2.064953962290963, 2.0643830878547953, 2.06448997485747, 2.0670408428294818, 2.0665703783334983, 2.067300226318054, 2.067819769881396, 2.0655712494052882, 2.065674237597672, 2.065377410231638, 2.0677248969001787, 2.064134766015742, 2.064134766015742, 2.064134766015742, 2.064134766015742, 2.064134766015742, 2.064134766015742, 2.064134766015742, 2.064134766015742, 2.064134766015742, 2.064134766015742, 2.064134766015742, 2.064134766015742, 2.064134766015742, 2.064134766015742, 2.064134766015742, 2.064134766015742, 2.064134766015742, 2.064134766015742, 2.064134766015742, 2.064134766015742, 2.064134766015742, 2.064134766015742, 2.064134766015742, 2.064134766015742, 2.064134766015742, 2.064134766015742, 2.064134766015742, 2.064134766015742, 2.064134766015742, 2.064134766015742, 7416.601578862477, 2.064249621078308, 556.6900875688035, 2.064199151654749, 2.0641572689492547, 3848.076673732916, 1615.8523785708348, 2.0641570005241485, 87.3736932258528, 1648.5042903898736, 577.7801112099419, 2.064164934773041, 2.064217136149076, 2707.8823549087133, 727.8000697093001, 2.064166695471032, 2415.271533903291, 8434.426205383561, 2829.76194528802, 3385.237546488004, 1786.095490713516, 2.064215994795455, 914.8054343271018, 5878.29611772818, 5372.430466375429, 445.46502979700426, 2042.3345898075154, 1907.7077556687925, 2.064188424499602], \"Category\": [\"Default\", \"Default\", \"Default\", \"Default\", \"Default\", \"Default\", \"Default\", \"Default\", \"Default\", \"Default\", \"Default\", \"Default\", \"Default\", \"Default\", \"Default\", \"Default\", \"Default\", \"Default\", \"Default\", \"Default\", \"Default\", \"Default\", \"Default\", \"Default\", \"Default\", \"Default\", \"Default\", \"Default\", \"Default\", \"Default\", \"Topic1\", \"Topic1\", \"Topic1\", \"Topic1\", \"Topic1\", \"Topic1\", \"Topic1\", \"Topic1\", \"Topic1\", \"Topic1\", \"Topic1\", \"Topic1\", \"Topic1\", \"Topic1\", \"Topic1\", \"Topic1\", \"Topic1\", \"Topic1\", \"Topic1\", \"Topic1\", \"Topic1\", \"Topic1\", \"Topic1\", \"Topic1\", \"Topic1\", \"Topic1\", \"Topic1\", \"Topic1\", \"Topic1\", \"Topic1\", \"Topic2\", \"Topic2\", \"Topic2\", \"Topic2\", \"Topic2\", \"Topic2\", \"Topic2\", \"Topic2\", \"Topic2\", \"Topic2\", \"Topic2\", \"Topic2\", \"Topic2\", \"Topic2\", \"Topic2\", \"Topic2\", \"Topic2\", \"Topic2\", \"Topic2\", \"Topic2\", \"Topic2\", \"Topic2\", \"Topic2\", \"Topic2\", \"Topic2\", \"Topic2\", \"Topic2\", \"Topic2\", \"Topic2\", \"Topic2\", \"Topic2\", \"Topic2\", \"Topic2\", \"Topic3\", \"Topic3\", \"Topic3\", \"Topic3\", \"Topic3\", \"Topic3\", \"Topic3\", \"Topic3\", \"Topic3\", \"Topic3\", \"Topic3\", \"Topic3\", \"Topic3\", \"Topic3\", \"Topic3\", \"Topic3\", \"Topic3\", \"Topic3\", \"Topic3\", \"Topic3\", \"Topic3\", \"Topic3\", \"Topic3\", \"Topic3\", \"Topic3\", \"Topic3\", \"Topic3\", \"Topic3\", \"Topic3\", \"Topic3\", \"Topic4\", \"Topic4\", \"Topic4\", \"Topic4\", \"Topic4\", \"Topic4\", \"Topic4\", \"Topic4\", \"Topic4\", \"Topic4\", \"Topic4\", \"Topic4\", \"Topic4\", \"Topic4\", \"Topic4\", \"Topic4\", \"Topic4\", \"Topic4\", \"Topic4\", \"Topic4\", \"Topic4\", \"Topic4\", \"Topic4\", \"Topic4\", \"Topic4\", \"Topic4\", \"Topic4\", \"Topic4\", \"Topic4\", \"Topic4\", \"Topic4\", \"Topic4\", \"Topic4\", \"Topic4\", \"Topic4\", \"Topic4\", \"Topic5\", \"Topic5\", \"Topic5\", \"Topic5\", \"Topic5\", \"Topic5\", \"Topic5\", \"Topic5\", \"Topic5\", \"Topic5\", \"Topic5\", \"Topic5\", \"Topic5\", \"Topic5\", \"Topic5\", \"Topic5\", \"Topic5\", \"Topic5\", \"Topic5\", \"Topic5\", \"Topic5\", \"Topic5\", \"Topic5\", \"Topic5\", \"Topic5\", \"Topic5\", \"Topic5\", \"Topic5\", \"Topic5\", \"Topic5\", \"Topic5\", \"Topic5\", \"Topic6\", \"Topic6\", \"Topic6\", \"Topic6\", \"Topic6\", \"Topic6\", \"Topic6\", \"Topic6\", \"Topic6\", \"Topic6\", \"Topic6\", \"Topic6\", \"Topic6\", \"Topic6\", \"Topic6\", \"Topic6\", \"Topic6\", \"Topic6\", \"Topic6\", \"Topic6\", \"Topic6\", \"Topic6\", \"Topic6\", \"Topic6\", \"Topic6\", \"Topic6\", \"Topic6\", \"Topic6\", \"Topic6\", \"Topic6\", \"Topic6\", \"Topic6\", \"Topic6\", \"Topic7\", \"Topic7\", \"Topic7\", \"Topic7\", \"Topic7\", \"Topic7\", \"Topic7\", \"Topic7\", \"Topic7\", \"Topic7\", \"Topic7\", \"Topic7\", \"Topic7\", \"Topic7\", \"Topic7\", \"Topic7\", \"Topic7\", \"Topic7\", \"Topic7\", \"Topic7\", \"Topic7\", \"Topic7\", \"Topic7\", \"Topic7\", \"Topic7\", \"Topic7\", \"Topic7\", \"Topic7\", \"Topic7\", \"Topic7\", \"Topic7\", \"Topic7\", \"Topic7\", \"Topic8\", \"Topic8\", \"Topic8\", \"Topic8\", \"Topic8\", \"Topic8\", \"Topic8\", \"Topic8\", \"Topic8\", \"Topic8\", \"Topic8\", \"Topic8\", \"Topic8\", \"Topic8\", \"Topic8\", \"Topic8\", \"Topic8\", \"Topic8\", \"Topic8\", \"Topic8\", \"Topic8\", \"Topic8\", \"Topic8\", \"Topic8\", \"Topic8\", \"Topic8\", \"Topic8\", \"Topic8\", \"Topic8\", \"Topic8\", \"Topic8\", \"Topic8\", \"Topic8\", \"Topic8\", \"Topic8\", \"Topic8\", \"Topic8\", \"Topic8\", \"Topic8\", \"Topic8\", \"Topic8\", \"Topic9\", \"Topic9\", \"Topic9\", \"Topic9\", \"Topic9\", \"Topic9\", \"Topic9\", \"Topic9\", \"Topic9\", \"Topic9\", \"Topic9\", \"Topic9\", \"Topic9\", \"Topic9\", \"Topic9\", \"Topic9\", \"Topic9\", \"Topic9\", \"Topic9\", \"Topic9\", \"Topic9\", \"Topic9\", \"Topic9\", \"Topic9\", \"Topic9\", \"Topic9\", \"Topic9\", \"Topic9\", \"Topic9\", \"Topic9\", \"Topic9\", \"Topic9\", \"Topic9\", \"Topic9\", \"Topic9\", \"Topic9\", \"Topic10\", \"Topic10\", \"Topic10\", \"Topic10\", \"Topic10\", \"Topic10\", \"Topic10\", \"Topic10\", \"Topic10\", \"Topic10\", \"Topic10\", \"Topic10\", \"Topic10\", \"Topic10\", \"Topic10\", \"Topic10\", \"Topic10\", \"Topic10\", \"Topic10\", \"Topic10\", \"Topic10\", \"Topic10\", \"Topic10\", \"Topic10\", \"Topic10\", \"Topic10\", \"Topic10\", \"Topic10\", \"Topic10\", \"Topic10\", \"Topic10\", \"Topic10\", \"Topic10\", \"Topic10\", \"Topic10\", \"Topic10\", \"Topic10\", \"Topic10\", \"Topic10\", \"Topic10\", \"Topic10\", \"Topic10\", \"Topic10\", \"Topic10\", \"Topic10\", \"Topic10\", \"Topic10\", \"Topic10\", \"Topic11\", \"Topic11\", \"Topic11\", \"Topic11\", \"Topic11\", \"Topic11\", \"Topic11\", \"Topic11\", \"Topic11\", \"Topic11\", \"Topic11\", \"Topic11\", \"Topic11\", \"Topic11\", \"Topic11\", \"Topic11\", \"Topic11\", \"Topic11\", \"Topic11\", \"Topic11\", \"Topic11\", \"Topic11\", \"Topic11\", \"Topic11\", \"Topic11\", \"Topic11\", \"Topic11\", \"Topic11\", \"Topic11\", \"Topic11\", \"Topic11\", \"Topic11\", \"Topic11\", \"Topic11\", \"Topic11\", \"Topic11\", \"Topic11\", \"Topic11\", \"Topic11\", \"Topic11\", \"Topic11\", \"Topic11\", \"Topic11\", \"Topic11\", \"Topic11\", \"Topic11\", \"Topic11\", \"Topic12\", \"Topic12\", \"Topic12\", \"Topic12\", \"Topic12\", \"Topic12\", \"Topic12\", \"Topic12\", \"Topic12\", \"Topic12\", \"Topic12\", \"Topic12\", \"Topic12\", \"Topic12\", \"Topic12\", \"Topic12\", \"Topic12\", \"Topic12\", \"Topic12\", \"Topic12\", \"Topic12\", \"Topic12\", \"Topic12\", \"Topic12\", \"Topic12\", \"Topic12\", \"Topic12\", \"Topic12\", \"Topic12\", \"Topic12\", \"Topic12\", \"Topic12\", \"Topic12\", \"Topic12\", \"Topic12\", \"Topic12\", \"Topic12\", \"Topic12\", \"Topic12\", \"Topic12\", \"Topic12\", \"Topic12\", \"Topic12\", \"Topic12\", \"Topic12\", \"Topic12\", \"Topic12\", \"Topic12\", \"Topic12\", \"Topic13\", \"Topic13\", \"Topic13\", \"Topic13\", \"Topic13\", \"Topic13\", \"Topic13\", \"Topic13\", \"Topic13\", \"Topic13\", \"Topic13\", \"Topic13\", \"Topic13\", \"Topic13\", \"Topic13\", \"Topic13\", \"Topic13\", \"Topic13\", \"Topic13\", \"Topic13\", \"Topic13\", \"Topic13\", \"Topic13\", \"Topic13\", \"Topic13\", \"Topic13\", \"Topic13\", \"Topic13\", \"Topic13\", \"Topic13\", \"Topic13\", \"Topic13\", \"Topic13\", \"Topic13\", \"Topic13\", \"Topic13\", \"Topic13\", \"Topic13\", \"Topic13\", \"Topic13\", \"Topic13\", \"Topic13\", \"Topic13\", \"Topic13\", \"Topic13\", \"Topic13\", \"Topic13\", \"Topic13\", \"Topic13\", \"Topic13\", \"Topic13\", \"Topic13\", \"Topic13\", \"Topic13\", \"Topic13\", \"Topic13\", \"Topic13\", \"Topic13\", \"Topic13\", \"Topic13\", \"Topic13\", \"Topic13\", \"Topic13\", \"Topic13\", \"Topic13\", \"Topic13\", \"Topic13\", \"Topic13\", \"Topic13\", \"Topic13\", \"Topic14\", \"Topic14\", \"Topic14\", \"Topic14\", \"Topic14\", \"Topic14\", \"Topic14\", \"Topic14\", \"Topic14\", \"Topic14\", \"Topic14\", \"Topic14\", \"Topic14\", \"Topic14\", \"Topic14\", \"Topic14\", \"Topic14\", \"Topic14\", \"Topic14\", \"Topic14\", \"Topic14\", \"Topic14\", \"Topic14\", \"Topic14\", \"Topic14\", \"Topic14\", \"Topic14\", \"Topic14\", \"Topic14\", \"Topic14\", \"Topic14\", \"Topic14\", \"Topic14\", \"Topic14\", \"Topic14\", \"Topic14\", \"Topic14\", \"Topic14\", \"Topic14\", \"Topic14\", \"Topic14\", \"Topic14\", \"Topic14\", \"Topic14\", \"Topic14\", \"Topic14\", \"Topic14\", \"Topic14\", \"Topic14\", \"Topic14\", \"Topic14\", \"Topic14\", \"Topic14\", \"Topic14\", \"Topic14\", \"Topic14\", \"Topic14\", \"Topic14\", \"Topic14\", \"Topic14\", \"Topic14\", \"Topic14\", \"Topic14\", \"Topic14\", \"Topic15\", \"Topic15\", \"Topic15\", \"Topic15\", \"Topic15\", \"Topic15\", \"Topic15\", \"Topic15\", \"Topic15\", \"Topic15\", \"Topic15\", \"Topic15\", \"Topic15\", \"Topic15\", \"Topic15\", \"Topic15\", \"Topic15\", \"Topic15\", \"Topic15\", \"Topic15\", \"Topic15\", \"Topic15\", \"Topic15\", \"Topic15\", \"Topic15\", \"Topic15\", \"Topic15\", \"Topic15\", \"Topic15\", \"Topic15\", \"Topic15\", \"Topic15\", \"Topic15\", \"Topic15\", \"Topic15\", \"Topic15\", \"Topic15\", \"Topic15\", \"Topic15\", \"Topic15\", \"Topic15\", \"Topic15\", \"Topic15\", \"Topic15\", \"Topic15\", \"Topic15\", \"Topic15\", \"Topic15\", \"Topic15\", \"Topic15\", \"Topic15\", \"Topic15\", \"Topic15\", \"Topic15\", \"Topic15\", \"Topic15\", \"Topic15\", \"Topic15\", \"Topic15\", \"Topic16\", \"Topic16\", \"Topic16\", \"Topic16\", \"Topic16\", \"Topic16\", \"Topic16\", \"Topic16\", \"Topic16\", \"Topic16\", \"Topic16\", \"Topic16\", \"Topic16\", \"Topic16\", \"Topic16\", \"Topic16\", \"Topic16\", \"Topic16\", \"Topic16\", \"Topic16\", \"Topic16\", \"Topic16\", \"Topic16\", \"Topic16\", \"Topic16\", \"Topic16\", \"Topic16\", \"Topic16\", \"Topic16\", \"Topic16\", \"Topic16\", \"Topic16\", \"Topic16\", \"Topic16\", \"Topic16\", \"Topic16\", \"Topic16\", \"Topic16\", \"Topic16\", \"Topic16\", \"Topic16\", \"Topic16\", \"Topic16\", \"Topic16\", \"Topic16\", \"Topic16\", \"Topic16\", \"Topic16\", \"Topic16\", \"Topic16\", \"Topic16\", \"Topic16\", \"Topic16\", \"Topic16\", \"Topic16\", \"Topic17\", \"Topic17\", \"Topic17\", \"Topic17\", \"Topic17\", \"Topic17\", \"Topic17\", \"Topic17\", \"Topic17\", \"Topic17\", \"Topic17\", \"Topic17\", \"Topic17\", \"Topic17\", \"Topic17\", \"Topic17\", \"Topic17\", \"Topic17\", \"Topic17\", \"Topic17\", \"Topic17\", \"Topic17\", \"Topic17\", \"Topic17\", \"Topic17\", \"Topic17\", \"Topic17\", \"Topic17\", \"Topic17\", \"Topic17\", \"Topic17\", \"Topic17\", \"Topic17\", \"Topic17\", \"Topic17\", \"Topic17\", \"Topic17\", \"Topic17\", \"Topic17\", \"Topic17\", \"Topic17\", \"Topic17\", \"Topic17\", \"Topic17\", \"Topic17\", \"Topic17\", \"Topic17\", \"Topic17\", \"Topic17\", \"Topic17\", \"Topic17\", \"Topic17\", \"Topic17\", \"Topic17\", \"Topic17\", \"Topic18\", \"Topic18\", \"Topic18\", \"Topic18\", \"Topic18\", \"Topic18\", \"Topic18\", \"Topic18\", \"Topic18\", \"Topic18\", \"Topic18\", \"Topic18\", \"Topic18\", \"Topic18\", \"Topic18\", \"Topic18\", \"Topic18\", \"Topic18\", \"Topic18\", \"Topic18\", \"Topic18\", \"Topic18\", \"Topic18\", \"Topic18\", \"Topic18\", \"Topic18\", \"Topic18\", \"Topic18\", \"Topic18\", \"Topic18\", \"Topic18\", \"Topic18\", \"Topic18\", \"Topic18\", \"Topic18\", \"Topic18\", \"Topic18\", \"Topic18\", \"Topic18\", \"Topic18\", \"Topic18\", \"Topic18\", \"Topic18\", \"Topic18\", \"Topic18\", \"Topic18\", \"Topic18\", \"Topic18\", \"Topic18\", \"Topic18\", \"Topic18\", \"Topic18\", \"Topic18\", \"Topic18\", \"Topic18\", \"Topic18\", \"Topic18\", \"Topic18\", \"Topic18\", \"Topic18\", \"Topic18\", \"Topic18\", \"Topic18\", \"Topic18\", \"Topic18\", \"Topic18\", \"Topic19\", \"Topic19\", \"Topic19\", \"Topic19\", \"Topic19\", \"Topic19\", \"Topic19\", \"Topic19\", \"Topic19\", \"Topic19\", \"Topic19\", \"Topic19\", \"Topic19\", \"Topic19\", \"Topic19\", \"Topic19\", \"Topic19\", \"Topic19\", \"Topic19\", \"Topic19\", \"Topic19\", \"Topic19\", \"Topic19\", \"Topic19\", \"Topic19\", \"Topic19\", \"Topic19\", \"Topic19\", \"Topic19\", \"Topic19\", \"Topic19\", \"Topic19\", \"Topic19\", \"Topic19\", \"Topic19\", \"Topic19\", \"Topic19\", \"Topic19\", \"Topic19\", \"Topic19\", \"Topic19\", \"Topic19\", \"Topic19\", \"Topic19\", \"Topic19\", \"Topic19\", \"Topic19\", \"Topic19\", \"Topic19\", \"Topic19\", \"Topic19\", \"Topic19\", \"Topic19\", \"Topic20\", \"Topic20\", \"Topic20\", \"Topic20\", \"Topic20\", \"Topic20\", \"Topic20\", \"Topic20\", \"Topic20\", \"Topic20\", \"Topic20\", \"Topic20\", \"Topic20\", \"Topic20\", \"Topic20\", \"Topic20\", \"Topic20\", \"Topic20\", \"Topic20\", \"Topic20\", \"Topic20\", \"Topic20\", \"Topic20\", \"Topic20\", \"Topic20\", \"Topic20\", \"Topic20\", \"Topic20\", \"Topic20\", \"Topic20\", \"Topic20\", \"Topic20\", \"Topic20\", \"Topic20\", \"Topic20\", \"Topic20\", \"Topic20\", \"Topic20\", \"Topic20\", \"Topic20\", \"Topic20\", \"Topic20\", \"Topic20\", \"Topic20\", \"Topic20\", \"Topic20\", \"Topic20\", \"Topic20\", \"Topic20\", \"Topic20\", \"Topic20\", \"Topic20\", \"Topic20\", \"Topic20\", \"Topic20\", \"Topic20\", \"Topic20\", \"Topic20\", \"Topic20\"], \"logprob\": [30.0, 29.0, 28.0, 27.0, 26.0, 25.0, 24.0, 23.0, 22.0, 21.0, 20.0, 19.0, 18.0, 17.0, 16.0, 15.0, 14.0, 13.0, 12.0, 11.0, 10.0, 9.0, 8.0, 7.0, 6.0, 5.0, 4.0, 3.0, 2.0, 1.0, -2.5414, -2.6698, -2.8367, -2.9727, -2.9864, -2.9911, -3.0427, -3.2504, -3.3726, -3.4228, -3.466, -3.4738, -3.4825, -3.5807, -3.9741, -3.9798, -4.0885, -4.1, -4.1448, -4.1534, -4.2779, -4.309, -4.4359, -4.4854, -4.5728, -4.5914, -4.5959, -4.6119, -4.7441, -4.7623, -0.5447, -1.803, -3.0579, -3.2539, -3.4957, -3.8277, -4.0272, -4.6163, -5.0916, -5.4599, -5.562, -5.994, -13.4263, -13.4337, -13.434, -13.4338, -13.4342, -13.4343, -13.4346, -13.4348, -13.4347, -13.4349, -13.4351, -13.4351, -13.435, -13.4353, -13.4353, -13.4352, -13.4353, -13.4352, -13.4352, -13.4352, -13.4352, -1.9558, -1.9863, -2.4797, -3.0392, -3.1663, -3.1844, -3.1991, -3.2052, -3.2442, -3.2815, -3.4607, -3.474, -3.5016, -3.5444, -3.7913, -4.0171, -4.0818, -4.4643, -4.4707, -4.4998, -4.7016, -4.7759, -4.7766, -4.9179, -5.0081, -5.0514, -5.117, -5.4031, -5.4618, -5.9836, -1.3525, -1.4569, -2.2105, -2.7232, -2.9162, -3.1104, -3.1449, -3.2703, -3.6564, -3.7495, -7.0819, -13.082, -13.0903, -13.0903, -13.0891, -13.089, -13.0905, -13.0894, -13.0896, -13.0894, -13.0908, -13.0905, -13.0898, -13.0908, -13.0899, -13.0902, -13.0902, -13.0903, -13.0907, -13.0905, -13.0901, -13.0902, -13.0901, -13.0903, -13.0903, -13.0903, -1.5823, -2.0407, -2.0851, -2.4312, -2.6321, -2.7164, -3.2141, -3.2231, -3.2699, -3.4421, -4.1379, -4.4628, -4.7088, -4.9567, -5.0764, -5.3676, -5.7978, -5.8617, -5.9061, -13.1005, -13.1074, -13.1075, -13.1079, -13.108, -13.1078, -13.1082, -13.1084, -13.1083, -13.1087, -13.1088, -13.1086, -13.1087, -1.8966, -2.3735, -2.4719, -2.5957, -2.6816, -2.7558, -3.0334, -3.2778, -3.5393, -3.5417, -3.55, -3.5692, -3.5738, -3.9387, -4.0537, -4.1025, -4.1505, -4.2507, -4.299, -4.4324, -4.6179, -4.6747, -13.0283, -13.0352, -13.035, -13.0352, -13.0363, -13.0361, -13.035, -13.0354, -13.0358, -13.0356, -13.0357, -1.2241, -1.5038, -1.8927, -3.3128, -3.4388, -3.4915, -3.5002, -3.8969, -4.2134, -4.7895, -4.8291, -12.6893, -12.6978, -12.6979, -12.6983, -12.6984, -12.6984, -12.6989, -12.6988, -12.6988, -12.6993, -12.6991, -12.6994, -12.6993, -12.6992, -12.6994, -12.6994, -12.6994, -12.6994, -12.6994, -12.6994, -12.6994, -12.6994, -1.2543, -1.3041, -1.684, -2.4201, -3.4518, -3.9115, -6.4105, -12.9701, -12.9768, -12.9772, -12.9777, -12.9782, -12.9771, -12.9775, -12.9784, -12.9774, -12.9768, -12.9781, -12.9772, -12.9782, -12.9784, -12.9784, -12.9784, -12.9784, -12.9781, -12.9785, -12.9784, -12.9777, -12.9779, -12.9782, -12.9778, -12.978, -12.978, -12.978, -12.978, -12.978, -12.978, -12.978, -12.978, -12.978, -12.9781, -1.3339, -1.8188, -2.0791, -2.5761, -2.9196, -3.3091, -3.5665, -3.6032, -4.0143, -4.2007, -4.2335, -4.3215, -4.3902, -4.5132, -4.5521, -5.1014, -5.1059, -5.1407, -5.7862, -5.97, -6.0447, -13.0568, -13.0569, -13.0576, -13.0573, -13.0582, -13.0575, -13.0582, -13.0585, -13.0577, -13.058, -13.058, -13.0574, -13.0522, -13.0578, -13.0574, -0.9291, -1.6362, -1.8071, -2.1021, -6.2331, -12.9219, -12.9208, -12.9224, -12.9224, -12.9219, -12.9223, -12.9223, -12.922, -12.9221, -12.9222, -12.9223, -12.9224, -12.9221, -12.9152, -12.9216, -12.9222, -12.9221, -12.9209, -12.9226, -12.9225, -12.9216, -12.9224, -12.9224, -12.9225, -12.9227, -12.9224, -12.922, -12.9222, -12.922, -12.9214, -12.921, -12.922, -12.922, -12.9214, -12.9216, -12.922, -12.922, -12.9221, -12.9219, -12.922, -12.922, -12.9221, -12.9221, -1.1684, -1.9269, -2.4714, -2.6075, -3.0584, -3.0656, -3.2121, -3.3643, -3.5741, -4.1034, -5.528, -12.6002, -12.6001, -12.6004, -12.6006, -12.6003, -12.6005, -12.6007, -12.5993, -12.6007, -12.6008, -12.6007, -12.6006, -12.6007, -12.6007, -12.6007, -12.6007, -12.6009, -12.6008, -12.6007, -12.6004, -12.5941, -12.6003, -12.6002, -12.5996, -12.5999, -12.5996, -12.5998, -12.6, -12.6001, -12.6001, -12.6002, -12.6003, -12.6004, -12.6004, -12.6004, -12.6004, -1.6937, -2.0134, -2.1241, -2.255, -2.4377, -2.6308, -3.3225, -3.6896, -3.9905, -4.2001, -4.6883, -5.2423, -5.36, -8.4792, -12.5068, -12.507, -12.5068, -12.5072, -12.5071, -12.5072, -12.5069, -12.5073, -12.507, -12.5073, -12.5074, -12.5074, -12.5074, -12.507, -12.5073, -12.5074, -12.507, -12.5072, -12.507, -12.5069, -12.5071, -12.5061, -12.5069, -12.5066, -12.5021, -12.5061, -12.5064, -12.5062, -12.5066, -12.5065, -12.5066, -12.5068, -12.5067, -12.5068, -12.5069, -0.6013, -2.2246, -2.6453, -2.9269, -3.0204, -3.8211, -4.4504, -4.7551, -12.8729, -12.8724, -12.8732, -12.8732, -12.8732, -12.8732, -12.8731, -12.8732, -12.8732, -12.8732, -12.8732, -12.8732, -12.8732, -12.8732, -12.8732, -12.8729, -12.8732, -12.8731, -12.8732, -12.8732, -12.8732, -12.8732, -12.8732, -12.8732, -12.8732, -12.8732, -12.8731, -12.8731, -12.8729, -12.8731, -12.8727, -12.8731, -12.8729, -12.873, -12.873, -12.8731, -12.8729, -12.873, -12.8727, -12.8729, -12.8723, -12.873, -12.8727, -12.8729, -12.8728, -12.8722, -12.873, -12.873, -12.8728, -12.8725, -12.8726, -12.873, -12.8724, -12.8723, -12.8728, -12.8726, -12.8727, -12.8701, -12.8725, -12.8728, -12.8729, -12.8729, -0.9069, -1.2719, -3.1015, -3.2141, -3.5784, -4.1597, -12.4949, -12.4949, -12.4949, -12.4949, -12.4949, -12.495, -12.4947, -12.495, -12.4951, -12.4951, -12.4951, -12.4951, -12.4951, -12.495, -12.495, -12.4951, -12.4951, -12.4951, -12.4951, -12.4951, -12.4951, -12.4951, -12.4951, -12.4951, -12.4951, -12.495, -12.4951, -12.4949, -12.4949, -12.4946, -12.4947, -12.4949, -12.4948, -12.4948, -12.4948, -12.4896, -12.4941, -12.4943, -12.4946, -12.4941, -12.4946, -12.4948, -12.4946, -12.4939, -12.4939, -12.4944, -12.4947, -12.4945, -12.4945, -12.4946, -12.4946, -12.4946, -12.4942, -12.4946, -12.4946, -12.4946, -12.4945, -12.4947, -1.4609, -1.7124, -2.013, -2.5187, -2.6529, -3.323, -3.439, -3.8145, -4.0449, -12.4526, -12.4527, -12.4529, -12.4529, -12.4529, -12.4529, -12.4529, -12.4529, -12.4527, -12.453, -12.4528, -12.453, -12.4528, -12.4527, -12.4529, -12.4528, -12.453, -12.453, -12.453, -12.453, -12.453, -12.4529, -12.4528, -12.4528, -12.4528, -12.4528, -12.4526, -12.4526, -12.4525, -12.4527, -12.4484, -12.4521, -12.4523, -12.4519, -12.4519, -12.4521, -12.4523, -12.4523, -12.4526, -12.4521, -12.4524, -12.4526, -12.4525, -12.4525, -12.4525, -12.4525, -12.4526, -12.4526, -12.4526, -12.4526, -1.5697, -2.2603, -2.3988, -2.5325, -2.5347, -2.7838, -2.8673, -3.3345, -3.697, -3.8488, -4.3273, -4.9348, -12.3458, -12.3461, -12.3461, -12.346, -12.3459, -12.3463, -12.3459, -12.3463, -12.3463, -12.3463, -12.3463, -12.3463, -12.3463, -12.3463, -12.3463, -12.3463, -12.3463, -12.3463, -12.3463, -12.346, -12.3463, -12.3463, -12.3459, -12.3462, -12.3462, -12.3462, -12.3456, -12.3455, -12.3452, -12.3462, -12.3462, -12.3415, -12.3458, -12.3459, -12.3456, -12.3452, -12.3458, -12.3455, -12.3455, -12.3453, -12.3457, -12.3459, -12.3459, -1.3781, -1.9588, -1.9801, -2.2832, -2.9289, -3.3269, -3.758, -3.8663, -4.0666, -5.8943, -12.3638, -12.3639, -12.3637, -12.3639, -12.3638, -12.364, -12.3633, -12.3638, -12.3641, -12.3641, -12.3641, -12.364, -12.3641, -12.364, -12.3641, -12.3641, -12.3641, -12.3641, -12.3641, -12.3641, -12.3635, -12.3637, -12.3637, -12.3634, -12.3639, -12.364, -12.3639, -12.3639, -12.3633, -12.3638, -12.3635, -12.3633, -12.3592, -12.3629, -12.3632, -12.363, -12.3632, -12.3634, -12.3632, -12.3635, -12.3636, -12.3636, -12.3636, -12.3637, -12.3637, -1.6952, -2.0875, -2.1779, -2.3002, -2.4807, -2.5483, -3.2037, -3.211, -5.3223, -12.2836, -12.2839, -12.2839, -12.2839, -12.2839, -12.2839, -12.2839, -12.2839, -12.2839, -12.2839, -12.2839, -12.2838, -12.2839, -12.2839, -12.2839, -12.2839, -12.2839, -12.2839, -12.2839, -12.2839, -12.2839, -12.2839, -12.2838, -12.2839, -12.2839, -12.2838, -12.2838, -12.2838, -12.2839, -12.2837, -12.2835, -12.2837, -12.2838, -12.2838, -12.2838, -12.2835, -12.2833, -12.2835, -12.2834, -12.2836, -12.2835, -12.2801, -12.2836, -12.2832, -12.2835, -12.2832, -12.2831, -12.2835, -12.2831, -12.2836, -12.2832, -12.2834, -12.2836, -12.2836, -12.2835, -12.2836, -12.2836, -1.2718, -1.563, -2.013, -2.6027, -12.0146, -12.0146, -12.0147, -12.0147, -12.0147, -12.0146, -12.0146, -12.015, -12.0151, -12.0152, -12.0152, -12.0152, -12.0152, -12.0152, -12.015, -12.0152, -12.0152, -12.015, -12.0152, -12.0152, -12.0151, -12.0152, -12.0152, -12.0152, -12.0152, -12.0152, -12.0152, -12.0145, -12.0152, -12.0151, -12.0151, -12.0151, -12.0152, -12.0122, -12.015, -12.015, -12.015, -12.0151, -12.0151, -12.0152, -12.0151, -12.0149, -12.015, -12.015, -12.0149, -12.0151, -12.0151, -12.0151, -12.0151, -10.8197, -10.8197, -10.8197, -10.8197, -10.8197, -10.8197, -10.8197, -10.8197, -10.8197, -10.8197, -10.8197, -10.8197, -10.8197, -10.8197, -10.8197, -10.8197, -10.8197, -10.8197, -10.8197, -10.8197, -10.8197, -10.8197, -10.8197, -10.8197, -10.8197, -10.8197, -10.8197, -10.8197, -10.8197, -10.8197, -10.8197, -10.8197, -10.8197, -10.8197, -10.8197, -10.8197, -10.8197, -10.8197, -10.8197, -10.8197, -10.8197, -10.8197, -10.8197, -10.8197, -10.8197, -10.8197, -10.8197, -10.8197, -10.8197, -10.8197, -10.8197, -10.8197, -10.8197, -10.8197, -10.8197, -10.8197, -10.8197, -10.8197, -10.8197], \"loglift\": [30.0, 29.0, 28.0, 27.0, 26.0, 25.0, 24.0, 23.0, 22.0, 21.0, 20.0, 19.0, 18.0, 17.0, 16.0, 15.0, 14.0, 13.0, 12.0, 11.0, 10.0, 9.0, 8.0, 7.0, 6.0, 5.0, 4.0, 3.0, 2.0, 1.0, 2.1649, 2.1648, 2.1648, 2.1647, 2.1647, 2.1647, 2.1647, 2.1646, 2.1645, 2.1645, 2.1645, 2.1645, 2.1645, 2.1644, 2.1641, 2.1641, 2.1639, 2.1639, 2.1639, 2.1639, 2.1637, 2.1637, 2.1635, 2.1634, 2.1632, 2.1632, 2.1632, 2.1631, 2.1629, 2.1628, 2.2919, 2.2918, 2.2915, 2.2914, 2.2912, 2.2909, 2.2907, 2.2897, 2.2883, 2.2868, 2.2862, 2.2831, -0.4861, -0.4879, -0.4879, -0.488, -0.4881, -0.4881, -0.4882, -0.4882, -0.4882, -0.4882, -0.4883, -0.4883, -0.4883, -0.4883, -0.4883, -0.4884, -0.4884, -0.4884, -0.4884, -0.4884, -0.4884, 2.3082, 2.3082, 2.3081, 2.3079, 2.3078, 2.3078, 2.3078, 2.3078, 2.3078, 2.3077, 2.3076, 2.3076, 2.3076, 2.3076, 2.3073, 2.3071, 2.307, 2.3064, 2.3064, 2.3063, 2.3059, 2.3057, 2.3057, 2.3053, 2.305, 2.3048, 2.3046, 2.3033, 2.303, 2.2994, 2.6145, 2.6145, 2.6143, 2.6141, 2.614, 2.6139, 2.6139, 2.6138, 2.6134, 2.6133, 2.5789, -0.1418, -0.1431, -0.1432, -0.1432, -0.1433, -0.1433, -0.1433, -0.1434, -0.1434, -0.1434, -0.1434, -0.1434, -0.1434, -0.1434, -0.1434, -0.1434, -0.1434, -0.1435, -0.1435, -0.1435, -0.1435, -0.1435, -0.1435, -0.1435, -0.1435, 2.6758, 2.6757, 2.6757, 2.6756, 2.6755, 2.6755, 2.6752, 2.6752, 2.6751, 2.675, 2.6739, 2.6732, 2.6724, 2.6714, 2.6708, 2.669, 2.6653, 2.6646, 2.6641, -0.1603, -0.1616, -0.1618, -0.1618, -0.1618, -0.1618, -0.1618, -0.1618, -0.1618, -0.1619, -0.1619, -0.162, -0.162, 2.7356, 2.7355, 2.7354, 2.7354, 2.7354, 2.7353, 2.7351, 2.7349, 2.7347, 2.7347, 2.7347, 2.7346, 2.7346, 2.7341, 2.7339, 2.7338, 2.7337, 2.7334, 2.7333, 2.733, 2.7324, 2.7322, -0.0881, -0.089, -0.0891, -0.0892, -0.0892, -0.0892, -0.0892, -0.0892, -0.0892, -0.0892, -0.0892, 2.7526, 2.7526, 2.7525, 2.7518, 2.7516, 2.7516, 2.7516, 2.751, 2.7504, 2.7486, 2.7484, 0.251, 0.248, 0.2479, 0.2478, 0.2478, 0.2477, 0.2477, 0.2477, 0.2476, 0.2475, 0.2475, 0.2475, 0.2475, 0.2475, 0.2475, 0.2475, 0.2475, 0.2475, 0.2475, 0.2475, 0.2474, 0.2474, 2.8139, 2.8139, 2.8139, 2.8137, 2.8129, 2.8122, 2.7916, -0.0299, -0.031, -0.031, -0.031, -0.031, -0.031, -0.0311, -0.0311, -0.0311, -0.0311, -0.0311, -0.0311, -0.0311, -0.0311, -0.0311, -0.0311, -0.0311, -0.0311, -0.0311, -0.0311, -0.0311, -0.0311, -0.0311, -0.0311, -0.0311, -0.0311, -0.0312, -0.0311, -0.0312, -0.0312, -0.0312, -0.0312, -0.0312, -0.0312, 2.8874, 2.8873, 2.8872, 2.887, 2.8868, 2.8864, 2.8861, 2.886, 2.8853, 2.8848, 2.8847, 2.8845, 2.8843, 2.8838, 2.8837, 2.8809, 2.8809, 2.8806, 2.8744, 2.8718, 2.8705, -0.111, -0.1111, -0.1111, -0.1111, -0.1111, -0.1111, -0.1111, -0.1111, -0.1111, -0.1111, -0.1112, -0.1112, -0.112, -0.1112, -0.1114, 2.9814, 2.9812, 2.9812, 2.9811, 2.959, 0.0252, 0.0252, 0.025, 0.025, 0.025, 0.025, 0.025, 0.025, 0.025, 0.025, 0.025, 0.025, 0.025, 0.025, 0.025, 0.025, 0.025, 0.0249, 0.0249, 0.0249, 0.0249, 0.0249, 0.0249, 0.0249, 0.0249, 0.0249, 0.0248, 0.0248, 0.0248, 0.0248, 0.0248, 0.0248, 0.0248, 0.0248, 0.0247, 0.0248, 0.0248, 0.0248, 0.0247, 0.0248, 0.0248, 0.0248, 0.0248, 3.3726, 3.3724, 3.3721, 3.3719, 3.3714, 3.3714, 3.3712, 3.3709, 3.3705, 3.3688, 3.3563, 0.347, 0.347, 0.3468, 0.3468, 0.3467, 0.3467, 0.3467, 0.3467, 0.3467, 0.3467, 0.3467, 0.3467, 0.3467, 0.3467, 0.3467, 0.3467, 0.3467, 0.3467, 0.3467, 0.3466, 0.3461, 0.3466, 0.3466, 0.3463, 0.3463, 0.3462, 0.3463, 0.3464, 0.3464, 0.3464, 0.3464, 0.3464, 0.3465, 0.3465, 0.3465, 0.3464, 3.4554, 3.4552, 3.4552, 3.4551, 3.4549, 3.4548, 3.4538, 3.4529, 3.4519, 3.451, 3.448, 3.4423, 3.4406, 3.159, 0.4403, 0.4403, 0.4402, 0.4402, 0.4402, 0.4402, 0.4402, 0.4402, 0.4402, 0.4402, 0.4402, 0.4402, 0.4402, 0.4402, 0.4402, 0.4402, 0.4402, 0.4402, 0.4401, 0.4401, 0.4401, 0.4399, 0.4401, 0.44, 0.4381, 0.4397, 0.4398, 0.4396, 0.4399, 0.4397, 0.4398, 0.44, 0.4398, 0.4399, 0.4399, 3.4909, 3.4904, 3.49, 3.4896, 3.4895, 3.4876, 3.4846, 3.4823, 0.0744, 0.0744, 0.0743, 0.0743, 0.0743, 0.0743, 0.0743, 0.0743, 0.0743, 0.0743, 0.0743, 0.0743, 0.0743, 0.0743, 0.0743, 0.0743, 0.0743, 0.0743, 0.0743, 0.0743, 0.0743, 0.0743, 0.0743, 0.0743, 0.0743, 0.0743, 0.0743, 0.0743, 0.0743, 0.0743, 0.0742, 0.0743, 0.0742, 0.0742, 0.0743, 0.0743, 0.0742, 0.0743, 0.0741, 0.0742, 0.0739, 0.0742, 0.074, 0.0741, 0.0741, 0.0736, 0.0742, 0.0742, 0.0741, 0.0739, 0.0739, 0.0742, 0.0737, 0.0736, 0.074, 0.0738, 0.0739, 0.0701, 0.0735, 0.074, 0.074, 0.074, 3.491, 3.4909, 3.4896, 3.4894, 3.4885, 3.4865, 0.4525, 0.4525, 0.4525, 0.4525, 0.4525, 0.4525, 0.4525, 0.4525, 0.4525, 0.4525, 0.4525, 0.4525, 0.4524, 0.4524, 0.4524, 0.4524, 0.4524, 0.4524, 0.4524, 0.4524, 0.4524, 0.4524, 0.4524, 0.4524, 0.4524, 0.4524, 0.4524, 0.4524, 0.4524, 0.4523, 0.4523, 0.4524, 0.4524, 0.4524, 0.4524, 0.4506, 0.4521, 0.4521, 0.4523, 0.4521, 0.4523, 0.4523, 0.4522, 0.4519, 0.4519, 0.4521, 0.4523, 0.4522, 0.4521, 0.4522, 0.4522, 0.4522, 0.4518, 0.4522, 0.4522, 0.4522, 0.452, 0.4522, 3.5323, 3.5323, 3.5321, 3.5317, 3.5316, 3.5305, 3.5303, 3.5292, 3.5283, 0.4947, 0.4946, 0.4946, 0.4946, 0.4946, 0.4946, 0.4946, 0.4946, 0.4946, 0.4946, 0.4946, 0.4946, 0.4946, 0.4946, 0.4946, 0.4946, 0.4946, 0.4946, 0.4946, 0.4946, 0.4946, 0.4946, 0.4946, 0.4946, 0.4945, 0.4945, 0.4945, 0.4945, 0.4943, 0.4945, 0.4919, 0.4941, 0.4942, 0.4939, 0.4939, 0.4941, 0.4942, 0.4941, 0.4944, 0.4939, 0.4942, 0.4944, 0.4943, 0.4943, 0.4942, 0.4943, 0.4942, 0.4943, 0.4943, 0.4942, 3.5675, 3.5671, 3.567, 3.5669, 3.5669, 3.5666, 3.5665, 3.5656, 3.5646, 3.5641, 3.5618, 3.5568, 0.6014, 0.6013, 0.6013, 0.6013, 0.6012, 0.6012, 0.6012, 0.6012, 0.6012, 0.6012, 0.6012, 0.6012, 0.6012, 0.6012, 0.6012, 0.6012, 0.6012, 0.6012, 0.6012, 0.6012, 0.6012, 0.6012, 0.6011, 0.6012, 0.6012, 0.6012, 0.601, 0.6009, 0.6008, 0.6012, 0.6012, 0.5987, 0.601, 0.601, 0.6008, 0.6006, 0.601, 0.6007, 0.6007, 0.6005, 0.6008, 0.6009, 0.6009, 3.5694, 3.5691, 3.5691, 3.5689, 3.5682, 3.5675, 3.5662, 3.5659, 3.565, 3.541, 0.5836, 0.5835, 0.5835, 0.5835, 0.5835, 0.5835, 0.5835, 0.5835, 0.5835, 0.5834, 0.5834, 0.5834, 0.5834, 0.5834, 0.5834, 0.5834, 0.5834, 0.5834, 0.5834, 0.5834, 0.5834, 0.5834, 0.5834, 0.5834, 0.5834, 0.5834, 0.5834, 0.5834, 0.5833, 0.5834, 0.5832, 0.5831, 0.581, 0.5829, 0.583, 0.5828, 0.5829, 0.583, 0.5828, 0.5831, 0.5832, 0.5832, 0.5832, 0.5832, 0.5832, 3.7052, 3.7049, 3.7048, 3.7047, 3.7046, 3.7045, 3.7034, 3.7034, 3.6869, 0.6637, 0.6637, 0.6637, 0.6636, 0.6636, 0.6636, 0.6636, 0.6636, 0.6636, 0.6636, 0.6636, 0.6636, 0.6636, 0.6636, 0.6636, 0.6636, 0.6636, 0.6636, 0.6636, 0.6636, 0.6636, 0.6636, 0.6636, 0.6636, 0.6636, 0.6636, 0.6636, 0.6636, 0.6636, 0.6635, 0.6634, 0.6635, 0.6636, 0.6636, 0.6635, 0.6634, 0.6631, 0.6633, 0.6632, 0.6634, 0.6633, 0.6601, 0.6634, 0.663, 0.6632, 0.6629, 0.6628, 0.6633, 0.6627, 0.6633, 0.6628, 0.6631, 0.6632, 0.6633, 0.6631, 0.6632, 0.6633, 4.5573, 4.5571, 4.5565, 4.5551, 0.9328, 0.9328, 0.9328, 0.9327, 0.9327, 0.9326, 0.9325, 0.9324, 0.9324, 0.9324, 0.9324, 0.9324, 0.9324, 0.9324, 0.9324, 0.9324, 0.9323, 0.9323, 0.9323, 0.9323, 0.9323, 0.9323, 0.9323, 0.9323, 0.9323, 0.9323, 0.9323, 0.9323, 0.9323, 0.9323, 0.9323, 0.9323, 0.9323, 0.928, 0.9321, 0.932, 0.9318, 0.9322, 0.9321, 0.9323, 0.9322, 0.9312, 0.9314, 0.9311, 0.9308, 0.9318, 0.9317, 0.9318, 0.9307, 2.1279, 2.1279, 2.1279, 2.1279, 2.1279, 2.1279, 2.1279, 2.1279, 2.1279, 2.1279, 2.1279, 2.1279, 2.1279, 2.1279, 2.1279, 2.1279, 2.1279, 2.1279, 2.1279, 2.1279, 2.1279, 2.1279, 2.1279, 2.1279, 2.1279, 2.1279, 2.1279, 2.1279, 2.1279, 2.1279, -6.0589, 2.1278, -3.4694, 2.1278, 2.1279, -5.4028, -4.535, 2.1279, -1.6176, -4.555, -3.5066, 2.1278, 2.1278, -5.0513, -3.7375, 2.1278, -4.937, -6.1875, -5.0954, -5.2746, -4.6352, 2.1278, -3.9661, -5.8264, -5.7365, -3.2465, -4.7693, -4.7011, 2.1278]}, \"token.table\": {\"Topic\": [3, 12, 1, 3, 1, 5, 3, 19, 12, 5, 15, 5, 13, 12, 9, 1, 5, 1, 11, 3, 8, 11, 1, 3, 3, 3, 9, 3, 2, 11, 16, 1, 4, 9, 7, 18, 3, 6, 3, 5, 3, 16, 9, 2, 13, 7, 14, 1, 4, 11, 6, 2, 6, 3, 3, 3, 6, 13, 17, 16, 9, 9, 6, 5, 11, 1, 1, 19, 3, 5, 7, 1, 9, 2, 3, 1, 9, 3, 17, 1, 12, 3, 10, 12, 4, 18, 8, 5, 1, 6, 11, 18, 3, 15, 5, 9, 1, 3, 2, 15, 1, 12, 8, 8, 3, 1, 5, 17, 16, 17, 7, 19, 9, 16, 3, 6, 14, 6, 4, 16, 11, 9, 16, 5, 2, 18, 12, 1, 14, 13, 12, 1, 10, 6, 6, 4, 5, 7, 18, 11, 17, 4, 15, 9, 1, 7, 3, 3, 5, 17, 4, 1, 16, 5, 8, 5, 9, 2, 1, 6, 9, 13, 16, 16, 10, 5, 11, 15, 14, 2, 1, 12, 9, 12, 4, 18, 1, 6, 5, 13, 11, 17, 9, 9, 5, 17, 1, 6, 1, 19, 15, 6, 12, 2, 17, 9, 6, 10, 18, 6, 6, 2, 13, 6, 3, 15, 12, 6, 7, 1, 5, 7, 3, 18, 4, 1, 7, 11, 15, 6, 8, 13, 1, 10, 3, 18, 2, 15, 9, 3, 16, 3, 7, 17, 6, 4, 1, 9, 7, 8, 6, 14, 3, 14, 1, 4, 9, 12, 2, 16, 12], \"Freq\": [0.9969190507333073, 0.9995961872889281, 0.9989313470059115, 0.9976732684373663, 0.9983949294094648, 0.9967996118155402, 0.995460012182829, 0.9973600996000656, 0.9966807271393072, 0.9920222695026966, 0.9976774754441093, 0.9995918817204797, 0.9901326995706415, 0.784828647872528, 0.9967318759645211, 0.9986609998848619, 0.9997840548874781, 0.9988257946991403, 0.997322772361205, 0.995646211482275, 0.9728328614916503, 0.9828561945608733, 0.9973966244167469, 0.9993926577437741, 0.9995567553408138, 0.9993885108378079, 0.9818505261856258, 0.9996095205366405, 0.9999539932886595, 0.9993237338757968, 0.998552195904482, 0.9995237445257603, 0.9992407594665598, 0.9794232118316424, 0.9948323759392463, 0.9815141954639135, 0.9997296877116423, 0.998111838725363, 0.9907355447437429, 0.9998347664910023, 0.9989004350919646, 0.9974448983553517, 0.9957910085827135, 0.9987112671376206, 0.9928222092157676, 0.9991650062564422, 0.9948900680887667, 0.9996175872433073, 0.9987360035802678, 0.9983584921710492, 0.9981369499211077, 0.9959528065903159, 0.9991792919221537, 0.9985533711294055, 0.9966172701852261, 0.99941620481148, 0.9985436991030983, 0.9998756355099936, 0.9997577742704471, 0.9962216949621385, 0.9945031252820631, 0.9946586034061901, 0.9972673612888407, 0.9997565734366239, 0.9982289883366913, 0.9989981558176549, 0.998446810216282, 0.9991720575870766, 0.9994191359363199, 0.9960889025318123, 0.9965441662519762, 0.9985374644567409, 0.997088299787423, 0.9991048127451818, 0.9994194306399323, 0.9993621295071411, 0.9856698542029958, 0.998655883922696, 0.9990479709481438, 0.9994126863439241, 0.9990166776203803, 0.9968057628935563, 0.9997870186506393, 0.9882434180968177, 0.9984043759659965, 0.9975781880201449, 0.9998743215026505, 0.9894054434736823, 0.999663878999858, 0.9969640422803565, 0.998630164229088, 0.9990311276227721, 0.9993656729831994, 0.9993390282196517, 0.9989994243337006, 0.9980681770831896, 0.9992913812676114, 0.995222085263707, 0.9995069327934072, 0.9996672882039821, 0.9992776965179002, 0.9990571034528393, 0.9998740135267157, 0.998379151423257, 0.9951993594473436, 0.9986049410224388, 0.9938336055940644, 0.9987477972801783, 0.9991771295281688, 0.995863499195219, 0.9971276313140787, 0.9980311809993845, 0.9991192271947756, 0.9990405334228425, 0.9981236919009836, 0.997459489715932, 0.9982043444494744, 0.9960549370228041, 0.999866425723417, 0.9963575519319671, 0.9992018616219716, 0.9974474622334876, 0.9899026068618638, 0.9991669750648781, 0.9930448058754187, 0.9978721624294593, 0.9993666902284453, 0.9989725985568338, 0.9972951792968869, 0.9984477427290668, 0.9991428947612557, 0.999537685738673, 0.9997630987779882, 0.9994228145428081, 0.9996750465184796, 0.9995640790722193, 0.9989955241685203, 0.9984953900309155, 0.998933562806479, 0.9998382763200154, 0.996261616576461, 0.9998730158871133, 0.998826775654263, 0.9993499317393085, 0.9990955554053443, 0.9998781663877132, 0.9998505925170045, 0.997042086463406, 0.9992159467340702, 0.9948560161149455, 0.9993916842781719, 0.9997241646488513, 0.9993321616056547, 0.9995582568989273, 0.9996040808856819, 0.9899087539273353, 0.9967191376874747, 0.9992342777367574, 0.9980230810306729, 0.9994589263375061, 0.9995803921771214, 0.9984760747471539, 0.9986723226219671, 0.9945001286945622, 0.9745329213134396, 0.9995472922767924, 0.9988788912807735, 0.9980264280694509, 0.998767060874291, 0.9955504269620852, 0.9996227838251746, 0.9949531749420988, 0.9997491918744029, 0.9934654872559727, 0.9997400663799383, 0.9990595119963095, 0.9983994246844491, 0.9986348053360566, 0.9855887346694046, 0.9991760637040216, 0.9996577722553754, 0.9994461029503103, 0.9960028508800269, 0.9985762818007315, 0.998176414728901, 0.9681820676170918, 0.9981608753106087, 0.9973626116006666, 0.9975699009232469, 0.9989592323980016, 0.9996093905985349, 0.9994603346271421, 0.9966858784446584, 0.9995460495474409, 0.9974425449393705, 0.9998531757868377, 0.9997123449391243, 0.9995476039400341, 0.9987247090398416, 0.9977222590081795, 0.9977671285406604, 0.9894298091959118, 0.9959989152573725, 0.9988536214103462, 0.9991466280453832, 0.9944663898799698, 0.9994923023659813, 0.999468034053764, 0.9998595402947237, 0.9993756951681023, 0.9975007940416108, 0.999148257561851, 0.999304860897926, 0.9995888585968065, 0.9993773521158011, 0.9996083640660864, 0.999142551805084, 0.996374313086044, 0.9988569014013833, 0.9995934994861576, 0.9998275901917568, 0.9988213018690678, 0.9997696968275579, 0.9998696035878539, 0.999806394681743, 0.999400087433926, 0.9976521130728048, 0.9957538575611392, 0.9936496983499682, 0.9993323115413917, 0.999181645941713, 0.997526697531069, 0.9997895081598692, 0.9995567756354269, 0.9987912493292368, 0.9597046408267967, 0.9992418798093415, 0.9984707891890693, 0.9989240232083036, 0.9990874816652628, 0.9986665458045064, 0.9998581088176233, 0.998483406025077, 0.9998005389624742, 0.9980811878273117, 0.9991795640366745, 0.9997008151051251, 0.9976431781681088, 0.9998959512046641, 0.9995532281768232, 0.9891016267417924], \"Term\": [\"accord\", \"actual\", \"ago\", \"ahead\", \"allow\", \"altern\", \"announc\", \"answer\", \"anti\", \"asset\", \"avail\", \"bad\", \"bankrupt\", \"belong\", \"benefit\", \"beta\", \"big\", \"bitcoin\", \"blame\", \"blow\", \"blue\", \"boycott\", \"brain\", \"bui\", \"burn\", \"busi\", \"busi_conduct\", \"buy\", \"car\", \"care\", \"ceo\", \"charg\", \"cheap\", \"cite\", \"coal\", \"coincid\", \"come\", \"comment\", \"commit\", \"compani\", \"competit\", \"concern\", \"condit\", \"cool\", \"corpor\", \"correct\", \"corrupt\", \"crash\", \"custom\", \"date\", \"dead\", \"deci\", \"demand\", \"develop\", \"diesel\", \"differ\", \"dollar\", \"drive\", \"driver\", \"dutywarn\", \"early\", \"economi\", \"effect\", \"electr\", \"elon\", \"emerg\", \"employ\", \"energi\", \"engin\", \"especi\", \"excu\", \"exist\", \"explain\", \"fall\", \"far\", \"feel\", \"financ\", \"follow\", \"free\", \"fuck\", \"futur\", \"geniu\", \"get\", \"gift\", \"give\", \"goe\", \"good\", \"govt\", \"great\", \"grid\", \"grow\", \"gui\", \"handl\", \"hard\", \"hate\", \"head\", \"hear\", \"hell\", \"help\", \"high\", \"hit\", \"hope\", \"http\", \"huge\", \"hybrid\", \"imagin\", \"incent\", \"index\", \"industri\", \"inform\", \"instal\", \"instead\", \"investor\", \"issu\", \"join\", \"joke\", \"kick\", \"kid\", \"know\", \"lack\", \"lead\", \"leader\", \"lean\", \"leave\", \"leftist\", \"legal\", \"let\", \"level\", \"liber\", \"list\", \"lol\", \"long\", \"look\", \"lose\", \"lot\", \"love\", \"low\", \"maga\", \"man\", \"market\", \"miss\", \"model\", \"monei\", \"month\", \"nearli\", \"need\", \"new\", \"non\", \"obviou\", \"offici\", \"old\", \"open\", \"option\", \"order\", \"owner\", \"page\", \"past\", \"pay\", \"perfect\", \"perform\", \"person\", \"place\", \"plan\", \"plenti\", \"plummet\", \"point\", \"poor\", \"posit\", \"possibl\", \"potenti\", \"power\", \"pretti\", \"price\", \"pro\", \"product\", \"profit\", \"prove\", \"question\", \"rail\", \"read\", \"real\", \"reason\", \"recess\", \"report\", \"republican\", \"request\", \"requir\", \"respon\", \"result\", \"rich\", \"right\", \"run\", \"sad\", \"sale\", \"sawyermerritt\", \"self\", \"sell\", \"share\", \"shit\", \"similar\", \"situat\", \"sleep\", \"smart\", \"solar\", \"soon\", \"sort\", \"spacex\", \"start\", \"stock\", \"stop\", \"suck\", \"supercharg\", \"support\", \"sure\", \"take\", \"talk\", \"tank\", \"target\", \"tax\", \"tell\", \"tesla\", \"thank\", \"thing\", \"think\", \"time\", \"todai\", \"ton\", \"trend\", \"troubl\", \"truck\", \"true\", \"trump\", \"try\", \"tsla\", \"tweet\", \"twitter\", \"understand\", \"valu\", \"version\", \"vote\", \"wake\", \"want\", \"water\", \"well\", \"wish\", \"wonder\", \"work\", \"worker\", \"year\", \"\\u2019m\", \"\\ud83c\\uddf8\"]}, \"R\": 30, \"lambda.step\": 0.01, \"plot.opts\": {\"xlab\": \"PC1\", \"ylab\": \"PC2\"}, \"topic.order\": [20, 13, 15, 5, 17, 11, 18, 8, 16, 7, 1, 14, 4, 2, 6, 10, 3, 12, 9, 19]};\n",
       "\n",
       "function LDAvis_load_lib(url, callback){\n",
       "  var s = document.createElement('script');\n",
       "  s.src = url;\n",
       "  s.async = true;\n",
       "  s.onreadystatechange = s.onload = callback;\n",
       "  s.onerror = function(){console.warn(\"failed to load library \" + url);};\n",
       "  document.getElementsByTagName(\"head\")[0].appendChild(s);\n",
       "}\n",
       "\n",
       "if(typeof(LDAvis) !== \"undefined\"){\n",
       "   // already loaded: just create the visualization\n",
       "   !function(LDAvis){\n",
       "       new LDAvis(\"#\" + \"ldavis_el91640120798718409766028465\", ldavis_el91640120798718409766028465_data);\n",
       "   }(LDAvis);\n",
       "}else if(typeof define === \"function\" && define.amd){\n",
       "   // require.js is available: use it to load d3/LDAvis\n",
       "   require.config({paths: {d3: \"https://d3js.org/d3.v5\"}});\n",
       "   require([\"d3\"], function(d3){\n",
       "      window.d3 = d3;\n",
       "      LDAvis_load_lib(\"https://cdn.jsdelivr.net/gh/bmabey/pyLDAvis@3.3.1/pyLDAvis/js/ldavis.v3.0.0.js\", function(){\n",
       "        new LDAvis(\"#\" + \"ldavis_el91640120798718409766028465\", ldavis_el91640120798718409766028465_data);\n",
       "      });\n",
       "    });\n",
       "}else{\n",
       "    // require.js not available: dynamically load d3 & LDAvis\n",
       "    LDAvis_load_lib(\"https://d3js.org/d3.v5.js\", function(){\n",
       "         LDAvis_load_lib(\"https://cdn.jsdelivr.net/gh/bmabey/pyLDAvis@3.3.1/pyLDAvis/js/ldavis.v3.0.0.js\", function(){\n",
       "                 new LDAvis(\"#\" + \"ldavis_el91640120798718409766028465\", ldavis_el91640120798718409766028465_data);\n",
       "            })\n",
       "         });\n",
       "}\n",
       "</script>"
      ],
      "text/plain": [
       "PreparedData(topic_coordinates=              x         y  topics  cluster       Freq\n",
       "topic                                                \n",
       "19    -0.291525  0.341059       1        1  11.473679\n",
       "12    -0.180009 -0.190016       2        1  10.107084\n",
       "14    -0.187201 -0.233317       3        1   9.942608\n",
       "4     -0.064518 -0.021196       4        1   7.319844\n",
       "16    -0.069066 -0.023487       5        1   6.883884\n",
       "10    -0.046774 -0.013208       6        1   6.483853\n",
       "17     0.037521  0.009735       7        1   6.375517\n",
       "7     -0.032344 -0.007899       8        1   5.996033\n",
       "15    -0.053540 -0.016065       9        1   5.571311\n",
       "6     -0.017219 -0.003054      10        1   5.071814\n",
       "0      0.058084  0.013103      11        1   3.429231\n",
       "13     0.075539  0.015506      12        1   3.156298\n",
       "3     -0.003844  0.000705      13        1   3.046876\n",
       "1      0.077132  0.015670      14        1   3.046393\n",
       "5      0.084429  0.016557      15        1   2.922645\n",
       "9      0.100746  0.018278      16        1   2.821601\n",
       "2      0.098093  0.018014      17        1   2.816470\n",
       "11     0.108938  0.019002      18        1   2.458405\n",
       "8      0.136262  0.020765      19        1   1.048172\n",
       "18     0.169295  0.019848      20        1   0.028281, topic_info=      Term          Freq         Total Category  logprob  loglift\n",
       "48     car  50800.000000  50800.000000  Default  30.0000  30.0000\n",
       "43   think  17358.000000  17358.000000  Default  29.0000  29.0000\n",
       "90   drive  14473.000000  14473.000000  Default  28.0000  28.0000\n",
       "105   need  16245.000000  16245.000000  Default  27.0000  27.0000\n",
       "37    know  16405.000000  16405.000000  Default  26.0000  26.0000\n",
       "..     ...           ...           ...      ...      ...      ...\n",
       "25   share      0.004902   5372.430466  Topic20 -10.8197  -5.7365\n",
       "26    sort      0.004902    445.465030  Topic20 -10.8197  -3.2465\n",
       "27     tax      0.004902   2042.334590  Topic20 -10.8197  -4.7693\n",
       "28    fall      0.004902   1907.707756  Topic20 -10.8197  -4.7011\n",
       "29   ratio      0.004902      2.064188  Topic20 -10.8197   2.1278\n",
       "\n",
       "[959 rows x 6 columns], token_table=      Topic      Freq    Term\n",
       "term                         \n",
       "10        3  0.996919  accord\n",
       "106      12  0.999596  actual\n",
       "197       1  0.998931     ago\n",
       "400       3  0.997673   ahead\n",
       "185       1  0.998395   allow\n",
       "...     ...       ...     ...\n",
       "47        9  0.999701    work\n",
       "279      12  0.997643  worker\n",
       "231       2  0.999896    year\n",
       "253      16  0.999553      ’m\n",
       "57       12  0.989102       🇸\n",
       "\n",
       "[251 rows x 3 columns], R=30, lambda_step=0.01, plot_opts={'xlab': 'PC1', 'ylab': 'PC2'}, topic_order=[20, 13, 15, 5, 17, 11, 18, 8, 16, 7, 1, 14, 4, 2, 6, 10, 3, 12, 9, 19])"
      ]
     },
     "execution_count": 254,
     "metadata": {},
     "output_type": "execute_result"
    }
   ],
   "source": [
    "pyLDAvis.enable_notebook()\n",
    "gensimvis.prepare(lda_model, corpus, id2word)"
   ]
  },
  {
   "cell_type": "code",
   "execution_count": 251,
   "id": "fc552cd8",
   "metadata": {},
   "outputs": [
    {
     "data": {
      "text/html": [
       "\n",
       "<link rel=\"stylesheet\" type=\"text/css\" href=\"https://cdn.jsdelivr.net/gh/bmabey/pyLDAvis@3.3.1/pyLDAvis/js/ldavis.v1.0.0.css\">\n",
       "\n",
       "\n",
       "<div id=\"ldavis_el9164011942247024299923400\"></div>\n",
       "<script type=\"text/javascript\">\n",
       "\n",
       "var ldavis_el9164011942247024299923400_data = {\"mdsDat\": {\"x\": [-0.29152462389783934, -0.1800090936149491, -0.1872008675104956, -0.06451794447036432, -0.06906633873574337, -0.046774244962383624, 0.03752078103383222, -0.03234382095192089, -0.05353981540486674, -0.017218652010392556, 0.0580836925794601, 0.07553926151313281, -0.0038443455767839625, 0.07713183509493322, 0.08442936285665419, 0.1007461466257381, 0.09809338953299787, 0.10893844546004827, 0.1362617427247068, 0.1692950897142362], \"y\": [0.3410588653011935, -0.19001593297535474, -0.2333168557220767, -0.021196278463851973, -0.023487228616044905, -0.013207665478966648, 0.009735334866594995, -0.007899147427551843, -0.0160651211875113, -0.003053661240304613, 0.013103274868117479, 0.015506066026711686, 0.000704776620110612, 0.015669877340563347, 0.01655676066045647, 0.018278046230811678, 0.01801360962055616, 0.019002452280142128, 0.020765296898801452, 0.019847530397602172], \"topics\": [1, 2, 3, 4, 5, 6, 7, 8, 9, 10, 11, 12, 13, 14, 15, 16, 17, 18, 19, 20], \"cluster\": [1, 1, 1, 1, 1, 1, 1, 1, 1, 1, 1, 1, 1, 1, 1, 1, 1, 1, 1, 1], \"Freq\": [11.47367863735376, 10.107084298230962, 9.942608450940654, 7.319843696042796, 6.883883724601686, 6.483853282193309, 6.375517436572566, 5.9960325137028, 5.571311058053542, 5.071814359795605, 3.429230785683251, 3.1562977089382294, 3.046876478773904, 3.0463926263773686, 2.9226453929598826, 2.8216013414857124, 2.816469961059646, 2.4584050569725417, 1.0481723029304404, 0.02828088733134039]}, \"tinfo\": {\"Term\": [\"car\", \"think\", \"drive\", \"need\", \"know\", \"good\", \"http\", \"model\", \"want\", \"self\", \"stock\", \"year\", \"compani\", \"market\", \"new\", \"time\", \"tesla\", \"well\", \"look\", \"sell\", \"try\", \"work\", \"driver\", \"get\", \"right\", \"electr\", \"big\", \"product\", \"\\u2019m\", \"price\", \"open\", \"thing\", \"crash\", \"power\", \"great\", \"long\", \"charg\", \"talk\", \"stop\", \"hit\", \"hear\", \"feel\", \"understand\", \"fuck\", \"nearli\", \"bitcoin\", \"level\", \"ago\", \"emerg\", \"beta\", \"allow\", \"exist\", \"imagin\", \"employ\", \"requir\", \"perfect\", \"result\", \"prove\", \"brain\", \"wish\", \"car\", \"year\", \"help\", \"sale\", \"pay\", \"fall\", \"cool\", \"ton\", \"potenti\", \"deci\", \"leftist\", \"sleep\", \"world\", \"door\", \"build\", \"garyblack\", \"peopl\", \"mjarchi\", \"say\", \"vehicl\", \"scottpolhamu\", \"see\", \"safe\", \"amp\", \"kill\", \"catch\", \"pull\", \"manual\", \"alex_avoigt\", \"invest\", \"happen\", \"problem\", \"go\", \"new\", \"time\", \"come\", \"buy\", \"bui\", \"handl\", \"engin\", \"burn\", \"far\", \"differ\", \"support\", \"soon\", \"busi\", \"truck\", \"competit\", \"develop\", \"follow\", \"join\", \"water\", \"ahead\", \"non\", \"geniu\", \"trump\", \"diesel\", \"accord\", \"blow\", \"announc\", \"hybrid\", \"hell\", \"commit\", \"know\", \"model\", \"product\", \"love\", \"old\", \"take\", \"cheap\", \"wonder\", \"custom\", \"give\", \"twitter\", \"world\", \"unitedst\", \"spot\", \"garyblack\", \"door\", \"standard\", \"peopl\", \"mjarchi\", \"build\", \"dual_motor\", \"state\", \"say\", \"teslaradar\", \"scottpolhamu\", \"technolog\", \"manual\", \"amp\", \"insid\", \"meet\", \"see\", \"kill\", \"vehicl\", \"invest\", \"happen\", \"go\", \"compani\", \"electr\", \"big\", \"order\", \"bad\", \"point\", \"hate\", \"obviou\", \"low\", \"leave\", \"republican\", \"suck\", \"altern\", \"especi\", \"incent\", \"asset\", \"govt\", \"page\", \"rail\", \"world\", \"garyblack\", \"door\", \"peopl\", \"mjarchi\", \"build\", \"say\", \"vehicl\", \"scottpolhamu\", \"problem\", \"go\", \"see\", \"kill\", \"sell\", \"tell\", \"lot\", \"start\", \"run\", \"lose\", \"perform\", \"demand\", \"question\", \"dollar\", \"solar\", \"wake\", \"tweet\", \"comment\", \"situat\", \"dead\", \"joke\", \"similar\", \"effect\", \"respon\", \"grid\", \"kid\", \"world\", \"peopl\", \"garyblack\", \"build\", \"countri\", \"short\", \"door\", \"mjarchi\", \"vehicl\", \"say\", \"scottpolhamu\", \"need\", \"stock\", \"try\", \"supercharg\", \"tank\", \"correct\", \"version\", \"maga\", \"instal\", \"coal\", \"excu\", \"world\", \"garyblack\", \"door\", \"build\", \"mjarchi\", \"peopl\", \"vehicl\", \"scottpolhamu\", \"say\", \"amp\", \"see\", \"safe\", \"invest\", \"kill\", \"musk\", \"mean\", \"happen\", \"go\", \"alex_avoigt\", \"technolog\", \"manual\", \"problem\", \"good\", \"http\", \"tesla\", \"owner\", \"vote\", \"huge\", \"blue\", \"world\", \"garyblack\", \"mjarchi\", \"kill\", \"ask\", \"build\", \"scottpolhamu\", \"rip\", \"say\", \"door\", \"team\", \"peopl\", \"success\", \"roadster\", \"world\\u2019_quickest\", \"limit\", \"pre\", \"video\", \"sign\", \"arguabl\", \"vehicl\", \"invest\", \"impact\", \"see\", \"amp\", \"manual\", \"happen\", \"alex_avoigt\", \"technolog\", \"musk\", \"go\", \"mean\", \"problem\", \"wait\", \"self\", \"work\", \"price\", \"person\", \"month\", \"investor\", \"valu\", \"report\", \"head\", \"past\", \"explain\", \"benefit\", \"leader\", \"condit\", \"recess\", \"troubl\", \"economi\", \"early\", \"financ\", \"busi_conduct\", \"cite\", \"garyblack\", \"door\", \"scottpolhamu\", \"mjarchi\", \"cost\", \"say\", \"tech\", \"rise\", \"vehicl\", \"technolog\", \"go\", \"peopl\", \"world\", \"see\", \"build\", \"think\", \"look\", \"get\", \"share\", \"plummet\", \"speed\", \"build\", \"rethink\", \"necess\", \"pull\", \"confid\", \"refer\", \"case\", \"control\", \"loan\", \"proof\", \"speedingticket\", \"softwar\", \"world\", \"see\", \"probabl\", \"auto\", \"garyblack\", \"attend\", \"forward\", \"scottpolhamu\", \"fake\", \"entir\", \"cash\", \"\\ud83d\\ude05\", \"drop\", \"problem\", \"close\", \"wait\", \"mjarchi\", \"door\", \"musk\", \"go\", \"peopl\", \"say\", \"happen\", \"kill\", \"alex_avoigt\", \"vehicl\", \"invest\", \"manual\", \"mean\", \"safe\", \"market\", \"real\", \"lead\", \"care\", \"poor\", \"elon\", \"grow\", \"date\", \"blame\", \"target\", \"boycott\", \"arguabl\", \"success\", \"innov\", \"commerci\", \"team\", \"large\", \"necess\", \"build\", \"rethink\", \"cap\", \"confid\", \"loan\", \"conniv\", \"refer\", \"neg\", \"killer\", \"indian\", \"entri\", \"lucid\", \"case\", \"world\", \"mean\", \"problem\", \"garyblack\", \"mjarchi\", \"door\", \"peopl\", \"say\", \"vehicl\", \"scottpolhamu\", \"see\", \"kill\", \"musk\", \"happen\", \"go\", \"invest\", \"actual\", \"let\", \"spacex\", \"lol\", \"futur\", \"hope\", \"worker\", \"anti\", \"sad\", \"pretti\", \"pro\", \"\\ud83c\\uddf8\", \"gift\", \"belong\", \"speed\", \"arguabl\", \"success\", \"speedingticket\", \"proof\", \"commerci\", \"auto\", \"war\", \"probabl\", \"convinc\", \"harsh\", \"toriesout\", \"reali\", \"innov\", \"cold\", \"defeat\", \"control\", \"face\", \"softwar\", \"pull\", \"total\", \"build\", \"team\", \"see\", \"world\", \"garyblack\", \"peopl\", \"door\", \"scottpolhamu\", \"mjarchi\", \"say\", \"happen\", \"vehicl\", \"kill\", \"manual\", \"drive\", \"read\", \"thank\", \"list\", \"place\", \"smart\", \"corpor\", \"bankrupt\", \"\\ud83d\\udc47\", \"manual\", \"probably\", \"pin\", \"uwckhjt\", \"cent\", \"waymo\", \"menu\", \"coordin\", \"teslaownerssv\", \"identif\", \"merc\", \"touch\", \"rel\", \"screen\", \"mile\", \"digit\", \"mode\", \"someth\", \"autom\", \"order_magnitud\", \"purpl\", \"dyemasterdisc_bitswift\", \"rollout\", \"wear\", \"mark\", \"motortrend\", \"scratchmesilli_techau\", \"later\", \"file\", \"safe\", \"approach\", \"tech\", \"accid\", \"test\", \"expand\", \"watch\", \"featur\", \"technolog\", \"idea\", \"mjarchi\", \"set\", \"kill\", \"video\", \"amp\", \"door\", \"mention\", \"oper\", \"go\", \"say\", \"vehicl\", \"fine\", \"peopl\", \"garyblack\", \"happen\", \"scottpolhamu\", \"see\", \"world\", \"build\", \"problem\", \"wait\", \"mean\", \"want\", \"well\", \"possibl\", \"kick\", \"liber\", \"corrupt\", \"tabl\", \"conniv\", \"neg\", \"killer\", \"lucid\", \"contact\", \"insid\", \"earth\", \"elimin\", \"strife\", \"egoism\", \"outsold\", \"prone\", \"camera\", \"remain\", \"ev\", \"psychic\", \"conserv\", \"univ\", \"hulu\", \"fetch\", \"jaywalk\", \"ringo\", \"aoc\", \"rent\", \"realiz\", \"mark\", \"social\", \"leav\", \"live\", \"fact\", \"light\", \"human\", \"batteri\", \"fast\", \"world\", \"peopl\", \"say\", \"mean\", \"mjarchi\", \"wait\", \"window\", \"happen\", \"garyblack\", \"door\", \"scottpolhamu\", \"thomaskain\", \"kill\", \"see\", \"problem\", \"amp\", \"technolog\", \"build\", \"invest\", \"go\", \"manual\", \"vehicl\", \"alex_avoigt\", \"right\", \"high\", \"hard\", \"tax\", \"monei\", \"posit\", \"avail\", \"trend\", \"sort\", \"rip\", \"credit\", \"crypto_nftcommum\", \"nekoguild\", \"nftrelea\", \"\\ud83d\\ude80\", \"incom\", \"nio\", \"margin\", \"cryptoparadym\", \"inflat\", \"indoctrin\", \"daili\", \"rest\", \"servic\", \"chine\", \"secular\", \"vijaynakra_tatamotor\", \"prakashadvani\", \"bentleyspjclub\", \"appli\", \"feder\", \"crypto\", \"compar\", \"qualiti\", \"pai\", \"fact\", \"current\", \"happen\", \"govern\", \"world\", \"peopl\", \"vehicl\", \"door\", \"garyblack\", \"mjarchi\", \"scottpolhamu\", \"say\", \"short\", \"build\", \"see\", \"design\", \"invest\", \"problem\", \"kill\", \"go\", \"manual\", \"alex_avoigt\", \"safe\", \"amp\", \"\\u2019m\", \"option\", \"true\", \"issu\", \"industri\", \"plan\", \"ceo\", \"concern\", \"dutywarn\", \"lack\", \"plenti\", \"lean\", \"speed\", \"speedingticket\", \"proof\", \"probabl\", \"auto\", \"convinc\", \"control\", \"chase\", \"constant\", \"noisi\", \"evolut\", \"multipli\", \"teslauniv\", \"captn_hype\", \"cold_fusion\", \"beauti\", \"imit\", \"shrink\", \"gain\", \"softwar\", \"tune\", \"waymo\", \"pull\", \"repair\", \"process\", \"glad\", \"see\", \"say\", \"build\", \"continu\", \"dogecoin\", \"world\", \"go\", \"happen\", \"scottpolhamu\", \"garyblack\", \"invest\", \"peopl\", \"mjarchi\", \"door\", \"vehicl\", \"kill\", \"manual\", \"driver\", \"reason\", \"tsla\", \"free\", \"index\", \"sawyermerritt\", \"inform\", \"miss\", \"offici\", \"request\", \"borrow\", \"motortrend\", \"steal\", \"deadli\", \"mention\", \"socialfi\", \"invest\", \"earn\", \"alsodawn\", \"pilot\", \"world\\u2019_famou\", \"auto_pilot\", \"construct_worker\", \"sustain\", \"manslaught\", \"eject\", \"relat\", \"cashback\", \"sophist_\\u201cfull\", \"drove\", \"safe\", \"human\", \"idea\", \"amp\", \"autopilot\", \"remain\", \"social\", \"test\", \"vehicl\", \"maker\", \"kill\", \"say\", \"world\", \"door\", \"mjarchi\", \"garyblack\", \"peopl\", \"scottpolhamu\", \"build\", \"see\", \"problem\", \"technolog\", \"manual\", \"wait\", \"mean\", \"sure\", \"todai\", \"profit\", \"man\", \"gui\", \"shit\", \"goe\", \"legal\", \"coincid\", \"black\", \"temp\", \"discrimin\", \"suit\", \"wealthy\", \"text\", \"divin\", \"shipman\", \"wazihansonchita\", \"hitler\", \"amber_heard\", \"file\", \"bind\", \"director\", \"world\\u2019_richest\", \"arbitr\", \"matthewheywoo\", \"shadow\", \"sponsor_raid\", \"effemin\", \"sexi\", \"affair\", \"subsidi\", \"accomplish\", \"ai\", \"kind\", \"planet\", \"damn\", \"protect\", \"margin\", \"live\", \"woman\", \"socialistdogmom\", \"continu\", \"rest\", \"musk\", \"say\", \"go\", \"see\", \"turn\", \"mean\", \"world\", \"thomaskain\", \"mjarchi\", \"kill\", \"peopl\", \"garyblack\", \"problem\", \"door\", \"wait\", \"build\", \"scottpolhamu\", \"invest\", \"technolog\", \"vehicl\", \"manual\", \"happen\", \"energi\", \"rich\", \"instead\", \"answer\", \"wireless\", \"transmiss\", \"microwav\", \"billgat\", \"heat\", \"countri\", \"bring\", \"mission\", \"suppress\", \"petrofascist\", \"crematorium\", \"obsolet\", \"revolutioni\", \"default\", \"accel\", \"februari\", \"ancient\", \"sustain\", \"perpetu\", \"abroad\", \"currenc\", \"violat_neglect\", \"catturd\", \"reassess\", \"unlock\", \"electromagnet\", \"freedom\", \"technolog\", \"shib\", \"clean\", \"air\", \"green\", \"lithium\", \"world\", \"current\", \"state\", \"amp\", \"creat\", \"oil\", \"statement\", \"dogecoin\", \"peopl\", \"say\", \"build\", \"door\", \"mean\", \"go\", \"live\", \"garyblack\", \"riceandrew\", \"fokjhzauwx\", \"melissalm\", \"cbarber\", \"ryangrim\", \"lion\", \"incredul\", \"mirmakoffici\", \"reduct\", \"freesoul\", \"xvnft\", \"kairyssd\", \"socksthec\", \"vfurnbtjr\", \"honkin\", \"ehucjmp\", \"aiyxkcmnn\", \"gdpczx\", \"obyysgd\", \"samiershahirr\", \"odiou\", \"mairenibrun_dario\", \"protip\", \"misstep\", \"realjoserodr_lakotaman\", \"jaguar\", \"nearest\", \"saw\", \"nelfzfwh\", \"incest\", \"big\", \"comput\", \"grid\", \"radio\", \"recharg\", \"run\", \"solar\", \"yard\", \"blue\", \"vote\", \"accord\", \"implement\", \"iron\", \"support\", \"trump\", \"marketrebel\", \"profit\", \"sell\", \"take\", \"hard\", \"monei\", \"nonsen\", \"posit\", \"right\", \"share\", \"sort\", \"tax\", \"fall\", \"ratio\"], \"Freq\": [50800.0, 17358.0, 14473.0, 16245.0, 16405.0, 14824.0, 14104.0, 14778.0, 10661.0, 12720.0, 12282.0, 14436.0, 12260.0, 9239.0, 12188.0, 11823.0, 9646.0, 7401.0, 8560.0, 8434.0, 8325.0, 7833.0, 6153.0, 7215.0, 5878.0, 7752.0, 7416.0, 6956.0, 5090.0, 6038.0, 7830.201944485506, 6886.628020827811, 5828.2711113722735, 5086.961179803549, 5017.728779279681, 4994.35142228834, 4743.301512944291, 3853.5515129076703, 3410.171765918291, 3243.385679855884, 3106.2440869938937, 3082.0087281096817, 3055.359370806827, 2769.6693712280016, 1868.7334932869346, 1858.2257943014818, 1666.755995678489, 1647.8045802450417, 1575.6220458654784, 1562.1358784053778, 1379.2585066814854, 1336.999830029728, 1177.68723120816, 1120.785390155721, 1026.9338170366595, 1008.0382374699726, 1003.4848827235842, 987.6254594341847, 865.2993536064428, 849.6756817544758, 50798.40102106927, 14434.565955000868, 4115.093823901017, 3382.6002630619487, 2656.0991678394194, 1905.7716064776605, 1561.078158614451, 866.1019057172634, 538.4684200124927, 372.57958800085913, 336.4171632719415, 218.39276904258745, 0.12925364002970885, 0.12830899799096854, 0.12826863224738713, 0.1282870527273145, 0.12823621220271497, 0.1282242737403188, 0.12818712411296257, 0.12816300821978197, 0.12817205914748683, 0.1281518563616638, 0.1281176340970636, 0.12811996403884898, 0.12813290815987902, 0.1280922138347638, 0.12809561913429632, 0.12811590157624878, 0.12810295745521874, 0.1281142088834987, 0.12810972822621908, 0.12810830437290577, 0.12810740824144984, 12186.879048521296, 11821.346999022784, 7217.009317932301, 4124.669303175218, 3632.26515371559, 3567.3220267368815, 3515.100869937205, 3493.6073296841832, 3360.0097923001676, 3236.948794942825, 2705.9403008752947, 2670.3383951512587, 2597.6475668290673, 2488.720932863482, 1944.1978529962353, 1551.3049176873242, 1454.0149209502347, 991.9227422673523, 985.5555786596352, 957.2898207744764, 782.3778962665606, 726.3843930227358, 725.8580153681804, 630.1962988986312, 575.8380568455094, 551.4673732433163, 516.4112633738969, 387.9295791808352, 365.81505772833117, 217.08713167420453, 16403.25805310086, 14776.943424339148, 6954.875051387946, 4164.883145929672, 3434.1569712792907, 2827.82868895522, 2732.142564867141, 2410.0456179438725, 1638.1397903125096, 1492.4512196621286, 53.29206837932111, 0.13209052441258903, 0.13099936052473746, 0.13099331757265031, 0.13115468891132132, 0.131159477121567, 0.13097301094606628, 0.13110618664910392, 0.13108988942748462, 0.1311100662531885, 0.13093431586146048, 0.13096680934845895, 0.1310602082928895, 0.13092854693345365, 0.13104480525511125, 0.13100061526657894, 0.13100018259697843, 0.13099683661873449, 0.13094516144611332, 0.13097266481038586, 0.1310208353592429, 0.13100872061042854, 0.13102513321060796, 0.13099664912857426, 0.13099324546105023, 0.13099343295121046, 12258.082452296478, 7750.943943664913, 7414.658263806714, 5245.374651332205, 4290.808635307757, 3943.8429726743134, 2397.457466696257, 2375.921056985893, 2267.3361210013672, 1908.6482550513572, 951.7959093809852, 687.7804462981815, 537.7840215468544, 419.7057953176215, 372.3648161139462, 278.2923289458581, 180.9948330901989, 169.7896844952785, 162.42544637237603, 0.1219420776364738, 0.12109893934785594, 0.12108726130679454, 0.12103898935773817, 0.12103311642884201, 0.12105205086010999, 0.12100613893328903, 0.1209834203284367, 0.12099020200152695, 0.1209397599170817, 0.12093886473623379, 0.12095493730145768, 0.12094232338950982, 8432.484467336504, 5234.186750544059, 4743.600341992857, 4191.288917428765, 3846.1349352123902, 3571.120581059602, 2705.5231993317857, 2118.7987701636666, 1631.2879376900958, 1627.4311184036885, 1613.9106398198678, 1583.171937669549, 1575.965557748166, 1094.1278172854916, 975.2401828064753, 928.792265237996, 885.3123392838361, 800.8868968580257, 763.1489776706871, 667.8246953752491, 554.7483487084944, 524.1336617225959, 0.1234590487368513, 0.12261011350869021, 0.12263419469368214, 0.12260759680129318, 0.12246961225004764, 0.12249172605971398, 0.12263627704548781, 0.1225854446661335, 0.12253591535355328, 0.1225553719290136, 0.12254342715025103, 16244.083665191345, 12280.829585677051, 8323.85685954239, 2011.8195214344776, 1773.6267731931932, 1682.510823537421, 1667.9010171257794, 1121.7950707674672, 817.4578397202662, 459.4886147291458, 441.6371298527517, 0.17038641704398874, 0.16893047718585674, 0.16892500028035692, 0.16886070944928336, 0.16882900369359174, 0.16883085026494146, 0.16875889679085207, 0.16876280348261916, 0.16877121982822668, 0.16868316224209426, 0.16871186574912886, 0.16866970865083208, 0.16868072527038103, 0.16869468133003768, 0.1686659401378735, 0.16866840223300644, 0.1686747584581966, 0.16867418061954295, 0.16865889301864093, 0.16867253503555102, 0.1686739293853457, 0.16866869115233327, 14822.918990123813, 14102.83283455866, 9644.719001860254, 4619.8856922461455, 1646.5601112232846, 1039.7442398977657, 85.4295137317594, 0.12100826028112908, 0.1202017415105972, 0.12015641115783265, 0.12008794897532793, 0.12003492770266509, 0.1201675399543675, 0.12011044284857883, 0.120013768812438, 0.12012202057745798, 0.12019449952304322, 0.1200420751781466, 0.12014900377415182, 0.12003454965437516, 0.12001224480526922, 0.1200054281220414, 0.12001036637782862, 0.12000690487317395, 0.12004492235433015, 0.11999883590498572, 0.12001081531017292, 0.12009211932052624, 0.12006347034855488, 0.12002700050258559, 0.12008315248764943, 0.1200591464212388, 0.12006163917715054, 0.12005848483673143, 0.12005040405453414, 0.12005862660484015, 0.12004996693619892, 0.12005594482478345, 0.12005091205692374, 0.1200526841582828, 0.12004960070191804, 12718.906485260715, 7831.382372782867, 6036.553263474212, 3672.5806218411594, 2604.73328486975, 1764.5946900446081, 1364.1277938053604, 1314.913614389543, 871.7265658882068, 723.4186272596202, 700.0828978582837, 641.1404920309909, 598.571638659538, 529.2747234348368, 509.0814697438779, 293.91767623873375, 292.6121893770375, 282.60296967669797, 148.19045155541247, 123.31240644194854, 114.4337918692406, 0.10309581649889896, 0.10309328077066071, 0.10301864693389957, 0.10304705587191074, 0.10295499027565898, 0.10302547473893935, 0.10295292656609711, 0.10292674599532564, 0.10300581461220908, 0.10297919495429676, 0.10297818505387288, 0.10304004145483611, 0.10357528867949753, 0.10299315792537489, 0.10303486022657442, 17356.30664394014, 8558.071067817093, 7213.57996121795, 5370.473652434009, 86.29058848033193, 0.10740677612339079, 0.10752522336566774, 0.1073591294135978, 0.10735978895278538, 0.10740720582316451, 0.10736346638340698, 0.10736569482641953, 0.10739904152746384, 0.1073904675180254, 0.10737488840297355, 0.10736319657192116, 0.1073566711311714, 0.10738491140002103, 0.10813274889458244, 0.10743887369718591, 0.10737590769080889, 0.10738547100902866, 0.10751657940510335, 0.1073363853046446, 0.10734395001926568, 0.10744096223794655, 0.10735475247171665, 0.10736028860368504, 0.10734825701002088, 0.10732878061795155, 0.10736086819872867, 0.10740065040336079, 0.1073740290034261, 0.10739515424346437, 0.10746545512504861, 0.1075052872947707, 0.10739487443896054, 0.10740122000538642, 0.10746530522977872, 0.10743785440935058, 0.10739804222566449, 0.10740491742204401, 0.10739256605180404, 0.10741226229026923, 0.10739768247701671, 0.10739711287499108, 0.1073918865265805, 0.10739083725969117, 9237.53021408779, 4326.517295011372, 2510.040895974786, 2190.5186701849934, 1395.602792682625, 1385.493171114442, 1196.6779109206911, 1027.7262128364284, 833.2720854945005, 490.8226584981643, 118.0942235798748, 0.10018005632943947, 0.10019300202945472, 0.10016119182294542, 0.1001442056591467, 0.10017015786883281, 0.10015530004298022, 0.1001307532120014, 0.10026872356393852, 0.1001292397272397, 0.10012410468965537, 0.10013343559347637, 0.10014505023769675, 0.10012838163543285, 0.10013452341064885, 0.1001292329706113, 0.1001307261854878, 0.10011680077435448, 0.10012063178265752, 0.10013453016727725, 0.10016281341376151, 0.10079975401644325, 0.10017740097447808, 0.10017984687395905, 0.10024636588056145, 0.10021610294195585, 0.10024498077173935, 0.10021827857630079, 0.10020221807059293, 0.10018935345011848, 0.1001926641980347, 0.10018000903304065, 0.10017483345568591, 0.10016488769868045, 0.10016593497608253, 0.10016592821945412, 0.10016612416167774, 5028.06823858309, 3652.3513584408297, 3269.698059318778, 2868.4973305611725, 2389.388512533245, 1969.8963016182731, 986.3663566008968, 683.3116533512216, 505.71956118064736, 410.1167335399332, 251.6945674690815, 144.63471507585626, 128.57168008763398, 5.682019528305262, 0.10123184535618678, 0.10122081930470003, 0.10123157172603144, 0.10119847491496971, 0.10120257936729979, 0.10120005450723008, 0.10122667125870399, 0.10118560185993442, 0.10121377332820004, 0.10118221879619568, 0.10117955090218111, 0.10117955090218111, 0.1011802474153038, 0.10121298353206985, 0.10118104343030115, 0.10117817031367009, 0.10122087527450453, 0.10119653462841366, 0.10121592505623976, 0.10123014138658307, 0.10120338782003148, 0.10130737971679477, 0.10122195113852439, 0.10125558277216246, 0.10171500780297725, 0.10130527152082522, 0.10128164604445854, 0.10129794569530273, 0.10125427681005743, 0.1012693824384056, 0.10125728052289899, 0.1012318577939211, 0.10124182041912233, 0.10123418986910866, 0.10122712523600717, 14471.803635595885, 2854.3570611120035, 1874.2150947145406, 1414.2019117933346, 1287.9694191655365, 578.3255247963871, 308.23035025851624, 227.26580659153228, 0.06776574378016283, 0.06779794534210756, 0.06774869448189232, 0.06774889258993559, 0.06774922277000774, 0.06774942688132506, 0.06775113181115211, 0.06774533865170455, 0.0677453746713488, 0.0677452365960459, 0.06774503248472857, 0.06774706159135373, 0.06774982910068567, 0.06774572286124304, 0.06774804012502207, 0.06776375069318191, 0.06774546472045938, 0.06775586239109477, 0.06774446817696891, 0.06774447418024296, 0.06774451620316123, 0.06774453421298335, 0.06774634720174309, 0.06774580090380555, 0.06774973304830104, 0.06774895262267598, 0.06775269266240222, 0.06775272267877241, 0.06776418893218675, 0.06775056750339245, 0.06778181454476499, 0.06775142597158001, 0.06776944780024484, 0.06776239395324911, 0.06775980654213834, 0.06775188822368101, 0.06776613999624939, 0.06775931427366715, 0.0677809200569332, 0.06776836120764379, 0.06780792878683428, 0.06775860588733056, 0.06778187457750538, 0.06777024623569201, 0.0677766757421877, 0.06781743797291191, 0.06775889404448443, 0.06775849782839785, 0.06777612344097611, 0.067792458349636, 0.06778568065324606, 0.06776156550143174, 0.06779845562040086, 0.06780957968719498, 0.06777426242602405, 0.0677847621523181, 0.06778000755927929, 0.06795474485672996, 0.06779141978322727, 0.0677714168741296, 0.06777018620295162, 0.06776967592465831, 10659.547495947945, 7399.511027241461, 1187.5012605600205, 1060.9433384758988, 737.0335801117442, 412.1508257780777, 0.09888122886416283, 0.09888037053230238, 0.09888105479686245, 0.09888236930509628, 0.09888561055827559, 0.09886780767507221, 0.09889634871001222, 0.0988744822556933, 0.0988652927026979, 0.0988633119368661, 0.0988633119368661, 0.0988613671849585, 0.09886504660754909, 0.0988742361605445, 0.09887404408628202, 0.09886243559804353, 0.09886269970015445, 0.09886579089531619, 0.09886477650311748, 0.0988626156676646, 0.09885977656997236, 0.09885942243305092, 0.09885942243305092, 0.09886178734740768, 0.09886368408074964, 0.09887051472170899, 0.09886612102295482, 0.09887802962722843, 0.0988784257803948, 0.0989086894813764, 0.0988992658378736, 0.09888085672027927, 0.09889373770050668, 0.09888825758170536, 0.09889260326189392, 0.09940741630622005, 0.09896229620756974, 0.09894470940791165, 0.0989106402356047, 0.09895781847632575, 0.0989091636647119, 0.09889038240323401, 0.0989118947206315, 0.09897611955214743, 0.0989780162854894, 0.09893231461566114, 0.09889835948744753, 0.09891776499027848, 0.09892214068207054, 0.09890998598264814, 0.09890983592463057, 0.09890936174129508, 0.09894772857522496, 0.09890952980627475, 0.09890861745352798, 0.09890847339783113, 0.0989166005400622, 0.09889984806298174, 5876.330904973726, 4569.555786121916, 3383.272333569998, 2040.3693768014098, 1784.1302776906002, 912.8402212470264, 812.9273950060791, 558.4142378652965, 443.4998166861386, 0.09896610472320051, 0.09895595824446013, 0.09893716249723619, 0.09893716249723619, 0.09893716249723619, 0.09893842936745349, 0.09893493971585493, 0.09893784200035274, 0.09895525570733964, 0.09892760338559656, 0.098946168792781, 0.09892724635853532, 0.09894204570607378, 0.09895348208903541, 0.09893233687340847, 0.09894004174773005, 0.09892693539948198, 0.0989268317464642, 0.0989268317464642, 0.09892577218228246, 0.09892797192965977, 0.09893315458054873, 0.0989461227247731, 0.09894184991704019, 0.09894271369218836, 0.09894184991704019, 0.09896522943105038, 0.09896061111325823, 0.09897531832478088, 0.09895206549779242, 0.09938426403092546, 0.09901529383863769, 0.09898956485622452, 0.09903414717087153, 0.09903118730136383, 0.09900996146672306, 0.09899103903247738, 0.09899569190127547, 0.09896490695499506, 0.09901319774427816, 0.09898137626781997, 0.09895889507996387, 0.09897196687720602, 0.09896919127972993, 0.09897415510758135, 0.09896906459270821, 0.09896742917842768, 0.09896448082592198, 0.09896399711183901, 0.09896416986686864, 5088.316305853884, 2550.7469085907906, 2220.8611672536704, 1942.908148167792, 1938.6389740641011, 1511.0509016739957, 1390.057479659663, 871.2733084808483, 606.3404506423572, 520.9467670003822, 322.8283966786819, 175.83738262191972, 0.10631300811887849, 0.10627682745613537, 0.10627995184649518, 0.10629393933073945, 0.10630311236293462, 0.10625880383772524, 0.1063003326562088, 0.10625639105228724, 0.10625639105228724, 0.10625511238719336, 0.10625633545815272, 0.10625363358321524, 0.10625363358321524, 0.10625363358321524, 0.10625333337488885, 0.10625407833629136, 0.10625335561254265, 0.10625442301992537, 0.10625622426988368, 0.10629403940018158, 0.10625922635314757, 0.10626059396885666, 0.10630380173020261, 0.1062645411524073, 0.10626488583604131, 0.10626981147635943, 0.10632655085004662, 0.10634361824934309, 0.10637002546323826, 0.10626977811987873, 0.10626600883755853, 0.10676672296949175, 0.10630603661441017, 0.10630491361289293, 0.10632691777133443, 0.10636961406664285, 0.1063054473165843, 0.10634614222305012, 0.10634114986977057, 0.10636316514703896, 0.10631707760952507, 0.10630424648327874, 0.10630221173795545, 6151.5305864374295, 3441.9476226609922, 3369.534380842191, 2488.4109577699646, 1304.676225563608, 876.286127017062, 569.4034974676326, 510.9575343231116, 418.20135507181016, 67.24191216887624, 0.10422369178391674, 0.10421329238996292, 0.10422977382008183, 0.10421115035897777, 0.10422638874520893, 0.1042036255040144, 0.10427417934325071, 0.10422645533684577, 0.10419365895570006, 0.10419275996860267, 0.1041973547915449, 0.10420035141520288, 0.1041969996361484, 0.10420835351023032, 0.10419268227835968, 0.10419243810902458, 0.1041951461689229, 0.10419242701041845, 0.10419077331810347, 0.10419079551531576, 0.10425864129465376, 0.10423361393780652, 0.10423897456457247, 0.10426289206080563, 0.10421807588920956, 0.10420428032177668, 0.10421035125933564, 0.10421780952266219, 0.10427662103660167, 0.10422263741633338, 0.10425844151974323, 0.10428136014142374, 0.10470663653152242, 0.10431619866609934, 0.10428528904799754, 0.10430498907389725, 0.10428167090239568, 0.10426147143921963, 0.10428203715639832, 0.10425045052332194, 0.10424091682064708, 0.10424101670810235, 0.10424075034155497, 0.10423828645099174, 0.10423838633844701, 3910.64303570463, 2641.620320664232, 2413.3059341455473, 2135.3136743423665, 1782.763575016183, 1666.1617479403312, 865.1343532364638, 858.8661102367502, 103.99313255825177, 0.09856660319137467, 0.0985425585372722, 0.0985425779124971, 0.09854502887844711, 0.09854375980121607, 0.09854557138474435, 0.09853918724813937, 0.09853918724813937, 0.09853918724813937, 0.09853924537381407, 0.09853941006322574, 0.09854879735969041, 0.09854003007042259, 0.09853917756052692, 0.09853836380108107, 0.09853811192315735, 0.09853902255872772, 0.0985379666089706, 0.0985379666089706, 0.09853803442225775, 0.0985388869321534, 0.0985386931799044, 0.0985503473776825, 0.09854372105076627, 0.09854426355706351, 0.09854927205270049, 0.09854959174391136, 0.0985493301783752, 0.09854400199152734, 0.09855767121269518, 0.09857882895828737, 0.09855573369020507, 0.09854682108675047, 0.09855207177269872, 0.09855505555733352, 0.09857807332451622, 0.09860469488353057, 0.09858064054181565, 0.09859040565516589, 0.0985661478735895, 0.09857657174458638, 0.09891311940112144, 0.09856763976590689, 0.09860765929294046, 0.09858234556160696, 0.0986083180505871, 0.09862353728974706, 0.09857549641960435, 0.09862228758774093, 0.09857315201739131, 0.09860974212961734, 0.09859013440201726, 0.09857524454168064, 0.09857421765476088, 0.09858325619717731, 0.09857424671759822, 0.09857332639441542, 2546.1005152648113, 1902.9734715763016, 1213.3837161594615, 672.7721832660062, 0.054998560419572386, 0.054997726071311204, 0.05499552454842403, 0.05499431019996469, 0.05499439693914036, 0.05500053476842805, 0.05500042324663076, 0.05497637171234933, 0.05496849909954829, 0.05496679322909351, 0.054966599098557486, 0.054966801489967375, 0.054966801489967375, 0.05496664866380072, 0.054976503886331296, 0.05496706583793132, 0.05496562431544046, 0.05497437671130898, 0.05496564083718821, 0.054965731706800816, 0.054969341708683346, 0.05496552931539093, 0.05496559540238191, 0.05496547561971075, 0.05496730540327364, 0.054965603663255785, 0.05496683866389981, 0.05500270737825666, 0.05496797040362042, 0.05497060149194899, 0.05497118388355704, 0.05497094431821472, 0.05496655366375119, 0.05513125483659546, 0.0549759958425881, 0.054973905841498215, 0.05497779258265549, 0.054969259099944615, 0.05497153910113358, 0.054967879534007814, 0.054968391708187944, 0.054979676061898554, 0.05497738366939878, 0.054979077148542756, 0.05498003954034897, 0.05497153910113358, 0.05497105170957507, 0.05497029170917875, 0.054971361492345314, 0.004901746785732373, 0.004901746785732373, 0.004901746785732373, 0.004901746785732373, 0.004901746785732373, 0.004901746785732373, 0.004901746785732373, 0.004901746785732373, 0.004901746785732373, 0.004901746785732373, 0.004901746785732373, 0.004901746785732373, 0.004901746785732373, 0.004901746785732373, 0.004901746785732373, 0.004901746785732373, 0.004901746785732373, 0.004901746785732373, 0.004901746785732373, 0.004901746785732373, 0.004901746785732373, 0.004901746785732373, 0.004901746785732373, 0.004901746785732373, 0.004901746785732373, 0.004901746785732373, 0.004901746785732373, 0.004901746785732373, 0.004901746785732373, 0.004901746785732373, 0.004901746785732373, 0.004901746785732373, 0.004901746785732373, 0.004901746785732373, 0.004901746785732373, 0.004901746785732373, 0.004901746785732373, 0.004901746785732373, 0.004901746785732373, 0.004901746785732373, 0.004901746785732373, 0.004901746785732373, 0.004901746785732373, 0.004901746785732373, 0.004901746785732373, 0.004901746785732373, 0.004901746785732373, 0.004901746785732373, 0.004901746785732373, 0.004901746785732373, 0.004901746785732373, 0.004901746785732373, 0.004901746785732373, 0.004901746785732373, 0.004901746785732373, 0.004901746785732373, 0.004901746785732373, 0.004901746785732373, 0.004901746785732373], \"Total\": [50800.0, 17358.0, 14473.0, 16245.0, 16405.0, 14824.0, 14104.0, 14778.0, 10661.0, 12720.0, 12282.0, 14436.0, 12260.0, 9239.0, 12188.0, 11823.0, 9646.0, 7401.0, 8560.0, 8434.0, 8325.0, 7833.0, 6153.0, 7215.0, 5878.0, 7752.0, 7416.0, 6956.0, 5090.0, 6038.0, 7832.1603888960235, 6888.586465238329, 5830.229555782791, 5088.919624214067, 5019.687223690198, 4996.309866698857, 4745.259957354809, 3855.509957318186, 3412.1302103288067, 3245.3441242664, 3108.2025314044095, 3083.9671725201974, 3057.3178152173427, 2771.6278156385174, 1870.6919377327451, 1860.1842387119984, 1668.7144400890056, 1649.7630246555584, 1577.580490275995, 1564.094322914193, 1381.216951092002, 1338.9582744402446, 1179.6456756186767, 1122.7438345662376, 1028.8922614471762, 1009.996681880489, 1005.4433271808365, 989.583903844701, 867.2577980169591, 851.6341261649922, 50800.33717079918, 14436.502104730771, 4117.0299736309225, 3384.5364127918524, 2658.035317569323, 1907.7077562075654, 1563.0143083443559, 868.038055447168, 540.404569754959, 374.51573773076353, 338.3533130698401, 220.32891877249193, 2.0793720529042914, 2.067819770283448, 2.0673002267200626, 2.0677248973022246, 2.067040843231394, 2.06697157323911, 2.066570378735305, 2.0662023564125147, 2.066361298397032, 2.0660541868433078, 2.06553861165416, 2.0656528803789396, 2.0658908215924563, 2.0652802572724682, 2.065360418431718, 2.065699903288966, 2.0655035496012952, 2.0657119429962925, 2.0656548152552947, 2.065642281125378, 2.065674237999309, 12188.821102975595, 11823.289053477083, 7218.951372386601, 4126.611357629518, 3634.2072081698875, 3569.2640811911792, 3517.0429243915028, 3495.549384138481, 3361.9518467544654, 3238.8908493971226, 2707.8823553295924, 2672.2804496055564, 2599.589621283365, 2490.66298731778, 1946.1399074505343, 1553.246972154185, 1455.9569754045338, 993.8647967216508, 987.4976331139337, 959.2318752287749, 784.3199507208591, 728.3264474770343, 727.8000698224789, 632.1383533529297, 577.7801112998079, 553.4094276976148, 518.3533178281954, 389.8716336351338, 367.7571121826297, 219.0291861285031, 16405.191308990812, 14778.876680229101, 6956.808307277901, 4166.816401819627, 3436.090227169244, 2829.7619448451733, 2734.0758207570943, 2411.9788738338257, 1640.0730462024637, 1494.3844755520827, 55.225324269274886, 2.0793720529042914, 2.0649064149222194, 2.065135865309199, 2.0677248973022246, 2.067819770283448, 2.064929286379166, 2.067040843231394, 2.06697157323911, 2.0673002267200626, 2.0645442012243653, 2.0650935392217473, 2.066570378735305, 2.0645174012108756, 2.066361298397032, 2.0656738923233218, 2.065699903288966, 2.0656528803789396, 2.0648543542193676, 2.0652911579378834, 2.0660541868433078, 2.0658908215924563, 2.0662023564125147, 2.0657119429962925, 2.0656548152552947, 2.065674237999309, 12260.025767772619, 7752.8872591410545, 7416.601579282856, 5247.317966808347, 4292.751950783899, 3945.7862881504534, 2399.400782172397, 2377.864372462033, 2269.2794364775073, 1910.5915705274983, 953.7392248571259, 689.7237617743222, 539.7273370229951, 421.64911079376225, 374.30813159008693, 280.2356444632951, 182.93814856633972, 171.7329999714193, 164.36876184851684, 2.0793720529042914, 2.0677248973022246, 2.067819770283448, 2.067040843231394, 2.06697157323911, 2.0673002267200626, 2.066570378735305, 2.0662023564125147, 2.066361298397032, 2.065642281125378, 2.065674237999309, 2.0660541868433078, 2.0658908215924563, 8434.426206254471, 5236.128489462027, 4745.542080910825, 4193.230656346733, 3848.076674130356, 3573.0623199775678, 2707.4649382497514, 2120.740509085763, 1633.2296766080628, 1629.3728573216556, 1615.852378737835, 1585.1136766460659, 1577.907296666133, 1096.0695562034587, 977.1819217244418, 930.7340041559626, 887.2540782018026, 802.8286357759922, 765.0907165886537, 669.7664342932156, 556.6900876264609, 526.0754006405624, 2.0793720529042914, 2.067040843231394, 2.0677248973022246, 2.0673002267200626, 2.0649810887737496, 2.0653783611095298, 2.067819770283448, 2.06697157323911, 2.0662023564125147, 2.066570378735305, 2.066361298397032, 16245.979310999555, 12282.725231485261, 8325.7525053506, 2013.7151672426874, 1775.522419001403, 1684.4064693456307, 1669.7966629339892, 1123.690716575677, 819.3534855284756, 461.38426053735526, 443.53277566096114, 2.0793720529042914, 2.0677248973022246, 2.067819770283448, 2.0673002267200626, 2.06697157323911, 2.067040843231394, 2.0662023564125147, 2.066361298397032, 2.066570378735305, 2.0656528803789396, 2.0660541868433078, 2.06553861165416, 2.0657119429962925, 2.0658908215924563, 2.0655392971319038, 2.065571249806913, 2.0656548152552947, 2.065674237999309, 2.0655035496012952, 2.0656738923233218, 2.065699903288966, 2.065642281125378, 14824.863169636204, 14104.77701407105, 9646.663181372645, 4621.8298717585385, 1648.5042907356762, 1041.6884194101574, 87.37369324415091, 2.0793720529042914, 2.0677248973022246, 2.06697157323911, 2.0658908215924563, 2.0650093553893005, 2.0673002267200626, 2.066361298397032, 2.0647046795094317, 2.066570378735305, 2.067819770283448, 2.0652000525893244, 2.067040843231394, 2.065100412104979, 2.0647315573370406, 2.0646183062943755, 2.064708970123456, 2.0646529309300656, 2.0653120825501388, 2.0645568906738343, 2.0647915352990545, 2.0662023564125147, 2.0657119429962925, 2.0650856631366477, 2.0660541868433078, 2.0656528803789396, 2.065699903288966, 2.0656548152552947, 2.0655035496012952, 2.0656738923233218, 2.0655392971319038, 2.065674237999309, 2.065571249806913, 2.065642281125378, 2.065542832491985, 12720.867729461423, 7833.343616896253, 6038.514507587598, 3674.5418659545435, 2606.694528983134, 1766.555934157993, 1366.0890379187454, 1316.874858502928, 873.6878100015915, 725.3798713730049, 702.0441419716684, 643.1017361443756, 600.5328827729228, 531.2359675482215, 511.04271385726264, 295.8789203521185, 294.57343349042225, 284.5642137900827, 150.1516956687972, 125.27365082731687, 116.39503598262533, 2.0677248973022246, 2.067819770283448, 2.066361298397032, 2.06697157323911, 2.065127694895986, 2.066570378735305, 2.065128084277097, 2.064605589408765, 2.0662023564125147, 2.0656738923233218, 2.065674237999309, 2.067040843231394, 2.0793720529042914, 2.0660541868433078, 2.0673002267200626, 17358.26345904956, 8560.027882926519, 7215.536776327375, 5372.430467543434, 88.24740358975649, 2.0650133302329783, 2.0673002267200626, 2.0644260602872944, 2.064441481623063, 2.065360418431718, 2.0645197405112983, 2.0645631533030775, 2.0652186829276045, 2.0650568882736033, 2.0647699083641253, 2.0645518187271215, 2.064437641807439, 2.0649849490709995, 2.0793720529042914, 2.0660541868433078, 2.0648571485821248, 2.0650689761804513, 2.0677248973022246, 2.0643252069398224, 2.0644816892072027, 2.066361298397032, 2.0647174034061866, 2.0648262840618643, 2.0646041382973883, 2.064233247124992, 2.064854583834986, 2.065642281125378, 2.06511793154973, 2.065542832491985, 2.06697157323911, 2.067819770283448, 2.0655392971319038, 2.065674237999309, 2.067040843231394, 2.066570378735305, 2.0656548152552947, 2.0658908215924563, 2.0655035496012952, 2.0662023564125147, 2.0657119429962925, 2.065699903288966, 2.065571249806913, 2.06553861165416, 9239.49424589101, 4328.48132681459, 2512.0049277780035, 2192.482701988211, 1397.566824485843, 1387.457203021054, 1198.641942723909, 1029.6902446962117, 835.2361172977181, 492.786690301382, 120.05825538309249, 2.0647915352990545, 2.065100412104979, 2.0648620092448953, 2.0645143938054384, 2.0652000525893244, 2.064937711089447, 2.064441481623063, 2.0673002267200626, 2.0644260602872944, 2.0643218562509764, 2.0645197405112983, 2.0647699083641253, 2.0644327496592743, 2.0645631533030775, 2.064456257445496, 2.0644965646803186, 2.0642240314219698, 2.0643053347136844, 2.064603135174535, 2.0652186829276045, 2.0793720529042914, 2.065571249806913, 2.065642281125378, 2.0677248973022246, 2.06697157323911, 2.067819770283448, 2.067040843231394, 2.066570378735305, 2.0662023564125147, 2.066361298397032, 2.0660541868433078, 2.0658908215924563, 2.0655392971319038, 2.0656548152552947, 2.065674237999309, 2.0657119429962925, 5030.031199936627, 3654.3143197943664, 3271.661020672315, 2870.460291914709, 2391.3514738867816, 1971.85926297181, 988.3293179544336, 685.2746147047584, 507.68252253418416, 412.07969489347, 253.6575288226183, 146.59767646468697, 130.53464144117078, 7.64498088184207, 2.0650133302329783, 2.0647915352990545, 2.065100412104979, 2.064437641807439, 2.0645518187271215, 2.0645143938054384, 2.0650689761804513, 2.064268924188958, 2.0648571485821248, 2.0642213375796494, 2.0641675251163303, 2.0641675251163303, 2.0641898117262407, 2.0648620092448953, 2.064215509676736, 2.0641635927046718, 2.0650568882736033, 2.0645462142101727, 2.0649849490709995, 2.065360418431718, 2.0647383555378425, 2.0673002267200626, 2.0652000525893244, 2.0660541868433078, 2.0793720529042914, 2.0677248973022246, 2.067040843231394, 2.067819770283448, 2.066361298397032, 2.06697157323911, 2.066570378735305, 2.0656548152552947, 2.0662023564125147, 2.0658908215924563, 2.065699903288966, 14473.800028030262, 2856.3534535354024, 1876.21148713794, 1416.1983042392526, 1289.9658115889358, 580.3219172197862, 310.2267426819153, 229.2621990149314, 2.0646488818808995, 2.065699903288966, 2.064222198920943, 2.064234806825701, 2.064249625415869, 2.0642618989258934, 2.0643263572492616, 2.0641586642141982, 2.0641606734241127, 2.06416225290485, 2.064156559052643, 2.064225843230331, 2.06431109978917, 2.064189642232659, 2.0642610354584203, 2.064740471367406, 2.0641838999240893, 2.0645029486666466, 2.064157222114282, 2.0641576618759365, 2.064160171063929, 2.064160939430023, 2.0642167569523973, 2.0642004578256388, 2.064327438728905, 2.0643036879198076, 2.064430401405974, 2.0644354783784915, 2.06486093853992, 2.0643685688807083, 2.06553861165416, 2.064400593143716, 2.065128084277097, 2.0648477188977132, 2.064749506903623, 2.06442449712029, 2.065021398643656, 2.064737631019264, 2.0656738923233218, 2.0651524292009804, 2.06697157323911, 2.0647311700859454, 2.0658908215924563, 2.0653120825501388, 2.0656528803789396, 2.067819770283448, 2.0647531709909264, 2.0647335539384266, 2.065674237999309, 2.066570378735305, 2.0662023564125147, 2.064899249079483, 2.067040843231394, 2.0677248973022246, 2.0656548152552947, 2.066361298397032, 2.0660541868433078, 2.0793720529042914, 2.0673002267200626, 2.065642281125378, 2.065542832491985, 2.065571249806913, 10661.512775295478, 7401.476306588994, 1189.4665399075525, 1062.9086178234309, 738.9988594592761, 414.11610512560964, 2.064423111191371, 2.0644327496592743, 2.064456257445496, 2.0644965646803186, 2.064603135174535, 2.0642455323399114, 2.0648543542193676, 2.0644100638649356, 2.0642261834210056, 2.0641865715957204, 2.0641865715957204, 2.064159053152041, 2.0642406924458485, 2.064434117628092, 2.064440324508784, 2.0642004873750794, 2.0642089428313137, 2.0642832864761793, 2.064266275122884, 2.064221385499088, 2.0641634835872504, 2.064159428449383, 2.064159428449383, 2.0642089199438103, 2.064250188889808, 2.0643970173665176, 2.0643036879198076, 2.064572613881153, 2.064584251314014, 2.0653774106332334, 2.065180092456678, 2.0646931857195763, 2.065041232708143, 2.064894747633919, 2.0650158764645674, 2.0793720529042914, 2.067040843231394, 2.066570378735305, 2.065571249806913, 2.06697157323911, 2.065542832491985, 2.064985508283541, 2.0656548152552947, 2.0677248973022246, 2.067819770283448, 2.066361298397032, 2.0652379909586966, 2.0658908215924563, 2.0660541868433078, 2.065642281125378, 2.0656528803789396, 2.0656738923233218, 2.0673002267200626, 2.0657119429962925, 2.065674237999309, 2.065699903288966, 2.0662023564125147, 2.0655035496012952, 5878.296118114082, 4571.520999262271, 3385.2375467103534, 2042.3345899417654, 1786.095490830956, 914.8054343873819, 814.8926081464346, 560.379451005652, 445.4650298264941, 2.0647046795094317, 2.064649526131586, 2.064303206824335, 2.064303206824335, 2.064303206824335, 2.0643445797626168, 2.064273995048769, 2.0643578309762884, 2.0647275986819604, 2.064163147920212, 2.0645575311462627, 2.0641632736111575, 2.0644749277631416, 2.0647209534944966, 2.06427975972355, 2.064449743205622, 2.064186651404319, 2.0641865593287547, 2.0641865593287547, 2.0641687711813534, 2.0642161916871724, 2.064327783316, 2.064615358329802, 2.0645349488063927, 2.0645813360254923, 2.064561826911679, 2.065180092456678, 2.0651181352538583, 2.0656548152552947, 2.0649316363950945, 2.0793720529042914, 2.067040843231394, 2.0662023564125147, 2.067819770283448, 2.0677248973022246, 2.06697157323911, 2.066361298397032, 2.066570378735305, 2.0653783611095298, 2.0673002267200626, 2.0660541868433078, 2.065164373337686, 2.0657119429962925, 2.065642281125378, 2.0658908215924563, 2.065674237999309, 2.065699903288966, 2.0655035496012952, 2.06553861165416, 2.0656528803789396, 5090.274191990191, 2552.704794727096, 2222.819053389976, 1944.866034304098, 1940.5968602004073, 1513.0087878103018, 1392.015365795969, 873.2311946171543, 608.2983367786632, 522.9046531366882, 324.7862828149878, 177.7952687582257, 2.0650133302329783, 2.064437641807439, 2.0645518187271215, 2.0648571485821248, 2.0650689761804513, 2.0642213375796494, 2.0650568882736033, 2.064207260846214, 2.064210271238968, 2.0641865710874336, 2.064212979772189, 2.0641625227460554, 2.0641625227460554, 2.0641625227460554, 2.064166473370862, 2.0641812277503946, 2.064167303870775, 2.064189549154963, 2.0642254729493463, 2.0649849490709995, 2.0642903661890633, 2.0643263572492616, 2.065360418431718, 2.0644252382467143, 2.0644388089632386, 2.0645618006663424, 2.0660541868433078, 2.066570378735305, 2.0673002267200626, 2.064588775252476, 2.064489975258886, 2.0793720529042914, 2.065674237999309, 2.0656548152552947, 2.066361298397032, 2.0677248973022246, 2.0657119429962925, 2.067040843231394, 2.06697157323911, 2.067819770283448, 2.0662023564125147, 2.0658908215924563, 2.065699903288966, 6153.490534381633, 3443.907570605195, 3371.4943287863935, 2490.3709057141673, 1306.6361735078108, 878.2460749612649, 571.3634454118355, 512.9174822673144, 420.1613030160129, 69.20186011307902, 2.06451639025423, 2.064430401405974, 2.0647791940898554, 2.064425243485837, 2.0647531709909264, 2.064302920807373, 2.0657119429962925, 2.0647913346612787, 2.0641666812940946, 2.0641607831482878, 2.064266976257712, 2.0643278607287736, 2.0642668579137604, 2.0644976962455495, 2.064191918318455, 2.0641905239688114, 2.0642446317030125, 2.064190774991868, 2.0641581612722644, 2.064159179633434, 2.06553861165416, 2.065041232708143, 2.0651524292009804, 2.0656528803789396, 2.0647294040394635, 2.064440324508784, 2.064572613881153, 2.064749506903623, 2.0662023564125147, 2.064899896662501, 2.0658908215924563, 2.066570378735305, 2.0793720529042914, 2.067819770283448, 2.06697157323911, 2.0677248973022246, 2.067040843231394, 2.066361298397032, 2.0673002267200626, 2.0660541868433078, 2.065642281125378, 2.0656738923233218, 2.065699903288966, 2.065542832491985, 2.065571249806913, 3912.608635556036, 2643.585920515638, 2415.271533996953, 2137.2792741937724, 1784.729174867589, 1668.1273477917373, 867.0999530878698, 860.8317100881562, 105.95873242075643, 2.064676898223576, 2.0641912401087716, 2.0641933355318627, 2.0642548911953904, 2.0642402653181606, 2.0642945364128966, 2.0641617160813235, 2.0641617160813235, 2.0641617160813235, 2.0641646508604716, 2.064171104817681, 2.0643685688807083, 2.064192750303867, 2.0641776547863935, 2.064160957581019, 2.064155949060387, 2.0641764882954994, 2.0641550889360576, 2.06415509873104, 2.0641565717890407, 2.0641748129762907, 2.064171333989667, 2.064453943579498, 2.0642970026828587, 2.064314344022251, 2.064450527816726, 2.0644744079962845, 2.0644722567763965, 2.0643206798161335, 2.0647275986819604, 2.0653774106332334, 2.064683278475019, 2.064412968382313, 2.064588775252476, 2.0647209534944966, 2.0655392971319038, 2.066570378735305, 2.065674237999309, 2.0660541868433078, 2.0651566041597738, 2.065571249806913, 2.0793720529042914, 2.0652379909586966, 2.06697157323911, 2.0658908215924563, 2.067040843231394, 2.0677248973022246, 2.065642281125378, 2.067819770283448, 2.065542832491985, 2.0673002267200626, 2.066361298397032, 2.0657119429962925, 2.0656738923233218, 2.0662023564125147, 2.065699903288966, 2.0656548152552947, 2548.1096873849583, 1904.9826436964481, 1215.392888279608, 674.781355386153, 2.0645076770875166, 2.0644924271835587, 2.0644556631916893, 2.0644885504849553, 2.0645357541871596, 2.0649810887737496, 2.065230685321636, 2.064475493050734, 2.0642115894686817, 2.0641646728732668, 2.0641580250013036, 2.0641689514386345, 2.064169603671118, 2.0641798704550003, 2.0645602938592322, 2.064210949968242, 2.064167424871238, 2.0644976962455495, 2.06417710707784, 2.0641836296195435, 2.064325488924443, 2.0641838108658135, 2.064187099451391, 2.0641827478432817, 2.0642539648589633, 2.0641906471765714, 2.064238072892388, 2.0656738923233218, 2.0642896423973047, 2.0644815513045836, 2.064525902595802, 2.0645277674512648, 2.064243971424107, 2.0793720529042914, 2.0651181352538583, 2.0650935392217473, 2.0656528803789396, 2.0645616802503075, 2.064953962692465, 2.0643830882561924, 2.064489975258886, 2.067040843231394, 2.066570378735305, 2.0673002267200626, 2.067819770283448, 2.065571249806913, 2.065674237999309, 2.0653774106332334, 2.0677248973022246, 2.0641347664170953, 2.0641347664170953, 2.0641347664170953, 2.0641347664170953, 2.0641347664170953, 2.0641347664170953, 2.0641347664170953, 2.0641347664170953, 2.0641347664170953, 2.0641347664170953, 2.0641347664170953, 2.0641347664170953, 2.0641347664170953, 2.0641347664170953, 2.0641347664170953, 2.0641347664170953, 2.0641347664170953, 2.0641347664170953, 2.0641347664170953, 2.0641347664170953, 2.0641347664170953, 2.0641347664170953, 2.0641347664170953, 2.0641347664170953, 2.0641347664170953, 2.0641347664170953, 2.0641347664170953, 2.0641347664170953, 2.0641347664170953, 2.0641347664170953, 7416.601579282856, 2.0642496214796813, 556.6900876264609, 2.064199152056112, 2.0641572693506123, 3848.076674130356, 1615.852378737835, 2.0641570009255052, 87.37369324415091, 1648.5042907356762, 577.7801112998079, 2.0641649351743996, 2.0642171365504427, 2707.8823553295924, 727.8000698224789, 2.0641666958723897, 2415.271533996953, 8434.426206254471, 2829.7619448451733, 3385.2375467103534, 1786.095490830956, 2.0642159951968226, 914.8054343873819, 5878.296118114082, 5372.430467543434, 445.4650298264941, 2042.3345899417654, 1907.7077562075654, 2.0641884249009634], \"Category\": [\"Default\", \"Default\", \"Default\", \"Default\", \"Default\", \"Default\", \"Default\", \"Default\", \"Default\", \"Default\", \"Default\", \"Default\", \"Default\", \"Default\", \"Default\", \"Default\", \"Default\", \"Default\", \"Default\", \"Default\", \"Default\", \"Default\", \"Default\", \"Default\", \"Default\", \"Default\", \"Default\", \"Default\", \"Default\", \"Default\", \"Topic1\", \"Topic1\", \"Topic1\", \"Topic1\", \"Topic1\", \"Topic1\", \"Topic1\", \"Topic1\", \"Topic1\", \"Topic1\", \"Topic1\", \"Topic1\", \"Topic1\", \"Topic1\", \"Topic1\", \"Topic1\", \"Topic1\", \"Topic1\", \"Topic1\", \"Topic1\", \"Topic1\", \"Topic1\", \"Topic1\", \"Topic1\", \"Topic1\", \"Topic1\", \"Topic1\", \"Topic1\", \"Topic1\", \"Topic1\", \"Topic2\", \"Topic2\", \"Topic2\", \"Topic2\", \"Topic2\", \"Topic2\", \"Topic2\", \"Topic2\", \"Topic2\", \"Topic2\", \"Topic2\", \"Topic2\", \"Topic2\", \"Topic2\", \"Topic2\", \"Topic2\", \"Topic2\", \"Topic2\", \"Topic2\", \"Topic2\", \"Topic2\", \"Topic2\", \"Topic2\", \"Topic2\", \"Topic2\", \"Topic2\", \"Topic2\", \"Topic2\", \"Topic2\", \"Topic2\", \"Topic2\", \"Topic2\", \"Topic2\", \"Topic3\", \"Topic3\", \"Topic3\", \"Topic3\", \"Topic3\", \"Topic3\", \"Topic3\", \"Topic3\", \"Topic3\", \"Topic3\", \"Topic3\", \"Topic3\", \"Topic3\", \"Topic3\", \"Topic3\", \"Topic3\", \"Topic3\", \"Topic3\", \"Topic3\", \"Topic3\", \"Topic3\", \"Topic3\", \"Topic3\", \"Topic3\", \"Topic3\", \"Topic3\", \"Topic3\", \"Topic3\", \"Topic3\", \"Topic3\", \"Topic4\", \"Topic4\", \"Topic4\", \"Topic4\", \"Topic4\", \"Topic4\", \"Topic4\", \"Topic4\", \"Topic4\", \"Topic4\", \"Topic4\", \"Topic4\", \"Topic4\", \"Topic4\", \"Topic4\", \"Topic4\", \"Topic4\", \"Topic4\", \"Topic4\", \"Topic4\", \"Topic4\", \"Topic4\", \"Topic4\", \"Topic4\", \"Topic4\", \"Topic4\", \"Topic4\", \"Topic4\", \"Topic4\", \"Topic4\", \"Topic4\", \"Topic4\", \"Topic4\", \"Topic4\", \"Topic4\", \"Topic4\", \"Topic5\", \"Topic5\", \"Topic5\", \"Topic5\", \"Topic5\", \"Topic5\", \"Topic5\", \"Topic5\", \"Topic5\", \"Topic5\", \"Topic5\", \"Topic5\", \"Topic5\", \"Topic5\", \"Topic5\", \"Topic5\", \"Topic5\", \"Topic5\", \"Topic5\", \"Topic5\", \"Topic5\", \"Topic5\", \"Topic5\", \"Topic5\", \"Topic5\", \"Topic5\", \"Topic5\", \"Topic5\", \"Topic5\", \"Topic5\", \"Topic5\", \"Topic5\", \"Topic6\", \"Topic6\", \"Topic6\", \"Topic6\", \"Topic6\", \"Topic6\", \"Topic6\", \"Topic6\", \"Topic6\", \"Topic6\", \"Topic6\", \"Topic6\", \"Topic6\", \"Topic6\", \"Topic6\", \"Topic6\", \"Topic6\", \"Topic6\", \"Topic6\", \"Topic6\", \"Topic6\", \"Topic6\", \"Topic6\", \"Topic6\", \"Topic6\", \"Topic6\", \"Topic6\", \"Topic6\", \"Topic6\", \"Topic6\", \"Topic6\", \"Topic6\", \"Topic6\", \"Topic7\", \"Topic7\", \"Topic7\", \"Topic7\", \"Topic7\", \"Topic7\", \"Topic7\", \"Topic7\", \"Topic7\", \"Topic7\", \"Topic7\", \"Topic7\", \"Topic7\", \"Topic7\", \"Topic7\", \"Topic7\", \"Topic7\", \"Topic7\", \"Topic7\", \"Topic7\", \"Topic7\", \"Topic7\", \"Topic7\", \"Topic7\", \"Topic7\", \"Topic7\", \"Topic7\", \"Topic7\", \"Topic7\", \"Topic7\", \"Topic7\", \"Topic7\", \"Topic7\", \"Topic8\", \"Topic8\", \"Topic8\", \"Topic8\", \"Topic8\", \"Topic8\", \"Topic8\", \"Topic8\", \"Topic8\", \"Topic8\", \"Topic8\", \"Topic8\", \"Topic8\", \"Topic8\", \"Topic8\", \"Topic8\", \"Topic8\", \"Topic8\", \"Topic8\", \"Topic8\", \"Topic8\", \"Topic8\", \"Topic8\", \"Topic8\", \"Topic8\", \"Topic8\", \"Topic8\", \"Topic8\", \"Topic8\", \"Topic8\", \"Topic8\", \"Topic8\", \"Topic8\", \"Topic8\", \"Topic8\", \"Topic8\", \"Topic8\", \"Topic8\", \"Topic8\", \"Topic8\", \"Topic8\", \"Topic9\", \"Topic9\", \"Topic9\", \"Topic9\", \"Topic9\", \"Topic9\", \"Topic9\", \"Topic9\", \"Topic9\", \"Topic9\", \"Topic9\", \"Topic9\", \"Topic9\", \"Topic9\", \"Topic9\", \"Topic9\", \"Topic9\", \"Topic9\", \"Topic9\", \"Topic9\", \"Topic9\", \"Topic9\", \"Topic9\", \"Topic9\", \"Topic9\", \"Topic9\", \"Topic9\", \"Topic9\", \"Topic9\", \"Topic9\", \"Topic9\", \"Topic9\", \"Topic9\", \"Topic9\", \"Topic9\", \"Topic9\", \"Topic10\", \"Topic10\", \"Topic10\", \"Topic10\", \"Topic10\", \"Topic10\", \"Topic10\", \"Topic10\", \"Topic10\", \"Topic10\", \"Topic10\", \"Topic10\", \"Topic10\", \"Topic10\", \"Topic10\", \"Topic10\", \"Topic10\", \"Topic10\", \"Topic10\", \"Topic10\", \"Topic10\", \"Topic10\", \"Topic10\", \"Topic10\", \"Topic10\", \"Topic10\", \"Topic10\", \"Topic10\", \"Topic10\", \"Topic10\", \"Topic10\", \"Topic10\", \"Topic10\", \"Topic10\", \"Topic10\", \"Topic10\", \"Topic10\", \"Topic10\", \"Topic10\", \"Topic10\", \"Topic10\", \"Topic10\", \"Topic10\", \"Topic10\", \"Topic10\", \"Topic10\", \"Topic10\", \"Topic10\", \"Topic11\", \"Topic11\", \"Topic11\", \"Topic11\", \"Topic11\", \"Topic11\", \"Topic11\", \"Topic11\", \"Topic11\", \"Topic11\", \"Topic11\", \"Topic11\", \"Topic11\", \"Topic11\", \"Topic11\", \"Topic11\", \"Topic11\", \"Topic11\", \"Topic11\", \"Topic11\", \"Topic11\", \"Topic11\", \"Topic11\", \"Topic11\", \"Topic11\", \"Topic11\", \"Topic11\", \"Topic11\", \"Topic11\", \"Topic11\", \"Topic11\", \"Topic11\", \"Topic11\", \"Topic11\", \"Topic11\", \"Topic11\", \"Topic11\", \"Topic11\", \"Topic11\", \"Topic11\", \"Topic11\", \"Topic11\", \"Topic11\", \"Topic11\", \"Topic11\", \"Topic11\", \"Topic11\", \"Topic12\", \"Topic12\", \"Topic12\", \"Topic12\", \"Topic12\", \"Topic12\", \"Topic12\", \"Topic12\", \"Topic12\", \"Topic12\", \"Topic12\", \"Topic12\", \"Topic12\", \"Topic12\", \"Topic12\", \"Topic12\", \"Topic12\", \"Topic12\", \"Topic12\", \"Topic12\", \"Topic12\", \"Topic12\", \"Topic12\", \"Topic12\", \"Topic12\", \"Topic12\", \"Topic12\", \"Topic12\", \"Topic12\", \"Topic12\", \"Topic12\", \"Topic12\", \"Topic12\", \"Topic12\", \"Topic12\", \"Topic12\", \"Topic12\", \"Topic12\", \"Topic12\", \"Topic12\", \"Topic12\", \"Topic12\", \"Topic12\", \"Topic12\", \"Topic12\", \"Topic12\", \"Topic12\", \"Topic12\", \"Topic12\", \"Topic13\", \"Topic13\", \"Topic13\", \"Topic13\", \"Topic13\", \"Topic13\", \"Topic13\", \"Topic13\", \"Topic13\", \"Topic13\", \"Topic13\", \"Topic13\", \"Topic13\", \"Topic13\", \"Topic13\", \"Topic13\", \"Topic13\", \"Topic13\", \"Topic13\", \"Topic13\", \"Topic13\", \"Topic13\", \"Topic13\", \"Topic13\", \"Topic13\", \"Topic13\", \"Topic13\", \"Topic13\", \"Topic13\", \"Topic13\", \"Topic13\", \"Topic13\", \"Topic13\", \"Topic13\", \"Topic13\", \"Topic13\", \"Topic13\", \"Topic13\", \"Topic13\", \"Topic13\", \"Topic13\", \"Topic13\", \"Topic13\", \"Topic13\", \"Topic13\", \"Topic13\", \"Topic13\", \"Topic13\", \"Topic13\", \"Topic13\", \"Topic13\", \"Topic13\", \"Topic13\", \"Topic13\", \"Topic13\", \"Topic13\", \"Topic13\", \"Topic13\", \"Topic13\", \"Topic13\", \"Topic13\", \"Topic13\", \"Topic13\", \"Topic13\", \"Topic13\", \"Topic13\", \"Topic13\", \"Topic13\", \"Topic13\", \"Topic13\", \"Topic14\", \"Topic14\", \"Topic14\", \"Topic14\", \"Topic14\", \"Topic14\", \"Topic14\", \"Topic14\", \"Topic14\", \"Topic14\", \"Topic14\", \"Topic14\", \"Topic14\", \"Topic14\", \"Topic14\", \"Topic14\", \"Topic14\", \"Topic14\", \"Topic14\", \"Topic14\", \"Topic14\", \"Topic14\", \"Topic14\", \"Topic14\", \"Topic14\", \"Topic14\", \"Topic14\", \"Topic14\", \"Topic14\", \"Topic14\", \"Topic14\", \"Topic14\", \"Topic14\", \"Topic14\", \"Topic14\", \"Topic14\", \"Topic14\", \"Topic14\", \"Topic14\", \"Topic14\", \"Topic14\", \"Topic14\", \"Topic14\", \"Topic14\", \"Topic14\", \"Topic14\", \"Topic14\", \"Topic14\", \"Topic14\", \"Topic14\", \"Topic14\", \"Topic14\", \"Topic14\", \"Topic14\", \"Topic14\", \"Topic14\", \"Topic14\", \"Topic14\", \"Topic14\", \"Topic14\", \"Topic14\", \"Topic14\", \"Topic14\", \"Topic14\", \"Topic15\", \"Topic15\", \"Topic15\", \"Topic15\", \"Topic15\", \"Topic15\", \"Topic15\", \"Topic15\", \"Topic15\", \"Topic15\", \"Topic15\", \"Topic15\", \"Topic15\", \"Topic15\", \"Topic15\", \"Topic15\", \"Topic15\", \"Topic15\", \"Topic15\", \"Topic15\", \"Topic15\", \"Topic15\", \"Topic15\", \"Topic15\", \"Topic15\", \"Topic15\", \"Topic15\", \"Topic15\", \"Topic15\", \"Topic15\", \"Topic15\", \"Topic15\", \"Topic15\", \"Topic15\", \"Topic15\", \"Topic15\", \"Topic15\", \"Topic15\", \"Topic15\", \"Topic15\", \"Topic15\", \"Topic15\", \"Topic15\", \"Topic15\", \"Topic15\", \"Topic15\", \"Topic15\", \"Topic15\", \"Topic15\", \"Topic15\", \"Topic15\", \"Topic15\", \"Topic15\", \"Topic15\", \"Topic15\", \"Topic15\", \"Topic15\", \"Topic15\", \"Topic15\", \"Topic16\", \"Topic16\", \"Topic16\", \"Topic16\", \"Topic16\", \"Topic16\", \"Topic16\", \"Topic16\", \"Topic16\", \"Topic16\", \"Topic16\", \"Topic16\", \"Topic16\", \"Topic16\", \"Topic16\", \"Topic16\", \"Topic16\", \"Topic16\", \"Topic16\", \"Topic16\", \"Topic16\", \"Topic16\", \"Topic16\", \"Topic16\", \"Topic16\", \"Topic16\", \"Topic16\", \"Topic16\", \"Topic16\", \"Topic16\", \"Topic16\", \"Topic16\", \"Topic16\", \"Topic16\", \"Topic16\", \"Topic16\", \"Topic16\", \"Topic16\", \"Topic16\", \"Topic16\", \"Topic16\", \"Topic16\", \"Topic16\", \"Topic16\", \"Topic16\", \"Topic16\", \"Topic16\", \"Topic16\", \"Topic16\", \"Topic16\", \"Topic16\", \"Topic16\", \"Topic16\", \"Topic16\", \"Topic16\", \"Topic17\", \"Topic17\", \"Topic17\", \"Topic17\", \"Topic17\", \"Topic17\", \"Topic17\", \"Topic17\", \"Topic17\", \"Topic17\", \"Topic17\", \"Topic17\", \"Topic17\", \"Topic17\", \"Topic17\", \"Topic17\", \"Topic17\", \"Topic17\", \"Topic17\", \"Topic17\", \"Topic17\", \"Topic17\", \"Topic17\", \"Topic17\", \"Topic17\", \"Topic17\", \"Topic17\", \"Topic17\", \"Topic17\", \"Topic17\", \"Topic17\", \"Topic17\", \"Topic17\", \"Topic17\", \"Topic17\", \"Topic17\", \"Topic17\", \"Topic17\", \"Topic17\", \"Topic17\", \"Topic17\", \"Topic17\", \"Topic17\", \"Topic17\", \"Topic17\", \"Topic17\", \"Topic17\", \"Topic17\", \"Topic17\", \"Topic17\", \"Topic17\", \"Topic17\", \"Topic17\", \"Topic17\", \"Topic17\", \"Topic18\", \"Topic18\", \"Topic18\", \"Topic18\", \"Topic18\", \"Topic18\", \"Topic18\", \"Topic18\", \"Topic18\", \"Topic18\", \"Topic18\", \"Topic18\", \"Topic18\", \"Topic18\", \"Topic18\", \"Topic18\", \"Topic18\", \"Topic18\", \"Topic18\", \"Topic18\", \"Topic18\", \"Topic18\", \"Topic18\", \"Topic18\", \"Topic18\", \"Topic18\", \"Topic18\", \"Topic18\", \"Topic18\", \"Topic18\", \"Topic18\", \"Topic18\", \"Topic18\", \"Topic18\", \"Topic18\", \"Topic18\", \"Topic18\", \"Topic18\", \"Topic18\", \"Topic18\", \"Topic18\", \"Topic18\", \"Topic18\", \"Topic18\", \"Topic18\", \"Topic18\", \"Topic18\", \"Topic18\", \"Topic18\", \"Topic18\", \"Topic18\", \"Topic18\", \"Topic18\", \"Topic18\", \"Topic18\", \"Topic18\", \"Topic18\", \"Topic18\", \"Topic18\", \"Topic18\", \"Topic18\", \"Topic18\", \"Topic18\", \"Topic18\", \"Topic18\", \"Topic18\", \"Topic19\", \"Topic19\", \"Topic19\", \"Topic19\", \"Topic19\", \"Topic19\", \"Topic19\", \"Topic19\", \"Topic19\", \"Topic19\", \"Topic19\", \"Topic19\", \"Topic19\", \"Topic19\", \"Topic19\", \"Topic19\", \"Topic19\", \"Topic19\", \"Topic19\", \"Topic19\", \"Topic19\", \"Topic19\", \"Topic19\", \"Topic19\", \"Topic19\", \"Topic19\", \"Topic19\", \"Topic19\", \"Topic19\", \"Topic19\", \"Topic19\", \"Topic19\", \"Topic19\", \"Topic19\", \"Topic19\", \"Topic19\", \"Topic19\", \"Topic19\", \"Topic19\", \"Topic19\", \"Topic19\", \"Topic19\", \"Topic19\", \"Topic19\", \"Topic19\", \"Topic19\", \"Topic19\", \"Topic19\", \"Topic19\", \"Topic19\", \"Topic19\", \"Topic19\", \"Topic19\", \"Topic20\", \"Topic20\", \"Topic20\", \"Topic20\", \"Topic20\", \"Topic20\", \"Topic20\", \"Topic20\", \"Topic20\", \"Topic20\", \"Topic20\", \"Topic20\", \"Topic20\", \"Topic20\", \"Topic20\", \"Topic20\", \"Topic20\", \"Topic20\", \"Topic20\", \"Topic20\", \"Topic20\", \"Topic20\", \"Topic20\", \"Topic20\", \"Topic20\", \"Topic20\", \"Topic20\", \"Topic20\", \"Topic20\", \"Topic20\", \"Topic20\", \"Topic20\", \"Topic20\", \"Topic20\", \"Topic20\", \"Topic20\", \"Topic20\", \"Topic20\", \"Topic20\", \"Topic20\", \"Topic20\", \"Topic20\", \"Topic20\", \"Topic20\", \"Topic20\", \"Topic20\", \"Topic20\", \"Topic20\", \"Topic20\", \"Topic20\", \"Topic20\", \"Topic20\", \"Topic20\", \"Topic20\", \"Topic20\", \"Topic20\", \"Topic20\", \"Topic20\", \"Topic20\"], \"logprob\": [30.0, 29.0, 28.0, 27.0, 26.0, 25.0, 24.0, 23.0, 22.0, 21.0, 20.0, 19.0, 18.0, 17.0, 16.0, 15.0, 14.0, 13.0, 12.0, 11.0, 10.0, 9.0, 8.0, 7.0, 6.0, 5.0, 4.0, 3.0, 2.0, 1.0, -2.5414, -2.6698, -2.8367, -2.9727, -2.9864, -2.9911, -3.0427, -3.2504, -3.3726, -3.4228, -3.466, -3.4738, -3.4825, -3.5807, -3.9741, -3.9798, -4.0885, -4.1, -4.1448, -4.1534, -4.2779, -4.309, -4.4359, -4.4854, -4.5728, -4.5914, -4.5959, -4.6119, -4.7441, -4.7623, -0.5447, -1.803, -3.0579, -3.2539, -3.4957, -3.8277, -4.0272, -4.6163, -5.0916, -5.4599, -5.562, -5.994, -13.4263, -13.4337, -13.434, -13.4338, -13.4342, -13.4343, -13.4346, -13.4348, -13.4347, -13.4349, -13.4351, -13.4351, -13.435, -13.4353, -13.4353, -13.4352, -13.4353, -13.4352, -13.4352, -13.4352, -13.4352, -1.9558, -1.9863, -2.4797, -3.0392, -3.1663, -3.1844, -3.1991, -3.2052, -3.2442, -3.2815, -3.4607, -3.474, -3.5016, -3.5444, -3.7913, -4.0171, -4.0818, -4.4643, -4.4707, -4.4998, -4.7016, -4.7759, -4.7766, -4.9179, -5.0081, -5.0514, -5.117, -5.4031, -5.4618, -5.9836, -1.3525, -1.4569, -2.2105, -2.7232, -2.9162, -3.1104, -3.1449, -3.2703, -3.6564, -3.7495, -7.0819, -13.082, -13.0903, -13.0903, -13.0891, -13.089, -13.0905, -13.0894, -13.0896, -13.0894, -13.0908, -13.0905, -13.0898, -13.0908, -13.0899, -13.0902, -13.0902, -13.0903, -13.0907, -13.0905, -13.0901, -13.0902, -13.0901, -13.0903, -13.0903, -13.0903, -1.5823, -2.0407, -2.0851, -2.4312, -2.6321, -2.7164, -3.2141, -3.2231, -3.2699, -3.4421, -4.1379, -4.4628, -4.7088, -4.9567, -5.0764, -5.3676, -5.7978, -5.8617, -5.9061, -13.1005, -13.1074, -13.1075, -13.1079, -13.108, -13.1078, -13.1082, -13.1084, -13.1083, -13.1087, -13.1088, -13.1086, -13.1087, -1.8966, -2.3735, -2.4719, -2.5957, -2.6816, -2.7558, -3.0334, -3.2778, -3.5393, -3.5417, -3.55, -3.5692, -3.5738, -3.9387, -4.0537, -4.1025, -4.1505, -4.2507, -4.299, -4.4324, -4.6179, -4.6747, -13.0283, -13.0352, -13.035, -13.0352, -13.0363, -13.0361, -13.035, -13.0354, -13.0358, -13.0356, -13.0357, -1.2241, -1.5038, -1.8927, -3.3128, -3.4388, -3.4915, -3.5002, -3.8969, -4.2134, -4.7895, -4.8291, -12.6893, -12.6978, -12.6979, -12.6983, -12.6984, -12.6984, -12.6989, -12.6988, -12.6988, -12.6993, -12.6991, -12.6994, -12.6993, -12.6992, -12.6994, -12.6994, -12.6994, -12.6994, -12.6994, -12.6994, -12.6994, -12.6994, -1.2543, -1.3041, -1.684, -2.4201, -3.4518, -3.9115, -6.4105, -12.9701, -12.9768, -12.9772, -12.9777, -12.9782, -12.9771, -12.9775, -12.9784, -12.9774, -12.9768, -12.9781, -12.9772, -12.9782, -12.9784, -12.9784, -12.9784, -12.9784, -12.9781, -12.9785, -12.9784, -12.9777, -12.9779, -12.9782, -12.9778, -12.978, -12.978, -12.978, -12.978, -12.978, -12.978, -12.978, -12.978, -12.978, -12.9781, -1.3339, -1.8188, -2.0791, -2.5761, -2.9196, -3.3091, -3.5665, -3.6032, -4.0143, -4.2007, -4.2335, -4.3215, -4.3902, -4.5132, -4.5521, -5.1014, -5.1059, -5.1407, -5.7862, -5.97, -6.0447, -13.0568, -13.0569, -13.0576, -13.0573, -13.0582, -13.0575, -13.0582, -13.0585, -13.0577, -13.058, -13.058, -13.0574, -13.0522, -13.0578, -13.0574, -0.9291, -1.6362, -1.8071, -2.1021, -6.2331, -12.9219, -12.9208, -12.9224, -12.9224, -12.9219, -12.9223, -12.9223, -12.922, -12.9221, -12.9222, -12.9223, -12.9224, -12.9221, -12.9152, -12.9216, -12.9222, -12.9221, -12.9209, -12.9226, -12.9225, -12.9216, -12.9224, -12.9224, -12.9225, -12.9227, -12.9224, -12.922, -12.9222, -12.922, -12.9214, -12.921, -12.922, -12.922, -12.9214, -12.9216, -12.922, -12.922, -12.9221, -12.9219, -12.922, -12.922, -12.9221, -12.9221, -1.1684, -1.9269, -2.4714, -2.6075, -3.0584, -3.0656, -3.2121, -3.3643, -3.5741, -4.1034, -5.528, -12.6002, -12.6001, -12.6004, -12.6006, -12.6003, -12.6005, -12.6007, -12.5993, -12.6007, -12.6008, -12.6007, -12.6006, -12.6007, -12.6007, -12.6007, -12.6007, -12.6009, -12.6008, -12.6007, -12.6004, -12.5941, -12.6003, -12.6002, -12.5996, -12.5999, -12.5996, -12.5998, -12.6, -12.6001, -12.6001, -12.6002, -12.6003, -12.6004, -12.6004, -12.6004, -12.6004, -1.6937, -2.0134, -2.1241, -2.255, -2.4377, -2.6308, -3.3225, -3.6896, -3.9905, -4.2001, -4.6883, -5.2423, -5.36, -8.4792, -12.5068, -12.507, -12.5068, -12.5072, -12.5071, -12.5072, -12.5069, -12.5073, -12.507, -12.5073, -12.5074, -12.5074, -12.5074, -12.507, -12.5073, -12.5074, -12.507, -12.5072, -12.507, -12.5069, -12.5071, -12.5061, -12.5069, -12.5066, -12.5021, -12.5061, -12.5064, -12.5062, -12.5066, -12.5065, -12.5066, -12.5068, -12.5067, -12.5068, -12.5069, -0.6013, -2.2246, -2.6453, -2.9269, -3.0204, -3.8211, -4.4504, -4.7551, -12.8729, -12.8724, -12.8732, -12.8732, -12.8732, -12.8732, -12.8731, -12.8732, -12.8732, -12.8732, -12.8732, -12.8732, -12.8732, -12.8732, -12.8732, -12.8729, -12.8732, -12.8731, -12.8732, -12.8732, -12.8732, -12.8732, -12.8732, -12.8732, -12.8732, -12.8732, -12.8731, -12.8731, -12.8729, -12.8731, -12.8727, -12.8731, -12.8729, -12.873, -12.873, -12.8731, -12.8729, -12.873, -12.8727, -12.8729, -12.8723, -12.873, -12.8727, -12.8729, -12.8728, -12.8722, -12.873, -12.873, -12.8728, -12.8725, -12.8726, -12.873, -12.8724, -12.8723, -12.8728, -12.8726, -12.8727, -12.8701, -12.8725, -12.8728, -12.8729, -12.8729, -0.9069, -1.2719, -3.1015, -3.2141, -3.5784, -4.1597, -12.4949, -12.4949, -12.4949, -12.4949, -12.4949, -12.495, -12.4947, -12.495, -12.4951, -12.4951, -12.4951, -12.4951, -12.4951, -12.495, -12.495, -12.4951, -12.4951, -12.4951, -12.4951, -12.4951, -12.4951, -12.4951, -12.4951, -12.4951, -12.4951, -12.495, -12.4951, -12.4949, -12.4949, -12.4946, -12.4947, -12.4949, -12.4948, -12.4948, -12.4948, -12.4896, -12.4941, -12.4943, -12.4946, -12.4941, -12.4946, -12.4948, -12.4946, -12.4939, -12.4939, -12.4944, -12.4947, -12.4945, -12.4945, -12.4946, -12.4946, -12.4946, -12.4942, -12.4946, -12.4946, -12.4946, -12.4945, -12.4947, -1.4609, -1.7124, -2.013, -2.5187, -2.6529, -3.323, -3.439, -3.8145, -4.0449, -12.4526, -12.4527, -12.4529, -12.4529, -12.4529, -12.4529, -12.4529, -12.4529, -12.4527, -12.453, -12.4528, -12.453, -12.4528, -12.4527, -12.4529, -12.4528, -12.453, -12.453, -12.453, -12.453, -12.453, -12.4529, -12.4528, -12.4528, -12.4528, -12.4528, -12.4526, -12.4526, -12.4525, -12.4527, -12.4484, -12.4521, -12.4523, -12.4519, -12.4519, -12.4521, -12.4523, -12.4523, -12.4526, -12.4521, -12.4524, -12.4526, -12.4525, -12.4525, -12.4525, -12.4525, -12.4526, -12.4526, -12.4526, -12.4526, -1.5697, -2.2603, -2.3988, -2.5325, -2.5347, -2.7838, -2.8673, -3.3345, -3.697, -3.8488, -4.3273, -4.9348, -12.3458, -12.3461, -12.3461, -12.346, -12.3459, -12.3463, -12.3459, -12.3463, -12.3463, -12.3463, -12.3463, -12.3463, -12.3463, -12.3463, -12.3463, -12.3463, -12.3463, -12.3463, -12.3463, -12.346, -12.3463, -12.3463, -12.3459, -12.3462, -12.3462, -12.3462, -12.3456, -12.3455, -12.3452, -12.3462, -12.3462, -12.3415, -12.3458, -12.3459, -12.3456, -12.3452, -12.3458, -12.3455, -12.3455, -12.3453, -12.3457, -12.3459, -12.3459, -1.3781, -1.9588, -1.9801, -2.2832, -2.9289, -3.3269, -3.758, -3.8663, -4.0666, -5.8943, -12.3638, -12.3639, -12.3637, -12.3639, -12.3638, -12.364, -12.3633, -12.3638, -12.3641, -12.3641, -12.3641, -12.364, -12.3641, -12.364, -12.3641, -12.3641, -12.3641, -12.3641, -12.3641, -12.3641, -12.3635, -12.3637, -12.3637, -12.3634, -12.3639, -12.364, -12.3639, -12.3639, -12.3633, -12.3638, -12.3635, -12.3633, -12.3592, -12.3629, -12.3632, -12.363, -12.3632, -12.3634, -12.3632, -12.3635, -12.3636, -12.3636, -12.3636, -12.3637, -12.3637, -1.6952, -2.0875, -2.1779, -2.3002, -2.4807, -2.5483, -3.2037, -3.211, -5.3223, -12.2836, -12.2839, -12.2839, -12.2839, -12.2839, -12.2839, -12.2839, -12.2839, -12.2839, -12.2839, -12.2839, -12.2838, -12.2839, -12.2839, -12.2839, -12.2839, -12.2839, -12.2839, -12.2839, -12.2839, -12.2839, -12.2839, -12.2838, -12.2839, -12.2839, -12.2838, -12.2838, -12.2838, -12.2839, -12.2837, -12.2835, -12.2837, -12.2838, -12.2838, -12.2838, -12.2835, -12.2833, -12.2835, -12.2834, -12.2836, -12.2835, -12.2801, -12.2836, -12.2832, -12.2835, -12.2832, -12.2831, -12.2835, -12.2831, -12.2836, -12.2832, -12.2834, -12.2836, -12.2836, -12.2835, -12.2836, -12.2836, -1.2718, -1.563, -2.013, -2.6027, -12.0146, -12.0146, -12.0147, -12.0147, -12.0147, -12.0146, -12.0146, -12.015, -12.0151, -12.0152, -12.0152, -12.0152, -12.0152, -12.0152, -12.015, -12.0152, -12.0152, -12.015, -12.0152, -12.0152, -12.0151, -12.0152, -12.0152, -12.0152, -12.0152, -12.0152, -12.0152, -12.0145, -12.0152, -12.0151, -12.0151, -12.0151, -12.0152, -12.0122, -12.015, -12.015, -12.015, -12.0151, -12.0151, -12.0152, -12.0151, -12.0149, -12.015, -12.015, -12.0149, -12.0151, -12.0151, -12.0151, -12.0151, -10.8197, -10.8197, -10.8197, -10.8197, -10.8197, -10.8197, -10.8197, -10.8197, -10.8197, -10.8197, -10.8197, -10.8197, -10.8197, -10.8197, -10.8197, -10.8197, -10.8197, -10.8197, -10.8197, -10.8197, -10.8197, -10.8197, -10.8197, -10.8197, -10.8197, -10.8197, -10.8197, -10.8197, -10.8197, -10.8197, -10.8197, -10.8197, -10.8197, -10.8197, -10.8197, -10.8197, -10.8197, -10.8197, -10.8197, -10.8197, -10.8197, -10.8197, -10.8197, -10.8197, -10.8197, -10.8197, -10.8197, -10.8197, -10.8197, -10.8197, -10.8197, -10.8197, -10.8197, -10.8197, -10.8197, -10.8197, -10.8197, -10.8197, -10.8197], \"loglift\": [30.0, 29.0, 28.0, 27.0, 26.0, 25.0, 24.0, 23.0, 22.0, 21.0, 20.0, 19.0, 18.0, 17.0, 16.0, 15.0, 14.0, 13.0, 12.0, 11.0, 10.0, 9.0, 8.0, 7.0, 6.0, 5.0, 4.0, 3.0, 2.0, 1.0, 2.1649, 2.1648, 2.1648, 2.1647, 2.1647, 2.1647, 2.1647, 2.1646, 2.1645, 2.1645, 2.1645, 2.1645, 2.1645, 2.1644, 2.1641, 2.1641, 2.1639, 2.1639, 2.1639, 2.1639, 2.1637, 2.1637, 2.1635, 2.1634, 2.1632, 2.1632, 2.1632, 2.1631, 2.1629, 2.1628, 2.2919, 2.2918, 2.2915, 2.2914, 2.2912, 2.2909, 2.2907, 2.2897, 2.2883, 2.2868, 2.2862, 2.2831, -0.4861, -0.4879, -0.4879, -0.488, -0.4881, -0.4881, -0.4882, -0.4882, -0.4882, -0.4882, -0.4883, -0.4883, -0.4883, -0.4883, -0.4883, -0.4884, -0.4884, -0.4884, -0.4884, -0.4884, -0.4884, 2.3082, 2.3082, 2.3081, 2.3079, 2.3078, 2.3078, 2.3078, 2.3078, 2.3078, 2.3077, 2.3076, 2.3076, 2.3076, 2.3076, 2.3073, 2.3071, 2.307, 2.3064, 2.3064, 2.3063, 2.3059, 2.3057, 2.3057, 2.3053, 2.305, 2.3048, 2.3046, 2.3033, 2.303, 2.2994, 2.6145, 2.6145, 2.6143, 2.6141, 2.614, 2.6139, 2.6139, 2.6138, 2.6134, 2.6133, 2.5789, -0.1418, -0.1431, -0.1432, -0.1432, -0.1433, -0.1433, -0.1433, -0.1434, -0.1434, -0.1434, -0.1434, -0.1434, -0.1434, -0.1434, -0.1434, -0.1434, -0.1434, -0.1435, -0.1435, -0.1435, -0.1435, -0.1435, -0.1435, -0.1435, -0.1435, 2.6758, 2.6757, 2.6757, 2.6756, 2.6755, 2.6755, 2.6752, 2.6752, 2.6751, 2.675, 2.6739, 2.6732, 2.6724, 2.6714, 2.6708, 2.669, 2.6653, 2.6646, 2.6641, -0.1603, -0.1616, -0.1618, -0.1618, -0.1618, -0.1618, -0.1618, -0.1618, -0.1618, -0.1619, -0.1619, -0.162, -0.162, 2.7356, 2.7355, 2.7354, 2.7354, 2.7354, 2.7353, 2.7351, 2.7349, 2.7347, 2.7347, 2.7347, 2.7346, 2.7346, 2.7341, 2.7339, 2.7338, 2.7337, 2.7334, 2.7333, 2.733, 2.7324, 2.7322, -0.0881, -0.089, -0.0891, -0.0892, -0.0892, -0.0892, -0.0892, -0.0892, -0.0892, -0.0892, -0.0892, 2.7526, 2.7526, 2.7525, 2.7518, 2.7516, 2.7516, 2.7516, 2.751, 2.7504, 2.7486, 2.7484, 0.251, 0.248, 0.2479, 0.2478, 0.2478, 0.2477, 0.2477, 0.2477, 0.2476, 0.2475, 0.2475, 0.2475, 0.2475, 0.2475, 0.2475, 0.2475, 0.2475, 0.2475, 0.2475, 0.2475, 0.2474, 0.2474, 2.8139, 2.8139, 2.8139, 2.8137, 2.8129, 2.8122, 2.7916, -0.0299, -0.031, -0.031, -0.031, -0.031, -0.031, -0.0311, -0.0311, -0.0311, -0.0311, -0.0311, -0.0311, -0.0311, -0.0311, -0.0311, -0.0311, -0.0311, -0.0311, -0.0311, -0.0311, -0.0311, -0.0311, -0.0311, -0.0311, -0.0311, -0.0311, -0.0312, -0.0311, -0.0312, -0.0312, -0.0312, -0.0312, -0.0312, -0.0312, 2.8874, 2.8873, 2.8872, 2.887, 2.8868, 2.8864, 2.8861, 2.886, 2.8853, 2.8848, 2.8847, 2.8845, 2.8843, 2.8838, 2.8837, 2.8809, 2.8809, 2.8806, 2.8744, 2.8718, 2.8705, -0.111, -0.1111, -0.1111, -0.1111, -0.1111, -0.1111, -0.1111, -0.1111, -0.1111, -0.1111, -0.1112, -0.1112, -0.112, -0.1112, -0.1114, 2.9814, 2.9812, 2.9812, 2.9811, 2.959, 0.0252, 0.0252, 0.025, 0.025, 0.025, 0.025, 0.025, 0.025, 0.025, 0.025, 0.025, 0.025, 0.025, 0.025, 0.025, 0.025, 0.025, 0.0249, 0.0249, 0.0249, 0.0249, 0.0249, 0.0249, 0.0249, 0.0249, 0.0249, 0.0248, 0.0248, 0.0248, 0.0248, 0.0248, 0.0248, 0.0248, 0.0248, 0.0247, 0.0248, 0.0248, 0.0248, 0.0247, 0.0248, 0.0248, 0.0248, 0.0248, 3.3726, 3.3724, 3.3721, 3.3719, 3.3714, 3.3714, 3.3712, 3.3709, 3.3705, 3.3688, 3.3563, 0.347, 0.347, 0.3468, 0.3468, 0.3467, 0.3467, 0.3467, 0.3467, 0.3467, 0.3467, 0.3467, 0.3467, 0.3467, 0.3467, 0.3467, 0.3467, 0.3467, 0.3467, 0.3467, 0.3466, 0.3461, 0.3466, 0.3466, 0.3463, 0.3463, 0.3462, 0.3463, 0.3464, 0.3464, 0.3464, 0.3464, 0.3464, 0.3465, 0.3465, 0.3465, 0.3464, 3.4554, 3.4552, 3.4552, 3.4551, 3.4549, 3.4548, 3.4538, 3.4529, 3.4519, 3.451, 3.448, 3.4423, 3.4406, 3.159, 0.4403, 0.4403, 0.4402, 0.4402, 0.4402, 0.4402, 0.4402, 0.4402, 0.4402, 0.4402, 0.4402, 0.4402, 0.4402, 0.4402, 0.4402, 0.4402, 0.4402, 0.4402, 0.4401, 0.4401, 0.4401, 0.4399, 0.4401, 0.44, 0.4381, 0.4397, 0.4398, 0.4396, 0.4399, 0.4397, 0.4398, 0.44, 0.4398, 0.4399, 0.4399, 3.4909, 3.4904, 3.49, 3.4896, 3.4895, 3.4876, 3.4846, 3.4823, 0.0744, 0.0744, 0.0743, 0.0743, 0.0743, 0.0743, 0.0743, 0.0743, 0.0743, 0.0743, 0.0743, 0.0743, 0.0743, 0.0743, 0.0743, 0.0743, 0.0743, 0.0743, 0.0743, 0.0743, 0.0743, 0.0743, 0.0743, 0.0743, 0.0743, 0.0743, 0.0743, 0.0743, 0.0743, 0.0743, 0.0742, 0.0743, 0.0742, 0.0742, 0.0743, 0.0743, 0.0742, 0.0743, 0.0741, 0.0742, 0.0739, 0.0742, 0.074, 0.0741, 0.0741, 0.0736, 0.0742, 0.0742, 0.0741, 0.0739, 0.0739, 0.0742, 0.0737, 0.0736, 0.074, 0.0738, 0.0739, 0.0701, 0.0735, 0.074, 0.074, 0.074, 3.491, 3.4909, 3.4896, 3.4894, 3.4885, 3.4865, 0.4525, 0.4525, 0.4525, 0.4525, 0.4525, 0.4525, 0.4525, 0.4525, 0.4525, 0.4525, 0.4525, 0.4525, 0.4524, 0.4524, 0.4524, 0.4524, 0.4524, 0.4524, 0.4524, 0.4524, 0.4524, 0.4524, 0.4524, 0.4524, 0.4524, 0.4524, 0.4524, 0.4524, 0.4524, 0.4523, 0.4523, 0.4524, 0.4524, 0.4524, 0.4524, 0.4506, 0.4521, 0.4521, 0.4523, 0.4521, 0.4523, 0.4523, 0.4522, 0.4519, 0.4519, 0.4521, 0.4523, 0.4522, 0.4521, 0.4522, 0.4522, 0.4522, 0.4518, 0.4522, 0.4522, 0.4522, 0.452, 0.4522, 3.5323, 3.5323, 3.5321, 3.5317, 3.5316, 3.5305, 3.5303, 3.5292, 3.5283, 0.4947, 0.4946, 0.4946, 0.4946, 0.4946, 0.4946, 0.4946, 0.4946, 0.4946, 0.4946, 0.4946, 0.4946, 0.4946, 0.4946, 0.4946, 0.4946, 0.4946, 0.4946, 0.4946, 0.4946, 0.4946, 0.4946, 0.4946, 0.4946, 0.4945, 0.4945, 0.4945, 0.4945, 0.4943, 0.4945, 0.4919, 0.4941, 0.4942, 0.4939, 0.4939, 0.4941, 0.4942, 0.4941, 0.4944, 0.4939, 0.4942, 0.4944, 0.4943, 0.4943, 0.4942, 0.4943, 0.4942, 0.4943, 0.4943, 0.4942, 3.5675, 3.5671, 3.567, 3.5669, 3.5669, 3.5666, 3.5665, 3.5656, 3.5646, 3.5641, 3.5618, 3.5568, 0.6014, 0.6013, 0.6013, 0.6013, 0.6012, 0.6012, 0.6012, 0.6012, 0.6012, 0.6012, 0.6012, 0.6012, 0.6012, 0.6012, 0.6012, 0.6012, 0.6012, 0.6012, 0.6012, 0.6012, 0.6012, 0.6012, 0.6011, 0.6012, 0.6012, 0.6012, 0.601, 0.6009, 0.6008, 0.6012, 0.6012, 0.5987, 0.601, 0.601, 0.6008, 0.6006, 0.601, 0.6007, 0.6007, 0.6005, 0.6008, 0.6009, 0.6009, 3.5694, 3.5691, 3.5691, 3.5689, 3.5682, 3.5675, 3.5662, 3.5659, 3.565, 3.541, 0.5836, 0.5835, 0.5835, 0.5835, 0.5835, 0.5835, 0.5835, 0.5835, 0.5835, 0.5834, 0.5834, 0.5834, 0.5834, 0.5834, 0.5834, 0.5834, 0.5834, 0.5834, 0.5834, 0.5834, 0.5834, 0.5834, 0.5834, 0.5834, 0.5834, 0.5834, 0.5834, 0.5834, 0.5833, 0.5834, 0.5832, 0.5831, 0.581, 0.5829, 0.583, 0.5828, 0.5829, 0.583, 0.5828, 0.5831, 0.5832, 0.5832, 0.5832, 0.5832, 0.5832, 3.7052, 3.7049, 3.7048, 3.7047, 3.7046, 3.7045, 3.7034, 3.7034, 3.6869, 0.6637, 0.6637, 0.6637, 0.6636, 0.6636, 0.6636, 0.6636, 0.6636, 0.6636, 0.6636, 0.6636, 0.6636, 0.6636, 0.6636, 0.6636, 0.6636, 0.6636, 0.6636, 0.6636, 0.6636, 0.6636, 0.6636, 0.6636, 0.6636, 0.6636, 0.6636, 0.6636, 0.6636, 0.6636, 0.6635, 0.6634, 0.6635, 0.6636, 0.6636, 0.6635, 0.6634, 0.6631, 0.6633, 0.6632, 0.6634, 0.6633, 0.6601, 0.6634, 0.663, 0.6632, 0.6629, 0.6628, 0.6633, 0.6627, 0.6633, 0.6628, 0.6631, 0.6632, 0.6633, 0.6631, 0.6632, 0.6633, 4.5573, 4.5571, 4.5565, 4.5551, 0.9328, 0.9328, 0.9328, 0.9327, 0.9327, 0.9326, 0.9325, 0.9324, 0.9324, 0.9324, 0.9324, 0.9324, 0.9324, 0.9324, 0.9324, 0.9324, 0.9323, 0.9323, 0.9323, 0.9323, 0.9323, 0.9323, 0.9323, 0.9323, 0.9323, 0.9323, 0.9323, 0.9323, 0.9323, 0.9323, 0.9323, 0.9323, 0.9323, 0.928, 0.9321, 0.932, 0.9318, 0.9322, 0.9321, 0.9323, 0.9322, 0.9312, 0.9314, 0.9311, 0.9308, 0.9318, 0.9317, 0.9318, 0.9307, 2.1279, 2.1279, 2.1279, 2.1279, 2.1279, 2.1279, 2.1279, 2.1279, 2.1279, 2.1279, 2.1279, 2.1279, 2.1279, 2.1279, 2.1279, 2.1279, 2.1279, 2.1279, 2.1279, 2.1279, 2.1279, 2.1279, 2.1279, 2.1279, 2.1279, 2.1279, 2.1279, 2.1279, 2.1279, 2.1279, -6.0589, 2.1278, -3.4694, 2.1278, 2.1279, -5.4028, -4.535, 2.1279, -1.6176, -4.555, -3.5066, 2.1278, 2.1278, -5.0513, -3.7375, 2.1278, -4.937, -6.1875, -5.0954, -5.2746, -4.6352, 2.1278, -3.9661, -5.8264, -5.7365, -3.2465, -4.7693, -4.7011, 2.1278]}, \"token.table\": {\"Topic\": [3, 12, 1, 3, 1, 5, 3, 19, 12, 5, 15, 5, 13, 12, 9, 1, 5, 1, 11, 3, 8, 11, 1, 3, 3, 3, 9, 3, 2, 11, 16, 1, 4, 9, 7, 18, 3, 6, 3, 5, 3, 16, 9, 2, 13, 7, 14, 1, 4, 11, 6, 2, 6, 3, 3, 3, 6, 13, 17, 16, 9, 9, 6, 5, 11, 1, 1, 19, 3, 5, 7, 1, 9, 2, 3, 1, 9, 3, 17, 1, 12, 3, 10, 12, 4, 18, 8, 5, 1, 6, 11, 18, 3, 15, 5, 9, 1, 3, 2, 15, 1, 12, 8, 8, 3, 1, 5, 17, 16, 17, 7, 19, 9, 16, 3, 6, 14, 6, 4, 16, 11, 9, 16, 5, 2, 18, 12, 1, 14, 13, 12, 1, 10, 6, 6, 4, 5, 7, 18, 11, 17, 4, 15, 9, 1, 7, 3, 3, 5, 17, 4, 1, 16, 5, 8, 5, 9, 2, 1, 6, 9, 13, 16, 16, 10, 5, 11, 15, 14, 2, 1, 12, 9, 12, 4, 18, 1, 6, 5, 13, 11, 17, 9, 9, 5, 17, 1, 6, 1, 19, 15, 6, 12, 2, 17, 9, 6, 10, 18, 6, 6, 2, 13, 6, 3, 15, 12, 6, 7, 1, 5, 7, 3, 18, 4, 1, 7, 11, 15, 6, 8, 13, 1, 10, 3, 18, 2, 15, 9, 3, 16, 3, 7, 17, 6, 4, 1, 9, 7, 8, 6, 14, 3, 14, 1, 4, 9, 12, 2, 16, 12], \"Freq\": [0.9969190505782498, 0.9995961854199528, 0.998931346727251, 0.9976732682822466, 0.9983949291309744, 0.9967996117585545, 0.9954600120279825, 0.9973600998724489, 0.9966807252801296, 0.992022269445499, 0.997677475378333, 0.9995918816637941, 0.990132699482726, 0.7848286467597144, 0.9967318761150042, 0.9986609996062827, 0.9997840548308097, 0.9988257944204973, 0.9973227722659399, 0.9956462113274093, 0.9728328612879161, 0.9828561944655548, 0.9973966241386105, 0.9993926575884485, 0.9995567551854619, 0.9993885106824745, 0.9818505263293478, 0.9996095203812835, 0.9999539930061621, 0.9993237337804917, 0.9985521957260748, 0.9995237442468655, 0.9992407596229282, 0.9794232119745825, 0.9948323756545608, 0.9815141954230029, 0.9997296875562751, 0.9981118386221517, 0.9907355445894201, 0.999834766434346, 0.998900434936696, 0.9974448981771288, 0.9957910087328216, 0.9987112668555865, 0.9928222091278621, 0.9991650059702174, 0.9948900680282218, 0.9996175869643795, 0.99873600373638, 0.9983584920757306, 0.9981369498178644, 0.9959528063094288, 0.9991792918189161, 0.9985533709741802, 0.9966172700302274, 0.9994162046561481, 0.9985436989998986, 0.9998756354221575, 0.9997577741651986, 0.996221694784118, 0.9945031254308154, 0.9946586035550508, 0.997267361185644, 0.9997565733799586, 0.9982289882414364, 0.9989981555389807, 0.9984468099378062, 0.9991720578610086, 0.9994191357809896, 0.9960889024747194, 0.9965441659668173, 0.9985374641782148, 0.997088299938053, 0.9991048124630156, 0.9994194304846009, 0.9993621292283115, 0.9856698543482094, 0.9986558837674513, 0.9990479708429265, 0.9994126860650868, 0.9990166757532469, 0.9968057627385449, 0.9997870184332762, 0.9882434162745802, 0.9984043761220138, 0.9975781879812222, 0.9998743212928926, 0.9894054434161015, 0.999663878720922, 0.9969640421770991, 0.9986301641337715, 0.9990311275839835, 0.9993656728278778, 0.9993390281540131, 0.9989994242769966, 0.9980681772341674, 0.9992913809888012, 0.9952220851088336, 0.9995069325110761, 0.9996672881383424, 0.9992776962390916, 0.9990571015859377, 0.9998740133169579, 0.9983791512138405, 0.995199359292486, 0.9986049407439114, 0.9938336055370162, 0.9987477971749257, 0.9991771293496567, 0.9958634990900898, 0.9971276310285571, 0.9980311812725882, 0.9991192273463253, 0.9990405332443549, 0.9981236917457968, 0.9974594896127489, 0.9982043443891355, 0.9960549369196215, 0.9998664258801048, 0.9963575517539134, 0.9992018615266901, 0.9974474623840001, 0.9899026066848439, 0.9991669750081338, 0.9930448055954033, 0.9978721623905227, 0.9993666883601582, 0.9989725982781607, 0.9972951792364894, 0.9984477426412162, 0.9991428928936452, 0.9995376854597725, 0.9997630985606293, 0.9994228144395811, 0.9996750464152393, 0.9995640792287288, 0.9989955241118099, 0.9984953897449387, 0.9989335627677238, 0.9998382762247323, 0.9962616164712531, 0.9998730160437964, 0.9988267755885879, 0.999349931891024, 0.9990955551266256, 0.9998781661011833, 0.999850592361623, 0.9970420863083658, 0.9992159466773529, 0.9948560160098073, 0.999391684434618, 0.9997241643698862, 0.9993321614271193, 0.9995582568422556, 0.999604080675985, 0.9899087538696248, 0.9967191378380816, 0.9992342774545282, 0.9980230807523334, 0.9994589262342587, 0.9995803923289515, 0.9984760746592855, 0.9986723224435404, 0.9945001285168026, 0.9745329211020849, 0.9995472922201039, 0.9988788911854577, 0.998026428003687, 0.9987670608139456, 0.9955504266811636, 0.9996227835462496, 0.9949531730894733, 0.9997491920263345, 0.9934654854113264, 0.9997400665365453, 0.9990595119575669, 0.9983994244060082, 0.9986348052328479, 0.9855887346118729, 0.9991760636161854, 0.9996577721600846, 0.9994461028450715, 0.9960028510301133, 0.9985762819520608, 0.9981764146720646, 0.9681820675126206, 0.9981608750322267, 0.9973626114974249, 0.9975699006450345, 0.9989592326717471, 0.9996093905329121, 0.999460334523915, 0.9966858765872311, 0.9995460492651089, 0.9974425448341868, 0.9998531759388476, 0.9997123448358974, 0.9995476037227252, 0.9987247090010523, 0.9977222589049471, 0.997767128437465, 0.9894298089172001, 0.9959989151695148, 0.9988536213071135, 0.999146627890088, 0.9944663898141359, 0.99949230049757, 0.9994680339505396, 0.9998595400082029, 0.9993756948892635, 0.9975007939846994, 0.9991482572756126, 0.9993048607426066, 0.9995888585580941, 0.9993773522721998, 0.9996083637871769, 0.9991425515188599, 0.9963743129906993, 0.9988569013357248, 0.9995934993829295, 0.9998275899820098, 0.9988213017812222, 0.9997696965485829, 0.9998696033704696, 0.9998063945263683, 0.9994000873951815, 0.9976521127911633, 0.9957538574953421, 0.9936496984986884, 0.9993323113860656, 0.9991816457632025, 0.9975266973759456, 0.9997895078733756, 0.9995567755301753, 0.9987912492260078, 0.959704640964635, 0.999241879530546, 0.998470789340402, 0.9989240229221489, 0.9990874814556867, 0.9986665457012912, 0.9998581087574192, 0.9984834058698336, 0.9998005389022621, 0.998081187548988, 0.999179564192998, 0.9997008152570765, 0.9976431763055915, 0.999895950922192, 0.9995532279982541, 0.9891016249151], \"Term\": [\"accord\", \"actual\", \"ago\", \"ahead\", \"allow\", \"altern\", \"announc\", \"answer\", \"anti\", \"asset\", \"avail\", \"bad\", \"bankrupt\", \"belong\", \"benefit\", \"beta\", \"big\", \"bitcoin\", \"blame\", \"blow\", \"blue\", \"boycott\", \"brain\", \"bui\", \"burn\", \"busi\", \"busi_conduct\", \"buy\", \"car\", \"care\", \"ceo\", \"charg\", \"cheap\", \"cite\", \"coal\", \"coincid\", \"come\", \"comment\", \"commit\", \"compani\", \"competit\", \"concern\", \"condit\", \"cool\", \"corpor\", \"correct\", \"corrupt\", \"crash\", \"custom\", \"date\", \"dead\", \"deci\", \"demand\", \"develop\", \"diesel\", \"differ\", \"dollar\", \"drive\", \"driver\", \"dutywarn\", \"early\", \"economi\", \"effect\", \"electr\", \"elon\", \"emerg\", \"employ\", \"energi\", \"engin\", \"especi\", \"excu\", \"exist\", \"explain\", \"fall\", \"far\", \"feel\", \"financ\", \"follow\", \"free\", \"fuck\", \"futur\", \"geniu\", \"get\", \"gift\", \"give\", \"goe\", \"good\", \"govt\", \"great\", \"grid\", \"grow\", \"gui\", \"handl\", \"hard\", \"hate\", \"head\", \"hear\", \"hell\", \"help\", \"high\", \"hit\", \"hope\", \"http\", \"huge\", \"hybrid\", \"imagin\", \"incent\", \"index\", \"industri\", \"inform\", \"instal\", \"instead\", \"investor\", \"issu\", \"join\", \"joke\", \"kick\", \"kid\", \"know\", \"lack\", \"lead\", \"leader\", \"lean\", \"leave\", \"leftist\", \"legal\", \"let\", \"level\", \"liber\", \"list\", \"lol\", \"long\", \"look\", \"lose\", \"lot\", \"love\", \"low\", \"maga\", \"man\", \"market\", \"miss\", \"model\", \"monei\", \"month\", \"nearli\", \"need\", \"new\", \"non\", \"obviou\", \"offici\", \"old\", \"open\", \"option\", \"order\", \"owner\", \"page\", \"past\", \"pay\", \"perfect\", \"perform\", \"person\", \"place\", \"plan\", \"plenti\", \"plummet\", \"point\", \"poor\", \"posit\", \"possibl\", \"potenti\", \"power\", \"pretti\", \"price\", \"pro\", \"product\", \"profit\", \"prove\", \"question\", \"rail\", \"read\", \"real\", \"reason\", \"recess\", \"report\", \"republican\", \"request\", \"requir\", \"respon\", \"result\", \"rich\", \"right\", \"run\", \"sad\", \"sale\", \"sawyermerritt\", \"self\", \"sell\", \"share\", \"shit\", \"similar\", \"situat\", \"sleep\", \"smart\", \"solar\", \"soon\", \"sort\", \"spacex\", \"start\", \"stock\", \"stop\", \"suck\", \"supercharg\", \"support\", \"sure\", \"take\", \"talk\", \"tank\", \"target\", \"tax\", \"tell\", \"tesla\", \"thank\", \"thing\", \"think\", \"time\", \"todai\", \"ton\", \"trend\", \"troubl\", \"truck\", \"true\", \"trump\", \"try\", \"tsla\", \"tweet\", \"twitter\", \"understand\", \"valu\", \"version\", \"vote\", \"wake\", \"want\", \"water\", \"well\", \"wish\", \"wonder\", \"work\", \"worker\", \"year\", \"\\u2019m\", \"\\ud83c\\uddf8\"]}, \"R\": 30, \"lambda.step\": 0.01, \"plot.opts\": {\"xlab\": \"PC1\", \"ylab\": \"PC2\"}, \"topic.order\": [20, 13, 15, 5, 17, 11, 18, 8, 16, 7, 1, 14, 4, 2, 6, 10, 3, 12, 9, 19]};\n",
       "\n",
       "function LDAvis_load_lib(url, callback){\n",
       "  var s = document.createElement('script');\n",
       "  s.src = url;\n",
       "  s.async = true;\n",
       "  s.onreadystatechange = s.onload = callback;\n",
       "  s.onerror = function(){console.warn(\"failed to load library \" + url);};\n",
       "  document.getElementsByTagName(\"head\")[0].appendChild(s);\n",
       "}\n",
       "\n",
       "if(typeof(LDAvis) !== \"undefined\"){\n",
       "   // already loaded: just create the visualization\n",
       "   !function(LDAvis){\n",
       "       new LDAvis(\"#\" + \"ldavis_el9164011942247024299923400\", ldavis_el9164011942247024299923400_data);\n",
       "   }(LDAvis);\n",
       "}else if(typeof define === \"function\" && define.amd){\n",
       "   // require.js is available: use it to load d3/LDAvis\n",
       "   require.config({paths: {d3: \"https://d3js.org/d3.v5\"}});\n",
       "   require([\"d3\"], function(d3){\n",
       "      window.d3 = d3;\n",
       "      LDAvis_load_lib(\"https://cdn.jsdelivr.net/gh/bmabey/pyLDAvis@3.3.1/pyLDAvis/js/ldavis.v3.0.0.js\", function(){\n",
       "        new LDAvis(\"#\" + \"ldavis_el9164011942247024299923400\", ldavis_el9164011942247024299923400_data);\n",
       "      });\n",
       "    });\n",
       "}else{\n",
       "    // require.js not available: dynamically load d3 & LDAvis\n",
       "    LDAvis_load_lib(\"https://d3js.org/d3.v5.js\", function(){\n",
       "         LDAvis_load_lib(\"https://cdn.jsdelivr.net/gh/bmabey/pyLDAvis@3.3.1/pyLDAvis/js/ldavis.v3.0.0.js\", function(){\n",
       "                 new LDAvis(\"#\" + \"ldavis_el9164011942247024299923400\", ldavis_el9164011942247024299923400_data);\n",
       "            })\n",
       "         });\n",
       "}\n",
       "</script>"
      ],
      "text/plain": [
       "PreparedData(topic_coordinates=              x         y  topics  cluster       Freq\n",
       "topic                                                \n",
       "19    -0.291525  0.341059       1        1  11.473679\n",
       "12    -0.180009 -0.190016       2        1  10.107084\n",
       "14    -0.187201 -0.233317       3        1   9.942608\n",
       "4     -0.064518 -0.021196       4        1   7.319844\n",
       "16    -0.069066 -0.023487       5        1   6.883884\n",
       "10    -0.046774 -0.013208       6        1   6.483853\n",
       "17     0.037521  0.009735       7        1   6.375517\n",
       "7     -0.032344 -0.007899       8        1   5.996033\n",
       "15    -0.053540 -0.016065       9        1   5.571311\n",
       "6     -0.017219 -0.003054      10        1   5.071814\n",
       "0      0.058084  0.013103      11        1   3.429231\n",
       "13     0.075539  0.015506      12        1   3.156298\n",
       "3     -0.003844  0.000705      13        1   3.046876\n",
       "1      0.077132  0.015670      14        1   3.046393\n",
       "5      0.084429  0.016557      15        1   2.922645\n",
       "9      0.100746  0.018278      16        1   2.821601\n",
       "2      0.098093  0.018014      17        1   2.816470\n",
       "11     0.108938  0.019002      18        1   2.458405\n",
       "8      0.136262  0.020765      19        1   1.048172\n",
       "18     0.169295  0.019848      20        1   0.028281, topic_info=      Term          Freq         Total Category  logprob  loglift\n",
       "48     car  50800.000000  50800.000000  Default  30.0000  30.0000\n",
       "43   think  17358.000000  17358.000000  Default  29.0000  29.0000\n",
       "90   drive  14473.000000  14473.000000  Default  28.0000  28.0000\n",
       "105   need  16245.000000  16245.000000  Default  27.0000  27.0000\n",
       "37    know  16405.000000  16405.000000  Default  26.0000  26.0000\n",
       "..     ...           ...           ...      ...      ...      ...\n",
       "25   share      0.004902   5372.430468  Topic20 -10.8197  -5.7365\n",
       "26    sort      0.004902    445.465030  Topic20 -10.8197  -3.2465\n",
       "27     tax      0.004902   2042.334590  Topic20 -10.8197  -4.7693\n",
       "28    fall      0.004902   1907.707756  Topic20 -10.8197  -4.7011\n",
       "29   ratio      0.004902      2.064188  Topic20 -10.8197   2.1278\n",
       "\n",
       "[959 rows x 6 columns], token_table=      Topic      Freq    Term\n",
       "term                         \n",
       "10        3  0.996919  accord\n",
       "106      12  0.999596  actual\n",
       "197       1  0.998931     ago\n",
       "400       3  0.997673   ahead\n",
       "185       1  0.998395   allow\n",
       "...     ...       ...     ...\n",
       "47        9  0.999701    work\n",
       "279      12  0.997643  worker\n",
       "231       2  0.999896    year\n",
       "253      16  0.999553      ’m\n",
       "57       12  0.989102       🇸\n",
       "\n",
       "[251 rows x 3 columns], R=30, lambda_step=0.01, plot_opts={'xlab': 'PC1', 'ylab': 'PC2'}, topic_order=[20, 13, 15, 5, 17, 11, 18, 8, 16, 7, 1, 14, 4, 2, 6, 10, 3, 12, 9, 19])"
      ]
     },
     "execution_count": 251,
     "metadata": {},
     "output_type": "execute_result"
    }
   ],
   "source": [
    "vis"
   ]
  },
  {
   "cell_type": "code",
   "execution_count": null,
   "id": "c1e508fa",
   "metadata": {},
   "outputs": [],
   "source": []
  },
  {
   "cell_type": "code",
   "execution_count": null,
   "id": "18e43be5",
   "metadata": {},
   "outputs": [],
   "source": []
  },
  {
   "cell_type": "markdown",
   "id": "2f096140",
   "metadata": {},
   "source": [
    "# Gensim Simple bi / trigrams"
   ]
  },
  {
   "cell_type": "code",
   "execution_count": 112,
   "id": "6550522c",
   "metadata": {},
   "outputs": [],
   "source": [
    "def sent_to_words(sentences):\n",
    "    for sentence in sentences:\n",
    "#         yield(gensim.utils.simple_preprocess(str(sentence), deacc = True))  # deacc=True removes punctuations\n",
    "        yield(preprocess_string(str(sentence)))  # deacc=True removes punctuations\n",
    "\n",
    "\n",
    "data_words = list(sent_to_words(Tesla_no_dup))"
   ]
  },
  {
   "cell_type": "code",
   "execution_count": 105,
   "id": "f4ebb606",
   "metadata": {},
   "outputs": [],
   "source": [
    "# For full set\n",
    "bigram = gensim.models.Phrases(data_words, min_count=5, threshold=100) # higher threshold fewer phrases.\n",
    "trigram = gensim.models.Phrases(bigram[data_words], threshold=100)\n",
    "# For non-duplicates \n",
    "bigram_mod = gensim.models.phrases.Phraser(bigram)\n",
    "trigram_mod = gensim.models.phrases.Phraser(trigram)"
   ]
  },
  {
   "cell_type": "code",
   "execution_count": 106,
   "id": "d8176a8c",
   "metadata": {
    "scrolled": false
   },
   "outputs": [
    {
     "name": "stdout",
     "output_type": "stream",
     "text": [
      "['amp', 'dow_jone', 'indic', 'remov', 'elon', 'musk', 'tesla', 'amp', 'esg', 'index', 'cite', 'issu', 'includ', 'racial_discrimin', 'claim']\n"
     ]
    }
   ],
   "source": [
    "print(trigram_mod[data_words[8312]])"
   ]
  },
  {
   "cell_type": "code",
   "execution_count": 107,
   "id": "65f01151",
   "metadata": {},
   "outputs": [
    {
     "name": "stdout",
     "output_type": "stream",
     "text": [
      "['amp', 'dow_jone', 'indic', 'remov', 'elon', 'musk', 'tesla', 'amp', 'esg', 'index', 'cite', 'issu', 'includ', 'racial_discrimin', 'claim']\n"
     ]
    }
   ],
   "source": [
    "print(bigram_mod[data_words[8312]])"
   ]
  },
  {
   "cell_type": "code",
   "execution_count": null,
   "id": "a9d6ae3d",
   "metadata": {},
   "outputs": [],
   "source": [
    "simple\n",
    "['just', 'in', 'amp', 'dow_jones', 'indices', 'has', 'removed', 'elon', 'musk', 'tesla', 'from', 'amp', \n",
    " 'esg_index', 'citing_issues', 'including', 'racial_discrimination', 'claims']"
   ]
  },
  {
   "cell_type": "code",
   "execution_count": 98,
   "id": "15454515",
   "metadata": {
    "scrolled": true
   },
   "outputs": [
    {
     "data": {
      "text/plain": [
       "\"JUST IN - S&amp;P Dow Jones Indices has removed Elon Musk's Tesla from S&amp;P 500 ESG index citing issues including racial discrimination claims\""
      ]
     },
     "execution_count": 98,
     "metadata": {},
     "output_type": "execute_result"
    }
   ],
   "source": [
    "tesla_full.iloc[8312]"
   ]
  },
  {
   "cell_type": "markdown",
   "id": "7d5b84e2",
   "metadata": {},
   "source": [
    "## Working Ngram functions"
   ]
  },
  {
   "cell_type": "code",
   "execution_count": 188,
   "id": "33aeae7b",
   "metadata": {},
   "outputs": [],
   "source": [
    "def outer_function(data):\n",
    "\n",
    "    def sent_to_words(sentences):\n",
    "        for sentence in sentences:\n",
    "    #         yield(gensim.utils.simple_preprocess(str(sentence), deacc = True))  # deacc=True removes punctuations\n",
    "            yield(preprocess_string(str(sentence)))  # deacc=True removes punctuations\n",
    "\n",
    "\n",
    "    data_words = list(sent_to_words(data))\n",
    "\n",
    "    def make_bi_and_tri_gram(cleaned_tweets): \n",
    "        bigram = gensim.models.Phrases(cleaned_tweets, min_count=3, threshold=75) # higher threshold fewer phrases.\n",
    "        trigram = gensim.models.Phrases(bigram[cleaned_tweets], threshold=75) \n",
    "        bigram_mod = gensim.models.phrases.Phraser(bigram)\n",
    "        trigram_mod = gensim.models.phrases.Phraser(trigram)\n",
    "        return bigram_mod[cleaned_tweets], trigram_mod[cleaned_tweets]\n",
    "    h1, h2 = make_bi_and_tri_gram(data_words)\n",
    "    return h1, h2\n",
    "    \n",
    "    \n",
    "    \n",
    "    \n",
    "# WORKING BI-TRIGRAM \n",
    "\n",
    "# def sent_to_words(sentences):\n",
    "#         for sentence in sentences:\n",
    "#     #         yield(gensim.utils.simple_preprocess(str(sentence), deacc = True))  # deacc=True removes punctuations\n",
    "#             yield(preprocess_string(str(sentence)))  # deacc=True removes punctuations\n",
    "\n",
    "\n",
    "#     data_words = list(sent_to_words(Tesla_no_dup))\n",
    "\n",
    "#     def make_bi_and_tri_gram(cleaned_tweets): \n",
    "#         bigram = gensim.models.Phrases(cleaned_tweets, min_count=3, threshold=75) # higher threshold fewer phrases.\n",
    "#         trigram = gensim.models.Phrases(bigram[cleaned_tweets], threshold=75) \n",
    "#         bigram_mod = gensim.models.phrases.Phraser(bigram)\n",
    "#         trigram_mod = gensim.models.phrases.Phraser(trigram)\n",
    "#         return bigram_mod[cleaned_tweets], trigram_mod[cleaned_tweets]"
   ]
  },
  {
   "cell_type": "code",
   "execution_count": 189,
   "id": "b2ad0324",
   "metadata": {
    "scrolled": true
   },
   "outputs": [
    {
     "ename": "ValueError",
     "evalue": "too many values to unpack (expected 2)",
     "output_type": "error",
     "traceback": [
      "\u001b[0;31m---------------------------------------------------------------------------\u001b[0m",
      "\u001b[0;31mValueError\u001b[0m                                Traceback (most recent call last)",
      "Input \u001b[0;32mIn [189]\u001b[0m, in \u001b[0;36m<cell line: 1>\u001b[0;34m()\u001b[0m\n\u001b[0;32m----> 1\u001b[0m t1, t2 \u001b[38;5;241m=\u001b[39m Tesla_no_dup\u001b[38;5;241m.\u001b[39mapply(outer_function)\n",
      "\u001b[0;31mValueError\u001b[0m: too many values to unpack (expected 2)"
     ]
    }
   ],
   "source": [
    "t1, t2 = Tesla_no_dup.apply(outer_function)"
   ]
  },
  {
   "cell_type": "code",
   "execution_count": null,
   "id": "01d1828e",
   "metadata": {},
   "outputs": [],
   "source": [
    "t1"
   ]
  },
  {
   "cell_type": "code",
   "execution_count": null,
   "id": "1747a0be",
   "metadata": {},
   "outputs": [],
   "source": [
    "t2"
   ]
  },
  {
   "cell_type": "code",
   "execution_count": 176,
   "id": "44f33d1e",
   "metadata": {},
   "outputs": [],
   "source": [
    "tesla_Bigram_test, tesla_Trigram_test = make_bi_and_tri_gram(data_words)\n"
   ]
  },
  {
   "cell_type": "code",
   "execution_count": 177,
   "id": "b50662ef",
   "metadata": {},
   "outputs": [
    {
     "data": {
      "text/plain": [
       "<gensim.interfaces.TransformedCorpus at 0x26cd02680>"
      ]
     },
     "execution_count": 177,
     "metadata": {},
     "output_type": "execute_result"
    }
   ],
   "source": [
    "tesla_Bigram_test"
   ]
  },
  {
   "cell_type": "code",
   "execution_count": 178,
   "id": "06ae4b63",
   "metadata": {},
   "outputs": [
    {
     "data": {
      "text/plain": [
       "<gensim.interfaces.TransformedCorpus at 0x26ccb96c0>"
      ]
     },
     "execution_count": 178,
     "metadata": {},
     "output_type": "execute_result"
    }
   ],
   "source": [
    "tesla_Trigram_test"
   ]
  },
  {
   "cell_type": "code",
   "execution_count": null,
   "id": "3a62114d",
   "metadata": {},
   "outputs": [],
   "source": [
    "# Code stolen from blog, will need to define and function and customize this for this data set\n",
    "\n",
    "\n",
    "# Convert to list\n",
    "data = df.content.values.tolist()\n",
    "\n",
    "# Remove Emails\n",
    "data = [re.sub('\\S*@\\S*\\s?', '', sent) for sent in data]\n",
    "\n",
    "# Remove new line characters\n",
    "data = [re.sub('\\s+', ' ', sent) for sent in data]\n",
    "\n",
    "# Remove distracting single quotes\n",
    "data = [re.sub(\"\\'\", \"\", sent) for sent in data]\n",
    "\n",
    "def sent_to_words(sentences):\n",
    "    for sentence in sentences:\n",
    "        yield(gensim.utils.simple_preprocess(str(sentence), deacc=True))  # deacc=True removes punctuations\n",
    "\n",
    "data_words = list(sent_to_words(data))\n",
    "\n",
    "print(data_words[:1])"
   ]
  },
  {
   "cell_type": "code",
   "execution_count": null,
   "id": "fd95fdaf",
   "metadata": {},
   "outputs": [],
   "source": []
  },
  {
   "cell_type": "code",
   "execution_count": null,
   "id": "dea1c0af",
   "metadata": {},
   "outputs": [],
   "source": []
  },
  {
   "cell_type": "markdown",
   "id": "36b6bad7",
   "metadata": {},
   "source": [
    "### Exporting Cleaned File"
   ]
  },
  {
   "cell_type": "code",
   "execution_count": 14,
   "id": "cc3cccb8",
   "metadata": {},
   "outputs": [],
   "source": [
    "Tesla.to_csv('Data/Data-Cleaned/Tesla-Cleaned-113k')"
   ]
  }
 ],
 "metadata": {
  "kernelspec": {
   "display_name": "broke-the-other",
   "language": "python",
   "name": "broke-the-other"
  },
  "language_info": {
   "codemirror_mode": {
    "name": "ipython",
    "version": 3
   },
   "file_extension": ".py",
   "mimetype": "text/x-python",
   "name": "python",
   "nbconvert_exporter": "python",
   "pygments_lexer": "ipython3",
   "version": "3.10.4"
  }
 },
 "nbformat": 4,
 "nbformat_minor": 5
}
