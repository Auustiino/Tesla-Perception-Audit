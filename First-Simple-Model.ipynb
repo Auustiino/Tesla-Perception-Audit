{
 "cells": [
  {
   "cell_type": "markdown",
   "id": "a50c4794",
   "metadata": {},
   "source": [
    "# Libraries"
   ]
  },
  {
   "cell_type": "code",
   "execution_count": 1,
   "id": "aa2ce17e",
   "metadata": {
    "scrolled": true
   },
   "outputs": [
    {
     "name": "stderr",
     "output_type": "stream",
     "text": [
      "/Users/austinboring/opt/anaconda3/envs/broke-the-other/lib/python3.10/site-packages/gensim/matutils.py:22: DeprecationWarning: Please use `triu` from the `scipy.linalg` namespace, the `scipy.linalg.special_matrices` namespace is deprecated.\n",
      "  from scipy.linalg.special_matrices import triu\n"
     ]
    }
   ],
   "source": [
    "import pandas as pd\n",
    "\n",
    "import regex as re\n",
    "\n",
    "from vaderSentiment.vaderSentiment import SentimentIntensityAnalyzer\n",
    "\n",
    "import pyLDAvis\n",
    "import pyLDAvis.gensim_models as gensim_models\n",
    "import pyLDAvis.gensim_models as gensimvis\n",
    "\n",
    "\n",
    "import gensim\n",
    "# from gensim.models import wrappers\n",
    "# from gensim.models.wrappers import LdaMallet\n",
    "from gensim.corpora import Dictionary\n",
    "from gensim.models.ldamulticore import LdaMulticore\n",
    "from gensim.models.coherencemodel import CoherenceModel\n",
    "\n",
    "from sklearn.feature_extraction.text import CountVectorizer, TfidfVectorizer\n",
    "from sklearn.model_selection import GridSearchCV\n",
    "from sklearn.decomposition import LatentDirichletAllocation, TruncatedSVD\n",
    "\n",
    "\n",
    "import nltk\n",
    "from nltk import pos_tag\n",
    "from nltk.corpus import stopwords\n",
    "from nltk.corpus import wordnet\n",
    "from nltk.tokenize import word_tokenize\n",
    "from nltk.stem.porter import PorterStemmer\n",
    "from nltk.stem.wordnet import WordNetLemmatizer\n",
    "\n",
    "\n",
    "from pprint import pprint\n",
    "\n",
    "import warnings\n",
    "warnings.filterwarnings(\"ignore\", category=DeprecationWarning) \n",
    "warnings.filterwarnings(\"ignore\", category=FutureWarning) "
   ]
  },
  {
   "cell_type": "markdown",
   "id": "c9cd69b8",
   "metadata": {},
   "source": [
    "# Importing -- Fixing columns"
   ]
  },
  {
   "cell_type": "code",
   "execution_count": 2,
   "id": "09b8b307",
   "metadata": {},
   "outputs": [],
   "source": [
    "full = pd.read_csv('Data/Data-Cleaned/238k-Uncleaned')"
   ]
  },
  {
   "cell_type": "code",
   "execution_count": 3,
   "id": "6bbd51c2",
   "metadata": {},
   "outputs": [],
   "source": [
    "# Renaming tweets column, dropping unnamed column, making tweets strings\n",
    "\n",
    "full['tweets'] = full['0']\n",
    "full = full.drop(columns = '0')\n",
    "# full['tweets'] = full['tweets'].astype('string')\n",
    "# full.dropna(inplace = True)"
   ]
  },
  {
   "cell_type": "markdown",
   "id": "67a87f9a",
   "metadata": {},
   "source": [
    "# Preprocessing"
   ]
  },
  {
   "cell_type": "code",
   "execution_count": 6,
   "id": "22bb71f6",
   "metadata": {},
   "outputs": [],
   "source": [
    "def Series_Preprocessor(tweet):\n",
    "    stopWords = stopwords.words('english')\n",
    "    stopWords.extend(['tesla', 'c,', 'x', 't', 'p', 'amp'])\n",
    "    ps = PorterStemmer()\n",
    "    wnl = WordNetLemmatizer()\n",
    "\n",
    "        # helper function to change nltk's part of speech tagging to a wordnet format.\n",
    "    def pos_tagger(nltk_tag):\n",
    "        if nltk_tag.startswith('J'):\n",
    "            return wordnet.ADJ\n",
    "        elif nltk_tag.startswith('V'):\n",
    "            return wordnet.VERB\n",
    "        elif nltk_tag.startswith('N'):\n",
    "            return wordnet.NOUN\n",
    "        elif nltk_tag.startswith('R'):\n",
    "            return wordnet.ADV\n",
    "        else:         \n",
    "            return None \n",
    "    \n",
    "#   Lowercase all \n",
    "    tweet = tweet.lower()\n",
    "    \n",
    "#   Removing @ handles, links-- strip whitespace breaks and tabs\n",
    "    tweet = re.sub(r\"@\\w+|http\\S+\", \"\", tweet).strip().replace(\"\\r\", \"\").replace(\"\\n\", \"\").replace(\"\\t\", \"\")\n",
    "    \n",
    "#   Tokenize,make list of words, removing punctuation and stopwords\n",
    "    tweet = [x for x in word_tokenize(tweet) if ((x.isalpha()) & (x not in stopWords)) ]\n",
    "    \n",
    "#   Map part of speech tags to words and use words/tags to lemmatize accuratley\n",
    "    tweet = list(map(lambda x: (x[0], pos_tagger(x[1])), pos_tag(tweet))) \n",
    "    tweet = \" \".join([wnl.lemmatize(x[0], x[1]) for x in tweet if x[1] is not None])\n",
    "\n",
    "    return tweet "
   ]
  },
  {
   "cell_type": "code",
   "execution_count": 7,
   "id": "7bd4d94a",
   "metadata": {},
   "outputs": [],
   "source": [
    "df = full['tweets'].apply(Series_Preprocessor)"
   ]
  },
  {
   "cell_type": "code",
   "execution_count": 8,
   "id": "4be8efe0",
   "metadata": {},
   "outputs": [
    {
     "data": {
      "text/plain": [
       "0         solar grid run computer radio fridge entire ya...\n",
       "1                boycott teslastock elonsproblems vote blue\n",
       "2         never survive carbon offset implement democrat...\n",
       "3                            funny fanbase take profit sell\n",
       "4         right nonsense position find sort hard believe...\n",
       "                                ...                        \n",
       "237654    yes beg borrow steal invest world valuable com...\n",
       "237655    owh rethink thesis always think regulation bui...\n",
       "237656    overused example elon musk alienate almost yea...\n",
       "237657    found spacex successful also arguably innovati...\n",
       "237658               want ev table musk show world year old\n",
       "Name: tweets, Length: 237659, dtype: object"
      ]
     },
     "execution_count": 8,
     "metadata": {},
     "output_type": "execute_result"
    }
   ],
   "source": [
    "df"
   ]
  },
  {
   "cell_type": "code",
   "execution_count": 9,
   "id": "81addc41",
   "metadata": {},
   "outputs": [],
   "source": [
    "df['tokens'] = [i.split() for i in df]"
   ]
  },
  {
   "cell_type": "code",
   "execution_count": 10,
   "id": "32898975",
   "metadata": {},
   "outputs": [
    {
     "name": "stdout",
     "output_type": "stream",
     "text": [
      "44577\n"
     ]
    }
   ],
   "source": [
    "# Dictionary is a gensim tool\n",
    "id2word = Dictionary(df['tokens'])\n",
    "print(len(id2word)) "
   ]
  },
  {
   "cell_type": "code",
   "execution_count": 11,
   "id": "76a818ee",
   "metadata": {},
   "outputs": [
    {
     "name": "stdout",
     "output_type": "stream",
     "text": [
      "14944\n"
     ]
    }
   ],
   "source": [
    "# id2word.filter_extremes(no_below=4, no_above=.95) #Original -- 12656\n",
    "id2word.filter_extremes(no_below=6, no_above=.90)\n",
    "print(len(id2word))"
   ]
  },
  {
   "cell_type": "code",
   "execution_count": 12,
   "id": "e4d5f082",
   "metadata": {},
   "outputs": [],
   "source": [
    "corpus = [id2word.doc2bow(d) for d in df['tokens']]"
   ]
  },
  {
   "cell_type": "markdown",
   "id": "e027d39d",
   "metadata": {},
   "source": [
    "## LdaMulticore -------------------------"
   ]
  },
  {
   "cell_type": "code",
   "execution_count": 13,
   "id": "ebf4c467",
   "metadata": {},
   "outputs": [],
   "source": [
    "# Instantiating a Base LDA model\n",
    "base_model = LdaMulticore(corpus=corpus, num_topics=5, id2word=id2word, workers=12, passes=5)"
   ]
  },
  {
   "cell_type": "code",
   "execution_count": 14,
   "id": "9547182d",
   "metadata": {},
   "outputs": [],
   "source": [
    "# Filtering for words \n",
    "words = [re.findall(r'\"([^\"]*)\"',t[1]) for t in base_model.print_topics()]\n"
   ]
  },
  {
   "cell_type": "code",
   "execution_count": 15,
   "id": "a3a23dad",
   "metadata": {},
   "outputs": [],
   "source": [
    "# Create Topics\n",
    "topics = [' '.join(t[0:10]) for t in words]"
   ]
  },
  {
   "cell_type": "code",
   "execution_count": 16,
   "id": "44c83047",
   "metadata": {},
   "outputs": [
    {
     "name": "stdout",
     "output_type": "stream",
     "text": [
      "------ Topic 1 ------\n",
      "stock buy go musk twitter elon price think market say\n",
      "\n",
      "------ Topic 2 ------\n",
      "musk tsla esg stock index elon get fsd new beta\n",
      "\n",
      "------ Topic 3 ------\n",
      "car make electric get ev battery drive year fire go\n",
      "\n",
      "------ Topic 4 ------\n",
      "musk elon world company want car get good free people\n",
      "\n",
      "------ Topic 5 ------\n",
      "car electric door get buy vehicle go crash open new\n",
      "\n"
     ]
    }
   ],
   "source": [
    "# Getting the topics\n",
    "for id, t in enumerate(topics): \n",
    "    print(f\"------ Topic {id + 1} ------\")\n",
    "    print(t, end=\"\\n\\n\")"
   ]
  },
  {
   "cell_type": "code",
   "execution_count": 17,
   "id": "7c331348",
   "metadata": {},
   "outputs": [
    {
     "name": "stdout",
     "output_type": "stream",
     "text": [
      "\n",
      "Coherence Score:  0.3247128095292947 \n",
      "\n",
      "Perplexity:  -7.586604868453203\n"
     ]
    }
   ],
   "source": [
    "# a measure of how good the model is. lower the better\n",
    "base_perplexity = base_model.log_perplexity(corpus)\n",
    "\n",
    "# Compute Coherence Score\n",
    "coherence_model = CoherenceModel(model=base_model, texts=df['tokens'], \n",
    "                                   dictionary=id2word, coherence='c_v')\n",
    "\n",
    "coherence_lda_model_base = coherence_model.get_coherence()\n",
    "print('\\nCoherence Score: ', coherence_lda_model_base, '\\n\\nPerplexity: ', base_perplexity)"
   ]
  },
  {
   "cell_type": "code",
   "execution_count": 18,
   "id": "5927b3ae",
   "metadata": {},
   "outputs": [],
   "source": [
    "#Creating Topic Distance Visualization \n",
    "pyLDAvis.enable_notebook()"
   ]
  },
  {
   "cell_type": "code",
   "execution_count": 19,
   "id": "bb6b2960",
   "metadata": {},
   "outputs": [
    {
     "name": "stderr",
     "output_type": "stream",
     "text": [
      "/Users/austinboring/opt/anaconda3/envs/broke-the-other/lib/python3.10/site-packages/past/builtins/misc.py:45: DeprecationWarning: the imp module is deprecated in favour of importlib and slated for removal in Python 3.12; see the module's documentation for alternative uses\n",
      "  from imp import reload\n",
      "/Users/austinboring/opt/anaconda3/envs/broke-the-other/lib/python3.10/site-packages/past/builtins/misc.py:45: DeprecationWarning: the imp module is deprecated in favour of importlib and slated for removal in Python 3.12; see the module's documentation for alternative uses\n",
      "  from imp import reload\n",
      "/Users/austinboring/opt/anaconda3/envs/broke-the-other/lib/python3.10/site-packages/past/builtins/misc.py:45: DeprecationWarning: the imp module is deprecated in favour of importlib and slated for removal in Python 3.12; see the module's documentation for alternative uses\n",
      "  from imp import reload\n",
      "/Users/austinboring/opt/anaconda3/envs/broke-the-other/lib/python3.10/site-packages/past/builtins/misc.py:45: DeprecationWarning: the imp module is deprecated in favour of importlib and slated for removal in Python 3.12; see the module's documentation for alternative uses\n",
      "  from imp import reload\n",
      "/Users/austinboring/opt/anaconda3/envs/broke-the-other/lib/python3.10/site-packages/past/builtins/misc.py:45: DeprecationWarning: the imp module is deprecated in favour of importlib and slated for removal in Python 3.12; see the module's documentation for alternative uses\n",
      "  from imp import reload\n",
      "/Users/austinboring/opt/anaconda3/envs/broke-the-other/lib/python3.10/site-packages/past/builtins/misc.py:45: DeprecationWarning: the imp module is deprecated in favour of importlib and slated for removal in Python 3.12; see the module's documentation for alternative uses\n",
      "  from imp import reload\n",
      "/Users/austinboring/opt/anaconda3/envs/broke-the-other/lib/python3.10/site-packages/past/builtins/misc.py:45: DeprecationWarning: the imp module is deprecated in favour of importlib and slated for removal in Python 3.12; see the module's documentation for alternative uses\n",
      "  from imp import reload\n",
      "/Users/austinboring/opt/anaconda3/envs/broke-the-other/lib/python3.10/site-packages/past/builtins/misc.py:45: DeprecationWarning: the imp module is deprecated in favour of importlib and slated for removal in Python 3.12; see the module's documentation for alternative uses\n",
      "  from imp import reload\n"
     ]
    },
    {
     "data": {
      "text/html": [
       "\n",
       "<link rel=\"stylesheet\" type=\"text/css\" href=\"https://cdn.jsdelivr.net/gh/bmabey/pyLDAvis@3.3.1/pyLDAvis/js/ldavis.v1.0.0.css\">\n",
       "\n",
       "\n",
       "<div id=\"ldavis_el3425663396869445535342218\"></div>\n",
       "<script type=\"text/javascript\">\n",
       "\n",
       "var ldavis_el3425663396869445535342218_data = {\"mdsDat\": {\"x\": [0.11631331687764249, -0.00224036892529826, -0.0049061849953490316, 0.10426220914886081, -0.21342897210585554], \"y\": [0.029007037395136596, -0.0955089495753537, -0.10838693012860691, 0.10452509059388589, 0.07036375171493825], \"topics\": [1, 2, 3, 4, 5], \"cluster\": [1, 1, 1, 1, 1], \"Freq\": [31.97532252015598, 24.43877252841096, 16.920161288606312, 15.483474481350953, 11.1822691814758]}, \"tinfo\": {\"Term\": [\"car\", \"stock\", \"electric\", \"musk\", \"esg\", \"door\", \"tsla\", \"elon\", \"index\", \"buy\", \"battery\", \"fire\", \"fsd\", \"manual\", \"twitter\", \"open\", \"share\", \"vehicle\", \"new\", \"world\", \"crash\", \"free\", \"price\", \"beta\", \"get\", \"release\", \"want\", \"spot\", \"ev\", \"kill\", \"aura\", \"dim\", \"spritual\", \"lever\", \"neuron\", \"aleister\", \"mysterical\", \"occultism\", \"paganism\", \"agrees\", \"artistically\", \"artistontwitter\", \"crowleycheck\", \"neat\", \"ndas\", \"inspired\", \"airdrops\", \"playtoearn\", \"reassign\", \"mechanically\", \"extinguish\", \"observe\", \"combustible\", \"reminds\", \"technician\", \"saturn\", \"fireman\", \"explodes\", \"batch\", \"fortunately\", \"nicola\", \"tata\", \"cobalt\", \"showroom\", \"outsell\", \"seat\", \"prone\", \"recycle\", \"battery\", \"trap\", \"quality\", \"maintenance\", \"ice\", \"kia\", \"hyundai\", \"range\", \"manufacturer\", \"pack\", \"transport\", \"electricity\", \"mile\", \"lithium\", \"search\", \"storage\", \"hydrogen\", \"affordable\", \"superior\", \"evs\", \"volvo\", \"truck\", \"vw\", \"scale\", \"ev\", \"network\", \"car\", \"charge\", \"fire\", \"gas\", \"bmw\", \"drive\", \"ford\", \"recall\", \"catch\", \"year\", \"production\", \"self\", \"make\", \"look\", \"design\", \"electric\", \"well\", \"build\", \"thing\", \"many\", \"get\", \"even\", \"vehicle\", \"good\", \"use\", \"need\", \"still\", \"think\", \"people\", \"know\", \"work\", \"model\", \"go\", \"see\", \"say\", \"world\", \"buy\", \"company\", \"take\", \"rickman\", \"manually\", \"vehicular\", \"unitedstates\", \"jonathan\", \"distance\", \"whitelist\", \"nftrelease\", \"default\", \"aol\", \"january\", \"streak\", \"constraint\", \"purchasing\", \"removable\", \"zev\", \"plummeting\", \"akk\", \"nftcommumity\", \"unbiased\", \"ellison\", \"litigate\", \"marc\", \"gym\", \"asleep\", \"shazaam\", \"liked\", \"yabba\", \"tarpenning\", \"dabba\", \"united\", \"dual\", \"cash\", \"pe\", \"collateral\", \"florida\", \"overvalue\", \"debt\", \"loan\", \"emerald\", \"gate\", \"sony\", \"margin\", \"switzerland\", \"sheet\", \"short\", \"unite\", \"modely\", \"leverage\", \"troll\", \"stock\", \"valuation\", \"teslaradar\", \"value\", \"shareholder\", \"state\", \"money\", \"twitter\", \"share\", \"motor\", \"buy\", \"deal\", \"investment\", \"lose\", \"investor\", \"spot\", \"pay\", \"price\", \"market\", \"long\", \"tank\", \"sell\", \"go\", \"back\", \"never\", \"time\", \"musk\", \"say\", \"think\", \"right\", \"elon\", \"company\", \"first\", \"make\", \"people\", \"model\", \"much\", \"get\", \"know\", \"year\", \"peugeot\", \"heatwave\", \"festival\", \"torture\", \"bigbrainholdingsvc\", \"psychopath\", \"electriccargiveaway\", \"t\", \"lesson\", \"avatar\", \"fighter\", \"teach\", \"metaphor\", \"animal\", \"sap\", \"infosys\", \"srinivas\", \"genpact\", \"accenture\", \"nasscom\", \"banking\", \"wipro\", \"surprisingly\", \"digitaltransformation\", \"fakefrivolouscases\", \"mojave\", \"tc\", \"scottsdale\", \"linkedin\", \"weaponize\", \"phony\", \"judge\", \"murder\", \"richest\", \"dojo\", \"aws\", \"cancel\", \"enter\", \"threaten\", \"criticism\", \"information\", \"warrior\", \"angeles\", \"bankrupt\", \"justice\", \"speech\", \"brazil\", \"rip\", \"boycotttesla\", \"stance\", \"trial\", \"litigation\", \"partnership\", \"climate\", \"c\", \"free\", \"order\", \"worker\", \"texas\", \"lawsuit\", \"include\", \"environment\", \"social\", \"world\", \"man\", \"bitcoin\", \"change\", \"musk\", \"claim\", \"elon\", \"want\", \"company\", \"try\", \"find\", \"good\", \"worth\", \"need\", \"give\", \"bot\", \"take\", \"get\", \"people\", \"also\", \"know\", \"car\", \"make\", \"buy\", \"see\", \"think\", \"twitter\", \"latch\", \"newport\", \"harassed\", \"disconnect\", \"technological\", \"beach\", \"emergency\", \"galaxyheroescoin\", \"dean\", \"pst\", \"ghc\", \"voxel\", \"grill\", \"galaxyheroes\", \"ghcarmy\", \"ozworld\", \"unsecured\", \"estimating\", \"btcusd\", \"winning\", \"vxl\", \"fraught\", \"purifier\", \"stor\", \"professor\", \"emobility\", \"hacker\", \"buggy\", \"opt\", \"collectible\", \"unlock\", \"researcher\", \"bluetooth\", \"vulnerable\", \"starship\", \"thief\", \"manual\", \"highway\", \"petrol\", \"probe\", \"remotely\", \"speaker\", \"fatal\", \"national\", \"sticker\", \"door\", \"nhtsa\", \"release\", \"handle\", \"hack\", \"investigate\", \"kill\", \"traffic\", \"open\", \"mechanical\", \"lock\", \"flag\", \"autopilot\", \"crash\", \"electric\", \"safety\", \"car\", \"involve\", \"vehicle\", \"driver\", \"pull\", \"feature\", \"new\", \"get\", \"start\", \"buy\", \"use\", \"fire\", \"go\", \"see\", \"people\", \"elon\", \"model\", \"solar\", \"think\", \"musk\", \"know\", \"make\", \"say\", \"columbia\", \"british\", \"streetfighters\", \"canada\", \"coo\", \"tragic\", \"doxed\", \"explores\", \"roku\", \"arabian\", \"bolsonaro\", \"ikea\", \"fintwit\", \"relinquish\", \"westinghouse\", \"cod\", \"challenger\", \"fury\", \"working\", \"unbreakable\", \"dalio\", \"arkk\", \"bridgewater\", \"conduct\", \"ebitda\", \"santafloki\", \"cryptoforacause\", \"artificial\", \"busd\", \"hohoho\", \"cathie\", \"renewableenergy\", \"loses\", \"floki\", \"wood\", \"tester\", \"amc\", \"beta\", \"august\", \"climatechange\", \"ark\", \"prompt\", \"index\", \"jeremy\", \"host\", \"usd\", \"scandal\", \"target\", \"join\", \"fremont\", \"esg\", \"intelligence\", \"tsla\", \"condition\", \"bullish\", \"score\", \"allegation\", \"fsd\", \"kick\", \"strategy\", \"lack\", \"prize\", \"elonmusk\", \"update\", \"remove\", \"gt\", \"attendant\", \"cut\", \"musk\", \"ai\", \"news\", \"report\", \"call\", \"elon\", \"racism\", \"fall\", \"stock\", \"today\", \"get\", \"business\", \"new\", \"tweet\", \"day\", \"price\", \"big\", \"share\", \"say\", \"ev\", \"time\", \"model\"], \"Freq\": [61400.0, 25039.0, 19532.0, 20559.0, 6140.0, 6503.0, 6854.0, 18259.0, 4193.0, 25307.0, 8421.0, 7886.0, 3692.0, 2925.0, 8382.0, 4438.0, 5963.0, 7926.0, 8650.0, 10672.0, 5821.0, 4019.0, 9018.0, 1794.0, 22818.0, 2492.0, 10221.0, 3343.0, 10999.0, 2979.0, 353.5941917279297, 323.31904344267514, 297.0023457346158, 543.7190040283106, 165.2868958745656, 163.41620588424146, 163.41620588424146, 163.41620588424146, 163.41620588424146, 150.03265358033326, 149.82161272257937, 129.58235682164897, 125.53422603663982, 158.24176608828526, 268.20309758625467, 167.84913368943975, 78.6987223098805, 80.08849808290539, 81.30884548988672, 83.84100147281895, 89.32906670476383, 56.56087064161131, 60.724776058464876, 64.27624358059755, 52.778309733218684, 69.95131581224453, 80.23671903095632, 49.786106562499555, 119.30864230021426, 60.50789389125529, 265.29202236278326, 256.92009475068966, 303.51618988688585, 196.5197271489985, 168.0878189544824, 1030.7668272339465, 104.41952743470532, 266.2807536440528, 7877.650666971367, 1086.776195597167, 1714.137256188323, 237.5970430712731, 1107.3430510968735, 460.6333367498939, 624.553244644514, 1402.850045924296, 2072.234495748382, 401.86076764440685, 283.7296992916113, 1116.6645410015453, 1227.905149662139, 1027.6203733763834, 371.07608211768365, 458.79295349104325, 320.1184678167526, 603.1836558545308, 273.94326303638337, 1749.2614571958793, 394.66733789132127, 2430.942100480452, 784.5320374609688, 580.3799131434104, 7897.803221063687, 911.7282102524206, 36765.78377840275, 4060.0188040548837, 5594.552315478818, 3236.3702949823046, 814.6795643795932, 6709.869987890947, 2980.6012238775743, 1879.7811831084746, 2081.5895382318213, 6585.901670430763, 1387.2978907694578, 1663.448937802194, 10592.39078757411, 5082.212412517596, 1790.5309345719854, 9632.427584593486, 4817.510380644934, 2973.645822926034, 3826.5018031886434, 3419.2217348636673, 8156.6159487049445, 4146.035167521312, 3887.660082211801, 4676.814400726838, 4317.48748346842, 4027.145446186432, 3413.9762511291906, 5122.396536910967, 5235.745122802813, 4620.2904622353335, 3460.74912945395, 4057.4096777268555, 5364.262197405331, 3798.5459890674115, 4005.704862084854, 3728.840652559072, 4343.8654511029235, 3904.613373605193, 3466.503834354878, 407.3882361059992, 297.32594190837534, 217.24601896069404, 1708.2029576796085, 112.09884885580637, 238.7167407142773, 85.40864453504233, 81.16195323560277, 93.8592309336195, 68.19130853646043, 262.20995923393343, 62.65585324160505, 65.54934931440997, 70.501476417937, 56.767505830907496, 65.05611520823753, 104.00692917977734, 50.0787273161035, 82.33830055115456, 49.504393202476486, 65.51374001400673, 48.25836965894715, 72.68158324604254, 131.88122984584825, 45.33249769383824, 50.35340905069474, 63.8485069686918, 49.744659581896535, 81.25797988130856, 49.73206043999261, 1705.6798587251142, 1315.576976330313, 1560.9538501652278, 315.3334791768187, 422.5728408585619, 599.5325460973028, 641.933713127014, 548.2119299118198, 1154.6486199444214, 159.50483917879987, 689.6052981928715, 196.70702047543062, 938.8877573555615, 198.4056003646196, 138.24613794078124, 2633.7989548170226, 346.2532228678522, 787.1233255102322, 278.7119919588837, 424.0812814852716, 19380.423169924536, 663.2701926960634, 2213.076664028314, 2703.1371987341554, 1164.8816504319109, 2959.3239133289753, 4764.839075175903, 6066.195894341874, 4357.615780048575, 1713.670464947367, 14123.463544593083, 2349.560678177634, 1057.7413722673236, 2523.460501551797, 1647.7802976947728, 2278.670398372868, 3588.1217388075916, 4949.071086885932, 4887.686580905599, 2706.1232325309957, 1798.6395239347569, 4625.816501178188, 7620.691253405343, 3027.7672093492156, 3306.179850899647, 4153.6351523054955, 6230.967992479942, 4771.768528891841, 4896.81058958066, 3204.264611560986, 5480.206608147863, 4699.34940454029, 2890.6843828861606, 4152.514832147525, 3635.111855242327, 3185.918476999576, 2717.712956458193, 3316.9168470632935, 2950.15857649522, 2778.684775501354, 544.343091930379, 386.3750455899155, 294.13462933602324, 358.29657024607076, 170.4007202281263, 390.82977314110644, 517.3327085553796, 524.4128030267398, 492.6734707000823, 177.76189356483331, 87.95354220280419, 523.9033178311645, 98.0365244047823, 408.0515306724503, 97.18333612190408, 89.84684579902815, 89.82350082712483, 89.76568197689969, 89.76464628098445, 89.76011109079656, 128.69993593073832, 90.40952459412631, 104.16027913984193, 100.76324800098038, 87.42676538846999, 132.4617893475224, 96.31872945238258, 66.80680593157778, 127.74326168395581, 204.97289316848452, 251.11228418499132, 585.6846248359476, 217.31262460531804, 266.4280524533729, 282.09793866425485, 125.27983643441044, 1037.3108289282693, 1795.5081702490318, 465.9223072170133, 427.8559407085768, 1194.295877620179, 279.3048790663298, 130.0454014180534, 693.581443955142, 453.58643551650994, 904.6410898530681, 355.34047538556166, 409.88989735490895, 914.4186768508197, 314.3193777901193, 687.1303835792885, 450.71803386542103, 379.480321388703, 1606.3523736350596, 754.867623983498, 2924.613615885065, 1999.3395078005212, 2076.0078692937122, 1514.3462433764055, 965.7072649106075, 1784.4703536079217, 1743.634960793109, 1076.0378793701198, 4834.8584697354645, 1899.8954083179783, 1357.736463982085, 2224.739051964698, 6988.653097721382, 1680.675147628864, 6256.863146034553, 4073.252826845757, 4395.872027250704, 2130.868205890238, 1718.716297193277, 3019.4558803990885, 1345.4930715640514, 2530.181087658702, 1850.09883993396, 1277.661447740783, 2191.699914831511, 3256.9216808153224, 2533.985243785664, 1965.1471843781974, 2241.1438577044096, 3717.6243379352422, 2492.11544163438, 2446.3463794529603, 1933.75425052138, 1954.1540377522147, 1629.470135726411, 602.2460542395735, 296.6605716782331, 185.65346350587484, 137.84288567687477, 122.60922153319048, 356.77238834370144, 1472.5863251581814, 168.72224613343332, 102.44227363472358, 100.56095007911304, 163.68503895785923, 98.41781061418327, 112.7819534887439, 142.02769004416476, 128.49827816927737, 85.73542112350592, 86.09682785830098, 100.67397430473875, 109.29125914707787, 103.98242885594016, 149.69577153831406, 82.31954057785433, 60.86830782228789, 185.72525743586084, 90.03473904606136, 61.27533042814407, 880.6825055910615, 69.51440206880471, 61.73140672525751, 60.21617570046276, 1273.2540694258837, 373.41393404454976, 254.46803958431175, 291.1326038963067, 243.29936235539734, 171.5529849576567, 2757.851949975583, 560.3250393010043, 241.8640724235191, 543.8692300776008, 315.14888613237827, 249.29134167694463, 464.6225768406946, 414.7898661083253, 289.8227237614457, 5429.21135779625, 697.1404876735139, 2097.646366433733, 2043.220304078507, 797.133114271439, 592.5026124957993, 2243.5868256621347, 565.3378991746414, 3053.257152161106, 619.8667193883318, 2015.6062252736322, 482.4250697124284, 2215.549659506001, 3252.8206366216627, 8362.967619455869, 2507.8672282211387, 18186.455380302683, 670.7595502636431, 3316.401284505153, 2103.6762088708647, 952.0233968060131, 1152.1886410811721, 2786.0997179387996, 4806.554870865484, 1943.796283522334, 4164.868495066116, 2411.950161012422, 2144.1805122346427, 3263.763265399326, 2351.615192141484, 2777.8634542437444, 2548.234018777072, 1888.5784864666002, 1330.8708998573782, 1902.2271035794522, 2119.963941652077, 1799.1565447571747, 1990.96581384497, 1629.956830137257, 420.00907398383004, 464.1244094038533, 166.85540844244642, 1128.7768181315764, 184.49502266547148, 149.41652825852987, 116.46927700520675, 121.48960913469472, 231.8712148685458, 108.22584901556174, 98.07185097111994, 106.6391590134455, 111.89026556497024, 90.22453429738093, 107.46897251220508, 285.87526955945333, 72.9278889070177, 241.449684070852, 471.36083410140674, 70.78127694724502, 96.74279572777141, 233.02548661020361, 85.7805982953551, 396.1765493670312, 73.16557610327487, 121.3656213441881, 117.59975791996582, 233.4221761163273, 125.39208700344244, 150.52476585550227, 446.34662472439345, 302.13972637206587, 215.62612742822608, 226.75083032300438, 505.63265112109394, 189.04038003391912, 375.9506052722766, 1699.2338436999282, 337.98184000063816, 288.7092178947087, 247.49731566963217, 234.18967261353546, 3648.5114208106024, 170.61150215254912, 228.86863905685874, 216.76165900459267, 242.5757265254105, 864.5071565598693, 965.8833561223272, 480.6686762706417, 4568.622926539206, 337.8681746060769, 4721.5475729268255, 1013.9185151176291, 392.36767029117175, 697.1911515866491, 399.6419834535789, 2370.7616483510374, 1107.860480905703, 701.3517403708144, 668.8706464777116, 643.1439707077392, 1370.5959657515364, 1103.3373328438527, 1198.3492906465578, 963.5451548819627, 541.4814309427644, 817.9947465308442, 4913.401154470542, 1156.129704905604, 1559.0474760543264, 1217.6676461554753, 1556.0539472189869, 3607.05967167875, 748.5478433266708, 1105.2318241089192, 3878.5786141775566, 1309.4898305607167, 3281.464026588741, 1379.1354951550206, 1907.1072395717927, 1213.635959778667, 1407.0997670674783, 1636.3958587511613, 1236.1438846179126, 1208.439050057254, 1333.115227034823, 1260.0281742647899, 1183.9571157924142, 1176.3322152909473], \"Total\": [61400.0, 25039.0, 19532.0, 20559.0, 6140.0, 6503.0, 6854.0, 18259.0, 4193.0, 25307.0, 8421.0, 7886.0, 3692.0, 2925.0, 8382.0, 4438.0, 5963.0, 7926.0, 8650.0, 10672.0, 5821.0, 4019.0, 9018.0, 1794.0, 22818.0, 2492.0, 10221.0, 3343.0, 10999.0, 2979.0, 354.4420710221785, 324.19096408034335, 297.8348118350532, 545.3162074427911, 166.11735612409407, 164.23901874161902, 164.23901874161902, 164.23901874161902, 164.23901874161902, 150.84592565646963, 150.6424767290574, 130.40022454247804, 126.35183283965313, 159.27741785353766, 270.08777242585705, 169.15905862610757, 79.60044922486082, 81.06277150337347, 82.32747202562443, 84.92280841511577, 90.5823094648135, 57.38230973614526, 61.61844360307833, 65.22720662843105, 53.60790182490159, 71.09344159807607, 81.55341165296828, 50.60824224867844, 121.3186994018491, 61.528765457864324, 270.0158433231098, 262.65703761639764, 311.6072711490066, 201.00873353157883, 171.86711682318057, 1073.5498674090118, 106.29938181412794, 273.70532088879304, 8421.226307112805, 1135.5168576404965, 1836.6055160378696, 245.29027235313427, 1187.3648770770985, 484.2127705784486, 662.914532239324, 1546.9899887611282, 2330.3247593208216, 423.7190190943826, 294.9243937491991, 1241.0619630774465, 1373.4530560794203, 1146.8791220296234, 391.58409787889343, 491.20673724860603, 335.22151831020494, 663.4117292445546, 284.67991391899017, 2090.1144609420544, 421.7856142932419, 3002.607913511118, 883.3355947891047, 639.3526095632731, 10999.811761872395, 1053.0281825593581, 61400.10441677838, 5516.543218630575, 7886.808267045148, 4380.981275094474, 940.156038909561, 10234.501126190311, 4074.6155719691806, 2459.3692207264594, 2808.31014503084, 10947.654161844948, 1764.213556242245, 2188.960658464896, 19547.326298068383, 8447.29945417823, 2442.2087425086283, 19532.596804283312, 8496.481863543615, 4638.2204143139625, 6568.157752695825, 6115.311502243991, 22818.473374037785, 8693.132235708552, 7926.320444712109, 10604.967037039974, 9384.691726790601, 8810.769133480368, 6945.03298224946, 13996.71666112228, 14542.239590451012, 11788.844816449822, 7424.883386564404, 10356.912955647154, 18419.257423744584, 10251.942750966662, 13322.194480008071, 10672.22633270887, 25307.15805455937, 14739.89108027108, 8758.414499800005, 408.4351301885991, 298.23209689128566, 218.35784720828647, 1720.319942169495, 112.91173857471088, 240.9907651166995, 86.22947956407155, 81.98882665791102, 94.86463881922914, 69.00285580947002, 265.3455574395779, 63.465331648469416, 66.46984531090575, 71.5165880686642, 57.61565268933951, 66.04284686862202, 105.61015144926296, 50.89943172312949, 83.69157369692157, 50.33202599949861, 66.6188181750534, 49.08662237797736, 73.95464865978866, 134.23577812656103, 46.15131140035186, 51.27041688223537, 65.03175633443806, 50.67132342204147, 82.7733863743555, 50.67031233866422, 1742.7343487667251, 1349.060000851611, 1611.1459297538136, 321.5723967300277, 432.2398894357811, 618.4228629573314, 663.2893347731898, 566.7993772765905, 1203.688603309537, 163.37370759901995, 721.612107062312, 202.8664651736283, 1003.4823337429208, 205.49528546337586, 142.2283434897634, 2892.6581011859166, 363.1677707462295, 849.4118468944009, 293.2961933396941, 457.11980059880386, 25039.167503889603, 730.0423903018841, 2599.294834332125, 3245.4555588538283, 1329.9901116360513, 3811.7925801022243, 6428.392244835423, 8382.834957865189, 5963.463948454013, 2236.213391952093, 25307.15805455937, 3250.978012463113, 1319.2831053440211, 3661.56860059551, 2218.8624403739104, 3343.778028922481, 5890.032786639524, 9018.388271183965, 9078.683799931507, 4445.952317988733, 2651.607889836831, 9291.419540000512, 18419.257423744584, 5809.192608676851, 7275.803926684647, 10575.272409987218, 20559.394535560183, 13322.194480008071, 13996.71666112228, 7016.010368575468, 18259.809380867926, 14739.89108027108, 6363.2354353680885, 19547.326298068383, 14542.239590451012, 10356.912955647154, 6806.0391736332995, 22818.473374037785, 11788.844816449822, 10947.654161844948, 545.2242501161322, 387.1862209437374, 294.97592182735724, 360.08916525641484, 171.39833575516695, 393.26705499910656, 521.1815009289871, 528.5360701068563, 497.1921987138852, 179.40899488116975, 88.77429093570797, 528.9177694834079, 98.97588458824953, 411.9834142443493, 98.21120419458556, 90.80126930434159, 90.7999458025612, 90.7963454177824, 90.79839382626456, 90.79731450109755, 130.19590989248735, 91.47500251043753, 105.39716682401617, 101.96529049958525, 88.47624916255798, 134.06324580037472, 97.49292410585, 67.62499200688038, 129.3660004432766, 207.6608274043046, 254.43236622858012, 599.9618018901115, 220.6699558098655, 271.59721067523947, 288.26120446154573, 126.97386029268085, 1078.6733223835586, 1896.7772086865912, 479.86351333340366, 440.24738569126964, 1256.175545923442, 286.9743708999283, 132.06779753300316, 731.2200979878245, 472.66204629897214, 966.1901304567073, 368.8725048442145, 427.61364749682417, 984.1458395567603, 326.8819496618865, 744.7970880981395, 483.85000821704654, 402.6147128769758, 1933.597630039033, 869.6380539677184, 4019.599133335031, 2633.150823516411, 2839.333657376905, 1985.859599681013, 1193.8853774546335, 2753.4667516916893, 2712.087049831285, 1470.270280192229, 10672.22633270887, 3302.9781660995045, 2119.043809418251, 4197.749019928069, 20559.394535560183, 2865.498361647271, 18259.809380867926, 10221.03542089539, 14739.89108027108, 5375.075145616543, 4005.306514249426, 10604.967037039974, 2635.5054809297335, 8810.769133480368, 4957.022893176311, 2522.373843721553, 8758.414499800005, 22818.473374037785, 14542.239590451012, 8002.619974371197, 11788.844816449822, 61400.10441677838, 19547.326298068383, 25307.15805455937, 10251.942750966662, 13996.71666112228, 8382.834957865189, 605.0503833873297, 298.05731918313376, 186.64769394910144, 138.81192105649762, 123.47954535110918, 359.44156216851866, 1483.847853641478, 170.02743451895108, 103.27974606235381, 101.40542470478894, 165.08208296835969, 99.26115905237185, 113.79641729051328, 143.31666201493607, 129.67516732348759, 86.55743562767977, 86.9550560997218, 101.71304543087335, 110.50350255304825, 105.1806113188045, 151.44077245263597, 83.30924994885903, 61.70664066107916, 188.3189517908681, 91.29214566478583, 62.14680195662852, 893.244911168575, 70.53482681861703, 62.65803868241643, 61.13340812686682, 1306.7118262463148, 379.3534399898804, 258.5885059209777, 297.10577319850574, 248.502357607984, 174.842524279806, 2925.7008343489856, 582.5113074362405, 248.929677297481, 573.8697783501283, 327.3054256242224, 257.70010459363067, 494.7976257126587, 441.71286943336037, 304.1237582385808, 6503.342071197844, 769.6492756819121, 2492.963002045363, 2488.221553669489, 911.58652089079, 668.9421974042806, 2979.281071169166, 655.1959167850762, 4438.082668545909, 738.6797874825616, 2844.2303796912092, 568.1122047156219, 3641.5774266115404, 5821.68301559779, 19532.596804283312, 4574.540620584334, 61400.10441677838, 875.148494622076, 7926.320444712109, 4605.164359333355, 1492.5722195564467, 2049.8541483106933, 8650.392707293046, 22818.473374037785, 5224.244710850574, 25307.15805455937, 9384.691726790601, 7886.808267045148, 18419.257423744584, 10251.942750966662, 14542.239590451012, 18259.809380867926, 10356.912955647154, 4242.135485626668, 13996.71666112228, 20559.394535560183, 11788.844816449822, 19547.326298068383, 13322.194480008071, 421.38269265590736, 466.41111086164085, 167.81354559573083, 1135.5423353867966, 185.62465345850364, 150.40934229805873, 117.27397394735188, 122.33161316623485, 233.70835293202327, 109.08668880514492, 98.88537557635846, 107.54976512703362, 112.89610545393752, 91.04924063861144, 108.47406717838868, 288.67832240378283, 73.73153054924464, 244.11164018971502, 476.6834175107384, 71.59347563402335, 97.85533952050093, 235.73114307694416, 86.78340011932379, 400.8568005313782, 74.03497155224427, 122.88091956109973, 119.07634662440829, 236.54028055809516, 127.07095826795269, 152.5527473425078, 453.7634216715846, 307.21004816103255, 218.5327026954891, 230.02160985788103, 517.9228456096947, 191.97724996129432, 385.16265312419694, 1794.7380043649196, 347.5014735416951, 295.93296744040543, 253.52980814564387, 241.32869342268395, 4193.8004971749615, 174.5233119718606, 237.27242552316798, 224.14729757151417, 252.6303987286403, 981.6737270319375, 1117.5803954394835, 528.1649995660933, 6140.62402712876, 364.79261925091043, 6854.0560281960115, 1273.9917715714357, 433.9120583805483, 851.4842084447015, 446.93584871024945, 3692.2750499178446, 1507.2928827645326, 896.544429960145, 846.6058596041921, 811.8556426081454, 2193.085857865605, 1667.8786118034623, 2008.9945816179256, 1529.5752207837008, 694.3265099346972, 1324.6977216711302, 20559.394535560183, 2254.3295400695124, 3584.639933924296, 2505.6889809948343, 3841.570780615014, 18259.809380867926, 1163.0738494764812, 2390.1191746420527, 25039.167503889603, 3584.39031568312, 22818.473374037785, 4037.687316843879, 8650.392707293046, 3289.2049024376947, 5253.754584169335, 9018.388271183965, 5642.433553669654, 5963.463948454013, 13322.194480008071, 10999.811761872395, 10575.272409987218, 10356.912955647154], \"Category\": [\"Default\", \"Default\", \"Default\", \"Default\", \"Default\", \"Default\", \"Default\", \"Default\", \"Default\", \"Default\", \"Default\", \"Default\", \"Default\", \"Default\", \"Default\", \"Default\", \"Default\", \"Default\", \"Default\", \"Default\", \"Default\", \"Default\", \"Default\", \"Default\", \"Default\", \"Default\", \"Default\", \"Default\", \"Default\", \"Default\", \"Topic1\", \"Topic1\", \"Topic1\", \"Topic1\", \"Topic1\", \"Topic1\", \"Topic1\", \"Topic1\", \"Topic1\", \"Topic1\", \"Topic1\", \"Topic1\", \"Topic1\", \"Topic1\", \"Topic1\", \"Topic1\", \"Topic1\", \"Topic1\", \"Topic1\", \"Topic1\", \"Topic1\", \"Topic1\", \"Topic1\", \"Topic1\", \"Topic1\", \"Topic1\", \"Topic1\", \"Topic1\", \"Topic1\", \"Topic1\", \"Topic1\", \"Topic1\", \"Topic1\", \"Topic1\", \"Topic1\", \"Topic1\", \"Topic1\", \"Topic1\", \"Topic1\", \"Topic1\", \"Topic1\", \"Topic1\", \"Topic1\", \"Topic1\", \"Topic1\", \"Topic1\", \"Topic1\", \"Topic1\", \"Topic1\", \"Topic1\", \"Topic1\", \"Topic1\", \"Topic1\", \"Topic1\", \"Topic1\", \"Topic1\", \"Topic1\", \"Topic1\", \"Topic1\", \"Topic1\", \"Topic1\", \"Topic1\", \"Topic1\", \"Topic1\", \"Topic1\", \"Topic1\", \"Topic1\", \"Topic1\", \"Topic1\", \"Topic1\", \"Topic1\", \"Topic1\", \"Topic1\", \"Topic1\", \"Topic1\", \"Topic1\", \"Topic1\", \"Topic1\", \"Topic1\", \"Topic1\", \"Topic1\", \"Topic1\", \"Topic1\", \"Topic1\", \"Topic1\", \"Topic1\", \"Topic1\", \"Topic1\", \"Topic1\", \"Topic1\", \"Topic1\", \"Topic1\", \"Topic1\", \"Topic1\", \"Topic1\", \"Topic1\", \"Topic1\", \"Topic1\", \"Topic1\", \"Topic1\", \"Topic1\", \"Topic1\", \"Topic1\", \"Topic2\", \"Topic2\", \"Topic2\", \"Topic2\", \"Topic2\", \"Topic2\", \"Topic2\", \"Topic2\", \"Topic2\", \"Topic2\", \"Topic2\", \"Topic2\", \"Topic2\", \"Topic2\", \"Topic2\", \"Topic2\", \"Topic2\", \"Topic2\", \"Topic2\", \"Topic2\", \"Topic2\", \"Topic2\", \"Topic2\", \"Topic2\", \"Topic2\", \"Topic2\", \"Topic2\", \"Topic2\", \"Topic2\", \"Topic2\", \"Topic2\", \"Topic2\", \"Topic2\", \"Topic2\", \"Topic2\", \"Topic2\", \"Topic2\", \"Topic2\", \"Topic2\", \"Topic2\", \"Topic2\", \"Topic2\", \"Topic2\", \"Topic2\", \"Topic2\", \"Topic2\", \"Topic2\", \"Topic2\", \"Topic2\", \"Topic2\", \"Topic2\", \"Topic2\", \"Topic2\", \"Topic2\", \"Topic2\", \"Topic2\", \"Topic2\", \"Topic2\", \"Topic2\", \"Topic2\", \"Topic2\", \"Topic2\", \"Topic2\", \"Topic2\", \"Topic2\", \"Topic2\", \"Topic2\", \"Topic2\", \"Topic2\", \"Topic2\", \"Topic2\", \"Topic2\", \"Topic2\", \"Topic2\", \"Topic2\", \"Topic2\", \"Topic2\", \"Topic2\", \"Topic2\", \"Topic2\", \"Topic2\", \"Topic2\", \"Topic2\", \"Topic2\", \"Topic2\", \"Topic2\", \"Topic2\", \"Topic2\", \"Topic2\", \"Topic2\", \"Topic3\", \"Topic3\", \"Topic3\", \"Topic3\", \"Topic3\", \"Topic3\", \"Topic3\", \"Topic3\", \"Topic3\", \"Topic3\", \"Topic3\", \"Topic3\", \"Topic3\", \"Topic3\", \"Topic3\", \"Topic3\", \"Topic3\", \"Topic3\", \"Topic3\", \"Topic3\", \"Topic3\", \"Topic3\", \"Topic3\", \"Topic3\", \"Topic3\", \"Topic3\", \"Topic3\", \"Topic3\", \"Topic3\", \"Topic3\", \"Topic3\", \"Topic3\", \"Topic3\", \"Topic3\", \"Topic3\", \"Topic3\", \"Topic3\", \"Topic3\", \"Topic3\", \"Topic3\", \"Topic3\", \"Topic3\", \"Topic3\", \"Topic3\", \"Topic3\", \"Topic3\", \"Topic3\", \"Topic3\", \"Topic3\", \"Topic3\", \"Topic3\", \"Topic3\", \"Topic3\", \"Topic3\", \"Topic3\", \"Topic3\", \"Topic3\", \"Topic3\", \"Topic3\", \"Topic3\", \"Topic3\", \"Topic3\", \"Topic3\", \"Topic3\", \"Topic3\", \"Topic3\", \"Topic3\", \"Topic3\", \"Topic3\", \"Topic3\", \"Topic3\", \"Topic3\", \"Topic3\", \"Topic3\", \"Topic3\", \"Topic3\", \"Topic3\", \"Topic3\", \"Topic3\", \"Topic3\", \"Topic3\", \"Topic3\", \"Topic3\", \"Topic3\", \"Topic3\", \"Topic3\", \"Topic3\", \"Topic3\", \"Topic3\", \"Topic3\", \"Topic4\", \"Topic4\", \"Topic4\", \"Topic4\", \"Topic4\", \"Topic4\", \"Topic4\", \"Topic4\", \"Topic4\", \"Topic4\", \"Topic4\", \"Topic4\", \"Topic4\", \"Topic4\", \"Topic4\", \"Topic4\", \"Topic4\", \"Topic4\", \"Topic4\", \"Topic4\", \"Topic4\", \"Topic4\", \"Topic4\", \"Topic4\", \"Topic4\", \"Topic4\", \"Topic4\", \"Topic4\", \"Topic4\", \"Topic4\", \"Topic4\", \"Topic4\", \"Topic4\", \"Topic4\", \"Topic4\", \"Topic4\", \"Topic4\", \"Topic4\", \"Topic4\", \"Topic4\", \"Topic4\", \"Topic4\", \"Topic4\", \"Topic4\", \"Topic4\", \"Topic4\", \"Topic4\", \"Topic4\", \"Topic4\", \"Topic4\", \"Topic4\", \"Topic4\", \"Topic4\", \"Topic4\", \"Topic4\", \"Topic4\", \"Topic4\", \"Topic4\", \"Topic4\", \"Topic4\", \"Topic4\", \"Topic4\", \"Topic4\", \"Topic4\", \"Topic4\", \"Topic4\", \"Topic4\", \"Topic4\", \"Topic4\", \"Topic4\", \"Topic4\", \"Topic4\", \"Topic4\", \"Topic4\", \"Topic4\", \"Topic4\", \"Topic4\", \"Topic4\", \"Topic4\", \"Topic4\", \"Topic4\", \"Topic4\", \"Topic4\", \"Topic4\", \"Topic5\", \"Topic5\", \"Topic5\", \"Topic5\", \"Topic5\", \"Topic5\", \"Topic5\", \"Topic5\", \"Topic5\", \"Topic5\", \"Topic5\", \"Topic5\", \"Topic5\", \"Topic5\", \"Topic5\", \"Topic5\", \"Topic5\", \"Topic5\", \"Topic5\", \"Topic5\", \"Topic5\", \"Topic5\", \"Topic5\", \"Topic5\", \"Topic5\", \"Topic5\", \"Topic5\", \"Topic5\", \"Topic5\", \"Topic5\", \"Topic5\", \"Topic5\", \"Topic5\", \"Topic5\", \"Topic5\", \"Topic5\", \"Topic5\", \"Topic5\", \"Topic5\", \"Topic5\", \"Topic5\", \"Topic5\", \"Topic5\", \"Topic5\", \"Topic5\", \"Topic5\", \"Topic5\", \"Topic5\", \"Topic5\", \"Topic5\", \"Topic5\", \"Topic5\", \"Topic5\", \"Topic5\", \"Topic5\", \"Topic5\", \"Topic5\", \"Topic5\", \"Topic5\", \"Topic5\", \"Topic5\", \"Topic5\", \"Topic5\", \"Topic5\", \"Topic5\", \"Topic5\", \"Topic5\", \"Topic5\", \"Topic5\", \"Topic5\", \"Topic5\", \"Topic5\", \"Topic5\", \"Topic5\", \"Topic5\", \"Topic5\", \"Topic5\", \"Topic5\", \"Topic5\", \"Topic5\", \"Topic5\", \"Topic5\", \"Topic5\", \"Topic5\", \"Topic5\", \"Topic5\", \"Topic5\", \"Topic5\", \"Topic5\", \"Topic5\"], \"logprob\": [30.0, 29.0, 28.0, 27.0, 26.0, 25.0, 24.0, 23.0, 22.0, 21.0, 20.0, 19.0, 18.0, 17.0, 16.0, 15.0, 14.0, 13.0, 12.0, 11.0, 10.0, 9.0, 8.0, 7.0, 6.0, 5.0, 4.0, 3.0, 2.0, 1.0, -7.7675, -7.857, -7.9419, -7.3372, -8.528, -8.5394, -8.5394, -8.5394, -8.5394, -8.6248, -8.6262, -8.7714, -8.8031, -8.5715, -8.0439, -8.5126, -9.27, -9.2525, -9.2374, -9.2067, -9.1433, -9.6004, -9.5293, -9.4725, -9.6696, -9.3879, -9.2507, -9.7279, -8.854, -9.5329, -8.0548, -8.0869, -7.9202, -8.3549, -8.5112, -6.6976, -8.9873, -8.0511, -4.6639, -6.6447, -6.189, -8.1651, -6.626, -7.5031, -7.1986, -6.3894, -5.9993, -7.6396, -7.9876, -6.6176, -6.5226, -6.7007, -7.7193, -7.5071, -7.867, -7.2334, -8.0227, -6.1687, -7.6576, -5.8396, -6.9706, -7.272, -4.6613, -6.8203, -3.1233, -5.3267, -5.0061, -5.5535, -6.9329, -4.8243, -5.6358, -6.0968, -5.9948, -4.843, -6.4006, -6.219, -4.3678, -5.1022, -6.1454, -4.4628, -5.1557, -5.6381, -5.386, -5.4985, -4.6291, -5.3058, -5.3701, -5.1853, -5.2652, -5.3349, -5.5, -5.0943, -5.0724, -5.1975, -5.4864, -5.3274, -5.0482, -5.3933, -5.3402, -5.4118, -5.2592, -5.3658, -5.4848, -7.3571, -7.672, -7.9858, -5.9237, -8.6475, -7.8916, -8.9194, -8.9704, -8.8251, -9.1446, -7.7977, -9.2292, -9.1841, -9.1112, -9.3279, -9.1916, -8.7224, -9.4533, -8.956, -9.4648, -9.1846, -9.4903, -9.0808, -8.485, -9.5529, -9.4478, -9.2104, -9.46, -8.9692, -9.4602, -5.9252, -6.1848, -6.0138, -7.6132, -7.3205, -6.9707, -6.9024, -7.0602, -6.3153, -8.2948, -6.8308, -8.0852, -6.5222, -8.0766, -8.4378, -5.4907, -7.5197, -6.6985, -7.7367, -7.317, -3.4949, -6.8697, -5.6647, -5.4647, -6.3065, -5.3742, -4.8979, -4.6564, -4.9872, -5.9205, -3.8113, -5.6049, -6.403, -5.5335, -5.9597, -5.6355, -5.1815, -4.8599, -4.8724, -5.4636, -5.8721, -4.9275, -4.4283, -5.3513, -5.2633, -5.0351, -4.6296, -4.8964, -4.8705, -5.2946, -4.758, -4.9117, -5.3976, -5.0354, -5.1685, -5.3004, -5.4593, -5.2601, -5.3773, -5.4371, -6.6996, -7.0424, -7.3152, -7.1179, -7.8611, -7.0309, -6.7505, -6.7369, -6.7994, -7.8188, -8.5224, -6.7379, -8.4139, -6.9878, -8.4226, -8.5011, -8.5014, -8.502, -8.502, -8.5021, -8.1417, -8.4949, -8.3533, -8.3864, -8.5284, -8.1129, -8.4315, -8.7974, -8.1492, -7.6763, -7.4733, -6.6264, -7.6179, -7.4141, -7.357, -8.1687, -6.0548, -5.5062, -6.8552, -6.9404, -5.9139, -7.3669, -8.1313, -6.4573, -6.882, -6.1917, -7.1261, -6.9833, -6.1809, -7.2488, -6.4667, -6.8884, -7.0604, -5.6175, -6.3727, -5.0183, -5.3986, -5.361, -5.6765, -6.1264, -5.5123, -5.5355, -6.0182, -4.5156, -5.4497, -5.7856, -5.2918, -4.1472, -5.5723, -4.2578, -4.687, -4.6108, -5.3349, -5.5499, -4.9864, -5.7947, -5.1632, -5.4762, -5.8464, -5.3068, -4.9107, -5.1617, -5.4159, -5.2845, -4.7784, -5.1783, -5.1969, -5.432, -5.4215, -5.6032, -6.5098, -7.2179, -7.6866, -7.9844, -8.1015, -7.0334, -5.6157, -7.7822, -8.2812, -8.2997, -7.8125, -8.3213, -8.185, -7.9545, -8.0546, -8.4592, -8.455, -8.2986, -8.2165, -8.2663, -7.9019, -8.4999, -8.8018, -7.6862, -8.4103, -8.7951, -6.1298, -8.6689, -8.7877, -8.8125, -5.7611, -6.9878, -7.3713, -7.2367, -7.4162, -7.7656, -4.9883, -6.582, -7.4221, -6.6118, -7.1574, -7.3919, -6.7693, -6.8827, -7.2412, -4.3109, -6.3635, -5.2619, -5.2882, -6.2295, -6.5261, -5.1946, -6.5731, -4.8865, -6.481, -5.3018, -6.7317, -5.2072, -4.8232, -3.8789, -5.0833, -3.102, -6.4021, -4.8038, -5.259, -6.0519, -5.8611, -4.9781, -4.4327, -5.3381, -4.576, -5.1223, -5.24, -4.8198, -5.1476, -4.981, -5.0673, -5.3669, -5.7169, -5.3597, -5.2513, -5.4154, -5.3141, -5.5142, -6.5448, -6.4449, -7.4679, -5.5561, -7.3674, -7.5783, -7.8274, -7.7852, -7.1389, -7.9008, -7.9993, -7.9156, -7.8675, -8.0827, -7.9078, -6.9295, -8.2956, -7.0984, -6.4294, -8.3254, -8.013, -7.1339, -8.1332, -6.6032, -8.2923, -7.7862, -7.8177, -7.1322, -7.7536, -7.5709, -6.4839, -6.8741, -7.2115, -7.1612, -6.3592, -7.3431, -6.6556, -5.1471, -6.762, -6.9196, -7.0736, -7.1289, -4.383, -7.4456, -7.1519, -7.2062, -7.0937, -5.8229, -5.712, -6.4099, -4.1581, -6.7624, -4.1251, -5.6635, -6.6128, -6.038, -6.5945, -4.8141, -5.5749, -6.032, -6.0794, -6.1187, -5.362, -5.5789, -5.4963, -5.7144, -6.2907, -5.8782, -4.0853, -5.5322, -5.2332, -5.4803, -5.2351, -4.3944, -5.9669, -5.5772, -4.3218, -5.4076, -4.489, -5.3558, -5.0317, -5.4837, -5.3358, -5.1848, -5.4653, -5.488, -5.3898, -5.4461, -5.5084, -5.5149], \"loglift\": [30.0, 29.0, 28.0, 27.0, 26.0, 25.0, 24.0, 23.0, 22.0, 21.0, 20.0, 19.0, 18.0, 17.0, 16.0, 15.0, 14.0, 13.0, 12.0, 11.0, 10.0, 9.0, 8.0, 7.0, 6.0, 5.0, 4.0, 3.0, 2.0, 1.0, 1.1378, 1.1375, 1.1374, 1.1373, 1.1352, 1.1352, 1.1352, 1.1352, 1.1352, 1.1348, 1.1347, 1.1339, 1.1337, 1.1337, 1.1332, 1.1324, 1.1288, 1.1281, 1.1278, 1.1274, 1.1263, 1.1258, 1.1256, 1.1255, 1.1246, 1.124, 1.1239, 1.1238, 1.1235, 1.1235, 1.1226, 1.1181, 1.1139, 1.1176, 1.118, 1.0995, 1.1224, 1.1127, 1.0735, 1.0963, 1.0712, 1.1083, 1.0704, 1.0903, 1.0806, 1.0424, 1.0228, 1.0872, 1.1015, 1.0346, 1.0282, 1.0304, 1.0864, 1.0719, 1.0941, 1.045, 1.1018, 0.9622, 1.0738, 0.929, 1.0216, 1.0434, 0.8089, 0.9961, 0.6274, 0.8336, 0.7968, 0.8374, 0.997, 0.718, 0.8276, 0.8715, 0.8408, 0.632, 0.8999, 0.8657, 0.5275, 0.6321, 0.8298, 0.4333, 0.5728, 0.6957, 0.5999, 0.5588, 0.1115, 0.3998, 0.4278, 0.3215, 0.3638, 0.3573, 0.4301, 0.135, 0.1187, 0.2035, 0.3769, 0.2031, -0.0934, 0.1474, -0.0615, 0.0887, -0.6221, -0.1882, 0.2133, 1.4064, 1.406, 1.4039, 1.4019, 1.4018, 1.3995, 1.3994, 1.3989, 1.3983, 1.3972, 1.3971, 1.3962, 1.3951, 1.3947, 1.3942, 1.3939, 1.3937, 1.3927, 1.3927, 1.3924, 1.3923, 1.392, 1.3916, 1.3913, 1.3911, 1.391, 1.3906, 1.3905, 1.3905, 1.3903, 1.3875, 1.3839, 1.3774, 1.3894, 1.3864, 1.378, 1.3763, 1.3757, 1.3674, 1.385, 1.3636, 1.3782, 1.3425, 1.3739, 1.3806, 1.3153, 1.3613, 1.3328, 1.358, 1.334, 1.1528, 1.3131, 1.2481, 1.2262, 1.2764, 1.1559, 1.1095, 1.0855, 1.0953, 1.1429, 0.8257, 1.0843, 1.188, 1.0367, 1.1114, 1.0255, 0.9134, 0.8089, 0.7898, 0.9125, 1.0209, 0.7116, 0.5265, 0.7574, 0.6202, 0.4745, 0.2152, 0.3823, 0.3588, 0.6253, 0.2054, 0.2659, 0.62, -0.1401, 0.0226, 0.2301, 0.491, -0.5195, 0.0237, 0.0379, 1.775, 1.7746, 1.7738, 1.7717, 1.7708, 1.7704, 1.7693, 1.7688, 1.7675, 1.7674, 1.7674, 1.7671, 1.7671, 1.7671, 1.7661, 1.7661, 1.7659, 1.7652, 1.7652, 1.7652, 1.7651, 1.7649, 1.7649, 1.7648, 1.7647, 1.7646, 1.7645, 1.7645, 1.764, 1.7636, 1.7635, 1.7526, 1.7613, 1.7574, 1.7551, 1.7632, 1.7376, 1.7218, 1.7472, 1.7481, 1.7261, 1.7496, 1.7612, 1.7238, 1.7355, 1.7108, 1.7393, 1.7343, 1.7032, 1.7375, 1.6961, 1.7057, 1.7175, 1.5912, 1.6351, 1.4586, 1.5013, 1.4635, 1.5056, 1.5646, 1.3429, 1.3349, 1.4645, 0.9849, 1.2236, 1.3315, 1.1418, 0.6976, 1.2431, 0.7056, 0.8567, 0.5668, 0.8514, 0.9306, 0.5204, 1.1043, 0.529, 0.7911, 1.0965, 0.3913, -0.1701, 0.0294, 0.3725, 0.1165, -1.0277, -0.283, -0.5598, 0.1087, -0.1922, 0.1387, 1.8608, 1.8607, 1.8601, 1.8584, 1.8583, 1.8579, 1.8578, 1.8577, 1.8573, 1.857, 1.8569, 1.8569, 1.8564, 1.8564, 1.8563, 1.8559, 1.8555, 1.8551, 1.8544, 1.8539, 1.8538, 1.8534, 1.8517, 1.8515, 1.8515, 1.8513, 1.8512, 1.8508, 1.8505, 1.8503, 1.8395, 1.8496, 1.8493, 1.8451, 1.8442, 1.8464, 1.8063, 1.8266, 1.8366, 1.8117, 1.8275, 1.8322, 1.8025, 1.8025, 1.8172, 1.6849, 1.7664, 1.6927, 1.6684, 1.7312, 1.7441, 1.5818, 1.7179, 1.4914, 1.69, 1.521, 1.7019, 1.3685, 1.2833, 1.0171, 1.2643, 0.6487, 1.5994, 0.9941, 1.0819, 1.4157, 1.2893, 0.7324, 0.3078, 0.8767, 0.061, 0.5068, 0.563, 0.1349, 0.393, 0.21, -0.1039, 0.1636, 0.7062, -0.1304, -0.4065, -0.0144, -0.4188, -0.2355, 2.1876, 2.1859, 2.1851, 2.1849, 2.1847, 2.1842, 2.184, 2.1839, 2.1829, 2.1829, 2.1826, 2.1823, 2.1819, 2.1817, 2.1815, 2.1811, 2.1799, 2.1799, 2.1796, 2.1794, 2.1794, 2.1793, 2.1792, 2.1791, 2.179, 2.1784, 2.1784, 2.1776, 2.1775, 2.1775, 2.1744, 2.1742, 2.1775, 2.1765, 2.1668, 2.1754, 2.1666, 2.1362, 2.1631, 2.1661, 2.1668, 2.1608, 2.0516, 2.1682, 2.1548, 2.1573, 2.1502, 2.0637, 2.045, 2.0966, 1.8951, 2.1142, 1.8181, 1.9625, 2.0902, 1.9909, 2.079, 1.7478, 1.883, 1.9453, 1.9552, 1.9579, 1.7208, 1.7776, 1.6742, 1.7287, 1.9422, 1.7088, 0.7595, 1.5231, 1.3583, 1.4692, 1.2871, 0.569, 1.7502, 1.4196, 0.3259, 1.1839, 0.2516, 1.1166, 0.6788, 1.1938, 0.8734, 0.4841, 0.6725, 0.5945, -0.1111, 0.0241, 0.0012, 0.0156]}, \"token.table\": {\"Topic\": [3, 1, 2, 3, 4, 5, 1, 1, 2, 3, 4, 5, 1, 2, 1, 1, 2, 3, 4, 5, 1, 2, 3, 4, 5, 1, 2, 3, 4, 5, 2, 3, 4, 3, 4, 5, 2, 5, 1, 2, 3, 4, 5, 1, 5, 1, 3, 4, 5, 1, 1, 2, 2, 3, 4, 5, 2, 3, 4, 5, 1, 1, 2, 3, 4, 5, 3, 4, 2, 3, 1, 2, 3, 4, 5, 3, 4, 1, 2, 3, 4, 5, 1, 5, 1, 2, 3, 4, 5, 1, 2, 4, 5, 1, 2, 3, 4, 5, 1, 2, 3, 4, 5, 3, 1, 2, 3, 4, 5, 1, 3, 4, 5, 1, 2, 3, 4, 5, 5, 1, 2, 3, 4, 5, 1, 2, 3, 4, 5, 1, 3, 4, 5, 1, 2, 4, 5, 4, 4, 1, 2, 3, 4, 5, 1, 2, 3, 4, 5, 2, 4, 5, 1, 2, 3, 4, 5, 1, 2, 3, 4, 5, 1, 2, 3, 4, 5, 1, 2, 3, 4, 5, 1, 2, 3, 4, 5, 1, 2, 3, 4, 5, 1, 2, 3, 4, 5, 1, 2, 3, 4, 5, 1, 2, 3, 4, 5, 1, 2, 3, 4, 5, 5, 1, 2, 3, 4, 5, 1, 2, 3, 4, 5, 1, 2, 3, 4, 5, 1, 2, 3, 4, 5, 2, 3, 4, 5, 1, 2, 3, 4, 2, 4, 5, 1, 2, 3, 4, 5, 4, 5, 1, 1, 2, 3, 4, 5, 1, 2, 3, 4, 5, 2, 3, 4, 5, 2, 5, 1, 2, 3, 4, 5, 1, 2, 3, 4, 5, 1, 2, 4, 5, 1, 2, 3, 4, 5, 2, 5, 1, 2, 3, 4, 5, 1, 2, 3, 4, 5, 4, 1, 2, 3, 4, 5, 2, 1, 2, 3, 4, 5, 3, 1, 4, 2, 3, 4, 5, 2, 3, 1, 2, 3, 4, 5, 5, 1, 2, 3, 4, 5, 1, 2, 3, 4, 5, 1, 2, 3, 4, 5, 5, 1, 2, 3, 4, 5, 3, 5, 1, 2, 3, 4, 5, 2, 1, 2, 3, 4, 5, 1, 2, 3, 4, 5, 2, 3, 4, 5, 1, 2, 3, 4, 5, 4, 1, 2, 3, 4, 5, 1, 2, 3, 4, 5, 1, 2, 3, 4, 5, 4, 1, 2, 3, 4, 5, 1, 2, 3, 4, 5, 1, 2, 3, 4, 5, 1, 5, 1, 2, 3, 1, 2, 3, 4, 5, 2, 3, 4, 5, 1, 2, 3, 4, 5, 3, 3, 1, 2, 3, 4, 5, 5, 1, 2, 3, 4, 5, 1, 4, 1, 2, 3, 4, 5, 1, 2, 3, 4, 5, 1, 2, 4, 5, 1, 2, 3, 4, 5, 1, 2, 3, 4, 5, 1, 4, 1, 2, 3, 4, 5, 1, 2, 3, 4, 5, 1, 2, 3, 4, 5, 3, 4, 5, 4, 4, 1, 2, 3, 4, 5, 1, 2, 3, 4, 5, 3, 1, 2, 3, 4, 5, 4, 4, 1, 2, 3, 4, 5, 1, 2, 3, 4, 5, 1, 2, 3, 4, 5, 4, 1, 2, 3, 4, 5, 1, 2, 5, 1, 2, 3, 4, 5, 1, 2, 3, 4, 5, 1, 2, 3, 4, 5, 4, 3, 1, 2, 3, 4, 5, 2, 4, 5, 1, 2, 3, 4, 5, 1, 3, 4, 1, 2, 3, 4, 5, 1, 2, 3, 4, 5, 5, 1, 2, 3, 4, 5, 1, 2, 3, 4, 5, 1, 2, 3, 4, 5, 3, 1, 5, 1, 2, 3, 4, 5, 1, 2, 3, 4, 5, 1, 2, 3, 4, 5, 1, 2, 3, 4, 5, 1, 2, 3, 4, 5, 1, 2, 3, 4, 1, 3, 5, 1, 2, 3, 4, 5, 2, 1, 2, 3, 4, 5, 1, 2, 3, 4, 5, 1, 2, 3, 4, 5, 1, 2, 3, 4, 5, 1, 2, 3, 4, 5, 1, 2, 3, 4, 5, 1, 2, 3, 4, 5, 1, 3, 4, 1, 2, 3, 4, 5, 1, 3, 4, 1, 5, 1, 2, 3, 4, 5, 2, 3, 1, 2, 3, 4, 5, 2, 1, 2, 3, 4, 5, 1, 2, 3, 4, 5, 1, 2, 3, 4, 5, 1, 2, 3, 4, 5, 1, 2, 3, 4, 5, 1, 2, 3, 4, 5, 3, 5, 1, 2, 3, 4, 5, 1, 2, 3, 4, 5, 1, 2, 3, 4, 5, 1, 2, 3, 4, 5, 2, 1, 2, 3, 4, 5, 1, 2, 3, 4, 5, 2, 1, 2, 3, 4, 5, 1, 2, 3, 4, 5, 1, 4, 1, 3, 1, 2, 3, 4, 5, 1, 2, 3, 4, 5, 1, 2, 3, 4, 5, 3, 1, 2, 3, 4, 5, 1, 2, 3, 4, 5, 1, 2, 3, 4, 5, 1, 2, 3, 4, 1, 2, 3, 4, 5, 1, 3, 1, 2, 3, 4, 5, 1, 2, 1, 1, 2, 3, 4, 5, 1, 2, 3, 4, 5, 1, 1, 2, 3, 4, 5, 1, 2, 3, 4, 5, 4, 5, 1, 2, 3, 4, 5, 1, 2, 2, 1, 2, 3, 4, 5, 1, 2, 3, 5, 1, 1, 1, 2, 3, 4, 5, 4, 1, 2, 3, 4, 5, 1, 2, 3, 5, 1, 2, 3, 4, 5, 4, 1, 2, 3, 4, 5, 1, 1, 2, 3, 4, 5, 1, 2, 3, 4, 5, 1, 2, 4, 5, 1, 2, 3, 4, 5, 1, 2, 3, 4, 3, 1, 2, 3, 4, 5, 1, 1, 2, 1, 2, 3, 4, 5, 2, 3, 4, 5, 1, 2, 3, 4, 5, 1, 2, 3, 4, 5, 4, 1, 2, 4, 5, 1, 4, 4, 3, 4, 1, 2, 3, 4, 5, 2, 4, 1, 2, 3, 4, 5, 1, 2, 3, 4, 5, 1, 2, 3, 4, 5, 1, 1, 2, 3, 4, 5, 1, 2, 3, 4, 1, 2, 3, 4, 5, 5, 1, 1, 2, 3, 4, 2, 1, 2, 3, 4, 5, 1, 2, 3, 4, 5, 1, 2, 3, 4, 5, 1, 2, 3, 4, 1, 2, 3, 4, 2, 1, 2, 3, 4, 5, 1, 3, 4, 5, 1, 5, 1, 2, 3, 4, 5, 2, 4, 5, 3, 1, 1, 2, 3, 4, 5, 1, 2, 3, 4, 5, 1, 2, 3, 4, 5, 1, 2, 3, 4, 5, 3, 1, 2, 3, 4, 5, 1, 2, 3, 4, 5, 1, 2, 3, 4, 5, 1, 2, 3, 4, 5, 1, 2, 3, 4, 5, 1, 2, 3, 4, 5, 1, 2, 3, 4, 5, 2, 1, 2, 3, 4, 1, 2, 3, 4, 5, 1, 2, 3, 4, 5, 1, 2, 3, 4, 5, 1, 2, 3, 4, 5, 1, 2, 5, 3, 4, 1, 2, 3, 4, 5, 1, 2, 3, 4, 5, 1, 3, 1, 2, 3, 4, 5, 1, 2, 3, 4, 5, 1, 2, 3, 4, 5, 1, 2, 3, 4, 5, 1, 2, 3, 4, 5, 1, 2, 3, 4, 5, 1, 2, 3, 4, 5, 2, 3, 4, 5, 1, 2, 3, 4, 5, 1, 2, 3, 4, 5, 2, 5, 1, 2, 3, 5, 3, 1, 2, 4, 5, 3, 5, 1, 2, 3, 4, 5, 1, 2, 3, 4, 5, 1, 2, 3, 4, 5, 2, 3, 1, 2, 3, 4, 5, 3, 1, 2, 3, 4, 5, 1, 4, 1, 2, 3, 4, 5, 1, 5, 1, 2, 3, 4, 5, 1, 2, 3, 4, 1, 2, 3, 4, 5, 1, 2, 3, 4, 5, 2, 3, 4, 5, 1, 2, 3, 4, 5, 1, 2, 3, 4, 5, 1, 3, 4, 1, 2, 3, 4, 5, 5, 1, 2, 3, 4, 1, 2, 3, 4, 5, 1, 2, 3, 4, 5, 1, 2, 3, 4, 5, 1, 2, 3, 4, 5, 1, 2, 3, 4, 5, 1, 2, 3, 4, 5, 1, 2, 3, 4, 5, 1, 2, 3, 4, 5, 2, 5, 1, 2, 3, 5, 1, 2, 3, 4, 5, 1, 2, 3, 4, 5, 1, 2, 3, 4, 5, 4, 1, 2, 3, 4, 5, 1, 2, 4, 5, 1, 2, 3, 4, 5, 1, 2, 3, 4, 5, 1, 2, 3, 4, 5, 1, 2, 3, 4, 5, 2, 1, 2, 3, 4, 5, 4, 1, 2, 3, 4, 5, 1, 2, 3, 4, 5, 3, 4, 1, 2, 3, 4, 5, 1, 2, 3, 4, 5, 3, 4, 5, 1, 2, 3, 4, 5, 5, 2, 4, 3, 1, 2, 3, 4, 5, 1, 2, 3, 4, 5, 1, 2, 3, 4, 5, 1, 2, 3, 4, 5, 1, 2, 3, 4, 5, 1, 2, 3, 4, 5, 2, 1, 2, 3, 4, 5, 2], \"Freq\": [0.9912069609095484, 0.9089378035065084, 0.04069870761969441, 0.019595674039112124, 0.028639831287933102, 0.0015073595414701632, 0.9943921212801192, 0.12154389814345919, 0.008428226513597535, 0.3495496048797293, 0.00754104477532411, 0.5127910447220395, 0.9924567106001546, 0.9823292384083578, 0.9924560025314798, 0.002237457574472404, 0.013424745446834424, 0.07607355753206173, 0.013424745446834424, 0.8949830297889616, 0.38174997810514494, 0.2098062891124512, 0.2455445849350605, 0.11521226835120905, 0.04773436714768097, 0.012981528607312127, 0.005192611442924851, 0.0025963057214624255, 0.005192611442924851, 0.9762109512698719, 0.007571868530253216, 0.9843429089329181, 0.007571868530253216, 0.9903311295876908, 0.004854564360723975, 0.0024272821803619873, 0.9854664593558403, 0.9900383005750041, 0.003944309378507223, 0.015777237514028892, 0.003944309378507223, 0.003944309378507223, 0.974244416491284, 0.00848424172510455, 0.9884141609746799, 0.0042276097654090515, 0.0042276097654090515, 0.0042276097654090515, 0.985033075340309, 0.9957350891793094, 0.9969307986709205, 0.9750535496084932, 0.0014402445905371695, 0.03024513640128056, 0.18867204136036922, 0.7791723234806087, 0.008633056917498348, 0.014388428195830581, 0.0028776856391661164, 0.9726577460381473, 0.9987527693286985, 0.015377951211683439, 0.030755902423366878, 0.2249025364708703, 0.6085274979480447, 0.12055215324873268, 0.9921464646624715, 0.005573856543047592, 0.007875636746767814, 0.9844545933459768, 0.3052059243743741, 0.5212428307984235, 0.07143849893703624, 0.0669628339433906, 0.035288897065282966, 0.9908145356219339, 0.007680732834278557, 0.0013675772900003781, 0.03965974141001097, 0.9490986392602625, 0.004102731870001135, 0.006837886450001891, 0.9808875349531339, 0.00824275239456415, 0.9354932064165071, 0.01959334590742875, 0.033486809369060046, 0.01080602713682434, 0.0005937377547705681, 0.0027820934061352797, 0.0027820934061352797, 0.9932073459902949, 0.0027820934061352797, 0.00668621267885074, 0.0027859219495211416, 0.022287375596169133, 0.021730191206264904, 0.946656278447284, 0.35817878593990843, 0.20948407965411764, 0.06947356956380213, 0.14373230845980492, 0.21905441831851896, 0.991841602492778, 0.024067458998878, 0.1930115829517863, 0.640855084715222, 0.0655956235459616, 0.07644957564349482, 0.007734295818280422, 0.003867147909140211, 0.9822555689216136, 0.003867147909140211, 0.8668773759569496, 0.015954798330496005, 0.01063653222033067, 0.007445572554231469, 0.09891974964907523, 0.9910464457337802, 0.009911298462845847, 0.219634373936664, 0.5066655774206797, 0.12091784124671934, 0.1427226978649802, 0.006096657384338769, 0.024386629537355077, 0.9287241415476059, 0.039628272998202, 0.0010161095640564615, 0.03253156535770522, 0.9623921418321127, 0.002710963779808768, 0.9909729266398108, 0.0021440312563579694, 0.0021440312563579694, 0.0021440312563579694, 0.9948305029500978, 0.9863940733251737, 0.9924175497021867, 0.6411941939675765, 0.00538999826805293, 0.3020555029416862, 0.04419798579803402, 0.007114797713829868, 0.004609228901046041, 0.08066150576830572, 0.004609228901046041, 0.004609228901046041, 0.903408864605024, 0.007869618783320376, 0.007869618783320376, 0.9837023479150468, 0.05968763331291869, 0.36159313127328335, 0.18178723174971917, 0.055477302332339364, 0.3415321424834642, 0.17165104001938214, 0.5580634526228669, 0.09665249629083995, 0.16457794237585788, 0.00904882324227406, 0.0011499036816955122, 0.004599614726782049, 0.8681772796801118, 0.008049325771868586, 0.11844007921463777, 0.043732111054089216, 0.319140286620913, 0.09423228691416843, 0.13796439796825766, 0.4050426476200168, 0.0008806364754858504, 0.0035225459019434017, 0.0008806364754858504, 0.0008806364754858504, 0.9942385808235251, 0.0037082589482802333, 0.012978906318980818, 0.9613661323416505, 0.012051841581910758, 0.009270647370700583, 0.5987937699655314, 0.039120454644432534, 0.060553642950874335, 0.2961884213837011, 0.0053420104593563155, 0.0049654099310683895, 0.9688756127997196, 0.004344733689684841, 0.00931014362075323, 0.012413524827670974, 0.7413711066364915, 0.014599527075934753, 0.002492602183696177, 0.23181200308374447, 0.009970408734784709, 0.008815166249550711, 0.0022037915623876777, 0.0022037915623876777, 0.0044075831247753555, 0.9828910368249043, 0.9900784570210969, 0.24251092553824097, 0.1205407940298133, 0.5300459816528351, 0.0764695551058697, 0.03049253287710692, 0.7359681306018759, 0.036617133591521904, 0.10495703143312467, 0.11619595362458189, 0.006344552850016172, 0.08131220841670862, 0.03943467618492736, 0.5866344306802026, 0.03140814917383595, 0.26138559701336805, 0.027410046007829512, 0.033616094160545625, 0.8305761111051735, 0.10446847723738795, 0.0036201947557510674, 0.003379143623805207, 0.003379143623805207, 0.013516574495220828, 0.9765725072797049, 0.975586990890951, 0.009627503199581755, 0.012836670932775672, 0.003209167733193918, 0.003464063361852542, 0.003464063361852542, 0.9907221214898271, 0.0023135301124228434, 0.9786232375548627, 0.011567650562114217, 0.00694059033726853, 0.0023135301124228434, 0.9814600860381493, 0.9967186771549812, 0.9899633361877476, 0.2649273307878598, 0.31879475732961665, 0.29823829606746005, 0.056309778374884406, 0.06173722689294556, 0.017268557372912677, 0.034537114745825354, 0.029827508189576444, 0.12244977046247171, 0.7959235080060661, 0.007483969327757897, 0.0024946564425859657, 0.0024946564425859657, 0.9878839512640424, 0.9929314517175706, 0.9912476417963154, 0.011508699429441577, 0.1738328928745504, 0.11611762409406726, 0.5587731230443799, 0.1398221094860514, 0.006814350516334007, 0.004542900344222671, 0.9721806736636517, 0.01590015120477935, 0.0022714501721113355, 0.9972154512384508, 0.008397973471206749, 0.008397973471206749, 0.9909608696023963, 0.14116427992651492, 0.039254238268335705, 0.11776271480500711, 0.08454759011641537, 0.6174993635288194, 0.9867711030833191, 0.9912591430913003, 0.2860811208290647, 0.28817486156700195, 0.1260051244104064, 0.03197713127031461, 0.2678084743888849, 0.011073590735461325, 0.7228593952315032, 0.22854660879021568, 0.029529575294563536, 0.007997593308944291, 0.9876089348478725, 0.010585756160900087, 0.9668323960288746, 0.007057170773933391, 0.010585756160900087, 0.005292878080450043, 0.9908855519823696, 0.7333525463348768, 0.015559685516876224, 0.002866257858371936, 0.23175742111978798, 0.01678808174189277, 0.9905331461828261, 0.9963263501691917, 0.994150927021843, 0.9917392472871919, 0.004149536599527999, 0.004149536599527999, 0.004149536599527999, 0.02081445545614656, 0.9782794064388883, 0.1640694873987261, 0.00015376709221998698, 0.0006150683688799479, 0.8348015436623093, 0.00030753418443997397, 0.9891367717450779, 0.6556255080014564, 0.09233473994953446, 0.15516144660302722, 0.08891493476621838, 0.007914406281388668, 0.3415730421894666, 0.019977571444012035, 0.1774095203234547, 0.45687837302392736, 0.00434295031391566, 0.004447541248137537, 0.9754940470914997, 0.001482513749379179, 0.0007412568746895895, 0.017790164992550147, 0.9860205044920707, 0.4931243959271096, 0.00982972217794903, 0.0650707129592355, 0.42815607590722776, 0.0037885387560845215, 0.9919768815248934, 0.0057561521171657255, 0.9000356414358139, 0.008057615411242738, 0.042705361679586516, 0.045122646302959334, 0.004028807705621369, 0.9907110604480052, 0.020098785937192283, 0.30011266195044606, 0.34266513244962427, 0.13954143479009792, 0.19753765906117865, 0.002735871000435628, 0.1577685610251212, 0.14272127052272526, 0.07158862451139894, 0.625146523599541, 0.9793497518750062, 0.006120935949218789, 0.006120935949218789, 0.012241871898437577, 0.0033696177055684054, 0.0026956941644547244, 0.0006739235411136811, 0.9926893760604523, 0.0006739235411136811, 0.9815468870396764, 0.0010544200925868804, 0.023724452083204808, 0.9468692431430186, 0.010016990879575364, 0.018452351620270407, 0.13863861782142664, 0.17071723417904397, 0.6430472060653406, 0.01732982722767833, 0.030603737444623434, 0.0017913488843158164, 0.005536896551521614, 0.2392265010054486, 0.009445294117301578, 0.7440611865853605, 0.9929896364045263, 0.7180122870262279, 0.06536475492173434, 0.02700046204694729, 0.07500128346374246, 0.11454741474462486, 0.47692821040609323, 0.24927723877231164, 0.11928956926944494, 0.1450570364983318, 0.009432733539146079, 0.836796277277414, 0.026792791039185353, 0.04066762925590634, 0.08468435739171085, 0.011004182033951128, 0.9879813599198001, 0.9891147256888918, 0.9825318047843752, 0.01103968319982444, 0.9833147406616927, 0.0050206701520634995, 0.4970463450542864, 0.008367783586772499, 0.02719529665701062, 0.4623200431691806, 0.020210282912325954, 0.03637850924218672, 0.9397781554231569, 0.004042056582465191, 0.3834419149517301, 0.011708150074861989, 0.01219598966131457, 0.5619912035933754, 0.030733893946512717, 0.9966915203745734, 0.9912779823128216, 0.20098336972116923, 0.0714052717270241, 0.4291806367089316, 0.25541116425435545, 0.04294303054911939, 0.9920625653973233, 0.70941245311853, 0.0069736702272599005, 0.003169850103299955, 0.27184634485900416, 0.008621992280975878, 0.9809522174304802, 0.012261902717881003, 0.2577305235139602, 0.454328624072475, 0.023887219252513386, 0.11047838904287441, 0.15353824480069458, 0.019362372272051846, 0.06688819512163365, 0.05984733247725116, 0.84842394864809, 0.0035204313221912447, 0.004347417621404574, 0.004347417621404574, 0.008694835242809148, 0.9868638000588382, 0.006468066172184813, 0.970209925827722, 0.021021215059600643, 0.0032340330860924065, 0.0016170165430462033, 0.7316027603947289, 0.1693411287059252, 0.031168584558916666, 0.06601849800274474, 0.0019633754052860893, 0.9914062072604654, 0.9842844588126439, 0.1109563379843694, 0.017414671880954836, 0.7276845035970414, 0.012439051343539169, 0.1316051632146444, 0.00378669544866296, 0.00757339089732592, 0.07384056124892772, 0.00568004317299444, 0.9107002554034419, 0.2502522123915334, 0.008937579013983335, 0.08179238976433234, 0.017062650844877278, 0.6421515103683179, 0.004096486342162278, 0.004096486342162278, 0.9872532084611092, 0.9908129173787285, 0.9939572427128719, 0.7386473022371494, 0.10180367638991614, 0.05797787848214955, 0.09701022974375417, 0.004336927917956069, 0.004157358185428763, 0.9561923826486156, 0.023558363050762993, 0.004157358185428763, 0.011086288494476702, 0.9912293230072403, 0.3574735200857391, 0.14536467648944426, 0.14273522801511002, 0.21066264693541106, 0.1437870074048437, 0.9934451822456888, 0.987081818685387, 0.19164728920411916, 0.2856553279084555, 0.3732078789764426, 0.13496003839742707, 0.014524847181785873, 0.2912169517260329, 0.41375175039226264, 0.0655835342440432, 0.17720584087132205, 0.052282237977660274, 0.4410197583514064, 0.1857620106804085, 0.2846779239818037, 0.06713835106824917, 0.021310768737955496, 0.9930013851975666, 0.13402413769161686, 0.02418972241263329, 0.1876337927682636, 0.02418972241263329, 0.6302403352913105, 0.007449578748351082, 0.9833443947823428, 0.007449578748351082, 0.08556510897482277, 0.002193977153200584, 0.037297611604409926, 0.8742998955504326, 0.001096988576600292, 0.007836596562125778, 0.0011195137945893968, 0.0022390275891787936, 0.9862916530332586, 0.0033585413837681904, 0.09323928556838497, 0.0024113608336651287, 0.02290792791981872, 0.8210683638629762, 0.06028402084162821, 0.996529858283285, 0.9969363038259831, 0.017167048729083364, 0.0017167048729083362, 0.0017167048729083362, 0.9613547288286682, 0.017167048729083364, 0.00655510974020562, 0.00655510974020562, 0.9898215707710486, 0.00842912949361962, 0.01264369424042943, 0.00842912949361962, 0.00421456474680981, 0.9651353270194465, 0.9545926574554818, 0.0029831020545483806, 0.03878032670912895, 0.9428063039872594, 0.019610371122934997, 0.0030169801727592304, 0.022627351295694226, 0.012067920691036921, 0.932316612501685, 0.027792636145036676, 0.00926421204834556, 0.027792636145036676, 0.003368804381216567, 0.9948882721744277, 0.11839619991768938, 0.03341242451664853, 0.6479104928010977, 0.07844656190865308, 0.12166480666388325, 0.0014306832201583589, 0.003576708050395897, 0.10873192473203527, 0.016452857031821127, 0.8700938450596418, 0.006368536647574225, 0.010348872052308116, 0.9505040946504532, 0.009552804971361338, 0.023085945347456567, 0.9911755715478388, 0.9931481137603784, 0.0059115959152403474, 0.005482567065383433, 0.013706417663458582, 0.05208438712114261, 0.0027412835326917164, 0.9265538340498002, 0.0014948974722783738, 0.0852091559198673, 0.01195917977822699, 0.8864742010610757, 0.014948974722783738, 0.07276679251870408, 0.8019506925498845, 0.01819169812967602, 0.008337861642768176, 0.09929635229114828, 0.0009013627720260887, 0.7427229241494971, 0.02478747623071744, 0.011717716036339153, 0.21993251637436567, 0.030851907037399037, 0.08798506821776762, 0.07998642565251603, 0.7667270230405464, 0.03427989670822115, 0.0037686705956164767, 0.9873916960515169, 0.0037686705956164767, 0.0037686705956164767, 0.00572989355233664, 0.01718968065700992, 0.9798117974495654, 0.010737482555141864, 0.10737482555141864, 0.014316643406855819, 0.004473951064642444, 0.86436734568892, 0.9919252100249293, 0.0016667727792829704, 0.018334500572112673, 0.9767288486598207, 0.0033335455585659407, 0.0016667727792829704, 0.002115676534281053, 0.002115676534281053, 0.9605171465635981, 0.002115676534281053, 0.03385082454849685, 0.9520608046939402, 0.018586870373634407, 0.0061956234578781355, 0.018586870373634407, 0.0061956234578781355, 0.005970969612417369, 0.01857634990529848, 0.1525914456506661, 0.08823766205016778, 0.7350927033953828, 0.002685211569132194, 0.13123971544133597, 0.07988504418168277, 0.7532018451415804, 0.0332294931680109, 0.39189590430042665, 0.25023656226975294, 0.19009496137170045, 0.1526018900078934, 0.015099019689496956, 0.14764839928988963, 0.03189205424661616, 0.018898995109105872, 0.01181187194319117, 0.7902142329994893, 0.0016527549233198964, 0.0016527549233198964, 0.9949584638385777, 0.019264830974842873, 0.11810178988925414, 0.8091229009434007, 0.01507682424118138, 0.03936726329641805, 0.004022589262610137, 0.9915682532333987, 0.004022589262610137, 0.9975863408700737, 0.0018337984207170471, 0.006819045202143522, 0.9512568056990213, 0.023866658207502327, 0.013638090404287043, 0.006819045202143522, 0.9841345768191765, 0.9894408079511159, 0.8963455522503156, 0.046212367966212774, 0.03662112178454597, 0.013950903536969895, 0.007847383239545565, 0.9778631666768567, 0.002066756191004171, 0.008267024764016685, 0.9321070421428812, 0.002066756191004171, 0.05580241715711262, 0.0024923389585574805, 0.9595504990446301, 0.01827715236275486, 0.01578481340419738, 0.003323118611409974, 0.12762679232735358, 0.0007031779191589729, 0.16243409932572275, 0.7088033425122447, 0.00035158895957948646, 0.3076956076350495, 0.608643504576348, 0.011696031869168549, 0.03576286667688076, 0.03621271405646416, 0.6016123883812743, 0.23830101098219308, 0.046760506377529196, 0.08866739057409966, 0.024741635020009117, 0.03441148145620094, 0.6890489501110711, 0.09749919745923598, 0.06854985591671774, 0.1103352262563903, 0.009151948314055622, 0.9884104179180072, 0.9702789993129497, 0.012230407554364912, 0.008153605036243274, 0.008153605036243274, 0.004076802518121637, 0.5418643879212613, 0.21245872385168035, 0.12748546588933, 0.10185536219328091, 0.016319367423232853, 0.15168129330737665, 0.19164522687339205, 0.575238437692646, 0.0442025325805928, 0.03723911991378708, 0.048877177844405185, 0.004443379804036835, 0.0003417984464643719, 0.9426801153487377, 0.003417984464643719, 0.9958686643586361, 0.8891464555369051, 0.025318359496465926, 0.009440744219021193, 0.057931839525811865, 0.018023238963585913, 0.5590884452485226, 0.22991469845551998, 0.11315858558408239, 0.07881855238660074, 0.01913230421002549, 0.9870914313421959, 0.01594447601316616, 0.935741436022689, 0.000996529750822885, 0.039861190032915404, 0.00797223800658308, 0.27228616553631374, 0.5384040360604779, 0.010684368146044673, 0.11675701272997271, 0.061903246371928934, 0.1597444549039941, 0.8393352715294605, 0.9891335622038671, 0.9901401781624957, 0.8940968128210933, 0.04222932829285294, 0.007280918671181542, 0.05533498190097971, 0.0014561837342363083, 0.3917190399662384, 0.30762062147706076, 0.004731139501687375, 0.1823902554834174, 0.11354734804049701, 0.016481992865047104, 0.9265234560565766, 0.0011772852046462218, 0.0011772852046462218, 0.0541551194137262, 0.9846099071519798, 0.08026890400388291, 0.7412428829040738, 0.09038029695010848, 0.0759132270424319, 0.012289231426951066, 0.1842400199742773, 0.7664742578541537, 0.00581339868850875, 0.017887380580026924, 0.025936701841039037, 0.4488660617522034, 0.3993512130417312, 0.08081058394884186, 0.0336465885896087, 0.037466725285372135, 0.004531654507882459, 0.004531654507882459, 0.9833690282104935, 0.004531654507882459, 0.014883706787703921, 0.303073127431971, 0.33994191744857094, 0.10311587709128207, 0.23896618120257962, 0.9924560025314798, 0.9912187435776209, 0.02037522703729554, 0.004527828230510121, 0.0022639141152550604, 0.93952435783085, 0.033958711728825905, 0.9922700224186188, 0.0037025000836515627, 0.9919799186177648, 0.4570543092200264, 0.12439322644776482, 0.28714859754821626, 0.10123974269288889, 0.03019032685684803, 0.8660736864453212, 0.00854677980044725, 0.01994248620104358, 0.04368354120228594, 0.06172674300323013, 0.9932736942715403, 0.3524009203431535, 0.4543827779463594, 0.10225674131642208, 0.08246511396485652, 0.00852139510970184, 0.36634174970209765, 0.03676133682715906, 0.05433279342378855, 0.3220663031461168, 0.22045241927481865, 0.996452631372947, 0.0033550593648920776, 0.11967729197569667, 0.07727414889806056, 0.17630780542806596, 0.1919300160356161, 0.4349111845923336, 0.01194863420326368, 0.9797880046676218, 0.9879394949504914, 0.006496465543438577, 0.014292224195564869, 0.003897879326063146, 0.9056072967553377, 0.06886253476044892, 0.9814238925339368, 0.0074069727738410324, 0.0074069727738410324, 0.0037034863869205162, 0.9933374983003788, 0.9924560025314798, 0.2654299362985862, 0.010139513695616621, 0.02546144550232618, 0.6879096736159453, 0.010815481275324395, 0.9894979367970371, 0.16216313785997558, 0.047851417729173125, 0.7591665400048974, 0.023925708864586562, 0.0068359168184533034, 0.9774993792026015, 0.011636897371459542, 0.005818448685729771, 0.005818448685729771, 0.016584014582054787, 0.9679033965162885, 0.003015275378555416, 0.009045826135666249, 0.003015275378555416, 0.993559933659801, 0.9487419301101877, 0.023600545525129045, 0.016520381867590334, 0.009440218210051619, 0.0023600545525129047, 0.9924560025314798, 0.009935056698293717, 0.024837641745734294, 0.9413466221633298, 0.004967528349146859, 0.017386349222014007, 0.058064192915150706, 0.6091646905835109, 0.25942130635774935, 0.009507587144001284, 0.06383665653829435, 0.009329158940587225, 0.9795616887616585, 0.003109719646862408, 0.006219439293724816, 0.3600545822005406, 0.24996149852921412, 0.17425101438047555, 0.19102972294749843, 0.024755471656263295, 0.0080343975925776, 0.0080343975925776, 0.012051596388866399, 0.9721621087018896, 0.9977545934248679, 0.00393031757249629, 0.00393031757249629, 0.9865097106965687, 0.00393031757249629, 0.00393031757249629, 0.9868895242086654, 0.009468786724355928, 0.9847538193330164, 0.1699860278691175, 0.5487676790112607, 0.01086668671309427, 0.088929415754098, 0.18140713737369618, 0.008622222514229241, 0.1970793717538112, 0.00123174607346132, 0.7920127252356288, 0.001742555607083881, 0.03310855653459374, 0.005227666821251643, 0.9479502502536312, 0.012197889249587167, 0.7861860006077124, 0.011903320845538544, 0.16948061584838212, 0.009636021636864535, 0.022672992086740083, 0.985846036859179, 0.0041437260767351585, 0.0041437260767351585, 0.02071863038367579, 0.9696319019560271, 0.9783688129235918, 0.009407392431957614, 0.9960019426379879, 0.9942353294783065, 0.0050856027083289335, 0.13667680352554293, 0.16414616109685304, 0.058288636797658014, 0.6378250831192004, 0.0026799373240302534, 0.9927766678666462, 0.9885483854977561, 0.9332434129336779, 0.017967930354032303, 0.018512413092033282, 0.02559068868604601, 0.004355861904007831, 0.01117727821483693, 0.017195812638210663, 0.32414106823027095, 0.002579371895731599, 0.6439831833009892, 0.9069224818471907, 0.07369149175379881, 0.005817749348984117, 0.0038784995659894113, 0.009696248914973529, 0.983875710100618, 0.7644236514616042, 0.004472691577700875, 0.016264333009821365, 0.17443497153033413, 0.040660832524553416, 0.9718481143743504, 0.007307128679506393, 0.0036535643397531967, 0.018267821698765983, 0.00882484015284222, 0.0012033872935693936, 0.007621452859272826, 0.8415688473028626, 0.14079631334761905, 0.9884761187325435, 0.9811856632858452, 0.012221001202077166, 0.018331501803115748, 0.0030552503005192915, 0.9624038446635768, 0.9893144890216018, 0.008959705598361477, 0.005973137065574318, 0.2727732593278938, 0.115978411356568, 0.5963181837131694, 0.003255101862670269, 0.003255101862670269, 0.006510203725340538, 0.003255101862670269, 0.9830407625264211, 0.32246619837039775, 0.05467558066428774, 0.09019475350459144, 0.046294652241294726, 0.4860938485335946, 0.005272128282409543, 0.0026360641412047714, 0.007908192423614315, 0.9832519246693798, 0.007363845876869062, 0.003681922938434531, 0.9793915016235851, 0.007363845876869062, 0.9964862714234782, 0.23717182737542886, 0.45666979261470797, 0.08024503534397022, 0.17132243780364512, 0.05458942901730123, 0.016369917192720067, 0.9588094355736039, 0.023385595989600095, 0.0023385595989600097, 0.0042788372236351405, 0.9926902358833526, 0.2763118977045047, 0.008744047395712174, 0.10317975926940366, 0.5482517717111534, 0.06339434361891327, 0.00813795993366385, 0.00813795993366385, 0.9846931519733259, 0.9876673521670113, 0.9846196558571774, 0.3007012100004693, 0.35819924466356456, 0.11874920474806351, 0.12235221475306166, 0.1000585903471357, 0.9071676432136322, 0.026589396439020255, 0.05005062859109695, 0.014076739291246016, 0.0015640821434717797, 0.007916703651124244, 0.003958351825562122, 0.01979175912781061, 0.007916703651124244, 0.9618794936115955, 0.0199651383212987, 0.004697679605011459, 0.1397559682490909, 0.016441878617540106, 0.8185706711732467, 0.9907579729278668, 0.9474337747870968, 0.03575221791649422, 0.0025537298511781586, 0.007661189553534476, 0.005107459702356317, 0.9603652622940517, 0.002794467300564651, 0.013040847402635038, 0.02142424930432899, 0.002794467300564651, 0.3705639108881865, 0.1766494452799436, 0.18864717127079567, 0.22941993114214654, 0.0348226681197901, 0.7597212830523191, 0.03563334941556277, 0.1439039111013112, 0.03334916035046259, 0.027410268781202132, 0.33299540362804775, 0.49787871272894274, 0.09804745077735988, 0.03519376114620931, 0.03583951823146086, 0.022470161831822356, 0.7307833228588195, 0.01274427088969029, 0.03135761389963269, 0.20256683203612988, 0.0052631970258704705, 0.8759463621627283, 0.02932352628699262, 0.024812214550532216, 0.06466213488926578, 0.9752212492214872, 0.0140618947737653, 0.9702707393898057, 0.00703094738688265, 0.00703094738688265, 0.026964818264565028, 0.9105811706264652, 0.031804657440256186, 0.013828111930546168, 0.016939437114919055, 0.9800569186166777, 0.004974908216328313, 0.004974908216328313, 0.004974908216328313, 0.004974908216328313, 0.013602941084672623, 0.03400735271168156, 0.7318382303553871, 0.0652941172064286, 0.15507352836526792, 0.3519453834180044, 0.02215865106583551, 0.2960772950924404, 0.3137570698790113, 0.016029662473157603, 0.004929350936065875, 0.9710821344049774, 0.024646754680329376, 0.03104383683745594, 0.9662394215658161, 0.00827994382039329, 0.004139971910196645, 0.936668644681991, 0.005174964887745806, 0.046574683989712255, 0.02003721521598444, 0.6815643802571424, 0.003289692050385505, 0.002691566223042686, 0.29248352957063856, 0.9971970642722734, 0.9911900189422951, 0.0030592083809900168, 0.03059208380990017, 0.9605914316308654, 0.0030592083809900168, 0.0030592083809900168, 0.0040241066910822396, 0.0040241066910822396, 0.0040241066910822396, 0.9778579259329843, 0.012072320073246719, 0.24271451093521867, 0.1939036274269531, 0.1181031965670583, 0.37211120603948356, 0.07312061764767629, 0.138517505584168, 0.7762751875446081, 0.05273109587579123, 0.009706719141314803, 0.02282390717011859, 0.003288135086162897, 0.013152540344651588, 0.026305080689303175, 0.9535591749872401, 0.003288135086162897, 0.49157433934809386, 0.37480023588842654, 0.08509678809452942, 0.020590254987339608, 0.02807762043728128, 0.009944420075520488, 0.773987393829667, 0.05163909701866663, 0.009505108345276611, 0.15491729105599988, 0.00531014000710093, 0.00531014000710093, 0.9876860413207729, 0.00531014000710093, 0.9344334374788801, 0.01425061887222693, 0.04071605392064837, 0.010179013480162093, 0.0020358026960324185, 0.0066923621401191735, 0.1650782661229396, 0.014500117970258209, 0.03234641701057601, 0.7818909767039234, 0.992667939544587, 0.9951520862464185, 0.962484483812127, 0.0245890196594339, 0.01053815128261453, 0.003512717094204843, 0.9867437914498305, 0.009732583380149845, 0.9635257546348347, 0.014598875070224768, 0.009732583380149845, 0.9914176716341436, 0.005676055371951204, 0.39584790147568005, 0.22515490675224722, 0.25027360831689954, 0.07455687328053623, 0.0543477361126114, 0.012822408671476769, 0.6784562705878444, 0.228540578085733, 0.02375916900891284, 0.05656945002122104, 0.018336031111296506, 0.007130678765504197, 0.06213877209939372, 0.0325973886423049, 0.8811481617373044, 0.9785754038582513, 0.01208117782541051, 0.9784622652119469, 0.0038072461681398716, 0.011421738504419614, 0.0038072461681398716, 0.0038072461681398716, 0.9846868465630481, 0.0018906530612058966, 0.0018906530612058966, 0.9907022040718898, 0.00567195918361769, 0.0018906530612058966, 0.9886602197771671, 0.9961163984711345, 0.00384719727362881, 0.8513847566540556, 0.0007694394547257619, 0.0011541591820886429, 0.14273101885162884, 0.010417901081525191, 0.9844916522041305, 0.0055391629910628735, 0.1737282938106083, 0.7623902516790173, 0.04078838202509934, 0.017624609517018233, 0.005719432409930598, 0.005719432409930598, 0.005719432409930598, 0.9837423745080629, 0.5826595742815787, 0.18787612089455658, 0.10550903709880691, 0.08328058195244932, 0.04080291766591666, 0.3659429653403664, 0.34986776674575837, 0.13960416912828505, 0.1358890121197534, 0.008644884577544774, 0.01875533302684529, 0.9711094656122116, 0.006251777675615096, 0.004167851783743398, 0.30060691363352243, 0.3928031202370721, 0.08671171431328721, 0.10798776199102944, 0.11195929089087465, 0.15846488523160443, 0.22486390404343867, 0.13865677457765388, 0.11271093949571864, 0.36519460346508836, 0.002777089944619447, 0.994198200173762, 0.002777089944619447, 0.10989079473097228, 0.0030525220758603412, 0.010683827265511193, 0.8623374864305463, 0.012210088303441365, 0.9906299550511569, 0.9629586633702157, 0.006781399037818421, 0.023734896632364475, 0.006781399037818421, 0.9572733268431521, 0.0008806562344463221, 0.03786821808119185, 0.0035226249377852885, 0.0008806562344463221, 0.0026852951387163135, 0.00402794270807447, 0.9223988801490537, 0.05773384548240074, 0.013426475693581567, 0.006562831004192231, 0.9275467819258352, 0.015313272343115204, 0.050315037698807095, 0.0021876103347307435, 0.8096295187463538, 0.04229656473911433, 0.021980891911665714, 0.12256012459837852, 0.0036634819852776187, 0.205206433420659, 0.22399686839390157, 0.3964595735443557, 0.1408352403440062, 0.03348790391270954, 0.01065062784717469, 0.18908511904025205, 0.028742105286211152, 0.08257884056850513, 0.6889351327994369, 0.026450161233653333, 0.35844528844226753, 0.21464153828688795, 0.031618583543677546, 0.3690861579040821, 0.00584527790971547, 0.7236215469455927, 0.19432566765156123, 0.036741746861068666, 0.039366157351145, 0.9934032856237116, 0.9917104788003711, 0.03579612798043139, 0.9527277139407125, 0.005507096612374061, 0.0027535483061870304, 0.009754785640181094, 0.9789214295381733, 0.00229524368004261, 0.0005738109200106525, 0.008607163800159788, 0.0034877233315294834, 0.9928385750420596, 0.0011625744438431612, 0.0005812872219215806, 0.0017438616657647417, 0.022193110537084487, 0.0007652796736925684, 0.0015305593473851368, 0.9742010246106396, 0.0007652796736925684, 0.98901666973078, 0.14689318411193228, 0.0023982560671335883, 0.027579944772036263, 0.1618822845315172, 0.6613191105120869, 0.017845408101446327, 0.008922704050723164, 0.004461352025361582, 0.9681133895034634, 0.46000445466697687, 0.20171147386717334, 0.05636839391216835, 0.25701430267703224, 0.024721110373578558, 0.06711939012163078, 0.9081664418498205, 0.009588484303090112, 0.0013697834718700158, 0.012328051246830143, 0.08504199025220137, 0.8328568827960156, 0.010168064051893641, 0.009551817745718269, 0.06224087692371259, 0.49051764019883953, 0.028134113622515746, 0.023339959731683464, 0.4183530079473642, 0.039614850571614096, 0.9937815506717684, 0.93649471820388, 0.009483490817254482, 0.0023708727043136204, 0.04978832679058603, 0.0023708727043136204, 0.9872945363079385, 0.006731609347300487, 0.0033658046736502437, 0.006731609347300487, 0.9794491600322209, 0.006731609347300487, 0.8886769701467966, 0.03169803205619147, 0.003396217720306229, 0.02830181433588524, 0.047547048084287204, 0.006603241543242631, 0.9904862314863946, 0.2122094201499196, 0.22443910088700578, 0.39849191713721643, 0.15565937642163302, 0.009196719914288816, 0.0034846317351061046, 0.0034846317351061046, 0.9722122540946032, 0.0034846317351061046, 0.01742315867553052, 0.9871866666546402, 0.004815544715388489, 0.004815544715388489, 0.567058233911249, 0.27611428326189086, 0.08603561000189353, 0.019655194077039972, 0.05119766121863705, 0.9864108794227792, 0.9857417721840939, 0.9887753902168714, 0.9838753487842842, 0.013515526606592637, 0.0019307895152275197, 0.0019307895152275197, 0.005792368545682559, 0.976979494705125, 0.46613526702154073, 0.21912802064260237, 0.1288909131868288, 0.0546809934732001, 0.13118051143570664, 0.08100492149009482, 0.07677857776017684, 0.7311574652758124, 0.07290442934108535, 0.038037093569261916, 0.0020978283767915475, 0.0020978283767915475, 0.0020978283767915475, 0.004195656753583095, 0.988077165468819, 0.3494116301273653, 0.0706506755473407, 0.45304511441829215, 0.08920350546560789, 0.03766786680375459, 0.0436348931285209, 0.39688781054289446, 0.5103385326770488, 0.011383015598744583, 0.03718451762256564, 0.9867514132905112, 0.6015900669344946, 0.253844335865618, 0.066224232998407, 0.02749447466554553, 0.05096982346636015, 0.9842095409560926], \"Term\": [\"accenture\", \"affordable\", \"affordable\", \"affordable\", \"affordable\", \"affordable\", \"agrees\", \"ai\", \"ai\", \"ai\", \"ai\", \"ai\", \"airdrops\", \"akk\", \"aleister\", \"allegation\", \"allegation\", \"allegation\", \"allegation\", \"allegation\", \"also\", \"also\", \"also\", \"also\", \"also\", \"amc\", \"amc\", \"amc\", \"amc\", \"amc\", \"angeles\", \"angeles\", \"angeles\", \"animal\", \"animal\", \"animal\", \"aol\", \"arabian\", \"ark\", \"ark\", \"ark\", \"ark\", \"ark\", \"arkk\", \"arkk\", \"artificial\", \"artificial\", \"artificial\", \"artificial\", \"artistically\", \"artistontwitter\", \"asleep\", \"attendant\", \"attendant\", \"attendant\", \"attendant\", \"august\", \"august\", \"august\", \"august\", \"aura\", \"autopilot\", \"autopilot\", \"autopilot\", \"autopilot\", \"autopilot\", \"avatar\", \"avatar\", \"aws\", \"aws\", \"back\", \"back\", \"back\", \"back\", \"back\", \"banking\", \"banking\", \"bankrupt\", \"bankrupt\", \"bankrupt\", \"bankrupt\", \"bankrupt\", \"batch\", \"batch\", \"battery\", \"battery\", \"battery\", \"battery\", \"battery\", \"beach\", \"beach\", \"beach\", \"beach\", \"beta\", \"beta\", \"beta\", \"beta\", \"beta\", \"big\", \"big\", \"big\", \"big\", \"big\", \"bigbrainholdingsvc\", \"bitcoin\", \"bitcoin\", \"bitcoin\", \"bitcoin\", \"bitcoin\", \"bluetooth\", \"bluetooth\", \"bluetooth\", \"bluetooth\", \"bmw\", \"bmw\", \"bmw\", \"bmw\", \"bmw\", \"bolsonaro\", \"bot\", \"bot\", \"bot\", \"bot\", \"bot\", \"boycotttesla\", \"boycotttesla\", \"boycotttesla\", \"boycotttesla\", \"boycotttesla\", \"brazil\", \"brazil\", \"brazil\", \"bridgewater\", \"british\", \"british\", \"british\", \"british\", \"btcusd\", \"buggy\", \"build\", \"build\", \"build\", \"build\", \"build\", \"bullish\", \"bullish\", \"bullish\", \"bullish\", \"bullish\", \"busd\", \"busd\", \"busd\", \"business\", \"business\", \"business\", \"business\", \"business\", \"buy\", \"buy\", \"buy\", \"buy\", \"buy\", \"c\", \"c\", \"c\", \"c\", \"c\", \"call\", \"call\", \"call\", \"call\", \"call\", \"canada\", \"canada\", \"canada\", \"canada\", \"canada\", \"cancel\", \"cancel\", \"cancel\", \"cancel\", \"cancel\", \"car\", \"car\", \"car\", \"car\", \"car\", \"cash\", \"cash\", \"cash\", \"cash\", \"cash\", \"catch\", \"catch\", \"catch\", \"catch\", \"catch\", \"cathie\", \"cathie\", \"cathie\", \"cathie\", \"cathie\", \"challenger\", \"change\", \"change\", \"change\", \"change\", \"change\", \"charge\", \"charge\", \"charge\", \"charge\", \"charge\", \"claim\", \"claim\", \"claim\", \"claim\", \"claim\", \"climate\", \"climate\", \"climate\", \"climate\", \"climate\", \"climatechange\", \"climatechange\", \"climatechange\", \"climatechange\", \"cobalt\", \"cobalt\", \"cobalt\", \"cobalt\", \"cod\", \"cod\", \"cod\", \"collateral\", \"collateral\", \"collateral\", \"collateral\", \"collateral\", \"collectible\", \"columbia\", \"combustible\", \"company\", \"company\", \"company\", \"company\", \"company\", \"condition\", \"condition\", \"condition\", \"condition\", \"condition\", \"conduct\", \"conduct\", \"conduct\", \"conduct\", \"constraint\", \"coo\", \"crash\", \"crash\", \"crash\", \"crash\", \"crash\", \"criticism\", \"criticism\", \"criticism\", \"criticism\", \"criticism\", \"crowleycheck\", \"cryptoforacause\", \"cryptoforacause\", \"cryptoforacause\", \"cut\", \"cut\", \"cut\", \"cut\", \"cut\", \"dabba\", \"dalio\", \"day\", \"day\", \"day\", \"day\", \"day\", \"deal\", \"deal\", \"deal\", \"deal\", \"deal\", \"dean\", \"debt\", \"debt\", \"debt\", \"debt\", \"debt\", \"default\", \"design\", \"design\", \"design\", \"design\", \"design\", \"digitaltransformation\", \"dim\", \"disconnect\", \"distance\", \"distance\", \"distance\", \"distance\", \"dojo\", \"dojo\", \"door\", \"door\", \"door\", \"door\", \"door\", \"doxed\", \"drive\", \"drive\", \"drive\", \"drive\", \"drive\", \"driver\", \"driver\", \"driver\", \"driver\", \"driver\", \"dual\", \"dual\", \"dual\", \"dual\", \"dual\", \"ebitda\", \"electric\", \"electric\", \"electric\", \"electric\", \"electric\", \"electriccargiveaway\", \"electriccargiveaway\", \"electricity\", \"electricity\", \"electricity\", \"electricity\", \"electricity\", \"ellison\", \"elon\", \"elon\", \"elon\", \"elon\", \"elon\", \"elonmusk\", \"elonmusk\", \"elonmusk\", \"elonmusk\", \"elonmusk\", \"emerald\", \"emerald\", \"emerald\", \"emerald\", \"emergency\", \"emergency\", \"emergency\", \"emergency\", \"emergency\", \"emobility\", \"enter\", \"enter\", \"enter\", \"enter\", \"enter\", \"environment\", \"environment\", \"environment\", \"environment\", \"environment\", \"esg\", \"esg\", \"esg\", \"esg\", \"esg\", \"estimating\", \"ev\", \"ev\", \"ev\", \"ev\", \"ev\", \"even\", \"even\", \"even\", \"even\", \"even\", \"evs\", \"evs\", \"evs\", \"evs\", \"evs\", \"explodes\", \"explores\", \"extinguish\", \"extinguish\", \"fakefrivolouscases\", \"fall\", \"fall\", \"fall\", \"fall\", \"fall\", \"fatal\", \"fatal\", \"fatal\", \"fatal\", \"feature\", \"feature\", \"feature\", \"feature\", \"feature\", \"festival\", \"fighter\", \"find\", \"find\", \"find\", \"find\", \"find\", \"fintwit\", \"fire\", \"fire\", \"fire\", \"fire\", \"fire\", \"fireman\", \"fireman\", \"first\", \"first\", \"first\", \"first\", \"first\", \"flag\", \"flag\", \"flag\", \"flag\", \"flag\", \"floki\", \"floki\", \"floki\", \"floki\", \"florida\", \"florida\", \"florida\", \"florida\", \"florida\", \"ford\", \"ford\", \"ford\", \"ford\", \"ford\", \"fortunately\", \"fraught\", \"free\", \"free\", \"free\", \"free\", \"free\", \"fremont\", \"fremont\", \"fremont\", \"fremont\", \"fremont\", \"fsd\", \"fsd\", \"fsd\", \"fsd\", \"fsd\", \"fury\", \"fury\", \"fury\", \"galaxyheroes\", \"galaxyheroescoin\", \"gas\", \"gas\", \"gas\", \"gas\", \"gas\", \"gate\", \"gate\", \"gate\", \"gate\", \"gate\", \"genpact\", \"get\", \"get\", \"get\", \"get\", \"get\", \"ghc\", \"ghcarmy\", \"give\", \"give\", \"give\", \"give\", \"give\", \"go\", \"go\", \"go\", \"go\", \"go\", \"good\", \"good\", \"good\", \"good\", \"good\", \"grill\", \"gt\", \"gt\", \"gt\", \"gt\", \"gt\", \"gym\", \"gym\", \"gym\", \"hack\", \"hack\", \"hack\", \"hack\", \"hack\", \"hacker\", \"hacker\", \"hacker\", \"hacker\", \"hacker\", \"handle\", \"handle\", \"handle\", \"handle\", \"handle\", \"harassed\", \"heatwave\", \"highway\", \"highway\", \"highway\", \"highway\", \"highway\", \"hohoho\", \"hohoho\", \"hohoho\", \"host\", \"host\", \"host\", \"host\", \"host\", \"hydrogen\", \"hydrogen\", \"hydrogen\", \"hyundai\", \"hyundai\", \"hyundai\", \"hyundai\", \"hyundai\", \"ice\", \"ice\", \"ice\", \"ice\", \"ice\", \"ikea\", \"include\", \"include\", \"include\", \"include\", \"include\", \"index\", \"index\", \"index\", \"index\", \"index\", \"information\", \"information\", \"information\", \"information\", \"information\", \"infosys\", \"inspired\", \"inspired\", \"intelligence\", \"intelligence\", \"intelligence\", \"intelligence\", \"intelligence\", \"investigate\", \"investigate\", \"investigate\", \"investigate\", \"investigate\", \"investment\", \"investment\", \"investment\", \"investment\", \"investment\", \"investor\", \"investor\", \"investor\", \"investor\", \"investor\", \"involve\", \"involve\", \"involve\", \"involve\", \"involve\", \"january\", \"january\", \"january\", \"january\", \"jeremy\", \"jeremy\", \"jeremy\", \"join\", \"join\", \"join\", \"join\", \"join\", \"jonathan\", \"judge\", \"judge\", \"judge\", \"judge\", \"judge\", \"justice\", \"justice\", \"justice\", \"justice\", \"justice\", \"kia\", \"kia\", \"kia\", \"kia\", \"kia\", \"kick\", \"kick\", \"kick\", \"kick\", \"kick\", \"kill\", \"kill\", \"kill\", \"kill\", \"kill\", \"know\", \"know\", \"know\", \"know\", \"know\", \"lack\", \"lack\", \"lack\", \"lack\", \"lack\", \"latch\", \"latch\", \"latch\", \"lawsuit\", \"lawsuit\", \"lawsuit\", \"lawsuit\", \"lawsuit\", \"lesson\", \"lesson\", \"lesson\", \"lever\", \"lever\", \"leverage\", \"leverage\", \"leverage\", \"leverage\", \"leverage\", \"liked\", \"linkedin\", \"lithium\", \"lithium\", \"lithium\", \"lithium\", \"lithium\", \"litigate\", \"litigation\", \"litigation\", \"litigation\", \"litigation\", \"litigation\", \"loan\", \"loan\", \"loan\", \"loan\", \"loan\", \"lock\", \"lock\", \"lock\", \"lock\", \"lock\", \"long\", \"long\", \"long\", \"long\", \"long\", \"look\", \"look\", \"look\", \"look\", \"look\", \"lose\", \"lose\", \"lose\", \"lose\", \"lose\", \"loses\", \"loses\", \"maintenance\", \"maintenance\", \"maintenance\", \"maintenance\", \"maintenance\", \"make\", \"make\", \"make\", \"make\", \"make\", \"man\", \"man\", \"man\", \"man\", \"man\", \"manual\", \"manual\", \"manual\", \"manual\", \"manual\", \"manually\", \"manufacturer\", \"manufacturer\", \"manufacturer\", \"manufacturer\", \"manufacturer\", \"many\", \"many\", \"many\", \"many\", \"many\", \"marc\", \"margin\", \"margin\", \"margin\", \"margin\", \"margin\", \"market\", \"market\", \"market\", \"market\", \"market\", \"mechanical\", \"mechanical\", \"mechanically\", \"metaphor\", \"mile\", \"mile\", \"mile\", \"mile\", \"mile\", \"model\", \"model\", \"model\", \"model\", \"model\", \"modely\", \"modely\", \"modely\", \"modely\", \"modely\", \"mojave\", \"money\", \"money\", \"money\", \"money\", \"money\", \"motor\", \"motor\", \"motor\", \"motor\", \"motor\", \"much\", \"much\", \"much\", \"much\", \"much\", \"murder\", \"murder\", \"murder\", \"murder\", \"musk\", \"musk\", \"musk\", \"musk\", \"musk\", \"mysterical\", \"nasscom\", \"national\", \"national\", \"national\", \"national\", \"national\", \"ndas\", \"ndas\", \"neat\", \"need\", \"need\", \"need\", \"need\", \"need\", \"network\", \"network\", \"network\", \"network\", \"network\", \"neuron\", \"never\", \"never\", \"never\", \"never\", \"never\", \"new\", \"new\", \"new\", \"new\", \"new\", \"newport\", \"newport\", \"news\", \"news\", \"news\", \"news\", \"news\", \"nftcommumity\", \"nftcommumity\", \"nftrelease\", \"nhtsa\", \"nhtsa\", \"nhtsa\", \"nhtsa\", \"nhtsa\", \"nicola\", \"nicola\", \"nicola\", \"nicola\", \"observe\", \"occultism\", \"open\", \"open\", \"open\", \"open\", \"open\", \"opt\", \"order\", \"order\", \"order\", \"order\", \"order\", \"outsell\", \"outsell\", \"outsell\", \"outsell\", \"overvalue\", \"overvalue\", \"overvalue\", \"overvalue\", \"overvalue\", \"ozworld\", \"pack\", \"pack\", \"pack\", \"pack\", \"pack\", \"paganism\", \"partnership\", \"partnership\", \"partnership\", \"partnership\", \"partnership\", \"pay\", \"pay\", \"pay\", \"pay\", \"pay\", \"pe\", \"pe\", \"pe\", \"pe\", \"people\", \"people\", \"people\", \"people\", \"people\", \"petrol\", \"petrol\", \"petrol\", \"petrol\", \"peugeot\", \"phony\", \"phony\", \"phony\", \"phony\", \"phony\", \"playtoearn\", \"plummeting\", \"plummeting\", \"price\", \"price\", \"price\", \"price\", \"price\", \"prize\", \"prize\", \"prize\", \"prize\", \"probe\", \"probe\", \"probe\", \"probe\", \"probe\", \"production\", \"production\", \"production\", \"production\", \"production\", \"professor\", \"prompt\", \"prompt\", \"prompt\", \"prompt\", \"prone\", \"prone\", \"pst\", \"psychopath\", \"psychopath\", \"pull\", \"pull\", \"pull\", \"pull\", \"pull\", \"purchasing\", \"purifier\", \"quality\", \"quality\", \"quality\", \"quality\", \"quality\", \"racism\", \"racism\", \"racism\", \"racism\", \"racism\", \"range\", \"range\", \"range\", \"range\", \"range\", \"reassign\", \"recall\", \"recall\", \"recall\", \"recall\", \"recall\", \"recycle\", \"recycle\", \"recycle\", \"recycle\", \"release\", \"release\", \"release\", \"release\", \"release\", \"relinquish\", \"reminds\", \"remotely\", \"remotely\", \"remotely\", \"remotely\", \"removable\", \"remove\", \"remove\", \"remove\", \"remove\", \"remove\", \"renewableenergy\", \"renewableenergy\", \"renewableenergy\", \"renewableenergy\", \"renewableenergy\", \"report\", \"report\", \"report\", \"report\", \"report\", \"researcher\", \"researcher\", \"researcher\", \"researcher\", \"richest\", \"richest\", \"richest\", \"richest\", \"rickman\", \"right\", \"right\", \"right\", \"right\", \"right\", \"rip\", \"rip\", \"rip\", \"rip\", \"roku\", \"roku\", \"safety\", \"safety\", \"safety\", \"safety\", \"safety\", \"santafloki\", \"santafloki\", \"santafloki\", \"sap\", \"saturn\", \"say\", \"say\", \"say\", \"say\", \"say\", \"scale\", \"scale\", \"scale\", \"scale\", \"scale\", \"scandal\", \"scandal\", \"scandal\", \"scandal\", \"scandal\", \"score\", \"score\", \"score\", \"score\", \"score\", \"scottsdale\", \"search\", \"search\", \"search\", \"search\", \"search\", \"seat\", \"seat\", \"seat\", \"seat\", \"seat\", \"see\", \"see\", \"see\", \"see\", \"see\", \"self\", \"self\", \"self\", \"self\", \"self\", \"sell\", \"sell\", \"sell\", \"sell\", \"sell\", \"share\", \"share\", \"share\", \"share\", \"share\", \"shareholder\", \"shareholder\", \"shareholder\", \"shareholder\", \"shareholder\", \"shazaam\", \"sheet\", \"sheet\", \"sheet\", \"sheet\", \"short\", \"short\", \"short\", \"short\", \"short\", \"showroom\", \"showroom\", \"showroom\", \"showroom\", \"showroom\", \"social\", \"social\", \"social\", \"social\", \"social\", \"solar\", \"solar\", \"solar\", \"solar\", \"solar\", \"sony\", \"sony\", \"sony\", \"speaker\", \"speaker\", \"speech\", \"speech\", \"speech\", \"speech\", \"speech\", \"spot\", \"spot\", \"spot\", \"spot\", \"spot\", \"spritual\", \"srinivas\", \"stance\", \"stance\", \"stance\", \"stance\", \"stance\", \"starship\", \"starship\", \"starship\", \"starship\", \"starship\", \"start\", \"start\", \"start\", \"start\", \"start\", \"state\", \"state\", \"state\", \"state\", \"state\", \"sticker\", \"sticker\", \"sticker\", \"sticker\", \"sticker\", \"still\", \"still\", \"still\", \"still\", \"still\", \"stock\", \"stock\", \"stock\", \"stock\", \"stock\", \"stor\", \"stor\", \"stor\", \"stor\", \"storage\", \"storage\", \"storage\", \"storage\", \"storage\", \"strategy\", \"strategy\", \"strategy\", \"strategy\", \"strategy\", \"streak\", \"streetfighters\", \"superior\", \"superior\", \"superior\", \"superior\", \"surprisingly\", \"switzerland\", \"switzerland\", \"switzerland\", \"switzerland\", \"t\", \"t\", \"take\", \"take\", \"take\", \"take\", \"take\", \"tank\", \"tank\", \"tank\", \"tank\", \"tank\", \"target\", \"target\", \"target\", \"target\", \"target\", \"tarpenning\", \"tarpenning\", \"tata\", \"tata\", \"tata\", \"tata\", \"tata\", \"tc\", \"teach\", \"teach\", \"teach\", \"teach\", \"teach\", \"technician\", \"technological\", \"teslaradar\", \"teslaradar\", \"teslaradar\", \"teslaradar\", \"teslaradar\", \"tester\", \"tester\", \"texas\", \"texas\", \"texas\", \"texas\", \"texas\", \"thief\", \"thief\", \"thief\", \"thief\", \"thing\", \"thing\", \"thing\", \"thing\", \"thing\", \"think\", \"think\", \"think\", \"think\", \"think\", \"threaten\", \"threaten\", \"threaten\", \"threaten\", \"time\", \"time\", \"time\", \"time\", \"time\", \"today\", \"today\", \"today\", \"today\", \"today\", \"torture\", \"torture\", \"torture\", \"traffic\", \"traffic\", \"traffic\", \"traffic\", \"traffic\", \"tragic\", \"transport\", \"transport\", \"transport\", \"transport\", \"trap\", \"trap\", \"trap\", \"trap\", \"trap\", \"trial\", \"trial\", \"trial\", \"trial\", \"trial\", \"troll\", \"troll\", \"troll\", \"troll\", \"troll\", \"truck\", \"truck\", \"truck\", \"truck\", \"truck\", \"try\", \"try\", \"try\", \"try\", \"try\", \"tsla\", \"tsla\", \"tsla\", \"tsla\", \"tsla\", \"tweet\", \"tweet\", \"tweet\", \"tweet\", \"tweet\", \"twitter\", \"twitter\", \"twitter\", \"twitter\", \"twitter\", \"unbiased\", \"unbreakable\", \"unite\", \"unite\", \"unite\", \"unite\", \"united\", \"united\", \"united\", \"united\", \"united\", \"unitedstates\", \"unitedstates\", \"unitedstates\", \"unitedstates\", \"unitedstates\", \"unlock\", \"unlock\", \"unlock\", \"unlock\", \"unlock\", \"unsecured\", \"update\", \"update\", \"update\", \"update\", \"update\", \"usd\", \"usd\", \"usd\", \"usd\", \"use\", \"use\", \"use\", \"use\", \"use\", \"valuation\", \"valuation\", \"valuation\", \"valuation\", \"valuation\", \"value\", \"value\", \"value\", \"value\", \"value\", \"vehicle\", \"vehicle\", \"vehicle\", \"vehicle\", \"vehicle\", \"vehicular\", \"volvo\", \"volvo\", \"volvo\", \"volvo\", \"volvo\", \"voxel\", \"vulnerable\", \"vulnerable\", \"vulnerable\", \"vulnerable\", \"vulnerable\", \"vw\", \"vw\", \"vw\", \"vw\", \"vw\", \"vxl\", \"vxl\", \"want\", \"want\", \"want\", \"want\", \"want\", \"warrior\", \"warrior\", \"warrior\", \"warrior\", \"warrior\", \"weaponize\", \"weaponize\", \"weaponize\", \"well\", \"well\", \"well\", \"well\", \"well\", \"westinghouse\", \"whitelist\", \"winning\", \"wipro\", \"wood\", \"wood\", \"wood\", \"wood\", \"wood\", \"work\", \"work\", \"work\", \"work\", \"work\", \"worker\", \"worker\", \"worker\", \"worker\", \"worker\", \"working\", \"working\", \"working\", \"working\", \"working\", \"world\", \"world\", \"world\", \"world\", \"world\", \"worth\", \"worth\", \"worth\", \"worth\", \"worth\", \"yabba\", \"year\", \"year\", \"year\", \"year\", \"year\", \"zev\"]}, \"R\": 30, \"lambda.step\": 0.01, \"plot.opts\": {\"xlab\": \"PC1\", \"ylab\": \"PC2\"}, \"topic.order\": [3, 1, 4, 5, 2]};\n",
       "\n",
       "function LDAvis_load_lib(url, callback){\n",
       "  var s = document.createElement('script');\n",
       "  s.src = url;\n",
       "  s.async = true;\n",
       "  s.onreadystatechange = s.onload = callback;\n",
       "  s.onerror = function(){console.warn(\"failed to load library \" + url);};\n",
       "  document.getElementsByTagName(\"head\")[0].appendChild(s);\n",
       "}\n",
       "\n",
       "if(typeof(LDAvis) !== \"undefined\"){\n",
       "   // already loaded: just create the visualization\n",
       "   !function(LDAvis){\n",
       "       new LDAvis(\"#\" + \"ldavis_el3425663396869445535342218\", ldavis_el3425663396869445535342218_data);\n",
       "   }(LDAvis);\n",
       "}else if(typeof define === \"function\" && define.amd){\n",
       "   // require.js is available: use it to load d3/LDAvis\n",
       "   require.config({paths: {d3: \"https://d3js.org/d3.v5\"}});\n",
       "   require([\"d3\"], function(d3){\n",
       "      window.d3 = d3;\n",
       "      LDAvis_load_lib(\"https://cdn.jsdelivr.net/gh/bmabey/pyLDAvis@3.3.1/pyLDAvis/js/ldavis.v3.0.0.js\", function(){\n",
       "        new LDAvis(\"#\" + \"ldavis_el3425663396869445535342218\", ldavis_el3425663396869445535342218_data);\n",
       "      });\n",
       "    });\n",
       "}else{\n",
       "    // require.js not available: dynamically load d3 & LDAvis\n",
       "    LDAvis_load_lib(\"https://d3js.org/d3.v5.js\", function(){\n",
       "         LDAvis_load_lib(\"https://cdn.jsdelivr.net/gh/bmabey/pyLDAvis@3.3.1/pyLDAvis/js/ldavis.v3.0.0.js\", function(){\n",
       "                 new LDAvis(\"#\" + \"ldavis_el3425663396869445535342218\", ldavis_el3425663396869445535342218_data);\n",
       "            })\n",
       "         });\n",
       "}\n",
       "</script>"
      ],
      "text/plain": [
       "PreparedData(topic_coordinates=              x         y  topics  cluster       Freq\n",
       "topic                                                \n",
       "2      0.116313  0.029007       1        1  31.975323\n",
       "0     -0.002240 -0.095509       2        1  24.438773\n",
       "3     -0.004906 -0.108387       3        1  16.920161\n",
       "4      0.104262  0.104525       4        1  15.483474\n",
       "1     -0.213429  0.070364       5        1  11.182269, topic_info=         Term          Freq         Total Category  logprob  loglift\n",
       "79        car  61400.000000  61400.000000  Default  30.0000  30.0000\n",
       "151     stock  25039.000000  25039.000000  Default  29.0000  29.0000\n",
       "116  electric  19532.000000  19532.000000  Default  28.0000  28.0000\n",
       "126      musk  20559.000000  20559.000000  Default  27.0000  27.0000\n",
       "203       esg   6140.000000   6140.000000  Default  26.0000  26.0000\n",
       "..        ...           ...           ...      ...      ...      ...\n",
       "48      share   1208.439050   5963.463948   Topic5  -5.4880   0.5945\n",
       "83        say   1333.115227  13322.194480   Topic5  -5.3898  -0.1111\n",
       "158        ev   1260.028174  10999.811762   Topic5  -5.4461   0.0241\n",
       "74       time   1183.957116  10575.272410   Topic5  -5.5084   0.0012\n",
       "163     model   1176.332215  10356.912956   Topic5  -5.5149   0.0156\n",
       "\n",
       "[487 rows x 6 columns], token_table=      Topic      Freq        Term\n",
       "term                             \n",
       "1467      3  0.991207   accenture\n",
       "1990      1  0.908938  affordable\n",
       "1990      2  0.040699  affordable\n",
       "1990      3  0.019596  affordable\n",
       "1990      4  0.028640  affordable\n",
       "...     ...       ...         ...\n",
       "352       2  0.253844        year\n",
       "352       3  0.066224        year\n",
       "352       4  0.027494        year\n",
       "352       5  0.050970        year\n",
       "7032      2  0.984210         zev\n",
       "\n",
       "[1438 rows x 3 columns], R=30, lambda_step=0.01, plot_opts={'xlab': 'PC1', 'ylab': 'PC2'}, topic_order=[3, 1, 4, 5, 2])"
      ]
     },
     "execution_count": 19,
     "metadata": {},
     "output_type": "execute_result"
    }
   ],
   "source": [
    "gensimvis.prepare(base_model, corpus, id2word)"
   ]
  },
  {
   "cell_type": "code",
   "execution_count": 26,
   "id": "4467e129",
   "metadata": {},
   "outputs": [
    {
     "data": {
      "text/plain": [
       "[(151, 0.030353038),\n",
       " (144, 0.022119746),\n",
       " (160, 0.011935298),\n",
       " (126, 0.009758756),\n",
       " (154, 0.009500694),\n",
       " (157, 0.008582936),\n",
       " (102, 0.0077510867),\n",
       " (73, 0.007669238),\n",
       " (125, 0.007654948),\n",
       " (83, 0.007473401),\n",
       " (40, 0.007462548),\n",
       " (292, 0.00735998),\n",
       " (31, 0.007244815),\n",
       " (48, 0.006824767),\n",
       " (74, 0.006505299),\n",
       " (190, 0.0065035443),\n",
       " (164, 0.0056932033),\n",
       " (45, 0.005619609),\n",
       " (64, 0.005194856),\n",
       " (22, 0.00517804)]"
      ]
     },
     "execution_count": 26,
     "metadata": {},
     "output_type": "execute_result"
    }
   ],
   "source": [
    "base_model.get_topic_terms(0, topn= 20)"
   ]
  },
  {
   "cell_type": "code",
   "execution_count": 29,
   "id": "18da716e",
   "metadata": {},
   "outputs": [
    {
     "data": {
      "text/plain": [
       "'buy'"
      ]
     },
     "execution_count": 29,
     "metadata": {},
     "output_type": "execute_result"
    }
   ],
   "source": [
    "word = id2word[144]"
   ]
  },
  {
   "cell_type": "code",
   "execution_count": 30,
   "id": "d7fea4d5",
   "metadata": {},
   "outputs": [],
   "source": [
    "import matplotlib.pyplot as plt\n",
    "from wordcloud import WordCloud"
   ]
  },
  {
   "cell_type": "code",
   "execution_count": null,
   "id": "d9e1cd9b",
   "metadata": {},
   "outputs": [],
   "source": []
  },
  {
   "cell_type": "code",
   "execution_count": null,
   "id": "80821ca1",
   "metadata": {},
   "outputs": [],
   "source": []
  },
  {
   "cell_type": "code",
   "execution_count": null,
   "id": "e09377ae",
   "metadata": {},
   "outputs": [],
   "source": []
  },
  {
   "cell_type": "code",
   "execution_count": null,
   "id": "57f83eb2",
   "metadata": {},
   "outputs": [],
   "source": [
    "# CODE WORKS --- JUST USE IT LATER \n",
    "\n",
    "# Adding Sentiment\n",
    "sia = SentimentIntensityAnalyzer()\n",
    "comp_dic = {}\n",
    "for i, tweet in full['tweets'].iteritems():\n",
    "    comp_dic[i] = sia.polarity_scores(tweet)['compound']\n",
    "\n",
    "comp_scores = pd.Series(comp_dic, name = 'sentiment')\n",
    "df_sent = full.merge(comp_scores, left_index = True, right_index = True)\n",
    "df = df_sent.set_index('Unnamed: 0')"
   ]
  }
 ],
 "metadata": {
  "kernelspec": {
   "display_name": "broke-the-other",
   "language": "python",
   "name": "broke-the-other"
  },
  "language_info": {
   "codemirror_mode": {
    "name": "ipython",
    "version": 3
   },
   "file_extension": ".py",
   "mimetype": "text/x-python",
   "name": "python",
   "nbconvert_exporter": "python",
   "pygments_lexer": "ipython3",
   "version": "3.10.4"
  }
 },
 "nbformat": 4,
 "nbformat_minor": 5
}
